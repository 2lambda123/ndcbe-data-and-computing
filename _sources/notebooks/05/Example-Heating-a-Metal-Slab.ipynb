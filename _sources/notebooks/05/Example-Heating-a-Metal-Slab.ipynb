{
 "cells": [
  {
   "cell_type": "markdown",
   "metadata": {},
   "source": [
    "# Example: Heating a Metal Slab"
   ]
  },
  {
   "cell_type": "markdown",
   "metadata": {},
   "source": [
    "## Learning Objectives\n",
    "\n",
    "After studying this notebook, completing the activities, and asking questions in class, you should be able to:\n",
    "* Apply finite difference formulas to chemical engineering problems."
   ]
  },
  {
   "cell_type": "code",
   "execution_count": 1,
   "metadata": {},
   "outputs": [],
   "source": [
    "import numpy as np\n",
    "import matplotlib.pyplot as plt"
   ]
  },
  {
   "cell_type": "markdown",
   "metadata": {},
   "source": [
    "You were probably thinking in the [Finite Difference notebook](../05/Finite-Difference.ipynb), *we are just learning math... how are finite difference formulas useful for **chemical** engineers?!?!*.\n",
    "\n",
    "We now have discussed enough of the basics to use finite difference formulas to estimate gradients (derivatives) for experiments. Consider a metal slab heated from one side with two temperature probes:\n",
    "\n",
    "![slab](https://ndcbe.github.io/data-and-computing/_images/metal-slab.png)\n",
    "\n",
    "As time elapses, the temperature throughout the slab increases. The temperature gradient in the slab can be modeled using Fourier's law of thermal conduction:\n",
    "\n",
    "$$q_x = -k \\frac{\\partial T}{\\partial x}$$\n",
    "\n",
    "where $k$ is the thermal conductivity of the metal slab. We ultimately want to estimate this material property.\n",
    "\n",
    "The key challenge in this experiment is estimating the temperature gradient, $\\frac{\\partial T}{\\partial x}$. To accomplish this, the metal slab has been equipped with two temperature probes, one located at $x=0$ (probe 1) and another located at $x=0.5$ (probe 2), as shown in the figure above. These two thermocouples have an absolute precision ($\\sigma_{T1}$, $\\sigma_{T2}$) of 0.02 $^\\circ{}$C.\n",
    "\n",
    "Using the measurements from probes 1 and 2, we can estimate the temperature gradient using a finite difference formula:\n",
    "\n",
    "$$\\left. \\frac{\\partial T}{\\partial x} \\right|_{x=0} \\approx \\frac{ \\left. T \\right|_{x=0.5} - \\left. T \\right|_{x=0}}{0.5}$$\n",
    "\n"
   ]
  },
  {
   "cell_type": "markdown",
   "metadata": {},
   "source": [
    "## Algorithm (Truncation) Error"
   ]
  },
  {
   "cell_type": "markdown",
   "metadata": {},
   "source": [
    "<div class=\"admonition note\"> \n",
    "<p class=\"title\"><b>Class Activity</b></p>\n",
    " With a partner, <b>compute the algorithm (truncation) error</b> using this finite difference formula to approximate the thermal gradient and store the expression in algo_error.\n",
    "</div>"
   ]
  },
  {
   "cell_type": "markdown",
   "metadata": {},
   "source": [
    "Hint: Start with a Taylor series expansion:\n",
    "\n",
    "$$\\left. T \\right|_{x=h} = \\left. T \\right|_{x=0} + h \\left. \\frac{\\partial T}{\\partial x} \\right|_{x=0} + \\frac{1}{2} h^2 \\left. \\frac{\\partial^2 T}{\\partial x^2} \\right|_{x = l}$$\n",
    "\n",
    "where $l$ is a length on the slab between 0 and $h$ such that this formula is exact. Let's assume that $\\frac{\\partial^2 T}{\\partial x^2} \\approx 4 ~^\\circ$C / unit length$^2$ and is constant along the slab. With this assumption, $l$ does not really matter.\n"
   ]
  },
  {
   "cell_type": "code",
   "execution_count": 3,
   "metadata": {
    "tags": [
     "remove-output"
    ]
   },
   "outputs": [
    {
     "ename": "NameError",
     "evalue": "name 'h' is not defined",
     "output_type": "error",
     "traceback": [
      "\u001b[1;31m---------------------------------------------------------------------------\u001b[0m",
      "\u001b[1;31mNameError\u001b[0m                                 Traceback (most recent call last)",
      "Input \u001b[1;32mIn [3]\u001b[0m, in \u001b[0;36m<cell line: 3>\u001b[1;34m()\u001b[0m\n\u001b[0;32m      1\u001b[0m \u001b[38;5;66;03m### BEGIN SOLUTION\u001b[39;00m\n\u001b[0;32m      2\u001b[0m \u001b[38;5;66;03m# expression for algorithm error\u001b[39;00m\n\u001b[1;32m----> 3\u001b[0m algo_error \u001b[38;5;241m=\u001b[39m \u001b[38;5;241m0.5\u001b[39m\u001b[38;5;241m*\u001b[39m\u001b[43mh\u001b[49m\u001b[38;5;241m*\u001b[39m\u001b[38;5;241m4\u001b[39m\n",
      "\u001b[1;31mNameError\u001b[0m: name 'h' is not defined"
     ]
    }
   ],
   "source": [
    "# Add your solution here"
   ]
  },
  {
   "cell_type": "markdown",
   "metadata": {},
   "source": [
    "## Random Error\n",
    "\n",
    "In a few notebooks, we will formally study probably theory and properties of random variables. If we assume the random errors associated with the temperature probes are independent, we will see soon that the random error in the temperature difference $\\left. T \\right|_{x=0.5} - \\left. T \\right|_{x=0}$ is:\n",
    "\n",
    "$$\\sigma_{\\Delta T} = \\sqrt{\\sigma_{T1}^2 + \\sigma_{T2}^2}$$\n"
   ]
  },
  {
   "cell_type": "markdown",
   "metadata": {},
   "source": [
    "<div class=\"admonition note\"> \n",
    "<p class=\"title\"><b>Class Activity</b></p>\n",
    " With a partner, <b>compute the random error</b> using the <b>finite difference formula</b> to approximate the thermal gradient. Store the expression in random_error.\n",
    "</div>\n"
   ]
  },
  {
   "cell_type": "code",
   "execution_count": 4,
   "metadata": {
    "tags": [
     "remove-output"
    ]
   },
   "outputs": [
    {
     "ename": "NameError",
     "evalue": "name 'sigma_T1' is not defined",
     "output_type": "error",
     "traceback": [
      "\u001b[1;31m---------------------------------------------------------------------------\u001b[0m",
      "\u001b[1;31mNameError\u001b[0m                                 Traceback (most recent call last)",
      "Input \u001b[1;32mIn [4]\u001b[0m, in \u001b[0;36m<cell line: 3>\u001b[1;34m()\u001b[0m\n\u001b[0;32m      1\u001b[0m \u001b[38;5;66;03m### BEGIN SOLUTION\u001b[39;00m\n\u001b[0;32m      2\u001b[0m \u001b[38;5;66;03m# expression for random error\u001b[39;00m\n\u001b[1;32m----> 3\u001b[0m random_error \u001b[38;5;241m=\u001b[39m np\u001b[38;5;241m.\u001b[39msqrt(\u001b[43msigma_T1\u001b[49m\u001b[38;5;241m*\u001b[39m\u001b[38;5;241m*\u001b[39m\u001b[38;5;241m2\u001b[39m\u001b[38;5;241m+\u001b[39msigma_T2\u001b[38;5;241m*\u001b[39m\u001b[38;5;241m*\u001b[39m\u001b[38;5;241m2\u001b[39m)\u001b[38;5;241m/\u001b[39mh\n",
      "\u001b[1;31mNameError\u001b[0m: name 'sigma_T1' is not defined"
     ]
    }
   ],
   "source": [
    "# Add your solution here"
   ]
  },
  {
   "cell_type": "markdown",
   "metadata": {},
   "source": [
    "## Optimal Location"
   ]
  },
  {
   "cell_type": "markdown",
   "metadata": {},
   "source": [
    "<div class=\"admonition note\"> \n",
    "<p class=\"title\"><b>Class Activity</b></p>\n",
    " Imagine we can move probe 2 from $h=0.5$ to another location. With a partner, <b> determine the optimal location</b> such that the truncation error and random error are the same order of magnitude. \n",
    "</div>"
   ]
  },
  {
   "cell_type": "markdown",
   "metadata": {},
   "source": [
    "Hints: The optimal location is approximated when the truncation error and random error are the same order of magnitude. Modify your expressions for algorithm error and random error from above to depend on $h$, then set them equal, and finally solve for $h$. This is the optimal location."
   ]
  },
  {
   "cell_type": "code",
   "execution_count": 5,
   "metadata": {
    "tags": [
     "remove-output"
    ]
   },
   "outputs": [
    {
     "ename": "NameError",
     "evalue": "name 'sigma_T1' is not defined",
     "output_type": "error",
     "traceback": [
      "\u001b[1;31m---------------------------------------------------------------------------\u001b[0m",
      "\u001b[1;31mNameError\u001b[0m                                 Traceback (most recent call last)",
      "Input \u001b[1;32mIn [5]\u001b[0m, in \u001b[0;36m<cell line: 3>\u001b[1;34m()\u001b[0m\n\u001b[0;32m      1\u001b[0m \u001b[38;5;66;03m### BEGIN SOLUTION\u001b[39;00m\n\u001b[0;32m      2\u001b[0m \u001b[38;5;66;03m# optimal location h occurs when...\u001b[39;00m\n\u001b[1;32m----> 3\u001b[0m h \u001b[38;5;241m=\u001b[39m np\u001b[38;5;241m.\u001b[39msqrt(\u001b[38;5;241m2\u001b[39m\u001b[38;5;241m*\u001b[39mnp\u001b[38;5;241m.\u001b[39msqrt(\u001b[43msigma_T1\u001b[49m\u001b[38;5;241m*\u001b[39m\u001b[38;5;241m*\u001b[39m\u001b[38;5;241m2\u001b[39m\u001b[38;5;241m+\u001b[39msigma_T2\u001b[38;5;241m*\u001b[39m\u001b[38;5;241m*\u001b[39m\u001b[38;5;241m2\u001b[39m)\u001b[38;5;241m/\u001b[39m\u001b[38;5;241m4\u001b[39m)\n",
      "\u001b[1;31mNameError\u001b[0m: name 'sigma_T1' is not defined"
     ]
    }
   ],
   "source": [
    "# Add your solution here"
   ]
  },
  {
   "cell_type": "markdown",
   "metadata": {},
   "source": [
    "## Visualize the Results"
   ]
  },
  {
   "cell_type": "markdown",
   "metadata": {},
   "source": [
    "<div class=\"admonition note\"> \n",
    "<p class=\"title\"><b>Class Activity</b></p>\n",
    " Plot your expression of the absolute value of <tt>random error</tt> and <tt>truncation error</tt>. Does this trade-off remind you of plots from the previous two notebooks?\n",
    "</div>"
   ]
  },
  {
   "cell_type": "code",
   "execution_count": 13,
   "metadata": {
    "tags": [
     "remove-output"
    ]
   },
   "outputs": [
    {
     "name": "stdout",
     "output_type": "stream",
     "text": [
      "Optimal h:\n",
      " 0.11892071150027211\n"
     ]
    },
    {
     "data": {
      "image/png": "[encoded data removed]",
      "text/plain": [
       "<Figure size 432x288 with 1 Axes>"
      ]
     },
     "metadata": {
      "needs_background": "light"
     },
     "output_type": "display_data"
    }
   ],
   "source": [
    "# Add your solution here"
   ]
  }
 ],
 "metadata": {
  "kernelspec": {
   "display_name": "Python 3 (ipykernel)",
   "language": "python",
   "name": "python3"
  },
  "language_info": {
   "codemirror_mode": {
    "name": "ipython",
    "version": 3
   },
   "file_extension": ".py",
   "mimetype": "text/x-python",
   "name": "python",
   "nbconvert_exporter": "python",
   "pygments_lexer": "ipython3",
   "version": "3.9.12"
  }
 },
 "nbformat": 4,
 "nbformat_minor": 4
}
