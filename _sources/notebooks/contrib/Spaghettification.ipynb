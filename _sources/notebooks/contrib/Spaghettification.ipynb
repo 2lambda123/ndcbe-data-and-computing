{
 "cells": [
  {
   "cell_type": "markdown",
   "metadata": {
    "id": "9nUUNAQW1R6m"
   },
   "source": [
    "# Spaghettification of the Magic School Bus"
   ]
  },
  {
   "cell_type": "markdown",
   "metadata": {
    "id": "58Az-fqTXLbO"
   },
   "source": [
    "**Prepared by:** Logan Hennes (lhennes@nd.edu) and Joseph Emery (jemery@nd.edu)"
   ]
  },
  {
   "cell_type": "markdown",
   "metadata": {
    "id": "QZh4kSflXqo3"
   },
   "source": [
    "**Reference:** This is an original problem created by the authors. With inspiration from Dr. Brian Olson's Problem Solving class."
   ]
  },
  {
   "cell_type": "markdown",
   "metadata": {
    "id": "aLj4IXguX5zf"
   },
   "source": [
    "**Intended Audience:** This problem is intended for sophomores or juniors from the University of Notre Dame who are taking an introductory physics course. "
   ]
  },
  {
   "cell_type": "markdown",
   "metadata": {
    "id": "Pkxa4qn9YTt7"
   },
   "source": [
    "## Learning Objectives\n",
    "\n",
    "After studying this notebook, completing the activities, and asking questions in class, you should be able to:\n",
    "\n",
    "\n",
    "\n",
    "*   Perform a degrees of freedom analysis\n",
    "*   Solve a nonlinear system of equations using Newton's Method and Python tools\n",
    "*   Properly visualize data using matplotlib\n",
    "\n",
    "\n"
   ]
  },
  {
   "cell_type": "markdown",
   "metadata": {
    "id": "FNoltRl9aH62"
   },
   "source": [
    "## Resources\n",
    "\n",
    "Relevant Modules in Class Website:\n",
    "\n",
    "1.5. [Functions and Scope](https://ndcbe.github.io/data-and-computing/notebooks/01/Functions-and-Scope.html)\n",
    "\n",
    "6.1. [Modeling Systems of Nonlinear Equations: Flash Calculation Example](https://ndcbe.github.io/data-and-computing/notebooks/06/Modeling-Systems-of-Nonlinear-Equations.html)\n",
    "\n",
    "6.2. [Newton-Raphson Method in One Dimension](https://ndcbe.github.io/data-and-computing/notebooks/06/Newton-Raphson-Method-in-One-Dimension.html#)\n",
    "\n",
    "6.3. [More Newton-Type Methods](https://ndcbe.github.io/data-and-computing/notebooks/06/More-Newton-Type-Methods.html)\n",
    "\n",
    "6.6. [Newton's Method in Scipy](https://ndcbe.github.io/data-and-computing/notebooks/06/Newton-Methods-in-Scipy.html)"
   ]
  },
  {
   "cell_type": "markdown",
   "metadata": {
    "id": "yAS2pJ3QcYTX"
   },
   "source": [
    "## Import Libraries"
   ]
  },
  {
   "cell_type": "code",
   "execution_count": null,
   "metadata": {
    "id": "OLKOoqj5ZpEm"
   },
   "outputs": [],
   "source": [
    "import numpy as np\n",
    "from scipy import optimize\n",
    "import matplotlib.pyplot as plt\n",
    "from matplotlib import ticker, cm"
   ]
  },
  {
   "cell_type": "markdown",
   "metadata": {
    "id": "KeO3vNqWcjBA"
   },
   "source": [
    "## Problem Statement"
   ]
  },
  {
   "cell_type": "markdown",
   "metadata": {
    "id": "kBPTEtoB0mE5"
   },
   "source": [
    "**Homework Problem**\n",
    "\n",
    "Complete the following problem outside of class to practice the concepts discussed.\n",
    "\n"
   ]
  },
  {
   "cell_type": "markdown",
   "metadata": {
    "id": "oJ-yNo_Xc5R5"
   },
   "source": [
    "Ms. Frizzle and her students have boarded the Magic School Bus for an adventure in space. However, while exploring the Milky Way galaxy, an asteroid collided with the bus, hurtling the bus toward a black hole. Write a python script to find at what distance away the Magic School Bus needs to be to experience a certain amount of stretching by a black hole."
   ]
  },
  {
   "cell_type": "markdown",
   "metadata": {
    "id": "3CWQjedfGKJJ"
   },
   "source": [
    "![](https://ndcbe.github.io/data-and-computing/_images/black_hole.png)"
   ]
  },
  {
   "cell_type": "markdown",
   "metadata": {
    "id": "cj5zRYWDGIDZ"
   },
   "source": [
    "You will need to use Newton’s Law of Universal Gravitation and Youngs modulus.\n",
    "\n",
    "\n",
    "$$F = G\\frac{m_1m_2}{r^2}$$\n",
    "\n",
    "$$∆L = \\frac{1}{Y}\\frac{F}{A}\\ L_0 $$"
   ]
  },
  {
   "cell_type": "markdown",
   "metadata": {
    "id": "Nj2qV2_WVDvB"
   },
   "source": [
    "$F$ = the force exerted on an object by gravity\n",
    "\n",
    "$G$ = the gravitational constant\n",
    "\n",
    "$m_1$ = the mass of the black hole\n",
    "\n",
    "$m_2$ = the mass of the magic school bus\n",
    "\n",
    "$r_1$ = the distance between the black hole and the front of the bus\n",
    "\n",
    "$r_2$ = the distance between the black hole and the back of the bus\n",
    "\n",
    "$\\Delta L$ = the change in length of the bus\n",
    "\n",
    "$Y$ = a measure of a solid's resistance to elastic deformation under a load (Young's Modulus)\n",
    "\n",
    "$F$ = the force exerted on the object causing stretching\n",
    "\n",
    "$A$ = cross-sectional area of the bus\n",
    "\n",
    "$L_0$ = the length of the bus before stretching"
   ]
  },
  {
   "cell_type": "markdown",
   "metadata": {
    "id": "thYmW7wlcUht"
   },
   "source": [
    "## 1. Degree of Freedom Analysis"
   ]
  },
  {
   "cell_type": "markdown",
   "metadata": {
    "id": "uIE6CkUAdO1N"
   },
   "source": [
    "### 1.1. Setup\n",
    "\n",
    "Define the constants used in this problem. Use scholarly sources such as NASA to determine the mass of the sun. Use the height of the bus as the diameter of your cylinder."
   ]
  },
  {
   "cell_type": "code",
   "execution_count": null,
   "metadata": {
    "id": "7hZMqDHYA1qT"
   },
   "outputs": [],
   "source": [
    "# Constants\n",
    "Y = 69e9  # Youngs modulus for aluminum\n",
    "m_2 = 15000  # Mass of school bus in kg\n",
    "L_0 = 0.01  # length of school bus in km\n",
    "# Add your solution here"
   ]
  },
  {
   "cell_type": "code",
   "execution_count": null,
   "metadata": {
    "id": "uVtvwV5QCUpQ"
   },
   "outputs": [],
   "source": [
    "# Add your solution here"
   ]
  },
  {
   "cell_type": "markdown",
   "metadata": {
    "id": "uBftpcsWdwYF"
   },
   "source": [
    "### 1.2. Analysis\n",
    "\n",
    "Perform a degree of freedom analysis using the equations provided and the unknown variables. What does this analysis tell you? How should you approach the problem moving forward?\n",
    "\n",
    "**Discuss** in 2-4 sentences\n",
    "\n",
    "**Answer:**"
   ]
  },
  {
   "cell_type": "markdown",
   "metadata": {
    "id": "rAoDFU9Fd-5U"
   },
   "source": [
    "Submit your written work via **Gradescope**."
   ]
  },
  {
   "cell_type": "markdown",
   "metadata": {
    "id": "ojiZf6Hccv40"
   },
   "source": [
    "## 2. Nonlinear Equation"
   ]
  },
  {
   "cell_type": "markdown",
   "metadata": {
    "id": "R4ufgGbOfNaG"
   },
   "source": [
    "### 2.1. Define a nonlinear equation\n",
    "\n",
    "Using substitution, define one nonlinear equation $f(r_1, \\Delta L)$. \n",
    "\n",
    "*Hint:* The definition of the function above suggests what the variables are."
   ]
  },
  {
   "cell_type": "markdown",
   "metadata": {
    "id": "hHm34P-tfvO3"
   },
   "source": [
    "Submit your answer and written work via **Gradescope**."
   ]
  },
  {
   "cell_type": "markdown",
   "metadata": {
    "id": "CqEWYdt0f76r"
   },
   "source": [
    "### 2.2. Create a plot and analyze\n",
    "\n",
    "Using the nonlinear equation you derived in part a, write a function that calculates the residual of that function given some value of $r_1$ and some value of $\\Delta L$. Then define an array of $r_1$ values labeled as r_1 and an array of $\\Delta L$ values labeled Delta_L. Then use these arrays to calculate the residual for each pair of values.\n",
    "\n",
    "Use the 3-D plot function in matplotlib to analyze the results."
   ]
  },
  {
   "cell_type": "code",
   "execution_count": null,
   "metadata": {
    "colab": {
     "base_uri": "https://localhost:8080/",
     "height": 130
    },
    "id": "Iq6ayqYhD9jZ",
    "outputId": "bd3cf883-a0ef-414c-c852-c852276836e2"
   },
   "outputs": [
    {
     "ename": "SyntaxError",
     "evalue": "ignored",
     "output_type": "error",
     "traceback": [
      "\u001b[0;36m  File \u001b[0;32m\"<ipython-input-3-0e08dbf484a5>\"\u001b[0;36m, line \u001b[0;32m12\u001b[0m\n\u001b[0;31m    Residual =\u001b[0m\n\u001b[0m               ^\u001b[0m\n\u001b[0;31mSyntaxError\u001b[0m\u001b[0;31m:\u001b[0m invalid syntax\n"
     ]
    }
   ],
   "source": [
    "# Function for Nonlinear Equation Residual\n",
    "def Residual_Function(r_1,ΔL):\n",
    "    ''' Find residual using one Nonlinear equation\n",
    "    \n",
    "    Args:\n",
    "        r_1, ΔL\n",
    "        \n",
    "    Returns:\n",
    "        Residual    \n",
    "    '''\n",
    "  # Add your solution here\n",
    "    Residual = \n",
    "    return Residual"
   ]
  },
  {
   "cell_type": "code",
   "execution_count": null,
   "metadata": {
    "id": "bDXosTblE8zc"
   },
   "outputs": [],
   "source": [
    "# Add your solution here"
   ]
  },
  {
   "cell_type": "markdown",
   "metadata": {
    "id": "sgHwoMMyFX_Q"
   },
   "source": [
    "Plot Residual:"
   ]
  },
  {
   "cell_type": "code",
   "execution_count": null,
   "metadata": {
    "colab": {
     "base_uri": "https://localhost:8080/",
     "height": 362
    },
    "id": "A5WPN5V5Faon",
    "outputId": "e21d27b8-ad24-4608-cd3f-5654cb5abaf9"
   },
   "outputs": [
    {
     "name": "stderr",
     "output_type": "stream",
     "text": [
      "<ipython-input-13-a0fea10ee60f>:16: UserWarning: Log scale: values of z <= 0 have been masked\n",
      "  cs = ax.contourf(np.exp(r_grid), ΔL_grid, f_grid, locator=ticker.LogLocator(), cmap=cm.coolwarm, levels=100)\n"
     ]
    },
    {
     "data": {
      "image/png": "[encoded data removed]",
      "text/plain": [
       "<Figure size 432x288 with 2 Axes>"
      ]
     },
     "metadata": {
      "needs_background": "light"
     },
     "output_type": "display_data"
    }
   ],
   "source": [
    "# Create array\n",
    "# Add your solution here\n",
    "\n",
    "# Initialize Matrix\n",
    "# Add your solution here\n",
    "\n",
    "for i in range(len(r_1)):\n",
    "    for j in range(len(ΔL)):\n",
    "        r_grid[i, j] = r_1[i]\n",
    "        # Add your solution here\n",
    "\n",
    "# Plot Figure\n",
    "fig, ax = plt.subplots()\n",
    "plt.xscale(\"log\")\n",
    "\n",
    "cs = ax.contourf(\n",
    "    np.exp(r_grid),\n",
    "    ΔL_grid,\n",
    "    f_grid,\n",
    "    locator=ticker.LogLocator(),\n",
    "    cmap=cm.coolwarm,\n",
    "    levels=100,\n",
    ")\n",
    "\n",
    "cbar = fig.colorbar(cs)\n",
    "cbar.ax.set_ylabel(\"Residual\", fontsize=16, fontweight=\"bold\")\n",
    "cbar.ax.tick_params(labelsize=16)\n",
    "\n",
    "cs2 = plt.contour(\n",
    "    cs, levels=cs.levels[::15], colors=\"k\", alpha=0.7, linestyles=\"dashed\", linewidths=3\n",
    ")\n",
    "\n",
    "# plot heatmap label\n",
    "plt.clabel(cs2, fmt=\"%2.2f\", colors=\"k\", fontsize=16)\n",
    "\n",
    "# define tick size\n",
    "plt.xticks(fontsize=16)\n",
    "plt.yticks(fontsize=16)\n",
    "plt.tick_params(direction=\"in\", top=True, right=True)\n",
    "\n",
    "# plot titile and x,y label\n",
    "plt.xlabel(\"Distance (km)\", fontsize=16, fontweight=\"bold\")\n",
    "plt.ylabel(\"ΔL (km)\", fontsize=16, fontweight=\"bold\")\n",
    "plt.title(\"Contour of Residuals\", fontsize=16, fontweight=\"bold\")\n",
    "plt.show()\n",
    "### END SOLUTION"
   ]
  },
  {
   "cell_type": "code",
   "execution_count": null,
   "metadata": {
    "colab": {
     "base_uri": "https://localhost:8080/",
     "height": 362
    },
    "id": "HgAE37rCH35D",
    "outputId": "7bf1c6bb-be21-4dd0-dc68-4cdcd554c209"
   },
   "outputs": [
    {
     "name": "stderr",
     "output_type": "stream",
     "text": [
      "<ipython-input-14-08db34fb24a9>:22: UserWarning: Log scale: values of z <= 0 have been masked\n",
      "  cs = ax.contourf(np.exp(r_grid), ΔL_grid, f_grid, locator=ticker.LogLocator(), cmap=cm.coolwarm, levels=100)\n"
     ]
    },
    {
     "data": {
      "image/png": "[encoded data removed]",
      "text/plain": [
       "<Figure size 432x288 with 2 Axes>"
      ]
     },
     "metadata": {
      "needs_background": "light"
     },
     "output_type": "display_data"
    }
   ],
   "source": [
    "# Add your solution here"
   ]
  },
  {
   "cell_type": "markdown",
   "metadata": {
    "id": "9tDNzCiqh6jk"
   },
   "source": [
    "### 2.3. Discussion\n",
    "\n",
    "What does the 3-D plot tell you about the solution? Are there multiple solutions?\n",
    "\n",
    "**Discuss** in 1-3 sentences"
   ]
  },
  {
   "cell_type": "markdown",
   "metadata": {
    "id": "eX4pivRVdW3s"
   },
   "source": [
    "## 3. Inexact Newton's Method"
   ]
  },
  {
   "cell_type": "markdown",
   "metadata": {
    "id": "I_x85LE1iqOr"
   },
   "source": [
    "Typically, a body of aluminum can be subjected to 10% to 25% elongation before deformation becomes permanent (plastic deformation). For simplicity, we will define our maximum tolerance for stretching to be one meter. Solve for the distance when the bus experiences this stretching using the inexact Newton's Method.\n",
    "\n",
    "You will need to write a new function for your nonlinear equation, $f(r_1)$, so that the only variable is $r_1$.\n",
    "\n",
    "For more information on how to use the inexact Newton's Method, click [here](https://ndcbe.github.io/data-and-computing/notebooks/06/More-Newton-Type-Methods.html)"
   ]
  },
  {
   "cell_type": "code",
   "execution_count": null,
   "metadata": {
    "id": "QqdQo3sR4DwU"
   },
   "outputs": [],
   "source": [
    "def inexact_newton(f, x0, delta=1.0e-7, epsilon=1.0e-6, LOUD=False, max_iter=50):\n",
    "    \"\"\"Find the root of the function f via Newton-Raphson method\n",
    "    Args:\n",
    "        f: function to find root of [function]\n",
    "        x0: initial guess [float]\n",
    "        delta: finite difference parameter [float]\n",
    "        epsilon: tolerance [float]\n",
    "        LOUD: toggle on/off print statements [boolean]\n",
    "        max_iter: maximum number of iterations [int]\n",
    "\n",
    "    Returns:\n",
    "        estimate of root [float]\n",
    "    \"\"\"\n",
    "\n",
    "    assert callable(f), \"Warning: 'f' should be a Python function\"\n",
    "    assert (\n",
    "        type(x0) is float or type(x0) is int\n",
    "    ), \"Warning: 'x0' should be a float or integer\"\n",
    "    assert type(delta) is float, \"Warning: 'delta' should be a float\"\n",
    "    assert type(epsilon) is float, \"Warning: 'eps' should be a float\"\n",
    "    assert type(max_iter) is int, \"Warning: 'max_iter' should be an integer\"\n",
    "    assert max_iter >= 0, \"Warning: 'max_iter' should be non-negative\"\n",
    "\n",
    "    x = x0\n",
    "\n",
    "    # print intial guess\n",
    "    # if (LOUD):\n",
    "    # print(\"x0 =\",x0)\n",
    "\n",
    "    iterations = 0\n",
    "    converged = False\n",
    "\n",
    "    # Check if the residual is close enough to zero\n",
    "    while not converged and iterations < max_iter:\n",
    "        # evaluate function 'f' at new 'x'\n",
    "        fx = f(x)\n",
    "\n",
    "        # calculate 'slope'\n",
    "        slope = (f(x + delta) - f(x)) / delta\n",
    "\n",
    "        # print every iteration\n",
    "        # if (LOUD):\n",
    "        # print(\"x_\",iterations+1,\"=\",x,\"-\",fx,\"/\",slope,\"=\",x - fx/slope)\n",
    "        x = x - fx / slope\n",
    "\n",
    "        iterations += 1\n",
    "\n",
    "        # check if converged\n",
    "        if np.fabs(f(x)) < epsilon:\n",
    "            converged = True\n",
    "\n",
    "    if LOUD:\n",
    "        print(\"It took\", iterations, \"iterations\")\n",
    "\n",
    "    if not converged:\n",
    "        print(\"Warning: Not a solution. Maximum number of iterations exceeded.\")\n",
    "    return x  # return estimate of root"
   ]
  },
  {
   "cell_type": "code",
   "execution_count": null,
   "metadata": {
    "id": "cB-IP69ZfE0Z"
   },
   "outputs": [],
   "source": [
    "# Set Value of ΔL\n",
    "ΔL = 1\n",
    "guess = 1000\n",
    "\n",
    "# Add your solution here"
   ]
  },
  {
   "cell_type": "code",
   "execution_count": null,
   "metadata": {
    "id": "ON_oco6kvKic"
   },
   "outputs": [],
   "source": [
    "# Use inexact newton method\n",
    "# Add your solution here"
   ]
  },
  {
   "cell_type": "code",
   "execution_count": null,
   "metadata": {
    "id": "K9heOP7lfsoH"
   },
   "outputs": [],
   "source": [
    "# Add your solution here"
   ]
  },
  {
   "cell_type": "code",
   "execution_count": null,
   "metadata": {
    "colab": {
     "base_uri": "https://localhost:8080/"
    },
    "id": "vgGNcVwvvQOU",
    "outputId": "9ca22c1f-25e8-4042-b4d4-e142b95ab5c9"
   },
   "outputs": [
    {
     "name": "stdout",
     "output_type": "stream",
     "text": [
      "It took 15 iterations\n",
      "The result of the inexact newton function is 37407.4751508785\n"
     ]
    }
   ],
   "source": [
    "# Add your solution here"
   ]
  },
  {
   "cell_type": "markdown",
   "metadata": {
    "id": "5gkAvogwoJgI"
   },
   "source": [
    "## 4. Newton's Method using Scipy\n",
    "\n",
    "Now we have a working estimate for the correct result. Let's use one of the functions in scipy to solve for the distance at which the bus experiences one meter of stretching.\n"
   ]
  },
  {
   "cell_type": "markdown",
   "metadata": {
    "id": "JTSYn9QfrrMv"
   },
   "source": [
    "### 4.1. Setup equations\n",
    "\n",
    "When using Newton's Method in Scipy, the derivative of $f(r_1)$ is required to determine the solution. Calculate the derivative of $f(r_1)$ and define it as a function.\n",
    "\n",
    "Submit your written work via **Gradescope**"
   ]
  },
  {
   "cell_type": "code",
   "execution_count": null,
   "metadata": {
    "id": "_v_Ca_9EuuBg"
   },
   "outputs": [],
   "source": [
    "# Set Value of ΔL\n",
    "ΔL = 1\n",
    "guess = 1000\n",
    "\n",
    "\n",
    "def derivative_form(r_1):\n",
    "    \"\"\"Find max distance using canonical derivative\n",
    "\n",
    "    Args:\n",
    "        r_1\n",
    "\n",
    "    Returns:\n",
    "        derivative\n",
    "    \"\"\"\n",
    "\n",
    "    # Add your solution here\n",
    "    return derivative"
   ]
  },
  {
   "cell_type": "markdown",
   "metadata": {
    "id": "Nh_KMPubua1v"
   },
   "source": [
    "### 4.2. Use Scipy to determine $r_1$"
   ]
  },
  {
   "cell_type": "code",
   "execution_count": null,
   "metadata": {
    "colab": {
     "base_uri": "https://localhost:8080/"
    },
    "id": "rOWGNX6vf6T5",
    "outputId": "c28dfbc0-52dc-4498-addf-c0d1c8dea91b"
   },
   "outputs": [
    {
     "name": "stdout",
     "output_type": "stream",
     "text": [
      "The result of the scipy optimize newton function is \n",
      " (37406.02418060243,       converged: True\n",
      "           flag: 'converged'\n",
      " function_calls: 36\n",
      "     iterations: 18\n",
      "           root: 37406.02418060243)\n"
     ]
    }
   ],
   "source": [
    "# use scipy method\n",
    "# Add your solution here"
   ]
  },
  {
   "cell_type": "markdown",
   "metadata": {
    "id": "zZ9TDztFve7l"
   },
   "source": [
    "## 5. Analysis and Comparison of Each Method"
   ]
  },
  {
   "cell_type": "markdown",
   "metadata": {
    "id": "UwmLDY2cdjUc"
   },
   "source": [
    "### 5.1. Test the inexact Newton's Method \n",
    "\n",
    "Test the inexact Newton's Method function with guesses of different orders of magnitude. Find a guess that gives you a solution and a guess that doesn't give you a solution. You should continue adjusting your initial guess until you get an error."
   ]
  },
  {
   "cell_type": "code",
   "execution_count": null,
   "metadata": {
    "id": "Va1f7nUau0dj"
   },
   "outputs": [],
   "source": [
    "# Initial Guess\n",
    "\n",
    "# Add your solution here\n",
    "\n",
    "newton_sln1 = inexact_newton(canonical_form, guess1, epsilon=1.0e-2, LOUD=True)\n",
    "print(\"The root using the inexact newton function for guess2 is found at\", newton_sln1)"
   ]
  },
  {
   "cell_type": "markdown",
   "metadata": {
    "id": "u7nAggzAukXM"
   },
   "source": [
    "Try Newtons inexact with a very large guess to see if the function fails."
   ]
  },
  {
   "cell_type": "code",
   "execution_count": null,
   "metadata": {
    "id": "uuWJ8c_2vEGX"
   },
   "outputs": [],
   "source": [
    "# Higher Guess\n",
    "\n",
    "# Add your solution here\n",
    "\n",
    "newton_sln2 = inexact_newton(canonical_form, guess2, epsilon=1.0e-2, LOUD=True)\n",
    "print(\"The root using the inexact newton function for guess2 is found at\", newton_sln2)"
   ]
  },
  {
   "cell_type": "code",
   "execution_count": null,
   "metadata": {
    "colab": {
     "base_uri": "https://localhost:8080/"
    },
    "id": "kHXu4gpJuLBG",
    "outputId": "6a5fbafb-b7cb-4331-ce7f-95e847ff9296"
   },
   "outputs": [
    {
     "name": "stdout",
     "output_type": "stream",
     "text": [
      "It took 23 iterations\n",
      "The root using the inexact newton function for guess1 is found at 37459.136814048645\n",
      "It took 15 iterations\n",
      "The root using the inexact newton function for guess2 is found at 37407.4751508785\n",
      "It took 7 iterations\n",
      "The root using the inexact newton function for guess3 is found at 37424.27645628167\n"
     ]
    }
   ],
   "source": [
    "# Add your solution here\n",
    "\n",
    "newton_sln3 = inexact_newton(canonical_form, guess3, epsilon=1.0e-2, LOUD=True)\n",
    "print(\"The root using the inexact newton function for guess3 is found at\", newton_sln3)"
   ]
  },
  {
   "cell_type": "markdown",
   "metadata": {
    "id": "bhmwhxKfMjZe"
   },
   "source": [
    "### 5.1.1 Discussion\n",
    "\n",
    "How do different orders of magnitude change result from guess? How do the number of iterations change?\n",
    "\n",
    "**Discuss** in 2-4 sentences\n",
    "\n",
    "**Answer:**"
   ]
  },
  {
   "cell_type": "markdown",
   "metadata": {
    "id": "7l6N6kJADNpm"
   },
   "source": [
    "### 5.2. Finding the limits of inexact Newton's Method\n",
    "\n",
    "Determine the upper and lower limit for your guess where the inexact Newton's Method function gives you a usable solution. Continue making your guess larger until you get an error. The error is your upper limit. Then do the same for the lower limit.\n"
   ]
  },
  {
   "cell_type": "code",
   "execution_count": null,
   "metadata": {
    "id": "s6LKn4bXwuU1"
   },
   "outputs": [],
   "source": [
    "# Find the upper limit using inexact newton method\n",
    "\n",
    "# Add your solution here\n",
    "\n",
    "inexact_newton(canonical_form, upper_limit_inexact, epsilon=1.0e-2)"
   ]
  },
  {
   "cell_type": "code",
   "execution_count": null,
   "metadata": {
    "id": "TWpP6LQql3Wv"
   },
   "outputs": [],
   "source": [
    "# Find the lower limit using inexact newton method\n",
    "\n",
    "### BEGIN SOLUTION\n",
    "lower_limit_inexact = 7.7240e-3\n",
    "### END SOLTUON\n",
    "\n",
    "inexact_newton(canonical_form, lower_limit_inexact, epsilon=1.0e-2)"
   ]
  },
  {
   "cell_type": "code",
   "execution_count": null,
   "metadata": {
    "colab": {
     "base_uri": "https://localhost:8080/"
    },
    "id": "RScEtUcT_J0e",
    "outputId": "48f8c601-6fc5-44f2-eae6-dab04ce46177"
   },
   "outputs": [
    {
     "name": "stdout",
     "output_type": "stream",
     "text": [
      "The range of guesses that you can use for the inexact newton method is 0.007724 km < guess < 59326.0 km\n"
     ]
    }
   ],
   "source": [
    "print(\n",
    "    \"The range of guesses that you can use for the inexact newton method is\",\n",
    "    lower_limit_inexact,\n",
    "    \"km < guess <\",\n",
    "    upper_limit_inexact,\n",
    "    \"km\",\n",
    ")"
   ]
  },
  {
   "cell_type": "markdown",
   "metadata": {
    "id": "HwZYjV0RB9o7"
   },
   "source": [
    "### 5.3. Test Newton's Method with Scipy\n",
    "\n",
    "Now do similar tests using the same numbers for the optimize.newton function in scipy. Find a guess that gives you a solution and a guess that doesn't give you a solution. For the incorrect guess, you should get an error."
   ]
  },
  {
   "cell_type": "code",
   "execution_count": null,
   "metadata": {
    "id": "yq9yEHgvHuYL"
   },
   "outputs": [],
   "source": [
    "# Initial Guess\n",
    "# Add your solution here\n",
    "\n",
    "scipy_sln1 = optimize.newton(\n",
    "    func=canonical_form, x0=guess1, fprime=derivative_form, tol=1e-2, full_output=True\n",
    ")"
   ]
  },
  {
   "cell_type": "markdown",
   "metadata": {
    "id": "UHcqGO2VuhQF"
   },
   "source": [
    "Try scipy with a very large guess to see if the function fails."
   ]
  },
  {
   "cell_type": "code",
   "execution_count": null,
   "metadata": {
    "id": "J9Kt-k9vHt4V"
   },
   "outputs": [],
   "source": [
    "# higher Guess\n",
    "### BEGIN SOLUTION\n",
    "guess2 = 1e3\n",
    "### END SOLTUION\n",
    "scipy_sln2 = optimize.newton(\n",
    "    func=canonical_form, x0=guess2, fprime=derivative_form, tol=1e-2, full_output=True\n",
    ")"
   ]
  },
  {
   "cell_type": "code",
   "execution_count": null,
   "metadata": {
    "colab": {
     "base_uri": "https://localhost:8080/"
    },
    "id": "5KFUb9_TF3_M",
    "outputId": "e45d820e-1c8e-490d-e8dd-bd17d2f176fc"
   },
   "outputs": [
    {
     "name": "stdout",
     "output_type": "stream",
     "text": [
      "The result of guess1 is \n",
      " (37406.024180626926,       converged: True\n",
      "           flag: 'converged'\n",
      " function_calls: 52\n",
      "     iterations: 26\n",
      "           root: 37406.024180626926) \n",
      "\n",
      "The result of guess2 is \n",
      " (37406.02418060243,       converged: True\n",
      "           flag: 'converged'\n",
      " function_calls: 36\n",
      "     iterations: 18\n",
      "           root: 37406.02418060243) \n",
      "\n",
      "The result of guess3 is \n",
      " (37406.02418060992,       converged: True\n",
      "           flag: 'converged'\n",
      " function_calls: 20\n",
      "     iterations: 10\n",
      "           root: 37406.02418060992)\n"
     ]
    }
   ],
   "source": [
    "# even larger guess\n",
    "# Add your solution here\n",
    "scipy_sln3 = optimize.newton(\n",
    "    func=canonical_form, x0=guess3, fprime=derivative_form, tol=1e-2, full_output=True\n",
    ")"
   ]
  },
  {
   "cell_type": "code",
   "execution_count": null,
   "metadata": {},
   "outputs": [],
   "source": [
    "print(\"The result of guess1 is \\n\", scipy_sln1, \"\\n\")\n",
    "print(\"The result of guess2 is \\n\", scipy_sln2, \"\\n\")\n",
    "print(\"The result of guess3 is \\n\", scipy_sln3)"
   ]
  },
  {
   "cell_type": "code",
   "execution_count": null,
   "metadata": {
    "colab": {
     "base_uri": "https://localhost:8080/",
     "height": 402
    },
    "id": "u5nAg7J_ufr3",
    "outputId": "26d62bc5-5fd4-4423-8daa-98450f34aab9"
   },
   "outputs": [
    {
     "ename": "RuntimeError",
     "evalue": "ignored",
     "output_type": "error",
     "traceback": [
      "\u001b[0;31m---------------------------------------------------------------------------\u001b[0m",
      "\u001b[0;31mRuntimeError\u001b[0m                              Traceback (most recent call last)",
      "\u001b[0;32m<ipython-input-140-7238afa42cc3>\u001b[0m in \u001b[0;36m<module>\u001b[0;34m\u001b[0m\n\u001b[1;32m      5\u001b[0m \u001b[0;31m# Use Scipy method\u001b[0m\u001b[0;34m\u001b[0m\u001b[0;34m\u001b[0m\u001b[0;34m\u001b[0m\u001b[0m\n\u001b[1;32m      6\u001b[0m \u001b[0;31m# Add your solution here\u001b[0m\u001b[0;34m\u001b[0m\u001b[0;34m\u001b[0m\u001b[0;34m\u001b[0m\u001b[0m\n\u001b[0;32m----> 7\u001b[0;31m \u001b[0mscipy_sln\u001b[0m \u001b[0;34m=\u001b[0m \u001b[0moptimize\u001b[0m\u001b[0;34m.\u001b[0m\u001b[0mnewton\u001b[0m\u001b[0;34m(\u001b[0m\u001b[0mfunc\u001b[0m\u001b[0;34m=\u001b[0m\u001b[0mcanonical_form\u001b[0m\u001b[0;34m,\u001b[0m \u001b[0mx0\u001b[0m \u001b[0;34m=\u001b[0m \u001b[0mguess\u001b[0m\u001b[0;34m,\u001b[0m \u001b[0mfprime\u001b[0m\u001b[0;34m=\u001b[0m\u001b[0mderivative_form\u001b[0m\u001b[0;34m,\u001b[0m \u001b[0mtol\u001b[0m\u001b[0;34m=\u001b[0m\u001b[0;36m1e-2\u001b[0m\u001b[0;34m)\u001b[0m\u001b[0;34m\u001b[0m\u001b[0;34m\u001b[0m\u001b[0m\n\u001b[0m\u001b[1;32m      8\u001b[0m \u001b[0mprint\u001b[0m\u001b[0;34m(\u001b[0m\u001b[0;34m\"The root is found at\"\u001b[0m\u001b[0;34m,\u001b[0m\u001b[0mscipy_sln\u001b[0m\u001b[0;34m)\u001b[0m\u001b[0;34m\u001b[0m\u001b[0;34m\u001b[0m\u001b[0m\n\u001b[1;32m      9\u001b[0m \u001b[0;31m### END SOLUTION\u001b[0m\u001b[0;34m\u001b[0m\u001b[0;34m\u001b[0m\u001b[0;34m\u001b[0m\u001b[0m\n",
      "\u001b[0;32m/usr/local/lib/python3.8/dist-packages/scipy/optimize/zeros.py\u001b[0m in \u001b[0;36mnewton\u001b[0;34m(func, x0, fprime, args, tol, maxiter, fprime2, x1, rtol, full_output, disp)\u001b[0m\n\u001b[1;32m    292\u001b[0m                         \u001b[0;34m\" Failed to converge after %d iterations, value is %s.\"\u001b[0m\u001b[0;34m\u001b[0m\u001b[0;34m\u001b[0m\u001b[0m\n\u001b[1;32m    293\u001b[0m                         % (itr + 1, p0))\n\u001b[0;32m--> 294\u001b[0;31m                     \u001b[0;32mraise\u001b[0m \u001b[0mRuntimeError\u001b[0m\u001b[0;34m(\u001b[0m\u001b[0mmsg\u001b[0m\u001b[0;34m)\u001b[0m\u001b[0;34m\u001b[0m\u001b[0;34m\u001b[0m\u001b[0m\n\u001b[0m\u001b[1;32m    295\u001b[0m                 \u001b[0mwarnings\u001b[0m\u001b[0;34m.\u001b[0m\u001b[0mwarn\u001b[0m\u001b[0;34m(\u001b[0m\u001b[0mmsg\u001b[0m\u001b[0;34m,\u001b[0m \u001b[0mRuntimeWarning\u001b[0m\u001b[0;34m)\u001b[0m\u001b[0;34m\u001b[0m\u001b[0;34m\u001b[0m\u001b[0m\n\u001b[1;32m    296\u001b[0m                 return _results_select(\n",
      "\u001b[0;31mRuntimeError\u001b[0m: Derivative was zero. Failed to converge after 3 iterations, value is -1.0466994161548342e+25."
     ]
    }
   ],
   "source": [
    "# Initial Guess\n",
    "guess = 1e6\n",
    "\n",
    "scipy_sln = optimize.newton(\n",
    "    func=canonical_form, x0=guess, fprime=derivative_form, tol=1e-2\n",
    ")\n",
    "print(\"The root is found at\", scipy_sln)"
   ]
  },
  {
   "cell_type": "markdown",
   "metadata": {
    "id": "wPcge79MN97Z"
   },
   "source": [
    "### 5.3.1 Discussion\n",
    "\n",
    "How do different orders of magnitude change the result from guess? How do the number of iterations change?\n",
    "\n",
    "**Discuss** in 2-4 sentences\n",
    "\n",
    "**Answer:**"
   ]
  },
  {
   "cell_type": "markdown",
   "metadata": {
    "id": "zFdcM25JELJe"
   },
   "source": [
    "### 5.4. Finding the limits of Newton's Method with Scipy\n",
    "\n",
    "Determine the upper and lower limit for your guess where the optimize.newton function in scipy gives you a useable solution."
   ]
  },
  {
   "cell_type": "code",
   "execution_count": null,
   "metadata": {
    "id": "8tGe8PNKl0XA"
   },
   "outputs": [],
   "source": [
    "# Find the upper limit using scipy method\n",
    "upper_limit_scipy = 2.9e5\n",
    "\n",
    "while True:\n",
    "    try:\n",
    "        upper_limit_scipy += 1\n",
    "        optimize.newton(\n",
    "            func=canonical_form, x0=upper_limit_scipy, fprime=derivative_form, tol=1e-2\n",
    "        )\n",
    "    except:\n",
    "        print(upper_limit_scipy)\n",
    "        break"
   ]
  },
  {
   "cell_type": "code",
   "execution_count": null,
   "metadata": {
    "id": "n7usWlAzl1VF"
   },
   "outputs": [],
   "source": [
    "# Find the lower limit using scipy method\n",
    "lower_limit_scipy = 1e3\n",
    "\n",
    "while True:\n",
    "    try:\n",
    "        lower_limit_scipy -= 1\n",
    "        optimize.newton(\n",
    "            func=canonical_form, x0=lower_limit_scipy, fprime=derivative_form, tol=1e-2\n",
    "        )\n",
    "    except:\n",
    "        print(lower_limit_scipy)\n",
    "        break"
   ]
  },
  {
   "cell_type": "code",
   "execution_count": null,
   "metadata": {
    "colab": {
     "base_uri": "https://localhost:8080/"
    },
    "id": "QEAmwkB-MD3V",
    "outputId": "4f6f3640-8c29-422f-a725-76474a9a8f5b"
   },
   "outputs": [
    {
     "name": "stdout",
     "output_type": "stream",
     "text": [
      "optimize.newton function from scipy works over 0.0 km < guess < 290001.0 km\n"
     ]
    }
   ],
   "source": [
    "print(\n",
    "    \"optimize.newton function from scipy works over\",\n",
    "    lower_limit_scipy,\n",
    "    \"km < guess <\",\n",
    "    upper_limit_scipy,\n",
    "    \"km\",\n",
    ")"
   ]
  },
  {
   "cell_type": "markdown",
   "metadata": {
    "id": "S-1298pcOt0v"
   },
   "source": [
    "### 5.5. Discussion\n",
    "\n",
    "Over what range of guesses will the inexact newton function give you a result? Over what range of guesses will the optimize.newton function from scipy gives you a result? Which of the ranges is bigger? Which method uses fewer iterations?\n",
    "\n",
    "**Discuss** in 2-4 sentences\n",
    "\n",
    "**Answer:**"
   ]
  }
 ],
 "metadata": {
  "colab": {
   "provenance": []
  },
  "kernelspec": {
   "display_name": "Python 3",
   "name": "python3"
  },
  "language_info": {
   "name": "python"
  }
 },
 "nbformat": 4,
 "nbformat_minor": 0
}
