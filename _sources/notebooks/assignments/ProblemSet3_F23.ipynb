{
 "cells": [
  {
   "cell_type": "markdown",
   "metadata": {
    "id": "a_M76t6pd-e6"
   },
   "source": [
    "# Problem Set 3\n",
    "\n",
    "CBE 60258, University of Notre Dame. © Prof. Alexander Dowling, 2022\n",
    "\n",
    "You may not distribution homework solutions without written permissions from Prof. Alexander Dowling.\n",
    "\n",
    "**Your Name and Email:**"
   ]
  },
  {
   "cell_type": "markdown",
   "metadata": {
    "id": "SwCxYb1-d-e-"
   },
   "source": [
    "## Import Libraries"
   ]
  },
  {
   "cell_type": "code",
   "execution_count": null,
   "metadata": {
    "executionInfo": {
     "elapsed": 1220,
     "status": "ok",
     "timestamp": 1664677174420,
     "user": {
      "displayName": "Alexander Dowling",
      "userId": "00988067626794866502"
     },
     "user_tz": 240
    },
    "id": "1E3xHLEPd-e-"
   },
   "outputs": [],
   "source": [
    "import math\n",
    "import numpy as np\n",
    "import scipy.stats as stats\n",
    "from scipy import optimize\n",
    "\n",
    "import sys\n",
    "if \"google.colab\" in sys.modules:\n",
    "    !wget \"https://raw.githubusercontent.com/IDAES/idaes-pse/main/scripts/colab_helper.py\"\n",
    "    import colab_helper\n",
    "    colab_helper.install_idaes()\n",
    "    colab_helper.install_ipopt()\n",
    "\n",
    "import pyomo.environ as pyo"
   ]
  },
  {
   "cell_type": "markdown",
   "metadata": {
    "id": "twuBMYIed-e_"
   },
   "source": [
    "## 1. Overflow and Algorithm Issues\n",
    "\n",
    "Over the past few years the lottery has reached amazing heights, in part due to the decrease in the individual odds of any set of numbers winning from 1/175M to 1/292.2M which begain in the fall of 2015. The all-time record payout drawing was on 1/13/16 and was worth $\\$1.586B$ which, after taxes, was roughly $\\$590M$. About $\\$1B$ in tickets were sold at $\\$2$ per ticket.\n",
    "\n",
    "What is the probability there will be exactly $k$ winners for the lottery? If we assume that everyone choose to use the \"computer option\" to pick their numbers randomly, these probabilities can be computed from the binomial distribution.\n",
    "\n",
    "Here is the probability mass function (PMF) of the binomial distribution:\n",
    "\n",
    "\\begin{equation}\n",
    "x(p,k,N) = \\binom{N}{k} p^{k}(1-p)^{N-k}\n",
    "\\end{equation}\n",
    "\n",
    "It uses the binomial coefficient, which is another name for combinations:\n",
    "\n",
    "\\begin{equation}\n",
    "\\binom{N}{k} = \\frac{N!}{k!(N-k)!} \\label{eq:2}\n",
    "\\end{equation}\n",
    "\n",
    "$N$ is the number of events (e.g., coin flips), $k$ is the number of \"successes\" (e.g., heads) and $p$ is the probability of success for a single event (e.g., heads for a single coin flip).\n",
    "\n",
    "In this problem, you are given a function to calculate n choose r, shown below."
   ]
  },
  {
   "cell_type": "code",
   "execution_count": null,
   "metadata": {
    "executionInfo": {
     "elapsed": 8,
     "status": "ok",
     "timestamp": 1664677174421,
     "user": {
      "displayName": "Alexander Dowling",
      "userId": "00988067626794866502"
     },
     "user_tz": 240
    },
    "id": "kd4b4R6Td-fA"
   },
   "outputs": [],
   "source": [
    "# define a function to calculate n choose r\n",
    "def nCr(n,r):\n",
    "    ''' Calculates n choose r\n",
    "    Args:\n",
    "        n : total number of items to choose from\n",
    "        r : number of items to choose\n",
    "    \n",
    "    Return:\n",
    "        Total number of combinations, calculated with factorial formula\n",
    "    \n",
    "    '''\n",
    "    f = math.factorial\n",
    "    # Note: Using integer division, //, prevents overflow errors in Python 3\n",
    "#     return f(n) // f(r) // f(n-r)\n",
    "    return f(n) / f(r) / f(n-r)\n",
    "# End: define a function to calculate n choose r"
   ]
  },
  {
   "cell_type": "markdown",
   "metadata": {
    "id": "9UCJMCNBd-fB"
   },
   "source": [
    "### Setup"
   ]
  },
  {
   "cell_type": "code",
   "execution_count": null,
   "metadata": {
    "executionInfo": {
     "elapsed": 8,
     "status": "ok",
     "timestamp": 1664677174422,
     "user": {
      "displayName": "Alexander Dowling",
      "userId": "00988067626794866502"
     },
     "user_tz": 240
    },
    "id": "Qz1Xr41td-fC"
   },
   "outputs": [],
   "source": [
    "# Given data\n",
    "# Number of people that purchased tickets\n",
    "N = 500e6;\n",
    "# Odds of winning\n",
    "p = 1/(292.2e6);\n",
    "# Net payout\n",
    "net_pay = 590e6 # $"
   ]
  },
  {
   "cell_type": "markdown",
   "metadata": {
    "id": "4NV5UAShd-fC"
   },
   "source": [
    "### 1a. Naive Calculation\n",
    "\n",
    "Let's start with something simple: calculate the probability of exactly 2 winners.\n",
    "\n",
    "We will first start with computing the binomial coefficient.\n",
    "\n",
    "\\begin{equation}\n",
    "\\binom{N}{k} = \\frac{N!}{k!(N-k)!} \n",
    "\\end{equation}\n",
    "\n",
    "\n",
    "Let's divide this calculation into three pieces."
   ]
  },
  {
   "cell_type": "code",
   "execution_count": null,
   "metadata": {
    "colab": {
     "base_uri": "https://localhost:8080/"
    },
    "executionInfo": {
     "elapsed": 7,
     "status": "ok",
     "timestamp": 1664677174422,
     "user": {
      "displayName": "Alexander Dowling",
      "userId": "00988067626794866502"
     },
     "user_tz": 240
    },
    "id": "qo_DkYLkd-fD",
    "outputId": "544b7b68-c16f-4183-9e19-a7815e2d20e4"
   },
   "outputs": [],
   "source": [
    "k = 2 # exactly 2 winners\n",
    "print(\"k! = \",math.factorial(k))"
   ]
  },
  {
   "cell_type": "markdown",
   "metadata": {
    "id": "YlIFpNJNd-fD"
   },
   "source": [
    "Good, that worked. For the two remaining factorial calculations, we are going to add some extra code that will time out our calculation after 10 seconds."
   ]
  },
  {
   "cell_type": "code",
   "execution_count": null,
   "metadata": {
    "colab": {
     "base_uri": "https://localhost:8080/"
    },
    "executionInfo": {
     "elapsed": 7,
     "status": "ok",
     "timestamp": 1664677174422,
     "user": {
      "displayName": "Alexander Dowling",
      "userId": "00988067626794866502"
     },
     "user_tz": 240
    },
    "id": "qCrDIBLYd-fE",
    "outputId": "2dab5c1b-f5e7-4a58-fc77-215ebef9f1a5"
   },
   "outputs": [],
   "source": [
    "# Configure the timer. You do not need to worry about anything in this box.\n",
    "import signal\n",
    "MAX_TIME = 1 # seconds. You may change this to 1 so that restart-run alls go faster\n",
    "\n",
    "def signal_handler(signum, frame):\n",
    "    raise Exception(\"Timed out! This cell took longer than \"+str(MAX_TIME)+ \" seconds.\")\n",
    "\n",
    "signal.signal(signal.SIGALRM, signal_handler)"
   ]
  },
  {
   "cell_type": "code",
   "execution_count": null,
   "metadata": {
    "colab": {
     "base_uri": "https://localhost:8080/",
     "height": 337
    },
    "executionInfo": {
     "elapsed": 12,
     "status": "error",
     "timestamp": 1664677175235,
     "user": {
      "displayName": "Alexander Dowling",
      "userId": "00988067626794866502"
     },
     "user_tz": 240
    },
    "id": "1sv9cwiTd-fE",
    "outputId": "193aa894-5669-4db5-8926-55ea096067b5"
   },
   "outputs": [],
   "source": [
    "signal.alarm(MAX_TIME)\n",
    "print(\"N! = \",math.factorial(N))\n",
    "signal.alarm(0)"
   ]
  },
  {
   "cell_type": "markdown",
   "metadata": {
    "id": "HughsbOWd-fF"
   },
   "source": [
    "Suggest at least one reason why `math.factorial` did not work for $N$ and $N-k$. Submit this discussion via **Gradescope**."
   ]
  },
  {
   "cell_type": "markdown",
   "metadata": {
    "id": "qtyU3S73d-fF"
   },
   "source": [
    "Do not fear, we can use Stirling's approximation (https://en.wikipedia.org/wiki/Stirling%27s_approximation).\n",
    "\n",
    "$$\n",
    "n! \\approx \\sqrt{2 \\pi n} \\left( \\frac{n}{e} \\right)^n\n",
    "$$\n",
    "\n",
    "Finish the function below."
   ]
  },
  {
   "cell_type": "code",
   "execution_count": null,
   "metadata": {
    "executionInfo": {
     "elapsed": 485,
     "status": "ok",
     "timestamp": 1664677180292,
     "user": {
      "displayName": "Alexander Dowling",
      "userId": "00988067626794866502"
     },
     "user_tz": 240
    },
    "id": "BJWJGnN_d-fF"
   },
   "outputs": [],
   "source": [
    "def stirling(n):\n",
    "    ''' Approximate n!\n",
    "    \n",
    "    Args:\n",
    "        n\n",
    "        \n",
    "    Returns:\n",
    "        n_factorial    \n",
    "    '''\n",
    "    \n",
    "    # Add your solution here"
   ]
  },
  {
   "cell_type": "markdown",
   "metadata": {
    "id": "QRtc2oL9d-fG"
   },
   "source": [
    "Now test your code by computing $10!$. Store your answer in the dictionary `unit_test` below."
   ]
  },
  {
   "cell_type": "code",
   "execution_count": null,
   "metadata": {
    "colab": {
     "base_uri": "https://localhost:8080/"
    },
    "executionInfo": {
     "elapsed": 4,
     "status": "ok",
     "timestamp": 1664677181503,
     "user": {
      "displayName": "Alexander Dowling",
      "userId": "00988067626794866502"
     },
     "user_tz": 240
    },
    "id": "w4wok6qdd-fH",
    "outputId": "a22b29f2-23da-43e6-d472-550a209a94bb"
   },
   "outputs": [],
   "source": [
    "unit_test = {}\n",
    "unit_test['math.factorial'] = 0\n",
    "unit_test['stirling'] = 0\n",
    "\n",
    "# Add your solution here"
   ]
  },
  {
   "cell_type": "code",
   "execution_count": null,
   "metadata": {
    "executionInfo": {
     "elapsed": 322,
     "status": "ok",
     "timestamp": 1664677184282,
     "user": {
      "displayName": "Alexander Dowling",
      "userId": "00988067626794866502"
     },
     "user_tz": 240
    },
    "id": "MBrV_b97d-fH",
    "nbgrader": {
     "grade": true,
     "grade_id": "1a-unit-test",
     "locked": true,
     "points": "0.25",
     "solution": false
    }
   },
   "outputs": [],
   "source": [
    "# Removed autograder test. You may delete this cell."
   ]
  },
  {
   "cell_type": "markdown",
   "metadata": {
    "id": "PwcXmS37d-fH"
   },
   "source": [
    "We can now calculate try to calculate the probability of exactly 2 winners. We will break the calculation into several steps. Store your answer and the intermediates in the dictionary `naive_calc`."
   ]
  },
  {
   "cell_type": "code",
   "execution_count": null,
   "metadata": {
    "colab": {
     "base_uri": "https://localhost:8080/",
     "height": 373
    },
    "executionInfo": {
     "elapsed": 448,
     "status": "error",
     "timestamp": 1664677186097,
     "user": {
      "displayName": "Alexander Dowling",
      "userId": "00988067626794866502"
     },
     "user_tz": 240
    },
    "id": "N_gMa98qd-fH",
    "outputId": "b233fe12-b626-49f0-ed02-b9faef2bac1e"
   },
   "outputs": [],
   "source": [
    "## Naive calculation\n",
    "\n",
    "k = 2\n",
    "\n",
    "# Give our function stirling a nickname\n",
    "f = stirling\n",
    "\n",
    "naive_calc = {}\n",
    "# k winners. Student update\n",
    "naive_calc['p**k'] = 0\n",
    "\n",
    "# (1-k) losers. Student update\n",
    "naive_calc['(1-p)**(N-k)'] = 0\n",
    "\n",
    "print(naive_calc)\n",
    "\n",
    "# Binomial coefficient. Student update\n",
    "naive_calc['nCk'] = 0\n",
    "\n",
    "# Add your solution here"
   ]
  },
  {
   "cell_type": "markdown",
   "metadata": {
    "id": "aWTTwvVZd-fI"
   },
   "source": [
    "Alright, now let's compute $\\binom{N}{k}$"
   ]
  },
  {
   "cell_type": "code",
   "execution_count": null,
   "metadata": {
    "colab": {
     "base_uri": "https://localhost:8080/",
     "height": 355
    },
    "executionInfo": {
     "elapsed": 414,
     "status": "error",
     "timestamp": 1664677192000,
     "user": {
      "displayName": "Alexander Dowling",
      "userId": "00988067626794866502"
     },
     "user_tz": 240
    },
    "id": "dGmyGgkhd-fI",
    "outputId": "bd00bd3f-1281-4be9-9e79-e01c09f39e85"
   },
   "outputs": [],
   "source": [
    "# N!. Student update\n",
    "naive_calc['k!'] = 0\n",
    "\n",
    "# Give our function stirling a nickname\n",
    "f = stirling\n",
    "\n",
    "# N!. Student update\n",
    "naive_calc['N!'] = 0\n",
    "\n",
    "# (N-k)!. Student update\n",
    "naive_calc['(N-k)!'] = 0\n",
    "\n",
    "# Add your solution here\n",
    "\n",
    "print(naive_calc)"
   ]
  },
  {
   "cell_type": "markdown",
   "metadata": {
    "id": "DirBYkWFd-fI"
   },
   "source": [
    "In a sentence, describe what happens (for example: did you see any warning messages?).\n",
    "\n",
    "**Discussion:**"
   ]
  },
  {
   "cell_type": "markdown",
   "metadata": {
    "id": "JIM_ZIfnd-fJ"
   },
   "source": [
    "This problem prompts a brief discussion about floating point numbers. Computers use binary (0 or 1) to store all numbers. A bit is a single binary number.\n",
    "\n",
    "A double-precision floating-point using 64 bits to store a decimal in scientific notation on a computer.\n",
    "\n",
    "![floating_point](https://upload.wikimedia.org/wikipedia/commons/thumb/a/a9/IEEE_754_Double_Floating_Point_Format.svg/1920px-IEEE_754_Double_Floating_Point_Format.svg.png)\n",
    "\n",
    "1 bit is used for the sign, 11 bits are used for exponent, and 52 bits are used for the fraction. Let's focus on the exponent for a minute.\n",
    "\n",
    "$$2^{11} = 2048$$\n",
    "\n",
    "For many computers, this means that double-precision floating-point numbers must be between $10^{-1022}$ and $10^{1023}$. Here is the main take away: a computer cannot store arbitrarily large or small decimals with standard floating-point numbers. Python returns an overflow error if we exceed these bounds."
   ]
  },
  {
   "cell_type": "markdown",
   "metadata": {
    "id": "izB_UY_Yd-fJ"
   },
   "source": [
    "Determine the maximum number of lottery tickets ($N$) before Stirling's approximation gives an overflow error. Store your answer as an integer in `N_max`. Hint: Start at 165 and start incrementing."
   ]
  },
  {
   "cell_type": "code",
   "execution_count": null,
   "metadata": {
    "colab": {
     "base_uri": "https://localhost:8080/"
    },
    "executionInfo": {
     "elapsed": 259,
     "status": "ok",
     "timestamp": 1664677279555,
     "user": {
      "displayName": "Alexander Dowling",
      "userId": "00988067626794866502"
     },
     "user_tz": 240
    },
    "id": "G43tkPFCd-fJ",
    "outputId": "b4e255ab-8ef9-470a-db02-ab48771f419b"
   },
   "outputs": [],
   "source": [
    "# Add your solution here\n",
    "print(N_max)"
   ]
  },
  {
   "cell_type": "code",
   "execution_count": null,
   "metadata": {
    "executionInfo": {
     "elapsed": 626,
     "status": "ok",
     "timestamp": 1664677283608,
     "user": {
      "displayName": "Alexander Dowling",
      "userId": "00988067626794866502"
     },
     "user_tz": 240
    },
    "id": "GgbkYMond-fK",
    "nbgrader": {
     "grade": true,
     "grade_id": "1a-oveflow",
     "locked": true,
     "points": "0.25",
     "solution": false
    }
   },
   "outputs": [],
   "source": [
    "# Add your solution here"
   ]
  },
  {
   "cell_type": "markdown",
   "metadata": {
    "id": "Nuuf3sgsd-fK"
   },
   "source": [
    "### 1b. First Approximation\n",
    "\n",
    "Alright, we need to new strategy to approximate the binomial coefficient. We will now build an asymptotic approximations. You'll see this idea again in Transport.\n",
    "\n",
    "A mathematician would write:\n",
    "\n",
    "\\begin{equation}\n",
    "N >> k \\implies N - k \\approx N\n",
    "\\end{equation}\n",
    "\n",
    "Let's take a minute to unpack this notation:\n",
    "\n",
    "\\begin{equation}\n",
    "\\underbrace{N}_{\\mathrm{lottery \\ participants}} \\qquad\n",
    "\\underbrace{>>}_{\\mathrm{much \\ greater \\ than}} \\qquad\n",
    "\\underbrace{k}_{\\mathrm{lottery \\ winners}} \\qquad\n",
    "\\underbrace{\\implies}_{\\mathrm{implies}} \\qquad\n",
    "N - k \n",
    "\\underbrace{\\approx}_{\\mathrm{approximately \\ equals}} \n",
    "N\n",
    "\\end{equation}\n",
    "\n",
    "This allows us to make the following simplifications:\n",
    "\n",
    "\\begin{align}\n",
    "(N-k)! &= (N-k) \\times (N-k-1) \\times ... \\times 1 \\\\\n",
    "& = (N-k) \\times (N-k-1)  \\times ... \\times 1 \\times\n",
    "\\left(\\frac{N \\times (N-1)  \\times ... \\times (N-k+1)}{N \\times (N-1)  \\times ... \\times (N-k+1)} \\right)\\\\\n",
    "& = \\frac{N \\times (N-1) \\times ... \\times (N-k+1) \\times (N-k) \\times (N-k-1)  \\times ... \\times 1 }\n",
    "{N \\times (N-1) \\times ... \\times (N -k + 1)} \n",
    "\\end{align}\n",
    "\n",
    "Notice that the numerator above is the definition of $N!$. We can use $N-k \\approx N$ to simplify the demoniation to $N$ multiplied by itself $k$ times. Thus we have:\n",
    "\n",
    "\\begin{align}\n",
    "(N-k)! \\approx \\frac{N!}{N^{k}} \n",
    "\\end{align}\n",
    "\n",
    "**Instructions:** Starting with the definition for the binomial coefficient, show that:\n",
    "\n",
    "\\begin{equation} \\label{finapp1}\n",
    "\\binom{N}{k} \\approx \\frac{N^k}{k!}\n",
    "\\end{equation}\n",
    "\n",
    "In other words, write out all of the mathematical steps to go from $\\binom{N}{k}$ to $\\frac{N^k}{k!}$, similar to a proof. Submit your written work via **Gradescope**."
   ]
  },
  {
   "cell_type": "markdown",
   "metadata": {
    "id": "zbZLEeKLd-fK"
   },
   "source": [
    "### 1c. Second Approximation\n",
    "\n",
    "Evaluation of $(1-p)^{N-k}$ can also be problematic. Construct a mathematical argument (i.e., proof) to establish that:\n",
    "\n",
    "\\begin{equation}\n",
    "(1-p)^{N-k} \\approx e^{-Np}\n",
    "\\end{equation}\n",
    "\n",
    "*Hint*: Consider the following Taylor series expansion:\n",
    "\n",
    "\\begin{equation}\n",
    "\\log_e (1 - p) = -p - \\frac{p^2}{2} - \\frac{p^3}{3} - ...\n",
    "\\end{equation}\n",
    "\n",
    "and truncate as follows:\n",
    "\n",
    "\\begin{equation} \\label{tsep}\n",
    "\\log_e (1 - p) \\approx -p\n",
    "\\end{equation}\n",
    "\n",
    "The higher order terms ($p^2$, $p^3$, ...) are incredibly small and can be ignored with negligible consequence.\n",
    "\n",
    "Submit your written work via **Gradescope**."
   ]
  },
  {
   "cell_type": "markdown",
   "metadata": {
    "id": "UkQNnvacd-fL"
   },
   "source": [
    "### 1d. Take Two: Calculating the Odds\n",
    "\n",
    "Use the approximations from 1b and 1c to estimate the probability of exactly 0, 1, 2, 3, and 4 winners of the jackpoint.\n",
    "\n",
    "Solve for the simplified, approximate governing formula on pencil and paper and submit via **Gradescope**.\n",
    "\n",
    "Implement your equation in Python and save your answers as a list or numpy array named `ref_prob`."
   ]
  },
  {
   "cell_type": "code",
   "execution_count": null,
   "metadata": {
    "colab": {
     "base_uri": "https://localhost:8080/"
    },
    "executionInfo": {
     "elapsed": 4,
     "status": "ok",
     "timestamp": 1664677287421,
     "user": {
      "displayName": "Alexander Dowling",
      "userId": "00988067626794866502"
     },
     "user_tz": 240
    },
    "id": "1rHE3VJOd-fL",
    "outputId": "99322b79-fc93-4ac6-ccda-cd2184892437"
   },
   "outputs": [],
   "source": [
    "## Refined calculation\n",
    "# Add your solution here\n",
    "\n",
    "for i in range(5):\n",
    "    print(\"Probability of {0} winners: {1:0.4f}\".format(i,ref_prob_fun(i)));"
   ]
  },
  {
   "cell_type": "code",
   "execution_count": null,
   "metadata": {
    "executionInfo": {
     "elapsed": 1196,
     "status": "ok",
     "timestamp": 1664677291191,
     "user": {
      "displayName": "Alexander Dowling",
      "userId": "00988067626794866502"
     },
     "user_tz": 240
    },
    "id": "rlyinnHZd-fM",
    "nbgrader": {
     "grade": true,
     "grade_id": "1d",
     "locked": true,
     "points": "0.75",
     "solution": false
    }
   },
   "outputs": [],
   "source": [
    "# Removed autograder test. You may delete this cell."
   ]
  },
  {
   "cell_type": "markdown",
   "metadata": {
    "id": "pAMNwTfPd-fM"
   },
   "source": [
    "### 1e. Expected Return\n",
    "\n",
    "What is your expected return (after taxes) from purchasing just one of the 500 million tickets? Assume you elect for the lump sum payment. If more than one ticket \"hits\", the jackpot is split evenly among the holders of the winning tickets.\n",
    "\n",
    "*Hint*: You can calculate the expectation using $k=0$ through $k=4$ without introducing significant errors.\n",
    "\n",
    "Solve for the governing formula on pencil and paper and submit via **Gradescope**.\n",
    "\n",
    "Implement your equation in Python and save your answers as `exp_pay`."
   ]
  },
  {
   "cell_type": "code",
   "execution_count": null,
   "metadata": {
    "colab": {
     "base_uri": "https://localhost:8080/"
    },
    "executionInfo": {
     "elapsed": 270,
     "status": "ok",
     "timestamp": 1664677292798,
     "user": {
      "displayName": "Alexander Dowling",
      "userId": "00988067626794866502"
     },
     "user_tz": 240
    },
    "id": "28gbgL2_d-fM",
    "outputId": "be8a6370-c6b4-4cf9-9184-17aca48c410e"
   },
   "outputs": [],
   "source": [
    "## Expected return\n",
    "\n",
    "# Add your solution here\n",
    "\n",
    "# Display results\n",
    "print('The expected return is $ {0:0.2f}'.format(exp_pay));"
   ]
  },
  {
   "cell_type": "code",
   "execution_count": null,
   "metadata": {
    "executionInfo": {
     "elapsed": 687,
     "status": "ok",
     "timestamp": 1664677298692,
     "user": {
      "displayName": "Alexander Dowling",
      "userId": "00988067626794866502"
     },
     "user_tz": 240
    },
    "id": "wqAa_oNFd-fN",
    "nbgrader": {
     "grade": true,
     "grade_id": "1e",
     "locked": true,
     "points": "1",
     "solution": false
    }
   },
   "outputs": [],
   "source": [
    "# Removed autograder test. You may delete this cell."
   ]
  },
  {
   "cell_type": "markdown",
   "metadata": {
    "id": "54yTDf7bd-fN"
   },
   "source": [
    "### 1f. Qualitative Analysis\n",
    "\n",
    "Interestingly, research has shown that if people pick their own numbers rather than letting the computer do it, the choices are highly non-random. In particular, people usually pick numbers from 0-31 (corresponding to birthdays) while the lottery numbers go from 0-69. In view of this, qualitatively answer the following questions: \n",
    "\n",
    "1. Does the probability of any individual’s lottery ticket winning change?\n",
    "2. Does the probability of getting multiple winners change (e.g., do you expect the payout to a winning ticket decrease due to splitting the prize)?\n",
    "3. Does the probability of no one winning the lottery change?\n",
    "4. For financial reasons, why are you better off letting the computer pick the numbers than picking birthdays?\n",
    "5. Can you think of an even better strategy which would lead to higher winnings?\n",
    "\n",
    "Write 1-3 sentences for each question. Submit your answer via **Gradescope**.\n",
    "\n",
    "**Discussion:**\n",
    "1. Fill in here.\n",
    "2. Fill in here.\n",
    "3. Fill in here.\n",
    "4. Fill in here.\n",
    "5. Fill in here."
   ]
  },
  {
   "cell_type": "markdown",
   "metadata": {
    "id": "hML08yAGd-fN"
   },
   "source": [
    "## 2. Good and Bad Days at the Factory\n",
    "\n",
    "A bioreactor and separator produce 1000 batches of therapeutic proteins each day. Each batch has a 90% chance of meeting specifications. Using this information, answer the following:"
   ]
  },
  {
   "cell_type": "markdown",
   "metadata": {
    "id": "xhOdzfwId-fO"
   },
   "source": [
    "### 2a. Probability Model\n",
    "\n",
    "Which probability distribution can you use to model the manufacturing process? What assumptions do you need to make? "
   ]
  },
  {
   "cell_type": "markdown",
   "metadata": {
    "id": "XSrDhNNxd-fO"
   },
   "source": [
    "**Answer:**"
   ]
  },
  {
   "cell_type": "markdown",
   "metadata": {
    "id": "qIOJsuHdd-fO"
   },
   "source": [
    "### 2b. Good Day\n",
    "\n",
    "If more than 890 batches in a day meet specifications, we will call it a good day.\n",
    "\n",
    "Compute the probability of a good day and store it as the variable `good`. *Hint*: First you will need to write a function which calculates the total number of combinations of good and bad batches in a day."
   ]
  },
  {
   "cell_type": "code",
   "execution_count": null,
   "metadata": {
    "executionInfo": {
     "elapsed": 273,
     "status": "ok",
     "timestamp": 1664677349257,
     "user": {
      "displayName": "Alexander Dowling",
      "userId": "00988067626794866502"
     },
     "user_tz": 240
    },
    "id": "uX06NpIrd-fP"
   },
   "outputs": [],
   "source": [
    "# Define function\n",
    "# Add your solution here"
   ]
  },
  {
   "cell_type": "code",
   "execution_count": null,
   "metadata": {
    "colab": {
     "base_uri": "https://localhost:8080/"
    },
    "executionInfo": {
     "elapsed": 295,
     "status": "ok",
     "timestamp": 1664677352176,
     "user": {
      "displayName": "Alexander Dowling",
      "userId": "00988067626794866502"
     },
     "user_tz": 240
    },
    "id": "IoIeh4rLd-fP",
    "outputId": "078f066a-2ad4-4177-c25c-2447cdf962c8"
   },
   "outputs": [],
   "source": [
    "# probability of more than 890 batches meet specifications\n",
    "# Add your solution here"
   ]
  },
  {
   "cell_type": "code",
   "execution_count": null,
   "metadata": {
    "executionInfo": {
     "elapsed": 285,
     "status": "ok",
     "timestamp": 1664677355523,
     "user": {
      "displayName": "Alexander Dowling",
      "userId": "00988067626794866502"
     },
     "user_tz": 240
    },
    "id": "ESrtkOW9d-fP",
    "nbgrader": {
     "grade": true,
     "grade_id": "factory-b",
     "locked": true,
     "points": "0.25",
     "solution": false
    }
   },
   "outputs": [],
   "source": [
    "# Removed autograder test. You may delete this cell."
   ]
  },
  {
   "cell_type": "markdown",
   "metadata": {
    "id": "UjCqEdkOd-fP"
   },
   "source": [
    "### 2c. Bad Day\n",
    "\n",
    "Likewise, we will call a day with 890 or fewer on specification batches a bad day.\n",
    "\n",
    "Compute the probability of a bad day and store your answer in the variable `bad`. *Hint*: How can you do this quickly using your previous answer?"
   ]
  },
  {
   "cell_type": "code",
   "execution_count": null,
   "metadata": {
    "colab": {
     "base_uri": "https://localhost:8080/"
    },
    "executionInfo": {
     "elapsed": 276,
     "status": "ok",
     "timestamp": 1664677357468,
     "user": {
      "displayName": "Alexander Dowling",
      "userId": "00988067626794866502"
     },
     "user_tz": 240
    },
    "id": "DqeIefOHd-fP",
    "outputId": "b5b1c9c6-4774-42e6-fa12-448c9ab14206"
   },
   "outputs": [],
   "source": [
    "# Add your solution here"
   ]
  },
  {
   "cell_type": "code",
   "execution_count": null,
   "metadata": {
    "executionInfo": {
     "elapsed": 427,
     "status": "ok",
     "timestamp": 1664677359534,
     "user": {
      "displayName": "Alexander Dowling",
      "userId": "00988067626794866502"
     },
     "user_tz": 240
    },
    "id": "PgrluW8Md-fP",
    "nbgrader": {
     "grade": true,
     "grade_id": "factory-c",
     "locked": true,
     "points": "0.25",
     "solution": false
    }
   },
   "outputs": [],
   "source": [
    "# Removed autograder test. You may delete this cell."
   ]
  },
  {
   "cell_type": "markdown",
   "metadata": {
    "id": "K2qGQ6oZd-fQ"
   },
   "source": [
    "### 2d. Bad Days in a Work Week\n",
    "\n",
    "Using your answer from above, compute the probability of 0, 1, 2, ..., 5 bad days in a 5-day work week. Store your answer as a list called `weekly`."
   ]
  },
  {
   "cell_type": "code",
   "execution_count": null,
   "metadata": {
    "colab": {
     "base_uri": "https://localhost:8080/"
    },
    "executionInfo": {
     "elapsed": 287,
     "status": "ok",
     "timestamp": 1664677361444,
     "user": {
      "displayName": "Alexander Dowling",
      "userId": "00988067626794866502"
     },
     "user_tz": 240
    },
    "id": "hXgyRtjAd-fQ",
    "outputId": "2b8ccba3-4174-47fc-fc40-312264d80386"
   },
   "outputs": [],
   "source": [
    "# Add your solution here"
   ]
  },
  {
   "cell_type": "code",
   "execution_count": null,
   "metadata": {
    "executionInfo": {
     "elapsed": 285,
     "status": "ok",
     "timestamp": 1664677363003,
     "user": {
      "displayName": "Alexander Dowling",
      "userId": "00988067626794866502"
     },
     "user_tz": 240
    },
    "id": "WfrfEfpid-fQ",
    "nbgrader": {
     "grade": true,
     "grade_id": "factory-d",
     "locked": true,
     "points": "0.75",
     "solution": false
    }
   },
   "outputs": [],
   "source": [
    "# Removed autograder test. You may delete this cell."
   ]
  },
  {
   "cell_type": "code",
   "execution_count": null,
   "metadata": {
    "colab": {
     "base_uri": "https://localhost:8080/",
     "height": 357
    },
    "executionInfo": {
     "elapsed": 1668,
     "status": "ok",
     "timestamp": 1664677559084,
     "user": {
      "displayName": "Alexander Dowling",
      "userId": "00988067626794866502"
     },
     "user_tz": 240
    },
    "id": "qLQGM8Urd-fT",
    "outputId": "751136c4-d2eb-4edc-c183-e30b80d82128"
   },
   "outputs": [],
   "source": [
    "# Extract indices\n",
    "x = sorted(m.x)\n",
    "t = sorted(m.t)\n",
    "\n",
    "# Create numpy arrays to hold the solution\n",
    "xgrid = np.zeros((len(t), len(x)))\n",
    "# Hint: define tgrid and Tgrid the same way\n",
    "# Add your solution here\n",
    "\n",
    "# Loop over time\n",
    "for i in range(0, len(t)):\n",
    "    # Loop over space\n",
    "    for j in range(0, len(x)):\n",
    "        # Copy values\n",
    "        xgrid[i,j] = x[j]\n",
    "        tgrid[i,j] = t[i]\n",
    "        # Hint: how to access values from Pyomo variable m.T?\n",
    "        # Add your solution here\n",
    "\n",
    "# Create a 3D wireframe plot of the solution\n",
    "# Hint: consult the matplotlib documentation\n",
    "# https://matplotlib.org/stable/gallery/mplot3d/wire3d.html\n",
    "\n",
    "# Add your solution here"
   ]
  },
  {
   "cell_type": "markdown",
   "metadata": {},
   "source": [
    "## 3. Portfolio Data Analysis\n",
    "\n",
    "Portfolio management is a classic example of quadratic programming (optimization). The idea is to find the optimal blend of investments that achieves a specified rate of return (or better) while minimizing the variance in rate of return. In this problem, you will use your skills in statistical analysis to analyze the stock data.\n",
    "\n",
    "### Historical Stock Data\n",
    "\n",
    "Historical daily adjusted closing prices for the last five years (obtained from Yahoo! Finance) are available for the $N=5$ stocks listed in table below. (We are actually considering index funds, but this detail does not change the analysis.)  \n",
    "\n",
    "| Symbol | Name |\n",
    "|-|-|\n",
    "| GSPC | S&P 500 | \n",
    "| DJI | Dow Jones Industrial Average | \n",
    "| IXIC | NASDAQ Composite | \n",
    "| RUT | Russell 2000 |\n",
    "| VIX | CBOE Volatility Index |"
   ]
  },
  {
   "cell_type": "markdown",
   "metadata": {},
   "source": [
    "### 3a. Return Rate\n",
    "\n",
    "You are given a Stock\\_Data.csv file. Using the stock data, calculate the 1-day return rate:\n",
    "\n",
    "\\begin{equation}\n",
    "\tr_{t,i} = \\frac{p_{t+1,i} - p_{t,i}}{p_{t,i}}\n",
    "\\end{equation}\n",
    "\n",
    "where $p_{t+1,i}$ and $p_{t,i}$ are the *Adjusted Closing Prices* at the end of days $t+1$ and $t$, respectively, for stock $i$. These results are stored in matrix `R`. *Hint*: Use Pandas."
   ]
  },
  {
   "cell_type": "code",
   "execution_count": null,
   "metadata": {},
   "outputs": [],
   "source": [
    "# This is the long path to the folder containg data files on GitHub (for the class website)\n",
    "data_folder = 'https://raw.githubusercontent.com/ndcbe/data-and-computing/main/noteboohttps://raw.githubusercontent.com/ndcbe/data-and-computing/main/notebooks/data/'\n",
    "\n",
    "# Load the data file into Pandas\n",
    "df_adj_close = pd.read_csv(data_folder + 'Stock_Data.csv')"
   ]
  },
  {
   "cell_type": "code",
   "execution_count": null,
   "metadata": {},
   "outputs": [],
   "source": [
    "# Add your solution here"
   ]
  },
  {
   "cell_type": "markdown",
   "metadata": {},
   "source": [
    "### 3b. Visualization\n",
    "\n",
    "Plot the single day return rates for the 5 stocks you obtain in the previous section and check if you obtain the following profiles:\n",
    "\n",
    "![ad](https://raw.githubusercontent.com/ndcbe/data-and-computing/main/media/stock_return_plots.png)\n",
    "\n",
    "\n",
    "The first plot is made for you. "
   ]
  },
  {
   "cell_type": "code",
   "execution_count": null,
   "metadata": {},
   "outputs": [],
   "source": [
    "# Create figure\n",
    "plt.figure(figsize=(9,15))\n",
    "\n",
    "# Create subplot for DJI\n",
    "plt.subplot(5,1,1)\n",
    "plt.plot(R[\"DJI\"]*100,color=\"blue\",label=\"DJI\")\n",
    "plt.legend(loc='best')\n",
    "\n",
    "# Add your solution here\n",
    "\n",
    "# Show plot\n",
    "plt.show()"
   ]
  },
  {
   "cell_type": "markdown",
   "metadata": {},
   "source": [
    "### 3c. Covariance and Correlation Matrices\n",
    "\n",
    "Write Python code to:\n",
    "1. Calculate $\\bar{r}$, the average 1-day return for each stock. Store this as the variable `R_avg`.\n",
    "2. Calculate $\\Sigma_{r}$, the covariance matrix of the 1-day returns. This matrix tells us how returns for each stock vary with each other (which is important because they are correlated!). Hint: pandas has a function `cov`\n",
    "3. Calculate the correlation matrix for the 1-day returns. Hint: pandas has a function `corr`.\n",
    "\n",
    "Looking at the correlation matrix, answer the follwing questions:\n",
    "\n",
    "1. Which pair of stocks have the highest **positive** correlation?\n",
    "2. Which pair of stocks have the highest **negative** correlation?\n",
    "3. Which pair of stocks have the lowest **absolute** correlation?\n",
    "\n",
    "Hint: Read ahead in the class website for more information on [correlation and covariance](../..//notebooks/14/Correlation-Covariance-and-Independence.ipynb)"
   ]
  },
  {
   "cell_type": "markdown",
   "metadata": {},
   "source": [
    "Please write one or two sentences for each of the above questions:\n",
    "1. Fill in here\n",
    "2. Fill in here\n",
    "3. Fill in here"
   ]
  },
  {
   "cell_type": "code",
   "execution_count": null,
   "metadata": {},
   "outputs": [],
   "source": [
    "# Add your solution here"
   ]
  },
  {
   "cell_type": "code",
   "execution_count": null,
   "metadata": {},
   "outputs": [],
   "source": [
    "# Removed autograder test. You may delete this cell."
   ]
  },
  {
   "cell_type": "markdown",
   "metadata": {},
   "source": [
    "### 3d. Markowitz Mean/Variance Portfolio Model\n",
    "\n",
    "The Markowitz mean/variance model, shown below, computes the optimal allocation of funds in a portfolio:\n",
    "\n",
    "\\begin{align}\n",
    "\t\t\\min_{{x} \\geq {0}} \\qquad & z:= {x}^T \\cdot {\\Sigma_r} \\cdot {x} \\\\\n",
    "\t\t\\text{s.t.} \\qquad & {\\bar{r}}^T \\cdot {x} \\geq \\rho \\\\\n",
    "\t\t & \\sum_{i =1}^N x_i = 1 \n",
    "\\end{align} \n",
    "\n",
    "\n",
    "where $x_i$ is the fraction of funds invested in stock $i$ and $x = [x_1, x_2, ..., x_N]^T$. The objective is to minimize the variance of the return rate. (As practice for the next exam, try deriving this from the error propagation formulas.) This requires the expected return rate to be at least $\\rho$. Finally, the allocation of funds must sum to 100%.\n",
    "\n",
    "Write Python code to solve for $\\rho = 0.08\\%.$ Report both the optimal allocation of funds and the standard deviation of the return rate. \n",
    "*Hint*:\n",
    "1. Be mindful of units.\n",
    "2. You can solve with problem using the Pyomo function given below\n",
    "3. $:=$ means ''defined as''\n",
    "\n",
    "Store your answer in `std_dev`."
   ]
  },
  {
   "cell_type": "code",
   "execution_count": null,
   "metadata": {},
   "outputs": [],
   "source": [
    "R_avg_tolist = R_avg.values.tolist()\n",
    "Cov_list = Cov.values.tolist()\n",
    "\n",
    "# Optimization Problem\n",
    "def create_model(rho,R_avg,Cov):\n",
    "    \n",
    "    '''\n",
    "    This function solves for the optimal allocation of funds in a portfolio \n",
    "    by minimizing the variance of the return rate\n",
    "    \n",
    "    Arguments:\n",
    "        rho: required portfolio expected return\n",
    "        Ravg: average return rates (list)\n",
    "        Cov: covariance matrix\n",
    "        \n",
    "    Returns:\n",
    "        m: Pyomo concrete model\n",
    "    \n",
    "    '''\n",
    "    \n",
    "    m = pyo.ConcreteModel()\n",
    "    init_x = {}\n",
    "    m.idx = pyo.Set(initialize=[0,1,2,3,4])\n",
    "    for i in m.idx:\n",
    "        init_x[i] = 0\n",
    "    m.x = pyo.Var(m.idx,initialize=init_x,bounds=(0,None))\n",
    "    \n",
    "    def Obj_func(m):\n",
    "        b = []\n",
    "        mult_result = 0\n",
    "        for i in m.idx:\n",
    "            a = 0\n",
    "            for j in m.idx:\n",
    "                a+= m.x[j]*Cov[j][i]\n",
    "            b.append(a)\n",
    "        for i in m.idx:\n",
    "            mult_result += b[i]*m.x[i]\n",
    "        \n",
    "        return mult_result\n",
    "    m.OBJ = pyo.Objective(rule=Obj_func)\n",
    "    \n",
    "    def constraint1(m):\n",
    "        # Add your solution here\n",
    "\n",
    "    m.C1 = pyo.Constraint(rule=constraint1)\n",
    "    \n",
    "    def constraint2(m):\n",
    "        # Add your solution here\n",
    "\n",
    "    m.C2 = pyo.Constraint(rule=constraint2)\n",
    "    \n",
    "    return m"
   ]
  },
  {
   "cell_type": "code",
   "execution_count": null,
   "metadata": {},
   "outputs": [],
   "source": [
    "rho = 0.0008\n",
    "model1 = create_model(rho,R_avg_tolist,Cov_list)\n",
    "\n",
    "#Solve Pyomo in the method learned in Class 11\n",
    "\n",
    "# Add your solution here"
   ]
  },
  {
   "cell_type": "code",
   "execution_count": null,
   "metadata": {},
   "outputs": [],
   "source": [
    "# Removed autograder test. You may delete this cell."
   ]
  },
  {
   "cell_type": "markdown",
   "metadata": {},
   "source": [
    "### 3e. Volatility and Expected Return Tradeoff\n",
    "\n",
    "We will now perform sensitivity analysis of the optimization problem in 3d to characterize the tradeoff between return and risk.\n",
    "\n",
    "Write Python code to:\n",
    "1. Solve the optimization problem for many values of $\\rho$ between min($\\bar{r}$) and max($\\bar{r}$) and save the results. Use the Pyomo function created in 3d.\n",
    "2. Plot $\\rho$ versus $\\sqrt{z}$ (using the saved results).\n",
    "3. Write at least one sentence to interpret and discuss your plot."
   ]
  },
  {
   "cell_type": "code",
   "execution_count": null,
   "metadata": {},
   "outputs": [],
   "source": [
    "rho_vals = np.arange(0.0005,0.0038,0.0001)\n",
    "std_dev = []\n",
    "\n",
    "# Add your solution here"
   ]
  },
  {
   "cell_type": "code",
   "execution_count": null,
   "metadata": {},
   "outputs": [],
   "source": [
    "#Plot\n",
    "\n",
    "# Add your solution here"
   ]
  },
  {
   "cell_type": "code",
   "execution_count": null,
   "metadata": {},
   "outputs": [],
   "source": []
  },
  {
   "cell_type": "markdown",
   "metadata": {},
   "source": [
    "**Discussion**:"
   ]
  },
  {
   "cell_type": "markdown",
   "metadata": {
    "id": "X1GR0jYZd-e9"
   },
   "source": [
    "## Submission Instructions and Tips\n",
    "\n",
    "1. Answer discussion questions in this notebook.\n",
    "2. When asked to store a solution in a specific variable, please also print that variable.\n",
    "3. Turn in this notebook via Gradescope.\n",
    "4. Also turn in written (pencil and paper) work via Gradescope.\n",
    "5. Even if you are not required to turn in pseudocode, you should always write pseudocode. It takes only a few minutes and can save you *hours* of time.\n",
    "6. For this assignment especially, read the problem statements twice. They contain important information and tips that are easy to miss on the first read."
   ]
  },
  {
   "cell_type": "markdown",
   "metadata": {},
   "source": []
  }
 ],
 "metadata": {
  "colab": {
   "provenance": []
  },
  "kernelspec": {
   "display_name": "Python 3 (ipykernel)",
   "language": "python",
   "name": "python3"
  },
  "language_info": {
   "codemirror_mode": {
    "name": "ipython",
    "version": 3
   },
   "file_extension": ".py",
   "mimetype": "text/x-python",
   "name": "python",
   "nbconvert_exporter": "python",
   "pygments_lexer": "ipython3",
   "version": "3.10.4"
  }
 },
 "nbformat": 4,
 "nbformat_minor": 4
}
