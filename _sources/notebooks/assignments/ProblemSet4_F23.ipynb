{
 "cells": [
  {
   "cell_type": "markdown",
   "metadata": {},
   "source": [
    "# Problem Set 4\n",
    "\n",
    "CBE 60258, University of Notre Dame. © Prof. Alexander Dowling, 2023\n",
    "\n",
    "You may not distribution the solutions without written permissions from Prof. Alexander Dowling.\n",
    "\n",
    "**Your Name and Email:**"
   ]
  },
  {
   "cell_type": "markdown",
   "metadata": {},
   "source": [
    "## Import Libraries"
   ]
  },
  {
   "cell_type": "code",
   "execution_count": null,
   "metadata": {},
   "outputs": [],
   "source": [
    "import math\n",
    "import numpy as np\n",
    "import matplotlib.pyplot as plt"
   ]
  },
  {
   "cell_type": "markdown",
   "metadata": {},
   "source": [
    "## 1. Measuring Acceleration Two Ways\n",
    "\n",
    "You and a classmate want to measure the acceleration of a cart rolling down an incline plane, but disagree on the best approach. The cart starts at rest and travels distance $l = 1.0$ m. The location of the finish line is measured with negligible uncertainty. You (student 1) measure the instantaneous velocity $v = 3.2 \\pm 0.1 $ m/s at the finish line. Your classmate (student 2) instead measures the elapsed time $t = 0.63 \\pm 0.01$s."
   ]
  },
  {
   "cell_type": "markdown",
   "metadata": {},
   "source": [
    "### 1a. Approach 1\n",
    "\n",
    "Calculate the acceleration for approach 1,\n",
    "\\begin{equation}\n",
    "\ta_1 = \\frac{v^2}{2l} ~,\n",
    "\\end{equation}\n",
    "\n",
    "and estimate the associated uncertainty. Round your answer to the correct number of significant digits and store your answers in variables  `A1` for acceleration and `U_A1` for the uncertainty."
   ]
  },
  {
   "cell_type": "code",
   "execution_count": null,
   "metadata": {},
   "outputs": [],
   "source": [
    "# Add your solution here"
   ]
  },
  {
   "cell_type": "code",
   "execution_count": null,
   "metadata": {
    "nbgrader": {
     "grade": true,
     "grade_id": "acceleration-a",
     "locked": true,
     "points": "0.4",
     "solution": false
    }
   },
   "outputs": [],
   "source": [
    "# Removed autograder test. You may delete this cell."
   ]
  },
  {
   "cell_type": "markdown",
   "metadata": {},
   "source": [
    "### 1b. Approach 2\n",
    "\n",
    "Calculate the acceleration for approach 2,\n",
    "\\begin{equation}\n",
    "\ta_2 = \\frac{2 l}{t^2}~,\n",
    "\\end{equation}\n",
    "\n",
    "and estimate the associated uncertainty. Round your answer to the correct number of significant digits and store your answers in variables  `A2` for acceleration and `U_A2` for the uncertainty."
   ]
  },
  {
   "cell_type": "code",
   "execution_count": null,
   "metadata": {},
   "outputs": [],
   "source": [
    "# Add your solution here"
   ]
  },
  {
   "cell_type": "code",
   "execution_count": null,
   "metadata": {
    "nbgrader": {
     "grade": true,
     "grade_id": "acceleration-b",
     "locked": true,
     "points": "0.4",
     "solution": false
    }
   },
   "outputs": [],
   "source": [
    "# Removed autograder test. You may delete this cell."
   ]
  },
  {
   "cell_type": "markdown",
   "metadata": {},
   "source": [
    "### 1c. Weighted Average\n",
    "\n",
    "A third classmate suggests to use a weighted average of your two calculations:\n",
    "\n",
    "$$\n",
    "\ta_{3} = w a_1 + (1-w) a_2\n",
    "$$\n",
    "\n",
    "where $0 \\leq w \\leq 1$ is the weight you place on the approach 1 calculation calculations. Determine the value of $w$ that minimizes the uncertainty in $a_3$. Do the following steps: \n",
    "1. Make a plot to graphically determine this value of $w$ and from the plot, read the minimum value for $w$ and save it as the variable `weight`. Submit your plot via **Gradescope**.\n",
    "2. Then calculate the acceleration and uncertainty from the above equation. Round your answer for acceleration and corresponding uncertainty to the correct number of significant digits and store your answers in variables  `A3` for acceleration and `U_A3` for the uncertainty. "
   ]
  },
  {
   "cell_type": "code",
   "execution_count": null,
   "metadata": {},
   "outputs": [],
   "source": [
    "# Add your solution here\n",
    "\n",
    "print(\"weight =\",weight)\n",
    "print(\"A3 =\",A3)\n",
    "print(\"U_A3 =\",U_A3)"
   ]
  },
  {
   "cell_type": "code",
   "execution_count": null,
   "metadata": {
    "nbgrader": {
     "grade": true,
     "grade_id": "acceleration-c",
     "locked": true,
     "points": "0.3",
     "solution": false
    }
   },
   "outputs": [],
   "source": [
    "# Removed autograder test. You may delete this cell."
   ]
  },
  {
   "cell_type": "markdown",
   "metadata": {},
   "source": []
  },
  {
   "cell_type": "markdown",
   "metadata": {},
   "source": [
    "### 1d. Analysis\n",
    "\n",
    "Write one or two sentences (each) to answer the following questions:\n",
    "\n",
    "1. If restricted to use only $a_1$ or $a_2$, which would you choose? Why?\n",
    "2. How can a weighted average reduce the uncertainty? Why does this make sense?\n",
    "3. Why does the uncertainty in $a_3$ depend on $w$?\n",
    "\n",
    "Record your answers below."
   ]
  },
  {
   "cell_type": "markdown",
   "metadata": {},
   "source": [
    "Q1:\n",
    "    \n",
    "Q2:\n",
    "    \n",
    "Q3:"
   ]
  },
  {
   "cell_type": "markdown",
   "metadata": {},
   "source": [
    "## 2. Calorimetry for Food Analysis\n",
    "\n",
    "As an intern at Tasty Foods, Inc., you are asked to estimate the caloric content (kilo-calories per gram) of mayo: You burn a $0.40 \\pm 0.01$ gram sample of mayo in a calorimeter and measure a 2.75 $\\pm$ 0.02 $^\\circ{}$C temperature increase. You then calculate caloric content $C$:\n",
    "\n",
    "\\begin{equation}\n",
    "\tC = \\frac{c ~ H ~ \\Delta T}{m} \n",
    "\\end{equation}\n",
    "\n",
    "where $c = 0.2390$ kcal/kJ is a conversion factor. Assume the calorimeter heat capacity $H = 4.0$ kJ/$^\\circ{}$ C is known with negligible uncertainty."
   ]
  },
  {
   "cell_type": "code",
   "execution_count": null,
   "metadata": {},
   "outputs": [],
   "source": [
    "# Add your solution here"
   ]
  },
  {
   "cell_type": "code",
   "execution_count": null,
   "metadata": {},
   "outputs": [],
   "source": [
    "# Removed autograder test. You may delete this cell."
   ]
  },
  {
   "cell_type": "markdown",
   "metadata": {},
   "source": [
    "### 2b. Relative Uncertainty\n",
    "\n",
    "Find the relative uncertainty in $C$ by doing the following:\n",
    "\n",
    "1. Set $\\sigma_m = 0.01 m$ and $\\sigma_{\\Delta T} = 0$ and recalculate $\\sigma_C$. This tells us the impact of 1% uncertainty in $m$. Store your answer as variable `U_C_mass`.\n",
    "2. Set $\\sigma_m = 0$ and $\\sigma_{\\Delta T} = 0.01 \\Delta T$ and recalculate $\\sigma_C$. This tells us the impact of 1% uncertainty in $\\Delta T$. Store your answer as variable `U_C_temperature`.\n",
    "\n",
    "*Hint*: Use the $m$ and $\\Delta T$ data reported above.\n",
    "\n",
    "Remember to store your answer using the correct number of significant digits."
   ]
  },
  {
   "cell_type": "code",
   "execution_count": null,
   "metadata": {},
   "outputs": [],
   "source": [
    "# Add your solution here"
   ]
  },
  {
   "cell_type": "code",
   "execution_count": null,
   "metadata": {},
   "outputs": [],
   "source": [
    "# Removed autograder test. You may delete this cell."
   ]
  },
  {
   "cell_type": "markdown",
   "metadata": {},
   "source": [
    "### 2c. Which is better?\n",
    "\n",
    "Which would provide a greater reduction in $\\sigma_C$: i) reducing the uncertainty in $m$ to 0.005 g OR ii) reducing the uncertainty in $\\Delta T$ to 0.001 $^\\circ{}$C? Do the following steps:\n",
    "1. Calculate the uncertainty for each scenario, storing your variables as i) `Reduce_mass` and ii) `Reduce_temperature`. \n",
    "2. After determining which method would provide a greater reduction in $\\sigma_C$, set the variable `method` equal to either 1, for reducing the uncertainty in mass, or 2, for reducing the uncertainty in temperature, to save which method you found would more significantly reduce $\\sigma_C$.\n",
    "\n",
    "Remember to use the correct number of significant digits."
   ]
  },
  {
   "cell_type": "code",
   "execution_count": null,
   "metadata": {},
   "outputs": [],
   "source": [
    "# Add your solution here"
   ]
  },
  {
   "cell_type": "code",
   "execution_count": null,
   "metadata": {},
   "outputs": [],
   "source": [
    "# Removed autograder test. You may delete this cell."
   ]
  }
 ],
 "metadata": {
  "kernelspec": {
   "display_name": "Python 3 (ipykernel)",
   "language": "python",
   "name": "python3"
  },
  "language_info": {
   "codemirror_mode": {
    "name": "ipython",
    "version": 3
   },
   "file_extension": ".py",
   "mimetype": "text/x-python",
   "name": "python",
   "nbconvert_exporter": "python",
   "pygments_lexer": "ipython3",
   "version": "3.9.12"
  }
 },
 "nbformat": 4,
 "nbformat_minor": 4
}
