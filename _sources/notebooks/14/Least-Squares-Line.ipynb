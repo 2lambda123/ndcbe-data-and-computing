{
 "cells": [
  {
   "cell_type": "markdown",
   "id": "7c45b8cc-4614-4203-aff3-ff294ede69d0",
   "metadata": {},
   "source": [
    "# Simple Least Squares\n",
    "**Further Reading:** §7.2 Navidi (2015)"
   ]
  },
  {
   "cell_type": "markdown",
   "id": "df5ab74d-7179-41e6-9530-ddcb64a22f5e",
   "metadata": {
    "colab_type": "text",
    "id": "9HPF1azhtHFl"
   },
   "source": [
    "## Learning Objectives\n",
    "\n",
    "After studying this notebook and your lecture notes, you should be able to:\n",
    "* Understand how to calculate a best fit line numerically or analytically.\n",
    "* Implement scipy to calculate a line of best fit.\n",
    "* Know when the least squares line is applicable."
   ]
  },
  {
   "cell_type": "code",
   "execution_count": 98,
   "id": "8cfcf935-3991-498e-807e-5abb70215473",
   "metadata": {},
   "outputs": [],
   "source": [
    "import numpy as np\n",
    "import matplotlib.pyplot as plt\n",
    "import scipy.stats as stats"
   ]
  },
  {
   "cell_type": "markdown",
   "id": "34458045-655a-4269-ad5a-caabff374590",
   "metadata": {},
   "source": [
    "## Introduction"
   ]
  },
  {
   "cell_type": "markdown",
   "id": "6f3ea942-e9b9-4b7f-9673-a89283b1fcea",
   "metadata": {},
   "source": [
    "variable | symbol\n",
    ":-: | :-:\n",
    "dependent variable | $y_i$\n",
    "independent variable | $x_i$\n",
    "regression coefficients | $\\beta_0$ , $\\beta_1$\n",
    "random error | \\varepsilon_i$\n",
    "\n",
    "**Linear model:**\n",
    "\n",
    "$$y_i = \\beta_0 + \\beta_1 x_i + \\varepsilon_i$$\n",
    "\n",
    "We measure many $(x_i,y_i$ pairs in lab.\n",
    "\n",
    "Can we compute $\\beta_0$ , $\\beta_1$ exactly?  Why or why not?\n",
    "\n",
    "**Best fit line:**\n",
    "\n",
    "$$\\hat{y} = \\hat{\\beta_0} + \\hat{\\beta_1}x$$\n",
    "\n",
    "where $\\hat{y}$ is the predicted response and $\\beta_0$ , $\\beta_1$ are the fitted coefficients."
   ]
  },
  {
   "cell_type": "markdown",
   "id": "ed95f261-f5ff-4a0a-849a-2efcb2c13ccb",
   "metadata": {},
   "source": [
    "## Computing Best Fit Line"
   ]
  },
  {
   "cell_type": "markdown",
   "id": "556ea28f-e5be-42c1-a555-6666c4d67b1c",
   "metadata": {},
   "source": [
    "$$\\min_{\\beta_0 , \\beta_1} \\sum_{i=1}^n (y_i - \\hat{y_i})^2$$\n",
    "\n",
    "$$\\textrm{(residual) } e_i = y_i - \\hat{y_i}$$\n",
    "\n",
    "Notice inside the parenthesis we have the sum of the error squared.\n",
    "\n",
    "We can compute $\\beta_0$ , $\\beta_1$ either *numerically* or *analytically*.   See the textbook for the full derivation.\n",
    "\n",
    "$$\\hat{\\beta_1} = \\sum_{i=1}^n (x_i - \\bar{x})(y_i - \\bar{y}) = \\frac{s_{x,y}}{s_x^2} = r\\frac{s_y}{s_x}$$\n",
    "\n",
    "$$(s_{x,y} \\textrm{ is sample covariance, }s \\textrm{ is sample variance})$$\n",
    "\n",
    "$$ \\hat{\\beta_0} = \\bar{y} - \\hat{\\beta_1} \\bar{x}$$\n",
    "\n",
    "Scipy also computes best fit as we will see in the example below."
   ]
  },
  {
   "cell_type": "code",
   "execution_count": 107,
   "id": "8661dd69-61e1-408b-80b1-13f1446b6b38",
   "metadata": {},
   "outputs": [
    {
     "data": {
      "image/png": "[encoded data removed]",
      "text/plain": [
       "<Figure size 432x288 with 1 Axes>"
      ]
     },
     "metadata": {
      "needs_background": "light"
     },
     "output_type": "display_data"
    }
   ],
   "source": [
    "# create data\n",
    "xdata = [0,1.5,2,3.2,4,6,7.8]\n",
    "ydata = [1,2.4,3,5.6,6,6.1,6.8]\n",
    "\n",
    "# use scipy.stats.linregress to calculate a line of best fit and extract the key info\n",
    "slope, intercept, r, p, se = stats.linregress(xdata,ydata)\n",
    "\n",
    "# create a lambda function to plot the line of best fit\n",
    "xline = np.linspace(0,8,10)\n",
    "y = lambda x: slope*x + intercept\n",
    "yline = y(xline)\n",
    "\n",
    "# plot data\n",
    "plt.plot(xdata,ydata,'o',label=\"data\")\n",
    "plt.plot(xline,yline,'-',label=\"best fit line\")\n",
    "plt.legend()\n",
    "plt.show()"
   ]
  },
  {
   "cell_type": "markdown",
   "id": "d841d87b-5df3-4dd8-b07d-d0d92e54a186",
   "metadata": {},
   "source": [
    "## Warnings:\n",
    "\n",
    "* Estimates $\\beta_0$ , $\\beta_1$ are not the same as true values. $\\beta_0$ , $\\beta_1$ are random variables because of measurement error.\n",
    "* The residuals $e_i$ are not the same as error $\\epsilon_i$."
   ]
  },
  {
   "cell_type": "code",
   "execution_count": 70,
   "id": "a3b63a22-c602-479f-b262-6a0fe632cf31",
   "metadata": {
    "tags": [
     "hide-input"
    ]
   },
   "outputs": [
    {
     "data": {
      "image/png": "[encoded data removed]",
      "text/plain": [
       "<Figure size 432x288 with 1 Axes>"
      ]
     },
     "metadata": {
      "needs_background": "light"
     },
     "output_type": "display_data"
    }
   ],
   "source": [
    "x1 = [0,5]\n",
    "y1 = [0,5]\n",
    "\n",
    "x2 = [0,5]\n",
    "y2 = [0.25,4]\n",
    "\n",
    "xpoint1 = 4\n",
    "ypoint1 = 4.5\n",
    "\n",
    "xpoint2 = 4\n",
    "ypoint2 = 3.25\n",
    "\n",
    "xline1 = [3.98,3.98]\n",
    "yline1 = [4,4.5]\n",
    "\n",
    "xline2 = [4.02,4.02]\n",
    "yline2 = [3.25,4.5]\n",
    "\n",
    "plt.plot(x1,y1,'g',label=\"true line\")\n",
    "plt.plot(x2,y2,'b--',label=\"best fit line\")\n",
    "plt.plot(xpoint1,ypoint1,'ro')\n",
    "plt.plot(xline1,yline1,'r',label=\"$\\epsilon_i$\")\n",
    "plt.plot(xpoint2,ypoint2,'mo')\n",
    "plt.plot(xline2,yline2,'m',label=\"$e_i$\")\n",
    "plt.text(4,4.7,'($x_i$,$y_i$)')\n",
    "plt.text(3.8,4.1,'$\\epsilon_i$')\n",
    "plt.text(4.1,3.7,'$e_i$')\n",
    "plt.legend()\n",
    "plt.show()"
   ]
  },
  {
   "cell_type": "markdown",
   "id": "71442470-81dc-4b1b-b657-360d8da12193",
   "metadata": {},
   "source": [
    "* Do NOT extrapolate outside the range of the data.\n",
    "* Do NOT use the least-squares line when the data are not **linear**.\n"
   ]
  },
  {
   "cell_type": "code",
   "execution_count": 94,
   "id": "0858d71b-89fe-4036-9d01-4d7bd557e6ca",
   "metadata": {
    "tags": [
     "hide-input"
    ]
   },
   "outputs": [
    {
     "data": {
      "image/png": "[encoded data removed]",
      "text/plain": [
       "<Figure size 432x288 with 1 Axes>"
      ]
     },
     "metadata": {
      "needs_background": "light"
     },
     "output_type": "display_data"
    }
   ],
   "source": [
    "xpts = [1,1.8,2.5,3,4,5,6,7,8,9]\n",
    "ypts = [8,7.9,7.8,7.65,7.3,6.8,6,5.1,4.05,2]\n",
    "\n",
    "xline = [0,10]\n",
    "yline = [9,2]\n",
    "\n",
    "plt.plot(xpts,ypts,'o')\n",
    "plt.plot(xline,yline,'g')\n",
    "plt.xlim([0,10])\n",
    "plt.ylim([0,10])\n",
    "plt.title('Data is not linear, do not use least-squares line')\n",
    "plt.show()"
   ]
  },
  {
   "cell_type": "markdown",
   "id": "97621fbf-f0d8-4127-800d-2f5219d80ee4",
   "metadata": {},
   "source": [
    "## Measuring Goodness-of-Fit"
   ]
  },
  {
   "cell_type": "markdown",
   "id": "04da4c46-c131-4ffb-994e-94fc76d42306",
   "metadata": {},
   "source": [
    "How well does the model explain the data?\n",
    "\n",
    "**Coefficient of determination:**\n",
    "\n",
    "$$r^2 = \\frac{\\sum_{i=1}^n (y_i - \\bar{y})^2 - \\sum_{i=1}^n (y_i - \\hat{y_i})^2}{\\sum_{i=1}^n (y_i - \\bar{y})^2}$$\n",
    "\n",
    "$$ = \\frac{\\textrm{regression sum of squares}}{\\textrm{total sum of squares}}$$\n",
    "\n",
    "Interpretation: proportion of the variance in $y$ explained by regression.\n",
    "\n",
    "See the textbook for the derivation of the $r^2$ formula."
   ]
  }
 ],
 "metadata": {
  "kernelspec": {
   "display_name": "Python 3",
   "language": "python",
   "name": "python3"
  },
  "language_info": {
   "codemirror_mode": {
    "name": "ipython",
    "version": 3
   },
   "file_extension": ".py",
   "mimetype": "text/x-python",
   "name": "python",
   "nbconvert_exporter": "python",
   "pygments_lexer": "ipython3",
   "version": "3.8.8"
  }
 },
 "nbformat": 4,
 "nbformat_minor": 5
}
