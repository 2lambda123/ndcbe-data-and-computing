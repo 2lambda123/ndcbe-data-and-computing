{
 "cells": [
  {
   "cell_type": "markdown",
   "metadata": {
    "colab_type": "text",
    "id": "-TCEOdC63rfp"
   },
   "source": [
    "# Lecture 8: Finite Difference Derivative Approximations\n",
    "\n",
    "CBE 20258. Numerical and Statistical Analysis. Spring 2020.\n",
    "\n",
    "&#169; University of Notre Dame"
   ]
  },
  {
   "cell_type": "markdown",
   "metadata": {
    "colab_type": "text",
    "id": "L9wfcwRx3rfr"
   },
   "source": [
    "## 8a. Motivation\n",
    "\n",
    "### 8a-i. Class Roadmap\n",
    "\n",
    "During the first four class sessions (and tutorials and homework), we learned how to plan algorithms with pseudocode  to write Python code:\n",
    "* 1 Getting Started in Python\n",
    "* 2 Functions, Scoping, and Recursion\n",
    "* 3 Numpy and Matplotlib\n",
    "* 4 Dictionaries and Functions as Arguments\n",
    "\n",
    "We then reviewed mathematical modeling of chemical engineering systems:\n",
    "* 5 Mathematical Modeling: Linear and Algebriac Equations\n",
    "\n",
    "And then we learned how to efficiently solve systems of linear equations numerically:\n",
    "* 6 Gaussian Elimination\n",
    "* 7 LU Factorization\n",
    "\n",
    "In **this class**, we will learn how to numerically approximate derivatives:\n",
    "* 8 Taylor Series and Finite Difference Approximations\n",
    "\n",
    "In class sessions 9 - 12, we will see that algorithms to *solve nonlinear and integration problems* build on two core concepts:\n",
    "* Numeric approximations of derivatives\n",
    "* Solving a series of linear systems\n",
    "\n",
    "We will also review Taylor series approximations in this lecture, which are used throughout the class.\n",
    "\n",
    "### 8a-ii. Why numeric approximation?\n",
    "\n",
    "You may recall that calculus usually deals with limits of some quantity that can be made arbitrarily small.  Nevertheless, when dealing with numerical methods we never actually have an infinitesimal value, rather we can only make quantities finitely small.  This introduces a **necessary approximation** whenever we do calculus on a computer. This contrasts to the direct solution of linear equations where we get the exact solution, up to computer round off.  In calculus we have additional errors as we will see in our first example of numerical calculus: the estimation of derivatives."
   ]
  },
  {
   "cell_type": "markdown",
   "metadata": {},
   "source": [
    "## 8b. Calculus Revisited: Derivates and Taylor Series"
   ]
  },
  {
   "cell_type": "markdown",
   "metadata": {
    "colab_type": "text",
    "id": "XXYeEWDw3rfr"
   },
   "source": [
    "### 8b-i. The definition of a derivative"
   ]
  },
  {
   "cell_type": "markdown",
   "metadata": {
    "colab_type": "text",
    "id": "bjpA8uZu3rfs"
   },
   "source": [
    "You may recall from Calculus I that a derivative is defined as the following limit\n",
    "\n",
    "$$ f'(x) = \\frac{df}{dx} = \\lim_{h\\rightarrow 0} \\frac{f(x+h) - f(x)}{h}.$$\n",
    "\n",
    "On a computer we cannot evaluate the derivative using an infinitesimally small value for $h$.  The formulae that we derive will be called **finite difference derivatives** because $h$ will have a finite value rather than an infinitesimally small one. In one of our formulae we will approximate the derivative in the same manner as the above equation using\n",
    "$$ f'(x) \\approx \\frac{f(x+h) - f(x)}{h}.$$ The error we incur in doing so will also be discussed."
   ]
  },
  {
   "cell_type": "markdown",
   "metadata": {
    "colab_type": "text",
    "id": "GoV_WtA-3rfu"
   },
   "source": [
    "### 8b-ii. Taylor Series and Big-O notation"
   ]
  },
  {
   "cell_type": "markdown",
   "metadata": {
    "colab_type": "text",
    "id": "Ey5mhgGI3rfu"
   },
   "source": [
    "For a function $f(x)$ we can approximate it near a point $x$ using the Taylor series\n",
    "\n",
    "$$f(x + h) = f(x) + h f'(x) + \\frac{h^2}{2} f''(x) + \\frac{h^3}{6}f'''(x) + \\dots.$$\n",
    "\n",
    "One way that this is commonly written is using a particular notation instead of the \"$\\dots$\":\n",
    "\n",
    "$$f(x + h) = f(x) + h f'(x) + \\frac{h^2}{2} f''(x) + \\frac{h^3}{6}f'''(x) + O(h^4).$$\n",
    "\n",
    "The $O(h^4)$ means that the rest of the terms will be proportional to $h^4$ as $h\\rightarrow 0$.  We can see this through a simple example via Python.\n",
    "\n",
    "### 8b-iii. Example: Approximating Cosine\n",
    "\n",
    "Consider $f(x) = \\cos(x)$."
   ]
  },
  {
   "cell_type": "markdown",
   "metadata": {},
   "source": [
    "<div style=\"background-color: rgba(0,255,0,0.05) ; padding: 10px; border: 1px solid darkgreen;\"> \n",
    "<b>Home Activity</b>: Analytically compute the first three derivatives of $f(x)$. Hint: you may need to look up some basic differentiation rules. Then evaluate the derivates at $x=0$. Record your answer in the text/Markdown cell below.\n",
    "</div>"
   ]
  },
  {
   "cell_type": "markdown",
   "metadata": {},
   "source": [
    "**Home Activity Answers**\n",
    "\n",
    "(keep in terms of $x$) $f'(x) = $\n",
    "\n",
    "(substitute to remove $x$) $f'(0) = $\n",
    "\n",
    "$f''(x) = $\n",
    "\n",
    "$f''(0) = $\n",
    "\n",
    "$f'''(x) = $\n",
    "\n",
    "$f'''(0) = $"
   ]
  },
  {
   "cell_type": "markdown",
   "metadata": {},
   "source": [
    "We will now construct a Taylor series appoximation to $f(x) = \\cos(x)$ centered at the point $x=0$. We do this by substituting the values you calculated in the Home Activity into the general Taylor series formula:\n",
    "\n",
    "$$f(x + h) = f(x) + h f'(x) + \\frac{h^2}{2} f''(x) + \\frac{h^3}{6}f'''(x) + O(h^4)$$\n",
    "\n",
    "To obtain:\n",
    "\n",
    "$$\\cos h \\approx \\cos 0 - h \\sin 0 - \\frac{h^2}{2} \\cos 0 + \\frac{h^3}{6} \\sin 0 + O(h^4)$$"
   ]
  },
  {
   "cell_type": "markdown",
   "metadata": {},
   "source": [
    "<div style=\"background-color: rgba(0,255,0,0.05) ; padding: 10px; border: 1px solid darkgreen;\"> \n",
    "<b>Home Activity</b>: Watch the first 6 minutes of <a href = \"https://youtu.be/3d6DsjIBzJ4\">this video</a> then answer the questions below. You many need to search YouTube for <i>3BLUE1BROWN SERIES, S2 E11, Taylor series</i> if the link has issues.\n",
    "</div>"
   ]
  },
  {
   "cell_type": "markdown",
   "metadata": {},
   "source": [
    "**Home Multiple Choice Questions**:\n",
    "\n",
    "At $x = 0$ and $h = 0$, which derivates of our Taylor series and the true function f$(x)$ match exactly? Choose all that apply:\n",
    "1. First derivatives match\n",
    "2. Second derivates match\n",
    "3. Third derivates match\n",
    "4. Fourth derivates match\n",
    "5. Fifth derivates match"
   ]
  },
  {
   "cell_type": "markdown",
   "metadata": {},
   "source": [
    "Record your answer below in the Python list `my_answer`. Please use only integers (no decimals!)."
   ]
  },
  {
   "cell_type": "code",
   "execution_count": 1,
   "metadata": {
    "collapsed": true
   },
   "outputs": [],
   "source": [
    "### BEGIN SOLUTION\n",
    "my_answer = [1, 2, 3]\n",
    "### END SOLUTION"
   ]
  },
  {
   "cell_type": "code",
   "execution_count": 2,
   "metadata": {
    "collapsed": true,
    "nbgrader": {
     "grade": true,
     "grade_id": "9b-iii-multiple-choice",
     "locked": true,
     "points": "1",
     "solution": false
    }
   },
   "outputs": [],
   "source": [
    "### BEGIN HIDDEN TESTS\n",
    "\n",
    "assert 1 in my_answer, \"Watch the video again. Pay attention between minutes 7 and 8.\"\n",
    "\n",
    "assert 2 in my_answer, \"Watch the video again. Pay attention between minutes 7 and 8.\"\n",
    "\n",
    "assert 3 in my_answer, \"Watch the video again. Pay attention between minutes 7 and 8.\"\n",
    "\n",
    "assert 4 not in my_answer, \"Watch the video again. Pay attention between minutes 7 and 8.\"\n",
    "\n",
    "assert 5 not in my_answer, \"Watch the video again. Pay attention between minutes 7 and 8.\"\n",
    "\n",
    "### END HIDDEN TESTS"
   ]
  },
  {
   "cell_type": "markdown",
   "metadata": {},
   "source": [
    "We will now plot the difference between $\\cos h$ and the third-order Taylor series as a function of $h$ on a log-log scale. Please take a few minutes to study the code below. Carefully read the comments."
   ]
  },
  {
   "cell_type": "code",
   "execution_count": 3,
   "metadata": {
    "colab": {
     "base_uri": "https://localhost:8080/",
     "height": 578
    },
    "colab_type": "code",
    "executionInfo": {
     "elapsed": 1823,
     "status": "ok",
     "timestamp": 1550146825954,
     "user": {
      "displayName": "Alexander Dowling",
      "photoUrl": "https://lh3.googleusercontent.com/-LChdQ2m5OQE/AAAAAAAAAAI/AAAAAAAAAA0/JeXJe4vQJ7M/s64/photo.jpg",
      "userId": "00988067626794866502"
     },
     "user_tz": 300
    },
    "id": "BhMFIwVL3rfu",
    "outputId": "a0acfc91-2d7f-4c3a-e1ca-eec01d2a4e01"
   },
   "outputs": [
    {
     "name": "stdout",
     "output_type": "stream",
     "text": [
      "The Slope of the error on log-log scale is 3.9974955061239656\n"
     ]
    },
    {
     "data": {
      "image/png": "[encoded data removed]",
      "text/plain": [
       "<Figure size 432x288 with 1 Axes>"
      ]
     },
     "metadata": {},
     "output_type": "display_data"
    },
    {
     "data": {
      "image/png": "[encoded data removed]",
      "text/plain": [
       "<Figure size 432x288 with 1 Axes>"
      ]
     },
     "metadata": {},
     "output_type": "display_data"
    }
   ],
   "source": [
    "import math\n",
    "import numpy as np\n",
    "import matplotlib.pyplot as plt\n",
    "#this next line is only needed in iPython notebooks\n",
    "%matplotlib inline \n",
    "import matplotlib\n",
    "import math\n",
    "import matplotlib.font_manager as fm\n",
    "import matplotlib.ticker as mtick\n",
    "\n",
    "def hide_spines(intx=False,inty=False):\n",
    "    \"\"\"Hides the top and rightmost axis splines from view for all active\n",
    "    figures and their respective axes.\n",
    "    \n",
    "    You do not need to understand how this function works. For now, just think\n",
    "    'this function helps format the plots'.\n",
    "    \"\"\"\n",
    "\n",
    "    # Retrieve a list of all current figures.\n",
    "    figures = [x for x in matplotlib._pylab_helpers.Gcf.get_all_fig_managers()]\n",
    "    if (plt.gca().get_legend()):\n",
    "        plt.setp(plt.gca().get_legend().get_texts(), fontproperties=font, size=18) \n",
    "    for figure in figures:\n",
    "        # Get all Axis instances related to the figure.\n",
    "        for ax in figure.canvas.figure.get_axes():\n",
    "            # Disable spines.\n",
    "            ax.spines['right'].set_color('none')\n",
    "            ax.spines['top'].set_color('none')\n",
    "            # Disable ticks.\n",
    "            ax.xaxis.set_ticks_position('bottom')\n",
    "            ax.yaxis.set_ticks_position('left')\n",
    "           # ax.xaxis.set_major_formatter(mtick.FuncFormatter(lambda v,_: (\"10$^{%d}$\" % math.log(v,10)) ))\n",
    "            for label in ax.get_xticklabels() :\n",
    "                label.set_fontproperties(font)\n",
    "            for label in ax.get_yticklabels() :\n",
    "                label.set_fontproperties(font)\n",
    "            #ax.set_xticklabels(ax.get_xticks(), fontproperties = font)\n",
    "            ax.set_xlabel(ax.get_xlabel(), fontproperties = font)\n",
    "            ax.set_ylabel(ax.get_ylabel(), fontproperties = font)\n",
    "            ax.set_title(ax.get_title(), fontproperties = font)\n",
    "            if (inty):\n",
    "                ax.yaxis.set_major_formatter(mtick.FormatStrFormatter('%d'))\n",
    "            if (intx):\n",
    "                ax.xaxis.set_major_formatter(mtick.FormatStrFormatter('%d'))\n",
    "\n",
    "# Define the function of interest and its derivates\n",
    "f = lambda x: np.cos(x)\n",
    "fprime =  lambda x: -np.sin(x)\n",
    "fprime2 =  lambda x: -np.cos(x)\n",
    "fprime3 =  lambda x: np.sin(x)\n",
    "\n",
    "# Define the domain to investigate x\n",
    "# Recall the syntax of linspace: start at -1.5 and end at 1.5 with 100 evenly spaced points\n",
    "x = np.linspace(-1.5,1.5,100)\n",
    "\n",
    "## Create first figure\n",
    "plt.figure()\n",
    "\n",
    "# Plot the true function\n",
    "plt.plot(x,f(x),label=\"$\\cos \\,x$\")\n",
    "\n",
    "# Plot the Taylor series approximation\n",
    "plt.plot(x,f(0) + x*fprime(0) + x**2/2*fprime2(0) + x**3/6*fprime3(0),\n",
    "         \"--\",label=\"3rd order Taylor Series\")\n",
    "plt.legend(loc=\"best\")\n",
    "plt.xlabel(\"x\")\n",
    "plt.ylabel(\"f(x)\")\n",
    "\n",
    "## end first figure\n",
    "\n",
    "## Second figure: approximation error versus perturbation size h\n",
    "\n",
    "# Define the values of h to try. Recall '**' means 'raised to the power'\n",
    "h = 2**np.array([0,-1.0,-2,-3,-4,-5,-6])\n",
    "\n",
    "# Create two arrays of zeros to store the results\n",
    "fapprox = 0*h\n",
    "fexact = 0*h\n",
    "\n",
    "# Set counter to zero\n",
    "count = 0\n",
    "\n",
    "# Specify value of x to compute approximation error\n",
    "x = 0.5\n",
    "\n",
    "# loop over values of h\n",
    "for i in h:\n",
    "    \n",
    "    # calculate approximation for f(x + h)\n",
    "    fapprox[count] = f(x) + i * fprime(x) + 0.5*i**2*fprime2(x) + 1.0/6.0*i**3*fprime3(x)\n",
    "    \n",
    "    # calculate true function value, i.e., f(x+h) \n",
    "    fexact[count] = f(x+i)\n",
    "    \n",
    "    # increase counter by 1\n",
    "    count += 1\n",
    "    \n",
    "# calculate absolute value of error\n",
    "errors = np.fabs(fapprox-fexact)\n",
    "\n",
    "# Create second figure\n",
    "plt.figure()\n",
    "plt.loglog(h,errors,'o-')\n",
    "plt.title(\"Absolute Error on Log-Log Scale\")\n",
    "plt.xlabel(\"h\")\n",
    "plt.ylabel(\"Approximation error near $x$ = \" + str(x))\n",
    "print(\"The Slope of the error on log-log scale is\",(np.log(errors[-1])-np.log(errors[-2]))/(np.log(h[-1])-np.log(h[-2])))\n",
    "\n",
    "## End second figure\n"
   ]
  },
  {
   "cell_type": "markdown",
   "metadata": {},
   "source": [
    "<div style=\"background-color: rgba(0,255,0,0.05) ; padding: 10px; border: 1px solid darkgreen;\"> \n",
    "<b>Home Activity</b>: Write at least one question you have about the code above.\n",
    "</div>"
   ]
  },
  {
   "cell_type": "markdown",
   "metadata": {},
   "source": [
    "**Home Activity Answer**:"
   ]
  },
  {
   "cell_type": "markdown",
   "metadata": {},
   "source": [
    "<div style=\"background-color: rgba(0,0,255,0.05) ; padding: 10px; border: 1px solid darkblue;\"> \n",
    "<b>Class Activity</b>: With your neighbor, walk through the code together. For the first five minutes, one person should explain the code to the other person. After 5 minutes, switch roles. As you go, discuss the questions you wrote down during the home activity. Make a list of questions to ask in class.\n",
    "</div>"
   ]
  },
  {
   "cell_type": "markdown",
   "metadata": {},
   "source": [
    "<div style=\"background-color: rgba(0,0,255,0.05) ; padding: 10px; border: 1px solid darkblue;\"> \n",
    "<b>Class Activity</b>: Using the definition of a Taylor series, show why the slope in the above graph is very close to 4.\n",
    "</div>"
   ]
  },
  {
   "cell_type": "markdown",
   "metadata": {
    "colab_type": "text",
    "id": "DR2siTaw3rf1"
   },
   "source": [
    "You might ask yourself, why is the slope 4?  Let's look at the equation for the error:\n",
    "$$f(x+h) - \\left(f(x) + h f'(x) + \\frac{h^2}{2} f''(x) + \\frac{h^3}{6}f'''(x)\\right) = C h^4 + O(h^5),$$\n",
    "in this equation we have used the fact that $O(h^4)$ means some constant, which here we call $C$, times $h^4$. The remaining terms we have written as $O(h^5)$.\n",
    "\n",
    "When we take the absolute value and the logarithm of each side we get\n",
    "$$\\log_{10}\\left|f(x+h) - \\left(f(x) + h f'(x) + \\frac{h^2}{2} f''(x) + \\frac{h^3}{6}f'''(x)\\right)\\right| \\approx \\log_{10}|C| + 4 \\log_{10}h,$$ which is a line with slope 4.  The constant tells us what level the curve starts out at when $h=1$. This formula is approximate because we have left out the $h^5$ and higher terms, which we assume to be small since $h$ is small in our demonstration above. "
   ]
  },
  {
   "cell_type": "markdown",
   "metadata": {
    "colab_type": "text",
    "id": "0VdGTrwN3rf2"
   },
   "source": [
    "## 8c. Our first finite difference formulae\n",
    "\n",
    "### 8c-i. Forward Finite Difference"
   ]
  },
  {
   "cell_type": "markdown",
   "metadata": {
    "colab_type": "text",
    "id": "0wsyYuqN3rf3"
   },
   "source": [
    "From the Taylor series at $x+h$,\n",
    "$$f(x + h) = f(x) + h f'(x) + \\frac{h^2}{2} f''(x) + \\frac{h^3}{6}f'''(x) + O(h^4),$$\n",
    "we notice that there is an $f'(x)$ term in the equation.  If we \"solve\" for this derivative by subtracting $f(x)$ from both sides and then dividing by $h$ we get\n",
    "$$\\frac{f(x+h) - f(x)}{h} = f'(x) + \\frac{h}{2} f''(x) + \\frac{h^2}{6}f'''(x) + O(h^3),$$\n",
    "or in shorter form\n",
    "$$\\frac{f(x+h) - f(x)}{h} = f'(x) + O(h).$$ Therefore the approximation\n",
    "$$f'(x) \\approx \\frac{f(x+h) - f(x)}{h},$$ is an <b>order $h$</b> approximation because the error is proportional to $h$ as $h$ goes to 0. This is called a forward difference formula because the function is evaluated $h$ forward of $x$ to approximate the derivative.\n",
    "\n",
    "### 8c-ii. Backward Finite Difference\n",
    "\n",
    "We did this using $f(x+h)$ in our formula, but we could have also used $f(x-h)$ which has the Taylor series\n",
    "$$f(x - h) = f(x) - h f'(x) + \\frac{h^2}{2} f''(x) - \\frac{h^3}{6}f'''(x) + O(h^4),$$\n",
    "to get the formula\n",
    "$$\\frac{f(x) - f(x-h)}{h} = f'(x) + O(h).$$ Therefore the approximation\n",
    "$$f'(x) \\approx \\frac{f(x) - f(x-h)}{h},$$ is also an <b>order $h$</b> approximation because the error is proportional to $h$ as $h$ goes to 0. This formula is a backward difference formula because the function is evaluated $h$ behind $x$."
   ]
  },
  {
   "cell_type": "markdown",
   "metadata": {},
   "source": [
    "### 8c-iii. Example to Compare the Approximations\n",
    "\n",
    "Consider the function $$f(x) =  \\arctan(x) \\cosh(x),$$ which is plotted below."
   ]
  },
  {
   "cell_type": "code",
   "execution_count": 4,
   "metadata": {},
   "outputs": [
    {
     "data": {
      "image/png": "[encoded data removed]",
      "text/plain": [
       "<Figure size 432x288 with 1 Axes>"
      ]
     },
     "metadata": {},
     "output_type": "display_data"
    }
   ],
   "source": [
    "# define Python function\n",
    "f = lambda x: np.cosh(x)*np.arctan(x)\n",
    "\n",
    "# plot from 0 to 2 with 100 evenly spaced points\n",
    "xplot = np.linspace(0,2,100)\n",
    "\n",
    "# evaluate function at points xplot\n",
    "fplot = f(xplot)\n",
    "\n",
    "# create plot\n",
    "plt.plot(xplot,fplot,'b-')\n",
    "plt.plot(1.0, f(1.0),'r.',markersize=15)\n",
    "plt.xlabel('x')\n",
    "plt.ylabel('f(x)')\n",
    "plt.show()"
   ]
  },
  {
   "cell_type": "markdown",
   "metadata": {},
   "source": [
    "We want to numerically approximate $f'(x)$ at $x=1$ (red circle on the plot). The actual answer is $f'(1) = 1.694541176517952557683135$.\n",
    "\n",
    "Below is Python code to compute a finite difference approximation at $x=1$ for different $h$ values. We then graphically study how the approximation error depends on $h$."
   ]
  },
  {
   "cell_type": "code",
   "execution_count": 5,
   "metadata": {},
   "outputs": [
    {
     "name": "stdout",
     "output_type": "stream",
     "text": [
      "Forward Difference slope on log-log scale is 1.010405053694006\n"
     ]
    },
    {
     "data": {
      "image/png": "[encoded data removed]",
      "text/plain": [
       "<Figure size 432x288 with 1 Axes>"
      ]
     },
     "metadata": {},
     "output_type": "display_data"
    }
   ],
   "source": [
    "# define Python function (I did not need to do this because 'f' is defined in the previous cell)\n",
    "f = lambda x: np.cosh(x)*np.arctan(x)\n",
    "\n",
    "# specify values of h to study\n",
    "h = 2**np.array([1,0,-1.0,-2,-3,-4,-5,-6])\n",
    "\n",
    "# create vector of zeros to store results\n",
    "forward = 0*h #variable to hold forward difference \n",
    "\n",
    "# activity: uncomment line below\n",
    "# backward = 0*h #variable to hold backward difference \n",
    "\n",
    "# create counter\n",
    "count = 0\n",
    "\n",
    "# define exact solution\n",
    "exact = 1.694541176517952557683135\n",
    "\n",
    "# specify value of x to study\n",
    "x = 1\n",
    "\n",
    "# loop over all values for h\n",
    "for i in h:\n",
    "    \n",
    "    # compute forward finite difference approximation\n",
    "    forward[count] = (f(x+i) - f(x))/i\n",
    "    \n",
    "    # activity: uncomment and complete line below\n",
    "    # backward[count] = # student fill in here\n",
    "    count += 1\n",
    "    \n",
    "# plot absolute value of approximation error versus h on log-log plot\n",
    "plt.loglog(h,np.fabs(forward-exact),'o-',label=\"Forward Difference\")\n",
    "\n",
    "# activity: copy the line above and modify to plot results with backwards difference formula \n",
    "\n",
    "plt.legend(loc=\"best\")\n",
    "plt.title(\"Absolute Error on Log-Log Scale\")\n",
    "plt.xlabel(\"h\")\n",
    "plt.ylabel(\"Absolute Error\")\n",
    "\n",
    "#print FD error slope\n",
    "errors = np.fabs(forward-exact)\n",
    "print(\"Forward Difference slope on log-log scale is\",(np.log(errors[-1])-np.log(errors[-2]))/(np.log(h[-1])-np.log(h[-2])))\n",
    "\n",
    "# activity: copy the two lines above and modify for backward difference formula"
   ]
  },
  {
   "cell_type": "markdown",
   "metadata": {},
   "source": [
    "Remember, the plot above uses a log-log scale. The linear trend with slope one means the absolute error grows $O(h^1)$. Notice that for $h$ values around 10$^0$ and higher, the slope increases."
   ]
  },
  {
   "cell_type": "markdown",
   "metadata": {},
   "source": [
    "<div style=\"background-color: rgba(0,255,0,0.05) ; padding: 10px; border: 1px solid darkgreen;\"> \n",
    "<b>Home Activity</b>: Copy the above Python code to the cell below. Then adapt the code to also study the backward finite difference formula. Look for the comments that say \"activity\" for hints where to modify.\n",
    "</div>"
   ]
  },
  {
   "cell_type": "code",
   "execution_count": 6,
   "metadata": {},
   "outputs": [
    {
     "name": "stdout",
     "output_type": "stream",
     "text": [
      "Forward Difference slope on log-log scale is 1.010405053694006\n",
      "Backward Difference slope on log-log scale is 0.989507882880635\n"
     ]
    },
    {
     "data": {
      "image/png": "[encoded data removed]",
      "text/plain": [
       "<Figure size 432x288 with 1 Axes>"
      ]
     },
     "metadata": {},
     "output_type": "display_data"
    }
   ],
   "source": [
    "# define Python function (I did not need to do this because 'f' is defined in the previous cell)\n",
    "f = lambda x: np.cosh(x)*np.arctan(x)\n",
    "\n",
    "# specify values of h to study\n",
    "h = 2**np.array([1,0,-1.0,-2,-3,-4,-5,-6])\n",
    "\n",
    "# create vector of zeros to store results\n",
    "forward = 0*h #variable to hold forward difference \n",
    "\n",
    "# activity: uncomment line below\n",
    "backward = 0*h #variable to hold backward difference \n",
    "\n",
    "# create counter\n",
    "count = 0\n",
    "\n",
    "# define exact solution\n",
    "exact = 1.694541176517952557683135\n",
    "\n",
    "# specify value of x to study\n",
    "x = 1\n",
    "\n",
    "# loop over all values for h\n",
    "for i in h:\n",
    "    \n",
    "    # compute forward finite difference approximation\n",
    "    forward[count] = (f(x+i) - f(x))/i\n",
    "    \n",
    "    # activity: uncomment and complete line below\n",
    "    backward[count] = (f(x)-f(x-i))/i\n",
    "    count += 1\n",
    "    \n",
    "# plot absolute value of approximation error versus h on log-log plot\n",
    "plt.loglog(h,np.fabs(forward-exact),'o-',label=\"Forward Difference\")\n",
    "plt.loglog(h,np.fabs(backward-exact),'o-',label=\"Backward Difference\")\n",
    "# activity: copy the line above and modify to plot results with backwards difference formula \n",
    "\n",
    "plt.legend(loc=\"best\")\n",
    "plt.title(\"Absolute Error on Log-Log Scale\")\n",
    "plt.xlabel(\"h\")\n",
    "plt.ylabel(\"Absolute Error\")\n",
    "\n",
    "#print FD error slope\n",
    "errors = np.fabs(forward-exact)\n",
    "print(\"Forward Difference slope on log-log scale is\",(np.log(errors[-1])-np.log(errors[-2]))/(np.log(h[-1])-np.log(h[-2])))\n",
    "\n",
    "# activity: copy the two lines above and modify for backward difference formula\n",
    "errors = np.fabs(backward-exact)\n",
    "print(\"Backward Difference slope on log-log scale is\",(np.log(errors[-1])-np.log(errors[-2]))/(np.log(h[-1])-np.log(h[-2])))\n"
   ]
  },
  {
   "cell_type": "markdown",
   "metadata": {
    "colab_type": "text",
    "id": "pR5N-B4h3rf4"
   },
   "source": [
    "## 8d. Higher-order Approximations\n",
    "\n",
    "Both of the forward and backward formulas for the derivative are first-order in $h$.  These formulas are fine, but as we will see when we solve differential equations, first-order solutions typically have too much error for our purposes.  We desire a way of getting higher-order approximations to the derivative.\n",
    "\n",
    "### 8d-i. Central Difference Formula\n",
    "\n",
    "We will start with the **central difference formula**:\n",
    "\n",
    "$$\\frac{f(x+h) - f(x-h)}{2h} \\approx f'(x)$$\n"
   ]
  },
  {
   "cell_type": "markdown",
   "metadata": {},
   "source": [
    "<div style=\"background-color: rgba(0,0,255,0.05) ; padding: 10px; border: 1px solid darkblue;\"> \n",
    "<b>Class Activity</b>: With a partner, determine the error order of the central difference formula. Use the following steps.\n",
    "</div>"
   ]
  },
  {
   "cell_type": "markdown",
   "metadata": {},
   "source": [
    "1. Copy the Taylor series approximations $f(x + h)$ and $f(x-h)$ on a new sheet of paper.\n",
    "2. Subtract $f(x-h)$ from $f(x + h)$ to get $(f(x+h) - f(x-h))$\n",
    "3. Cancel terms, divide by $2h$, and rearrange to obtain\n",
    "\n",
    "$$\\frac{f(x+h) - f(x-h)}{2h} = f'(x) ~+~ ...$$\n",
    "\n",
    "4. Examine the ... part to determine the error order. How does is grow with $h$?"
   ]
  },
  {
   "cell_type": "markdown",
   "metadata": {
    "colab_type": "text",
    "id": "ke3HVQIi3rf5"
   },
   "source": [
    "**Discussion for after class activity.**\n",
    "\n",
    "The approximation\n",
    "$$f'(x) \\approx \\frac{f(x+h) - f(x-h)}{2h},$$\n",
    "\n",
    "is an <b>order $h^2$</b> approximation because the error is proportional to $h^2$ as $h$ goes to 0.\n",
    "\n",
    "This is called a central-difference formula because the function is evaluated around a center of $x$ a value of $h$ on either side. One thing to note is that the error terms in this approximation only have even powers of $h$ because of the way the odd powers cancel when combining the two.\n",
    "\n",
    "With a second-order approximation, if I cut $h$ in half, the error goes down by a factor of 4, compared to a factor of 2 with a first-order method.\n",
    "\n",
    "We could go through the process of obtaining even higher-order derivatives (third-order, fourth-order, etc), but in practice this is generally not useful because the formulas become cumbersome and there are typically better ways of accomplishing higher-order accuracy. We will see one of these ways shortly."
   ]
  },
  {
   "cell_type": "markdown",
   "metadata": {
    "colab_type": "text",
    "id": "leq0FrYz3rf5"
   },
   "source": [
    "### 8d-ii. Comparison of the approximations"
   ]
  },
  {
   "cell_type": "markdown",
   "metadata": {
    "colab_type": "text",
    "id": "w_K6WDdp3rf6"
   },
   "source": [
    "Let's revist the example $$f(x) =  \\arctan(x) \\cosh(x)$$ and look at approximations to $f'(x)$ at $x=1$. Recall, the actual answer is $f'(1) = 1.694541176517952557683135$."
   ]
  },
  {
   "cell_type": "markdown",
   "metadata": {},
   "source": [
    "<div style=\"background-color: rgba(0,0,255,0.05) ; padding: 10px; border: 1px solid darkblue;\"> \n",
    "<b>Class Activity</b>: With a partner, modify your code from 8c to also study the central difference approximation for this example. Make a plot that compares forward, backward and central different formulas.\n",
    "</div>"
   ]
  },
  {
   "cell_type": "code",
   "execution_count": 7,
   "metadata": {
    "colab": {
     "base_uri": "https://localhost:8080/",
     "height": 350
    },
    "colab_type": "code",
    "executionInfo": {
     "elapsed": 1216,
     "status": "ok",
     "timestamp": 1550157324738,
     "user": {
      "displayName": "Alexander Dowling",
      "photoUrl": "https://lh3.googleusercontent.com/-LChdQ2m5OQE/AAAAAAAAAAI/AAAAAAAAAA0/JeXJe4vQJ7M/s64/photo.jpg",
      "userId": "00988067626794866502"
     },
     "user_tz": 300
    },
    "id": "N7uYa0Ca3rf6",
    "outputId": "0e494127-0f52-4487-fc30-1b4dd8185dc5"
   },
   "outputs": [
    {
     "name": "stdout",
     "output_type": "stream",
     "text": [
      "Forward Difference slope on log-log scale is 1.010405053694006\n",
      "Backward Difference slope on log-log scale is 0.989507882880635\n",
      "Central Difference slope on log-log scale is 2.0000468073506825\n"
     ]
    },
    {
     "data": {
      "image/png": "[encoded data removed]",
      "text/plain": [
       "<Figure size 432x288 with 1 Axes>"
      ]
     },
     "metadata": {},
     "output_type": "display_data"
    }
   ],
   "source": [
    "# define Python function (I did not need to do this because 'f' is defined in the previous cell)\n",
    "f = lambda x: np.cosh(x)*np.arctan(x)\n",
    "\n",
    "# specify values of h to study\n",
    "h = 2**np.array([1,0,-1.0,-2,-3,-4,-5,-6])\n",
    "\n",
    "# create vector of zeros to store results\n",
    "forward = 0*h #variable to hold forward difference \n",
    "\n",
    "# activity: uncomment line below\n",
    "backward = 0*h #variable to hold backward difference \n",
    "\n",
    "central = 0*h #variable to hold central differences\n",
    "\n",
    "# create counter\n",
    "count = 0\n",
    "\n",
    "# define exact solution\n",
    "exact = 1.694541176517952557683135\n",
    "\n",
    "# specify value of x to study\n",
    "x = 1\n",
    "\n",
    "# loop over all values for h\n",
    "for i in h:\n",
    "    \n",
    "    # compute forward finite difference approximation\n",
    "    forward[count] = (f(x+i) - f(x))/i\n",
    "    \n",
    "    # activity: uncomment and complete line below\n",
    "    backward[count] = (f(x)-f(x-i))/i\n",
    "    \n",
    "    central[count] = (f(x+i) - f(x-i))/2/i\n",
    "    \n",
    "    count += 1\n",
    "    \n",
    "# plot absolute value of approximation error versus h on log-log plot\n",
    "plt.loglog(h,np.fabs(forward-exact),'o-',label=\"Forward Difference\")\n",
    "plt.loglog(h,np.fabs(backward-exact),'o-',label=\"Backward Difference\")\n",
    "plt.loglog(h,np.fabs(central-exact),'o-',label=\"Central Difference\")\n",
    "# activity: copy the line above and modify to plot results with backwards difference formula \n",
    "\n",
    "plt.legend(loc=\"best\")\n",
    "plt.title(\"Absolute Error on Log-Log Scale\")\n",
    "plt.xlabel(\"h\")\n",
    "plt.ylabel(\"Absolute Error\")\n",
    "\n",
    "#print FD error slope\n",
    "errors = np.fabs(forward-exact)\n",
    "print(\"Forward Difference slope on log-log scale is\",(np.log(errors[-1])-np.log(errors[-2]))/(np.log(h[-1])-np.log(h[-2])))\n",
    "\n",
    "# activity: copy the two lines above and modify for backward difference formula\n",
    "errors = np.fabs(backward-exact)\n",
    "print(\"Backward Difference slope on log-log scale is\",(np.log(errors[-1])-np.log(errors[-2]))/(np.log(h[-1])-np.log(h[-2])))\n",
    "\n",
    "errors = np.fabs(central-exact)\n",
    "print(\"Central Difference slope on log-log scale is\",(np.log(errors[-1])-np.log(errors[-2]))/(np.log(h[-1])-np.log(h[-2])))\n"
   ]
  },
  {
   "cell_type": "markdown",
   "metadata": {
    "colab_type": "text",
    "id": "jaA2kZzq3rf-"
   },
   "source": [
    "**Discussion after class activity**\n",
    "\n",
    "In this example we see that the errors decay as expected for the two first-order methods and the one second-order method. As we expect, as $h$ gets smaller the second-order method wins out. Nevertheless, this does not mean that at a particular value of $h$ the second-order method will have smaller error.  The graph above shows that at $h=2$, the backward difference approximation has the smallest error. This is due to the fact that order of the formula just says how the error changes with $h$ and says nothing about the constant in front of the leading-order term.  Eventually, the second-order method will win, but we cannot say anything about a particular point."
   ]
  },
  {
   "cell_type": "markdown",
   "metadata": {
    "colab_type": "text",
    "id": "_F-Vq53C3rgZ"
   },
   "source": [
    "## 8e. Truncation and Random Errors\n",
    "\n",
    "*Note: During the next class, we will give a mini-lecture on how computers store floating point numbers and why this leads to inexact arithmetic.*\n",
    "\n",
    "\n",
    "In class today, we learned about *truncation error*. We will now study *random errors*. We will see that our choice in $h$ for the approved finite different formulas requires balancing truncation versus random errors.\n",
    "\n",
    "Consider the following test function:\n",
    "$$ f(x) = e^{x} $$\n",
    "\n",
    "with\n",
    "\n",
    "$$f'(x) = e^{x}$$\n",
    "\n",
    "Let's compare forward, backward, and central difference formulas for this function."
   ]
  },
  {
   "cell_type": "markdown",
   "metadata": {
    "colab_type": "text",
    "id": "OjqohE7W3rgZ"
   },
   "source": [
    "### 8e-i. Forward Difference\n",
    "\n",
    "$$ f'_f(a) = \\frac{f(a+\\epsilon) - f(a)}{\\epsilon} $$\n",
    "\n",
    "You'll notice I switched to using $\\epsilon$ instead of $h$. Textbooks are about evenly split on the notation. "
   ]
  },
  {
   "cell_type": "code",
   "execution_count": 8,
   "metadata": {
    "colab": {
     "base_uri": "https://localhost:8080/",
     "height": 283
    },
    "colab_type": "code",
    "executionInfo": {
     "elapsed": 702,
     "status": "ok",
     "timestamp": 1550157458231,
     "user": {
      "displayName": "Alexander Dowling",
      "photoUrl": "https://lh3.googleusercontent.com/-LChdQ2m5OQE/AAAAAAAAAAI/AAAAAAAAAA0/JeXJe4vQJ7M/s64/photo.jpg",
      "userId": "00988067626794866502"
     },
     "user_tz": 300
    },
    "id": "PwmYEgjn3rga",
    "outputId": "dd2d257b-541a-4f2d-fa53-9d4e003204fd"
   },
   "outputs": [
    {
     "data": {
      "image/png": "[encoded data removed]",
      "text/plain": [
       "<Figure size 432x288 with 1 Axes>"
      ]
     },
     "metadata": {},
     "output_type": "display_data"
    }
   ],
   "source": [
    "# Define the test function\n",
    "def my_f(x):\n",
    "    return np.exp(x)\n",
    "\n",
    "# Specify point to examine\n",
    "a = 1.0\n",
    "\n",
    "# Calculate function value at x = a\n",
    "fa = my_f(a)\n",
    "# Calculate exact first derivative at x=1\n",
    "df1 = my_f(a) # Need to replace if you consider a different test function!\n",
    "\n",
    "# Generate values for epsilon\n",
    "eps = np.power(10,np.arange(-16,1,0.25))\n",
    "n = len(eps)\n",
    "\n",
    "# Preallocate error array\n",
    "error_forward = np.zeros(n)\n",
    "\n",
    "# Calculate finite difference approximation and error\n",
    "for i in range(0,n):\n",
    "    df1_forward = (my_f(a + eps[i]) - fa)/eps[i]\n",
    "    error_forward[i] = abs(df1_forward - df1)\n",
    "\n",
    "# Plot\n",
    "plt.figure()\n",
    "plt.loglog(eps,error_forward,label=\"Forward\",color=\"blue\")\n",
    "plt.xlabel(\"$\\epsilon$\")\n",
    "plt.ylabel(\"Absolute Error\")\n",
    "plt.legend()\n",
    "plt.grid(True)\n",
    "plt.show()"
   ]
  },
  {
   "cell_type": "markdown",
   "metadata": {},
   "source": [
    "This plot succinctly shows the trade-offs between truncation and random errors that are ubiquitous across scientific computing. \n",
    "* On the **left**, we see a jagged line where absolute error increases with decreasing $\\epsilon$. This is because of **random error**. The computer can only do arithmetic with finite percision. Recall the finite difference formulas require dividing by $\\epsilon$, so as $\\epsilon$ decreases the random error increases.\n",
    "* On the **right**, we see a smooth line where absolute error increases with increasing $\\epsilon$. This is because of **truncation error**. We learned earlier in this lecture how the Taylor series approximation gets worse with increasing $\\epsilon$ (which is the same as $h$)."
   ]
  },
  {
   "cell_type": "markdown",
   "metadata": {},
   "source": [
    "<div style=\"background-color: rgba(0,255,0,0.05) ; padding: 10px; border: 1px solid darkgreen;\"> \n",
    "<b>Home Activity</b>: Write a sentence to describe what happens in the middle of the plot. Specifically discuss <i>random error</i> and <i>truncation error</i> in your sentence.\n",
    "</div>"
   ]
  },
  {
   "cell_type": "markdown",
   "metadata": {},
   "source": [
    "**Home Activity Answer**:"
   ]
  },
  {
   "cell_type": "markdown",
   "metadata": {
    "colab_type": "text",
    "id": "Y6hrYlSG3rgc"
   },
   "source": [
    "### 8e-ii. Backward Difference\n",
    "\n",
    "Let's add backward difference to the same plot.\n",
    "\n",
    "$$ f'_b(a) = \\frac{f(a) - f(a - \\epsilon)}{-\\epsilon} $$"
   ]
  },
  {
   "cell_type": "code",
   "execution_count": 9,
   "metadata": {
    "colab": {
     "base_uri": "https://localhost:8080/",
     "height": 283
    },
    "colab_type": "code",
    "executionInfo": {
     "elapsed": 876,
     "status": "ok",
     "timestamp": 1550158051904,
     "user": {
      "displayName": "Alexander Dowling",
      "photoUrl": "https://lh3.googleusercontent.com/-LChdQ2m5OQE/AAAAAAAAAAI/AAAAAAAAAA0/JeXJe4vQJ7M/s64/photo.jpg",
      "userId": "00988067626794866502"
     },
     "user_tz": 300
    },
    "id": "jZkGAUib3rgd",
    "outputId": "76d19be2-254f-4255-fc20-269fa47acc71"
   },
   "outputs": [
    {
     "data": {
      "image/png": "[encoded data removed]",
      "text/plain": [
       "<Figure size 432x288 with 1 Axes>"
      ]
     },
     "metadata": {},
     "output_type": "display_data"
    }
   ],
   "source": [
    "# Preallocate error array\n",
    "error_backward = np.zeros(n)\n",
    "\n",
    "# Calculate finite difference approximation and error\n",
    "for i in range(0,n):\n",
    "    df1_backward = (fa - np.exp(a - eps[i]))/eps[i]\n",
    "    error_backward[i] = abs(df1_backward - df1)\n",
    "\n",
    "# Plot\n",
    "plt.figure()\n",
    "plt.loglog(eps,error_forward,label=\"Forward\",color=\"blue\")\n",
    "plt.loglog(eps,error_backward,label=\"Backward\",color=\"red\")\n",
    "plt.xlabel(\"$\\epsilon$\")\n",
    "plt.ylabel(\"Absolute Error\")\n",
    "plt.grid(True)\n",
    "plt.legend()\n",
    "plt.show()"
   ]
  },
  {
   "cell_type": "markdown",
   "metadata": {},
   "source": [
    "<div style=\"background-color: rgba(0,0,255,0.05) ; padding: 10px; border: 1px solid darkblue;\"> \n",
    "<b>Class Activity</b>: With a partner, speculate as to why the forward and backward difference curves are so similar. Why is the slope of the trends on the right the same? (Hint: look at the Taylor series analysis of these schemes early in the class notes.)\n",
    "</div>"
   ]
  },
  {
   "cell_type": "code",
   "execution_count": null,
   "metadata": {
    "collapsed": true
   },
   "outputs": [],
   "source": []
  },
  {
   "cell_type": "markdown",
   "metadata": {
    "colab_type": "text",
    "id": "kp3s9fmO3rgf"
   },
   "source": [
    "### 8e-iii. Central Difference\n",
    "\n",
    "Finally, we will consider the central difference formula:\n",
    "\n",
    "$$ f'_c(a) = \\frac{f(a+\\epsilon) - f(a - \\epsilon)}{2 \\epsilon} $$"
   ]
  },
  {
   "cell_type": "markdown",
   "metadata": {},
   "source": [
    "<div style=\"background-color: rgba(0,0,255,0.05) ; padding: 10px; border: 1px solid darkblue;\"> \n",
    "<b>Class Activity</b>: With a partner, add the cental difference formula to the plot. Hint: copy the backward difference code to below and modify. Then write three bullet points to discuss the plot.\n",
    "</div>"
   ]
  },
  {
   "cell_type": "code",
   "execution_count": 10,
   "metadata": {
    "colab": {
     "base_uri": "https://localhost:8080/",
     "height": 283
    },
    "colab_type": "code",
    "executionInfo": {
     "elapsed": 1068,
     "status": "ok",
     "timestamp": 1550158058698,
     "user": {
      "displayName": "Alexander Dowling",
      "photoUrl": "https://lh3.googleusercontent.com/-LChdQ2m5OQE/AAAAAAAAAAI/AAAAAAAAAA0/JeXJe4vQJ7M/s64/photo.jpg",
      "userId": "00988067626794866502"
     },
     "user_tz": 300
    },
    "id": "tXUksKRf3rgg",
    "outputId": "4d917afd-ccca-4d43-823e-195874527c84"
   },
   "outputs": [
    {
     "data": {
      "image/png": "[encoded data removed]",
      "text/plain": [
       "<Figure size 432x288 with 1 Axes>"
      ]
     },
     "metadata": {},
     "output_type": "display_data"
    }
   ],
   "source": [
    "# Preallocate error array\n",
    "error_central = np.zeros(n)\n",
    "\n",
    "# Calculate finite difference approximation and error\n",
    "for i in range(0,n):\n",
    "    df1_central = (np.exp(a + eps[i]) - np.exp(a - eps[i]))/2/eps[i]\n",
    "    error_central[i] = abs(df1_central - df1)\n",
    "\n",
    "# Plot\n",
    "plt.figure()\n",
    "plt.loglog(eps,error_forward,label=\"Forward\",color=\"blue\")\n",
    "plt.loglog(eps,error_backward,label=\"Backward\",color=\"red\")\n",
    "plt.loglog(eps,error_central,label=\"Central\",color=\"green\")\n",
    "plt.xlabel(\"$\\epsilon$\")\n",
    "plt.ylabel(\"Absolute Error\")\n",
    "plt.grid(True)\n",
    "plt.legend()\n",
    "plt.show()"
   ]
  },
  {
   "cell_type": "markdown",
   "metadata": {},
   "source": [
    "Write three bullet points to describe and discuss trends in the plot:\n",
    "* \n",
    "* \n",
    "* "
   ]
  },
  {
   "cell_type": "markdown",
   "metadata": {
    "colab_type": "text",
    "id": "vz7jO7Qe3rf-"
   },
   "source": [
    "### 8e-iv. Second (and Higher) Derivatives"
   ]
  },
  {
   "cell_type": "markdown",
   "metadata": {},
   "source": [
    "We can also use the Taylor series to derive finite difference approximations for $f''(x)$:\n",
    "\n",
    "$$\\frac{f(x + h) -2 f(x) + f(x-h)}{h^2} = f''(x) + O(h^2)$$"
   ]
  },
  {
   "cell_type": "markdown",
   "metadata": {},
   "source": [
    "<div style=\"background-color: rgba(0,0,255,0.05) ; padding: 10px; border: 1px solid darkblue;\"> \n",
    "<b>Class Activity</b>: With a partner, derive the above approximation for f''(x). Use the following steps.\n",
    "</div>"
   ]
  },
  {
   "cell_type": "markdown",
   "metadata": {},
   "source": [
    "1. Write the Taylor series for f(x+h)\n",
    "2. Write the Taylor series for f(x-h)\n",
    "3. Add these two Taylor series together. Notice the $h$ and $h^3$ terms cancel.\n",
    "4. Rearrange to isolate f''(x)."
   ]
  },
  {
   "cell_type": "markdown",
   "metadata": {
    "colab_type": "text",
    "id": "qZCGCgxU3rgB"
   },
   "source": [
    "If we want high-order approximations to derivatives (or many other quantities) we can use Richardson extrapolation. This is an advanced topic we will not discuss further in this class. For those who are interested, I recommend reading the section 14.6 in *Computational Nuclear Engineering and Radiological Science Using Python*. "
   ]
  }
 ],
 "metadata": {
  "colab": {
   "collapsed_sections": [],
   "name": "L10-Finite-Difference-Derivatives.ipynb",
   "provenance": [],
   "version": "0.3.2"
  },
  "kernelspec": {
   "display_name": "Python 3 [3.6]",
   "language": "python",
   "name": "python3"
  },
  "language_info": {
   "codemirror_mode": {
    "name": "ipython",
    "version": 3
   },
   "file_extension": ".py",
   "mimetype": "text/x-python",
   "name": "python",
   "nbconvert_exporter": "python",
   "pygments_lexer": "ipython3",
   "version": "3.6.4"
  }
 },
 "nbformat": 4,
 "nbformat_minor": 1
}
