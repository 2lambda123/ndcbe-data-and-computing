{
 "cells": [
  {
   "cell_type": "markdown",
   "metadata": {},
   "source": [
    "# Chapter 5: Linear Transformations"
   ]
  },
  {
   "cell_type": "markdown",
   "metadata": {},
   "source": [
    "**Before Class**:\n",
    "* Read Chapter 5 in Savov (2020) and take notes\n",
    "* Watch the following videos and take notes:\n",
    "  * Review your notes on prior videos such as [linear transformations and matrices](https://www.3blue1brown.com/topics/linear-algebra) and [three-dimensional linear transformations](https://www.3blue1brown.com/lessons/3d-transformations)\n",
    "  * [Cross products and linear transformations](https://www.3blue1brown.com/lessons/cross-products-extended)\n",
    "  * [Cramer's rule, explained geometrically](https://www.3blue1brown.com/lessons/cramers-rule) *optional*\n",
    "  * [Change of basis](https://www.3blue1brown.com/lessons/change-of-basis)\n",
    "* Compile a list of questions to bring to class\n",
    "\n",
    "**During and After Class**:\n",
    "* Take notes (on paper or a tablet computer)\n",
    "* Complete this notebook, submit you answer via Gradescope"
   ]
  },
  {
   "cell_type": "markdown",
   "metadata": {},
   "source": []
  }
 ],
 "metadata": {
  "language_info": {
   "name": "python"
  }
 },
 "nbformat": 4,
 "nbformat_minor": 2
}
