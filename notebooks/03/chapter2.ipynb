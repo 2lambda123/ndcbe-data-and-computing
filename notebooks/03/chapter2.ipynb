{
 "cells": [
  {
   "cell_type": "markdown",
   "metadata": {},
   "source": [
    "# Chapter 2: Intro to Linear Algebra"
   ]
  },
  {
   "cell_type": "markdown",
   "metadata": {},
   "source": [
    "**Before Class**:\n",
    "* Read Chapter 2 in Savov (2020) and take notes\n",
    "* Watch the following videos and take notes:\n",
    "  * [Essense of linear algebra preview](https://www.3blue1brown.com/lessons/eola-preview)\n",
    "  * [Vectors, what even are they?](https://www.3blue1brown.com/lessons/vectors)\n",
    "  * [Linear combination, span, and basis vectors](https://www.3blue1brown.com/lessons/span)\n",
    "  * [Linear transformations and matrices](https://www.3blue1brown.com/lessons/linear-transformations)\n",
    "* Compile a list of questions to bring to class\n",
    "\n",
    "**During and After Class**:\n",
    "* Take notes (on paper or a tablet computer)\n",
    "* Complete this notebook, submit you answer via Gradescope\n",
    "\n",
    "**Other Resources**:\n",
    "* [](../04/Linear-Algebra-in-Numpy.ipynb)\n"
   ]
  },
  {
   "cell_type": "code",
   "execution_count": null,
   "metadata": {},
   "outputs": [],
   "source": [
    "import matplotlib.pyplot as plt\n",
    "import numpy as np\n",
    "import scipy.linalg as la"
   ]
  },
  {
   "attachments": {},
   "cell_type": "markdown",
   "metadata": {},
   "source": [
    "## Identify Linear Functions\n",
    "\n",
    "P2.1 in Savov (2020)\n",
    "\n",
    "Classify the following functions as linear or nonlinear?\n",
    "1. $q(x) = x^2$\n",
    "2. $f(x) = g(h(x))$, where $g(x) = \\sqrt{3}~x$ and $h(x) = -4 x$\n",
    "3. $i(x) = \\frac{1}{m~x}$\n",
    "4. $j(x) = \\frac{x-a}{x-b}$\n",
    "\n",
    "For each function, first determine if it is linear using pencil and paper to test your intuition (do not turn in -- honor system). Next, plot the function using Python. Finally, write a few words stating if the function is nonlinear or not and justifying your answer."
   ]
  },
  {
   "cell_type": "code",
   "execution_count": null,
   "metadata": {},
   "outputs": [],
   "source": [
    "# Let's evaluate x from -5 to 5 for ploting\n",
    "x = np.linspace(-5,5,21)\n",
    "\n",
    "# function 1\n",
    "f1 = lambda x : x**2\n",
    "plt.plot(x, f1(x))\n",
    "plt.xlabel(r'$x$',fontsize=16)\n",
    "plt.ylabel(r'$q(x) = x^2$',fontsize=16)\n",
    "plt.show()\n",
    "\n",
    "# Add your solution here\n"
   ]
  },
  {
   "cell_type": "markdown",
   "metadata": {},
   "source": [
    "**Your Answers:**\n",
    "1. Fill in\n",
    "2. Fill in\n",
    "3. Fill in\n",
    "4. Fill in"
   ]
  },
  {
   "attachments": {},
   "cell_type": "markdown",
   "metadata": {},
   "source": [
    "## Vector Operations\n",
    "\n",
    "Given the vectors, ${\\bf u} = (1,1,1)$, ${\\bf v} = (2,3,1)$, ${\\bf w} = (-1,-1,2)$, we will compute several products.\n",
    "\n",
    "First, let's plot the vectors in 3D with Python."
   ]
  },
  {
   "cell_type": "code",
   "execution_count": null,
   "metadata": {},
   "outputs": [],
   "source": [
    "# define vectors\n",
    "u = np.array([1,1,1])\n",
    "v = np.array([2,3,1])\n",
    "w = np.array([-1,-1,2])\n",
    "\n",
    "# Create 3D figure and axes\n",
    "fig = plt.figure()\n",
    "ax = fig.add_subplot(111, projection='3d')\n",
    "\n",
    "# Set labels and limits\n",
    "ax.set_xlabel('x')\n",
    "ax.set_ylabel('y')\n",
    "ax.set_zlabel('z')\n",
    "ax.set_xlim([-1,2])\n",
    "ax.set_ylim([-1,3])\n",
    "ax.set_zlim([0,2])\n",
    "\n",
    "# Plot vectors\n",
    "def plot_vector(vector, color, label):\n",
    "    ''' Plot a 3D vector\n",
    "        Arguments:\n",
    "            vector: np array\n",
    "            color: 'r', 'b', 'g', etc.\n",
    "            label: string for legend\n",
    "        \n",
    "    '''\n",
    "    assert len(vector) == 3, \"Must be a 3D vector\"\n",
    "\n",
    "    ax.quiver(0, 0, 0, vector[0], vector[1], vector[2], color=color, arrow_length_ratio=0.1, label=label)\n",
    "\n",
    "plot_vector(u, 'r', r'${\\bf u}$')\n",
    "plot_vector(v, 'b', r'${\\bf v}$')\n",
    "plot_vector(w, 'g', r'${\\bf w}$')\n",
    "\n",
    "plt.legend(loc='best',ncol=3)\n",
    "plt.show()\n"
   ]
  },
  {
   "cell_type": "markdown",
   "metadata": {},
   "source": [
    "### Dot Products\n",
    "\n",
    "Compute these products by hand (do not turn in -- honor system) and with Python.\n",
    "\n",
    "1. ${\\bf u} \\cdot {\\bf v}$\n",
    "2. ${\\bf u} \\cdot {\\bf w}$\n",
    "3. ${\\bf v} \\cdot {\\bf w}$"
   ]
  },
  {
   "cell_type": "code",
   "execution_count": null,
   "metadata": {},
   "outputs": [],
   "source": [
    "# Add your solution here"
   ]
  },
  {
   "cell_type": "markdown",
   "metadata": {},
   "source": [
    "Uses the 3D visualization of these vectors, explain your answers for the three dot products in a few sentences. Hint: what is the geometric interpretation of a dot product?"
   ]
  },
  {
   "cell_type": "markdown",
   "metadata": {},
   "source": [
    "**Your Explanation**:"
   ]
  },
  {
   "attachments": {},
   "cell_type": "markdown",
   "metadata": {},
   "source": [
    "### Cross Products\n",
    "\n",
    "Compute these products by hand (do not turn in -- honor system) and with Python.\n",
    "\n",
    "1. ${\\bf u} \\times {\\bf v}$\n",
    "2. ${\\bf u} \\times {\\bf w}$\n",
    "3. ${\\bf v} \\times {\\bf w}$"
   ]
  },
  {
   "cell_type": "code",
   "execution_count": null,
   "metadata": {},
   "outputs": [],
   "source": [
    "# Add your solution here"
   ]
  },
  {
   "cell_type": "code",
   "execution_count": null,
   "metadata": {},
   "outputs": [],
   "source": [
    "# Add your solution here"
   ]
  },
  {
   "cell_type": "code",
   "execution_count": null,
   "metadata": {},
   "outputs": [],
   "source": [
    "# Add your solution here"
   ]
  },
  {
   "attachments": {},
   "cell_type": "markdown",
   "metadata": {},
   "source": [
    "Uses the 3D visualization of these vectors, explain your answers for the three cross products in a few sentences. Hint: what is the geometric interpretation of a cross product?"
   ]
  },
  {
   "attachments": {},
   "cell_type": "markdown",
   "metadata": {},
   "source": [
    "**Your Answer:**"
   ]
  },
  {
   "attachments": {},
   "cell_type": "markdown",
   "metadata": {},
   "source": [
    "## Linear Transformations\n",
    "\n",
    "**Reference:** P2.13 in Savov (2020).\n",
    "\n",
    "Consider the following three linear transformations that take a two dimensional vector as an input and output a two dimensional vector.\n",
    "\n",
    "$$\n",
    "T_A \\left( \\begin{bmatrix} x \\\\ y \\end{bmatrix} \\right) = \\begin{bmatrix} 3x \\\\ y \\end{bmatrix}, \\quad T_B \\left( \\begin{bmatrix} x \\\\ y \\end{bmatrix} \\right) = \\begin{bmatrix} x + y \\\\ y \\end{bmatrix}, \\quad T_C \\left( \\begin{bmatrix} x \\\\ y \\end{bmatrix} \\right) = \\begin{bmatrix} 3x + y \\\\ y \\end{bmatrix}\n",
    "$$\n",
    "\n",
    "### Corresponding Matrixes\n",
    "\n",
    "Find the 2 x 2 matrices $\\bf A$, $\\bf B$, and $\\bf C$ such that\n",
    "\n",
    "$$\n",
    "T_A({\\bf v}) = {\\bf A v}, \\quad T_B({\\bf v}) = {\\bf B v}, \\quad T_C({\\bf v}) = {\\bf C v}, \\quad \\forall {\\bf~v}\n",
    "$$\n",
    "\n",
    "Hint: Do this on paper first!\n"
   ]
  },
  {
   "cell_type": "code",
   "execution_count": null,
   "metadata": {},
   "outputs": [],
   "source": [
    "# Define your answer as matrices/arrays in numpy.\n",
    "# Store in variable names A, B, and C\n",
    "# We'll use this for the next step\n",
    "\n",
    "# Add your solution here\n",
    "\n",
    "print(\"A = \\n\",A)\n",
    "print(\"\\nB = \\n\",B)\n",
    "print(\"\\nC = \\n\",C)\n"
   ]
  },
  {
   "attachments": {},
   "cell_type": "markdown",
   "metadata": {},
   "source": [
    "### Matrix Multiplication\n",
    "\n",
    "Calculate the matrix products $\\bf A B$ and $\\bf B A$ first on paper and then with Python. (Yes, you should practice doing matrix multiplication by hand at least once.)"
   ]
  },
  {
   "cell_type": "code",
   "execution_count": null,
   "metadata": {},
   "outputs": [],
   "source": [
    "# Store your answers in the variables AB and BA\n",
    "AB = A @ B\n",
    "\n",
    "# Add your solution here\n",
    "\n",
    "print(\"\\nAB =\\n\",AB)\n",
    "print(\"\\nBA =\\n\",BA)"
   ]
  },
  {
   "attachments": {},
   "cell_type": "markdown",
   "metadata": {},
   "source": [
    "Based on your calculations, is matrix multiplication commutative? Explain in a sentence.\n",
    "\n",
    "**Your Answer:**"
   ]
  },
  {
   "attachments": {},
   "cell_type": "markdown",
   "metadata": {},
   "source": [
    "How is ${\\bf C}$ related to ${\\bf A}$ and ${\\bf B}$? Explain why this makes sense using the word \"composite\".\n",
    "\n",
    "**Your Answer**:"
   ]
  },
  {
   "attachments": {},
   "cell_type": "markdown",
   "metadata": {},
   "source": [
    "## Atomic Species Balance using Linear Algebra"
   ]
  },
  {
   "attachments": {},
   "cell_type": "markdown",
   "metadata": {},
   "source": [
    "**Reference:** Example 4.7-1 in *Elementary Principles of Chemical Process Engineering*, Third Edition, Felder and Rousseau (2005)\n",
    "\n",
    "Methane is burned with air in a continuous steady-state combustion reactor to yield a mixture of carbon monoxide, carbon dioxide, and water. The reactions taking place are:\n",
    "\n",
    "CH$_4$ + $\\frac{3}{2}$ O$_2$ $\\rightarrow$ CO + 2 H$_2$O\n",
    "\n",
    "CH$_4$ + 2 O$_2$ $\\rightarrow$ CO$_2$ + 2 H$_2$O\n",
    "\n",
    "The feed to the reactor contains 7.80 mole% CH$_4$, 19.4% O$_2$, and 72.8% N$_2$. The percentage conversion of methane is 90.0%, and the gas leaving the reactor contains 8 mol CO$_2$/mol CO. What is the molar composition of the product stream?\n",
    "\n",
    "**Do the following**:\n",
    "1. Draw a picture (on paper)\n",
    "2. Propose a mathematical model using atomic species balances (on paper)\n",
    "3. Perform degree of freedom analysis (on paper)\n",
    "4. Convert your model to a linear system (on paper)\n",
    "5. Solve with Python (in this notebook)\n",
    "6. Print your answer to the screen with a reasonable number of significant digits (in this notebook)"
   ]
  },
  {
   "cell_type": "code",
   "execution_count": null,
   "metadata": {},
   "outputs": [],
   "source": [
    "# Add your solution here"
   ]
  },
  {
   "cell_type": "markdown",
   "metadata": {},
   "source": [
    "## Submission\n",
    "\n",
    "Please submit two files:\n",
    "1. Submit your pencil and paper calculations and pseudocode as requested to Gradescope (one assignment)\n",
    "2. Download this notebook as a .ipynb file and submit to to Gradescope (second assignment)\n",
    "\n",
    "Reminders:\n",
    "* Be sure to upload your pencil and paper calculations and pseudocode to Gradescope as a single PDF for grading.\n",
    "* Review the homework formatting guidelines in the syllabus.\n",
    "* Review the commenting and pseudocode guidlines."
   ]
  },
  {
   "cell_type": "markdown",
   "metadata": {},
   "source": []
  }
 ],
 "metadata": {
  "kernelspec": {
   "display_name": "jbook",
   "language": "python",
   "name": "python3"
  },
  "language_info": {
   "codemirror_mode": {
    "name": "ipython",
    "version": 3
   },
   "file_extension": ".py",
   "mimetype": "text/x-python",
   "name": "python",
   "nbconvert_exporter": "python",
   "pygments_lexer": "ipython3",
   "version": "3.9.16"
  }
 },
 "nbformat": 4,
 "nbformat_minor": 2
}
