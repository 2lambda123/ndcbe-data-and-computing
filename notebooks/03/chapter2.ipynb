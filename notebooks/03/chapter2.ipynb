{
 "cells": [
  {
   "cell_type": "markdown",
   "metadata": {},
   "source": [
    "# Chapter 2: Intro to Linear Algebra"
   ]
  },
  {
   "cell_type": "markdown",
   "metadata": {},
   "source": [
    "**Before Class**:\n",
    "* Read Chapter 2 in Savov (2020) and take notes\n",
    "* Watch the following videos and take notes:\n",
    "  * [Essense of linear algebra preview](https://www.3blue1brown.com/lessons/eola-preview)\n",
    "  * [Vectors, what even are they?](https://www.3blue1brown.com/lessons/vectors)\n",
    "  * [Linear combination, span, and basis vectors](https://www.3blue1brown.com/lessons/span)\n",
    "  * [Linear transformations and matrices](https://www.3blue1brown.com/lessons/linear-transformations)\n",
    "* Compile a list of questions to bring to class\n",
    "\n",
    "**During and After Class**:\n",
    "* Take notes (on paper or a tablet computer)\n",
    "* Complete this notebook, submit you answer via Gradescope"
   ]
  },
  {
   "cell_type": "markdown",
   "metadata": {},
   "source": []
  }
 ],
 "metadata": {
  "language_info": {
   "name": "python"
  }
 },
 "nbformat": 4,
 "nbformat_minor": 2
}
