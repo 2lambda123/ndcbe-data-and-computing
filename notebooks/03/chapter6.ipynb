{
 "cells": [
  {
   "cell_type": "markdown",
   "metadata": {},
   "source": [
    "# Chapter 6: Theoretical Linear Algebra"
   ]
  },
  {
   "cell_type": "markdown",
   "metadata": {},
   "source": [
    "**Before Class**:\n",
    "* Read Chapter 6 in Savov (2020) and take notes\n",
    "* Watch the following videos and take notes:\n",
    "  * [Eigenvectors and eigenvalues](https://www.3blue1brown.com/lessons/eigenvalues)\n",
    "  * [A quick trick for computing eigenvalues](https://www.3blue1brown.com/lessons/quick-eigen)\n",
    "  * [Abstract vector spaces](https://www.3blue1brown.com/lessons/abstract-vector-spaces)\n",
    "* Compile a list of questions to bring to class\n",
    "\n",
    "**During and After Class**:\n",
    "* Take notes (on paper or a tablet computer)\n",
    "* Complete this notebook, submit you answer via Gradescope"
   ]
  },
  {
   "cell_type": "markdown",
   "metadata": {},
   "source": []
  }
 ],
 "metadata": {
  "language_info": {
   "name": "python"
  }
 },
 "nbformat": 4,
 "nbformat_minor": 2
}
