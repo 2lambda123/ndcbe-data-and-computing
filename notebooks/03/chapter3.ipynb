{
 "cells": [
  {
   "cell_type": "markdown",
   "metadata": {},
   "source": [
    "# Chapter 3: Computational linear algebra"
   ]
  },
  {
   "cell_type": "markdown",
   "metadata": {},
   "source": [
    "**Before Class**:\n",
    "* Read Chapter 3 in Savov (2020) and take notes\n",
    "* Watch the following videos and take notes:\n",
    "  * [Matrix multiplication as composition](https://www.3blue1brown.com/lessons/matrix-multiplication)\n",
    "  * [Three-dimensional linear transformations](https://www.3blue1brown.com/lessons/3d-transformations)\n",
    "  * [The determinant](https://www.3blue1brown.com/lessons/determinant)\n",
    "  * [Inverse matrices, column space and null space](https://www.3blue1brown.com/lessons/inverse-matrices)\n",
    "* Compile a list of questions to bring to class\n",
    "\n",
    "**During and After Class**:\n",
    "* Take notes (on paper or a tablet computer)\n",
    "* Complete this notebook, submit you answer via Gradescope"
   ]
  },
  {
   "attachments": {},
   "cell_type": "markdown",
   "metadata": {},
   "source": [
    "## Throwback: Solving a Linear System by Hand"
   ]
  },
  {
   "cell_type": "markdown",
   "metadata": {},
   "source": []
  },
  {
   "attachments": {},
   "cell_type": "markdown",
   "metadata": {},
   "source": [
    "## Solving a Linear System with Python"
   ]
  },
  {
   "attachments": {},
   "cell_type": "markdown",
   "metadata": {},
   "source": [
    "## Understanding the Determinant"
   ]
  },
  {
   "attachments": {},
   "cell_type": "markdown",
   "metadata": {},
   "source": [
    "## Extending Gaussian Elimination to Invert a Matrix"
   ]
  },
  {
   "cell_type": "markdown",
   "metadata": {},
   "source": []
  },
  {
   "cell_type": "markdown",
   "metadata": {},
   "source": []
  }
 ],
 "metadata": {
  "language_info": {
   "name": "python"
  }
 },
 "nbformat": 4,
 "nbformat_minor": 2
}
