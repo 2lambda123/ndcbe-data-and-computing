{
 "cells": [
  {
   "cell_type": "markdown",
   "metadata": {},
   "source": [
    "# Chapter 4: Geometric Aspects of Linear Algebra"
   ]
  },
  {
   "cell_type": "markdown",
   "metadata": {},
   "source": [
    "**Before Class**:\n",
    "* Read Chapter 4 in Savov (2020) and take notes\n",
    "* Watch the following videos and take notes:\n",
    "  * [Nonsquare matrices as transformations between dimensions](https://www.3blue1brown.com/lessons/nonsquare-matrices)\n",
    "  * [Dot products and duality](https://www.3blue1brown.com/lessons/dot-products)\n",
    "  * [Cross products](https://www.3blue1brown.com/lessons/cross-products)\n",
    "* Compile a list of questions to bring to class\n",
    "\n",
    "**During and After Class**:\n",
    "* Take notes (on paper or a tablet computer)\n",
    "* Complete this notebook, submit you answer via Gradescope"
   ]
  },
  {
   "cell_type": "code",
   "execution_count": null,
   "metadata": {},
   "outputs": [],
   "source": [
    "%matplotlib ipympl\n",
    "import numpy as np\n",
    "import matplotlib.pyplot as plt\n",
    "import scipy.linalg as la"
   ]
  },
  {
   "cell_type": "markdown",
   "metadata": {},
   "source": [
    "## Visualize Linear Systems in 3D"
   ]
  },
  {
   "cell_type": "markdown",
   "metadata": {},
   "source": [
    "The code below visualizes the rows on a N x 3 matrix in three dimensions."
   ]
  },
  {
   "cell_type": "code",
   "execution_count": null,
   "metadata": {},
   "outputs": [],
   "source": [
    "from mpl_toolkits.mplot3d import Axes3D\n",
    "\n",
    "def visualize_linear_system(A, b, xlim=(-2,2), ylim=(-2,2), return_ax = False):\n",
    "    \"\"\" Visualize rows of linear system as planes in 3D\n",
    "    \n",
    "    Arguments:\n",
    "        A: N x 3 matrix\n",
    "        B: N x 1 vector\n",
    "        xlim: tuple of bounds for x dimension\n",
    "        ylim: tuple of bounds for y dimension\n",
    "    \"\"\"\n",
    "\n",
    "    assert A.shape[1] == 3, \"Matrix A must have 3 columns\"\n",
    "    assert A.shape[0] == len(b), \"Matrix A and vector b must have the same number of rows\"\n",
    "    \n",
    "    N = len(b)\n",
    "\n",
    "    for i in range(N):\n",
    "        assert np.abs(A[i,2]) > 1E-8, \"This function does not support zeros in A[:,2]\"\n",
    "\n",
    "    # Create empty plot\n",
    "    fig = plt.figure()\n",
    "    ax = Axes3D(fig, auto_add_to_figure=False)\n",
    "    fig.add_axes(ax)\n",
    "\n",
    "    # Create a grid of points for plotting\n",
    "    X, Y = np.meshgrid(np.linspace(xlim[0],xlim[1],5), np.linspace(ylim[0],ylim[1],5))\n",
    "\n",
    "    # Loop over equations\n",
    "    for i in range(N):\n",
    "\n",
    "        # Define function to calculate z\n",
    "        func_z = lambda x,y : (b[i] - A[i,0]*x - A[i,1]*y)/A[i,2]\n",
    "        \n",
    "        # Calculate values of z over meshgrid\n",
    "        Z = func_z(X, Y)\n",
    "\n",
    "\n",
    "        s = \"{0:.2f}x + {1:.2f}y + {2:.2f}z = {3:.2f}\".format(A[i,0], A[i,1], A[i,2], b[i])\n",
    "        surf = ax.plot_surface(X, Y, Z, alpha=0.5, label=s)\n",
    "\n",
    "        # Needed for a legend\n",
    "        # https://stackoverflow.com/questions/27449109/adding-legend-to-a-surface-plot\n",
    "        surf._edgecolors2d = surf._edgecolor3d\n",
    "        surf._facecolors2d = surf._facecolor3d\n",
    "\n",
    "    # If the linear system is square and full rank\n",
    "    if A.shape[0] == 3 and np.linalg.matrix_rank(A) == 3:\n",
    "        x = np.linalg.solve(A,b)\n",
    "        ax.scatter(x[0], x[1], x[2], marker='x', label=\"solution\", color=\"k\")\n",
    "\n",
    "\n",
    "    ax.set_xlabel('x',fontsize=18)\n",
    "    ax.set_ylabel('y',fontsize=18)\n",
    "    ax.set_zlabel('z',fontsize=18)\n",
    "\n",
    "    if return_ax:\n",
    "        return ax\n",
    "    else:\n",
    "        plt.legend()\n",
    "        plt.show()"
   ]
  },
  {
   "cell_type": "markdown",
   "metadata": {},
   "source": [
    "Let's visualize the equations in the rows of the linear system:\n",
    "\n",
    "$$\n",
    "\\begin{bmatrix} 1 & 1 & 1 \\\\ 2 & -1 & 1 \\end{bmatrix} {\\bf x} = \\begin{bmatrix} 0 \\\\ 2 \\end{bmatrix}\n",
    "$$"
   ]
  },
  {
   "cell_type": "code",
   "execution_count": null,
   "metadata": {},
   "outputs": [],
   "source": [
    "A = np.array([[1,1,1],[2,-1,1]])\n",
    "b = np.array([0, 2])\n",
    "\n",
    "visualize_linear_system(A, b)"
   ]
  },
  {
   "cell_type": "markdown",
   "metadata": {},
   "source": [
    "Geometrically describe the solution of this linear system in a few words.\n",
    "\n",
    "**Your Answer**:"
   ]
  },
  {
   "cell_type": "markdown",
   "metadata": {},
   "source": [
    "Let's visualize the equations in the rows of the linear system:\n",
    "\n",
    "$$\n",
    "\\begin{bmatrix} 1 & 2 & 1 \\\\ -1 & 0 & -1 \\\\ 0 & 3 & 1 \\end{bmatrix} {\\bf x} = \\begin{bmatrix} 0 \\\\ 2 \\\\ -1 \\end{bmatrix}\n",
    "$$"
   ]
  },
  {
   "cell_type": "code",
   "execution_count": null,
   "metadata": {},
   "outputs": [],
   "source": [
    "# Add your solution here"
   ]
  },
  {
   "cell_type": "markdown",
   "metadata": {},
   "source": [
    "## Projections"
   ]
  },
  {
   "cell_type": "markdown",
   "metadata": {},
   "source": [
    "### Vector Projected onto a Vector"
   ]
  },
  {
   "cell_type": "markdown",
   "metadata": {},
   "source": [
    "Let's start by projecting vector ${\\bf u}$ onto the line defined by vector ${\\bf v}$.\n",
    "\n",
    "$$ \\Pi_{\\bf{v}} {\\bf u}= \\frac{ {\\bf u} \\cdot {\\bf v} }{|| {\\bf v} ||^2 } {\\bf v}\n",
    "$$\n",
    "\n",
    "Now let's perform an example calculation in Python and visualize the result in 3D. We'll reuse some plotting code from [](../03/chapter2.ipynb)."
   ]
  },
  {
   "cell_type": "code",
   "execution_count": null,
   "metadata": {},
   "outputs": [],
   "source": [
    "# define vectors\n",
    "u = np.array([1,1,1])\n",
    "v = np.array([2,3,1])\n",
    "\n",
    "# calculate the l2-norm of v\n",
    "norm_v = np.linalg.norm(v, ord=2)\n",
    "\n",
    "proj_u_onto_v = np.dot(u, v)/ norm_v**2 * v\n",
    "\n",
    "# Create 3D figure and axes\n",
    "fig = plt.figure()\n",
    "ax = fig.add_subplot(111, projection='3d')\n",
    "\n",
    "# Set labels and limits\n",
    "ax.set_xlabel('x')\n",
    "ax.set_ylabel('y')\n",
    "ax.set_zlabel('z')\n",
    "ax.set_xlim([-1,2])\n",
    "ax.set_ylim([-1,3])\n",
    "ax.set_zlim([0,2])\n",
    "\n",
    "# Plot vectors\n",
    "def plot_vector(vector, color, label, p = [0,0,0], linestyle=\"-\"):\n",
    "    ''' Plot a 3D vector\n",
    "        Arguments:\n",
    "            vector: np array\n",
    "            color: 'r', 'b', 'g', etc.\n",
    "            label: string for legend\n",
    "            p: point to start vector\n",
    "        \n",
    "    '''\n",
    "    assert len(vector) == 3, \"Must be a 3D vector\"\n",
    "    assert len(p) == 3, \"p must have length 3\"\n",
    "\n",
    "    ax = plt.gca()\n",
    "    ax.quiver(p[0], p[1], p[2], vector[0], vector[1], vector[2], color=color, arrow_length_ratio=0.1, label=label, linestyle=linestyle)\n",
    "\n",
    "plot_vector(u, 'r', r'${\\bf u}$')\n",
    "plot_vector(v, 'b', r'${\\bf v}$')\n",
    "plot_vector(proj_u_onto_v, 'purple', r'$\\Pi_{\\bf v} {\\bf u}$')\n",
    "\n",
    "plt.legend(loc='best',ncol=3)\n",
    "plt.show()\n",
    "\n",
    "print(\"v =\",v)\n",
    "print(\"u =\",u)\n",
    "print(\"u projected onto v =\",proj_u_onto_v)"
   ]
  },
  {
   "cell_type": "markdown",
   "metadata": {},
   "source": [
    "Verify this calculation with pencil and paper. (It is excellent quiz practice.)"
   ]
  },
  {
   "cell_type": "markdown",
   "metadata": {},
   "source": [
    "### Vector Projected onto a Plane"
   ]
  },
  {
   "cell_type": "markdown",
   "metadata": {},
   "source": [
    "Projecting vector $\\bf{u}$ onto a plane is a little more involved, requiring three steps:\n",
    "1. Calculate the vector ${\\bf n}$ orthagonal to the plane.\n",
    "2. Project $\\bf{u}$ onto ${\\bf n}$.\n",
    "3. Subtract this projection from $\\bf{u}$.\n",
    "\n",
    "Let's do it in Python and visualize."
   ]
  },
  {
   "cell_type": "code",
   "execution_count": null,
   "metadata": {},
   "outputs": [],
   "source": [
    "## Step 1: Orthagonal vector for plane\n",
    "# Consider the plane defined by\n",
    "A = np.array([[1, 1, 2]])\n",
    "b = np.array([-1])\n",
    "\n",
    "# The vector orthagonal to this plane is simply\n",
    "n = A.copy().flatten()\n",
    "\n",
    "# And we'll draw our vectors around the point\n",
    "p = np.array([0, 0, b[0]/A[0,2]])\n",
    "\n",
    "## Step 2: Projection\n",
    "\n",
    "# calculate the l2-norm of v\n",
    "norm_n = np.linalg.norm(n, ord=2)\n",
    "\n",
    "# calculate the project\n",
    "proj_u_onto_n = np.dot(u, n)/ norm_n**2 * n\n",
    "\n",
    "## Step 3: Subtract\n",
    "proj_u_onto_P = u - proj_u_onto_n\n",
    "\n",
    "## Step 4: Plot\n",
    "\n",
    "# Plane\n",
    "ax = visualize_linear_system(A, b, return_ax=True)\n",
    "\n",
    "# u\n",
    "plot_vector(u, 'r', r'${\\bf u}$', p=p)\n",
    "\n",
    "# Orthagonal vector\n",
    "plot_vector(n, 'b', r'${\\bf n}$', p=p)\n",
    "\n",
    "# Projection (step 2)\n",
    "plot_vector(proj_u_onto_n, 'purple', r'$\\Pi_{\\bf n} {\\bf u}$', p=p)\n",
    "\n",
    "# Projection (step 3)\n",
    "plot_vector(proj_u_onto_P, 'g', r'$\\Pi_{P} {\\bf u}$', p=p)\n",
    "\n",
    "plt.legend()\n",
    "plt.show()\n",
    "\n",
    "print(\"u =\",u)\n",
    "print(\"n =\",n)\n",
    "print(\"u projected onto n =\",proj_u_onto_n)\n",
    "print(\"u projected onto P =\",proj_u_onto_P)"
   ]
  },
  {
   "cell_type": "markdown",
   "metadata": {},
   "source": [
    "Verify these calculations with pencil and paper (again, good quiz practice)."
   ]
  },
  {
   "cell_type": "markdown",
   "metadata": {},
   "source": [
    "## Visualizing Spaces of a Matrix"
   ]
  },
  {
   "cell_type": "markdown",
   "metadata": {},
   "source": [
    "We'll consider the matrix \n",
    "\n",
    "$$\n",
    "{\\bf A} = \\begin{bmatrix} 4 & -4 & 0 \\\\ 1 & 1 & -2 \\\\ 2 & -6 & 4 \\end{bmatrix}\n",
    "$$\n",
    "\n",
    "Example 1 on pg. 248-250 of Savov (2020) walks through how to calculate the column space, row space, and null space of this matrix. Please read these few pages. In this notebook, we'll perform these calculations numerically and then visualize in 3D."
   ]
  },
  {
   "cell_type": "code",
   "execution_count": null,
   "metadata": {},
   "outputs": [],
   "source": [
    "# Define matrix\n",
    "A = np.array([[4, -4, 0], [1, 1, -2], [2, -6, 4]])\n",
    "\n",
    "# In order to plot the planes of the linear system\n",
    "# encoded in A we also need to define b.\n",
    "# Our choice is arbitrary and just informs plotting.\n",
    "b = np.zeros(3)"
   ]
  },
  {
   "cell_type": "markdown",
   "metadata": {},
   "source": [
    "### Basis for the Column Space"
   ]
  },
  {
   "cell_type": "markdown",
   "metadata": {},
   "source": [
    "A basis for the range of ${\\bf A}$ is also a basis for the column space of ${\\bf A}$."
   ]
  },
  {
   "cell_type": "code",
   "execution_count": null,
   "metadata": {},
   "outputs": [],
   "source": [
    "basis_column_space = la.orth(A)\n",
    "print(basis_column_space)"
   ]
  },
  {
   "cell_type": "markdown",
   "metadata": {},
   "source": [
    "### Basis for the Row Space"
   ]
  },
  {
   "cell_type": "markdown",
   "metadata": {},
   "source": [
    "The basis of the row space can be calculated from the basis of the range of ${\\bf A}^T$."
   ]
  },
  {
   "cell_type": "code",
   "execution_count": null,
   "metadata": {},
   "outputs": [],
   "source": [
    "basis_row_space = la.orth(A.T)\n",
    "print(basis_row_space)"
   ]
  },
  {
   "cell_type": "markdown",
   "metadata": {},
   "source": [
    "### Basis for the Null Space"
   ]
  },
  {
   "cell_type": "code",
   "execution_count": null,
   "metadata": {},
   "outputs": [],
   "source": [
    "basis_null_space = la.null_space(A)\n",
    "print(basis_null_space)"
   ]
  },
  {
   "cell_type": "markdown",
   "metadata": {},
   "source": [
    "### Analysis"
   ]
  },
  {
   "cell_type": "markdown",
   "metadata": {},
   "source": [
    "The row space basis, column space basis, and null space basis calculated above do not match the book exactly. Why does this make sense? Explain in a few sentences.\n",
    "\n",
    "**Your Answer:**"
   ]
  },
  {
   "cell_type": "markdown",
   "metadata": {},
   "source": [
    "Is the basis of the row space orthagonal to the basis of the null space?"
   ]
  },
  {
   "cell_type": "code",
   "execution_count": null,
   "metadata": {},
   "outputs": [],
   "source": [
    "print(\"first dot product =\",np.dot(basis_row_space[:,0], basis_null_space)[0])\n",
    "print(\"second dot product =\",np.dot(basis_row_space[:,1], basis_null_space)[0])\n"
   ]
  },
  {
   "cell_type": "markdown",
   "metadata": {},
   "source": [
    "**Your Answer**:"
   ]
  },
  {
   "cell_type": "markdown",
   "metadata": {},
   "source": [
    "### Visualize"
   ]
  },
  {
   "cell_type": "code",
   "execution_count": null,
   "metadata": {},
   "outputs": [],
   "source": [
    "### Let's customize our function from earlier\n",
    "\n",
    "xlim = [-1, 1]\n",
    "ylim = [-1, 1]\n",
    "\n",
    "colors = [\"red\",\"blue\",\"green\"]\n",
    "\n",
    "assert A.shape[1] == 3, \"Matrix A must have 3 columns\"\n",
    "assert A.shape[0] == len(b), \"Matrix A and vector b must have the same number of rows\"\n",
    "\n",
    "N = len(b)\n",
    "\n",
    "# Create empty plot\n",
    "fig = plt.figure()\n",
    "ax = Axes3D(fig, auto_add_to_figure=False)\n",
    "fig.add_axes(ax)\n",
    "\n",
    "### Plot rows (planes)\n",
    "\n",
    "# Create a grid of points for plotting\n",
    "X, Y = np.meshgrid(np.linspace(xlim[0],xlim[1],5), np.linspace(ylim[0],ylim[1],5))\n",
    "\n",
    "# Loop over equations\n",
    "for i in range(N):\n",
    "\n",
    "    s = \"row \"+str(i)\n",
    "\n",
    "    # Okay to invert for z\n",
    "    if np.abs(A[i,2]) > 1E-8:\n",
    "\n",
    "        # Define function to calculate z\n",
    "        func_z = lambda x,y : (b[i] - A[i,0]*x - A[i,1]*y)/A[i,2]\n",
    "        \n",
    "        # Calculate values of z over meshgrid\n",
    "        Z = func_z(X, Y)\n",
    "\n",
    "        # s = \"{0:.2f}x + {1:.2f}y + {2:.2f}z = {3:.2f}\".format(A[i,0], A[i,1], A[i,2], b[i])\n",
    "        \n",
    "        surf = ax.plot_surface(X, Y, Z, alpha=0.5, label=s, color=colors[i])\n",
    "\n",
    "    # Instead invert for x\n",
    "    else:\n",
    "        func_x = lambda z,y : (b[i] - A[i,2]*z - A[i,1]*y)/A[i,0]\n",
    "\n",
    "        # Calculate values of x over meshgrid\n",
    "        Z_ = X\n",
    "        X_ = func_x(Z_, Y)\n",
    "\n",
    "        surf = ax.plot_surface(X_, Y, Z_, alpha=0.5, label=s, color=colors[i])\n",
    "\n",
    "    # Needed for a legend\n",
    "    # https://stackoverflow.com/questions/27449109/adding-legend-to-a-surface-plot\n",
    "    surf._edgecolors2d = surf._edgecolor3d\n",
    "    surf._facecolors2d = surf._facecolor3d\n",
    "\n",
    "    # Grab orthagonal vector for each plane\n",
    "    n = A[i,:].copy().flatten()\n",
    "    n = n / la.norm(n, ord=2)\n",
    "\n",
    "    # This works out for this example\n",
    "    p = [0, 0, 0]\n",
    "    \n",
    "    plot_vector(n, colors[i], None, p=p)\n",
    "\n",
    "### Plot basis of column space\n",
    "for i in range(basis_column_space.shape[1]):\n",
    "    plot_vector(basis_column_space[:,i], 'black', \"column space basis\", p=p, linestyle='--')\n",
    "\n",
    "### Plot basis of row space\n",
    "for i in range(basis_row_space.shape[1]):\n",
    "    plot_vector(basis_row_space[:,i], 'black', \"row space basis\", p=p, linestyle=':')\n",
    "\n",
    "### Plot basis of null space\n",
    "plot_vector(basis_null_space, 'grey', \"null space basis\", linestyle='-.')\n",
    "\n",
    "### Finish formating\n",
    "\n",
    "ax.set_xlabel('x',fontsize=18)\n",
    "ax.set_ylabel('y',fontsize=18)\n",
    "ax.set_zlabel('z',fontsize=18)\n",
    "\n",
    "plt.legend()\n",
    "plt.show()"
   ]
  },
  {
   "cell_type": "markdown",
   "metadata": {},
   "source": [
    "Observations:\n",
    "* Basis of row space is orthagonal to the basis of the null space.\n",
    "* Because ${\\bf b} = {\\bf 0}$ for this example, the basis of the null space points along the line at the intersection of the planes. Thus the null space described the infinite number of solutions to this linear system.\n",
    "* Each plane corresponds to a row in the linear system. The rows are further visualized as the vectors orthagonal to each plane.\n",
    "* We can see these three vectors (each row) fall on a plane, thus these rows are not linearly independent.\n",
    "* Moreover, the basis of the row space also falls on the same plane as the three colored vectors."
   ]
  },
  {
   "cell_type": "markdown",
   "metadata": {},
   "source": [
    "## Balance Chemical Formula"
   ]
  },
  {
   "cell_type": "markdown",
   "metadata": {},
   "source": [
    "Have you ever wondered how to systematically balance a chemical formula? For example,\n",
    "\n",
    "$a$ CH$_4$ + $b$ O$_2$ $\\rightarrow$ $c$ CO$_2$ + $d$ H$_2$O\n",
    "\n",
    "We know that the number of C, H, and O atoms needs to be conserved (balanced), which gives the following system of linear equations:\n",
    "\n",
    "$$a = c, \\quad 4a = 2d, \\quad 2b = 2c + d$$\n",
    "\n",
    "Let's write this in matrix notation:\n",
    "$$ \\underbrace{\\begin{bmatrix} 1 & 0 & -1 & 0 \\\\ 4 & 0 & 0 & -2 \\\\ 0 & 2 & -2 & -1 \\end{bmatrix}}_{\\bf A} \n",
    "\\underbrace{\\begin{bmatrix} a \\\\ b \\\\ c \\\\ d \\end{bmatrix}}_{\\bf x} = {\\bf 0}\n",
    "$$"
   ]
  },
  {
   "cell_type": "markdown",
   "metadata": {},
   "source": [
    "There is an infinite number of choices for $\\bf x$ because we have three equations (from three atom balances) but there are four coefficients. What should we do?\n",
    "\n",
    "Let's calculate the basis of the null space of $\\bf A$. Please review pg. 364 and 365 for how to do this with pencil and paper. We'll use Python here:"
   ]
  },
  {
   "cell_type": "code",
   "execution_count": null,
   "metadata": {},
   "outputs": [],
   "source": [
    "A = np.array([[1, 0, -1, 0], [4, 0, 0, -2], [0, 2, -2, -1]])\n",
    "print(\"A =\\n\",A)\n",
    "\n",
    "basis_null_space_chemical = la.null_space(A)\n",
    "print(\"\\nnull space =\\n\", basis_null_space_chemical)"
   ]
  },
  {
   "cell_type": "markdown",
   "metadata": {},
   "source": [
    "We are free to choose any value of $\\bf x$ that lines within the null space. Because the null space is dimension one, we'll choose an multiple of the vector above. For example,\n",
    "\n",
    "$$\\bf{x} = \\begin{bmatrix} 1 \\\\ 2 \\\\ 1 \\\\ 2 \\end{bmatrix}$$\n",
    "\n",
    "which corresponds to:\n",
    "\n",
    "1 CH$_4$ + 2 O$_2$ $\\rightarrow$ 1 CO$_2$ + 2 H$_2$O\n"
   ]
  },
  {
   "cell_type": "markdown",
   "metadata": {},
   "source": [
    "Now it's your turn to try. Balance the following chemical formula,\n",
    "\n",
    "$a$ Fe(OH)$_3$ + $b$ HCl $\\rightarrow$ $c$ FeCl$_3$ + $d$ H$_2$ O\n",
    "\n",
    "using the following steps:\n",
    "1. On paper, write the atom balances to obtain a system of linear equations.\n",
    "2. On paper, write this system in matrix form.\n",
    "3. Using Python, calculate a basis for the null space. Hint: If you find the null space is empty, check the coefficients in your linear system. You made a mistake.\n",
    "4. On paper, verify the null space calculation. This is good practice.\n",
    "5. Interpret the basis of the null space to balance the chemical formula. By chemistry convention, avoid fractions for the unknown coefficients."
   ]
  },
  {
   "cell_type": "code",
   "execution_count": null,
   "metadata": {},
   "outputs": [],
   "source": [
    "# Add your solution here"
   ]
  },
  {
   "cell_type": "markdown",
   "metadata": {},
   "source": [
    "Typseset your answer here by replacing $a$, ..., $d$ with whole numbers.\n",
    "\n",
    "$a$ Fe(OH)$_3$ + $b$ HCl $\\rightarrow$ $c$ FeCl$_3$ + $d$ H$_2$ O"
   ]
  },
  {
   "cell_type": "markdown",
   "metadata": {},
   "source": []
  },
  {
   "cell_type": "markdown",
   "metadata": {},
   "source": [
    "## More Practice with Linear Systems"
   ]
  },
  {
   "cell_type": "markdown",
   "metadata": {},
   "source": []
  }
 ],
 "metadata": {
  "kernelspec": {
   "display_name": "jbook2",
   "language": "python",
   "name": "python3"
  },
  "language_info": {
   "codemirror_mode": {
    "name": "ipython",
    "version": 3
   },
   "file_extension": ".py",
   "mimetype": "text/x-python",
   "name": "python",
   "nbconvert_exporter": "python",
   "pygments_lexer": "ipython3",
   "version": "3.9.13"
  }
 },
 "nbformat": 4,
 "nbformat_minor": 2
}
