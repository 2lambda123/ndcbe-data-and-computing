{
 "cells": [
  {
   "cell_type": "markdown",
   "metadata": {},
   "source": [
    "# Example: Heating a Metal Slab\n",
    "\n",
    "You were probably thinking in the last notebook, *we are just learning math... how are finite difference formulas useful for **chemical** engineers?!?!*.\n",
    "\n",
    "We now have discussed enough of the basics to use finite difference formulas to estimate gradients (derivatives) for experiments. Consider a metal slab heated from one side with two temperature probes:\n",
    "\n",
    "![slab](../../media/metal-slab.png)\n",
    "\n",
    "As time elapses, the temperature throughout the slab increases. The temperature gradient in the slab can be modeled using Fourier's law of thermal conduction:\n",
    "\n",
    "$$q_x = -k \\frac{\\partial T}{\\partial x}$$\n",
    "\n",
    "where $k$ is the thermal conductivity of the metal slab. We ultimately want to estimate this material property.\n",
    "\n",
    "The key challenge in this experiment is estimating the temperature gradient, $\\frac{\\partial T}{\\partial x}$. To accomplish this, the metal slab has been equipped with two temperature probes, one located at $x=0$ (probe 1) and another located at $x=0.5$ (probe 2), as shown in the figure above. These two thermocouples have an absolute precision ($\\sigma_{T1}$, $\\sigma_{T2}$) of 0.02 $^\\circ{}$C.\n",
    "\n",
    "Using the measurements from probes 1 and 2, we can estimate the temperature gradient using a finite difference formula:\n",
    "\n",
    "$$\\left. \\frac{\\partial T}{\\partial x} \\right|_{x=0} \\approx \\frac{ \\left. T \\right|_{x=0.5} - \\left. T \\right|_{x=0}}{0.5}$$\n"
   ]
  },
  {
   "cell_type": "markdown",
   "metadata": {},
   "source": [
    "### Algorithm (Truncation) Error"
   ]
  },
  {
   "cell_type": "markdown",
   "metadata": {},
   "source": [
    "<div style=\"background-color: rgba(0,0,255,0.05) ; padding: 10px; border: 1px solid darkblue;\"> \n",
    "<b>Class Activity</b>: With a partner, <b>compute the algorithm (truncation) error</b> using this finite difference formula to approximate the thermal gradient. \n",
    "</div>"
   ]
  },
  {
   "cell_type": "markdown",
   "metadata": {},
   "source": [
    "Hint: Start with a Taylor series expansion:\n",
    "\n",
    "$$\\left. T \\right|_{x=h} = \\left. T \\right|_{x=0} + h \\left. \\frac{\\partial T}{\\partial x} \\right|_{x=0} + \\frac{1}{2} h^2 \\left. \\frac{\\partial^2 T}{\\partial x^2} \\right|_{x = l}$$\n",
    "\n",
    "where $l$ is a length on the slab between 0 and $h$ such that this formula is exact. Let's assume that $\\frac{\\partial^2 T}{\\partial x^2} \\approx 4 ~^\\circ$C / unit length$^2$ and is constant along the slab. With this assumption, $l$ does not really matter.\n"
   ]
  },
  {
   "cell_type": "markdown",
   "metadata": {},
   "source": [
    "### Random Error\n",
    "\n",
    "In a few notebooks, we will formally study probably theory and properties of random variables. If we assume the random errors associated with the temperature probes are independent, we will see soon that the random error in the temperature difference $\\left. T \\right|_{x=0.5} - \\left. T \\right|_{x=0}$ is:\n",
    "\n",
    "$$\\sigma_{\\Delta T} = \\sqrt{\\sigma_{T1}^2 + \\sigma_{T2}^2}$$\n"
   ]
  },
  {
   "cell_type": "markdown",
   "metadata": {},
   "source": [
    "<div style=\"background-color: rgba(0,0,255,0.05) ; padding: 10px; border: 1px solid darkblue;\"> \n",
    "<b>Class Activity</b>: With a partner, <b>compute the random error</b> using the <b>finite difference formula</b> to approximate the thermal gradient. \n",
    "</div>\n"
   ]
  },
  {
   "cell_type": "markdown",
   "metadata": {},
   "source": [
    "### Optimal Location"
   ]
  },
  {
   "cell_type": "markdown",
   "metadata": {},
   "source": [
    "<div style=\"background-color: rgba(0,0,255,0.05) ; padding: 10px; border: 1px solid darkblue;\"> \n",
    "<b>Class Activity</b>: Imagine we can move probe 2 from $h=0.5$ to another location. With a partner, <b> determine the optimal location</b> such that the truncation error and random error are the same order of magnitude. \n",
    "</div>"
   ]
  },
  {
   "cell_type": "markdown",
   "metadata": {},
   "source": [
    "Hints: The optimal location is approximated when the truncation error and random error are the same order of magnitude. Modify your expressions for algorithm error and random error from above to depend on $h$, then set them equal, and finally solve for $h$. This is the optimal location."
   ]
  },
  {
   "cell_type": "markdown",
   "metadata": {},
   "source": [
    "### Visualize the Results"
   ]
  },
  {
   "cell_type": "markdown",
   "metadata": {},
   "source": [
    "<div style=\"background-color: rgba(0,0,255,0.05) ; padding: 10px; border: 1px solid darkblue;\"> \n",
    "<b>Class Activity</b>: Plot your expression of the absolute value of <tt>random error</tt> and <tt>truncation error</tt>. Does this trade-off remind you of plots from the previous two notebooks?\n",
    "</div>"
   ]
  }
 ],
 "metadata": {
  "kernelspec": {
   "display_name": "Python 3 (ipykernel)",
   "language": "python",
   "name": "python3"
  },
  "language_info": {
   "codemirror_mode": {
    "name": "ipython",
    "version": 3
   },
   "file_extension": ".py",
   "mimetype": "text/x-python",
   "name": "python",
   "nbconvert_exporter": "python",
   "pygments_lexer": "ipython3",
   "version": "3.9.12"
  }
 },
 "nbformat": 4,
 "nbformat_minor": 4
}
