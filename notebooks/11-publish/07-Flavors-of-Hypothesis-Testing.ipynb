{
 "cells": [
  {
   "cell_type": "markdown",
   "metadata": {
    "colab_type": "text",
    "id": "OJoQhXZaa6ar"
   },
   "source": [
    "# Flavors of Hypothesis Testing"
   ]
  },
  {
   "cell_type": "markdown",
   "metadata": {
    "colab_type": "text",
    "id": "bq282eIwa6aw",
    "tags": []
   },
   "source": [
    "## Learning Objectives\n",
    "\n",
    "After studying this notebook, completing the activities, and reviewing the textbook, you should be able to:\n",
    "* Apply the five-step hypothesis testing method\n",
    "* Decide which test type and statistic to use based on the problem description\n",
    "* Check assumptions for the chosen statistical test"
   ]
  },
  {
   "cell_type": "code",
   "execution_count": 1,
   "metadata": {
    "colab": {},
    "colab_type": "code",
    "id": "ntiJWSXRa6as",
    "tags": []
   },
   "outputs": [],
   "source": [
    "# load libraries\n",
    "import scipy.stats as stats\n",
    "import numpy as np\n",
    "import math\n",
    "import matplotlib.pyplot as plt"
   ]
  },
  {
   "cell_type": "markdown",
   "metadata": {
    "colab_type": "text",
    "id": "xBL0duhia6au"
   },
   "source": [
    "## Introduction\n",
    "\n",
    "There are many flavors of hypothesis testing. In this tutorial, we will explore the types of hypothesis testing you are most likely to encounter as an engineer. Our textbook explores many more extensions. Remember, confidence intervals and hypothesis testings are conceptually very similar!\n",
    "\n",
    "| Problem Type | Confidence Intervals | Hypothesis Testing |\n",
    "| - | - | - |\n",
    "| Large-Sample Population Mean | §5.1 | §6.1 |\n",
    "| Proportions | §5.2 | §6.3 |\n",
    "| Small-Sample Population Mean | §5.3 | §6.4 |\n",
    "| (Large-Sample) Difference Between Two Means | §5.4 | §6.5 |\n",
    "| Difference Between Two Proportions | §5.5 | §6.6 |\n",
    "| Small-Sample Difference Between Two Means | §5.6 | §6.7 |\n",
    "| Paired Data | §5.7 | §6.8 |\n",
    "\n",
    "**Large-Sample** is code for \"use z-statistic\" and **Small-Sample** is code for \"use t-statistic\"."
   ]
  },
  {
   "cell_type": "markdown",
   "metadata": {},
   "source": [
    "## Small-Sample Test for Population Mean\n",
    "a.k.a. single-sample t-test\n"
   ]
  },
  {
   "cell_type": "markdown",
   "metadata": {
    "colab_type": "text",
    "id": "_hNCx3F1a6aw"
   },
   "source": [
    "### Motivating Example\n",
    "\n",
    "During your internships at Off-Brand Cola, Inc. this summer, you learn that a 12oz can of fizz has a sugar content specification of 38.98 - 39.02 grams. The manufacturing process is supposed to be calibrated so the mean sugar per can is 39.00 grams (otherwise the FDA gets upset), which is the center of the specification window. Six cans are randomly selected for inspection. There sugar contents are:"
   ]
  },
  {
   "cell_type": "code",
   "execution_count": 2,
   "metadata": {
    "colab": {},
    "colab_type": "code",
    "id": "BZF_eWWLa6ax",
    "tags": []
   },
   "outputs": [],
   "source": [
    "sugar = [39.030, 38.997, 39.012, 39.008, 39.019, 39.002]"
   ]
  },
  {
   "cell_type": "markdown",
   "metadata": {
    "colab_type": "text",
    "id": "8lJuakOTa6az"
   },
   "source": [
    "Based on historical data, you are comfortable assuming the population distribution is normal.\n",
    "\n",
    "**Main Question** Can you conclude the process needs recalibration?\n",
    "\n",
    "We will now walk through the 5-step hypothesis testing procedure."
   ]
  },
  {
   "cell_type": "markdown",
   "metadata": {
    "colab_type": "text",
    "id": "G2eb9dyXa6a0"
   },
   "source": [
    "### Step 1. Define Hypotheses.\n",
    "\n",
    "Let $\\mu$ denote the population mean.\n",
    "\n",
    "$$H_0: \\mu = 39.00 \\qquad \\mathrm{versus} \\qquad H_1: \\mu \\neq 39.00$$"
   ]
  },
  {
   "cell_type": "markdown",
   "metadata": {
    "colab_type": "text",
    "id": "5xi9Wclva6a0"
   },
   "source": [
    "### Step 2. Assume $H_0$ is True."
   ]
  },
  {
   "cell_type": "markdown",
   "metadata": {
    "colab_type": "text",
    "id": "4_SQStysa6a1"
   },
   "source": [
    "### Step 3. Compute the Test Statistic.\n",
    "\n",
    "We do not know the population standard deviation, so we will use a t-statistic.\n",
    "\n",
    "$$\n",
    "t = \\frac{\\bar{x} - \\mu}{s / \\sqrt{n}}\n",
    "$$\n",
    "\n",
    "Before we proceed with the calculation, we should check out dataset for outliers. We assumed the population distribution is normal, but we should still plot the sample to check."
   ]
  },
  {
   "cell_type": "code",
   "execution_count": 3,
   "metadata": {
    "colab": {
     "base_uri": "https://localhost:8080/",
     "height": 51
    },
    "colab_type": "code",
    "executionInfo": {
     "elapsed": 394,
     "status": "ok",
     "timestamp": 1553798160146,
     "user": {
      "displayName": "Alexander Dowling",
      "photoUrl": "https://lh3.googleusercontent.com/-LChdQ2m5OQE/AAAAAAAAAAI/AAAAAAAAAA0/JeXJe4vQJ7M/s64/photo.jpg",
      "userId": "00988067626794866502"
     },
     "user_tz": 240
    },
    "id": "CHkbK44Na6a1",
    "outputId": "62b70597-7d16-4ffd-dd6b-4026611c0c8f"
   },
   "outputs": [
    {
     "name": "stdout",
     "output_type": "stream",
     "text": [
      "Sample Mean: 39.01133333333333 g\n",
      "Sample Standard Deviation: 0.011927559124425172 g\n"
     ]
    }
   ],
   "source": [
    "# calculate sample mean and standard deviation\n",
    "xbar = np.mean(sugar)\n",
    "\n",
    "# ddof=1 uses the 1/(N-1) formula\n",
    "# ddof=0 uses the 1/N formula (default)\n",
    "# notice we are using numpy instead of pandas to compute standard deviation\n",
    "s = np.std(sugar,ddof=1)\n",
    "n = len(sugar)\n",
    "\n",
    "print(\"Sample Mean:\",xbar,\"g\")\n",
    "print(\"Sample Standard Deviation:\",s,\"g\")"
   ]
  },
  {
   "cell_type": "code",
   "execution_count": 4,
   "metadata": {
    "colab": {
     "base_uri": "https://localhost:8080/",
     "height": 361
    },
    "colab_type": "code",
    "executionInfo": {
     "elapsed": 730,
     "status": "ok",
     "timestamp": 1553798166176,
     "user": {
      "displayName": "Alexander Dowling",
      "photoUrl": "https://lh3.googleusercontent.com/-LChdQ2m5OQE/AAAAAAAAAAI/AAAAAAAAAA0/JeXJe4vQJ7M/s64/photo.jpg",
      "userId": "00988067626794866502"
     },
     "user_tz": 240
    },
    "id": "0N5VSTPLa6a4",
    "outputId": "66b802a9-06db-4ce1-cac8-ab16c322163d"
   },
   "outputs": [
    {
     "data": {
      "image/png": "[encoded data removed]",
      "text/plain": [
       "<Figure size 432x288 with 1 Axes>"
      ]
     },
     "metadata": {
      "needs_background": "light"
     },
     "output_type": "display_data"
    }
   ],
   "source": [
    "# plot histogram\n",
    "plt.hist(sugar)\n",
    "plt.xlabel(\"Sugar per can [grams]\")\n",
    "plt.ylabel(\"Frequency\")\n",
    "plt.show()"
   ]
  },
  {
   "cell_type": "markdown",
   "metadata": {
    "colab_type": "text",
    "id": "5GWI-_1Ia6a6"
   },
   "source": [
    "**Interpretation**: Six samples is fairly small. Although the largest value may look like an outlier, it is within two standard deviations of the sample mean which is not too uncommon by random chance.\n",
    "\n",
    "We can now **compute the test statistic**:"
   ]
  },
  {
   "cell_type": "code",
   "execution_count": 5,
   "metadata": {
    "colab": {
     "base_uri": "https://localhost:8080/",
     "height": 34
    },
    "colab_type": "code",
    "executionInfo": {
     "elapsed": 462,
     "status": "ok",
     "timestamp": 1553798206841,
     "user": {
      "displayName": "Alexander Dowling",
      "photoUrl": "https://lh3.googleusercontent.com/-LChdQ2m5OQE/AAAAAAAAAAI/AAAAAAAAAA0/JeXJe4vQJ7M/s64/photo.jpg",
      "userId": "00988067626794866502"
     },
     "user_tz": 240
    },
    "id": "eAQKqPaaa6a7",
    "outputId": "1c4210e4-d7f7-4740-9c41-3c2ac8d5a47c"
   },
   "outputs": [
    {
     "name": "stdout",
     "output_type": "stream",
     "text": [
      "t =  2.3274572326112604\n"
     ]
    }
   ],
   "source": [
    "tscore = (xbar - 39.00)/(s / math.sqrt(n))\n",
    "print(\"t = \",tscore)"
   ]
  },
  {
   "cell_type": "markdown",
   "metadata": {
    "colab_type": "text",
    "id": "iUe6q1Gna6a9"
   },
   "source": [
    "### Step 4. Calculate P-Value.\n",
    "\n",
    "Store your answer in `pvalue_a`."
   ]
  },
  {
   "cell_type": "code",
   "execution_count": 6,
   "metadata": {
    "colab": {},
    "colab_type": "code",
    "id": "jDzCiukja6a9",
    "tags": [
     "remove-output"
    ]
   },
   "outputs": [
    {
     "name": "stdout",
     "output_type": "stream",
     "text": [
      "0.06742438341891084\n"
     ]
    }
   ],
   "source": [
    "# Add your solution here"
   ]
  },
  {
   "cell_type": "code",
   "execution_count": 7,
   "metadata": {
    "nbgrader": {
     "grade": true,
     "grade_id": "pvalue_a",
     "locked": true,
     "points": "0.1",
     "solution": false
    },
    "tags": []
   },
   "outputs": [],
   "source": [
    "# Removed autograder test. You may delete this cell."
   ]
  },
  {
   "cell_type": "markdown",
   "metadata": {
    "colab_type": "text",
    "id": "Srqzunw7a6a_"
   },
   "source": [
    "### Step 5. State Conclusions.\n",
    "\n",
    "You now need to interpret the results and state the conclusions. Because the calibration is fast and inexpensive, your team decide to use a significance level of $\\alpha=$ 7.5%."
   ]
  },
  {
   "cell_type": "markdown",
   "metadata": {},
   "source": [
    "Fill in the blank. Store your selection as a integer 1, 2, 3, or 4 in `interpret_a`.\n",
    "\n",
    "Therefore, we __________.\n",
    "1. Accept the null hypothesis.\n",
    "2. Reject the null hypothesis.\n",
    "3. Fail to reject the null hypothesis.\n",
    "4. None of the above."
   ]
  },
  {
   "cell_type": "code",
   "execution_count": 8,
   "metadata": {
    "tags": []
   },
   "outputs": [],
   "source": [
    "# Add your solution here"
   ]
  },
  {
   "cell_type": "code",
   "execution_count": 9,
   "metadata": {
    "nbgrader": {
     "grade": true,
     "grade_id": "interpret_a",
     "locked": true,
     "points": "0.1",
     "solution": false
    },
    "tags": []
   },
   "outputs": [],
   "source": [
    "# Removed autograder test. You may delete this cell."
   ]
  },
  {
   "cell_type": "markdown",
   "metadata": {},
   "source": [
    "Should we recommend to recalibrate the machine? Store your answer as `True` or `False` in `conclude_a`."
   ]
  },
  {
   "cell_type": "code",
   "execution_count": 10,
   "metadata": {
    "tags": []
   },
   "outputs": [],
   "source": [
    "# Add your solution here"
   ]
  },
  {
   "cell_type": "code",
   "execution_count": 11,
   "metadata": {
    "nbgrader": {
     "grade": true,
     "grade_id": "conclude_a",
     "locked": true,
     "points": "0.1",
     "solution": false
    },
    "tags": []
   },
   "outputs": [],
   "source": [
    "# Removed autograder test. You may delete this cell."
   ]
  },
  {
   "cell_type": "markdown",
   "metadata": {},
   "source": [
    "## Small-Sample Difference Between Two Means\n",
    "a.k.a. two-sample t-test"
   ]
  },
  {
   "cell_type": "markdown",
   "metadata": {
    "colab_type": "text",
    "id": "f-xhW6isa6bB"
   },
   "source": [
    "### Motivating Example\n",
    "\n",
    "Consider the comparison of item recognition between two website designs. A sample of $n_Y$ = 10 users using a conventional website design averaged $\\bar{Y} = $ 32.2 items identified, with a standard deviation of $s_Y$ = 8.56. A separate sample of $n_X$ = 10 users using a new website design averaged $\\bar{X}$ = 44.1 items identified, with a standard deviation of $s_X$ = 10.09.\n",
    "\n",
    "Can we conclude the mean number of items identified is greater with the new website design?"
   ]
  },
  {
   "cell_type": "markdown",
   "metadata": {
    "colab_type": "text",
    "id": "BjuQTlN8a6bB"
   },
   "source": [
    "### Step 1. Define Hypotheses.\n",
    "\n",
    "Let $\\mu_X$ and $\\mu_Y$ denote the population means for the new and old designs, respectively.\n",
    "\n",
    "$$H_0: \\mu_X - \\mu_Y \\leq 0 \\qquad \\mathrm{versus} \\qquad H_1: \\mu_X - \\mu_Y > 0$$"
   ]
  },
  {
   "cell_type": "markdown",
   "metadata": {
    "colab_type": "text",
    "id": "o8Qec2_6a6bC"
   },
   "source": [
    "### Step 2. Assume $H_0$ is True."
   ]
  },
  {
   "cell_type": "markdown",
   "metadata": {
    "colab_type": "text",
    "id": "rue4qVGJa6bD"
   },
   "source": [
    "### Step 3. Compute the Test Statistic.\n",
    "\n",
    "We do not know the population standard deviation, so we will use a t-statistic for the difference of means.\n",
    "\n",
    "$$\n",
    "t = \\frac{\\bar{X} - \\bar{Y} - 0}{\\sqrt{s_X^2/n_x + s_Y^2/n_Y}}\n",
    "$$\n",
    "\n",
    "In order to use this test, we must assume both populations are normally distributed.\n",
    "\n",
    "The degrees of freedom are:\n",
    "\n",
    "$$\n",
    "\\nu = \\frac{\\left(\\frac{s_X^2}{n_X} + \\frac{s_Y^2}{n_Y}\\right)^2}{\\frac{(s_X^2/n_X)^2}{n_X - 1} + \\frac{(s_Y^2/n_Y)^2}{n_Y - 1}}, \\qquad \\mathrm{rounded~down~to~the~nearest~integer}\n",
    "$$"
   ]
  },
  {
   "cell_type": "code",
   "execution_count": 12,
   "metadata": {
    "colab": {
     "base_uri": "https://localhost:8080/",
     "height": 34
    },
    "colab_type": "code",
    "executionInfo": {
     "elapsed": 1133,
     "status": "ok",
     "timestamp": 1553795744293,
     "user": {
      "displayName": "Alexander Dowling",
      "photoUrl": "https://lh3.googleusercontent.com/-LChdQ2m5OQE/AAAAAAAAAAI/AAAAAAAAAA0/JeXJe4vQJ7M/s64/photo.jpg",
      "userId": "00988067626794866502"
     },
     "user_tz": 240
    },
    "id": "uPXO8OFRa6bD",
    "outputId": "04cc2d3d-00dc-4917-c868-c66115c9d23c"
   },
   "outputs": [
    {
     "name": "stdout",
     "output_type": "stream",
     "text": [
      "t =  2.8439803014215195\n"
     ]
    }
   ],
   "source": [
    "# old website\n",
    "ybar = 32.2\n",
    "sy = 8.56\n",
    "ny = 10\n",
    "\n",
    "# new website\n",
    "xbar = 44.1\n",
    "sx = 10.09\n",
    "nx = 10\n",
    "\n",
    "t = (xbar - ybar - 0)/math.sqrt(sx**2/nx + sy**2/ny)\n",
    "print(\"t = \",t)"
   ]
  },
  {
   "cell_type": "markdown",
   "metadata": {
    "colab_type": "text",
    "id": "_Icn3AHEa6bG"
   },
   "source": [
    "Calculate the degrees of freedom ($\\nu$). Store your answer in `dof_b`. Remember to round down."
   ]
  },
  {
   "cell_type": "code",
   "execution_count": 13,
   "metadata": {
    "colab": {},
    "colab_type": "code",
    "id": "Y3ul9fCna6bH",
    "tags": [
     "remove-output"
    ]
   },
   "outputs": [
    {
     "name": "stdout",
     "output_type": "stream",
     "text": [
      "Degrees of freedom:\n",
      "17.0\n"
     ]
    }
   ],
   "source": [
    "# Add your solution here\n",
    "print(\"Degrees of freedom:\")\n",
    "print(dof_b)"
   ]
  },
  {
   "cell_type": "code",
   "execution_count": 14,
   "metadata": {
    "nbgrader": {
     "grade": true,
     "grade_id": "dof_b",
     "locked": true,
     "points": "0.1",
     "solution": false
    },
    "tags": []
   },
   "outputs": [],
   "source": [
    "# Removed autograder test. You may delete this cell."
   ]
  },
  {
   "cell_type": "markdown",
   "metadata": {
    "colab_type": "text",
    "id": "tUeC2SuPa6bI"
   },
   "source": [
    "### Step 4. Calculate the P-Value.\n",
    "\n",
    "Calculate the P-value. Store your result in `pvalue_b`."
   ]
  },
  {
   "cell_type": "code",
   "execution_count": 15,
   "metadata": {
    "colab": {},
    "colab_type": "code",
    "id": "4sEaINw6a6bJ",
    "tags": [
     "remove-output"
    ]
   },
   "outputs": [
    {
     "name": "stdout",
     "output_type": "stream",
     "text": [
      "P-value\n",
      "0.005607955797872655\n"
     ]
    }
   ],
   "source": [
    "# Add your solution here\n",
    "\n",
    "print(\"P-value\")\n",
    "print(pvalue_b)"
   ]
  },
  {
   "cell_type": "code",
   "execution_count": 16,
   "metadata": {
    "nbgrader": {
     "grade": true,
     "grade_id": "pvalue_b",
     "locked": true,
     "points": "0.1",
     "solution": false
    },
    "tags": []
   },
   "outputs": [],
   "source": [
    "# Removed autograder test. You may delete this cell."
   ]
  },
  {
   "cell_type": "markdown",
   "metadata": {
    "colab_type": "text",
    "id": "sBGW2pIUa6bK"
   },
   "source": [
    "### Step 5. State Conclusions.\n",
    "\n",
    "The marketing team decides a priori to use a significance level of 5% to balance reward and costs."
   ]
  },
  {
   "cell_type": "markdown",
   "metadata": {},
   "source": [
    "Choose the best conclusion from the following:\n",
    "1. Reject the null hypothesis. The **old** website has a higher mean number of items recognized.\n",
    "2. Reject the null hypothesis. The **new** website has a higher mean number of items recognized.\n",
    "3. Accept the null hypothesis. The **old** website has a higher mean number of items recognized.\n",
    "4. Accept the null hypothesis. The **new** website has a higher mean number of items recognized.\n",
    "5. Fail to reject the null hypothesis. The **old** website has a higher mean number of items recognized.\n",
    "6. Fail to reject the null hypothesis. The **new** website has a higher mean number of items recognized.\n",
    "\n",
    "\n",
    "Record your answer as an integer in `conclude_b`."
   ]
  },
  {
   "cell_type": "code",
   "execution_count": 17,
   "metadata": {
    "tags": []
   },
   "outputs": [],
   "source": [
    "# Add your solution here"
   ]
  },
  {
   "cell_type": "code",
   "execution_count": 18,
   "metadata": {
    "nbgrader": {
     "grade": true,
     "grade_id": "conclude_b",
     "locked": true,
     "points": "0.1",
     "solution": false
    },
    "tags": []
   },
   "outputs": [],
   "source": [
    "# Removed autograder test. You may delete this cell."
   ]
  },
  {
   "cell_type": "markdown",
   "metadata": {},
   "source": [
    "## Small-Sample Different Between Pairwise Means\n",
    "a.k.a. paired t-test"
   ]
  },
  {
   "cell_type": "markdown",
   "metadata": {
    "colab_type": "text",
    "id": "wqdy-VbUa6bN"
   },
   "source": [
    "### Motivating Example\n",
    "\n",
    "Particulate matter (PM) emissions from automobiles cause serious environmental impacts. Eight vehicles were chosen at random from a fleet, and their emissions were measured under both highway and stop-and-go driving conditions. The difference, stop-and-go minus highway emissions, for each car were then computed. Below are the results in mg per gallon of fuel:"
   ]
  },
  {
   "cell_type": "code",
   "execution_count": 19,
   "metadata": {
    "colab": {
     "base_uri": "https://localhost:8080/",
     "height": 34
    },
    "colab_type": "code",
    "executionInfo": {
     "elapsed": 1122,
     "status": "ok",
     "timestamp": 1553795744299,
     "user": {
      "displayName": "Alexander Dowling",
      "photoUrl": "https://lh3.googleusercontent.com/-LChdQ2m5OQE/AAAAAAAAAAI/AAAAAAAAAA0/JeXJe4vQJ7M/s64/photo.jpg",
      "userId": "00988067626794866502"
     },
     "user_tz": 240
    },
    "id": "v8PFdUOHa6bO",
    "outputId": "6e4617b3-984b-4b9c-c985-f87f65f6bf78"
   },
   "outputs": [
    {
     "name": "stdout",
     "output_type": "stream",
     "text": [
      "[ 559  414  227  190  353 -229 -226  236]\n"
     ]
    }
   ],
   "source": [
    "stop_go = np.array([1500, 870, 1120, 1250, 3460, 1110, 1120, 880])\n",
    "highway = np.array([941, 456, 893, 1060, 3107, 1339, 1346, 644])\n",
    "\n",
    "diff = stop_go - highway\n",
    "print(diff)"
   ]
  },
  {
   "cell_type": "markdown",
   "metadata": {
    "colab_type": "text",
    "id": "VPq8-2gta6bW"
   },
   "source": [
    "The first element of each array are data from car 1, the second for car 2, etc.\n",
    "\n",
    "Can we conclude that the mean level of emissions is less for highway driving than for stop-and-go driving?"
   ]
  },
  {
   "cell_type": "markdown",
   "metadata": {
    "colab_type": "text",
    "id": "P4vXG7Qza6bX"
   },
   "source": [
    "### Step 1. Define Hypotheses.\n",
    "\n",
    "We will treat the difference for each car as a single random variable: $D$. Let $\\mu_D$ and $\\sigma_D$ represent the mean and standard deviation of the population distribution for the difference.\n",
    "\n",
    "$$H_0: \\mu_D \\leq 0 \\qquad \\mathrm{versus} \\qquad H_1: \\mu_D > 0$$"
   ]
  },
  {
   "cell_type": "markdown",
   "metadata": {
    "colab_type": "text",
    "id": "tSzf3_47a6bY"
   },
   "source": [
    "### Step 2. Assume $H_0$ is True."
   ]
  },
  {
   "cell_type": "markdown",
   "metadata": {
    "colab_type": "text",
    "id": "SrWbSYhAa6bY"
   },
   "source": [
    "### Step 3. Compute the Test Statistic.\n",
    "\n",
    "We do not know the population standard deviation, so we will use a t-statistic.\n",
    "\n",
    "$$\n",
    "t = \\frac{\\bar{D} - \\mu_D}{s / \\sqrt{n}}\n",
    "$$\n",
    "\n",
    "Notice this becomes a \"vanilla\" one-sample t-test after we take the difference.\n",
    "\n",
    "Before we proceed with the calculation, we should check out dataset for outliers. We assumed the population distribution is normal, but we should still plot the sample to check."
   ]
  },
  {
   "cell_type": "code",
   "execution_count": 20,
   "metadata": {
    "colab": {
     "base_uri": "https://localhost:8080/",
     "height": 51
    },
    "colab_type": "code",
    "executionInfo": {
     "elapsed": 395,
     "status": "ok",
     "timestamp": 1553798913210,
     "user": {
      "displayName": "Alexander Dowling",
      "photoUrl": "https://lh3.googleusercontent.com/-LChdQ2m5OQE/AAAAAAAAAAI/AAAAAAAAAA0/JeXJe4vQJ7M/s64/photo.jpg",
      "userId": "00988067626794866502"
     },
     "user_tz": 240
    },
    "id": "U_g2MucOa6bZ",
    "outputId": "0002a7e1-4f3a-4f39-99ce-a68f77b55a6d"
   },
   "outputs": [
    {
     "name": "stdout",
     "output_type": "stream",
     "text": [
      "Sample Mean: 190.5 mg / gallon fuel\n",
      "Sample Standard Deviation: 284.1041056675226 mg / gallon fuel\n"
     ]
    }
   ],
   "source": [
    "# calculate sample mean and standard deviation\n",
    "xbar = np.mean(diff)\n",
    "\n",
    "# ddof=1 uses the 1/(N-1) formula\n",
    "# ddof=0 uses the 1/N formula (default)\n",
    "# some statistics textbooks strongly emphasize using 1/(N-1)\n",
    "# we will not dwell on the different this semester and use them interchangably\n",
    "# we will use ddof=1 to match the scanned figure below\n",
    "s = np.std(diff,ddof=1)\n",
    "n = len(diff)\n",
    "\n",
    "print(\"Sample Mean:\",xbar,\"mg / gallon fuel\")\n",
    "print(\"Sample Standard Deviation:\",s,\"mg / gallon fuel\")"
   ]
  },
  {
   "cell_type": "code",
   "execution_count": 21,
   "metadata": {
    "colab": {
     "base_uri": "https://localhost:8080/",
     "height": 361
    },
    "colab_type": "code",
    "executionInfo": {
     "elapsed": 566,
     "status": "ok",
     "timestamp": 1553798924622,
     "user": {
      "displayName": "Alexander Dowling",
      "photoUrl": "https://lh3.googleusercontent.com/-LChdQ2m5OQE/AAAAAAAAAAI/AAAAAAAAAA0/JeXJe4vQJ7M/s64/photo.jpg",
      "userId": "00988067626794866502"
     },
     "user_tz": 240
    },
    "id": "JbVaZ7bNa6ba",
    "outputId": "48d01821-7f94-46b2-cf43-9d064aaa249a"
   },
   "outputs": [
    {
     "data": {
      "image/png": "[encoded data removed]",
      "text/plain": [
       "<Figure size 432x288 with 1 Axes>"
      ]
     },
     "metadata": {
      "needs_background": "light"
     },
     "output_type": "display_data"
    }
   ],
   "source": [
    "# plot histogram\n",
    "plt.hist(diff)\n",
    "plt.xlabel(\"Difference in PM emissions [mg / gallon fuel]\")\n",
    "plt.ylabel(\"Frequency\")\n",
    "plt.show()"
   ]
  },
  {
   "cell_type": "markdown",
   "metadata": {
    "colab_type": "text",
    "id": "83zo7HPWa6bc"
   },
   "source": [
    "**Interpretation**: There are two cars with a negative difference. The remaining six have a positive difference. The two cars look like outliers. We will proceed with the hypothesis testing to offer a complete example, but we need to be extremely skeptical of the results. From an engineering perspective, **we should investigate these two outliers further**. This could give us new insights about PM emissions.\n",
    "\n",
    "We will now **compute the test statistic**:"
   ]
  },
  {
   "cell_type": "code",
   "execution_count": 22,
   "metadata": {
    "colab": {
     "base_uri": "https://localhost:8080/",
     "height": 34
    },
    "colab_type": "code",
    "executionInfo": {
     "elapsed": 1562,
     "status": "ok",
     "timestamp": 1553795744777,
     "user": {
      "displayName": "Alexander Dowling",
      "photoUrl": "https://lh3.googleusercontent.com/-LChdQ2m5OQE/AAAAAAAAAAI/AAAAAAAAAA0/JeXJe4vQJ7M/s64/photo.jpg",
      "userId": "00988067626794866502"
     },
     "user_tz": 240
    },
    "id": "OMQQ8d51a6bd",
    "outputId": "05ca3074-35f7-4d1a-c1d2-679d7b3654b8"
   },
   "outputs": [
    {
     "name": "stdout",
     "output_type": "stream",
     "text": [
      "t =  1.8965419946965025\n"
     ]
    }
   ],
   "source": [
    "tscore = (xbar - 0)/(s / math.sqrt(n))\n",
    "print(\"t = \",tscore)"
   ]
  },
  {
   "cell_type": "markdown",
   "metadata": {
    "colab_type": "text",
    "id": "jqpWzI6Qa6bf"
   },
   "source": [
    "### Step 4. Calculate P-Value.\n",
    "\n",
    "Which graph below shows the correct shaded region for this hypothesis test?\n",
    "\n",
    "![one-sided-left](https://ndcbe.github.io/data-and-computing/_images/one-sided-left.png)\n",
    "![two-sided](https://ndcbe.github.io/data-and-computing/_images/two-sided.png)\n",
    "![one-sided-right](https://ndcbe.github.io/data-and-computing/_images/one-sided-right.png)\n",
    "\n",
    "Choices:\n",
    "1. one-sided (left)\n",
    "2. two-sided\n",
    "3. one-sided (right)\n",
    "4. none of these\n",
    "\n",
    "Record your answer as an integer in `sketch_c`."
   ]
  },
  {
   "cell_type": "code",
   "execution_count": 23,
   "metadata": {
    "colab": {},
    "colab_type": "code",
    "id": "DifXECSIa6bf",
    "tags": []
   },
   "outputs": [],
   "source": [
    "# Add your solution here"
   ]
  },
  {
   "cell_type": "code",
   "execution_count": 24,
   "metadata": {
    "nbgrader": {
     "grade": true,
     "grade_id": "sketch_c",
     "locked": true,
     "points": "0.1",
     "solution": false
    },
    "tags": []
   },
   "outputs": [],
   "source": [
    "# Removed autograder test. You may delete this cell."
   ]
  },
  {
   "cell_type": "markdown",
   "metadata": {},
   "source": [
    "Now calculate the p-value. Store your answer in `pvalue_c`."
   ]
  },
  {
   "cell_type": "code",
   "execution_count": 25,
   "metadata": {
    "tags": [
     "remove-output"
    ]
   },
   "outputs": [
    {
     "name": "stdout",
     "output_type": "stream",
     "text": [
      "P-value:\n",
      "0.049855871601833246\n"
     ]
    }
   ],
   "source": [
    "# Add your solution here\n",
    "\n",
    "print(\"P-value:\")\n",
    "print(pvalue_c)"
   ]
  },
  {
   "cell_type": "code",
   "execution_count": 26,
   "metadata": {
    "nbgrader": {
     "grade": true,
     "grade_id": "pvalue_c",
     "locked": true,
     "points": "0.1",
     "solution": false
    },
    "tags": []
   },
   "outputs": [],
   "source": [
    "# Removed autograder test. You may delete this cell."
   ]
  },
  {
   "cell_type": "markdown",
   "metadata": {
    "colab_type": "text",
    "id": "eKXHhATfa6bg"
   },
   "source": [
    "### Step 5. State Conclusions.\n",
    "\n",
    "We will not interpret the P-value for this example because the sample contains likely outliers. This suggests the assumption that the population is normally distributed is violated, and thus we cannot apply the t-test.\n",
    "\n",
    "Instead we recommend:\n",
    "1. Investigate why two cars had a different trend than the other 2.\n",
    "2. Take a larger sample. This would allow us to invoke the central limit theorem."
   ]
  },
  {
   "cell_type": "markdown",
   "metadata": {
    "colab_type": "text",
    "id": "C5c2zHxPa6bi"
   },
   "source": [
    "## Population Proportion"
   ]
  },
  {
   "cell_type": "markdown",
   "metadata": {
    "colab_type": "text",
    "id": "2wbUsrE_a6bi"
   },
   "source": [
    "### Motivating Example\n",
    "\n",
    "A supplier of semiconductor wafers claims that for all of the wafers they supply, no more than 10% are defective. We receive and test a sample of 400 wafers, and find 50 of them ($\\hat{p}$ = 50/400 = 12.5%) are defective. Can we conclude the supplier's claim is false?"
   ]
  },
  {
   "cell_type": "code",
   "execution_count": 27,
   "metadata": {
    "colab": {},
    "colab_type": "code",
    "id": "YmhypD1ta6bj",
    "tags": []
   },
   "outputs": [],
   "source": [
    "# proportion of tested waffers that are defective\n",
    "# sample proportion\n",
    "phat = 0.125\n",
    "\n",
    "# sample size\n",
    "n = 400"
   ]
  },
  {
   "cell_type": "markdown",
   "metadata": {
    "colab_type": "text",
    "id": "6-TAnlRja6bl"
   },
   "source": [
    "### Step 1. Define Hypotheses.\n",
    "\n",
    "Let $p$ represent the proportion of defective wafers in the population. If we assume the manufacturing of each wafer is independent, $p$ is also the probability a single wafer is defective.\n",
    "\n",
    "$$H_0: p \\leq 0.1 \\qquad \\mathrm{versus} \\qquad H_1: p > 0.1$$"
   ]
  },
  {
   "cell_type": "code",
   "execution_count": 28,
   "metadata": {
    "colab": {},
    "colab_type": "code",
    "id": "0_SAHMYCa6bm",
    "tags": []
   },
   "outputs": [],
   "source": [
    "# null hypothesis proportion\n",
    "p = 0.1"
   ]
  },
  {
   "cell_type": "markdown",
   "metadata": {
    "colab_type": "text",
    "id": "_TJzOrGua6bn"
   },
   "source": [
    "### Step 2. Assume $H_0$ is True."
   ]
  },
  {
   "cell_type": "markdown",
   "metadata": {
    "colab_type": "text",
    "id": "4QfiUfBla6bo"
   },
   "source": [
    "### Step 3. Compute the Test Statistic.\n",
    "\n",
    "Recall $\\hat{p}$ is the **sample proportion**, which we will use to draw inferences about the **population proportion** $p$.\n",
    "\n",
    "If we assume wafers are sampled independently, we can use the large sample size to invoke the Central Limit Theorem:\n",
    "\n",
    "$$\n",
    "\\hat{p} \\sim \\mathcal{N}\\left(p,~ \\frac{p(1-p)}{n} \\right)\n",
    "$$\n",
    "\n",
    "*Side note*: We could model wafer production with the binomial distribution. With a large sample (many trials), the binomial distribution is closely approximated by the normal distribution.\n",
    "\n",
    "The standard deviation of $\\hat{p}$, denoted $\\sigma_{\\hat{p}}$ is calculated as follows:\n",
    "\n",
    "$$\n",
    "\\sigma_{\\hat{p}} = \\sqrt{\\frac{p (1-p)}{n}}\n",
    "$$\n",
    "\n",
    "We can now calculate the z-statistics:\n",
    "\n",
    "$$\n",
    "z = \\frac{\\hat{p} - p}{\\sigma_{\\hat{p}}}\n",
    "$$"
   ]
  },
  {
   "cell_type": "code",
   "execution_count": 29,
   "metadata": {
    "colab": {
     "base_uri": "https://localhost:8080/",
     "height": 34
    },
    "colab_type": "code",
    "executionInfo": {
     "elapsed": 1559,
     "status": "ok",
     "timestamp": 1553795744788,
     "user": {
      "displayName": "Alexander Dowling",
      "photoUrl": "https://lh3.googleusercontent.com/-LChdQ2m5OQE/AAAAAAAAAAI/AAAAAAAAAA0/JeXJe4vQJ7M/s64/photo.jpg",
      "userId": "00988067626794866502"
     },
     "user_tz": 240
    },
    "id": "FyUHOICLa6bp",
    "outputId": "b33bc932-0431-4d53-dacc-2fc2ca94ec56"
   },
   "outputs": [
    {
     "name": "stdout",
     "output_type": "stream",
     "text": [
      "sigma_phat = 0.015000000000000001\n"
     ]
    }
   ],
   "source": [
    "s_phat = math.sqrt(p*(1-p)/n)\n",
    "print(\"sigma_phat =\",s_phat)"
   ]
  },
  {
   "cell_type": "code",
   "execution_count": 30,
   "metadata": {
    "colab": {
     "base_uri": "https://localhost:8080/",
     "height": 34
    },
    "colab_type": "code",
    "executionInfo": {
     "elapsed": 1545,
     "status": "ok",
     "timestamp": 1553795744789,
     "user": {
      "displayName": "Alexander Dowling",
      "photoUrl": "https://lh3.googleusercontent.com/-LChdQ2m5OQE/AAAAAAAAAAI/AAAAAAAAAA0/JeXJe4vQJ7M/s64/photo.jpg",
      "userId": "00988067626794866502"
     },
     "user_tz": 240
    },
    "id": "Ol751ecXa6br",
    "outputId": "13fdc202-61b3-49db-ee44-5babc4e7f986"
   },
   "outputs": [
    {
     "name": "stdout",
     "output_type": "stream",
     "text": [
      "z = 1.666666666666666\n"
     ]
    }
   ],
   "source": [
    "z = (phat - p)/s_phat\n",
    "print(\"z =\",z)"
   ]
  },
  {
   "cell_type": "markdown",
   "metadata": {
    "colab_type": "text",
    "id": "LAKFnFqJa6bu"
   },
   "source": [
    "### Step 4. Calculate P-Value.\n",
    "\n",
    "Calculate the P-value. Store your answer in `pvalue_d`."
   ]
  },
  {
   "cell_type": "code",
   "execution_count": 31,
   "metadata": {
    "colab": {},
    "colab_type": "code",
    "id": "_5qAiFLfa6bv",
    "nbgrader": {
     "grade": false,
     "grade_id": "pvalue_d",
     "locked": false,
     "points": "0.1",
     "solution": false
    },
    "scrolled": true,
    "tags": [
     "remove-output"
    ]
   },
   "outputs": [
    {
     "name": "stdout",
     "output_type": "stream",
     "text": [
      "P-value:\n",
      "0.04779035227281481\n"
     ]
    }
   ],
   "source": [
    "# Add your solution here\n",
    "\n",
    "print(\"P-value:\")\n",
    "print(pvalue_d)"
   ]
  },
  {
   "cell_type": "code",
   "execution_count": 32,
   "metadata": {
    "nbgrader": {
     "grade": true,
     "grade_id": "pvalue_d",
     "locked": true,
     "points": "0.1",
     "solution": false
    },
    "tags": []
   },
   "outputs": [],
   "source": [
    "# Removed autograder test. You may delete this cell."
   ]
  },
  {
   "cell_type": "markdown",
   "metadata": {
    "colab_type": "text",
    "id": "XBh9TYFta6bw"
   },
   "source": [
    "### Step 5. State Conclusions.\n",
    "\n",
    "Choose the best set of conclusions using an $\\alpha$ = 0.01 significance level:\n",
    "1. Reject the null hypothesis. The claim is true.\n",
    "2. Reject the null hypothesis. Based on the data, we cannot determine the claim is false.\n",
    "3. Reject the null hypothesis. The claim is false.\n",
    "4. Fail to reject the null hypothesis. The claim is true.\n",
    "5. Fail to reject the null hypothesis. The claim is false.\n",
    "6. Fail to reject the null hypothesis. Based on the data, we cannot determine the claim is false.\n",
    "7. Accept the null hypothesis. The claim is true.\n",
    "8. Accept the null hypothesis. The claim is false.\n",
    "9. Accept the null hypothesis. Based on the data, we cannot determine the claim is false.\n",
    "\n",
    "Record your selection as an integer in `conclude_d`."
   ]
  },
  {
   "cell_type": "code",
   "execution_count": 33,
   "metadata": {
    "tags": []
   },
   "outputs": [],
   "source": [
    "# Add your solution here"
   ]
  },
  {
   "cell_type": "code",
   "execution_count": 34,
   "metadata": {
    "nbgrader": {
     "grade": true,
     "grade_id": "conclude_d",
     "locked": true,
     "points": "0.1",
     "solution": false
    },
    "tags": []
   },
   "outputs": [],
   "source": [
    "# Removed autograder test. You may delete this cell."
   ]
  }
 ],
 "metadata": {
  "colab": {
   "name": "L19-Tour-de-Hypothesis-Testing.ipynb",
   "provenance": [],
   "version": "0.3.2"
  },
  "kernelspec": {
   "display_name": "Python 3 (ipykernel)",
   "language": "python",
   "name": "python3"
  },
  "language_info": {
   "codemirror_mode": {
    "name": "ipython",
    "version": 3
   },
   "file_extension": ".py",
   "mimetype": "text/x-python",
   "name": "python",
   "nbconvert_exporter": "python",
   "pygments_lexer": "ipython3",
   "version": "3.9.12"
  }
 },
 "nbformat": 4,
 "nbformat_minor": 4
}
