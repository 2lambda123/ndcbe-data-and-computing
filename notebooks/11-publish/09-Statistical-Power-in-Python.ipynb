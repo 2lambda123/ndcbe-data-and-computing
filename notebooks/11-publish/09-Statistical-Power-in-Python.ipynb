{
 "cells": [
  {
   "cell_type": "markdown",
   "metadata": {
    "colab_type": "text",
    "id": "Bi9hZ44D2AQJ"
   },
   "source": [
    "# Statistical Power in Python\n"
   ]
  },
  {
   "cell_type": "markdown",
   "metadata": {
    "colab_type": "text",
    "id": "xhyUzB0X2AQO"
   },
   "source": [
    "## Learning Objectives\n",
    "\n",
    "After studying this notebook, completing the activities, participating in class, and reviewing your notes, should be able to:\n",
    "* Calculate statistical power in Python."
   ]
  },
  {
   "cell_type": "code",
   "execution_count": 1,
   "metadata": {
    "colab": {},
    "colab_type": "code",
    "id": "9wy-3eQa2AQK",
    "tags": []
   },
   "outputs": [],
   "source": [
    "# load libraries\n",
    "import scipy.stats as stats\n",
    "import numpy as np\n",
    "import math\n",
    "import matplotlib.pyplot as plt"
   ]
  },
  {
   "cell_type": "markdown",
   "metadata": {
    "colab_type": "text",
    "id": "fAz7ywtR2AQr"
   },
   "source": [
    "## Exploring Statistical Power in Python\n",
    "\n",
    "The statistical power calculations above were for a z-test, which is reasonable with a large sample size (recall the CLT). Power calculations are more intricate with the t-distribution and other statistical tests.\n",
    "\n",
    "We will now look at some tools to explore statistical power in Python. Here are some tutorials with more information:\n",
    "* https://towardsdatascience.com/introduction-to-power-analysis-in-python-e7b748dfa26\n",
    "* https://machinelearningmastery.com/statistical-power-and-power-analysis-in-python/\n",
    "* https://www.statsmodels.org/stable/stats.html\n",
    "\n",
    "Here is the documentation for the function we will use: https://www.statsmodels.org/stable/generated/statsmodels.stats.power.TTestPower.power.html#statsmodels.stats.power.TTestPower.power"
   ]
  },
  {
   "cell_type": "markdown",
   "metadata": {},
   "source": [
    "<div class=\"admonition note\"> \n",
    "<p class=\"title\"><b>Class Activity</b></p>\n",
    " Discuss the code and plot below.\n",
    "</div>"
   ]
  },
  {
   "cell_type": "markdown",
   "metadata": {},
   "source": [
    "This code analyzes Activity:Question 2 from [this notebook.](../11-publish/08-Statistical-Power-Basics.ipynb)"
   ]
  },
  {
   "cell_type": "code",
   "execution_count": null,
   "metadata": {
    "colab": {
     "base_uri": "https://localhost:8080/",
     "height": 520
    },
    "colab_type": "code",
    "executionInfo": {
     "elapsed": 2010,
     "status": "ok",
     "timestamp": 1553803032450,
     "user": {
      "displayName": "Alexander Dowling",
      "photoUrl": "https://lh3.googleusercontent.com/-LChdQ2m5OQE/AAAAAAAAAAI/AAAAAAAAAA0/JeXJe4vQJ7M/s64/photo.jpg",
      "userId": "00988067626794866502"
     },
     "user_tz": 240
    },
    "id": "hFVYmHiR2AQs",
    "outputId": "d182e666-cadd-4154-f7fa-2a60fac8c2ed"
   },
   "outputs": [],
   "source": [
    "# Import tools for power calculations for one-sample t-test\n",
    "from statsmodels.stats.power import TTestPower\n",
    "\n",
    "# let's continue to examine the process yield improvement example from the last notebook\n",
    "mu0 = 80 # given in last notebook's example\n",
    "\n",
    "# means for the alternate hypothesis\n",
    "mu_alt = np.array([81, 82, 83, 84, 85, 86, 87])\n",
    "\n",
    "# standard deviation\n",
    "s = 5\n",
    "\n",
    "# significance level\n",
    "alpha = 0.05\n",
    "\n",
    "# \"effect size\" refers to the between the null and alternate hypothesis means normalized by \n",
    "# the sample standard deviation\n",
    "effect_sizes = (mu_alt - mu0) / s\n",
    "\n",
    "# vector of sample sizes\n",
    "sample_sizes = np.array(range(5, 100))\n",
    "\n",
    "# declare numpy array to store power calculation results\n",
    "nE = len(effect_sizes)\n",
    "nS = len(sample_sizes)\n",
    "p = np.zeros((nE,nS))\n",
    "\n",
    "# create empty figure\n",
    "plt.figure(figsize=(10,8))\n",
    "\n",
    "analysis = TTestPower()\n",
    "\n",
    "# loop over all combinations of effect size and sample size\n",
    "for i in range(nE):\n",
    "    for j in range(nS):\n",
    "        \n",
    "        # Calculate statistical power\n",
    "        p[i,j] = analysis.power(effect_sizes[i], # effect size\n",
    "                                  sample_sizes[j], # number of observations\n",
    "                                  alpha, # significance level\n",
    "                                  df=sample_sizes[j] - 1, # degrees of freedom\n",
    "                                  alternative='larger' # specify one-sided hypothesis\n",
    "                                 )\n",
    "        \n",
    "    # plot curve for this effect size\n",
    "    plt.plot(sample_sizes,p[i,:],label=\"$\\mu$ = \"+str(mu_alt[i]),linewidth=3)\n",
    "\n",
    "plt.xlabel(\"Number of Observations\",fontsize=16)\n",
    "plt.ylabel(\"Statistical Power\",fontsize=16)\n",
    "plt.title(\"Significance Level: \"+str(alpha),fontsize=16)\n",
    "plt.legend(fontsize=16,loc=\"lower right\")\n",
    "plt.grid(True)\n",
    "plt.title\n",
    "plt.show()"
   ]
  }
 ],
 "metadata": {
  "colab": {
   "name": "L18-Error-Rates-Statistical-Power.ipynb",
   "provenance": [],
   "version": "0.3.2"
  },
  "kernelspec": {
   "display_name": "Python 3 (ipykernel)",
   "language": "python",
   "name": "python3"
  },
  "language_info": {
   "codemirror_mode": {
    "name": "ipython",
    "version": 3
   },
   "file_extension": ".py",
   "mimetype": "text/x-python",
   "name": "python",
   "nbconvert_exporter": "python",
   "pygments_lexer": "ipython3",
   "version": "3.9.12"
  }
 },
 "nbformat": 4,
 "nbformat_minor": 4
}
