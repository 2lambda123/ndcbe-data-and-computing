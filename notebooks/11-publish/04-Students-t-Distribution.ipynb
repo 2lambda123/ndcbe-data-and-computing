{
 "cells": [
  {
   "cell_type": "markdown",
   "metadata": {
    "colab_type": "text",
    "id": "PnoA967-7IJF"
   },
   "source": [
    "# Student's t-Distribution\n"
   ]
  },
  {
   "cell_type": "markdown",
   "metadata": {
    "colab_type": "text",
    "id": "2YUxu2XA7IJH",
    "tags": []
   },
   "source": [
    "## Learning Objectives\n",
    "\n",
    "After studying this notebook, attending class, completing the home activities, and asking questions, you should be able to:\n",
    "* Calculate any size confidence interval (95%, 99%, etc.) using z- or t-distribution\n",
    " * Explain why the t-distribution is important. Relate this back to the CLT\n",
    " * Check for the assumption required to apply the t-distribution"
   ]
  },
  {
   "cell_type": "code",
   "execution_count": 1,
   "metadata": {
    "tags": []
   },
   "outputs": [],
   "source": [
    "# load libraries\n",
    "import scipy.stats as stats\n",
    "import numpy as np\n",
    "import math\n",
    "import matplotlib.pyplot as plt"
   ]
  },
  {
   "cell_type": "markdown",
   "metadata": {},
   "source": [
    "## Student's t-Distribution\n",
    "\n",
    "**Further Reading**: §5.3 in Navidi (2015)\n"
   ]
  },
  {
   "cell_type": "markdown",
   "metadata": {},
   "source": [
    "### Main Idea\n",
    "\n",
    "What happens if the sample size is *small* and we do not know $\\sigma$? Two complications arise:\n",
    "* Cannot invoke central limit theorem\n",
    "* Need to account for errors when estimating $\\sigma$ (population standard deviation) using $s$ (sample standard deviation)\n",
    "\n",
    "**Solution: Student's t-distribution**\n",
    "\n",
    "**History Side Tangent**\n",
    "\n",
    "Published in 1908 by William Sealy Goshet under the pseudonym *Student*.\n",
    "\n",
    "![](https://upload.wikimedia.org/wikipedia/commons/thumb/4/42/William_Sealy_Gosset.jpg/170px-William_Sealy_Gosset.jpg)\n",
    "![](https://upload.wikimedia.org/wikipedia/en/thumb/f/fe/Guinness-original-logo.svg/220px-Guinness-original-logo.svg.png)"
   ]
  },
  {
   "cell_type": "markdown",
   "metadata": {},
   "source": [
    "### Degrees of Freedom and Visualization\n",
    "\n",
    "$\\nu$ is the degrees of freedom:\n",
    "* Student's t-distribution converges to the Gaussian distribution (normal distribution shown in last notebook) as $\\nu \\rightarrow \\infty$\n",
    "* $\\nu$ is often $n$ - 1. We lose 1 degree of freedom to estimate standard deviation\n",
    "\n",
    "<img src=\"https://upload.wikimedia.org/wikipedia/commons/thumb/4/41/Student_t_pdf.svg/960px-Student_t_pdf.svg.png\" alt=\"drawing\" width=\"400\"/>\n",
    "<img src=\"https://upload.wikimedia.org/wikipedia/commons/thumb/e/e7/Student_t_cdf.svg/960px-Student_t_cdf.svg.png\" alt=\"drawing\" width=\"400\"/>"
   ]
  },
  {
   "cell_type": "markdown",
   "metadata": {},
   "source": [
    "## Comparison of $z^*$ and $t^*$"
   ]
  },
  {
   "cell_type": "code",
   "execution_count": 2,
   "metadata": {},
   "outputs": [
    {
     "name": "stdout",
     "output_type": "stream",
     "text": [
      "Consider n = 5\n",
      "\n",
      "z-star for 95% interval: (-1.959963984540054, 1.959963984540054)\n",
      "\n",
      "t-star for 95% interval: (-2.7764451051977987, 2.7764451051977987)\n",
      "\n",
      "Percent error using z instead of t: 29.407428914377086 %\n"
     ]
    }
   ],
   "source": [
    "n = 5\n",
    "print(\"Consider n =\",n)\n",
    "\n",
    "# calculate zstar\n",
    "# argument 1: confidence level\n",
    "zstar95 = stats.norm.interval(0.95)\n",
    "print(\"\\nz-star for 95% interval:\",zstar95)\n",
    "\n",
    "# calculate tstar\n",
    "# argument 1: confidence level\n",
    "# argument 2: degrees of freedom\n",
    "tstar95 = stats.t.interval(0.95,n-1)\n",
    "print(\"\\nt-star for 95% interval:\",tstar95)\n",
    "\n",
    "# percent error\n",
    "print(\"\\nPercent error using z instead of t:\",abs((1 - zstar95[0]/tstar95[0]))*100,\"%\")"
   ]
  },
  {
   "cell_type": "markdown",
   "metadata": {},
   "source": [
    "## Catalyst Example Revisited\n"
   ]
  },
  {
   "cell_type": "markdown",
   "metadata": {},
   "source": [
    "<div class=\"admonition note\"> \n",
    "<b>Class Discussion</b>: Below is the code from the Confidence Intervals notebook.  How would we modify our code to calculate a t-interval (instead of a z-interval)?\n",
    "</div>"
   ]
  },
  {
   "cell_type": "code",
   "execution_count": 3,
   "metadata": {},
   "outputs": [
    {
     "name": "stdout",
     "output_type": "stream",
     "text": [
      "95% confidence z-interval: [ 5.0 , 7.13 ] hours\n",
      "90% confidence z-interval: [ 5.17 , 6.96 ] hours\n",
      "99% confidence z-interval: [ 4.66 , 7.46 ] hours\n"
     ]
    }
   ],
   "source": [
    "# catalyst example data\n",
    "lifetime = [3.2, 6.8, 4.2, 9.2, 11.2, 3.7, 2.9, 12.6, 6.4, 7.5, 8.6,\n",
    "            4.5, 3.0, 9.6, 1.5, 4.5, 6.3, 7.2, 8.5, 4.2, 6.3, 3.2, 5.0, 4.9, 6.6]\n",
    "\n",
    "# Compute the mean and standard deviation\n",
    "xbar = np.mean(lifetime)\n",
    "s = np.std(lifetime)\n",
    "\n",
    "## calculate 95% confidence z-interval\n",
    "n = len(lifetime)\n",
    "zstar95 = stats.norm.interval(0.95)\n",
    "low = xbar + zstar95[0]*s/math.sqrt(n)\n",
    "high = xbar + zstar95[1]*s/math.sqrt(n)\n",
    "print(\"95% confidence z-interval: [\",round(low,2),\",\", round(high,2),\"] hours\")\n",
    "\n",
    "## calculate 90% confidence z-interval\n",
    "n = len(lifetime)\n",
    "zstar90 = stats.norm.interval(0.9)\n",
    "low = xbar + zstar90[0]*s/math.sqrt(n)\n",
    "high = xbar + zstar90[1]*s/math.sqrt(n)\n",
    "print(\"90% confidence z-interval: [\",round(low,2),\",\", round(high,2),\"] hours\")\n",
    "\n",
    "\n",
    "## calculate 99% confidence z-interval\n",
    "n = len(lifetime)\n",
    "zstar99 = stats.norm.interval(0.99)\n",
    "low = xbar + zstar99[0]*s/math.sqrt(n)\n",
    "high = xbar + zstar99[1]*s/math.sqrt(n)\n",
    "print(\"99% confidence z-interval: [\",round(low,2),\",\", round(high,2),\"] hours\")"
   ]
  },
  {
   "cell_type": "markdown",
   "metadata": {},
   "source": [
    "<div class=\"admonition seealso\"> \n",
    "<p class=\"title\"><b>Home Activity</b></p>\n",
    " Recalculate the confidence intervals using the t-distribution.\n",
    "</div>"
   ]
  },
  {
   "cell_type": "code",
   "execution_count": 4,
   "metadata": {
    "tags": [
     "remove-output"
    ]
   },
   "outputs": [
    {
     "name": "stdout",
     "output_type": "stream",
     "text": [
      "95% confidence t-interval: [ 4.94 , 7.19 ] hours\n",
      "90% confidence t-interval: [ 5.13 , 6.99 ] hours\n",
      "99% confidence t-interval: [ 4.54 , 7.58 ] hours\n"
     ]
    }
   ],
   "source": [
    "# Add your solution here"
   ]
  },
  {
   "cell_type": "markdown",
   "metadata": {},
   "source": [
    "## Important Assumptions: Population is Normally Distributed, Samples are Random\n",
    "\n",
    "Student's t-distribution only applies if the population is **normally distributed** and samples are **random** (i.e., zero covariance). Otherwise, the significance level is not correct, i.e., we will either under- or over-estimate uncertainty.\n",
    "\n",
    "**How to know/check if the population is normally distributed?**\n",
    "* **Preferred:** Examine large amounts of historical data or leverage additional knowledge.\n",
    "* **Practical:** Plot the sample and check for outliers."
   ]
  },
  {
   "cell_type": "code",
   "execution_count": 5,
   "metadata": {},
   "outputs": [
    {
     "data": {
      "image/png": "[encoded data removed]",
      "text/plain": [
       "<Figure size 432x288 with 1 Axes>"
      ]
     },
     "metadata": {
      "needs_background": "light"
     },
     "output_type": "display_data"
    }
   ],
   "source": [
    "plt.hist(lifetime)\n",
    "plt.title(\"Histogram of Catalyst Lifetime\")\n",
    "plt.xlabel(\"Lifetime [hours]\")\n",
    "plt.ylabel(\"Frequency\")\n",
    "plt.show()"
   ]
  },
  {
   "cell_type": "markdown",
   "metadata": {},
   "source": [
    "<div class=\"admonition note\"> \n",
    "<b>Class Discussion</b>: Are there outliers in the catalyst lifetime dataset?\n",
    "</div>"
   ]
  },
  {
   "cell_type": "code",
   "execution_count": 6,
   "metadata": {},
   "outputs": [
    {
     "data": {
      "image/png": "[encoded data removed]",
      "text/plain": [
       "<Figure size 432x288 with 1 Axes>"
      ]
     },
     "metadata": {
      "needs_background": "light"
     },
     "output_type": "display_data"
    }
   ],
   "source": [
    "another_example = [1.2, 2.3, 1.5, 1.4, 1.3, 1.6, 1.4, 1.7, 1.6, 1.5, 1.6]\n",
    "plt.hist(another_example,color=\"red\")\n",
    "plt.title(\"Another Example\")\n",
    "plt.xlabel(\"Measured Variable\")\n",
    "plt.ylabel(\"Frequency\")\n",
    "plt.show()"
   ]
  },
  {
   "cell_type": "markdown",
   "metadata": {},
   "source": [
    "<div class=\"admonition note\"> \n",
    "<b>Class Discussion</b>: What about this dataset? Does it contain any outliers?\n",
    "</div>"
   ]
  },
  {
   "cell_type": "markdown",
   "metadata": {},
   "source": [
    "**Another Example:** Time Series Data.\n",
    "\n",
    "Below are two plots of yield versus time data for two chemical processes.\n",
    "\n",
    "![](https://drive.google.com/uc?export=view&id=1izl_-WD7yZk40QA3F9wHeiRd9V6-SMyW)"
   ]
  },
  {
   "cell_type": "markdown",
   "metadata": {},
   "source": [
    "<div class=\"admonition note\"> \n",
    "<b>Class Discussion</b>: Can you use these data to calculate confidence intervals for the average yield of each process using a t-distribution?\n",
    "</div>"
   ]
  }
 ],
 "metadata": {
  "colab": {
   "collapsed_sections": [],
   "name": "L16-Statistical-Inference-Part-1.ipynb",
   "provenance": [],
   "version": "0.3.2"
  },
  "kernelspec": {
   "display_name": "Python 3 (ipykernel)",
   "language": "python",
   "name": "python3"
  },
  "language_info": {
   "codemirror_mode": {
    "name": "ipython",
    "version": 3
   },
   "file_extension": ".py",
   "mimetype": "text/x-python",
   "name": "python",
   "nbconvert_exporter": "python",
   "pygments_lexer": "ipython3",
   "version": "3.9.12"
  }
 },
 "nbformat": 4,
 "nbformat_minor": 4
}
