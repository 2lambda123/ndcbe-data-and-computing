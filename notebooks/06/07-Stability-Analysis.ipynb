{
 "cells": [
  {
   "cell_type": "markdown",
   "metadata": {
    "colab_type": "text",
    "id": "zUrZ00DvG1y0"
   },
   "source": [
    "# Stability Analysis\n",
    "\n",
    "**Reference:** Chapter 17 in McClarren (2018)."
   ]
  },
  {
   "cell_type": "markdown",
   "metadata": {
    "colab_type": "text",
    "id": "qaHAK35SG1y5"
   },
   "source": [
    "## Learning Objectives\n",
    "\n",
    "After studying this notebook, completing the activties, and attending class, you should be able to:\n",
    "* Explain the advantages and disadvantages of Forward Euler, Backward Euler, and Crank-Nicolson based on...\n",
    "  * Stability (how does this relate to explicit versus implicit?)\n",
    "  * Oscillations\n",
    "* Derive the stability and non-oscillatory properties (limits on $\\Delta t$) for methods such as Forward Euler, Backward Euler, and Crank-Nicolson"
   ]
  },
  {
   "cell_type": "code",
   "execution_count": 1,
   "metadata": {
    "colab": {},
    "colab_type": "code",
    "id": "mCjbdDRmG1y2",
    "tags": []
   },
   "outputs": [],
   "source": [
    "# import libraries\n",
    "import numpy as np\n",
    "import matplotlib.pyplot as plt\n",
    "from matplotlib.patches import Polygon\n",
    "import scipy.integrate as integrate"
   ]
  },
  {
   "cell_type": "markdown",
   "metadata": {
    "colab_type": "text",
    "id": "r-AbY9RTG1zr",
    "tags": []
   },
   "source": [
    "## Comparison of Forward/Backward Euler and Crank-Nicolson on a more complicated problem"
   ]
  },
  {
   "cell_type": "markdown",
   "metadata": {},
   "source": [
    "First run the following three cells with the code for the methods that we developed in the [Euler](../06-publish/05-Forward-and-Backward-Euler.ipynb) and [Crank-Nicolson](../06-publish/06-Trapezoid-Rule.ipynb) notebooks."
   ]
  },
  {
   "cell_type": "code",
   "execution_count": 3,
   "metadata": {},
   "outputs": [],
   "source": [
    "def forward_euler(f,y0,Delta_t,numsteps):\n",
    "    \"\"\"Perform numsteps of the forward euler method starting at y0\n",
    "    of the ODE y'(t) = f(y,t)\n",
    "    Args:\n",
    "        f: function to integrate takes arguments y,t\n",
    "        y0: initial condition\n",
    "        Delta_t: time step size\n",
    "        numsteps: number of time steps\n",
    "        \n",
    "    Returns:\n",
    "        a numpy array of the times and a numpy\n",
    "        array of the solution at those times\n",
    "    \"\"\"\n",
    "    \n",
    "    # convert to integer\n",
    "    numsteps = int(numsteps)\n",
    "    \n",
    "    # initialize vectors to store solutions\n",
    "    y = np.zeros(numsteps+1)\n",
    "    \n",
    "    # compute time\n",
    "    t = np.arange(numsteps+1)*Delta_t\n",
    "    \n",
    "    # copy initial condition\n",
    "    y[0] = y0\n",
    "    \n",
    "    # loop over timesteps\n",
    "    for n in range(1,numsteps+1):\n",
    "        \n",
    "        # Compute y[n].\n",
    "        y[n] = y[n-1] + Delta_t * f(y[n-1], t[n-1])\n",
    "        \n",
    "    return t, y"
   ]
  },
  {
   "cell_type": "code",
   "execution_count": 4,
   "metadata": {
    "colab": {},
    "colab_type": "code",
    "id": "6J5wpbVjG1zR",
    "tags": []
   },
   "outputs": [],
   "source": [
    "def inexact_newton(f,x0,delta = 1.0e-7, epsilon=1.0e-6, LOUD=False):\n",
    "    \"\"\"Find the root of the function f via Newton-Raphson method\n",
    "    Args:\n",
    "        f: function to find root of\n",
    "        x0: initial guess\n",
    "        delta: finite difference parameter\n",
    "        epsilon: tolerance\n",
    "        \n",
    "    Returns:\n",
    "        estimate of root\n",
    "    \"\"\"\n",
    "    x = x0\n",
    "    if (LOUD):\n",
    "        print(\"x0 =\",x0)\n",
    "    iterations = 0\n",
    "    while (np.fabs(f(x)) > epsilon):\n",
    "        fx = f(x)\n",
    "        fxdelta = f(x+delta)\n",
    "        slope = (fxdelta - fx)/delta\n",
    "        if (LOUD):\n",
    "            print(\"x_\",iterations+1,\"=\",x,\"-\",fx,\"/\",slope,\"=\",x - fx/slope)\n",
    "        x = x - fx/slope\n",
    "        iterations += 1\n",
    "    if LOUD:\n",
    "        print(\"It took\",iterations,\"iterations\")\n",
    "    return x #return estimate of root\n",
    "\n",
    "def backward_euler(f,y0,Delta_t,numsteps,LOUD=False):\n",
    "    \"\"\"Perform numsteps of the backward euler method starting at y0\n",
    "    of the ODE y'(t) = f(y,t)\n",
    "    Args:\n",
    "        f: function to integrate takes arguments y,t\n",
    "        y0: initial condition\n",
    "        Delta_t: time step size\n",
    "        numsteps: number of time steps\n",
    "        \n",
    "    Returns:\n",
    "        a numpy array of the times and a numpy\n",
    "        array of the solution at those times\n",
    "    \"\"\"\n",
    "    numsteps = int(numsteps)\n",
    "    y = np.zeros(numsteps+1)\n",
    "    t = np.arange(numsteps+1)*Delta_t\n",
    "    y[0] = y0\n",
    "    for n in range(1,numsteps+1):\n",
    "        if LOUD:\n",
    "            print(\"\\nt =\",t[n])\n",
    "            \n",
    "        solve_func = lambda u: u-y[n-1] - Delta_t*f(u,t[n])\n",
    "        y[n] = inexact_newton(solve_func,y[n-1],LOUD=LOUD)\n",
    "        if LOUD:\n",
    "            print(\"y =\",y[n])\n",
    "    return t, y"
   ]
  },
  {
   "cell_type": "code",
   "execution_count": 5,
   "metadata": {
    "colab": {},
    "colab_type": "code",
    "id": "xK8z5DxIG1zk",
    "tags": []
   },
   "outputs": [],
   "source": [
    "# we do not need to run inexact_newton again as we already ran it for backward Euler in the previous cell\n",
    "\n",
    "def crank_nicolson(f,y0,Delta_t,numsteps, LOUD=False):\n",
    "    \"\"\"Perform numsteps of the backward euler method starting at y0\n",
    "    of the ODE y'(t) = f(y,t)\n",
    "    Args:\n",
    "        f: function to integrate takes arguments y,t\n",
    "        y0: initial condition\n",
    "        Delta_t: time step size\n",
    "        numsteps: number of time steps\n",
    "        \n",
    "    Returns:\n",
    "        a numpy array of the times and a numpy\n",
    "        array of the solution at those times\n",
    "    \"\"\"\n",
    "    numsteps = int(numsteps)\n",
    "    y = np.zeros(numsteps+1)\n",
    "    t = np.arange(numsteps+1)*Delta_t\n",
    "    y[0] = y0\n",
    "    for n in range(1,numsteps+1):\n",
    "        if LOUD:\n",
    "            print(\"\\nt =\",t[n])\n",
    "            \n",
    "        ### BEGIN SOLUTION\n",
    "        # setup nonlinear system\n",
    "        solve_func = lambda u: u-y[n-1] - 0.5*Delta_t*(f(u,t[n])\n",
    "                                                       + f(y[n-1],t[n-1]))\n",
    "        # solve nonlinear system\n",
    "        y[n] = inexact_newton(solve_func,y[n-1])\n",
    "        ### END SOLUTION\n",
    "        \n",
    "        if LOUD:\n",
    "            print(\"y =\",y[n])\n",
    "    return t, y"
   ]
  },
  {
   "cell_type": "markdown",
   "metadata": {},
   "source": [
    "Run the following cell to see a comparison of the three methods on a plot with the exact solution."
   ]
  },
  {
   "cell_type": "code",
   "execution_count": 6,
   "metadata": {
    "colab": {
     "base_uri": "https://localhost:8080/",
     "height": 296
    },
    "colab_type": "code",
    "executionInfo": {
     "elapsed": 6314,
     "status": "ok",
     "timestamp": 1556625640071,
     "user": {
      "displayName": "Alexander Dowling",
      "photoUrl": "https://lh3.googleusercontent.com/-LChdQ2m5OQE/AAAAAAAAAAI/AAAAAAAAAA0/JeXJe4vQJ7M/s64/photo.jpg",
      "userId": "00988067626794866502"
     },
     "user_tz": 240
    },
    "id": "ClHrSnuOG1zs",
    "outputId": "8b640779-8700-48a7-ff13-cf2bc14f9c04"
   },
   "outputs": [
    {
     "data": {
      "image/png": "[encoded data removed]",
      "text/plain": [
       "<Figure size 432x288 with 1 Axes>"
      ]
     },
     "metadata": {
      "needs_background": "light"
     },
     "output_type": "display_data"
    }
   ],
   "source": [
    "RHS = lambda y,t: (1/(t+0.5)-1)*y\n",
    "exact_sol = lambda t: (t+0.5)*np.exp(-t)\n",
    "y0 = exact_sol(0)\n",
    "Delta_t = 0.25\n",
    "t_final = 5\n",
    "\n",
    "# exact solution\n",
    "t_fine = np.linspace(0,t_final,100)\n",
    "plt.plot(t_fine,exact_sol(t_fine),label=\"Exact Solution\",\n",
    "         linewidth = 2,color=\"black\",linestyle=\"--\")\n",
    "\n",
    "t,y = forward_euler(RHS,y0,Delta_t,t_final/Delta_t)\n",
    "plt.plot(t,y,'-',label=\"Forward Euler\",color=\"blue\",marker=\"o\",markersize=4)\n",
    "\n",
    "t,y = backward_euler(RHS,y0,Delta_t,t_final/Delta_t)\n",
    "plt.plot(t,y,'-',label=\"Backward Euler\",color=\"red\",marker=\"s\",markersize=4)\n",
    "\n",
    "t,y = crank_nicolson(RHS,y0,Delta_t,t_final/Delta_t)\n",
    "plt.plot(t,y,'-',label=\"Crank-Nicolson\",color=\"green\",marker=\"^\",markersize=4)\n",
    "\n",
    "plt.xlabel(\"t\")\n",
    "plt.ylabel(\"y(t)\")\n",
    "plt.legend(bbox_to_anchor=(1.05, 1), loc=2, borderaxespad=0.)\n",
    "plt.title(\"Solution with $\\Delta t$ = \" + str(Delta_t))\n",
    "plt.show()"
   ]
  },
  {
   "cell_type": "markdown",
   "metadata": {
    "colab_type": "text",
    "id": "oXmwLK7WG1zv"
   },
   "source": [
    "The two Euler methods are equally inaccurate, they just differ in how they are wrong (above or below). Crank-Nicolson does a good job of following the solution.\n",
    "\n",
    "Now let's have a bigger time step."
   ]
  },
  {
   "cell_type": "code",
   "execution_count": 7,
   "metadata": {
    "colab": {
     "base_uri": "https://localhost:8080/",
     "height": 296
    },
    "colab_type": "code",
    "executionInfo": {
     "elapsed": 6669,
     "status": "ok",
     "timestamp": 1556625640440,
     "user": {
      "displayName": "Alexander Dowling",
      "photoUrl": "https://lh3.googleusercontent.com/-LChdQ2m5OQE/AAAAAAAAAAI/AAAAAAAAAA0/JeXJe4vQJ7M/s64/photo.jpg",
      "userId": "00988067626794866502"
     },
     "user_tz": 240
    },
    "id": "DfDioHiEG1zw",
    "outputId": "95f1278c-33f4-4da3-a80b-ace35b90dba7"
   },
   "outputs": [
    {
     "data": {
      "image/png": "[encoded data removed]",
      "text/plain": [
       "<Figure size 432x288 with 1 Axes>"
      ]
     },
     "metadata": {
      "needs_background": "light"
     },
     "output_type": "display_data"
    }
   ],
   "source": [
    "RHS = lambda y,t: (1/(t+0.5)-1)*y\n",
    "exact_sol = lambda t: (t+0.5)*np.exp(-t)\n",
    "y0 = exact_sol(0)\n",
    "Delta_t = 1\n",
    "t_final = 8\n",
    "\n",
    "# exact solution\n",
    "t_fine = np.linspace(0,t_final,100)\n",
    "plt.plot(t_fine,exact_sol(t_fine),label=\"Exact Solution\",\n",
    "         linewidth = 2,color=\"black\",linestyle=\"--\")\n",
    "\n",
    "t,y = forward_euler(RHS,y0,Delta_t,t_final/Delta_t)\n",
    "plt.plot(t,y,'-',label=\"Forward Euler\",color=\"blue\",marker=\".\")\n",
    "\n",
    "t,y = backward_euler(RHS,y0,Delta_t,t_final/Delta_t)\n",
    "plt.plot(t,y,'-',label=\"Backward Euler\",color=\"red\",marker=\"s\",markersize=4)\n",
    "\n",
    "t,y = crank_nicolson(RHS,y0,Delta_t,t_final/Delta_t)\n",
    "plt.plot(t,y,'-',label=\"Crank-Nicolson\",color=\"green\",marker=\"^\",markersize=4)\n",
    "\n",
    "plt.xlabel(\"t\")\n",
    "plt.ylabel(\"y(t)\")\n",
    "plt.legend(bbox_to_anchor=(1.05, 1), loc=2, borderaxespad=0.)\n",
    "plt.title(\"Solution with $\\Delta t$ = \" + str(Delta_t))\n",
    "plt.show()"
   ]
  },
  {
   "cell_type": "markdown",
   "metadata": {
    "colab_type": "text",
    "id": "qgkJkBN5G1zx"
   },
   "source": [
    "In these results we see that for a large time step, forward Euler completely overshoots the initial growth, backward Euler just starts decaying, and Crank-Nicolson starts off too high before beginning to decay. It appears that even Crank-Nicolson is not accurate enough for this problem."
   ]
  },
  {
   "cell_type": "markdown",
   "metadata": {
    "colab_type": "text",
    "id": "0Auoo6peG1zy",
    "tags": []
   },
   "source": [
    "## Defining a Test System for Stability Analysis"
   ]
  },
  {
   "cell_type": "markdown",
   "metadata": {},
   "source": [
    "<div style=\"background-color: rgba(0,255,0,0.05) ; padding: 10px; border: 1px solid darkgreen;\"> \n",
    "<b>Home Activity</b>: Read this section and write down any questions you have.\n",
    "</div>"
   ]
  },
  {
   "cell_type": "markdown",
   "metadata": {},
   "source": [
    "<div style=\"background-color: rgba(0,0,255,0.05) ; padding: 10px; border: 1px solid darkblue;\"> \n",
    "<b>Class Activity</b>: Walk through the stability analysis together.\n",
    "</div>"
   ]
  },
  {
   "cell_type": "markdown",
   "metadata": {
    "colab_type": "text",
    "id": "bhRijF9nG1zz"
   },
   "source": [
    "There is a formal definition of stability for a numerical method for integrating ODEs.  To get to this definition, consider the ODE\n",
    "\n",
    "$$y'(t) = -\\alpha y(t),$$\n",
    "\n",
    "for any single-step method we can write \n",
    "\n",
    "$$y^{n+1} = g y^n.$$\n",
    "\n",
    "A solution is said to be stable if $|g| \\leq 1.$ Furthermore, a solution is said to be non-oscillatory if $0 \\leq g \\leq 1.$ The quantity $g$ is often called the growth rate. In **Process Controls** you will refer to $g$ as the eigenvalues of the discrete-time system."
   ]
  },
  {
   "cell_type": "markdown",
   "metadata": {
    "tags": []
   },
   "source": [
    "## Forward (Explicit) Euler Stability Analysis"
   ]
  },
  {
   "cell_type": "markdown",
   "metadata": {},
   "source": [
    "### Computational Experiment"
   ]
  },
  {
   "cell_type": "markdown",
   "metadata": {
    "colab_type": "text",
    "id": "G49vQMa_G1zI",
    "tags": []
   },
   "source": [
    "The code below plots the numeric approximation and exact solution for the test problem from [the last notebook](../06-publish/05-Forward-and-Backward-Euler.ipynb). Spend a minute trying a few different $\\Delta t$ values."
   ]
  },
  {
   "cell_type": "code",
   "execution_count": 8,
   "metadata": {
    "colab": {
     "base_uri": "https://localhost:8080/",
     "height": 316
    },
    "colab_type": "code",
    "executionInfo": {
     "elapsed": 2595,
     "status": "ok",
     "timestamp": 1556625636259,
     "user": {
      "displayName": "Alexander Dowling",
      "photoUrl": "https://lh3.googleusercontent.com/-LChdQ2m5OQE/AAAAAAAAAAI/AAAAAAAAAA0/JeXJe4vQJ7M/s64/photo.jpg",
      "userId": "00988067626794866502"
     },
     "user_tz": 240
    },
    "id": "hpEAF-FWG1zI",
    "outputId": "03b58566-29b1-41fb-ec60-c59d4cba24b4"
   },
   "outputs": [
    {
     "data": {
      "image/png": "[encoded data removed]",
      "text/plain": [
       "<Figure size 432x288 with 1 Axes>"
      ]
     },
     "metadata": {
      "needs_background": "light"
     },
     "output_type": "display_data"
    }
   ],
   "source": [
    "RHS = lambda y,t: -y\n",
    "\n",
    "# change this\n",
    "Delta_t = 5.0\n",
    "\n",
    "t_final = 10\n",
    "t,y = forward_euler(RHS,1,Delta_t,t_final/Delta_t)\n",
    "plt.plot(t,y,'-',label=\"Forward Euler\",color=\"blue\",marker=\"o\",markersize=4)\n",
    "t_fine = np.linspace(0,t_final,100)\n",
    "plt.plot(t_fine,np.exp(-t_fine),label=\"Exact Solution\",color=\"black\")\n",
    "plt.xlabel(\"t\")\n",
    "plt.ylabel(\"y(t)\")\n",
    "plt.legend()\n",
    "plt.title(\"Solution with $\\Delta t$ = \" + str(Delta_t))\n",
    "plt.show()"
   ]
  },
  {
   "cell_type": "markdown",
   "metadata": {},
   "source": [
    "<div style=\"background-color: rgba(0,255,0,0.05) ; padding: 10px; border: 1px solid darkgreen;\"> \n",
    "<b>Home Activity</b>: Determine the largest possible $\\Delta t$ value before the numeric solution explodes. At this <i>sweet spot</i>, the numeric solution will oscillate between two values. Store your answer in the Python float variable <tt>ans_bv1</tt>.\n",
    "</div>"
   ]
  },
  {
   "cell_type": "code",
   "execution_count": 9,
   "metadata": {
    "tags": []
   },
   "outputs": [],
   "source": [
    "### BEGIN SOLUTION\n",
    "ans_bv1 = 2.0\n",
    "### END SOLUTION"
   ]
  },
  {
   "cell_type": "code",
   "execution_count": 10,
   "metadata": {
    "nbgrader": {
     "grade": true,
     "grade_id": "b-v-1",
     "locked": true,
     "points": "0.1",
     "solution": false
    },
    "tags": []
   },
   "outputs": [],
   "source": [
    "### BEGIN HIDDEN TESTS\n",
    "secret_ans = 2.0\n",
    "\n",
    "assert np.abs(ans_bv1 - secret_ans) < 1E-3, \"Not there yet.\"\n",
    "### END HIDDEN TESTS"
   ]
  },
  {
   "cell_type": "markdown",
   "metadata": {
    "colab_type": "text",
    "id": "rAx1hCoYG1zM"
   },
   "source": [
    "One thing that can happen with the forward Euler method is that if the time step is too large, it can go unstable. What this means is the solution diverges to be plus or minus infinity (sometimes it goes to both). In our case, forward Euler is unstable if $\\Delta t > 2$.\n",
    "\n",
    "The solution grows over time, even though the true solution decays to 0. This happens because the magnitude of the solution grows, which makes the right-hand side for the next update larger.  This makes the solution grow in magnitude each step."
   ]
  },
  {
   "cell_type": "markdown",
   "metadata": {
    "tags": []
   },
   "source": [
    "### Solving for the Growth Rate to Determine Stability"
   ]
  },
  {
   "cell_type": "markdown",
   "metadata": {
    "colab_type": "text",
    "id": "nukE6mWaG1zz"
   },
   "source": [
    "Let's look at forward Euler on this ODE:\n",
    "\n",
    "$$y^{n+1} = y^n - \\alpha \\Delta t y^n = (1-\\alpha \\Delta t)y^n,$$\n",
    "\n",
    "this implies \n",
    "\n",
    "$$g_\\mathrm{FE} = 1-\\alpha \\Delta t.$$\n",
    "\n",
    "To make sure that $|g| \\leq 1$ we need to have $\\alpha \\Delta t \\leq 2$. To be non-oscillatory we need $\\alpha \\Delta t \\leq 1$. This is why when we solved \n",
    "\n",
    "$$ y'(t) = -y(t)$$\n",
    "\n",
    "with $\\Delta t = 2.5$, the solution grew in an unstable manner. Because there is a restriction on the timestep for stability, we call the forward Euler method <b> conditionally stable </b>."
   ]
  },
  {
   "cell_type": "markdown",
   "metadata": {
    "tags": []
   },
   "source": [
    "## Backward (Implicit) Euler Stability Analysis"
   ]
  },
  {
   "cell_type": "markdown",
   "metadata": {
    "tags": []
   },
   "source": [
    "### Computational Experiment"
   ]
  },
  {
   "cell_type": "markdown",
   "metadata": {
    "colab_type": "text",
    "id": "I-rFKFnSG1zY",
    "tags": []
   },
   "source": [
    "It may seem for our test problem in the [Newton-Raphson Methods notebook](../04-publish/05-System-of-Equations-Newton-Method.ipynb) that we did not get a lot of benefit from the extra effort of solving a nonlinear equation at each step. But let's look at stability before we completely disregard backward Euler methods."
   ]
  },
  {
   "cell_type": "markdown",
   "metadata": {},
   "source": [
    "<div style=\"background-color: rgba(0,255,0,0.05) ; padding: 10px; border: 1px solid darkgreen;\"> \n",
    "<b>Home Activity</b>: Can you find a step size that causes the numeric solution to explode? Record the step size in the Python float <tt>ans_civ</tt>. If you cannot find a stepsize, store <tt>np.nan</tt> as the solution.\n",
    "</div>"
   ]
  },
  {
   "cell_type": "code",
   "execution_count": 11,
   "metadata": {
    "colab": {
     "base_uri": "https://localhost:8080/",
     "height": 316
    },
    "colab_type": "code",
    "executionInfo": {
     "elapsed": 4511,
     "status": "ok",
     "timestamp": 1556625638212,
     "user": {
      "displayName": "Alexander Dowling",
      "photoUrl": "https://lh3.googleusercontent.com/-LChdQ2m5OQE/AAAAAAAAAAI/AAAAAAAAAA0/JeXJe4vQJ7M/s64/photo.jpg",
      "userId": "00988067626794866502"
     },
     "user_tz": 240
    },
    "id": "m4onNU_OG1zZ",
    "outputId": "4b1c1792-bdeb-47d8-ef03-96e3b039ff80"
   },
   "outputs": [
    {
     "data": {
      "image/png": "[encoded data removed]",
      "text/plain": [
       "<Figure size 432x288 with 1 Axes>"
      ]
     },
     "metadata": {
      "needs_background": "light"
     },
     "output_type": "display_data"
    }
   ],
   "source": [
    "RHS = lambda y,t: -y\n",
    "Delta_t = 5\n",
    "t_final = 10\n",
    "t,y = backward_euler(RHS,1,Delta_t,t_final/Delta_t)\n",
    "plt.plot(t,y,'-',label=\"Backward Euler\",color=\"red\",marker=\"s\",markersize=4)\n",
    "t_fine = np.linspace(0,t_final,100)\n",
    "plt.plot(t_fine,np.exp(-t_fine),label=\"Exact Solution\",color=\"black\")\n",
    "plt.xlabel(\"t\")\n",
    "plt.ylabel(\"y(t)\")\n",
    "plt.legend()\n",
    "plt.title(\"Solution with $\\Delta t$ = \" + str(Delta_t))\n",
    "plt.show()"
   ]
  },
  {
   "cell_type": "code",
   "execution_count": 12,
   "metadata": {
    "nbgrader": {
     "grade": false,
     "grade_id": "c-iv",
     "locked": false,
     "points": "0.1",
     "solution": false
    },
    "tags": []
   },
   "outputs": [],
   "source": [
    "### BEGIN SOLUTION\n",
    "ans_civ = np.nan\n",
    "### END SOLUTION"
   ]
  },
  {
   "cell_type": "code",
   "execution_count": null,
   "metadata": {
    "nbgrader": {
     "grade": true,
     "grade_id": "c-iv",
     "locked": true,
     "points": "0.1",
     "solution": false
    },
    "tags": []
   },
   "outputs": [],
   "source": [
    "### BEGIN HIDDEN TESTS\n",
    "assert ans_civ is np.nan, \"Keep on reading in the notebook for more information.\"\n",
    "### END HIDDEN TESTS"
   ]
  },
  {
   "cell_type": "markdown",
   "metadata": {
    "colab_type": "text",
    "id": "YcRqHHlQG1zd"
   },
   "source": [
    "We see that the Implicit Euler is **unconditionally stable**. The solution, though not very accurate, still behaves reasonably well. This can be very useful on more complicated problems than this simple one."
   ]
  },
  {
   "cell_type": "markdown",
   "metadata": {},
   "source": [
    "### Solving for the Growth Rate to Deterimine Stability"
   ]
  },
  {
   "cell_type": "markdown",
   "metadata": {
    "colab_type": "text",
    "id": "UTRP84SJG1z0"
   },
   "source": [
    "The value of the growth rate for backward Euler can be easily derived.  We start with\n",
    "\n",
    "$$y^{n+1} = y^n - \\alpha \\Delta t y^{n+1},$$\n",
    "\n",
    "which when rearranged is\n",
    "\n",
    "$$y^{n+1} = \\frac{y^n}{1 + \\alpha \\Delta t}.$$\n",
    "\n",
    "This makes \n",
    "\n",
    "$$g_\\mathrm{BE} = \\frac{1}{1 + \\alpha \\Delta t}.$$ \n",
    "\n",
    "For any $\\Delta t >0,$ $g$ will be between $0$ and $1$. Therefore, backward Euler is <b>unconditionally stable</b> and <b>unconditionally non-oscillatory</b>."
   ]
  },
  {
   "cell_type": "markdown",
   "metadata": {
    "tags": []
   },
   "source": [
    "## Crank-Nicolson (Trapezoid) Method"
   ]
  },
  {
   "cell_type": "markdown",
   "metadata": {},
   "source": [
    "### Computational Experiment"
   ]
  },
  {
   "cell_type": "markdown",
   "metadata": {
    "colab_type": "text",
    "id": "NuPPLPN_G1zo"
   },
   "source": [
    "Let's return to our trusty test problem from the [Newton-Raphson Methods notebook](../04-publish/05-System-of-Equations-Newton-Method.ipynb) to explore stability and oscillations with Crank-Nicolson."
   ]
  },
  {
   "cell_type": "markdown",
   "metadata": {},
   "source": [
    "<div style=\"background-color: rgba(0,255,0,0.05) ; padding: 10px; border: 1px solid darkgreen;\"> \n",
    "<b>Home Activity</b>: Adjust the step size to answer the following questions.\n",
    "</div>"
   ]
  },
  {
   "cell_type": "markdown",
   "metadata": {},
   "source": [
    "**Home Activity Questions:**\n",
    "* At what step size (if any) does Crank-Nicolson become unstable? Why?\n",
    "* At what step size (if any) does Crank-Nicolson begin to oscillate? Why?"
   ]
  },
  {
   "cell_type": "code",
   "execution_count": 14,
   "metadata": {
    "colab": {
     "base_uri": "https://localhost:8080/",
     "height": 316
    },
    "colab_type": "code",
    "executionInfo": {
     "elapsed": 5907,
     "status": "ok",
     "timestamp": 1556625639654,
     "user": {
      "displayName": "Alexander Dowling",
      "photoUrl": "https://lh3.googleusercontent.com/-LChdQ2m5OQE/AAAAAAAAAAI/AAAAAAAAAA0/JeXJe4vQJ7M/s64/photo.jpg",
      "userId": "00988067626794866502"
     },
     "user_tz": 240
    },
    "id": "qeUUp5WZG1zp",
    "outputId": "1f478a52-013c-429d-b939-412811819dba"
   },
   "outputs": [
    {
     "data": {
      "image/png": "[encoded data removed]",
      "text/plain": [
       "<Figure size 432x288 with 1 Axes>"
      ]
     },
     "metadata": {
      "needs_background": "light"
     },
     "output_type": "display_data"
    }
   ],
   "source": [
    "RHS = lambda y,t: -y\n",
    "\n",
    "# adjust this\n",
    "Delta_t = 2.2\n",
    "\n",
    "# compute approximate solution with Crack-Nicolson, plot\n",
    "t_final = 20\n",
    "t,y = crank_nicolson(RHS,1,Delta_t,t_final/Delta_t)\n",
    "plt.plot(t,y,'-',label=\"Crank-Nicolson\",color=\"green\",marker=\"^\",markersize=4)\n",
    "t_fine = np.linspace(0,t_final,100)\n",
    "plt.plot(t_fine,np.exp(-t_fine),label=\"Exact Solution\",color=\"black\")\n",
    "plt.xlabel(\"t\")\n",
    "plt.ylabel(\"y(t)\")\n",
    "plt.legend()\n",
    "plt.title(\"Solution with $\\Delta t$ = \" + str(Delta_t))\n",
    "plt.show()"
   ]
  },
  {
   "cell_type": "markdown",
   "metadata": {
    "colab_type": "text",
    "id": "jkusgELoG1zr"
   },
   "source": [
    "In terms of stability, Crank-Nicolson is a mixed bag: it's **stable but can oscillate**.\n",
    "\n",
    "Notice that the oscillation makes the numerical solution negative. This is the case even though the exact solution, $e^{-t}$, cannot be negative. "
   ]
  },
  {
   "cell_type": "markdown",
   "metadata": {},
   "source": [
    "### Solving for the Growth Rate to Determine Stability"
   ]
  },
  {
   "cell_type": "markdown",
   "metadata": {
    "colab_type": "text",
    "id": "66d-K03kG1z0"
   },
   "source": [
    "The Crank-Nicolson method has\n",
    "\n",
    "$$g_\\mathrm{CN} = \\frac{2-\\alpha\\Delta t}{2+\\alpha\\Delta t}.$$\n",
    "\n",
    "This method will be <b>unconditionally stable</b> because\n",
    "\n",
    "$$\\lim_{\\Delta t \\rightarrow \\infty} g_\\mathrm{CN} = -1.$$\n",
    "\n",
    "It is <b>conditionally non-oscillatory</b> because $g_\\mathrm{CN} < 0$ for $\\alpha \\Delta t > 2.$ In the original example, we had $\\alpha\\Delta t  = 4$ and we saw noticeable oscillations. Oscillations occur when we increase step size."
   ]
  },
  {
   "cell_type": "markdown",
   "metadata": {},
   "source": [
    "<div style=\"background-color: rgba(0,255,0,0.05) ; padding: 10px; border: 1px solid darkgreen;\"> \n",
    "<b>Home Activity</b>: Run the code below.\n",
    "</div>"
   ]
  },
  {
   "cell_type": "code",
   "execution_count": 15,
   "metadata": {
    "colab": {
     "base_uri": "https://localhost:8080/",
     "height": 296
    },
    "colab_type": "code",
    "executionInfo": {
     "elapsed": 503,
     "status": "ok",
     "timestamp": 1556625803252,
     "user": {
      "displayName": "Alexander Dowling",
      "photoUrl": "https://lh3.googleusercontent.com/-LChdQ2m5OQE/AAAAAAAAAAI/AAAAAAAAAA0/JeXJe4vQJ7M/s64/photo.jpg",
      "userId": "00988067626794866502"
     },
     "user_tz": 240
    },
    "id": "Fi1wvPlpHdvk",
    "outputId": "3e934e25-e4c5-4f92-958a-0de52efbf1cb"
   },
   "outputs": [
    {
     "data": {
      "image/png": "[encoded data removed]",
      "text/plain": [
       "<Figure size 432x288 with 1 Axes>"
      ]
     },
     "metadata": {
      "needs_background": "light"
     },
     "output_type": "display_data"
    }
   ],
   "source": [
    "RHS = lambda y,t: (1/(t+0.5)-1)*y\n",
    "exact_sol = lambda t: (t+0.5)*np.exp(-t)\n",
    "Delta_t = 6\n",
    "t_final = 30\n",
    "t_fine = np.linspace(0,t_final,100)\n",
    "plt.plot(t_fine,exact_sol(t_fine),label=\"Exact Solution\",\n",
    "         linewidth = 2,color=\"black\")\n",
    "t,y = crank_nicolson(RHS,0.5,Delta_t,t_final/Delta_t)\n",
    "plt.plot(t,y,'-',label=\"Crank-Nicolson\",color=\"green\",marker=\"^\",markersize=4)\n",
    "plt.xlabel(\"t\")\n",
    "plt.ylabel(\"y(t)\")\n",
    "plt.legend(bbox_to_anchor=(1.05, 1), loc=2, borderaxespad=0.)\n",
    "plt.title(\"Solution with $\\Delta t$ = \" + str(Delta_t))\n",
    "plt.show()"
   ]
  },
  {
   "cell_type": "code",
   "execution_count": 16,
   "metadata": {
    "colab": {
     "base_uri": "https://localhost:8080/",
     "height": 296
    },
    "colab_type": "code",
    "executionInfo": {
     "elapsed": 775,
     "status": "ok",
     "timestamp": 1556625920246,
     "user": {
      "displayName": "Alexander Dowling",
      "photoUrl": "https://lh3.googleusercontent.com/-LChdQ2m5OQE/AAAAAAAAAAI/AAAAAAAAAA0/JeXJe4vQJ7M/s64/photo.jpg",
      "userId": "00988067626794866502"
     },
     "user_tz": 240
    },
    "id": "w63YwNJRIjeB",
    "outputId": "3c2f5800-0775-442c-a757-908f9c62e972"
   },
   "outputs": [
    {
     "data": {
      "image/png": "[encoded data removed]",
      "text/plain": [
       "<Figure size 432x288 with 1 Axes>"
      ]
     },
     "metadata": {
      "needs_background": "light"
     },
     "output_type": "display_data"
    }
   ],
   "source": [
    "RHS = lambda y,t: (1/(t+0.5)-1)*y\n",
    "exact_sol = lambda t: (t+0.5)*np.exp(-t)\n",
    "Delta_t = 4\n",
    "t_final = 30\n",
    "t_fine = np.linspace(0,t_final,100)\n",
    "plt.plot(t_fine,exact_sol(t_fine),label=\"Exact Solution\",\n",
    "         linewidth = 2,color=\"black\")\n",
    "t,y = crank_nicolson(RHS,0.5,Delta_t,t_final/Delta_t)\n",
    "plt.plot(t,y,'-',label=\"Crank-Nicolson\",color=\"green\",marker=\"^\",markersize=4)\n",
    "plt.xlabel(\"t\")\n",
    "plt.ylabel(\"y(t)\")\n",
    "plt.legend(bbox_to_anchor=(1.05, 1), loc=2, borderaxespad=0.)\n",
    "plt.title(\"Solution with $\\Delta t$ = \" + str(Delta_t))\n",
    "plt.show()"
   ]
  },
  {
   "cell_type": "code",
   "execution_count": 17,
   "metadata": {
    "colab": {
     "base_uri": "https://localhost:8080/",
     "height": 296
    },
    "colab_type": "code",
    "executionInfo": {
     "elapsed": 367,
     "status": "ok",
     "timestamp": 1556625933716,
     "user": {
      "displayName": "Alexander Dowling",
      "photoUrl": "https://lh3.googleusercontent.com/-LChdQ2m5OQE/AAAAAAAAAAI/AAAAAAAAAA0/JeXJe4vQJ7M/s64/photo.jpg",
      "userId": "00988067626794866502"
     },
     "user_tz": 240
    },
    "id": "VEzQiQ1zIrhB",
    "outputId": "8c73f793-068a-4629-abf0-c976694bca6d"
   },
   "outputs": [
    {
     "data": {
      "image/png": "[encoded data removed]",
      "text/plain": [
       "<Figure size 432x288 with 1 Axes>"
      ]
     },
     "metadata": {
      "needs_background": "light"
     },
     "output_type": "display_data"
    }
   ],
   "source": [
    "RHS = lambda y,t: (1/(t+0.5)-1)*y\n",
    "exact_sol = lambda t: (t+0.5)*np.exp(-t)\n",
    "Delta_t = 1\n",
    "t_final = 30\n",
    "t_fine = np.linspace(0,t_final,100)\n",
    "plt.plot(t_fine,exact_sol(t_fine),label=\"Exact Solution\",\n",
    "         linewidth = 2,color=\"black\")\n",
    "t,y = crank_nicolson(RHS,0.5,Delta_t,t_final/Delta_t)\n",
    "plt.plot(t,y,'-',label=\"Crank-Nicolson\",color=\"green\",marker=\"^\",markersize=4)\n",
    "plt.xlabel(\"t\")\n",
    "plt.ylabel(\"y(t)\")\n",
    "plt.legend(bbox_to_anchor=(1.05, 1), loc=2, borderaxespad=0.)\n",
    "plt.title(\"Solution with $\\Delta t$ = \" + str(Delta_t))\n",
    "plt.show()"
   ]
  }
 ],
 "metadata": {
  "colab": {
   "name": "L25-Initial-Value-Problems.ipynb",
   "provenance": [],
   "version": "0.3.2"
  },
  "kernelspec": {
   "display_name": "Python 3 (ipykernel)",
   "language": "python",
   "name": "python3"
  },
  "language_info": {
   "codemirror_mode": {
    "name": "ipython",
    "version": 3
   },
   "file_extension": ".py",
   "mimetype": "text/x-python",
   "name": "python",
   "nbconvert_exporter": "python",
   "pygments_lexer": "ipython3",
   "version": "3.9.12"
  }
 },
 "nbformat": 4,
 "nbformat_minor": 4
}
