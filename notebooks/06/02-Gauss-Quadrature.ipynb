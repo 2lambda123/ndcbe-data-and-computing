{
 "cells": [
  {
   "cell_type": "markdown",
   "metadata": {
    "colab_type": "text",
    "id": "ZB7hIRdzvTep"
   },
   "source": [
    "# Gauss Quadrature"
   ]
  },
  {
   "cell_type": "markdown",
   "metadata": {
    "colab_type": "text",
    "id": "i9wwxaH-vTeq"
   },
   "source": [
    "**Reference**: Chapters 15 and 16 in McClarren (2018). There are two copies in reserve at the library."
   ]
  },
  {
   "cell_type": "markdown",
   "metadata": {
    "colab_type": "text",
    "id": "yLqvejeuvTet"
   },
   "source": [
    "## Learning Objectives\n",
    "\n",
    "After studying this notebook, completing the activities, and asking questions in class, you should be able to:\n",
    "* Quickly determine the number of points to integrate a given polynomial exactly with Gauss quadrature"
   ]
  },
  {
   "cell_type": "code",
   "execution_count": 1,
   "metadata": {
    "colab": {},
    "colab_type": "code",
    "id": "DuQsLLTnvTer",
    "tags": []
   },
   "outputs": [],
   "source": [
    "# load libraries\n",
    "from scipy import integrate\n",
    "import numpy as np\n",
    "import matplotlib.pyplot as plt"
   ]
  },
  {
   "cell_type": "markdown",
   "metadata": {
    "colab_type": "text",
    "id": "kP9VOQEUvTff"
   },
   "source": [
    "## Gauss Quadrature Rules\n",
    "\n",
    "To recap, **Newton-Cotes formulas** approximate integrals by fitting the integrand with an interpolating polynomial and then integrating the polynomial exactly. In contrast, **Gauss quadrature** methods guarantees the **maximum accuracy** for a given number of points. Both Newton-Cotes and Gauss quadrature approximate integrals as a sum of function evaluations and weights:\n",
    "\n",
    "$$\\int\\limits_a^b f(x)\\,dx \\approx \\sum_{l=0}^{L}w_l f(x_l).$$\n",
    "\n",
    "The \"magic\" of Gauss quadrature is selecting the weights $w_l$ and nodes (i.e., abscissas) $x_l$ to maximize accuracy. There are many different types of Gauss quadrature rules. We will focus our discussion on the **Gauss-Legendre** variety."
   ]
  },
  {
   "cell_type": "markdown",
   "metadata": {
    "colab_type": "text",
    "id": "CoNz6ob5vTff"
   },
   "source": [
    "### Integral Bounds Transformation\n",
    "\n",
    "The Gauss-Legendre quadrature rule is for integrals of the form\n",
    "\n",
    "$$\\int\\limits_{-1}^1 f(x)\\,dx \\approx \\sum_{l=1}^L w_l f(x_l).$$\n",
    "\n",
    "The integral does not need to be limited just to the range, $[-1,1]$, however. If we want to integrate $f(x)$ from $[a,b]$, we define a variable\n",
    "\n",
    "$$x = \\frac{a+b}{2} + \\frac{b-a}{2}z, \\qquad dx = \\frac{b-a}{2} dz,$$ \n",
    "\n",
    "\n",
    "where $z \\in [-1, 1]$. This makes the transformation\n",
    "\n",
    "$$\\int_a^b f(x)\\,dx = \\frac{b-a}{2} \\int_{-1}^1 f\\left(\\frac{b-a}{2}z + \\frac{a+b}{2}\\right)\\,dz.$$"
   ]
  },
  {
   "cell_type": "markdown",
   "metadata": {},
   "source": [
    "#### Transformation Example\n",
    "\n",
    "Which of the following is the correct transformation? $\\int_{0}^{2} (x + x^2)dx =$ ...\n",
    "1. $\\int_{-1}^{1} (z + z^2)dz$\n",
    "2. $\\int_{-1}^{1} ((z+1) + (z+1)^2)dz$\n",
    "3. $\\int_{-1}^{1} ((z-1) + (z-1)^2)dz$\n",
    "4. $\\frac{1}{2}\\int_{-1}^{1} (z + z^2)dz$\n",
    "5. $\\frac{1}{2}\\int_{-1}^{1} ((z+1) + (z+1)^2)dz$\n",
    "6. $\\frac{1}{2}\\int_{-1}^{1} ((z-1) + (z-1)^2)dz$\n",
    "7. None of the above."
   ]
  },
  {
   "cell_type": "markdown",
   "metadata": {},
   "source": [
    "<div style=\"background-color: rgba(0,255,0,0.05) ; padding: 10px; border: 1px solid darkgreen;\"> \n",
    "<b>Home Activity</b>: Store your answer in the Python integer <tt>ans_c_transform</tt>.\n",
    "</div>"
   ]
  },
  {
   "cell_type": "code",
   "execution_count": 4,
   "metadata": {
    "tags": []
   },
   "outputs": [],
   "source": [
    "### BEGIN SOLUTION\n",
    "ans_c_transform = 2\n",
    "### END SOLUTION"
   ]
  },
  {
   "cell_type": "code",
   "execution_count": 5,
   "metadata": {
    "nbgrader": {
     "grade": true,
     "grade_id": "c-transform",
     "locked": true,
     "points": "0.1",
     "solution": false
    },
    "tags": []
   },
   "outputs": [],
   "source": [
    "### BEGIN HIDDEN TESTS\n",
    "secret_c_transform = 2\n",
    "\n",
    "\n",
    "assert type(ans_c_transform) is int, \"Your solution must be an integer.\"\n",
    "\n",
    "assert secret_c_transform == ans_c_transform, \"Try again. Your answer is not correct\"\n",
    "\n",
    "### END HIDDEN TESTS"
   ]
  },
  {
   "cell_type": "markdown",
   "metadata": {},
   "source": [
    "### Integrate a Linear Function"
   ]
  },
  {
   "cell_type": "markdown",
   "metadata": {},
   "source": [
    "<div style=\"background-color: rgba(0,0,255,0.05) ; padding: 10px; border: 1px solid darkblue;\"> \n",
    "<b>Class Activity</b>: Discuss the following questions with a partner.</div>"
   ]
  },
  {
   "cell_type": "markdown",
   "metadata": {},
   "source": [
    "1. What is the minimum number of $x$ location(s) you need to evaluate $f(x) = ax + b$ to compute $\\int_{-1}^{1} f(x)dx$ exactly?\n",
    "2. Where do you evaluate $x$?\n",
    "3. Why?"
   ]
  },
  {
   "cell_type": "markdown",
   "metadata": {},
   "source": [
    "![monte_python](https://vignette.wikia.nocookie.net/montypython/images/c/c1/Bridge_of_Death_monty_python_and_the_holy_grail_591679_800_4411271399897.jpg/revision/latest?cb=20130716234623)"
   ]
  },
  {
   "cell_type": "markdown",
   "metadata": {
    "colab_type": "text",
    "id": "q50o35CavTfg"
   },
   "source": [
    "### Weights and Nodes\n",
    "\n",
    "The weights, $w_l$, and abscissas, $x_l$, are chosen so that the rule is as accurate as possible with $L$ points.  \n",
    "\n",
    "It turns out that we can pick the weights and abscissas such that the Gauss-Legendre quadrature formula is <b>exact</b> for polynomials of degree $2L-1$ or less. This should not be a complete surprise because the integral of a $2L-1$ degree polynomial is a degree $2L$ polynomial.  Such a polynomial has $2L + 1$ coefficients, only $2L$ of these depend on the original polynomial because the constant term is determined by the integration bounds.  Therefore, the integral has $2L$ degrees of freedom, the exact number of degrees of freedom we have with our $L$ weights and abscissas. We will not go into the construction of these quadrature sets, but it is important to know that they have this property.\n",
    "\n",
    "The weights and abscissas are given for $L$ up to 8:"
   ]
  },
  {
   "cell_type": "markdown",
   "metadata": {
    "colab_type": "text",
    "id": "F-Tjd4aHvTfh"
   },
   "source": [
    "\n",
    "| $L$ | $x_l$ | $w_l$ | \n",
    "| :---: | :---: | :---: | \n",
    "| <div style=\"width:290px\"></div> | <div style=\"width:290px\"></div> | <div style=\"width:290px\"></div> | \n",
    "| $1$ | $0$ | $2.0000000000000000000000000$ | \n",
    "| $2$ | $±0.5773502691896257645091488$ | $1.0000000000000000000000000$ |\n",
    "| $3$ | $0$ <br> $±0.7745966692414833770358531$ | $0.8888888888888888888888889$ <br> $0.5555555555555555555555556$|\n",
    "| $4$ | $±0.3399810435848562648026658$ <br> $±0.8611363115940525752239465$ | $0.6521451548625461426269361$ <br> $0.3478548451374538573730639$|\n",
    "| $5$ | $0$ <br> $±0.5384693101056830910363144$ <br> $±0.9061798459386639927976269$ | $0.5688888888888888888888889$ <br> $0.4786286704993664680412915$ <br>$0.2369268850561890875142640$ | \n",
    "| $6$ | $±0.2386191860831969086305017$ <br> $±0.6612093864662645136613996$ <br> $±0.9324695142031520278123016$| $0.4679139345726910473898703$ <br> $0.3607615730481386075698335$ <br> $0.1713244923791703450402961$ | \n",
    "| $7$ | $0$ <br> $±0.4058451513773971669066064$ <br> $±0.7415311855993944398638648$ <br> $±0.9491079123427585245261897$| $0.4179591836734693877551020$ <br> $0.3818300505051189449503698$ <br> $0.2797053914892766679014678$ <br> $0.1294849661688696932706114$| \n",
    "| $8$ | $±0.1834346424956498049394761$ <br> $±0.5255324099163289858177390$ <br>  $±0.7966664774136267395915539$ <br>  $±0.9602898564975362316835609$| $0.3626837833783619829651504$ <br> $0.3137066458778872873379622$ <br> $0.2223810344533744705443560$ <br> $0.1012285362903762591525314$ |"
   ]
  },
  {
   "cell_type": "markdown",
   "metadata": {
    "colab_type": "text",
    "id": "01fcZXLpvTfh"
   },
   "source": [
    "Notice that the odd $L$ sets all have $x=0$ in the set.  Also, the sum of the $w_l$ adds up to 2 because the range of integration has a length of 2. "
   ]
  },
  {
   "cell_type": "markdown",
   "metadata": {
    "colab_type": "text",
    "id": "tpk0PBpNvTfi"
   },
   "source": [
    "#### Where did these points come from? (optional)\n",
    "\n",
    "One way to derive the Gauss-Legendre quadrature rules is by looking at the integral generic monomials of degree 0 up to $2L-1$ and setting each equal to the $L$ point Gauss-Legendre quadrature rule:\n",
    "\n",
    "$$ \\int\\limits_{-1}^{1} dx\\, a_0 x^0 =  a_0\\sum_{l=0}^L w_l x_l^0,$$\n",
    "\n",
    "$$ \\int\\limits_{-1}^{1} dx\\, a_1 x^1 = a_1\\sum_{l=0}^L w_l x_l^1,$$\n",
    "\n",
    "and continuing until\n",
    "\n",
    "$$ \\int\\limits_{-1}^{1} dx\\, a_{2L-1} x^{2L-1} = a_{2L-1}\\sum_{l=0}^L w_l x_l^{2L-1}.$$\n",
    "\n",
    "Notice that the $a_i$ constants cancel out of each equation so they do not matter. This system is $2L$ equations with $L$ weights, $w_l$, and $L$ abscissas, $x_l$. We could solve these equations to get the weights and abscissas, though this is not how it is done in practice generally---this is accomplished by using the theory of orthogonal polynomials."
   ]
  },
  {
   "cell_type": "markdown",
   "metadata": {
    "colab_type": "text",
    "id": "l1XmPSmEvTfi"
   },
   "source": [
    "## Code for Gauss-Legendre Quadrature\n",
    "\n",
    "We will now write a function that will compute the integral of a function from $[-1,1]$ using these quadrature rules. For values of $L$ beyond 8, we will use a NumPy function that generates the points and weights. The NumPy documentation asserts that the rules for $L>100$ have not been tested and may be inaccurate."
   ]
  },
  {
   "cell_type": "code",
   "execution_count": 6,
   "metadata": {
    "colab": {},
    "colab_type": "code",
    "id": "CFL2t6WmvTfj",
    "tags": []
   },
   "outputs": [],
   "source": [
    "def GLQuad(f, L=8,dataReturn = False):\n",
    "    \"\"\"Compute the Gauss-Legendre Quadrature estimate \n",
    "    of the integral of f(x) from -1 to 1\n",
    "    Inputs:\n",
    "    f:   name of function to integrate\n",
    "    L:   Order of integration rule (8 or less)\n",
    "    \n",
    "    Returns:\n",
    "    G-L Quadrature estimate\"\"\"\n",
    "    assert(L>=1)\n",
    "    if (L==1):\n",
    "        weights = np.ones(1)*2\n",
    "        xs = np.array([0])\n",
    "    elif (L==2):\n",
    "        weights = np.ones(2)\n",
    "        xs = np.array([-np.sqrt(1.0/3.0),np.sqrt(1.0/3.0)])\n",
    "    elif (L==3):\n",
    "        weights = np.array([0.8888888888888888888888889,\n",
    "                            0.5555555555555555555555556,\n",
    "                            0.5555555555555555555555556])\n",
    "        xs = np.array([0.0,-0.7745966692414833770358531,\n",
    "                       0.7745966692414833770358531])\n",
    "    elif (L==4):\n",
    "        weights = np.array([0.6521451548625461426269361,0.6521451548625461426269361,\n",
    "                            0.3478548451374538573730639,0.3478548451374538573730639])\n",
    "        xs = np.array([-0.3399810435848562648026658, 0.3399810435848562648026658,\n",
    "                       -0.8611363115940525752239465, 0.8611363115940525752239465])\n",
    "    elif (L==5):\n",
    "        weights = np.array([0.5688888888888888888888889,\n",
    "                            0.4786286704993664680412915,0.4786286704993664680412915,\n",
    "                            0.2369268850561890875142640,0.2369268850561890875142640])\n",
    "        xs = np.array([0.0,-0.5384693101056830910363144,0.5384693101056830910363144,\n",
    "                       -0.9061798459386639927976269,0.9061798459386639927976269])\n",
    "    elif (L==6):\n",
    "        weights = np.array([0.4679139345726910473898703,0.4679139345726910473898703,\n",
    "                            0.3607615730481386075698335,0.3607615730481386075698335,\n",
    "                            0.1713244923791703450402961,0.1713244923791703450402961])\n",
    "        xs = np.array([-0.2386191860831969086305017, 0.2386191860831969086305017,\n",
    "                       -0.6612093864662645136613996, 0.6612093864662645136613996,\n",
    "                       -0.9324695142031520278123016, 0.9324695142031520278123016])\n",
    "    elif (L==7):\n",
    "        weights = np.array([0.4179591836734693877551020,\n",
    "                            0.3818300505051189449503698,0.3818300505051189449503698,\n",
    "                            0.2797053914892766679014678,0.2797053914892766679014678,\n",
    "                            0.1294849661688696932706114,0.1294849661688696932706114])\n",
    "        xs = np.array([0.0,-0.4058451513773971669066064,0.4058451513773971669066064,\n",
    "                       -0.7415311855993944398638648,0.7415311855993944398638648,\n",
    "                       -0.9491079123427585245261897,0.9491079123427585245261897])\n",
    "    elif (L==8):\n",
    "        weights = np.array([0.3626837833783619829651504,0.3626837833783619829651504,\n",
    "                            0.3137066458778872873379622,0.3137066458778872873379622,\n",
    "                            0.2223810344533744705443560,0.2223810344533744705443560,\n",
    "                            0.1012285362903762591525314,0.1012285362903762591525314])\n",
    "        xs = np.array([-0.1834346424956498049394761, 0.1834346424956498049394761,\n",
    "                       -0.5255324099163289858177390, 0.5255324099163289858177390,\n",
    "                       -0.7966664774136267395915539, 0.7966664774136267395915539,\n",
    "                       -0.9602898564975362316835609, 0.9602898564975362316835609])\n",
    "    else: #use numpy's function\n",
    "        xs, weights = np.polynomial.legendre.leggauss(L)\n",
    "    \n",
    "    quad_estimate = np.sum(weights*f(xs))\n",
    "    if (dataReturn):\n",
    "        return quad_estimate, weights, xs\n",
    "    else:\n",
    "        return quad_estimate"
   ]
  },
  {
   "cell_type": "markdown",
   "metadata": {
    "colab_type": "text",
    "id": "dzFV3IdZvTfl"
   },
   "source": [
    "## Visualize Quadrature Weights"
   ]
  },
  {
   "cell_type": "code",
   "execution_count": 7,
   "metadata": {
    "colab": {
     "base_uri": "https://localhost:8080/",
     "height": 311
    },
    "colab_type": "code",
    "executionInfo": {
     "elapsed": 552,
     "status": "ok",
     "timestamp": 1556029905440,
     "user": {
      "displayName": "Alexander Dowling",
      "photoUrl": "https://lh3.googleusercontent.com/-LChdQ2m5OQE/AAAAAAAAAAI/AAAAAAAAAA0/JeXJe4vQJ7M/s64/photo.jpg",
      "userId": "00988067626794866502"
     },
     "user_tz": 240
    },
    "id": "Py2CynfUvTfl",
    "outputId": "f323e2f5-d283-4c0f-a55d-4e05b83175b3"
   },
   "outputs": [
    {
     "data": {
      "image/png": "[encoded data removed]",
      "text/plain": [
       "<Figure size 432x288 with 1 Axes>"
      ]
     },
     "metadata": {
      "needs_background": "light"
     },
     "output_type": "display_data"
    }
   ],
   "source": [
    "L = np.arange(1,15)\n",
    "f = lambda x: x\n",
    "for l in L:\n",
    "    quad_est, weights, xs = GLQuad(f,l,dataReturn=True)\n",
    "    levels = weights*0 + l\n",
    "    plt.scatter(xs, levels, s=weights*100)\n",
    "plt.xlabel(\"x\")\n",
    "plt.ylabel(\"L\")\n",
    "plt.title(\"Gauss-Legendre Quadrature Points\\nSize of point is weight\")\n",
    "plt.show()"
   ]
  },
  {
   "cell_type": "markdown",
   "metadata": {},
   "source": [
    "Each *row* in the plot above corresponds to a different $L$ value. The rows are colored to guide your eyes. The center of each dot shows the node location. The size of the circle indicates the weight for each node."
   ]
  },
  {
   "cell_type": "markdown",
   "metadata": {},
   "source": [
    "<div style=\"background-color: rgba(0,255,0,0.05) ; padding: 10px; border: 1px solid darkgreen;\"> \n",
    "<b>Home Activity</b>: Write a few sentences to describe the two trends in the plot above.\n",
    "</div>"
   ]
  },
  {
   "cell_type": "markdown",
   "metadata": {},
   "source": [
    "**Home Activity Discussion**:"
   ]
  },
  {
   "cell_type": "markdown",
   "metadata": {
    "colab_type": "text",
    "id": "kl6lEygUvTfm"
   },
   "source": [
    "## Polynomial Example\n",
    "\n",
    "As a simple demonstration of the Gauss-Legendre quadrature, let's show that it integrates polynomials of degree $2L-1$ exactly.  Consider the integral\n",
    "\n",
    "$$\\int\\limits_{-1}^1 (x+1)^{2L-1}\\,dx = \\frac{2^{2 L-1}}{L}.$$"
   ]
  },
  {
   "cell_type": "markdown",
   "metadata": {},
   "source": [
    "<div style=\"background-color: rgba(0,0,255,0.05) ; padding: 10px; border: 1px solid darkblue;\"> \n",
    "<b>Class Activity</b>: Find a partner. Flip an imaginary coin to decide who is partner \"A\". First, partner \"A\" explains the code below. Then partner \"B\" explains the output. Why does this example show the power of Gauss-Legendre quadrature?\n",
    "</div>"
   ]
  },
  {
   "cell_type": "code",
   "execution_count": 8,
   "metadata": {
    "colab": {
     "base_uri": "https://localhost:8080/",
     "height": 589
    },
    "colab_type": "code",
    "executionInfo": {
     "elapsed": 309,
     "status": "ok",
     "timestamp": 1556029985558,
     "user": {
      "displayName": "Alexander Dowling",
      "photoUrl": "https://lh3.googleusercontent.com/-LChdQ2m5OQE/AAAAAAAAAAI/AAAAAAAAAA0/JeXJe4vQJ7M/s64/photo.jpg",
      "userId": "00988067626794866502"
     },
     "user_tz": 240
    },
    "id": "VOrE8eNcvTfn",
    "outputId": "a9fc2f46-5734-4ad9-9a77-7222b5ef4a93"
   },
   "outputs": [
    {
     "name": "stdout",
     "output_type": "stream",
     "text": [
      "\n",
      "L = 1 \t Estimate is 2.0 Exact value is 2.0 \n",
      "Abs. Relative Error is 0.0\n",
      "\n",
      "L = 2 \t Estimate is 3.9999999999999996 Exact value is 4.0 \n",
      "Abs. Relative Error is 1.1102230246251565e-16\n",
      "\n",
      "L = 3 \t Estimate is 10.666666666666668 Exact value is 10.666666666666666 \n",
      "Abs. Relative Error is 1.6653345369377348e-16\n",
      "\n",
      "L = 4 \t Estimate is 31.99999999999999 Exact value is 32.0 \n",
      "Abs. Relative Error is 3.3306690738754696e-16\n",
      "\n",
      "L = 5 \t Estimate is 102.39999999999995 Exact value is 102.4 \n",
      "Abs. Relative Error is 5.551115123125783e-16\n",
      "\n",
      "L = 6 \t Estimate is 341.33333333333337 Exact value is 341.3333333333333 \n",
      "Abs. Relative Error is 1.6653345369377348e-16\n",
      "\n",
      "L = 7 \t Estimate is 1170.2857142857135 Exact value is 1170.2857142857142 \n",
      "Abs. Relative Error is 5.828670879282072e-16\n",
      "\n",
      "L = 8 \t Estimate is 4096.000000000003 Exact value is 4096.0 \n",
      "Abs. Relative Error is 6.661338147750939e-16\n",
      "\n",
      "L = 9 \t Estimate is 14563.555555555577 Exact value is 14563.555555555555 \n",
      "Abs. Relative Error is 1.4988010832439613e-15\n",
      "\n",
      "L = 10 \t Estimate is 52428.799999999974 Exact value is 52428.8 \n",
      "Abs. Relative Error is 5.551115123125783e-16\n",
      "\n",
      "L = 11 \t Estimate is 190650.181818181 Exact value is 190650.18181818182 \n",
      "Abs. Relative Error is 4.274358644806853e-15\n"
     ]
    }
   ],
   "source": [
    "L = np.arange(1,12)\n",
    "for l in L:\n",
    "    \n",
    "    # Create f\n",
    "    f = lambda x: (x+1)**(2*l-1)\n",
    "    \n",
    "    # Evaluate exact (analytic) solution\n",
    "    integral = 2**(2*l - 1)/l\n",
    "    \n",
    "    # Evaluate quadrature rule\n",
    "    GLintegral = GLQuad(f,l)\n",
    "    \n",
    "    # Print results\n",
    "    print(\"\\nL =\", l,\"\\t Estimate is\",GLintegral,\n",
    "          \"Exact value is\",integral, \n",
    "          \"\\nAbs. Relative Error is\", np.abs(GLintegral-integral)/integral)"
   ]
  },
  {
   "cell_type": "markdown",
   "metadata": {
    "colab_type": "text",
    "id": "9KovzfqKvTfp"
   },
   "source": [
    "## Sine Example Revisited\n",
    "\n",
    "Let's see how it performs on the sine example, which is not polynomial:\n",
    "$$\\int_{0}^\\pi \\sin(x)\\,dx = 2$$\n",
    "\n",
    "Before proceeding, we need to transform (scale) the bounds. Here is a general function:"
   ]
  },
  {
   "cell_type": "code",
   "execution_count": 9,
   "metadata": {
    "colab": {},
    "colab_type": "code",
    "id": "Tp2BviIcvTfp",
    "tags": []
   },
   "outputs": [],
   "source": [
    "def generalGL(f,a,b,L):\n",
    "    \"\"\"Compute the Gauss-Legendre Quadrature estimate \n",
    "    of the integral of f(x) from a to b\n",
    "    Inputs:\n",
    "    f:   name of function to integrate\n",
    "    a:   lower bound of integral\n",
    "    b:   upper bound of integral\n",
    "    L:   Order of integration rule (8 or less)\n",
    "    Returns:\n",
    "    G-L Quadrature estimate\"\"\"\n",
    "    assert(L>=1)\n",
    "    #define a re-scaled f\n",
    "    f_rescaled = lambda  z: f(0.5*(b-a)*z + 0.5*(a+b))\n",
    "    integral = GLQuad(f_rescaled,L)\n",
    "    return integral*(b-a)*0.5"
   ]
  },
  {
   "cell_type": "markdown",
   "metadata": {
    "colab_type": "text",
    "id": "LOqWTq5qvTfq"
   },
   "source": [
    "We can now proceed with the example."
   ]
  },
  {
   "cell_type": "code",
   "execution_count": 10,
   "metadata": {
    "colab": {
     "base_uri": "https://localhost:8080/",
     "height": 549
    },
    "colab_type": "code",
    "executionInfo": {
     "elapsed": 1123,
     "status": "ok",
     "timestamp": 1556030120017,
     "user": {
      "displayName": "Alexander Dowling",
      "photoUrl": "https://lh3.googleusercontent.com/-LChdQ2m5OQE/AAAAAAAAAAI/AAAAAAAAAA0/JeXJe4vQJ7M/s64/photo.jpg",
      "userId": "00988067626794866502"
     },
     "user_tz": 240
    },
    "id": "cYsqWo00vTfr",
    "outputId": "f8a7ba22-670d-4d98-8a9e-99b084a7793f"
   },
   "outputs": [
    {
     "name": "stdout",
     "output_type": "stream",
     "text": [
      "L = 1 Estimate is 3.141592653589793 Exact value is 2\n",
      "L = 2 Estimate is 1.9358195746511373 Exact value is 2\n",
      "L = 3 Estimate is 2.0013889136077436 Exact value is 2\n",
      "L = 4 Estimate is 1.999984228457722 Exact value is 2\n",
      "L = 5 Estimate is 2.000000110284472 Exact value is 2\n",
      "L = 6 Estimate is 1.9999999994772704 Exact value is 2\n",
      "L = 7 Estimate is 2.0000000000017906 Exact value is 2\n",
      "L = 8 Estimate is 1.9999999999999951 Exact value is 2\n",
      "L = 9 Estimate is 1.9999999999999998 Exact value is 2\n",
      "L = 10 Estimate is 2.0000000000000004 Exact value is 2\n",
      "L = 11 Estimate is 2.0000000000000013 Exact value is 2\n",
      "L = 12 Estimate is 1.9999999999999987 Exact value is 2\n",
      "L = 13 Estimate is 1.9999999999999998 Exact value is 2\n",
      "L = 14 Estimate is 1.999999999999999 Exact value is 2\n"
     ]
    },
    {
     "data": {
      "image/png": "[encoded data removed]",
      "text/plain": [
       "<Figure size 432x288 with 1 Axes>"
      ]
     },
     "metadata": {
      "needs_background": "light"
     },
     "output_type": "display_data"
    }
   ],
   "source": [
    "L = np.arange(1,15)\n",
    "errors = np.zeros(L.size)\n",
    "f = lambda x: np.sin(x)\n",
    "integral = 2\n",
    "for l in L:\n",
    "    GLintegral = generalGL(f,0,np.pi,l)\n",
    "    errors[l-1] = np.fabs(GLintegral-integral)\n",
    "    print(\"L =\",l,\"Estimate is\",GLintegral,\"Exact value is\",integral)\n",
    "plt.loglog(L,errors,'o-')\n",
    "plt.xlabel(\"L\")\n",
    "plt.ylabel(\"Absolute Error\")\n",
    "plt.title(\"Estimate of $\\int_{0}^\\pi \\sin(x)\\,dx = 2$\")\n",
    "plt.axis([1,20,10**-16,10**1])\n",
    "plt.show()"
   ]
  },
  {
   "cell_type": "markdown",
   "metadata": {
    "colab_type": "text",
    "id": "_Vnc-a98vTfs"
   },
   "source": [
    "Notice that we get to machine-precision by evaluating the integral at only 8 points!\n",
    "\n",
    "This exponential convergence will only be obtained on smooth solutions without singularities in the function or its derivatives."
   ]
  },
  {
   "cell_type": "markdown",
   "metadata": {
    "colab_type": "text",
    "id": "qO_OKbzpvTft"
   },
   "source": [
    "## A More Complicated Example\n",
    "\n",
    "Consider:\n",
    "\n",
    "$$ \\int\\limits_0^1 4 \\sqrt{1-x^2}\\,dx = \\pi.$$\n",
    "\n",
    "This integral has a singularity in its derivative at $x=1$. Gauss-Legendre quadrature will not have exponential convergence on this function."
   ]
  },
  {
   "cell_type": "code",
   "execution_count": 11,
   "metadata": {
    "colab": {
     "base_uri": "https://localhost:8080/",
     "height": 1002
    },
    "colab_type": "code",
    "executionInfo": {
     "elapsed": 1041,
     "status": "ok",
     "timestamp": 1556030176700,
     "user": {
      "displayName": "Alexander Dowling",
      "photoUrl": "https://lh3.googleusercontent.com/-LChdQ2m5OQE/AAAAAAAAAAI/AAAAAAAAAA0/JeXJe4vQJ7M/s64/photo.jpg",
      "userId": "00988067626794866502"
     },
     "user_tz": 240
    },
    "id": "ZmyB_ZwOvTft",
    "outputId": "c0e11859-178b-4abb-ecf2-9e7a592bf7f1"
   },
   "outputs": [
    {
     "name": "stdout",
     "output_type": "stream",
     "text": [
      "L = 1 Estimate is 3.4641016151377544 Exact value is 3.141592653589793\n",
      "L = 2 Estimate is 3.184452077509094 Exact value is 3.141592653589793\n",
      "L = 3 Estimate is 3.156072695039818 Exact value is 3.141592653589793\n",
      "L = 4 Estimate is 3.1482294686216954 Exact value is 3.141592653589793\n",
      "L = 5 Estimate is 3.1451817756693496 Exact value is 3.141592653589793\n",
      "L = 6 Estimate is 3.1437514508015596 Exact value is 3.141592653589793\n",
      "L = 7 Estimate is 3.1429916780932854 Exact value is 3.141592653589793\n",
      "L = 8 Estimate is 3.1425508648538196 Exact value is 3.141592653589793\n",
      "L = 9 Estimate is 3.1422775824170497 Exact value is 3.141592653589793\n",
      "L = 10 Estimate is 3.1420991700052934 Exact value is 3.141592653589793\n",
      "L = 11 Estimate is 3.1419777569660723 Exact value is 3.141592653589793\n",
      "L = 12 Estimate is 3.141892268737024 Exact value is 3.141592653589793\n",
      "L = 13 Estimate is 3.141830335674392 Exact value is 3.141592653589793\n",
      "L = 14 Estimate is 3.1417843690029263 Exact value is 3.141592653589793\n",
      "L = 15 Estimate is 3.1417495357969707 Exact value is 3.141592653589793\n",
      "L = 16 Estimate is 3.141722658178849 Exact value is 3.141592653589793\n",
      "L = 17 Estimate is 3.1417015878568084 Exact value is 3.141592653589793\n",
      "L = 18 Estimate is 3.141684836935859 Exact value is 3.141592653589793\n",
      "L = 19 Estimate is 3.1416713526382183 Exact value is 3.141592653589793\n",
      "L = 20 Estimate is 3.1416603757628048 Exact value is 3.141592653589793\n",
      "L = 21 Estimate is 3.1416513494235643 Exact value is 3.141592653589793\n",
      "L = 22 Estimate is 3.1416438588294406 Exact value is 3.141592653589793\n",
      "L = 23 Estimate is 3.1416375907129095 Exact value is 3.141592653589793\n",
      "L = 24 Estimate is 3.1416323054778177 Exact value is 3.141592653589793\n",
      "L = 25 Estimate is 3.141627817750008 Exact value is 3.141592653589793\n",
      "L = 26 Estimate is 3.1416239825825443 Exact value is 3.141592653589793\n",
      "L = 27 Estimate is 3.141620685530997 Exact value is 3.141592653589793\n",
      "L = 28 Estimate is 3.141617835418813 Exact value is 3.141592653589793\n",
      "L = 29 Estimate is 3.141615358999378 Exact value is 3.141592653589793\n",
      "L = 30 Estimate is 3.1416131969731325 Exact value is 3.141592653589793\n",
      "L = 31 Estimate is 3.141611300984699 Exact value is 3.141592653589793\n",
      "L = 32 Estimate is 3.141609631336806 Exact value is 3.141592653589793\n",
      "L = 33 Estimate is 3.141608155234139 Exact value is 3.141592653589793\n",
      "L = 34 Estimate is 3.141606845422818 Exact value is 3.141592653589793\n",
      "L = 35 Estimate is 3.1416056791279456 Exact value is 3.141592653589793\n",
      "L = 36 Estimate is 3.1416046372177497 Exact value is 3.141592653589793\n",
      "L = 37 Estimate is 3.141603703541395 Exact value is 3.141592653589793\n",
      "L = 38 Estimate is 3.141602864400813 Exact value is 3.141592653589793\n",
      "L = 39 Estimate is 3.1416021081268766 Exact value is 3.141592653589793\n"
     ]
    },
    {
     "data": {
      "image/png": "[encoded data removed]",
      "text/plain": [
       "<Figure size 432x288 with 1 Axes>"
      ]
     },
     "metadata": {
      "needs_background": "light"
     },
     "output_type": "display_data"
    },
    {
     "name": "stdout",
     "output_type": "stream",
     "text": [
      "Slope of line from L = 8 to 11 is -2.848973886563485\n"
     ]
    }
   ],
   "source": [
    "L = np.arange(1,40)\n",
    "errors = np.zeros(L.size)\n",
    "f = lambda x: 4.0*np.sqrt(1-x**2)\n",
    "integral = np.pi\n",
    "for l in L:\n",
    "    GLintegral = generalGL(f,0,1,l)\n",
    "    errors[l-1] = np.fabs(GLintegral-integral)\n",
    "    print(\"L =\",l,\"Estimate is\",GLintegral,\"Exact value is\",integral)\n",
    "plt.loglog(L,errors,'o-')\n",
    "plt.xlabel(\"L\")\n",
    "plt.ylabel(\"Absolute Error\")\n",
    "plt.title(\"Estimate of $ \\int_0^1 4\\sqrt{1-x^2} \\, dx = \\pi$\")\n",
    "plt.axis([1,20,10**-5,10**0])\n",
    "plt.show()\n",
    "slope = (np.log(errors[-1]) - np.log(errors[0]))/(np.log(L[-1]) - np.log(L[0]) )\n",
    "print(\"Slope of line from L = 8 to 11 is\",slope)"
   ]
  },
  {
   "cell_type": "markdown",
   "metadata": {
    "colab_type": "text",
    "id": "MKgA0PrsvTfv"
   },
   "source": [
    "There is a big difference between exponential convergence we saw in the integral of the sine function and the polynomial convergence in this problem. Even at a high rate of convergence (order 2.8), the error converges slowly in that we are still only accurate to 3 digits at $L=13.$"
   ]
  }
 ],
 "metadata": {
  "colab": {
   "collapsed_sections": [
    "vrMJaQtivTfW",
    "2j6OqQjPvTfb",
    "CoNz6ob5vTff"
   ],
   "name": "L24-Numeric-Integration.ipynb",
   "provenance": [],
   "version": "0.3.2"
  },
  "kernelspec": {
   "display_name": "Python 3 (ipykernel)",
   "language": "python",
   "name": "python3"
  },
  "language_info": {
   "codemirror_mode": {
    "name": "ipython",
    "version": 3
   },
   "file_extension": ".py",
   "mimetype": "text/x-python",
   "name": "python",
   "nbconvert_exporter": "python",
   "pygments_lexer": "ipython3",
   "version": "3.9.12"
  }
 },
 "nbformat": 4,
 "nbformat_minor": 4
}
