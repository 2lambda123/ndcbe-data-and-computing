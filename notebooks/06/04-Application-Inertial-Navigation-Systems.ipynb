{
 "cells": [
  {
   "cell_type": "markdown",
   "metadata": {
    "colab_type": "text",
    "id": "ZB7hIRdzvTep"
   },
   "source": [
    "# Application: Inertial Navigation Systems"
   ]
  },
  {
   "cell_type": "markdown",
   "metadata": {
    "colab_type": "text",
    "id": "i9wwxaH-vTeq"
   },
   "source": [
    "**Reference**: Chapters 15 and 16 in McClarren (2018)."
   ]
  },
  {
   "cell_type": "markdown",
   "metadata": {
    "colab_type": "text",
    "id": "yLqvejeuvTet"
   },
   "source": [
    "## Learning Objectives\n",
    "\n",
    "After studying this notebook, completing the activities, and asking questions in class, you should be able to:\n",
    "* Apply integration techniques to realistic scenarios using Python."
   ]
  },
  {
   "cell_type": "code",
   "execution_count": 1,
   "metadata": {
    "colab": {},
    "colab_type": "code",
    "id": "DuQsLLTnvTer",
    "tags": []
   },
   "outputs": [],
   "source": [
    "# load libraries\n",
    "import numpy as np\n",
    "import matplotlib.pyplot as plt"
   ]
  },
  {
   "cell_type": "markdown",
   "metadata": {},
   "source": [
    "## Appliction: Inertial Navigation Systems"
   ]
  },
  {
   "cell_type": "markdown",
   "metadata": {},
   "source": [
    "<div style=\"background-color: rgba(0,255,0,0.05) ; padding: 10px; border: 1px solid darkgreen;\"> \n",
    "<b>Home Activity</b>: Read through this problem description BEFORE attending class.\n",
    "</div>"
   ]
  },
  {
   "cell_type": "markdown",
   "metadata": {},
   "source": [
    "Inertial navigation systems (INS), which were originally developed to control the trajectory of rockets, have a long history.  According to an interesting article on Wikipedia, the early gyroscopic attitude control system developed by Robert Goddard (considered the father of American rocketry, and for whom Goddard Space Flight Center is named) was extended by Werner von Braun to include an accelerometer for control of the German V2 rocket used in World War II.  Basically, two gyroscopes and an accelerometer were connected through an analog computer to rudders in the rocket exhaust to keep the rocket on its desired trajectory.  Technology has improved quite a bit since then!  In addition to vastly more sophisticated systems for rockets and satellites (think about the precision necessary to actually land a Falcon 9 booster), INS is used for “dead reckoning” in submarines, aircraft, and really anything that moves: possibly even the iPhone in your pocket.  In this project you will analyze a set of data collected by Professor Dowling in an AP Physics extra credit project back when he was a teenager to determine the height between floors of a building.  It reveals both the advantages and disadvantages of the technique: the ability to infer changes in position from acceleration, and the difficulty associated with accumulated errors.\n",
    "\n",
    "For his high school project, Professor Dowling took a small portable scale, a large brick, and a camera onto an elevator in the ASU Life Sciences Building (then the tallest building at ASU) and rode the elevator from the top of the building (5th floor) to the sub-basement (e.g., -2nd floor).  Thus, the elevator traveled a total of six floors before stopping.  Using the video camera and frame by frame analysis he determined a time series of when the scale reading changed (thus the times are not equally spaced). This data is shown below.\n",
    "\n",
    "| Time | Weight |\n",
    "|-|-|\n",
    "| 2.40 | 2.765 | \n",
    "| 3.13 | 2.770 | \n",
    "| 5.27 | 2.765 | \n",
    "| 5.93 | 2.665 |\n",
    "| 6.67 | 2.575 |\n",
    "| 8.00 | 2.605 |\n",
    "| 8.73 | 2.755 |\n",
    "| 9.47 | 2.760 |\n",
    "| 10.13 | 2.765 |\n",
    "| 10.93 | 2.775 |\n",
    "| 11.53 | 2.765 |\n",
    "| 12.27 | 2.760 |\n",
    "| 13.00 | 2.765 |\n",
    "| 13.67 | 2.770 |\n",
    "| 14.40 | 2.765 |\n",
    "| 15.07 | 2.770 |\n",
    "| 16.53 | 2.765 |\n",
    "| 17.20 | 2.770 |\n",
    "| 17.93 | 2.765 |\n",
    "| 18.60 | 2.770 |\n",
    "| 19.33 | 2.765 |\n",
    "| 20.73 | 2.830 |\n",
    "| 21.40 | 2.890 |\n",
    "| 21.47 | 3.000 |\n",
    "| 22.20 | 3.005 |\n",
    "| 22.93 | 2.815 |\n",
    "| 23.60 | 2.810 |\n",
    "| 24.27 | 2.770 |\n",
    "| 25.07 | 2.765 |\n",
    "| 25.13 | 2.765 |\n",
    "\n",
    "\n",
    "\n",
    "According to his report, the first four readings were prior to the elevator door shutting, thus the velocity (and acceleration) over that period should be zero.  The elevator door shut at 5.27s, and then the apparent weight of the brick starts to drop as the elevator accelerates downwards.  At the bottom the weight increases above its zero acceleration value, and then the elevator comes to rest again.  Your goal is to use this data to accurately determine the average height of a floor in the ASU building."
   ]
  },
  {
   "cell_type": "markdown",
   "metadata": {},
   "source": [
    "### Preliminary Analysis\n",
    "\n",
    "We will start by plotting the raw data in Python."
   ]
  },
  {
   "cell_type": "code",
   "execution_count": 2,
   "metadata": {},
   "outputs": [
    {
     "data": {
      "image/png": "[encoded data removed]",
      "text/plain": [
       "<Figure size 432x288 with 1 Axes>"
      ]
     },
     "metadata": {
      "needs_background": "light"
     },
     "output_type": "display_data"
    }
   ],
   "source": [
    "time = np.array([0.0,2.40,3.13,5.27,5.93,6.67,8.00,8.73,9.47,10.13,10.93,11.53,12.27,13.00,13.67,14.40,15.07,16.53,17.20,17.93,18.60,19.33,20.73,21.40,21.47,22.20,22.93,23.60,24.27,25.07,25.13])\n",
    "weight = np.array([2.770,2.765,2.770,2.765,2.665,2.575,2.605,2.755,2.760,2.765,2.775,2.765,2.760,2.765,2.770,2.765,2.770,2.765,2.770,2.765,2.770,2.765,2.830,2.890,3.000,3.005,2.815,2.810,2.770,2.765,2.765])\n",
    "plt.plot(time,weight,marker='o',linestyle='',color='blue')\n",
    "plt.xlabel('Time [seconds]')\n",
    "plt.ylabel('Measured Weight [kg]')\n",
    "plt.show()"
   ]
  },
  {
   "cell_type": "markdown",
   "metadata": {},
   "source": [
    "The measured weight decreases and then increases. Which conclusion can you draw from this data and your physical intuition?\n",
    "1. The elevator traveled upward.\n",
    "2. The elevator traveled downward.\n",
    "3. Cannot tell from the data alone.\n",
    "4. The elevator traveled updward and then downward, returning to its initial location.\n",
    "3. The elevator traveled downward and then upward, returning to its initial location."
   ]
  },
  {
   "cell_type": "markdown",
   "metadata": {},
   "source": [
    "<div style=\"background-color: rgba(0,255,0,0.05) ; padding: 10px; border: 1px solid darkgreen;\"> \n",
    "<b>Home Activity</b>: Store your answer as an integer in <tt>ans_elevator</tt>.\n",
    "</div>"
   ]
  },
  {
   "cell_type": "code",
   "execution_count": 3,
   "metadata": {
    "tags": []
   },
   "outputs": [],
   "source": [
    "### BEGIN SOLUTION\n",
    "ans_elevator = 2\n",
    "### END SOLUTION"
   ]
  },
  {
   "cell_type": "code",
   "execution_count": 6,
   "metadata": {
    "nbgrader": {
     "grade": true,
     "grade_id": "elevator",
     "locked": true,
     "points": "0.1",
     "solution": false
    },
    "tags": []
   },
   "outputs": [],
   "source": [
    "### BEGIN HIDDEN TESTS\n",
    "secret_elevator = 2\n",
    "\n",
    "assert type(ans_elevator) is int, \"Your answer should be an integer.\"\n",
    "\n",
    "assert ans_elevator == secret_elevator, \"Try again. Do you feel heavier or lighter when an elevator starts to go down.\"\n",
    "### END HIDDEN TESTS"
   ]
  },
  {
   "cell_type": "markdown",
   "metadata": {},
   "source": [
    "We will now remove the data prior to 5.27s (but keep it for later) and subtract 5.27 from the remaining times so that your new time vector starts at zero."
   ]
  },
  {
   "cell_type": "code",
   "execution_count": 7,
   "metadata": {},
   "outputs": [
    {
     "name": "stdout",
     "output_type": "stream",
     "text": [
      "adj_time: [ 0.    0.66  1.4   2.73  3.46  4.2   4.86  5.66  6.26  7.    7.73  8.4\n",
      "  9.13  9.8  11.26 11.93 12.66 13.33 14.06 15.46 16.13 16.2  16.93 17.66\n",
      " 18.33 19.   19.8  19.86]\n",
      "\n",
      "c_weight: [2.765 2.665 2.575 2.605 2.755 2.76  2.765 2.775 2.765 2.76  2.765 2.77\n",
      " 2.765 2.77  2.765 2.77  2.765 2.77  2.765 2.83  2.89  3.    3.005 2.815\n",
      " 2.81  2.77  2.765 2.765]\n"
     ]
    }
   ],
   "source": [
    "# \"clipped\" time\n",
    "c_time = time[3:].copy()\n",
    "\n",
    "# \"clipped\" weight\n",
    "c_weight = weight[3:].copy()\n",
    "\n",
    "# subtract 5.27 seconds. Now adj_time[0] is 0.0\n",
    "adj_time = c_time - 5.27\n",
    "\n",
    "print(\"adj_time:\",adj_time)\n",
    "print(\"\\nc_weight:\",c_weight)"
   ]
  },
  {
   "cell_type": "markdown",
   "metadata": {},
   "source": [
    "### Free Body Diagram & Acceleration"
   ]
  },
  {
   "cell_type": "markdown",
   "metadata": {},
   "source": [
    "<div style=\"background-color: rgba(0,0,255,0.05) ; padding: 10px; border: 1px solid darkblue;\"> \n",
    "<b>Class Activity</b>: Do the following with a partner.\n",
    "</div>"
   ]
  },
  {
   "cell_type": "markdown",
   "metadata": {},
   "source": [
    "1. Draw a free body diagram.\n",
    "2. Apply Newton’s Laws of Motion.\n",
    "3. Using algebra, obtain a formula to calculate acceleration using the rest $(m_0)$ and moving ($m_t$) weight of the brick.\n",
    "\n",
    "Then using the initial weight measured at 5.27s (elevator closing weight) calculate the acceleration at each measurement time and plot it up.  Use the local g acceleration for Tempe, AZ (a Google search on “acceleration gravity Tempe Arizona” brings up a fun little Wolfram Alpha widget which yields local g for everywhere in the world – because the world is a slightly oblate spheroid, gravity is higher in northern latitudes)."
   ]
  },
  {
   "cell_type": "markdown",
   "metadata": {},
   "source": [
    "We will now implement our formula to compute the acceleration at each timepoint."
   ]
  },
  {
   "cell_type": "markdown",
   "metadata": {},
   "source": [
    "<div style=\"background-color: rgba(0,0,255,0.05) ; padding: 10px; border: 1px solid darkblue;\"> \n",
    "<b>Class Activity</b>: Do the following with a partner.\n",
    "</div>"
   ]
  },
  {
   "cell_type": "markdown",
   "metadata": {},
   "source": [
    "1. Use the initial weight measured at 5.27s (elevator closing weight) as $m_0$. Also use $g$ = = 9.80561 m/s$^2$, which is the local gravity acceleration for Tempe, AZ.\n",
    "2. Calculate the acceleration of the elevator for each weight measurement.\n",
    "3. Plot acceleration versus time."
   ]
  },
  {
   "cell_type": "code",
   "execution_count": 8,
   "metadata": {},
   "outputs": [
    {
     "data": {
      "image/png": "[encoded data removed]",
      "text/plain": [
       "<Figure size 432x288 with 1 Axes>"
      ]
     },
     "metadata": {
      "needs_background": "light"
     },
     "output_type": "display_data"
    }
   ],
   "source": [
    "### BEGIN SOLUTION\n",
    "w0 = c_weight[0]\n",
    "\n",
    "# g = 9.807 # Acceleration\n",
    "g = 9.80561\n",
    "\n",
    "acc = g*(c_weight - w0)/w0\n",
    "\n",
    "plt.plot(adj_time,acc,marker='.',linestyle='-',color='blue')\n",
    "plt.title(\"Acceleration vs. Time\")\n",
    "plt.xlabel(\"time, s\")\n",
    "plt.ylabel(\"Acceleration, m/s^2\")\n",
    "plt.show()\n",
    "### END SOLUTION"
   ]
  },
  {
   "cell_type": "markdown",
   "metadata": {},
   "source": [
    "### Velocity"
   ]
  },
  {
   "cell_type": "markdown",
   "metadata": {},
   "source": [
    "Calculate the velocity at each measurement. Remember, the velocity is just the integral of the acceleration. (Again, recall Physics 1.) Because each data point is given where the scale reading changes, an assumption is that the acceleration is constant prior to the next reading.  Thus it is appropriate to use a left edge Riemann sum to get the velocity at all subsequent times (the initial velocity is zero).  This is easiest to do with the **np.cumsum** command.  Do this, and plot up the velocity as a function of time. *Hint*: Assume initial velocity is zero."
   ]
  },
  {
   "cell_type": "code",
   "execution_count": 9,
   "metadata": {},
   "outputs": [
    {
     "data": {
      "image/png": "[encoded data removed]",
      "text/plain": [
       "<Figure size 432x288 with 1 Axes>"
      ]
     },
     "metadata": {
      "needs_background": "light"
     },
     "output_type": "display_data"
    }
   ],
   "source": [
    "### BEGIN SOLUTION\n",
    "v0 = 0\n",
    "N = len(adj_time)-1\n",
    "t_diff = adj_time[1:] - adj_time[0:N]\n",
    "\n",
    "# original (off by 1 error)\n",
    "prod = t_diff*acc[1:]\n",
    "\n",
    "# corrected?\n",
    "# prod = t_diff*acc[0:-1]\n",
    "\n",
    "RS = np.cumsum(prod)\n",
    "\n",
    "vel = np.asarray([v0,*RS])\n",
    "\n",
    "plt.plot(adj_time,vel,marker='^',color='green',linestyle='-')\n",
    "plt.title(\"Velocity vs. Time\")\n",
    "plt.xlabel(\"time, s\")\n",
    "plt.ylabel(\"Velocity, m/s\")\n",
    "plt.show()\n",
    "### END SOLUTION"
   ]
  },
  {
   "cell_type": "markdown",
   "metadata": {},
   "source": [
    "### Position"
   ]
  },
  {
   "cell_type": "markdown",
   "metadata": {},
   "source": [
    "Finally, calculate the position at each measurement.  The position is the integral of the velocity.  If the acceleration were constant between each data point, then the velocity will be linear in time between each data point.  This suggests that the best way to get the change of position would be to use the trapezoidal rule.  Again taking the initial height to be a reference value of zero, do this integration and plot up the height vs. time. Use **np.cumsum** again. Report the negative of the final height, and divide it by 6 to get the average height of the floors. *Hint*: Assume initial velocity and initial height are both zero."
   ]
  },
  {
   "cell_type": "code",
   "execution_count": 10,
   "metadata": {},
   "outputs": [
    {
     "name": "stdout",
     "output_type": "stream",
     "text": [
      "3.6146661293625804 m\n"
     ]
    },
    {
     "data": {
      "image/png": "[encoded data removed]",
      "text/plain": [
       "<Figure size 432x288 with 1 Axes>"
      ]
     },
     "metadata": {
      "needs_background": "light"
     },
     "output_type": "display_data"
    }
   ],
   "source": [
    "### BEGIN SOLUTION\n",
    "h0 = 0\n",
    "Nt = len(adj_time)-1\n",
    "Nv = len(vel)-1\n",
    "t_diff = adj_time[1:] - adj_time[0:Nt]\n",
    "vel_sum = vel[1:] + vel[0:Nv]\n",
    "prod = 0.5*(vel_sum*t_diff)\n",
    "TR = np.cumsum(prod)\n",
    "\n",
    "h = [v0,*TR]\n",
    "\n",
    "plt.plot(adj_time,h)\n",
    "plt.title(\"Position vs. Time\")\n",
    "plt.xlabel(\"time, s\")\n",
    "plt.ylabel(\"Height, m\")\n",
    "\n",
    "ave_floor_h = -1*(h[-1])/6\n",
    "print(ave_floor_h,\"m\")\n",
    "\n",
    "### END SOLUTION"
   ]
  }
 ],
 "metadata": {
  "colab": {
   "collapsed_sections": [
    "vrMJaQtivTfW",
    "2j6OqQjPvTfb",
    "CoNz6ob5vTff"
   ],
   "name": "L24-Numeric-Integration.ipynb",
   "provenance": [],
   "version": "0.3.2"
  },
  "kernelspec": {
   "display_name": "Python 3 (ipykernel)",
   "language": "python",
   "name": "python3"
  },
  "language_info": {
   "codemirror_mode": {
    "name": "ipython",
    "version": 3
   },
   "file_extension": ".py",
   "mimetype": "text/x-python",
   "name": "python",
   "nbconvert_exporter": "python",
   "pygments_lexer": "ipython3",
   "version": "3.9.12"
  }
 },
 "nbformat": 4,
 "nbformat_minor": 4
}
