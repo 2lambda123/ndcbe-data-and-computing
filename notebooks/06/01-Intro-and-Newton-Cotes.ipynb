{
 "cells": [
  {
   "cell_type": "markdown",
   "metadata": {
    "colab_type": "text",
    "id": "ZB7hIRdzvTep"
   },
   "source": [
    "# Introduction and Newton-Cotes"
   ]
  },
  {
   "cell_type": "markdown",
   "metadata": {
    "colab_type": "text",
    "id": "i9wwxaH-vTeq"
   },
   "source": [
    "**Reference**: Chapters 15 and 16 in McClarren (2018). There are two copies in reserve at the library."
   ]
  },
  {
   "cell_type": "markdown",
   "metadata": {
    "colab_type": "text",
    "id": "yLqvejeuvTet"
   },
   "source": [
    "## Learning Objectives\n",
    "\n",
    "After studying this notebook, completing the activities, and asking questions in class, you should be able to:\n",
    "* Draw a sketch to illustrate the main idea behind midpoint, trapezoid and Simpson rules, or identify the rule name from a sketch\n",
    "* Derive the error order for midpoint and trapezoid rules from a Taylor series expansion\n",
    "* Approximate a definite integral using Newton-Cotes formulas or quadrature rules in Python"
   ]
  },
  {
   "cell_type": "code",
   "execution_count": 1,
   "metadata": {
    "colab": {},
    "colab_type": "code",
    "id": "DuQsLLTnvTer",
    "tags": []
   },
   "outputs": [],
   "source": [
    "# load libraries\n",
    "from scipy import integrate\n",
    "import numpy as np\n",
    "import matplotlib.pyplot as plt\n",
    "from matplotlib.patches import Polygon"
   ]
  },
  {
   "cell_type": "markdown",
   "metadata": {
    "colab_type": "text",
    "id": "zjgOhUhYvTeu"
   },
   "source": [
    "## Motivating Example and Main Idea\n",
    "\n",
    "Often in engineering, we want or must numerically approximate definite integrals."
   ]
  },
  {
   "cell_type": "markdown",
   "metadata": {
    "colab_type": "text",
    "id": "WGuBGkCBvTeu"
   },
   "source": [
    "## Example: Integrate Normal Distribution\n",
    "\n",
    "In a few weeks, we will learn how to model random phenomena with probability distributions. Often, standardized test scores follow a normal distribution, a.k.a.,  Gaussian distribution or bell curve.\n",
    "\n",
    "![sat](../../media/sat.jpg)\n",
    "\n",
    "These data (which I found online and did not verify... we are just using this as an example) suggest the average SAT score was 1500 with a standard deviation of 250 points. Briefly, mean is the average and standard deviation measures spread. We will mathematically define these quantities in a few class sessions.\n",
    "\n",
    "Imagine we randomly select a student that took the SAT. What is the probability they received a score of $a = 1800$ points? By assuming the SAT scores are normally distributed, we can express this probability as follows:\n",
    "\n",
    "$$P(X = a) = \\frac{1}{\\sqrt{2 \\pi \\sigma^2}} e^{- \\frac{(x-\\mu)^2}{2 \\sigma^2}}$$\n",
    "\n",
    "This is known as the **probability density function** (PDF). $\\mu$ is the mean and $\\sigma$ is the standard deviation. For our SAT data, $\\mu = 1500$ and $\\sigma = 250$. $X$ is the outcome of the random experiment, which, for this example, is the SAT score of a randomly selected person. $X$ is capital because it is a random variable. We will formally study all of this in a few notebooks. I am sharing now just to help build comfort.\n",
    "\n",
    "For convenience, I will use $p(x)$ as shorthand for the PDF:\n",
    "\n",
    "$$\n",
    "p(x) = \\frac{1}{\\sqrt{2 \\pi \\sigma^2}} e^{- \\frac{(x-\\mu)^2}{2 \\sigma^2}}\n",
    "$$\n",
    "\n",
    "Below is a Python function to evaluate the probability density function. Notice I created a lambda function `my_p` with the mean and standard deviation for the SAT example."
   ]
  },
  {
   "cell_type": "code",
   "execution_count": 2,
   "metadata": {
    "colab": {
     "base_uri": "https://localhost:8080/",
     "height": 35
    },
    "colab_type": "code",
    "executionInfo": {
     "elapsed": 652,
     "status": "ok",
     "timestamp": 1555965182103,
     "user": {
      "displayName": "Alexander Dowling",
      "photoUrl": "https://lh3.googleusercontent.com/-LChdQ2m5OQE/AAAAAAAAAAI/AAAAAAAAAA0/JeXJe4vQJ7M/s64/photo.jpg",
      "userId": "00988067626794866502"
     },
     "user_tz": 240
    },
    "id": "y2_SPxYkvTev",
    "outputId": "486f8608-31f3-49f1-fcb5-066b851ba429",
    "tags": []
   },
   "outputs": [],
   "source": [
    "def normal_pdf(x,mean,stdev):\n",
    "    '''Probability density function (PDF) for normal distribution\n",
    "    Arg:\n",
    "        x: outcome value\n",
    "        mean: mean\n",
    "        stdev: standard deviation\n",
    "    \n",
    "    Return: probability    \n",
    "    '''\n",
    "    \n",
    "    assert stdev > 0.0\n",
    "    \n",
    "    var = stdev**2\n",
    "    \n",
    "    return (1/np.sqrt(2*np.pi*var)) * np.exp(-(x - mean)**2 / 2 / var)\n",
    "\n",
    "# Integrate numerically. We'll learn the details of how this works later in the class.\n",
    "\n",
    "my_p = lambda x: normal_pdf(x, mean=1500, stdev=250)"
   ]
  },
  {
   "cell_type": "markdown",
   "metadata": {},
   "source": [
    "Let's calculate the probability a randomly selected test taker scored 1800. We just need to evaluate $p(1800)$."
   ]
  },
  {
   "cell_type": "code",
   "execution_count": 3,
   "metadata": {},
   "outputs": [
    {
     "data": {
      "text/plain": [
       "0.0007767442199328519"
      ]
     },
     "execution_count": 3,
     "metadata": {},
     "output_type": "execute_result"
    }
   ],
   "source": [
    "my_p(1800)"
   ]
  },
  {
   "cell_type": "markdown",
   "metadata": {},
   "source": [
    "0.07% is a very small number! Often, we really want to ask *what is the probability a random test taker scored $a$ or less?* We can write this as a **definite integral**:\n",
    "\n",
    "$$\n",
    "P(X \\leq a) = \\int_{-\\infty}^{a} p(x) dx =  \\int_{-\\infty}^{a} \\frac{1}{\\sqrt{2 \\pi \\sigma^2}} e^{- \\frac{(x-\\mu)^2}{2 \\sigma^2}} dx\n",
    "$$"
   ]
  },
  {
   "cell_type": "markdown",
   "metadata": {},
   "source": [
    "We are integrating the probability density function $p(x)$ from the lowest possible value, $-\\infty$, to $a$. *Wait, how do you get a negative SAT score?!?!* This is a great practical point. We'll learn in a few weeks that the normal distribution allows for random variable outcomes between $-\\infty$ and $\\infty$. But because the probability of really extreme scores is so low, we can still use the normal distribution for many problems, such as the SAT, with valid outcomes over only a finite range, e.g., 0 to 2400.\n",
    "\n",
    "You decided to trust me on this point, although you are still a little skeptical. So, just substitute $a=1800$, $\\mu = 1500$ and $\\sigma = 250$ and integrate? The integral looks really hard. I hope it is not on the next exam!\n",
    "\n",
    "The integral above actually does not have an analytic solution except for some special cases. (You can show analytically that integrating from $-\\infty$ and $\\infty$ gives 1.) We need to integrate numerically, making it a great motivating example for the next few notebooks on **numeric integration**.\n",
    "\n",
    "We first replaced the $-\\infty$ with $-10000$,\n",
    "\n",
    "$$\n",
    "P(X \\leq a) \\approx \\int_{-10000}^{a} \\frac{1}{\\sqrt{2 \\pi \\sigma^2}} e^{- \\frac{(x-\\mu)^2}{2 \\sigma^2}} dx\n",
    "$$\n",
    "\n",
    "and then integrated numerically using ``scipy.integrate.quad``:"
   ]
  },
  {
   "cell_type": "code",
   "execution_count": 4,
   "metadata": {},
   "outputs": [
    {
     "name": "stdout",
     "output_type": "stream",
     "text": [
      "Integral value =  0.8849303297782916\n",
      "Integration tolerance (approximate error) =  6.579298134503794e-12\n"
     ]
    }
   ],
   "source": [
    "value, tol = integrate.quad(my_p,-10000,1800)\n",
    "print(\"Integral value = \",value)\n",
    "print(\"Integration tolerance (approximate error) = \",tol)"
   ]
  },
  {
   "cell_type": "markdown",
   "metadata": {},
   "source": [
    "We can see that if we randomly selected an SAT test taker, there is a 88.5% probably they scored 1800 or less. Alternately, if someone scores 1800, we say they are in the 88th percentile. In the rest of this class, we will learn what ``quad`` and other ``scipy`` functions do \"under the hood\"."
   ]
  },
  {
   "cell_type": "markdown",
   "metadata": {},
   "source": [
    "## Example: Let's Revisit that Unbounded Assumption\n",
    "\n",
    "The normal distribution assumes the random variable can have outcomes between $-\\infty$ to $\\infty$. But, for this year, valid SAT scores were between 0 and 2400. What is the error caused by approximating SAT scores with a normal distribution?"
   ]
  },
  {
   "cell_type": "markdown",
   "metadata": {},
   "source": [
    "<div style=\"background-color: rgba(0,255,0,0.05) ; padding: 10px; border: 1px solid darkgreen;\"> \n",
    "<b>Home Activity</b>: Using the normal distribution, compute the probability of a score between -10,000 and 0. Store your answer in the Python float <tt>ans_aii1</tt>.\n",
    "</div>"
   ]
  },
  {
   "cell_type": "code",
   "execution_count": 7,
   "metadata": {
    "tags": [
     "remove-output"
    ]
   },
   "outputs": [
    {
     "name": "stdout",
     "output_type": "stream",
     "text": [
      "Integral value =  9.865965575048534e-10\n",
      "Integration tolerance =  1.874391547379387e-09\n"
     ]
    }
   ],
   "source": [
    "### BEGIN SOLUTION\n",
    "\n",
    "value, tol = integrate.quad(my_p,-10000,0)\n",
    "print(\"Integral value = \",value)\n",
    "print(\"Integration tolerance = \",tol)\n",
    "\n",
    "ans_aii1 = value\n",
    "\n",
    "### END SOLUTION"
   ]
  },
  {
   "cell_type": "code",
   "execution_count": 8,
   "metadata": {
    "nbgrader": {
     "grade": true,
     "grade_id": "a-ii-1",
     "locked": true,
     "points": "0.1",
     "solution": false
    },
    "tags": []
   },
   "outputs": [],
   "source": [
    "### BEGIN HIDDEN TESTS\n",
    "\n",
    "assert ans_aii1 < 1E-8, \"This probability should be really small.\"\n",
    "\n",
    "### END HIDDEN TESTS"
   ]
  },
  {
   "cell_type": "markdown",
   "metadata": {},
   "source": [
    "<div style=\"background-color: rgba(0,255,0,0.05) ; padding: 10px; border: 1px solid darkgreen;\"> \n",
    "<b>Home Activity</b>: Using the normal distribution, compute the probability of a score between 2400 and 10,000. Store your answer in the Python float <tt>ans_aii2</tt>.\n",
    "</div>"
   ]
  },
  {
   "cell_type": "code",
   "execution_count": 9,
   "metadata": {
    "tags": [
     "remove-output"
    ]
   },
   "outputs": [
    {
     "name": "stdout",
     "output_type": "stream",
     "text": [
      "Integral value =  0.00015910859015752824\n",
      "Integration tolerance =  9.361892703478763e-10\n"
     ]
    }
   ],
   "source": [
    "### BEGIN SOLUTION\n",
    "\n",
    "value, tol = integrate.quad(my_p,2400,10000)\n",
    "print(\"Integral value = \",value)\n",
    "print(\"Integration tolerance = \",tol)\n",
    "\n",
    "ans_aii2 = value\n",
    "\n",
    "### END SOLUTION"
   ]
  },
  {
   "cell_type": "code",
   "execution_count": 10,
   "metadata": {
    "nbgrader": {
     "grade": true,
     "grade_id": "a-ii-2",
     "locked": true,
     "points": "0.1",
     "solution": false
    },
    "tags": []
   },
   "outputs": [],
   "source": [
    "### BEGIN HIDDEN TESTS\n",
    "\n",
    "assert ans_aii2 < 1E-3, \"Your answer is too large\"\n",
    "assert ans_aii2 > 1E-5, \"Your answer is too small\"\n",
    "\n",
    "### END HIDDEN TESTS"
   ]
  },
  {
   "cell_type": "markdown",
   "metadata": {},
   "source": [
    "<div style=\"background-color: rgba(0,255,0,0.05) ; padding: 10px; border: 1px solid darkgreen;\"> \n",
    "<b>Home Activity</b>: Write a sentence to defend or refute our choice to model SAT scores with a normal distribution.\n",
    "</div>"
   ]
  },
  {
   "cell_type": "markdown",
   "metadata": {},
   "source": [
    "**Home Activity Answer:**"
   ]
  },
  {
   "cell_type": "markdown",
   "metadata": {
    "colab_type": "text",
    "id": "0436HF4jvTez"
   },
   "source": [
    "## Main Idea\n",
    "\n",
    "We will approximate an integral by a sum with a finite number of terms:\n",
    "\n",
    "$$\\int\\limits_a^b f(x)\\,dx \\approx \\sum_{l=0}^{L}w_l f(x_l).$$\n",
    "\n",
    "The function $f( )$ is evaluated at locations (nodes) $x_l$. Each function evaluation is multiplied by weight $w_l$ and then summed.\n",
    "\n",
    "This approach is known as a **quadrature** rule or simply **numerical integration**. We will focus on two broad families of methods: **Newton-Cotes formulas** and **Gaussian quadrature rules**.\n",
    "\n",
    "**Connection back to Calculus II**: Writing an integral as a finite sum is analogous to the definition of an integral as a Riemann sum.  Therefore, just as in finite difference derivatives, we use finite mathematics to approximate\n",
    "the infinitesimals of calculus."
   ]
  },
  {
   "cell_type": "markdown",
   "metadata": {
    "colab_type": "text",
    "id": "th6fz9j4vTez"
   },
   "source": [
    "## Newton-Cotes Formulas\n",
    "\n",
    "This is a broad family of numerical methods that follow the same general recipe:\n",
    "1. Fit a polynomial through the function evaluations.\n",
    "2. Integrate the polynomial approximation exactly.\n",
    "\n",
    "We will not discuss the general theory of Newton-Cotes formulas, but instead focus on three important methods commonly used."
   ]
  },
  {
   "cell_type": "markdown",
   "metadata": {
    "colab_type": "text",
    "id": "g-LrhArgvTe0"
   },
   "source": [
    "### 1) Midpoint Rule\n",
    "\n",
    "In the midpoint rule, we approximate the integral by the value of the function in the middle of the range of integration times the length of the region. This simple formula is\n",
    "\n",
    "$$I_{midpoint} = h\\, f\\!\\left(\\frac{a+b}{2}\\right) \\approx \\int\\limits_{a}^b f(x)\\,dx,$$\n",
    "\n",
    "where $h = b-a$. We can demonstrate this with a **graphical example**:\n",
    "\n",
    "$$\n",
    "f(x) = (x-3) (x-5) (x-7) + 100\n",
    "$$"
   ]
  },
  {
   "cell_type": "code",
   "execution_count": 11,
   "metadata": {
    "colab": {
     "base_uri": "https://localhost:8080/",
     "height": 295
    },
    "colab_type": "code",
    "executionInfo": {
     "elapsed": 758,
     "status": "ok",
     "timestamp": 1555965182213,
     "user": {
      "displayName": "Alexander Dowling",
      "photoUrl": "https://lh3.googleusercontent.com/-LChdQ2m5OQE/AAAAAAAAAAI/AAAAAAAAAA0/JeXJe4vQJ7M/s64/photo.jpg",
      "userId": "00988067626794866502"
     },
     "user_tz": 240
    },
    "id": "AdtlzWpivTe1",
    "outputId": "6535101a-339b-4e80-dc68-e4d00337bcea"
   },
   "outputs": [
    {
     "name": "stdout",
     "output_type": "stream",
     "text": [
      "Integral estimate =  660.0\n"
     ]
    },
    {
     "data": {
      "image/png": "[encoded data removed]",
      "text/plain": [
       "<Figure size 432x288 with 1 Axes>"
      ]
     },
     "metadata": {
      "needs_background": "light"
     },
     "output_type": "display_data"
    }
   ],
   "source": [
    "# define and plot function\n",
    "f = lambda x: (x-3)*(x-5)*(x-7)+110\n",
    "x = np.linspace(0,10,100)\n",
    "plt.plot(x,f(x),label=\"f(x)\",color=\"blue\")\n",
    "\n",
    "# get current axes\n",
    "ax = plt.gca()\n",
    "\n",
    "## draw polygon\n",
    "# define a and b\n",
    "a = 2\n",
    "b = 8\n",
    "\n",
    "# evaluate midpoint\n",
    "midpoint = 0.5*(a+b)\n",
    "fmid = f(midpoint)\n",
    "\n",
    "# estimate integral\n",
    "Imid = (b-a)*fmid\n",
    "print(\"Integral estimate = \",Imid)\n",
    "\n",
    "# draw rectangle\n",
    "verts = [(a,0),(a,fmid), (b,fmid),(b,0)]\n",
    "poly = Polygon(verts, facecolor='0.8', edgecolor='k')\n",
    "ax.add_patch(poly)\n",
    "ax.set_xticks((a,b))\n",
    "ax.set_xticklabels(('a='+str(a),'b='+str(b)))\n",
    "\n",
    "# add labels\n",
    "plt.xlabel(\"x\")\n",
    "plt.ylabel(\"f(x)\")\n",
    "plt.title(\"Midpoint Rule\")\n",
    "plt.show()"
   ]
  },
  {
   "cell_type": "markdown",
   "metadata": {
    "colab_type": "text",
    "id": "yVtA0Q7PvTe3"
   },
   "source": [
    "The resulting approximation is not terrible, but there are clearly parts of the function where the rectangle does not match the function well. We can do better than a rectangle that approximates the function as flat. "
   ]
  },
  {
   "cell_type": "markdown",
   "metadata": {},
   "source": [
    "<div style=\"background-color: rgba(0,255,0,0.05) ; padding: 10px; border: 1px solid darkgreen;\"> \n",
    "<b>Home Activity</b>: Copy the code from above to the cell below. Then modify the copied code to integrate $g(x) = x(1-\\sin(x))$ from $a=3$ to $b=7$ using the midpoint rule. Save the numeric approximation in the Python variable <tt>ans_bi</tt>. Hint: Use the function <tt>np.sin</tt>.\n",
    "</div>"
   ]
  },
  {
   "cell_type": "code",
   "execution_count": 12,
   "metadata": {
    "tags": [
     "remove-output"
    ]
   },
   "outputs": [
    {
     "name": "stdout",
     "output_type": "stream",
     "text": [
      "Integral estimate =  39.17848549326277\n"
     ]
    },
    {
     "data": {
      "image/png": "[encoded data removed]",
      "text/plain": [
       "<Figure size 432x288 with 1 Axes>"
      ]
     },
     "metadata": {
      "needs_background": "light"
     },
     "output_type": "display_data"
    }
   ],
   "source": [
    "### BEGIN SOLUTION\n",
    "# define and plot function\n",
    "g = lambda x: x*(1-np.sin(x))\n",
    "x = np.linspace(0,10,100)\n",
    "plt.plot(x,g(x),label=\"f(x)\",color=\"blue\")\n",
    "\n",
    "# get current axes\n",
    "ax = plt.gca()\n",
    "\n",
    "## draw polygon\n",
    "# define a and b\n",
    "a = 3\n",
    "b = 7\n",
    "\n",
    "# evaluate midpoint\n",
    "midpoint = 0.5*(a+b)\n",
    "fmid = g(midpoint)\n",
    "\n",
    "# estimate integral\n",
    "Imid = (b-a)*fmid\n",
    "print(\"Integral estimate = \",Imid)\n",
    "\n",
    "ans_bi = Imid\n",
    "\n",
    "# draw rectangle\n",
    "verts = [(a,0),(a,fmid), (b,fmid),(b,0)]\n",
    "poly = Polygon(verts, facecolor='0.8', edgecolor='k')\n",
    "ax.add_patch(poly)\n",
    "ax.set_xticks((a,b))\n",
    "ax.set_xticklabels(('a='+str(a),'b='+str(b)))\n",
    "\n",
    "# add labels\n",
    "plt.xlabel(\"x\")\n",
    "plt.ylabel(\"g(x)\")\n",
    "plt.title(\"Midpoint Rule\")\n",
    "plt.show()\n",
    "\n",
    "### END SOLUTION"
   ]
  },
  {
   "cell_type": "code",
   "execution_count": 13,
   "metadata": {
    "nbgrader": {
     "grade": true,
     "grade_id": "b-i",
     "locked": true,
     "points": "0.1",
     "solution": false
    },
    "tags": []
   },
   "outputs": [],
   "source": [
    "### BEGIN HIDDEN TESTS\n",
    "secret_ans = 39.17848549326277\n",
    "\n",
    "assert ans_bi <= secret_ans + 1E-4, \"Your answer is too large.\"\n",
    "assert ans_bi >= secret_ans - 1E-4, \"Your answer is too small.\"\n",
    "### END HIDDEN TESTS"
   ]
  },
  {
   "cell_type": "markdown",
   "metadata": {
    "colab_type": "text",
    "id": "mgyKcmBVvTe3"
   },
   "source": [
    "### 2) Trapezoid Rule\n",
    "\n",
    "#### Main Idea and Graphical Example\n",
    "\n",
    "Instead of approximating with a rectangle (midpoint rule), use a trapezoid:\n",
    "1. Fit a line between $a$ and $b$. This is a polynomial (linear) approximation to $f(x)$.\n",
    "2. Integrate the polynomial exactly\n",
    "\n",
    "The formula for this is\n",
    "\n",
    "$$ I_\\mathrm{trap} \\equiv \\frac{h}{2}(f(a) + f(b)) \\approx \\int\\limits_a^b f(x)\\,dx,$$\n",
    "\n",
    "where\n",
    "$h = b - a.$ Here is a graphical example on a polynomial function."
   ]
  },
  {
   "cell_type": "code",
   "execution_count": 14,
   "metadata": {
    "colab": {
     "base_uri": "https://localhost:8080/",
     "height": 295
    },
    "colab_type": "code",
    "executionInfo": {
     "elapsed": 1001,
     "status": "ok",
     "timestamp": 1555965182457,
     "user": {
      "displayName": "Alexander Dowling",
      "photoUrl": "https://lh3.googleusercontent.com/-LChdQ2m5OQE/AAAAAAAAAAI/AAAAAAAAAA0/JeXJe4vQJ7M/s64/photo.jpg",
      "userId": "00988067626794866502"
     },
     "user_tz": 240
    },
    "id": "o9raEMTsvTe4",
    "outputId": "55ef4b00-dc3f-483f-b799-14aaa45fe7c4"
   },
   "outputs": [
    {
     "name": "stdout",
     "output_type": "stream",
     "text": [
      "Integral estimate =  660.0\n"
     ]
    },
    {
     "data": {
      "image/png": "[encoded data removed]",
      "text/plain": [
       "<Figure size 432x288 with 1 Axes>"
      ]
     },
     "metadata": {
      "needs_background": "light"
     },
     "output_type": "display_data"
    }
   ],
   "source": [
    "# define and plot function\n",
    "f = lambda x: (x-3)*(x-5)*(x-7)+110\n",
    "x = np.linspace(0,10,100)\n",
    "plt.plot(x,f(x),label=\"f(x)\",color=\"blue\")\n",
    "\n",
    "# get current axes\n",
    "ax = plt.gca()\n",
    "\n",
    "# draw polygon\n",
    "a = 2\n",
    "b = 8\n",
    "verts = [(a,0),(a,f(a)), (b,f(b)),(b,0)]\n",
    "poly = Polygon(verts, facecolor='0.8', edgecolor='k')\n",
    "ax.add_patch(poly)\n",
    "ax.set_xticks((a,b))\n",
    "ax.set_xticklabels(('a='+str(a),'b='+str(b)))\n",
    "\n",
    "# estimate integral\n",
    "Itrap = (b-a)/2*(f(a) + f(b))\n",
    "print(\"Integral estimate = \",Itrap)\n",
    "\n",
    "# add labels\n",
    "plt.xlabel(\"x\")\n",
    "plt.ylabel(\"f(x)\")\n",
    "plt.title(\"Trapezoid Rule\")\n",
    "plt.show()"
   ]
  },
  {
   "cell_type": "markdown",
   "metadata": {
    "colab_type": "text",
    "id": "8a5l8dBdvTe8"
   },
   "source": [
    "You can see in the figure that the approximation is not exact because the trapezoid does not exactly follow the function, but if $a$ and $b$ are close enough together it should give a good approximation because any well-behaved function can be approximated linearly over a narrow enough domain."
   ]
  },
  {
   "cell_type": "markdown",
   "metadata": {},
   "source": [
    "<div style=\"background-color: rgba(0,255,0,0.05) ; padding: 10px; border: 1px solid darkgreen;\"> \n",
    "<b>Home Activity</b>: Copy the code from above to the cell below. Then modify the copied code to integrate $g(x) = x(1-\\sin(x))$ from $a=3$ to $b=7$ using the trapezoid rule. Save the numeric approximation in the Python variable <tt>ans_bii1</tt>.\n",
    "</div>"
   ]
  },
  {
   "cell_type": "code",
   "execution_count": 15,
   "metadata": {
    "tags": [
     "remove-output"
    ]
   },
   "outputs": [
    {
     "name": "stdout",
     "output_type": "stream",
     "text": [
      "Integral estimate =  9.955467569577749\n"
     ]
    },
    {
     "data": {
      "image/png": "[encoded data removed]",
      "text/plain": [
       "<Figure size 432x288 with 1 Axes>"
      ]
     },
     "metadata": {
      "needs_background": "light"
     },
     "output_type": "display_data"
    }
   ],
   "source": [
    "### BEGIN HIDDEN SOLUTION\n",
    "# define and plot function\n",
    "g = lambda x: x*(1-np.sin(x))\n",
    "x = np.linspace(0,10,100)\n",
    "plt.plot(x,g(x),label=\"g(x)\",color=\"blue\")\n",
    "\n",
    "# get current axes\n",
    "ax = plt.gca()\n",
    "\n",
    "# draw polygon\n",
    "a = 3\n",
    "b = 7\n",
    "verts = [(a,0),(a,g(a)), (b,g(b)),(b,0)]\n",
    "poly = Polygon(verts, facecolor='0.8', edgecolor='k')\n",
    "ax.add_patch(poly)\n",
    "ax.set_xticks((a,b))\n",
    "ax.set_xticklabels(('a='+str(a),'b='+str(b)))\n",
    "\n",
    "# estimate integral\n",
    "Itrap = (b-a)/2*(g(a) + g(b))\n",
    "print(\"Integral estimate = \",Itrap)\n",
    "ans_bii1 = Itrap\n",
    "\n",
    "# add labels\n",
    "plt.xlabel(\"x\")\n",
    "plt.ylabel(\"g(x)\")\n",
    "plt.title(\"Trapezoid Rule\")\n",
    "plt.show()\n",
    "\n",
    "### END HIDDEN SOLUTION"
   ]
  },
  {
   "cell_type": "code",
   "execution_count": 16,
   "metadata": {
    "nbgrader": {
     "grade": true,
     "grade_id": "12b-ii-1",
     "locked": true,
     "points": "0.1",
     "solution": false
    },
    "tags": []
   },
   "outputs": [],
   "source": [
    "### BEGIN HIDDEN TESTS\n",
    "secret_ans = 9.955467569577749\n",
    "\n",
    "assert ans_bii1 <= secret_ans + 1E-4, \"Your answer is too large.\"\n",
    "assert ans_bii1 >= secret_ans - 1E-4, \"Your answer is too small.\"\n",
    "### END HIDDEN TESTS"
   ]
  },
  {
   "cell_type": "markdown",
   "metadata": {
    "colab_type": "text",
    "id": "ePEeYa7-vTe9"
   },
   "source": [
    "#### Trapezoid Rule with Multiple Pieces\n",
    "\n",
    "That leads to a variation to the trapezoid rule (and any other rule for that matter).  We can break up the domain $[a,b]$ into many smaller domains and integrate each of these.  Here's an example where we break $[a,b]$ into 4 pieces:"
   ]
  },
  {
   "cell_type": "code",
   "execution_count": 17,
   "metadata": {
    "colab": {
     "base_uri": "https://localhost:8080/",
     "height": 295
    },
    "colab_type": "code",
    "executionInfo": {
     "elapsed": 1146,
     "status": "ok",
     "timestamp": 1555965182603,
     "user": {
      "displayName": "Alexander Dowling",
      "photoUrl": "https://lh3.googleusercontent.com/-LChdQ2m5OQE/AAAAAAAAAAI/AAAAAAAAAA0/JeXJe4vQJ7M/s64/photo.jpg",
      "userId": "00988067626794866502"
     },
     "user_tz": 240
    },
    "id": "zMKrim8GvTe-",
    "outputId": "ba24786f-bce7-44b7-fd25-f73a597d5ee5"
   },
   "outputs": [
    {
     "data": {
      "image/png": "[encoded data removed]",
      "text/plain": [
       "<Figure size 432x288 with 1 Axes>"
      ]
     },
     "metadata": {
      "needs_background": "light"
     },
     "output_type": "display_data"
    },
    {
     "name": "stdout",
     "output_type": "stream",
     "text": [
      "Integral estimate with 4 pieces =  660.0\n"
     ]
    }
   ],
   "source": [
    "#graphical example of 4 pieces\n",
    "\n",
    "# define polynomial and plot\n",
    "f = lambda x: (x-3)*(x-5)*(x-7)+110\n",
    "x = np.linspace(0,10,100)\n",
    "plt.plot(x,f(x),label=\"f(x)\",color=\"blue\")\n",
    "ax = plt.gca()\n",
    "a = 2\n",
    "b = 8\n",
    "h = b - a\n",
    "N = 4\n",
    "\n",
    "# draw trapezoids and integrate\n",
    "Itrap = 0.0\n",
    "for i in range(N):\n",
    "    xleft = a+i*h/N\n",
    "    fleft = f(xleft)\n",
    "    xright = a+(i+1)*h/N\n",
    "    fright = f(xright)\n",
    "    \n",
    "    Itrap += (h/N/2)*(fleft + fright)\n",
    "    \n",
    "    verts = [(xleft,0),(xleft,fleft), (xright,fright),(xright,0)]\n",
    "    poly = Polygon(verts, facecolor='0.8', edgecolor='k')\n",
    "    ax.add_patch(poly)\n",
    "    \n",
    "ax.set_xticks((a,b))\n",
    "ax.set_xticklabels(('a='+str(a),'b='+str(b)))\n",
    "plt.xlabel(\"x\")\n",
    "plt.ylabel(\"f(x)\")\n",
    "plt.title(\"Trapezoid Rule with \"+str(N)+\" pieces\")\n",
    "plt.show()\n",
    "\n",
    "print(\"Integral estimate with\",N,\"pieces = \",Itrap)"
   ]
  },
  {
   "cell_type": "markdown",
   "metadata": {
    "colab_type": "text",
    "id": "5nkL5udwvTfC"
   },
   "source": [
    "<div style=\"background-color: rgba(0,255,0,0.05) ; padding: 10px; border: 1px solid darkgreen;\"> <b>Home Activity</b>: Copy the code from above to the cell below. Then modify the copied code to integrate $g(x) = x(1-\\sin(x))$ from $a=3$ to $b=7$ using the trapezoid rule with $N$ pieces. Per WolframaAlpha, the answer is 27.7314266795455... Determine the minimum number of pieces needed such that approximation, when rounded, matches the exact answer to one decimal place. Store your answer as an integer in <tt>ans_bii2</tt>.\n",
    "</div>"
   ]
  },
  {
   "cell_type": "code",
   "execution_count": 18,
   "metadata": {
    "tags": [
     "remove-output"
    ]
   },
   "outputs": [
    {
     "data": {
      "image/png": "[encoded data removed]",
      "text/plain": [
       "<Figure size 432x288 with 1 Axes>"
      ]
     },
     "metadata": {
      "needs_background": "light"
     },
     "output_type": "display_data"
    },
    {
     "name": "stdout",
     "output_type": "stream",
     "text": [
      "Integral estimate with 12 pieces =  27.650117867008063\n"
     ]
    }
   ],
   "source": [
    "### BEGIN SOLUTION\n",
    "#graphical example of 4 pieces\n",
    "g = lambda x: x*(1-np.sin(x))\n",
    "x = np.linspace(0,10,100)\n",
    "plt.plot(x,g(x),label=\"g(x)\",color=\"blue\")\n",
    "ax = plt.gca()\n",
    "a = 3\n",
    "b = 7\n",
    "h = b - a\n",
    "N = 12\n",
    "\n",
    "#graphical example of 4 pieces\n",
    "\n",
    "# draw trapezoids and integrate\n",
    "Itrap = 0.0\n",
    "for i in range(N):\n",
    "    xleft = a+i*h/N\n",
    "    fleft = g(xleft)\n",
    "    xright = a+(i+1)*h/N\n",
    "    fright = g(xright)\n",
    "    \n",
    "    Itrap += (h/N/2)*(fleft + fright)\n",
    "    \n",
    "    verts = [(xleft,0),(xleft,fleft), (xright,fright),(xright,0)]\n",
    "    poly = Polygon(verts, facecolor='0.8', edgecolor='k')\n",
    "    ax.add_patch(poly)\n",
    "    \n",
    "ax.set_xticks((a,b))\n",
    "ax.set_xticklabels(('a='+str(a),'b='+str(b)))\n",
    "plt.xlabel(\"x\")\n",
    "plt.ylabel(\"g(x)\")\n",
    "plt.title(\"Trapezoid Rule with \"+str(N)+\" pieces\")\n",
    "plt.show()\n",
    "\n",
    "print(\"Integral estimate with\",N,\"pieces = \",Itrap)\n",
    "\n",
    "ans_bii2 = 12\n",
    "### END SOLUTION"
   ]
  },
  {
   "cell_type": "code",
   "execution_count": 19,
   "metadata": {
    "nbgrader": {
     "grade": true,
     "grade_id": "12b-ii-2",
     "locked": true,
     "points": "0.1",
     "solution": false
    },
    "tags": []
   },
   "outputs": [],
   "source": [
    "### BEGIN HIDDEN TESTS\n",
    "assert type(ans_bii2) is int, \"Answer should be an integer\"\n",
    "\n",
    "assert ans_bii2 == 12, \"Try N=11, N=12, and N=13.\"\n",
    "### END HIDDEN TESTS"
   ]
  },
  {
   "cell_type": "markdown",
   "metadata": {
    "colab_type": "text",
    "id": "NQfeEmhOvTfE"
   },
   "source": [
    "#### General Purpose Function and Test Case\n",
    "\n",
    "We can write a trapezoid rule function that will take in a function, $a$, $b$, and the number of pieces and perform this integration. Also, because the right side of each piece is the left side of the next piece, if we're clever we can only evaluate the function once $N+1$ times where $N$ is the number of pieces.\n",
    "\n",
    "The following function implements the trapezoid rule, and will produce a graph of the approximation when the parameter <tt>graph</tt> is set to true."
   ]
  },
  {
   "cell_type": "markdown",
   "metadata": {},
   "source": [
    "<div style=\"background-color: rgba(0,255,0,0.05) ; padding: 10px; border: 1px solid darkgreen;\"> \n",
    "<b>Home Activity</b>: Study the code below. Write at least two questions to ask your neighbor during class.\n",
    "</div>"
   ]
  },
  {
   "cell_type": "markdown",
   "metadata": {},
   "source": [
    "Question 1:\n",
    "\n",
    "Question 2:"
   ]
  },
  {
   "cell_type": "code",
   "execution_count": 20,
   "metadata": {
    "colab": {},
    "colab_type": "code",
    "id": "1urLwHB1vTfE",
    "tags": []
   },
   "outputs": [],
   "source": [
    "def trapezoid(f, a, b, pieces, graph=False):\n",
    "    \"\"\"Find the integral of the function f between a and b using pieces trapezoids\n",
    "    Args:\n",
    "        f: function to integrate\n",
    "        a: lower bound of integral\n",
    "        b: upper bound of integral\n",
    "        pieces: number of pieces to chop [a,b] into\n",
    "        \n",
    "    Returns:\n",
    "        estimate of integral\n",
    "    \"\"\"\n",
    "    # set integral sum to zero\n",
    "    integral = 0\n",
    "    \n",
    "    # calculate total width\n",
    "    h = b - a\n",
    "    \n",
    "    # plot true function\n",
    "    if (graph):\n",
    "        x = np.linspace(a,b,100)\n",
    "        plt.plot(x,f(x),label=\"f(x)\",color=\"blue\")\n",
    "        ax = plt.gca()\n",
    "    \n",
    "    # initialize the left function evaluation\n",
    "    fa = f(a)\n",
    "    \n",
    "    for i in range(pieces):\n",
    "        # evaluate the function at the right end of the current piece\n",
    "        fb = f(a + (i+1)*h/pieces)\n",
    "        \n",
    "        # add to integral\n",
    "        integral += 0.5*h/pieces*(fa + fb)\n",
    "        \n",
    "        # plot the current piece\n",
    "        if (graph):\n",
    "            verts = [(a+i*h/pieces,0),(a+i*h/pieces,fa), (a+(i+1)*h/pieces,fb),(a+(i+1)*h/pieces,0)]\n",
    "            poly = Polygon(verts, facecolor='0.9', edgecolor='k')\n",
    "            ax.add_patch(poly)\n",
    "            \n",
    "        # now make the left function evaluation the right for the next step\n",
    "        fa = fb\n",
    "    \n",
    "    # label plot\n",
    "    if (graph):\n",
    "        ax.set_xticks((a,b))\n",
    "        ax.set_xticklabels(('a='+str(a),'b='+str(b)))\n",
    "        plt.xlabel(\"x\")\n",
    "        plt.ylabel(\"f(x)\")\n",
    "        if (pieces > 1):\n",
    "            plt.title(\"Trapezoid Rule with \" + str(pieces) + \" pieces\")\n",
    "        else:\n",
    "            plt.title(\"Trapezoid Rule with \" + str(pieces) + \" piece\")\n",
    "        plt.show()\n",
    "    return integral"
   ]
  },
  {
   "cell_type": "markdown",
   "metadata": {},
   "source": [
    "<div style=\"background-color: rgba(0,255,0,0.05) ; padding: 10px; border: 1px solid darkgreen;\"> \n",
    "<b>Home Activity</b>: Run the code below."
   ]
  },
  {
   "cell_type": "markdown",
   "metadata": {
    "colab_type": "text",
    "id": "D2MmrU2IvTfF"
   },
   "source": [
    "Let's test this method on a function that we know the integral of \n",
    "\n",
    "$$\\int\\limits_0^\\pi \\sin x\\,dx = 2.$$"
   ]
  },
  {
   "cell_type": "code",
   "execution_count": 21,
   "metadata": {
    "colab": {
     "base_uri": "https://localhost:8080/",
     "height": 313
    },
    "colab_type": "code",
    "executionInfo": {
     "elapsed": 344,
     "status": "ok",
     "timestamp": 1556027904163,
     "user": {
      "displayName": "Alexander Dowling",
      "photoUrl": "https://lh3.googleusercontent.com/-LChdQ2m5OQE/AAAAAAAAAAI/AAAAAAAAAA0/JeXJe4vQJ7M/s64/photo.jpg",
      "userId": "00988067626794866502"
     },
     "user_tz": 240
    },
    "id": "nAr2E56kvTfG",
    "outputId": "11aceded-d569-4126-9515-50a5e5aecdff"
   },
   "outputs": [
    {
     "data": {
      "image/png": "[encoded data removed]",
      "text/plain": [
       "<Figure size 432x288 with 1 Axes>"
      ]
     },
     "metadata": {
      "needs_background": "light"
     },
     "output_type": "display_data"
    },
    {
     "name": "stdout",
     "output_type": "stream",
     "text": [
      "Estimate is 1.8961188979370398 while the actual value is 2\n"
     ]
    }
   ],
   "source": [
    "integral_estimate = trapezoid(np.sin,0,np.pi,pieces=4,graph=True)\n",
    "print(\"Estimate is\",integral_estimate,\"while the actual value is 2\")"
   ]
  },
  {
   "cell_type": "code",
   "execution_count": 22,
   "metadata": {
    "colab": {
     "base_uri": "https://localhost:8080/",
     "height": 313
    },
    "colab_type": "code",
    "executionInfo": {
     "elapsed": 522,
     "status": "ok",
     "timestamp": 1556027913020,
     "user": {
      "displayName": "Alexander Dowling",
      "photoUrl": "https://lh3.googleusercontent.com/-LChdQ2m5OQE/AAAAAAAAAAI/AAAAAAAAAA0/JeXJe4vQJ7M/s64/photo.jpg",
      "userId": "00988067626794866502"
     },
     "user_tz": 240
    },
    "id": "QY2X4_Z6vTfI",
    "outputId": "133f0b7f-3687-4bb3-af46-d9012301d148"
   },
   "outputs": [
    {
     "data": {
      "image/png": "[encoded data removed]",
      "text/plain": [
       "<Figure size 432x288 with 1 Axes>"
      ]
     },
     "metadata": {
      "needs_background": "light"
     },
     "output_type": "display_data"
    },
    {
     "name": "stdout",
     "output_type": "stream",
     "text": [
      "Estimate is 1.999341983076262 while the actual value is 2\n"
     ]
    }
   ],
   "source": [
    "integral_estimate = trapezoid(np.sin,0,np.pi,pieces=50,graph=True)\n",
    "print(\"Estimate is\",integral_estimate,\"while the actual value is 2\")"
   ]
  },
  {
   "cell_type": "markdown",
   "metadata": {
    "colab_type": "text",
    "id": "joCpaK9_vTfJ"
   },
   "source": [
    "#### Error Analysis\n",
    "\n",
    "How does the error change as we increase the number pieces (i.e., decrease the step size $h$)?"
   ]
  },
  {
   "cell_type": "markdown",
   "metadata": {},
   "source": [
    "<div style=\"background-color: rgba(0,255,0,0.05) ; padding: 10px; border: 1px solid darkgreen;\"> \n",
    "<b>Home Activity</b>: Run the code below."
   ]
  },
  {
   "cell_type": "code",
   "execution_count": 23,
   "metadata": {
    "colab": {
     "base_uri": "https://localhost:8080/",
     "height": 299
    },
    "colab_type": "code",
    "executionInfo": {
     "elapsed": 993,
     "status": "ok",
     "timestamp": 1556027945482,
     "user": {
      "displayName": "Alexander Dowling",
      "photoUrl": "https://lh3.googleusercontent.com/-LChdQ2m5OQE/AAAAAAAAAAI/AAAAAAAAAA0/JeXJe4vQJ7M/s64/photo.jpg",
      "userId": "00988067626794866502"
     },
     "user_tz": 240
    },
    "id": "vOypLQL5vTfK",
    "outputId": "2992c060-9bcb-49ad-aff5-f5624e72f4f0"
   },
   "outputs": [
    {
     "data": {
      "image/png": "[encoded data removed]",
      "text/plain": [
       "<Figure size 432x288 with 1 Axes>"
      ]
     },
     "metadata": {
      "needs_background": "light"
     },
     "output_type": "display_data"
    }
   ],
   "source": [
    "pieces = 2**np.arange(0,6)\n",
    "error = np.zeros(6)\n",
    "count = 0\n",
    "for p in pieces:\n",
    "    error[count] = np.fabs(trapezoid(np.sin,0,np.pi,pieces=p,graph=False) - 2.0)\n",
    "    count += 1\n",
    "h = np.pi/pieces\n",
    "plt.loglog(h,error,'o-')\n",
    "slope = (np.log(error[0]) - np.log(error[-1]))/(np.log(h[0]) - np.log(h[-1]) )\n",
    "plt.title(\"Trapezoid Rule Error: slope = \" + str(slope))\n",
    "plt.xlabel(\"h\")\n",
    "plt.ylabel(\"Absolute Error\")\n",
    "plt.show()"
   ]
  },
  {
   "cell_type": "markdown",
   "metadata": {},
   "source": [
    "Similar to what we did for finite difference derivatives, we can plot the error versus number of pieces on a log-log scale. The error in the trapezoid rule that we observe is second-order in $h$, because the slope of the error on the log-log scale is 2."
   ]
  },
  {
   "cell_type": "markdown",
   "metadata": {},
   "source": [
    "<div style=\"background-color: rgba(0,0,255,0.05) ; padding: 10px; border: 1px solid darkblue;\"> \n",
    "<b>Class Activity</b>: Go through the derivation below on the chalkboard.\n",
    "</div>"
   ]
  },
  {
   "cell_type": "markdown",
   "metadata": {
    "colab_type": "text",
    "id": "ffMRPzeGvTfL"
   },
   "source": [
    "**We will now use a Taylor series to show why the slope is 2.**\n",
    "\n",
    "We can see that this is the expected error in the estimate by looking at the linear approximation to a function around $x = a$:\n",
    "\n",
    "$$f(x) = f(a) + (x-a) f'(a) + \\frac{(x-a)^2}{2} f''(a) + O((x-a)^3).$$\n",
    "\n",
    "We can approximate the derivative using a forward difference:\n",
    "\n",
    "$$f'(a) \\approx \\frac{f(b) - f(a)}{h} + O(h),$$\n",
    "\n",
    "where $h = b-a$. Now the integral of $f(x)$ from $a$ to $b$ becomes\n",
    "\n",
    "$$\\int \\limits_a^b f(x)\\,dx = h f(a) + \\int\\limits_a^b (x-a) f'(a)\\,dx +\\int\\limits_a^b \\frac{(x-a)^2}{2} f''(a)\\,dx + O(h^4).$$\n",
    "\n",
    "The integral \n",
    "\n",
    "$$\\int\\limits_a^b (x-a) f'(a) dx = \\frac{(b-a)^2}{2}f'(a) = \\frac{h^2}{2}\\left(\\frac{f(b) - f(a)}{h} + O(h)\\right)\n",
    "= \\frac{h}{2}\\left(f(b)-f(a)\\right) + O(h^3).$$\n",
    "\n",
    "Additionally,\n",
    "\n",
    "$$\\int\\limits_a^b \\frac{(x-a)^2}{2} f''(a)\\,dx = -\\frac{h^3}{6} f''(a) = O(h^3).$$\n",
    "\n",
    "When we plug this into the original integral we get\n",
    "\n",
    "$$\\int \\limits_a^b f(x)\\,dx = \\frac{h}{2} (f(a) + f(b)) + O(h^3).$$\n",
    "\n",
    "This says that error in one piece of the trapezoid rule is third-order accurate, which means the error can be written as $C h^3 + O(h^4)$.  However, when we break the interval into $N$ pieces, each of size $h = (b-a)/N$, the error terms add and each piece has its own constant so that\n",
    "\n",
    "$$\\sum_{i=1}^N C_i h^3 \\leq N h^3 C_\\mathrm{max} = (b-a)C_\\mathrm{max} h^2,$$\n",
    "\n",
    "where $C_\\mathrm{max}$ is the maximum value of $|C_i|$.  Therefore, the error in the sum of trapezoid rules decreases as $h^2$, which we observed above.  This analysis can be extended to show that the error terms in the trapezoid rule only have even powers of $h$: \n",
    "\n",
    "$$\\mathrm{Error} = C_2 h^2 + C_4 h^4 + \\dots$$"
   ]
  },
  {
   "cell_type": "markdown",
   "metadata": {
    "colab_type": "text",
    "id": "xH4krJvAvTfM"
   },
   "source": [
    "### Simpson's Rule"
   ]
  },
  {
   "cell_type": "markdown",
   "metadata": {
    "colab_type": "text",
    "id": "Pm9sg7WQvTfN"
   },
   "source": [
    "We will now take the idea of the trapezoid rule a step further by **fitting a parabola** between three points: $a$, $b$, and $(a+b)/2$.  The formula for this is\n",
    "\n",
    "$$ I_\\mathrm{Simpson} \\equiv \\frac{h}{6}\\left(f(a) + 4 f\\left(a + \\frac{h}{2}\\right) + f(b)\\right) \\approx \\int\\limits_a^b f(x)\\,dx,$$\n",
    "\n",
    "where\n",
    "$h = b - a.$\n",
    "\n",
    "Footnote: This is sometimes called Simpsions 1/3 rule."
   ]
  },
  {
   "cell_type": "markdown",
   "metadata": {
    "colab_type": "text",
    "id": "9Jrmdu--vTfN"
   },
   "source": [
    "#### Quadratic Interpolation\n",
    "\n",
    "Before examining Simpson's rule, we need to quickly discuss quadratic interpolation. Let's say I have evaluated the function $g(x)$ at three points: $a_1$, $a_2$ and $a_3$. I now want to approximate $g(x)$ and any point $x$ using **quadratic interpolation**.\n",
    "\n",
    "$$\n",
    "g(x) \\approx \\frac{(x-a_2)(x-a_3)}{(a_1 - a_2)(a_1 - a_3)} g(a_1) + \\frac{(x-a_1)(x-a_3)}{(a_2 - a_1)(a_2 - a_3)} g(a_2) + \\frac{(x-a_1)(x-a_2)}{(a_3 - a_1)(a_3 - a_2)} g(a_3)\n",
    "$$"
   ]
  },
  {
   "cell_type": "code",
   "execution_count": 24,
   "metadata": {
    "tags": []
   },
   "outputs": [],
   "source": [
    "def quadratic_interp(a,f,x):\n",
    "    \"\"\"Compute at quadratic interpolant\n",
    "    Args:\n",
    "        a: array of the 3 points\n",
    "        f: array of the value of f(a) at the 3 points\n",
    "        x: point to interpolate at\n",
    "    Returns:\n",
    "        The value of the linear interpolant at x\n",
    "    \"\"\"\n",
    "    answer = (x-a[1])*(x-a[2])/(a[0]-a[1])/(a[0]-a[2])*f[0] \n",
    "    answer += (x-a[0])*(x-a[2])/(a[1]-a[0])/(a[1]-a[2])*f[1] \n",
    "    answer += (x-a[0])*(x-a[1])/(a[2]-a[0])/(a[2]-a[1])*f[2] \n",
    "    return answer"
   ]
  },
  {
   "cell_type": "markdown",
   "metadata": {},
   "source": [
    "Let's return to the example $f(x) = (x-3)(x-5)(x-7)+110$ to test our function."
   ]
  },
  {
   "cell_type": "code",
   "execution_count": 25,
   "metadata": {
    "tags": []
   },
   "outputs": [],
   "source": [
    "f = lambda x: (x-3)*(x-5)*(x-7)+110"
   ]
  },
  {
   "cell_type": "markdown",
   "metadata": {},
   "source": [
    "Now let's test our quadratic interpolation formula. We'll choose $x=0$, $x=1$, and $x=2$ as the three node locations. We'll start by evaluating our function $f(x)$ at these three points."
   ]
  },
  {
   "cell_type": "code",
   "execution_count": 26,
   "metadata": {},
   "outputs": [
    {
     "name": "stdout",
     "output_type": "stream",
     "text": [
      "f( 0.0 ) = 5.0\n",
      "f( 1.0 ) = 62.0\n",
      "f( 2.0 ) = 95.0\n"
     ]
    }
   ],
   "source": [
    "x_nodes = np.array([0.0, 1.0, 2.0])\n",
    "f_nodes = np.zeros(len(x_nodes))\n",
    "\n",
    "# loop over elements of x_node\n",
    "for i in range(len(x_nodes)):\n",
    "    # evaluate f() and store answer in f_nodes\n",
    "    f_nodes[i] = f(x_nodes[i])\n",
    "    # print to screen\n",
    "    print(\"f(\",x_nodes[i],\") =\",f_nodes[i])"
   ]
  },
  {
   "cell_type": "markdown",
   "metadata": {},
   "source": [
    "Now let's evaluate our interpolation function $g(x)$ at these three points:"
   ]
  },
  {
   "cell_type": "code",
   "execution_count": 27,
   "metadata": {},
   "outputs": [
    {
     "data": {
      "text/plain": [
       "21.5"
      ]
     },
     "execution_count": 27,
     "metadata": {},
     "output_type": "execute_result"
    }
   ],
   "source": [
    "quadratic_interp(x_nodes, f_nodes, 0.25)"
   ]
  },
  {
   "cell_type": "code",
   "execution_count": 28,
   "metadata": {},
   "outputs": [
    {
     "name": "stdout",
     "output_type": "stream",
     "text": [
      "g( 0.0 ) = 5.0\n",
      "g( 1.0 ) = 62.0\n",
      "g( 2.0 ) = 95.0\n"
     ]
    }
   ],
   "source": [
    "for i in x_nodes:\n",
    "    print(\"g(\",i,\") =\",quadratic_interp(x_nodes, f_nodes, i))"
   ]
  },
  {
   "cell_type": "markdown",
   "metadata": {},
   "source": [
    "We see the quadratice interpolation $g(x)$ is exact at the three nodes. Please verify this makes sense based on the formula for $g(x)$."
   ]
  },
  {
   "cell_type": "markdown",
   "metadata": {},
   "source": [
    "<div style=\"background-color: rgba(0,255,0,0.05) ; padding: 10px; border: 1px solid darkgreen;\"> \n",
    "<b>Home Activity</b>: Evaluate the original function $f(x)$ and the quadratic interpolation approximation $g(x)$ at $x=0.25$. Record your answer in <tt>f_b_iii</tt> and <tt>g_b_iii</tt>. Use the same nodes as the example, i.e., do not modify <tt>x_nodes</tt> and <tt>f_nodes</tt>.\n",
    "</div>"
   ]
  },
  {
   "cell_type": "code",
   "execution_count": 29,
   "metadata": {
    "tags": [
     "remove-output"
    ]
   },
   "outputs": [
    {
     "name": "stdout",
     "output_type": "stream",
     "text": [
      "f( 0.25 ) = 21.828125\n",
      "g( 0.25 ) = 21.5\n"
     ]
    }
   ],
   "source": [
    "### BEGIN SOLUTION\n",
    "x_new = 0.25\n",
    "f_b_iii = f(x_new)\n",
    "g_b_iii = quadratic_interp(x_nodes, f_nodes, x_new)\n",
    "print(\"f(\",x_new,\") =\",f_b_iii)\n",
    "print(\"g(\",x_new,\") =\",g_b_iii)\n",
    "### END SOLUTION"
   ]
  },
  {
   "cell_type": "code",
   "execution_count": 30,
   "metadata": {
    "nbgrader": {
     "grade": true,
     "grade_id": "f-g-b-iii",
     "locked": true,
     "points": "0.1",
     "solution": false
    },
    "tags": []
   },
   "outputs": [],
   "source": [
    "### BEGIN HIDDEN TESTS\n",
    "secret_f_b_iii = 21.828125\n",
    "secret_g_b_iii = 21.5\n",
    "\n",
    "assert np.abs(secret_f_b_iii - f_b_iii) < 1E-4, \"Check your answer for f(0.25)\"\n",
    "assert np.abs(secret_g_b_iii - g_b_iii) < 1E-4, \"Check your answer for g(0.25)\"\n",
    "\n",
    "### END HIDDEN TESTS"
   ]
  },
  {
   "cell_type": "markdown",
   "metadata": {},
   "source": [
    "You should see the quadratic interpolant is a good approximation, but not perfect.\n",
    "\n",
    "The code below graphically explores $g(x)$."
   ]
  },
  {
   "cell_type": "code",
   "execution_count": 31,
   "metadata": {
    "colab": {
     "base_uri": "https://localhost:8080/",
     "height": 295
    },
    "colab_type": "code",
    "executionInfo": {
     "elapsed": 466,
     "status": "ok",
     "timestamp": 1556029115451,
     "user": {
      "displayName": "Alexander Dowling",
      "photoUrl": "https://lh3.googleusercontent.com/-LChdQ2m5OQE/AAAAAAAAAAI/AAAAAAAAAA0/JeXJe4vQJ7M/s64/photo.jpg",
      "userId": "00988067626794866502"
     },
     "user_tz": 240
    },
    "id": "yg5__ZYSvTfO",
    "outputId": "7d95a4c5-9c70-456c-d15b-87973adb0089"
   },
   "outputs": [
    {
     "data": {
      "image/png": "[encoded data removed]",
      "text/plain": [
       "<Figure size 432x288 with 1 Axes>"
      ]
     },
     "metadata": {
      "needs_background": "light"
     },
     "output_type": "display_data"
    }
   ],
   "source": [
    "# plot true function in blue\n",
    "a = 0\n",
    "b = np.pi\n",
    "x = np.linspace(a,b,100)\n",
    "plt.plot(x,f(x),label=\"f(x)\",color=\"blue\")\n",
    "\n",
    "# assemble nodes of three points, plot as circles\n",
    "nodes = [a,0.5*(a+b),b]\n",
    "fnodes = f(np.array([a,0.5*(a+b),b]))\n",
    "plt.scatter(nodes, fnodes, marker='o',color='blue')\n",
    "\n",
    "# plot polygon to visualize quadratic interpolation\n",
    "ax = plt.gca()\n",
    "ix = np.arange(a, b, 0.01)\n",
    "iy = quadratic_interp(nodes,fnodes,ix)\n",
    "verts = [(a,0)] + list(zip(ix,iy)) + [(b,0)]\n",
    "poly = plt.Polygon(verts, facecolor='0.9', edgecolor='k')\n",
    "ax.add_patch(poly)\n",
    "\n",
    "# label axes\n",
    "ax.set_xticks((a,b))\n",
    "ax.set_xticklabels(('a='+str(a),'b='+str(b)))\n",
    "plt.xlabel(\"x\")\n",
    "plt.ylabel(\"f(x)\")\n",
    "plt.title(\"Simpson's Rule\")\n",
    "plt.show()"
   ]
  },
  {
   "cell_type": "markdown",
   "metadata": {},
   "source": [
    "We can see the quadratic function fits $f(x)$ really well. This is not that surprising, as $f(x)$ is a cubic."
   ]
  },
  {
   "cell_type": "markdown",
   "metadata": {},
   "source": [
    "<div style=\"background-color: rgba(0,255,0,0.05) ; padding: 10px; border: 1px solid darkgreen;\"> \n",
    "<b>Home Activity</b>: Copy the code above to below. Adapt the copied code to explore $g(x) = x (1-\\sin(x))$. Write a sentence to discuss the results.\n",
    "</div>"
   ]
  },
  {
   "cell_type": "code",
   "execution_count": 32,
   "metadata": {
    "tags": [
     "remove-output"
    ]
   },
   "outputs": [
    {
     "data": {
      "image/png": "[encoded data removed]",
      "text/plain": [
       "<Figure size 432x288 with 1 Axes>"
      ]
     },
     "metadata": {
      "needs_background": "light"
     },
     "output_type": "display_data"
    }
   ],
   "source": [
    "### BEGIN SOLUTION\n",
    "f = lambda x: x*(1-np.sin(x))\n",
    "\n",
    "# plot true function in blue\n",
    "a = 0\n",
    "b = np.pi\n",
    "x = np.linspace(a,b,100)\n",
    "plt.plot(x,f(x),label=\"f(x)\",color=\"blue\")\n",
    "\n",
    "# assemble nodes of three points, plot as circles\n",
    "nodes = [a,0.5*(a+b),b]\n",
    "fnodes = f(np.array([a,0.5*(a+b),b]))\n",
    "plt.scatter(nodes, fnodes, marker='o',color='blue')\n",
    "\n",
    "# plot polygon to visualize quadratic interpolation\n",
    "ax = plt.gca()\n",
    "ix = np.arange(a, b, 0.01)\n",
    "iy = quadratic_interp(nodes,fnodes,ix)\n",
    "verts = [(a,0)] + list(zip(ix,iy)) + [(b,0)]\n",
    "poly = plt.Polygon(verts, facecolor='0.8', edgecolor='k')\n",
    "ax.add_patch(poly)\n",
    "\n",
    "# label axes\n",
    "ax.set_xticks((a,b))\n",
    "ax.set_xticklabels(('a='+str(a),'b='+str(b)))\n",
    "plt.xlabel(\"x\")\n",
    "plt.ylabel(\"g(x)\")\n",
    "plt.title(\"Simpson's Rule\")\n",
    "plt.show()\n",
    "### END SOLUTION"
   ]
  },
  {
   "cell_type": "markdown",
   "metadata": {},
   "source": [
    "**Home Activity Discussion:**"
   ]
  },
  {
   "cell_type": "markdown",
   "metadata": {
    "colab_type": "text",
    "id": "ZH3pQu_WvTfP"
   },
   "source": [
    "#### General Purpose Function and Test Case"
   ]
  },
  {
   "cell_type": "markdown",
   "metadata": {},
   "source": [
    "<div style=\"background-color: rgba(0,255,0,0.05) ; padding: 10px; border: 1px solid darkgreen;\"> \n",
    "<b>Home Activity</b>: Study the code below. Write at least two questions to ask your neighbor during class.\n",
    "</div>"
   ]
  },
  {
   "cell_type": "code",
   "execution_count": 33,
   "metadata": {
    "colab": {},
    "colab_type": "code",
    "id": "MXbWOyWbvTfQ",
    "tags": []
   },
   "outputs": [],
   "source": [
    "def simpsons(f, a, b, pieces, graph=False):\n",
    "    \"\"\"Find the integral of the function f between a and b using Simpson's rule\n",
    "    Args:\n",
    "        f: function to integrate\n",
    "        a: lower bound of integral\n",
    "        b: upper bound of integral\n",
    "        pieces: number of pieces to chop [a,b] into\n",
    "        \n",
    "    Returns:\n",
    "        estimate of integral\n",
    "    \"\"\"\n",
    "    \n",
    "    # set integral counter to 0\n",
    "    integral = 0\n",
    "    \n",
    "    # calculate total witdth\n",
    "    h = b - a\n",
    "    \n",
    "    # compute and save 1/6\n",
    "    one_sixth = 1.0/6.0\n",
    "    \n",
    "    # plot function\n",
    "    if (graph):\n",
    "        x = np.linspace(a,b,100)\n",
    "        plt.plot(x,f(x),label=\"f(x)\",color=\"blue\")\n",
    "        ax = plt.gca()\n",
    "    \n",
    "    #initialize the left function evaluation\n",
    "    fa = f(a)\n",
    "    for i in range(pieces):\n",
    "        # evaluate the function at the right end of the piece\n",
    "        fb = f(a + (i+1)*h/pieces)\n",
    "        fmid = f(a + (i+0.5)*h/pieces)\n",
    "        integral += one_sixth*h/pieces*(fa + 4*fmid + fb)\n",
    "        \n",
    "        # visualize piece\n",
    "        if (graph):\n",
    "            ix = np.arange(a+i*h/pieces, a+(i+1)*h/pieces, 0.001)\n",
    "            iy = quadratic_interp(np.array([a+i*h/pieces,0.5*(a+(i+1)*h/pieces+ a+i*h/pieces),a+(i+1)*h/pieces]),\n",
    "                                  np.array([fa,fmid,fb]),ix)\n",
    "            verts = [(a+i*h/pieces,0)] + list(zip(ix,iy)) + [(a+(i+1)*h/pieces,0)]\n",
    "            poly = plt.Polygon(verts, facecolor='0.9', edgecolor='k')\n",
    "            ax.add_patch(poly)\n",
    "        \n",
    "        # now make the left function evaluation the right for the next step\n",
    "        fa = fb\n",
    "        \n",
    "    # label plot    \n",
    "    if (graph):\n",
    "        ax.set_xticks((a,b))\n",
    "        ax.set_xticklabels(('a='+str(a),'b='+str(b)))\n",
    "        plt.xlabel(\"x\")\n",
    "        plt.ylabel(\"f(x)\")\n",
    "        plt.title(\"Simpsons Rule with \" + str(pieces) + \" pieces\")\n",
    "        plt.show()\n",
    "    return integral"
   ]
  },
  {
   "cell_type": "markdown",
   "metadata": {},
   "source": [
    "We wrote a function. Now let's test it by approximating:\n",
    "\n",
    "$$\n",
    "\\int_{0}^{\\pi} \\sin(x) dx\n",
    "$$"
   ]
  },
  {
   "cell_type": "code",
   "execution_count": 35,
   "metadata": {
    "colab": {
     "base_uri": "https://localhost:8080/",
     "height": 313
    },
    "colab_type": "code",
    "executionInfo": {
     "elapsed": 456,
     "status": "ok",
     "timestamp": 1556029356453,
     "user": {
      "displayName": "Alexander Dowling",
      "photoUrl": "https://lh3.googleusercontent.com/-LChdQ2m5OQE/AAAAAAAAAAI/AAAAAAAAAA0/JeXJe4vQJ7M/s64/photo.jpg",
      "userId": "00988067626794866502"
     },
     "user_tz": 240
    },
    "id": "pmht7i0dvTfS",
    "outputId": "93fba4be-c2a7-4455-e6c6-cae604ad1b1a"
   },
   "outputs": [
    {
     "data": {
      "image/png": "[encoded data removed]",
      "text/plain": [
       "<Figure size 432x288 with 1 Axes>"
      ]
     },
     "metadata": {
      "needs_background": "light"
     },
     "output_type": "display_data"
    },
    {
     "name": "stdout",
     "output_type": "stream",
     "text": [
      "Estimate is 2.000863189673536 while the actual value is 2\n"
     ]
    }
   ],
   "source": [
    "integral_estimate = simpsons(np.sin,0,np.pi,pieces=3,graph=True)\n",
    "print(\"Estimate is\",integral_estimate,\"while the actual value is 2\")"
   ]
  },
  {
   "cell_type": "markdown",
   "metadata": {},
   "source": [
    "<div style=\"background-color: rgba(0,255,0,0.05) ; padding: 10px; border: 1px solid darkgreen;\"> \n",
    "<b>Home Activity</b>: Recompute the integral estimate with 50 pieces. Store the answer in <tt>ans_biii_50</tt>.\n",
    "</div>"
   ]
  },
  {
   "cell_type": "code",
   "execution_count": 36,
   "metadata": {
    "colab": {
     "base_uri": "https://localhost:8080/",
     "height": 313
    },
    "colab_type": "code",
    "executionInfo": {
     "elapsed": 390,
     "status": "ok",
     "timestamp": 1556029385348,
     "user": {
      "displayName": "Alexander Dowling",
      "photoUrl": "https://lh3.googleusercontent.com/-LChdQ2m5OQE/AAAAAAAAAAI/AAAAAAAAAA0/JeXJe4vQJ7M/s64/photo.jpg",
      "userId": "00988067626794866502"
     },
     "user_tz": 240
    },
    "id": "4BwbvK0OvTfU",
    "nbgrader": {
     "grade": false,
     "grade_id": "b-iii-50",
     "locked": false,
     "points": "0.1",
     "solution": false
    },
    "outputId": "c5786a9f-b6d3-4244-9583-f7bf2d18d82b",
    "tags": [
     "remove-output"
    ]
   },
   "outputs": [
    {
     "data": {
      "image/png": "[encoded data removed]",
      "text/plain": [
       "<Figure size 432x288 with 1 Axes>"
      ]
     },
     "metadata": {
      "needs_background": "light"
     },
     "output_type": "display_data"
    },
    {
     "name": "stdout",
     "output_type": "stream",
     "text": [
      "Estimate is 2.0000000108245035 Actual value is 2\n"
     ]
    }
   ],
   "source": [
    "### BEGIN SOLUTION\n",
    "integral_estimate = simpsons(np.sin,0,np.pi,pieces=50,graph=True)\n",
    "print(\"Estimate is\",integral_estimate,\"Actual value is 2\")\n",
    "ans_biii_50 = integral_estimate\n",
    "### END SOLTUON"
   ]
  },
  {
   "cell_type": "code",
   "execution_count": 37,
   "metadata": {
    "nbgrader": {
     "grade": true,
     "grade_id": "b-iii-50",
     "locked": true,
     "points": "0.1",
     "solution": false
    },
    "tags": []
   },
   "outputs": [],
   "source": [
    "### BEGIN HIDDEN TESTS\n",
    "assert ans_biii_50 <= 2 + 1E-6\n",
    "assert ans_biii_50 >= 2 - 1E-6\n",
    "### END HIDDEN TESTS"
   ]
  },
  {
   "cell_type": "markdown",
   "metadata": {
    "colab_type": "text",
    "id": "vrMJaQtivTfW"
   },
   "source": [
    "#### Error Analysis"
   ]
  },
  {
   "cell_type": "markdown",
   "metadata": {},
   "source": [
    "<div style=\"background-color: rgba(0,255,0,0.05) ; padding: 10px; border: 1px solid darkgreen;\"> \n",
    "<b>Home Activity</b>: Run the code below.\n",
    "</div>"
   ]
  },
  {
   "cell_type": "code",
   "execution_count": 38,
   "metadata": {
    "colab": {
     "base_uri": "https://localhost:8080/",
     "height": 299
    },
    "colab_type": "code",
    "executionInfo": {
     "elapsed": 1095,
     "status": "ok",
     "timestamp": 1556029419574,
     "user": {
      "displayName": "Alexander Dowling",
      "photoUrl": "https://lh3.googleusercontent.com/-LChdQ2m5OQE/AAAAAAAAAAI/AAAAAAAAAA0/JeXJe4vQJ7M/s64/photo.jpg",
      "userId": "00988067626794866502"
     },
     "user_tz": 240
    },
    "id": "kBznZ_YGvTfX",
    "outputId": "fe551197-278f-452a-e957-edcd7d00e72c"
   },
   "outputs": [
    {
     "data": {
      "image/png": "[encoded data removed]",
      "text/plain": [
       "<Figure size 432x288 with 1 Axes>"
      ]
     },
     "metadata": {
      "needs_background": "light"
     },
     "output_type": "display_data"
    }
   ],
   "source": [
    "pieces = 2**np.arange(0,6)\n",
    "error = np.zeros(6)\n",
    "count = 0\n",
    "for p in pieces:\n",
    "    error[count] = np.fabs(simpsons(np.sin,0,np.pi,pieces=p,graph=False) - 2.0)\n",
    "    count += 1\n",
    "h = np.pi/pieces\n",
    "plt.loglog(h,error,'o-')\n",
    "slope = (np.log(error[0]) - np.log(error[-1]))/(np.log(h[0]) - np.log(h[-1]) )\n",
    "plt.title(\"Simpson's Rule Error: slope = \" + str(slope))\n",
    "plt.xlabel(\"h\")\n",
    "plt.ylabel(\"Absolute Error\")\n",
    "plt.show()"
   ]
  },
  {
   "cell_type": "markdown",
   "metadata": {
    "colab_type": "text",
    "id": "fzYTtE7lvTfb"
   },
   "source": [
    "Simpson's rule is fourth-order in the piece size. This means that every time I double the number of pieces the error goes down by a factor of $2^4 = 16$. "
   ]
  },
  {
   "cell_type": "markdown",
   "metadata": {},
   "source": [
    "#### Another Example: Approximating $\\pi$"
   ]
  },
  {
   "cell_type": "markdown",
   "metadata": {},
   "source": [
    "<div style=\"background-color: rgba(0,0,255,0.05) ; padding: 10px; border: 1px solid darkblue;\"> \n",
    "<b>Class Activity</b>: Run code below and discuss.\n",
    "</div>\n"
   ]
  },
  {
   "cell_type": "markdown",
   "metadata": {
    "colab_type": "text",
    "id": "2j6OqQjPvTfb"
   },
   "source": [
    "We can approximate $\\pi$ with the following integral:\n",
    "\n",
    "$$ \\int\\limits_0^1 4 \\sqrt{1-x^2}\\,dx = \\pi$$"
   ]
  },
  {
   "cell_type": "code",
   "execution_count": 39,
   "metadata": {
    "colab": {
     "base_uri": "https://localhost:8080/",
     "height": 313
    },
    "colab_type": "code",
    "executionInfo": {
     "elapsed": 463,
     "status": "ok",
     "timestamp": 1556029516456,
     "user": {
      "displayName": "Alexander Dowling",
      "photoUrl": "https://lh3.googleusercontent.com/-LChdQ2m5OQE/AAAAAAAAAAI/AAAAAAAAAA0/JeXJe4vQJ7M/s64/photo.jpg",
      "userId": "00988067626794866502"
     },
     "user_tz": 240
    },
    "id": "568uOTObvTfb",
    "outputId": "98e7dd95-8f02-4fa7-9e4b-11390d93a539"
   },
   "outputs": [
    {
     "data": {
      "image/png": "[encoded data removed]",
      "text/plain": [
       "<Figure size 432x288 with 1 Axes>"
      ]
     },
     "metadata": {
      "needs_background": "light"
     },
     "output_type": "display_data"
    },
    {
     "data": {
      "text/plain": [
       "3.1211891697754175"
      ]
     },
     "execution_count": 39,
     "metadata": {},
     "output_type": "execute_result"
    }
   ],
   "source": [
    "integrand = lambda x: 4*np.sqrt(1-x**2)\n",
    "simpsons(integrand,0,1,pieces = 4,graph=True) #actual value is 3.14159"
   ]
  },
  {
   "cell_type": "markdown",
   "metadata": {
    "colab_type": "text",
    "id": "bJzGD5wOvTfe"
   },
   "source": [
    "Most of the error comes at $x=1$. This is because the derivative of $\\sqrt{1-x^2}$ is singular at $x=1$, which makes it difficult to build an accurate polynomial approximation."
   ]
  }
 ],
 "metadata": {
  "colab": {
   "collapsed_sections": [
    "vrMJaQtivTfW",
    "2j6OqQjPvTfb",
    "CoNz6ob5vTff"
   ],
   "name": "L24-Numeric-Integration.ipynb",
   "provenance": [],
   "version": "0.3.2"
  },
  "kernelspec": {
   "display_name": "Python 3 (ipykernel)",
   "language": "python",
   "name": "python3"
  },
  "language_info": {
   "codemirror_mode": {
    "name": "ipython",
    "version": 3
   },
   "file_extension": ".py",
   "mimetype": "text/x-python",
   "name": "python",
   "nbconvert_exporter": "python",
   "pygments_lexer": "ipython3",
   "version": "3.9.12"
  }
 },
 "nbformat": 4,
 "nbformat_minor": 4
}
