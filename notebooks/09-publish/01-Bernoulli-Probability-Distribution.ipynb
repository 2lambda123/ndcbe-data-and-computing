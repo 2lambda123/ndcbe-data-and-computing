{
 "cells": [
  {
   "cell_type": "markdown",
   "metadata": {
    "colab_type": "text",
    "id": "qYVuIBsFIntT"
   },
   "source": [
    "# Bernoulli Probability Distribution\n"
   ]
  },
  {
   "cell_type": "markdown",
   "metadata": {
    "colab_type": "text",
    "id": "1PJ6EcCl06sV"
   },
   "source": [
    "## Learning Objectives\n",
    "\n",
    "After studying this notebook, completing the activities, engaging in class, and reading the book, you should be able to:\n",
    "\n",
    "* Model scientific and engineering problems using the Bernoulli distrubtion."
   ]
  },
  {
   "cell_type": "markdown",
   "metadata": {
    "colab": {},
    "colab_type": "code",
    "id": "vvtED9luJh5x"
   },
   "source": [
    "## Bernoulli Distribution\n",
    "\n",
    "**Further Reading**: §4.1 in Navidi (2015)"
   ]
  },
  {
   "cell_type": "markdown",
   "metadata": {},
   "source": [
    "The Bernoulli distribution considers a single experiment with two outcomes: \"success\" or \"failure\". The parameter $p$ encoded the probability of success. This is the simplest discrete distribution and is the building block for many others.\n",
    "\n",
    "We often write $X \\sim$ Bernoulli($p$), which means random variable $X$ follows the Bernoulli distribution with parameter $p$.\n",
    "\n",
    "Thus the probability mass function is:\n",
    "\n",
    "Failure: $p(0) = P(X = 0) = 1 - p$\n",
    "Success: $p(1) = P(X = 1) = p$\n",
    "\n",
    "Using the definitions for mean and variance:\n",
    "\n",
    "$$\\mu_X = \\sum_x x p(x)$$\n",
    "\n",
    "$$\\sigma_X^2 = \\sum_x (x - \\mu)^2 p(x)$$\n",
    "\n",
    "it is easy to show $\\mu_X = p$ and $\\sigma_X^2 = p(1-p)$ for the Bernoulli distribution."
   ]
  },
  {
   "cell_type": "markdown",
   "metadata": {},
   "source": [
    "<div class=\"admonition danger\"> \n",
    "<b>Study Activity</b>: Derive the mean and variance for the Bernoulli distribution.\n",
    "</div>"
   ]
  }
 ],
 "metadata": {
  "colab": {
   "collapsed_sections": [],
   "name": "L15-Error-Propagation.ipynb",
   "provenance": [],
   "version": "0.3.2"
  },
  "kernelspec": {
   "display_name": "Python 3 (ipykernel)",
   "language": "python",
   "name": "python3"
  },
  "language_info": {
   "codemirror_mode": {
    "name": "ipython",
    "version": 3
   },
   "file_extension": ".py",
   "mimetype": "text/x-python",
   "name": "python",
   "nbconvert_exporter": "python",
   "pygments_lexer": "ipython3",
   "version": "3.9.12"
  }
 },
 "nbformat": 4,
 "nbformat_minor": 4
}
