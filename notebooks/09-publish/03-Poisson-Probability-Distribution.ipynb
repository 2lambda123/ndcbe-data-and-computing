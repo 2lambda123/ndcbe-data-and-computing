{
 "cells": [
  {
   "cell_type": "markdown",
   "metadata": {
    "colab_type": "text",
    "id": "qYVuIBsFIntT"
   },
   "source": [
    "# Poisson Probability Distributions\n",
    "**Further Reading**: §4.3 in Navidi (2015)"
   ]
  },
  {
   "cell_type": "markdown",
   "metadata": {
    "colab_type": "text",
    "id": "1PJ6EcCl06sV"
   },
   "source": [
    "## Learning Objectives\n",
    "\n",
    "After studying this notebook, completing the activities, engaging in class, and reading the book, you should be able to:\n",
    "\n",
    "* Model scientific and engineering problems using the Poisson distribution."
   ]
  },
  {
   "cell_type": "code",
   "execution_count": 1,
   "metadata": {},
   "outputs": [],
   "source": [
    "import numpy as np\n",
    "import math\n",
    "import matplotlib.pyplot as plt"
   ]
  },
  {
   "cell_type": "markdown",
   "metadata": {},
   "source": [
    "## Definition\n"
   ]
  },
  {
   "cell_type": "markdown",
   "metadata": {},
   "source": [
    "The Poisson distribution is important for modeling rare events including failures and radioactive decay.\n",
    "\n",
    "If $X \\sim$ Poisson($\\lambda$), then:\n",
    "* $X$ is a discrete random variable whose possible values are the non-negative integers ($x$ is unbounded)\n",
    "* The parameter $\\lambda$ is a positive constant\n",
    "* The probability mass function is\n",
    "\n",
    " $$p(x) = P(X = x) = \\begin{cases}\n",
    "               e^{-\\lambda} \\frac{\\lambda^x}{x!} & \\text{if } x \\text{ is a non-negative integer} \\\\\n",
    "               0 & \\mathrm{otherwise}\n",
    "            \\end{cases}$$\n",
    "            \n",
    "* The Poisson probability mass function is very close to the binomial probability mass function when $n$ is large, $p$ is small, and $\\lambda = n p$.\n",
    "* The mean is $\\mu_X = \\lambda$\n",
    "* The variance is $\\sigma_X^2 = \\lambda$."
   ]
  },
  {
   "cell_type": "markdown",
   "metadata": {},
   "source": [
    "Alright, those are nice properties, but how do you specify $\\lambda$? Often the Poisson distribution is used to model the number of rare events during a fixed duration. In this context, $\\lambda$ is the expected number of rare events. Let's look at an example."
   ]
  },
  {
   "cell_type": "markdown",
   "metadata": {},
   "source": [
    "## Example: Failure Rates\n",
    "\n",
    "Consider a flood occurs on a specific river once every 100 years. Calculate the probability 0, 1, 2, ..., 6 floods occur in the next 100 years. Assume the Poisson distribution accurately models flooding on this river.\n",
    "\n",
    "Step 0: Identify $\\lambda$\n",
    "\n",
    "We are modeling floods, which are a rare event. The fixed duration is 100 years. We expect 1 flood every 100 years, so $\\lambda = 1$.\n",
    "\n",
    "Step 1: Write a function to evaluate the PDF"
   ]
  },
  {
   "cell_type": "code",
   "execution_count": 6,
   "metadata": {
    "tags": []
   },
   "outputs": [],
   "source": [
    "def poisson(k,lmb):\n",
    "    ''' PMF for Poisson distribution\n",
    "    Args:\n",
    "        k: number of events\n",
    "        lmb: average number of events per interval\n",
    "    Return:\n",
    "        probability of k events occuring during interval\n",
    "    '''\n",
    "    \n",
    "    assert k >= 0\n",
    "    assert lmb >= 0\n",
    "    \n",
    "    return np.exp(-lmb) * lmb**k / math.factorial(k)"
   ]
  },
  {
   "cell_type": "markdown",
   "metadata": {},
   "source": [
    "Step 2: Test out function for 10 floods"
   ]
  },
  {
   "cell_type": "code",
   "execution_count": 7,
   "metadata": {},
   "outputs": [
    {
     "data": {
      "text/plain": [
       "1.0137771196302975e-07"
      ]
     },
     "execution_count": 7,
     "metadata": {},
     "output_type": "execute_result"
    }
   ],
   "source": [
    "poisson(10,1)"
   ]
  },
  {
   "cell_type": "markdown",
   "metadata": {},
   "source": [
    "Step 3: Answer the question asked"
   ]
  },
  {
   "cell_type": "markdown",
   "metadata": {},
   "source": [
    "<div class=\"admonition seealso\"> \n",
    "<p class=\"title\"><b>Home Activity</b></p>\n",
    " Evaluate the probabilities of 0 to 6 floods during the next 100 years. Store your answer as a numpy array <tt>p_floods</tt> such that <tt>p_floods[3]</tt> is the probability of 3 floods.\n",
    "</div>"
   ]
  },
  {
   "cell_type": "code",
   "execution_count": 8,
   "metadata": {
    "tags": [
     "remove-output"
    ]
   },
   "outputs": [
    {
     "name": "stdout",
     "output_type": "stream",
     "text": [
      "[0.36787944 0.36787944 0.18393972 0.06131324 0.01532831 0.00306566\n",
      " 0.00051094]\n"
     ]
    }
   ],
   "source": [
    "n_floods = range(0,7)\n",
    "p_floods = np.zeros(7)\n",
    "\n",
    "# Add your solution here"
   ]
  },
  {
   "cell_type": "code",
   "execution_count": 9,
   "metadata": {
    "nbgrader": {
     "grade": true,
     "grade_id": "floods",
     "locked": true,
     "points": "0.3",
     "solution": false
    },
    "tags": []
   },
   "outputs": [],
   "source": [
    "# Removed autograder test. You may delete this cell."
   ]
  },
  {
   "cell_type": "markdown",
   "metadata": {},
   "source": [
    "Using our results, we can plot the probability mass function and cumulative density function:"
   ]
  },
  {
   "cell_type": "code",
   "execution_count": 10,
   "metadata": {},
   "outputs": [
    {
     "data": {
      "image/png": "[encoded data removed]",
      "text/plain": [
       "<Figure size 432x288 with 1 Axes>"
      ]
     },
     "metadata": {
      "needs_background": "light"
     },
     "output_type": "display_data"
    }
   ],
   "source": [
    "plt.bar(n_floods,p_floods)\n",
    "plt.xlabel(\"Number of Floods\")\n",
    "plt.ylabel(\"Probability\")\n",
    "plt.title(\"Probability Mass Function\")\n",
    "plt.show()"
   ]
  },
  {
   "cell_type": "code",
   "execution_count": 11,
   "metadata": {},
   "outputs": [
    {
     "data": {
      "image/png": "[encoded data removed]",
      "text/plain": [
       "<Figure size 432x288 with 1 Axes>"
      ]
     },
     "metadata": {
      "needs_background": "light"
     },
     "output_type": "display_data"
    }
   ],
   "source": [
    "# calculate cumulative sum\n",
    "cum_p_floods = np.cumsum(p_floods)\n",
    "\n",
    "# Create the plot\n",
    "plt.plot(n_floods,cum_p_floods)\n",
    "plt.xlabel(\"Number of Floods\")\n",
    "plt.ylabel(\"Probability of N or fewer floods\")\n",
    "plt.grid(True)\n",
    "plt.title(\"Cumulative Distribution Function\")\n",
    "plt.show()"
   ]
  }
 ],
 "metadata": {
  "colab": {
   "collapsed_sections": [],
   "name": "L15-Error-Propagation.ipynb",
   "provenance": [],
   "version": "0.3.2"
  },
  "kernelspec": {
   "display_name": "Python 3 (ipykernel)",
   "language": "python",
   "name": "python3"
  },
  "language_info": {
   "codemirror_mode": {
    "name": "ipython",
    "version": 3
   },
   "file_extension": ".py",
   "mimetype": "text/x-python",
   "name": "python",
   "nbconvert_exporter": "python",
   "pygments_lexer": "ipython3",
   "version": "3.9.12"
  }
 },
 "nbformat": 4,
 "nbformat_minor": 4
}
