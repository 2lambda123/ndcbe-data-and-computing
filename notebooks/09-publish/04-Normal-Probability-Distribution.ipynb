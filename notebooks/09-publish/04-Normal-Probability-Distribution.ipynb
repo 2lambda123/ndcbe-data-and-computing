{
 "cells": [
  {
   "cell_type": "markdown",
   "metadata": {
    "colab_type": "text",
    "id": "qYVuIBsFIntT"
   },
   "source": [
    "# Normal Probability Distributions\n"
   ]
  },
  {
   "cell_type": "markdown",
   "metadata": {
    "colab_type": "text",
    "id": "1PJ6EcCl06sV"
   },
   "source": [
    "## Learning Objectives\n",
    "\n",
    "After studying this notebook, completing the activities, engaging in class, and reading the book, you should be able to:\n",
    "\n",
    "* Model scientific and engineering problems using the normal distribution."
   ]
  },
  {
   "cell_type": "code",
   "execution_count": 1,
   "metadata": {},
   "outputs": [],
   "source": [
    "import numpy as np"
   ]
  },
  {
   "cell_type": "markdown",
   "metadata": {},
   "source": [
    "## Normal Distribution\n",
    "\n",
    "**Further Reading**: §4.5 in Navidi (2015)"
   ]
  },
  {
   "cell_type": "markdown",
   "metadata": {},
   "source": [
    "The normal distribution (a.k.a. Gaussian) is a good model for many continuous random variables in science and engineering. As we will soon see, the normal distributions is also extremely important in statistics.\n",
    "\n",
    "Here is the probability density function:\n",
    "\n",
    "$$\n",
    "f(x) = \\frac{1}{\\sigma \\sqrt{2 \\pi}} e^{-(x-\\mu)^2 / (2\\sigma^2)}\n",
    "$$\n",
    "\n",
    "The normal distribution is charactered by two parameters, $\\mu$ and $\\sigma$, which are the mean and standard deviation:\n",
    "\n",
    "$$\n",
    "\\mu_X = \\int_{-\\infty}^{\\infty} x \\frac{1}{\\sigma \\sqrt{2 \\pi}} e^{-(x-\\mu)^2 / (2\\sigma^2)} dx = \\mu\n",
    "$$\n",
    "\n",
    "$$\n",
    "\\sigma^2_X = \\int_{-\\infty}^{\\infty} (x - \\mu_X)^2 \\frac{1}{\\sigma \\sqrt{2 \\pi}} e^{-(x-\\mu)^2 / (2\\sigma^2)} dx = \\sigma^2\n",
    "$$\n",
    "\n",
    "Navidi (2015) walks through the calculus on pg. 251 and 252.\n",
    "\n",
    "We write $X \\sim \\mathcal{N}(\\mu, \\sigma^2)$.\n",
    "\n",
    "### 68-95-99.7 Rule\n",
    "\n",
    "Here is how to **draw a normal distribution** on paper.\n",
    "1. Draw a symmetric \"bell\" curve.\n",
    "2. Label the peak $\\mu$.\n",
    "3. Label the points of inflection $\\mu - \\sigma$ and $\\mu + \\sigma$.\n",
    "4. $\\sigma$ is the distance between the peak and the points of inflection. Using this distance, label $\\mu \\pm 2 \\sigma$ and $\\mu \\pm 3 \\sigma$.\n",
    "\n",
    "![normal distribution](https://miro.medium.com/max/24000/1*IZ2II2HYKeoMrdLU5jW6Dw.png)\n",
    "\n",
    "As alluded to a few times this semester, there is not an analytic expression for integrating the normal PDF. Instead, we must use numeric integration. Most engineers, scientists, and statisticians memorize three specific areas under the normal curve, which is called the **68-95-99.7 rule**.\n",
    "\n",
    "$$\\int_{\\mu - \\sigma}^{\\mu + \\sigma} \\frac{1}{\\sigma \\sqrt{2 \\pi}} e^{-(x-\\mu)^2 / (2\\sigma^2)} dx \\approx 0.6827$$\n",
    "\n",
    "$$\\int_{\\mu - 2 \\sigma}^{\\mu + 2 \\sigma} \\frac{1}{\\sigma \\sqrt{2 \\pi}} e^{-(x-\\mu)^2 / (2\\sigma^2)} dx \\approx 0.9545$$\n",
    "\n",
    "$$\\int_{\\mu - 3 \\sigma}^{\\mu + 3 \\sigma} \\frac{1}{\\sigma \\sqrt{2 \\pi}} e^{-(x-\\mu)^2 / (2\\sigma^2)} dx \\approx 0.9973$$"
   ]
  },
  {
   "cell_type": "markdown",
   "metadata": {},
   "source": [
    "### Standardization"
   ]
  },
  {
   "cell_type": "markdown",
   "metadata": {},
   "source": [
    "Let $X \\sim \\mathcal{N}(\\mu, \\sigma^2)$. It is much more convienent to standardize by defining a new variable $Z$:\n",
    "\n",
    "$$Z = \\frac{X - \\mu}{\\sigma}$$\n",
    "\n",
    "Now let's convert the three integrals for the 68-95-99.7 rule from $x$ to $z$. First, let's solve for $x$.\n",
    "\n",
    "$$z = \\frac{x - \\mu}{\\sigma} \\rightarrow x = z \\sigma + \\mu$$\n",
    "\n",
    "Recall the **normal PDF**:\n",
    "\n",
    "$$f(x) = \\frac{1}{\\sigma \\sqrt{2 \\pi}} e^{-(x-\\mu)^2 / (2\\sigma^2)}$$\n",
    "\n",
    "Now substitute:\n",
    "\n",
    "$$f(z) = \\frac{1}{\\sigma \\sqrt{2 \\pi}} e^{-(z\\sigma + \\mu -\\mu)^2 / (2\\sigma^2)}$$\n",
    "\n",
    "And simplify:\n",
    "\n",
    "$$f(z) = \\frac{1}{\\sigma \\sqrt{2 \\pi}} e^{-z^2 / 2}$$\n",
    "\n",
    "Now let's transform the **limits of integration**:\n",
    "\n",
    "$$x = \\mu + c \\sigma$$\n",
    "\n",
    "Now substitute:\n",
    "\n",
    "$$z \\sigma + \\mu = \\mu + c \\sigma$$\n",
    "\n",
    "And simplify:\n",
    "\n",
    "$$z = c$$\n",
    "\n",
    "Now let's **transform the $dx$ into a $dz$**. First we differentiate:\n",
    "\n",
    "$$\\sigma dz = dx$$\n",
    "\n",
    "And then subsitutite:\n",
    "\n",
    "$$\\int_{\\mu - c \\sigma}^{\\mu + c \\sigma} \\frac{1}{\\sigma \\sqrt{2 \\pi}} e^{-(x-\\mu)^2 / (2\\sigma^2)} dx = \\int_{-c}^{c} \\frac{1}{\\sqrt{2 \\pi}} e^{-z^2 / 2} dz$$\n",
    "\n",
    "We see that $Z$ follows a normal distribution with mean 0 and variance 1, i.e., $Z \\sim \\mathcal{N}(0, 1)$. This is known as a **standard normal distribution**."
   ]
  },
  {
   "cell_type": "markdown",
   "metadata": {},
   "source": [
    "The front cover of your textbook has precomputed the cumulative distribution function for the standard normal. This is known as a **z-table**.\n",
    "\n",
    "![z-table](https://cdn1.byjus.com/wp-content/uploads/2017/09/word-image.png)"
   ]
  },
  {
   "cell_type": "markdown",
   "metadata": {},
   "source": [
    "### Example: Using the Z-Table"
   ]
  },
  {
   "cell_type": "markdown",
   "metadata": {},
   "source": [
    "<div class=\"admonition note\"> \n",
    "<p class=\"title\"><b>Class Activity</b></p>\n",
    " Use the Z-table to answer the following questions.\n",
    "</div>"
   ]
  },
  {
   "cell_type": "markdown",
   "metadata": {},
   "source": [
    "As an intern at Frozen Pizza, Inc. you learn the fat content of single serving pies is normally distributed with mean 10g with standard deviation 0.2 g."
   ]
  },
  {
   "cell_type": "markdown",
   "metadata": {},
   "source": [
    "What is the probability the next pizza coming off the manufacturing line has more than 10.4 grams of fat?  "
   ]
  },
  {
   "cell_type": "markdown",
   "metadata": {
    "tags": []
   },
   "source": [
    "**Answer:**"
   ]
  },
  {
   "cell_type": "markdown",
   "metadata": {},
   "source": [
    "The FDA would like you to certify that 99% of frozen pizzas have fat content between $\\underline{\\qquad \\qquad}$ and $\\underline{\\qquad \\qquad}$ grams, where the interval in centered at the mean. Fill in the blanks."
   ]
  },
  {
   "cell_type": "markdown",
   "metadata": {
    "jupyter": {
     "outputs_hidden": true
    }
   },
   "source": [
    "**Blank 1:**\n",
    "\n",
    "**Blank 2:**"
   ]
  },
  {
   "cell_type": "markdown",
   "metadata": {},
   "source": [
    "### Example: Modeling Stocks"
   ]
  },
  {
   "cell_type": "markdown",
   "metadata": {},
   "source": [
    "Let's say we want to predict the outcome of the stock market next year. We create a simple model using a normal distribution with mean 1.5% return and standard deviation 4.5% return.\n",
    "\n",
    "According to our model, is the probability we will lose money next year if we invest in the stock market?"
   ]
  },
  {
   "cell_type": "markdown",
   "metadata": {},
   "source": [
    "<div class=\"admonition note\"> \n",
    "<p class=\"title\"><b>Class Activity</b></p>\n",
    " Work through the example below together.\n",
    "</div>"
   ]
  },
  {
   "cell_type": "markdown",
   "metadata": {},
   "source": [
    "#### Approach 1: Numerically integrate the pdf"
   ]
  },
  {
   "cell_type": "code",
   "execution_count": 2,
   "metadata": {},
   "outputs": [
    {
     "data": {
      "text/plain": [
       "(0.36944134018176356, 5.073409550679581e-12)"
      ]
     },
     "execution_count": 2,
     "metadata": {},
     "output_type": "execute_result"
    }
   ],
   "source": [
    "from scipy import integrate\n",
    "def normal_pdf(x,mean,stdev):\n",
    "    '''PDF for normal distribution\n",
    "    Arg:\n",
    "        x: outcome value\n",
    "        mean: mean\n",
    "        stdev: standard deviation\n",
    "    \n",
    "    Return: probability    \n",
    "    '''\n",
    "    \n",
    "    assert stdev > 0.0\n",
    "    \n",
    "    var = stdev**2\n",
    "    \n",
    "    return (1/np.sqrt(2*np.pi*var)) * np.exp(-(x - mean)**2 / 2 / var)\n",
    "\n",
    "# Integrate numerically. We'll learn the details of how this works later in the class.\n",
    "\n",
    "my_f = lambda x: normal_pdf(x, mean=1.5, stdev=4.5)\n",
    "\n",
    "integrate.quad(my_f,-10000,0)"
   ]
  },
  {
   "cell_type": "markdown",
   "metadata": {},
   "source": [
    "#### Approach 2: Standardize and use function for standard normal distribution"
   ]
  },
  {
   "cell_type": "code",
   "execution_count": 3,
   "metadata": {},
   "outputs": [
    {
     "name": "stdout",
     "output_type": "stream",
     "text": [
      "-0.3333333333333333\n"
     ]
    }
   ],
   "source": [
    "z = (0 - 1.5) / 4.5\n",
    "print(z)"
   ]
  },
  {
   "cell_type": "code",
   "execution_count": 4,
   "metadata": {},
   "outputs": [
    {
     "data": {
      "text/plain": [
       "0.36944134018176367"
      ]
     },
     "execution_count": 4,
     "metadata": {},
     "output_type": "execute_result"
    }
   ],
   "source": [
    "from scipy import stats\n",
    "stats.norm.cdf(z)"
   ]
  }
 ],
 "metadata": {
  "colab": {
   "collapsed_sections": [],
   "name": "L15-Error-Propagation.ipynb",
   "provenance": [],
   "version": "0.3.2"
  },
  "kernelspec": {
   "display_name": "Python 3 (ipykernel)",
   "language": "python",
   "name": "python3"
  },
  "language_info": {
   "codemirror_mode": {
    "name": "ipython",
    "version": 3
   },
   "file_extension": ".py",
   "mimetype": "text/x-python",
   "name": "python",
   "nbconvert_exporter": "python",
   "pygments_lexer": "ipython3",
   "version": "3.9.12"
  }
 },
 "nbformat": 4,
 "nbformat_minor": 4
}
