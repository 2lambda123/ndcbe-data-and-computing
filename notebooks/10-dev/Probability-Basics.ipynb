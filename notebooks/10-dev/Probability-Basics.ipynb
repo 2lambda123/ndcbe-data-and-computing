{
 "cells": [
  {
   "cell_type": "markdown",
   "id": "b4b5aa2e-f0be-4a86-a035-0f8a768ad4f2",
   "metadata": {},
   "source": [
    "# Basic Ideas of Probability"
   ]
  },
  {
   "cell_type": "markdown",
   "id": "c4a86e43-7692-4389-bf8a-6a34a2f23e3d",
   "metadata": {
    "colab_type": "text",
    "id": "8wo2zupKCDId"
   },
   "source": [
    "## Learning Objectives\n",
    "\n",
    "After attending class, completing these activities, asking questions, and studying notes, you should be able to:\n",
    "\n",
    "* Understand basic probability vocabulary.\n",
    "* Be able to calculate the probabilities of various conditional/unconditional events.\n",
    "* Be familiar with the axioms of probability.\n",
    "* Know when and how to use permutation versus combination calculations.\n",
    "* Be able to evaluate calculations using the multiplication rule, Bayes' rule, and the Law of Total Probability."
   ]
  },
  {
   "cell_type": "markdown",
   "id": "d09d3025-ba3d-43c5-9d70-fcc02ff07461",
   "metadata": {},
   "source": [
    "## Definitions"
   ]
  },
  {
   "cell_type": "markdown",
   "id": "13b4b42e-9510-4500-acb5-d657c445512c",
   "metadata": {},
   "source": [
    "**Sample Space:** all possible outcomes of an experiment\n",
    "\n",
    "**Subset:** a set each of whose elements is an element of an inclusive set\n",
    "\n",
    "**Event:** a subset of the seample space\n",
    "\n",
    "---\n",
    "\n",
    "**Example:** flipping two coins\n",
    "\n",
    "Sample space: \n",
    "\n",
    "H, H\n",
    "\n",
    "H, T\n",
    "\n",
    "T, H\n",
    "\n",
    "T, T\n",
    "\n",
    "Example event:\n",
    "H, T"
   ]
  },
  {
   "cell_type": "markdown",
   "id": "838b3039-30e2-49b6-ae69-16677813107c",
   "metadata": {},
   "source": [
    "## Combining Events"
   ]
  },
  {
   "cell_type": "markdown",
   "id": "6518a351-7ccf-47db-8e27-325b5b5856e5",
   "metadata": {},
   "source": [
    "Consider two events: $A$ and $B$\n",
    "\n",
    "**Union:** \"$A$ or $B$ \" ; $A \\cup B$\n",
    "\n",
    "![venn1](../../media/venn1.png)\n",
    "\n",
    "**Intersection:** \"$A$ and $B$ \" ; $A \\cap B$\n",
    "\n",
    "![venn2](../../media/venn2.jpg)\n",
    "\n",
    "**Complement:** \"not $A$ \" ; $A^c$ or $\\rightharpoondown A$\n",
    "\n",
    "![venn3](../../media/venn3.png)\n",
    "\n",
    "**Mutually Exclusive Events:** no outcomes in common\n",
    "\n",
    "![venn4](../../media/venn4.jpg)"
   ]
  },
  {
   "cell_type": "markdown",
   "id": "ab6bcdc1-6642-4f43-8417-fbccffcaa17e",
   "metadata": {},
   "source": [
    "<div style=\"background-color: rgba(0,255,0,0.05) ; padding: 10px; border: 1px solid darkgreen;\"> \n",
    "<b>Home Activity</b>: What is shown in the venn diagram below?\n",
    "</div>"
   ]
  },
  {
   "cell_type": "markdown",
   "id": "4cd87a0b-4ae1-48fe-9c01-93b7aa61d10e",
   "metadata": {},
   "source": [
    "![venn5](../../media/venn5.jpg)"
   ]
  },
  {
   "cell_type": "markdown",
   "id": "29edcb72-3810-4bd9-9968-42bef58e2049",
   "metadata": {},
   "source": [
    "Record your answer as a letter string assigned to `ans1` in the cell below:\n",
    "\n",
    "a. $A^c \\cap B$\n",
    "\n",
    "b. $A \\cap B^c$\n",
    "\n",
    "c. $A^c \\cup B$\n",
    "\n",
    "d. $A \\cup B^c$"
   ]
  },
  {
   "cell_type": "code",
   "execution_count": 22,
   "id": "ef204ba0-4613-424d-8ac8-497387b67f3f",
   "metadata": {},
   "outputs": [],
   "source": [
    "### BEGIN SOLUTION\n",
    "ans1 = \"b\"\n",
    "### END SOLUTION"
   ]
  },
  {
   "cell_type": "markdown",
   "id": "f764bd40-12eb-4b45-baa0-dd42ac0b6824",
   "metadata": {},
   "source": [
    "## Probabilities"
   ]
  },
  {
   "cell_type": "markdown",
   "id": "f734ec96-7660-4ba9-9586-c0f149383a75",
   "metadata": {},
   "source": [
    "Given an experiment (random process) and any event...\n",
    "\n",
    "$P(A)$ - probability an event occurs\n",
    "\n",
    "$P(A)$ is proportional to the number of times $A$ would occur if the experiment was repeated many times.\n",
    "\n",
    "---\n",
    "\n",
    "**Example:** flipping two fair coins (all events equally likely)\n",
    "\n",
    "$$P(H,H) = P(T,H) = P(H,T) = P(T,T) = 1/4$$\n",
    "\n",
    "I could define the experiment differently, and instead just count the number of heads:\n",
    "\n",
    "$$P(0) = 1/4$$\n",
    "\n",
    "$$P(1) = 1/2$$\n",
    "\n",
    "$$P(2) = 1/4$$\n",
    "\n",
    "Sample space: 0, 1, 2"
   ]
  },
  {
   "cell_type": "markdown",
   "id": "105b6dfd-8da5-441a-9819-70f14ca17479",
   "metadata": {},
   "source": [
    "## Axioms of Probability"
   ]
  },
  {
   "cell_type": "markdown",
   "id": "c635075d-2192-4607-ab9f-ad9eb1231192",
   "metadata": {},
   "source": [
    "1. Let $S$ be a sample space. $P(S) = 1$\n",
    "\n",
    "2. For any event $A$, $0 = P(A) \\leq 1$\n",
    "\n",
    "3. If $A$ and $B$ are mutually exclusive (no intersection in Venn diagram)...\n",
    "\n",
    "$$P(A \\cup B) = P(A) + P(B)$$\n",
    "   \n",
    "In general,\n",
    "\n",
    "$$P(A \\cup B) = P(A) + P(B) - P(A \\cap B)$$\n",
    "   \n",
    "For any event A,\n",
    "\n",
    "$$P(A^c) = 1 - P(A)$$"
   ]
  },
  {
   "cell_type": "markdown",
   "id": "2ea2f75b-be2b-45ca-ac80-e2fc907c173b",
   "metadata": {},
   "source": [
    "## Permutations"
   ]
  },
  {
   "cell_type": "markdown",
   "id": "2b14ed21-c6ba-4ccc-b135-b64d70602fb1",
   "metadata": {},
   "source": [
    "With **permutations**, order matters!\n",
    "\n",
    "---\n",
    "\n",
    "**Example:** How many ways to schedule 4 in-class group presentations?  The teams are A, B, C, D.\n",
    "\n",
    "4 x 3 x 2 x 1 = 4! = **24**\n",
    "\n",
    "**More General Case:** How many ways to schedule 2 teams from 5 are possible? (As in AB, BA, AC, CA...)\n",
    "\n",
    "$${}_nP_k = \\frac{n!}{(n - k)!}$$\n",
    "\n",
    "$${}_5P_2 = \\frac{5!}{(5 - 2)!} = \\frac{120}{6} = 20$$\n",
    "\n",
    "An easy way to remember the order of subscripts for permutations is \"n choose k\"."
   ]
  },
  {
   "cell_type": "markdown",
   "id": "f15772b7-4864-4d34-b83a-a065f6bb6c48",
   "metadata": {},
   "source": [
    "## Combinations"
   ]
  },
  {
   "cell_type": "markdown",
   "id": "b6c9a7f7-56e9-47db-9e63-789858026a31",
   "metadata": {},
   "source": [
    "With **combinations**, order does *not* matter!\n",
    "\n",
    "---\n",
    "\n",
    "**Example:** Given a list of 5 burger toppings (A, B, C, D, E), how many ways to choose 2?\n",
    "\n",
    "AB, AC, AD, AE, BC, BD, BE, CD, CE, DE = 10\n",
    "\n",
    "**More General Case:**\n",
    "\n",
    "$${}_nC_k = \\frac{n!}{k!(n - k)!}$$\n",
    "\n",
    "So for the above example...\n",
    "\n",
    "$${}_5C_2 = \\frac{5!}{2!(5 - 2)!} = \\frac{120}{2 \\times 6} = 10$$"
   ]
  },
  {
   "cell_type": "markdown",
   "id": "ac012b6e-5ec1-4d71-8f00-371d00888714",
   "metadata": {},
   "source": [
    "We will use permutations and combinations to estimate probabilities of events such as...\n",
    "* winning the lottery\n",
    "* observing a molecular system in a specific state"
   ]
  },
  {
   "cell_type": "markdown",
   "id": "934e7837-0c51-4f17-a58d-ffb5d7d46782",
   "metadata": {},
   "source": [
    "\n",
    "## Conditional Probability"
   ]
  },
  {
   "cell_type": "markdown",
   "id": "5bb00cb0-2447-45dc-9929-763d016bfa2f",
   "metadata": {},
   "source": [
    "**Conditional Probability:** based on only a part (subset) of the sample space, the probability of one event occurring in the presence of a second event\n",
    "\n",
    "---\n",
    "\n",
    "**Example:** You look out the window and notice it looks cloudy.  You're wondering if it's going to rain and get the grass wet.  The following table gives the distribution of outcomes for the last 100 days so that you can make an informed guess about today's weather.\n",
    "\n",
    "<code>  &nbsp  </code> | Rain-sky (R) | Clear-sky (C) | total\n",
    ":-: | :-: | :-: | :-:\n",
    "Wet-grass (W) | 20 | 10 | 30\n",
    "Dry-grass (D) | 5 | 65 | 70\n",
    "total | 25 | 75 | 100\n",
    "\n",
    "What is the probability it's raining given the grass is dry?\n",
    "\n",
    "$P$(raining | dry grass) = $\\frac{5}{70}$\n",
    "\n",
    "**More General Case:**\n",
    "\n",
    "Let $A$ and $B$ be events with $P(B) \\neq 0$.\n",
    "\n",
    "$$P(A | B) = \\frac{P(A \\cap B)}{P(B)}$$\n",
    "\n",
    "So for the above example...\n",
    "\n",
    "$$P(R | D) = \\frac{P(R \\cap D)}{P(D)} = \\frac{5/100}{70/100}$$\n",
    "\n",
    "**General Formulas:**\n",
    "\n",
    "*Conditional Probability:*\n",
    "\n",
    "$$\\rho(Y=y | X=x) = \\frac{P(X=x \\textrm{ and } Y=y)}{\\rho(X=x)} = \\frac{P(x,y)}{P_x(x)}$$\n",
    "\n",
    "*Conditional Probability Mass Function:*\n",
    "\n",
    "$$\\rho_{Y | X}(y | x) = \\frac{\\rho(x,y)}{\\rho_x(x)} \\textrm{ (discrete) }$$\n",
    "\n",
    "*Conditional Probability Density Funtion:*\n",
    "\n",
    "$$f_{Y | X}(y | x) = \\frac{f(x,y)}{f_x(x)} \\textrm{ (continuous) }$$\n",
    "\n",
    "*Conditional Expectation:*\n",
    "\n",
    "$$\\mu_{Y | X=x} = E[Y | X=x] \\textrm{ (continuous or discrete) }$$"
   ]
  },
  {
   "cell_type": "markdown",
   "id": "7356398e-4d6f-4716-bf1e-e948214be874",
   "metadata": {},
   "source": [
    "**Example: CD Cover**\n",
    "Below are data of the length and width of CD covers:\n",
    "\n",
    "length (x) | width (y) | $\\rho$(X=x and Y=y)\n",
    ":----: | :-----: | :----:\n",
    "129 | 15 | 0.12\n",
    "129 | 16 | 0.08\n",
    "130 | 15 | 0.42\n",
    "130 | 16 | 0.28\n",
    "131 | 15 | 0.06\n",
    "131 | 16 | 0.04\n",
    "\n",
    "Compute $P_{Y | X}(y | 130)$.\n",
    "\n",
    "*Possibility 1:* y=15 (given x=130)\n",
    "\n",
    "$$\\rho_{Y | X}(15 | 130) = P(Y=15 | X=130)$$\n",
    "\n",
    "$$ = \\frac{P(Y=15 \\textrm{ and } X=130)}{\\rho(X=130)}$$\n",
    "\n",
    "$$ = \\frac{0.42}{0.70} = 0.60$$\n",
    "\n",
    "*Possiblity 2:* y=16 (given x=130)\n",
    "\n",
    "$$\\rho_{Y | X}(16 | 130) = 1 - \\rho_{Y | X}(15 | 130) = 0.4$$\n",
    "\n",
    "Compute $E[Y | X=130]$.\n",
    "\n",
    "$$ = \\sum_y y \\textrm{ } \\rho_{Y | X}(y | 130)$$\n",
    "\n",
    "$$ = 15 \\cdot \\rho_{Y | X}(15 | 130) + 16 \\cdot \\rho_{Y | X}(16 | 130)$$\n",
    "\n",
    "$$ = 15 \\cdot (0.6) + 16(0.4)$$\n",
    "\n",
    "$$ = 15.4$$"
   ]
  },
  {
   "cell_type": "markdown",
   "id": "ce0a30e1-4f30-4416-a61b-af403db1aa69",
   "metadata": {},
   "source": [
    "---\n",
    "\n",
    "**Unconditional probability:** \n",
    "\n",
    "$$P(R) = \\frac{25}{100}$$\n",
    "\n",
    "This is the probability of it raining without any other subsets to consider, just out of the total sample space."
   ]
  },
  {
   "cell_type": "markdown",
   "id": "0633d2cb-3867-4bdc-90a1-2381acfc1594",
   "metadata": {},
   "source": [
    "## Independence"
   ]
  },
  {
   "cell_type": "markdown",
   "id": "b1908c39-837b-4820-b855-040c5492e148",
   "metadata": {},
   "source": [
    "Two events $A$ and $B$ are independent if...\n",
    "\n",
    "**1.** \n",
    "$P(B | A) = P(B)$\n",
    "&\n",
    "$P(A | B) = P(A)$ (equivalent statements)\n",
    "\n",
    "given \n",
    "\n",
    "$P(A) \\neq 0$\n",
    "&\n",
    "$P(B) \\neq 0$\n",
    "\n",
    "**2.**\n",
    "$P(A) = 0$\n",
    "&\n",
    "$P(B) = 0$\n",
    "\n",
    "Independence means knowing $A$ does not tell you anything about $B$ and vice versa.\n",
    "\n",
    "**Question:** Are \"raining\" and \"grass wet/dry\" indepndent?"
   ]
  },
  {
   "cell_type": "markdown",
   "id": "8c81f336-84a8-4ae3-be4a-50ef0377851d",
   "metadata": {},
   "source": [
    "## Multiplication Rule"
   ]
  },
  {
   "cell_type": "markdown",
   "id": "77522381-95a0-4510-8a98-302f9846a7cb",
   "metadata": {},
   "source": [
    "If $P(B) \\neq 0$, then $P(A \\cap B) = P(B)P(A | B)$\n",
    "\n",
    "If $P(A) \\neq 0$, then $P(A \\cap B) = P(A)P(B | A)$"
   ]
  },
  {
   "cell_type": "markdown",
   "id": "59110381-ba5c-42ba-9b5b-36067a6ae6ad",
   "metadata": {},
   "source": [
    "## Law of total probability"
   ]
  },
  {
   "cell_type": "markdown",
   "id": "1d942e63-2d76-41b7-a54a-ca47ceae13d7",
   "metadata": {},
   "source": [
    "![problaw](../../media/problaw.jpg)\n",
    "\n",
    "If $A_1...A_n$ are mutually exclusive (no overlap) and exhaustive, i.e.\n",
    "\n",
    "$$\\sum_{i=1}^n P(A_i) = 1$$\n",
    "\n",
    "and $B$ is any event, then\n",
    "\n",
    "$$P(B) = P(A_1 \\cap B) + ... + P(A_n \\cap B) = \\sum_{i=1}^n p(B | A_i)P(A_i)$$"
   ]
  },
  {
   "cell_type": "markdown",
   "id": "8cf9952e-dd6d-4246-95d1-1adc4d950bd0",
   "metadata": {},
   "source": [
    "## Bayes' Rule"
   ]
  },
  {
   "cell_type": "markdown",
   "id": "1f9ed39d-737b-4cd3-bfd9-93ffa13f958a",
   "metadata": {},
   "source": [
    "In general,\n",
    "\n",
    "$$P(A | B) \\neq P(B | A)$$\n",
    "\n",
    "So how do we convert between conditional probabilities?  We use **Bayes' rule**...\n",
    "\n",
    "$$P(A | B) = \\frac{P(A \\cap B)}{P(B)} = \\frac{P(B | A) P(A)}{P(B)}$$\n",
    "\n",
    "Let's return to the rain and grass example.\n",
    "\n",
    "$$P(W) = \\frac{30}{100} ; P(R) = \\frac{25}{100}$$\n",
    "\n",
    "$$P(R | W) = \\frac{P(R \\cap W)}{P(W)} = \\frac{20/100}{30/100} = \\frac{2}{3}$$\n",
    "\n",
    "$$P(W | R) = \\frac{P(R \\cap W)}{P(R)} = \\frac{20/100}{25/100} = \\frac{4}{5}$$\n",
    "\n",
    "Now let's verify that Bayes' rule works for the rain and grass example...\n",
    "\n",
    "$$P(W | R) = \\frac{P(R | W) P(W)}{P(R)} = \\frac{(\\frac{20}{30})(\\frac{30}{100})}{\\frac{25}{100}} = \\frac{20}{25} = \\frac{4}{5}$$\n",
    "\n",
    "As expected, it works!\n",
    "\n",
    "---\n",
    "\n",
    "**Example**: 0.5% of people in a community have a disease. \n",
    "\n",
    "If a person has a disease there is a 99.9% probability they will test positive. \n",
    "\n",
    "If a person does not have a disease, there is a 1% probability they will test positive.  \n",
    "\n",
    "Calculate the probability that if someone tests positive, they are actually sick.\n",
    "\n",
    "$$P(D) = 0.005$$\n",
    "\n",
    "$$P(+ | D) = 0.99$$\n",
    "\n",
    "$$P(+ | D^c) = 0.01$$\n",
    "\n",
    "Bayes' rule: \n",
    "\n",
    "$$P(D | +) = \\frac{P(+ | D) P(D)}{P(+ | D) P(D) + P(+ |  D^c) P(D^c)}$$\n",
    "\n",
    "$$  = \\frac{(0.99)(0.005)}{(0.99)(0.005) + (0.01)(0.995)}$$\n",
    "\n",
    "$$ = 0.332$$"
   ]
  },
  {
   "cell_type": "markdown",
   "id": "9c8b3ac6-cf13-4e0d-9f30-6d1bb0b281c7",
   "metadata": {},
   "source": [
    "## Expected Value/Mean of Functions\n"
   ]
  },
  {
   "cell_type": "markdown",
   "id": "98b411f1-664f-4aa1-8437-9fe4568faf48",
   "metadata": {},
   "source": [
    "We will use the following formulas to compute the average ofo a function $h(x)$:\n",
    "\n",
    "Discrete:\n",
    "\n",
    "$$\\mu_h(x) = E[h(x)] = \\sum_x h(x) \\rho(x)$$\n",
    "\n",
    "$$\\mu_h(x) = E[h(x)] = \\int_{-\\infty}^{\\infty} h(x) f(x) dx$$\n",
    "\n",
    "What is $\\mu_{h(x)}$ when $h(x) = (x-\\mu_x)^2$?"
   ]
  },
  {
   "cell_type": "markdown",
   "id": "9d8bcccd-8acb-4c79-9754-884d26dc0816",
   "metadata": {},
   "source": [
    "```{toggle}\n",
    "Answer: variance\n",
    "```"
   ]
  }
 ],
 "metadata": {
  "kernelspec": {
   "display_name": "Python 3 (ipykernel)",
   "language": "python",
   "name": "python3"
  },
  "language_info": {
   "codemirror_mode": {
    "name": "ipython",
    "version": 3
   },
   "file_extension": ".py",
   "mimetype": "text/x-python",
   "name": "python",
   "nbconvert_exporter": "python",
   "pygments_lexer": "ipython3",
   "version": "3.9.12"
  }
 },
 "nbformat": 4,
 "nbformat_minor": 5
}
