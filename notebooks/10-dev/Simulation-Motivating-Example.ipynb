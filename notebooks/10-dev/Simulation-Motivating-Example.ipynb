{
 "cells": [
  {
   "cell_type": "markdown",
   "metadata": {
    "colab_type": "text",
    "id": "qYVuIBsFIntT"
   },
   "source": [
    "# Simulation"
   ]
  },
  {
   "cell_type": "markdown",
   "metadata": {
    "colab_type": "text",
    "id": "1PJ6EcCl06sV"
   },
   "source": [
    "**Further Reading:** §4.12 in Navidi\n",
    "\n",
    "## Learning Objectives\n",
    "\n",
    "After studying this notebook, completing the activities, engaging in class, and reading the book, you should be able to:\n",
    "* Estimate probabilities using simulation\n",
    "* Use a simulation to identify normal distribution\n",
    "* Affirm error propagation skills using a simulation"
   ]
  },
  {
   "cell_type": "code",
   "execution_count": 1,
   "metadata": {
    "tags": []
   },
   "outputs": [],
   "source": [
    "import numpy as np\n",
    "import matplotlib.pyplot as plt"
   ]
  },
  {
   "cell_type": "markdown",
   "metadata": {},
   "source": [
    "Consider two resistors in parallel with resistances $X \\sim \\mathcal{N}(10~\\Omega,~10^2~\\Omega^2)$ and $Y \\sim \\mathcal{N}(25~\\Omega,~2.5^2~\\Omega^2)$. The total resistance of the circuit is\n",
    "\n",
    "$$R = \\frac{X Y}{X + Y}$$\n",
    "\n",
    "Assume $X$ and $Y$ are independent.\n",
    "\n",
    "Notation: $X \\sim \\mathcal{N}(10~\\Omega,~10^2~\\Omega^2)$ says that random variable $X$ is normally distributed with mean $10~\\Omega$ and variance $10^2~\\Omega^2$. Next class we will learn more about the normal distribution. But you can solve this problem using only the mean and variance."
   ]
  },
  {
   "cell_type": "markdown",
   "metadata": {},
   "source": [
    "What is $P(19~\\Omega \\leq R \\leq 21~\\Omega)$, i.e., the probability the circuit is within specification?"
   ]
  },
  {
   "cell_type": "markdown",
   "metadata": {},
   "source": [
    "<div style=\"background-color: rgba(0,255,0,0.05) ; padding: 10px; border: 1px solid darkgreen;\"> \n",
    "<b>Home Activity</b>: Pause the video. Spend 3 minutes outlining your solution strategy using probability theory. First, write down the main steps. Then, if you have time, write down the formulas.\n",
    "</div>"
   ]
  },
  {
   "cell_type": "markdown",
   "metadata": {},
   "source": [
    "<div style=\"background-color: rgba(0,255,0,0.05) ; padding: 10px; border: 1px solid darkgreen;\"> \n",
    "<b>Home Activity</b>: Now watch the video. Does your approach match the class discussion? We will study the normal distribution more next class session.\n",
    "</div>"
   ]
  },
  {
   "cell_type": "markdown",
   "metadata": {},
   "source": [
    "## Using Simulation to Estimate a Probability"
   ]
  },
  {
   "cell_type": "markdown",
   "metadata": {},
   "source": [
    "Intead of all of that calculus, we can use simulation to estimate this probability.\n",
    "\n",
    "Repeat 1000s of times:\n",
    "* Generate X and Y using a random number generator\n",
    "* Compute $R$ and record the value"
   ]
  },
  {
   "cell_type": "code",
   "execution_count": 2,
   "metadata": {
    "tags": []
   },
   "outputs": [],
   "source": [
    "# specify number of simulations\n",
    "nsim = 1000\n",
    "\n",
    "# create vector to store the results\n",
    "R_sim = np.zeros(nsim)\n",
    "\n",
    "\n",
    "# create normally distributed noise\n",
    "# loc = mean\n",
    "# scale = standard deviation\n",
    "x = np.random.normal(loc = 100, scale = 10, size=(nsim))\n",
    "y = np.random.normal(loc = 25, scale=2.5, size=(nsim))\n",
    "    \n",
    "# calculate a1, store result\n",
    "R_sim = x * y / (x + y)"
   ]
  },
  {
   "cell_type": "markdown",
   "metadata": {},
   "source": [
    "<div style=\"background-color: rgba(0,255,0,0.05) ; padding: 10px; border: 1px solid darkgreen;\"> \n",
    "<b>Home Activity</b>: Estimate $P(19~\\Omega \\leq X \\leq 21~\\Omega)$ using your simulation results.\n",
    "</div>"
   ]
  },
  {
   "cell_type": "markdown",
   "metadata": {},
   "source": [
    "## Using Simulation to Estimate Means and Variances\n"
   ]
  },
  {
   "cell_type": "code",
   "execution_count": 3,
   "metadata": {},
   "outputs": [
    {
     "name": "stdout",
     "output_type": "stream",
     "text": [
      "Mean:  19.86428600916683  Ohms\n",
      "Median:  19.8880493824031  Ohms\n",
      "Standard Deviation:  1.7022703484623463  Ohms\n"
     ]
    }
   ],
   "source": [
    "# print some descriptive statistis\n",
    "print(\"Mean: \",np.mean(R_sim),\" Ohms\")\n",
    "print(\"Median: \",np.median(R_sim),\" Ohms\")\n",
    "print(\"Standard Deviation: \",np.std(R_sim,ddof=1),\" Ohms\")"
   ]
  },
  {
   "cell_type": "markdown",
   "metadata": {},
   "source": [
    "## Using Simulation to Determine Whether a Population is Approximately Normal"
   ]
  },
  {
   "cell_type": "code",
   "execution_count": 4,
   "metadata": {},
   "outputs": [
    {
     "data": {
      "image/png": "[encoded data removed]",
      "text/plain": [
       "<Figure size 432x288 with 1 Axes>"
      ]
     },
     "metadata": {
      "needs_background": "light"
     },
     "output_type": "display_data"
    }
   ],
   "source": [
    "# create histogram of calculated a1 values\n",
    "plt.hist(R_sim)\n",
    "plt.xlabel(\"Circuit Resistance ($\\Omega$)\")\n",
    "plt.ylabel(\"Number of Simulations\")\n",
    "plt.show()"
   ]
  }
 ],
 "metadata": {
  "colab": {
   "collapsed_sections": [],
   "name": "L15-Error-Propagation.ipynb",
   "provenance": [],
   "version": "0.3.2"
  },
  "kernelspec": {
   "display_name": "Python 3 (ipykernel)",
   "language": "python",
   "name": "python3"
  },
  "language_info": {
   "codemirror_mode": {
    "name": "ipython",
    "version": 3
   },
   "file_extension": ".py",
   "mimetype": "text/x-python",
   "name": "python",
   "nbconvert_exporter": "python",
   "pygments_lexer": "ipython3",
   "version": "3.9.12"
  }
 },
 "nbformat": 4,
 "nbformat_minor": 4
}
