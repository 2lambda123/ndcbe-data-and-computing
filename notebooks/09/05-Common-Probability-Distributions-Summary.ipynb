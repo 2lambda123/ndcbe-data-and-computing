{
 "cells": [
  {
   "cell_type": "markdown",
   "metadata": {
    "colab_type": "text",
    "id": "qYVuIBsFIntT"
   },
   "source": [
    "# Common Probability Distributions Summary\n",
    "\n",
    "CBE 20258. Numerical and Statistical Analysis. Spring 2020.\n",
    "\n",
    "&#169; University of Notre Dame"
   ]
  },
  {
   "cell_type": "markdown",
   "metadata": {
    "colab_type": "text",
    "id": "1PJ6EcCl06sV"
   },
   "source": [
    "## Learning Objectives\n",
    "\n",
    "After studying this notebook, completing the activities, engaging in class, and reading the book, you should be able to:\n",
    "\n",
    "* Compare and contrast the Bernoulli, binomial, Poisson, and normal distributions."
   ]
  },
  {
   "cell_type": "markdown",
   "metadata": {},
   "source": [
    "Below is a summary table of the four previously discussed common probability distributions."
   ]
  },
  {
   "cell_type": "markdown",
   "metadata": {},
   "source": [
    "Name          |  PMF (PDF for Normal Distribution)|    Mean($$\\mu_X$$)    | Variance ($$\\sigma_X^2$$) |  Discrete/Continuous?  | Textbook Reference\n",
    ":-: |    :-: | :-:  |   :-:     |  :-:   | :-:\n",
    "Bernoulli     |  $$\\begin{cases}         \n",
    "               p & x=1\\\\\n",
    "               1-p & x=0\n",
    "            \\end{cases}$$  |  $$\\sum_x x p(x)$$  | $$\\sigma_X^2 = \\sum_x (x - \\mu)^2 p(x)$$   |  Discrete  | §4.1 in Navidi (2015) \n",
    "Binomial      |  $$\\begin{cases}\n",
    "               \\frac{n!}{x!(n-x)!} p^x (1-p)^{n-x} & x=0,1,...,n\\\\\n",
    "               0 & \\mathrm{otherwise}\n",
    "            \\end{cases}$$  |  $$n p$$  | $$(1-p)$$  | Discrete | §4.2 in Navidi (2015)  \n",
    "Poisson       |$$\\begin{cases}\n",
    "               e^{-\\lambda} \\frac{\\lambda^x}{x!} & \\text{if } x \\text{ is a non-negative integer} \\\\\n",
    "               0 & \\mathrm{otherwise}\n",
    "            \\end{cases}$$  |  $\\lambda$  |    $\\lambda$      |  Discrete  | §4.3 in Navidi (2015)  \n",
    "Normal        | $f(x) = \\frac{1}{\\sigma \\sqrt{2 \\pi}} e^{-(x-\\mu)^2 / (2\\sigma^2)}$ |  $$\\int_{-\\infty}^{\\infty} x \\frac{1}{\\sigma \\sqrt{2 \\pi}} e^{-(x-\\mu)^2 / (2\\sigma^2)} dx$$  | $$\\int_{-\\infty}^{\\infty} (x - \\mu_X)^2 \\frac{1}{\\sigma \\sqrt{2 \\pi}} e^{-(x-\\mu)^2 / (2\\sigma^2)} dx$$   |  Continuous  | §4.5 in Navidi (2015)  "
   ]
  }
 ],
 "metadata": {
  "colab": {
   "collapsed_sections": [],
   "name": "L15-Error-Propagation.ipynb",
   "provenance": [],
   "version": "0.3.2"
  },
  "kernelspec": {
   "display_name": "Python 3 (ipykernel)",
   "language": "python",
   "name": "python3"
  },
  "language_info": {
   "codemirror_mode": {
    "name": "ipython",
    "version": 3
   },
   "file_extension": ".py",
   "mimetype": "text/x-python",
   "name": "python",
   "nbconvert_exporter": "python",
   "pygments_lexer": "ipython3",
   "version": "3.9.12"
  }
 },
 "nbformat": 4,
 "nbformat_minor": 4
}
