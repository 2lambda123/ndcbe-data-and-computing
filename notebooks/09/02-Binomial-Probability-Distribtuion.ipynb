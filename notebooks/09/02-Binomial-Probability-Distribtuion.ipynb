{
 "cells": [
  {
   "cell_type": "markdown",
   "metadata": {
    "colab_type": "text",
    "id": "qYVuIBsFIntT"
   },
   "source": [
    "# Binomial Probability Distributions\n",
    "\n",
    "CBE 20258. Numerical and Statistical Analysis. Spring 2020.\n",
    "\n",
    "&#169; University of Notre Dame"
   ]
  },
  {
   "cell_type": "markdown",
   "metadata": {
    "colab_type": "text",
    "id": "1PJ6EcCl06sV"
   },
   "source": [
    "## Learning Objectives\n",
    "\n",
    "After studying this notebook, completing the activities, engaging in class, and reading the book, you should be able to:\n",
    "\n",
    "* Model scientific and engineering problems using the binomial distribution."
   ]
  },
  {
   "cell_type": "markdown",
   "metadata": {},
   "source": [
    "## Binomial Distribution\n",
    "\n",
    "**Further Reading**: §4.2 in Navidi (2015)"
   ]
  },
  {
   "cell_type": "markdown",
   "metadata": {},
   "source": [
    "The binomial distribution considers repeated \"success\" or \"failure\" experiments.\n",
    "\n",
    "If a total of $n$ Bernoulli trials (see Chap 9-01 notebook) are conducted, and\n",
    "* The trials are independent\n",
    "* Each trial has the same success probability $p$\n",
    "* $X$ is the number of successes in the $n$ trials\n",
    "\n",
    "then $X$ has (follows) the binomial distribution with parameters $n$ and $p$, denoted $X \\sim $ Bin($n,p$)."
   ]
  },
  {
   "cell_type": "markdown",
   "metadata": {},
   "source": [
    "The binomial distribution as the probability mass function\n",
    "\n",
    "$$p(x) = P(X = x) = \\begin{cases}\n",
    "               \\frac{n!}{x!(n-x)!} p^x (1-p)^{n-x} & x=0,1,...,n\\\\\n",
    "               0 & \\mathrm{otherwise}\n",
    "            \\end{cases}$$"
   ]
  },
  {
   "cell_type": "markdown",
   "metadata": {},
   "source": [
    "Recall how to count combinations $n$ choose $x$:\n",
    "    \n",
    "$${n \\choose x} = \\frac{n!}{x!(n-x)!}$$"
   ]
  },
  {
   "cell_type": "markdown",
   "metadata": {},
   "source": [
    "<div style=\"background-color: rgba(0,0,255,0.05) ; padding: 10px; border: 1px solid darkblue;\"> \n",
    "<b>Class Activity</b>: Explain to your neighbor the three parts of the binomial PMF. Why does it make sense one of these parts counts combinations?\n",
    "</div>"
   ]
  },
  {
   "cell_type": "markdown",
   "metadata": {},
   "source": [
    "Using the definition for mean and variance and the binomial PMF, one derived the following formulae:\n",
    "\n",
    "$$\\mu_x = n p$$\n",
    "\n",
    "$$\\sigma_{X}^2 = np(1-p)$$"
   ]
  },
  {
   "cell_type": "markdown",
   "metadata": {},
   "source": [
    "### Flipping Three Coins"
   ]
  },
  {
   "cell_type": "markdown",
   "metadata": {},
   "source": [
    "Let's start by enumerating all three possible outcomes for flipping 3 coins."
   ]
  },
  {
   "cell_type": "markdown",
   "metadata": {},
   "source": [
    "<div style=\"background-color: rgba(0,255,0,0.05) ; padding: 10px; border: 1px solid darkgreen;\"> \n",
    "<b>Home Activity</b>: Study the code below. At this point in the semester, we will only walk through Python examples like the one below if there are questions. When you do your at home preparation, be sure to write down your questions in this notebook.\n",
    "</div>"
   ]
  },
  {
   "cell_type": "code",
   "execution_count": 1,
   "metadata": {
    "tags": []
   },
   "outputs": [],
   "source": [
    "def enumerate_coin_flips(n,LOUD=True):\n",
    "    '''Enumerate all possible outcomes of n coin flips\n",
    "    \n",
    "    Arg:\n",
    "        n: number of coins to flip\n",
    "        LOUD: print each flip to the screen\n",
    "        \n",
    "    Returns:\n",
    "        summary: dictionary with value: number of heads (successes) and key: fraction of outcomes\n",
    "    '''\n",
    "    \n",
    "    # set counter to 0\n",
    "    i = 0\n",
    "    \n",
    "    # calculate number of total outcomes\n",
    "    total = 2**n\n",
    "    \n",
    "    # initialize dictionary\n",
    "    summary = {}\n",
    "    for j in range(n+1):\n",
    "        summary[j] = 0\n",
    "    \n",
    "    # start with all tails\n",
    "    outcome = [False for j in range(n)]\n",
    "    \n",
    "    if LOUD:\n",
    "        print(\"Enumerating all outcomes for\",n,\"flips of a fair coin.\")\n",
    "    \n",
    "    while i < total:\n",
    "        if LOUD:\n",
    "            print(outcome)\n",
    "        \n",
    "        # count number of heads (Trues)\n",
    "        num_heads = sum(outcome)\n",
    "        \n",
    "        # record in dictionary\n",
    "        summary[num_heads] += 1\n",
    "        \n",
    "        # increment to next outcome\n",
    "        keep_going = True\n",
    "        k = 0\n",
    "        while keep_going and k < n:\n",
    "            # flip element k\n",
    "            if outcome[k] is False:\n",
    "                # flipped from False to True. We can stop.\n",
    "                outcome[k] = True\n",
    "                keep_going = False\n",
    "            else:\n",
    "                # flipped from True to False. We need to flip the next position too.\n",
    "                outcome[k] = False\n",
    "                k += 1\n",
    "        \n",
    "        # increment counter\n",
    "        i += 1\n",
    "    \n",
    "    if LOUD:\n",
    "        print(total,\" total outcomes\")\n",
    "    \n",
    "    # normalize counts stored in `summary` by `total`\n",
    "    for j in range(n+1):\n",
    "        summary[j] = summary[j] / total\n",
    "        \n",
    "    return summary"
   ]
  },
  {
   "cell_type": "code",
   "execution_count": 3,
   "metadata": {},
   "outputs": [
    {
     "name": "stdout",
     "output_type": "stream",
     "text": [
      "Enumerating all outcomes for 3 flips of a fair coin.\n",
      "[False, False, False]\n",
      "[True, False, False]\n",
      "[False, True, False]\n",
      "[True, True, False]\n",
      "[False, False, True]\n",
      "[True, False, True]\n",
      "[False, True, True]\n",
      "[True, True, True]\n",
      "8  total outcomes\n"
     ]
    },
    {
     "data": {
      "text/plain": [
       "{0: 0.125, 1: 0.375, 2: 0.375, 3: 0.125}"
      ]
     },
     "execution_count": 3,
     "metadata": {},
     "output_type": "execute_result"
    }
   ],
   "source": [
    "enumerate_coin_flips(3)"
   ]
  },
  {
   "cell_type": "markdown",
   "metadata": {},
   "source": [
    "Notice our function `enumrate_coin_flips` returned a dictionary with the frequency of 0, 1, 2, and 3 heads. Let's see if the PMF for the binomial distribution matches these results."
   ]
  },
  {
   "cell_type": "code",
   "execution_count": 4,
   "metadata": {
    "tags": []
   },
   "outputs": [],
   "source": [
    "import math\n",
    "\n",
    "def nCr(n,r):\n",
    "    ''' Calculates n choose r\n",
    "    Args:\n",
    "        n : total number of items to choose from\n",
    "        r : number of items to choose\n",
    "    \n",
    "    Return:\n",
    "        Total number of combinations, calculated with factorial formula\n",
    "    \n",
    "    '''\n",
    "    f = math.factorial\n",
    "    # Note: Using integer division, //, prevents overflow errors in Python 3\n",
    "    return f(n) // f(r) // f(n-r)\n",
    "\n",
    "def flip_coins(n,k,p):\n",
    "    ''' Calculate probability of getting k heads in n coin flips\n",
    "    n: total number of coin flips\n",
    "    k: number of heads\n",
    "    p: probability of success (head) for each event (coin flip)\n",
    "    '''\n",
    "    \n",
    "    assert k <= n\n",
    "    assert p <= 1.0\n",
    "    assert p >= 0.0\n",
    "    \n",
    "    return nCr(n,k) * p**k * (1-p)**(n - k)"
   ]
  },
  {
   "cell_type": "markdown",
   "metadata": {},
   "source": [
    "Let's test our function:\n",
    "* Flip 3 coins\n",
    "* Interested in the outcome of exactly 2 heads\n",
    "* Let's use a fair coin: 50% chance for head or tails"
   ]
  },
  {
   "cell_type": "code",
   "execution_count": 5,
   "metadata": {},
   "outputs": [
    {
     "data": {
      "text/plain": [
       "0.375"
      ]
     },
     "execution_count": 5,
     "metadata": {},
     "output_type": "execute_result"
    }
   ],
   "source": [
    "flip_coins(3,2,0.5)"
   ]
  },
  {
   "cell_type": "markdown",
   "metadata": {},
   "source": [
    "<div style=\"background-color: rgba(0,255,0,0.05) ; padding: 10px; border: 1px solid darkgreen;\"> \n",
    "<b>Home Activity</b>: Compute the probability of exactly 1 head when flipping 3 unfair coins that have a 70% chance of heads. Store your answer as a float in the Python variable <tt>ans_16d_1</tt>.\n",
    "</div>"
   ]
  },
  {
   "cell_type": "code",
   "execution_count": 6,
   "metadata": {},
   "outputs": [
    {
     "name": "stdout",
     "output_type": "stream",
     "text": [
      "0.18900000000000003\n"
     ]
    }
   ],
   "source": [
    "### BEGIN SOLUTION\n",
    "ans_16d_1 = flip_coins(3,1,0.7)\n",
    "print(ans_16d_1)\n",
    "### END SOLUTION"
   ]
  },
  {
   "cell_type": "code",
   "execution_count": 7,
   "metadata": {
    "nbgrader": {
     "grade": true,
     "grade_id": "16-d",
     "locked": true,
     "points": "0.2",
     "solution": false
    },
    "tags": []
   },
   "outputs": [],
   "source": [
    "### BEGIN HIDDEN TESTS\n",
    "import numpy as np\n",
    "assert np.abs(ans_16d_1 - 0.189) < 1E-2, \"Try again.\"\n",
    "### END HIDDEN TESTS"
   ]
  },
  {
   "cell_type": "markdown",
   "metadata": {},
   "source": [
    "Now let's plot the probability mass function."
   ]
  },
  {
   "cell_type": "code",
   "execution_count": 8,
   "metadata": {},
   "outputs": [
    {
     "data": {
      "image/png": "[encoded data removed]",
      "text/plain": [
       "<Figure size 432x288 with 1 Axes>"
      ]
     },
     "metadata": {
      "needs_background": "light"
     },
     "output_type": "display_data"
    }
   ],
   "source": [
    "n = 10\n",
    "p = 0.5\n",
    "num_heads = []\n",
    "prob = []\n",
    "for k in range(n+1):\n",
    "    num_heads.append(k)\n",
    "    prob.append(flip_coins(n,k,p))\n",
    "    \n",
    "import matplotlib.pyplot as plt\n",
    "plt.bar(num_heads,prob)\n",
    "plt.xlabel(\"Number of Heads\")\n",
    "plt.ylabel(\"Probability\")\n",
    "plt.title(\"PMF for \" + str(n) + \" coin flips with p=\" + str(p))\n",
    "plt.show()"
   ]
  },
  {
   "cell_type": "markdown",
   "metadata": {},
   "source": [
    "<div style=\"background-color: rgba(0,255,0,0.05) ; padding: 10px; border: 1px solid darkgreen;\"> \n",
    "<b>Home Activity</b>: Write a sentence to predict how the PMF will change with an unfair coin that is more likely to land heads than tails.\n",
    "</div>"
   ]
  },
  {
   "cell_type": "markdown",
   "metadata": {},
   "source": [
    "**Home Activity Answer:** "
   ]
  },
  {
   "cell_type": "code",
   "execution_count": 9,
   "metadata": {},
   "outputs": [
    {
     "data": {
      "image/png": "[encoded data removed]",
      "text/plain": [
       "<Figure size 432x288 with 1 Axes>"
      ]
     },
     "metadata": {
      "needs_background": "light"
     },
     "output_type": "display_data"
    }
   ],
   "source": [
    "n = 10\n",
    "p = 0.7\n",
    "num_heads = []\n",
    "prob = []\n",
    "for k in range(n+1):\n",
    "    num_heads.append(k)\n",
    "    prob.append(flip_coins(n,k,p))\n",
    "    \n",
    "import matplotlib.pyplot as plt\n",
    "plt.bar(num_heads,prob)\n",
    "plt.xlabel(\"Number of Heads\")\n",
    "plt.ylabel(\"Probability\")\n",
    "plt.title(\"PMF for \" + str(n) + \" coin flips with p=\" + str(p))\n",
    "plt.show()"
   ]
  },
  {
   "cell_type": "markdown",
   "metadata": {},
   "source": [
    "Now let's use `num_heads` and `prob` from the previous code to plot the **cumulative distribution function** (CDF)."
   ]
  },
  {
   "cell_type": "code",
   "execution_count": 10,
   "metadata": {},
   "outputs": [
    {
     "data": {
      "image/png": "[encoded data removed]",
      "text/plain": [
       "<Figure size 432x288 with 1 Axes>"
      ]
     },
     "metadata": {
      "needs_background": "light"
     },
     "output_type": "display_data"
    }
   ],
   "source": [
    "import numpy as np\n",
    "\n",
    "# Reevaluate the PMF for a fair coin\n",
    "n = 10\n",
    "p = 0.5\n",
    "num_heads = []\n",
    "prob = []\n",
    "for k in range(n+1):\n",
    "    num_heads.append(k)\n",
    "    prob.append(flip_coins(n,k,p))\n",
    "\n",
    "# calculate cumulative sum\n",
    "prob_cum_sum = np.cumsum(prob)\n",
    "\n",
    "# Create the plot\n",
    "import matplotlib.pyplot as plt\n",
    "plt.plot(num_heads,prob_cum_sum)\n",
    "plt.xlabel(\"Number of Heads (k)\")\n",
    "plt.ylabel(\"Probability of N or fewer heads\")\n",
    "plt.title(\"CDF for \" + str(n) + \" coin flips with p=\" + str(p))\n",
    "plt.show()"
   ]
  },
  {
   "cell_type": "markdown",
   "metadata": {},
   "source": [
    "The Poisson distribution is important for modeling rare events including failures and radioactive decay.\n",
    "\n",
    "If $X \\sim$ Poisson($\\lambda$), then:\n",
    "* $X$ is a discrete random variable whose possible values are the non-negative integers ($x$ is unbounded)\n",
    "* The parameter $\\lambda$ is a positive constant\n",
    "* The probability mass function is\n",
    " $$p(x) = P(X = x) = \\begin{cases}\n",
    "               e^{-\\lambda} \\frac{\\lambda^x}{x!} & \\text{if } x \\text{ is a non-negative integer} \\\\\n",
    "               0 & \\mathrm{otherwise}\n",
    "            \\end{cases}$$\n",
    "* The Poisson probability mass function is very close to the binomial probability mass function when $n$ is large, $p$ is small, and $\\lambda = n p$.\n",
    "* The mean is $\\mu_X = \\lambda$\n",
    "* The variance is $\\sigma_X^2 = \\lambda$."
   ]
  },
  {
   "cell_type": "markdown",
   "metadata": {},
   "source": [
    "Alright, those are nice properties, but how to specify $\\lambda$? Often the Poisson distribution is used to model the number of rare events during a fixed duration. In this context, $\\lambda$ is the expected number of rare events. Let's look at an example."
   ]
  },
  {
   "cell_type": "markdown",
   "metadata": {},
   "source": [
    "### Example: Failure Rates\n",
    "\n",
    "Consider a flood occurs on a specific river once every 100 years. Calculate the probability 0, 1, 2, ..., 6 floods occur in the next 100 years. Assume the Poisson distribution accurately models flooding on this river.\n",
    "\n",
    "Step 0: Identify $\\lambda$\n",
    "\n",
    "We are modeling floods, which are a rare event. The fixed duration is 100 years. We expect 1 flood every 100 years, so $\\lambda = 1$.\n",
    "\n",
    "Step 1: Write a function to evaluate the PDF"
   ]
  },
  {
   "cell_type": "code",
   "execution_count": 10,
   "metadata": {
    "collapsed": true,
    "jupyter": {
     "outputs_hidden": true
    }
   },
   "outputs": [],
   "source": [
    "def poisson(k,lmb):\n",
    "    ''' PMF for Poisson distribution\n",
    "    Args:\n",
    "        k: number of events\n",
    "        lmb: average number of events per interval\n",
    "    Return:\n",
    "        probability of k events occuring during interval\n",
    "    '''\n",
    "    \n",
    "    assert k >= 0\n",
    "    assert lmb >= 0\n",
    "    \n",
    "    return np.exp(-lmb) * lmb**k / math.factorial(k)"
   ]
  },
  {
   "cell_type": "markdown",
   "metadata": {},
   "source": [
    "Step 2: Test out function for 10 floods"
   ]
  },
  {
   "cell_type": "code",
   "execution_count": 11,
   "metadata": {},
   "outputs": [
    {
     "data": {
      "text/plain": [
       "1.0137771196302975e-07"
      ]
     },
     "execution_count": 11,
     "metadata": {},
     "output_type": "execute_result"
    }
   ],
   "source": [
    "poisson(10,1)"
   ]
  },
  {
   "cell_type": "markdown",
   "metadata": {},
   "source": [
    "Step 3: Answer the question asked"
   ]
  },
  {
   "cell_type": "markdown",
   "metadata": {},
   "source": [
    "<div style=\"background-color: rgba(0,255,0,0.05) ; padding: 10px; border: 1px solid darkgreen;\"> \n",
    "<b>Home Activity</b>: Evaluate the probabilities of 0 to 6 floods during the next 100 years. Store your answer as a numpy array <tt>p_floods</tt> such that <tt>p_floods[3]</tt> is the probability of 3 floods.\n",
    "</div>"
   ]
  },
  {
   "cell_type": "code",
   "execution_count": 12,
   "metadata": {},
   "outputs": [
    {
     "name": "stdout",
     "output_type": "stream",
     "text": [
      "[0.36787944 0.36787944 0.18393972 0.06131324 0.01532831 0.00306566\n",
      " 0.00051094]\n"
     ]
    }
   ],
   "source": [
    "n_floods = range(0,7)\n",
    "p_floods = np.zeros(7)\n",
    "\n",
    "### BEGIN SOLUTION\n",
    "for i in n_floods:\n",
    "    p_floods[i] = poisson(i,1)\n",
    "    \n",
    "print(p_floods)\n",
    "### END SOLUTION"
   ]
  },
  {
   "cell_type": "code",
   "execution_count": 13,
   "metadata": {
    "collapsed": true,
    "jupyter": {
     "outputs_hidden": true
    },
    "nbgrader": {
     "grade": true,
     "grade_id": "floods",
     "locked": true,
     "points": "0.3",
     "solution": false
    }
   },
   "outputs": [],
   "source": [
    "### BEGIN HIDDEN TESTS\n",
    "secret_ans = [0.36787944, 0.36787944, 0.18393972, 0.06131324, 0.01532831, 0.00306566, 0.00051094]\n",
    "\n",
    "for i in n_floods:\n",
    "    assert np.abs(p_floods[i] - secret_ans[i]) < 1E-2, \"Check your answer for \"+str(i)+\" floods.\"\n",
    "### END HIDDEN TESTS"
   ]
  },
  {
   "cell_type": "markdown",
   "metadata": {},
   "source": [
    "Using our results, we can plot the probability mass function and cumulative density function:"
   ]
  },
  {
   "cell_type": "code",
   "execution_count": 14,
   "metadata": {},
   "outputs": [
    {
     "data": {
      "image/png": "[encoded data removed]",
      "text/plain": [
       "<Figure size 432x288 with 1 Axes>"
      ]
     },
     "metadata": {},
     "output_type": "display_data"
    }
   ],
   "source": [
    "plt.bar(n_floods,p_floods)\n",
    "plt.xlabel(\"Number of Floods\")\n",
    "plt.ylabel(\"Probability\")\n",
    "plt.title(\"Probability Mass Function\")\n",
    "plt.show()"
   ]
  },
  {
   "cell_type": "code",
   "execution_count": 15,
   "metadata": {},
   "outputs": [
    {
     "data": {
      "image/png": "[encoded data removed]",
      "text/plain": [
       "<Figure size 432x288 with 1 Axes>"
      ]
     },
     "metadata": {},
     "output_type": "display_data"
    }
   ],
   "source": [
    "# calculate cumulative sum\n",
    "cum_p_floods = np.cumsum(p_floods)\n",
    "\n",
    "# Create the plot\n",
    "plt.plot(n_floods,cum_p_floods)\n",
    "plt.xlabel(\"Number of Floods\")\n",
    "plt.ylabel(\"Probability of N or fewer floods\")\n",
    "plt.grid(True)\n",
    "plt.title(\"Cumulative Distribution Function\")\n",
    "plt.show()"
   ]
  },
  {
   "cell_type": "markdown",
   "metadata": {},
   "source": [
    "The normal distribution (a.k.a. Gaussian) is a good model for many continuous random variables in science and engineering. As we will soon see, the normal distributions is also extremely important in statistics.\n",
    "\n",
    "Here is the probability density function:\n",
    "\n",
    "$$\n",
    "f(x) = \\frac{1}{\\sigma \\sqrt{2 \\pi}} e^{-(x-\\mu)^2 / (2\\sigma^2)}\n",
    "$$\n",
    "\n",
    "The normal distribution is charactered by two parameters, $\\mu$ and $\\sigma$, which are the mean and standard deviation:\n",
    "\n",
    "$$\n",
    "\\mu_X = \\int_{-\\infty}^{\\infty} x \\frac{1}{\\sigma \\sqrt{2 \\pi}} e^{-(x-\\mu)^2 / (2\\sigma^2)} dx = \\mu\n",
    "$$\n",
    "\n",
    "$$\n",
    "\\sigma^2_X = \\int_{-\\infty}^{\\infty} (x - \\mu_X)^2 \\frac{1}{\\sigma \\sqrt{2 \\pi}} e^{-(x-\\mu)^2 / (2\\sigma^2)} dx = \\sigma^2\n",
    "$$\n",
    "\n",
    "Navidi (2015) walks through the calculus on pg. 251 and 252.\n",
    "\n",
    "We write $X \\sim \\mathcal{N}(\\mu, \\sigma^2)$.\n",
    "\n",
    "### 95-97-99.7 Rule\n",
    "\n",
    "Here is how to **draw a normal distribution** on paper.\n",
    "1. Draw a symmetric \"bell\" curve.\n",
    "2. Label the peak $\\mu$.\n",
    "3. Label the points of inflection $\\mu - \\sigma$ and $\\mu + \\sigma$.\n",
    "4. $\\sigma$ is the distance between the peak and the points of inflection. Using this distance, label $\\mu \\pm 2 \\sigma$ and $\\mu \\pm 3 \\sigma$.\n",
    "\n",
    "![normal distribution](https://miro.medium.com/max/24000/1*IZ2II2HYKeoMrdLU5jW6Dw.png)\n",
    "\n",
    "As alluded to a few times this semester, there is not an analytic expression for integrating the normal PDF. Instead, we must use numeric integration. Most engineers, scientists, and statisticians memorize three specific areas under the normal curve, which is called the **68-95-99.7 rule**.\n",
    "\n",
    "$$\\int_{\\mu - \\sigma}^{\\mu + \\sigma} \\frac{1}{\\sigma \\sqrt{2 \\pi}} e^{-(x-\\mu)^2 / (2\\sigma^2)} dx \\approx 0.6827$$\n",
    "\n",
    "$$\\int_{\\mu - 2 \\sigma}^{\\mu + 2 \\sigma} \\frac{1}{\\sigma \\sqrt{2 \\pi}} e^{-(x-\\mu)^2 / (2\\sigma^2)} dx \\approx 0.9545$$\n",
    "\n",
    "$$\\int_{\\mu - 3 \\sigma}^{\\mu + 3 \\sigma} \\frac{1}{\\sigma \\sqrt{2 \\pi}} e^{-(x-\\mu)^2 / (2\\sigma^2)} dx \\approx 0.9973$$"
   ]
  },
  {
   "cell_type": "markdown",
   "metadata": {},
   "source": [
    "### Standardization"
   ]
  },
  {
   "cell_type": "markdown",
   "metadata": {},
   "source": [
    "Let $X \\sim \\mathcal{N}(\\mu, \\sigma^2)$. It is much more convienent to standardize by defining a new variable $Z$:\n",
    "\n",
    "$$Z = \\frac{X - \\mu}{\\sigma}$$\n",
    "\n",
    "Now let's convert the three integrals for the 68-95-99.7 rule from $x$ to $z$. First, let's solve for $x$.\n",
    "\n",
    "$$z = \\frac{x - \\mu}{\\sigma} \\rightarrow x = z \\sigma + \\mu$$\n",
    "\n",
    "Recall the **normal PDF**:\n",
    "\n",
    "$$f(x) = \\frac{1}{\\sigma \\sqrt{2 \\pi}} e^{-(x-\\mu)^2 / (2\\sigma^2)}$$\n",
    "\n",
    "Now substitute:\n",
    "\n",
    "$$f(z) = \\frac{1}{\\sigma \\sqrt{2 \\pi}} e^{-(z\\sigma + \\mu -\\mu)^2 / (2\\sigma^2)}$$\n",
    "\n",
    "And simplify:\n",
    "\n",
    "$$f(z) = \\frac{1}{\\sigma \\sqrt{2 \\pi}} e^{-z^2 / 2}$$\n",
    "\n",
    "Now let's transform the **limits of integration**:\n",
    "\n",
    "$$x = \\mu + c \\sigma$$\n",
    "\n",
    "Now substitute:\n",
    "\n",
    "$$z \\sigma + \\mu = \\mu + c \\sigma$$\n",
    "\n",
    "And simplify:\n",
    "\n",
    "$$z = c$$\n",
    "\n",
    "Now let's **transform the $dx$ into a $dz$**. First we differentiate:\n",
    "\n",
    "$$\\sigma dz = dx$$\n",
    "\n",
    "And then subsitutite:\n",
    "\n",
    "$$\\int_{\\mu - c \\sigma}^{\\mu + c \\sigma} \\frac{1}{\\sigma \\sqrt{2 \\pi}} e^{-(x-\\mu)^2 / (2\\sigma^2)} dx = \\int_{-c}^{c} \\frac{1}{\\sqrt{2 \\pi}} e^{-z^2 / 2} dz$$\n",
    "\n",
    "We see that $Z$ follows a normal distribution with mean 0 and variance 1, i.e., $Z \\sim \\mathcal{N}(0, 1)$. This is known as a **standard normal distribution**."
   ]
  },
  {
   "cell_type": "markdown",
   "metadata": {},
   "source": [
    "The front cover of your textbook has precomputed the cumulative distribution function for the standard normal. This is known as a **z-table**.\n",
    "\n",
    "![z-table](https://cdn1.byjus.com/wp-content/uploads/2017/09/word-image.png)"
   ]
  },
  {
   "cell_type": "markdown",
   "metadata": {},
   "source": [
    "### Example: Using the Z-Table"
   ]
  },
  {
   "cell_type": "markdown",
   "metadata": {},
   "source": [
    "<div style=\"background-color: rgba(0,0,255,0.05) ; padding: 10px; border: 1px solid darkblue;\"> \n",
    "<b>Class Activity</b>: Use the Z-table to answer the following questions.\n",
    "</div>"
   ]
  },
  {
   "cell_type": "markdown",
   "metadata": {},
   "source": [
    "As an intern at Frozen Pizza, Inc. you learn the fat content of single serving pies is normally distributed with mean 10g with standard deviation 0.2 g."
   ]
  },
  {
   "cell_type": "markdown",
   "metadata": {},
   "source": [
    "#### What is the probability the next pizza coming off the manufacturing line has more than 10.4 grams of fat?"
   ]
  },
  {
   "cell_type": "code",
   "execution_count": null,
   "metadata": {
    "collapsed": true,
    "jupyter": {
     "outputs_hidden": true
    }
   },
   "outputs": [],
   "source": []
  },
  {
   "cell_type": "markdown",
   "metadata": {},
   "source": [
    "#### The FDA would like you to certify that 99% of frozen pizzas have fat content between $\\underline{\\qquad \\qquad}$ and $\\underline{\\qquad \\qquad}$ grams, where the interval in centered at the mean. Fill in the blanks."
   ]
  },
  {
   "cell_type": "code",
   "execution_count": null,
   "metadata": {
    "collapsed": true,
    "jupyter": {
     "outputs_hidden": true
    }
   },
   "outputs": [],
   "source": []
  },
  {
   "cell_type": "markdown",
   "metadata": {},
   "source": [
    "### Example: Modeling Stocks"
   ]
  },
  {
   "cell_type": "markdown",
   "metadata": {},
   "source": [
    "Let's say we want to predict the outcome of the stock market next year. We create a simple model using a normal distribution with mean 1.5% return and standard deviation 4.5% return.\n",
    "\n",
    "According to our model, is the probability we will lose money next year if we invest in the stock market?"
   ]
  },
  {
   "cell_type": "markdown",
   "metadata": {},
   "source": [
    "<div style=\"background-color: rgba(0,0,255,0.05) ; padding: 10px; border: 1px solid darkblue;\"> \n",
    "<b>Class Activity</b>: Work through the example below together.\n",
    "</div>"
   ]
  },
  {
   "cell_type": "markdown",
   "metadata": {},
   "source": [
    "#### Approach 1: Numerical integrate the pdf"
   ]
  },
  {
   "cell_type": "code",
   "execution_count": 16,
   "metadata": {},
   "outputs": [
    {
     "data": {
      "text/plain": [
       "(0.36944134018176356, 5.073409550679581e-12)"
      ]
     },
     "execution_count": 16,
     "metadata": {},
     "output_type": "execute_result"
    }
   ],
   "source": [
    "from scipy import integrate\n",
    "def normal_pdf(x,mean,stdev):\n",
    "    '''PDF for normal distribution\n",
    "    Arg:\n",
    "        x: outcome value\n",
    "        mean: mean\n",
    "        stdev: standard deviation\n",
    "    \n",
    "    Return: probability    \n",
    "    '''\n",
    "    \n",
    "    assert stdev > 0.0\n",
    "    \n",
    "    var = stdev**2\n",
    "    \n",
    "    return (1/np.sqrt(2*np.pi*var)) * np.exp(-(x - mean)**2 / 2 / var)\n",
    "\n",
    "# Integrate numerically. We'll learn the details of how this works later in the class.\n",
    "\n",
    "my_f = lambda x: normal_pdf(x, mean=1.5, stdev=4.5)\n",
    "\n",
    "integrate.quad(my_f,-10000,0)"
   ]
  },
  {
   "cell_type": "markdown",
   "metadata": {},
   "source": [
    "#### Approach 2: Standardize and use function for standard normal distribution"
   ]
  },
  {
   "cell_type": "code",
   "execution_count": 17,
   "metadata": {},
   "outputs": [
    {
     "name": "stdout",
     "output_type": "stream",
     "text": [
      "-0.3333333333333333\n"
     ]
    }
   ],
   "source": [
    "z = (0 - 1.5) / 4.5\n",
    "print(z)"
   ]
  },
  {
   "cell_type": "code",
   "execution_count": 18,
   "metadata": {},
   "outputs": [
    {
     "data": {
      "text/plain": [
       "0.36944134018176367"
      ]
     },
     "execution_count": 18,
     "metadata": {},
     "output_type": "execute_result"
    }
   ],
   "source": [
    "from scipy import stats\n",
    "stats.norm.cdf(z)"
   ]
  }
 ],
 "metadata": {
  "colab": {
   "collapsed_sections": [],
   "name": "L15-Error-Propagation.ipynb",
   "provenance": [],
   "version": "0.3.2"
  },
  "kernelspec": {
   "display_name": "Python 3 (ipykernel)",
   "language": "python",
   "name": "python3"
  },
  "language_info": {
   "codemirror_mode": {
    "name": "ipython",
    "version": 3
   },
   "file_extension": ".py",
   "mimetype": "text/x-python",
   "name": "python",
   "nbconvert_exporter": "python",
   "pygments_lexer": "ipython3",
   "version": "3.9.12"
  }
 },
 "nbformat": 4,
 "nbformat_minor": 4
}
