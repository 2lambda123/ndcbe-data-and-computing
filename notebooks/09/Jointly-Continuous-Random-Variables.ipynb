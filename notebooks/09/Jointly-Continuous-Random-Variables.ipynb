{
 "cells": [
  {
   "cell_type": "markdown",
   "id": "b9a97f22-d069-4500-b63b-410ef7930e7e",
   "metadata": {
    "colab_type": "text",
    "id": "6rJXXfntCDIa"
   },
   "source": [
    "#  Jointly Continuous Random Variables\n"
   ]
  },
  {
   "cell_type": "markdown",
   "id": "075c1436-7669-4ceb-a8b7-b97488104a22",
   "metadata": {
    "colab_type": "text",
    "id": "8wo2zupKCDId",
    "tags": []
   },
   "source": [
    "## Learning Objectives\n",
    "\n",
    "After attending class, completing these activities, asking questions, and studying notes, you should be able to:\n",
    "* Understand the difference between jointly distributed and jointly continuous random variables.\n",
    "* Explain what joint and marginal probability density functions are and how to calculate them."
   ]
  },
  {
   "cell_type": "code",
   "execution_count": 68,
   "id": "485083de-70c4-4eef-8763-d17dce2efe10",
   "metadata": {},
   "outputs": [],
   "source": [
    "import matplotlib.pyplot as plt\n",
    "import matplotlib.patches as mpatches"
   ]
  },
  {
   "cell_type": "markdown",
   "id": "e92d761f-c750-4aab-90c6-e8c20cc5ba1b",
   "metadata": {},
   "source": [
    "<div class=\"admonition tip\"> \n",
    "<p class=\"title\"><b>Note</b></p>\n",
    " Unlinke jointly distributed random variables that can only take on certain values, jointly continuous random variables can take on any value within a specified range. This changes the functions from mass to density functions as we are looking at a range of values rather than specific values.\n",
    "</div>"
   ]
  },
  {
   "cell_type": "markdown",
   "id": "963cb129-1160-40d1-a88b-6044520eda35",
   "metadata": {},
   "source": [
    "## Key Equations"
   ]
  },
  {
   "cell_type": "markdown",
   "id": "8d597cf6-cadd-4aaf-96a3-ea710cfdc400",
   "metadata": {},
   "source": [
    "**Joint Probability Density Function:**\n",
    "\n",
    "$$f(x,y) = P(X=x \\textrm{ and } Y=y)$$\n",
    "\n",
    "$$P(a \\leq X \\leq b \\textrm{ and } c \\leq Y \\leq d) = \\int_a^b \\int_c^d f(x,y) dy dx$$\n",
    "\n",
    "Note that...\n",
    "\n",
    "$$\\int_{-\\infty}^{\\infty} \\int_{-\\infty}^{\\infty} f(x,y) = 1$$\n",
    "\n",
    "Both joint probability density and mass functions generalize to higher dimensions.\n",
    "\n",
    "Below is a visual representation with $f(x,y)$ being the shaded region."
   ]
  },
  {
   "cell_type": "code",
   "execution_count": 69,
   "id": "29bc76e8-09db-4f8b-9e66-396ddf62347a",
   "metadata": {
    "tags": [
     "hide-input"
    ]
   },
   "outputs": [
    {
     "data": {
      "image/png": "[encoded data removed]",
      "text/plain": [
       "<Figure size 432x288 with 1 Axes>"
      ]
     },
     "metadata": {
      "needs_background": "light"
     },
     "output_type": "display_data"
    }
   ],
   "source": [
    "fig, ax = plt.subplots()\n",
    "plt.scatter([1,1,4,4],[1,6,1,6])\n",
    "plt.xlim(0,6)\n",
    "plt.ylim(0,8)\n",
    "plt.xticks([1,4])\n",
    "plt.yticks([1,6])\n",
    "ax.set_xticks([1,4],labels=['a','b'])\n",
    "ax.set_yticks([1,6],labels=['c','d'])\n",
    "rect=mpatches.Rectangle((1,1),3,5, fill=True,alpha=0.1,hatch='/')\n",
    "plt.gca().add_patch(rect)\n",
    "plt.show()"
   ]
  },
  {
   "cell_type": "markdown",
   "id": "4fc9cb86-238f-4976-ac85-f566b18f7327",
   "metadata": {},
   "source": [
    "**Marginal Probability Density Function:**\n",
    "\n",
    "$$f_X(x) = \\int_{-\\infty}^{\\infty} f(x,y) dy$$\n",
    "\n",
    "$$f_Y(y) = \\int_{-\\infty}^{\\infty} f(x,y) dx$$\n",
    "\n",
    "While *joint probability* is with respect to two events occurring simultaneously, *marginal probability* is the probability of an event occurring regardless of the outcome of another variable."
   ]
  }
 ],
 "metadata": {
  "kernelspec": {
   "display_name": "Python 3 (ipykernel)",
   "language": "python",
   "name": "python3"
  },
  "language_info": {
   "codemirror_mode": {
    "name": "ipython",
    "version": 3
   },
   "file_extension": ".py",
   "mimetype": "text/x-python",
   "name": "python",
   "nbconvert_exporter": "python",
   "pygments_lexer": "ipython3",
   "version": "3.9.12"
  }
 },
 "nbformat": 4,
 "nbformat_minor": 5
}
