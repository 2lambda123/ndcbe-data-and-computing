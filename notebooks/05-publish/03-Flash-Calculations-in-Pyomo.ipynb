{
 "cells": [
  {
   "cell_type": "markdown",
   "metadata": {
    "colab_type": "text",
    "id": "uWElxhs6QiCg"
   },
   "source": [
    "# Flash Calculations in Pyomo\n",
    "\n",
    "&#169; University of Notre Dame. CBE 20258. Spring 2020."
   ]
  },
  {
   "cell_type": "markdown",
   "metadata": {},
   "source": [
    "<div class=\"admonition seealso\" name=\"html-admonition\"> \n",
    "<p class=\"title\"><b>Home Activity</b></p>\n",
    " You are expected to read this entire notebook before class.\n",
    "</div>"
   ]
  },
  {
   "cell_type": "code",
   "execution_count": 1,
   "metadata": {
    "tags": []
   },
   "outputs": [],
   "source": [
    "import numpy as np\n",
    "import matplotlib.pyplot as plt\n",
    "import pandas as pd\n",
    "from pyomo.environ import *"
   ]
  },
  {
   "cell_type": "markdown",
   "metadata": {},
   "source": [
    "## Learning Objectives\n",
    "\n",
    "After studying this notebook, completing the activities, and asking questions in class, you should be able to:\n",
    "* Apply the process of creating a mathematical model and implementing it in pyomo to any nonlinear optimization problem.\n",
    "* Understand and interpret the solutions to a pyomo model."
   ]
  },
  {
   "cell_type": "markdown",
   "metadata": {},
   "source": [
    "## Flash Example Revisited\n",
    "\n",
    "![flash](../../media/flash-system.png)\n",
    "\n",
    "Let's revist the flash example. Here is the **mathematical model**:\n",
    "\n",
    "Feed Specifications: $F = 1.0$ mol/s, $z_1$ = 0.5 mol/mol, $z_2$ = 0.5 mol/mol\n",
    "\n",
    "Given Equilibrium Data: $K_1$ = 3 mol/mol, $K_2$ = 0.05 mol/mol\n",
    "\n",
    "Overall Material Balance\n",
    "\n",
    "$$F = L + V$$\n",
    "\n",
    "Component Mass Balances\n",
    "\n",
    "$$V y_1 + L x_1 = F z_1$$\n",
    "\n",
    "$$V y_2 + L x_2 = F z_2$$\n",
    "\n",
    "Thermodynamic Equilibrium\n",
    "\n",
    "$$y_1 = K_1 x_1$$\n",
    "\n",
    "$$y_2 = K_2 x_2$$\n",
    "\n",
    "Summation\n",
    "\n",
    "$$y_1 + y_2 = x_1 + x_2$$\n",
    "\n",
    "And here is part of the **code** from The Newton's Method Notebook in Chapter 4:"
   ]
  },
  {
   "cell_type": "code",
   "execution_count": 2,
   "metadata": {
    "tags": []
   },
   "outputs": [],
   "source": [
    "def my_f(x):\n",
    "    ''' Nonlinear system of equations in canonical form F(x) = 0\n",
    "    Copied from Lecture 7.\n",
    "    \n",
    "    Arg:\n",
    "        x: vector of variables\n",
    "        \n",
    "    Returns:\n",
    "        r: residual, F(x)\n",
    "    \n",
    "    '''\n",
    "\n",
    "    # Initialize residuals\n",
    "    r = np.zeros(6)\n",
    "    \n",
    "    # given data\n",
    "    F = 1.0\n",
    "    z1 = 0.5\n",
    "    z2 = 0.5\n",
    "    K1 = 3\n",
    "    K2 = 0.05\n",
    "    \n",
    "    # copy values from x to more meaningful names\n",
    "    L = x[0]\n",
    "    V = x[1]\n",
    "    x1 = x[2]\n",
    "    x2 = x[3]\n",
    "    y1 = x[4]\n",
    "    y2 = x[5]\n",
    "    \n",
    "    # equation 1: overall mass balance\n",
    "    r[0] = V + L - F\n",
    "    \n",
    "    # equations 2 and 3: component mass balances\n",
    "    r[1] = V*y1 + L*x1 - F*z1\n",
    "    r[2] = V*y2 + L*x2 - F*z2\n",
    "    \n",
    "    # equation 4 and 5: equilibrium\n",
    "    r[3] = y1 - K1*x1\n",
    "    r[4] = y2 - K2*x2\n",
    "    \n",
    "    # equation 6: summation\n",
    "    r[5] = (y1 + y2) - (x1 + x2)\n",
    "    # This is known as the Rachford-Rice formulation for the summation constraint\n",
    "    \n",
    "    return r\n"
   ]
  },
  {
   "cell_type": "markdown",
   "metadata": {},
   "source": [
    "<div class=\"admonition note\" name=\"html-admonition\"> \n",
    "<p class=\"title\"><b>Class Activity</b></p>\n",
    " Complete the pyomo model below using the code above and solve the flash calculation.\n",
    "</div>"
   ]
  },
  {
   "cell_type": "code",
   "execution_count": 3,
   "metadata": {},
   "outputs": [
    {
     "name": "stdout",
     "output_type": "stream",
     "text": [
      "1 Set Declarations\n",
      "    COMPS : Size=1, Index=None, Ordered=Insertion\n",
      "        Key  : Dimen : Domain : Size : Members\n",
      "        None :     1 :    Any :    2 : {1, 2}\n",
      "\n",
      "3 Param Declarations\n",
      "    F : Size=1, Index=None, Domain=Any, Default=None, Mutable=False\n",
      "        Key  : Value\n",
      "        None :   1.0\n",
      "    K : Size=2, Index=COMPS, Domain=Any, Default=None, Mutable=False\n",
      "        Key : Value\n",
      "          1 :     3\n",
      "          2 :  0.05\n",
      "    z : Size=2, Index=COMPS, Domain=Any, Default=None, Mutable=False\n",
      "        Key : Value\n",
      "          1 :   0.5\n",
      "          2 :   0.5\n",
      "\n",
      "4 Var Declarations\n",
      "    L : Size=1, Index=None\n",
      "        Key  : Lower : Value : Upper : Fixed : Stale : Domain\n",
      "        None :  None :   0.5 :  None : False : False :  Reals\n",
      "    V : Size=1, Index=None\n",
      "        Key  : Lower : Value : Upper : Fixed : Stale : Domain\n",
      "        None :  None :   0.5 :  None : False : False :  Reals\n",
      "    x : Size=2, Index=COMPS\n",
      "        Key : Lower : Value : Upper : Fixed : Stale : Domain\n",
      "          1 :     0 :   0.5 :   1.0 : False : False :  Reals\n",
      "          2 :     0 :   0.5 :   1.0 : False : False :  Reals\n",
      "    y : Size=2, Index=COMPS\n",
      "        Key : Lower : Value : Upper : Fixed : Stale : Domain\n",
      "          1 :     0 :   0.5 :   1.0 : False : False :  Reals\n",
      "          2 :     0 :   0.5 :   1.0 : False : False :  Reals\n",
      "\n",
      "1 Objective Declarations\n",
      "    obj : Size=1, Index=None, Active=True\n",
      "        Key  : Active : Sense    : Expression\n",
      "        None :   True : minimize :        1.0\n",
      "\n",
      "4 Constraint Declarations\n",
      "    component_mass_balance : Size=2, Index=COMPS, Active=True\n",
      "        Key : Lower : Body            : Upper : Active\n",
      "          1 :   0.5 : V*y[1] + L*x[1] :   0.5 :   True\n",
      "          2 :   0.5 : V*y[2] + L*x[2] :   0.5 :   True\n",
      "    equilibrium : Size=2, Index=COMPS, Active=True\n",
      "        Key : Lower : Body             : Upper : Active\n",
      "          1 :   0.0 :    3*x[1] - y[1] :   0.0 :   True\n",
      "          2 :   0.0 : 0.05*x[2] - y[2] :   0.0 :   True\n",
      "    overall_mass_balance : Size=1, Index=None, Active=True\n",
      "        Key  : Lower : Body  : Upper : Active\n",
      "        None :   1.0 : V + L :   1.0 :   True\n",
      "    summation : Size=1, Index=None, Active=True\n",
      "        Key  : Lower : Body                      : Upper : Active\n",
      "        None :   0.0 : y[1] - x[1] + y[2] - x[2] :   0.0 :   True\n",
      "\n",
      "13 Declarations: obj COMPS F z K L V x y overall_mass_balance component_mass_balance equilibrium summation\n"
     ]
    }
   ],
   "source": [
    "## Create a concrete model\n",
    "m = ConcreteModel()\n",
    "\n",
    "## Define the objective to be a constant\n",
    "m.obj = Objective(expr=1)\n",
    "\n",
    "## Define a set for components\n",
    "m.COMPS = Set(initialize=[1,2])\n",
    "\n",
    "## given data\n",
    "m.F = Param(initialize=1.0)\n",
    "m.z = Param(m.COMPS, initialize={1:0.5, 2:0.5})\n",
    "\n",
    "# Add your solution here\n",
    "\n",
    "## Define variables\n",
    "m.L = Var(initialize=0.5)\n",
    "m.V = Var(initialize=0.5)\n",
    "m.x = Var(m.COMPS, bounds=(0, 1.0), initialize={1:0.5, 2:0.5})\n",
    "# Add your solution here\n",
    "\n",
    "### Define equations\n",
    "\n",
    "# equation 1: overall mass balance\n",
    "m.overall_mass_balance = Constraint(expr=m.F == m.V + m.L)\n",
    "\n",
    "# equations 2 and 3: component mass balances\n",
    "def eq_comp_mass_balance(model, c):\n",
    "    ''' model: Pyomo model\n",
    "        c: set for components\n",
    "    '''\n",
    "    \n",
    "    return model.V * model.y[c] + model.L * model.x[c] == model.F * model.z[c]\n",
    "    \n",
    "m.component_mass_balance = Constraint(m.COMPS, rule=eq_comp_mass_balance)\n",
    "\n",
    "# equation 4 and 5: equilibrium\n",
    "# Add your solution here\n",
    "\n",
    "# equation 6: summation\n",
    "# Add your solution here\n",
    "# This is known as the Rachford-Rice formulation for the summation constraint\n",
    "\n",
    "## Print model\n",
    "m.pprint()"
   ]
  },
  {
   "cell_type": "code",
   "execution_count": 4,
   "metadata": {},
   "outputs": [
    {
     "name": "stdout",
     "output_type": "stream",
     "text": [
      "WARNING: Could not locate the 'ipopt' executable, which is required for solver\n",
      "    ipopt\n"
     ]
    },
    {
     "ename": "ApplicationError",
     "evalue": "No executable found for solver 'ipopt'",
     "output_type": "error",
     "traceback": [
      "\u001b[0;31m---------------------------------------------------------------------------\u001b[0m",
      "\u001b[0;31mApplicationError\u001b[0m                          Traceback (most recent call last)",
      "Input \u001b[0;32mIn [4]\u001b[0m, in \u001b[0;36m<cell line: 7>\u001b[0;34m()\u001b[0m\n\u001b[1;32m      4\u001b[0m solver \u001b[38;5;241m=\u001b[39m SolverFactory(\u001b[38;5;124m'\u001b[39m\u001b[38;5;124mipopt\u001b[39m\u001b[38;5;124m'\u001b[39m)\n\u001b[1;32m      6\u001b[0m \u001b[38;5;66;03m# Solve!\u001b[39;00m\n\u001b[0;32m----> 7\u001b[0m results \u001b[38;5;241m=\u001b[39m \u001b[43msolver\u001b[49m\u001b[38;5;241;43m.\u001b[39;49m\u001b[43msolve\u001b[49m\u001b[43m(\u001b[49m\u001b[43mm\u001b[49m\u001b[43m,\u001b[49m\u001b[43m \u001b[49m\u001b[43mtee\u001b[49m\u001b[43m \u001b[49m\u001b[38;5;241;43m=\u001b[39;49m\u001b[43m \u001b[49m\u001b[38;5;28;43;01mTrue\u001b[39;49;00m\u001b[43m)\u001b[49m\n",
      "File \u001b[0;32m~/opt/anaconda3/envs/jbook/lib/python3.9/site-packages/pyomo/opt/base/solvers.py:513\u001b[0m, in \u001b[0;36mOptSolver.solve\u001b[0;34m(self, *args, **kwds)\u001b[0m\n\u001b[1;32m    510\u001b[0m \u001b[38;5;28;01mdef\u001b[39;00m \u001b[38;5;21msolve\u001b[39m(\u001b[38;5;28mself\u001b[39m, \u001b[38;5;241m*\u001b[39margs, \u001b[38;5;241m*\u001b[39m\u001b[38;5;241m*\u001b[39mkwds):\n\u001b[1;32m    511\u001b[0m     \u001b[38;5;124;03m\"\"\" Solve the problem \"\"\"\u001b[39;00m\n\u001b[0;32m--> 513\u001b[0m     \u001b[38;5;28;43mself\u001b[39;49m\u001b[38;5;241;43m.\u001b[39;49m\u001b[43mavailable\u001b[49m\u001b[43m(\u001b[49m\u001b[43mexception_flag\u001b[49m\u001b[38;5;241;43m=\u001b[39;49m\u001b[38;5;28;43;01mTrue\u001b[39;49;00m\u001b[43m)\u001b[49m\n\u001b[1;32m    514\u001b[0m     \u001b[38;5;66;03m#\u001b[39;00m\n\u001b[1;32m    515\u001b[0m     \u001b[38;5;66;03m# If the inputs are models, then validate that they have been\u001b[39;00m\n\u001b[1;32m    516\u001b[0m     \u001b[38;5;66;03m# constructed! Collect suffix names to try and import from solution.\u001b[39;00m\n\u001b[1;32m    517\u001b[0m     \u001b[38;5;66;03m#\u001b[39;00m\n\u001b[1;32m    518\u001b[0m     \u001b[38;5;28;01mfrom\u001b[39;00m \u001b[38;5;21;01mpyomo\u001b[39;00m\u001b[38;5;21;01m.\u001b[39;00m\u001b[38;5;21;01mcore\u001b[39;00m\u001b[38;5;21;01m.\u001b[39;00m\u001b[38;5;21;01mbase\u001b[39;00m\u001b[38;5;21;01m.\u001b[39;00m\u001b[38;5;21;01mblock\u001b[39;00m \u001b[38;5;28;01mimport\u001b[39;00m _BlockData\n",
      "File \u001b[0;32m~/opt/anaconda3/envs/jbook/lib/python3.9/site-packages/pyomo/opt/solver/shellcmd.py:129\u001b[0m, in \u001b[0;36mSystemCallSolver.available\u001b[0;34m(self, exception_flag)\u001b[0m\n\u001b[1;32m    127\u001b[0m     \u001b[38;5;28;01mif\u001b[39;00m exception_flag:\n\u001b[1;32m    128\u001b[0m         msg \u001b[38;5;241m=\u001b[39m \u001b[38;5;124m\"\u001b[39m\u001b[38;5;124mNo executable found for solver \u001b[39m\u001b[38;5;124m'\u001b[39m\u001b[38;5;132;01m%s\u001b[39;00m\u001b[38;5;124m'\u001b[39m\u001b[38;5;124m\"\u001b[39m\n\u001b[0;32m--> 129\u001b[0m         \u001b[38;5;28;01mraise\u001b[39;00m ApplicationError(msg \u001b[38;5;241m%\u001b[39m \u001b[38;5;28mself\u001b[39m\u001b[38;5;241m.\u001b[39mname)\n\u001b[1;32m    130\u001b[0m     \u001b[38;5;28;01mreturn\u001b[39;00m \u001b[38;5;28;01mFalse\u001b[39;00m\n\u001b[1;32m    131\u001b[0m \u001b[38;5;28;01mreturn\u001b[39;00m \u001b[38;5;28;01mTrue\u001b[39;00m\n",
      "\u001b[0;31mApplicationError\u001b[0m: No executable found for solver 'ipopt'"
     ]
    }
   ],
   "source": [
    "## Solve the model\n",
    "\n",
    "# Specify the solver\n",
    "solver = SolverFactory('ipopt')\n",
    "\n",
    "# Solve!\n",
    "results = solver.solve(m, tee = True)"
   ]
  },
  {
   "cell_type": "code",
   "execution_count": null,
   "metadata": {},
   "outputs": [],
   "source": [
    "## Examine the solution\n",
    "print(\"L = \",value(m.L),\"mol/s\")\n",
    "# Add your solution here"
   ]
  }
 ],
 "metadata": {
  "colab": {
   "name": "L12-Optimization.ipynb",
   "provenance": [],
   "version": "0.3.2"
  },
  "kernelspec": {
   "display_name": "Python 3 (ipykernel)",
   "language": "python",
   "name": "python3"
  },
  "language_info": {
   "codemirror_mode": {
    "name": "ipython",
    "version": 3
   },
   "file_extension": ".py",
   "mimetype": "text/x-python",
   "name": "python",
   "nbconvert_exporter": "python",
   "pygments_lexer": "ipython3",
   "version": "3.9.12"
  }
 },
 "nbformat": 4,
 "nbformat_minor": 4
}
