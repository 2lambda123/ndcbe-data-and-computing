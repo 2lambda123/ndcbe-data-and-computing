{
 "cells": [
  {
   "cell_type": "markdown",
   "metadata": {
    "id": "bAbiPnfCLETk"
   },
   "source": [
    "# Filtration of a Yeast Suspension\n",
    "\n",
    "**Prepared by**: Hailey Lynch (hlynch@nd.edu) and Wilson Raney (wraney@nd.edu)\n",
    "\n",
    "**Reference**: Example 11.1 in Bioprocess Engineering: Basic Concepts, 3rd Edition by Shuler, Kargi, and DeLisa (ISBN-10: 0137062702) (2017)\n",
    "\n",
    "> This problem will illustrate a filtration of a yeast suspension example for undergraduates to practice solving analyical solutions, developing Python code, and discussing critical thinking questions using concepts from CBE 60258.\n",
    "\n",
    "## Learning Objectives\n",
    "After completing this notebook and working through through the activities, you should be able to:\n",
    "\n",
    "* Write and solve systems of differential equations and quadratic functions on paper and use Python for a simple separations example in chemical engineering.\n",
    "* Develop a mathematical model on paper and implement in Python to calculate solutions using numerical methods.\n",
    "* Interpret results and discuss critical thinking questions.\n",
    "\n",
    "**Specific CBE 60258 notebooks utilized throughout this notebook:**\n",
    "* (Section 1.4) Systems of Differential Equations: https://ndcbe.github.io/data-and-computing/notebooks/07/Systems-of-Differential-Equations-and-Scipy.html#systems-of-differential-equations\n",
    "\n",
    "* (Section 1.5) Visualization with matplotlib: https://ndcbe.github.io/data-and-computing/notebooks/01/Matplotlib.html#customizing-plots\n",
    "\n",
    "\n",
    "* (Section 1.5) Visualizing Data: https://ndcbe.github.io/data-and-computing/notebooks/09/Visualizing-Data.html#scatter-plots\n",
    "\n",
    "* (Section 1.8) Newton-Raphson Method in One Dimension: https://ndcbe.github.io/data-and-computing/notebooks/06/Newton-Raphson-Method-in-One-Dimension.html\n",
    "\n"
   ]
  },
  {
   "cell_type": "code",
   "execution_count": null,
   "metadata": {
    "id": "5zKXuMWnvhNS"
   },
   "outputs": [],
   "source": [
    "# import libraries\n",
    "import matplotlib.pyplot as plt\n",
    "import numpy as np\n",
    "from matplotlib.pyplot import figure\n",
    "import math"
   ]
  },
  {
   "cell_type": "markdown",
   "metadata": {
    "id": "Niaqr4eUv1zT"
   },
   "source": [
    "## Problem Statement\n",
    "The following data were obtained in a constant-pressure filtration unit for filtration of a yeast suspension:\n",
    "\n",
    "t (min)            | V (L filtrate) \n",
    "-------------------|------------------\n",
    "4                  | 115 \n",
    "20                 | 365 \n",
    "48                 | 680\n",
    "76                 | 850 \n",
    "120                | 1130 \n",
    "\n",
    "\t\t\n",
    "Characteristics of the filter are as follows:<br>\n",
    "$A = 0.28 m^2$, $C = 1920 kg/m^3$, $𝜇 = 2.9ᐧ10^{-3} kg/mᐧs$, $𝛼 = 4 m/kg$  \n",
    "\n",
    "1.   Determine the pressure drop across the filter.\n",
    "2.   Determine the filter medium resistance ($r_{m}$).\n",
    "3.   Determine the size of the filter for the same pressure drop to process 4000 L of cell suspension in 20 minutes.\n",
    "\n",
    "**Do the following throughout this notebook:**\n",
    "1. Propose a mathematical model for the given problem statement.\n",
    "2. Solve the problem analytically.\n",
    "3. Write pseudocode before using Python.\n",
    "4. Solve the problem using Python.\n",
    "5. Print answers to the screen.\n",
    "6. Answer discussion questions."
   ]
  },
  {
   "cell_type": "markdown",
   "metadata": {
    "id": "EK7yingcviST"
   },
   "source": [
    "## Governing Equations for the Filtration System\n",
    "\n",
    "Consider the following for separation of constant-pressure filtration:\n",
    "\n",
    "For filtration, the **rate** (*the flow of filtrate*) for a **constant-pressure** (*vacuum*) filtration operation is determined by the **resistance of the cake** and the **filter medium**. <br><br> We can understand this by setting up a differential equation to model this relationship:\n",
    "\n",
    "$$Equation (11.1):\\frac{dV}{dt} = \\frac{g_{c}ΔPA}{(r_{m}+r_{c})𝜇}$$\n",
    "\n",
    "where:\n",
    "\n",
    "\n",
    "$V$ = the volume of filtrate\n",
    "\n",
    "$A$ = the surface area of the filter\n",
    "\n",
    "$ΔP$ = the pressure-drop through the cake and filter medium\n",
    "\n",
    "$𝜇$ = the viscosity of the filtrate\n",
    "\n",
    "$r_{m}$ = the resistance of the filter medium\n",
    "\n",
    "$r_{c}$ = the resistance of the cake\n",
    "\n",
    "\n",
    "---\n",
    "\n",
    "The value of $r_{m}$ is characterisitc of the filter medium. However the cake resistance $r_{c}$, increases during filtration and after a start-up period, $r_{c}$ exceeds $r_{m}$. The value of $r_{c}$ is given by:\n",
    "\n",
    "$$ Equation (11.2): r_{c} = 𝛼\\frac{W}{A} = 𝛼\\frac{CV}{A} $$\n",
    "\n",
    "where:\n",
    "\n",
    "$W$ = the total weight of the cake on filter\n",
    "\n",
    "$C$ = the weight of the cake deposited per unit volume of filtrate\n",
    "\n",
    "$𝛼$ = the average specific resistance of the cake\n",
    "\n",
    "---\n",
    "\n",
    "The total weight of the cake is related to the total volume of filtrate and can be characterized by:\n",
    "<br><br>\n",
    "$$Equation (11.3): W = CV$$\n",
    "\n",
    "where:\n",
    "\n",
    "$W$ = the total weight of the cake on filter\n",
    "\n",
    "$C$ = the weight of the cake deposited per unit volume of filtrate\n",
    "\n",
    "$V$ = the volume of filtrate\n"
   ]
  },
  {
   "cell_type": "markdown",
   "metadata": {
    "id": "z4mx6zRK5HA7"
   },
   "source": [
    "## Describe the Filtration System Analytically\n",
    "\n"
   ]
  },
  {
   "cell_type": "markdown",
   "metadata": {
    "id": "WER8ry9DQukM"
   },
   "source": [
    "With the information given in 1.3, we can now use these equations to define the mathematical relationship to solve the problem.\n",
    "\n",
    "Use the previous three equations (11.1), (11.2), and (11.3) to analytically derive the Ruth equation: <br><br>$$ Equation (11.6): \\frac{t}{V} = \\frac{1}{K}(V+2V_{0})$$ <br>\n",
    "where $V_{0}$ and $K$, the Ruth coefficient, are defined as:<br><br>\n",
    "$V_{0} = \\frac{r_{m}}{𝛼C}A$ and $K = (\\frac{2A^{2}}{𝛼C𝜇})Δpg_{c}$ <br>\n",
    "\n",
    "<b> Record your answer using pencil and paper. </b>\n",
    "\n",
    ">**Hint**: You will need to solve for two equations (11.4) and (11.5) before deriving the Ruth equation. <br>\n",
    "<br>How can you transform a differential equation into a linear equation? <br> What bounds of $V$ and $t$ will you need to integrate within?"
   ]
  },
  {
   "cell_type": "markdown",
   "metadata": {
    "id": "Qzyt4ObhfqWl"
   },
   "source": [
    "**Paper and Pencil Solution:** <br><br>\n",
    "Substituting Equations (11.2) and (11.3) into Equation (11.1) we get:\n",
    "<br><br>\n",
    "$$Equation (11.4):\n",
    "\\frac{d(V/A)}{dt} = \\frac{g_{c}Δp}{(r_{m}+𝛼\\frac{CV}{A})𝜇} $$\n",
    "<br>\n",
    "\n",
    "Integrating Equation 11.4 from $V=0$ to $V=V$ and $t=0$ and $t=t$ gives:\n",
    "<br><br>\n",
    "$$Equation (11.5):\n",
    "V^{2}+2VV_{0}=Kt$$\n",
    "\n",
    "where $V_{0}$ and $K$ are defined as:\n",
    "\n",
    "$$V_{0} = \\frac{r_{m}}{𝛼C}A$$\n",
    "\n",
    "and\n",
    "\n",
    "$$K = (\\frac{2A^{2}}{𝛼C𝜇})Δpg_{c}$$\n",
    "\n",
    "For a constant-pressure filtration, 11.5 is known as the Ruth equation and we can rearrange it to get:\n",
    "<br><br>\n",
    "$$Equation (11.6):\n",
    "\\frac{t}{V} = \\frac{1}{K}(V+2V_{0})$$"
   ]
  },
  {
   "cell_type": "markdown",
   "metadata": {
    "id": "Mtdg1Tk0oJqp"
   },
   "source": [
    "The integration performed here could also be modeled in Python as outlined in this notebook: (https://ndcbe.github.io/data-and-computing/notebooks/07/Systems-of-Differential-Equations-and-Scipy.html#systems-of-differential-equations)"
   ]
  },
  {
   "cell_type": "markdown",
   "metadata": {
    "id": "eXUpJKfQ6cDo"
   },
   "source": [
    "Additional information on these and similar properties of constant-pressure filtration can be found here: (https://pubs.acs.org/doi/pdf/10.1021/ie50306a024)"
   ]
  },
  {
   "cell_type": "markdown",
   "metadata": {
    "id": "O05WUdtJAi9n"
   },
   "source": [
    "## Determine Pressure Drop Across the Filter\n",
    "\n",
    "\n",
    "In order to determine the pressure drop across the filter, we have to apply the Ruth equation (11.6) to the data from the Problem Statement in 1.2 to get the new data.\n",
    "\n",
    "Linearize the Ruth equation into the form $y=mx+b$.\n",
    "\n",
    "**Record your answer using paper and pencil.**"
   ]
  },
  {
   "cell_type": "markdown",
   "metadata": {
    "id": "icJdQD7tk6yv"
   },
   "source": [
    "**Pencil and Paper Solution**:\n",
    "\n",
    "$$Equation (11.6):\n",
    "\\frac{t}{V} = \\frac{1}{K}(V+2V_{0})$$\n",
    "\n",
    "Multiply out terms and group into linear form:\n",
    "\n",
    "$$\\frac{t}{V} = \\frac{V}{K}+ \\frac{2V_{0}}{K}$$\n"
   ]
  },
  {
   "cell_type": "markdown",
   "metadata": {
    "id": "1SF8irq3muVf"
   },
   "source": [
    "Now we will use this linearized form to calculate our new data table.\n",
    "<br>\n",
    "**Record your answer using paper and pencil.**\n",
    "\n",
    "**Paper and Pencil Solution:**\n",
    "<br>\n",
    "Plug in the values from the data in Problem Statement 1.2 into the linearized form of Equation 11.6:\n",
    "\n",
    "For example: $t=4$ and $V=115$, \n",
    "\n",
    "$\\frac{4}{115} = 0.0348 = 0.035$ \\\\\n",
    "\n",
    "$\\Rightarrow$ The rest of the values for $t$ and $V$ can be substituted into this equation as shown above to get the transformed data below:\n",
    "\n",
    "V (L)              | t/V (min/L) \n",
    "-------------------|------------------\n",
    "115                | 0.035\n",
    "365                | 0.055\n",
    "680                | 0.071\n",
    "850                | 0.089\n",
    "1130               | 0.11 \n"
   ]
  },
  {
   "cell_type": "markdown",
   "metadata": {
    "id": "kJ55uR4gQzsD"
   },
   "source": [
    "Now, we will plot the Ruth equation ( $V$  vs.  $t/V$ ) which can be used to determine the Ruth coefficient $K$.\n",
    "\n",
    "> **Hint**: When the Ruth Equation in the form $y=mx+b$, what is the slope of the line? What is the y-intercept?"
   ]
  },
  {
   "cell_type": "markdown",
   "metadata": {
    "id": "x41vq0ZtQ0pp"
   },
   "source": [
    "In Python, you will need to:\n",
    "1. Store the data for $V$ and $t$ in a list and calculate $t/V$.\n",
    "2. Write pseudocode to perform this operation.\n",
    "3. Store the appropriate data in the lists called `t`, `V` and `t_over_V`."
   ]
  },
  {
   "cell_type": "code",
   "execution_count": null,
   "metadata": {
    "colab": {
     "base_uri": "https://localhost:8080/"
    },
    "id": "ckuAUutV5Ebf",
    "outputId": "40c32018-f2f2-41f7-bab1-af34f0cc986a"
   },
   "outputs": [
    {
     "name": "stdout",
     "output_type": "stream",
     "text": [
      "The values of t/V are: [0.03478261 0.05479452 0.07058824 0.08941176 0.10619469]\n"
     ]
    }
   ],
   "source": [
    "#Calculating t/V\n",
    "\n",
    "#import data\n",
    "# Add your solution here\n",
    "\n",
    "#calculate t/V\n",
    "# Add your solution here\n",
    "print(\"The values of t/V are:\",t_over_V)"
   ]
  },
  {
   "cell_type": "markdown",
   "metadata": {
    "id": "g1B7ca3CQ9IH"
   },
   "source": [
    "Finish the code below to generate a scatter plot of $V$ vs. $t/V$. Give the axes appropriate titles. <br> \n",
    "> **Hint**: matplotlib.pyplot has the built-in scatterplot tool `plt.scatter()`.\n",
    "<br> \n",
    "\n",
    "* Additional information on matplotlib can be found here: https://ndcbe.github.io/data-and-computing/notebooks/01/Matplotlib.html#customizing-plots\n",
    "* Additional information on plt.scatter() can be found here: https://ndcbe.github.io/data-and-computing/notebooks/09/Visualizing-Data.html#scatter-plots"
   ]
  },
  {
   "cell_type": "code",
   "execution_count": null,
   "metadata": {
    "colab": {
     "base_uri": "https://localhost:8080/",
     "height": 1000
    },
    "id": "sfLTzPVfQ96y",
    "outputId": "5b245bfc-fc13-49e1-b4ec-6bf35e5cd0ed"
   },
   "outputs": [
    {
     "name": "stdout",
     "output_type": "stream",
     "text": [
      "The equation of the linear trendline is: y=0.000070x+0.027163\n"
     ]
    },
    {
     "data": {
      "image/png": "[encoded data removed]",
      "text/plain": [
       "<Figure size 1200x1200 with 1 Axes>"
      ]
     },
     "metadata": {
      "needs_background": "light"
     },
     "output_type": "display_data"
    }
   ],
   "source": [
    "#Make a scatter plot\n",
    "# Add your solution here\n",
    "\n",
    "#Calculate the trendline equation\n",
    "z = np.polyfit(V, t_over_V, 1)\n",
    "p = np.poly1d(z)\n",
    "\n",
    "#Plot the trendline and display equation as title\n",
    "plt.plot(V, p(V), \"r--\")\n",
    "print(\"The equation of the linear trendline is:\",\"y=%.6fx+%.6f\"%(z[0],z[1]))\n",
    "\n",
    "plt.show()"
   ]
  },
  {
   "cell_type": "markdown",
   "metadata": {
    "id": "EiG1sw0ORA7b"
   },
   "source": [
    "The title of the graph is the equation of the linear regression line. Use it to store the value of the Ruth coefficient in the variable `K`. Additionally convert the Ruth coefficient to SI units and store in the variable `K_SI`. Note that the slope of the linear trendline is stored in `z[0]`."
   ]
  },
  {
   "cell_type": "code",
   "execution_count": null,
   "metadata": {
    "colab": {
     "base_uri": "https://localhost:8080/"
    },
    "id": "gKQad0YCRF0i",
    "outputId": "d55249b8-568c-494c-8aa6-b4ecec37af81"
   },
   "outputs": [
    {
     "name": "stdout",
     "output_type": "stream",
     "text": [
      "The Ruth coefficient is 0.00023792325864104675 m^6 / s\n"
     ]
    }
   ],
   "source": [
    "#Calculating K using slope from graph\n",
    "# Add your solution here"
   ]
  },
  {
   "cell_type": "markdown",
   "metadata": {
    "id": "95pYTMpMRIH_"
   },
   "source": [
    "Use the Ruth coefficient to solve for the pressure drop across the filter, $ΔP$, and store it in the variable `deltaP`."
   ]
  },
  {
   "cell_type": "code",
   "execution_count": null,
   "metadata": {
    "colab": {
     "base_uri": "https://localhost:8080/"
    },
    "id": "PFNq-XmxAprf",
    "outputId": "399aa370-c8a4-4b8a-c979-dcb77efbd7c9"
   },
   "outputs": [
    {
     "name": "stdout",
     "output_type": "stream",
     "text": [
      "The pressure drop is 0.0034484503959635255 N/m^2\n"
     ]
    }
   ],
   "source": [
    "#Constants from the problem statement\n",
    "alpha = 4 #m/kg\n",
    "C = 1920 #kg/m^3\n",
    "mu = 2.9E-3 #kg/m*s\n",
    "A = 0.28 #m^2\n",
    "gc = 9.8 #kgf / kg*m *s^2\n",
    "\n",
    "# Add your solution here"
   ]
  },
  {
   "cell_type": "markdown",
   "metadata": {
    "id": "9bFlB9tlSN_7"
   },
   "source": [
    "How can we use the plot from 1.4 to illustrate our transformed data?"
   ]
  },
  {
   "cell_type": "markdown",
   "metadata": {
    "id": "FbF24bm5ArAK"
   },
   "source": [
    "## Determine the Filter Medium Resistance\n",
    "\n",
    "Calculate the value of $r_{m}$ from the y intercept in Figure 1.4 given:\n",
    "\n",
    "$y$ $intercept = \\frac{2V_{0}}{K}$\n",
    "\n",
    "$r_{m} = \\frac{𝛼V_{0}C}{A}$\n",
    "\n",
    "Use the y-intercept from the Ruth equation plot to determine the resistance of the filter medium $r_{m}$ and store it in the variable `r_m`."
   ]
  },
  {
   "cell_type": "code",
   "execution_count": null,
   "metadata": {
    "colab": {
     "base_uri": "https://localhost:8080/"
    },
    "id": "xvHgizq_Au0u",
    "outputId": "84d1979d-65f0-4ce4-fa33-a0262c4f547d"
   },
   "outputs": [
    {
     "name": "stdout",
     "output_type": "stream",
     "text": [
      "The resistance of the filter medium is 5317.806000864924 m^-1\n"
     ]
    }
   ],
   "source": [
    "# Add your solution here\n",
    "\n",
    "print(\"The resistance of the filter medium is\", r_m, \"m^-1\")"
   ]
  },
  {
   "cell_type": "markdown",
   "metadata": {
    "id": "MwWRD1_cAwIP"
   },
   "source": [
    "## Determine the Size of the Filter \n",
    "\n",
    "For the same pressure drop, determine the size of the filter to process 4000 L of cell suspension in 20 minutes.\n",
    "\n",
    "> **Hint**: Use the Ruth equation to calculate the required area using:\n",
    "$V^{2} + 2VV_{0} = Kt $\n",
    "\n",
    "where $K = (\\frac{2A^{2}}{𝛼C𝜇})Δpg_{c}$ and $V_{0} = \\frac{r_{m}}{𝛼C}A$. \n",
    "\n",
    "**Record your answer using paper and pencil.**\n"
   ]
  },
  {
   "cell_type": "markdown",
   "metadata": {
    "id": "DimdzD-4RY1g"
   },
   "source": [
    "Use your values of $V$, $ΔP$, and $t$ to determine the size of the filter. <br>\n",
    ">**Hint**: Reformat the Ruth equation to be in terms of surface area only. This should produce a quadratic function. Solve the quadratic equation.\n",
    "\n",
    "**Pencil and Paper Solution:**\n",
    "\n",
    "$$\\left[\\left(\\frac{2A^{2}}{𝛼C𝜇}\\right)Δpg_{c}\\right](t) - 2V\\left(\\frac{r_{m}}{𝛼C}A\\right) -V^2 = 0$$\n",
    "\n",
    "$$3.59A^2-5.54A -8 = 0$$\n",
    "\n",
    "$$A = 2.45 m^2$$"
   ]
  },
  {
   "cell_type": "markdown",
   "metadata": {
    "id": "t2VxSGC3T_nA"
   },
   "source": [
    "Let's use Python as a calculator to check our answer."
   ]
  },
  {
   "cell_type": "code",
   "execution_count": null,
   "metadata": {
    "colab": {
     "base_uri": "https://localhost:8080/"
    },
    "id": "7CM9RSB7IaDU",
    "outputId": "af7cd767-d148-434d-a280-ebee38bd6502"
   },
   "outputs": [
    {
     "name": "stdout",
     "output_type": "stream",
     "text": [
      "The possible areas of the filter are: 2.4519924278922605 -0.9088169404270792 m^2\n"
     ]
    }
   ],
   "source": [
    "# Add your solution here\n",
    "\n",
    "print(\"The possible areas of the filter are:\", root1,root2,\"m^2\")"
   ]
  },
  {
   "cell_type": "markdown",
   "metadata": {
    "id": "z-3Pw57o2H0t"
   },
   "source": [
    "Only one root is positive, and since we cannot have a negative area, the positive root must be the solution."
   ]
  },
  {
   "cell_type": "markdown",
   "metadata": {
    "id": "HbJHoaXtwNJI"
   },
   "source": [
    "## Pressure Drop Optimization\n",
    "\n",
    "Lets say we wanted to reduce the pressure drop in the system by changing the flow rate of the filtrate. Inuitively, we can predict that an increase in velocity of the fitlrate across the filter will increase the pressure drop - but by how much?\n",
    "\n",
    "Use the original dataset and modulate it in such a way that the pressure drop decreases when the rest of the analysis is performed.\n",
    "<br>\n",
    "\n",
    "> **Hint**: we can't speed up or slow down time, so we will have to change the flowrate.\n",
    "\n",
    "Now multiply the original list `V` by a scalar to change the data uniformly. Store the scaled data in the list `alt_V`."
   ]
  },
  {
   "cell_type": "code",
   "execution_count": null,
   "metadata": {
    "colab": {
     "base_uri": "https://localhost:8080/"
    },
    "id": "gkcluSvfxT28",
    "outputId": "c92b9fde-5fcb-405e-e431-90ea3641800b"
   },
   "outputs": [
    {
     "name": "stdout",
     "output_type": "stream",
     "text": [
      "The scaled flowrate data is: [1.1500000000000001, 3.65, 6.8, 8.5, 11.3] L/min\n"
     ]
    }
   ],
   "source": [
    "#use a hypothetical scaling factor\n",
    "\n",
    "# Add your solution here\n",
    "\n",
    "print(\"The scaled flowrate data is:\", alt_V,\"L/min\")"
   ]
  },
  {
   "cell_type": "markdown",
   "metadata": {
    "id": "eB4saBfnx_up"
   },
   "source": [
    "Write a `for` loop that repeats this analysis until the data produces the desired pressure drop for the system. Print how many iterations it takes to find your answer. Hint: your previous code will come in handy here! Your target $ΔP$ is $0.002 N/m^{2}$.\n",
    "\n",
    "`np.polyfit` and `np.poly1d` are useful tools for formulating linear trendlines using `numpy` arrays. More information is available here: (https://numpy.org/doc/stable/reference/generated/numpy.polyfit.html)\n"
   ]
  },
  {
   "cell_type": "code",
   "execution_count": null,
   "metadata": {
    "colab": {
     "base_uri": "https://localhost:8080/"
    },
    "id": "-HtOp-alyWB9",
    "outputId": "9c396d4c-ce94-4269-d96a-59ad3aa137b6"
   },
   "outputs": [
    {
     "name": "stdout",
     "output_type": "stream",
     "text": [
      "The pressure drop is 0.0033798262330838502 N/m^2\n",
      "The pressure drop is 0.0033118917602833696 N/m^2\n",
      "The pressure drop is 0.0032446469775620794 N/m^2\n",
      "The pressure drop is 0.003178091884919984 N/m^2\n",
      "The pressure drop is 0.0031122264823570814 N/m^2\n",
      "The pressure drop is 0.0030470507698733703 N/m^2\n",
      "The pressure drop is 0.002982564747468853 N/m^2\n",
      "The pressure drop is 0.0029187684151435285 N/m^2\n",
      "The pressure drop is 0.0028556617728973943 N/m^2\n",
      "The pressure drop is 0.0027932448207304557 N/m^2\n",
      "The pressure drop is 0.0027315175586427073 N/m^2\n",
      "The pressure drop is 0.002670479986634154 N/m^2\n",
      "The pressure drop is 0.0026101321047047924 N/m^2\n",
      "The pressure drop is 0.002550473912854621 N/m^2\n",
      "The pressure drop is 0.002491505411083646 N/m^2\n",
      "The pressure drop is 0.0024332265993918627 N/m^2\n",
      "The pressure drop is 0.0023756374777792718 N/m^2\n",
      "The pressure drop is 0.002318738046245873 N/m^2\n",
      "The pressure drop is 0.0022625283047916682 N/m^2\n",
      "The pressure drop is 0.0022070082534166547 N/m^2\n",
      "The pressure drop is 0.0021521778921208354 N/m^2\n",
      "The pressure drop is 0.002098037220904208 N/m^2\n",
      "The pressure drop is 0.002044586239766773 N/m^2\n",
      "The pressure drop is 0.0019918249487085302 N/m^2\n",
      "The analysis took 24  iterations at a factor of 0.7599999999999998\n",
      "The Ruth coefficient is 0.00013742447419106847\n"
     ]
    }
   ],
   "source": [
    "# Add your solution here\n",
    "\n",
    "#report iterations\n",
    "print(\"The analysis took\", count,\" iterations at a factor of\", factor)\n",
    "print(\"The Ruth coefficient is\", K_SI)"
   ]
  },
  {
   "cell_type": "markdown",
   "metadata": {
    "id": "bo3Mr8rHqr01"
   },
   "source": [
    "The code above solved for a root using direct iteration, but it can also be done using Newton's method. Consider the following function needed to perform root-finding using Newton's method. This function and additional information on Newton's method can be found in this notebook: (https://ndcbe.github.io/data-and-computing/notebooks/06/Newton-Raphson-Method-in-One-Dimension.html)"
   ]
  },
  {
   "cell_type": "code",
   "execution_count": null,
   "metadata": {
    "id": "FZj8GjpAq80U"
   },
   "outputs": [],
   "source": [
    "def newton(f,fprime,x0,epsilon=1.0e-6, LOUD=False, max_iter=50):\n",
    "    \"\"\"Find the root of the function f(x) via Newton-Raphson method\n",
    "    Args:\n",
    "        f: the function, in canoncial form, we want to fix the root of [Python function]\n",
    "        fprime: the derivative of f [Python function]\n",
    "        x0: initial guess [float]\n",
    "        epsilon: tolerance [float]\n",
    "        LOUD: toggle on/off print statements [boolean]\n",
    "        max_iter: maximum number of iterations [int]\n",
    "        \n",
    "    Returns:\n",
    "        estimate of root [float]\n",
    "    \"\"\"\n",
    "    \n",
    "    assert callable(f), \"Warning: 'f' should be a Python function\"\n",
    "    assert callable(fprime), \"Warning: 'fprime' should be a Python function\"\n",
    "    assert type(x0) is float or type(x0) is int, \"Warning: 'x0' should be a float or integer\"\n",
    "    assert type(epsilon) is float, \"Warning: 'eps' should be a float\"\n",
    "    assert type(max_iter) is int, \"Warning: 'max_iter' should be an integer\"\n",
    "    assert max_iter >= 0, \"Warning: 'max_iter' should be non-negative\"\n",
    "    \n",
    "    x = x0\n",
    "    if (LOUD):\n",
    "        print(\"x0 =\",x0)\n",
    "    iterations = 0\n",
    "    converged = False\n",
    "    \n",
    "    # Check if the residual is close enough to zero\n",
    "    while (not converged and iterations < max_iter):\n",
    "        \n",
    "        if (LOUD):\n",
    "            print(\"x_\",iterations+1,\"=\",x,\"-\",f(x),\"/\",\n",
    "                  fprime(x),\"=\",x - f(x)/fprime(x))\n",
    "        \n",
    "        #single-variable Newton's method equation\n",
    "        x = x - f(x)/fprime(x)\n",
    "        \n",
    "        # check if converged\n",
    "        if np.fabs(f(x)) < epsilon:\n",
    "            converged = True\n",
    "        \n",
    "        iterations += 1 \n",
    "    print(\"It took\",iterations,\"iterations\")\n",
    "    \n",
    "    if not converged:\n",
    "        print(\"Warning: Not a solution. Maximum number of iterations exceeded.\")\n",
    "    return x #return estimate of root"
   ]
  },
  {
   "cell_type": "markdown",
   "metadata": {
    "id": "asuUuhfuvNh8"
   },
   "source": [
    "Using these functions, determine what the Ruth constant in SI units `K_SI` will be when the pressure drop $ΔP$ is $0.002 N/m^{2}$. \n",
    "> **Hint**: Begin by making two functions to satisfy the terms of the Newton's method function: `Nonlinear_function`, which will return the canonical form of the equation we used above to solve for $ΔP$, and `Dnonlinear_function`, which returns the derivative of `Nonlinear function` with respect to the variable being solved for (`K_SI`)."
   ]
  },
  {
   "cell_type": "code",
   "execution_count": null,
   "metadata": {
    "colab": {
     "base_uri": "https://localhost:8080/"
    },
    "id": "qJaTNCvLvhcn",
    "outputId": "7fbf7c56-126d-432b-cff0-7d7460f7ca0f"
   },
   "outputs": [
    {
     "name": "stdout",
     "output_type": "stream",
     "text": [
      "x0 = 1\n",
      "x_ 1 = 1 - -14.491960849645977 / -14.493960849645978 = 0.00013798850574719967\n",
      "It took 1 iterations\n",
      "0.00013798850574719967\n"
     ]
    }
   ],
   "source": [
    "deltaP = 0.002 #N/m^2\n",
    "\n",
    "#Constants for system\n",
    "alpha = 4 #m/kg\n",
    "C = 1920 #kg/m^3\n",
    "mu = 2.9E-3 #kg/m*s\n",
    "A = 0.28 #m^2\n",
    "gc = 9.8 #kgf / kg*m *s^2\n",
    "\n",
    "# Add your solution here\n",
    "root = newton(Nonlinear_function,Dnonlinear_function,1,LOUD=True,max_iter=15)\n",
    "print(root)"
   ]
  },
  {
   "cell_type": "code",
   "execution_count": null,
   "metadata": {},
   "outputs": [],
   "source": []
  },
  {
   "cell_type": "markdown",
   "metadata": {
    "id": "8fxHqVJ2TiAf"
   },
   "source": [
    "In other systems, Newton's method will take several iterations to converge to a solution. Why do you think our system requires only one iteration to be solved?"
   ]
  },
  {
   "cell_type": "markdown",
   "metadata": {
    "id": "iJwZu0jXIaue"
   },
   "source": [
    "## Discussion Questions\n",
    "\n",
    "For the following questions, answer with 2-3 sentences each.\n",
    "\n",
    "1. How does setting up the mathematical model help us solve the problem?\n",
    "\n",
    "2. Can we define the Ruth equation without understanding the mathematical relationship between the variables?\n",
    "\n",
    "3. Why is the plot useful for understanding the relationship between the data? How does the plot help us determine the filter medium resistance?\n",
    "\n",
    "4. Why is it important that the pressure drop is the same when determining the size of the filter?\n",
    "\n",
    "5. What can we infer about the effect of filter medium resistance on yeast cake size over time?\n",
    "\n",
    "6. How can the filter be optimized to reduce pressure drop?\n",
    "\n",
    "7. This problem assumes a homogeneous slurry being passed through the filter. What effect would an unevenly distributed or clumpy mixture have on the properties of the filter? How would the plot derived in Section 1.4 change?\n",
    "\n"
   ]
  },
  {
   "cell_type": "code",
   "execution_count": null,
   "metadata": {},
   "outputs": [],
   "source": []
  }
 ],
 "metadata": {
  "colab": {
   "provenance": []
  },
  "kernelspec": {
   "display_name": "Python 3 (ipykernel)",
   "language": "python",
   "name": "python3"
  },
  "language_info": {
   "codemirror_mode": {
    "name": "ipython",
    "version": 3
   },
   "file_extension": ".py",
   "mimetype": "text/x-python",
   "name": "python",
   "nbconvert_exporter": "python",
   "pygments_lexer": "ipython3",
   "version": "3.9.12"
  }
 },
 "nbformat": 4,
 "nbformat_minor": 4
}
