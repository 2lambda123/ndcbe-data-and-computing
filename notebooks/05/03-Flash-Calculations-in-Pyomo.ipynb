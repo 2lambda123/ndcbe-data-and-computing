{
 "cells": [
  {
   "cell_type": "markdown",
   "metadata": {
    "colab_type": "text",
    "id": "uWElxhs6QiCg"
   },
   "source": [
    "# Flash Calculations in Pyomo\n"
   ]
  },
  {
   "cell_type": "markdown",
   "metadata": {},
   "source": [
    "<div style=\"background-color: rgba(0,255,0,0.05) ; padding: 10px; border: 1px solid darkgreen;\"> \n",
    "<b>Home Activity</b>: You are expected to read this entire notebook before class.\n",
    "</div>"
   ]
  },
  {
   "cell_type": "markdown",
   "metadata": {},
   "source": [
    "## Learning Objectives\n",
    "\n",
    "After studying this notebook, completing the activities, and asking questions in class, you should be able to:\n",
    "* Apply the process of creating a mathematical model and implementing it in pyomo to any nonlinear optimization problem.\n",
    "* Understand and interpret the solutions to a pyomo model."
   ]
  },
  {
   "cell_type": "code",
   "execution_count": 6,
   "metadata": {
    "tags": []
   },
   "outputs": [],
   "source": [
    "import numpy as np\n",
    "import matplotlib.pyplot as plt\n",
    "import pandas as pd\n",
    "from pyomo.environ import *"
   ]
  },
  {
   "cell_type": "markdown",
   "metadata": {},
   "source": [
    "## Flash Example Revisited\n",
    "\n",
    "![](../../media/flash2.png)\n",
    "\n",
    "Let's revist the flash example. Here is the **mathematical model**:\n",
    "\n",
    "Feed Specifications: $F = 1.0$ mol/s, $z_1$ = 0.5 mol/mol, $z_2$ = 0.5 mol/mol\n",
    "\n",
    "Given Equilibrium Data: $K_1$ = 3 mol/mol, $K_2$ = 0.05 mol/mol\n",
    "\n",
    "Overall Material Balance\n",
    "\n",
    "$$F = L + V$$\n",
    "\n",
    "Component Mass Balances\n",
    "\n",
    "$$V y_1 + L x_1 = F z_1$$\n",
    "\n",
    "$$V y_2 + L x_2 = F z_2$$\n",
    "\n",
    "Thermodynamic Equilibrium\n",
    "\n",
    "$$y_1 = K_1 x_1$$\n",
    "\n",
    "$$y_2 = K_2 x_2$$\n",
    "\n",
    "Summation\n",
    "\n",
    "$$y_1 + y_2 = x_1 + x_2$$\n",
    "\n",
    "And here is part of the **code** from The Newton's Method Notebook in Chapter 4:"
   ]
  },
  {
   "cell_type": "code",
   "execution_count": 7,
   "metadata": {
    "tags": []
   },
   "outputs": [],
   "source": [
    "def my_f(x):\n",
    "    ''' Nonlinear system of equations in canonical form F(x) = 0\n",
    "    Copied from Lecture 7.\n",
    "    \n",
    "    Arg:\n",
    "        x: vector of variables\n",
    "        \n",
    "    Returns:\n",
    "        r: residual, F(x)\n",
    "    \n",
    "    '''\n",
    "\n",
    "    # Initialize residuals\n",
    "    r = np.zeros(6)\n",
    "    \n",
    "    # given data\n",
    "    F = 1.0\n",
    "    z1 = 0.5\n",
    "    z2 = 0.5\n",
    "    K1 = 3\n",
    "    K2 = 0.05\n",
    "    \n",
    "    # copy values from x to more meaningful names\n",
    "    L = x[0]\n",
    "    V = x[1]\n",
    "    x1 = x[2]\n",
    "    x2 = x[3]\n",
    "    y1 = x[4]\n",
    "    y2 = x[5]\n",
    "    \n",
    "    # equation 1: overall mass balance\n",
    "    r[0] = V + L - F\n",
    "    \n",
    "    # equations 2 and 3: component mass balances\n",
    "    r[1] = V*y1 + L*x1 - F*z1\n",
    "    r[2] = V*y2 + L*x2 - F*z2\n",
    "    \n",
    "    # equation 4 and 5: equilibrium\n",
    "    r[3] = y1 - K1*x1\n",
    "    r[4] = y2 - K2*x2\n",
    "    \n",
    "    # equation 6: summation\n",
    "    r[5] = (y1 + y2) - (x1 + x2)\n",
    "    # This is known as the Rachford-Rice formulation for the summation constraint\n",
    "    \n",
    "    return r\n"
   ]
  },
  {
   "cell_type": "markdown",
   "metadata": {},
   "source": [
    "<div style=\"background-color: rgba(0,0,255,0.05) ; padding: 10px; border: 1px solid darkblue;\"> \n",
    "<b>Class Activity</b>: Complete the pyomo model below using the code above and solve the flash calculation.\n",
    "</div>"
   ]
  },
  {
   "cell_type": "code",
   "execution_count": 8,
   "metadata": {
    "tags": [
     "remove-output"
    ]
   },
   "outputs": [
    {
     "name": "stdout",
     "output_type": "stream",
     "text": [
      "1 Set Declarations\n",
      "    COMPS : Size=1, Index=None, Ordered=Insertion\n",
      "        Key  : Dimen : Domain : Size : Members\n",
      "        None :     1 :    Any :    2 : {1, 2}\n",
      "\n",
      "3 Param Declarations\n",
      "    F : Size=1, Index=None, Domain=Any, Default=None, Mutable=False\n",
      "        Key  : Value\n",
      "        None :   1.0\n",
      "    K : Size=2, Index=COMPS, Domain=Any, Default=None, Mutable=False\n",
      "        Key : Value\n",
      "          1 :     3\n",
      "          2 :  0.05\n",
      "    z : Size=2, Index=COMPS, Domain=Any, Default=None, Mutable=False\n",
      "        Key : Value\n",
      "          1 :   0.5\n",
      "          2 :   0.5\n",
      "\n",
      "4 Var Declarations\n",
      "    L : Size=1, Index=None\n",
      "        Key  : Lower : Value : Upper : Fixed : Stale : Domain\n",
      "        None :  None :   0.5 :  None : False : False :  Reals\n",
      "    V : Size=1, Index=None\n",
      "        Key  : Lower : Value : Upper : Fixed : Stale : Domain\n",
      "        None :  None :   0.5 :  None : False : False :  Reals\n",
      "    x : Size=2, Index=COMPS\n",
      "        Key : Lower : Value : Upper : Fixed : Stale : Domain\n",
      "          1 :     0 :   0.5 :   1.0 : False : False :  Reals\n",
      "          2 :     0 :   0.5 :   1.0 : False : False :  Reals\n",
      "    y : Size=2, Index=COMPS\n",
      "        Key : Lower : Value : Upper : Fixed : Stale : Domain\n",
      "          1 :     0 :   0.5 :   1.0 : False : False :  Reals\n",
      "          2 :     0 :   0.5 :   1.0 : False : False :  Reals\n",
      "\n",
      "1 Objective Declarations\n",
      "    obj : Size=1, Index=None, Active=True\n",
      "        Key  : Active : Sense    : Expression\n",
      "        None :   True : minimize :        1.0\n",
      "\n",
      "4 Constraint Declarations\n",
      "    component_mass_balance : Size=2, Index=COMPS, Active=True\n",
      "        Key : Lower : Body            : Upper : Active\n",
      "          1 :   0.5 : V*y[1] + L*x[1] :   0.5 :   True\n",
      "          2 :   0.5 : V*y[2] + L*x[2] :   0.5 :   True\n",
      "    equilibrium : Size=2, Index=COMPS, Active=True\n",
      "        Key : Lower : Body             : Upper : Active\n",
      "          1 :   0.0 :    3*x[1] - y[1] :   0.0 :   True\n",
      "          2 :   0.0 : 0.05*x[2] - y[2] :   0.0 :   True\n",
      "    overall_mass_balance : Size=1, Index=None, Active=True\n",
      "        Key  : Lower : Body  : Upper : Active\n",
      "        None :   1.0 : V + L :   1.0 :   True\n",
      "    summation : Size=1, Index=None, Active=True\n",
      "        Key  : Lower : Body                      : Upper : Active\n",
      "        None :   0.0 : y[1] - x[1] + y[2] - x[2] :   0.0 :   True\n",
      "\n",
      "13 Declarations: obj COMPS F z K L V x y overall_mass_balance component_mass_balance equilibrium summation\n"
     ]
    }
   ],
   "source": [
    "## Create a concrete model\n",
    "m = ConcreteModel()\n",
    "\n",
    "## Define the objective to be a constant\n",
    "m.obj = Objective(expr=1)\n",
    "\n",
    "## Define a set for components\n",
    "m.COMPS = Set(initialize=[1,2])\n",
    "\n",
    "## given data\n",
    "m.F = Param(initialize=1.0)\n",
    "m.z = Param(m.COMPS, initialize={1:0.5, 2:0.5})\n",
    "\n",
    "### BEGIN SOLUTION\n",
    "m.K = Param(m.COMPS, initialize={1:3, 2:0.05})\n",
    "### END SOLUTION\n",
    "\n",
    "## Define variables\n",
    "m.L = Var(initialize=0.5)\n",
    "m.V = Var(initialize=0.5)\n",
    "m.x = Var(m.COMPS, bounds=(0, 1.0), initialize={1:0.5, 2:0.5})\n",
    "### BEGIN SOLUTION\n",
    "m.y = Var(m.COMPS, bounds=(0, 1.0), initialize={1:0.5, 2:0.5})\n",
    "### END SOLUTION\n",
    "\n",
    "### Define equations\n",
    "\n",
    "# equation 1: overall mass balance\n",
    "m.overall_mass_balance = Constraint(expr=m.F == m.V + m.L)\n",
    "\n",
    "# equations 2 and 3: component mass balances\n",
    "def eq_comp_mass_balance(model, c):\n",
    "    ''' model: Pyomo model\n",
    "        c: set for components\n",
    "    '''\n",
    "    \n",
    "    return model.V * model.y[c] + model.L * model.x[c] == model.F * model.z[c]\n",
    "    \n",
    "m.component_mass_balance = Constraint(m.COMPS, rule=eq_comp_mass_balance)\n",
    "\n",
    "# equation 4 and 5: equilibrium\n",
    "### BEGIN SOLUTION\n",
    "def eq_equilibrium(model, c):\n",
    "    ''' model: Pyomo model\n",
    "        c: set for components\n",
    "    '''\n",
    "    \n",
    "    return model.K[c] * model.x[c] == model.y[c]\n",
    "    \n",
    "m.equilibrium = Constraint(m.COMPS, rule=eq_equilibrium)\n",
    "### END SOLUTION\n",
    "\n",
    "# equation 6: summation\n",
    "### BEGIN SOLUTION\n",
    "m.summation = Constraint(expr = 0 == sum(m.y[c] - m.x[c] for c in m.COMPS))\n",
    "### END SOLUTION\n",
    "# This is known as the Rachford-Rice formulation for the summation constraint\n",
    "\n",
    "## Print model\n",
    "m.pprint()"
   ]
  },
  {
   "cell_type": "code",
   "execution_count": 9,
   "metadata": {
    "tags": [
     "remove-output"
    ]
   },
   "outputs": [
    {
     "name": "stdout",
     "output_type": "stream",
     "text": [
      "Ipopt 3.12.13: \n",
      "\n",
      "******************************************************************************\n",
      "This program contains Ipopt, a library for large-scale nonlinear optimization.\n",
      " Ipopt is released as open source code under the Eclipse Public License (EPL).\n",
      "         For more information visit http://projects.coin-or.org/Ipopt\n",
      "******************************************************************************\n",
      "\n",
      "This is Ipopt version 3.12.13, running with linear solver mumps.\n",
      "NOTE: Other linear solvers might be more efficient (see Ipopt documentation).\n",
      "\n",
      "Number of nonzeros in equality constraint Jacobian...:       18\n",
      "Number of nonzeros in inequality constraint Jacobian.:        0\n",
      "Number of nonzeros in Lagrangian Hessian.............:        4\n",
      "\n",
      "Total number of variables............................:        6\n",
      "                     variables with only lower bounds:        0\n",
      "                variables with lower and upper bounds:        4\n",
      "                     variables with only upper bounds:        0\n",
      "Total number of equality constraints.................:        6\n",
      "Total number of inequality constraints...............:        0\n",
      "        inequality constraints with only lower bounds:        0\n",
      "   inequality constraints with lower and upper bounds:        0\n",
      "        inequality constraints with only upper bounds:        0\n",
      "\n",
      "iter    objective    inf_pr   inf_du lg(mu)  ||d||  lg(rg) alpha_du alpha_pr  ls\n",
      "   0  1.0000000e+00 1.00e+00 0.00e+00  -1.0 0.00e+00    -  0.00e+00 0.00e+00   0\n",
      "   1r 1.0000000e+00 1.00e+00 9.99e+02   0.0 0.00e+00    -  0.00e+00 4.77e-07R 22\n",
      "   2r 1.0000000e+00 2.15e-01 9.96e+02   0.0 4.94e+02    -  4.03e-03 2.01e-03f  1\n",
      "   3r 1.0000000e+00 1.49e-01 9.74e+02   0.0 2.80e+01    -  4.24e-02 3.09e-03f  1\n",
      "   4r 1.0000000e+00 2.09e-02 4.01e+02   0.0 4.27e+00    -  1.00e+00 3.96e-02f  1\n",
      "   5r 1.0000000e+00 8.82e-05 7.02e-01   0.0 3.19e-02    -  1.00e+00 1.00e+00f  1\n",
      "   6r 1.0000000e+00 1.00e-04 4.05e+00  -2.1 1.06e-03    -  9.99e-01 9.37e-01f  1\n",
      "   7r 1.0000000e+00 1.68e-07 4.08e-04  -2.1 2.83e-04    -  1.00e+00 1.00e+00f  1\n",
      "   8r 1.0000000e+00 7.23e-09 3.97e-02  -4.7 8.14e-06    -  1.00e+00 1.00e+00f  1\n",
      "\n",
      "Number of Iterations....: 8\n",
      "\n",
      "                                   (scaled)                 (unscaled)\n",
      "Objective...............:   1.0000000000000000e+00    1.0000000000000000e+00\n",
      "Dual infeasibility......:   0.0000000000000000e+00    0.0000000000000000e+00\n",
      "Constraint violation....:   7.2316008806194709e-09    7.2316008806194709e-09\n",
      "Complementarity.........:   0.0000000000000000e+00    0.0000000000000000e+00\n",
      "Overall NLP error.......:   7.2316008806194709e-09    7.2316008806194709e-09\n",
      "\n",
      "\n",
      "Number of objective function evaluations             = 10\n",
      "Number of objective gradient evaluations             = 3\n",
      "Number of equality constraint evaluations            = 35\n",
      "Number of inequality constraint evaluations          = 0\n",
      "Number of equality constraint Jacobian evaluations   = 10\n",
      "Number of inequality constraint Jacobian evaluations = 0\n",
      "Number of Lagrangian Hessian evaluations             = 8\n",
      "Total CPU secs in IPOPT (w/o function evaluations)   =      0.017\n",
      "Total CPU secs in NLP function evaluations           =      0.000\n",
      "\n",
      "EXIT: Optimal Solution Found.\n",
      "\b"
     ]
    }
   ],
   "source": [
    "## Solve the model\n",
    "\n",
    "# Specify the solver\n",
    "solver = SolverFactory('ipopt')\n",
    "\n",
    "# Solve!\n",
    "results = solver.solve(m, tee = True)"
   ]
  },
  {
   "cell_type": "code",
   "execution_count": 10,
   "metadata": {
    "tags": [
     "remove-output"
    ]
   },
   "outputs": [
    {
     "name": "stdout",
     "output_type": "stream",
     "text": [
      "L =  0.7236842155480943 mol/s\n",
      "x[ 1 ] =  32.20339046753034 mole %\n",
      "x[ 2 ] =  67.79661047778653 mole %\n",
      "\n",
      "V =  0.7236842155480943 mol/s\n",
      "y[ 1 ] =  96.61017140455846 mole %\n",
      "y[ 2 ] =  3.3898298007292382 mole %\n"
     ]
    }
   ],
   "source": [
    "## Examine the solution\n",
    "print(\"L = \",value(m.L),\"mol/s\")\n",
    "### BEGIN SOLUTION\n",
    "for c in m.COMPS:\n",
    "    print(\"x[\",c,\"] = \",value(m.x[c])*100,\"mole %\")\n",
    "    \n",
    "print(\"\\nV = \",value(m.L),\"mol/s\")\n",
    "for c in m.COMPS:\n",
    "    print(\"y[\",c,\"] = \",value(m.y[c])*100,\"mole %\")\n",
    "### END SOLUTION"
   ]
  }
 ],
 "metadata": {
  "colab": {
   "name": "L12-Optimization.ipynb",
   "provenance": [],
   "version": "0.3.2"
  },
  "kernelspec": {
   "display_name": "Python 3 (ipykernel)",
   "language": "python",
   "name": "python3"
  },
  "language_info": {
   "codemirror_mode": {
    "name": "ipython",
    "version": 3
   },
   "file_extension": ".py",
   "mimetype": "text/x-python",
   "name": "python",
   "nbconvert_exporter": "python",
   "pygments_lexer": "ipython3",
   "version": "3.9.12"
  }
 },
 "nbformat": 4,
 "nbformat_minor": 4
}
