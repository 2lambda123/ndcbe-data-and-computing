{
 "cells": [
  {
   "cell_type": "markdown",
   "metadata": {
    "colab_type": "text",
    "id": "uWElxhs6QiCg"
   },
   "source": [
    "# Class 10: Optimization and Pyomo\n",
    "\n",
    "&#169; University of Notre Dame. CBE 20258. Spring 2020."
   ]
  },
  {
   "cell_type": "markdown",
   "metadata": {},
   "source": [
    "<div style=\"background-color: rgba(0,255,0,0.05) ; padding: 10px; border: 1px solid darkgreen;\"> \n",
    "<b>Home Activity</b>: You are expected to read this entire notebook before class.\n",
    "</div>"
   ]
  },
  {
   "cell_type": "code",
   "execution_count": 1,
   "metadata": {
    "collapsed": true,
    "jupyter": {
     "outputs_hidden": true
    }
   },
   "outputs": [],
   "source": [
    "import numpy as np\n",
    "import matplotlib.pyplot as plt\n",
    "import pandas as pd\n",
    "from pyomo.environ import *"
   ]
  },
  {
   "cell_type": "markdown",
   "metadata": {},
   "source": [
    "<div style=\"background-color: rgba(0,0,255,0.05) ; padding: 10px; border: 1px solid darkblue;\"> \n",
    "<b>Class Activity</b>: Fill in the missing constraint.\n",
    "</div>"
   ]
  },
  {
   "cell_type": "code",
   "execution_count": 2,
   "metadata": {},
   "outputs": [
    {
     "name": "stdout",
     "output_type": "stream",
     "text": [
      "3 Var Declarations\n",
      "    x1 : Size=1, Index=None\n",
      "        Key  : Lower : Value : Upper : Fixed : Stale : Domain\n",
      "        None :   -10 :     1 :    10 : False : False :  Reals\n",
      "    x2 : Size=1, Index=None\n",
      "        Key  : Lower : Value : Upper : Fixed : Stale : Domain\n",
      "        None :   -10 :     1 :    10 : False : False :  Reals\n",
      "    x3 : Size=1, Index=None\n",
      "        Key  : Lower : Value : Upper : Fixed : Stale : Domain\n",
      "        None :   -10 :     1 :    10 : False : False :  Reals\n",
      "\n",
      "1 Objective Declarations\n",
      "    OBJ : Size=1, Index=None, Active=True\n",
      "        Key  : Active : Sense    : Expression\n",
      "        None :   True : minimize : x1**2 + 2*x2**2 - x3\n",
      "\n",
      "2 Constraint Declarations\n",
      "    h1 : Size=1, Index=None, Active=True\n",
      "        Key  : Lower : Body    : Upper : Active\n",
      "        None :   1.0 : x1 + x2 :   1.0 :   True\n",
      "    h2 : Size=1, Index=None, Active=True\n",
      "        Key  : Lower : Body           : Upper : Active\n",
      "        None :   5.0 : x1 + 2*x2 - x3 :   5.0 :   True\n",
      "\n",
      "6 Declarations: x1 x2 x3 OBJ h1 h2\n"
     ]
    }
   ],
   "source": [
    "# Create instance of concrete Pyomo model.\n",
    "# concrete means all of the sets and model data are specified at the time of model construction.\n",
    "# In this class, you'll use a concrete model.\n",
    "m = ConcreteModel()\n",
    "\n",
    "## Declare variables with initial values with bounds\n",
    "m.x1 = Var(initialize=1, bounds=(-10, 10))\n",
    "m.x2 = Var(initialize=1, bounds=(-10, 10))\n",
    "m.x3 = Var(initialize=1, bounds=(-10, 10))\n",
    "\n",
    "## Declare objective\n",
    "m.OBJ = Objective(expr=m.x1**2 + 2*m.x2**2 - m.x3, sense = minimize)\n",
    "\n",
    "## Declare equality constraints\n",
    "m.h1 = Constraint(expr= m.x1 + m.x2 == 1)\n",
    "\n",
    "### BEGIN SOLUTION\n",
    "m.h2 = Constraint(expr= m.x1 + 2*m.x2 - m.x3 == 5)\n",
    "### END SOLUTION\n",
    "\n",
    "## Display model\n",
    "m.pprint()"
   ]
  },
  {
   "cell_type": "markdown",
   "metadata": {},
   "source": [
    "We see a lot of information printed on the screen. For example, we see:\n",
    "\n",
    "```\n",
    "3 Var Declarations\n",
    "    x1 : Size=1, Index=None\n",
    "        Key  : Lower : Value : Upper : Fixed : Stale : Domain\n",
    "        None :   -10 :     1 :    10 : False : False :  Reals\n",
    "```\n",
    "\n",
    "This shows the lower bound, initial value, and upper bound for the variable named `x1`."
   ]
  },
  {
   "cell_type": "markdown",
   "metadata": {},
   "source": [
    "<div style=\"background-color: rgba(0,0,255,0.05) ; padding: 10px; border: 1px solid darkblue;\"> \n",
    "<b>Class Activity</b>: Run the code below.\n",
    "</div>"
   ]
  },
  {
   "cell_type": "code",
   "execution_count": 3,
   "metadata": {},
   "outputs": [
    {
     "name": "stdout",
     "output_type": "stream",
     "text": [
      "Ipopt 3.12.8: \n",
      "\n",
      "******************************************************************************\n",
      "This program contains Ipopt, a library for large-scale nonlinear optimization.\n",
      " Ipopt is released as open source code under the Eclipse Public License (EPL).\n",
      "         For more information visit http://projects.coin-or.org/Ipopt\n",
      "******************************************************************************\n",
      "\n",
      "This is Ipopt version 3.12.8, running with linear solver mumps.\n",
      "NOTE: Other linear solvers might be more efficient (see Ipopt documentation).\n",
      "\n",
      "Number of nonzeros in equality constraint Jacobian...:        5\n",
      "Number of nonzeros in inequality constraint Jacobian.:        0\n",
      "Number of nonzeros in Lagrangian Hessian.............:        2\n",
      "\n",
      "Total number of variables............................:        3\n",
      "                     variables with only lower bounds:        0\n",
      "                variables with lower and upper bounds:        3\n",
      "                     variables with only upper bounds:        0\n",
      "Total number of equality constraints.................:        2\n",
      "Total number of inequality constraints...............:        0\n",
      "        inequality constraints with only lower bounds:        0\n",
      "   inequality constraints with lower and upper bounds:        0\n",
      "        inequality constraints with only upper bounds:        0\n",
      "\n",
      "iter    objective    inf_pr   inf_du lg(mu)  ||d||  lg(rg) alpha_du alpha_pr  ls\n",
      "   0  2.0000000e+00 3.00e+00 3.33e-01  -1.0 0.00e+00    -  0.00e+00 0.00e+00   0\n",
      "   1  4.3065612e+00 0.00e+00 2.89e-01  -1.0 4.36e+00    -  6.72e-01 1.00e+00h  1\n",
      "   2  4.2501103e+00 8.88e-16 1.67e-16  -1.0 1.31e-01    -  1.00e+00 1.00e+00f  1\n",
      "   3  4.2500000e+00 0.00e+00 4.32e-16  -2.5 6.02e-03    -  1.00e+00 1.00e+00f  1\n",
      "   4  4.2500000e+00 0.00e+00 1.14e-16  -3.8 4.41e-05    -  1.00e+00 1.00e+00f  1\n",
      "   5  4.2500000e+00 0.00e+00 1.31e-16  -5.7 1.98e-06    -  1.00e+00 1.00e+00f  1\n",
      "   6  4.2500000e+00 0.00e+00 3.08e-16  -8.6 2.45e-08    -  1.00e+00 1.00e+00f  1\n",
      "\n",
      "Number of Iterations....: 6\n",
      "\n",
      "                                   (scaled)                 (unscaled)\n",
      "Objective...............:   4.2500000000000000e+00    4.2500000000000000e+00\n",
      "Dual infeasibility......:   3.0826231515081323e-16    3.0826231515081323e-16\n",
      "Constraint violation....:   0.0000000000000000e+00    0.0000000000000000e+00\n",
      "Complementarity.........:   2.5059105039901454e-09    2.5059105039901454e-09\n",
      "Overall NLP error.......:   2.5059105039901454e-09    2.5059105039901454e-09\n",
      "\n",
      "\n",
      "Number of objective function evaluations             = 7\n",
      "Number of objective gradient evaluations             = 7\n",
      "Number of equality constraint evaluations            = 7\n",
      "Number of inequality constraint evaluations          = 0\n",
      "Number of equality constraint Jacobian evaluations   = 7\n",
      "Number of inequality constraint Jacobian evaluations = 0\n",
      "Number of Lagrangian Hessian evaluations             = 6\n",
      "Total CPU secs in IPOPT (w/o function evaluations)   =      0.000\n",
      "Total CPU secs in NLP function evaluations           =      0.000\n",
      "\n",
      "EXIT: Optimal Solution Found.\n"
     ]
    }
   ],
   "source": [
    "## Specify IPOPT as solver\n",
    "solver = SolverFactory('ipopt')\n",
    "\n",
    "## Solve the model\n",
    "results = solver.solve(m, tee = True)"
   ]
  },
  {
   "cell_type": "markdown",
   "metadata": {},
   "source": [
    "Now let's inspect the solution. We'll use the function `value()` to extract the numeric value from the Pyomo variable object."
   ]
  },
  {
   "cell_type": "code",
   "execution_count": 4,
   "metadata": {},
   "outputs": [
    {
     "name": "stdout",
     "output_type": "stream",
     "text": [
      "x1 =  0.49999999996668265\n",
      "x2 =  0.5000000000333173\n",
      "x3 =  -3.4999999999666827\n",
      "\n",
      "\n"
     ]
    }
   ],
   "source": [
    "## Return the solution\n",
    "print(\"x1 = \",value(m.x1))\n",
    "print(\"x2 = \",value(m.x2))\n",
    "print(\"x3 = \",value(m.x3))\n",
    "print(\"\\n\")"
   ]
  },
  {
   "cell_type": "markdown",
   "metadata": {},
   "source": [
    "<div style=\"background-color: rgba(0,0,255,0.05) ; padding: 10px; border: 1px solid darkblue;\"> \n",
    "<b>Class Activity</b>: First write the constraints as a linear system of equations. Then complete the function below to solve the following constraints. We will treat $x_1$ and $x_2$ as the unknown variables. We will treat $x_3$ as a known constant (parameter).</div>"
   ]
  },
  {
   "cell_type": "code",
   "execution_count": 5,
   "metadata": {},
   "outputs": [
    {
     "data": {
      "image/png": "[encoded data removed]",
      "text/plain": [
       "<Figure size 432x288 with 1 Axes>"
      ]
     },
     "metadata": {},
     "output_type": "display_data"
    }
   ],
   "source": [
    "def constraints(x3):\n",
    "    ''' Solve the linear constraints\n",
    "    \n",
    "    Args:\n",
    "        x3: Value for the decision variable x3\n",
    "        \n",
    "    Returns:\n",
    "        x1 and x2: Values calculated from the constraints\n",
    "    '''\n",
    "\n",
    "    ### BEGIN HIDDEN SOLUTION\n",
    "    A = np.array([[1, 1],[1, 2]])\n",
    "    b = np.array([1, 5+x3])\n",
    "    ### END HIDDEN SOLUTION\n",
    "\n",
    "    z = np.linalg.solve(A,b)\n",
    "    x1 = z[0]\n",
    "    x2 = z[1]\n",
    "    return x1, x2\n",
    "\n",
    "# Define a lambda function to plot the objective\n",
    "objective = lambda x1, x2, x3: x1**2 + 2*x2**2 - x3\n",
    "\n",
    "# Guess many values of x3.\n",
    "x3_guesses = np.linspace(-10,4,21)\n",
    "obj = []\n",
    "for x3 in x3_guesses:\n",
    "    # Solve the constraints to determine x1 and x2\n",
    "    x1, x2 = constraints(x3)\n",
    "    # Calculate the store the objective function value\n",
    "    obj.append(objective(x1,x2,x3))\n",
    "\n",
    "# Plot the objective function value versus x3\n",
    "plt.plot(x3_guesses, obj,color='blue',linewidth=2,label=\"Sensitivity Analysis\")\n",
    "plt.xlabel(\"$x_3$\",fontsize=18)\n",
    "plt.ylabel(\"$f(x)$\",fontsize=18)\n",
    "x3_sln = value(m.x3)\n",
    "obj_sln = value(m.OBJ)\n",
    "plt.plot(x3_sln, obj_sln,marker='o',color='red',markersize=10,label=\"Pyomo Solution\",linestyle='')\n",
    "plt.legend()\n",
    "plt.grid(True)\n",
    "plt.show()"
   ]
  },
  {
   "cell_type": "markdown",
   "metadata": {
    "colab_type": "text",
    "id": "D9oQ2D8nQiCl"
   },
   "source": [
    "Suppose we have \\\\$20,000 to invest in planting cherry trees.  We can plant a mix of sour (dessert) cherries and sweet cherries (the ones you like to eat).  The sour cherry trees cost \\\\$20 each, and the sweet cherry trees cost \\\\$10 each.  The sweet cherries, however, can be sold for \\\\$100 per tree per year when mature if fully pollinated, while the sour cherries can be sold for only \\\\$25 per tree when mature.  Finally, the yield per tree of the sweet cherry trees depends on their proximity to the sour cherry trees, since they are not self-pollinating.  If the number of sour trees is given by $x_1$ and the number of sweet trees is $x_2$, we shall take the yield (the fraction of the fully pollinated yield) of the sweet trees to be $x_1$ / ($x_2$ + $x_1$)."
   ]
  },
  {
   "cell_type": "markdown",
   "metadata": {
    "colab_type": "text",
    "id": "x49XIy9HQiCm"
   },
   "source": [
    "### 10d-i. Step 1: Develop Mathematical Model, Convert to Canonical Form"
   ]
  },
  {
   "cell_type": "markdown",
   "metadata": {},
   "source": [
    "<div style=\"background-color: rgba(0,0,255,0.05) ; padding: 10px; border: 1px solid darkblue;\"> \n",
    "<b>Class Activity</b>: Write the optimization problem in canonical form. Turn in on paper as you leave class.\n",
    "</div>"
   ]
  },
  {
   "cell_type": "markdown",
   "metadata": {
    "colab_type": "text",
    "id": "Pqux-mP4QiCn"
   },
   "source": [
    "### 10d-ii. Step 2: Solve in Python"
   ]
  },
  {
   "cell_type": "markdown",
   "metadata": {},
   "source": [
    "<div style=\"background-color: rgba(0,0,255,0.05) ; padding: 10px; border: 1px solid darkblue;\"> \n",
    "<b>Class Activity</b>: Finish the Pyomo model below.\n",
    "</div>"
   ]
  },
  {
   "cell_type": "code",
   "execution_count": 6,
   "metadata": {
    "colab": {},
    "colab_type": "code",
    "id": "ygucF2-lQiCn"
   },
   "outputs": [
    {
     "name": "stdout",
     "output_type": "stream",
     "text": [
      "2 Var Declarations\n",
      "    x1 : Size=1, Index=None\n",
      "        Key  : Lower : Value : Upper : Fixed : Stale : Domain\n",
      "        None :     0 :     1 :  None : False : False :  Reals\n",
      "    x2 : Size=1, Index=None\n",
      "        Key  : Lower : Value : Upper : Fixed : Stale : Domain\n",
      "        None :     0 :     1 :  None : False : False :  Reals\n",
      "\n",
      "1 Objective Declarations\n",
      "    obj : Size=1, Index=None, Active=True\n",
      "        Key  : Active : Sense    : Expression\n",
      "        None :   True : maximize : 25*x1 + 100*x2*x1*(1/(x1 + x2))\n",
      "\n",
      "1 Constraint Declarations\n",
      "    con : Size=1, Index=None, Active=True\n",
      "        Key  : Lower : Body                  : Upper : Active\n",
      "        None :   0.0 : 20000 - 20*x1 - 10*x2 :  +Inf :   True\n",
      "\n",
      "4 Declarations: x1 x2 obj con\n"
     ]
    }
   ],
   "source": [
    "## Problem Specifications\n",
    "\n",
    "# Concrete model\n",
    "m = ConcreteModel()\n",
    "\n",
    "# Budget\n",
    "b = 20000;\n",
    "\n",
    "# Cost per sour tree\n",
    "c1 = 20;\n",
    "\n",
    "# Cost per sweet tree\n",
    "c2 = 10;\n",
    "\n",
    "# Revenue per fully polinated sour tree\n",
    "p1 = 25;\n",
    "\n",
    "# Revenue per fully polinated sweet tree\n",
    "p2 = 100\n",
    "\n",
    "## Define variables\n",
    "m.x1 = Var(initialize=1, bounds=(0,None)) # sour cherries\n",
    "### BEGIN SOLUTION\n",
    "m.x2 = Var(initialize=1, bounds=(0,None)) # sweet cherries\n",
    "### END SOLUTION\n",
    "\n",
    "## Objective function\n",
    "### BEGIN SOLUTION\n",
    "m.obj = Objective(expr=p1*m.x1 + p2*m.x2*m.x1/(m.x1 + m.x2), sense = maximize)\n",
    "### END SOLUTION\n",
    "\n",
    "## Constraint\n",
    "### BEGIN SOLUTION\n",
    "m.con = Constraint(expr=b - c1*m.x1 - c2*m.x2 >= 0)\n",
    "### END SOLUTION\n",
    "\n",
    "## Print the model\n",
    "m.pprint()"
   ]
  },
  {
   "cell_type": "markdown",
   "metadata": {},
   "source": [
    "<div style=\"background-color: rgba(0,0,255,0.05) ; padding: 10px; border: 1px solid darkblue;\"> \n",
    "<b>Class Activity</b>: Solve the Pyomo model.\n",
    "</div>"
   ]
  },
  {
   "cell_type": "code",
   "execution_count": 7,
   "metadata": {
    "colab": {
     "base_uri": "https://localhost:8080/",
     "height": 175
    },
    "colab_type": "code",
    "executionInfo": {
     "elapsed": 206,
     "status": "ok",
     "timestamp": 1550762936360,
     "user": {
      "displayName": "Alexander Dowling",
      "photoUrl": "https://lh3.googleusercontent.com/-LChdQ2m5OQE/AAAAAAAAAAI/AAAAAAAAAA0/JeXJe4vQJ7M/s64/photo.jpg",
      "userId": "00988067626794866502"
     },
     "user_tz": 300
    },
    "id": "oMMF5x_8QiCq",
    "outputId": "52129f54-dd30-46c7-e596-767364b6a380"
   },
   "outputs": [
    {
     "name": "stdout",
     "output_type": "stream",
     "text": [
      "Ipopt 3.12.8: \n",
      "\n",
      "******************************************************************************\n",
      "This program contains Ipopt, a library for large-scale nonlinear optimization.\n",
      " Ipopt is released as open source code under the Eclipse Public License (EPL).\n",
      "         For more information visit http://projects.coin-or.org/Ipopt\n",
      "******************************************************************************\n",
      "\n",
      "This is Ipopt version 3.12.8, running with linear solver mumps.\n",
      "NOTE: Other linear solvers might be more efficient (see Ipopt documentation).\n",
      "\n",
      "Number of nonzeros in equality constraint Jacobian...:        0\n",
      "Number of nonzeros in inequality constraint Jacobian.:        2\n",
      "Number of nonzeros in Lagrangian Hessian.............:        3\n",
      "\n",
      "Total number of variables............................:        2\n",
      "                     variables with only lower bounds:        2\n",
      "                variables with lower and upper bounds:        0\n",
      "                     variables with only upper bounds:        0\n",
      "Total number of equality constraints.................:        0\n",
      "Total number of inequality constraints...............:        1\n",
      "        inequality constraints with only lower bounds:        1\n",
      "   inequality constraints with lower and upper bounds:        0\n",
      "        inequality constraints with only upper bounds:        0\n",
      "\n",
      "iter    objective    inf_pr   inf_du lg(mu)  ||d||  lg(rg) alpha_du alpha_pr  ls\n",
      "   0 -7.5000000e+01 0.00e+00 1.56e+00  -1.0 0.00e+00    -  0.00e+00 0.00e+00   0\n",
      "   1 -2.8386343e+03 0.00e+00 4.86e+01  -1.0 1.11e+03    -  2.61e-02 1.00e+00f  1\n",
      "   2 -4.9527029e+04 0.00e+00 2.97e+01  -1.0 4.75e+04    -  2.32e-02 3.93e-01f  1\n",
      "   3 -4.9994783e+04 0.00e+00 1.78e+01  -1.0 4.67e+02    -  1.00e+00 4.00e-01f  1\n",
      "   4 -4.9999901e+04 0.00e+00 6.46e-04  -1.0 3.50e+00    -  1.00e+00 1.00e+00f  1\n",
      "   5 -4.9999998e+04 0.00e+00 3.09e-08  -2.5 3.88e-02    -  1.00e+00 1.00e+00f  1\n",
      "   6 -5.0000000e+04 0.00e+00 1.50e-09  -3.8 1.07e-03    -  1.00e+00 1.00e+00f  1\n",
      "   7 -5.0000000e+04 0.00e+00 1.84e-11  -5.7 5.94e-05    -  1.00e+00 1.00e+00f  1\n",
      "   8 -5.0000000e+04 0.00e+00 3.56e-14  -8.6 7.37e-07    -  1.00e+00 1.00e+00f  1\n",
      "\n",
      "Number of Iterations....: 8\n",
      "\n",
      "                                   (scaled)                 (unscaled)\n",
      "Objective...............:  -5.0000000499997492e+04   -5.0000000499997492e+04\n",
      "Dual infeasibility......:   3.5611230939482730e-14    3.5611230939482730e-14\n",
      "Constraint violation....:   0.0000000000000000e+00    0.0000000000000000e+00\n",
      "Complementarity.........:   2.5102053768935566e-09    2.5102053768935566e-09\n",
      "Overall NLP error.......:   2.5102053768935566e-09    2.5102053768935566e-09\n",
      "\n",
      "\n",
      "Number of objective function evaluations             = 9\n",
      "Number of objective gradient evaluations             = 9\n",
      "Number of equality constraint evaluations            = 0\n",
      "Number of inequality constraint evaluations          = 9\n",
      "Number of equality constraint Jacobian evaluations   = 0\n",
      "Number of inequality constraint Jacobian evaluations = 9\n",
      "Number of Lagrangian Hessian evaluations             = 8\n",
      "Total CPU secs in IPOPT (w/o function evaluations)   =      0.000\n",
      "Total CPU secs in NLP function evaluations           =      0.000\n",
      "\n",
      "EXIT: Optimal Solution Found.\n"
     ]
    }
   ],
   "source": [
    "## Solve the model\n",
    "# Recall, we already defined solver\n",
    "results = solver.solve(m, tee = True)"
   ]
  },
  {
   "cell_type": "code",
   "execution_count": 8,
   "metadata": {
    "colab": {
     "base_uri": "https://localhost:8080/",
     "height": 52
    },
    "colab_type": "code",
    "executionInfo": {
     "elapsed": 240,
     "status": "ok",
     "timestamp": 1550762964065,
     "user": {
      "displayName": "Alexander Dowling",
      "photoUrl": "https://lh3.googleusercontent.com/-LChdQ2m5OQE/AAAAAAAAAAI/AAAAAAAAAA0/JeXJe4vQJ7M/s64/photo.jpg",
      "userId": "00988067626794866502"
     },
     "user_tz": 300
    },
    "id": "gXbyh_NPQiCw",
    "outputId": "df539bc2-a7aa-4274-9390-364e8404a710"
   },
   "outputs": [
    {
     "name": "stdout",
     "output_type": "stream",
     "text": [
      "Plant  666.6666733332888 sour cherry trees\n",
      "Plant  666.6666733333219 sweet cherry trees\n",
      "Giving revenue of 50000.00049999749 dollars\n"
     ]
    }
   ],
   "source": [
    "# Print the solution\n",
    "print(\"Plant \",value(m.x1),\"sour cherry trees\")\n",
    "print(\"Plant \",value(m.x2),\"sweet cherry trees\")\n",
    "print(\"Giving revenue of\",value(m.obj),\"dollars\")"
   ]
  },
  {
   "cell_type": "markdown",
   "metadata": {
    "colab_type": "text",
    "id": "rDnN-uTJQiCy"
   },
   "source": [
    "### 10d-iii. Interpret Answer\n",
    "\n",
    "Can we plant 2/3 of a cherry tree?"
   ]
  },
  {
   "cell_type": "markdown",
   "metadata": {},
   "source": [
    "<div style=\"background-color: rgba(0,0,255,0.05) ; padding: 10px; border: 1px solid darkblue;\"> \n",
    "<b>Class Activity</b>: Determine the best way to round the solution.\n",
    "</div>"
   ]
  },
  {
   "cell_type": "code",
   "execution_count": 9,
   "metadata": {
    "colab": {},
    "colab_type": "code",
    "id": "uA0fo99TQiCz"
   },
   "outputs": [
    {
     "name": "stdout",
     "output_type": "stream",
     "text": [
      "Plant  667 sour cherry trees\n",
      "Plant  666.0000066598999 sweet cherry trees\n",
      "Giving revenue of 49999.981412058725 dollars\n"
     ]
    }
   ],
   "source": [
    "## Let's plant 667 sour trees and resolve\n",
    "m.x1.fix(667)\n",
    "results = solver.solve(m, tee = False)\n",
    "print(\"Plant \",value(m.x1),\"sour cherry trees\")\n",
    "print(\"Plant \",value(m.x2),\"sweet cherry trees\")\n",
    "print(\"Giving revenue of\",value(m.obj),\"dollars\")"
   ]
  },
  {
   "cell_type": "code",
   "execution_count": 10,
   "metadata": {
    "colab": {
     "base_uri": "https://localhost:8080/",
     "height": 70
    },
    "colab_type": "code",
    "executionInfo": {
     "elapsed": 295,
     "status": "ok",
     "timestamp": 1550763003875,
     "user": {
      "displayName": "Alexander Dowling",
      "photoUrl": "https://lh3.googleusercontent.com/-LChdQ2m5OQE/AAAAAAAAAAI/AAAAAAAAAA0/JeXJe4vQJ7M/s64/photo.jpg",
      "userId": "00988067626794866502"
     },
     "user_tz": 300
    },
    "id": "awKfm63sQiC1",
    "outputId": "2a94e9b9-f1ec-4387-ccd2-c4b0b824d7c5"
   },
   "outputs": [
    {
     "name": "stdout",
     "output_type": "stream",
     "text": [
      "Plant  666 sour cherry trees\n",
      "Plant  668.0000066798995 sweet cherry trees\n",
      "Giving revenue of 49999.92520397838 dollars\n"
     ]
    }
   ],
   "source": [
    "## What if we instead plant 666 sour trees?\n",
    "m.x1.fix(666)\n",
    "results = solver.solve(m, tee = False)\n",
    "print(\"Plant \",value(m.x1),\"sour cherry trees\")\n",
    "print(\"Plant \",value(m.x2),\"sweet cherry trees\")\n",
    "print(\"Giving revenue of\",value(m.obj),\"dollars\")"
   ]
  },
  {
   "cell_type": "markdown",
   "metadata": {},
   "source": [
    "Grid-scale battery energy storage systems (BESS) are expected to play a critical role in supporting wide-spread adoption of renewable electricity. In an effort to *future proof* their electric grid, California has mandated over **1 GW** of BESS power capacity be brought online by 2020. For context, the peak electricity demand in California during 2016 was 46.2 GW: https://www.caiso.com/Documents/CaliforniaISOPeakLoadHistory.pdf}\n",
    "\n",
    "For policy-makers, technology developers, and investors, there is a critical need to understand the true value of energy storage systems. In California and many regions throughout the United States, electricity is purchased and sold in a wholesale market with time-varying prices (units of \\$ / MWh). In principle, a smart battery operator wants to **buy low** (charge) and **sell high** (discharge). This is known as energy arbitrage. "
   ]
  },
  {
   "cell_type": "markdown",
   "metadata": {},
   "source": [
    "### 10e-i. Visualize Price Data\n",
    "\n",
    "The text file `Prices_DAM_ALTA2G_7_B1.csv` contains an entire year of wholesale energy prices for Chino, CA. Let's import and inspect the data using Pandas. Our text file contains only one column and no header. We will manually specify \"Price\" as the name for the single column."
   ]
  },
  {
   "cell_type": "markdown",
   "metadata": {},
   "source": [
    "<div style=\"background-color: rgba(0,0,255,0.05) ; padding: 10px; border: 1px solid darkblue;\"> \n",
    "<b>Class Activity</b>: Run the code below.\n",
    "</div>"
   ]
  },
  {
   "cell_type": "code",
   "execution_count": 11,
   "metadata": {},
   "outputs": [
    {
     "data": {
      "text/html": [
       "<div>\n",
       "<style scoped>\n",
       "    .dataframe tbody tr th:only-of-type {\n",
       "        vertical-align: middle;\n",
       "    }\n",
       "\n",
       "    .dataframe tbody tr th {\n",
       "        vertical-align: top;\n",
       "    }\n",
       "\n",
       "    .dataframe thead th {\n",
       "        text-align: right;\n",
       "    }\n",
       "</style>\n",
       "<table border=\"1\" class=\"dataframe\">\n",
       "  <thead>\n",
       "    <tr style=\"text-align: right;\">\n",
       "      <th></th>\n",
       "      <th>Price</th>\n",
       "    </tr>\n",
       "  </thead>\n",
       "  <tbody>\n",
       "    <tr>\n",
       "      <th>0</th>\n",
       "      <td>36.757</td>\n",
       "    </tr>\n",
       "    <tr>\n",
       "      <th>1</th>\n",
       "      <td>34.924</td>\n",
       "    </tr>\n",
       "    <tr>\n",
       "      <th>2</th>\n",
       "      <td>33.389</td>\n",
       "    </tr>\n",
       "    <tr>\n",
       "      <th>3</th>\n",
       "      <td>32.035</td>\n",
       "    </tr>\n",
       "    <tr>\n",
       "      <th>4</th>\n",
       "      <td>33.694</td>\n",
       "    </tr>\n",
       "  </tbody>\n",
       "</table>\n",
       "</div>"
      ],
      "text/plain": [
       "    Price\n",
       "0  36.757\n",
       "1  34.924\n",
       "2  33.389\n",
       "3  32.035\n",
       "4  33.694"
      ]
     },
     "execution_count": 11,
     "metadata": {},
     "output_type": "execute_result"
    }
   ],
   "source": [
    "data = pd.read_csv('Prices_DAM_ALTA2G_7_B1.csv',names=['Price'])\n",
    "data.head()"
   ]
  },
  {
   "cell_type": "markdown",
   "metadata": {},
   "source": [
    "Let's compute some summary statistics."
   ]
  },
  {
   "cell_type": "code",
   "execution_count": 12,
   "metadata": {},
   "outputs": [
    {
     "data": {
      "text/html": [
       "<div>\n",
       "<style scoped>\n",
       "    .dataframe tbody tr th:only-of-type {\n",
       "        vertical-align: middle;\n",
       "    }\n",
       "\n",
       "    .dataframe tbody tr th {\n",
       "        vertical-align: top;\n",
       "    }\n",
       "\n",
       "    .dataframe thead th {\n",
       "        text-align: right;\n",
       "    }\n",
       "</style>\n",
       "<table border=\"1\" class=\"dataframe\">\n",
       "  <thead>\n",
       "    <tr style=\"text-align: right;\">\n",
       "      <th></th>\n",
       "      <th>Price</th>\n",
       "    </tr>\n",
       "  </thead>\n",
       "  <tbody>\n",
       "    <tr>\n",
       "      <th>count</th>\n",
       "      <td>8760.000000</td>\n",
       "    </tr>\n",
       "    <tr>\n",
       "      <th>mean</th>\n",
       "      <td>32.516994</td>\n",
       "    </tr>\n",
       "    <tr>\n",
       "      <th>std</th>\n",
       "      <td>9.723477</td>\n",
       "    </tr>\n",
       "    <tr>\n",
       "      <th>min</th>\n",
       "      <td>-2.128700</td>\n",
       "    </tr>\n",
       "    <tr>\n",
       "      <th>25%</th>\n",
       "      <td>26.510000</td>\n",
       "    </tr>\n",
       "    <tr>\n",
       "      <th>50%</th>\n",
       "      <td>30.797500</td>\n",
       "    </tr>\n",
       "    <tr>\n",
       "      <th>75%</th>\n",
       "      <td>37.544750</td>\n",
       "    </tr>\n",
       "    <tr>\n",
       "      <th>max</th>\n",
       "      <td>116.340000</td>\n",
       "    </tr>\n",
       "  </tbody>\n",
       "</table>\n",
       "</div>"
      ],
      "text/plain": [
       "             Price\n",
       "count  8760.000000\n",
       "mean     32.516994\n",
       "std       9.723477\n",
       "min      -2.128700\n",
       "25%      26.510000\n",
       "50%      30.797500\n",
       "75%      37.544750\n",
       "max     116.340000"
      ]
     },
     "execution_count": 12,
     "metadata": {},
     "output_type": "execute_result"
    }
   ],
   "source": [
    "data.describe()"
   ]
  },
  {
   "cell_type": "markdown",
   "metadata": {},
   "source": [
    "Let's make a histogram."
   ]
  },
  {
   "cell_type": "code",
   "execution_count": 13,
   "metadata": {},
   "outputs": [
    {
     "data": {
      "image/png": "[encoded data removed]",
      "text/plain": [
       "<Figure size 432x288 with 1 Axes>"
      ]
     },
     "metadata": {},
     "output_type": "display_data"
    }
   ],
   "source": [
    "plt.hist(data['Price'])\n",
    "plt.xlabel(\"Price [$/MWh]\")\n",
    "plt.ylabel(\"Frequency\")\n",
    "plt.show()"
   ]
  },
  {
   "cell_type": "markdown",
   "metadata": {},
   "source": [
    "Finally, let's plot the prices for the first three days in the data set."
   ]
  },
  {
   "cell_type": "code",
   "execution_count": 14,
   "metadata": {},
   "outputs": [
    {
     "data": {
      "image/png": "[encoded data removed]",
      "text/plain": [
       "<Figure size 432x288 with 1 Axes>"
      ]
     },
     "metadata": {},
     "output_type": "display_data"
    }
   ],
   "source": [
    "# determine number of hours to plot\n",
    "nT = 3*24\n",
    "\n",
    "# determine hour we should start counting\n",
    "# 0 means start counting at the first hour, i.e., midnight on January 1, 2015\n",
    "t = 0 + np.arange(nT+1)\n",
    "price_data = data[\"Price\"][t]\n",
    "\n",
    "# Make plot.\n",
    "plt.figure()\n",
    "plt.step(t,price_data,'m.-',where='post')\n",
    "plt.xlabel('Time (hr)')\n",
    "plt.ylabel('Energy Price ($/MWh)')\n",
    "plt.xticks(range(0,nT+1,12))\n",
    "plt.show()"
   ]
  },
  {
   "cell_type": "markdown",
   "metadata": {},
   "source": [
    "### 10e-ii. Create Mathematical Model"
   ]
  },
  {
   "cell_type": "markdown",
   "metadata": {},
   "source": [
    "For simplicity, assume a battery energy storage system is *price-taker*, i.e., they are subject to the market price but their actions do not influence the market price. During each hour $t$, the battery operator decided to either charge (buy energy) or discharge (sell energy) at rates $c_t$ and $d_t$ (units: MW), respectively, subject to the market price $p_t$ (units: \\$/MWh). Assume the battery has a round trip efficiency of $\\eta = 88\\%$. Let $E_t$ represent the state-of-charge at time $t$ (units: MW)."
   ]
  },
  {
   "cell_type": "markdown",
   "metadata": {},
   "source": [
    "![battery](battery.png)"
   ]
  },
  {
   "cell_type": "markdown",
   "metadata": {},
   "source": [
    "<div style=\"background-color: rgba(0,0,255,0.05) ; padding: 10px; border: 1px solid darkblue;\"> \n",
    "<b>Class Activity</b>: Using the picture above, sketch the battery system. Label $d_t$, $c_t$, $E_t$, and $p_t$ on your sketch. Verify the units are consistent.\n",
    "</div>"
   ]
  },
  {
   "cell_type": "markdown",
   "metadata": {},
   "source": [
    "We can now write a constrained optimization problem to compute the optimal market participation strategy (when to buy and sell)."
   ]
  },
  {
   "cell_type": "markdown",
   "metadata": {},
   "source": [
    "\\begin{align*}\n",
    "    \\max_{E,d,c} \\quad & \\psi := \\sum_{t = 1}^{N} p_{t} (d_{t} - c_{t}) \\\\\n",
    "\\mathrm{s.t.} \\quad & E_{t} = E_{t-1} + c_{t} \\sqrt{\\eta} - \\frac{d_{t}}{\\sqrt{\\eta}}, ~~ \\forall ~ t \\in \\{1,...,N\\} \\\\\n",
    "    & 0 \\leq c_{t} \\leq c_{max}, ~~ 0 \\leq d_{t} \\leq d_{max}, \\nonumber \\\\\n",
    "    & 0 \\leq E_{t} \\leq E_{max},  ~~\\forall ~ t \\in \\{1,...,N\\}\n",
    "\\end{align*}"
   ]
  },
  {
   "cell_type": "markdown",
   "metadata": {},
   "source": [
    "<div style=\"background-color: rgba(0,0,255,0.05) ; padding: 10px; border: 1px solid darkblue;\"> \n",
    "<b>Class Activity</b>: Discuss the optimization problem above with a partner. Then, write a few sentences to explain each equation.\n",
    "</div>"
   ]
  },
  {
   "cell_type": "markdown",
   "metadata": {},
   "source": [
    "### 10e-iii. Define Pyomo Model"
   ]
  },
  {
   "cell_type": "markdown",
   "metadata": {},
   "source": [
    "We can now write the optimization problem in Pyomo. We will create a set `TIME` to write the model compactly."
   ]
  },
  {
   "cell_type": "markdown",
   "metadata": {},
   "source": [
    "<div style=\"background-color: rgba(0,0,255,0.05) ; padding: 10px; border: 1px solid darkblue;\"> \n",
    "<b>Class Activity</b>: Finish the Pyomo model below.\n",
    "</div>"
   ]
  },
  {
   "cell_type": "code",
   "execution_count": 15,
   "metadata": {
    "collapsed": true,
    "jupyter": {
     "outputs_hidden": true
    }
   },
   "outputs": [],
   "source": [
    "# define a function to build model\n",
    "def build_model(price,e0 = 0):\n",
    "    '''\n",
    "    Create optimization model for battery operation\n",
    "\n",
    "    Inputs:\n",
    "        price: Pandas DataFrame with energy price timeseries\n",
    "        e0: initial value for energy storage level\n",
    "    \n",
    "    Output:\n",
    "        model: Pyomo optimization model\n",
    "    '''\n",
    "    \n",
    "    # Create a concrete Pyomo model. We'll learn more about this in a few weeks\n",
    "    model = ConcreteModel()\n",
    "\n",
    "    ## Define Sets\n",
    "\n",
    "    # Number of timesteps in planning horizon\n",
    "    model.TIME = Set(initialize = price.index)\n",
    "\n",
    "    ## Define Parameters\n",
    "\n",
    "    # Square root of round trip efficiency\n",
    "    model.sqrteta = Param(initialize = sqrt(0.88))\n",
    "\n",
    "    # Energy in battery at t=0\n",
    "    model.E0 = Param(initialize = e0, mutable=True)\n",
    "\n",
    "    # Charging rate [MW]\n",
    "    model.c = Var(model.TIME, initialize = 0.0, bounds=(0, 1))\n",
    "\n",
    "    ### BEGIN SOLUTION\n",
    "    # Discharging rate [MW]\n",
    "    model.d = Var(model.TIME, initialize = 0.0, bounds=(0, 1))\n",
    "\n",
    "    # Energy (state-of-charge) [MWh]\n",
    "    model.E = Var(model.TIME, initialize = 0.0, bounds=(0, 4))\n",
    "    ### END SOLUTION\n",
    "    \n",
    "    ## Define constraints\n",
    "    \n",
    "    # Define Energy Balance constraints. [MWh] = [MW]*[1 hr]\n",
    "    # Note: this model assumes 1-hour timestep in price data and control actions.\n",
    "    def EnergyBalance(model,t):\n",
    "        # First timestep\n",
    "        if t == 0 :\n",
    "            return model.E[t] == model.E0 + model.c[t]*model.sqrteta-model.d[t]/model.sqrteta \n",
    "        \n",
    "        # Subsequent timesteps\n",
    "        else :\n",
    "            ### BEGIN SOLUTION\n",
    "            return model.E[t] == model.E[t-1]+model.c[t]*model.sqrteta-model.d[t]/model.sqrteta\n",
    "            ### END SOLUTION\n",
    "    \n",
    "    model.EnergyBalance_Con = Constraint(model.TIME, rule = EnergyBalance)\n",
    "    \n",
    "    ## Define the objective function (profit)\n",
    "    # Receding horizon\n",
    "    def objfun(model):\n",
    "        return  sum((-model.c[t] + model.d[t]) * price[t] for t in model.TIME)\n",
    "    model.OBJ = Objective(rule = objfun, sense = maximize)\n",
    "    \n",
    "    return model"
   ]
  },
  {
   "cell_type": "markdown",
   "metadata": {},
   "source": [
    "### 10e-iv. Solve Optimization Model"
   ]
  },
  {
   "cell_type": "markdown",
   "metadata": {},
   "source": [
    "We can now create an instance of our Pyomo model. Notice the function `build_model` requires we pass in a Pandas DataFrame with the price data. Let's try the first day only."
   ]
  },
  {
   "cell_type": "code",
   "execution_count": 16,
   "metadata": {},
   "outputs": [
    {
     "name": "stdout",
     "output_type": "stream",
     "text": [
      "Ipopt 3.12.8: \n",
      "\n",
      "******************************************************************************\n",
      "This program contains Ipopt, a library for large-scale nonlinear optimization.\n",
      " Ipopt is released as open source code under the Eclipse Public License (EPL).\n",
      "         For more information visit http://projects.coin-or.org/Ipopt\n",
      "******************************************************************************\n",
      "\n",
      "This is Ipopt version 3.12.8, running with linear solver mumps.\n",
      "NOTE: Other linear solvers might be more efficient (see Ipopt documentation).\n",
      "\n",
      "Number of nonzeros in equality constraint Jacobian...:       95\n",
      "Number of nonzeros in inequality constraint Jacobian.:        0\n",
      "Number of nonzeros in Lagrangian Hessian.............:        0\n",
      "\n",
      "Total number of variables............................:       72\n",
      "                     variables with only lower bounds:        0\n",
      "                variables with lower and upper bounds:       72\n",
      "                     variables with only upper bounds:        0\n",
      "Total number of equality constraints.................:       24\n",
      "Total number of inequality constraints...............:        0\n",
      "        inequality constraints with only lower bounds:        0\n",
      "   inequality constraints with lower and upper bounds:        0\n",
      "        inequality constraints with only upper bounds:        0\n",
      "\n",
      "iter    objective    inf_pr   inf_du lg(mu)  ||d||  lg(rg) alpha_du alpha_pr  ls\n",
      "   0  2.5535130e-15 1.13e-02 2.99e+01  -1.0 0.00e+00    -  0.00e+00 0.00e+00   0\n",
      "   1 -1.4124684e-01 1.07e-02 2.72e+01  -1.0 2.03e-01    -  8.78e-02 4.88e-02f  1\n",
      "   2 -2.6373063e+00 8.29e-03 2.74e+01  -1.0 8.21e-01    -  5.78e-02 2.27e-01f  1\n",
      "   3 -2.2360880e+01 6.20e-03 2.78e+01  -1.0 3.20e+00    -  3.56e-02 2.52e-01f  1\n",
      "   4 -3.8049600e+01 5.73e-03 2.51e+01  -1.0 8.23e+00    -  9.39e-02 7.63e-02f  1\n",
      "   5 -5.9077018e+01 4.87e-03 2.34e+01  -1.0 6.97e+00    -  8.18e-02 1.50e-01f  1\n",
      "   6 -7.9367583e+01 3.64e-03 2.18e+01  -1.0 4.22e+00    -  9.20e-02 2.52e-01f  1\n",
      "   7 -8.5414120e+01 3.02e-03 1.71e+01  -1.0 2.06e+00    -  2.10e-01 1.72e-01f  1\n",
      "   8 -8.9903789e+01 1.64e-03 1.17e+01  -1.0 1.23e+00    -  3.29e-01 4.57e-01f  1\n",
      "   9 -9.2816651e+01 9.05e-04 3.65e+00  -1.0 1.25e+00    -  6.67e-01 4.48e-01f  1\n",
      "iter    objective    inf_pr   inf_du lg(mu)  ||d||  lg(rg) alpha_du alpha_pr  ls\n",
      "  10 -9.3848256e+01 4.09e-04 1.17e+00  -1.0 9.08e-01    -  6.61e-01 5.48e-01f  1\n",
      "  11 -9.3998203e+01 3.54e-05 6.77e-02  -1.0 7.33e-01    -  1.00e+00 9.13e-01f  1\n",
      "  12 -9.8037848e+01 4.44e-16 2.55e-03  -1.7 1.37e-01    -  9.88e-01 1.00e+00f  1\n",
      "  13 -9.9097566e+01 4.44e-16 1.00e-14  -2.5 5.13e-02    -  1.00e+00 1.00e+00f  1\n",
      "  14 -9.9251854e+01 4.44e-16 2.64e-03  -3.8 2.84e-02    -  9.49e-01 1.00e+00f  1\n",
      "  15 -9.9252231e+01 4.44e-16 7.61e-15  -3.8 6.38e-04    -  1.00e+00 1.00e+00f  1\n",
      "  16 -9.9260699e+01 4.44e-16 1.02e-14  -5.7 6.12e-04    -  1.00e+00 1.00e+00f  1\n",
      "  17 -9.9260804e+01 4.44e-16 1.55e-05  -8.6 8.42e-06    -  1.00e+00 9.97e-01f  1\n",
      "  18 -9.9260804e+01 8.88e-16 2.84e-01  -8.6 2.56e-08    -  8.71e-01 1.00e+00f  1\n",
      "  19 -9.9260804e+01 8.88e-16 8.86e-15  -8.6 2.64e-09    -  1.00e+00 1.00e+00h  1\n",
      "\n",
      "Number of Iterations....: 19\n",
      "\n",
      "                                   (scaled)                 (unscaled)\n",
      "Objective...............:  -9.9260804110396435e+01   -9.9260804110396435e+01\n",
      "Dual infeasibility......:   8.8551480039631511e-15    8.8551480039631511e-15\n",
      "Constraint violation....:   8.8817841970012523e-16    8.8817841970012523e-16\n",
      "Complementarity.........:   3.0241425605248363e-09    3.0241425605248363e-09\n",
      "Overall NLP error.......:   3.0241425605248363e-09    3.0241425605248363e-09\n",
      "\n",
      "\n",
      "Number of objective function evaluations             = 20\n",
      "Number of objective gradient evaluations             = 20\n",
      "Number of equality constraint evaluations            = 20\n",
      "Number of inequality constraint evaluations          = 0\n",
      "Number of equality constraint Jacobian evaluations   = 20\n",
      "Number of inequality constraint Jacobian evaluations = 0\n",
      "Number of Lagrangian Hessian evaluations             = 19\n",
      "Total CPU secs in IPOPT (w/o function evaluations)   =      0.000\n",
      "Total CPU secs in NLP function evaluations           =      0.000\n",
      "\n",
      "EXIT: Optimal Solution Found.\n"
     ]
    }
   ],
   "source": [
    "# Build the model\n",
    "instance = build_model(data[\"Price\"][0:24],0.0)\n",
    "\n",
    "# Specify the solver\n",
    "solver = SolverFactory('ipopt')\n",
    "\n",
    "# Solve the model\n",
    "results = solver.solve(instance, tee = True)"
   ]
  },
  {
   "cell_type": "markdown",
   "metadata": {},
   "source": [
    "### 10e-v. Extract Solution from Pyomo"
   ]
  },
  {
   "cell_type": "markdown",
   "metadata": {},
   "source": [
    "Excellent. Ipopt terminated with the message `Optimal Solution Found`. Let's inspect the answer."
   ]
  },
  {
   "cell_type": "markdown",
   "metadata": {},
   "source": [
    "<div style=\"background-color: rgba(0,0,255,0.05) ; padding: 10px; border: 1px solid darkblue;\"> \n",
    "<b>Class Activity</b>: Run the code below.\n",
    "</div>"
   ]
  },
  {
   "cell_type": "code",
   "execution_count": 17,
   "metadata": {
    "collapsed": true,
    "jupyter": {
     "outputs_hidden": true
    }
   },
   "outputs": [],
   "source": [
    "# Declare empty lists\n",
    "c_control = []\n",
    "d_control = []\n",
    "E_control = []\n",
    "time = []\n",
    "\n",
    "# Loop over elements of TIME set.\n",
    "for i in instance.TIME:    \n",
    "    # Record the time\n",
    "    time.append(value(i))\n",
    "    \n",
    "    # Use value( ) function to extract the solution for each varliable and append to the results lists\n",
    "    c_control.append(value(instance.c[i]))\n",
    "    \n",
    "    # Adding negative sign to discharge for plotting\n",
    "    d_control.append(-value(instance.d[i]))\n",
    "    E_control.append(value(instance.E[i]))"
   ]
  },
  {
   "cell_type": "markdown",
   "metadata": {},
   "source": [
    "### 10e-vi. Plot Results"
   ]
  },
  {
   "cell_type": "markdown",
   "metadata": {},
   "source": [
    "Now let's plot the optimal charge and discharge profile."
   ]
  },
  {
   "cell_type": "code",
   "execution_count": 18,
   "metadata": {},
   "outputs": [
    {
     "data": {
      "image/png": "[encoded data removed]",
      "text/plain": [
       "<Figure size 432x288 with 1 Axes>"
      ]
     },
     "metadata": {},
     "output_type": "display_data"
    },
    {
     "data": {
      "image/png": "[encoded data removed]",
      "text/plain": [
       "<Figure size 432x288 with 1 Axes>"
      ]
     },
     "metadata": {},
     "output_type": "display_data"
    }
   ],
   "source": [
    "# Plot the state of charge (E)\n",
    "plt.figure()\n",
    "plt.plot(time,E_control,'b.-')\n",
    "plt.xlabel('Time (hr)')\n",
    "plt.ylabel('SOC (MWh)')\n",
    "plt.xticks(range(0,24,3))\n",
    "plt.show()\n",
    "\n",
    "# Plot the charging and discharging rates\n",
    "plt.figure()\n",
    "plt.step(time,c_control,'r.-',where=\"post\")\n",
    "plt.step(time,d_control,'g.-',where=\"post\")\n",
    "plt.xlabel('Time (hr)')\n",
    "plt.ylabel('Power from Grid (MW)')\n",
    "plt.xticks(range(0,24,3))\n",
    "plt.show()\n",
    "\n",
    "# At home: switch this to a stair plot as control actions are constant over the hour."
   ]
  },
  {
   "cell_type": "markdown",
   "metadata": {},
   "source": [
    "### 10e-vii. How much money can a 4 MWh battery make in a year?"
   ]
  },
  {
   "cell_type": "markdown",
   "metadata": {
    "nbgrader": {
     "grade": false,
     "locked": false,
     "solution": false
    }
   },
   "source": [
    "<div style=\"background-color: rgba(0,0,255,0.05) ; padding: 10px; border: 1px solid darkblue;\"> \n",
    "<b>Class Activity</b>: Copy the code from 10e-iv to the cell below. Then modify to calculate the revenue for an entire year. Record your answer on the handout. Hint: Do NOT modify the function `create_model`.\n",
    "</div>"
   ]
  },
  {
   "cell_type": "code",
   "execution_count": 19,
   "metadata": {},
   "outputs": [
    {
     "name": "stdout",
     "output_type": "stream",
     "text": [
      "Ipopt 3.12.8: \n",
      "\n",
      "******************************************************************************\n",
      "This program contains Ipopt, a library for large-scale nonlinear optimization.\n",
      " Ipopt is released as open source code under the Eclipse Public License (EPL).\n",
      "         For more information visit http://projects.coin-or.org/Ipopt\n",
      "******************************************************************************\n",
      "\n",
      "This is Ipopt version 3.12.8, running with linear solver mumps.\n",
      "NOTE: Other linear solvers might be more efficient (see Ipopt documentation).\n",
      "\n",
      "Number of nonzeros in equality constraint Jacobian...:    35039\n",
      "Number of nonzeros in inequality constraint Jacobian.:        0\n",
      "Number of nonzeros in Lagrangian Hessian.............:        0\n",
      "\n",
      "Total number of variables............................:    26280\n",
      "                     variables with only lower bounds:        0\n",
      "                variables with lower and upper bounds:    26280\n",
      "                     variables with only upper bounds:        0\n",
      "Total number of equality constraints.................:     8760\n",
      "Total number of inequality constraints...............:        0\n",
      "        inequality constraints with only lower bounds:        0\n",
      "   inequality constraints with lower and upper bounds:        0\n",
      "        inequality constraints with only upper bounds:        0\n",
      "\n",
      "iter    objective    inf_pr   inf_du lg(mu)  ||d||  lg(rg) alpha_du alpha_pr  ls\n",
      "   0 -1.4351853e-12 1.13e-02 2.01e+01  -1.0 0.00e+00    -  0.00e+00 0.00e+00   0\n",
      "   1  2.0748446e+02 1.02e-02 1.87e+01  -1.0 2.29e-01    -  7.14e-02 9.38e-02f  1\n",
      "   2  1.2878907e+02 8.90e-03 1.86e+01  -1.0 1.32e+00    -  3.65e-02 1.29e-01f  1\n",
      "   3 -3.0565744e+02 8.10e-03 1.85e+01  -1.0 5.90e+00    -  2.60e-02 8.93e-02f  1\n",
      "   4 -8.2367026e+02 7.70e-03 1.79e+01  -1.0 1.18e+01    -  3.67e-02 4.97e-02f  1\n",
      "   5 -1.6963163e+03 7.28e-03 1.73e+01  -1.0 1.63e+01    -  3.90e-02 5.48e-02f  1\n",
      "   6 -3.3783979e+03 6.73e-03 1.70e+01  -1.0 1.28e+01    -  2.51e-02 7.59e-02f  1\n",
      "   7 -4.8399880e+03 6.32e-03 1.61e+01  -1.0 9.92e+00    -  5.62e-02 6.11e-02f  1\n",
      "   8 -6.5735466e+03 5.89e-03 1.53e+01  -1.0 8.87e+00    -  5.36e-02 6.67e-02f  1\n",
      "   9 -9.4760273e+03 5.24e-03 1.50e+01  -1.0 7.89e+00    -  3.45e-02 1.11e-01f  1\n",
      "iter    objective    inf_pr   inf_du lg(mu)  ||d||  lg(rg) alpha_du alpha_pr  ls\n",
      "  10 -1.1338827e+04 4.80e-03 1.40e+01  -1.0 5.74e+00    -  7.04e-02 8.36e-02f  1\n",
      "  11 -1.3594338e+04 4.29e-03 1.30e+01  -1.0 5.39e+00    -  7.77e-02 1.08e-01f  1\n",
      "  12 -1.6138331e+04 3.72e-03 1.26e+01  -1.0 5.01e+00    -  7.33e-02 1.32e-01f  1\n",
      "  13 -1.8398194e+04 3.20e-03 1.19e+01  -1.0 4.17e+00    -  9.64e-02 1.40e-01f  1\n",
      "  14 -2.0238358e+04 2.75e-03 1.11e+01  -1.0 3.76e+00    -  1.01e-01 1.40e-01f  1\n",
      "  15 -2.2207864e+04 2.24e-03 9.97e+00  -1.0 3.49e+00    -  1.36e-01 1.87e-01f  1\n",
      "  16 -2.3865802e+04 1.75e-03 8.54e+00  -1.0 2.83e+00    -  1.72e-01 2.17e-01f  1\n",
      "  17 -2.4915328e+04 1.40e-03 6.62e+00  -1.0 2.54e+00    -  2.17e-01 2.02e-01f  1\n",
      "  18 -2.6025064e+04 9.75e-04 5.25e+00  -1.0 2.15e+00    -  2.41e-01 3.03e-01f  1\n",
      "  19 -2.6714253e+04 6.54e-04 3.17e+00  -1.0 1.64e+00    -  3.74e-01 3.29e-01f  1\n",
      "iter    objective    inf_pr   inf_du lg(mu)  ||d||  lg(rg) alpha_du alpha_pr  ls\n",
      "  20 -2.7173480e+04 3.93e-04 1.58e+00  -1.0 1.36e+00    -  4.66e-01 3.99e-01f  1\n",
      "  21 -2.7569525e+04 1.13e-04 3.67e-01  -1.0 9.92e-01    -  8.72e-01 7.13e-01f  1\n",
      "  22 -2.8821288e+04 3.41e-05 9.93e-02  -1.7 6.97e-01    -  5.82e-01 6.97e-01f  1\n",
      "  23 -2.9338373e+04 1.65e-05 1.23e-01  -2.5 6.46e-01    -  4.15e-01 5.17e-01f  1\n",
      "  24 -2.9576291e+04 8.74e-06 1.66e-01  -2.5 6.75e-01    -  3.67e-01 4.70e-01f  1\n",
      "  25 -2.9703152e+04 4.71e-06 3.83e-02  -2.5 6.19e-01    -  5.46e-01 4.62e-01f  1\n",
      "  26 -2.9791043e+04 1.97e-06 1.59e-02  -2.5 4.48e-01    -  5.84e-01 5.81e-01f  1\n",
      "  27 -2.9862087e+04 8.85e-07 3.44e-02  -3.8 3.90e-01    -  4.58e-01 5.51e-01f  1\n",
      "  28 -2.9888279e+04 4.89e-07 2.88e-02  -3.8 5.11e-01    -  3.99e-01 4.47e-01f  1\n",
      "  29 -2.9907078e+04 2.06e-07 2.71e-02  -3.8 6.00e-01    -  4.54e-01 5.78e-01f  1\n",
      "iter    objective    inf_pr   inf_du lg(mu)  ||d||  lg(rg) alpha_du alpha_pr  ls\n",
      "  30 -2.9915085e+04 8.63e-08 1.18e-02  -3.8 3.18e-01    -  5.75e-01 5.81e-01f  1\n",
      "  31 -2.9919911e+04 1.43e-08 2.67e-02  -3.8 2.16e-01    -  5.13e-01 8.34e-01f  1\n",
      "  32 -2.9920812e+04 9.66e-10 6.88e-03  -3.8 1.40e-01    -  1.00e+00 9.33e-01f  1\n",
      "  33 -2.9920878e+04 8.88e-16 1.07e-14  -3.8 7.17e-02    -  1.00e+00 1.00e+00f  1\n",
      "  34 -2.9923433e+04 8.88e-16 7.13e-04  -5.7 1.06e-01    -  8.16e-01 7.00e-01f  1\n",
      "  35 -2.9924388e+04 8.88e-16 9.82e-05  -5.7 5.79e-02    -  8.81e-01 8.73e-01f  1\n",
      "  36 -2.9924522e+04 8.88e-16 5.71e-05  -5.7 2.01e-01    -  1.00e+00 9.63e-01f  1\n",
      "  37 -2.9924527e+04 8.88e-16 1.21e-14  -5.7 3.46e-02    -  1.00e+00 1.00e+00f  1\n",
      "  38 -2.9924572e+04 1.33e-15 9.06e-04  -8.6 3.73e-02    -  8.56e-01 9.93e-01f  1\n",
      "  39 -2.9924572e+04 8.88e-16 1.72e-01  -8.6 6.70e-03    -  1.00e+00 7.81e-01f  1\n",
      "iter    objective    inf_pr   inf_du lg(mu)  ||d||  lg(rg) alpha_du alpha_pr  ls\n",
      "  40 -2.9924572e+04 1.33e-15 1.55e-14  -8.6 1.40e-03    -  1.00e+00 1.00e+00f  1\n",
      "\n",
      "Number of Iterations....: 40\n",
      "\n",
      "                                   (scaled)                 (unscaled)\n",
      "Objective...............:  -2.5721653825666755e+04   -2.9924572060780702e+04\n",
      "Dual infeasibility......:   1.5517575764888553e-14    1.8053147644871343e-14\n",
      "Constraint violation....:   1.3322676295501878e-15    1.3322676295501878e-15\n",
      "Complementarity.........:   4.1788718664542166e-09    4.8616995294328358e-09\n",
      "Overall NLP error.......:   4.1788718664542166e-09    4.8616995294328358e-09\n",
      "\n",
      "\n",
      "Number of objective function evaluations             = 41\n",
      "Number of objective gradient evaluations             = 41\n",
      "Number of equality constraint evaluations            = 41\n",
      "Number of inequality constraint evaluations          = 0\n",
      "Number of equality constraint Jacobian evaluations   = 41\n",
      "Number of inequality constraint Jacobian evaluations = 0\n",
      "Number of Lagrangian Hessian evaluations             = 40\n",
      "Total CPU secs in IPOPT (w/o function evaluations)   =      1.896\n",
      "Total CPU secs in NLP function evaluations           =      0.028\n",
      "\n",
      "EXIT: Optimal Solution Found.\n",
      "Revenue in 2015: $ 29924.57150833467\n"
     ]
    }
   ],
   "source": [
    "### BEGIN SOLUTION\n",
    "# Build the model\n",
    "entire_year = build_model(data[\"Price\"][:],0.0)\n",
    "\n",
    "# Specify the solver\n",
    "solver = SolverFactory('ipopt')\n",
    "\n",
    "# Solve the model\n",
    "entire_year_results = solver.solve(entire_year, tee = True)\n",
    "\n",
    "print(\"Revenue in 2015: $\",value(entire_year.OBJ))\n",
    "\n",
    "### END SOLUTION\n"
   ]
  },
  {
   "cell_type": "markdown",
   "metadata": {},
   "source": [
    "## 10f. Flash Example Revisited\n",
    "\n",
    "Let's revist the flash example. Here is the **mathematical model**:\n",
    "\n",
    "Feed Specifications: $F = 1.0$ mol/s, $z_1$ = 0.5 mol/mol, $z_2$ = 0.5 mol/mol\n",
    "\n",
    "Given Equilibrium Data: $K_1$ = 3 mol/mol, $K_2$ = 0.05 mol/mol\n",
    "\n",
    "Overall Material Balance\n",
    "\n",
    "$$F = L + V$$\n",
    "\n",
    "Component Mass Balances\n",
    "\n",
    "$$V y_1 + L x_1 = F z_1$$\n",
    "\n",
    "$$V y_2 + L x_2 = F z_2$$\n",
    "\n",
    "Thermodynamic Equilibrium\n",
    "\n",
    "$$y_1 = K_1 x_1$$\n",
    "\n",
    "$$y_2 = K_2 x_2$$\n",
    "\n",
    "Summation\n",
    "\n",
    "$$y_1 + y_2 = x_1 + x_2$$\n",
    "\n",
    "And here is part of the **code** from Class 9:"
   ]
  },
  {
   "cell_type": "code",
   "execution_count": 20,
   "metadata": {
    "collapsed": true,
    "jupyter": {
     "outputs_hidden": true
    }
   },
   "outputs": [],
   "source": [
    "def my_f(x):\n",
    "    ''' Nonlinear system of equations in conancial form F(x) = 0\n",
    "    Copied from Lecture 7.\n",
    "    \n",
    "    Arg:\n",
    "        x: vector of variables\n",
    "        \n",
    "    Returns:\n",
    "        r: residual, F(x)\n",
    "    \n",
    "    '''\n",
    "\n",
    "    # Initialize residuals\n",
    "    r = np.zeros(6)\n",
    "    \n",
    "    # given data\n",
    "    F = 1.0\n",
    "    z1 = 0.5\n",
    "    z2 = 0.5\n",
    "    K1 = 3\n",
    "    K2 = 0.05\n",
    "    \n",
    "    # copy values from x to more meaningful names\n",
    "    L = x[0]\n",
    "    V = x[1]\n",
    "    x1 = x[2]\n",
    "    x2 = x[3]\n",
    "    y1 = x[4]\n",
    "    y2 = x[5]\n",
    "    \n",
    "    # equation 1: overall mass balance\n",
    "    r[0] = V + L - F\n",
    "    \n",
    "    # equations 2 and 3: component mass balances\n",
    "    r[1] = V*y1 + L*x1 - F*z1\n",
    "    r[2] = V*y2 + L*x2 - F*z2\n",
    "    \n",
    "    # equation 4 and 5: equilibrium\n",
    "    r[3] = y1 - K1*x1\n",
    "    r[4] = y2 - K2*x2\n",
    "    \n",
    "    # equation 6: summation\n",
    "    r[5] = (y1 + y2) - (x1 + x2)\n",
    "    # This is known as the Rachford-Rice formulation for the summation constraint\n",
    "    \n",
    "    return r\n"
   ]
  },
  {
   "cell_type": "markdown",
   "metadata": {},
   "source": [
    "<div style=\"background-color: rgba(0,0,255,0.05) ; padding: 10px; border: 1px solid darkblue;\"> \n",
    "<b>Class Activity</b>: Convert the code above into a Pyomo model and solve the flash calculation.\n",
    "</div>"
   ]
  },
  {
   "cell_type": "code",
   "execution_count": 21,
   "metadata": {},
   "outputs": [
    {
     "name": "stdout",
     "output_type": "stream",
     "text": [
      "1 Set Declarations\n",
      "    COMPS : Dim=0, Dimen=1, Size=2, Domain=None, Ordered=False, Bounds=(1, 2)\n",
      "        [1, 2]\n",
      "\n",
      "3 Param Declarations\n",
      "    F : Size=1, Index=None, Domain=Any, Default=None, Mutable=False\n",
      "        Key  : Value\n",
      "        None :   1.0\n",
      "    K : Size=2, Index=COMPS, Domain=Any, Default=None, Mutable=False\n",
      "        Key : Value\n",
      "          1 :     3\n",
      "          2 :  0.05\n",
      "    z : Size=2, Index=COMPS, Domain=Any, Default=None, Mutable=False\n",
      "        Key : Value\n",
      "          1 :   0.5\n",
      "          2 :   0.5\n",
      "\n",
      "4 Var Declarations\n",
      "    L : Size=1, Index=None\n",
      "        Key  : Lower : Value : Upper : Fixed : Stale : Domain\n",
      "        None :  None :   0.5 :  None : False : False :  Reals\n",
      "    V : Size=1, Index=None\n",
      "        Key  : Lower : Value : Upper : Fixed : Stale : Domain\n",
      "        None :  None :   0.5 :  None : False : False :  Reals\n",
      "    x : Size=2, Index=COMPS\n",
      "        Key : Lower : Value : Upper : Fixed : Stale : Domain\n",
      "          1 :     0 :   0.5 :   1.0 : False : False :  Reals\n",
      "          2 :     0 :   0.5 :   1.0 : False : False :  Reals\n",
      "    y : Size=2, Index=COMPS\n",
      "        Key : Lower : Value : Upper : Fixed : Stale : Domain\n",
      "          1 :     0 :   0.5 :   1.0 : False : False :  Reals\n",
      "          2 :     0 :   0.5 :   1.0 : False : False :  Reals\n",
      "\n",
      "1 Objective Declarations\n",
      "    obj : Size=1, Index=None, Active=True\n",
      "        Key  : Active : Sense    : Expression\n",
      "        None :   True : minimize :        1.0\n",
      "\n",
      "4 Constraint Declarations\n",
      "    component_mass_balance : Size=2, Index=COMPS, Active=True\n",
      "        Key : Lower : Body            : Upper : Active\n",
      "          1 :   0.5 : V*y[1] + L*x[1] :   0.5 :   True\n",
      "          2 :   0.5 : V*y[2] + L*x[2] :   0.5 :   True\n",
      "    equilibrium : Size=2, Index=COMPS, Active=True\n",
      "        Key : Lower : Body             : Upper : Active\n",
      "          1 :   0.0 :    3*x[1] - y[1] :   0.0 :   True\n",
      "          2 :   0.0 : 0.05*x[2] - y[2] :   0.0 :   True\n",
      "    overall_mass_balance : Size=1, Index=None, Active=True\n",
      "        Key  : Lower : Body  : Upper : Active\n",
      "        None :   1.0 : V + L :   1.0 :   True\n",
      "    summation : Size=1, Index=None, Active=True\n",
      "        Key  : Lower : Body                      : Upper : Active\n",
      "        None :   0.0 : y[1] - x[1] + y[2] - x[2] :   0.0 :   True\n",
      "\n",
      "13 Declarations: obj COMPS F z K L V x y overall_mass_balance component_mass_balance equilibrium summation\n"
     ]
    }
   ],
   "source": [
    "## Create a concrete model\n",
    "m = ConcreteModel()\n",
    "\n",
    "## Define the objective to be a constant\n",
    "m.obj = Objective(expr=1)\n",
    "\n",
    "## Define a set for components\n",
    "m.COMPS = Set(initialize=[1,2])\n",
    "\n",
    "## given data\n",
    "m.F = Param(initialize=1.0)\n",
    "m.z = Param(m.COMPS, initialize={1:0.5, 2:0.5})\n",
    "\n",
    "### BEGIN SOLUTION\n",
    "m.K = Param(m.COMPS, initialize={1:3, 2:0.05})\n",
    "### END SOLUTION\n",
    "\n",
    "## Define variables\n",
    "m.L = Var(initialize=0.5)\n",
    "m.V = Var(initialize=0.5)\n",
    "m.x = Var(m.COMPS, bounds=(0, 1.0), initialize={1:0.5, 2:0.5})\n",
    "### BEGIN SOLUTION\n",
    "m.y = Var(m.COMPS, bounds=(0, 1.0), initialize={1:0.5, 2:0.5})\n",
    "### END SOLUTION\n",
    "\n",
    "### Define equations\n",
    "\n",
    "# equation 1: overall mass balance\n",
    "m.overall_mass_balance = Constraint(expr=m.F == m.V + m.L)\n",
    "\n",
    "# equations 2 and 3: component mass balances\n",
    "def eq_comp_mass_balance(model, c):\n",
    "    ''' model: Pyomo model\n",
    "        c: set for components\n",
    "    '''\n",
    "    \n",
    "    return model.V * model.y[c] + model.L * model.x[c] == model.F * model.z[c]\n",
    "    \n",
    "m.component_mass_balance = Constraint(m.COMPS, rule=eq_comp_mass_balance)\n",
    "\n",
    "# equation 4 and 5: equilibrium\n",
    "### BEGIN SOLUTION\n",
    "def eq_equilibrium(model, c):\n",
    "    ''' model: Pyomo model\n",
    "        c: set for components\n",
    "    '''\n",
    "    \n",
    "    return model.K[c] * model.x[c] == model.y[c]\n",
    "    \n",
    "m.equilibrium = Constraint(m.COMPS, rule=eq_equilibrium)\n",
    "### END SOLUTION\n",
    "\n",
    "# equation 6: summation\n",
    "### BEGIN SOLUTION\n",
    "m.summation = Constraint(expr = 0 == sum(m.y[c] - m.x[c] for c in m.COMPS))\n",
    "### END SOLUTION\n",
    "# This is known as the Rachford-Rice formulation for the summation constraint\n",
    "\n",
    "## Print model\n",
    "m.pprint()"
   ]
  },
  {
   "cell_type": "code",
   "execution_count": 22,
   "metadata": {},
   "outputs": [
    {
     "name": "stdout",
     "output_type": "stream",
     "text": [
      "Ipopt 3.12.8: \n",
      "\n",
      "******************************************************************************\n",
      "This program contains Ipopt, a library for large-scale nonlinear optimization.\n",
      " Ipopt is released as open source code under the Eclipse Public License (EPL).\n",
      "         For more information visit http://projects.coin-or.org/Ipopt\n",
      "******************************************************************************\n",
      "\n",
      "This is Ipopt version 3.12.8, running with linear solver mumps.\n",
      "NOTE: Other linear solvers might be more efficient (see Ipopt documentation).\n",
      "\n",
      "Number of nonzeros in equality constraint Jacobian...:       18\n",
      "Number of nonzeros in inequality constraint Jacobian.:        0\n",
      "Number of nonzeros in Lagrangian Hessian.............:        4\n",
      "\n",
      "Total number of variables............................:        6\n",
      "                     variables with only lower bounds:        0\n",
      "                variables with lower and upper bounds:        4\n",
      "                     variables with only upper bounds:        0\n",
      "Total number of equality constraints.................:        6\n",
      "Total number of inequality constraints...............:        0\n",
      "        inequality constraints with only lower bounds:        0\n",
      "   inequality constraints with lower and upper bounds:        0\n",
      "        inequality constraints with only upper bounds:        0\n",
      "\n",
      "iter    objective    inf_pr   inf_du lg(mu)  ||d||  lg(rg) alpha_du alpha_pr  ls\n",
      "   0  1.0000000e+00 1.00e+00 0.00e+00  -1.0 0.00e+00    -  0.00e+00 0.00e+00   0\n",
      "   1  1.0000000e+00 1.23e-01 5.27e+15  -1.7 4.06e-01  -4.0 5.59e-01 1.00e+00h  1\n",
      "   2  1.0000000e+00 2.42e-02 2.06e+15  -1.7 2.10e-01    -  4.04e-01 1.00e+00h  1\n",
      "   3  1.0000000e+00 3.08e-04 5.99e+13  -1.7 2.44e-02    -  1.00e+00 1.00e+00h  1\n",
      "   4  1.0000000e+00 1.25e-16 2.14e+10  -1.7 4.78e-04    -  1.00e+00 1.00e+00h  1\n",
      "\n",
      "Number of Iterations....: 4\n",
      "\n",
      "                                   (scaled)                 (unscaled)\n",
      "Objective...............:   1.0000000000000000e+00    1.0000000000000000e+00\n",
      "Dual infeasibility......:   0.0000000000000000e+00    0.0000000000000000e+00\n",
      "Constraint violation....:   1.2490009027033011e-16    1.2490009027033011e-16\n",
      "Complementarity.........:   0.0000000000000000e+00    0.0000000000000000e+00\n",
      "Overall NLP error.......:   1.2490009027033011e-16    1.2490009027033011e-16\n",
      "\n",
      "\n",
      "Number of objective function evaluations             = 5\n",
      "Number of objective gradient evaluations             = 5\n",
      "Number of equality constraint evaluations            = 5\n",
      "Number of inequality constraint evaluations          = 0\n",
      "Number of equality constraint Jacobian evaluations   = 5\n",
      "Number of inequality constraint Jacobian evaluations = 0\n",
      "Number of Lagrangian Hessian evaluations             = 4\n",
      "Total CPU secs in IPOPT (w/o function evaluations)   =      0.000\n",
      "Total CPU secs in NLP function evaluations           =      0.000\n",
      "\n",
      "EXIT: Optimal Solution Found.\n"
     ]
    }
   ],
   "source": [
    "## Solve the model\n",
    "\n",
    "# Specify the solver\n",
    "solver = SolverFactory('ipopt')\n",
    "\n",
    "# Solve!\n",
    "results = solver.solve(m, tee = True)"
   ]
  },
  {
   "cell_type": "code",
   "execution_count": 23,
   "metadata": {},
   "outputs": [
    {
     "name": "stdout",
     "output_type": "stream",
     "text": [
      "L =  0.7236842105263158 mol/s\n",
      "x[ 1 ] =  32.20338983050847 mole %\n",
      "x[ 2 ] =  67.79661016949153 mole %\n",
      "\n",
      "V =  0.7236842105263158 mol/s\n",
      "y[ 1 ] =  96.61016949152541 mole %\n",
      "y[ 2 ] =  3.389830508474577 mole %\n"
     ]
    }
   ],
   "source": [
    "## Examine the solution\n",
    "print(\"L = \",value(m.L),\"mol/s\")\n",
    "### BEGIN SOLUTION\n",
    "for c in m.COMPS:\n",
    "    print(\"x[\",c,\"] = \",value(m.x[c])*100,\"mole %\")\n",
    "    \n",
    "print(\"\\nV = \",value(m.L),\"mol/s\")\n",
    "for c in m.COMPS:\n",
    "    print(\"y[\",c,\"] = \",value(m.y[c])*100,\"mole %\")\n",
    "### END SOLUTION"
   ]
  },
  {
   "cell_type": "code",
   "execution_count": null,
   "metadata": {
    "collapsed": true,
    "jupyter": {
     "outputs_hidden": true
    }
   },
   "outputs": [],
   "source": []
  }
 ],
 "metadata": {
  "colab": {
   "name": "L12-Optimization.ipynb",
   "provenance": [],
   "version": "0.3.2"
  },
  "kernelspec": {
   "display_name": "Python 3 (ipykernel)",
   "language": "python",
   "name": "python3"
  },
  "language_info": {
   "codemirror_mode": {
    "name": "ipython",
    "version": 3
   },
   "file_extension": ".py",
   "mimetype": "text/x-python",
   "name": "python",
   "nbconvert_exporter": "python",
   "pygments_lexer": "ipython3",
   "version": "3.9.12"
  }
 },
 "nbformat": 4,
 "nbformat_minor": 4
}
