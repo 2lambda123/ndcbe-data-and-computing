{
 "cells": [
  {
   "cell_type": "markdown",
   "metadata": {
    "colab_type": "text",
    "id": "vwvvdc673Awp"
   },
   "source": [
    "# Convergence Analysis for Newton-Raphson Methods"
   ]
  },
  {
   "cell_type": "markdown",
   "metadata": {},
   "source": [
    "## Learning Objectives\n",
    "\n",
    "After studying this notebook, completing the activities, and asking questions in class, you should be able to:\n",
    "* Know what properties of a function and what user interactions can slow the convergence of Newton's Method to the solution."
   ]
  },
  {
   "cell_type": "code",
   "execution_count": 1,
   "metadata": {},
   "outputs": [],
   "source": [
    "import numpy as np\n",
    "import matplotlib.pyplot as plt"
   ]
  },
  {
   "cell_type": "markdown",
   "metadata": {
    "colab_type": "text",
    "id": "WHUNk9Rs3Axk",
    "tags": []
   },
   "source": [
    "## Examples of slow convergence"
   ]
  },
  {
   "cell_type": "markdown",
   "metadata": {
    "colab_type": "text",
    "id": "O6Pn-3vr3Axk"
   },
   "source": [
    "Newton's method, including its inexact variant, and the secant method can both converge slowly in the presence of the following:\n",
    "* Multiple roots or closely spaced roots\n",
    "* Complex roots\n",
    "* Bad initial guess (we saw this one already in the example in the [Newton-Raphson Method notebook](../04-publish/02-Newton-Raphson-Method-in-One-Dimension.ipynb) where the guesses went the wrong way at first)"
   ]
  },
  {
   "cell_type": "markdown",
   "metadata": {
    "colab_type": "text",
    "id": "_IPhoUa83Axl"
   },
   "source": [
    "## Example 1: Multiple Roots, overlapping\n",
    "\n",
    "The function \n",
    "\n",
    "$$f(x) = x^7$$ \n",
    "\n",
    "has multiple roots at 0. Let's see how it converges with Newton.\n",
    "\n",
    "Notice I switch from $c(x) = 0$ to $f(x) = 0$. People use them interchangeably for canonical form."
   ]
  },
  {
   "cell_type": "markdown",
   "metadata": {},
   "source": [
    "First, run the Newton's Method cell below that we used in the [Newton-Raphson Method notebook](../04-publish/02-Newton-Raphson-Method-in-One-Dimension.ipynb):"
   ]
  },
  {
   "cell_type": "code",
   "execution_count": 2,
   "metadata": {},
   "outputs": [],
   "source": [
    "def newton(f,fprime,x0,epsilon=1.0e-6, LOUD=False, max_iter=50):\n",
    "    \"\"\"Find the root of the function f(x) via Newton-Raphson method\n",
    "    Args:\n",
    "        f: the function, in canoncial form, we want to fix the root of [Python function]\n",
    "        fprime: the derivative of f [Python function]\n",
    "        x0: initial guess [float]\n",
    "        epsilon: tolerance [float]\n",
    "        LOUD: toggle on/off print statements [boolean]\n",
    "        max_iter: maximum number of iterations [int]\n",
    "        \n",
    "    Returns:\n",
    "        estimate of root [float]\n",
    "    \"\"\"\n",
    "    \n",
    "    assert callable(f), \"Warning: 'f' should be a Python function\"\n",
    "    assert callable(fprime), \"Warning: 'fprime' should be a Python function\"\n",
    "    assert type(x0) is float or type(x0) is int, \"Warning: 'x0' should be a float or integer\"\n",
    "    assert type(epsilon) is float, \"Warning: 'eps' should be a float\"\n",
    "    assert type(max_iter) is int, \"Warning: 'max_iter' should be an integer\"\n",
    "    assert max_iter >= 0, \"Warning: 'max_iter' should be non-negative\"\n",
    "    \n",
    "    x = x0\n",
    "    if (LOUD):\n",
    "        print(\"x0 =\",x0)\n",
    "    iterations = 0\n",
    "    converged = False\n",
    "    \n",
    "    # Check if the residual is close enough to zero\n",
    "    while (not converged and iterations < max_iter):\n",
    "        \n",
    "        if (LOUD):\n",
    "            print(\"x_\",iterations+1,\"=\",x,\"-\",f(x),\"/\",\n",
    "                  fprime(x),\"=\",x - f(x)/fprime(x))\n",
    "        \n",
    "        # add general single-variable Newton's Method equation below\n",
    "        # Add your solution here\n",
    "        \n",
    "        # check if converged\n",
    "        if np.fabs(f(x)) < epsilon:\n",
    "            converged = True\n",
    "        \n",
    "        iterations += 1 \n",
    "    print(\"It took\",iterations,\"iterations\")\n",
    "    \n",
    "    if not converged:\n",
    "        print(\"Warning: Not a solution. Maximum number of iterations exceeded.\")\n",
    "    return x #return estimate of root"
   ]
  },
  {
   "cell_type": "markdown",
   "metadata": {},
   "source": [
    "Now, let's see how Newton's Method reacts:"
   ]
  },
  {
   "cell_type": "code",
   "execution_count": 3,
   "metadata": {
    "colab": {
     "base_uri": "https://localhost:8080/",
     "height": 531
    },
    "colab_type": "code",
    "executionInfo": {
     "elapsed": 368,
     "status": "ok",
     "timestamp": 1550590641514,
     "user": {
      "displayName": "Alexander Dowling",
      "photoUrl": "https://lh3.googleusercontent.com/-LChdQ2m5OQE/AAAAAAAAAAI/AAAAAAAAAA0/JeXJe4vQJ7M/s64/photo.jpg",
      "userId": "00988067626794866502"
     },
     "user_tz": 300
    },
    "id": "5zInHGEp3Axm",
    "outputId": "c1021ae3-ceb1-4038-c509-456b000df2a2"
   },
   "outputs": [
    {
     "name": "stdout",
     "output_type": "stream",
     "text": [
      "x0 = 1.0\n",
      "x_ 1 = 1.0 - 1.0 / 7.0 = 0.8571428571428572\n",
      "x_ 2 = 0.8571428571428572 - 0.33991667708911394 / 2.7759861962277634 = 0.7346938775510204\n",
      "x_ 3 = 0.7346938775510204 - 0.11554334736330486 / 1.1008713373781547 = 0.6297376093294461\n",
      "x_ 4 = 0.6297376093294461 - 0.03927511069548781 / 0.43657194805493627 = 0.5397750937109538\n",
      "x_ 5 = 0.5397750937109538 - 0.013350265119917321 / 0.1731311002086809 = 0.4626643660379604\n",
      "x_ 6 = 0.4626643660379604 - 0.004537977757820996 / 0.0686585063310034 = 0.3965694566039661\n",
      "x_ 7 = 0.3965694566039661 - 0.0015425343201428206 / 0.027227866546925984 = 0.3399166770891138\n",
      "x_ 8 = 0.3399166770891138 - 0.0005243331403988625 / 0.01079774024099974 = 0.29135715179066896\n",
      "x_ 9 = 0.29135715179066896 - 0.00017822957877208114 / 0.004282053979924045 = 0.2497347015348591\n",
      "x_ 10 = 0.2497347015348591 - 6.058320617519827e-05 / 0.0016981318199673287 = 0.2140583156013078\n",
      "x_ 11 = 0.2140583156013078 - 2.0593242130478076e-05 / 0.0006734272130863475 = 0.18347855622969242\n",
      "x_ 12 = 0.18347855622969242 - 6.9999864354836515e-06 / 0.00026706066395597614 = 0.15726733391116493\n",
      "x_ 13 = 0.15726733391116493 - 2.3794121288184727e-06 / 0.00010590810238531585 = 0.13480057192385567\n",
      "x_ 14 = 0.13480057192385567 - 8.088018642535101e-07 / 4.199991861290193e-05 = 0.11554334736330486\n",
      "x_ 15 = 0.11554334736330486 - 2.749252421205337e-07 / 1.665588490172932e-05 = 0.09903715488283274\n",
      "x_ 16 = 0.09903715488283274 - 9.345167474953186e-08 / 6.605215224736998e-06 = 0.08488898989957092\n",
      "x_ 17 = 0.08488898989957092 - 3.176578274927349e-08 / 2.619426612426194e-06 = 0.07276199134248935\n",
      "x_ 18 = 0.07276199134248935 - 1.0797719317267736e-08 / 1.0387845883038232e-06 = 0.06236742115070516\n",
      "x_ 19 = 0.06236742115070516 - 3.670324870466584e-09 / 4.1195023971222183e-07 = 0.053457789557747284\n",
      "x_ 20 = 0.053457789557747284 - 1.2476046338065332e-09 / 1.633668827105494e-07 = 0.045820962478069105\n",
      "x_ 21 = 0.045820962478069105 - 4.240816214444976e-10 / 6.478631590360645e-08 = 0.0392751106954878\n",
      "x_ 22 = 0.0392751106954878 - 1.44152415575977e-10 / 2.5692274093266084e-08 = 0.0336643805961324\n",
      "x_ 23 = 0.0336643805961324 - 4.8999810096955105e-11 / 1.0188771176086686e-08 = 0.028855183368113487\n",
      "x_ 24 = 0.028855183368113487 - 1.6655852626154586e-11 / 4.04055544876285e-09 = 0.024733014315525846\n",
      "x_ 25 = 0.024733014315525846 - 5.661602078768455e-12 / 1.6023608786940773e-09 = 0.021199726556165012\n",
      "x_ 26 = 0.021199726556165012 - 1.9244729656157925e-12 / 6.35447382947164e-10 = 0.018171194190998583\n",
      "It took 26 iterations\n",
      "The root estimate is 0.018171194190998583 \n",
      "f( 0.018171194190998583 ) = 6.541604556199529e-13\n"
     ]
    }
   ],
   "source": [
    "# define function\n",
    "mult_root = lambda x: 1.0*x**7\n",
    "\n",
    "# define first derivative\n",
    "Dmult_root = lambda x: 7.0*x**6\n",
    "\n",
    "# solve with Newton's method\n",
    "root = newton(mult_root,Dmult_root,1.0,epsilon=1.0e-12,LOUD=True)\n",
    "print(\"The root estimate is\",root,\"\\nf(\",root,\") =\",mult_root(root))"
   ]
  },
  {
   "cell_type": "markdown",
   "metadata": {
    "colab_type": "text",
    "id": "CCLcF_CO3Axo"
   },
   "source": [
    "## Example 2: Multiple roots, spaced far apart"
   ]
  },
  {
   "cell_type": "markdown",
   "metadata": {
    "colab_type": "text",
    "id": "Su7iQTw_3Axp"
   },
   "source": [
    "Now consider\n",
    "\n",
    "$$f(x) = \\sin(x),$$\n",
    "\n",
    "which has multiple roots that are spaced far apart. We'll see Newton's method converge fast in this case."
   ]
  },
  {
   "cell_type": "code",
   "execution_count": 4,
   "metadata": {
    "colab": {
     "base_uri": "https://localhost:8080/",
     "height": 154
    },
    "colab_type": "code",
    "executionInfo": {
     "elapsed": 312,
     "status": "ok",
     "timestamp": 1550590786788,
     "user": {
      "displayName": "Alexander Dowling",
      "photoUrl": "https://lh3.googleusercontent.com/-LChdQ2m5OQE/AAAAAAAAAAI/AAAAAAAAAA0/JeXJe4vQJ7M/s64/photo.jpg",
      "userId": "00988067626794866502"
     },
     "user_tz": 300
    },
    "id": "_R7e77H53Axq",
    "outputId": "83b5597d-90fd-4efd-ac0d-20bbc356f6d3"
   },
   "outputs": [
    {
     "name": "stdout",
     "output_type": "stream",
     "text": [
      "x0 = 1.0\n",
      "x_ 1 = 1.0 - 0.8414709848078965 / 0.5403023058681398 = -0.5574077246549021\n",
      "x_ 2 = -0.5574077246549021 - -0.5289880970896319 / 0.8486292436261492 = 0.06593645192484066\n",
      "x_ 3 = 0.06593645192484066 - 0.06588868458420974 / 0.9978269796130803 = -9.572191932508134e-05\n",
      "x_ 4 = -9.572191932508134e-05 - -9.572191917890302e-05 / 0.999999995418657 = 2.923566201412306e-13\n",
      "It took 4 iterations\n",
      "The root estimate is 2.923566201412306e-13 \n",
      "f( 2.923566201412306e-13 ) = 2.923566201412306e-13\n"
     ]
    }
   ],
   "source": [
    "# define function\n",
    "mult_root = lambda x: np.sin(x)\n",
    "\n",
    "# define derivative\n",
    "Dmult_root = lambda x: np.cos(x)\n",
    "\n",
    "# call Newton's method\n",
    "root = newton(mult_root,Dmult_root,1.0,LOUD=True, epsilon=1e-12)\n",
    "print(\"The root estimate is\",root,\"\\nf(\",root,\") =\",mult_root(root))"
   ]
  },
  {
   "cell_type": "markdown",
   "metadata": {
    "colab_type": "text",
    "id": "9pxmRCAW3Axu"
   },
   "source": [
    "## Example 3: Complex roots near the real root"
   ]
  },
  {
   "cell_type": "markdown",
   "metadata": {
    "colab_type": "text",
    "id": "-P0Rue3Z3Axv"
   },
   "source": [
    "For the case of complex roots let's consider a function that has complex roots near the actual root.  One such function is \n",
    "\n",
    "$$ f(x) = x(x-1)(x-3) + 3.$$\n",
    "\n",
    "The derivative of this function is \n",
    "\n",
    "$$ f'(x) =3x^3 - 8x  + 3.$$\n",
    "\n",
    "The root is at $x= -0.546818$."
   ]
  },
  {
   "cell_type": "code",
   "execution_count": 5,
   "metadata": {
    "colab": {
     "base_uri": "https://localhost:8080/",
     "height": 294
    },
    "colab_type": "code",
    "executionInfo": {
     "elapsed": 615,
     "status": "ok",
     "timestamp": 1550590809007,
     "user": {
      "displayName": "Alexander Dowling",
      "photoUrl": "https://lh3.googleusercontent.com/-LChdQ2m5OQE/AAAAAAAAAAI/AAAAAAAAAA0/JeXJe4vQJ7M/s64/photo.jpg",
      "userId": "00988067626794866502"
     },
     "user_tz": 300
    },
    "id": "R7bq8zSQ3Axw",
    "outputId": "3ba50bb5-da7d-4492-b273-af648887f9e5"
   },
   "outputs": [
    {
     "data": {
      "image/png": "[encoded data removed]",
      "text/plain": [
       "<Figure size 432x288 with 1 Axes>"
      ]
     },
     "metadata": {
      "needs_background": "light"
     },
     "output_type": "display_data"
    }
   ],
   "source": [
    "x = np.linspace(-1,4,200)\n",
    "comp_root = lambda x: x*(x-1)*(x-3) + 3\n",
    "d_comp_root = lambda x: 3*x**2 - 8*x + 3\n",
    "plt.plot(x, comp_root(x),'-',label=\"f(x)\")\n",
    "plt.plot(x,0*x,label=\"f(x)=0\")\n",
    "plt.legend(loc=\"best\")\n",
    "plt.xlabel(\"x\")\n",
    "plt.ylabel(\"y\")\n",
    "plt.title(\"Function with one real and two imaginary roots\")\n",
    "plt.show()"
   ]
  },
  {
   "cell_type": "code",
   "execution_count": 6,
   "metadata": {
    "colab": {
     "base_uri": "https://localhost:8080/",
     "height": 840
    },
    "colab_type": "code",
    "executionInfo": {
     "elapsed": 327,
     "status": "ok",
     "timestamp": 1550590840729,
     "user": {
      "displayName": "Alexander Dowling",
      "photoUrl": "https://lh3.googleusercontent.com/-LChdQ2m5OQE/AAAAAAAAAAI/AAAAAAAAAA0/JeXJe4vQJ7M/s64/photo.jpg",
      "userId": "00988067626794866502"
     },
     "user_tz": 300
    },
    "id": "c0PhwS963Axz",
    "outputId": "ba470d3d-8171-459c-ba5e-07ff9d800320"
   },
   "outputs": [
    {
     "name": "stdout",
     "output_type": "stream",
     "text": [
      "x0 = 2.0\n",
      "x_ 1 = 2.0 - 1.0 / -1.0 = 3.0\n",
      "x_ 2 = 3.0 - 3.0 / 6.0 = 2.5\n",
      "x_ 3 = 2.5 - 1.125 / 1.75 = 1.8571428571428572\n",
      "x_ 4 = 1.8571428571428572 - 1.1807580174927113 / -1.5102040816326543 = 2.6389961389961383\n",
      "x_ 5 = 2.6389961389961383 - 1.4385483817495095 / 2.780932752940469 = 2.1217062547914827\n",
      "x_ 6 = 2.1217062547914827 - 0.9097213333636254 / -0.4687377434679618 = 4.062495845646789\n",
      "x_ 7 = 4.062495845646789 - 16.218911005018263 / 20.01165072251795 = 3.2520224254422248\n",
      "x_ 8 = 3.2520224254422248 - 4.845718347978311 / 8.71077016319959 = 2.69573196464577\n",
      "x_ 9 = 2.69573196464577 - 1.6091181327603166 / 3.235056758472666 = 2.1983316861047486\n",
      "x_ 10 = 2.1983316861047486 - 0.8881406969735082 / -0.08866688244154908 = 12.21493171215154\n",
      "x_ 11 = 12.21493171215154 - 1265.3500398359906 / 352.89421650036365 = 8.629296185493123\n",
      "x_ 12 = 8.629296185493123 - 373.6072839850617 / 157.35988848695354 = 6.255074345497114\n",
      "x_ 13 = 6.255074345497114 - 109.99716055272572 / 70.33727043911153 = 4.691221215200477\n",
      "x_ 14 = 4.691221215200477 - 32.28575358617576 / 31.492899748237292 = 3.6660455773812615\n",
      "x_ 15 = 3.6660455773812615 - 9.509825968546561 / 13.991305907260028 = 2.98635019858092\n",
      "x_ 16 = 2.98635019858092 - 2.919030233688295 / 5.86406093704554 = 2.4885671323703265\n",
      "x_ 17 = 2.4885671323703265 - 1.1054484738704906 / 1.6703620579789984 = 1.826765417831867\n",
      "x_ 18 = 1.826765417831867 - 1.2280562150840852 / -1.6029076672956304 = 2.592908246979362\n",
      "x_ 19 = 2.592908246979362 - 1.318603209095002 / 2.426253555925868 = 2.0494352839518775\n",
      "x_ 20 = 2.0494352839518775 - 0.955573222932109 / -0.7949273222942814 = 3.2515240738731737\n",
      "x_ 21 = 3.2515240738731737 - 4.8413787514200495 / 8.705033817945008 = 2.695365550808073\n",
      "x_ 22 = 2.695365550808073 - 1.607933311892328 / 3.2320619509841393 = 2.197870968006922\n",
      "x_ 23 = 2.197870968006922 - 0.8881820981298101 / -0.09105736803232034 = 11.951964648976864\n",
      "x_ 24 = 11.951964648976864 - 1174.789741804964 / 335.932659719363 = 8.454865728061048\n",
      "x_ 25 = 8.454865728061048 - 346.81957999395 / 149.81533761413542 = 6.139885262661577\n",
      "x_ 26 = 6.139885262661577 - 102.0894592205901 / 66.97549101465387 = 4.61560440000611\n",
      "x_ 27 = 4.61560440000611 - 29.96152866534621 / 29.986576732018413 = 3.61643970931454\n",
      "x_ 28 = 3.61643970931454 - 8.832873636384438 / 13.304390838804785 = 2.952533052978071\n",
      "x_ 29 = 2.952533052978071 - 2.72635692486304 / 5.532089862959463 = 2.4597071964934223\n",
      "x_ 30 = 2.4597071964934223 - 1.060104463143956 / 1.4728209054972154 = 1.739928940232135\n",
      "x_ 31 = 1.739928940232135 - 1.3777545571655414 / -1.8373733706851194 = 2.4897790137922\n",
      "x_ 32 = 2.4897790137922 - 1.1074778463213586 / 1.6787665022225795 = 1.830081643815417\n",
      "x_ 33 = 1.830081643815417 - 1.2227569268413518 / -1.5930566814329197 = 2.597635580277683\n",
      "x_ 34 = 2.597635580277683 - 1.33015746969678 / 2.462047181552265 = 2.057370763395439\n",
      "x_ 35 = 2.057370763395439 - 0.9494008759780943 / -0.7606427329405179 = 3.305526875145654\n",
      "x_ 36 = 3.305526875145654 - 5.328414524884437 / 9.335308765765348 = 2.73474612663684\n",
      "x_ 37 = 2.73474612663684 - 1.7416116854656012 / 3.5585401183708782 = 2.245328661178302\n",
      "x_ 38 = 2.245328661178302 - 0.8898090309033133 / 0.16187310069982175 = -3.2516256014905736\n",
      "x_ 39 = -3.2516256014905736 - -83.4268150302328 / 60.73221196873139 = -1.877942471470775\n",
      "x_ 40 = -1.877942471470775 - -23.36337860032529 / 28.60354355022749 = -1.0611423236394595\n",
      "x_ 41 = -1.0611423236394595 - -5.882389790601181 / 14.86720768217253 = -0.6654802789331873\n",
      "x_ 42 = -0.6654802789331873 - -1.062614102742372 / 9.652434236412477 = -0.5553925977621718\n",
      "x_ 43 = -0.5553925977621718 - -0.07133846535161004 / 8.368523595044415 = -0.5468679799438203\n",
      "x_ 44 = -0.5468679799438203 - -0.0004111366150030271 / 8.272137602014066 = -0.5468182785685793\n",
      "It took 44 iterations\n",
      "The root estimate is -0.5468182785685793 \n",
      "f( -0.5468182785685793 ) = -0.5199720922936206\n"
     ]
    }
   ],
   "source": [
    "root = newton(comp_root,d_comp_root,2.0,LOUD=True)\n",
    "print(\"The root estimate is\",root,\"\\nf(\",root,\") =\",mult_root(root))"
   ]
  },
  {
   "cell_type": "markdown",
   "metadata": {
    "colab_type": "text",
    "id": "2hEgPfzo3Ax1"
   },
   "source": [
    "This converged slowly. This is because the complex roots at $x=2.2734\\pm0.5638 i$ make the slope of the function change so that tangents don't necessarily point to a true root. \n",
    "\n",
    "We can see this graphically by looking at each iteration."
   ]
  },
  {
   "cell_type": "markdown",
   "metadata": {},
   "source": [
    "First, run the cell below with the nonlinear function from the [Newton-Raphson Method notebook](../04-publish/02-Newton-Raphson-Method-in-One-Dimension.ipynb) for us to analyze."
   ]
  },
  {
   "cell_type": "code",
   "execution_count": 7,
   "metadata": {},
   "outputs": [],
   "source": [
    "def nonlinear_function(x):\n",
    "    ''' compute a nonlinear function for demonstration\n",
    "    Arguments:\n",
    "        x: scalar\n",
    "    Returns:\n",
    "        c(x): scalar\n",
    "    '''\n",
    "    return 3*x**3 + 2*x**2 - 5*x-20"
   ]
  },
  {
   "cell_type": "markdown",
   "metadata": {
    "colab_type": "text",
    "id": "9Mh6zb0l3Ax2"
   },
   "source": [
    "## Iteration 1"
   ]
  },
  {
   "cell_type": "code",
   "execution_count": 8,
   "metadata": {
    "colab": {
     "base_uri": "https://localhost:8080/",
     "height": 311
    },
    "colab_type": "code",
    "executionInfo": {
     "elapsed": 659,
     "status": "ok",
     "timestamp": 1550590849428,
     "user": {
      "displayName": "Alexander Dowling",
      "photoUrl": "https://lh3.googleusercontent.com/-LChdQ2m5OQE/AAAAAAAAAAI/AAAAAAAAAA0/JeXJe4vQJ7M/s64/photo.jpg",
      "userId": "00988067626794866502"
     },
     "user_tz": 300
    },
    "id": "nG3bfRzz3Ax3",
    "outputId": "c0f78371-0b65-4df2-cbea-a5b0b5fd6957"
   },
   "outputs": [
    {
     "name": "stdout",
     "output_type": "stream",
     "text": [
      "Initial Guess = 2\n"
     ]
    },
    {
     "data": {
      "image/png": "[encoded data removed]",
      "text/plain": [
       "<Figure size 432x288 with 1 Axes>"
      ]
     },
     "metadata": {
      "needs_background": "light"
     },
     "output_type": "display_data"
    }
   ],
   "source": [
    "Np = 100\n",
    "X = np.linspace(-1,4,Np)\n",
    "plt.plot(X,comp_root(X),label=\"f(x)\")\n",
    "guess = 2\n",
    "print(\"Initial Guess =\",guess)\n",
    "slope = d_comp_root(guess)\n",
    "plt.plot(X,0*X,\"--\",label=\"y = 0\")\n",
    "plt.plot(X,comp_root(guess) + slope*(X-guess), label=\"Tangent at guess\")\n",
    "plt.plot(np.array([guess,guess]),np.array([0,nonlinear_function(guess)]),'r--')\n",
    "plt.scatter(guess,comp_root(guess),label=\"guess 0\",c=\"red\")\n",
    "new_guess = guess-comp_root(guess)/slope\n",
    "plt.scatter(new_guess,comp_root(new_guess),marker=\"*\",label=\"guess 1\",c=\"red\")\n",
    "plt.plot(np.array([new_guess,new_guess]),np.array([0,comp_root(new_guess)]),'r--')\n",
    "plt.scatter(-0.546818,0,label=\"Root\")\n",
    "plt.legend(loc=\"best\")\n",
    "plt.xlabel(\"x\")\n",
    "plt.ylabel(\"y\")\n",
    "plt.title(\"Guess 0 and 1\")\n",
    "plt.show()"
   ]
  },
  {
   "cell_type": "markdown",
   "metadata": {},
   "source": [
    "## Iteration 2"
   ]
  },
  {
   "cell_type": "code",
   "execution_count": 9,
   "metadata": {
    "colab": {
     "base_uri": "https://localhost:8080/",
     "height": 328
    },
    "colab_type": "code",
    "executionInfo": {
     "elapsed": 545,
     "status": "ok",
     "timestamp": 1550590879167,
     "user": {
      "displayName": "Alexander Dowling",
      "photoUrl": "https://lh3.googleusercontent.com/-LChdQ2m5OQE/AAAAAAAAAAI/AAAAAAAAAA0/JeXJe4vQJ7M/s64/photo.jpg",
      "userId": "00988067626794866502"
     },
     "user_tz": 300
    },
    "id": "zKl8cv5s3Ax5",
    "outputId": "b6bb57f2-1515-4986-ab1c-c6d707013c7e"
   },
   "outputs": [
    {
     "name": "stdout",
     "output_type": "stream",
     "text": [
      "Guess 1 = 3.0\n",
      "Guess 2 = 2.5\n"
     ]
    },
    {
     "data": {
      "image/png": "[encoded data removed]",
      "text/plain": [
       "<Figure size 432x288 with 1 Axes>"
      ]
     },
     "metadata": {
      "needs_background": "light"
     },
     "output_type": "display_data"
    }
   ],
   "source": [
    "guess = new_guess\n",
    "print(\"Guess 1 =\",guess)\n",
    "slope = d_comp_root(guess)\n",
    "plt.plot(X,comp_root(X),label=\"f(x)\")\n",
    "plt.plot(X,0*X,\"--\",label=\"y = 0\")\n",
    "plt.plot(X,comp_root(guess) + slope*(X-guess), label=\"Tangent at guess\")\n",
    "plt.plot(np.array([guess,guess]),np.array([0,comp_root(guess)]),'r--')\n",
    "plt.scatter(guess,comp_root(guess),label=\"guess $1$\",c=\"red\")\n",
    "new_guess = guess-comp_root(guess)/slope\n",
    "print(\"Guess 2 =\",new_guess)\n",
    "plt.scatter(new_guess,comp_root(new_guess),marker=\"*\",label=\"guess $2$\",c=\"red\")\n",
    "plt.plot(np.array([new_guess,new_guess]),np.array([0,comp_root(new_guess)]),'r--')\n",
    "plt.scatter(-0.546818,0,label=\"Root\")\n",
    "plt.legend(loc=\"best\")\n",
    "plt.xlabel(\"x\")\n",
    "plt.ylabel(\"y\")\n",
    "plt.title(\"Guess 1 and 2\")\n",
    "plt.show()"
   ]
  },
  {
   "cell_type": "markdown",
   "metadata": {},
   "source": [
    "## Iteration 3"
   ]
  },
  {
   "cell_type": "code",
   "execution_count": 10,
   "metadata": {
    "colab": {
     "base_uri": "https://localhost:8080/",
     "height": 328
    },
    "colab_type": "code",
    "executionInfo": {
     "elapsed": 522,
     "status": "ok",
     "timestamp": 1550590896085,
     "user": {
      "displayName": "Alexander Dowling",
      "photoUrl": "https://lh3.googleusercontent.com/-LChdQ2m5OQE/AAAAAAAAAAI/AAAAAAAAAA0/JeXJe4vQJ7M/s64/photo.jpg",
      "userId": "00988067626794866502"
     },
     "user_tz": 300
    },
    "id": "N2B9_uM33Ax7",
    "outputId": "dc65db44-b769-4cf8-825f-43d91a938f28"
   },
   "outputs": [
    {
     "name": "stdout",
     "output_type": "stream",
     "text": [
      "Guess 2 = 2.5\n",
      "Guess 3 = 1.8571428571428572\n"
     ]
    },
    {
     "data": {
      "image/png": "[encoded data removed]",
      "text/plain": [
       "<Figure size 432x288 with 1 Axes>"
      ]
     },
     "metadata": {
      "needs_background": "light"
     },
     "output_type": "display_data"
    }
   ],
   "source": [
    "guess = new_guess\n",
    "print(\"Guess 2 =\",guess)\n",
    "slope = d_comp_root(guess)\n",
    "plt.plot(X,comp_root(X),label=\"f(x)\")\n",
    "plt.plot(X,0*X,\"--\",label=\"y = 0\")\n",
    "plt.plot(X,comp_root(guess) + slope*(X-guess), label=\"Tangent at guess\")\n",
    "plt.plot(np.array([guess,guess]),np.array([0,comp_root(guess)]),'r--')\n",
    "plt.scatter(guess,comp_root(guess),label=\"guess $2$\",c=\"red\")\n",
    "new_guess = guess-comp_root(guess)/slope\n",
    "print(\"Guess 3 =\",new_guess)\n",
    "plt.scatter(new_guess,comp_root(new_guess),marker=\"*\",label=\"guess $3$\",c=\"red\")\n",
    "plt.plot(np.array([new_guess,new_guess]),np.array([0,comp_root(new_guess)]),'r--')\n",
    "plt.scatter(-0.546818,0,label=\"Root\")\n",
    "plt.legend(loc=\"best\")\n",
    "plt.xlabel(\"x\")\n",
    "plt.ylabel(\"y\")\n",
    "plt.title(\"Guess 2 and 3\")\n",
    "plt.show()"
   ]
  },
  {
   "cell_type": "markdown",
   "metadata": {},
   "source": [
    "## Iteration 4"
   ]
  },
  {
   "cell_type": "code",
   "execution_count": 11,
   "metadata": {
    "colab": {
     "base_uri": "https://localhost:8080/",
     "height": 328
    },
    "colab_type": "code",
    "executionInfo": {
     "elapsed": 630,
     "status": "ok",
     "timestamp": 1550590901463,
     "user": {
      "displayName": "Alexander Dowling",
      "photoUrl": "https://lh3.googleusercontent.com/-LChdQ2m5OQE/AAAAAAAAAAI/AAAAAAAAAA0/JeXJe4vQJ7M/s64/photo.jpg",
      "userId": "00988067626794866502"
     },
     "user_tz": 300
    },
    "id": "8FL0jzWt3Ax8",
    "outputId": "f2288bda-3b49-45ca-c670-0f185a2c5d2b"
   },
   "outputs": [
    {
     "name": "stdout",
     "output_type": "stream",
     "text": [
      "Guess 3 = 1.8571428571428572\n",
      "Guess 4 = 2.6389961389961383\n"
     ]
    },
    {
     "data": {
      "image/png": "[encoded data removed]",
      "text/plain": [
       "<Figure size 432x288 with 1 Axes>"
      ]
     },
     "metadata": {
      "needs_background": "light"
     },
     "output_type": "display_data"
    }
   ],
   "source": [
    "guess = new_guess\n",
    "print(\"Guess 3 =\",guess)\n",
    "slope = d_comp_root(guess)\n",
    "plt.plot(X,comp_root(X),label=\"f(x)\")\n",
    "plt.plot(X,0*X,\"--\",label=\"y = 0\")\n",
    "plt.plot(X,comp_root(guess) + slope*(X-guess), label=\"Tangent at guess\")\n",
    "plt.plot(np.array([guess,guess]),np.array([0,comp_root(guess)]),'r--')\n",
    "plt.scatter(guess,comp_root(guess),label=\"guess $3$\",c=\"red\")\n",
    "new_guess = guess-comp_root(guess)/slope\n",
    "print(\"Guess 4 =\",new_guess)\n",
    "plt.scatter(new_guess,comp_root(new_guess),marker=\"*\",label=\"guess $4$\",c=\"red\")\n",
    "plt.plot(np.array([new_guess,new_guess]),np.array([0,comp_root(new_guess)]),'r--')\n",
    "plt.scatter(-0.546818,0,label=\"Root\")\n",
    "plt.legend(loc=\"best\")\n",
    "plt.xlabel(\"x\")\n",
    "plt.ylabel(\"y\")\n",
    "plt.title(\"Guess 3 and 4\")\n",
    "plt.show()"
   ]
  },
  {
   "cell_type": "markdown",
   "metadata": {
    "colab_type": "text",
    "id": "H8sqkTfC3Ax-"
   },
   "source": [
    "Notice that the presence of the complex root causes the solution to oscillate around the local minimum of the function. Eventually, the method will converge on the root, but it takes many iterations to do so. The upside, however, is that it does eventually converge."
   ]
  }
 ],
 "metadata": {
  "colab": {
   "collapsed_sections": [],
   "name": "L11-Newton-Method-Nonlinear-Equation-Solving.ipynb",
   "provenance": [],
   "version": "0.3.2"
  },
  "kernelspec": {
   "display_name": "Python 3 (ipykernel)",
   "language": "python",
   "name": "python3"
  },
  "language_info": {
   "codemirror_mode": {
    "name": "ipython",
    "version": 3
   },
   "file_extension": ".py",
   "mimetype": "text/x-python",
   "name": "python",
   "nbconvert_exporter": "python",
   "pygments_lexer": "ipython3",
   "version": "3.9.12"
  }
 },
 "nbformat": 4,
 "nbformat_minor": 4
}
