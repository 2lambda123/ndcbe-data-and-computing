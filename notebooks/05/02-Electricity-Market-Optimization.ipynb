{
 "cells": [
  {
   "cell_type": "markdown",
   "metadata": {
    "colab_type": "text",
    "id": "uWElxhs6QiCg"
   },
   "source": [
    "# Electricity Market Optimization\n"
   ]
  },
  {
   "cell_type": "markdown",
   "metadata": {},
   "source": [
    "<div style=\"background-color: rgba(0,255,0,0.05) ; padding: 10px; border: 1px solid darkgreen;\"> \n",
    "<b>Home Activity</b>: You are expected to read this entire notebook before class.\n",
    "</div>"
   ]
  },
  {
   "cell_type": "code",
   "execution_count": 11,
   "metadata": {
    "tags": []
   },
   "outputs": [],
   "source": [
    "import numpy as np\n",
    "import matplotlib.pyplot as plt\n",
    "import pandas as pd\n",
    "from pyomo.environ import *"
   ]
  },
  {
   "cell_type": "markdown",
   "metadata": {},
   "source": [
    "## Learning Objectives\n",
    "\n",
    "After studying this notebook, completing the activities, and asking questions in class, you should be able to:\n",
    "* Solve more complex optimization problems using pyomo.\n",
    "* Create mathematical models on paper.\n",
    "* Answer questions using/interpreting the pyomo model results."
   ]
  },
  {
   "cell_type": "markdown",
   "metadata": {},
   "source": [
    "## Optimal Operation of Battery Energy Storage"
   ]
  },
  {
   "cell_type": "markdown",
   "metadata": {},
   "source": [
    "Grid-scale battery energy storage systems (BESS) are expected to play a critical role in supporting wide-spread adoption of renewable electricity. In an effort to *future proof* their electric grid, California has mandated over **1 GW** of BESS power capacity be brought online by 2020. For context, the [peak electricity demand in California](https://www.caiso.com/documents/californiaisopeakloadhistory.pdf) for 2021 was 44 GW.\n",
    "\n",
    "For policy-makers, technology developers, and investors, there is a critical need to understand the true value of energy storage systems. In California and many regions throughout the United States, electricity is purchased and sold in a wholesale market with time-varying prices (units of \\$ / MWh). In principle, a smart battery operator wants to **buy low** (charge) and **sell high** (discharge). This is known as energy arbitrage. "
   ]
  },
  {
   "cell_type": "markdown",
   "metadata": {},
   "source": [
    "### Visualize Price Data\n",
    "\n",
    "The text file `Prices_DAM_ALTA2G_7_B1.csv` contains an entire year of wholesale energy prices for Chino, CA. Let's import and inspect the data using Pandas. Our text file contains only one column and no header. We will manually specify \"Price\" as the name for the single column."
   ]
  },
  {
   "cell_type": "markdown",
   "metadata": {},
   "source": [
    "<div style=\"background-color: rgba(0,0,255,0.05) ; padding: 10px; border: 1px solid darkblue;\"> \n",
    "<b>Class Activity</b>: Run the code below.\n",
    "</div>"
   ]
  },
  {
   "cell_type": "code",
   "execution_count": 12,
   "metadata": {},
   "outputs": [
    {
     "data": {
      "text/html": [
       "<div>\n",
       "<style scoped>\n",
       "    .dataframe tbody tr th:only-of-type {\n",
       "        vertical-align: middle;\n",
       "    }\n",
       "\n",
       "    .dataframe tbody tr th {\n",
       "        vertical-align: top;\n",
       "    }\n",
       "\n",
       "    .dataframe thead th {\n",
       "        text-align: right;\n",
       "    }\n",
       "</style>\n",
       "<table border=\"1\" class=\"dataframe\">\n",
       "  <thead>\n",
       "    <tr style=\"text-align: right;\">\n",
       "      <th></th>\n",
       "      <th>Price</th>\n",
       "    </tr>\n",
       "  </thead>\n",
       "  <tbody>\n",
       "    <tr>\n",
       "      <th>0</th>\n",
       "      <td>36.757</td>\n",
       "    </tr>\n",
       "    <tr>\n",
       "      <th>1</th>\n",
       "      <td>34.924</td>\n",
       "    </tr>\n",
       "    <tr>\n",
       "      <th>2</th>\n",
       "      <td>33.389</td>\n",
       "    </tr>\n",
       "    <tr>\n",
       "      <th>3</th>\n",
       "      <td>32.035</td>\n",
       "    </tr>\n",
       "    <tr>\n",
       "      <th>4</th>\n",
       "      <td>33.694</td>\n",
       "    </tr>\n",
       "  </tbody>\n",
       "</table>\n",
       "</div>"
      ],
      "text/plain": [
       "    Price\n",
       "0  36.757\n",
       "1  34.924\n",
       "2  33.389\n",
       "3  32.035\n",
       "4  33.694"
      ]
     },
     "execution_count": 12,
     "metadata": {},
     "output_type": "execute_result"
    }
   ],
   "source": [
    "data = pd.read_csv('../data/Prices_DAM_ALTA2G_7_B1.csv',names=['Price'])\n",
    "data.head()"
   ]
  },
  {
   "cell_type": "markdown",
   "metadata": {},
   "source": [
    "Let's compute some summary statistics."
   ]
  },
  {
   "cell_type": "code",
   "execution_count": 13,
   "metadata": {},
   "outputs": [
    {
     "data": {
      "text/html": [
       "<div>\n",
       "<style scoped>\n",
       "    .dataframe tbody tr th:only-of-type {\n",
       "        vertical-align: middle;\n",
       "    }\n",
       "\n",
       "    .dataframe tbody tr th {\n",
       "        vertical-align: top;\n",
       "    }\n",
       "\n",
       "    .dataframe thead th {\n",
       "        text-align: right;\n",
       "    }\n",
       "</style>\n",
       "<table border=\"1\" class=\"dataframe\">\n",
       "  <thead>\n",
       "    <tr style=\"text-align: right;\">\n",
       "      <th></th>\n",
       "      <th>Price</th>\n",
       "    </tr>\n",
       "  </thead>\n",
       "  <tbody>\n",
       "    <tr>\n",
       "      <th>count</th>\n",
       "      <td>8760.000000</td>\n",
       "    </tr>\n",
       "    <tr>\n",
       "      <th>mean</th>\n",
       "      <td>32.516994</td>\n",
       "    </tr>\n",
       "    <tr>\n",
       "      <th>std</th>\n",
       "      <td>9.723477</td>\n",
       "    </tr>\n",
       "    <tr>\n",
       "      <th>min</th>\n",
       "      <td>-2.128700</td>\n",
       "    </tr>\n",
       "    <tr>\n",
       "      <th>25%</th>\n",
       "      <td>26.510000</td>\n",
       "    </tr>\n",
       "    <tr>\n",
       "      <th>50%</th>\n",
       "      <td>30.797500</td>\n",
       "    </tr>\n",
       "    <tr>\n",
       "      <th>75%</th>\n",
       "      <td>37.544750</td>\n",
       "    </tr>\n",
       "    <tr>\n",
       "      <th>max</th>\n",
       "      <td>116.340000</td>\n",
       "    </tr>\n",
       "  </tbody>\n",
       "</table>\n",
       "</div>"
      ],
      "text/plain": [
       "             Price\n",
       "count  8760.000000\n",
       "mean     32.516994\n",
       "std       9.723477\n",
       "min      -2.128700\n",
       "25%      26.510000\n",
       "50%      30.797500\n",
       "75%      37.544750\n",
       "max     116.340000"
      ]
     },
     "execution_count": 13,
     "metadata": {},
     "output_type": "execute_result"
    }
   ],
   "source": [
    "data.describe()"
   ]
  },
  {
   "cell_type": "markdown",
   "metadata": {},
   "source": [
    "Let's make a histogram."
   ]
  },
  {
   "cell_type": "code",
   "execution_count": 14,
   "metadata": {},
   "outputs": [
    {
     "data": {
      "image/png": "[encoded data removed]",
      "text/plain": [
       "<Figure size 432x288 with 1 Axes>"
      ]
     },
     "metadata": {
      "needs_background": "light"
     },
     "output_type": "display_data"
    }
   ],
   "source": [
    "plt.hist(data['Price'])\n",
    "plt.xlabel(\"Price [$/MWh]\")\n",
    "plt.ylabel(\"Frequency\")\n",
    "plt.show()"
   ]
  },
  {
   "cell_type": "markdown",
   "metadata": {},
   "source": [
    "Finally, let's plot the prices for the first three days in the data set."
   ]
  },
  {
   "cell_type": "code",
   "execution_count": 15,
   "metadata": {},
   "outputs": [
    {
     "data": {
      "image/png": "[encoded data removed]",
      "text/plain": [
       "<Figure size 432x288 with 1 Axes>"
      ]
     },
     "metadata": {
      "needs_background": "light"
     },
     "output_type": "display_data"
    }
   ],
   "source": [
    "# determine number of hours to plot\n",
    "nT = 3*24\n",
    "\n",
    "# determine hour we should start counting\n",
    "# 0 means start counting at the first hour, i.e., midnight on January 1, 2015\n",
    "t = 0 + np.arange(nT+1)\n",
    "price_data = data[\"Price\"][t]\n",
    "\n",
    "# Make plot.\n",
    "plt.figure()\n",
    "plt.step(t,price_data,'m.-',where='post')\n",
    "plt.xlabel('Time (hr)')\n",
    "plt.ylabel('Energy Price ($/MWh)')\n",
    "plt.xticks(range(0,nT+1,12))\n",
    "plt.show()"
   ]
  },
  {
   "cell_type": "markdown",
   "metadata": {},
   "source": [
    "### Create Mathematical Model"
   ]
  },
  {
   "cell_type": "markdown",
   "metadata": {},
   "source": [
    "For simplicity, assume a battery energy storage system is *price-taker*, i.e., they are subject to the market price but their actions do not influence the market price. During each hour $t$, the battery operator decided to either charge (buy energy) or discharge (sell energy) at rates $c_t$ and $d_t$ (units: MW), respectively, subject to the market price $p_t$ (units: \\$/MWh)."
   ]
  },
  {
   "cell_type": "markdown",
   "metadata": {},
   "source": [
    "Assume the battery has a round trip efficiency of $\\eta = 88\\%$. Let $E_t$ represent the state-of-charge at time $t$ (units: MW). "
   ]
  },
  {
   "cell_type": "markdown",
   "metadata": {},
   "source": [
    "![](../../media/battery2.png)"
   ]
  },
  {
   "cell_type": "markdown",
   "metadata": {},
   "source": [
    "<div style=\"background-color: rgba(0,0,255,0.05) ; padding: 10px; border: 1px solid darkblue;\"> \n",
    "<b>Class Activity</b>: Using the picture above, sketch the battery system. Label $d_t$, $c_t$, $E_t$, and $p_t$ on your sketch. Verify the units are consistent.\n",
    "</div>"
   ]
  },
  {
   "cell_type": "markdown",
   "metadata": {},
   "source": [
    "We can now write a constrained optimization problem to compute the optimal market participation strategy (when to buy and sell)."
   ]
  },
  {
   "cell_type": "markdown",
   "metadata": {},
   "source": [
    "\\begin{align*}\n",
    "    \\max_{E,d,c} \\quad & \\psi := \\sum_{t = 1}^{N} p_{t} (d_{t} - c_{t}) \\\\\n",
    "\\mathrm{s.t.} \\quad & E_{t} = E_{t-1} + c_{t} \\sqrt{\\eta} - \\frac{d_{t}}{\\sqrt{\\eta}}, ~~ \\forall ~ t \\in \\{1,...,N\\} \\\\\n",
    "    & 0 \\leq c_{t} \\leq c_{max}, ~~ 0 \\leq d_{t} \\leq d_{max}, \\nonumber \\\\\n",
    "    & 0 \\leq E_{t} \\leq E_{max},  ~~\\forall ~ t \\in \\{1,...,N\\}\n",
    "\\end{align*}"
   ]
  },
  {
   "cell_type": "markdown",
   "metadata": {},
   "source": [
    "<div style=\"background-color: rgba(0,0,255,0.05) ; padding: 10px; border: 1px solid darkblue;\"> \n",
    "<b>Class Activity</b>: Discuss the optimization problem above with a partner. Then, write a few sentences to explain each equation.\n",
    "</div>"
   ]
  },
  {
   "cell_type": "markdown",
   "metadata": {},
   "source": [
    "### Define Pyomo Model"
   ]
  },
  {
   "cell_type": "markdown",
   "metadata": {},
   "source": [
    "We can now write the optimization problem in Pyomo. We will create a set `TIME` to write the model compactly. For a review on creating concrete models, refer to the previous notebook (01-Pyomo-Basics)."
   ]
  },
  {
   "cell_type": "markdown",
   "metadata": {},
   "source": [
    "<div style=\"background-color: rgba(0,0,255,0.05) ; padding: 10px; border: 1px solid darkblue;\"> \n",
    "<b>Class Activity</b>: Finish the Pyomo model below.\n",
    "</div>"
   ]
  },
  {
   "cell_type": "code",
   "execution_count": 16,
   "metadata": {
    "tags": []
   },
   "outputs": [],
   "source": [
    "# define a function to build model\n",
    "def build_model(price,e0 = 0):\n",
    "    '''\n",
    "    Create optimization model for battery operation\n",
    "\n",
    "    Inputs:\n",
    "        price: Pandas DataFrame with energy price timeseries\n",
    "        e0: initial value for energy storage level\n",
    "    \n",
    "    Output:\n",
    "        model: Pyomo optimization model\n",
    "    '''\n",
    "    \n",
    "    # Create a concrete Pyomo model.\n",
    "    model = ConcreteModel()\n",
    "\n",
    "    ## Define Sets\n",
    "\n",
    "    # Number of timesteps in planning horizon\n",
    "    model.TIME = Set(initialize = price.index)\n",
    "\n",
    "    ## Define Parameters\n",
    "\n",
    "    # Square root of round trip efficiency\n",
    "    model.sqrteta = Param(initialize = sqrt(0.88))\n",
    "\n",
    "    # Energy in battery at t=0\n",
    "    model.E0 = Param(initialize = e0, mutable=True)\n",
    "\n",
    "    # Charging rate [MW]\n",
    "    model.c = Var(model.TIME, initialize = 0.0, bounds=(0, 1))\n",
    "\n",
    "    ### BEGIN SOLUTION\n",
    "    # Discharging rate [MW]\n",
    "    model.d = Var(model.TIME, initialize = 0.0, bounds=(0, 1))\n",
    "\n",
    "    # Energy (state-of-charge) [MWh]\n",
    "    model.E = Var(model.TIME, initialize = 0.0, bounds=(0, 4))\n",
    "    ### END SOLUTION\n",
    "    \n",
    "    ## Define constraints\n",
    "    \n",
    "    # Define Energy Balance constraints. [MWh] = [MW]*[1 hr]\n",
    "    # Note: this model assumes 1-hour timestep in price data and control actions.\n",
    "    def EnergyBalance(model,t):\n",
    "        # First timestep\n",
    "        if t == 0 :\n",
    "            return model.E[t] == model.E0 + model.c[t]*model.sqrteta-model.d[t]/model.sqrteta \n",
    "        \n",
    "        # Subsequent timesteps\n",
    "        else :\n",
    "            ### BEGIN SOLUTION\n",
    "            return model.E[t] == model.E[t-1]+model.c[t]*model.sqrteta-model.d[t]/model.sqrteta\n",
    "            ### END SOLUTION\n",
    "    \n",
    "    model.EnergyBalance_Con = Constraint(model.TIME, rule = EnergyBalance)\n",
    "    \n",
    "    ## Define the objective function (profit)\n",
    "    # Receding horizon\n",
    "    def objfun(model):\n",
    "        return  sum((-model.c[t] + model.d[t]) * price[t] for t in model.TIME)\n",
    "    model.OBJ = Objective(rule = objfun, sense = maximize)\n",
    "    \n",
    "    return model"
   ]
  },
  {
   "cell_type": "markdown",
   "metadata": {},
   "source": [
    "### Solve Optimization Model"
   ]
  },
  {
   "cell_type": "markdown",
   "metadata": {},
   "source": [
    "We can now create an instance of our Pyomo model. Notice the function `build_model` requires we pass in a Pandas DataFrame with the price data. Let's try the first day only."
   ]
  },
  {
   "cell_type": "code",
   "execution_count": 17,
   "metadata": {},
   "outputs": [
    {
     "name": "stdout",
     "output_type": "stream",
     "text": [
      "Ipopt 3.12.13: \n",
      "\n",
      "******************************************************************************\n",
      "This program contains Ipopt, a library for large-scale nonlinear optimization.\n",
      " Ipopt is released as open source code under the Eclipse Public License (EPL).\n",
      "         For more information visit http://projects.coin-or.org/Ipopt\n",
      "******************************************************************************\n",
      "\n",
      "This is Ipopt version 3.12.13, running with linear solver mumps.\n",
      "NOTE: Other linear solvers might be more efficient (see Ipopt documentation).\n",
      "\n",
      "Number of nonzeros in equality constraint Jacobian...:       95\n",
      "Number of nonzeros in inequality constraint Jacobian.:        0\n",
      "Number of nonzeros in Lagrangian Hessian.............:        0\n",
      "\n",
      "Total number of variables............................:       72\n",
      "                     variables with only lower bounds:        0\n",
      "                variables with lower and upper bounds:       72\n",
      "                     variables with only upper bounds:        0\n",
      "Total number of equality constraints.................:       24\n",
      "Total number of inequality constraints...............:        0\n",
      "        inequality constraints with only lower bounds:        0\n",
      "   inequality constraints with lower and upper bounds:        0\n",
      "        inequality constraints with only upper bounds:        0\n",
      "\n",
      "iter    objective    inf_pr   inf_du lg(mu)  ||d||  lg(rg) alpha_du alpha_pr  ls\n",
      "   0  2.1094237e-15 1.13e-02 2.99e+01  -1.0 0.00e+00    -  0.00e+00 0.00e+00   0\n",
      "   1 -1.4124684e-01 1.07e-02 2.72e+01  -1.0 2.03e-01    -  8.78e-02 4.88e-02f  1\n",
      "   2 -2.6373063e+00 8.29e-03 2.74e+01  -1.0 8.21e-01    -  5.78e-02 2.27e-01f  1\n",
      "   3 -2.2360880e+01 6.20e-03 2.78e+01  -1.0 3.20e+00    -  3.56e-02 2.52e-01f  1\n",
      "   4 -3.8049600e+01 5.73e-03 2.51e+01  -1.0 8.23e+00    -  9.39e-02 7.63e-02f  1\n",
      "   5 -5.9077018e+01 4.87e-03 2.34e+01  -1.0 6.97e+00    -  8.18e-02 1.50e-01f  1\n",
      "   6 -7.9367583e+01 3.64e-03 2.18e+01  -1.0 4.22e+00    -  9.20e-02 2.52e-01f  1\n",
      "   7 -8.5414120e+01 3.02e-03 1.71e+01  -1.0 2.06e+00    -  2.10e-01 1.72e-01f  1\n",
      "   8 -8.9903789e+01 1.64e-03 1.17e+01  -1.0 1.23e+00    -  3.29e-01 4.57e-01f  1\n",
      "   9 -9.2816651e+01 9.05e-04 3.65e+00  -1.0 1.25e+00    -  6.67e-01 4.48e-01f  1\n",
      "iter    objective    inf_pr   inf_du lg(mu)  ||d||  lg(rg) alpha_du alpha_pr  ls\n",
      "  10 -9.3848256e+01 4.09e-04 1.17e+00  -1.0 9.08e-01    -  6.61e-01 5.48e-01f  1\n",
      "  11 -9.3998203e+01 3.54e-05 6.77e-02  -1.0 7.33e-01    -  1.00e+00 9.13e-01f  1\n",
      "  12 -9.8037848e+01 4.44e-16 2.55e-03  -1.7 1.37e-01    -  9.88e-01 1.00e+00f  1\n",
      "  13 -9.9097566e+01 4.44e-16 1.02e-14  -2.5 5.13e-02    -  1.00e+00 1.00e+00f  1\n",
      "  14 -9.9251854e+01 4.44e-16 2.64e-03  -3.8 2.84e-02    -  9.49e-01 1.00e+00f  1\n",
      "  15 -9.9252231e+01 4.44e-16 7.61e-15  -3.8 6.38e-04    -  1.00e+00 1.00e+00f  1\n",
      "  16 -9.9260699e+01 4.44e-16 1.02e-14  -5.7 6.12e-04    -  1.00e+00 1.00e+00f  1\n",
      "  17 -9.9260804e+01 4.44e-16 1.55e-05  -8.6 8.42e-06    -  1.00e+00 9.97e-01f  1\n",
      "  18 -9.9260804e+01 8.88e-16 2.84e-01  -8.6 2.56e-08    -  8.71e-01 1.00e+00f  1\n",
      "  19 -9.9260804e+01 8.88e-16 6.69e-15  -8.6 2.64e-09    -  1.00e+00 1.00e+00h  1\n",
      "\n",
      "Number of Iterations....: 19\n",
      "\n",
      "                                   (scaled)                 (unscaled)\n",
      "Objective...............:  -9.9260804110396435e+01   -9.9260804110396435e+01\n",
      "Dual infeasibility......:   6.6914109375037375e-15    6.6914109375037375e-15\n",
      "Constraint violation....:   8.8817841970012523e-16    8.8817841970012523e-16\n",
      "Complementarity.........:   3.0241425605248160e-09    3.0241425605248160e-09\n",
      "Overall NLP error.......:   3.0241425605248160e-09    3.0241425605248160e-09\n",
      "\n",
      "\n",
      "Number of objective function evaluations             = 20\n",
      "Number of objective gradient evaluations             = 20\n",
      "Number of equality constraint evaluations            = 20\n",
      "Number of inequality constraint evaluations          = 0\n",
      "Number of equality constraint Jacobian evaluations   = 20\n",
      "Number of inequality constraint Jacobian evaluations = 0\n",
      "Number of Lagrangian Hessian evaluations             = 19\n",
      "Total CPU secs in IPOPT (w/o function evaluations)   =      0.029\n",
      "Total CPU secs in NLP function evaluations           =      0.000\n",
      "\n",
      "EXIT: Optimal Solution Found.\n",
      "\b"
     ]
    }
   ],
   "source": [
    "# Build the model\n",
    "instance = build_model(data[\"Price\"][0:24],0.0)\n",
    "\n",
    "# Specify the solver\n",
    "solver = SolverFactory('ipopt')\n",
    "\n",
    "# Solve the model\n",
    "results = solver.solve(instance, tee = True)"
   ]
  },
  {
   "cell_type": "markdown",
   "metadata": {},
   "source": [
    "### Extract Solution from Pyomo"
   ]
  },
  {
   "cell_type": "markdown",
   "metadata": {},
   "source": [
    "Excellent. Ipopt terminated with the message `Optimal Solution Found`. Let's inspect the answer."
   ]
  },
  {
   "cell_type": "markdown",
   "metadata": {},
   "source": [
    "<div style=\"background-color: rgba(0,0,255,0.05) ; padding: 10px; border: 1px solid darkblue;\"> \n",
    "<b>Class Activity</b>: Run the code below.\n",
    "</div>"
   ]
  },
  {
   "cell_type": "code",
   "execution_count": 18,
   "metadata": {
    "tags": []
   },
   "outputs": [],
   "source": [
    "# Declare empty lists\n",
    "c_control = []\n",
    "d_control = []\n",
    "E_control = []\n",
    "time = []\n",
    "\n",
    "# Loop over elements of TIME set.\n",
    "for i in instance.TIME:    \n",
    "    # Record the time\n",
    "    time.append(value(i))\n",
    "    \n",
    "    # Use value( ) function to extract the solution for each variable and append to the results lists\n",
    "    c_control.append(value(instance.c[i]))\n",
    "    \n",
    "    # Adding negative sign to discharge for plotting\n",
    "    d_control.append(-value(instance.d[i]))\n",
    "    E_control.append(value(instance.E[i]))"
   ]
  },
  {
   "cell_type": "markdown",
   "metadata": {},
   "source": [
    "### Plot Results"
   ]
  },
  {
   "cell_type": "markdown",
   "metadata": {},
   "source": [
    "Now let's plot the optimal charge and discharge profile."
   ]
  },
  {
   "cell_type": "code",
   "execution_count": 19,
   "metadata": {},
   "outputs": [
    {
     "data": {
      "image/png": "[encoded data removed]",
      "text/plain": [
       "<Figure size 432x288 with 1 Axes>"
      ]
     },
     "metadata": {
      "needs_background": "light"
     },
     "output_type": "display_data"
    },
    {
     "data": {
      "image/png": "[encoded data removed]",
      "text/plain": [
       "<Figure size 432x288 with 1 Axes>"
      ]
     },
     "metadata": {
      "needs_background": "light"
     },
     "output_type": "display_data"
    }
   ],
   "source": [
    "# Plot the state of charge (E)\n",
    "plt.figure()\n",
    "plt.plot(time,E_control,'b.-')\n",
    "plt.xlabel('Time (hr)')\n",
    "plt.ylabel('SOC (MWh)')\n",
    "plt.xticks(range(0,24,3))\n",
    "plt.show()\n",
    "\n",
    "# Plot the charging and discharging rates \n",
    "# we can do a step/stair plot as the control values are constant across each hr\n",
    "plt.figure()\n",
    "plt.step(time,c_control,'r.-',where=\"post\")\n",
    "plt.step(time,d_control,'g.-',where=\"post\")\n",
    "plt.xlabel('Time (hr)')\n",
    "plt.ylabel('Power from Grid (MW)')\n",
    "plt.xticks(range(0,24,3))\n",
    "plt.show()\n"
   ]
  },
  {
   "cell_type": "markdown",
   "metadata": {},
   "source": [
    "### How much money can a 4 MWh battery make in a year?"
   ]
  },
  {
   "cell_type": "markdown",
   "metadata": {
    "nbgrader": {
     "grade": false,
     "locked": false,
     "solution": false
    }
   },
   "source": [
    "<div style=\"background-color: rgba(0,0,255,0.05) ; padding: 10px; border: 1px solid darkblue;\"> \n",
    "<b>Class Activity</b>: Copy the code from the cell below the heading <b> Solve Optimization Model </b> to the cell below. Then modify to calculate the revenue for an entire year. Hint: Do NOT modify the function `create_model`.\n",
    "</div>"
   ]
  },
  {
   "cell_type": "code",
   "execution_count": 20,
   "metadata": {},
   "outputs": [
    {
     "name": "stdout",
     "output_type": "stream",
     "text": [
      "Ipopt 3.12.13: \n",
      "\n",
      "******************************************************************************\n",
      "This program contains Ipopt, a library for large-scale nonlinear optimization.\n",
      " Ipopt is released as open source code under the Eclipse Public License (EPL).\n",
      "         For more information visit http://projects.coin-or.org/Ipopt\n",
      "******************************************************************************\n",
      "\n",
      "This is Ipopt version 3.12.13, running with linear solver mumps.\n",
      "NOTE: Other linear solvers might be more efficient (see Ipopt documentation).\n",
      "\n",
      "Number of nonzeros in equality constraint Jacobian...:    35039\n",
      "Number of nonzeros in inequality constraint Jacobian.:        0\n",
      "Number of nonzeros in Lagrangian Hessian.............:        0\n",
      "\n",
      "Total number of variables............................:    26280\n",
      "                     variables with only lower bounds:        0\n",
      "                variables with lower and upper bounds:    26280\n",
      "                     variables with only upper bounds:        0\n",
      "Total number of equality constraints.................:     8760\n",
      "Total number of inequality constraints...............:        0\n",
      "        inequality constraints with only lower bounds:        0\n",
      "   inequality constraints with lower and upper bounds:        0\n",
      "        inequality constraints with only upper bounds:        0\n",
      "\n",
      "iter    objective    inf_pr   inf_du lg(mu)  ||d||  lg(rg) alpha_du alpha_pr  ls\n",
      "   0 -1.4265256e-12 1.13e-02 2.01e+01  -1.0 0.00e+00    -  0.00e+00 0.00e+00   0\n",
      "   1  2.0748446e+02 1.02e-02 1.87e+01  -1.0 2.29e-01    -  7.14e-02 9.38e-02f  1\n",
      "   2  1.2878907e+02 8.90e-03 1.86e+01  -1.0 1.32e+00    -  3.65e-02 1.29e-01f  1\n",
      "   3 -3.0565744e+02 8.10e-03 1.85e+01  -1.0 5.90e+00    -  2.60e-02 8.93e-02f  1\n",
      "   4 -8.2367026e+02 7.70e-03 1.79e+01  -1.0 1.18e+01    -  3.67e-02 4.97e-02f  1\n",
      "   5 -1.6963163e+03 7.28e-03 1.73e+01  -1.0 1.63e+01    -  3.90e-02 5.48e-02f  1\n",
      "   6 -3.3783979e+03 6.73e-03 1.70e+01  -1.0 1.28e+01    -  2.51e-02 7.59e-02f  1\n",
      "   7 -4.8399880e+03 6.32e-03 1.61e+01  -1.0 9.92e+00    -  5.62e-02 6.11e-02f  1\n",
      "   8 -6.5735466e+03 5.89e-03 1.53e+01  -1.0 8.87e+00    -  5.36e-02 6.67e-02f  1\n",
      "   9 -9.4760273e+03 5.24e-03 1.50e+01  -1.0 7.89e+00    -  3.45e-02 1.11e-01f  1\n",
      "iter    objective    inf_pr   inf_du lg(mu)  ||d||  lg(rg) alpha_du alpha_pr  ls\n",
      "  10 -1.1338827e+04 4.80e-03 1.40e+01  -1.0 5.74e+00    -  7.04e-02 8.36e-02f  1\n",
      "  11 -1.3594338e+04 4.29e-03 1.30e+01  -1.0 5.39e+00    -  7.77e-02 1.08e-01f  1\n",
      "  12 -1.6138331e+04 3.72e-03 1.26e+01  -1.0 5.01e+00    -  7.33e-02 1.32e-01f  1\n",
      "  13 -1.8398194e+04 3.20e-03 1.19e+01  -1.0 4.17e+00    -  9.64e-02 1.40e-01f  1\n",
      "  14 -2.0238358e+04 2.75e-03 1.11e+01  -1.0 3.76e+00    -  1.01e-01 1.40e-01f  1\n",
      "  15 -2.2207864e+04 2.24e-03 9.97e+00  -1.0 3.49e+00    -  1.36e-01 1.87e-01f  1\n",
      "  16 -2.3865802e+04 1.75e-03 8.54e+00  -1.0 2.83e+00    -  1.72e-01 2.17e-01f  1\n",
      "  17 -2.4915328e+04 1.40e-03 6.62e+00  -1.0 2.54e+00    -  2.17e-01 2.02e-01f  1\n",
      "  18 -2.6025064e+04 9.75e-04 5.25e+00  -1.0 2.15e+00    -  2.41e-01 3.03e-01f  1\n",
      "  19 -2.6714253e+04 6.54e-04 3.17e+00  -1.0 1.64e+00    -  3.74e-01 3.29e-01f  1\n",
      "iter    objective    inf_pr   inf_du lg(mu)  ||d||  lg(rg) alpha_du alpha_pr  ls\n",
      "  20 -2.7173480e+04 3.93e-04 1.58e+00  -1.0 1.36e+00    -  4.66e-01 3.99e-01f  1\n",
      "  21 -2.7569525e+04 1.13e-04 3.67e-01  -1.0 9.92e-01    -  8.72e-01 7.13e-01f  1\n",
      "  22 -2.8821288e+04 3.41e-05 9.93e-02  -1.7 6.97e-01    -  5.82e-01 6.97e-01f  1\n",
      "  23 -2.9338373e+04 1.65e-05 1.23e-01  -2.5 6.46e-01    -  4.15e-01 5.17e-01f  1\n",
      "  24 -2.9576291e+04 8.74e-06 1.66e-01  -2.5 6.75e-01    -  3.67e-01 4.70e-01f  1\n",
      "  25 -2.9703152e+04 4.71e-06 3.83e-02  -2.5 6.19e-01    -  5.46e-01 4.62e-01f  1\n",
      "  26 -2.9791043e+04 1.97e-06 1.59e-02  -2.5 4.48e-01    -  5.84e-01 5.81e-01f  1\n",
      "  27 -2.9862087e+04 8.85e-07 3.44e-02  -3.8 3.90e-01    -  4.58e-01 5.51e-01f  1\n",
      "  28 -2.9888279e+04 4.89e-07 2.88e-02  -3.8 5.11e-01    -  3.99e-01 4.47e-01f  1\n",
      "  29 -2.9907078e+04 2.06e-07 2.71e-02  -3.8 6.00e-01    -  4.54e-01 5.78e-01f  1\n",
      "iter    objective    inf_pr   inf_du lg(mu)  ||d||  lg(rg) alpha_du alpha_pr  ls\n",
      "  30 -2.9915085e+04 8.63e-08 1.18e-02  -3.8 3.18e-01    -  5.75e-01 5.81e-01f  1\n",
      "  31 -2.9919911e+04 1.43e-08 2.67e-02  -3.8 2.16e-01    -  5.13e-01 8.34e-01f  1\n",
      "  32 -2.9920812e+04 9.66e-10 6.88e-03  -3.8 1.40e-01    -  1.00e+00 9.33e-01f  1\n",
      "  33 -2.9920878e+04 8.88e-16 1.07e-14  -3.8 7.17e-02    -  1.00e+00 1.00e+00f  1\n",
      "  34 -2.9923433e+04 8.88e-16 7.13e-04  -5.7 1.06e-01    -  8.16e-01 7.00e-01f  1\n",
      "  35 -2.9924388e+04 8.88e-16 9.82e-05  -5.7 5.79e-02    -  8.81e-01 8.73e-01f  1\n",
      "  36 -2.9924522e+04 8.88e-16 5.71e-05  -5.7 2.01e-01    -  1.00e+00 9.63e-01f  1\n",
      "  37 -2.9924527e+04 8.88e-16 1.02e-14  -5.7 3.46e-02    -  1.00e+00 1.00e+00f  1\n",
      "  38 -2.9924572e+04 1.33e-15 9.06e-04  -8.6 3.73e-02    -  8.56e-01 9.93e-01f  1\n",
      "  39 -2.9924572e+04 8.88e-16 1.72e-01  -8.6 6.70e-03    -  1.00e+00 7.81e-01f  1\n",
      "iter    objective    inf_pr   inf_du lg(mu)  ||d||  lg(rg) alpha_du alpha_pr  ls\n",
      "  40 -2.9924572e+04 1.33e-15 1.22e-14  -8.6 1.40e-03    -  1.00e+00 1.00e+00f  1\n",
      "\n",
      "Number of Iterations....: 40\n",
      "\n",
      "                                   (scaled)                 (unscaled)\n",
      "Objective...............:  -2.5721653825666763e+04   -2.9924572060780712e+04\n",
      "Dual infeasibility......:   1.2178002166165205e-14    1.4167887720116600e-14\n",
      "Constraint violation....:   1.3322676295501878e-15    1.3322676295501878e-15\n",
      "Complementarity.........:   4.1788718664542604e-09    4.8616995294328863e-09\n",
      "Overall NLP error.......:   4.1788718664542604e-09    4.8616995294328863e-09\n",
      "\n",
      "\n",
      "Number of objective function evaluations             = 41\n",
      "Number of objective gradient evaluations             = 41\n",
      "Number of equality constraint evaluations            = 41\n",
      "Number of inequality constraint evaluations          = 0\n",
      "Number of equality constraint Jacobian evaluations   = 41\n",
      "Number of inequality constraint Jacobian evaluations = 0\n",
      "Number of Lagrangian Hessian evaluations             = 40\n",
      "Total CPU secs in IPOPT (w/o function evaluations)   =      2.845\n",
      "Total CPU secs in NLP function evaluations           =      0.028\n",
      "\n",
      "EXIT: Optimal Solution Found.\n",
      "\bRevenue in 2015: $ 29924.57150833467\n"
     ]
    }
   ],
   "source": [
    "### BEGIN SOLUTION\n",
    "# Build the model\n",
    "entire_year = build_model(data[\"Price\"][:],0.0)\n",
    "\n",
    "# Specify the solver\n",
    "solver = SolverFactory('ipopt')\n",
    "\n",
    "# Solve the model\n",
    "entire_year_results = solver.solve(entire_year, tee = True)\n",
    "\n",
    "print(\"Revenue in 2015: $\",value(entire_year.OBJ))\n",
    "\n",
    "### END SOLUTION\n"
   ]
  }
 ],
 "metadata": {
  "colab": {
   "name": "L12-Optimization.ipynb",
   "provenance": [],
   "version": "0.3.2"
  },
  "kernelspec": {
   "display_name": "Python 3 (ipykernel)",
   "language": "python",
   "name": "python3"
  },
  "language_info": {
   "codemirror_mode": {
    "name": "ipython",
    "version": 3
   },
   "file_extension": ".py",
   "mimetype": "text/x-python",
   "name": "python",
   "nbconvert_exporter": "python",
   "pygments_lexer": "ipython3",
   "version": "3.9.12"
  }
 },
 "nbformat": 4,
 "nbformat_minor": 4
}
