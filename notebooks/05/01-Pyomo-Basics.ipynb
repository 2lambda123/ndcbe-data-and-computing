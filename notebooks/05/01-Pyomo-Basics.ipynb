{
 "cells": [
  {
   "cell_type": "markdown",
   "metadata": {
    "colab_type": "text",
    "id": "uWElxhs6QiCg"
   },
   "source": [
    "# Pyomo Basics\n",
    "\n",
    "&#169; University of Notre Dame. CBE 20258. Spring 2020."
   ]
  },
  {
   "cell_type": "code",
   "execution_count": 1,
   "metadata": {
    "tags": []
   },
   "outputs": [],
   "source": [
    "import numpy as np\n",
    "import matplotlib.pyplot as plt\n",
    "import pandas as pd\n",
    "from pyomo.environ import *"
   ]
  },
  {
   "cell_type": "markdown",
   "metadata": {
    "colab_type": "text",
    "id": "1lVogO-vQl9f"
   },
   "source": [
    "## Overview\n",
    "\n",
    "So far, we have learned to numerically solve square systems of equations, i.e., systems with zero degrees of freedom. But as engineers, we often want to use extra degrees of freedom to improve one or more objective functions. For example, we may want to change the recycle flowrate in a chemical process to balance energy usage (operating cost) and equipment size (capital cost).\n",
    "\n",
    "Here are two articles that give more examples of optimization problems.\n",
    "\n",
    "1. [Water Reuse Networks](https://www.sciencedirect.com/science/article/pii/S0098135404001565?casa_token=vO761nMJ9CwAAAAA:rThzdy07Zgoi9Y5Bd7soAJnwbILWHQZ2zzN4rsvujeWjEyyfew_rXVgbAuuYdTGrDKbj9-JbLgQ)\n",
    "2. [Training Machine Learning Models](https://aiche.onlinelibrary.wiley.com/doi/abs/10.1002/prs.12103?casa_token=t7j78jzYFyMAAAAA:MDnYJdgSrlNsniudvbMQEdo8gqBLOnYMK06yCgyMsVnX3Fm8BLo2G8b3RU_gZyFFg4bUrFVwRYKrkBg)\n",
    "\n",
    "Consider joining AIChE (American Institute of Chemical Engineers) for free as an undergraduate student:  https://www.aiche.org/community/students/student-membership"
   ]
  },
  {
   "cell_type": "markdown",
   "metadata": {
    "colab_type": "text",
    "id": "OnjgN_YGQiCk"
   },
   "source": [
    "## Constrained Nonlinear Optimization: Canonical Form\n",
    "\n",
    "Below is a nonlinear optimization problem in canonical form.\n",
    "\n",
    "$$\\begin{align}\\min \\quad & f(x) \\\\\n",
    "\\mathrm{s.t.} \\quad & g(x) \\geq 0 \\\\\n",
    " & h(x) = 0 \\\\\n",
    " & x \\in \\mathbb{R}^{n}\\end{align}$$\n",
    "\n",
    "Note: Some textbooks alternately write $g(x) \\leq 0$ as canonical form.\n",
    "\n",
    "Let's walk through each part.\n",
    "* $x$ is a $1 \\times n$ vector, known as the **decision variable**. We will stick with real numbers, i.e., $x \\in \\mathbb{R}^n$. Temperatures, pressures, flowrates, and compositions are typical decision variables in chemical engineering problems.\n",
    "* $f(x)$ is a scalar-valued function, known as the **objective function**. This is the quantity we want to minimize or maximize. Energy usage, efficiency, cost, and envirnomental impact are typical objective functions in chemical engineering problems.\n",
    "* $g(x)$ is a vector-valued function, known as the **inequality constraint**. The most common inequality constraints in chemical engineering problems are **bounds** such as moles fractions are between 0 and 1, temperature must not exceed 1000K for safety reasons, etc. Sometimes we use inequality constraints to model process equipment (e.g., cannot destroy entropy).\n",
    "* $h(x)$ is a vector-valued function, known as the **equality constraint**. Equality constraints are equations such as mass and energy balances, thermodynamic equations of state, and other engineering correlations you learned about in other chemical engineering classes."
   ]
  },
  {
   "cell_type": "markdown",
   "metadata": {},
   "source": [
    "## Pyomo in an Example\n",
    "\n",
    "Let's start with a purely mathematical example:\n",
    "\n",
    "$$\\begin{align*} \\min_{x} \\quad & x_1^2 + 2 x_2^2 - x_3 \\\\\n",
    "\\mathrm{s.t.} \\quad & x_1 + x_2 = 1 \\\\\n",
    "& x_1 + 2 x_2 - x_3 = 5 \\\\\n",
    "& -10 \\leq x_1, x_2, x_3 \\leq 10 \n",
    "\\end{align*} $$\n",
    "\n",
    "We want to solve the constrained optimization problem numerically.\n",
    "\n",
    "``scipy.optimize`` supports several different numerical methods for optimization. Based on past experiences, many of these implementations are not reliable. The solvers also do not use a standard interface.\n",
    "\n",
    "Instead, we will learn how to use Pyomo, an open-source optimization modeling environment for Python. Prof. Dowling uses Pyomo in his research. Moreover, Prof. Kantor will ask you to use Pyomo extensively next year in Process Controls."
   ]
  },
  {
   "cell_type": "markdown",
   "metadata": {},
   "source": [
    "### Declare Model\n",
    "\n",
    "We start by declaring the model in Pyomo."
   ]
  },
  {
   "cell_type": "markdown",
   "metadata": {},
   "source": [
    "<div style=\"background-color: rgba(0,0,255,0.05) ; padding: 10px; border: 1px solid darkblue;\"> \n",
    "<b>Class Activity</b>: Fill in the missing constraint.\n",
    "</div>"
   ]
  },
  {
   "cell_type": "code",
   "execution_count": 2,
   "metadata": {},
   "outputs": [
    {
     "name": "stdout",
     "output_type": "stream",
     "text": [
      "3 Var Declarations\n",
      "    x1 : Size=1, Index=None\n",
      "        Key  : Lower : Value : Upper : Fixed : Stale : Domain\n",
      "        None :   -10 :     1 :    10 : False : False :  Reals\n",
      "    x2 : Size=1, Index=None\n",
      "        Key  : Lower : Value : Upper : Fixed : Stale : Domain\n",
      "        None :   -10 :     1 :    10 : False : False :  Reals\n",
      "    x3 : Size=1, Index=None\n",
      "        Key  : Lower : Value : Upper : Fixed : Stale : Domain\n",
      "        None :   -10 :     1 :    10 : False : False :  Reals\n",
      "\n",
      "1 Objective Declarations\n",
      "    OBJ : Size=1, Index=None, Active=True\n",
      "        Key  : Active : Sense    : Expression\n",
      "        None :   True : minimize : x1**2 + 2*x2**2 - x3\n",
      "\n",
      "2 Constraint Declarations\n",
      "    h1 : Size=1, Index=None, Active=True\n",
      "        Key  : Lower : Body    : Upper : Active\n",
      "        None :   1.0 : x1 + x2 :   1.0 :   True\n",
      "    h2 : Size=1, Index=None, Active=True\n",
      "        Key  : Lower : Body           : Upper : Active\n",
      "        None :   5.0 : x1 + 2*x2 - x3 :   5.0 :   True\n",
      "\n",
      "6 Declarations: x1 x2 x3 OBJ h1 h2\n"
     ]
    }
   ],
   "source": [
    "# Create instance of concrete Pyomo model.\n",
    "# concrete means all of the sets and model data are specified at the time of model construction.\n",
    "# In this class, you'll use a concrete model.\n",
    "m = ConcreteModel()\n",
    "\n",
    "## Declare variables with initial values with bounds\n",
    "m.x1 = Var(initialize=1, bounds=(-10, 10))\n",
    "m.x2 = Var(initialize=1, bounds=(-10, 10))\n",
    "m.x3 = Var(initialize=1, bounds=(-10, 10))\n",
    "\n",
    "## Declare objective\n",
    "m.OBJ = Objective(expr=m.x1**2 + 2*m.x2**2 - m.x3, sense = minimize)\n",
    "\n",
    "## Declare equality constraints\n",
    "m.h1 = Constraint(expr= m.x1 + m.x2 == 1)\n",
    "\n",
    "### BEGIN SOLUTION\n",
    "m.h2 = Constraint(expr= m.x1 + 2*m.x2 - m.x3 == 5)\n",
    "### END SOLUTION\n",
    "\n",
    "## Display model\n",
    "m.pprint()"
   ]
  },
  {
   "cell_type": "markdown",
   "metadata": {},
   "source": [
    "We see a lot of information printed on the screen. For example, we see:\n",
    "\n",
    "```\n",
    "3 Var Declarations\n",
    "    x1 : Size=1, Index=None\n",
    "        Key  : Lower : Value : Upper : Fixed : Stale : Domain\n",
    "        None :   -10 :     1 :    10 : False : False :  Reals\n",
    "```\n",
    "\n",
    "This shows the lower bound, initial value, and upper bound for the variable named `x1`."
   ]
  },
  {
   "cell_type": "markdown",
   "metadata": {},
   "source": [
    "### Solve Numerically\n",
    "\n",
    "We can now solve the optimization problem. We will use the solver `Ipopt`."
   ]
  },
  {
   "cell_type": "markdown",
   "metadata": {},
   "source": [
    "<div style=\"background-color: rgba(0,0,255,0.05) ; padding: 10px; border: 1px solid darkblue;\"> \n",
    "<b>Class Activity</b>: Run the code below.\n",
    "</div>"
   ]
  },
  {
   "cell_type": "code",
   "execution_count": 11,
   "metadata": {},
   "outputs": [
    {
     "name": "stdout",
     "output_type": "stream",
     "text": [
      "Ipopt 3.11.1: \n",
      "\n",
      "******************************************************************************\n",
      "This program contains Ipopt, a library for large-scale nonlinear optimization.\n",
      " Ipopt is released as open source code under the Eclipse Public License (EPL).\n",
      "         For more information visit http://projects.coin-or.org/Ipopt\n",
      "******************************************************************************\n",
      "\n",
      "NOTE: You are using Ipopt by default with the MUMPS linear solver.\n",
      "      Other linear solvers might be more efficient (see Ipopt documentation).\n",
      "\n",
      "\n",
      "This is Ipopt version 3.11.1, running with linear solver mumps.\n",
      "\n",
      "Number of nonzeros in equality constraint Jacobian...:        0\n",
      "Number of nonzeros in inequality constraint Jacobian.:        2\n",
      "Number of nonzeros in Lagrangian Hessian.............:        3\n",
      "\n",
      "Total number of variables............................:        2\n",
      "                     variables with only lower bounds:        2\n",
      "                variables with lower and upper bounds:        0\n",
      "                     variables with only upper bounds:        0\n",
      "Total number of equality constraints.................:        0\n",
      "Total number of inequality constraints...............:        1\n",
      "        inequality constraints with only lower bounds:        1\n",
      "   inequality constraints with lower and upper bounds:        0\n",
      "        inequality constraints with only upper bounds:        0\n",
      "\n",
      "iter    objective    inf_pr   inf_du lg(mu)  ||d||  lg(rg) alpha_du alpha_pr  ls\n",
      "   0 -5.0000000e+004 0.00e+000 1.56e+000  -1.0 0.00e+000    -  0.00e+000 0.00e+000   0\n",
      "   1 -5.0296883e+004 1.19e+002 6.71e-001  -1.0 5.00e+002    -  9.75e-001 3.96e-001f  1\n",
      "   2 -5.0001478e+004 5.91e-001 3.43e-003  -1.0 3.98e+000    -  1.00e+000 9.95e-001h  1\n",
      "   3 -4.9999980e+004 0.00e+000 2.02e-007  -1.7 2.11e-002    -  1.00e+000 1.00e+000h  1\n",
      "   4 -5.0000000e+004 0.00e+000 1.51e-009  -3.8 7.94e-003    -  1.00e+000 1.00e+000f  1\n",
      "   5 -5.0000000e+004 0.00e+000 1.84e-011  -5.7 5.94e-005    -  1.00e+000 1.00e+000f  1\n",
      "   6 -5.0000000e+004 0.00e+000 2.85e-014  -8.6 7.37e-007    -  1.00e+000 1.00e+000h  1\n",
      "\n",
      "Number of Iterations....: 6\n",
      "\n",
      "                                   (scaled)                 (unscaled)\n",
      "Objective...............: -5.0000000499997492e+004  -5.0000000499997492e+004\n",
      "Dual infeasibility......:  2.8505803582708909e-014   2.8505803582708909e-014\n",
      "Constraint violation....:  0.0000000000000000e+000   0.0000000000000000e+000\n",
      "Complementarity.........:  2.5102053768935570e-009   2.5102053768935570e-009\n",
      "Overall NLP error.......:  2.5102053768935570e-009   2.5102053768935570e-009\n",
      "\n",
      "\n",
      "Number of objective function evaluations             = 7\n",
      "Number of objective gradient evaluations             = 7\n",
      "Number of equality constraint evaluations            = 0\n",
      "Number of inequality constraint evaluations          = 7\n",
      "Number of equality constraint Jacobian evaluations   = 0\n",
      "Number of inequality constraint Jacobian evaluations = 7\n",
      "Number of Lagrangian Hessian evaluations             = 6\n",
      "Total CPU secs in IPOPT (w/o function evaluations)   =      0.008\n",
      "Total CPU secs in NLP function evaluations           =      0.000\n",
      "\n",
      "EXIT: Optimal Solution Found.\n"
     ]
    }
   ],
   "source": [
    "## Specify IPOPT as solver\n",
    "solver = SolverFactory('ipopt')\n",
    "\n",
    "## Solve the model\n",
    "results = solver.solve(m, tee = True) # tee = True prints the output of the solver"
   ]
  },
  {
   "cell_type": "markdown",
   "metadata": {},
   "source": [
    "Now let's inspect the solution. We'll use the function `value()` to extract the numeric value from the Pyomo variable object."
   ]
  },
  {
   "cell_type": "code",
   "execution_count": 4,
   "metadata": {},
   "outputs": [
    {
     "name": "stdout",
     "output_type": "stream",
     "text": [
      "x1 =  0.4999999999666826\n",
      "x2 =  0.5000000000333175\n",
      "x3 =  -3.499999999966682\n",
      "\n",
      "\n"
     ]
    }
   ],
   "source": [
    "## Return the solution\n",
    "print(\"x1 = \",value(m.x1))\n",
    "print(\"x2 = \",value(m.x2))\n",
    "print(\"x3 = \",value(m.x3))\n",
    "print(\"\\n\")"
   ]
  },
  {
   "cell_type": "markdown",
   "metadata": {},
   "source": [
    "### Visualize Solution\n",
    "\n",
    "Is our answer correct?\n",
    "\n",
    "We can solve this optimization problem with guess and check. If we guess $x_3$, we can then solve the constraints for $x_1$ and $x_2$. We can then evaluate the objective. Let's see the graphical solution to our optimization problem."
   ]
  },
  {
   "cell_type": "markdown",
   "metadata": {},
   "source": [
    "<div style=\"background-color: rgba(0,0,255,0.05) ; padding: 10px; border: 1px solid darkblue;\"> \n",
    "<b>Class Activity</b>: First write the constraints as a linear system of equations. Then complete the function below to solve the following constraints. We will treat $x_1$ and $x_2$ as the unknown variables. We will treat $x_3$ as a known constant (parameter).</div>"
   ]
  },
  {
   "cell_type": "code",
   "execution_count": 5,
   "metadata": {},
   "outputs": [
    {
     "data": {
      "image/png": "[encoded data removed]",
      "text/plain": [
       "<Figure size 432x288 with 1 Axes>"
      ]
     },
     "metadata": {
      "needs_background": "light"
     },
     "output_type": "display_data"
    }
   ],
   "source": [
    "def constraints(x3):\n",
    "    ''' Solve the linear constraints\n",
    "    \n",
    "    Args:\n",
    "        x3: Value for the decision variable x3\n",
    "        \n",
    "    Returns:\n",
    "        x1 and x2: Values calculated from the constraints\n",
    "    '''\n",
    "    # create arrays for A and b to solve the linear system of equations\n",
    "    ### BEGIN HIDDEN SOLUTION\n",
    "    A = np.array([[1, 1],[1, 2]])\n",
    "    b = np.array([1, 5+x3])\n",
    "    ### END HIDDEN SOLUTION\n",
    "    \n",
    "    # solve the linear system\n",
    "    z = np.linalg.solve(A,b)\n",
    "    x1 = z[0]\n",
    "    x2 = z[1]\n",
    "    return x1, x2\n",
    "\n",
    "# Define a lambda function to plot the objective\n",
    "objective = lambda x1, x2, x3: x1**2 + 2*x2**2 - x3\n",
    "\n",
    "# Guess many values of x3.\n",
    "x3_guesses = np.linspace(-10,4,21)\n",
    "obj = []\n",
    "for x3 in x3_guesses:\n",
    "    # Solve the constraints to determine x1 and x2\n",
    "    x1, x2 = constraints(x3)\n",
    "    # Calculate the store the objective function value\n",
    "    obj.append(objective(x1,x2,x3))\n",
    "\n",
    "# Plot the objective function value versus x3\n",
    "plt.plot(x3_guesses, obj,color='blue',linewidth=2,label=\"Sensitivity Analysis\")\n",
    "plt.xlabel(\"$x_3$\",fontsize=18)\n",
    "plt.ylabel(\"$f(x)$\",fontsize=18)\n",
    "x3_sln = value(m.x3)\n",
    "obj_sln = value(m.OBJ)\n",
    "plt.plot(x3_sln, obj_sln,marker='o',color='red',markersize=10,label=\"Pyomo Solution\",linestyle='')\n",
    "plt.legend()\n",
    "plt.grid(True)\n",
    "plt.show()"
   ]
  },
  {
   "cell_type": "markdown",
   "metadata": {
    "colab_type": "text",
    "id": "sk12fbRMQiCk"
   },
   "source": [
    "## Example: Planting Cherry Trees"
   ]
  },
  {
   "cell_type": "markdown",
   "metadata": {
    "colab_type": "text",
    "id": "D9oQ2D8nQiCl"
   },
   "source": [
    "Suppose we have \\\\$20,000 to invest in planting cherry trees.  We can plant a mix of sour (dessert) cherries and sweet cherries (the ones you like to eat).  The sour cherry trees cost \\\\$20 each, and the sweet cherry trees cost \\\\$10 each.  The sweet cherries, however, can be sold for \\\\$100 per tree per year when mature if fully pollinated, while the sour cherries can be sold for only \\\\$25 per tree when mature.  Finally, the yield per tree of the sweet cherry trees depends on their proximity to the sour cherry trees, since they are not self-pollinating.  If the number of sour trees is given by $x_1$ and the number of sweet trees is $x_2$, we shall take the yield (the fraction of the fully pollinated yield) of the sweet trees to be $x_1$ / ($x_2$ + $x_1$)."
   ]
  },
  {
   "cell_type": "markdown",
   "metadata": {
    "colab_type": "text",
    "id": "x49XIy9HQiCm"
   },
   "source": [
    "### Step 1: Develop Mathematical Model, Convert to Canonical Form"
   ]
  },
  {
   "cell_type": "markdown",
   "metadata": {},
   "source": [
    "<div style=\"background-color: rgba(0,0,255,0.05) ; padding: 10px; border: 1px solid darkblue;\"> \n",
    "<b>Class Activity</b>: Write the optimization problem in canonical form on paper. Use this to solve step 2.\n",
    "</div>"
   ]
  },
  {
   "cell_type": "markdown",
   "metadata": {
    "colab_type": "text",
    "id": "Pqux-mP4QiCn"
   },
   "source": [
    "### Step 2: Solve in Python"
   ]
  },
  {
   "cell_type": "markdown",
   "metadata": {},
   "source": [
    "<div style=\"background-color: rgba(0,0,255,0.05) ; padding: 10px; border: 1px solid darkblue;\"> \n",
    "<b>Class Activity</b>: Finish the Pyomo model below.\n",
    "</div>"
   ]
  },
  {
   "cell_type": "code",
   "execution_count": 6,
   "metadata": {
    "colab": {},
    "colab_type": "code",
    "id": "ygucF2-lQiCn"
   },
   "outputs": [
    {
     "name": "stdout",
     "output_type": "stream",
     "text": [
      "2 Var Declarations\n",
      "    x1 : Size=1, Index=None\n",
      "        Key  : Lower : Value : Upper : Fixed : Stale : Domain\n",
      "        None :     0 :     1 :  None : False : False :  Reals\n",
      "    x2 : Size=1, Index=None\n",
      "        Key  : Lower : Value : Upper : Fixed : Stale : Domain\n",
      "        None :     0 :     1 :  None : False : False :  Reals\n",
      "\n",
      "1 Objective Declarations\n",
      "    obj : Size=1, Index=None, Active=True\n",
      "        Key  : Active : Sense    : Expression\n",
      "        None :   True : maximize : 25*x1 + 100*x2*x1/(x1 + x2)\n",
      "\n",
      "1 Constraint Declarations\n",
      "    con : Size=1, Index=None, Active=True\n",
      "        Key  : Lower : Body                  : Upper : Active\n",
      "        None :   0.0 : 20000 - 20*x1 - 10*x2 :  +Inf :   True\n",
      "\n",
      "4 Declarations: x1 x2 obj con\n"
     ]
    }
   ],
   "source": [
    "## Problem Specifications\n",
    "\n",
    "# Concrete model\n",
    "m = ConcreteModel()\n",
    "\n",
    "# Budget\n",
    "b = 20000;\n",
    "\n",
    "# Cost per sour tree\n",
    "c1 = 20;\n",
    "\n",
    "# Cost per sweet tree\n",
    "c2 = 10;\n",
    "\n",
    "# Revenue per fully polinated sour tree\n",
    "p1 = 25;\n",
    "\n",
    "# Revenue per fully polinated sweet tree\n",
    "p2 = 100\n",
    "\n",
    "## Define variables\n",
    "m.x1 = Var(initialize=1, bounds=(0,None)) # sour cherries\n",
    "### BEGIN SOLUTION\n",
    "m.x2 = Var(initialize=1, bounds=(0,None)) # sweet cherries\n",
    "### END SOLUTION\n",
    "\n",
    "## Objective function\n",
    "### BEGIN SOLUTION\n",
    "m.obj = Objective(expr=p1*m.x1 + p2*m.x2*m.x1/(m.x1 + m.x2), sense = maximize)\n",
    "### END SOLUTION\n",
    "\n",
    "## Constraint\n",
    "### BEGIN SOLUTION\n",
    "m.con = Constraint(expr=b - c1*m.x1 - c2*m.x2 >= 0)\n",
    "### END SOLUTION\n",
    "\n",
    "## Print the model\n",
    "m.pprint()"
   ]
  },
  {
   "cell_type": "markdown",
   "metadata": {},
   "source": [
    "<div style=\"background-color: rgba(0,0,255,0.05) ; padding: 10px; border: 1px solid darkblue;\"> \n",
    "<b>Class Activity</b>: Solve the Pyomo model.\n",
    "</div>"
   ]
  },
  {
   "cell_type": "code",
   "execution_count": 7,
   "metadata": {
    "colab": {
     "base_uri": "https://localhost:8080/",
     "height": 175
    },
    "colab_type": "code",
    "executionInfo": {
     "elapsed": 206,
     "status": "ok",
     "timestamp": 1550762936360,
     "user": {
      "displayName": "Alexander Dowling",
      "photoUrl": "https://lh3.googleusercontent.com/-LChdQ2m5OQE/AAAAAAAAAAI/AAAAAAAAAA0/JeXJe4vQJ7M/s64/photo.jpg",
      "userId": "00988067626794866502"
     },
     "user_tz": 300
    },
    "id": "oMMF5x_8QiCq",
    "outputId": "52129f54-dd30-46c7-e596-767364b6a380"
   },
   "outputs": [
    {
     "name": "stdout",
     "output_type": "stream",
     "text": [
      "Ipopt 3.11.1: \n",
      "\n",
      "******************************************************************************\n",
      "This program contains Ipopt, a library for large-scale nonlinear optimization.\n",
      " Ipopt is released as open source code under the Eclipse Public License (EPL).\n",
      "         For more information visit http://projects.coin-or.org/Ipopt\n",
      "******************************************************************************\n",
      "\n",
      "NOTE: You are using Ipopt by default with the MUMPS linear solver.\n",
      "      Other linear solvers might be more efficient (see Ipopt documentation).\n",
      "\n",
      "\n",
      "This is Ipopt version 3.11.1, running with linear solver mumps.\n",
      "\n",
      "Number of nonzeros in equality constraint Jacobian...:        0\n",
      "Number of nonzeros in inequality constraint Jacobian.:        2\n",
      "Number of nonzeros in Lagrangian Hessian.............:        3\n",
      "\n",
      "Total number of variables............................:        2\n",
      "                     variables with only lower bounds:        2\n",
      "                variables with lower and upper bounds:        0\n",
      "                     variables with only upper bounds:        0\n",
      "Total number of equality constraints.................:        0\n",
      "Total number of inequality constraints...............:        1\n",
      "        inequality constraints with only lower bounds:        1\n",
      "   inequality constraints with lower and upper bounds:        0\n",
      "        inequality constraints with only upper bounds:        0\n",
      "\n",
      "iter    objective    inf_pr   inf_du lg(mu)  ||d||  lg(rg) alpha_du alpha_pr  ls\n",
      "   0 -7.5000000e+001 0.00e+000 1.56e+000  -1.0 0.00e+000    -  0.00e+000 0.00e+000   0\n",
      "   1 -2.8386343e+003 0.00e+000 4.86e+001  -1.0 1.11e+003    -  2.61e-002 1.00e+000f  1\n",
      "   2 -4.9527029e+004 0.00e+000 2.97e+001  -1.0 4.75e+004    -  2.32e-002 3.93e-001f  1\n",
      "   3 -4.9994783e+004 0.00e+000 1.78e+001  -1.0 4.67e+002    -  1.00e+000 4.00e-001f  1\n",
      "   4 -4.9999901e+004 0.00e+000 6.46e-004  -1.0 3.50e+000    -  1.00e+000 1.00e+000f  1\n",
      "   5 -4.9999998e+004 0.00e+000 3.09e-008  -2.5 3.88e-002    -  1.00e+000 1.00e+000f  1\n",
      "   6 -5.0000000e+004 0.00e+000 1.50e-009  -3.8 1.07e-003    -  1.00e+000 1.00e+000f  1\n",
      "   7 -5.0000000e+004 0.00e+000 1.85e-011  -5.7 5.94e-005    -  1.00e+000 1.00e+000f  1\n",
      "   8 -5.0000000e+004 0.00e+000 2.85e-014  -8.6 7.37e-007    -  1.00e+000 1.00e+000f  1\n",
      "\n",
      "Number of Iterations....: 8\n",
      "\n",
      "                                   (scaled)                 (unscaled)\n",
      "Objective...............: -5.0000000499997492e+004  -5.0000000499997492e+004\n",
      "Dual infeasibility......:  2.8505803581881728e-014   2.8505803581881728e-014\n",
      "Constraint violation....:  0.0000000000000000e+000   0.0000000000000000e+000\n",
      "Complementarity.........:  2.5102053768935570e-009   2.5102053768935570e-009\n",
      "Overall NLP error.......:  2.5102053768935570e-009   2.5102053768935570e-009\n",
      "\n",
      "\n",
      "Number of objective function evaluations             = 9\n",
      "Number of objective gradient evaluations             = 9\n",
      "Number of equality constraint evaluations            = 0\n",
      "Number of inequality constraint evaluations          = 9\n",
      "Number of equality constraint Jacobian evaluations   = 0\n",
      "Number of inequality constraint Jacobian evaluations = 9\n",
      "Number of Lagrangian Hessian evaluations             = 8\n",
      "Total CPU secs in IPOPT (w/o function evaluations)   =      0.017\n",
      "Total CPU secs in NLP function evaluations           =      0.000\n",
      "\n",
      "EXIT: Optimal Solution Found.\n"
     ]
    }
   ],
   "source": [
    "## Solve the model\n",
    "# Recall, we already defined solver\n",
    "results = solver.solve(m, tee = True)"
   ]
  },
  {
   "cell_type": "code",
   "execution_count": 12,
   "metadata": {
    "colab": {
     "base_uri": "https://localhost:8080/",
     "height": 52
    },
    "colab_type": "code",
    "executionInfo": {
     "elapsed": 240,
     "status": "ok",
     "timestamp": 1550762964065,
     "user": {
      "displayName": "Alexander Dowling",
      "photoUrl": "https://lh3.googleusercontent.com/-LChdQ2m5OQE/AAAAAAAAAAI/AAAAAAAAAA0/JeXJe4vQJ7M/s64/photo.jpg",
      "userId": "00988067626794866502"
     },
     "user_tz": 300
    },
    "id": "gXbyh_NPQiCw",
    "outputId": "df539bc2-a7aa-4274-9390-364e8404a710"
   },
   "outputs": [
    {
     "name": "stdout",
     "output_type": "stream",
     "text": [
      "Plant  666.6666733332888 sour cherry trees\n",
      "Plant  666.666673333322 sweet cherry trees\n",
      "Giving revenue of 50000.00049999749 dollars\n"
     ]
    }
   ],
   "source": [
    "# Print the solution\n",
    "print(\"Plant \",value(m.x1),\"sour cherry trees\")\n",
    "print(\"Plant \",value(m.x2),\"sweet cherry trees\")\n",
    "print(\"Giving revenue of\",value(m.obj),\"dollars\")"
   ]
  },
  {
   "cell_type": "markdown",
   "metadata": {
    "colab_type": "text",
    "id": "rDnN-uTJQiCy"
   },
   "source": [
    "### Interpret Answer\n",
    "\n",
    "Can we plant 2/3 of a cherry tree?"
   ]
  },
  {
   "cell_type": "markdown",
   "metadata": {},
   "source": [
    "<div style=\"background-color: rgba(0,0,255,0.05) ; padding: 10px; border: 1px solid darkblue;\"> \n",
    "<b>Class Activity</b>: Determine the best way to round the solution.\n",
    "</div>"
   ]
  },
  {
   "cell_type": "code",
   "execution_count": 13,
   "metadata": {
    "colab": {},
    "colab_type": "code",
    "id": "uA0fo99TQiCz"
   },
   "outputs": [
    {
     "name": "stdout",
     "output_type": "stream",
     "text": [
      "Plant  667 sour cherry trees\n",
      "Plant  666.0000066598999 sweet cherry trees\n",
      "Giving revenue of 49999.981412058725 dollars\n"
     ]
    }
   ],
   "source": [
    "## Let's plant 667 sour trees and resolve\n",
    "m.x1.fix(667)\n",
    "results = solver.solve(m, tee = False)\n",
    "print(\"Plant \",value(m.x1),\"sour cherry trees\")\n",
    "print(\"Plant \",value(m.x2),\"sweet cherry trees\")\n",
    "print(\"Giving revenue of\",value(m.obj),\"dollars\")"
   ]
  },
  {
   "cell_type": "code",
   "execution_count": 14,
   "metadata": {
    "colab": {
     "base_uri": "https://localhost:8080/",
     "height": 70
    },
    "colab_type": "code",
    "executionInfo": {
     "elapsed": 295,
     "status": "ok",
     "timestamp": 1550763003875,
     "user": {
      "displayName": "Alexander Dowling",
      "photoUrl": "https://lh3.googleusercontent.com/-LChdQ2m5OQE/AAAAAAAAAAI/AAAAAAAAAA0/JeXJe4vQJ7M/s64/photo.jpg",
      "userId": "00988067626794866502"
     },
     "user_tz": 300
    },
    "id": "awKfm63sQiC1",
    "outputId": "2a94e9b9-f1ec-4387-ccd2-c4b0b824d7c5"
   },
   "outputs": [
    {
     "name": "stdout",
     "output_type": "stream",
     "text": [
      "Plant  666 sour cherry trees\n",
      "Plant  668.0000066798995 sweet cherry trees\n",
      "Giving revenue of 49999.92520397838 dollars\n"
     ]
    }
   ],
   "source": [
    "## What if we instead plant 666 sour trees?\n",
    "m.x1.fix(666)\n",
    "results = solver.solve(m, tee = False)\n",
    "print(\"Plant \",value(m.x1),\"sour cherry trees\")\n",
    "print(\"Plant \",value(m.x2),\"sweet cherry trees\")\n",
    "print(\"Giving revenue of\",value(m.obj),\"dollars\")"
   ]
  },
  {
   "cell_type": "markdown",
   "metadata": {},
   "source": [
    "Which method produces a larger revenue?  Is there a significant difference?"
   ]
  }
 ],
 "metadata": {
  "colab": {
   "name": "L12-Optimization.ipynb",
   "provenance": [],
   "version": "0.3.2"
  },
  "kernelspec": {
   "display_name": "Python 3 (ipykernel)",
   "language": "python",
   "name": "python3"
  },
  "language_info": {
   "codemirror_mode": {
    "name": "ipython",
    "version": 3
   },
   "file_extension": ".py",
   "mimetype": "text/x-python",
   "name": "python",
   "nbconvert_exporter": "python",
   "pygments_lexer": "ipython3",
   "version": "3.9.12"
  }
 },
 "nbformat": 4,
 "nbformat_minor": 4
}
