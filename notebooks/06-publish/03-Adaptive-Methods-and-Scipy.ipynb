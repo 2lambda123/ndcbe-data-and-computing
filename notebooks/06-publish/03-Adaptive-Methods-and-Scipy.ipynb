{
 "cells": [
  {
   "cell_type": "markdown",
   "metadata": {
    "colab_type": "text",
    "id": "ZB7hIRdzvTep"
   },
   "source": [
    "# Adaptive Methods for Newton-Cotes and Gauss Quadrature, Scipy Library\n",
    "\n",
    "CBE 20258. Numerical and Statistical Analysis. Spring 2020.\n",
    "\n",
    "&#169; University of Notre Dame"
   ]
  },
  {
   "cell_type": "markdown",
   "metadata": {
    "colab_type": "text",
    "id": "i9wwxaH-vTeq"
   },
   "source": [
    "**Reference**: Chapters 15 and 16 in McClarren (2018). There are two copies in reserve at the library."
   ]
  },
  {
   "cell_type": "code",
   "execution_count": 1,
   "metadata": {
    "colab": {},
    "colab_type": "code",
    "id": "DuQsLLTnvTer",
    "tags": []
   },
   "outputs": [],
   "source": [
    "# load libraries\n",
    "from scipy import integrate\n",
    "import numpy as np\n",
    "import matplotlib.pyplot as plt"
   ]
  },
  {
   "cell_type": "markdown",
   "metadata": {
    "colab_type": "text",
    "id": "yLqvejeuvTet"
   },
   "source": [
    "## Learning Objectives\n",
    "\n",
    "After studying this notebook, completing the activities, and asking questions in class, you should be able to:\n",
    "* Understand when adaptive variations of Newton-Cotes and Gauss Quadrature are used.\n",
    "* Know how to access and read scipy documentation."
   ]
  },
  {
   "cell_type": "markdown",
   "metadata": {
    "colab_type": "text",
    "id": "r8tE9-DRvTfv"
   },
   "source": [
    "## Adaptive Methods Overcome Certain Limitations\n",
    "\n",
    "The example\n",
    "\n",
    "$$ \\int\\limits_0^1 4 \\sqrt{1-x^2}\\,dx = \\pi$$\n",
    "\n",
    "is problematic for both **Newton-Cotes** and **Gauss quadrature** methods because the derivative is singular at $x=1$. Adaptive variations of both these numeric integration techniques are used in practice to address challenges like this. See Chapters 15 and 16 in McClarren for additional details on adaptive methods (optional - if you want to learn more)."
   ]
  },
  {
   "cell_type": "markdown",
   "metadata": {
    "colab_type": "text",
    "id": "RjQYv4SlvTfv"
   },
   "source": [
    "### Scipy Documentation"
   ]
  },
  {
   "cell_type": "markdown",
   "metadata": {},
   "source": [
    "Here is the [full scipy documentation](https://docs.scipy.org/doc/scipy/tutorial/index.html#user-guide)."
   ]
  },
  {
   "cell_type": "code",
   "execution_count": 2,
   "metadata": {
    "colab": {
     "base_uri": "https://localhost:8080/",
     "height": 61692
    },
    "colab_type": "code",
    "executionInfo": {
     "elapsed": 314,
     "status": "ok",
     "timestamp": 1556030308171,
     "user": {
      "displayName": "Alexander Dowling",
      "photoUrl": "https://lh3.googleusercontent.com/-LChdQ2m5OQE/AAAAAAAAAAI/AAAAAAAAAA0/JeXJe4vQJ7M/s64/photo.jpg",
      "userId": "00988067626794866502"
     },
     "user_tz": 240
    },
    "id": "0StoMSmhvTfw",
    "outputId": "50239915-ffe9-4801-d5f3-8a0d4768ad35"
   },
   "outputs": [],
   "source": [
    "# uncomment the following line to see the documentation for integrate\n",
    "# help(integrate)"
   ]
  },
  {
   "cell_type": "code",
   "execution_count": 3,
   "metadata": {},
   "outputs": [],
   "source": [
    "# uncomment the following line to see the documentation for integrate.quad\n",
    "# help(integrate.quad)"
   ]
  },
  {
   "cell_type": "code",
   "execution_count": 4,
   "metadata": {},
   "outputs": [
    {
     "name": "stdout",
     "output_type": "stream",
     "text": [
      "Integral: 3.1415926535897922\n",
      "Absolute Error: 3.533564552071766e-10\n",
      "More Info:\n",
      " {'neval': 231, 'last': 6, 'iord': array([          1,           2,           3,           4,           5,\n",
      "                 6,           0,           0,           0,           0,\n",
      "                 0,           0,           0,           0,           0,\n",
      "                 0,           0,           0,           0,           0,\n",
      "                 0,           0,           0,           0,           0,\n",
      "                 0,           0,           0,           0,           0,\n",
      "        1667446369,   573793331,           0, -1073741824,           0,\n",
      "       -1073741824,  1969422361,  1918854516,  1702195557,   740455539,\n",
      "        1702044192,  1869181811,   540680814,  1681078306,   875770673,\n",
      "        1697787193,   875377506,   758591845,   895902306,   858874925],\n",
      "      dtype=int32), 'alist': array([ 9.68750000e-001,  0.00000000e+000,  5.00000000e-001,\n",
      "        7.50000000e-001,  8.75000000e-001,  9.37500000e-001,\n",
      "        1.57617080e-260,  7.18035651e-299,  1.73769231e-303,\n",
      "       -5.45294918e+223,  6.93493911e-310,  6.93494646e-310,\n",
      "        3.26995352e+247,  6.93493911e-310,  6.93493925e-310,\n",
      "       -3.90429139e+149,  6.93493912e-310,  6.93494646e-310,\n",
      "        2.39917486e-200,  6.93493912e-310,  6.93494646e-310,\n",
      "        8.23196292e+141,  6.93493912e-310,  6.93494646e-310,\n",
      "        1.71338682e-189,  6.93493913e-310,  6.93494643e-310,\n",
      "        5.36417810e+008,  6.93493913e-310,  6.93494646e-310,\n",
      "       -1.25274156e-291,  6.93493913e-310,  6.93494646e-310,\n",
      "        4.11955885e-230,  6.93493913e-310,  6.93493912e-310,\n",
      "       -9.13213507e-015,  6.93494646e-310,  6.93494646e-310,\n",
      "       -3.39484743e+255,  6.93494646e-310,  6.93494646e-310,\n",
      "        2.21541570e+282,  6.93494646e-310,  6.93494646e-310,\n",
      "       -5.04299130e+304,  6.93494646e-310,  6.93494646e-310,\n",
      "       -3.80664842e-263,  6.93494646e-310]), 'blist': array([ 1.00000000e+000,  5.00000000e-001,  7.50000000e-001,\n",
      "        8.75000000e-001,  9.37500000e-001,  9.68750000e-001,\n",
      "        0.00000000e+000,  0.00000000e+000,  0.00000000e+000,\n",
      "        0.00000000e+000,  0.00000000e+000,  0.00000000e+000,\n",
      "        0.00000000e+000,  0.00000000e+000,  4.24399158e-314,\n",
      "        0.00000000e+000, -2.00000000e+000, -2.00000000e+000,\n",
      "        3.85371204e-322,  1.97626258e-323,  0.00000000e+000,\n",
      "        0.00000000e+000,  0.00000000e+000,  0.00000000e+000,\n",
      "        0.00000000e+000,  0.00000000e+000,  4.94065646e-324,\n",
      "        0.00000000e+000,  0.00000000e+000,  6.93494728e-310,\n",
      "        6.93494728e-310,  0.00000000e+000,  0.00000000e+000,\n",
      "        0.00000000e+000,  0.00000000e+000,  0.00000000e+000,\n",
      "        0.00000000e+000,  0.00000000e+000,  0.00000000e+000,\n",
      "        0.00000000e+000,  0.00000000e+000,  0.00000000e+000,\n",
      "        0.00000000e+000,  0.00000000e+000,  0.00000000e+000,\n",
      "        0.00000000e+000,  0.00000000e+000,  0.00000000e+000,\n",
      "        0.00000000e+000,  0.00000000e+000]), 'rlist': array([0.02073555, 1.91322295, 0.77505794, 0.28980584, 0.1051359 ,\n",
      "       0.03763461, 0.        , 0.        , 0.        , 0.        ,\n",
      "       0.        , 0.        , 0.        , 0.        , 0.        ,\n",
      "       0.        , 0.        , 0.        , 0.        , 0.        ,\n",
      "       0.        , 0.        , 0.        , 0.        , 0.        ,\n",
      "       0.        , 0.        , 0.        , 0.        , 0.        ,\n",
      "       0.        , 0.        , 0.        , 0.        , 0.        ,\n",
      "       0.        , 0.        , 0.        , 0.        , 0.        ,\n",
      "       0.        , 0.        , 0.        , 0.        , 0.        ,\n",
      "       0.        , 0.        , 0.        , 0.        , 0.        ]), 'elist': array([ 1.55479701e-004,  2.12410418e-014,  8.60487176e-015,\n",
      "        3.21749117e-015,  1.16724293e-015,  4.17828152e-016,\n",
      "        0.00000000e+000,  0.00000000e+000,  0.00000000e+000,\n",
      "        0.00000000e+000,  0.00000000e+000,  0.00000000e+000,\n",
      "        4.94065646e-324,  0.00000000e+000, -2.00000000e+000,\n",
      "       -2.00000000e+000,  1.43279037e-322,  0.00000000e+000,\n",
      "        0.00000000e+000,  0.00000000e+000,  0.00000000e+000,\n",
      "        0.00000000e+000,  0.00000000e+000,  0.00000000e+000,\n",
      "        0.00000000e+000,  0.00000000e+000,  0.00000000e+000,\n",
      "        0.00000000e+000,  0.00000000e+000,  0.00000000e+000,\n",
      "        0.00000000e+000,  0.00000000e+000,  0.00000000e+000,\n",
      "        0.00000000e+000,  0.00000000e+000,  0.00000000e+000,\n",
      "        0.00000000e+000,  0.00000000e+000,  0.00000000e+000,\n",
      "        0.00000000e+000,  0.00000000e+000,  0.00000000e+000,\n",
      "        0.00000000e+000,  0.00000000e+000,  0.00000000e+000,\n",
      "        0.00000000e+000,  0.00000000e+000,  0.00000000e+000,\n",
      "        0.00000000e+000,  0.00000000e+000])}\n"
     ]
    }
   ],
   "source": [
    "f = lambda x: 4.0*np.sqrt(1-x**2)\n",
    "y, abserr, infodict = integrate.quad(f, 0, 1,full_output=1)\n",
    "print(\"Integral:\",y)\n",
    "print(\"Absolute Error:\",abserr)\n",
    "print(\"More Info:\\n\",infodict)"
   ]
  }
 ],
 "metadata": {
  "colab": {
   "collapsed_sections": [
    "vrMJaQtivTfW",
    "2j6OqQjPvTfb",
    "CoNz6ob5vTff"
   ],
   "name": "L24-Numeric-Integration.ipynb",
   "provenance": [],
   "version": "0.3.2"
  },
  "kernelspec": {
   "display_name": "Python 3 (ipykernel)",
   "language": "python",
   "name": "python3"
  },
  "language_info": {
   "codemirror_mode": {
    "name": "ipython",
    "version": 3
   },
   "file_extension": ".py",
   "mimetype": "text/x-python",
   "name": "python",
   "nbconvert_exporter": "python",
   "pygments_lexer": "ipython3",
   "version": "3.9.12"
  }
 },
 "nbformat": 4,
 "nbformat_minor": 4
}
