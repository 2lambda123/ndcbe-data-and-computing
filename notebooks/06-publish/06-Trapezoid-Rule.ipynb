{
 "cells": [
  {
   "cell_type": "markdown",
   "metadata": {
    "colab_type": "text",
    "id": "zUrZ00DvG1y0"
   },
   "source": [
    "# Crank-Nicolson (Trapezoid Rule)\n",
    "\n",
    "Reference: Chapter 17 in McClarren."
   ]
  },
  {
   "cell_type": "markdown",
   "metadata": {
    "colab_type": "text",
    "id": "qaHAK35SG1y5"
   },
   "source": [
    "## Learning Objectives\n",
    "\n",
    "After studying this notebook, completing the activties, and attending class, you should be able to:\n",
    "* Implement Crank-Nicolson (Trapezoid Rule) and understand how it is different from Forward/Backward Euler.\n",
    "* Explain the impact of step size on the accuracy of Crank-Nicolson."
   ]
  },
  {
   "cell_type": "code",
   "execution_count": 2,
   "metadata": {
    "colab": {},
    "colab_type": "code",
    "id": "mCjbdDRmG1y2",
    "tags": []
   },
   "outputs": [],
   "source": [
    "# import libraries\n",
    "import numpy as np\n",
    "import matplotlib.pyplot as plt\n",
    "from matplotlib.patches import Polygon"
   ]
  },
  {
   "cell_type": "markdown",
   "metadata": {
    "colab_type": "text",
    "id": "w5oGA3e0G1y6"
   },
   "source": [
    "## Main Idea\n",
    "\n",
    "Today, we will discuss techniques to compute approximate solutions to **initial value problems (IVP)**. Every IVP has two parts:\n",
    "* System of differential equations.\n",
    "* Initial conditions that specify the numeric value for each different state at $t=0$.\n",
    "\n",
    "Let's consider the generic, first-order initial value problem given by\n",
    "\n",
    "$$ y'(t) = f(y,t), \\qquad y(0) = y_0,$$\n",
    "\n",
    "where $f(y,t)$ is a function that in general depends on $y$ and $t$.  Typically, we'll call $t$ the time variable and $y$ our solution.  For a problem of this sort we can simply integrate both sides of the equation from $t=0$ to $t=\\Delta t$, where $\\Delta t$ is called the time step.  Doing this we get\n",
    "\n",
    "$$y(\\Delta t) - y(0) = \\int_{0}^{\\Delta t} f(y,t)\\,dt.$$\n",
    "\n",
    "Today's class focuses on solving this problem. You'll notice a lot of similarities to [last class](\"https://ndcbe.github.io/data-and-computing/notebooks/06-publish/05-Forward-and-Backward-Euler.html\"), numeric integration, as integrals and differential equations are closely related."
   ]
  },
  {
   "cell_type": "markdown",
   "metadata": {
    "colab_type": "text",
    "id": "QacXZMidG1ze"
   },
   "source": [
    "## Crank-Nicolson (aka Trapezoid Rule)"
   ]
  },
  {
   "cell_type": "markdown",
   "metadata": {
    "colab_type": "text",
    "id": "f26c0anRG1zf"
   },
   "source": [
    "We could use the trapezoid rule to integrate the ODE over the timestep. Doing this gives\n",
    "\n",
    "$$y^{n+1} = y^n + \\frac{\\Delta t}{2}\\left( f(y^{n}, t^{n})+ f(y^{n+1}, t^{n+1})\\right).$$\n",
    "\n",
    "This method, often called Crank-Nicolson, is also an <b> implicit method </b> because $y^{n+1}$ is on the right-hand side of the equation. For this method the equation we have to solve at each time step is\n",
    "\n",
    "$$y^{n+1} - y^n - \\frac{\\Delta t}{2}\\left( f(y^{n}, t^{n})+ f(y^{n+1}, t^{n+1})\\right) = 0.$$\n",
    "\n",
    "Though we saw it before let's remind ourselves of the graphical representation of the trapezoid rule:"
   ]
  },
  {
   "cell_type": "code",
   "execution_count": 3,
   "metadata": {
    "colab": {
     "base_uri": "https://localhost:8080/",
     "height": 317
    },
    "colab_type": "code",
    "executionInfo": {
     "elapsed": 4488,
     "status": "ok",
     "timestamp": 1556625638214,
     "user": {
      "displayName": "Alexander Dowling",
      "photoUrl": "https://lh3.googleusercontent.com/-LChdQ2m5OQE/AAAAAAAAAAI/AAAAAAAAAA0/JeXJe4vQJ7M/s64/photo.jpg",
      "userId": "00988067626794866502"
     },
     "user_tz": 240
    },
    "id": "2UdTkEudG1zg",
    "outputId": "0e71238e-87a8-469b-9616-21c78a934430"
   },
   "outputs": [
    {
     "data": {
      "image/png": "[encoded data removed]",
      "text/plain": [
       "<Figure size 432x288 with 1 Axes>"
      ]
     },
     "metadata": {
      "needs_background": "light"
     },
     "output_type": "display_data"
    }
   ],
   "source": [
    "#graphical example\n",
    "f = lambda x: (x-3)*(x-5)*(x-7)+110\n",
    "x = np.linspace(0,10,100)\n",
    "plt.plot(x,f(x),label=\"f(x)\",color=\"blue\")\n",
    "ax = plt.gca()\n",
    "a = 2\n",
    "b = 8\n",
    "verts = [(a,0),(a,f(a)), (b,f(b)),(b,0)]\n",
    "poly = Polygon(verts, facecolor='0.9', edgecolor='k')\n",
    "ax.add_patch(poly)\n",
    "ax.set_xticks((a,b))\n",
    "ax.set_xticklabels(('0','$\\Delta t$'))\n",
    "plt.xlabel(\"t\")\n",
    "plt.ylabel(\"f(t)\")\n",
    "plt.title(\"Trapezoid Rule\")\n",
    "plt.show()"
   ]
  },
  {
   "cell_type": "markdown",
   "metadata": {
    "colab_type": "text",
    "id": "or5P8tRoG1zj"
   },
   "source": [
    "### Python Implementation\n",
    "\n",
    "Implementing this method is no more difficult than backward Euler."
   ]
  },
  {
   "cell_type": "markdown",
   "metadata": {},
   "source": [
    "<div class=\"admonition seealso\"> \n",
    "<p class=\"title\"><b>Home Activity</b></p>\n",
    " Complete the function below. In the commented out spot, you'll need to solve a nonlinear equation to calculate $y^{n+1}$. Hints: You want to write two lines of code. The <b>first line</b> will use a lambda function to define the nonlinear equation to be solved. The <b>second line</b> will call <tt>inexact_newton</tt> to solve the system and store the answer in <tt>y[n]</tt>. <b>Read these instructions again carefully.</b>\n",
    "</div>"
   ]
  },
  {
   "cell_type": "code",
   "execution_count": 4,
   "metadata": {
    "colab": {},
    "colab_type": "code",
    "id": "xK8z5DxIG1zk",
    "tags": []
   },
   "outputs": [],
   "source": [
    "def inexact_newton(f,x0,delta = 1.0e-7, epsilon=1.0e-6, LOUD=False):\n",
    "    \"\"\"Find the root of the function f via Newton-Raphson method\n",
    "    Args:\n",
    "        f: function to find root of\n",
    "        x0: initial guess\n",
    "        delta: finite difference parameter\n",
    "        epsilon: tolerance\n",
    "        \n",
    "    Returns:\n",
    "        estimate of root\n",
    "    \"\"\"\n",
    "    x = x0\n",
    "    if (LOUD):\n",
    "        print(\"x0 =\",x0)\n",
    "    iterations = 0\n",
    "    while (np.fabs(f(x)) > epsilon):\n",
    "        fx = f(x)\n",
    "        fxdelta = f(x+delta)\n",
    "        slope = (fxdelta - fx)/delta\n",
    "        if (LOUD):\n",
    "            print(\"x_\",iterations+1,\"=\",x,\"-\",fx,\"/\",slope,\"=\",x - fx/slope)\n",
    "        x = x - fx/slope\n",
    "        iterations += 1\n",
    "    if LOUD:\n",
    "        print(\"It took\",iterations,\"iterations\")\n",
    "    return x #return estimate of root\n",
    "\n",
    "def crank_nicolson(f,y0,Delta_t,numsteps, LOUD=False):\n",
    "    \"\"\"Perform numsteps of the backward euler method starting at y0\n",
    "    of the ODE y'(t) = f(y,t)\n",
    "    Args:\n",
    "        f: function to integrate takes arguments y,t\n",
    "        y0: initial condition\n",
    "        Delta_t: time step size\n",
    "        numsteps: number of time steps\n",
    "        \n",
    "    Returns:\n",
    "        a numpy array of the times and a numpy\n",
    "        array of the solution at those times\n",
    "    \"\"\"\n",
    "    numsteps = int(numsteps)\n",
    "    y = np.zeros(numsteps+1)\n",
    "    t = np.arange(numsteps+1)*Delta_t\n",
    "    y[0] = y0\n",
    "    for n in range(1,numsteps+1):\n",
    "        if LOUD:\n",
    "            print(\"\\nt =\",t[n])\n",
    "            \n",
    "        # Add your solution here\n",
    "        \n",
    "        if LOUD:\n",
    "            print(\"y =\",y[n])\n",
    "    return t, y"
   ]
  },
  {
   "cell_type": "markdown",
   "metadata": {},
   "source": [
    "Now let's test our code using the simple problem from above."
   ]
  },
  {
   "cell_type": "code",
   "execution_count": 5,
   "metadata": {
    "tags": [
     "remove-output"
    ]
   },
   "outputs": [
    {
     "name": "stdout",
     "output_type": "stream",
     "text": [
      "\n",
      "t = 0.1\n",
      "y = 0.9047619048250637\n",
      "\n",
      "t = 0.2\n",
      "y = 0.8185941043087901\n",
      "\n",
      "t = 0.30000000000000004\n",
      "y = 0.7406327609899468\n",
      "\n",
      "t = 0.4\n",
      "y = 0.6700963075158828\n"
     ]
    },
    {
     "data": {
      "image/png": "[encoded data removed]",
      "text/plain": [
       "<Figure size 432x288 with 1 Axes>"
      ]
     },
     "metadata": {
      "needs_background": "light"
     },
     "output_type": "display_data"
    }
   ],
   "source": [
    "RHS = lambda y,t: -y\n",
    "Delta_t = 0.1\n",
    "t_final = 0.4\n",
    "t,y = crank_nicolson(RHS,1,Delta_t,t_final/Delta_t,True)\n",
    "plt.plot(t,y,'-',label=\"Crank-Nicolson\",color=\"green\",marker=\"^\",markersize=4)\n",
    "t_fine = np.linspace(0,t_final,100)\n",
    "plt.plot(t_fine,np.exp(-t_fine),label=\"Exact Solution\",color=\"black\")\n",
    "plt.xlabel(\"t\")\n",
    "plt.ylabel(\"y(t)\")\n",
    "plt.legend()\n",
    "plt.title(\"Solution with $\\Delta t$ = \" + str(Delta_t))\n",
    "plt.show()"
   ]
  },
  {
   "cell_type": "markdown",
   "metadata": {
    "nbgrader": {
     "grade": false,
     "locked": false,
     "solution": false
    }
   },
   "source": [
    "Your function in the last home activity works if it computes the following values:\n",
    "\n",
    "| t | y |\n",
    "| - | - |\n",
    "| 0.0 | 1.0 |\n",
    "| 0.1 | 0.9047619048250637 |\n",
    "| 0.2 | 0.8185941043087901 |\n",
    "| 0.3 | 0.7406327609899468 |\n",
    "| 0.4 | 0.6700963075158828 |"
   ]
  },
  {
   "cell_type": "code",
   "execution_count": 6,
   "metadata": {
    "nbgrader": {
     "grade": true,
     "grade_id": "d-ii",
     "locked": true,
     "points": "0.2",
     "solution": false
    },
    "tags": []
   },
   "outputs": [],
   "source": [
    "# Removed autograder test. You may delete this cell."
   ]
  },
  {
   "cell_type": "markdown",
   "metadata": {
    "colab_type": "text",
    "id": "w5KjAk-sG1zl"
   },
   "source": [
    "### Impact of Step Size on Integration Error"
   ]
  },
  {
   "cell_type": "markdown",
   "metadata": {},
   "source": [
    "<div class=\"admonition seealso\"> \n",
    "<p class=\"title\"><b>Home Activity</b></p>\n",
    " Run the code below.\n",
    "</div>"
   ]
  },
  {
   "cell_type": "code",
   "execution_count": 7,
   "metadata": {
    "colab": {
     "base_uri": "https://localhost:8080/",
     "height": 601
    },
    "colab_type": "code",
    "executionInfo": {
     "elapsed": 5778,
     "status": "ok",
     "timestamp": 1556625639519,
     "user": {
      "displayName": "Alexander Dowling",
      "photoUrl": "https://lh3.googleusercontent.com/-LChdQ2m5OQE/AAAAAAAAAAI/AAAAAAAAAA0/JeXJe4vQJ7M/s64/photo.jpg",
      "userId": "00988067626794866502"
     },
     "user_tz": 240
    },
    "id": "dsqM1-k9G1zm",
    "outputId": "c9552e6c-b072-430f-ba76-b9200575cfd3",
    "tags": []
   },
   "outputs": [
    {
     "data": {
      "image/png": "[encoded data removed]",
      "text/plain": [
       "<Figure size 432x288 with 1 Axes>"
      ]
     },
     "metadata": {
      "needs_background": "light"
     },
     "output_type": "display_data"
    },
    {
     "data": {
      "image/png": "[encoded data removed]",
      "text/plain": [
       "<Figure size 432x288 with 1 Axes>"
      ]
     },
     "metadata": {
      "needs_background": "light"
     },
     "output_type": "display_data"
    }
   ],
   "source": [
    "RHS = lambda y,t: -y\n",
    "Delta_t = np.array([1.0,.5,.25,.125,.0625,.0625/2])\n",
    "t_final = 2\n",
    "error = np.zeros(Delta_t.size)\n",
    "t_fine = np.linspace(0,t_final,100)\n",
    "count = 0\n",
    "for d in Delta_t:\n",
    "    t,y = crank_nicolson(RHS,1,d,t_final/d)\n",
    "    plt.plot(t,y,label=\"$\\Delta t$ = \" + str(d))\n",
    "    error[count] = np.linalg.norm((y-np.exp(-t)))/np.sqrt(t_final/d)\n",
    "    count += 1\n",
    "plt.plot(t_fine,np.exp(-t_fine),linewidth=3,color=\"black\",label=\"Exact Solution\")\n",
    "plt.xlabel(\"t\")\n",
    "plt.ylabel(\"y(t)\")\n",
    "plt.legend()\n",
    "plt.title(\"Solution with $\\Delta t$ = \" + str(Delta_t))\n",
    "plt.show()\n",
    "plt.loglog(Delta_t,error,'o-',color=\"green\")\n",
    "slope = (np.log(error[-1]) - np.log(error[-2]))/(np.log(Delta_t[-1])- np.log(Delta_t[-2]))\n",
    "plt.title(\"Slope of Error is \" + str(slope))\n",
    "plt.xlabel(\"$\\Delta t$\")\n",
    "plt.ylabel(\"Norm of Error\")\n",
    "plt.show()"
   ]
  },
  {
   "cell_type": "markdown",
   "metadata": {
    "colab_type": "text",
    "id": "1BkxpxRdG1zo"
   },
   "source": [
    "Now we get **second-order convergence of the error** as evidenced by the error plot."
   ]
  },
  {
   "cell_type": "markdown",
   "metadata": {
    "colab_type": "text",
    "id": "NuPPLPN_G1zo"
   },
   "source": [
    "### Stability and Oscillations\n",
    "\n",
    "Let's return to our trusty test problem to explore stability and oscillations with Crank-Nicolson."
   ]
  },
  {
   "cell_type": "markdown",
   "metadata": {},
   "source": [
    "<div class=\"admonition seealso\"> \n",
    "<p class=\"title\"><b>Home Activity</b></p>\n",
    " Adjust the step size to answer the following questions.\n",
    "</div>"
   ]
  },
  {
   "cell_type": "markdown",
   "metadata": {},
   "source": [
    "**Home Activity Questions:**\n",
    "* At what step size (if any) does Crank-Nicolson become unstable? Why?\n",
    "* At what step size (if any) does Crank-Nicolson begin to oscillate? Why?"
   ]
  },
  {
   "cell_type": "code",
   "execution_count": 8,
   "metadata": {
    "colab": {
     "base_uri": "https://localhost:8080/",
     "height": 316
    },
    "colab_type": "code",
    "executionInfo": {
     "elapsed": 5907,
     "status": "ok",
     "timestamp": 1556625639654,
     "user": {
      "displayName": "Alexander Dowling",
      "photoUrl": "https://lh3.googleusercontent.com/-LChdQ2m5OQE/AAAAAAAAAAI/AAAAAAAAAA0/JeXJe4vQJ7M/s64/photo.jpg",
      "userId": "00988067626794866502"
     },
     "user_tz": 240
    },
    "id": "qeUUp5WZG1zp",
    "outputId": "1f478a52-013c-429d-b939-412811819dba"
   },
   "outputs": [
    {
     "data": {
      "image/png": "[encoded data removed]",
      "text/plain": [
       "<Figure size 432x288 with 1 Axes>"
      ]
     },
     "metadata": {
      "needs_background": "light"
     },
     "output_type": "display_data"
    }
   ],
   "source": [
    "RHS = lambda y,t: -y\n",
    "\n",
    "# adjust this\n",
    "Delta_t = 2.2\n",
    "\n",
    "# compute approximate solution with Crack-Nicolson, plot\n",
    "t_final = 20\n",
    "t,y = crank_nicolson(RHS,1,Delta_t,t_final/Delta_t)\n",
    "plt.plot(t,y,'-',label=\"Crank-Nicolson\",color=\"green\",marker=\"^\",markersize=4)\n",
    "t_fine = np.linspace(0,t_final,100)\n",
    "plt.plot(t_fine,np.exp(-t_fine),label=\"Exact Solution\",color=\"black\")\n",
    "plt.xlabel(\"t\")\n",
    "plt.ylabel(\"y(t)\")\n",
    "plt.legend()\n",
    "plt.title(\"Solution with $\\Delta t$ = \" + str(Delta_t))\n",
    "plt.show()"
   ]
  },
  {
   "cell_type": "markdown",
   "metadata": {
    "colab_type": "text",
    "id": "jkusgELoG1zr"
   },
   "source": [
    "In terms of stability, Crank-Nicolson is a mixed bag: it's **stable but can oscillate**.\n",
    "\n",
    "Notice that the oscillation makes the numerical solution negative. This is the case even though the exact solution, $e^{-t}$, cannot be negative. "
   ]
  }
 ],
 "metadata": {
  "colab": {
   "name": "L25-Initial-Value-Problems.ipynb",
   "provenance": [],
   "version": "0.3.2"
  },
  "kernelspec": {
   "display_name": "Python 3 (ipykernel)",
   "language": "python",
   "name": "python3"
  },
  "language_info": {
   "codemirror_mode": {
    "name": "ipython",
    "version": 3
   },
   "file_extension": ".py",
   "mimetype": "text/x-python",
   "name": "python",
   "nbconvert_exporter": "python",
   "pygments_lexer": "ipython3",
   "version": "3.9.12"
  }
 },
 "nbformat": 4,
 "nbformat_minor": 4
}
