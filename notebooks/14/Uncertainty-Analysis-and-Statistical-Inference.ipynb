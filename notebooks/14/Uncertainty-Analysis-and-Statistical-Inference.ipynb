{
 "cells": [
  {
   "cell_type": "markdown",
   "metadata": {
    "colab_type": "text",
    "id": "qcE-uuSfaWs0"
   },
   "source": [
    "# Uncertainty Analysis and Statistical Inference\n",
    "**Further Reading**: §7.3 in Navidi (2015), *Uncertainty in the Least-Squares Coefficients*\n"
   ]
  },
  {
   "cell_type": "markdown",
   "metadata": {
    "colab_type": "text",
    "id": "9HPF1azhtHFl",
    "tags": []
   },
   "source": [
    "## Learning Objectives\n",
    "\n",
    "After studying this notebook and your lecture notes, you should be able to:\n",
    "* Interpret correlation coefficient\n",
    "* Compute simple linear regression best fits\n",
    "* Check linear regression error assumptions using residual analysis (plots)\n",
    "* Compute residual standard error and covariance matrix for fitted parameters\n",
    "* Assemble confidence intervals for fitted parameters"
   ]
  },
  {
   "cell_type": "code",
   "execution_count": 2,
   "metadata": {
    "colab": {},
    "colab_type": "code",
    "id": "t8omIiX7aWs1",
    "tags": []
   },
   "outputs": [],
   "source": [
    "# load libraries\n",
    "import scipy.stats as stats\n",
    "import numpy as np\n",
    "import math\n",
    "import matplotlib.pyplot as plt"
   ]
  },
  {
   "cell_type": "markdown",
   "metadata": {
    "colab_type": "text",
    "id": "OCwPr7U0aWtt"
   },
   "source": [
    "## Main Idea\n",
    "\n",
    "Returning to the [**farm example from the last notebook**](../14/Ordinary-Least-Squares-Linear-Regression.ipynb), we already fit a linear model and checked the residuals (error) assumptions.\n",
    "\n",
    "We can now ask questions like:\n",
    "* How does uncertainty in the observed data propagate to the fitted model parameters?\n",
    "* Given the uncertainty in the observed data, what can we infer about the true values $\\beta_0$ and $\\beta_1$?"
   ]
  },
  {
   "cell_type": "markdown",
   "metadata": {
    "colab_type": "text",
    "id": "8bQUMrxEaWtu"
   },
   "source": [
    "## Estimating Variance of Residuals\n",
    "\n",
    "Recall the general linear model formula:\n",
    "\n",
    "$$y_i = \\beta_0 + \\beta_1 x_i + \\epsilon_i$$\n",
    "\n",
    "and our assumption that\n",
    "\n",
    "$$\\epsilon_i \\sim \\mathcal{N}(0,\\sigma^2) ~.$$\n",
    "\n",
    "We rarely know $\\sigma^2$ and instead need to estimate it from the residuals:\n",
    "\n",
    "$$s^2 = \\hat{\\sigma}^2 = \\frac{\\sum_{i=1}^{n} e^2_i}{n-2} = \\frac{\\sum_{i=1}^{n} (y_i - \\hat{y}_i)^2}{n-2} = \\frac{e^T e}{n-2}$$\n",
    "\n",
    "Here $s^2$ is the variance of the residuals and an unbias estimate of $\\sigma^2$. Often $s$ is called the **residual standard error** or **standard error of the residuals**. The $n-2$ is the degree of freedom, where $-2$ is because we fit two model parameters ($\\hat{\\beta}_0$ and $\\hat{\\beta}_1$)."
   ]
  },
  {
   "cell_type": "code",
   "execution_count": 3,
   "metadata": {
    "colab": {
     "base_uri": "https://localhost:8080/",
     "height": 34
    },
    "colab_type": "code",
    "executionInfo": {
     "elapsed": 3181,
     "status": "ok",
     "timestamp": 1554384418014,
     "user": {
      "displayName": "Alexander Dowling",
      "photoUrl": "https://lh3.googleusercontent.com/-LChdQ2m5OQE/AAAAAAAAAAI/AAAAAAAAAA0/JeXJe4vQJ7M/s64/photo.jpg",
      "userId": "00988067626794866502"
     },
     "user_tz": 240
    },
    "id": "KF7rs773aWtv",
    "outputId": "88c43895-49b2-4332-e07f-07505d7c0c2b"
   },
   "outputs": [
    {
     "name": "stdout",
     "output_type": "stream",
     "text": [
      "Residual standard error =  329.0247600698057 (pounds/acre)\n"
     ]
    }
   ],
   "source": [
    "e_farm=np.array([-243.72463768, 385.85507246, -112.98550725, -37.4057971, -253.82608696, 462.753623109, -200.66666667]) # calculated in last notebook\n",
    "n_farm = len(e_farm)\n",
    "se = math.sqrt((np.dot(e_farm,e_farm)) / (len(e_farm) - 2))\n",
    "print(\"Residual standard error = \",se,\"(pounds/acre)\")"
   ]
  },
  {
   "cell_type": "markdown",
   "metadata": {
    "colab_type": "text",
    "id": "EaYEmF2KaWty"
   },
   "source": [
    "## Simplified Uncertainty in Regression Parameters\n",
    "\n",
    "Recall the formulas to calculate the best fit parameters:\n",
    "\n",
    "$$\\hat{\\beta}_1 = \\frac{\\sum_{i=1}^{n} (x_i - \\bar{x})(y_i - \\bar{y})}{\\sum_{i=1}^{n} (x_i - \\bar{x})^2}$$\n",
    "\n",
    "$$\\hat{\\beta}_0 = \\bar{y} - \\hat{\\beta}_1 \\bar{x}$$\n",
    "\n",
    "How are the fitted parameters impacted by uncertainty $\\epsilon \\sim \\mathcal{N}(0,\\sigma^2)$ in the dependent variable observations ($y_i$)?\n",
    "\n",
    "Using the error propagation formulas, we can obtain:\n",
    "\n",
    "$$s_{\\hat{\\beta}_{0}} = s \\sqrt{\\frac{\\sum_{i=1}^n x_i^2}{n \\sum_{i=1}^{n} (x_i - \\bar{x})^2}}$$\n",
    "\n",
    "$$s_{\\hat{\\beta}_{1}} = \\frac{s}{\\sqrt{\\sum_{i=1}^{n} (x_i - \\bar{x})^2}}$$\n",
    "\n",
    "where $s$ is the residual standard error and an estimate for $\\sigma$. These formulas **neglect the covariance of the fitted parameters** $\\hat{\\beta}_{0}$ and $\\hat{\\beta}_{1}$."
   ]
  },
  {
   "cell_type": "markdown",
   "metadata": {},
   "source": [
    "<div class=\"admonition note\"> \n",
    "<p class=\"title\"><b>Class Activity</b></p>\n",
    " With a partner, take a minute to verify the units for the above equations make sense.\n",
    "</div>"
   ]
  },
  {
   "cell_type": "code",
   "execution_count": 4,
   "metadata": {
    "colab": {
     "base_uri": "https://localhost:8080/",
     "height": 51
    },
    "colab_type": "code",
    "executionInfo": {
     "elapsed": 3172,
     "status": "ok",
     "timestamp": 1554384418015,
     "user": {
      "displayName": "Alexander Dowling",
      "photoUrl": "https://lh3.googleusercontent.com/-LChdQ2m5OQE/AAAAAAAAAAI/AAAAAAAAAA0/JeXJe4vQJ7M/s64/photo.jpg",
      "userId": "00988067626794866502"
     },
     "user_tz": 240
    },
    "id": "frt0uaW1aWtz",
    "outputId": "6d7267ba-40ef-403e-b995-89355aca1c9a"
   },
   "outputs": [
    {
     "name": "stdout",
     "output_type": "stream",
     "text": [
      "Standard deviation of intercept:\n",
      "1405.31530958388 (pounds/acre)\n"
     ]
    }
   ],
   "source": [
    "pH = np.array([4.6, 4.8, 5.2, 5.4, 5.6, 5.8, 6.0]) #pH values from last notebook\n",
    "x = pH\n",
    "xbar = np.mean(x)\n",
    "\n",
    "xdiff2 = (x-xbar) @ (x-xbar)\n",
    "sb0 = se * math.sqrt((x@x) / (n_farm * xdiff2))\n",
    "print(\"Standard deviation of intercept:\")\n",
    "print(sb0,\"(pounds/acre)\")"
   ]
  },
  {
   "cell_type": "code",
   "execution_count": 5,
   "metadata": {
    "colab": {
     "base_uri": "https://localhost:8080/",
     "height": 51
    },
    "colab_type": "code",
    "executionInfo": {
     "elapsed": 3163,
     "status": "ok",
     "timestamp": 1554384418016,
     "user": {
      "displayName": "Alexander Dowling",
      "photoUrl": "https://lh3.googleusercontent.com/-LChdQ2m5OQE/AAAAAAAAAAI/AAAAAAAAAA0/JeXJe4vQJ7M/s64/photo.jpg",
      "userId": "00988067626794866502"
     },
     "user_tz": 240
    },
    "id": "JHr9HvFxaWt1",
    "outputId": "187244bc-a12f-437b-c7b1-1e3cd80f1c5d"
   },
   "outputs": [
    {
     "name": "stdout",
     "output_type": "stream",
     "text": [
      "Standard deviation of slope:\n",
      "261.995036940794 (pounds per acre / pH unit)\n"
     ]
    }
   ],
   "source": [
    "sb1 = se / math.sqrt(xdiff2)\n",
    "print(\"Standard deviation of slope:\")\n",
    "print(sb1,\"(pounds per acre / pH unit)\")"
   ]
  },
  {
   "cell_type": "markdown",
   "metadata": {
    "colab_type": "text",
    "id": "2xjCKxI3aWt5",
    "tags": []
   },
   "source": [
    "## Confidence Intervals\n",
    "\n",
    "Under the **four assumptions for errors**, the quantities\n",
    "\n",
    "$$\\frac{\\hat{\\beta_0} - \\beta_0}{s_{\\hat{\\beta}_{0}}} \\qquad \\mathrm{and} \\qquad \\frac{\\hat{\\beta_1} - \\beta_1}{s_{\\hat{\\beta}_{1}}}$$\n",
    "\n",
    "have **Student's t-distribution** with $n-2$ degrees of freedom. This facilitates a direct extension of statistical inference to linear regression.\n",
    "\n",
    "For example, level 100$(1 - \\alpha)$ **confidence intervals** for $\\beta_0$ and $\\beta_1$ are given by\n",
    "\n",
    "$$\\hat{\\beta}_0 \\pm t_{n-2,\\alpha/2} \\cdot s_{\\hat{\\beta}_0}$$\n",
    "\n",
    "$$\\hat{\\beta}_1 \\pm t_{n-2,\\alpha/2} \\cdot s_{\\hat{\\beta}_1}$$"
   ]
  },
  {
   "cell_type": "code",
   "execution_count": 6,
   "metadata": {
    "colab": {
     "base_uri": "https://localhost:8080/",
     "height": 34
    },
    "colab_type": "code",
    "executionInfo": {
     "elapsed": 3153,
     "status": "ok",
     "timestamp": 1554384418017,
     "user": {
      "displayName": "Alexander Dowling",
      "photoUrl": "https://lh3.googleusercontent.com/-LChdQ2m5OQE/AAAAAAAAAAI/AAAAAAAAAA0/JeXJe4vQJ7M/s64/photo.jpg",
      "userId": "00988067626794866502"
     },
     "user_tz": 240
    },
    "id": "orQEuCuRaWt5",
    "outputId": "686a42d2-46e0-4475-b718-3737fdf805c0"
   },
   "outputs": [
    {
     "name": "stdout",
     "output_type": "stream",
     "text": [
      "t-score = [-2.57058184  2.57058184]\n"
     ]
    }
   ],
   "source": [
    "# look up t-score for 95% confidence interval\n",
    "tscore = stats.t.ppf([0.025, 0.975], n_farm-2)\n",
    "print(\"t-score =\",tscore)"
   ]
  },
  {
   "cell_type": "code",
   "execution_count": 7,
   "metadata": {
    "colab": {
     "base_uri": "https://localhost:8080/",
     "height": 51
    },
    "colab_type": "code",
    "executionInfo": {
     "elapsed": 3140,
     "status": "ok",
     "timestamp": 1554384418018,
     "user": {
      "displayName": "Alexander Dowling",
      "photoUrl": "https://lh3.googleusercontent.com/-LChdQ2m5OQE/AAAAAAAAAAI/AAAAAAAAAA0/JeXJe4vQJ7M/s64/photo.jpg",
      "userId": "00988067626794866502"
     },
     "user_tz": 240
    },
    "id": "4CL2lKyMaWt7",
    "outputId": "2bfa7f63-c76d-4496-d5ca-6ed1c645825e"
   },
   "outputs": [
    {
     "name": "stdout",
     "output_type": "stream",
     "text": [
      "95% confidence interval for intercept:\n",
      "[-5703.42003852  1521.53598055]  pounds/acre\n"
     ]
    }
   ],
   "source": [
    "b0 = -2090.942028985508 # calculated in last notebook\n",
    "\n",
    "print(\"95% confidence interval for intercept:\")\n",
    "intercept_interval = b0 + sb0 * tscore\n",
    "print(intercept_interval,\" pounds/acre\")"
   ]
  },
  {
   "cell_type": "code",
   "execution_count": 8,
   "metadata": {
    "colab": {
     "base_uri": "https://localhost:8080/",
     "height": 51
    },
    "colab_type": "code",
    "executionInfo": {
     "elapsed": 3124,
     "status": "ok",
     "timestamp": 1554384418019,
     "user": {
      "displayName": "Alexander Dowling",
      "photoUrl": "https://lh3.googleusercontent.com/-LChdQ2m5OQE/AAAAAAAAAAI/AAAAAAAAAA0/JeXJe4vQJ7M/s64/photo.jpg",
      "userId": "00988067626794866502"
     },
     "user_tz": 240
    },
    "id": "XWLwd_RuaWt-",
    "outputId": "cdc26226-f136-4426-fd58-dbe3b3a4e87d"
   },
   "outputs": [
    {
     "name": "stdout",
     "output_type": "stream",
     "text": [
      "95% confidence interval for intercept:\n",
      "[  63.62176603 1410.58113252]  pounds per acre / pH unit\n"
     ]
    }
   ],
   "source": [
    "b1 = 737.1014492753624 # calculated in last notebook\n",
    "\n",
    "print(\"95% confidence interval for intercept:\")\n",
    "slope_interval = b1 + sb1 * tscore\n",
    "print(slope_interval,\" pounds per acre / pH unit\")"
   ]
  },
  {
   "cell_type": "markdown",
   "metadata": {
    "colab_type": "text",
    "id": "ur8u-mdseoxK"
   },
   "source": [
    "## Uncertainty in Regression Parameters Revisited\n",
    "\n",
    "Recall, the above analysis neglected the correlation between $\\hat{\\beta}_0$ and $\\hat{\\beta}_1$. But these parameters are almost always correlated. So you should excercise caution when applying the above formulas (although they are routinely the end of the story in an introductory statistics textbook).\n",
    "\n",
    "Before we discuss a more holistic approach, we need to introduce **multivariate linear models**.\n",
    "\n",
    "$$\n",
    "\\underbrace{\\vec{y}}_{\\mathbb{R}^{n x 1}} = \\underbrace{\\mathbf{X}}_{\\mathbb{R}^{n x m}} \\cdot \\underbrace{\\vec{\\beta}}_{\\mathbb{R}^{m x 1}} + \\underbrace{\\vec{\\epsilon}}_{\\mathbb{R}^{n x 1}}\n",
    "$$\n",
    "\n",
    "Observations: $\\vec{y} = [y_1, y_2, ..., y_n]^T$\n",
    "\n",
    "Fitted Parameters: $\\vec{\\beta} = [\\beta_0, \\beta_1, ..., \\beta_{m}]^T$\n",
    "\n",
    "Data / Feature Matrix:\n",
    "\n",
    "$$\n",
    "\\mathbf{X} = \\begin{bmatrix} 1 & x_{1,1} & x_{1,2} & \\dots & x_{1,m} \\\\\n",
    "1 & x_{2,1} & x_{2,2} & \\dots & x_{2,m} \\\\\n",
    "\\vdots & \\vdots & \\vdots & \\ddots & \\vdots \\\\\n",
    "1 & x_{n,1} & x_{n,2} & \\dots & x_{n,m}\n",
    "\\end{bmatrix}\n",
    "$$\n",
    "\n",
    "For example, we could fit a linear model where reactor yield depended on both temperature, pressure and inlet compositions. More on this in a few lectures.\n",
    "\n",
    "The linear regression best fit estimates can be easily computed with linear algebra:\n",
    "\n",
    "$$\\mathbf{X}^T \\mathbf{X} \\hat{\\beta} = \\mathbf{X}^T y$$\n",
    "\n",
    "or\n",
    "\n",
    "$$ \\hat{\\beta} = (\\mathbf{X}^T \\mathbf{X})^{-1} \\mathbf{X}^T y$$\n",
    "\n",
    "where the $\\vec{\\epsilon}$ is omitted for simplificty. The equations above are know as the **normal equations**.\n",
    "\n",
    "By applying the error propagation formula to the above equation, we can easily calculate the **covariance matrix of the fitted parameters**:\n",
    "\n",
    "$$\\Sigma_{\\hat{\\beta}} = \\hat{\\sigma}^2  (\\mathbf{X}^T \\mathbf{X})^{-1}$$\n",
    "\n",
    "Now we will apply this to the **farm example**:\n",
    "\n",
    "\n",
    "\n",
    "\n"
   ]
  },
  {
   "cell_type": "code",
   "execution_count": 9,
   "metadata": {
    "colab": {
     "base_uri": "https://localhost:8080/",
     "height": 153
    },
    "colab_type": "code",
    "executionInfo": {
     "elapsed": 3108,
     "status": "ok",
     "timestamp": 1554384418020,
     "user": {
      "displayName": "Alexander Dowling",
      "photoUrl": "https://lh3.googleusercontent.com/-LChdQ2m5OQE/AAAAAAAAAAI/AAAAAAAAAA0/JeXJe4vQJ7M/s64/photo.jpg",
      "userId": "00988067626794866502"
     },
     "user_tz": 240
    },
    "id": "BU6-qB4SfEdw",
    "outputId": "11181f88-dc44-4c5c-94c2-8230061fb644"
   },
   "outputs": [
    {
     "name": "stdout",
     "output_type": "stream",
     "text": [
      "X =\n",
      " [[1.  4.6]\n",
      " [1.  4.8]\n",
      " [1.  5.2]\n",
      " [1.  5.4]\n",
      " [1.  5.6]\n",
      " [1.  5.8]\n",
      " [1.  6. ]]\n"
     ]
    }
   ],
   "source": [
    "# feature matrix\n",
    "X = np.ones((n_farm,2))\n",
    "X[:,1] = pH\n",
    "\n",
    "print(\"X =\\n\",X)"
   ]
  },
  {
   "cell_type": "code",
   "execution_count": 10,
   "metadata": {
    "colab": {
     "base_uri": "https://localhost:8080/",
     "height": 34
    },
    "colab_type": "code",
    "executionInfo": {
     "elapsed": 3098,
     "status": "ok",
     "timestamp": 1554384418022,
     "user": {
      "displayName": "Alexander Dowling",
      "photoUrl": "https://lh3.googleusercontent.com/-LChdQ2m5OQE/AAAAAAAAAAI/AAAAAAAAAA0/JeXJe4vQJ7M/s64/photo.jpg",
      "userId": "00988067626794866502"
     },
     "user_tz": 240
    },
    "id": "ENGiPnebkFsR",
    "outputId": "0e55cd84-2cc2-40bf-9a3b-009baeac52d7"
   },
   "outputs": [
    {
     "name": "stdout",
     "output_type": "stream",
     "text": [
      "y = [1056 1833 1629 1852 1783 2647 2131]\n"
     ]
    }
   ],
   "source": [
    "yld = np.array([1056, 1833, 1629, 1852, 1783, 2647, 2131]) # data from the example in the last notebook\n",
    "y = yld\n",
    "print(\"y =\",y)"
   ]
  },
  {
   "cell_type": "code",
   "execution_count": 11,
   "metadata": {
    "colab": {
     "base_uri": "https://localhost:8080/",
     "height": 68
    },
    "colab_type": "code",
    "executionInfo": {
     "elapsed": 3085,
     "status": "ok",
     "timestamp": 1554384418023,
     "user": {
      "displayName": "Alexander Dowling",
      "photoUrl": "https://lh3.googleusercontent.com/-LChdQ2m5OQE/AAAAAAAAAAI/AAAAAAAAAA0/JeXJe4vQJ7M/s64/photo.jpg",
      "userId": "00988067626794866502"
     },
     "user_tz": 240
    },
    "id": "o0waOiW5lLhI",
    "outputId": "513b65a2-674b-4c01-cfe8-eda4940b4957"
   },
   "outputs": [
    {
     "name": "stdout",
     "output_type": "stream",
     "text": [
      "inv(XT X) =\n",
      " [[18.24275362 -3.38768116]\n",
      " [-3.38768116  0.63405797]]\n"
     ]
    }
   ],
   "source": [
    "XXinv = np.linalg.inv(X.transpose().dot(X))\n",
    "print(\"inv(XT X) =\\n\",XXinv)"
   ]
  },
  {
   "cell_type": "code",
   "execution_count": 12,
   "metadata": {
    "colab": {
     "base_uri": "https://localhost:8080/",
     "height": 34
    },
    "colab_type": "code",
    "executionInfo": {
     "elapsed": 3077,
     "status": "ok",
     "timestamp": 1554384418024,
     "user": {
      "displayName": "Alexander Dowling",
      "photoUrl": "https://lh3.googleusercontent.com/-LChdQ2m5OQE/AAAAAAAAAAI/AAAAAAAAAA0/JeXJe4vQJ7M/s64/photo.jpg",
      "userId": "00988067626794866502"
     },
     "user_tz": 240
    },
    "id": "92D5y_OflbhN",
    "outputId": "2b9ba73b-5d8f-434b-a52b-f01809f4e1be"
   },
   "outputs": [
    {
     "name": "stdout",
     "output_type": "stream",
     "text": [
      "beta_hat = [-2090.94202899   737.10144928]\n"
     ]
    }
   ],
   "source": [
    "beta_hat = XXinv @ X.transpose() @ y\n",
    "print(\"beta_hat =\",beta_hat)"
   ]
  },
  {
   "cell_type": "code",
   "execution_count": 13,
   "metadata": {
    "colab": {
     "base_uri": "https://localhost:8080/",
     "height": 51
    },
    "colab_type": "code",
    "executionInfo": {
     "elapsed": 3500,
     "status": "ok",
     "timestamp": 1554384418457,
     "user": {
      "displayName": "Alexander Dowling",
      "photoUrl": "https://lh3.googleusercontent.com/-LChdQ2m5OQE/AAAAAAAAAAI/AAAAAAAAAA0/JeXJe4vQJ7M/s64/photo.jpg",
      "userId": "00988067626794866502"
     },
     "user_tz": 240
    },
    "id": "i9sJ9MbglwGT",
    "outputId": "d576c342-c641-409d-fd3d-1da620643253"
   },
   "outputs": [
    {
     "name": "stdout",
     "output_type": "stream",
     "text": [
      "intercept = -2090.942028985508 pounds per acre\n",
      "slope =  737.1014492753624 pounds per acre / pH unit\n"
     ]
    }
   ],
   "source": [
    "# results from the beginning of the notebook\n",
    "print(\"intercept =\",b0,\"pounds per acre\")\n",
    "print(\"slope = \",b1,\"pounds per acre / pH unit\")"
   ]
  },
  {
   "cell_type": "code",
   "execution_count": 14,
   "metadata": {
    "colab": {
     "base_uri": "https://localhost:8080/",
     "height": 68
    },
    "colab_type": "code",
    "executionInfo": {
     "elapsed": 3493,
     "status": "ok",
     "timestamp": 1554384418458,
     "user": {
      "displayName": "Alexander Dowling",
      "photoUrl": "https://lh3.googleusercontent.com/-LChdQ2m5OQE/AAAAAAAAAAI/AAAAAAAAAA0/JeXJe4vQJ7M/s64/photo.jpg",
      "userId": "00988067626794866502"
     },
     "user_tz": 240
    },
    "id": "fQptHdcol8au",
    "outputId": "ee144bc0-1c45-40c4-86ff-574969d9c215"
   },
   "outputs": [
    {
     "name": "stdout",
     "output_type": "stream",
     "text": [
      "covariance matrix:\n",
      " [[1974911.11935094 -366741.19098175]\n",
      " [-366741.19098175   68641.39938161]]\n"
     ]
    }
   ],
   "source": [
    "# covariance matrix\n",
    "Sigma_beta = se**2 * XXinv\n",
    "print(\"covariance matrix:\\n\",Sigma_beta)"
   ]
  },
  {
   "cell_type": "code",
   "execution_count": 15,
   "metadata": {
    "colab": {
     "base_uri": "https://localhost:8080/",
     "height": 102
    },
    "colab_type": "code",
    "executionInfo": {
     "elapsed": 3487,
     "status": "ok",
     "timestamp": 1554384418459,
     "user": {
      "displayName": "Alexander Dowling",
      "photoUrl": "https://lh3.googleusercontent.com/-LChdQ2m5OQE/AAAAAAAAAAI/AAAAAAAAAA0/JeXJe4vQJ7M/s64/photo.jpg",
      "userId": "00988067626794866502"
     },
     "user_tz": 240
    },
    "id": "4YSyE1fvmLvd",
    "outputId": "5ee88a7c-72ed-4273-a58f-e3282cde3a73"
   },
   "outputs": [
    {
     "name": "stdout",
     "output_type": "stream",
     "text": [
      "variance of intercept:\n",
      " 1974911.1193508364\n",
      "\n",
      "variance of slope:\n",
      " 68641.39938160802\n"
     ]
    }
   ],
   "source": [
    "# results from middle of notebook\n",
    "print(\"variance of intercept:\\n\",sb0**2)\n",
    "\n",
    "print(\"\\nvariance of slope:\\n\",sb1**2)"
   ]
  },
  {
   "cell_type": "markdown",
   "metadata": {
    "colab_type": "text",
    "id": "36r2LP70oyRm"
   },
   "source": [
    "**Main idea**: The previous calculated standard deviations $s_{\\hat{\\beta}_{0}}$ and $s_{\\hat{\\beta}_{1}}$ are consistent with the diagonal elements of the covariance matrix."
   ]
  },
  {
   "cell_type": "markdown",
   "metadata": {},
   "source": [
    "We can further scale the covariance matrix into the **correlation matrix** to analyze how closely the two variables are related.\n",
    "\n",
    "$$ Corr = D^{-1} \\Sigma D^{-1} $$"
   ]
  },
  {
   "cell_type": "code",
   "execution_count": 16,
   "metadata": {},
   "outputs": [
    {
     "name": "stdout",
     "output_type": "stream",
     "text": [
      "Correlation Matrix: \n",
      " [[ 1.         -0.99607686]\n",
      " [-0.99607686  1.        ]]\n"
     ]
    }
   ],
   "source": [
    "# get matrix of diagonals of covariance matrix for variances\n",
    "size = np.shape(Sigma_beta)\n",
    "diag = np.diagonal(Sigma_beta)\n",
    "stdev = np.sqrt(diag)\n",
    "# calculate correlation matrix\n",
    "corr_matrix = np.zeros(size)\n",
    "for i in range(0,size[0]):\n",
    "    for j in range(0,size[1]):\n",
    "        corr_matrix[i,j] = Sigma_beta[i,j] / stdev[i] / stdev[j]\n",
    "print(\"Correlation Matrix: \\n\",corr_matrix)"
   ]
  }
 ],
 "metadata": {
  "colab": {
   "collapsed_sections": [],
   "name": "L20-Linear-Regression.ipynb",
   "provenance": [],
   "version": "0.3.2"
  },
  "kernelspec": {
   "display_name": "Python 3 (ipykernel)",
   "language": "python",
   "name": "python3"
  },
  "language_info": {
   "codemirror_mode": {
    "name": "ipython",
    "version": 3
   },
   "file_extension": ".py",
   "mimetype": "text/x-python",
   "name": "python",
   "nbconvert_exporter": "python",
   "pygments_lexer": "ipython3",
   "version": "3.9.12"
  }
 },
 "nbformat": 4,
 "nbformat_minor": 4
}
