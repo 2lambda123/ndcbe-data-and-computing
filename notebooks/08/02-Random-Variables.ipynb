{
 "cells": [
  {
   "cell_type": "markdown",
   "metadata": {
    "colab_type": "text",
    "id": "6rJXXfntCDIa"
   },
   "source": [
    "# Random Variables\n",
    "\n",
    "**Further Reading**: §2.4 in Navidi (2015)"
   ]
  },
  {
   "cell_type": "markdown",
   "metadata": {
    "colab_type": "text",
    "id": "8wo2zupKCDId"
   },
   "source": [
    "## Learning Objectives\n",
    "\n",
    "After attending class, completing these activities, asking questions, and studying notes, you should be able to:\n",
    "* Give at least three examples of how an engineer would use statistics\n",
    "* Explain the difference between a random variable (upper case) and realization (lower case)\n",
    "* Convert a probability density/mass function into a cumulative distribution function\n",
    "* Derive mean and variance for a function of random variables from a density/mass function using the definition of expected value"
   ]
  },
  {
   "cell_type": "markdown",
   "metadata": {
    "colab_type": "text",
    "id": "1NNEmcRvCDIk"
   },
   "source": [
    "## Statistics: Using Data to ..."
   ]
  },
  {
   "cell_type": "markdown",
   "metadata": {
    "colab_type": "text",
    "id": "f9xibb3mCDIk"
   },
   "source": [
    "## 1. Describe the World\n",
    "\n",
    "https://istats.shinyapps.io/EDA_quantitative/"
   ]
  },
  {
   "cell_type": "markdown",
   "metadata": {
    "colab_type": "text",
    "id": "DCFNnIaICDIl"
   },
   "source": [
    "## 2. Draw Conclusions (Inferences)\n",
    "\n",
    "https://istats.shinyapps.io/Inference_prop/\n",
    "\n",
    "https://istats.shinyapps.io/Association_Categorical/"
   ]
  },
  {
   "cell_type": "markdown",
   "metadata": {
    "colab_type": "text",
    "id": "HTZ57AE8CDIl"
   },
   "source": [
    "## 3. Make Decisions Under Uncertainty\n",
    "\n",
    "**Example: Chemical Reactor Design**\n",
    "\n",
    "Recall the phenolphthalein reaction from an earlier notebook:\n",
    "\n",
    "$$\n",
    "\\frac{d[P]}{dt} = -k_{1}[P][OH^-]+k_{2}[POH] ~,\n",
    "$$\n",
    "\n",
    "with the analytic solution:\n",
    "\n",
    "$$\n",
    "[P] = [P]_{0}\\Big(\\frac{k_{2}}{k_{1}'+k_{2}}+\\frac{k_{1}'}{k_{1}'+k_{2}}e^{-(k_{1}'+k_{2})t}\\Big) ~.\n",
    "$$\n",
    "\n",
    "We can use use nonlinear regression to estimate the reaction kinetic parameters $k'_1$ and $k_2$.\n",
    "\n",
    "This example illustrates a common workflow in chemical engineering:\n",
    "\n",
    "1. Run several experiments at different temperatures, pressures, and feed compositions. Measure compositions at several times as chemical reactions occur.\n",
    "2. Use nonlinear regression to estimate kinetic model parameters.\n",
    "3. Use statistical inference to quantify uncertainty in fitted parameters.\n",
    "4. How much should we oversize/overdesign the reactor to account for the uncertainty in the fitted reaction kinetic parameters?"
   ]
  },
  {
   "cell_type": "markdown",
   "metadata": {},
   "source": [
    "## Independent Random Variables"
   ]
  },
  {
   "cell_type": "markdown",
   "metadata": {},
   "source": [
    "Random variables X and Y are independent, provided that\n",
    "\n",
    "jointly discrete: \n",
    "\n",
    "$$\\rho(x,h) = \\rho_X(x) \\cdot \\rho_Y(y)$$\n",
    "\n",
    "jointly continuous: \n",
    "\n",
    "$$f(x,y) = f_X(x) \\cdot f_Y(y)$$\n",
    "\n",
    "In other words, knowledge about ane variable does not affect the probability distribution of the other.\n",
    "\n",
    "If X and Y are independent, then \n",
    "\n",
    "jointly discrete, \n",
    "\n",
    "$$\\rho_X(x) > 0 : \\rho_{Y | X}(y | x) = \\rho_Y(y)$$\n",
    "\n",
    "jointly continuous, \n",
    "\n",
    "$$f_X(x) > 0 : f_{Y | X}(y | x) = f_Y(y)$$"
   ]
  },
  {
   "cell_type": "markdown",
   "metadata": {},
   "source": [
    "**Example:** Are X (length) and Y (width) indpendent for the following CD cover data?\n",
    "\n",
    "length (x) | width (y) | $\\rho$(X=x and Y=y)\n",
    ":----: | :-----: | :----:\n",
    "129 | 15 | 0.12\n",
    "129 | 16 | 0.08\n",
    "130 | 15 | 0.42\n",
    "130 | 16 | 0.28\n",
    "131 | 15 | 0.06\n",
    "131 | 16 | 0.04\n",
    "\n",
    "*Approach:* \n",
    "Check if $\\rho(X=x \\textrm{ and } Y=y) = P(X=x) P(Y=y)$\n",
    "\n",
    "*Solution:*\n",
    "\n",
    "$$P(X=129 \\textrm{ and } Y=15) = 0.12$$\n",
    "\n",
    "$$P(X=129) = 0.2$$\n",
    "\n",
    "$$P(Y=15) = 0.6$$\n",
    "\n",
    "$$0.2 \\times 0.6 = 0.12$$\n",
    "\n",
    "Yes, it turns out these data are independent."
   ]
  },
  {
   "cell_type": "markdown",
   "metadata": {},
   "source": [
    "## Example for Discrete Random Variables: Flipping Two Independent Coins"
   ]
  },
  {
   "cell_type": "markdown",
   "metadata": {},
   "source": [
    "Imagine we have two coins: A and B.\n",
    "\n",
    "$$P(A=\\mathrm{Head}) = 0.6$$\n",
    "\n",
    "$$P(B=\\mathrm{Head}) = 0.5$$"
   ]
  },
  {
   "cell_type": "markdown",
   "metadata": {},
   "source": [
    "Further assume the outcome of these two coins is independent. Let's simulate 1000 coin flips, record the results, and practice some skills from last class."
   ]
  },
  {
   "cell_type": "code",
   "execution_count": 1,
   "metadata": {},
   "outputs": [
    {
     "data": {
      "text/html": [
       "<div>\n",
       "<style scoped>\n",
       "    .dataframe tbody tr th:only-of-type {\n",
       "        vertical-align: middle;\n",
       "    }\n",
       "\n",
       "    .dataframe tbody tr th {\n",
       "        vertical-align: top;\n",
       "    }\n",
       "\n",
       "    .dataframe thead th {\n",
       "        text-align: right;\n",
       "    }\n",
       "</style>\n",
       "<table border=\"1\" class=\"dataframe\">\n",
       "  <thead>\n",
       "    <tr style=\"text-align: right;\">\n",
       "      <th></th>\n",
       "      <th>A</th>\n",
       "      <th>B</th>\n",
       "    </tr>\n",
       "  </thead>\n",
       "  <tbody>\n",
       "    <tr>\n",
       "      <th>0</th>\n",
       "      <td>T</td>\n",
       "      <td>H</td>\n",
       "    </tr>\n",
       "    <tr>\n",
       "      <th>1</th>\n",
       "      <td>H</td>\n",
       "      <td>T</td>\n",
       "    </tr>\n",
       "    <tr>\n",
       "      <th>2</th>\n",
       "      <td>T</td>\n",
       "      <td>T</td>\n",
       "    </tr>\n",
       "    <tr>\n",
       "      <th>3</th>\n",
       "      <td>T</td>\n",
       "      <td>H</td>\n",
       "    </tr>\n",
       "    <tr>\n",
       "      <th>4</th>\n",
       "      <td>H</td>\n",
       "      <td>T</td>\n",
       "    </tr>\n",
       "  </tbody>\n",
       "</table>\n",
       "</div>"
      ],
      "text/plain": [
       "   A  B\n",
       "0  T  H\n",
       "1  H  T\n",
       "2  T  T\n",
       "3  T  H\n",
       "4  H  T"
      ]
     },
     "execution_count": 1,
     "metadata": {},
     "output_type": "execute_result"
    }
   ],
   "source": [
    "import numpy as np\n",
    "import random\n",
    "import pandas as pd\n",
    "import matplotlib.pyplot as plt\n",
    "\n",
    "# number of flips\n",
    "n = 1000\n",
    "\n",
    "# store results\n",
    "coin_A = []\n",
    "coin_B = []\n",
    "\n",
    "def flip_simple_coin(p):\n",
    "    ''' Flip a simple coin.\n",
    "    \n",
    "    Args:\n",
    "        p : probability of a head\n",
    "        \n",
    "    Returns:\n",
    "        outcome: 'H' or 'T'\n",
    "    '''\n",
    "    \n",
    "    # Generate uniformly distributed random number on [0,1)\n",
    "    # then check if is in less than 1-p\n",
    "    if random.random() < 1 - p:\n",
    "        return 'H'\n",
    "    else:\n",
    "        return 'T'\n",
    "\n",
    "for i in range(n):\n",
    "    # flip coin A. Generate uniformly distributed random number on [0,1)\n",
    "    # then check if is in less than 0.4\n",
    "    coin_A.append(flip_simple_coin(0.6))\n",
    "    \n",
    "    # flip coin B\n",
    "    coin_B.append(flip_simple_coin(0.4))\n",
    "    \n",
    "# assemble into pandas dataframe\n",
    "d = {\"A\":coin_A, \"B\":coin_B}\n",
    "ind_coins = pd.DataFrame(data=d)\n",
    "\n",
    "# print first few experiments\n",
    "ind_coins.head()"
   ]
  },
  {
   "cell_type": "markdown",
   "metadata": {},
   "source": [
    "Let's use pandas to explore the number of outcomes for each coin."
   ]
  },
  {
   "cell_type": "code",
   "execution_count": 2,
   "metadata": {},
   "outputs": [
    {
     "data": {
      "text/plain": [
       "T    594\n",
       "H    406\n",
       "Name: A, dtype: int64"
      ]
     },
     "execution_count": 2,
     "metadata": {},
     "output_type": "execute_result"
    }
   ],
   "source": [
    "# Coin A\n",
    "ind_coins.A.value_counts()"
   ]
  },
  {
   "cell_type": "code",
   "execution_count": 3,
   "metadata": {},
   "outputs": [
    {
     "data": {
      "text/plain": [
       "H    571\n",
       "T    429\n",
       "Name: B, dtype: int64"
      ]
     },
     "execution_count": 3,
     "metadata": {},
     "output_type": "execute_result"
    }
   ],
   "source": [
    "# Coin B\n",
    "ind_coins.B.value_counts()"
   ]
  },
  {
   "cell_type": "markdown",
   "metadata": {},
   "source": [
    "We can also use pandas to calculate the number of coin flips for each possible outcome."
   ]
  },
  {
   "cell_type": "code",
   "execution_count": 4,
   "metadata": {},
   "outputs": [
    {
     "data": {
      "text/plain": [
       "A  B\n",
       "H  H    250\n",
       "   T    156\n",
       "T  H    321\n",
       "   T    273\n",
       "Name: B, dtype: int64"
      ]
     },
     "execution_count": 4,
     "metadata": {},
     "output_type": "execute_result"
    }
   ],
   "source": [
    "ind_coins.groupby('A')['B'].value_counts()"
   ]
  },
  {
   "cell_type": "markdown",
   "metadata": {},
   "source": [
    "And we can convert to frequencies by dividing by the total number of coins:"
   ]
  },
  {
   "cell_type": "code",
   "execution_count": 5,
   "metadata": {},
   "outputs": [
    {
     "data": {
      "text/plain": [
       "A  B\n",
       "H  H    0.250\n",
       "   T    0.156\n",
       "T  H    0.321\n",
       "   T    0.273\n",
       "Name: B, dtype: float64"
      ]
     },
     "execution_count": 5,
     "metadata": {},
     "output_type": "execute_result"
    }
   ],
   "source": [
    "ind_coins.groupby('A')['B'].value_counts() / len(ind_coins)"
   ]
  },
  {
   "cell_type": "markdown",
   "metadata": {},
   "source": [
    "<div style=\"background-color: rgba(0,255,0,0.05) ; padding: 10px; border: 1px solid darkgreen;\"> \n",
    "    <b>Home Activity</b>: Rerun your code. Why do you expect the results to change?\n",
    "</div>"
   ]
  },
  {
   "cell_type": "markdown",
   "metadata": {},
   "source": [
    "I ran the simulation on my computer and saved the results to a csv file with the following command:\n",
    "\n",
    "`ind_coins.to_csv(r'two_simple_coins.csv',index = None)`\n",
    "\n",
    "Let's read in the data file."
   ]
  },
  {
   "cell_type": "code",
   "execution_count": 6,
   "metadata": {
    "tags": []
   },
   "outputs": [
    {
     "name": "stdout",
     "output_type": "stream",
     "text": [
      "   A  B\n",
      "0  H  H\n",
      "1  T  H\n",
      "2  T  H\n",
      "3  T  H\n",
      "4  T  H\n"
     ]
    }
   ],
   "source": [
    "ind_coins_saved = pd.read_csv('../data/two_simple_coins.csv')\n",
    "\n",
    "# print first few experiments\n",
    "print(ind_coins_saved.head())\n",
    "\n",
    "# determine number of coin flips\n",
    "n = len(ind_coins_saved)"
   ]
  },
  {
   "cell_type": "markdown",
   "metadata": {},
   "source": [
    "And now we'll repeat the analysis from above. Notice I divided everything by the number of coin flips to compute frequencies."
   ]
  },
  {
   "cell_type": "code",
   "execution_count": 7,
   "metadata": {},
   "outputs": [
    {
     "name": "stdout",
     "output_type": "stream",
     "text": [
      "T    0.592\n",
      "H    0.408\n",
      "Name: A, dtype: float64\n"
     ]
    }
   ],
   "source": [
    "# Coin A\n",
    "pA = ind_coins_saved.A.value_counts() / n\n",
    "print(pA)"
   ]
  },
  {
   "cell_type": "code",
   "execution_count": 8,
   "metadata": {},
   "outputs": [
    {
     "name": "stdout",
     "output_type": "stream",
     "text": [
      "H    0.629\n",
      "T    0.371\n",
      "Name: B, dtype: float64\n"
     ]
    }
   ],
   "source": [
    "# Coin B\n",
    "pB = ind_coins_saved.B.value_counts() / n\n",
    "print(pB)"
   ]
  },
  {
   "cell_type": "code",
   "execution_count": 9,
   "metadata": {},
   "outputs": [
    {
     "name": "stdout",
     "output_type": "stream",
     "text": [
      "A  B\n",
      "H  H    0.244\n",
      "   T    0.164\n",
      "T  H    0.385\n",
      "   T    0.207\n",
      "Name: B, dtype: float64\n"
     ]
    }
   ],
   "source": [
    "pAB = ind_coins_saved.groupby('A')['B'].value_counts() / n\n",
    "print(pAB)"
   ]
  },
  {
   "cell_type": "markdown",
   "metadata": {},
   "source": [
    "<div style=\"background-color: rgba(0,255,0,0.05) ; padding: 10px; border: 1px solid darkgreen;\"> \n",
    "    <b>Home Activity</b>: Calculate the following probabilities from the data stored in <tt>ind_coins_saved</tt>. You may use either Python or pencil and paper. Store your answer in the Python dictionary <tt>ans_simple_coin</tt>.\n",
    "</div>"
   ]
  },
  {
   "cell_type": "markdown",
   "metadata": {},
   "source": [
    "**Probability**\n",
    "\n",
    "$P(A = H) = $\n",
    "\n",
    "$P(A = T) = $\n",
    "\n",
    "$P(B = H) = $\n",
    "\n",
    "$P(B = T) = $\n",
    "\n",
    "**Joint Probability**\n",
    "\n",
    "We'll introduce some shorthand. Assume the first argument is coin A and the second argument is coin B.\n",
    "\n",
    "$P(A=H,B=H) = P(H,H) = $\n",
    "\n",
    "$P(H,T) = $\n",
    "\n",
    "$P(T,H) = $\n",
    "\n",
    "$P(H,T) = $\n",
    "\n",
    "**Conditional Probability**\n",
    "\n",
    "$P(A = H | B = T) = $\n",
    "\n",
    "$P(A = H | B = H) = $\n",
    "\n",
    "$P(A = T | B = T) = $\n",
    "\n",
    "$P(A = T | B = H) = $"
   ]
  },
  {
   "cell_type": "code",
   "execution_count": 10,
   "metadata": {
    "nbgrader": {
     "grade": true,
     "grade_id": "probabilities",
     "locked": true,
     "points": "0.4",
     "solution": false
    },
    "tags": [
     "remove-output"
    ]
   },
   "outputs": [
    {
     "name": "stdout",
     "output_type": "stream",
     "text": [
      "{'P(A=H)': 0.408, 'P(A=T)': 0.592, 'P(B=H)': 0.629, 'P(B=T)': 0.371, 'P(H,H)': 0.244, 'P(H,T)': 0.164, 'P(T,H)': 0.385, 'P(T,T)': 0.207, 'P(A=H|B=T)': 0.4420485175202157, 'P(A=H|B=H)': 0.38791732909379967, 'P(A=T|B=T)': 0.5579514824797843, 'P(A=T|B=H)': 0.6120826709062003}\n"
     ]
    }
   ],
   "source": [
    "# Store your answers in this dictionary\n",
    "\n",
    "ans_simple_coin = {}\n",
    "\n",
    "ans_simple_coin['P(A=H)'] = 0\n",
    "ans_simple_coin['P(A=T)'] = 0\n",
    "ans_simple_coin['P(B=H)'] = 0\n",
    "ans_simple_coin['P(B=T)'] = 0\n",
    "\n",
    "ans_simple_coin['P(H,H)'] = 0\n",
    "ans_simple_coin['P(H,T)'] = 0\n",
    "ans_simple_coin['P(T,H)'] = 0\n",
    "ans_simple_coin['P(T,T)'] = 0\n",
    "\n",
    "ans_simple_coin['P(A=H|B=T)'] = 0\n",
    "ans_simple_coin['P(A=H|B=H)'] = 0\n",
    "ans_simple_coin['P(A=T|B=T)'] = 0\n",
    "ans_simple_coin['P(A=T|B=H)'] = 0\n",
    "\n",
    "### BEGIN SOLUTION\n",
    "\n",
    "ans_simple_coin['P(A=H)'] = pA['H']\n",
    "ans_simple_coin['P(A=T)'] = pA['T']\n",
    "ans_simple_coin['P(B=H)'] = pB['H']\n",
    "ans_simple_coin['P(B=T)'] = pB['T']\n",
    "\n",
    "ans_simple_coin['P(H,H)'] = pAB['H','H']\n",
    "ans_simple_coin['P(H,T)'] = pAB['H','T']\n",
    "ans_simple_coin['P(T,H)'] = pAB['T','H']\n",
    "ans_simple_coin['P(T,T)'] = pAB['T','T']\n",
    "\n",
    "ans_simple_coin['P(A=H|B=T)'] = pAB['H','T'] / pB['T']\n",
    "ans_simple_coin['P(A=H|B=H)'] = pAB['H','H'] / pB['H']\n",
    "\n",
    "ans_simple_coin['P(A=T|B=T)'] = pAB['T','T'] / pB['T']\n",
    "ans_simple_coin['P(A=T|B=H)'] = pAB['T','H'] / pB['H']\n",
    "\n",
    "print(ans_simple_coin)\n",
    "\n",
    "### END SOLUTION"
   ]
  },
  {
   "cell_type": "code",
   "execution_count": 11,
   "metadata": {
    "tags": []
   },
   "outputs": [],
   "source": [
    "### BEGIN HIDDEN TESTS\n",
    "\n",
    "secret_ans = {'P(A=H)': 0.408, 'P(A=T)': 0.592, 'P(B=H)': 0.629, 'P(B=T)': 0.371, 'P(H,H)': 0.244, 'P(H,T)': 0.164, 'P(T,H)': 0.385, 'P(T,T)': 0.207, 'P(A=H|B=T)': 0.4420485175202157, 'P(A=H|B=H)': 0.38791732909379967, 'P(A=T|B=T)': 0.5579514824797843, 'P(A=T|B=H)': 0.6120826709062003}\n",
    "\n",
    "for j in secret_ans.keys():\n",
    "    \n",
    "    assert np.abs(secret_ans[j] - ans_simple_coin[j]) < 1E-2, \"Check your work for \"+j\n",
    "\n",
    "### END HIDDEN TESTS"
   ]
  },
  {
   "cell_type": "markdown",
   "metadata": {},
   "source": [
    "Imagine we were just given the data. We do not know exactly how the data were collected. We want to determine if coins A and B are independent.\n",
    "\n",
    "Recall, if A and B are dependent, we expect:\n",
    "\n",
    "$$P(B | A) = P(B)$$\n",
    "\n",
    "and equivalently\n",
    "\n",
    "$$P(A | B) = P(A)$$\n",
    "\n",
    "for $P(A) > 0$ and $P(B) > 0$.\n",
    "\n",
    "Let's print out your previous answer:"
   ]
  },
  {
   "cell_type": "code",
   "execution_count": 12,
   "metadata": {},
   "outputs": [
    {
     "name": "stdout",
     "output_type": "stream",
     "text": [
      "P(A=H)  =  0.408\n",
      "P(A=T)  =  0.592\n",
      "P(B=H)  =  0.629\n",
      "P(B=T)  =  0.371\n",
      "P(H,H)  =  0.244\n",
      "P(H,T)  =  0.164\n",
      "P(T,H)  =  0.385\n",
      "P(T,T)  =  0.207\n",
      "P(A=H|B=T)  =  0.4420485175202157\n",
      "P(A=H|B=H)  =  0.38791732909379967\n",
      "P(A=T|B=T)  =  0.5579514824797843\n",
      "P(A=T|B=H)  =  0.6120826709062003\n"
     ]
    }
   ],
   "source": [
    "for k in ans_simple_coin.keys():\n",
    "    print(k,\" = \",ans_simple_coin[k])"
   ]
  },
  {
   "cell_type": "markdown",
   "metadata": {},
   "source": [
    "<div style=\"background-color: rgba(0,255,0,0.05) ; padding: 10px; border: 1px solid darkgreen;\"> \n",
    "    <b>Home Activity</b>: Inspect these values and determine if coins A and B are independent. Select from the multiple choice options below and store your answer as an integer in the Python variable <tt>ans_simple_coin_ind</tt>.\n",
    "</div>"
   ]
  },
  {
   "cell_type": "markdown",
   "metadata": {},
   "source": [
    "**Multiple Choice Options**:\n",
    "1. Coins A and B are independent. The probabilities match exactly.\n",
    "2. Coins A and B are likely independent. The probabilities are close, but do not match exactly. But we expect this, as the data were generated from a random process.\n",
    "3. Coins A and B are clearly NOT independent. Nice try, but I saw through your trick."
   ]
  },
  {
   "cell_type": "code",
   "execution_count": 13,
   "metadata": {
    "nbgrader": {
     "grade": true,
     "grade_id": "multiple-choice",
     "locked": true,
     "points": "0.3",
     "solution": false
    },
    "tags": []
   },
   "outputs": [],
   "source": [
    "### BEGIN SOLUTION\n",
    "ans_simple_coin_ind = 2\n",
    "### END SOLUTION"
   ]
  },
  {
   "cell_type": "code",
   "execution_count": 14,
   "metadata": {
    "tags": []
   },
   "outputs": [],
   "source": [
    "### BEGIN HIDDEN TESTS\n",
    "\n",
    "assert type(ans_simple_coin_ind) == int, \"Make sure your answer is an integer\"\n",
    "\n",
    "assert ans_simple_coin_ind == 2, \"Check your calculations.\"\n",
    "### END HIDDEN TESTS"
   ]
  },
  {
   "cell_type": "markdown",
   "metadata": {
    "tags": []
   },
   "source": [
    "## Another Example: Continous Random Variables"
   ]
  },
  {
   "cell_type": "markdown",
   "metadata": {},
   "source": [
    "In class, we will derive the mean and standard deviation for a random variable that follows the **uniform distribution** (all outcomes equally probable). Let's explore these properties with simulation first."
   ]
  },
  {
   "cell_type": "markdown",
   "metadata": {},
   "source": [
    "Let's generate 1000 random numbers between 0 and 1 with equal probability."
   ]
  },
  {
   "cell_type": "code",
   "execution_count": 15,
   "metadata": {},
   "outputs": [
    {
     "name": "stdout",
     "output_type": "stream",
     "text": [
      "[0.78230074 0.39672722 0.51206773 0.10962664 0.95134558]\n"
     ]
    }
   ],
   "source": [
    "my_nums = np.random.random(1000)\n",
    "\n",
    "# Let's look at the first 5 elements\n",
    "print(my_nums[0:5])"
   ]
  },
  {
   "cell_type": "markdown",
   "metadata": {},
   "source": [
    "Now let's create a pandas data frame from your numpy array."
   ]
  },
  {
   "cell_type": "code",
   "execution_count": 16,
   "metadata": {},
   "outputs": [
    {
     "data": {
      "text/html": [
       "<div>\n",
       "<style scoped>\n",
       "    .dataframe tbody tr th:only-of-type {\n",
       "        vertical-align: middle;\n",
       "    }\n",
       "\n",
       "    .dataframe tbody tr th {\n",
       "        vertical-align: top;\n",
       "    }\n",
       "\n",
       "    .dataframe thead th {\n",
       "        text-align: right;\n",
       "    }\n",
       "</style>\n",
       "<table border=\"1\" class=\"dataframe\">\n",
       "  <thead>\n",
       "    <tr style=\"text-align: right;\">\n",
       "      <th></th>\n",
       "      <th>U</th>\n",
       "    </tr>\n",
       "  </thead>\n",
       "  <tbody>\n",
       "    <tr>\n",
       "      <th>0</th>\n",
       "      <td>0.782301</td>\n",
       "    </tr>\n",
       "    <tr>\n",
       "      <th>1</th>\n",
       "      <td>0.396727</td>\n",
       "    </tr>\n",
       "    <tr>\n",
       "      <th>2</th>\n",
       "      <td>0.512068</td>\n",
       "    </tr>\n",
       "    <tr>\n",
       "      <th>3</th>\n",
       "      <td>0.109627</td>\n",
       "    </tr>\n",
       "    <tr>\n",
       "      <th>4</th>\n",
       "      <td>0.951346</td>\n",
       "    </tr>\n",
       "  </tbody>\n",
       "</table>\n",
       "</div>"
      ],
      "text/plain": [
       "          U\n",
       "0  0.782301\n",
       "1  0.396727\n",
       "2  0.512068\n",
       "3  0.109627\n",
       "4  0.951346"
      ]
     },
     "execution_count": 16,
     "metadata": {},
     "output_type": "execute_result"
    }
   ],
   "source": [
    "u = pd.DataFrame({'U':my_nums})\n",
    "u.head()"
   ]
  },
  {
   "cell_type": "markdown",
   "metadata": {},
   "source": [
    "<div style=\"background-color: rgba(0,255,0,0.05) ; padding: 10px; border: 1px solid darkgreen;\"> \n",
    "    <b>Home Activity</b>: Create a histogram to visualize the simulated data.\n",
    "</div>"
   ]
  },
  {
   "cell_type": "code",
   "execution_count": 17,
   "metadata": {
    "tags": [
     "remove-output"
    ]
   },
   "outputs": [
    {
     "data": {
      "image/png": "[encoded data removed]",
      "text/plain": [
       "<Figure size 432x288 with 1 Axes>"
      ]
     },
     "metadata": {
      "needs_background": "light"
     },
     "output_type": "display_data"
    }
   ],
   "source": [
    "### BEGIN SOLUTION\n",
    "plt.hist(u.U)\n",
    "plt.xlabel('u')\n",
    "plt.ylabel('Count')\n",
    "plt.show()\n",
    "### END SOLUTION"
   ]
  },
  {
   "cell_type": "markdown",
   "metadata": {},
   "source": [
    "<div style=\"background-color: rgba(0,255,0,0.05) ; padding: 10px; border: 1px solid darkgreen;\"> \n",
    "    <b>Home Activity</b>: Compute the mean and variance of the 1000 random numbers. Store your results in the Python floats <tt>u_mean</tt> and <tt>u_var</tt>.\n",
    "</div>"
   ]
  },
  {
   "cell_type": "code",
   "execution_count": 21,
   "metadata": {
    "tags": [
     "remove-output"
    ]
   },
   "outputs": [
    {
     "name": "stdout",
     "output_type": "stream",
     "text": [
      "mean =  0.49008904352767446\n",
      "var =  0.07868607462072559\n"
     ]
    }
   ],
   "source": [
    "### BEGIN SOLUTION\n",
    "u_mean = u.U.mean()\n",
    "print(\"mean = \",u_mean)\n",
    "u_var = u.U.var()\n",
    "print(\"var = \",u_var)\n",
    "### END SOLUTION"
   ]
  },
  {
   "cell_type": "code",
   "execution_count": 22,
   "metadata": {
    "nbgrader": {
     "grade": true,
     "grade_id": "correlated-coins",
     "locked": true,
     "points": "0.3",
     "solution": false
    },
    "tags": []
   },
   "outputs": [],
   "source": [
    "### BEGIN HIDDEN TESTS\n",
    "assert type(u_mean) == np.float64 or type(u_mean) == float, \"Should be a float\"\n",
    "assert type(u_var) == np.float64 or type(u_var) == float, \"Should be a float\"\n",
    "assert np.abs(u_mean - 0.5) < 0.1, \"Mean should be close to 0.5\"\n",
    "assert u_var > 0, \"Variance should be positive\"\n",
    "assert u_var < 0.15, \"We'll see in class that variances should be near 1/12\"\n",
    "### END HIDDEN TESTS"
   ]
  }
 ],
 "metadata": {
  "colab": {
   "name": "L13-Intro-Probability-Statistics.ipynb",
   "provenance": [],
   "version": "0.3.2"
  },
  "kernelspec": {
   "display_name": "Python 3 (ipykernel)",
   "language": "python",
   "name": "python3"
  },
  "language_info": {
   "codemirror_mode": {
    "name": "ipython",
    "version": 3
   },
   "file_extension": ".py",
   "mimetype": "text/x-python",
   "name": "python",
   "nbconvert_exporter": "python",
   "pygments_lexer": "ipython3",
   "version": "3.9.12"
  }
 },
 "nbformat": 4,
 "nbformat_minor": 4
}
