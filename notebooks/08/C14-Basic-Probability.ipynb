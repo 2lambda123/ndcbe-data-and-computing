{
 "cells": [
  {
   "cell_type": "markdown",
   "metadata": {
    "colab_type": "text",
    "id": "KUdg15uf30TU"
   },
   "source": [
    "# Class 14: Probability Part I\n",
    "\n",
    "CBE 20258. Numerical and Statistical Analysis. Fall 2020.\n",
    "\n",
    "&#169; University of Notre Dame"
   ]
  },
  {
   "cell_type": "markdown",
   "metadata": {},
   "source": [
    "## Semester Organization\n",
    "\n",
    "We are half way through the semester! Recall, our semester is organized into three parts:\n",
    "\n",
    "| Theme | Class Sessions |\n",
    "| - | - |\n",
    "| Computing & Python | 1 - 4 |\n",
    "| Modeling & Numerical Methods | 5 - 13 |\n",
    "| Probability & Statistics | 14 - 25 |\n",
    "\n",
    "We are devoting half of the semester to learning about **data analysis**, starting today. Throughout the rest of the semester, you'll learn how to combine Python, modeling, numerical methods, and statistics to analyze data for chemical engineering applications."
   ]
  },
  {
   "cell_type": "markdown",
   "metadata": {},
   "source": [
    "If you have not already, please purchase a copy of this textbook:\n",
    "\n",
    "![textbook](https://images-na.ssl-images-amazon.com/images/I/41l-yqYXQRL._SX378_BO1,204,203,200_.jpg)\n",
    "\n",
    "We recommend getting a hardcover used copy (about 40 to 50 USD). We are coordinating with Prof. Goodrich, so expect to see this book again in junior and senior lab. "
   ]
  },
  {
   "cell_type": "markdown",
   "metadata": {
    "collapsed": true
   },
   "source": [
    "**Announcement**: We will discuss Chapter 1 in Navidi next class. This will include reviewing matplotlib."
   ]
  },
  {
   "cell_type": "markdown",
   "metadata": {},
   "source": [
    "## Basic Ideas of Probability\n",
    "\n",
    "**Further Reading**: §2.1 in Navidi (2015)"
   ]
  },
  {
   "cell_type": "code",
   "execution_count": 1,
   "metadata": {
    "collapsed": true
   },
   "outputs": [],
   "source": [
    "import math"
   ]
  },
  {
   "cell_type": "markdown",
   "metadata": {},
   "source": [
    "### Practice Problem 2.1-A\n",
    "\n",
    "Reference: §2.1, Problem 2 in Navidi.\n",
    "\n",
    "A die (six faces) has the number 1 painted on three of its faces, the number 2 painted on two of its faces, and the number 3 painted on one face. Assume that each number is equally likely to come up.\n",
    "1. Find a sample space for this experiment\n",
    "2. Find $P$(odd number).\n",
    "3. If the die were loaded so that the face with the 3 on it were twice as likely to come up as each of the other five faces, would this chance the sample space? Explain.\n",
    "4. If the die were loaded so that the face with the 3 on it were twice as likely to come up as each of the other five faces, would this change the value of $P$(odd number)? Explain."
   ]
  },
  {
   "cell_type": "markdown",
   "metadata": {},
   "source": [
    "### Practice Problem 2.1-B\n",
    "\n",
    "Adapted from §2.1, Problem 12 in Navidi.\n",
    "\n",
    "Let $V$ be the event that a computer contains a virus, and let $W$ be the event that a computer contains a worm. Support $P(V) = 0.15$, $P(W) = 0.05$, and $P(V \\cup W) = 0.17$. Do the following:\n",
    "1. Draw a Venn diagram. Label $V$, $V^c$, $W$, $W^c$, $V \\cup W$, and $V \\cap W$.\n",
    "2. Find the probability that the computer contains both a virus and a worm.\n",
    "3. Find the probability that the computer contains neither a virus or a worm.\n",
    "4. Find the probability that the computer contains a virus but not a worm."
   ]
  },
  {
   "cell_type": "markdown",
   "metadata": {},
   "source": [
    "### Practice Problem 2.1-C\n",
    "\n",
    "Reference: §2.1, Problem 14 in Navidi.\n",
    "    \n",
    "Six hundered paving stones were examined for cracks, and 15 were found to be cracked. The same 600 stones were then examined for discoloration, and 27 were found to be discolored. A total of 562 stones were neither cracked nor discolored. One of the 600 stones is selected from random.\n",
    "1. Find the probability that it is cracked, discolored, or both.\n",
    "2. Find the probability that it is both cracked and discolored.\n",
    "3. Find the probability that it is cracked but not discolored."
   ]
  },
  {
   "cell_type": "markdown",
   "metadata": {},
   "source": [
    "## Counting Methods\n",
    "\n",
    "**Further Reading**: §2.2 in Navidi (2015)"
   ]
  },
  {
   "cell_type": "markdown",
   "metadata": {},
   "source": [
    "### Practice Problem 2.2-A\n",
    "\n",
    "Reference: §2.2, Problem 2 in Navidi.\n",
    "\n",
    "A metallurgist is designing an experiment to determine the effect of flux, base metal, and energy input on the hardness of a weld. She wants to study four different fluxes, two different base metals, and three different amounts of energy input. If each run of the experiment involves one flux, one base metal, and one amount of energy input, how many runs are possible?"
   ]
  },
  {
   "cell_type": "markdown",
   "metadata": {},
   "source": [
    "### Practice Problem 2.2-B\n",
    "\n",
    "Reference: §2.2, Problem 4 in Navidi.\n",
    "\n",
    "A group of 18 people have gotten together to play baseball. They will divide into two teams of 9 players each, with one team wearing green uniforms and the other wearning yellow uniforms. In how many ways can the people be divided into team?"
   ]
  },
  {
   "cell_type": "code",
   "execution_count": 2,
   "metadata": {},
   "outputs": [
    {
     "data": {
      "text/plain": [
       "48620.0"
      ]
     },
     "execution_count": 2,
     "metadata": {},
     "output_type": "execute_result"
    }
   ],
   "source": [
    "### BEGIN SOLUTION\n",
    "math.factorial(18) / math.factorial(9) / math.factorial(9)\n",
    "### END SOLUTION"
   ]
  },
  {
   "cell_type": "markdown",
   "metadata": {},
   "source": [
    "Extension: How would your analysis change if there where 19 people, and we want to assign 9 people to the green team, 9 people to the yellow team, and one person to be the umpire?"
   ]
  },
  {
   "cell_type": "markdown",
   "metadata": {},
   "source": [
    "### Practice Problem 2.2-C\n",
    "\n",
    "Reference: §2.2, Problem 8 in Navidi.\n",
    "\n",
    "In a certain state, license plates consist of three letters followed by three numbers.\n",
    "1. How many different license plates can be made?\n",
    "2. How many different license plates can be made in which no letter or number appears more than once?\n",
    "3. A license plate is chose at random. What is the probability that no letter or number appears more than once?"
   ]
  },
  {
   "cell_type": "code",
   "execution_count": 3,
   "metadata": {},
   "outputs": [
    {
     "name": "stdout",
     "output_type": "stream",
     "text": [
      "17576000\n"
     ]
    }
   ],
   "source": [
    "### BEGIN SOLUTION\n",
    "b1 = 26**3 * 10**3\n",
    "print(b1)\n",
    "### END SOLUTION"
   ]
  },
  {
   "cell_type": "code",
   "execution_count": 4,
   "metadata": {},
   "outputs": [
    {
     "name": "stdout",
     "output_type": "stream",
     "text": [
      "11700000\n"
     ]
    }
   ],
   "source": [
    "### BEGIN SOLUTION\n",
    "b2 = 26*25*25*10*9*8\n",
    "print(b2)\n",
    "### END SOLUTION"
   ]
  },
  {
   "cell_type": "code",
   "execution_count": 5,
   "metadata": {},
   "outputs": [
    {
     "name": "stdout",
     "output_type": "stream",
     "text": [
      "1.5022222222222221\n"
     ]
    }
   ],
   "source": [
    "### BEGIN SOLUTION\n",
    "print(b1 / b2) \n",
    "### END SOLUTION"
   ]
  },
  {
   "cell_type": "markdown",
   "metadata": {},
   "source": [
    "### Practice Problem 2.2-D\n",
    "\n",
    "Reference: §2.2, Problem 10 in Navidi.\n",
    "\n",
    "A company has hired 15 new employees, and must assign 6 to the day shift, 5 to the graveyard shift, and 4 to the night shift. In how many ways can the assignment be made?"
   ]
  },
  {
   "cell_type": "code",
   "execution_count": 6,
   "metadata": {},
   "outputs": [
    {
     "data": {
      "text/plain": [
       "630630.0"
      ]
     },
     "execution_count": 6,
     "metadata": {},
     "output_type": "execute_result"
    }
   ],
   "source": [
    "### BEGIN SOLUTION\n",
    "math.factorial(15) / math.factorial(6) / math.factorial(5) / math.factorial(4)\n",
    "### END SOLUTION"
   ]
  },
  {
   "cell_type": "markdown",
   "metadata": {},
   "source": [
    "### Practice Problem 2.2-E\n",
    "\n",
    "Reference: §2.2, Problem 12 in Navidi.\n",
    "\n",
    "A drawer constains 6 red socks, 4 green socks, and 2 black socks. Two socks are chosen at random. What is the probability that they match?"
   ]
  },
  {
   "cell_type": "markdown",
   "metadata": {},
   "source": [
    "## Conditional Probability and Independence\n",
    "\n",
    "**Further Reading**: §2.3 in Navidi (2015)"
   ]
  },
  {
   "cell_type": "markdown",
   "metadata": {},
   "source": [
    "### Practice Problem 2.3-A\n",
    "\n",
    "Reference: §2.3, Problem 2 in Navidi\n",
    "\n",
    "Let $A$ and $B$ be events with $P(A) = 0.5$ and $P(A \\cap B^c) = 0.4$. For what values of $P(B)$ will $A$ and $B$ be independent?"
   ]
  },
  {
   "cell_type": "markdown",
   "metadata": {},
   "source": [
    "### Practice Problem 2.3-B\n",
    "\n",
    "Reference: §2.3, Problem 6 in Navidi\n",
    "\n",
    "The article \"Integrating Risk...\" estimates that 5.6% of a certain population has asthma, and that an asthmatic has probability 0.027 of suffering an asthma attack on a given day. A person is chosen at random from this populaton. What is the probability that this person has an asthma attack on that day?"
   ]
  },
  {
   "cell_type": "markdown",
   "metadata": {},
   "source": [
    "### Practice Problem 2.3-C\n",
    "\n",
    "Reference: §2.3, Problem 8 in Navidi\n",
    "\n",
    "A drag racer has two parachutes, a main and a backup, that are designed to bring the vehicle to a stop after the end of a run. Suppose that the main chute deploys with probability 0.99, and that if the main fails to deploy, the backup deploys with probability 0.98.\n",
    "1. What is the probability that one of the two parachutes deploys?\n",
    "2. What is the probability that the backup parachute deploys?"
   ]
  },
  {
   "cell_type": "markdown",
   "metadata": {},
   "source": [
    "### Practice Problem 2.3-D\n",
    "\n",
    "Reference: §2.3, Problem 12 in Navidi\n",
    "\n",
    "Sarah and Thomas are going bowling. The probability that Sarach scores more than 175 is 0.4, and the probability that Thomas scores more than 175 is 0.2. Their scores are independent.\n",
    "1. Find the probability that both score more than 175.\n",
    "2. Given that Thomas scores more than 175, the probability that Sarah scores more than Thomas is 0.3. Find the probability that Thomas scores more than 175 and Sarah scores more than Thomas."
   ]
  },
  {
   "cell_type": "markdown",
   "metadata": {},
   "source": [
    "### Practice Problem 2.3-E\n",
    "\n",
    "Reference: §2.3, Problem 14 in Navidi\n",
    "\n",
    "Laura and Philip each fire one shot at a target. Laura has probability 0.5 of hitting the target, and Philip has probability of 0.3. The shots are independent.\n",
    "1. Find the probability that the target is hit.\n",
    "2. Find the probability that the target is hit by exactly one shot.\n",
    "3. Given that the target was hit by exactly one shot, find the probability that Laura hit the target."
   ]
  },
  {
   "cell_type": "markdown",
   "metadata": {},
   "source": [
    "### Practice Problem 2.3-F\n",
    "\n",
    "Reference: §2.3, Problem 26 in Navidi\n",
    "\n",
    "A certain delivery service offers both express and standard delivery. Seventy-five percent of parcels are sent by standard delivery, and 25% are sent by express. Of those sent standard, 80% arrive the next day, and of those sent express, 95% arrive the next day. A record of parcel delivery is chosen at random from the company's files.\n",
    "1. What is the probability that the parcel was shipped express and arrived the next day?\n",
    "2. What is the probability that it arrived the next day?\n",
    "3. Given the package arrived the next day, what is the probability that is was sent express?"
   ]
  }
 ],
 "metadata": {
  "colab": {
   "name": "L14-Descriptive-Statistics.ipynb",
   "provenance": [],
   "version": "0.3.2"
  },
  "kernelspec": {
   "display_name": "Python 3 [3.6]",
   "language": "python",
   "name": "python3"
  },
  "language_info": {
   "codemirror_mode": {
    "name": "ipython",
    "version": 3
   },
   "file_extension": ".py",
   "mimetype": "text/x-python",
   "name": "python",
   "nbconvert_exporter": "python",
   "pygments_lexer": "ipython3",
   "version": "3.6.4"
  }
 },
 "nbformat": 4,
 "nbformat_minor": 1
}
