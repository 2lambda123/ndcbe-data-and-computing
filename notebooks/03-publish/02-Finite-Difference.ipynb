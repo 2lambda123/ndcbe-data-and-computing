{
 "cells": [
  {
   "cell_type": "markdown",
   "metadata": {
    "colab_type": "text",
    "id": "-TCEOdC63rfp"
   },
   "source": [
    "# Finite Difference Derivative Approximations"
   ]
  },
  {
   "cell_type": "markdown",
   "metadata": {},
   "source": [
    "## Learning Objectives\n",
    "\n",
    "After studying this notebook, completing the activities, and asking questions in class, you should be able to:\n",
    "* Derive and apply forward and backward finite difference formulas.\n",
    "* Derive and apply the central finite difference formula.\n",
    "* Compare the truncation and random error in the different derivative approximation methods.\n",
    "* Rearrange a Taylor series formula to estimate a second (or higher) derivative."
   ]
  },
  {
   "cell_type": "code",
   "execution_count": 1,
   "metadata": {},
   "outputs": [],
   "source": [
    "import numpy as np\n",
    "import matplotlib.pyplot as plt"
   ]
  },
  {
   "cell_type": "markdown",
   "metadata": {
    "colab_type": "text",
    "id": "0VdGTrwN3rf2",
    "tags": []
   },
   "source": [
    "## Forward Finite Difference"
   ]
  },
  {
   "cell_type": "markdown",
   "metadata": {
    "colab_type": "text",
    "id": "0wsyYuqN3rf3",
    "tags": []
   },
   "source": [
    "From the Taylor series at $x+h$,\n",
    "\n",
    "$$f(x + h) = f(x) + h f'(x) + \\frac{h^2}{2} f''(x) + \\frac{h^3}{6}f'''(x) + O(h^4),$$\n",
    "\n",
    "we notice that there is an $f'(x)$ term in the equation.  If we \"solve\" for this derivative by subtracting $f(x)$ from both sides and then dividing by $h$ we get\n",
    "\n",
    "$$\\frac{f(x+h) - f(x)}{h} = f'(x) + \\frac{h}{2} f''(x) + \\frac{h^2}{6}f'''(x) + O(h^3),$$\n",
    "\n",
    "or in shorter form\n",
    "\n",
    "$$\\frac{f(x+h) - f(x)}{h} = f'(x) + O(h).$$\n",
    "\n",
    "Therefore the approximation\n",
    "\n",
    "$$f'(x) \\approx \\frac{f(x+h) - f(x)}{h},$$\n",
    "\n",
    "is an <b>order $h$</b> approximation because the error is proportional to $h$ as $h$ goes to 0. This is called a forward difference formula because the function is evaluated $h$ forward of $x$ to approximate the derivative."
   ]
  },
  {
   "cell_type": "markdown",
   "metadata": {
    "tags": []
   },
   "source": [
    "## Backward Finite Difference\n",
    "\n",
    "We did this using $f(x+h)$ in our formula, but we could have also used $f(x-h)$ which has the Taylor series\n",
    "\n",
    "$$f(x - h) = f(x) - h f'(x) + \\frac{h^2}{2} f''(x) - \\frac{h^3}{6}f'''(x) + O(h^4),$$\n",
    "\n",
    "to get the formula\n",
    "\n",
    "$$\\frac{f(x) - f(x-h)}{h} = f'(x) + O(h).$$\n",
    "\n",
    "Therefore the approximation\n",
    "\n",
    "$$f'(x) \\approx \\frac{f(x) - f(x-h)}{h},$$\n",
    "\n",
    "is also an <b>order $h$</b> approximation because the error is proportional to $h$ as $h$ goes to 0. This formula is a backward difference formula because the function is evaluated $h$ behind $x$."
   ]
  },
  {
   "cell_type": "markdown",
   "metadata": {},
   "source": [
    "## Example to Compare the Approximations\n",
    "\n",
    "Consider the function \n",
    "\n",
    "$$f(x) =  \\arctan(x) \\cosh(x),$$\n",
    "\n",
    "which is plotted below."
   ]
  },
  {
   "cell_type": "code",
   "execution_count": 2,
   "metadata": {},
   "outputs": [
    {
     "data": {
      "image/png": "[encoded data removed]",
      "text/plain": [
       "<Figure size 432x288 with 1 Axes>"
      ]
     },
     "metadata": {
      "needs_background": "light"
     },
     "output_type": "display_data"
    }
   ],
   "source": [
    "# define Python function\n",
    "f = lambda x: np.cosh(x)*np.arctan(x)\n",
    "\n",
    "# plot from 0 to 2 with 100 evenly spaced points\n",
    "xplot = np.linspace(0,2,100)\n",
    "\n",
    "# evaluate function at points xplot\n",
    "fplot = f(xplot)\n",
    "\n",
    "# create plot\n",
    "plt.plot(xplot,fplot,'b-')\n",
    "plt.plot(1.0, f(1.0),'r.',markersize=15)\n",
    "plt.xlabel('x')\n",
    "plt.ylabel('f(x)')\n",
    "plt.show()"
   ]
  },
  {
   "cell_type": "markdown",
   "metadata": {},
   "source": [
    "We want to numerically approximate $f'(x)$ at $x=1$ (red circle on the plot). The actual answer is $f'(1) = 1.694541176517952557683135$.\n",
    "\n",
    "Below is Python code to compute a finite difference approximation at $x=1$ for different $h$ values. We then graphically study how the approximation error depends on $h$."
   ]
  },
  {
   "cell_type": "code",
   "execution_count": 3,
   "metadata": {},
   "outputs": [
    {
     "name": "stdout",
     "output_type": "stream",
     "text": [
      "Forward Difference slope on log-log scale is 1.010405053694006\n"
     ]
    },
    {
     "data": {
      "image/png": "[encoded data removed]",
      "text/plain": [
       "<Figure size 432x288 with 1 Axes>"
      ]
     },
     "metadata": {
      "needs_background": "light"
     },
     "output_type": "display_data"
    }
   ],
   "source": [
    "# define Python function (I did not need to do this because 'f' is defined in the previous cell)\n",
    "f = lambda x: np.cosh(x)*np.arctan(x)\n",
    "\n",
    "# specify values of h to study\n",
    "h = 2**np.array([1,0,-1.0,-2,-3,-4,-5,-6])\n",
    "\n",
    "# create vector of zeros to store results\n",
    "forward = 0*h #variable to hold forward difference \n",
    "\n",
    "# create counter\n",
    "count = 0\n",
    "\n",
    "# define exact solution\n",
    "exact = 1.694541176517952557683135\n",
    "\n",
    "# specify value of x to study\n",
    "x = 1\n",
    "\n",
    "# loop over all values for h\n",
    "for i in h:\n",
    "    \n",
    "    # compute forward finite difference approximation\n",
    "    forward[count] = (f(x+i) - f(x))/i\n",
    "\n",
    "    count += 1\n",
    "    \n",
    "# plot absolute value of approximation error versus h on log-log plot\n",
    "plt.loglog(h,np.fabs(forward-exact),'o-',label=\"Forward Difference\")\n",
    "\n",
    "plt.legend(loc=\"best\")\n",
    "plt.title(\"Absolute Error on Log-Log Scale\")\n",
    "plt.xlabel(\"h\")\n",
    "plt.ylabel(\"Absolute Error\")\n",
    "\n",
    "#print FD error slope\n",
    "errors = np.fabs(forward-exact)\n",
    "print(\"Forward Difference slope on log-log scale is\",(np.log(errors[-1])-np.log(errors[-2]))/(np.log(h[-1])-np.log(h[-2])))\n"
   ]
  },
  {
   "cell_type": "markdown",
   "metadata": {},
   "source": [
    "Remember, the plot above uses a log-log scale. The linear trend with slope one means the absolute error grows $O(h^1)$. Notice that for $h$ values around 10$^0$ and higher, the slope increases."
   ]
  },
  {
   "cell_type": "markdown",
   "metadata": {},
   "source": [
    "<div class=\"admonition seealso\"> \n",
    "<p class=\"title\"><b>Home Activity</b></p>\n",
    " Adapt the code below to also study the backward finite difference formula. Look for the comments that say \"activity\" for hints where to modify.\n",
    "</div>"
   ]
  },
  {
   "cell_type": "code",
   "execution_count": 4,
   "metadata": {
    "tags": [
     "remove-output"
    ]
   },
   "outputs": [
    {
     "name": "stdout",
     "output_type": "stream",
     "text": [
      "Forward Difference slope on log-log scale is 1.010405053694006\n",
      "Backward Difference slope on log-log scale is 0.989507882880635\n"
     ]
    },
    {
     "data": {
      "image/png": "[encoded data removed]",
      "text/plain": [
       "<Figure size 432x288 with 1 Axes>"
      ]
     },
     "metadata": {
      "needs_background": "light"
     },
     "output_type": "display_data"
    }
   ],
   "source": [
    "# define Python function (I did not need to do this because 'f' is defined in the previous cell)\n",
    "f = lambda x: np.cosh(x)*np.arctan(x)\n",
    "\n",
    "# specify values of h to study\n",
    "h = 2**np.array([1,0,-1.0,-2,-3,-4,-5,-6])\n",
    "\n",
    "# create vector of zeros to store results\n",
    "forward = 0*h #variable to hold forward difference \n",
    "\n",
    "# activity: uncomment line below\n",
    "# backward = 0*h #variable to hold backward difference\n",
    "# Add your solution here\n",
    "\n",
    "# create counter\n",
    "count = 0\n",
    "\n",
    "# define exact solution\n",
    "exact = 1.694541176517952557683135\n",
    "\n",
    "# specify value of x to study\n",
    "x = 1\n",
    "\n",
    "# loop over all values for h\n",
    "for i in h:\n",
    "    \n",
    "    # compute forward finite difference approximation\n",
    "    forward[count] = (f(x+i) - f(x))/i\n",
    "    \n",
    "    # activity: uncomment and complete line below\n",
    "    # backward[count] = # student fill in here\n",
    "    # Add your solution here\n",
    "    count += 1\n",
    "    \n",
    "# plot absolute value of approximation error versus h on log-log plot\n",
    "plt.loglog(h,np.fabs(forward-exact),'o-',label=\"Forward Difference\")\n",
    "# activity: copy the line above and modify to plot results with backwards difference formula \n",
    "# Add your solution here\n",
    "\n",
    "plt.legend(loc=\"best\")\n",
    "plt.title(\"Absolute Error on Log-Log Scale\")\n",
    "plt.xlabel(\"h\")\n",
    "plt.ylabel(\"Absolute Error\")\n",
    "\n",
    "#print FD error slope\n",
    "errors = np.fabs(forward-exact)\n",
    "print(\"Forward Difference slope on log-log scale is\",(np.log(errors[-1])-np.log(errors[-2]))/(np.log(h[-1])-np.log(h[-2])))\n",
    "\n",
    "# activity: copy the two lines above and modify for backward difference formula\n",
    "# Add your solution here\n"
   ]
  },
  {
   "cell_type": "markdown",
   "metadata": {
    "colab_type": "text",
    "id": "pR5N-B4h3rf4",
    "tags": []
   },
   "source": [
    "## Higher-order Approximations\n",
    "\n",
    "Both of the forward and backward formulas for the derivative are first-order in $h$.  These formulas are fine, but as we will see when we solve differential equations, first-order solutions typically have too much error for our purposes.  We desire a way of getting higher-order approximations to the derivative."
   ]
  },
  {
   "cell_type": "markdown",
   "metadata": {
    "tags": []
   },
   "source": [
    "### Central Difference Formula\n",
    "\n",
    "We will start with the **central difference formula**:\n",
    "\n",
    "$$\\frac{f(x+h) - f(x-h)}{2h} \\approx f'(x)$$\n"
   ]
  },
  {
   "cell_type": "markdown",
   "metadata": {},
   "source": [
    "<div class=\"admonition note\"> \n",
    "<p class=\"title\"><b>Class Activity</b></p>\n",
    " With a partner, determine the error order of the central difference formula. Use the following steps.\n",
    "</div>"
   ]
  },
  {
   "cell_type": "markdown",
   "metadata": {},
   "source": [
    "1. Copy the Taylor series approximations $f(x + h)$ and $f(x-h)$ on a new sheet of paper.\n",
    "2. Subtract $f(x-h)$ from $f(x + h)$ to get $(f(x+h) - f(x-h))$\n",
    "3. Cancel terms, divide by $2h$, and rearrange to obtain\n",
    "\n",
    "$$\\frac{f(x+h) - f(x-h)}{2h} = f'(x) ~+~ ...$$\n",
    "\n",
    "4. Examine the ... part to determine the error order. How does is grow with $h$?"
   ]
  },
  {
   "cell_type": "markdown",
   "metadata": {
    "colab_type": "text",
    "id": "ke3HVQIi3rf5"
   },
   "source": [
    "**Discussion for after class activity.**\n",
    "\n",
    "The approximation\n",
    "\n",
    "$$f'(x) \\approx \\frac{f(x+h) - f(x-h)}{2h},$$\n",
    "\n",
    "is an <b>order $h^2$</b> approximation because the error is proportional to $h^2$ as $h$ goes to 0.\n",
    "\n",
    "This is called a central-difference formula because the function is evaluated around a center of $x$ a value of $h$ on either side. One thing to note is that the error terms in this approximation only have even powers of $h$ because of the way the odd powers cancel when combining the two.\n",
    "\n",
    "With a second-order approximation, if I cut $h$ in half, the error goes down by a factor of 4, compared to a factor of 2 with a first-order method.\n",
    "\n",
    "We could go through the process of obtaining even higher-order derivatives (third-order, fourth-order, etc), but in practice this is generally not useful because the formulas become cumbersome and there are typically better ways of accomplishing higher-order accuracy. We will see one of these ways shortly."
   ]
  },
  {
   "cell_type": "markdown",
   "metadata": {
    "colab_type": "text",
    "id": "leq0FrYz3rf5"
   },
   "source": [
    "### Comparison of the approximations"
   ]
  },
  {
   "cell_type": "markdown",
   "metadata": {
    "colab_type": "text",
    "id": "w_K6WDdp3rf6"
   },
   "source": [
    "Let's revist the example \n",
    "\n",
    "$$f(x) =  \\arctan(x) \\cosh(x)$$\n",
    "\n",
    "and look at approximations to $f'(x)$ at $x=1$. Recall, the actual answer is $f'(1) = 1.694541176517952557683135$."
   ]
  },
  {
   "cell_type": "markdown",
   "metadata": {},
   "source": [
    "<div class=\"admonition note\"> \n",
    "<p class=\"title\"><b>Class Activity</b></p>\n",
    " With a partner, modify the code below to also study the central difference approximation for this example. Make a plot that compares forward, backward and central different formulas.\n",
    "</div>"
   ]
  },
  {
   "cell_type": "code",
   "execution_count": 5,
   "metadata": {
    "colab": {
     "base_uri": "https://localhost:8080/",
     "height": 350
    },
    "colab_type": "code",
    "executionInfo": {
     "elapsed": 1216,
     "status": "ok",
     "timestamp": 1550157324738,
     "user": {
      "displayName": "Alexander Dowling",
      "photoUrl": "https://lh3.googleusercontent.com/-LChdQ2m5OQE/AAAAAAAAAAI/AAAAAAAAAA0/JeXJe4vQJ7M/s64/photo.jpg",
      "userId": "00988067626794866502"
     },
     "user_tz": 300
    },
    "id": "N7uYa0Ca3rf6",
    "outputId": "0e494127-0f52-4487-fc30-1b4dd8185dc5",
    "tags": [
     "remove-output"
    ]
   },
   "outputs": [
    {
     "name": "stdout",
     "output_type": "stream",
     "text": [
      "Forward Difference slope on log-log scale is 1.010405053694006\n",
      "Backward Difference slope on log-log scale is 0.989507882880635\n",
      "Central Difference slope on log-log scale is 2.0000468073506825\n"
     ]
    },
    {
     "data": {
      "image/png": "[encoded data removed]",
      "text/plain": [
       "<Figure size 432x288 with 1 Axes>"
      ]
     },
     "metadata": {
      "needs_background": "light"
     },
     "output_type": "display_data"
    }
   ],
   "source": [
    "# define Python function (I did not need to do this because 'f' is defined in the previous cell)\n",
    "f = lambda x: np.cosh(x)*np.arctan(x)\n",
    "\n",
    "# specify values of h to study\n",
    "h = 2**np.array([1,0,-1.0,-2,-3,-4,-5,-6])\n",
    "\n",
    "# create vector of zeros to store results\n",
    "forward = 0*h #variable to hold forward difference \n",
    "\n",
    "backward = 0*h #variable to hold backward difference \n",
    "\n",
    "# activity: uncomment line below\n",
    "#central = 0*h #variable to hold central differences\n",
    "# Add your solution here\n",
    "\n",
    "# create counter\n",
    "count = 0\n",
    "\n",
    "# define exact solution\n",
    "exact = 1.694541176517952557683135\n",
    "\n",
    "# specify value of x to study\n",
    "x = 1\n",
    "\n",
    "# loop over all values for h\n",
    "for i in h:\n",
    "    \n",
    "    # compute forward finite difference approximation\n",
    "    forward[count] = (f(x+i) - f(x))/i\n",
    "    \n",
    "    # compute backward finite difference approximation\n",
    "    backward[count] = (f(x)-f(x-i))/i\n",
    "    \n",
    "    # activity: write formula for central finite difference approximation\n",
    "    # Add your solution here\n",
    "    \n",
    "    count += 1\n",
    "    \n",
    "# plot absolute value of approximation error versus h on log-log plot\n",
    "plt.loglog(h,np.fabs(forward-exact),'o-',label=\"Forward Difference\")\n",
    "plt.loglog(h,np.fabs(backward-exact),'o-',label=\"Backward Difference\")\n",
    "# activity: copy the line above and modify to plot results with central difference formula \n",
    "# Add your solution here\n",
    "\n",
    "plt.legend(loc=\"best\")\n",
    "plt.title(\"Absolute Error on Log-Log Scale\")\n",
    "plt.xlabel(\"h\")\n",
    "plt.ylabel(\"Absolute Error\")\n",
    "\n",
    "# print FD error slope\n",
    "errors = np.fabs(forward-exact)\n",
    "print(\"Forward Difference slope on log-log scale is\",(np.log(errors[-1])-np.log(errors[-2]))/(np.log(h[-1])-np.log(h[-2])))\n",
    "\n",
    "# print BD error slope\n",
    "errors = np.fabs(backward-exact)\n",
    "print(\"Backward Difference slope on log-log scale is\",(np.log(errors[-1])-np.log(errors[-2]))/(np.log(h[-1])-np.log(h[-2])))\n",
    "\n",
    "# activity: copy the above two lines and modify to print CD error slope\n",
    "# Add your solution here\n"
   ]
  },
  {
   "cell_type": "markdown",
   "metadata": {
    "colab_type": "text",
    "id": "jaA2kZzq3rf-"
   },
   "source": [
    "**Discussion after class activity**\n",
    "\n",
    "In this example we see that the errors decay as expected for the two first-order methods and the one second-order method. As we expect, as $h$ gets smaller the second-order method wins out. Nevertheless, this does not mean that at a particular value of $h$ the second-order method will have smaller error.  The graph above shows that at $h=2$, the backward difference approximation has the smallest error. This is due to the fact that order of the formula just says how the error changes with $h$ and says nothing about the constant in front of the leading-order term.  Eventually, the second-order method will win, but we cannot say anything about a particular point."
   ]
  },
  {
   "cell_type": "markdown",
   "metadata": {
    "colab_type": "text",
    "id": "_F-Vq53C3rgZ"
   },
   "source": [
    "## Truncation and Random Errors\n",
    "\n",
    "In this notebook, we learned about *truncation error*. We will now study *random errors*. We will see that our choice in $h$ for the approved finite different formulas requires balancing truncation versus random errors.\n",
    "\n",
    "Consider the following test function:\n",
    "\n",
    "$$ f(x) = e^{x} $$\n",
    "\n",
    "with\n",
    "\n",
    "$$f'(x) = e^{x}$$\n",
    "\n",
    "Let's compare forward, backward, and central difference formulas for this function."
   ]
  },
  {
   "cell_type": "markdown",
   "metadata": {
    "colab_type": "text",
    "id": "OjqohE7W3rgZ"
   },
   "source": [
    "### Forward Difference\n",
    "\n",
    "$$ f'_f(a) = \\frac{f(a+\\epsilon) - f(a)}{\\epsilon} $$\n",
    "\n",
    "You'll notice I switched to using $\\epsilon$ instead of $h$. Textbooks are about evenly split on the notation. "
   ]
  },
  {
   "cell_type": "code",
   "execution_count": 6,
   "metadata": {
    "colab": {
     "base_uri": "https://localhost:8080/",
     "height": 283
    },
    "colab_type": "code",
    "executionInfo": {
     "elapsed": 702,
     "status": "ok",
     "timestamp": 1550157458231,
     "user": {
      "displayName": "Alexander Dowling",
      "photoUrl": "https://lh3.googleusercontent.com/-LChdQ2m5OQE/AAAAAAAAAAI/AAAAAAAAAA0/JeXJe4vQJ7M/s64/photo.jpg",
      "userId": "00988067626794866502"
     },
     "user_tz": 300
    },
    "id": "PwmYEgjn3rga",
    "outputId": "dd2d257b-541a-4f2d-fa53-9d4e003204fd"
   },
   "outputs": [
    {
     "data": {
      "image/png": "[encoded data removed]",
      "text/plain": [
       "<Figure size 432x288 with 1 Axes>"
      ]
     },
     "metadata": {
      "needs_background": "light"
     },
     "output_type": "display_data"
    }
   ],
   "source": [
    "# Define the test function\n",
    "def my_f(x):\n",
    "    return np.exp(x)\n",
    "\n",
    "# Specify point to examine\n",
    "a = 1.0\n",
    "\n",
    "# Calculate function value at x = a\n",
    "fa = my_f(a)\n",
    "# Calculate exact first derivative at x=1\n",
    "df1 = my_f(a) # Need to replace if you consider a different test function!\n",
    "\n",
    "# Generate values for epsilon\n",
    "eps = np.power(10,np.arange(-16,1,0.25))\n",
    "n = len(eps)\n",
    "\n",
    "# Preallocate error array\n",
    "error_forward = np.zeros(n)\n",
    "\n",
    "# Calculate finite difference approximation and error\n",
    "for i in range(0,n):\n",
    "    df1_forward = (my_f(a + eps[i]) - fa)/eps[i]\n",
    "    error_forward[i] = abs(df1_forward - df1)\n",
    "\n",
    "# Plot\n",
    "plt.figure()\n",
    "plt.loglog(eps,error_forward,label=\"Forward\",color=\"blue\")\n",
    "plt.xlabel(\"$\\epsilon$\")\n",
    "plt.ylabel(\"Absolute Error\")\n",
    "plt.legend()\n",
    "plt.grid(True)\n",
    "plt.show()"
   ]
  },
  {
   "cell_type": "markdown",
   "metadata": {},
   "source": [
    "This plot succinctly shows the trade-offs between truncation and random errors that are ubiquitous across scientific computing. \n",
    "* On the **left**, we see a jagged line where absolute error increases with decreasing $\\epsilon$. This is because of **random error**. The computer can only do arithmetic with finite percision. Recall the finite difference formulas require dividing by $\\epsilon$, so as $\\epsilon$ decreases the random error increases.\n",
    "* On the **right**, we see a smooth line where absolute error increases with increasing $\\epsilon$. This is because of **truncation error**. We learned in the [last notebook](../03-publish/01-Taylor-Series.ipynb) how the Taylor series approximation gets worse with increasing $\\epsilon$ (which is the same as $h$)."
   ]
  },
  {
   "cell_type": "markdown",
   "metadata": {},
   "source": [
    "<div class=\"admonition seealso\"> \n",
    "<p class=\"title\"><b>Home Activity</b></p>\n",
    " Write a sentence to describe what happens in the middle of the plot. Specifically discuss <i>random error</i> and <i>truncation error</i> in your sentence.\n",
    "</div>"
   ]
  },
  {
   "cell_type": "markdown",
   "metadata": {},
   "source": [
    "**Home Activity Answer**:"
   ]
  },
  {
   "cell_type": "markdown",
   "metadata": {
    "colab_type": "text",
    "id": "Y6hrYlSG3rgc"
   },
   "source": [
    "### Backward Difference\n",
    "\n",
    "Let's add backward difference to the same plot.\n",
    "\n",
    "$$ f'_b(a) = \\frac{f(a) - f(a - \\epsilon)}{\\epsilon} $$"
   ]
  },
  {
   "cell_type": "code",
   "execution_count": 7,
   "metadata": {
    "colab": {
     "base_uri": "https://localhost:8080/",
     "height": 283
    },
    "colab_type": "code",
    "executionInfo": {
     "elapsed": 876,
     "status": "ok",
     "timestamp": 1550158051904,
     "user": {
      "displayName": "Alexander Dowling",
      "photoUrl": "https://lh3.googleusercontent.com/-LChdQ2m5OQE/AAAAAAAAAAI/AAAAAAAAAA0/JeXJe4vQJ7M/s64/photo.jpg",
      "userId": "00988067626794866502"
     },
     "user_tz": 300
    },
    "id": "jZkGAUib3rgd",
    "outputId": "76d19be2-254f-4255-fc20-269fa47acc71"
   },
   "outputs": [
    {
     "data": {
      "image/png": "[encoded data removed]",
      "text/plain": [
       "<Figure size 432x288 with 1 Axes>"
      ]
     },
     "metadata": {
      "needs_background": "light"
     },
     "output_type": "display_data"
    }
   ],
   "source": [
    "# Preallocate error array\n",
    "error_backward = np.zeros(n)\n",
    "\n",
    "# Calculate finite difference approximation and error\n",
    "for i in range(0,n):\n",
    "    df1_backward = (fa - np.exp(a - eps[i]))/eps[i]\n",
    "    error_backward[i] = abs(df1_backward - df1)\n",
    "\n",
    "# Plot\n",
    "plt.figure()\n",
    "plt.loglog(eps,error_forward,label=\"Forward\",color=\"blue\")\n",
    "plt.loglog(eps,error_backward,label=\"Backward\",color=\"red\")\n",
    "plt.xlabel(\"$\\epsilon$\")\n",
    "plt.ylabel(\"Absolute Error\")\n",
    "plt.grid(True)\n",
    "plt.legend()\n",
    "plt.show()"
   ]
  },
  {
   "cell_type": "markdown",
   "metadata": {},
   "source": [
    "<div class=\"admonition note\"> \n",
    "<p class=\"title\"><b>Class Activity</b></p>\n",
    " With a partner, speculate as to why the forward and backward difference curves are so similar. Why is the slope of the trends on the right the same? (Hint: look at the Taylor series analysis of these schemes early in the class notes.)\n",
    "</div>"
   ]
  },
  {
   "cell_type": "code",
   "execution_count": null,
   "metadata": {
    "collapsed": true,
    "jupyter": {
     "outputs_hidden": true
    }
   },
   "outputs": [],
   "source": []
  },
  {
   "cell_type": "markdown",
   "metadata": {
    "colab_type": "text",
    "id": "kp3s9fmO3rgf"
   },
   "source": [
    "### Central Difference\n",
    "\n",
    "Finally, we will consider the central difference formula:\n",
    "\n",
    "$$ f'_c(a) = \\frac{f(a+\\epsilon) - f(a - \\epsilon)}{2 \\epsilon} $$"
   ]
  },
  {
   "cell_type": "markdown",
   "metadata": {},
   "source": [
    "<div class=\"admonition note\"> \n",
    "<p class=\"title\"><b>Class Activity</b></p>\n",
    " With a partner, add the cental difference formula to the plot. Hint: copy the backward difference code to below and modify. Then write three bullet points to discuss the plot.\n",
    "</div>"
   ]
  },
  {
   "cell_type": "code",
   "execution_count": 16,
   "metadata": {
    "colab": {
     "base_uri": "https://localhost:8080/",
     "height": 283
    },
    "colab_type": "code",
    "executionInfo": {
     "elapsed": 1068,
     "status": "ok",
     "timestamp": 1550158058698,
     "user": {
      "displayName": "Alexander Dowling",
      "photoUrl": "https://lh3.googleusercontent.com/-LChdQ2m5OQE/AAAAAAAAAAI/AAAAAAAAAA0/JeXJe4vQJ7M/s64/photo.jpg",
      "userId": "00988067626794866502"
     },
     "user_tz": 300
    },
    "id": "tXUksKRf3rgg",
    "outputId": "4d917afd-ccca-4d43-823e-195874527c84"
   },
   "outputs": [
    {
     "data": {
      "image/png": "[encoded data removed]",
      "text/plain": [
       "<Figure size 432x288 with 1 Axes>"
      ]
     },
     "metadata": {
      "needs_background": "light"
     },
     "output_type": "display_data"
    }
   ],
   "source": [
    "# Preallocate error array\n",
    "# Add your solution here\n",
    "\n",
    "# Calculate finite difference approximation and error\n",
    "# Add your solution here\n",
    "\n",
    "# Plot\n",
    "plt.figure()\n",
    "plt.loglog(eps,error_forward,label=\"Forward\",color=\"blue\")\n",
    "plt.loglog(eps,error_backward,label=\"Backward\",color=\"red\")\n",
    "# add central difference plot below\n",
    "# Add your solution here\n",
    "plt.xlabel(\"$\\epsilon$\")\n",
    "plt.ylabel(\"Absolute Error\")\n",
    "plt.grid(True)\n",
    "plt.legend()\n",
    "plt.show()"
   ]
  },
  {
   "cell_type": "markdown",
   "metadata": {},
   "source": [
    "Write three bullet points to describe and discuss trends in the plot:\n",
    "* \n",
    "\n",
    "*\n",
    "\n",
    "* "
   ]
  },
  {
   "cell_type": "markdown",
   "metadata": {
    "colab_type": "text",
    "id": "vz7jO7Qe3rf-"
   },
   "source": [
    "### Second (and Higher) Derivatives"
   ]
  },
  {
   "cell_type": "markdown",
   "metadata": {},
   "source": [
    "We can also use the Taylor series to derive finite difference approximations for $f''(x)$:\n",
    "\n",
    "$$\\frac{f(x + h) -2 f(x) + f(x-h)}{h^2} = f''(x) + O(h^2)$$"
   ]
  },
  {
   "cell_type": "markdown",
   "metadata": {},
   "source": [
    "<div class=\"admonition note\"> \n",
    "<p class=\"title\"><b>Class Activity</b></p>\n",
    " With a partner, derive the above approximation for f''(x). Use the following steps.\n",
    "</div>"
   ]
  },
  {
   "cell_type": "markdown",
   "metadata": {},
   "source": [
    "1. Write the Taylor series for f(x+h)\n",
    "2. Write the Taylor series for f(x-h)\n",
    "3. Add these two Taylor series together. Notice the $h$ and $h^3$ terms cancel.\n",
    "4. Rearrange to isolate f''(x)."
   ]
  },
  {
   "cell_type": "markdown",
   "metadata": {
    "colab_type": "text",
    "id": "qZCGCgxU3rgB"
   },
   "source": [
    "If we want high-order approximations to derivatives (or many other quantities) we can use Richardson extrapolation. This is an advanced topic we will not discuss further in this class. For those who are interested, I recommend reading the section 14.6 in *Computational Nuclear Engineering and Radiological Science Using Python*. "
   ]
  }
 ],
 "metadata": {
  "colab": {
   "collapsed_sections": [],
   "name": "L10-Finite-Difference-Derivatives.ipynb",
   "provenance": [],
   "version": "0.3.2"
  },
  "kernelspec": {
   "display_name": "Python 3 (ipykernel)",
   "language": "python",
   "name": "python3"
  },
  "language_info": {
   "codemirror_mode": {
    "name": "ipython",
    "version": 3
   },
   "file_extension": ".py",
   "mimetype": "text/x-python",
   "name": "python",
   "nbconvert_exporter": "python",
   "pygments_lexer": "ipython3",
   "version": "3.9.12"
  }
 },
 "nbformat": 4,
 "nbformat_minor": 4
}
