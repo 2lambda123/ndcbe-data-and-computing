{
 "cells": [
  {
   "cell_type": "markdown",
   "metadata": {
    "colab_type": "text",
    "id": "-TCEOdC63rfp"
   },
   "source": [
    "# Taylor Series Approximations\n",
    "\n",
    "CBE 20258. Numerical and Statistical Analysis. Spring 2020.\n",
    "\n",
    "&#169; University of Notre Dame"
   ]
  },
  {
   "cell_type": "markdown",
   "metadata": {},
   "source": [
    "## Learning Objectives\n",
    "\n",
    "After studying this notebook, completing the activities, and asking questions in class, you should be able to:\n",
    "* Understand derivatives and Taylor Series approximations.\n",
    "* Rearrange Taylor Series approximations and simplify with Big-O notation.\n",
    "* Compare the error in Taylor Series approximations to the exact solution."
   ]
  },
  {
   "cell_type": "markdown",
   "metadata": {
    "tags": []
   },
   "source": [
    "## Motivation"
   ]
  },
  {
   "cell_type": "markdown",
   "metadata": {
    "colab_type": "text",
    "id": "L9wfcwRx3rfr",
    "tags": []
   },
   "source": [
    "### Class Roadmap\n",
    "\n",
    "In the first chapter, we learned how to plan algorithms with pseudocode to write Python code:\n",
    "* Getting Started in Python\n",
    "* Functions, Scoping, and Recursion\n",
    "* Numpy and Matplotlib\n",
    "* Dictionaries and Functions as Arguments\n",
    "\n",
    "We then reviewed mathematical modeling of chemical engineering systems:\n",
    "* Mathematical Modeling: Linear and Algebriac Equations\n",
    "\n",
    "And then we learned how to efficiently solve systems of linear equations numerically:\n",
    "* Gaussian Elimination\n",
    "* LU Factorization\n",
    "\n",
    "In **this notebook and the following**, we will learn how to numerically approximate derivatives:\n",
    "* Taylor Series and Finite Difference Approximations\n",
    "\n",
    "In future notebooks, we will see that algorithms to *solve nonlinear and integration problems* build on two core concepts:\n",
    "* Numeric approximations of derivatives\n",
    "* Solving a series of linear systems\n",
    "\n",
    "We will also review Taylor series approximations in this notebook, which are used throughout the class.\n",
    "\n",
    "### Why numeric approximation?\n",
    "\n",
    "You may recall that calculus usually deals with limits of some quantity that can be made arbitrarily small.  Nevertheless, when dealing with numerical methods we never actually have an infinitesimal value, rather we can only make quantities finitely small.  This introduces a **necessary approximation** whenever we do calculus on a computer. This contrasts to the direct solution of linear equations where we get the exact solution, up to computer round off.  In calculus we have additional errors as we will see in our first example of numerical calculus: the estimation of derivatives."
   ]
  },
  {
   "cell_type": "markdown",
   "metadata": {},
   "source": [
    "## Calculus Revisited: Derivatives and Taylor Series"
   ]
  },
  {
   "cell_type": "markdown",
   "metadata": {
    "colab_type": "text",
    "id": "XXYeEWDw3rfr"
   },
   "source": [
    "### The definition of a derivative"
   ]
  },
  {
   "cell_type": "markdown",
   "metadata": {
    "colab_type": "text",
    "id": "bjpA8uZu3rfs"
   },
   "source": [
    "You may recall from Calculus I that a derivative is defined as the following limit\n",
    "\n",
    "$$ f'(x) = \\frac{df}{dx} = \\lim_{h\\rightarrow 0} \\frac{f(x+h) - f(x)}{h}.$$\n",
    "\n",
    "On a computer we cannot evaluate the derivative using an infinitesimally small value for $h$.  The formulae that we derive will be called **finite difference derivatives** because $h$ will have a finite value rather than an infinitesimally small one. In one of our formulae we will approximate the derivative in the same manner as the above equation using\n",
    "$$ f'(x) \\approx \\frac{f(x+h) - f(x)}{h}.$$ The error we incur in doing so will also be discussed."
   ]
  },
  {
   "cell_type": "markdown",
   "metadata": {
    "colab_type": "text",
    "id": "GoV_WtA-3rfu",
    "tags": []
   },
   "source": [
    "### Taylor Series and Big-O notation"
   ]
  },
  {
   "cell_type": "markdown",
   "metadata": {
    "colab_type": "text",
    "id": "Ey5mhgGI3rfu",
    "tags": []
   },
   "source": [
    "For a function $f(x)$ we can approximate it near a point $x$ using the Taylor series\n",
    "\n",
    "$$f(x + h) = f(x) + h f'(x) + \\frac{h^2}{2} f''(x) + \\frac{h^3}{6}f'''(x) + \\dots.$$\n",
    "\n",
    "One way that this is commonly written is using a particular notation instead of the \"$\\dots$\":\n",
    "\n",
    "$$f(x + h) = f(x) + h f'(x) + \\frac{h^2}{2} f''(x) + \\frac{h^3}{6}f'''(x) + O(h^4).$$\n",
    "\n",
    "The $O(h^4)$ means that the rest of the terms will be proportional to $h^4$ as $h\\rightarrow 0$.  We can see this through a simple example via Python."
   ]
  },
  {
   "cell_type": "markdown",
   "metadata": {
    "tags": []
   },
   "source": [
    "### Example: Approximating Cosine\n",
    "\n",
    "Consider $f(x) = \\cos(x)$."
   ]
  },
  {
   "cell_type": "markdown",
   "metadata": {},
   "source": [
    "<div class=\"admonition seealso\"> \n",
    "<p class=\"title\"><b>Home Activity</b></p>\n",
    " Analytically compute the first three derivatives of $f(x)$. Hint: you may need to look up some basic differentiation rules. Then evaluate the derivates at $x=0$. Record your answer in the text/Markdown cell below.\n",
    "</div>"
   ]
  },
  {
   "cell_type": "markdown",
   "metadata": {},
   "source": [
    "**Home Activity Answers**\n",
    "\n",
    "(keep in terms of $x$) $f'(x) = $\n",
    "\n",
    "(substitute to remove $x$) $f'(0) = $\n",
    "\n",
    "$f''(x) = $\n",
    "\n",
    "$f''(0) = $\n",
    "\n",
    "$f'''(x) = $\n",
    "\n",
    "$f'''(0) = $"
   ]
  },
  {
   "cell_type": "markdown",
   "metadata": {},
   "source": [
    "We will now construct a Taylor series appoximation to $f(x) = \\cos(x)$ centered at the point $x=0$. We do this by substituting the values you calculated in the Home Activity into the general Taylor series formula:\n",
    "\n",
    "$$f(x + h) = f(x) + h f'(x) + \\frac{h^2}{2} f''(x) + \\frac{h^3}{6}f'''(x) + O(h^4)$$\n",
    "\n",
    "To obtain:\n",
    "\n",
    "$$\\cos h \\approx \\cos 0 - h \\sin 0 - \\frac{h^2}{2} \\cos 0 + \\frac{h^3}{6} \\sin 0 + O(h^4)$$"
   ]
  },
  {
   "cell_type": "markdown",
   "metadata": {},
   "source": [
    "<div class=\"admonition seealso\"> \n",
    "<p class=\"title\"><b>Home Activity</b></p>\n",
    " Watch the first 6 minutes of <a href = \"https://youtu.be/3d6DsjIBzJ4\">this video</a> then answer the questions below. You many need to search YouTube for <i>3BLUE1BROWN SERIES, S2 E11, Taylor series</i> if the link has issues.\n",
    "</div>"
   ]
  },
  {
   "cell_type": "markdown",
   "metadata": {},
   "source": [
    "**Home Multiple Choice Questions**:\n",
    "\n",
    "At $x = 0$ and $h = 0$, which derivates of our Taylor series and the true function f$(x)$ match exactly? Choose all that apply:\n",
    "1. First derivatives match\n",
    "2. Second derivates match\n",
    "3. Third derivates match\n",
    "4. Fourth derivates match\n",
    "5. Fifth derivates match"
   ]
  },
  {
   "cell_type": "markdown",
   "metadata": {},
   "source": [
    "Record your answer below in the Python list `my_answer`. Please use only integers (no decimals!)."
   ]
  },
  {
   "cell_type": "code",
   "execution_count": 1,
   "metadata": {
    "tags": []
   },
   "outputs": [],
   "source": [
    "# Add your solution here"
   ]
  },
  {
   "cell_type": "code",
   "execution_count": 2,
   "metadata": {
    "nbgrader": {
     "grade": true,
     "grade_id": "9b-iii-multiple-choice",
     "locked": true,
     "points": "1",
     "solution": false
    },
    "tags": []
   },
   "outputs": [],
   "source": [
    "# Removed autograder test. You may delete this cell."
   ]
  },
  {
   "cell_type": "markdown",
   "metadata": {},
   "source": [
    "We will now plot the difference between $\\cos h$ and the third-order Taylor series as a function of $h$ on a log-log scale. Please take a few minutes to study the code below. Carefully read the comments."
   ]
  },
  {
   "cell_type": "code",
   "execution_count": 3,
   "metadata": {
    "colab": {
     "base_uri": "https://localhost:8080/",
     "height": 578
    },
    "colab_type": "code",
    "executionInfo": {
     "elapsed": 1823,
     "status": "ok",
     "timestamp": 1550146825954,
     "user": {
      "displayName": "Alexander Dowling",
      "photoUrl": "https://lh3.googleusercontent.com/-LChdQ2m5OQE/AAAAAAAAAAI/AAAAAAAAAA0/JeXJe4vQJ7M/s64/photo.jpg",
      "userId": "00988067626794866502"
     },
     "user_tz": 300
    },
    "id": "BhMFIwVL3rfu",
    "outputId": "a0acfc91-2d7f-4c3a-e1ca-eec01d2a4e01"
   },
   "outputs": [
    {
     "name": "stdout",
     "output_type": "stream",
     "text": [
      "The Slope of the error on log-log scale is 3.9974955061239656\n"
     ]
    },
    {
     "data": {
      "image/png": "[encoded data removed]",
      "text/plain": [
       "<Figure size 432x288 with 1 Axes>"
      ]
     },
     "metadata": {
      "needs_background": "light"
     },
     "output_type": "display_data"
    },
    {
     "data": {
      "image/png": "[encoded data removed]",
      "text/plain": [
       "<Figure size 432x288 with 1 Axes>"
      ]
     },
     "metadata": {
      "needs_background": "light"
     },
     "output_type": "display_data"
    }
   ],
   "source": [
    "import math\n",
    "import numpy as np\n",
    "import matplotlib.pyplot as plt\n",
    "#this next line is only needed in iPython notebooks\n",
    "%matplotlib inline \n",
    "import matplotlib\n",
    "import math\n",
    "import matplotlib.font_manager as fm\n",
    "import matplotlib.ticker as mtick\n",
    "\n",
    "def hide_spines(intx=False,inty=False):\n",
    "    \"\"\"Hides the top and rightmost axis spines from view for all active\n",
    "    figures and their respective axes.\n",
    "    \n",
    "    You do not need to understand how this function works. For now, just think\n",
    "    'this function helps format the plots'.\n",
    "    \"\"\"\n",
    "\n",
    "    # Retrieve a list of all current figures.\n",
    "    figures = [x for x in matplotlib._pylab_helpers.Gcf.get_all_fig_managers()]\n",
    "    if (plt.gca().get_legend()):\n",
    "        plt.setp(plt.gca().get_legend().get_texts(), fontproperties=font, size=18) \n",
    "    for figure in figures:\n",
    "        # Get all Axis instances related to the figure.\n",
    "        for ax in figure.canvas.figure.get_axes():\n",
    "            # Disable spines.\n",
    "            ax.spines['right'].set_color('none')\n",
    "            ax.spines['top'].set_color('none')\n",
    "            # Disable ticks.\n",
    "            ax.xaxis.set_ticks_position('bottom')\n",
    "            ax.yaxis.set_ticks_position('left')\n",
    "           # ax.xaxis.set_major_formatter(mtick.FuncFormatter(lambda v,_: (\"10$^{%d}$\" % math.log(v,10)) ))\n",
    "            for label in ax.get_xticklabels() :\n",
    "                label.set_fontproperties(font)\n",
    "            for label in ax.get_yticklabels() :\n",
    "                label.set_fontproperties(font)\n",
    "            #ax.set_xticklabels(ax.get_xticks(), fontproperties = font)\n",
    "            ax.set_xlabel(ax.get_xlabel(), fontproperties = font)\n",
    "            ax.set_ylabel(ax.get_ylabel(), fontproperties = font)\n",
    "            ax.set_title(ax.get_title(), fontproperties = font)\n",
    "            if (inty):\n",
    "                ax.yaxis.set_major_formatter(mtick.FormatStrFormatter('%d'))\n",
    "            if (intx):\n",
    "                ax.xaxis.set_major_formatter(mtick.FormatStrFormatter('%d'))\n",
    "\n",
    "# Define the function of interest and its derivates\n",
    "f = lambda x: np.cos(x)\n",
    "fprime =  lambda x: -np.sin(x)\n",
    "fprime2 =  lambda x: -np.cos(x)\n",
    "fprime3 =  lambda x: np.sin(x)\n",
    "\n",
    "# Define the domain to investigate x\n",
    "# Recall the syntax of linspace: start at -1.5 and end at 1.5 with 100 evenly spaced points\n",
    "x = np.linspace(-1.5,1.5,100)\n",
    "\n",
    "## Create first figure\n",
    "plt.figure()\n",
    "\n",
    "# Plot the true function\n",
    "plt.plot(x,f(x),label=\"$\\cos \\,x$\")\n",
    "\n",
    "# Plot the Taylor series approximation\n",
    "plt.plot(x,f(0) + x*fprime(0) + x**2/2*fprime2(0) + x**3/6*fprime3(0),\n",
    "         \"--\",label=\"3rd order Taylor Series\")\n",
    "plt.legend(loc=\"best\")\n",
    "plt.xlabel(\"x\")\n",
    "plt.ylabel(\"f(x)\")\n",
    "\n",
    "## end first figure\n",
    "\n",
    "## Second figure: approximation error versus perturbation size h\n",
    "\n",
    "# Define the values of h to try. Recall '**' means 'raised to the power'\n",
    "h = 2**np.array([0,-1.0,-2,-3,-4,-5,-6])\n",
    "\n",
    "# Create two arrays of zeros to store the results\n",
    "fapprox = 0*h\n",
    "fexact = 0*h\n",
    "\n",
    "# Set counter to zero\n",
    "count = 0\n",
    "\n",
    "# Specify value of x to compute approximation error\n",
    "x = 0.5\n",
    "\n",
    "# loop over values of h\n",
    "for i in h:\n",
    "    \n",
    "    # calculate approximation for f(x + h)\n",
    "    fapprox[count] = f(x) + i * fprime(x) + 0.5*i**2*fprime2(x) + 1.0/6.0*i**3*fprime3(x)\n",
    "    \n",
    "    # calculate true function value, i.e., f(x+h) \n",
    "    fexact[count] = f(x+i)\n",
    "    \n",
    "    # increase counter by 1\n",
    "    count += 1\n",
    "    \n",
    "# calculate absolute value of error\n",
    "errors = np.fabs(fapprox-fexact)\n",
    "\n",
    "# Create second figure\n",
    "plt.figure()\n",
    "plt.loglog(h,errors,'o-')\n",
    "plt.title(\"Absolute Error on Log-Log Scale\")\n",
    "plt.xlabel(\"h\")\n",
    "plt.ylabel(\"Approximation error near $x$ = \" + str(x))\n",
    "print(\"The Slope of the error on log-log scale is\",(np.log(errors[-1])-np.log(errors[-2]))/(np.log(h[-1])-np.log(h[-2])))\n",
    "\n",
    "## End second figure\n"
   ]
  },
  {
   "cell_type": "markdown",
   "metadata": {},
   "source": [
    "<div class=\"admonition seealso\"> \n",
    "<p class=\"title\"><b>Home Activity</b></p>\n",
    " Write at least one question you have about the code above.\n",
    "</div>"
   ]
  },
  {
   "cell_type": "markdown",
   "metadata": {},
   "source": [
    "**Home Activity Answer**:"
   ]
  },
  {
   "cell_type": "markdown",
   "metadata": {},
   "source": [
    "<div class=\"admonition note\"> \n",
    "<p class=\"title\"><b>Class Activity</b></p>\n",
    " With your neighbor, walk through the code together. For the first five minutes, one person should explain the code to the other person. After 5 minutes, switch roles. As you go, discuss the questions you wrote down during the home activity. Make a list of questions to ask in class.\n",
    "</div>"
   ]
  },
  {
   "cell_type": "markdown",
   "metadata": {},
   "source": [
    "<div class=\"admonition note\"> \n",
    "<p class=\"title\"><b>Class Activity</b></p>\n",
    " Using the definition of a Taylor series, show why the slope in the above graph is very close to 4.\n",
    "</div>"
   ]
  },
  {
   "cell_type": "markdown",
   "metadata": {
    "colab_type": "text",
    "id": "DR2siTaw3rf1"
   },
   "source": [
    "You might ask yourself, why is the slope 4?  Let's look at the equation for the error:\n",
    "$$f(x+h) - \\left(f(x) + h f'(x) + \\frac{h^2}{2} f''(x) + \\frac{h^3}{6}f'''(x)\\right) = C h^4 + O(h^5),$$\n",
    "in this equation we have used the fact that $O(h^4)$ means some constant, which here we call $C$, times $h^4$. The remaining terms we have written as $O(h^5)$.\n",
    "\n",
    "When we take the absolute value and the logarithm of each side we get\n",
    "$$\\log_{10}\\left|f(x+h) - \\left(f(x) + h f'(x) + \\frac{h^2}{2} f''(x) + \\frac{h^3}{6}f'''(x)\\right)\\right| \\approx \\log_{10}|C| + 4 \\log_{10}h,$$ which is a line with slope 4.  The constant tells us what level the curve starts out at when $h=1$. This formula is approximate because we have left out the $h^5$ and higher terms, which we assume to be small since $h$ is small in our demonstration above. "
   ]
  }
 ],
 "metadata": {
  "colab": {
   "collapsed_sections": [],
   "name": "L10-Finite-Difference-Derivatives.ipynb",
   "provenance": [],
   "version": "0.3.2"
  },
  "kernelspec": {
   "display_name": "Python 3 (ipykernel)",
   "language": "python",
   "name": "python3"
  },
  "language_info": {
   "codemirror_mode": {
    "name": "ipython",
    "version": 3
   },
   "file_extension": ".py",
   "mimetype": "text/x-python",
   "name": "python",
   "nbconvert_exporter": "python",
   "pygments_lexer": "ipython3",
   "version": "3.9.12"
  }
 },
 "nbformat": 4,
 "nbformat_minor": 4
}
