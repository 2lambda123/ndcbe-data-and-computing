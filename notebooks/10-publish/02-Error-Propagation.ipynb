{
 "cells": [
  {
   "cell_type": "markdown",
   "metadata": {
    "colab_type": "text",
    "id": "qYVuIBsFIntT"
   },
   "source": [
    "# Error Propagation"
   ]
  },
  {
   "cell_type": "markdown",
   "metadata": {
    "colab_type": "text",
    "id": "1PJ6EcCl06sV"
   },
   "source": [
    "**Further Reading**: §3.2, §3.3, and §3.4 in Navidi (2015)\n",
    "## Learning Objectives\n",
    "\n",
    "After studying this notebook, completing the activities, engaging in class, and reading the book, you should be able to:\n",
    "* Apply error propagation formulas to predict uncertainty in calculations using experimental data\n",
    "* Derive linear error propagation formulas from definitions of expected value and variance\n",
    "* Derive general nonlinear error propagation formulas from Taylor series approximation\n",
    "* Use multivariate error propagation formula"
   ]
  },
  {
   "cell_type": "code",
   "execution_count": 1,
   "metadata": {
    "tags": []
   },
   "outputs": [],
   "source": [
    "import numpy as np\n",
    "import matplotlib.pyplot as plt"
   ]
  },
  {
   "cell_type": "markdown",
   "metadata": {},
   "source": [
    "As engineers, we are rarely interested in simply characterizing the uncertainty in measurements. Instead, we often use the measurement values to perform calculations. Naturally, we want to propagate the uncertainty from the measures through to the calculation. This is known as **error propagation**. I promise you will use it in multiple laboratory classes at Notre Dame and as practicing engineers after graduation.\n",
    "\n",
    "Recall, we will model the outcome of measurements with random variables. As such, I will write the error propagation formulas as random variables. The formulas that follow are given for two measured quantities $X$ and $Y$, but generalize to any dimensions. We assume we know the measurement uncertainties $\\sigma_X$ and $\\sigma_Y$ as well as the covariance $\\sigma_{X,Y}$. We want to estimate the uncertainty $\\sigma_Z$ for the computed quantity $Z$."
   ]
  },
  {
   "cell_type": "markdown",
   "metadata": {},
   "source": [
    "## Addition and Subtraction\n",
    "\n",
    "First, let's consider either adding or subtracting two measured quantities.\n",
    "\n",
    "### Addition Rule\n",
    "\n",
    "Consider $Z = c_1 X + c_2 Y$:\n",
    "\n",
    "$$\\sigma_Z^2 = c_1^2 \\sigma_X^2 + c_2^2 \\sigma_Y^2 + 2 c_1 c_2 \\sigma_{X,Y}$$\n",
    "\n",
    "### Subtraction Rule\n",
    "\n",
    "Consider $Z = c_1 X - c_2 Y$:\n",
    "\n",
    "$$\\sigma_Z^2 = c_1^2 \\sigma_X^2 + c_2^2 \\sigma_Y^2 - 2 c_1 c_2 \\sigma_{X,Y}$$\n",
    "\n",
    "\n",
    "### Derivation\n",
    "\n",
    "Notice these formulas are exact. We'll explore that more during class.\n"
   ]
  },
  {
   "cell_type": "markdown",
   "metadata": {},
   "source": [
    "<div class=\"admonition seealso\"> \n",
    "<b>Home Activity (Video)</b>: Derive the addition/subtraction error propagation rules from the properties of random variables.\n",
    "</div>"
   ]
  },
  {
   "cell_type": "markdown",
   "metadata": {},
   "source": [
    "## Multiplication and Division Rule\n",
    "\n",
    "### Multiplication Rule\n",
    "\n",
    "Consider $Z = X \\cdot Y$:\n",
    "\n",
    "$$\\sigma_Z^2\\approx \\left(E[Z]\\right)^2 \\left[ \n",
    "\t\\left(\\frac{\\sigma_{X}}{E[X]} \\right)^2 + \\left(\\frac{\\sigma_{Y}}{E[Y]} \\right)^2 + \\frac{2 \\sigma_{X,Y}}{E[X] E[Y]}\n",
    "\t\\right]$$"
   ]
  },
  {
   "cell_type": "markdown",
   "metadata": {},
   "source": [
    "### Division Rule\n",
    "\n",
    "Consider $Z = X / Y$:\n",
    "\n",
    "$$\\sigma_Z^2\\approx \\left(E[Z]\\right)^2  \\left[ \n",
    "\t\\left(\\frac{\\sigma_{X}}{E[X]} \\right)^2 + \\left(\\frac{\\sigma_{Y}}{E[Y]} \\right)^2 - \\frac{2 \\sigma_{X,Y}}{E[X] E[Y]}\n",
    "\t\\right]$$\n",
    "    \n",
    "### Derivation\n",
    "\n",
    "Notice these formulas are approximations. We'll see these formulas come from the more general differential function rule."
   ]
  },
  {
   "cell_type": "markdown",
   "metadata": {},
   "source": [
    "<div class=\"admonition danger\"> \n",
    "<b>Study Activity</b>: Derive the multiplication and division rules from the differentiable function rule.\n",
    "</div>"
   ]
  },
  {
   "cell_type": "markdown",
   "metadata": {},
   "source": [
    "## Differentiable Function\n",
    "\n",
    "Next, let's consider any differentiable function.\n",
    "\n",
    "### Differentiable Function Rule\n",
    "\n",
    "Consider $Z = g(X,Y)$:\n",
    "\n",
    "$$\\sigma_Z^2 \\approx \\left| \\frac{\\partial g}{\\partial X} \\right|^2 \\sigma_X^2 + \\left| \\frac{\\partial g}{\\partial Y} \\right|^2 \\sigma_Y^2 + 2 \\frac{\\partial g}{\\partial X} \\frac{\\partial g}{\\partial Y} \\sigma_{X,Y}$$\n",
    "\n",
    "### Derivation\n",
    "\n",
    "Notice this formula is an approximation. We'll see it comes from a Taylor series approximation."
   ]
  },
  {
   "cell_type": "markdown",
   "metadata": {},
   "source": [
    "<div class=\"admonition seealso\"> \n",
    "<b>Home Activity (Video)</b>: Derive the differential function error propagation rule from the properties of random variables and a truncated Taylor series expansion.\n",
    "</div>"
   ]
  }
 ],
 "metadata": {
  "colab": {
   "collapsed_sections": [],
   "name": "L15-Error-Propagation.ipynb",
   "provenance": [],
   "version": "0.3.2"
  },
  "kernelspec": {
   "display_name": "Python 3 (ipykernel)",
   "language": "python",
   "name": "python3"
  },
  "language_info": {
   "codemirror_mode": {
    "name": "ipython",
    "version": 3
   },
   "file_extension": ".py",
   "mimetype": "text/x-python",
   "name": "python",
   "nbconvert_exporter": "python",
   "pygments_lexer": "ipython3",
   "version": "3.9.12"
  }
 },
 "nbformat": 4,
 "nbformat_minor": 4
}
