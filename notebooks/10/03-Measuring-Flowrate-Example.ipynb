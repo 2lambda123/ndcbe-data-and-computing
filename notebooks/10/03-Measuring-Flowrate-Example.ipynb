{
 "cells": [
  {
   "cell_type": "markdown",
   "metadata": {
    "colab_type": "text",
    "id": "qYVuIBsFIntT"
   },
   "source": [
    "# Measuring Flowrate Example\n",
    "\n",
    "CBE 20258. Numerical and Statistical Analysis. Spring 2020.\n",
    "\n",
    "&#169; University of Notre Dame"
   ]
  },
  {
   "cell_type": "markdown",
   "metadata": {
    "colab_type": "text",
    "id": "1PJ6EcCl06sV"
   },
   "source": [
    "## Learning Objectives\n",
    "\n",
    "After studying this notebook, completing the activities, engaging in class, and reading the book, you should be able to:\n",
    "* Apply error propagation formulas to predict uncertainty in calculations using experimental data\n",
    "* Use error propagation to solve practical examples concerning uncertainty"
   ]
  },
  {
   "cell_type": "code",
   "execution_count": 1,
   "metadata": {
    "collapsed": true,
    "jupyter": {
     "outputs_hidden": true
    }
   },
   "outputs": [],
   "source": [
    "import numpy as np\n",
    "import matplotlib.pyplot as plt"
   ]
  },
  {
   "cell_type": "markdown",
   "metadata": {},
   "source": [
    "### Example: Measuring Flowrate\n",
    "\n",
    "Please see the handout."
   ]
  },
  {
   "cell_type": "markdown",
   "metadata": {},
   "source": [
    "<div style=\"background-color: rgba(0,255,0,0.05) ; padding: 10px; border: 1px solid darkgreen;\"> \n",
    "<b>Home Activity (Video) </b>: Complete the calculation on the handout on paper. We recommend trying this before watching the video. Then compare your answer to the code below.\n",
    "</div>"
   ]
  },
  {
   "cell_type": "markdown",
   "metadata": {},
   "source": [
    "#### Approach 1: Division Rule"
   ]
  },
  {
   "cell_type": "code",
   "execution_count": 6,
   "metadata": {
    "colab": {
     "base_uri": "https://localhost:8080/",
     "height": 34
    },
    "colab_type": "code",
    "executionInfo": {
     "elapsed": 631,
     "status": "ok",
     "timestamp": 1551995555509,
     "user": {
      "displayName": "Alexander Dowling",
      "photoUrl": "https://lh3.googleusercontent.com/-LChdQ2m5OQE/AAAAAAAAAAI/AAAAAAAAAA0/JeXJe4vQJ7M/s64/photo.jpg",
      "userId": "00988067626794866502"
     },
     "user_tz": 300
    },
    "id": "sw7eMXADT02E",
    "outputId": "6d230c32-1068-40c4-bd44-f520bd6fab62"
   },
   "outputs": [
    {
     "name": "stdout",
     "output_type": "stream",
     "text": [
      "F =  0.84  mL/s\n"
     ]
    }
   ],
   "source": [
    "import math\n",
    "## Given data\n",
    "Vf = 49.2\n",
    "V0 = 5.3\n",
    "\n",
    "t0 = 4\n",
    "tf = 56\n",
    "\n",
    "## Calculate differences\n",
    "dV = Vf - V0\n",
    "dt = tf - t0\n",
    "\n",
    "## Specified assumed/estimated uncertainties\n",
    "sV = 0.1 # units: mL\n",
    "st = 1.0 # units: sec\n",
    "\n",
    "## Calculate flowrate estimate\n",
    "F = dV / dt\n",
    "print(\"F = \",round(F,2),\" mL/s\")"
   ]
  },
  {
   "cell_type": "code",
   "execution_count": 7,
   "metadata": {
    "colab": {
     "base_uri": "https://localhost:8080/",
     "height": 34
    },
    "colab_type": "code",
    "executionInfo": {
     "elapsed": 322,
     "status": "ok",
     "timestamp": 1551995703523,
     "user": {
      "displayName": "Alexander Dowling",
      "photoUrl": "https://lh3.googleusercontent.com/-LChdQ2m5OQE/AAAAAAAAAAI/AAAAAAAAAA0/JeXJe4vQJ7M/s64/photo.jpg",
      "userId": "00988067626794866502"
     },
     "user_tz": 300
    },
    "id": "I9NgXjTzUcNU",
    "outputId": "263e07bc-ba74-4576-bc89-f70ef8f8c4dd"
   },
   "outputs": [
    {
     "name": "stdout",
     "output_type": "stream",
     "text": [
      "Uncertainty in F: sigmaF =  0.0231205612  mL/s\n"
     ]
    }
   ],
   "source": [
    "## Apply the division rule\n",
    "sF = F*math.sqrt(2*(sV/dV)**2 + 2*(st/dt)**2)\n",
    "print(\"Uncertainty in F: sigmaF = \",round(sF,10),\" mL/s\")"
   ]
  },
  {
   "cell_type": "markdown",
   "metadata": {
    "colab_type": "text",
    "id": "cTQKukUxYbiA"
   },
   "source": [
    "#### Approach 2:  Differentiable Function Rule"
   ]
  },
  {
   "cell_type": "code",
   "execution_count": 8,
   "metadata": {
    "colab": {
     "base_uri": "https://localhost:8080/",
     "height": 34
    },
    "colab_type": "code",
    "executionInfo": {
     "elapsed": 615,
     "status": "ok",
     "timestamp": 1551995555518,
     "user": {
      "displayName": "Alexander Dowling",
      "photoUrl": "https://lh3.googleusercontent.com/-LChdQ2m5OQE/AAAAAAAAAAI/AAAAAAAAAA0/JeXJe4vQJ7M/s64/photo.jpg",
      "userId": "00988067626794866502"
     },
     "user_tz": 300
    },
    "id": "m0DB9yFtYfDu",
    "outputId": "9e8c5edf-e893-453b-b44a-e5390608fcce"
   },
   "outputs": [
    {
     "name": "stdout",
     "output_type": "stream",
     "text": [
      "F = 0.84 mL/s\n"
     ]
    }
   ],
   "source": [
    "# define function to calculate f\n",
    "f = lambda x : (x[1] - x[0])/(x[3] - x[2])\n",
    "\n",
    "x0 = [V0,Vf,t0,tf]\n",
    "F0 = f(x0)\n",
    "\n",
    "print(\"F =\",round(F0,2),\"mL/s\")"
   ]
  },
  {
   "cell_type": "code",
   "execution_count": 9,
   "metadata": {
    "colab": {
     "base_uri": "https://localhost:8080/",
     "height": 34
    },
    "colab_type": "code",
    "executionInfo": {
     "elapsed": 606,
     "status": "ok",
     "timestamp": 1551995555519,
     "user": {
      "displayName": "Alexander Dowling",
      "photoUrl": "https://lh3.googleusercontent.com/-LChdQ2m5OQE/AAAAAAAAAAI/AAAAAAAAAA0/JeXJe4vQJ7M/s64/photo.jpg",
      "userId": "00988067626794866502"
     },
     "user_tz": 300
    },
    "id": "QuFHYhWuYsZD",
    "outputId": "8c7eefec-1a09-42e8-d260-7170032096a1"
   },
   "outputs": [
    {
     "name": "stdout",
     "output_type": "stream",
     "text": [
      "deltaF = [-0.01923077  0.01923077  0.01623521 -0.01623521]\n"
     ]
    }
   ],
   "source": [
    "# use finite difference to build gradient\n",
    "import numpy as np\n",
    "deltaF = np.zeros(4)\n",
    "\n",
    "xc = x0.copy()\n",
    "\n",
    "eps = 1E-6\n",
    "\n",
    "for i in range(len(deltaF)):\n",
    "    # perturb element i\n",
    "    xc[i] += eps\n",
    "    \n",
    "    # apply forward finite different formula\n",
    "    deltaF[i] = (f(xc) - F0)/eps\n",
    "\n",
    "    # reset\n",
    "    xc[i] = x0[i]\n",
    "    \n",
    "print(\"deltaF =\",deltaF)"
   ]
  },
  {
   "cell_type": "code",
   "execution_count": 10,
   "metadata": {
    "colab": {
     "base_uri": "https://localhost:8080/",
     "height": 119
    },
    "colab_type": "code",
    "executionInfo": {
     "elapsed": 419,
     "status": "ok",
     "timestamp": 1551995638820,
     "user": {
      "displayName": "Alexander Dowling",
      "photoUrl": "https://lh3.googleusercontent.com/-LChdQ2m5OQE/AAAAAAAAAAI/AAAAAAAAAA0/JeXJe4vQJ7M/s64/photo.jpg",
      "userId": "00988067626794866502"
     },
     "user_tz": 300
    },
    "id": "GRQv33oBaJin",
    "outputId": "bfa149ac-c7ed-45e8-e173-8f5e3dc906df"
   },
   "outputs": [
    {
     "name": "stdout",
     "output_type": "stream",
     "text": [
      "Covariance matrix of measurement errors:\n",
      "\n",
      "[[0.01 0.   0.   0.  ]\n",
      " [0.   0.01 0.   0.  ]\n",
      " [0.   0.   1.   0.  ]\n",
      " [0.   0.   0.   1.  ]]\n"
     ]
    }
   ],
   "source": [
    "Sig = np.zeros((4,4))\n",
    "Sig[0,0] = sV**2\n",
    "Sig[1,1] = sV**2\n",
    "Sig[2,2] = st**2\n",
    "Sig[3,3] = st**2\n",
    "print(\"Covariance matrix of measurement errors:\\n\")\n",
    "print(Sig)"
   ]
  },
  {
   "cell_type": "code",
   "execution_count": 11,
   "metadata": {
    "colab": {
     "base_uri": "https://localhost:8080/",
     "height": 34
    },
    "colab_type": "code",
    "executionInfo": {
     "elapsed": 271,
     "status": "ok",
     "timestamp": 1551995707350,
     "user": {
      "displayName": "Alexander Dowling",
      "photoUrl": "https://lh3.googleusercontent.com/-LChdQ2m5OQE/AAAAAAAAAAI/AAAAAAAAAA0/JeXJe4vQJ7M/s64/photo.jpg",
      "userId": "00988067626794866502"
     },
     "user_tz": 300
    },
    "id": "sqdo-LUlZ0tK",
    "outputId": "e841ff0c-cdeb-47fd-f641-4e599c1b5eec"
   },
   "outputs": [
    {
     "name": "stdout",
     "output_type": "stream",
     "text": [
      "Uncertainty in F: sigmaF =  0.0231205611  mL/s\n"
     ]
    }
   ],
   "source": [
    "# apply error propagation formula\n",
    "sigmaF = math.sqrt(deltaF.dot(Sig.dot(deltaF)))\n",
    "print(\"Uncertainty in F: sigmaF = \",round(sigmaF,10),\" mL/s\")"
   ]
  }
 ],
 "metadata": {
  "colab": {
   "collapsed_sections": [],
   "name": "L15-Error-Propagation.ipynb",
   "provenance": [],
   "version": "0.3.2"
  },
  "kernelspec": {
   "display_name": "Python 3 (ipykernel)",
   "language": "python",
   "name": "python3"
  },
  "language_info": {
   "codemirror_mode": {
    "name": "ipython",
    "version": 3
   },
   "file_extension": ".py",
   "mimetype": "text/x-python",
   "name": "python",
   "nbconvert_exporter": "python",
   "pygments_lexer": "ipython3",
   "version": "3.9.12"
  }
 },
 "nbformat": 4,
 "nbformat_minor": 4
}
