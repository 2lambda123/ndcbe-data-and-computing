{
 "cells": [
  {
   "cell_type": "markdown",
   "metadata": {
    "colab_type": "text",
    "id": "qYVuIBsFIntT"
   },
   "source": [
    "# Class 16: Error Propagation and Simulation\n",
    "\n",
    "CBE 20258. Numerical and Statistical Analysis. Spring 2020.\n",
    "\n",
    "&#169; University of Notre Dame"
   ]
  },
  {
   "cell_type": "markdown",
   "metadata": {
    "colab_type": "text",
    "id": "1PJ6EcCl06sV"
   },
   "source": [
    "## Class 16 Learning Objectives\n",
    "\n",
    "After studying this notebook, completing the activities, engaging in class, and reading the book, you should be able to:\n",
    "* Apply error propagation formulas to predict uncertainty in calculations using experimental data\n",
    "* Derive linear error propagation formulas from definitions of expected value and variance\n",
    "* Derive general nonlinear error propagation formulas from Taylor series approximation\n",
    "* Use multivariate error propagation formula\n",
    "* Estimate probabilities using simulation"
   ]
  },
  {
   "cell_type": "markdown",
   "metadata": {},
   "source": [
    "### Online Class Structure\n",
    "\n",
    "**Asynchronous**: Before our scheduled class time, please complete these home activities and the handouts. Turn in your home activities via Vocareum and Gradescope. You should read the book or watch the recorded lecture material. Please also prepare a list of questions you plan to ask during our virtual class.\n",
    "\n",
    "See the class schedule on Sakai for each class session topic and the assigned  preparation.\n",
    "\n",
    "**Synchronous:** During our scheduled class time, we will answer all of your questions on this material. We will then work through a few example problems."
   ]
  },
  {
   "cell_type": "code",
   "execution_count": 1,
   "metadata": {
    "collapsed": true
   },
   "outputs": [],
   "source": [
    "import numpy as np\n",
    "import matplotlib.pyplot as plt"
   ]
  },
  {
   "cell_type": "markdown",
   "metadata": {},
   "source": [
    "## 16a. Measurement Error\n",
    "\n",
    "**Further Reading**: §3.1 in Navidi (2015)"
   ]
  },
  {
   "cell_type": "markdown",
   "metadata": {},
   "source": [
    "All measurements have uncertainty. As engineers, we need to i) gather data, ii) estimate uncertainty, iii) propagate uncertainty through calculations, and, ultimately iv) draw conclusions and make decisions under uncertainty.\n",
    "\n",
    "Let's get started with some important definitions."
   ]
  },
  {
   "cell_type": "markdown",
   "metadata": {},
   "source": [
    "<div style=\"background-color: rgba(0,255,0,0.05) ; padding: 10px; border: 1px solid darkgreen;\"> \n",
    "<b>Home Activity</b>: Read pg. 164 - 165 in Navidi (2015). Fill in the following definitions.\n",
    "</div>"
   ]
  },
  {
   "cell_type": "markdown",
   "metadata": {},
   "source": [
    "**Error**\n",
    "\n",
    "**Systematic Error / Bias**\n",
    "\n",
    "**Random Error**\n",
    "\n",
    "**Accuracy**\n",
    "\n",
    "**Unbiased**\n",
    "\n",
    "**Precision**\n",
    "\n",
    "**Random / Statistical Uncertainty**\n"
   ]
  },
  {
   "cell_type": "markdown",
   "metadata": {},
   "source": [
    "Target practice is a classic example used to explain how accuracy and precision are different:\n",
    "\n",
    "![darts](https://manoa.hawaii.edu/exploringourfluidearth/sites/default/files/M1U1-SF%201-5_Accuracy%20and%20Precision.png)\n",
    "\n"
   ]
  },
  {
   "cell_type": "markdown",
   "metadata": {},
   "source": [
    "<div style=\"background-color: rgba(0,255,0,0.05) ; padding: 10px; border: 1px solid darkgreen;\"> \n",
    "<b>Home Activity</b>: Write captions for each figure. Using target practice as an example, explain how accuracy and precision are different.\n",
    "</div>"
   ]
  },
  {
   "cell_type": "markdown",
   "metadata": {},
   "source": [
    "**Home Activity Answers**:\n",
    "\n",
    "(Write captions for each figure.)\n",
    "\n",
    "**A**:\n",
    "\n",
    "**B**:\n",
    "\n",
    "**C**:\n",
    "\n",
    "**D**:\n",
    "\n",
    "(In 1 sentence, explain how accuracy and precision are different.)\n",
    "\n",
    "**Explanation:**"
   ]
  },
  {
   "cell_type": "markdown",
   "metadata": {},
   "source": [
    "<div style=\"background-color: rgba(0,255,0,0.05) ; padding: 10px; border: 1px solid darkgreen;\"> \n",
    "<b>Home Activity</b>: Answer the following multiple choice question. Store your answer in the integer variable <tt>ans_16a_1</tt>.\n",
    "</div>"
   ]
  },
  {
   "cell_type": "markdown",
   "metadata": {},
   "source": [
    "The boiling point of water at sea level is measures four times. The results are 110.01 °C, 110.02 °C, 109.99 °C, and 110.01 °C. Which is the following statements best describes the measuring process:\n",
    "1. Accurate but not precise\n",
    "2. Precise but not accurate\n",
    "3. Neither accuracy nor precise\n",
    "4. Both accurate and precise"
   ]
  },
  {
   "cell_type": "code",
   "execution_count": 2,
   "metadata": {
    "collapsed": true
   },
   "outputs": [],
   "source": [
    "### BEGIN SOLUTION\n",
    "ans_16a_1 = 2\n",
    "### END SOLUTION"
   ]
  },
  {
   "cell_type": "code",
   "execution_count": 3,
   "metadata": {
    "collapsed": true,
    "nbgrader": {
     "grade": true,
     "grade_id": "16a-1",
     "locked": true,
     "points": "0.2",
     "solution": false
    }
   },
   "outputs": [],
   "source": [
    "### BEGIN HIDDEN TESTS\n",
    "secret_ans = 2\n",
    "\n",
    "assert ans_16a_1 == secret_ans, \"What is the boiling point of water? How consistent are the measurements?\"\n",
    "\n",
    "### END HIDDEN TESTS"
   ]
  },
  {
   "cell_type": "markdown",
   "metadata": {},
   "source": [
    "Armed with those definitions, we can beginning to connect experimental measurements with probability theory. Here are some key ideas:\n",
    "* A measured value is a random variable with mean $\\mu$ and standard deviation $\\sigma$.\n",
    "* The bias in the measuring process is the difference between the mean measurement and the true value: Bias = $\\mu$ - true value\n",
    "* The uncertainty in the measuring process is the standard deviation $\\sigma$.\n",
    "* The smaller the bias, the more accurate the measuring process.\n",
    "* The smaller the uncertainty, the more precise the measuring process.\n",
    "\n",
    "A key idea in statistical analysis is to use a sample, e.g., data gathered from repeat experiments, to estimate the population mean and variance. For example, imagine we wanted to know the weight of a brick. From repeated measurements on a scale, we could compute a sample mean and standard deviation. This is an estimate to the population true weight of the brick (population mean) random noise from the scale (population standard deviation).\n",
    "\n",
    "Let $X_1$, $X_2$, ..., $X_n$, be independent measurements, all made by the same process on the same quantity.\n",
    "* The sample standard deviation $s$ can be used to estimate the uncertainty.\n",
    "* Estimates of uncertainty are often crude, especially when based on sample samples.\n",
    "* If the true value is know, the sample mean $\\bar{X}$ can be used to estimate the bias: Bias $\\approx$ $\\bar{X}$ - true value\n",
    "* If the true value is unknown, the bias cannot be estimated from repeat measurements."
   ]
  },
  {
   "cell_type": "markdown",
   "metadata": {},
   "source": [
    "<div style=\"background-color: rgba(0,255,0,0.05) ; padding: 10px; border: 1px solid darkgreen;\"> \n",
    "<b>Home Activity</b>: Answer the following true false questions. Store your answer in the dictionary <tt>ans_16a_2</tt>. Use the integers 1, 2, 3, and 4 as the keys. Record strings 'F' or 'T' as the values.\n",
    "</div>"
   ]
  },
  {
   "cell_type": "markdown",
   "metadata": {},
   "source": [
    "The weight of an object is given as 67.2 $\\pm$ 0.3g. True of false:\n",
    "1. The weight was measured to be 67.2 g.\n",
    "2. The true weight of the object is 67.2 g.\n",
    "3. The bias in the measurement is 0.3 g.\n",
    "4. The uncertainty in the measurement is 0.3 g."
   ]
  },
  {
   "cell_type": "code",
   "execution_count": 4,
   "metadata": {
    "collapsed": true,
    "nbgrader": {
     "grade": false,
     "locked": false,
     "solution": false
    }
   },
   "outputs": [],
   "source": [
    "# Create dictionary to store the answers\n",
    "ans_16a_2 = {}\n",
    "\n",
    "### BEGIN SOLUTION\n",
    "ans_16a_2[1] = 'T'\n",
    "ans_16a_2[2] = 'F'\n",
    "ans_16a_2[3] = 'F'\n",
    "ans_16a_2[4] = 'T'\n",
    "### END SOLUTION"
   ]
  },
  {
   "cell_type": "code",
   "execution_count": 5,
   "metadata": {
    "collapsed": true,
    "nbgrader": {
     "grade": true,
     "grade_id": "16a-2",
     "locked": true,
     "points": "0.3",
     "solution": false
    }
   },
   "outputs": [],
   "source": [
    "### BEGIN HIDDEN TESTS\n",
    "assert ans_16a_2[1] == 'T', \"The first part of X +- Y is the measurement value (or average).\"\n",
    "assert ans_16a_2[2] == 'F', \"Without additional information, we do not know the true weight of the object.\"\n",
    "assert ans_16a_2[3] == 'F', \"Without additional information, we do not know the bias of the scale.\"\n",
    "assert ans_16a_2[1] == 'T', \"The second part of X +- Y is the measurement uncertainty.\"\n",
    "### END HIDDEN TESTS"
   ]
  },
  {
   "cell_type": "markdown",
   "metadata": {},
   "source": [
    "## 16b. Error Propagation\n",
    "\n",
    "**Further Reading**: §3.2, §3.3, and §3.4 in Navidi (2015)"
   ]
  },
  {
   "cell_type": "markdown",
   "metadata": {},
   "source": [
    "As engineers, we are rarely interested in simply characterizing the uncertainty in measurements. Instead, we often use the measurement values to perform calculations. Naturally, we want to propagate the uncertainty from the measures through to the calculation. This is known as **error propagation**. I promise you will use it in multiple laboratory classes at Notre Dame and as practicing engineers after graduation.\n",
    "\n",
    "Recall, we will model the outcome of measurements with random variables. As such, I will write the error propagation formulas as random variables. The formulas that follow are given for two measured quantities $X$ and $Y$, but generalize to any dimensions. We assume we know the measurement uncertainties $\\sigma_X$ and $\\sigma_Y$ as well as the covariance $\\sigma_{X,Y}$. We want to estimate the uncertainty $\\sigma_Z$ for the computed quantity $Z$."
   ]
  },
  {
   "cell_type": "markdown",
   "metadata": {},
   "source": [
    "### Addition and Subtraction\n",
    "\n",
    "First, let's consider either adding or subtracting two measured quantities.\n",
    "\n",
    "#### Addition Rule\n",
    "\n",
    "Consider $Z = c_1 X + c_2 Y$:\n",
    "\n",
    "$$\\sigma_Z^2 = c_1^2 \\sigma_X^2 + c_2^2 \\sigma_Y^2 + 2 c_1 c_2 \\sigma_{X,Y}$$\n",
    "\n",
    "#### Subtraction Rule\n",
    "\n",
    "Consider $Z = c_1 X - c_2 Y$:\n",
    "\n",
    "$$\\sigma_Z^2 = c_1^2 \\sigma_X^2 + c_2^2 \\sigma_Y^2 - 2 c_1 c_2 \\sigma_{X,Y}$$\n",
    "\n",
    "\n",
    "#### Derivation\n",
    "\n",
    "Notice these formulas are exact. We'll explore that more during class.\n"
   ]
  },
  {
   "cell_type": "markdown",
   "metadata": {},
   "source": [
    "<div style=\"background-color: rgba(0,255,0,0.05) ; padding: 10px; border: 1px solid darkgreen;\"> \n",
    "<b>Home Activity (Video)</b>: Derive the addition/subtraction error propagation rules from the properties of random variables.\n",
    "</div>"
   ]
  },
  {
   "cell_type": "markdown",
   "metadata": {},
   "source": [
    "### Multiplication and Division Rule\n",
    "\n",
    "#### Multiplication Rule\n",
    "\n",
    "Consider $Z = X \\cdot Y$:\n",
    "\n",
    "$$\\sigma_Z^2\\approx \\left(E[Z]\\right)^2 \\left[ \n",
    "\t\\left(\\frac{\\sigma_{X}}{E[X]} \\right)^2 + \\left(\\frac{\\sigma_{Y}}{E[Y]} \\right)^2 + \\frac{2 \\sigma_{X,Y}}{E[X] E[Y]}\n",
    "\t\\right]$$"
   ]
  },
  {
   "cell_type": "markdown",
   "metadata": {},
   "source": [
    "#### Division Rule\n",
    "\n",
    "Consider $Z = X / Y$:\n",
    "\n",
    "$$\\sigma_Z^2\\approx \\left(E[Z]\\right)^2  \\left[ \n",
    "\t\\left(\\frac{\\sigma_{X}}{E[X]} \\right)^2 + \\left(\\frac{\\sigma_{Y}}{E[Y]} \\right)^2 - \\frac{2 \\sigma_{X,Y}}{E[X] E[Y]}\n",
    "\t\\right]$$\n",
    "    \n",
    "#### Derivation\n",
    "\n",
    "Notice these formulas are approximations. We'll see these formulas come from the more general differential function rule."
   ]
  },
  {
   "cell_type": "markdown",
   "metadata": {},
   "source": [
    "<div style=\"background-color: rgba(255,0,0,0.05) ; padding: 10px; border: 1px solid darkred;\"> \n",
    "<b>Study Activity</b>: Derive the multiplication and division rules from the differentiable function rule.\n",
    "</div>"
   ]
  },
  {
   "cell_type": "markdown",
   "metadata": {},
   "source": [
    "### Differentiable Function\n",
    "\n",
    "Next, let's consider any differentiable function.\n",
    "\n",
    "#### Differentiable Function Rule\n",
    "\n",
    "Consider $Z = g(X,Y)$:\n",
    "\n",
    "$$\\sigma_Z^2 \\approx \\left| \\frac{\\partial g}{\\partial X} \\right|^2 \\sigma_X^2 + \\left| \\frac{\\partial g}{\\partial Y} \\right|^2 \\sigma_Y^2 + 2 \\frac{\\partial g}{\\partial X} \\frac{\\partial g}{\\partial Y} \\sigma_{X,Y}$$\n",
    "\n",
    "#### Derivation\n",
    "\n",
    "Notice this formula is an approximation. We'll see it comes from a Taylor series approximation."
   ]
  },
  {
   "cell_type": "markdown",
   "metadata": {},
   "source": [
    "<div style=\"background-color: rgba(0,255,0,0.05) ; padding: 10px; border: 1px solid darkgreen;\"> \n",
    "<b>Home Activity (Video)</b>: Derive the differential function error propagation rule from the properties of random variables and a truncated Taylor series expansion.\n",
    "</div>"
   ]
  },
  {
   "cell_type": "markdown",
   "metadata": {},
   "source": [
    "### Example: Measuring Flowrate\n",
    "\n",
    "Please see the handout."
   ]
  },
  {
   "cell_type": "markdown",
   "metadata": {},
   "source": [
    "<div style=\"background-color: rgba(0,255,0,0.05) ; padding: 10px; border: 1px solid darkgreen;\"> \n",
    "<b>Home Activity (Video) </b>: Complete the calculation on the handout on paper. We recommend trying this before watching the video. Then compare your answer to the code below.\n",
    "</div>"
   ]
  },
  {
   "cell_type": "markdown",
   "metadata": {},
   "source": [
    "#### Approach 1: Division Rule"
   ]
  },
  {
   "cell_type": "code",
   "execution_count": 6,
   "metadata": {
    "colab": {
     "base_uri": "https://localhost:8080/",
     "height": 34
    },
    "colab_type": "code",
    "executionInfo": {
     "elapsed": 631,
     "status": "ok",
     "timestamp": 1551995555509,
     "user": {
      "displayName": "Alexander Dowling",
      "photoUrl": "https://lh3.googleusercontent.com/-LChdQ2m5OQE/AAAAAAAAAAI/AAAAAAAAAA0/JeXJe4vQJ7M/s64/photo.jpg",
      "userId": "00988067626794866502"
     },
     "user_tz": 300
    },
    "id": "sw7eMXADT02E",
    "outputId": "6d230c32-1068-40c4-bd44-f520bd6fab62"
   },
   "outputs": [
    {
     "name": "stdout",
     "output_type": "stream",
     "text": [
      "F =  0.84  mL/s\n"
     ]
    }
   ],
   "source": [
    "import math\n",
    "## Given data\n",
    "Vf = 49.2\n",
    "V0 = 5.3\n",
    "\n",
    "t0 = 4\n",
    "tf = 56\n",
    "\n",
    "## Calculate differences\n",
    "dV = Vf - V0\n",
    "dt = tf - t0\n",
    "\n",
    "## Specified assumed/estimated uncertainties\n",
    "sV = 0.1 # units: mL\n",
    "st = 1.0 # units: sec\n",
    "\n",
    "## Calculate flowrate estimate\n",
    "F = dV / dt\n",
    "print(\"F = \",round(F,2),\" mL/s\")"
   ]
  },
  {
   "cell_type": "code",
   "execution_count": 7,
   "metadata": {
    "colab": {
     "base_uri": "https://localhost:8080/",
     "height": 34
    },
    "colab_type": "code",
    "executionInfo": {
     "elapsed": 322,
     "status": "ok",
     "timestamp": 1551995703523,
     "user": {
      "displayName": "Alexander Dowling",
      "photoUrl": "https://lh3.googleusercontent.com/-LChdQ2m5OQE/AAAAAAAAAAI/AAAAAAAAAA0/JeXJe4vQJ7M/s64/photo.jpg",
      "userId": "00988067626794866502"
     },
     "user_tz": 300
    },
    "id": "I9NgXjTzUcNU",
    "outputId": "263e07bc-ba74-4576-bc89-f70ef8f8c4dd"
   },
   "outputs": [
    {
     "name": "stdout",
     "output_type": "stream",
     "text": [
      "Uncertainty in F: sigmaF =  0.0231205612  mL/s\n"
     ]
    }
   ],
   "source": [
    "## Apply the division rule\n",
    "sF = F*math.sqrt(2*(sV/dV)**2 + 2*(st/dt)**2)\n",
    "print(\"Uncertainty in F: sigmaF = \",round(sF,10),\" mL/s\")"
   ]
  },
  {
   "cell_type": "markdown",
   "metadata": {
    "colab_type": "text",
    "id": "cTQKukUxYbiA"
   },
   "source": [
    "#### Approach 2:  Differentiable Function Rule"
   ]
  },
  {
   "cell_type": "code",
   "execution_count": 8,
   "metadata": {
    "colab": {
     "base_uri": "https://localhost:8080/",
     "height": 34
    },
    "colab_type": "code",
    "executionInfo": {
     "elapsed": 615,
     "status": "ok",
     "timestamp": 1551995555518,
     "user": {
      "displayName": "Alexander Dowling",
      "photoUrl": "https://lh3.googleusercontent.com/-LChdQ2m5OQE/AAAAAAAAAAI/AAAAAAAAAA0/JeXJe4vQJ7M/s64/photo.jpg",
      "userId": "00988067626794866502"
     },
     "user_tz": 300
    },
    "id": "m0DB9yFtYfDu",
    "outputId": "9e8c5edf-e893-453b-b44a-e5390608fcce"
   },
   "outputs": [
    {
     "name": "stdout",
     "output_type": "stream",
     "text": [
      "F = 0.84 mL/s\n"
     ]
    }
   ],
   "source": [
    "# define function to calculate f\n",
    "f = lambda x : (x[1] - x[0])/(x[3] - x[2])\n",
    "\n",
    "x0 = [V0,Vf,t0,tf]\n",
    "F0 = f(x0)\n",
    "\n",
    "print(\"F =\",round(F0,2),\"mL/s\")"
   ]
  },
  {
   "cell_type": "code",
   "execution_count": 9,
   "metadata": {
    "colab": {
     "base_uri": "https://localhost:8080/",
     "height": 34
    },
    "colab_type": "code",
    "executionInfo": {
     "elapsed": 606,
     "status": "ok",
     "timestamp": 1551995555519,
     "user": {
      "displayName": "Alexander Dowling",
      "photoUrl": "https://lh3.googleusercontent.com/-LChdQ2m5OQE/AAAAAAAAAAI/AAAAAAAAAA0/JeXJe4vQJ7M/s64/photo.jpg",
      "userId": "00988067626794866502"
     },
     "user_tz": 300
    },
    "id": "QuFHYhWuYsZD",
    "outputId": "8c7eefec-1a09-42e8-d260-7170032096a1"
   },
   "outputs": [
    {
     "name": "stdout",
     "output_type": "stream",
     "text": [
      "deltaF = [-0.01923077  0.01923077  0.01623521 -0.01623521]\n"
     ]
    }
   ],
   "source": [
    "# use finite difference to build gradient\n",
    "import numpy as np\n",
    "deltaF = np.zeros(4)\n",
    "\n",
    "xc = x0.copy()\n",
    "\n",
    "eps = 1E-6\n",
    "\n",
    "for i in range(len(deltaF)):\n",
    "    # perturb element i\n",
    "    xc[i] += eps\n",
    "    \n",
    "    # apply forward finite different formula\n",
    "    deltaF[i] = (f(xc) - F0)/eps\n",
    "\n",
    "    # reset\n",
    "    xc[i] = x0[i]\n",
    "    \n",
    "print(\"deltaF =\",deltaF)"
   ]
  },
  {
   "cell_type": "code",
   "execution_count": 10,
   "metadata": {
    "colab": {
     "base_uri": "https://localhost:8080/",
     "height": 119
    },
    "colab_type": "code",
    "executionInfo": {
     "elapsed": 419,
     "status": "ok",
     "timestamp": 1551995638820,
     "user": {
      "displayName": "Alexander Dowling",
      "photoUrl": "https://lh3.googleusercontent.com/-LChdQ2m5OQE/AAAAAAAAAAI/AAAAAAAAAA0/JeXJe4vQJ7M/s64/photo.jpg",
      "userId": "00988067626794866502"
     },
     "user_tz": 300
    },
    "id": "GRQv33oBaJin",
    "outputId": "bfa149ac-c7ed-45e8-e173-8f5e3dc906df"
   },
   "outputs": [
    {
     "name": "stdout",
     "output_type": "stream",
     "text": [
      "Covariance matrix of measurement errors:\n",
      "\n",
      "[[0.01 0.   0.   0.  ]\n",
      " [0.   0.01 0.   0.  ]\n",
      " [0.   0.   1.   0.  ]\n",
      " [0.   0.   0.   1.  ]]\n"
     ]
    }
   ],
   "source": [
    "Sig = np.zeros((4,4))\n",
    "Sig[0,0] = sV**2\n",
    "Sig[1,1] = sV**2\n",
    "Sig[2,2] = st**2\n",
    "Sig[3,3] = st**2\n",
    "print(\"Covariance matrix of measurement errors:\\n\")\n",
    "print(Sig)"
   ]
  },
  {
   "cell_type": "code",
   "execution_count": 11,
   "metadata": {
    "colab": {
     "base_uri": "https://localhost:8080/",
     "height": 34
    },
    "colab_type": "code",
    "executionInfo": {
     "elapsed": 271,
     "status": "ok",
     "timestamp": 1551995707350,
     "user": {
      "displayName": "Alexander Dowling",
      "photoUrl": "https://lh3.googleusercontent.com/-LChdQ2m5OQE/AAAAAAAAAAI/AAAAAAAAAA0/JeXJe4vQJ7M/s64/photo.jpg",
      "userId": "00988067626794866502"
     },
     "user_tz": 300
    },
    "id": "sqdo-LUlZ0tK",
    "outputId": "e841ff0c-cdeb-47fd-f641-4e599c1b5eec"
   },
   "outputs": [
    {
     "name": "stdout",
     "output_type": "stream",
     "text": [
      "Uncertainty in F: sigmaF =  0.0231205611  mL/s\n"
     ]
    }
   ],
   "source": [
    "# apply error propagation formula\n",
    "sigmaF = math.sqrt(deltaF.dot(Sig.dot(deltaF)))\n",
    "print(\"Uncertainty in F: sigmaF = \",round(sigmaF,10),\" mL/s\")"
   ]
  },
  {
   "cell_type": "markdown",
   "metadata": {},
   "source": [
    "<div style=\"background-color: rgba(0,0,255,0.05) ; padding: 10px; border: 1px solid darkblue;\"> \n",
    "<b>Class Activity</b>: We will work through these problems together during class.\n",
    "</div>"
   ]
  },
  {
   "cell_type": "markdown",
   "metadata": {},
   "source": [
    "### Practice Problem A\n",
    "\n",
    "Reference: §3.3, Problem 8 in Navidi.\n",
    "\n",
    "The refractive index $n$ of a piece of glass is related to the critical angle $\\theta$ by $n=1/\\sin \\theta$ Assume that the critical angle is measured to be 0.70 $\\pm$ 0.02 rad. Estimate the refractive index, and find the uncertainty in the estimate."
   ]
  },
  {
   "cell_type": "code",
   "execution_count": 12,
   "metadata": {},
   "outputs": [
    {
     "name": "stdout",
     "output_type": "stream",
     "text": [
      "n =  1.552270326957104\n",
      "dn_dtheta =  -1.842920266932432\n",
      "s_n =  0.03685840533864864\n"
     ]
    }
   ],
   "source": [
    "### BEGIN SOLUTION\n",
    "theta = 0.70 # rad\n",
    "s_theta = 0.02 # rad\n",
    "\n",
    "n = 1/np.sin(theta)\n",
    "print(\"n = \",n)\n",
    "\n",
    "dn_dtheta = - np.cos(theta) / np.sin(theta)**2\n",
    "print(\"dn_dtheta = \",dn_dtheta)\n",
    "\n",
    "s_n = np.abs(dn_dtheta) * s_theta\n",
    "print(\"s_n = \",s_n)\n",
    "### END SOLUTION"
   ]
  },
  {
   "cell_type": "markdown",
   "metadata": {},
   "source": [
    "### Practice Problem B\n",
    "\n",
    "Reference: §3.4, Problem 8 in Navidi.\n",
    "\n",
    "The pressure $P$, temperature $T$, and volume $V$ of one mole of an ideal gas are related by the equation $PV=RT$ where $P$ is measured in kilopascals, $T$ is measured in kelvins, and $V$ is measured in liters, and $R = 8.314$ with consistent units.\n",
    "1. Assume that $P$ = 242.52 $\\pm$ 0.03 kPa and $V$ = 10.103 $\\pm$ 0.002 L. Estimate $T$, and find the uncertainty in the estimate.\n",
    "2. Assume that $P$ = 242.52 $\\pm$ 0.03 kPa and $T$ = 290.11 $\\pm$ 0.02 K. Estimate $V$, and find the uncertainty in the estimate.\n",
    "3. Assume that $V$ = 10.103 $\\pm$ 0.002 L and $T$ = 290.11 $\\pm$ 0.02 K. Estimate $P$, and find the uncertainty in the estimate.\n",
    "4. Repeat calculation 1 assuming $P$ and $V$ are not independent, but have a covariance of **10$^{-5}$** kPa-L."
   ]
  },
  {
   "cell_type": "code",
   "execution_count": 13,
   "metadata": {},
   "outputs": [
    {
     "name": "stdout",
     "output_type": "stream",
     "text": [
      "P =  242.52  +/-  0.03  kPa\n",
      "V =  10.103  +/-  0.002  L\n",
      "T =  294.7052634111138 +/-  0.06879365869176007 K\n"
     ]
    }
   ],
   "source": [
    "# Part 1\n",
    "### BEGIN SOLUTION\n",
    "P = 242.52 # kPa\n",
    "sP = 0.03 # kPa\n",
    "\n",
    "V = 10.103 # L\n",
    "sV = 0.002 # L\n",
    "\n",
    "# T = 290.11 # K\n",
    "# sT = 0.02 # K\n",
    "\n",
    "R = 8.314\n",
    "\n",
    "T = P*V/R\n",
    "sT = T * np.sqrt((sP/P)**2 + (sV/V)**2)\n",
    "\n",
    "print(\"P = \",P,\" +/- \",sP,\" kPa\")\n",
    "print(\"V = \",V,\" +/- \",sV,\" L\")\n",
    "print(\"T = \",T, \"+/- \",sT, \"K\")\n",
    "### END SOLUTION"
   ]
  },
  {
   "cell_type": "code",
   "execution_count": 14,
   "metadata": {},
   "outputs": [
    {
     "name": "stdout",
     "output_type": "stream",
     "text": [
      "P =  242.52  +/-  0.03  kPa\n",
      "V =  9.9454665182253  +/-  0.0014084202098616082  L\n",
      "T =  290.11 +/-  0.02 K\n"
     ]
    }
   ],
   "source": [
    "# Part 2\n",
    "### BEGIN SOLUTION\n",
    "P = 242.52 # kPa\n",
    "sP = 0.03 # kPa\n",
    "\n",
    "# V = 10.103 # L\n",
    "# sV = 0.002 # L\n",
    "\n",
    "T = 290.11 # K\n",
    "sT = 0.02 # K\n",
    "\n",
    "R = 8.314\n",
    "\n",
    "V = R*T/P\n",
    "sV = V * np.sqrt((sP/P)**2 + (sT/T)**2)\n",
    "\n",
    "print(\"P = \",P,\" +/- \",sP,\" kPa\")\n",
    "print(\"V = \",V,\" +/- \",sV,\" L\")\n",
    "print(\"T = \",T, \"+/- \",sT, \"K\")\n",
    "### END SOLUTION"
   ]
  },
  {
   "cell_type": "code",
   "execution_count": 15,
   "metadata": {},
   "outputs": [
    {
     "name": "stdout",
     "output_type": "stream",
     "text": [
      "P =  238.73844798574683  +/-  0.05004472373860672  kPa\n",
      "V =  10.103  +/-  0.002  L\n",
      "T =  290.11 +/-  0.02 K\n"
     ]
    }
   ],
   "source": [
    "# Part 3\n",
    "### BEGIN SOLUTION\n",
    "# P = 242.52 # kPa\n",
    "# sP = 0.03 # kPa\n",
    "\n",
    "V = 10.103 # L\n",
    "sV = 0.002 # L\n",
    "\n",
    "T = 290.11 # K\n",
    "sT = 0.02 # K\n",
    "\n",
    "R = 8.314\n",
    "\n",
    "P = R*T/V\n",
    "sP = P * np.sqrt((sV/V)**2 + (sT/T)**2)\n",
    "\n",
    "print(\"P = \",P,\" +/- \",sP,\" kPa\")\n",
    "print(\"V = \",V,\" +/- \",sV,\" L\")\n",
    "print(\"T = \",T, \"+/- \",sT, \"K\")\n",
    "### END SOLUTION"
   ]
  },
  {
   "cell_type": "code",
   "execution_count": 16,
   "metadata": {},
   "outputs": [
    {
     "name": "stdout",
     "output_type": "stream",
     "text": [
      "P =  242.52  +/-  0.03  kPa\n",
      "V =  10.103  +/-  0.002  L\n",
      "T =  294.7052634111138 +/-  0.07376655639974125 K\n"
     ]
    }
   ],
   "source": [
    "# Part 4\n",
    "### BEGIN SOLUTION\n",
    "P = 242.52 # kPa\n",
    "sP = 0.03 # kPa\n",
    "\n",
    "V = 10.103 # L\n",
    "sV = 0.002 # L\n",
    "\n",
    "# T = 290.11 # K\n",
    "# sT = 0.02 # K\n",
    "\n",
    "sPV = 1E-5 # kPa-L\n",
    "\n",
    "R = 8.314\n",
    "\n",
    "T = P*V/R\n",
    "sT = T * np.sqrt((sV/V)**2 + (sP/P)**2 + 2*sPV/P/V)\n",
    "\n",
    "print(\"P = \",P,\" +/- \",sP,\" kPa\")\n",
    "print(\"V = \",V,\" +/- \",sV,\" L\")\n",
    "print(\"T = \",T, \"+/- \",sT, \"K\")\n",
    "### END SOLUTION"
   ]
  },
  {
   "cell_type": "markdown",
   "metadata": {},
   "source": [
    "### Practice Problem C\n",
    "\n",
    "Reference: §3.4, Problem 16 in Navidi.\n",
    "\n",
    "According to Newton's law of cooling, the time $t$ needed for an object at an initial temperature $T_0$ to cool to a temperature $T$ in an environment with ambient temperature $T_a$ is given by\n",
    "\n",
    "$$t = \\frac{\\ln(T_0 - T_a)}{k} - \\frac{\\ln(T - T_a)}{k}$$\n",
    "\n",
    "where $k$ is a constant. Assume that for a certain type of container, $k$ = 0.025 min$^{-1}$. Let $t$ be the number of minutes needed to cool the container to a temperature of 50$^\\circ{}$F. Assume $T_0$ = 70.1 $\\pm$ 0.2$^\\circ{}$F and $T_a$ = 35.7 $\\pm$ 0.1$^\\circ{}$F. Estimate $t$, and find the uncertainty in the estimate."
   ]
  },
  {
   "cell_type": "code",
   "execution_count": 17,
   "metadata": {},
   "outputs": [
    {
     "name": "stdout",
     "output_type": "stream",
     "text": [
      "t =  35.11188108453962  min\n",
      "\n"
     ]
    }
   ],
   "source": [
    "# Define function and calculate t\n",
    "\n",
    "### BEGIN SOLUTION\n",
    "\n",
    "def f(x):\n",
    "    ''' Calculate time\n",
    "    \n",
    "    Args:\n",
    "        x = [T0, Ta] in degrees F\n",
    "        \n",
    "    Returns:\n",
    "        t = time in minutes\n",
    "    '''\n",
    "    \n",
    "    k = 0.025 # 1/min\n",
    "    T = 50 # degrees F\n",
    "    \n",
    "    T0 = x[0]\n",
    "    Ta = x[1]\n",
    "    \n",
    "    t = np.log(T0 - Ta)/k - np.log(T - Ta)/k\n",
    "    \n",
    "    return t\n",
    "\n",
    "x0 = [70.1, 35.7]\n",
    "F0 = f(x0)\n",
    "print(\"t = \",F0,\" min\\n\")\n",
    "\n",
    "### END SOLUTION"
   ]
  },
  {
   "cell_type": "code",
   "execution_count": 18,
   "metadata": {},
   "outputs": [
    {
     "name": "stdout",
     "output_type": "stream",
     "text": [
      "deltaF = [1.16279068 1.63441221]\n"
     ]
    }
   ],
   "source": [
    "# Estimate gradient with finite difference\n",
    "### BEGIN SOLUTION\n",
    "\n",
    "deltaF = np.zeros(2)\n",
    "\n",
    "xc = x0.copy()\n",
    "\n",
    "eps = 1E-6\n",
    "\n",
    "for i in range(len(deltaF)):\n",
    "    # perturb element i\n",
    "    xc[i] += eps\n",
    "    \n",
    "    # apply forward finite different formula\n",
    "    deltaF[i] = (f(xc) - F0)/eps\n",
    "\n",
    "    # reset\n",
    "    xc[i] = x0[i]\n",
    "    \n",
    "print(\"deltaF =\",deltaF)\n",
    "\n",
    "### END SOLUTION"
   ]
  },
  {
   "cell_type": "code",
   "execution_count": 19,
   "metadata": {},
   "outputs": [
    {
     "name": "stdout",
     "output_type": "stream",
     "text": [
      "Covariance matrix of measurement errors:\n",
      "[[0.04 0.  ]\n",
      " [0.   0.01]]\n",
      "\n",
      "Uncertainty estimate:\n",
      "s_t =  0.2842469342469589  min\n"
     ]
    }
   ],
   "source": [
    "# Assemble covariance matrix and apply error propagation formula\n",
    "\n",
    "### BEGIN SOLUTION\n",
    "Sig = np.zeros((2,2))\n",
    "Sig[0,0] = 0.2**2\n",
    "Sig[1,1] = 0.1**2\n",
    "print(\"Covariance matrix of measurement errors:\")\n",
    "print(Sig)\n",
    "\n",
    "print(\"\\nUncertainty estimate:\")\n",
    "print(\"s_t = \",np.sqrt(deltaF @ Sig @ deltaF),\" min\")\n",
    "### END SOLUTION"
   ]
  },
  {
   "cell_type": "markdown",
   "metadata": {},
   "source": [
    "## 16c. Simulation"
   ]
  },
  {
   "cell_type": "markdown",
   "metadata": {},
   "source": [
    "**Further Reading:** §4.12 in Navidi"
   ]
  },
  {
   "cell_type": "markdown",
   "metadata": {},
   "source": [
    "Consider two resistors in parallel with resistances $X \\sim \\mathcal{N}(10~\\Omega,~10^2~\\Omega^2)$ and $Y \\sim \\mathcal{N}(25~\\Omega,~2.5^2~\\Omega^2)$. The total resistance of the circuit is\n",
    "\n",
    "$$R = \\frac{X Y}{X + Y}$$\n",
    "\n",
    "Assume $X$ and $Y$ are independent.\n",
    "\n",
    "Notation: $X \\sim \\mathcal{N}(10~\\Omega,~10^2~\\Omega^2)$ says that random variable $X$ is normally distributed with mean $10~\\Omega$ and variance $10^2~\\Omega^2$. Next class we will learn more about the normal distribution. But you can solve this problem using only the mean and variance."
   ]
  },
  {
   "cell_type": "markdown",
   "metadata": {},
   "source": [
    "What is $P(19~\\Omega \\leq R \\leq 21~\\Omega)$, i.e., the probability the circuit is within specification?"
   ]
  },
  {
   "cell_type": "markdown",
   "metadata": {},
   "source": [
    "<div style=\"background-color: rgba(0,255,0,0.05) ; padding: 10px; border: 1px solid darkgreen;\"> \n",
    "<b>Home Activity</b>: Pause the video. Spend 3 minutes outlining your solution strategy using probability theory. First, write down the main steps. Then, if you have time, write down the formulas.\n",
    "</div>"
   ]
  },
  {
   "cell_type": "markdown",
   "metadata": {},
   "source": [
    "<div style=\"background-color: rgba(0,255,0,0.05) ; padding: 10px; border: 1px solid darkgreen;\"> \n",
    "<b>Home Activity</b>: Now watch the video. Does your approach match the class discussion? We will study the normal distribution more next class session.\n",
    "</div>"
   ]
  },
  {
   "cell_type": "markdown",
   "metadata": {},
   "source": [
    "### Using Simulation to Estimate a Probability"
   ]
  },
  {
   "cell_type": "markdown",
   "metadata": {},
   "source": [
    "Intead of all of that calculus, we can use simulation to estimate this probability.\n",
    "\n",
    "Repeat 1000s of times:\n",
    "* Generate X and Y using a random number generator\n",
    "* Compute $R$ and record the value"
   ]
  },
  {
   "cell_type": "code",
   "execution_count": 20,
   "metadata": {
    "collapsed": true
   },
   "outputs": [],
   "source": [
    "# specify number of simulations\n",
    "nsim = 1000\n",
    "\n",
    "# create vector to store the results\n",
    "R_sim = np.zeros(nsim)\n",
    "\n",
    "\n",
    "# create normally distributed noise\n",
    "# loc = mean\n",
    "# scale = standard deviation\n",
    "x = np.random.normal(loc = 100, scale = 10, size=(nsim))\n",
    "y = np.random.normal(loc = 25, scale=2.5, size=(nsim))\n",
    "    \n",
    "# calculate a1, store result\n",
    "R_sim = x * y / (x + y)"
   ]
  },
  {
   "cell_type": "markdown",
   "metadata": {},
   "source": [
    "<div style=\"background-color: rgba(0,255,0,0.05) ; padding: 10px; border: 1px solid darkgreen;\"> \n",
    "<b>Home Activity</b>: Estimate $P(19~\\Omega \\leq X \\leq 21~\\Omega)$ using your simulation results.\n",
    "</div>"
   ]
  },
  {
   "cell_type": "markdown",
   "metadata": {},
   "source": [
    "### Using Simulation to Estimate Means and Variances\n"
   ]
  },
  {
   "cell_type": "code",
   "execution_count": 21,
   "metadata": {},
   "outputs": [
    {
     "name": "stdout",
     "output_type": "stream",
     "text": [
      "Mean:  19.896106291955807  Ohms\n",
      "Median:  19.945475055638227  Ohms\n",
      "Standard Deviation:  1.6152635830218904  Ohms\n"
     ]
    }
   ],
   "source": [
    "# print some descriptive statistis\n",
    "print(\"Mean: \",np.mean(R_sim),\" Ohms\")\n",
    "print(\"Median: \",np.median(R_sim),\" Ohms\")\n",
    "print(\"Standard Deviation: \",np.std(R_sim,ddof=1),\" Ohms\")"
   ]
  },
  {
   "cell_type": "markdown",
   "metadata": {},
   "source": [
    "### Using Simulation to Determine Whether a Population is Approximately Normal"
   ]
  },
  {
   "cell_type": "code",
   "execution_count": 22,
   "metadata": {},
   "outputs": [
    {
     "data": {
      "image/png": "[encoded data removed]",
      "text/plain": [
       "<Figure size 432x288 with 1 Axes>"
      ]
     },
     "metadata": {},
     "output_type": "display_data"
    }
   ],
   "source": [
    "# create histogram of calculated a1 values\n",
    "plt.hist(R_sim)\n",
    "plt.xlabel(\"Circuit Resistance ($\\Omega$)\")\n",
    "plt.ylabel(\"Number of Simulations\")\n",
    "plt.show()"
   ]
  },
  {
   "cell_type": "markdown",
   "metadata": {},
   "source": [
    "### Practice Problem 4\n",
    "\n",
    "Reference: §4.12, Problem 18 in Navidi.\n",
    "    \n",
    "The length of time to perform an oil change at a certain shop is normally distributed with mean 29.5 minutes and standard deviation 3 minutes. What is the probability that a mechanic can complete 16 oil changes in an eight-hour day?"
   ]
  },
  {
   "cell_type": "code",
   "execution_count": 23,
   "metadata": {},
   "outputs": [
    {
     "data": {
      "image/png": "[encoded data removed]",
      "text/plain": [
       "<Figure size 432x288 with 1 Axes>"
      ]
     },
     "metadata": {},
     "output_type": "display_data"
    },
    {
     "name": "stdout",
     "output_type": "stream",
     "text": [
      "Probability of completing 16 oils changes in eight-hour shift: 0.743\n"
     ]
    }
   ],
   "source": [
    "# Let's use simulation! We'll learn how to calculate this answer by hand next class.\n",
    "\n",
    "### BEGIN SOLUTION\n",
    "\n",
    "# specify number of simulations\n",
    "nsim = 1000\n",
    "\n",
    "# create vector to store the results\n",
    "sixteen_changes = np.zeros(nsim)\n",
    "\n",
    "for i in range(nsim):\n",
    "    # simulate 16 oil changes\n",
    "    oil_changes = np.random.normal(loc = 29.5, scale = 3, size=16)\n",
    "    \n",
    "    # store total time\n",
    "    sixteen_changes[i] = np.sum(oil_changes)\n",
    "\n",
    "# convert from minutes to hours\n",
    "sixteen_changes = sixteen_changes/60\n",
    "    \n",
    "plt.hist(sixteen_changes)\n",
    "plt.xlabel(\"Time to Complete 16 Oil Changes [hours]\")\n",
    "plt.ylabel(\"Frequency\")\n",
    "plt.show()\n",
    "\n",
    "print(\"Probability of completing 16 oils changes in eight-hour shift:\",np.sum(sixteen_changes < 8)/nsim)\n",
    "### END SOLUTION"
   ]
  }
 ],
 "metadata": {
  "colab": {
   "collapsed_sections": [],
   "name": "L15-Error-Propagation.ipynb",
   "provenance": [],
   "version": "0.3.2"
  },
  "kernelspec": {
   "display_name": "Python 3 [3.6]",
   "language": "python",
   "name": "python3"
  },
  "language_info": {
   "codemirror_mode": {
    "name": "ipython",
    "version": 3
   },
   "file_extension": ".py",
   "mimetype": "text/x-python",
   "name": "python",
   "nbconvert_exporter": "python",
   "pygments_lexer": "ipython3",
   "version": "3.6.4"
  }
 },
 "nbformat": 4,
 "nbformat_minor": 1
}
