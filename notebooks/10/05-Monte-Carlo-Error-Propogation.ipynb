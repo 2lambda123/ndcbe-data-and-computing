{
 "cells": [
  {
   "cell_type": "markdown",
   "id": "3c1eb393-1046-471d-8eb6-0b8242f893cc",
   "metadata": {},
   "source": [
    "## Monte Carlo Error Propagation\n"
   ]
  },
  {
   "cell_type": "markdown",
   "id": "f35a1c4a-8ad2-44f3-bef8-8bdde7e25a40",
   "metadata": {
    "colab_type": "text",
    "id": "1PJ6EcCl06sV"
   },
   "source": [
    "## Learning Objectives\n",
    "\n",
    "After studying this notebook, completing the activities, engaging in class, and reading the book, you should be able to:\n",
    "* Understand and apply Monte Carlo error propogation "
   ]
  },
  {
   "cell_type": "code",
   "execution_count": 5,
   "id": "c7f984dd-6ab6-4eff-8f82-b1bc5c1f8ec2",
   "metadata": {},
   "outputs": [],
   "source": [
    "import numpy as np\n",
    "import matplotlib.pyplot as plt"
   ]
  },
  {
   "cell_type": "markdown",
   "id": "409894fb-d247-48f0-9de4-0d8043f1a18f",
   "metadata": {
    "colab_type": "text",
    "id": "2KltHxDu0EqC",
    "tags": []
   },
   "source": [
    "## Motivating Example: Cart + Incline\n",
    "\n",
    "You and a classmate want to measure the acceleration of a cart rolling down an incline plane, but disagree on the best approach. The cart starts at rest and travels distance $l = 1.0$ m. The location of the *finish line* is measured with negligible uncertainty. You (student 1) measure the instantaneous velocity $v = 3.2 \\pm 0.1 $ m/s at the finish line. Your classmate (student 2) instead measures the elapsed time $t = 0.63 \\pm 0.01$s.\n"
   ]
  },
  {
   "cell_type": "markdown",
   "id": "bfada4fe-e7ab-48ae-a223-c8733337ae2d",
   "metadata": {
    "colab_type": "text",
    "id": "bn2Ca7q20EqD"
   },
   "source": [
    "## Student 1\n",
    "\n",
    "Using instantaneous velocity, we can acceleration as follows:\n",
    "\n",
    "$$\n",
    "a_1 = \\frac{v^2}{2l}\n",
    "$$\n",
    "\n",
    "First, let's recap the *standard* error propagation approach from our homework."
   ]
  },
  {
   "cell_type": "markdown",
   "id": "8861a8f7-c5e5-4c01-b952-b5209a104450",
   "metadata": {
    "colab_type": "text",
    "id": "hu2bYpLg0EqD"
   },
   "source": [
    "## Standard Error Propagation"
   ]
  },
  {
   "cell_type": "code",
   "execution_count": 6,
   "id": "11234887-a021-473d-a8b1-7c88eb6e73b7",
   "metadata": {
    "colab": {
     "base_uri": "https://localhost:8080/",
     "height": 34
    },
    "colab_type": "code",
    "executionInfo": {
     "elapsed": 795,
     "status": "ok",
     "timestamp": 1555420725165,
     "user": {
      "displayName": "Alexander Dowling",
      "photoUrl": "https://lh3.googleusercontent.com/-LChdQ2m5OQE/AAAAAAAAAAI/AAAAAAAAAA0/JeXJe4vQJ7M/s64/photo.jpg",
      "userId": "00988067626794866502"
     },
     "user_tz": 240
    },
    "id": "iu-PQo4l0EqE",
    "outputId": "7cbbe7b7-27f5-41fa-a838-ce1f11fdcc76"
   },
   "outputs": [
    {
     "name": "stdout",
     "output_type": "stream",
     "text": [
      "Calculated acceleration:  5.12 +/- 0.32 m/s/s\n"
     ]
    }
   ],
   "source": [
    "## Results of 'standard' error analysis (from homework)\n",
    "\n",
    "# define distance travelled\n",
    "l = 1 # m \n",
    "\n",
    "# define function to calculate a1\n",
    "calc_a1 = lambda v: v**2 / (2*l)\n",
    "\n",
    "# define velocity measurement and uncertainty\n",
    "v = 3.2\n",
    "v_std = 0.1\n",
    "\n",
    "# calculate a1\n",
    "a1 = calc_a1(v)\n",
    "\n",
    "# estimate gradient with forward finite difference\n",
    "da1dv = (calc_a1(v + 1E-6) - a1)/(1E-6)\n",
    "\n",
    "# calculate uncertainty\n",
    "sigma_a1 = abs(da1dv)*v_std\n",
    "\n",
    "# report answer\n",
    "print(\"Calculated acceleration: \",round(a1,2),\"+/-\",round(sigma_a1,2),\"m/s/s\")"
   ]
  },
  {
   "cell_type": "markdown",
   "id": "a8f57ec3-bb2f-4be5-99d1-e58b6c0b2726",
   "metadata": {
    "colab_type": "text",
    "id": "NuIJQEuV0EqI"
   },
   "source": [
    "## Monte Carlo Error Propagation\n",
    "\n",
    "We can also estimate the uncertainty in $a_1$ using simulation. See more about simulation in [this notebook.](../10-publish/04-Motivating-Example.ipynb) Below is the **main idea**.\n",
    "\n",
    "Repeat 1000s of times:\n",
    "* Add $\\mathcal{N}(0,0.1^2)$ uncertainty to velocity measurement\n",
    "* Recalculate $a_1$ and store result\n",
    "\n",
    "Then calculate the standard deviation of the stored $a_1$ results. In other words, we are simulated what would happen if we repeated the experiment many many times with an assumed random measurement error."
   ]
  },
  {
   "cell_type": "markdown",
   "id": "0d0a00dd-0678-4554-a46a-0ec0e4551517",
   "metadata": {},
   "source": [
    "<div style=\"background-color: rgba(0,0,255,0.05) ; padding: 10px; border: 1px solid darkblue;\"> \n",
    "<b>Class Activity</b>: With a partner, complete the code below.\n",
    "</div>"
   ]
  },
  {
   "cell_type": "code",
   "execution_count": 7,
   "id": "e62fccdb-5e77-4bf1-87fa-3a8e9e6099a0",
   "metadata": {
    "colab": {
     "base_uri": "https://localhost:8080/",
     "height": 334
    },
    "colab_type": "code",
    "executionInfo": {
     "elapsed": 1216,
     "status": "ok",
     "timestamp": 1555420725606,
     "user": {
      "displayName": "Alexander Dowling",
      "photoUrl": "https://lh3.googleusercontent.com/-LChdQ2m5OQE/AAAAAAAAAAI/AAAAAAAAAA0/JeXJe4vQJ7M/s64/photo.jpg",
      "userId": "00988067626794866502"
     },
     "user_tz": 240
    },
    "id": "XdbSJnUA0EqJ",
    "outputId": "ea7336a2-81ea-48ac-e53f-e0f676617bb1"
   },
   "outputs": [
    {
     "data": {
      "image/png": "[encoded data removed]",
      "text/plain": [
       "<Figure size 432x288 with 1 Axes>"
      ]
     },
     "metadata": {
      "needs_background": "light"
     },
     "output_type": "display_data"
    },
    {
     "name": "stdout",
     "output_type": "stream",
     "text": [
      "Mean:  5.121535194263346  m/s/s\n",
      "Median:  5.118891079594027  m/s/s\n",
      "Standard Deviation:  0.3262353104179126  m/s/s\n"
     ]
    }
   ],
   "source": [
    "# specify number of simulations\n",
    "nsim = 1000\n",
    "\n",
    "# create vector to store the results\n",
    "a1_sim = np.zeros(nsim)\n",
    "\n",
    "### BEGIN SOLUTION\n",
    "\n",
    "# repeat many times\n",
    "for i in range(0,nsim):\n",
    "    \n",
    "    # create normally distributed noise\n",
    "    # loc = mean\n",
    "    # scale = standard deviation\n",
    "    noise = np.random.normal(loc = 0,scale = v_std)\n",
    "    \n",
    "    # calculate a1, store result\n",
    "    a1_sim[i] = calc_a1(v + noise)\n",
    "\n",
    "### END SOLUTION\n",
    "    \n",
    "# create histogram of calculated a1 values\n",
    "plt.hist(a1_sim)\n",
    "plt.xlabel(\"Acceleration (m/s/s)\")\n",
    "plt.ylabel(\"Number of Simulations\")\n",
    "plt.show()\n",
    "\n",
    "# print some descriptive statistics\n",
    "print(\"Mean: \",np.mean(a1_sim),\" m/s/s\")\n",
    "print(\"Median: \",np.median(a1_sim),\" m/s/s\")\n",
    "print(\"Standard Deviation: \",np.std(a1_sim),\" m/s/s\")"
   ]
  },
  {
   "cell_type": "markdown",
   "id": "bc8d3965-d891-44df-b3fb-e1a6f182e742",
   "metadata": {
    "colab_type": "text",
    "id": "eHE_16v30EqM"
   },
   "source": [
    "This standard deviation matches the uncertainty calculated with the error propagation formulas."
   ]
  },
  {
   "cell_type": "markdown",
   "id": "c4d649c3-2110-421a-9d42-20a654524066",
   "metadata": {
    "colab_type": "text",
    "id": "e2NooU_b0EqM"
   },
   "source": [
    "## Student 2\n",
    "\n",
    "Using instantaneous velocity, we can calculate acceleration as follows:\n",
    "\n",
    "$$\n",
    "a_2 = \\frac{2 l}{t^2} \n",
    "$$\n",
    "\n",
    "First, lets recap the solution to the homework.\n"
   ]
  },
  {
   "cell_type": "markdown",
   "id": "5f280929-a1b0-4739-a7e0-90bff5856860",
   "metadata": {},
   "source": [
    "## Standard Error Propagation"
   ]
  },
  {
   "cell_type": "code",
   "execution_count": 8,
   "id": "bbfdb241-5959-4b51-afc0-54b7290b5280",
   "metadata": {
    "colab": {
     "base_uri": "https://localhost:8080/",
     "height": 34
    },
    "colab_type": "code",
    "executionInfo": {
     "elapsed": 1205,
     "status": "ok",
     "timestamp": 1555420725608,
     "user": {
      "displayName": "Alexander Dowling",
      "photoUrl": "https://lh3.googleusercontent.com/-LChdQ2m5OQE/AAAAAAAAAAI/AAAAAAAAAA0/JeXJe4vQJ7M/s64/photo.jpg",
      "userId": "00988067626794866502"
     },
     "user_tz": 240
    },
    "id": "Ej9GWUU30EqN",
    "outputId": "967b59e3-3d79-4155-9956-7a1bd378ebb6"
   },
   "outputs": [
    {
     "name": "stdout",
     "output_type": "stream",
     "text": [
      "Calculated acceleration:  5.04 +/- 0.16 m/s/s\n"
     ]
    }
   ],
   "source": [
    "## Results of 'standard' error analysis (from homework)\n",
    "\n",
    "# define distance travelled\n",
    "l = 1 # m\n",
    "\n",
    "# define function to calculate a2\n",
    "calc_a2 = lambda t: 2*l / t**2\n",
    "\n",
    "# define time measurement and uncertainty\n",
    "t = 0.63\n",
    "t_std = 0.01\n",
    "\n",
    "# calculate a2\n",
    "a2 = calc_a2(t)\n",
    "\n",
    "# estimate gradient with forward finite difference\n",
    "da2dt = (calc_a2(t + 1E-6) - a2)/(1E-6)\n",
    "\n",
    "# calculate uncertainty\n",
    "sigma_a2 = abs(da2dt)*t_std\n",
    "\n",
    "print(\"Calculated acceleration: \",round(a2,2),\"+/-\",round(sigma_a2,2),\"m/s/s\")"
   ]
  },
  {
   "cell_type": "markdown",
   "id": "3c8f5704-fa41-4447-9124-8f524a6d89d8",
   "metadata": {
    "colab_type": "text",
    "id": "0nRM4tuV0EqP"
   },
   "source": [
    "## Monte Carlo Error Propagation"
   ]
  },
  {
   "cell_type": "markdown",
   "id": "df5f0664-2a88-4fc0-8e06-044a2a5d598f",
   "metadata": {},
   "source": [
    "<div style=\"background-color: rgba(0,0,255,0.05) ; padding: 10px; border: 1px solid darkblue;\"> \n",
    "<b>Class Activity</b>: Apply the Monte Carlo approach to Student 2's calculation. Start by copying and pasting the code from above.\n",
    "</div>"
   ]
  },
  {
   "cell_type": "code",
   "execution_count": 9,
   "id": "32f1949a-7a57-4a34-808e-0f6cc46a0e31",
   "metadata": {
    "colab": {
     "base_uri": "https://localhost:8080/",
     "height": 334
    },
    "colab_type": "code",
    "executionInfo": {
     "elapsed": 810,
     "status": "ok",
     "timestamp": 1555422834586,
     "user": {
      "displayName": "Alexander Dowling",
      "photoUrl": "https://lh3.googleusercontent.com/-LChdQ2m5OQE/AAAAAAAAAAI/AAAAAAAAAA0/JeXJe4vQJ7M/s64/photo.jpg",
      "userId": "00988067626794866502"
     },
     "user_tz": 240
    },
    "id": "imPRrruk1izJ",
    "outputId": "8c8f7ea3-11e6-4c2c-e689-0234d4755d85"
   },
   "outputs": [
    {
     "data": {
      "image/png": "[encoded data removed]",
      "text/plain": [
       "<Figure size 432x288 with 1 Axes>"
      ]
     },
     "metadata": {
      "needs_background": "light"
     },
     "output_type": "display_data"
    },
    {
     "name": "stdout",
     "output_type": "stream",
     "text": [
      "Mean:  5.043768699373224  m/s/s\n",
      "Median:  5.041708280613408  m/s/s\n",
      "Standard Deviation:  0.1584484703524276  m/s/s\n"
     ]
    }
   ],
   "source": [
    "### BEGIN SOLUTION\n",
    "\n",
    "# specify number of simulations\n",
    "nsim = 1000\n",
    "\n",
    "# create vector to store the results\n",
    "a2_sim = np.zeros(nsim)\n",
    "\n",
    "# repeat many times\n",
    "for i in range(0,nsim):\n",
    "    \n",
    "    # create normally distributed noise\n",
    "    # loc = mean\n",
    "    # scale = standard deviation\n",
    "    noise = np.random.normal(loc = 0,scale = t_std)\n",
    "    \n",
    "    # calculate a1, store result\n",
    "    a2_sim[i] = calc_a2(t + noise)\n",
    "    \n",
    "# create histogram of calculated a1 values\n",
    "plt.hist(a2_sim)\n",
    "plt.xlabel(\"Acceleration (m/s/s)\")\n",
    "plt.ylabel(\"Number of Simulations\")\n",
    "plt.show()\n",
    "\n",
    "# print some descriptive statistics\n",
    "print(\"Mean: \",np.mean(a2_sim),\" m/s/s\")\n",
    "print(\"Median: \",np.median(a2_sim),\" m/s/s\")\n",
    "print(\"Standard Deviation: \",np.std(a2_sim),\" m/s/s\")\n",
    "\n",
    "### END SOLUTION"
   ]
  }
 ],
 "metadata": {
  "kernelspec": {
   "display_name": "Python 3 (ipykernel)",
   "language": "python",
   "name": "python3"
  },
  "language_info": {
   "codemirror_mode": {
    "name": "ipython",
    "version": 3
   },
   "file_extension": ".py",
   "mimetype": "text/x-python",
   "name": "python",
   "nbconvert_exporter": "python",
   "pygments_lexer": "ipython3",
   "version": "3.9.12"
  }
 },
 "nbformat": 4,
 "nbformat_minor": 5
}
