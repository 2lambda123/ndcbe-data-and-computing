{
 "cells": [
  {
   "cell_type": "markdown",
   "metadata": {
    "colab_type": "text",
    "id": "qYVuIBsFIntT"
   },
   "source": [
    "# Practice Problems\n"
   ]
  },
  {
   "cell_type": "markdown",
   "metadata": {
    "colab_type": "text",
    "id": "1PJ6EcCl06sV"
   },
   "source": [
    "## Learning Objectives\n",
    "\n",
    "After studying this notebook, completing the activities, engaging in class, and reading the book, you should be able to:\n",
    "* Apply error propagation strategies to example problems"
   ]
  },
  {
   "cell_type": "code",
   "execution_count": 1,
   "metadata": {
    "tags": []
   },
   "outputs": [],
   "source": [
    "import numpy as np\n",
    "import matplotlib.pyplot as plt"
   ]
  },
  {
   "cell_type": "markdown",
   "metadata": {},
   "source": [
    "### Practice Problem A\n",
    "\n",
    "Reference: §3.3, Problem 8 in Navidi.\n",
    "\n",
    "The refractive index $n$ of a piece of glass is related to the critical angle $\\theta$ by $n=1/\\sin \\theta$ Assume that the critical angle is measured to be 0.70 $\\pm$ 0.02 rad. Estimate the refractive index, and find the uncertainty in the estimate."
   ]
  },
  {
   "cell_type": "code",
   "execution_count": 2,
   "metadata": {
    "tags": [
     "remove-output"
    ]
   },
   "outputs": [
    {
     "name": "stdout",
     "output_type": "stream",
     "text": [
      "n =  1.552270326957104\n",
      "dn_dtheta =  -1.842920266932432\n",
      "s_n =  0.03685840533864864\n"
     ]
    }
   ],
   "source": [
    "### BEGIN SOLUTION\n",
    "theta = 0.70 # rad\n",
    "s_theta = 0.02 # rad\n",
    "\n",
    "n = 1/np.sin(theta)\n",
    "print(\"n = \",n)\n",
    "\n",
    "dn_dtheta = - np.cos(theta) / np.sin(theta)**2\n",
    "print(\"dn_dtheta = \",dn_dtheta)\n",
    "\n",
    "s_n = np.abs(dn_dtheta) * s_theta\n",
    "print(\"s_n = \",s_n)\n",
    "### END SOLUTION"
   ]
  },
  {
   "cell_type": "markdown",
   "metadata": {},
   "source": [
    "### Practice Problem B\n",
    "\n",
    "Reference: §3.4, Problem 8 in Navidi.\n",
    "\n",
    "The pressure $P$, temperature $T$, and volume $V$ of one mole of an ideal gas are related by the equation $PV=RT$ where $P$ is measured in kilopascals, $T$ is measured in kelvins, and $V$ is measured in liters, and $R = 8.314$ with consistent units.\n",
    "1. Assume that $P$ = 242.52 $\\pm$ 0.03 kPa and $V$ = 10.103 $\\pm$ 0.002 L. Estimate $T$, and find the uncertainty in the estimate.\n",
    "2. Assume that $P$ = 242.52 $\\pm$ 0.03 kPa and $T$ = 290.11 $\\pm$ 0.02 K. Estimate $V$, and find the uncertainty in the estimate.\n",
    "3. Assume that $V$ = 10.103 $\\pm$ 0.002 L and $T$ = 290.11 $\\pm$ 0.02 K. Estimate $P$, and find the uncertainty in the estimate.\n",
    "4. Repeat calculation 1 assuming $P$ and $V$ are not independent, but have a covariance of **10$^{-5}$** kPa-L."
   ]
  },
  {
   "cell_type": "code",
   "execution_count": 7,
   "metadata": {
    "tags": [
     "remove-output"
    ]
   },
   "outputs": [
    {
     "name": "stdout",
     "output_type": "stream",
     "text": [
      "P =  242.52  +/-  0.03  kPa\n",
      "V =  10.103  +/-  0.002  L\n",
      "T =  294.7052634111138 +/-  0.06879365869176007 K\n"
     ]
    }
   ],
   "source": [
    "# Part 1\n",
    "### BEGIN SOLUTION\n",
    "P = 242.52 # kPa\n",
    "sP = 0.03 # kPa\n",
    "\n",
    "V = 10.103 # L\n",
    "sV = 0.002 # L\n",
    "\n",
    "# T = 290.11 # K\n",
    "# sT = 0.02 # K\n",
    "\n",
    "R = 8.314\n",
    "\n",
    "T = P*V/R\n",
    "sT = T * np.sqrt((sP/P)**2 + (sV/V)**2)\n",
    "\n",
    "print(\"P = \",P,\" +/- \",sP,\" kPa\")\n",
    "print(\"V = \",V,\" +/- \",sV,\" L\")\n",
    "print(\"T = \",T, \"+/- \",sT, \"K\")\n",
    "### END SOLUTION"
   ]
  },
  {
   "cell_type": "code",
   "execution_count": 8,
   "metadata": {
    "tags": [
     "remove-output"
    ]
   },
   "outputs": [
    {
     "name": "stdout",
     "output_type": "stream",
     "text": [
      "P =  242.52  +/-  0.03  kPa\n",
      "V =  9.9454665182253  +/-  0.0014084202098616082  L\n",
      "T =  290.11 +/-  0.02 K\n"
     ]
    }
   ],
   "source": [
    "# Part 2\n",
    "### BEGIN SOLUTION\n",
    "P = 242.52 # kPa\n",
    "sP = 0.03 # kPa\n",
    "\n",
    "# V = 10.103 # L\n",
    "# sV = 0.002 # L\n",
    "\n",
    "T = 290.11 # K\n",
    "sT = 0.02 # K\n",
    "\n",
    "R = 8.314\n",
    "\n",
    "V = R*T/P\n",
    "sV = V * np.sqrt((sP/P)**2 + (sT/T)**2)\n",
    "\n",
    "print(\"P = \",P,\" +/- \",sP,\" kPa\")\n",
    "print(\"V = \",V,\" +/- \",sV,\" L\")\n",
    "print(\"T = \",T, \"+/- \",sT, \"K\")\n",
    "### END SOLUTION"
   ]
  },
  {
   "cell_type": "code",
   "execution_count": 9,
   "metadata": {
    "tags": [
     "remove-output"
    ]
   },
   "outputs": [
    {
     "name": "stdout",
     "output_type": "stream",
     "text": [
      "P =  238.73844798574683  +/-  0.05004472373860672  kPa\n",
      "V =  10.103  +/-  0.002  L\n",
      "T =  290.11 +/-  0.02 K\n"
     ]
    }
   ],
   "source": [
    "# Part 3\n",
    "### BEGIN SOLUTION\n",
    "# P = 242.52 # kPa\n",
    "# sP = 0.03 # kPa\n",
    "\n",
    "V = 10.103 # L\n",
    "sV = 0.002 # L\n",
    "\n",
    "T = 290.11 # K\n",
    "sT = 0.02 # K\n",
    "\n",
    "R = 8.314\n",
    "\n",
    "P = R*T/V\n",
    "sP = P * np.sqrt((sV/V)**2 + (sT/T)**2)\n",
    "\n",
    "print(\"P = \",P,\" +/- \",sP,\" kPa\")\n",
    "print(\"V = \",V,\" +/- \",sV,\" L\")\n",
    "print(\"T = \",T, \"+/- \",sT, \"K\")\n",
    "### END SOLUTION"
   ]
  },
  {
   "cell_type": "code",
   "execution_count": 10,
   "metadata": {
    "tags": [
     "remove-output"
    ]
   },
   "outputs": [
    {
     "name": "stdout",
     "output_type": "stream",
     "text": [
      "P =  242.52  +/-  0.03  kPa\n",
      "V =  10.103  +/-  0.002  L\n",
      "T =  294.7052634111138 +/-  0.07376655639974125 K\n"
     ]
    }
   ],
   "source": [
    "# Part 4\n",
    "### BEGIN SOLUTION\n",
    "P = 242.52 # kPa\n",
    "sP = 0.03 # kPa\n",
    "\n",
    "V = 10.103 # L\n",
    "sV = 0.002 # L\n",
    "\n",
    "# T = 290.11 # K\n",
    "# sT = 0.02 # K\n",
    "\n",
    "sPV = 1E-5 # kPa-L\n",
    "\n",
    "R = 8.314\n",
    "\n",
    "T = P*V/R\n",
    "sT = T * np.sqrt((sV/V)**2 + (sP/P)**2 + 2*sPV/P/V)\n",
    "\n",
    "print(\"P = \",P,\" +/- \",sP,\" kPa\")\n",
    "print(\"V = \",V,\" +/- \",sV,\" L\")\n",
    "print(\"T = \",T, \"+/- \",sT, \"K\")\n",
    "### END SOLUTION"
   ]
  },
  {
   "cell_type": "markdown",
   "metadata": {},
   "source": [
    "### Practice Problem C\n",
    "\n",
    "Reference: §3.4, Problem 16 in Navidi.\n",
    "\n",
    "According to Newton's law of cooling, the time $t$ needed for an object at an initial temperature $T_0$ to cool to a temperature $T$ in an environment with ambient temperature $T_a$ is given by\n",
    "\n",
    "$$t = \\frac{\\ln(T_0 - T_a)}{k} - \\frac{\\ln(T - T_a)}{k}$$\n",
    "\n",
    "where $k$ is a constant. Assume that for a certain type of container, $k$ = 0.025 min$^{-1}$. Let $t$ be the number of minutes needed to cool the container to a temperature of 50$^\\circ{}$F. Assume $T_0$ = 70.1 $\\pm$ 0.2$^\\circ{}$F and $T_a$ = 35.7 $\\pm$ 0.1$^\\circ{}$F. Estimate $t$, and find the uncertainty in the estimate."
   ]
  },
  {
   "cell_type": "code",
   "execution_count": 11,
   "metadata": {
    "tags": [
     "remove-output"
    ]
   },
   "outputs": [
    {
     "name": "stdout",
     "output_type": "stream",
     "text": [
      "t =  35.11188108453962  min\n",
      "\n"
     ]
    }
   ],
   "source": [
    "# Define function and calculate t\n",
    "\n",
    "### BEGIN SOLUTION\n",
    "\n",
    "def f(x):\n",
    "    ''' Calculate time\n",
    "    \n",
    "    Args:\n",
    "        x = [T0, Ta] in degrees F\n",
    "        \n",
    "    Returns:\n",
    "        t = time in minutes\n",
    "    '''\n",
    "    \n",
    "    k = 0.025 # 1/min\n",
    "    T = 50 # degrees F\n",
    "    \n",
    "    T0 = x[0]\n",
    "    Ta = x[1]\n",
    "    \n",
    "    t = np.log(T0 - Ta)/k - np.log(T - Ta)/k\n",
    "    \n",
    "    return t\n",
    "\n",
    "x0 = [70.1, 35.7]\n",
    "F0 = f(x0)\n",
    "print(\"t = \",F0,\" min\\n\")\n",
    "\n",
    "### END SOLUTION"
   ]
  },
  {
   "cell_type": "code",
   "execution_count": 12,
   "metadata": {},
   "outputs": [
    {
     "name": "stdout",
     "output_type": "stream",
     "text": [
      "deltaF = [1.16279068 1.63441221]\n"
     ]
    }
   ],
   "source": [
    "# Estimate gradient with finite difference\n",
    "### BEGIN SOLUTION\n",
    "\n",
    "deltaF = np.zeros(2)\n",
    "\n",
    "xc = x0.copy()\n",
    "\n",
    "eps = 1E-6\n",
    "\n",
    "for i in range(len(deltaF)):\n",
    "    # perturb element i\n",
    "    xc[i] += eps\n",
    "    \n",
    "    # apply forward finite different formula\n",
    "    deltaF[i] = (f(xc) - F0)/eps\n",
    "\n",
    "    # reset\n",
    "    xc[i] = x0[i]\n",
    "    \n",
    "print(\"deltaF =\",deltaF)\n",
    "\n",
    "### END SOLUTION"
   ]
  },
  {
   "cell_type": "code",
   "execution_count": 19,
   "metadata": {},
   "outputs": [
    {
     "name": "stdout",
     "output_type": "stream",
     "text": [
      "Covariance matrix of measurement errors:\n",
      "[[0.04 0.  ]\n",
      " [0.   0.01]]\n",
      "\n",
      "Uncertainty estimate:\n",
      "s_t =  0.2842469342469589  min\n"
     ]
    }
   ],
   "source": [
    "# Assemble covariance matrix and apply error propagation formula\n",
    "\n",
    "### BEGIN SOLUTION\n",
    "Sig = np.zeros((2,2))\n",
    "Sig[0,0] = 0.2**2\n",
    "Sig[1,1] = 0.1**2\n",
    "print(\"Covariance matrix of measurement errors:\")\n",
    "print(Sig)\n",
    "\n",
    "print(\"\\nUncertainty estimate:\")\n",
    "print(\"s_t = \",np.sqrt(deltaF @ Sig @ deltaF),\" min\")\n",
    "### END SOLUTION"
   ]
  }
 ],
 "metadata": {
  "colab": {
   "collapsed_sections": [],
   "name": "L15-Error-Propagation.ipynb",
   "provenance": [],
   "version": "0.3.2"
  },
  "kernelspec": {
   "display_name": "Python 3 (ipykernel)",
   "language": "python",
   "name": "python3"
  },
  "language_info": {
   "codemirror_mode": {
    "name": "ipython",
    "version": 3
   },
   "file_extension": ".py",
   "mimetype": "text/x-python",
   "name": "python",
   "nbconvert_exporter": "python",
   "pygments_lexer": "ipython3",
   "version": "3.9.12"
  }
 },
 "nbformat": 4,
 "nbformat_minor": 4
}
