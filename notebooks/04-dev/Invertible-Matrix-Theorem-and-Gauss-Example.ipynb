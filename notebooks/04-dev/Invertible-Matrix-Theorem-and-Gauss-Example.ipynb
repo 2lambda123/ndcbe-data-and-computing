{
 "cells": [
  {
   "cell_type": "markdown",
   "metadata": {
    "colab_type": "text",
    "id": "EFnithZEjWAA"
   },
   "source": [
    "# Invertible Matrix Theorem and Gaussian Elimination Example"
   ]
  },
  {
   "cell_type": "markdown",
   "metadata": {},
   "source": [
    "<b>Reference:</b> Chapter 7 of <em>Computational Nuclear Engineering and Radiological Science Using Python</em>, R. McClarren (2018)"
   ]
  },
  {
   "cell_type": "markdown",
   "metadata": {
    "colab_type": "text",
    "id": "cwS1zdP3jWAB"
   },
   "source": [
    "## Learning Objectives\n",
    "After studying this notebook, completing the activities, and asking questions in class, you should be able to:\n",
    "* Explain the Invertible Matrix Theorem to a classmate.\n",
    "* Solve mass balance problems with linear algebra and Gaussian elimination."
   ]
  },
  {
   "cell_type": "code",
   "execution_count": 1,
   "metadata": {
    "tags": []
   },
   "outputs": [],
   "source": [
    "import numpy as np\n",
    "import matplotlib.pyplot as plt\n",
    "#this line is only needed in Jupyter notebooks\n",
    "%matplotlib inline"
   ]
  },
  {
   "cell_type": "markdown",
   "metadata": {
    "colab_type": "text",
    "id": "v7Fr3KLpqA1Y"
   },
   "source": [
    "## Linear Algebra: Invertible Matrix Theorem\n",
    "\n",
    "Please review **The Invertible Matrix Theorem** in your linear algebra textbook (by Lay et al).\n",
    "\n",
    "To paraphrase, $ A $ is a square $n \\times n$ matrix. The following statements are equivalent (all true or all false):\n",
    "* $A$ is invertible\n",
    "* $A$ is row equivalent to the $n \\times n$ identify matrix\n",
    "* $A$ has $n$ pivot positions\n",
    "* $A x = 0$ has only the trivial solution\n",
    "* The columns of $A$ form a linearly independent set\n",
    "* The system $A x = b$ has at least one solution\n",
    "* Columns of $A$ span $\\mathbb{R}^n$\n",
    "* $A^T$ is invertible\n",
    "* The rank of $A$ is $n$\n",
    "* The determinant of $A$ is not zero\n"
   ]
  },
  {
   "cell_type": "markdown",
   "metadata": {},
   "source": [
    "## Mass Balance Example (Adapted from an Old Exam Problem)\n",
    "\n",
    "Let's see how Gaussian elimination can be applied to mass balance problems.\n",
    "\n",
    "We want to convert A into valuable product B using a process with a mixer, reactor, and separator.\n",
    "\n",
    "![flowsheet](../../media/1b_fig.png)\n",
    "\n",
    "A feed enters at a rate of 100 moles per hour and is composed 99 mole % A and the remainder B. Unfortunately, the reactor only has a 10% per pass conversion efficiency. This means that only 10% of A that enters the reactor undergoes the reaction $A \\rightarrow B$. The separator splits the reactor effluent into two streams: the product and the recycle. The separator operates such that for every 1 mole of A in the product streams, there are 4 moles of A in the recycle stream. Likewise, for every 8 moles of B in the product stream, there is 1 mole of B in the recycle stream.\n",
    "\n",
    "As shown in the figure above, we can model the process using component molar flowrates as variables. The first subscript is the stream ($m$, $e$, $r$, or $p$) and the second subscript is the component ($A$ or $B$)."
   ]
  },
  {
   "cell_type": "markdown",
   "metadata": {},
   "source": [
    "## Mathematical Model (Old Exam Question)"
   ]
  },
  {
   "cell_type": "markdown",
   "metadata": {},
   "source": [
    "Your classmate proposes the following mathematical model\n",
    "\n",
    "Equation A:   $n_{f,A} + n_{r,A} = n_{m,A}$\n",
    "\n",
    "Equation B:   $n_{f,B} + n_{r,B} = n_{m,B}$\n",
    "\n",
    "Equation C:   $0.9 ~ n_{m,A} = n_{e,A}$\n",
    "\n",
    "Equation D:   $n_{m,A} + n_{m,B} = n_{e,A} + n_{e,B}$\n",
    "\n",
    "Equation E:   $n_{e,A} = n_{p,A} + n_{r,A}$\n",
    "\n",
    "Equation F:   $n_{e,B} = n_{p,B} + n_{r,B}$\n",
    "\n",
    "Equation G:   $4 ~ n_{p,A} = n_{r,A}$\n",
    "\n",
    "Equation H:   $n_{p,B} = 8 ~ n_{r,B}$\n",
    "\n",
    "Multiple choice description options:\n",
    "1. Entire Process: Overall mole balance\n",
    "2. Entire Process: Component A mole balance\n",
    "3. Process: Component B mole balance\n",
    "4. Mixer: Overall mole balance\n",
    "5. Mixer: Component A mole balance\n",
    "6. Mixer: Component B mole balance\n",
    "7. Mixer: Summation equation\n",
    "8. Reactor: Overall mole balance\n",
    "9. Reactor: Component A mole balance\n",
    "10. Reactor: Component B mole balance\n",
    "11. Reactor: 90% of A fed into reactor is converted to B\n",
    "12. Reactor: 10% of A fed into reactor is converted to B\n",
    "13. Separator: Overall mole balance\n",
    "14. Separator: Component A mole balance\n",
    "15. Separator: Component B mole balance\n",
    "16. Separator: For every 4 moles of A in recycle, there are 1 moles of A in product\n",
    "17. Seperator: For every 1 mole of A in recycle, there are 4 moles of A in product\n",
    "18. Seperator: For every 8 moles of B in recycle, there are 1 moles of B in product\n",
    "19. Seperator: For every 1 mole of B in recycle, there are 1 moles of B in product\n",
    "20. None of the above\n",
    "\n",
    "Hint: Choice 19 does not include a typo. It is meant to be 1 and 1."
   ]
  },
  {
   "cell_type": "markdown",
   "metadata": {},
   "source": [
    "<div style=\"background-color: rgba(0,255,0,0.05) ; padding: 10px; border: 1px solid darkgreen;\"> \n",
    "<b>Home Activity</b>: Match each equation to a description above. Record your answer in the dictionary <tt>eqn_names</tt> using the keys A,...,F and the values 1,...,20.\n",
    "</div>"
   ]
  },
  {
   "cell_type": "code",
   "execution_count": 2,
   "metadata": {
    "tags": []
   },
   "outputs": [],
   "source": [
    "eqn_names = {'A':0, 'B':0, 'C':0, 'D':0, 'E':0, 'F':0, 'G':0, 'H':0}\n",
    "\n",
    "### BEGIN SOLUTION\n",
    "eqn_names = {'A':5, 'B':6, 'C':12, 'D':8, 'E':14, 'F':15, 'G':16, 'H':20}\n",
    "### END SOLUTION"
   ]
  },
  {
   "cell_type": "code",
   "execution_count": 3,
   "metadata": {
    "nbgrader": {
     "grade": true,
     "grade_id": "eqn-names",
     "locked": true,
     "points": "0.1",
     "solution": false
    },
    "tags": []
   },
   "outputs": [],
   "source": [
    "### BEGIN HIDDEN TESTS\n",
    "eqn_names_secret = {'A':5, 'B':6, 'C':12, 'D':8, 'E':14, 'F':15, 'G':16, 'H':20}\n",
    "\n",
    "for i in ['A','B','C','D','E','F','G','H']:\n",
    "    assert eqn_names[i] == eqn_names_secret[i], \"Description for equation \"+i+\" is not correct.\"\n",
    "\n",
    "### END HIDDEN TESTS"
   ]
  },
  {
   "cell_type": "markdown",
   "metadata": {},
   "source": [
    "## Matrix Form (Old Exam Question)"
   ]
  },
  {
   "cell_type": "markdown",
   "metadata": {},
   "source": [
    "$$\\mathbf{x} = \t\\begin{bmatrix}n_{m,A} \\\\\n",
    "\t\tn_{m,B} \\\\\n",
    "\t\tn_{e,A} \\\\\n",
    "\t\tn_{e,B} \\\\\n",
    "\t\tn_{p,A} \\\\\n",
    "\t\tn_{p,B} \\\\\n",
    "\t\tn_{r,A} \\\\\n",
    "\t\tn_{r,B} \\end{bmatrix}$$"
   ]
  },
  {
   "cell_type": "markdown",
   "metadata": {},
   "source": [
    "<div style=\"background-color: rgba(0,0,255,0.05) ; padding: 10px; border: 1px solid darkblue;\"> \n",
    "<b>Class Activity</b>: Convert the model to matrix form.\n",
    "</div>"
   ]
  },
  {
   "cell_type": "markdown",
   "metadata": {},
   "source": [
    "## Solve with Gaussian Elimination"
   ]
  },
  {
   "cell_type": "code",
   "execution_count": 4,
   "metadata": {
    "tags": []
   },
   "outputs": [],
   "source": [
    "def print_solution(x):\n",
    "    '''Print solution for this specific mole balance problem\n",
    "    \n",
    "    Argument:\n",
    "        x: solution vector\n",
    "        \n",
    "    Returns:\n",
    "        Nothing\n",
    "    \n",
    "    '''\n",
    "    \n",
    "    print(\"Stream description : Component = flowrate\")\n",
    "    print(\"mixer outlet: A = \",x[0])\n",
    "    print(\"mixer effluent: B = \",x[1])\n",
    "    print(\"reactor effluent: A = \",x[2])\n",
    "    print(\"reactor effluent: B = \",x[3])\n",
    "    print(\"product: A = \",x[4])\n",
    "    print(\"product: B = \",x[5])\n",
    "    print(\"recycle: A = \",x[6])\n",
    "    print(\"recycle: B = \",x[7])\n",
    "    "
   ]
  },
  {
   "cell_type": "markdown",
   "metadata": {},
   "source": [
    "<div style=\"background-color: rgba(0,0,255,0.05) ; padding: 10px; border: 1px solid darkblue;\"> \n",
    "<b>Class Activity</b>: Finish populating <tt>A_ex</tt> and <tt>b_ex</tt> below.\n",
    "</div>"
   ]
  },
  {
   "cell_type": "code",
   "execution_count": 5,
   "metadata": {
    "tags": [
     "remove-output"
    ]
   },
   "outputs": [
    {
     "name": "stdout",
     "output_type": "stream",
     "text": [
      "A=\n",
      " [[ 1.   0.   0.   0.   0.   0.  -1.   0. ]\n",
      " [ 0.   1.   0.   0.   0.   0.   0.  -1. ]\n",
      " [ 0.9  0.  -1.   0.   0.   0.   0.   0. ]\n",
      " [ 1.   1.  -1.  -1.   0.   0.   0.   0. ]\n",
      " [ 0.   0.   1.   0.  -1.   0.  -1.   0. ]\n",
      " [ 0.   0.   0.   1.   0.  -1.   0.  -1. ]\n",
      " [ 0.   0.   0.   0.   4.   0.  -1.   0. ]\n",
      " [ 0.   0.   0.   0.   0.   1.   0.  -8. ]]\n",
      "\n",
      "b=\n",
      " [99.  1.  0.  0.  0.  0.  0.  0.]\n"
     ]
    }
   ],
   "source": [
    "## Assemble A matrix\n",
    "A_ex = np.zeros((8,8))\n",
    "\n",
    "A_ex[0,0] = 1\n",
    "A_ex[0,6] = -1\n",
    "A_ex[1,1] = 1\n",
    "A_ex[1,7] = -1\n",
    "### BEGIN SOLUTION\n",
    "A_ex[2,0] = 0.9\n",
    "A_ex[2,2] = -1\n",
    "A_ex[3,0:2] = 1\n",
    "A_ex[3,2:4] = -1\n",
    "A_ex[4,2] = 1\n",
    "A_ex[4,4] = -1\n",
    "A_ex[4,6] = -1\n",
    "A_ex[5,3] = 1\n",
    "A_ex[5,5] = -1\n",
    "A_ex[5,7] = -1\n",
    "### END SOLUTION\n",
    "A_ex[6,4] = 4\n",
    "A_ex[6,6] = -1\n",
    "A_ex[7,5] = 1\n",
    "A_ex[7,7] = -8\n",
    "\n",
    "print(\"A=\\n\",A_ex)\n",
    "\n",
    "## Assemble b vector\n",
    "\n",
    "b_ex = np.zeros(8)\n",
    "b_ex[0] = 99\n",
    "### BEGIN SOLUTION\n",
    "b_ex[1] = 1\n",
    "### END SOLUTION\n",
    "print(\"\\nb=\\n\",b_ex)"
   ]
  },
  {
   "cell_type": "markdown",
   "metadata": {},
   "source": [
    "Run the following cell with the Gaussian Elimination code developed in the [last notebook](../02-publish/02-Gauss-Elimination.ipynb)."
   ]
  },
  {
   "cell_type": "code",
   "execution_count": 6,
   "metadata": {},
   "outputs": [],
   "source": [
    "def GaussElim(A,b,LOUD=False):\n",
    "    \"\"\"create a Gaussian elimination matrix for a system\n",
    "\n",
    "    Args:\n",
    "        A: N by N array\n",
    "        b: array of length N\n",
    "    Returns:\n",
    "        augmented matrix ready for back substitution\n",
    "    \"\"\"\n",
    "    # Extract dimensions of A\n",
    "    [Nrow, Ncol] = A.shape\n",
    "    \n",
    "    # Check that A is square\n",
    "    assert Nrow == Ncol\n",
    "    \n",
    "    # Check dimensions of b\n",
    "    N = Nrow\n",
    "    assert b.size == N\n",
    "    \n",
    "    # create augmented matrix, just like\n",
    "    # code at the start of motivating example\n",
    "    aug_matrix = np.zeros((N,N+1))\n",
    "    aug_matrix[0:N,0:N] = A.copy()\n",
    "    aug_matrix[:,N] = b.copy()\n",
    "    #augmented matrix is created\n",
    "    \n",
    "    if LOUD:\n",
    "        print(\"Augmented Matrix = \",aug_matrix)\n",
    "\n",
    "    # loop over columns\n",
    "    for column in range(0,N):\n",
    "        \n",
    "        # loop over rows\n",
    "        for row in range(column+1,N):\n",
    "            \n",
    "            # select row to modify\n",
    "            mod_row = aug_matrix[row,:]\n",
    "            \n",
    "            # modify entire row\n",
    "            mod_row -= (mod_row[column]/aug_matrix[column,column]*\n",
    "                        aug_matrix[column,:])\n",
    "\n",
    "            # overwrite row. Is this needed? Why or why not?\n",
    "            aug_matrix[row] = mod_row\n",
    "\n",
    "            \n",
    "        # end loop over rows\n",
    "        \n",
    "    # end loop over columns\n",
    "    \n",
    "    # return augmented matrix\n",
    "    return aug_matrix\n",
    "\n",
    "def swap_rows(A, a, b):\n",
    "    \"\"\"Rows two rows in a matrix, switch row a with row b\n",
    "    \n",
    "    args: \n",
    "    A: matrix to perform row swaps on\n",
    "    a: row index of matrix\n",
    "    b: row index of matrix\n",
    "    \n",
    "    returns: nothing\n",
    "    \n",
    "    side effects:\n",
    "    changes A to rows a and b swapped\n",
    "    \"\"\"\n",
    "    \n",
    "    # A negative index will give unexpected behavior\n",
    "    assert (a>=0) and (b>=0)\n",
    "    N = A.shape[0] #number of rows\n",
    "    assert (a<N) and (b<N) #less than because 0-based indexing\n",
    "    \n",
    "    # create a temporary variable to store row a\n",
    "    temp = A[a,:].copy()\n",
    "    \n",
    "    # move row b values into the location of row a\n",
    "    A[a,:] = A[b,:].copy()\n",
    "    \n",
    "    # move row a values (stored in temp) into the location of row a\n",
    "    A[b,:] = temp.copy()\n",
    "\n",
    "\n",
    "def BackSub(aug_matrix,z_tol=1E-8):\n",
    "    \"\"\"back substitute a N by N system after Gauss elimination\n",
    "\n",
    "    Args:\n",
    "        aug_matrix: augmented matrix with zeros below the diagonal [numpy 2D array]\n",
    "        z_tol: tolerance for checking for zeros below the diagonal [float]\n",
    "    Returns:\n",
    "        x: length N vector, solution to linear system [numpy 1D array]\n",
    "    \"\"\"\n",
    "    [Nrow, Ncol] = aug_matrix.shape\n",
    "    try:\n",
    "        # check the dimensions\n",
    "        assert Nrow + 1 == Ncol\n",
    "    except AssertionError:\n",
    "        print(\"Dimension checks failed.\")\n",
    "        print(\"Nrow = \",Nrow)\n",
    "        print(\"Ncol = \",Ncol)\n",
    "        raise\n",
    "\n",
    "    assert type(z_tol) is float, \"z_tol must be a float\"\n",
    "        \n",
    "    # check augmented matrix is all zeros below the diagonal\n",
    "    for r in range(Nrow):\n",
    "        for c in range(0,r):\n",
    "            assert np.abs(aug_matrix[r,c]) < z_tol, \"\\nWarning! Nonzero in position \"+str(r)+\",\"+str(c)\n",
    "\n",
    "    # create vector of zeros to store solution\n",
    "    x = np.zeros(Nrow)\n",
    "    \n",
    "    # loop over the rows starting at the bottom\n",
    "    for row in range(Nrow-1,-1,-1):\n",
    "        RHS = aug_matrix[row,Nrow] # far column\n",
    "\n",
    "        # loop over the columns to the right of the diagonal\n",
    "        for column in range(row+1,Nrow):\n",
    "            \n",
    "            # subtract, i.e., substitute the already known values\n",
    "            RHS -= x[column]*aug_matrix[row,column]\n",
    "\n",
    "        # compute the element of x corresponding to the current row\n",
    "        x[row] = RHS/aug_matrix[row,row]\n",
    "        \n",
    "    return x\n",
    "\n",
    "def GaussElimPivotSolve(A,b,LOUD=False):\n",
    "    \"\"\"create a Gaussian elimination with pivoting matrix for a system\n",
    "\n",
    "    Args:\n",
    "        A: N by N array\n",
    "        b: array of length N\n",
    "    Returns:\n",
    "        solution vector in the original order\n",
    "    \"\"\"\n",
    "    \n",
    "    # checks dimensions\n",
    "    [Nrow, Ncol] = A.shape\n",
    "    assert Nrow == Ncol\n",
    "    N = Nrow\n",
    "    \n",
    "    \n",
    "    #create augmented matrix\n",
    "    aug_matrix = np.zeros((N,N+1))\n",
    "    aug_matrix[0:N,0:N] = A\n",
    "    aug_matrix[:,N] = b\n",
    "    #augmented matrix is created\n",
    "    \n",
    "    #create scale factors \n",
    "    s = np.zeros(N)\n",
    "    count = 0\n",
    "    for row in aug_matrix[:,0:N]: #don't include b\n",
    "        s[count] = np.max(np.fabs(row))\n",
    "        count += 1\n",
    "  \n",
    "    # print diagnostics if requested\n",
    "    if LOUD:\n",
    "        print(\"s =\",s)\n",
    "        print(\"Original Augmented Matrix is\\n\",aug_matrix)\n",
    "    \n",
    "    #perform elimination\n",
    "    for column in range(0,N):\n",
    "        \n",
    "        ## swap rows if needed\n",
    "        # find largest position\n",
    "        largest_pos = (np.argmax(np.fabs(aug_matrix[column:N,column]/\n",
    "                                         s[column:N])) + column)\n",
    "        \n",
    "        # check if current column is largest position\n",
    "        if (largest_pos != column):\n",
    "            # if not, swap rows\n",
    "            if (LOUD):\n",
    "                print(\"Swapping row\",column,\"with row\",largest_pos)\n",
    "                print(\"Pre swap\\n\",aug_matrix)\n",
    "            swap_rows(aug_matrix,column,largest_pos)\n",
    "            \n",
    "            #re-order s\n",
    "            tmp = s[column]\n",
    "            s[column] = s[largest_pos]\n",
    "            s[largest_pos] = tmp\n",
    "            if (LOUD):\n",
    "                print(\"A =\\n\",aug_matrix)\n",
    "                print(\"new_s =\\n\", s)\n",
    "        \n",
    "        #finish off the row\n",
    "        for row in range(column+1,N):\n",
    "            mod_row = aug_matrix[row,:]\n",
    "            mod_row = mod_row - mod_row[column]/aug_matrix[column,column]*aug_matrix[column,:]\n",
    "            aug_matrix[row] = mod_row\n",
    "    \n",
    "    #now back solve\n",
    "    if LOUD:\n",
    "        print(\"Final aug_matrix is\\n\",aug_matrix)\n",
    "    x = BackSub(aug_matrix)\n",
    "    return x"
   ]
  },
  {
   "cell_type": "code",
   "execution_count": 7,
   "metadata": {
    "tags": [
     "hide-output"
    ]
   },
   "outputs": [
    {
     "name": "stdout",
     "output_type": "stream",
     "text": [
      "s = [1. 1. 1. 1. 1. 1. 4. 8.]\n",
      "Original Augmented Matrix is\n",
      " [[ 1.   0.   0.   0.   0.   0.  -1.   0.  99. ]\n",
      " [ 0.   1.   0.   0.   0.   0.   0.  -1.   1. ]\n",
      " [ 0.9  0.  -1.   0.   0.   0.   0.   0.   0. ]\n",
      " [ 1.   1.  -1.  -1.   0.   0.   0.   0.   0. ]\n",
      " [ 0.   0.   1.   0.  -1.   0.  -1.   0.   0. ]\n",
      " [ 0.   0.   0.   1.   0.  -1.   0.  -1.   0. ]\n",
      " [ 0.   0.   0.   0.   4.   0.  -1.   0.   0. ]\n",
      " [ 0.   0.   0.   0.   0.   1.   0.  -8.   0. ]]\n",
      "Final aug_matrix is\n",
      " [[ 1.00000000e+00  0.00000000e+00  0.00000000e+00  0.00000000e+00\n",
      "   0.00000000e+00  0.00000000e+00 -1.00000000e+00  0.00000000e+00\n",
      "   9.90000000e+01]\n",
      " [ 0.00000000e+00  1.00000000e+00  0.00000000e+00  0.00000000e+00\n",
      "   0.00000000e+00  0.00000000e+00  0.00000000e+00 -1.00000000e+00\n",
      "   1.00000000e+00]\n",
      " [ 0.00000000e+00  0.00000000e+00 -1.00000000e+00  0.00000000e+00\n",
      "   0.00000000e+00  0.00000000e+00  9.00000000e-01  0.00000000e+00\n",
      "  -8.91000000e+01]\n",
      " [ 0.00000000e+00  0.00000000e+00  0.00000000e+00 -1.00000000e+00\n",
      "   0.00000000e+00  0.00000000e+00  1.00000000e-01  1.00000000e+00\n",
      "  -1.09000000e+01]\n",
      " [ 0.00000000e+00  0.00000000e+00  0.00000000e+00  0.00000000e+00\n",
      "  -1.00000000e+00  0.00000000e+00 -1.00000000e-01  0.00000000e+00\n",
      "  -8.91000000e+01]\n",
      " [ 0.00000000e+00  0.00000000e+00  0.00000000e+00  0.00000000e+00\n",
      "   0.00000000e+00 -1.00000000e+00  1.00000000e-01  0.00000000e+00\n",
      "  -1.09000000e+01]\n",
      " [ 0.00000000e+00  0.00000000e+00  0.00000000e+00  0.00000000e+00\n",
      "   0.00000000e+00  0.00000000e+00 -1.40000000e+00  0.00000000e+00\n",
      "  -3.56400000e+02]\n",
      " [ 0.00000000e+00  0.00000000e+00  0.00000000e+00  0.00000000e+00\n",
      "   0.00000000e+00  0.00000000e+00  1.38777878e-17 -8.00000000e+00\n",
      "  -3.63571429e+01]]\n"
     ]
    }
   ],
   "source": [
    "## Solve\n",
    "x = GaussElimPivotSolve(A_ex, b_ex, LOUD=True)"
   ]
  },
  {
   "cell_type": "code",
   "execution_count": 8,
   "metadata": {
    "tags": [
     "hide-output"
    ]
   },
   "outputs": [
    {
     "name": "stdout",
     "output_type": "stream",
     "text": [
      "Stream description : Component = flowrate\n",
      "mixer outlet: A =  353.5714285714286\n",
      "mixer effluent: B =  5.544642857142856\n",
      "reactor effluent: A =  318.2142857142858\n",
      "reactor effluent: B =  40.9017857142857\n",
      "product: A =  63.64285714285715\n",
      "product: B =  36.35714285714285\n",
      "recycle: A =  254.5714285714286\n",
      "recycle: B =  4.544642857142856\n"
     ]
    }
   ],
   "source": [
    "print_solution(x)"
   ]
  },
  {
   "cell_type": "markdown",
   "metadata": {},
   "source": [
    "## Flip the order of the row"
   ]
  },
  {
   "cell_type": "markdown",
   "metadata": {},
   "source": [
    "What happens if we write the equations in reserve order?"
   ]
  },
  {
   "cell_type": "code",
   "execution_count": 9,
   "metadata": {},
   "outputs": [
    {
     "name": "stdout",
     "output_type": "stream",
     "text": [
      "A=\n",
      " [[ 0.   0.   0.   0.   0.   1.   0.  -8. ]\n",
      " [ 0.   0.   0.   0.   4.   0.  -1.   0. ]\n",
      " [ 0.   0.   0.   1.   0.  -1.   0.  -1. ]\n",
      " [ 0.   0.   1.   0.  -1.   0.  -1.   0. ]\n",
      " [ 1.   1.  -1.  -1.   0.   0.   0.   0. ]\n",
      " [ 0.9  0.  -1.   0.   0.   0.   0.   0. ]\n",
      " [ 0.   1.   0.   0.   0.   0.   0.  -1. ]\n",
      " [ 1.   0.   0.   0.   0.   0.  -1.   0. ]]\n",
      "\n",
      "b=\n",
      " [ 0.  0.  0.  0.  0.  0.  1. 99.]\n"
     ]
    }
   ],
   "source": [
    "A_flip = np.flipud(A_ex.copy())\n",
    "b_flip = np.flipud(b_ex.copy())\n",
    "print(\"A=\\n\",A_flip)\n",
    "print(\"\\nb=\\n\",b_flip)"
   ]
  },
  {
   "cell_type": "code",
   "execution_count": 10,
   "metadata": {
    "tags": [
     "hide-output"
    ]
   },
   "outputs": [
    {
     "name": "stdout",
     "output_type": "stream",
     "text": [
      "s = [8. 4. 1. 1. 1. 1. 1. 1.]\n",
      "Original Augmented Matrix is\n",
      " [[ 0.   0.   0.   0.   0.   1.   0.  -8.   0. ]\n",
      " [ 0.   0.   0.   0.   4.   0.  -1.   0.   0. ]\n",
      " [ 0.   0.   0.   1.   0.  -1.   0.  -1.   0. ]\n",
      " [ 0.   0.   1.   0.  -1.   0.  -1.   0.   0. ]\n",
      " [ 1.   1.  -1.  -1.   0.   0.   0.   0.   0. ]\n",
      " [ 0.9  0.  -1.   0.   0.   0.   0.   0.   0. ]\n",
      " [ 0.   1.   0.   0.   0.   0.   0.  -1.   1. ]\n",
      " [ 1.   0.   0.   0.   0.   0.  -1.   0.  99. ]]\n",
      "Swapping row 0 with row 4\n",
      "Pre swap\n",
      " [[ 0.   0.   0.   0.   0.   1.   0.  -8.   0. ]\n",
      " [ 0.   0.   0.   0.   4.   0.  -1.   0.   0. ]\n",
      " [ 0.   0.   0.   1.   0.  -1.   0.  -1.   0. ]\n",
      " [ 0.   0.   1.   0.  -1.   0.  -1.   0.   0. ]\n",
      " [ 1.   1.  -1.  -1.   0.   0.   0.   0.   0. ]\n",
      " [ 0.9  0.  -1.   0.   0.   0.   0.   0.   0. ]\n",
      " [ 0.   1.   0.   0.   0.   0.   0.  -1.   1. ]\n",
      " [ 1.   0.   0.   0.   0.   0.  -1.   0.  99. ]]\n",
      "A =\n",
      " [[ 1.   1.  -1.  -1.   0.   0.   0.   0.   0. ]\n",
      " [ 0.   0.   0.   0.   4.   0.  -1.   0.   0. ]\n",
      " [ 0.   0.   0.   1.   0.  -1.   0.  -1.   0. ]\n",
      " [ 0.   0.   1.   0.  -1.   0.  -1.   0.   0. ]\n",
      " [ 0.   0.   0.   0.   0.   1.   0.  -8.   0. ]\n",
      " [ 0.9  0.  -1.   0.   0.   0.   0.   0.   0. ]\n",
      " [ 0.   1.   0.   0.   0.   0.   0.  -1.   1. ]\n",
      " [ 1.   0.   0.   0.   0.   0.  -1.   0.  99. ]]\n",
      "new_s =\n",
      " [1. 4. 1. 1. 8. 1. 1. 1.]\n",
      "Swapping row 1 with row 6\n",
      "Pre swap\n",
      " [[ 1.   1.  -1.  -1.   0.   0.   0.   0.   0. ]\n",
      " [ 0.   0.   0.   0.   4.   0.  -1.   0.   0. ]\n",
      " [ 0.   0.   0.   1.   0.  -1.   0.  -1.   0. ]\n",
      " [ 0.   0.   1.   0.  -1.   0.  -1.   0.   0. ]\n",
      " [ 0.   0.   0.   0.   0.   1.   0.  -8.   0. ]\n",
      " [ 0.  -0.9 -0.1  0.9  0.   0.   0.   0.   0. ]\n",
      " [ 0.   1.   0.   0.   0.   0.   0.  -1.   1. ]\n",
      " [ 0.  -1.   1.   1.   0.   0.  -1.   0.  99. ]]\n",
      "A =\n",
      " [[ 1.   1.  -1.  -1.   0.   0.   0.   0.   0. ]\n",
      " [ 0.   1.   0.   0.   0.   0.   0.  -1.   1. ]\n",
      " [ 0.   0.   0.   1.   0.  -1.   0.  -1.   0. ]\n",
      " [ 0.   0.   1.   0.  -1.   0.  -1.   0.   0. ]\n",
      " [ 0.   0.   0.   0.   0.   1.   0.  -8.   0. ]\n",
      " [ 0.  -0.9 -0.1  0.9  0.   0.   0.   0.   0. ]\n",
      " [ 0.   0.   0.   0.   4.   0.  -1.   0.   0. ]\n",
      " [ 0.  -1.   1.   1.   0.   0.  -1.   0.  99. ]]\n",
      "new_s =\n",
      " [1. 1. 1. 1. 8. 1. 4. 1.]\n",
      "Swapping row 2 with row 3\n",
      "Pre swap\n",
      " [[ 1.e+00  1.e+00 -1.e+00 -1.e+00  0.e+00  0.e+00  0.e+00  0.e+00  0.e+00]\n",
      " [ 0.e+00  1.e+00  0.e+00  0.e+00  0.e+00  0.e+00  0.e+00 -1.e+00  1.e+00]\n",
      " [ 0.e+00  0.e+00  0.e+00  1.e+00  0.e+00 -1.e+00  0.e+00 -1.e+00  0.e+00]\n",
      " [ 0.e+00  0.e+00  1.e+00  0.e+00 -1.e+00  0.e+00 -1.e+00  0.e+00  0.e+00]\n",
      " [ 0.e+00  0.e+00  0.e+00  0.e+00  0.e+00  1.e+00  0.e+00 -8.e+00  0.e+00]\n",
      " [ 0.e+00  0.e+00 -1.e-01  9.e-01  0.e+00  0.e+00  0.e+00 -9.e-01  9.e-01]\n",
      " [ 0.e+00  0.e+00  0.e+00  0.e+00  4.e+00  0.e+00 -1.e+00  0.e+00  0.e+00]\n",
      " [ 0.e+00  0.e+00  1.e+00  1.e+00  0.e+00  0.e+00 -1.e+00 -1.e+00  1.e+02]]\n",
      "A =\n",
      " [[ 1.e+00  1.e+00 -1.e+00 -1.e+00  0.e+00  0.e+00  0.e+00  0.e+00  0.e+00]\n",
      " [ 0.e+00  1.e+00  0.e+00  0.e+00  0.e+00  0.e+00  0.e+00 -1.e+00  1.e+00]\n",
      " [ 0.e+00  0.e+00  1.e+00  0.e+00 -1.e+00  0.e+00 -1.e+00  0.e+00  0.e+00]\n",
      " [ 0.e+00  0.e+00  0.e+00  1.e+00  0.e+00 -1.e+00  0.e+00 -1.e+00  0.e+00]\n",
      " [ 0.e+00  0.e+00  0.e+00  0.e+00  0.e+00  1.e+00  0.e+00 -8.e+00  0.e+00]\n",
      " [ 0.e+00  0.e+00 -1.e-01  9.e-01  0.e+00  0.e+00  0.e+00 -9.e-01  9.e-01]\n",
      " [ 0.e+00  0.e+00  0.e+00  0.e+00  4.e+00  0.e+00 -1.e+00  0.e+00  0.e+00]\n",
      " [ 0.e+00  0.e+00  1.e+00  1.e+00  0.e+00  0.e+00 -1.e+00 -1.e+00  1.e+02]]\n",
      "new_s =\n",
      " [1. 1. 1. 1. 8. 1. 4. 1.]\n",
      "Swapping row 4 with row 6\n",
      "Pre swap\n",
      " [[ 1.e+00  1.e+00 -1.e+00 -1.e+00  0.e+00  0.e+00  0.e+00  0.e+00  0.e+00]\n",
      " [ 0.e+00  1.e+00  0.e+00  0.e+00  0.e+00  0.e+00  0.e+00 -1.e+00  1.e+00]\n",
      " [ 0.e+00  0.e+00  1.e+00  0.e+00 -1.e+00  0.e+00 -1.e+00  0.e+00  0.e+00]\n",
      " [ 0.e+00  0.e+00  0.e+00  1.e+00  0.e+00 -1.e+00  0.e+00 -1.e+00  0.e+00]\n",
      " [ 0.e+00  0.e+00  0.e+00  0.e+00  0.e+00  1.e+00  0.e+00 -8.e+00  0.e+00]\n",
      " [ 0.e+00  0.e+00  0.e+00  0.e+00 -1.e-01  9.e-01 -1.e-01  0.e+00  9.e-01]\n",
      " [ 0.e+00  0.e+00  0.e+00  0.e+00  4.e+00  0.e+00 -1.e+00  0.e+00  0.e+00]\n",
      " [ 0.e+00  0.e+00  0.e+00  0.e+00  1.e+00  1.e+00  0.e+00  0.e+00  1.e+02]]\n",
      "A =\n",
      " [[ 1.e+00  1.e+00 -1.e+00 -1.e+00  0.e+00  0.e+00  0.e+00  0.e+00  0.e+00]\n",
      " [ 0.e+00  1.e+00  0.e+00  0.e+00  0.e+00  0.e+00  0.e+00 -1.e+00  1.e+00]\n",
      " [ 0.e+00  0.e+00  1.e+00  0.e+00 -1.e+00  0.e+00 -1.e+00  0.e+00  0.e+00]\n",
      " [ 0.e+00  0.e+00  0.e+00  1.e+00  0.e+00 -1.e+00  0.e+00 -1.e+00  0.e+00]\n",
      " [ 0.e+00  0.e+00  0.e+00  0.e+00  4.e+00  0.e+00 -1.e+00  0.e+00  0.e+00]\n",
      " [ 0.e+00  0.e+00  0.e+00  0.e+00 -1.e-01  9.e-01 -1.e-01  0.e+00  9.e-01]\n",
      " [ 0.e+00  0.e+00  0.e+00  0.e+00  0.e+00  1.e+00  0.e+00 -8.e+00  0.e+00]\n",
      " [ 0.e+00  0.e+00  0.e+00  0.e+00  1.e+00  1.e+00  0.e+00  0.e+00  1.e+02]]\n",
      "new_s =\n",
      " [1. 1. 1. 1. 4. 1. 8. 1.]\n",
      "Swapping row 5 with row 7\n",
      "Pre swap\n",
      " [[  1.      1.     -1.     -1.      0.      0.      0.      0.      0.   ]\n",
      " [  0.      1.      0.      0.      0.      0.      0.     -1.      1.   ]\n",
      " [  0.      0.      1.      0.     -1.      0.     -1.      0.      0.   ]\n",
      " [  0.      0.      0.      1.      0.     -1.      0.     -1.      0.   ]\n",
      " [  0.      0.      0.      0.      4.      0.     -1.      0.      0.   ]\n",
      " [  0.      0.      0.      0.      0.      0.9    -0.125   0.      0.9  ]\n",
      " [  0.      0.      0.      0.      0.      1.      0.     -8.      0.   ]\n",
      " [  0.      0.      0.      0.      0.      1.      0.25    0.    100.   ]]\n",
      "A =\n",
      " [[  1.      1.     -1.     -1.      0.      0.      0.      0.      0.   ]\n",
      " [  0.      1.      0.      0.      0.      0.      0.     -1.      1.   ]\n",
      " [  0.      0.      1.      0.     -1.      0.     -1.      0.      0.   ]\n",
      " [  0.      0.      0.      1.      0.     -1.      0.     -1.      0.   ]\n",
      " [  0.      0.      0.      0.      4.      0.     -1.      0.      0.   ]\n",
      " [  0.      0.      0.      0.      0.      1.      0.25    0.    100.   ]\n",
      " [  0.      0.      0.      0.      0.      1.      0.     -8.      0.   ]\n",
      " [  0.      0.      0.      0.      0.      0.9    -0.125   0.      0.9  ]]\n",
      "new_s =\n",
      " [1. 1. 1. 1. 4. 1. 8. 1.]\n",
      "Swapping row 6 with row 7\n",
      "Pre swap\n",
      " [[   1.      1.     -1.     -1.      0.      0.      0.      0.      0.  ]\n",
      " [   0.      1.      0.      0.      0.      0.      0.     -1.      1.  ]\n",
      " [   0.      0.      1.      0.     -1.      0.     -1.      0.      0.  ]\n",
      " [   0.      0.      0.      1.      0.     -1.      0.     -1.      0.  ]\n",
      " [   0.      0.      0.      0.      4.      0.     -1.      0.      0.  ]\n",
      " [   0.      0.      0.      0.      0.      1.      0.25    0.    100.  ]\n",
      " [   0.      0.      0.      0.      0.      0.     -0.25   -8.   -100.  ]\n",
      " [   0.      0.      0.      0.      0.      0.     -0.35    0.    -89.1 ]]\n",
      "A =\n",
      " [[   1.      1.     -1.     -1.      0.      0.      0.      0.      0.  ]\n",
      " [   0.      1.      0.      0.      0.      0.      0.     -1.      1.  ]\n",
      " [   0.      0.      1.      0.     -1.      0.     -1.      0.      0.  ]\n",
      " [   0.      0.      0.      1.      0.     -1.      0.     -1.      0.  ]\n",
      " [   0.      0.      0.      0.      4.      0.     -1.      0.      0.  ]\n",
      " [   0.      0.      0.      0.      0.      1.      0.25    0.    100.  ]\n",
      " [   0.      0.      0.      0.      0.      0.     -0.35    0.    -89.1 ]\n",
      " [   0.      0.      0.      0.      0.      0.     -0.25   -8.   -100.  ]]\n",
      "new_s =\n",
      " [1. 1. 1. 1. 4. 1. 1. 8.]\n",
      "Final aug_matrix is\n",
      " [[  1.           1.          -1.          -1.           0.\n",
      "    0.           0.           0.           0.        ]\n",
      " [  0.           1.           0.           0.           0.\n",
      "    0.           0.          -1.           1.        ]\n",
      " [  0.           0.           1.           0.          -1.\n",
      "    0.          -1.           0.           0.        ]\n",
      " [  0.           0.           0.           1.           0.\n",
      "   -1.           0.          -1.           0.        ]\n",
      " [  0.           0.           0.           0.           4.\n",
      "    0.          -1.           0.           0.        ]\n",
      " [  0.           0.           0.           0.           0.\n",
      "    1.           0.25         0.         100.        ]\n",
      " [  0.           0.           0.           0.           0.\n",
      "    0.          -0.35         0.         -89.1       ]\n",
      " [  0.           0.           0.           0.           0.\n",
      "    0.           0.          -8.         -36.35714286]]\n"
     ]
    }
   ],
   "source": [
    "x_flip = GaussElimPivotSolve(A_flip, b_flip, LOUD=True)"
   ]
  },
  {
   "cell_type": "code",
   "execution_count": 11,
   "metadata": {
    "tags": [
     "hide-output"
    ]
   },
   "outputs": [
    {
     "name": "stdout",
     "output_type": "stream",
     "text": [
      "Stream description : Component = flowrate\n",
      "mixer outlet: A =  353.5714285714286\n",
      "mixer effluent: B =  5.544642857142858\n",
      "reactor effluent: A =  318.2142857142857\n",
      "reactor effluent: B =  40.90178571428571\n",
      "product: A =  63.642857142857146\n",
      "product: B =  36.357142857142854\n",
      "recycle: A =  254.57142857142858\n",
      "recycle: B =  4.544642857142858\n"
     ]
    }
   ],
   "source": [
    "print_solution(x_flip)"
   ]
  },
  {
   "cell_type": "markdown",
   "metadata": {},
   "source": [
    "We see that we get the same order but need to pivot! Let's try without pivoting."
   ]
  },
  {
   "cell_type": "code",
   "execution_count": 12,
   "metadata": {},
   "outputs": [
    {
     "name": "stdout",
     "output_type": "stream",
     "text": [
      "\n",
      "aug_mat = \n",
      " [[ 0.  0.  0.  0.  0.  1.  0. -8.  0.]\n",
      " [nan nan nan nan nan nan nan nan nan]\n",
      " [nan nan nan nan nan nan nan nan nan]\n",
      " [nan nan nan nan nan nan nan nan nan]\n",
      " [nan nan nan nan nan nan nan nan nan]\n",
      " [nan nan nan nan nan nan nan nan nan]\n",
      " [nan nan nan nan nan nan nan nan nan]\n",
      " [nan nan nan nan nan nan nan nan nan]]\n"
     ]
    },
    {
     "name": "stderr",
     "output_type": "stream",
     "text": [
      "/var/folders/3w/vr4xmyqs451dg23xk88pqcg00000gq/T/ipykernel_47904/826583952.py:40: RuntimeWarning: invalid value encountered in double_scalars\n",
      "  mod_row -= (mod_row[column]/aug_matrix[column,column]*\n",
      "/var/folders/3w/vr4xmyqs451dg23xk88pqcg00000gq/T/ipykernel_47904/826583952.py:40: RuntimeWarning: divide by zero encountered in double_scalars\n",
      "  mod_row -= (mod_row[column]/aug_matrix[column,column]*\n",
      "/var/folders/3w/vr4xmyqs451dg23xk88pqcg00000gq/T/ipykernel_47904/826583952.py:40: RuntimeWarning: invalid value encountered in multiply\n",
      "  mod_row -= (mod_row[column]/aug_matrix[column,column]*\n"
     ]
    }
   ],
   "source": [
    "aug_mat = GaussElim(A_flip,b_flip)\n",
    "print(\"\\naug_mat = \\n\",aug_mat)"
   ]
  },
  {
   "cell_type": "markdown",
   "metadata": {},
   "source": [
    "For this problem, we must use pivoting if we start with the equations in a certain order."
   ]
  },
  {
   "cell_type": "markdown",
   "metadata": {},
   "source": [
    "## Replace the 8th equation with an overall mole balance"
   ]
  },
  {
   "cell_type": "markdown",
   "metadata": {},
   "source": [
    "$$n_{p,A} + n_{p_B} = n_{f,A} + n_{f,B} = 100$$"
   ]
  },
  {
   "cell_type": "code",
   "execution_count": 13,
   "metadata": {},
   "outputs": [
    {
     "name": "stdout",
     "output_type": "stream",
     "text": [
      "A=\n",
      " [[ 1.   0.   0.   0.   0.   0.  -1.   0. ]\n",
      " [ 0.   1.   0.   0.   0.   0.   0.  -1. ]\n",
      " [ 0.9  0.  -1.   0.   0.   0.   0.   0. ]\n",
      " [ 1.   1.  -1.  -1.   0.   0.   0.   0. ]\n",
      " [ 0.   0.   1.   0.  -1.   0.  -1.   0. ]\n",
      " [ 0.   0.   0.   1.   0.  -1.   0.  -1. ]\n",
      " [ 0.   0.   0.   0.   4.   0.  -1.   0. ]\n",
      " [ 0.   0.   0.   0.   1.   1.   0.   0. ]]\n",
      "\n",
      "b=\n",
      " [ 99.   1.   0.   0.   0.   0.   0. 100.]\n"
     ]
    }
   ],
   "source": [
    "A_new = A_ex.copy()\n",
    "b_new = b_ex.copy()\n",
    "\n",
    "A_new[7,:] = np.zeros(8)\n",
    "A_new[7,4] = 1\n",
    "A_new[7,5] = 1\n",
    "b_new[7] = 100\n",
    "\n",
    "print(\"A=\\n\",A_new)\n",
    "print(\"\\nb=\\n\",b_new)"
   ]
  },
  {
   "cell_type": "code",
   "execution_count": 14,
   "metadata": {
    "tags": [
     "hide-output"
    ]
   },
   "outputs": [
    {
     "name": "stdout",
     "output_type": "stream",
     "text": [
      "s = [1. 1. 1. 1. 1. 1. 4. 1.]\n",
      "Original Augmented Matrix is\n",
      " [[  1.    0.    0.    0.    0.    0.   -1.    0.   99. ]\n",
      " [  0.    1.    0.    0.    0.    0.    0.   -1.    1. ]\n",
      " [  0.9   0.   -1.    0.    0.    0.    0.    0.    0. ]\n",
      " [  1.    1.   -1.   -1.    0.    0.    0.    0.    0. ]\n",
      " [  0.    0.    1.    0.   -1.    0.   -1.    0.    0. ]\n",
      " [  0.    0.    0.    1.    0.   -1.    0.   -1.    0. ]\n",
      " [  0.    0.    0.    0.    4.    0.   -1.    0.    0. ]\n",
      " [  0.    0.    0.    0.    1.    1.    0.    0.  100. ]]\n",
      "Final aug_matrix is\n",
      " [[ 1.000e+00  0.000e+00  0.000e+00  0.000e+00  0.000e+00  0.000e+00\n",
      "  -1.000e+00  0.000e+00  9.900e+01]\n",
      " [ 0.000e+00  1.000e+00  0.000e+00  0.000e+00  0.000e+00  0.000e+00\n",
      "   0.000e+00 -1.000e+00  1.000e+00]\n",
      " [ 0.000e+00  0.000e+00 -1.000e+00  0.000e+00  0.000e+00  0.000e+00\n",
      "   9.000e-01  0.000e+00 -8.910e+01]\n",
      " [ 0.000e+00  0.000e+00  0.000e+00 -1.000e+00  0.000e+00  0.000e+00\n",
      "   1.000e-01  1.000e+00 -1.090e+01]\n",
      " [ 0.000e+00  0.000e+00  0.000e+00  0.000e+00 -1.000e+00  0.000e+00\n",
      "  -1.000e-01  0.000e+00 -8.910e+01]\n",
      " [ 0.000e+00  0.000e+00  0.000e+00  0.000e+00  0.000e+00 -1.000e+00\n",
      "   1.000e-01  0.000e+00 -1.090e+01]\n",
      " [ 0.000e+00  0.000e+00  0.000e+00  0.000e+00  0.000e+00  0.000e+00\n",
      "  -1.400e+00  0.000e+00 -3.564e+02]\n",
      " [ 0.000e+00  0.000e+00  0.000e+00  0.000e+00  0.000e+00  0.000e+00\n",
      "   0.000e+00  0.000e+00  0.000e+00]]\n"
     ]
    },
    {
     "name": "stderr",
     "output_type": "stream",
     "text": [
      "/var/folders/3w/vr4xmyqs451dg23xk88pqcg00000gq/T/ipykernel_47904/826583952.py:123: RuntimeWarning: invalid value encountered in double_scalars\n",
      "  x[row] = RHS/aug_matrix[row,row]\n"
     ]
    }
   ],
   "source": [
    "x_new = GaussElimPivotSolve(A_new, b_new, LOUD=True)"
   ]
  },
  {
   "cell_type": "markdown",
   "metadata": {},
   "source": [
    "Why did this fail? Especially because, 1 mole of A converts to 1 mole of B, we know the overall mole balance is a valid equation."
   ]
  },
  {
   "cell_type": "markdown",
   "metadata": {},
   "source": [
    "<div style=\"background-color: rgba(0,0,255,0.05) ; padding: 10px; border: 1px solid darkblue;\"> \n",
    "<b>Class Activity</b>: Discuss with a partner. Hint: How is the invertible matrix theorem helpful?\n",
    "</div>"
   ]
  },
  {
   "cell_type": "code",
   "execution_count": 15,
   "metadata": {
    "tags": [
     "remove-output"
    ]
   },
   "outputs": [
    {
     "data": {
      "text/plain": [
       "8"
      ]
     },
     "execution_count": 15,
     "metadata": {},
     "output_type": "execute_result"
    }
   ],
   "source": [
    "# hint: find the rank of A_ex\n",
    "### BEGIN SOLUTION\n",
    "np.linalg.matrix_rank(A_ex)\n",
    "### END SOLUTION"
   ]
  },
  {
   "cell_type": "code",
   "execution_count": 16,
   "metadata": {
    "tags": [
     "remove-output"
    ]
   },
   "outputs": [
    {
     "data": {
      "text/plain": [
       "7"
      ]
     },
     "execution_count": 16,
     "metadata": {},
     "output_type": "execute_result"
    }
   ],
   "source": [
    "# hint: find the rank of A_new\n",
    "### BEGIN SOLUTION\n",
    "np.linalg.matrix_rank(A_new)\n",
    "### END SOLUTION"
   ]
  }
 ],
 "metadata": {
  "colab": {
   "name": "L8-Gauss-Elimination.ipynb",
   "provenance": [],
   "version": "0.3.2"
  },
  "kernelspec": {
   "display_name": "Python 3 (ipykernel)",
   "language": "python",
   "name": "python3"
  },
  "language_info": {
   "codemirror_mode": {
    "name": "ipython",
    "version": 3
   },
   "file_extension": ".py",
   "mimetype": "text/x-python",
   "name": "python",
   "nbconvert_exporter": "python",
   "pygments_lexer": "ipython3",
   "version": "3.9.12"
  }
 },
 "nbformat": 4,
 "nbformat_minor": 4
}
