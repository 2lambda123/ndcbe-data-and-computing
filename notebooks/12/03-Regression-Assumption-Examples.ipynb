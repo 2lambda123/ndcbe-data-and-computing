{
 "cells": [
  {
   "cell_type": "markdown",
   "id": "eba32138-e4c6-4be2-afec-b3d87ab1b280",
   "metadata": {},
   "source": [
    "# Regression Assumption Examples\n",
    "**Further Reading:** §7.4 in Navidi (2015), *Checking Assumptions and Transforming Data*\n"
   ]
  },
  {
   "cell_type": "markdown",
   "id": "7fa8bc82-b848-40a2-b9ee-a35cdf5de2f0",
   "metadata": {
    "colab_type": "text",
    "id": "9HPF1azhtHFl",
    "tags": []
   },
   "source": [
    "## Learning Objectives\n",
    "\n",
    "After studying this notebook and your lecture notes, you should be able to:\n",
    "* Check linear regression error assumptions using residual analysis (plots)\n",
    "* Recognize data that violate the linear regression error assumptions and understand next steps"
   ]
  },
  {
   "cell_type": "code",
   "execution_count": 1,
   "id": "0237dd2e-65e2-4965-9d7b-2b044168e0d9",
   "metadata": {},
   "outputs": [],
   "source": [
    "import numpy as np\n",
    "import math\n",
    "import matplotlib.pyplot as plt "
   ]
  },
  {
   "cell_type": "markdown",
   "id": "ef56c361-575f-41bf-8b56-9895c1c0c217",
   "metadata": {},
   "source": [
    "## Assumptions\n",
    "Recall the following assumptions for linear regression error:\n",
    "\n",
    "1. The errors $\\epsilon_1$, ..., $\\epsilon_n$ are **random and independent**. Thus the magnitude of any error $\\epsilon_i$ does not impact the magnitude of error $\\epsilon_{i+1}$.\n",
    "2. The errors $\\epsilon_1$, ..., $\\epsilon_n$ all have **mean zero**.\n",
    "3. The errors $\\epsilon_1$, ..., $\\epsilon_n$ all have the **same variance**, denoted $\\sigma^2$.\n",
    "4. The errors $\\epsilon_1$, ..., $\\epsilon_n$ are **normally distributed**.\n",
    "\n",
    "Below, we will look at a few examples of data that violate these assumptions and discuss what to do in those cases."
   ]
  },
  {
   "cell_type": "markdown",
   "id": "87c51a13-7776-4c13-bbc5-09683e5bc62a",
   "metadata": {},
   "source": [
    "## Example 1"
   ]
  },
  {
   "cell_type": "code",
   "execution_count": 56,
   "id": "94ad59be-2418-49a2-9849-f2433000e9da",
   "metadata": {},
   "outputs": [
    {
     "data": {
      "image/png": "[encoded data removed]",
      "text/plain": [
       "<Figure size 432x288 with 1 Axes>"
      ]
     },
     "metadata": {
      "needs_background": "light"
     },
     "output_type": "display_data"
    }
   ],
   "source": [
    "nsim = 200\n",
    "\n",
    "x = np.linspace(0,100,nsim)\n",
    "yline = lambda x: -0.2*x + 20\n",
    "y = yline(x)\n",
    "\n",
    "var = np.random.uniform(-20,20,nsim)\n",
    "ypts = y + var\n",
    "\n",
    "plt.plot(x,y,'g')\n",
    "plt.plot(x,ypts,'o',markersize=3)\n",
    "plt.show()"
   ]
  },
  {
   "cell_type": "code",
   "execution_count": null,
   "id": "1bcf8f1d-7f70-4409-9f45-2457bf4bd820",
   "metadata": {},
   "outputs": [],
   "source": []
  }
 ],
 "metadata": {
  "kernelspec": {
   "display_name": "Python 3 (ipykernel)",
   "language": "python",
   "name": "python3"
  },
  "language_info": {
   "codemirror_mode": {
    "name": "ipython",
    "version": 3
   },
   "file_extension": ".py",
   "mimetype": "text/x-python",
   "name": "python",
   "nbconvert_exporter": "python",
   "pygments_lexer": "ipython3",
   "version": "3.9.12"
  }
 },
 "nbformat": 4,
 "nbformat_minor": 5
}
