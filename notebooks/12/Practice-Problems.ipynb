{
 "cells": [
  {
   "cell_type": "markdown",
   "metadata": {
    "colab_type": "text",
    "id": "qYVuIBsFIntT"
   },
   "source": [
    "# Practice Problems\n"
   ]
  },
  {
   "cell_type": "markdown",
   "metadata": {
    "colab_type": "text",
    "id": "1PJ6EcCl06sV"
   },
   "source": [
    "## Learning Objectives\n",
    "\n",
    "After studying this notebook, completing the activities, engaging in class, and reading the book, you should be able to:\n",
    "* Apply error propagation strategies to example problems"
   ]
  },
  {
   "cell_type": "code",
   "execution_count": 5,
   "metadata": {
    "tags": []
   },
   "outputs": [],
   "source": [
    "import numpy as np\n",
    "import matplotlib.pyplot as plt"
   ]
  },
  {
   "cell_type": "markdown",
   "metadata": {},
   "source": [
    "## Practice Problem 1: One Uncertain Parameter\n",
    "\n",
    "Reference: §3.3, Problem 8 in Navidi.\n",
    "\n",
    "The refractive index $n$ of a piece of glass is related to the critical angle $\\theta$ by $n=1/\\sin \\theta$ Assume that the critical angle is measured to be 0.70 $\\pm$ 0.02 rad. Estimate the refractive index, and find the uncertainty in the estimate."
   ]
  },
  {
   "cell_type": "code",
   "execution_count": 6,
   "metadata": {
    "tags": [
     "remove-output"
    ]
   },
   "outputs": [
    {
     "name": "stdout",
     "output_type": "stream",
     "text": [
      "n =  1.552270326957104\n",
      "dn_dtheta =  -1.842920266932432\n",
      "s_n =  0.03685840533864864\n"
     ]
    }
   ],
   "source": [
    "# Add your solution here"
   ]
  },
  {
   "cell_type": "markdown",
   "metadata": {},
   "source": [
    "## Practice Problem 2: Three Uncertain Parameters\n",
    "\n",
    "Reference: §3.4, Problem 8 in Navidi.\n",
    "\n",
    "The pressure $P$, temperature $T$, and volume $V$ of one mole of an ideal gas are related by the equation $PV=RT$ where $P$ is measured in kilopascals, $T$ is measured in kelvins, and $V$ is measured in liters, and $R = 8.314$ with consistent units.\n",
    "1. Assume that $P$ = 242.52 $\\pm$ 0.03 kPa and $V$ = 10.103 $\\pm$ 0.002 L. Estimate $T$, and find the uncertainty in the estimate.\n",
    "2. Assume that $P$ = 242.52 $\\pm$ 0.03 kPa and $T$ = 290.11 $\\pm$ 0.02 K. Estimate $V$, and find the uncertainty in the estimate.\n",
    "3. Assume that $V$ = 10.103 $\\pm$ 0.002 L and $T$ = 290.11 $\\pm$ 0.02 K. Estimate $P$, and find the uncertainty in the estimate.\n",
    "4. Repeat calculation 1 assuming $P$ and $V$ are not independent, but have a covariance of **10$^{-5}$** kPa-L."
   ]
  },
  {
   "cell_type": "code",
   "execution_count": 7,
   "metadata": {
    "tags": [
     "remove-output"
    ]
   },
   "outputs": [
    {
     "name": "stdout",
     "output_type": "stream",
     "text": [
      "P =  242.52  +/-  0.03  kPa\n",
      "V =  10.103  +/-  0.002  L\n",
      "T =  294.7052634111138 +/-  0.06879365869176007 K\n"
     ]
    }
   ],
   "source": [
    "# Part 1\n",
    "# Add your solution here"
   ]
  },
  {
   "cell_type": "code",
   "execution_count": 8,
   "metadata": {
    "tags": [
     "remove-output"
    ]
   },
   "outputs": [
    {
     "name": "stdout",
     "output_type": "stream",
     "text": [
      "P =  242.52  +/-  0.03  kPa\n",
      "V =  9.9454665182253  +/-  0.0014084202098616082  L\n",
      "T =  290.11 +/-  0.02 K\n"
     ]
    }
   ],
   "source": [
    "# Part 2\n",
    "# Add your solution here"
   ]
  },
  {
   "cell_type": "code",
   "execution_count": 9,
   "metadata": {
    "tags": [
     "remove-output"
    ]
   },
   "outputs": [
    {
     "name": "stdout",
     "output_type": "stream",
     "text": [
      "P =  238.73844798574683  +/-  0.05004472373860672  kPa\n",
      "V =  10.103  +/-  0.002  L\n",
      "T =  290.11 +/-  0.02 K\n"
     ]
    }
   ],
   "source": [
    "# Part 3\n",
    "# Add your solution here"
   ]
  },
  {
   "cell_type": "code",
   "execution_count": 10,
   "metadata": {
    "tags": [
     "remove-output"
    ]
   },
   "outputs": [
    {
     "name": "stdout",
     "output_type": "stream",
     "text": [
      "P =  242.52  +/-  0.03  kPa\n",
      "V =  10.103  +/-  0.002  L\n",
      "T =  294.7052634111138 +/-  0.07376655639974125 K\n"
     ]
    }
   ],
   "source": [
    "# Part 4\n",
    "# Add your solution here"
   ]
  },
  {
   "cell_type": "markdown",
   "metadata": {},
   "source": [
    "## Practice Problem 3: Uncertainty Simulation\n",
    "\n",
    "Reference: §3.4, Problem 16 in Navidi.\n",
    "\n",
    "According to Newton's law of cooling, the time $t$ needed for an object at an initial temperature $T_0$ to cool to a temperature $T$ in an environment with ambient temperature $T_a$ is given by\n",
    "\n",
    "$$t = \\frac{\\ln(T_0 - T_a)}{k} - \\frac{\\ln(T - T_a)}{k}$$\n",
    "\n",
    "where $k$ is a constant. Assume that for a certain type of container, $k$ = 0.025 min$^{-1}$. Let $t$ be the number of minutes needed to cool the container to a temperature of 50$^\\circ{}$F. Assume $T_0$ = 70.1 $\\pm$ 0.2$^\\circ{}$F and $T_a$ = 35.7 $\\pm$ 0.1$^\\circ{}$F. Estimate $t$, and find the uncertainty in the estimate."
   ]
  },
  {
   "cell_type": "code",
   "execution_count": 11,
   "metadata": {
    "tags": [
     "remove-output"
    ]
   },
   "outputs": [
    {
     "name": "stdout",
     "output_type": "stream",
     "text": [
      "t =  35.11188108453962  min\n",
      "\n"
     ]
    }
   ],
   "source": [
    "# Define function and calculate t\n",
    "\n",
    "# Add your solution here"
   ]
  },
  {
   "cell_type": "code",
   "execution_count": 12,
   "metadata": {
    "tags": [
     "remove-output"
    ]
   },
   "outputs": [
    {
     "name": "stdout",
     "output_type": "stream",
     "text": [
      "deltaF = [1.16279068 1.63441221]\n"
     ]
    }
   ],
   "source": [
    "# Estimate gradient with finite difference\n",
    "# Add your solution here"
   ]
  },
  {
   "cell_type": "code",
   "execution_count": 13,
   "metadata": {
    "tags": [
     "remove-output"
    ]
   },
   "outputs": [
    {
     "name": "stdout",
     "output_type": "stream",
     "text": [
      "Covariance matrix of measurement errors:\n",
      "[[0.04 0.  ]\n",
      " [0.   0.01]]\n",
      "\n",
      "Uncertainty estimate:\n",
      "s_t =  0.2842469342469589  min\n"
     ]
    }
   ],
   "source": [
    "# Assemble covariance matrix and apply error propagation formula\n",
    "\n",
    "# Add your solution here"
   ]
  },
  {
   "cell_type": "markdown",
   "metadata": {},
   "source": [
    "## Practice Problem 4: Probability Simulation\n",
    "\n",
    "Reference: §4.12, Problem 18 in Navidi.\n",
    "    \n",
    "The length of time to perform an oil change at a certain shop is normally distributed with mean 29.5 minutes and standard deviation 3 minutes. What is the probability that a mechanic can complete 16 oil changes in an eight-hour day?"
   ]
  },
  {
   "cell_type": "code",
   "execution_count": 14,
   "metadata": {
    "tags": [
     "remove-output"
    ]
   },
   "outputs": [
    {
     "data": {
      "image/png": "[encoded data removed]",
      "text/plain": [
       "<Figure size 432x288 with 1 Axes>"
      ]
     },
     "metadata": {
      "needs_background": "light"
     },
     "output_type": "display_data"
    },
    {
     "name": "stdout",
     "output_type": "stream",
     "text": [
      "Probability of completing 16 oils changes in eight-hour shift: 0.753\n"
     ]
    }
   ],
   "source": [
    "# Let's use simulation! We'll learn how to calculate this answer by hand next class.\n",
    "\n",
    "# Add your solution here"
   ]
  }
 ],
 "metadata": {
  "colab": {
   "collapsed_sections": [],
   "name": "L15-Error-Propagation.ipynb",
   "provenance": [],
   "version": "0.3.2"
  },
  "kernelspec": {
   "display_name": "Python 3 (ipykernel)",
   "language": "python",
   "name": "python3"
  },
  "language_info": {
   "codemirror_mode": {
    "name": "ipython",
    "version": 3
   },
   "file_extension": ".py",
   "mimetype": "text/x-python",
   "name": "python",
   "nbconvert_exporter": "python",
   "pygments_lexer": "ipython3",
   "version": "3.9.12"
  }
 },
 "nbformat": 4,
 "nbformat_minor": 4
}
