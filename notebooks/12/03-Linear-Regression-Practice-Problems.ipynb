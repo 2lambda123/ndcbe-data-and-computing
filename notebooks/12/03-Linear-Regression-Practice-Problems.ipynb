{
 "cells": [
  {
   "cell_type": "markdown",
   "metadata": {
    "colab_type": "text",
    "id": "qcE-uuSfaWs0"
   },
   "source": [
    "# Linear Regression Practice Problems\n",
    "\n",
    "CBE 20258. Numerical and Statistical Analysis. Spring 2020.\n",
    "\n",
    "&#169; University of Notre Dame"
   ]
  },
  {
   "cell_type": "code",
   "execution_count": 1,
   "metadata": {
    "colab": {},
    "colab_type": "code",
    "id": "t8omIiX7aWs1",
    "tags": []
   },
   "outputs": [],
   "source": [
    "# load libraries\n",
    "import scipy.stats as stats\n",
    "import numpy as np\n",
    "import math\n",
    "import matplotlib.pyplot as plt"
   ]
  },
  {
   "cell_type": "markdown",
   "metadata": {
    "colab_type": "text",
    "id": "9HPF1azhtHFl"
   },
   "source": [
    "## Learning Objectives\n",
    "\n",
    "After studying this notebook and your lecture notes, you should be able to:\n",
    "* Interpret correlation coefficient\n",
    "* Compute simple linear regression best fits\n",
    "* Check linear regression error assumptions using residual analysis (plots)\n",
    "* Compute residual standard error and covariance matrix for fitted parameters\n",
    "* Assemble confidence intervals for fitted parameters"
   ]
  },
  {
   "cell_type": "markdown",
   "metadata": {},
   "source": [
    "## Supplemental Exercise 7.5 (Navidi 2015)\n",
    "\n",
    "A chemist is calibrating a spectrophotometer that will be used to measure the concentration of carbon monoxide (CO) in atmospheric samples. To check the calibration, samples of known concentration are measured. The true concentrations (x) and the measured concentrations (y) are given in the variables below. Because of random error, repeated measurements on the same sample will vary. The machine is considered to be in calibration if its mean response is equal to the true concentration. "
   ]
  },
  {
   "cell_type": "code",
   "execution_count": 2,
   "metadata": {},
   "outputs": [
    {
     "name": "stdout",
     "output_type": "stream",
     "text": [
      "The true concentrations:\n",
      " [  0  10  20  30  40  50  60  70  80  90 100]\n",
      "The measured concentrations:\n",
      " [ 1 11 21 28 37 48 56 68 75 86 96]\n"
     ]
    }
   ],
   "source": [
    "x = np.array([0, 10, 20, 30, 40, 50, 60, 70, 80, 90, 100]) ## True concentrations (ppm)\n",
    "y = np.array([1, 11, 21, 28, 37, 48, 56, 68, 75, 86, 96])  ## Measured concentrations (ppm)\n",
    "\n",
    "print (\"The true concentrations:\\n\", x)\n",
    "print (\"The measured concentrations:\\n\", y)"
   ]
  },
  {
   "cell_type": "markdown",
   "metadata": {},
   "source": [
    "To check the calibration, the linear model $y = \\beta_0 + \\beta_1 x + \\epsilon$ is fit. Ideally, the value of $\\beta_0$ should be 0 and the value of $\\beta_1$ should be 1. "
   ]
  },
  {
   "cell_type": "markdown",
   "metadata": {},
   "source": [
    "a. Compute the least-squares estimates ${\\hat{\\beta_{0}}}$ and ${\\hat{\\beta_{1}}}$."
   ]
  },
  {
   "cell_type": "code",
   "execution_count": 3,
   "metadata": {},
   "outputs": [
    {
     "name": "stdout",
     "output_type": "stream",
     "text": [
      "analytical beta_hat 0.8181818181818201 0.9418181818181818\n",
      "matrix beta_hat = [0.81818182 0.94181818]\n"
     ]
    }
   ],
   "source": [
    "### BEGIN SOLUTION\n",
    "##There are multiple ways to solve this problem. One is to use the\n",
    "##analytical equations provided. \n",
    "xbar = np.mean(x)\n",
    "ybar = np.mean(y)\n",
    "\n",
    "x_diff = x - xbar\n",
    "y_diff = y - ybar\n",
    "\n",
    "beta_hat_1 = (x - xbar).dot(y - ybar)/((x - xbar).dot(x - xbar))\n",
    "beta_hat_0 = ybar - beta_hat_1*xbar\n",
    "\n",
    "print(\"analytical beta_hat\", beta_hat_0, beta_hat_1)\n",
    "\n",
    "##The other is to use the generalized form and the normal equations.\n",
    "\n",
    "#feature matrix\n",
    "\n",
    "X = np.ones((len(x), 2))\n",
    "X[:,1] = x\n",
    "\n",
    "XXinv = np.linalg.inv(X.transpose().dot(X))\n",
    "beta_hat = XXinv @ X.transpose() @ y\n",
    "print(\"matrix beta_hat =\",beta_hat)\n",
    "\n",
    "### END SOLUTION"
   ]
  },
  {
   "cell_type": "markdown",
   "metadata": {},
   "source": [
    "b. Can you reject the null hypothesis $H_0$ : $\\beta_0$ = 0?"
   ]
  },
  {
   "cell_type": "code",
   "execution_count": 4,
   "metadata": {},
   "outputs": [
    {
     "name": "stdout",
     "output_type": "stream",
     "text": [
      "0.23469843169056898\n",
      "[[ 4.12672176e-01 -5.89531680e-03]\n",
      " [-5.89531680e-03  1.17906336e-04]]\n"
     ]
    }
   ],
   "source": [
    "### BEGIN SOLUTION\n",
    "\n",
    "##First find s. In order to do so, need to find residuals.\n",
    "\n",
    "e = y - (beta_hat[0] + beta_hat[1]*x)\n",
    "\n",
    "s = np.sqrt(e.dot(e)/(len(x)-2))\n",
    "\n",
    "##Now find s for beta_0\n",
    "\n",
    "variance_beta_hat = s**2*XXinv\n",
    "\n",
    "s_beta_0 = np.sqrt(variance_beta_hat[0][0])\n",
    "\n",
    "##Now find t-score\n",
    "\n",
    "t_score_beta_0 = (beta_hat[0] - 0)/s_beta_0\n",
    "\n",
    "##Since the hypothesis is of the form H = mu, need to find areas in the tails.\n",
    "\n",
    "#Calculate p-value\n",
    "\n",
    "#print(len(x))\n",
    "pvalue_beta_0 = 2*stats.t.cdf(-t_score_beta_0, len(x)-2)\n",
    "\n",
    "print(pvalue_beta_0)\n",
    "\n",
    "\n",
    "print(variance_beta_hat)\n",
    "\n",
    "### END SOLUTION"
   ]
  },
  {
   "cell_type": "markdown",
   "metadata": {},
   "source": [
    "c. Can you reject the null hypothesis $H_0$ : $\\beta_1$ = 1?"
   ]
  },
  {
   "cell_type": "code",
   "execution_count": 5,
   "metadata": {},
   "outputs": [
    {
     "name": "stdout",
     "output_type": "stream",
     "text": [
      "0.00045739577879748416\n"
     ]
    }
   ],
   "source": [
    "### BEGIN SOLUTION\n",
    "\n",
    "##Find s for beta_1\n",
    "\n",
    "s_beta_1 = np.sqrt(variance_beta_hat[1][1])\n",
    "#print(s_beta_1)\n",
    "\n",
    "##Find t-score\n",
    "\n",
    "t_score_beta_1 = (beta_hat[1] - 1)/s_beta_1\n",
    "#print(t_score_beta_1)\n",
    "\n",
    "pvalue_beta_1 = 2*stats.t.cdf(t_score_beta_1, len(x)-2)\n",
    "print(pvalue_beta_1)\n",
    "\n",
    "### END SOLUTION"
   ]
  },
  {
   "cell_type": "markdown",
   "metadata": {},
   "source": [
    "d. Do the data provide sufficient evidence to conclude that the machine is out of calibration?"
   ]
  },
  {
   "cell_type": "code",
   "execution_count": 6,
   "metadata": {},
   "outputs": [
    {
     "name": "stdout",
     "output_type": "stream",
     "text": [
      "Yes, since we know beta_1 is clearly not equal to 1.\n"
     ]
    }
   ],
   "source": [
    "### BEGIN SOLUTION\n",
    "\n",
    "print(\"Yes, since we know beta_1 is clearly not equal to 1.\")\n",
    "### END SOLUTION"
   ]
  },
  {
   "cell_type": "markdown",
   "metadata": {},
   "source": [
    "e. Compute a 95% interval for the mean measurement $\\hat{y}$ when the true concentration is 20 ppm."
   ]
  },
  {
   "cell_type": "code",
   "execution_count": 7,
   "metadata": {},
   "outputs": [
    {
     "name": "stdout",
     "output_type": "stream",
     "text": [
      "0.47330966456168216\n",
      "The 95% confidence interval for 20 ppm is  [18.58384461 20.7252463 ]\n"
     ]
    }
   ],
   "source": [
    "### BEGIN SOLUTION\n",
    "\n",
    "t_score_95 = stats.t.ppf([0.025, 0.975], len(x)-2)\n",
    "\n",
    "##Predicted mean measurement\n",
    "\n",
    "y_20 = beta_hat[0]+ beta_hat[1]*20\n",
    "\n",
    "#print(y_20)\n",
    "\n",
    "#Find sy\n",
    "#print(s_beta_0, s_beta_1)\n",
    "s_y = np.sqrt(s_beta_0**2 + (20**2)*s_beta_1**2 +2*20*variance_beta_hat[0][1])\n",
    "\n",
    "print(s_y)\n",
    "#print(t_score_95)\n",
    "\n",
    "interval = y_20+t_score_95*s_y\n",
    "print(\"The 95% confidence interval for 20 ppm is \", interval)\n",
    "\n",
    "### END SOLUTION"
   ]
  },
  {
   "cell_type": "markdown",
   "metadata": {},
   "source": [
    "f. Compute a 95% interval for the mean measurement when the true concentration is 80 ppm."
   ]
  },
  {
   "cell_type": "code",
   "execution_count": 8,
   "metadata": {},
   "outputs": [
    {
     "name": "stdout",
     "output_type": "stream",
     "text": [
      "The 95% confidence interval for 20 ppm is  [75.09293552 77.23433721]\n"
     ]
    }
   ],
   "source": [
    "### BEGIN SOLUTION\n",
    "\n",
    "##Predicted mean measurement\n",
    "\n",
    "y_80 = beta_hat[0]+ beta_hat[1]*80\n",
    "\n",
    "#print(y_20)\n",
    "\n",
    "#Find sy\n",
    "#print(s_beta_0, s_beta_1)\n",
    "s_y = np.sqrt(s_beta_0**2 + (80**2)*s_beta_1**2 +2*80*variance_beta_hat[0][1])\n",
    "\n",
    "#print(s_y)\n",
    "#print(t_score_95)\n",
    "\n",
    "interval = y_80+t_score_95*s_y\n",
    "print(\"The 95% confidence interval for 20 ppm is \", interval)\n",
    "\n",
    "### END SOLUTION"
   ]
  },
  {
   "cell_type": "markdown",
   "metadata": {},
   "source": [
    "g. Someone claims that the machine is in calibration for concentrations near 20 ppm. Do these data provide sufficient evidence for you to conclude that this claim is false? Explain."
   ]
  },
  {
   "cell_type": "code",
   "execution_count": 12,
   "metadata": {},
   "outputs": [
    {
     "name": "stdout",
     "output_type": "stream",
     "text": [
      "No. Part e shows that when x = 20, the confidence interval includes it.\n"
     ]
    }
   ],
   "source": [
    "### BEGIN SOLUTION\n",
    "\n",
    "print(\"No. Part e shows that when x = 20, the confidence interval includes it.\")\n",
    "### END SOLUTION"
   ]
  },
  {
   "cell_type": "markdown",
   "metadata": {},
   "source": [
    "## Supplemental Exercise 7.8 (Navidi 2015)\n",
    "\n",
    "Rate of lipase production, y (in $\\mu$mol per mL enzyme per minute) and x, the cell mass (in g/L) were measured and results are bellow:"
   ]
  },
  {
   "cell_type": "code",
   "execution_count": 13,
   "metadata": {},
   "outputs": [
    {
     "name": "stdout",
     "output_type": "stream",
     "text": [
      "The cell mass:\n",
      " [4.5  4.68 5.4  5.45 4.2  4.12 4.   4.41 3.98 4.72 3.41 4.8  3.6  4.95\n",
      " 3.25 4.4  3.65 4.23 4.1  5.03 4.19 4.4  3.92 3.5  4.15 4.3  4.9  5.23\n",
      " 5.4  4.85 5.1  4.94]\n",
      "Lipase production:\n",
      " [2.06 2.1  3.15 4.1  2.2  3.2  2.85 4.5  2.1  2.75 2.8  4.6  2.5  4.1\n",
      " 2.15 4.4  2.2  2.3  2.4  4.75 3.15 3.9  3.2  2.1  3.75 3.15 5.1  5.04\n",
      " 4.96 5.   4.92 4.98]\n"
     ]
    }
   ],
   "source": [
    "x = np.array([4.5, 4.68, 5.4, 5.45, 4.2, 4.12, 4, 4.41, 3.98, 4.72, 3.41, 4.8, 3.6, 4.95, 3.25, 4.4, 3.65, 4.23, 4.1, 5.03, \n",
    "              4.19, 4.4, 3.92, 3.5, 4.15, 4.3, 4.9, 5.23, 5.4, 4.85, 5.1, 4.94]) ##The cell mass in g/L\n",
    "y = np.array([2.06, 2.1, 3.15, 4.1, 2.2, 3.2, 2.85, 4.5, 2.1, 2.75, 2.8, 4.6, 2.5, 4.1, 2.15, 4.4, 2.2, 2.3, 2.4, 4.75, 3.15,\n",
    "              3.9, 3.2, 2.1, 3.75, 3.15, 5.1, 5.04, 4.96, 5, 4.92, 4.98]) ##Lipase production in micromol per mL enzyme per minute\n",
    "\n",
    "\n",
    "print (\"The cell mass:\\n\", x)\n",
    "print (\"Lipase production:\\n\", y)\n"
   ]
  },
  {
   "cell_type": "markdown",
   "metadata": {},
   "source": [
    "a. Compute the least-squares line for predicting lipase production from cell mass.\n",
    "\n",
    "b. Compute 95% confidence intervals for $\\beta_0$ and $\\beta_1$.\n",
    "\n",
    "c. In two experiments, the cell masses differed by 1.5 g/L. By how much do you estimate that their lipase production will differ?\n",
    "\n",
    "d. Find a 95% confidence interval for the mean lipase production when the cell mass is 5.0 g/L.\n",
    "\n",
    "e. Can you conclude that the mean lipase production when the cell mass is 5.0 g/L is less than 4.4? Explain. "
   ]
  },
  {
   "cell_type": "code",
   "execution_count": 14,
   "metadata": {},
   "outputs": [
    {
     "name": "stdout",
     "output_type": "stream",
     "text": [
      "matrix beta_hat = [-2.17086563  1.26924168]\n",
      "The intervals for beta0 and beta1 are:  [-4.36872445  0.02699319] [0.77750867 1.76097468]\n",
      "The change is:  1.903862516396653\n",
      "The intervals for lypase production:  [3.77059915 4.58008637]\n",
      "The P-value is:  0.13297328711115267 Therefore, we cannot conclude it.\n"
     ]
    }
   ],
   "source": [
    "### BEGIN SOLUTION\n",
    "\n",
    "\n",
    "### Part a. Use matrix formulation\n",
    "\n",
    "X = np.ones((len(x), 2))\n",
    "X[:,1] = x\n",
    "\n",
    "XXinv = np.linalg.inv(X.transpose().dot(X))\n",
    "beta_hat = XXinv @ X.transpose() @ y\n",
    "print(\"matrix beta_hat =\",beta_hat)\n",
    "\n",
    "### Part b. 95% confidence interval\n",
    "\n",
    "t_score_95 = stats.t.ppf([0.025, 0.975], len(x)-2)\n",
    "\n",
    "## First calculate s_B_0 and s_B_1\n",
    "\n",
    "#Find s\n",
    "\n",
    "e = y - (beta_hat[0] + beta_hat[1]*x)\n",
    "\n",
    "s = np.sqrt(e.dot(e)/(len(x)-2))\n",
    "\n",
    "##Now find covariance matrix\n",
    "\n",
    "variance_beta_hat = s**2*XXinv\n",
    "\n",
    "s_beta_0 = np.sqrt(variance_beta_hat[0][0])\n",
    "s_beta_1 = np.sqrt(variance_beta_hat[1][1])\n",
    "\n",
    "beta_0_interval = beta_hat[0]+t_score_95*s_beta_0\n",
    "beta_1_interval = beta_hat[1]+t_score_95*s_beta_1\n",
    "\n",
    "print(\"The intervals for beta0 and beta1 are: \", beta_0_interval, beta_1_interval)\n",
    "\n",
    "\n",
    "##Part c. \n",
    "\n",
    "##Changing x by 1.5, how much does y change? Multiply the slope, beta_1 by 1.5\n",
    "\n",
    "print(\"The change is: \", beta_hat[1]*1.5)\n",
    "\n",
    "##Part d. \n",
    "\n",
    "#Find 95% interval for the mean when cell mass is 5 g/L.\n",
    "\n",
    "y_5 = beta_hat[0] + beta_hat[1]*5\n",
    "\n",
    "s_y = np.sqrt(s_beta_0**2 + (5**2)*s_beta_1**2 +2*5*variance_beta_hat[0][1])\n",
    "\n",
    "interval_y_5 = y_5 + t_score_95*s_y\n",
    "\n",
    "print(\"The intervals for lypase production: \", interval_y_5)\n",
    "\n",
    "\n",
    "##Part e. \n",
    "\n",
    "##null hypothesis is Lipase production is > 4.4 when cell mass is 5 g/L. \n",
    "\n",
    "#Calculate t-score\n",
    "t_score = (y_5 - 4.4)/s_y\n",
    "\n",
    "p_value_lipase = stats.t.cdf(t_score, len(x)-2)\n",
    "\n",
    "print(\"The P-value is: \", p_value_lipase, \"Therefore, we cannot conclude it.\")\n",
    "\n",
    "### END SOLUTION"
   ]
  },
  {
   "cell_type": "code",
   "execution_count": null,
   "metadata": {},
   "outputs": [],
   "source": []
  }
 ],
 "metadata": {
  "colab": {
   "collapsed_sections": [],
   "name": "L20-Linear-Regression.ipynb",
   "provenance": [],
   "version": "0.3.2"
  },
  "kernelspec": {
   "display_name": "Python 3 (ipykernel)",
   "language": "python",
   "name": "python3"
  },
  "language_info": {
   "codemirror_mode": {
    "name": "ipython",
    "version": 3
   },
   "file_extension": ".py",
   "mimetype": "text/x-python",
   "name": "python",
   "nbconvert_exporter": "python",
   "pygments_lexer": "ipython3",
   "version": "3.9.12"
  }
 },
 "nbformat": 4,
 "nbformat_minor": 4
}
