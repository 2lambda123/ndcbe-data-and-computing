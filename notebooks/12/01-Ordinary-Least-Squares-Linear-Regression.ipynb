{
 "cells": [
  {
   "cell_type": "markdown",
   "metadata": {
    "colab_type": "text",
    "id": "qcE-uuSfaWs0"
   },
   "source": [
    "# Ordinary Least Squares Linear Regression\n",
    "**Further Reading:** §7.1 in Navidi (2015)\n",
    "\n",
    "**Further Reading:** §7.2 in Navidi (2015)"
   ]
  },
  {
   "cell_type": "markdown",
   "metadata": {
    "colab_type": "text",
    "id": "9HPF1azhtHFl"
   },
   "source": [
    "## Learning Objectives\n",
    "\n",
    "After studying this notebook and your lecture notes, you should be able to:\n",
    "* Interpret correlation coefficient\n",
    "* Compute simple linear regression best fits"
   ]
  },
  {
   "cell_type": "code",
   "execution_count": 1,
   "metadata": {
    "colab": {},
    "colab_type": "code",
    "id": "t8omIiX7aWs1",
    "tags": []
   },
   "outputs": [],
   "source": [
    "# load libraries\n",
    "import scipy.stats as stats\n",
    "import numpy as np\n",
    "import math\n",
    "import matplotlib.pyplot as plt"
   ]
  },
  {
   "cell_type": "markdown",
   "metadata": {},
   "source": [
    "<div style=\"background-color: rgba(0,255,0,0.05) ; padding: 10px; border: 1px solid darkgreen;\"> \n",
    "<b>Home Activity</b>: Review Chapter 7 in Navidi (2015).\n",
    "</div>"
   ]
  },
  {
   "cell_type": "markdown",
   "metadata": {
    "colab_type": "text",
    "id": "v2BJJ2yaaWs5"
   },
   "source": [
    "## Motivating Example for Linear Regression\n",
    "\n",
    "What job responsibilities do you think a chemical engineer would have in the agriculture industry?\n",
    "\n",
    "A fellow scientist in Big Ag, Inc. planted alfalfa on several plots of land, identical except for the soil pH. The following are the dry matter yields (in pounds per acre) for each plot."
   ]
  },
  {
   "cell_type": "code",
   "execution_count": 2,
   "metadata": {
    "colab": {
     "base_uri": "https://localhost:8080/",
     "height": 361
    },
    "colab_type": "code",
    "executionInfo": {
     "elapsed": 1354,
     "status": "ok",
     "timestamp": 1554384416041,
     "user": {
      "displayName": "Alexander Dowling",
      "photoUrl": "https://lh3.googleusercontent.com/-LChdQ2m5OQE/AAAAAAAAAAI/AAAAAAAAAA0/JeXJe4vQJ7M/s64/photo.jpg",
      "userId": "00988067626794866502"
     },
     "user_tz": 240
    },
    "id": "S0JMl4Y3aWs6",
    "outputId": "2affa781-b2db-400c-a5d5-0de6a7390f26"
   },
   "outputs": [
    {
     "data": {
      "image/png": "[encoded data removed]",
      "text/plain": [
       "<Figure size 432x288 with 1 Axes>"
      ]
     },
     "metadata": {
      "needs_background": "light"
     },
     "output_type": "display_data"
    }
   ],
   "source": [
    "pH = np.array([4.6, 4.8, 5.2, 5.4, 5.6, 5.8, 6.0])\n",
    "yld = np.array([1056, 1833, 1629, 1852, 1783, 2647, 2131])\n",
    "\n",
    "plt.plot(pH,yld,'b.',markersize=20)\n",
    "plt.xlabel('Soil pH')\n",
    "plt.ylabel('Dry Matter Yield [pounds / acre]')\n",
    "plt.grid(True)\n",
    "plt.show()"
   ]
  },
  {
   "cell_type": "markdown",
   "metadata": {
    "colab_type": "text",
    "id": "cBb-oM4PaWs-"
   },
   "source": [
    "Your colleague would like help analyzing these data. In particular:\n",
    "1. Is the trend in the data linear?\n",
    "2. Can we create a model to predict the dry matter yield based on soil pH?\n",
    "3. How can we incorporate uncertainty into our model?\n",
    "\n",
    "We will use this example throughout the lecture to introduce the fundamentals of linear regression."
   ]
  },
  {
   "cell_type": "markdown",
   "metadata": {
    "colab_type": "text",
    "id": "OaD_ih3LaWs_"
   },
   "source": [
    "## Linear Regression Basics\n",
    "\n",
    "Based on the plot above, your colleague suggests a simple linear model:\n",
    "\n",
    "$$y = \\beta_0 + \\beta_1 x + \\epsilon$$\n",
    "\n",
    "Nomenclature:\n",
    "* $y$ is the yield (dependent variable, response, observed variable)\n",
    "* $x$ is the pH (independent variable, feature, manipulated variable)\n",
    "* $\\beta_0$ is the intercept\n",
    "* $\\beta_1$ is the slope\n",
    "* $\\epsilon$ is the random observation error. More on it latter.\n",
    "\n",
    "We cannot measure $\\beta_0$ and $\\beta_1$ directly. Instead, we can take paired measurements ($x_1, y_1$), ($x_2, y_2$),... ($x_n, y_n$) and find the values of $\\hat{\\beta}_0$ and $\\hat{\\beta}_1$ that cause the predictions $\\hat{y}$ to best fit the data.\n",
    "\n",
    "$$\\hat{y} = \\hat{\\beta}_0 + \\hat{\\beta}_1 x$$\n",
    "\n",
    "Nomenclature:\n",
    "* $\\hat{y}$ **predicted** response\n",
    "* $\\hat{\\beta}_0$ **best fit** intercept, estimates true (unknown) intercept\n",
    "* $\\hat{\\beta}_1$ **best fit** slope, estimates true (unknown) intercept\n",
    "\n",
    "**Main idea**: $\\hat{\\beta}_0$ and $\\hat{\\beta}_1$ are **estimates** of the true (but unknown) intercept and slope."
   ]
  },
  {
   "cell_type": "markdown",
   "metadata": {
    "colab_type": "text",
    "id": "m5y5JdWOaWs_"
   },
   "source": [
    "## Optimization Formulation\n",
    "\n",
    "At the heart of regression, we want to solve a least-squares minimization problem:\n",
    "\n",
    "$$\\min_{\\hat{\\beta}_0,\\hat{\\beta}_1} \\quad \\sum_{i}^n(y_i - \\hat{y}_i)^2$$\n",
    "\n",
    "We have done this in multiple lectures already."
   ]
  },
  {
   "cell_type": "markdown",
   "metadata": {
    "colab_type": "text",
    "id": "iSG0BVsLaWtA"
   },
   "source": [
    "## Analytic Solution\n",
    "\n",
    "Because our model is linear, it is not that difficult to find the analytic solution to the above optimization problem.\n",
    "\n",
    "$$\\hat{\\beta}_1 = \\frac{\\sum_{i=1}^{n} (x_i - \\bar{x})(y_i - \\bar{y})}{\\sum_{i=1}^{n} (x_i - \\bar{x})^2}$$\n",
    "\n",
    "$$\\hat{\\beta}_0 = \\bar{y} - \\hat{\\beta}_1 \\bar{x}$$\n",
    "\n",
    "Here $\\bar{x}$ and $\\bar{y}$ are the average (mean) values of the independent and dependent variables, respectively, calculated using the sample.\n",
    "\n",
    "$$\n",
    "\\bar{y} = \\frac{1}{n} \\sum_{i=1}^n y_i, \\qquad \\bar{x} = \\frac{1}{n} \\sum_{i=1}^n x_i\n",
    "$$"
   ]
  },
  {
   "cell_type": "markdown",
   "metadata": {},
   "source": [
    "<div style=\"background-color: rgba(0,0,255,0.05) ; padding: 10px; border: 1px solid darkblue;\"> \n",
    "<b>Class Activity</b>: Discuss the following with your neighbor:\n",
    "</div>"
   ]
  },
  {
   "cell_type": "markdown",
   "metadata": {},
   "source": [
    "1. How can you calculate the numerator and denominator in a single line using linear algebra?\n",
    "2. True/False. The best fit line always passes through ($\\bar{x},\\bar{y}$). Write a sentence to justify your answer."
   ]
  },
  {
   "cell_type": "code",
   "execution_count": 3,
   "metadata": {
    "colab": {
     "base_uri": "https://localhost:8080/",
     "height": 51
    },
    "colab_type": "code",
    "executionInfo": {
     "elapsed": 1338,
     "status": "ok",
     "timestamp": 1554384416042,
     "user": {
      "displayName": "Alexander Dowling",
      "photoUrl": "https://lh3.googleusercontent.com/-LChdQ2m5OQE/AAAAAAAAAAI/AAAAAAAAAA0/JeXJe4vQJ7M/s64/photo.jpg",
      "userId": "00988067626794866502"
     },
     "user_tz": 240
    },
    "id": "4w2UP7FjaWtA",
    "outputId": "736b0be3-e5c9-47aa-e399-433719a0a53f"
   },
   "outputs": [
    {
     "name": "stdout",
     "output_type": "stream",
     "text": [
      "slope =  737.1014492753624 pounds per acre / pH unit\n",
      "intercept = -2090.942028985508 pounds per acre\n"
     ]
    }
   ],
   "source": [
    "x = pH\n",
    "y = yld\n",
    "n_farm = len(x)\n",
    "\n",
    "# calculate averages\n",
    "xbar = np.mean(x)\n",
    "ybar = np.mean(y)\n",
    "\n",
    "# calculate numerator\n",
    "# num = # fill in\n",
    "num = (x - xbar).dot(y - ybar)\n",
    "\n",
    "# calculate denominator\n",
    "# denom = # fill in\n",
    "denom = (x - xbar).dot(x-xbar)\n",
    "\n",
    "# calculate slope\n",
    "b1 = num / denom\n",
    "\n",
    "# calculate intercept\n",
    "b0 = ybar - b1 * xbar\n",
    "\n",
    "# print results\n",
    "print(\"slope = \",b1,\"pounds per acre / pH unit\")\n",
    "print(\"intercept =\",b0,\"pounds per acre\")"
   ]
  },
  {
   "cell_type": "markdown",
   "metadata": {
    "colab_type": "text",
    "id": "9BbBMcbJaWtD"
   },
   "source": [
    "## Scipy Package\n",
    "\n",
    "We can do the same calculations with Scipy."
   ]
  },
  {
   "cell_type": "code",
   "execution_count": 4,
   "metadata": {
    "colab": {
     "base_uri": "https://localhost:8080/",
     "height": 51
    },
    "colab_type": "code",
    "executionInfo": {
     "elapsed": 1319,
     "status": "ok",
     "timestamp": 1554384416042,
     "user": {
      "displayName": "Alexander Dowling",
      "photoUrl": "https://lh3.googleusercontent.com/-LChdQ2m5OQE/AAAAAAAAAAI/AAAAAAAAAA0/JeXJe4vQJ7M/s64/photo.jpg",
      "userId": "00988067626794866502"
     },
     "user_tz": 240
    },
    "id": "SksmATP7aWtE",
    "outputId": "9b1f94a0-4822-4174-90e5-18410487d97a"
   },
   "outputs": [
    {
     "name": "stdout",
     "output_type": "stream",
     "text": [
      "slope =  737.1014492753623 pounds per acre / pH unit\n",
      "intercept = -2090.9420289855075 pounds per acre\n"
     ]
    }
   ],
   "source": [
    "b1_, b0_, r_value, p_value, std_err = stats.linregress(x, y)\n",
    "\n",
    "print(\"slope = \",b1_,\"pounds per acre / pH unit\")\n",
    "print(\"intercept =\",b0_,\"pounds per acre\")"
   ]
  },
  {
   "cell_type": "markdown",
   "metadata": {
    "colab_type": "text",
    "id": "HPuKroupaWtH"
   },
   "source": [
    "## Visualize"
   ]
  },
  {
   "cell_type": "code",
   "execution_count": 5,
   "metadata": {
    "colab": {
     "base_uri": "https://localhost:8080/",
     "height": 361
    },
    "colab_type": "code",
    "executionInfo": {
     "elapsed": 1911,
     "status": "ok",
     "timestamp": 1554384416648,
     "user": {
      "displayName": "Alexander Dowling",
      "photoUrl": "https://lh3.googleusercontent.com/-LChdQ2m5OQE/AAAAAAAAAAI/AAAAAAAAAA0/JeXJe4vQJ7M/s64/photo.jpg",
      "userId": "00988067626794866502"
     },
     "user_tz": 240
    },
    "id": "IGOTASG1aWtH",
    "outputId": "5a4f0258-65ea-4ee2-e2d0-10c94e679e29"
   },
   "outputs": [
    {
     "data": {
      "image/png": "[encoded data removed]",
      "text/plain": [
       "<Figure size 432x288 with 1 Axes>"
      ]
     },
     "metadata": {
      "needs_background": "light"
     },
     "output_type": "display_data"
    }
   ],
   "source": [
    "# generate predictions\n",
    "pH_pred = np.linspace(4.5, 6.1, 20)\n",
    "yld_pred = b0_ + b1_ * pH_pred\n",
    "\n",
    "# create plot\n",
    "plt.plot(pH,yld,'.b',markersize=20,label='Data')\n",
    "plt.plot(pH_pred,yld_pred,'-r',linewidth=3,label='Best Fit Line')\n",
    "plt.plot(xbar,ybar,'sg',markersize=10,label=r\"Average ($\\bar{x}$,$\\bar{y}$)\")\n",
    "plt.xlabel('Soil pH')\n",
    "plt.ylabel('Dry Matter Yield [pounds / acre]')\n",
    "plt.grid(True)\n",
    "plt.legend()\n",
    "plt.show()"
   ]
  }
 ],
 "metadata": {
  "colab": {
   "collapsed_sections": [],
   "name": "L20-Linear-Regression.ipynb",
   "provenance": [],
   "version": "0.3.2"
  },
  "kernelspec": {
   "display_name": "Python 3 (ipykernel)",
   "language": "python",
   "name": "python3"
  },
  "language_info": {
   "codemirror_mode": {
    "name": "ipython",
    "version": 3
   },
   "file_extension": ".py",
   "mimetype": "text/x-python",
   "name": "python",
   "nbconvert_exporter": "python",
   "pygments_lexer": "ipython3",
   "version": "3.9.12"
  }
 },
 "nbformat": 4,
 "nbformat_minor": 4
}
