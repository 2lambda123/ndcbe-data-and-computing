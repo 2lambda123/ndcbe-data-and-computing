{
 "cells": [
  {
   "cell_type": "markdown",
   "metadata": {
    "colab_type": "text",
    "id": "qcE-uuSfaWs0"
   },
   "source": [
    "# Ordinary Least Squares Linear Regression\n",
    "\n",
    "CBE 20258. Numerical and Statistical Analysis. Spring 2020.\n",
    "\n",
    "&#169; University of Notre Dame"
   ]
  },
  {
   "cell_type": "code",
   "execution_count": 1,
   "metadata": {
    "colab": {},
    "colab_type": "code",
    "id": "t8omIiX7aWs1",
    "tags": []
   },
   "outputs": [],
   "source": [
    "# load libraries\n",
    "import scipy.stats as stats\n",
    "import numpy as np\n",
    "import math\n",
    "import matplotlib.pyplot as plt"
   ]
  },
  {
   "cell_type": "markdown",
   "metadata": {
    "colab_type": "text",
    "id": "9HPF1azhtHFl"
   },
   "source": [
    "## Learning Objectives\n",
    "\n",
    "After studying this notebook and your lecture notes, you should be able to:\n",
    "* Interpret correlation coefficient\n",
    "* Compute simple linear regression best fits\n",
    "* Check linear regression error assumptions using residual analysis (plots)\n",
    "* Compute residual standard error and covariance matrix for fitted parameters"
   ]
  },
  {
   "cell_type": "markdown",
   "metadata": {},
   "source": [
    "<div style=\"background-color: rgba(0,255,0,0.05) ; padding: 10px; border: 1px solid darkgreen;\"> \n",
    "<b>Home Activity</b>: Review Chapter 7 in Navidi (2015).\n",
    "</div>"
   ]
  },
  {
   "cell_type": "markdown",
   "metadata": {},
   "source": [
    "## Correlation\n",
    "\n",
    "**Further Reading:** §7.1 in Navidi (2015)"
   ]
  },
  {
   "cell_type": "markdown",
   "metadata": {},
   "source": [
    "## The Best Fit Line\n",
    "\n",
    "Further Reading: §7.2 in Navidi (2015)"
   ]
  },
  {
   "cell_type": "markdown",
   "metadata": {
    "colab_type": "text",
    "id": "v2BJJ2yaaWs5"
   },
   "source": [
    "## Motivating Example for Linear Regression\n",
    "\n",
    "What job responsibilities do you think a chemical engineer would have in the agriculture industry?\n",
    "\n",
    "A fellow scientist in Big Ag, Inc. planted alfalfa on several plots of land, identical except for the soil pH. The following are the dry matter yields (in pounds per acre) for each plot."
   ]
  },
  {
   "cell_type": "code",
   "execution_count": 4,
   "metadata": {
    "colab": {
     "base_uri": "https://localhost:8080/",
     "height": 361
    },
    "colab_type": "code",
    "executionInfo": {
     "elapsed": 1354,
     "status": "ok",
     "timestamp": 1554384416041,
     "user": {
      "displayName": "Alexander Dowling",
      "photoUrl": "https://lh3.googleusercontent.com/-LChdQ2m5OQE/AAAAAAAAAAI/AAAAAAAAAA0/JeXJe4vQJ7M/s64/photo.jpg",
      "userId": "00988067626794866502"
     },
     "user_tz": 240
    },
    "id": "S0JMl4Y3aWs6",
    "outputId": "2affa781-b2db-400c-a5d5-0de6a7390f26"
   },
   "outputs": [
    {
     "data": {
      "image/png": "[encoded data removed]",
      "text/plain": [
       "<Figure size 432x288 with 1 Axes>"
      ]
     },
     "metadata": {
      "needs_background": "light"
     },
     "output_type": "display_data"
    }
   ],
   "source": [
    "pH = np.array([4.6, 4.8, 5.2, 5.4, 5.6, 5.8, 6.0])\n",
    "yld = np.array([1056, 1833, 1629, 1852, 1783, 2647, 2131])\n",
    "\n",
    "plt.plot(pH,yld,'b.',markersize=20)\n",
    "plt.xlabel('Soil pH')\n",
    "plt.ylabel('Dry Matter Yield [pounds / acre]')\n",
    "plt.grid(True)\n",
    "plt.show()"
   ]
  },
  {
   "cell_type": "markdown",
   "metadata": {
    "colab_type": "text",
    "id": "cBb-oM4PaWs-"
   },
   "source": [
    "Your colleague would like help analyzing these data. In particular:\n",
    "1. Is the trend in the data linear?\n",
    "2. Can we create a model to predict the dry matter yield based on soil pH?\n",
    "3. How can we incorporate uncertainty into our model?\n",
    "\n",
    "We will use this example throughout the lecture to introduce the fundamentals of linear regression."
   ]
  },
  {
   "cell_type": "markdown",
   "metadata": {
    "colab_type": "text",
    "id": "OaD_ih3LaWs_"
   },
   "source": [
    "### Linear Regression Basics\n",
    "\n",
    "Based on the plot above, your colleague suggests a simple linear model:\n",
    "\n",
    "$$y = \\beta_0 + \\beta_1 x + \\epsilon$$\n",
    "\n",
    "Nomenclature:\n",
    "* $y$ is the yield (dependent variable, response, observed variable)\n",
    "* $x$ is the pH (independent variable, feature, manipulated variable)\n",
    "* $\\beta_0$ is the intercept\n",
    "* $\\beta_1$ is the slope\n",
    "* $\\epsilon$ is the random observation error. More on it latter.\n",
    "\n",
    "We cannot measure $\\beta_0$ and $\\beta_1$ directly. Instead, we can take paired measurements ($x_1, y_1$), ($x_2, y_2$),... ($x_n, y_n$) and find the values of $\\hat{\\beta}_0$ and $\\hat{\\beta}_1$ that cause the predictions $\\hat{y}$ to best fit the data.\n",
    "\n",
    "$$\\hat{y} = \\hat{\\beta}_0 + \\hat{\\beta}_1 x$$\n",
    "\n",
    "Nomenclature:\n",
    "* $\\hat{y}$ **predicted** response\n",
    "* $\\hat{\\beta}_0$ **best fit** intercept, estimates true (unknown) intercept\n",
    "* $\\hat{\\beta}_1$ **best fit** slope, estimates true (unknown) intercept\n",
    "\n",
    "**Main idea**: $\\hat{\\beta}_0$ and $\\hat{\\beta}_1$ are **estimates** of the true (but unknown) intercept and slope."
   ]
  },
  {
   "cell_type": "markdown",
   "metadata": {
    "colab_type": "text",
    "id": "m5y5JdWOaWs_"
   },
   "source": [
    "### Optimization Formulation\n",
    "\n",
    "At the heart of regression, we want to solve a least-squares minimization problem:\n",
    "\n",
    "$$\\min_{\\hat{\\beta}_0,\\hat{\\beta}_1} \\quad \\sum_{i}^n(y_i - \\hat{y}_i)^2$$\n",
    "\n",
    "We have done this in multiple lectures already."
   ]
  },
  {
   "cell_type": "markdown",
   "metadata": {
    "colab_type": "text",
    "id": "iSG0BVsLaWtA"
   },
   "source": [
    "### Analytic Solution\n",
    "\n",
    "Because our model is linear, it is not that difficult to find the analytic solution to the above optimization problem.\n",
    "\n",
    "$$\\hat{\\beta}_1 = \\frac{\\sum_{i=1}^{n} (x_i - \\bar{x})(y_i - \\bar{y})}{\\sum_{i=1}^{n} (x_i - \\bar{x})^2}$$\n",
    "\n",
    "$$\\hat{\\beta}_0 = \\bar{y} - \\hat{\\beta}_1 \\bar{x}$$\n",
    "\n",
    "Here $\\bar{x}$ and $\\bar{y}$ are the average (mean) values of the independent and dependent variables, respectively, calculated using the sample.\n",
    "\n",
    "$$\n",
    "\\bar{y} = \\frac{1}{n} \\sum_{i=1}^n y_i, \\qquad \\bar{x} = \\frac{1}{n} \\sum_{i=1}^n x_i\n",
    "$$"
   ]
  },
  {
   "cell_type": "markdown",
   "metadata": {},
   "source": [
    "<div style=\"background-color: rgba(0,0,255,0.05) ; padding: 10px; border: 1px solid darkblue;\"> \n",
    "<b>Class Activity</b>: Discuss the following with your neighbor:\n",
    "</div>"
   ]
  },
  {
   "cell_type": "markdown",
   "metadata": {},
   "source": [
    "1. How can you calculate the numerator and denominator in a single line using linear algebra?\n",
    "2. True/False. The best fit line always passes through ($\\bar{x},\\bar{y}$). Write a sentence to justify your answer."
   ]
  },
  {
   "cell_type": "code",
   "execution_count": 5,
   "metadata": {
    "colab": {
     "base_uri": "https://localhost:8080/",
     "height": 51
    },
    "colab_type": "code",
    "executionInfo": {
     "elapsed": 1338,
     "status": "ok",
     "timestamp": 1554384416042,
     "user": {
      "displayName": "Alexander Dowling",
      "photoUrl": "https://lh3.googleusercontent.com/-LChdQ2m5OQE/AAAAAAAAAAI/AAAAAAAAAA0/JeXJe4vQJ7M/s64/photo.jpg",
      "userId": "00988067626794866502"
     },
     "user_tz": 240
    },
    "id": "4w2UP7FjaWtA",
    "outputId": "736b0be3-e5c9-47aa-e399-433719a0a53f"
   },
   "outputs": [
    {
     "name": "stdout",
     "output_type": "stream",
     "text": [
      "slope =  737.1014492753624 pounds per acre / pH unit\n",
      "intercept = -2090.942028985508 pounds per acre\n"
     ]
    }
   ],
   "source": [
    "x = pH\n",
    "y = yld\n",
    "n_farm = len(x)\n",
    "\n",
    "# calculate averages\n",
    "xbar = np.mean(x)\n",
    "ybar = np.mean(y)\n",
    "\n",
    "# calculate numerator\n",
    "# num = # fill in\n",
    "num = (x - xbar).dot(y - ybar)\n",
    "\n",
    "# calculate denominator\n",
    "# denom = # fill in\n",
    "denom = (x - xbar).dot(x-xbar)\n",
    "\n",
    "# calculate slope\n",
    "b1 = num / denom\n",
    "\n",
    "# calculate intercept\n",
    "b0 = ybar - b1 * xbar\n",
    "\n",
    "# print results\n",
    "print(\"slope = \",b1,\"pounds per acre / pH unit\")\n",
    "print(\"intercept =\",b0,\"pounds per acre\")"
   ]
  },
  {
   "cell_type": "markdown",
   "metadata": {
    "colab_type": "text",
    "id": "9BbBMcbJaWtD"
   },
   "source": [
    "### Scipy Package\n",
    "\n",
    "We can do the same calculations with Scipy."
   ]
  },
  {
   "cell_type": "code",
   "execution_count": 6,
   "metadata": {
    "colab": {
     "base_uri": "https://localhost:8080/",
     "height": 51
    },
    "colab_type": "code",
    "executionInfo": {
     "elapsed": 1319,
     "status": "ok",
     "timestamp": 1554384416042,
     "user": {
      "displayName": "Alexander Dowling",
      "photoUrl": "https://lh3.googleusercontent.com/-LChdQ2m5OQE/AAAAAAAAAAI/AAAAAAAAAA0/JeXJe4vQJ7M/s64/photo.jpg",
      "userId": "00988067626794866502"
     },
     "user_tz": 240
    },
    "id": "SksmATP7aWtE",
    "outputId": "9b1f94a0-4822-4174-90e5-18410487d97a"
   },
   "outputs": [
    {
     "name": "stdout",
     "output_type": "stream",
     "text": [
      "slope =  737.1014492753623 pounds per acre / pH unit\n",
      "intercept = -2090.9420289855075 pounds per acre\n"
     ]
    }
   ],
   "source": [
    "b1_, b0_, r_value, p_value, std_err = stats.linregress(x, y)\n",
    "\n",
    "print(\"slope = \",b1_,\"pounds per acre / pH unit\")\n",
    "print(\"intercept =\",b0_,\"pounds per acre\")"
   ]
  },
  {
   "cell_type": "markdown",
   "metadata": {
    "colab_type": "text",
    "id": "HPuKroupaWtH"
   },
   "source": [
    "### Visualize"
   ]
  },
  {
   "cell_type": "code",
   "execution_count": 10,
   "metadata": {
    "colab": {
     "base_uri": "https://localhost:8080/",
     "height": 361
    },
    "colab_type": "code",
    "executionInfo": {
     "elapsed": 1911,
     "status": "ok",
     "timestamp": 1554384416648,
     "user": {
      "displayName": "Alexander Dowling",
      "photoUrl": "https://lh3.googleusercontent.com/-LChdQ2m5OQE/AAAAAAAAAAI/AAAAAAAAAA0/JeXJe4vQJ7M/s64/photo.jpg",
      "userId": "00988067626794866502"
     },
     "user_tz": 240
    },
    "id": "IGOTASG1aWtH",
    "outputId": "5a4f0258-65ea-4ee2-e2d0-10c94e679e29"
   },
   "outputs": [
    {
     "data": {
      "image/png": "[encoded data removed]",
      "text/plain": [
       "<Figure size 432x288 with 1 Axes>"
      ]
     },
     "metadata": {
      "needs_background": "light"
     },
     "output_type": "display_data"
    }
   ],
   "source": [
    "# generate predictions\n",
    "pH_pred = np.linspace(4.5, 6.1, 20)\n",
    "yld_pred = b0_ + b1_ * pH_pred\n",
    "\n",
    "# create plot\n",
    "plt.plot(pH,yld,'.b',markersize=20,label='Data')\n",
    "plt.plot(pH_pred,yld_pred,'-r',linewidth=3,label='Best Fit Line')\n",
    "plt.plot(xbar,ybar,'sg',markersize=10,label=r\"Average ($\\bar{x}$,$\\bar{y}$)\")\n",
    "plt.xlabel('Soil pH')\n",
    "plt.ylabel('Dry Matter Yield [pounds / acre]')\n",
    "plt.grid(True)\n",
    "plt.legend()\n",
    "plt.show()"
   ]
  },
  {
   "cell_type": "markdown",
   "metadata": {
    "colab_type": "text",
    "id": "-EG9XvACaWtJ"
   },
   "source": [
    "## Residual Analysis\n",
    "\n",
    "**Further Reading:** §7.4 in Navidi (2015), *Checking Assumptions and Transforming Data*\n",
    "\n",
    "Recall the simple linear model:\n",
    "\n",
    "$$y_i = \\beta_0 + \\beta_1 x_i + \\epsilon_i$$\n",
    "\n",
    "We are now going to focus on the random observation error $\\epsilon$. In order to perform **uncertainty analysis and statistical inference** (next notebook), we need to check the following **assumptions about the error**:\n",
    "1. The errors $\\epsilon_1$, ..., $\\epsilon_n$ are **random and independent**. Thus the magnitude of any error $\\epsilon_i$ does not impact the magnitude of error $\\epsilon_{i+1}$.\n",
    "2. The errors $\\epsilon_1$, ..., $\\epsilon_n$ all have **mean zero**.\n",
    "3. The errors $\\epsilon_1$, ..., $\\epsilon_n$ all have the **same variance**, denoted $\\sigma^2$.\n",
    "4. The errors $\\epsilon_1$, ..., $\\epsilon_n$ are **normally distributed**.\n",
    "\n",
    "We will now discuss several strategies to check these assumptions."
   ]
  },
  {
   "cell_type": "markdown",
   "metadata": {
    "colab_type": "text",
    "id": "tz6ut_fsaWtK"
   },
   "source": [
    "### Calculate Residuals\n",
    "\n",
    "We cannot measure $\\epsilon_i$ directly. Instead, we will estimate it using the residual:\n",
    "\n",
    "$$\n",
    "\\underbrace{e_i}_{\\mathrm{residual}} = \\underbrace{y_i}_\\mathrm{observation} - \\underbrace{\\hat{y}_i}_{\\mathrm{prediction}}\n",
    "$$\n",
    "\n",
    "We might write $r_i$ instead of $e_i$ for residual. Old habit."
   ]
  },
  {
   "cell_type": "code",
   "execution_count": 11,
   "metadata": {
    "colab": {
     "base_uri": "https://localhost:8080/",
     "height": 68
    },
    "colab_type": "code",
    "executionInfo": {
     "elapsed": 1898,
     "status": "ok",
     "timestamp": 1554384416649,
     "user": {
      "displayName": "Alexander Dowling",
      "photoUrl": "https://lh3.googleusercontent.com/-LChdQ2m5OQE/AAAAAAAAAAI/AAAAAAAAAA0/JeXJe4vQJ7M/s64/photo.jpg",
      "userId": "00988067626794866502"
     },
     "user_tz": 240
    },
    "id": "df4ML5hqaWtL",
    "outputId": "fe285714-f332-4527-da16-cf3bd88cca67"
   },
   "outputs": [
    {
     "name": "stdout",
     "output_type": "stream",
     "text": [
      "Residuals (pounds / acre):\n",
      "[-243.72463768  385.85507246 -112.98550725  -37.4057971  -253.82608696\n",
      "  462.75362319 -200.66666667]\n"
     ]
    }
   ],
   "source": [
    "yld_hat = b0_ + b1_ * pH\n",
    "e_farm = yld - yld_hat\n",
    "print(\"Residuals (pounds / acre):\")\n",
    "print(e_farm)"
   ]
  },
  {
   "cell_type": "markdown",
   "metadata": {
    "colab_type": "text",
    "id": "m-yVgRESaWtN"
   },
   "source": [
    "### Histogram of Residuals\n",
    "\n",
    "Assumption 4: Are the residuals normally distributed?"
   ]
  },
  {
   "cell_type": "code",
   "execution_count": 12,
   "metadata": {
    "colab": {
     "base_uri": "https://localhost:8080/",
     "height": 361
    },
    "colab_type": "code",
    "executionInfo": {
     "elapsed": 2019,
     "status": "ok",
     "timestamp": 1554384416785,
     "user": {
      "displayName": "Alexander Dowling",
      "photoUrl": "https://lh3.googleusercontent.com/-LChdQ2m5OQE/AAAAAAAAAAI/AAAAAAAAAA0/JeXJe4vQJ7M/s64/photo.jpg",
      "userId": "00988067626794866502"
     },
     "user_tz": 240
    },
    "id": "FHPF1K9xaWtO",
    "outputId": "cc0558d3-89c6-4f4f-c0fd-fb372972f4bc"
   },
   "outputs": [
    {
     "data": {
      "image/png": "[encoded data removed]",
      "text/plain": [
       "<Figure size 432x288 with 1 Axes>"
      ]
     },
     "metadata": {
      "needs_background": "light"
     },
     "output_type": "display_data"
    }
   ],
   "source": [
    "plt.hist(e_farm)\n",
    "plt.xlabel(\"Residual (pounds / acre)\")\n",
    "plt.ylabel(\"Frequency (count)\")\n",
    "plt.show()"
   ]
  },
  {
   "cell_type": "markdown",
   "metadata": {
    "colab_type": "text",
    "id": "ZUkRmyV-aWtQ"
   },
   "source": [
    "**Interpretation Questions:**\n",
    "1. Are there any extreme outliers?\n",
    "2. (large data sets) Does the histogram look approximately normal?"
   ]
  },
  {
   "cell_type": "markdown",
   "metadata": {
    "colab_type": "text",
    "id": "b6R5-VjoaWtR"
   },
   "source": [
    "### Scatter Plot of Residuals versus Predicted Values\n",
    "\n",
    "Assumption 1: Are the residuals random and independent?"
   ]
  },
  {
   "cell_type": "code",
   "execution_count": 14,
   "metadata": {
    "colab": {
     "base_uri": "https://localhost:8080/",
     "height": 361
    },
    "colab_type": "code",
    "executionInfo": {
     "elapsed": 2686,
     "status": "ok",
     "timestamp": 1554384417471,
     "user": {
      "displayName": "Alexander Dowling",
      "photoUrl": "https://lh3.googleusercontent.com/-LChdQ2m5OQE/AAAAAAAAAAI/AAAAAAAAAA0/JeXJe4vQJ7M/s64/photo.jpg",
      "userId": "00988067626794866502"
     },
     "user_tz": 240
    },
    "id": "XR4hPkpRaWtS",
    "outputId": "f9d6bea1-bfaa-4007-bbeb-e7d9ec219271"
   },
   "outputs": [
    {
     "data": {
      "image/png": "[encoded data removed]",
      "text/plain": [
       "<Figure size 432x288 with 1 Axes>"
      ]
     },
     "metadata": {
      "needs_background": "light"
     },
     "output_type": "display_data"
    }
   ],
   "source": [
    "plt.plot(yld_hat,e_farm,\"b.\", markersize=20)\n",
    "plt.xlabel(\"Predicted Yield (pounds / acre)\")\n",
    "plt.ylabel(\"Residual (pounds / acre)\")\n",
    "plt.grid(True)\n",
    "plt.show()"
   ]
  },
  {
   "cell_type": "markdown",
   "metadata": {
    "colab_type": "text",
    "id": "eM_gS2QUbhJw"
   },
   "source": [
    "**Interpretation Questions**:\n",
    "1. Are there any clear patters in the residuals?\n",
    "2. Are there any extreme outliers?\n",
    "\n",
    "**Additional Examples**\n",
    "\n",
    "![](https://drive.google.com/uc?export=view&id=18C0Lsiy5xXUWXGZ3shsKsv3CnsjufU-n)"
   ]
  },
  {
   "cell_type": "markdown",
   "metadata": {
    "colab_type": "text",
    "id": "Z_H9nGJkaWtV"
   },
   "source": [
    "### Scatter Plot of Residuals versus Independent Variable\n",
    "\n",
    "Assumption 1: Are the residuals random and independent?"
   ]
  },
  {
   "cell_type": "code",
   "execution_count": 9,
   "metadata": {
    "colab": {
     "base_uri": "https://localhost:8080/",
     "height": 361
    },
    "colab_type": "code",
    "executionInfo": {
     "elapsed": 2670,
     "status": "ok",
     "timestamp": 1554384417472,
     "user": {
      "displayName": "Alexander Dowling",
      "photoUrl": "https://lh3.googleusercontent.com/-LChdQ2m5OQE/AAAAAAAAAAI/AAAAAAAAAA0/JeXJe4vQJ7M/s64/photo.jpg",
      "userId": "00988067626794866502"
     },
     "user_tz": 240
    },
    "id": "cwRn10JUaWtW",
    "outputId": "c91e6c6e-c90c-467d-b027-ca73e6194a36"
   },
   "outputs": [
    {
     "data": {
      "image/png": "[encoded data removed]",
      "text/plain": [
       "<Figure size 432x288 with 1 Axes>"
      ]
     },
     "metadata": {},
     "output_type": "display_data"
    }
   ],
   "source": [
    "plt.plot(pH,e_farm,\"b.\",MarkerSize=20)\n",
    "plt.xlabel(\"Soil pH\")\n",
    "plt.ylabel(\"Residual (pounds / acre)\")\n",
    "plt.grid(True)\n",
    "plt.show()"
   ]
  },
  {
   "cell_type": "markdown",
   "metadata": {
    "colab_type": "text",
    "id": "CW8Q6EegaWtY"
   },
   "source": [
    "**Interpretation Questions**:\n",
    "1. Are there any clear patters in the residuals?\n",
    "2. Are there any extreme outliers?\n",
    "\n",
    "**Additional Examples**\n",
    "\n",
    "![](https://drive.google.com/uc?export=view&id=1BobcdQP4SWK4kEeEcvWUAxTK9P_QDsic)\n"
   ]
  },
  {
   "cell_type": "markdown",
   "metadata": {
    "colab_type": "text",
    "id": "O8rDmpfwaWtZ"
   },
   "source": [
    "### Scatter Plot of Residuals versus Data Collection Order\n",
    "\n",
    "If you know the order data were collected, it is critical to create another scatter plot. You need to ensure there are no patterns (correlations) in time."
   ]
  },
  {
   "cell_type": "markdown",
   "metadata": {
    "colab_type": "text",
    "id": "U8_98eFwaWta"
   },
   "source": [
    "### Scatter Plot of Residuals Squared versus Independent Variable (and Collection Order)\n",
    "\n",
    "Assumption 3: Do the residuals have the same variance?"
   ]
  },
  {
   "cell_type": "code",
   "execution_count": 15,
   "metadata": {
    "colab": {
     "base_uri": "https://localhost:8080/",
     "height": 361
    },
    "colab_type": "code",
    "executionInfo": {
     "elapsed": 2855,
     "status": "ok",
     "timestamp": 1554384417673,
     "user": {
      "displayName": "Alexander Dowling",
      "photoUrl": "https://lh3.googleusercontent.com/-LChdQ2m5OQE/AAAAAAAAAAI/AAAAAAAAAA0/JeXJe4vQJ7M/s64/photo.jpg",
      "userId": "00988067626794866502"
     },
     "user_tz": 240
    },
    "id": "vFQUU8GTaWtb",
    "outputId": "8e05c2fb-b75d-424b-c6b1-7c0e41b19cab"
   },
   "outputs": [
    {
     "ename": "AttributeError",
     "evalue": "'Line2D' object has no property 'MarkerSize'",
     "output_type": "error",
     "traceback": [
      "\u001b[1;31m---------------------------------------------------------------------------\u001b[0m",
      "\u001b[1;31mAttributeError\u001b[0m                            Traceback (most recent call last)",
      "Input \u001b[1;32mIn [15]\u001b[0m, in \u001b[0;36m<cell line: 1>\u001b[1;34m()\u001b[0m\n\u001b[1;32m----> 1\u001b[0m \u001b[43mplt\u001b[49m\u001b[38;5;241;43m.\u001b[39;49m\u001b[43mplot\u001b[49m\u001b[43m(\u001b[49m\u001b[43mpH\u001b[49m\u001b[43m,\u001b[49m\u001b[43me_farm\u001b[49m\u001b[38;5;241;43m*\u001b[39;49m\u001b[38;5;241;43m*\u001b[39;49m\u001b[38;5;241;43m2\u001b[39;49m\u001b[43m,\u001b[49m\u001b[38;5;124;43m\"\u001b[39;49m\u001b[38;5;124;43mb.\u001b[39;49m\u001b[38;5;124;43m\"\u001b[39;49m\u001b[43m,\u001b[49m\u001b[43mMarkerSize\u001b[49m\u001b[38;5;241;43m=\u001b[39;49m\u001b[38;5;241;43m20\u001b[39;49m\u001b[43m)\u001b[49m\n\u001b[0;32m      2\u001b[0m plt\u001b[38;5;241m.\u001b[39mxlabel(\u001b[38;5;124m\"\u001b[39m\u001b[38;5;124mSoil pH\u001b[39m\u001b[38;5;124m\"\u001b[39m)\n\u001b[0;32m      3\u001b[0m plt\u001b[38;5;241m.\u001b[39mylabel(\u001b[38;5;124m\"\u001b[39m\u001b[38;5;124mResidual Squared (pounds / acre)$^2$\u001b[39m\u001b[38;5;124m\"\u001b[39m)\n",
      "File \u001b[1;32m~\\anaconda3\\envs\\jbook\\lib\\site-packages\\matplotlib\\pyplot.py:2769\u001b[0m, in \u001b[0;36mplot\u001b[1;34m(scalex, scaley, data, *args, **kwargs)\u001b[0m\n\u001b[0;32m   2767\u001b[0m \u001b[38;5;129m@_copy_docstring_and_deprecators\u001b[39m(Axes\u001b[38;5;241m.\u001b[39mplot)\n\u001b[0;32m   2768\u001b[0m \u001b[38;5;28;01mdef\u001b[39;00m \u001b[38;5;21mplot\u001b[39m(\u001b[38;5;241m*\u001b[39margs, scalex\u001b[38;5;241m=\u001b[39m\u001b[38;5;28;01mTrue\u001b[39;00m, scaley\u001b[38;5;241m=\u001b[39m\u001b[38;5;28;01mTrue\u001b[39;00m, data\u001b[38;5;241m=\u001b[39m\u001b[38;5;28;01mNone\u001b[39;00m, \u001b[38;5;241m*\u001b[39m\u001b[38;5;241m*\u001b[39mkwargs):\n\u001b[1;32m-> 2769\u001b[0m     \u001b[38;5;28;01mreturn\u001b[39;00m gca()\u001b[38;5;241m.\u001b[39mplot(\n\u001b[0;32m   2770\u001b[0m         \u001b[38;5;241m*\u001b[39margs, scalex\u001b[38;5;241m=\u001b[39mscalex, scaley\u001b[38;5;241m=\u001b[39mscaley,\n\u001b[0;32m   2771\u001b[0m         \u001b[38;5;241m*\u001b[39m\u001b[38;5;241m*\u001b[39m({\u001b[38;5;124m\"\u001b[39m\u001b[38;5;124mdata\u001b[39m\u001b[38;5;124m\"\u001b[39m: data} \u001b[38;5;28;01mif\u001b[39;00m data \u001b[38;5;129;01mis\u001b[39;00m \u001b[38;5;129;01mnot\u001b[39;00m \u001b[38;5;28;01mNone\u001b[39;00m \u001b[38;5;28;01melse\u001b[39;00m {}), \u001b[38;5;241m*\u001b[39m\u001b[38;5;241m*\u001b[39mkwargs)\n",
      "File \u001b[1;32m~\\anaconda3\\envs\\jbook\\lib\\site-packages\\matplotlib\\axes\\_axes.py:1632\u001b[0m, in \u001b[0;36mAxes.plot\u001b[1;34m(self, scalex, scaley, data, *args, **kwargs)\u001b[0m\n\u001b[0;32m   1390\u001b[0m \u001b[38;5;124;03m\"\"\"\u001b[39;00m\n\u001b[0;32m   1391\u001b[0m \u001b[38;5;124;03mPlot y versus x as lines and/or markers.\u001b[39;00m\n\u001b[0;32m   1392\u001b[0m \n\u001b[1;32m   (...)\u001b[0m\n\u001b[0;32m   1629\u001b[0m \u001b[38;5;124;03m(``'green'``) or hex strings (``'#008000'``).\u001b[39;00m\n\u001b[0;32m   1630\u001b[0m \u001b[38;5;124;03m\"\"\"\u001b[39;00m\n\u001b[0;32m   1631\u001b[0m kwargs \u001b[38;5;241m=\u001b[39m cbook\u001b[38;5;241m.\u001b[39mnormalize_kwargs(kwargs, mlines\u001b[38;5;241m.\u001b[39mLine2D)\n\u001b[1;32m-> 1632\u001b[0m lines \u001b[38;5;241m=\u001b[39m [\u001b[38;5;241m*\u001b[39m\u001b[38;5;28mself\u001b[39m\u001b[38;5;241m.\u001b[39m_get_lines(\u001b[38;5;241m*\u001b[39margs, data\u001b[38;5;241m=\u001b[39mdata, \u001b[38;5;241m*\u001b[39m\u001b[38;5;241m*\u001b[39mkwargs)]\n\u001b[0;32m   1633\u001b[0m \u001b[38;5;28;01mfor\u001b[39;00m line \u001b[38;5;129;01min\u001b[39;00m lines:\n\u001b[0;32m   1634\u001b[0m     \u001b[38;5;28mself\u001b[39m\u001b[38;5;241m.\u001b[39madd_line(line)\n",
      "File \u001b[1;32m~\\anaconda3\\envs\\jbook\\lib\\site-packages\\matplotlib\\axes\\_base.py:312\u001b[0m, in \u001b[0;36m_process_plot_var_args.__call__\u001b[1;34m(self, data, *args, **kwargs)\u001b[0m\n\u001b[0;32m    310\u001b[0m     this \u001b[38;5;241m+\u001b[39m\u001b[38;5;241m=\u001b[39m args[\u001b[38;5;241m0\u001b[39m],\n\u001b[0;32m    311\u001b[0m     args \u001b[38;5;241m=\u001b[39m args[\u001b[38;5;241m1\u001b[39m:]\n\u001b[1;32m--> 312\u001b[0m \u001b[38;5;28;01myield from\u001b[39;00m \u001b[38;5;28;43mself\u001b[39;49m\u001b[38;5;241;43m.\u001b[39;49m\u001b[43m_plot_args\u001b[49m\u001b[43m(\u001b[49m\u001b[43mthis\u001b[49m\u001b[43m,\u001b[49m\u001b[43m \u001b[49m\u001b[43mkwargs\u001b[49m\u001b[43m)\u001b[49m\n",
      "File \u001b[1;32m~\\anaconda3\\envs\\jbook\\lib\\site-packages\\matplotlib\\axes\\_base.py:538\u001b[0m, in \u001b[0;36m_process_plot_var_args._plot_args\u001b[1;34m(self, tup, kwargs, return_kwargs)\u001b[0m\n\u001b[0;32m    536\u001b[0m     \u001b[38;5;28;01mreturn\u001b[39;00m \u001b[38;5;28mlist\u001b[39m(result)\n\u001b[0;32m    537\u001b[0m \u001b[38;5;28;01melse\u001b[39;00m:\n\u001b[1;32m--> 538\u001b[0m     \u001b[38;5;28;01mreturn\u001b[39;00m [l[\u001b[38;5;241m0\u001b[39m] \u001b[38;5;28;01mfor\u001b[39;00m l \u001b[38;5;129;01min\u001b[39;00m result]\n",
      "File \u001b[1;32m~\\anaconda3\\envs\\jbook\\lib\\site-packages\\matplotlib\\axes\\_base.py:538\u001b[0m, in \u001b[0;36m<listcomp>\u001b[1;34m(.0)\u001b[0m\n\u001b[0;32m    536\u001b[0m     \u001b[38;5;28;01mreturn\u001b[39;00m \u001b[38;5;28mlist\u001b[39m(result)\n\u001b[0;32m    537\u001b[0m \u001b[38;5;28;01melse\u001b[39;00m:\n\u001b[1;32m--> 538\u001b[0m     \u001b[38;5;28;01mreturn\u001b[39;00m [l[\u001b[38;5;241m0\u001b[39m] \u001b[38;5;28;01mfor\u001b[39;00m l \u001b[38;5;129;01min\u001b[39;00m result]\n",
      "File \u001b[1;32m~\\anaconda3\\envs\\jbook\\lib\\site-packages\\matplotlib\\axes\\_base.py:531\u001b[0m, in \u001b[0;36m<genexpr>\u001b[1;34m(.0)\u001b[0m\n\u001b[0;32m    528\u001b[0m \u001b[38;5;28;01melse\u001b[39;00m:\n\u001b[0;32m    529\u001b[0m     labels \u001b[38;5;241m=\u001b[39m [label] \u001b[38;5;241m*\u001b[39m n_datasets\n\u001b[1;32m--> 531\u001b[0m result \u001b[38;5;241m=\u001b[39m (\u001b[43mmake_artist\u001b[49m\u001b[43m(\u001b[49m\u001b[43mx\u001b[49m\u001b[43m[\u001b[49m\u001b[43m:\u001b[49m\u001b[43m,\u001b[49m\u001b[43m \u001b[49m\u001b[43mj\u001b[49m\u001b[43m \u001b[49m\u001b[38;5;241;43m%\u001b[39;49m\u001b[43m \u001b[49m\u001b[43mncx\u001b[49m\u001b[43m]\u001b[49m\u001b[43m,\u001b[49m\u001b[43m \u001b[49m\u001b[43my\u001b[49m\u001b[43m[\u001b[49m\u001b[43m:\u001b[49m\u001b[43m,\u001b[49m\u001b[43m \u001b[49m\u001b[43mj\u001b[49m\u001b[43m \u001b[49m\u001b[38;5;241;43m%\u001b[39;49m\u001b[43m \u001b[49m\u001b[43mncy\u001b[49m\u001b[43m]\u001b[49m\u001b[43m,\u001b[49m\u001b[43m \u001b[49m\u001b[43mkw\u001b[49m\u001b[43m,\u001b[49m\n\u001b[0;32m    532\u001b[0m \u001b[43m                      \u001b[49m\u001b[43m{\u001b[49m\u001b[38;5;241;43m*\u001b[39;49m\u001b[38;5;241;43m*\u001b[39;49m\u001b[43mkwargs\u001b[49m\u001b[43m,\u001b[49m\u001b[43m \u001b[49m\u001b[38;5;124;43m'\u001b[39;49m\u001b[38;5;124;43mlabel\u001b[39;49m\u001b[38;5;124;43m'\u001b[39;49m\u001b[43m:\u001b[49m\u001b[43m \u001b[49m\u001b[43mlabel\u001b[49m\u001b[43m}\u001b[49m\u001b[43m)\u001b[49m\n\u001b[0;32m    533\u001b[0m           \u001b[38;5;28;01mfor\u001b[39;00m j, label \u001b[38;5;129;01min\u001b[39;00m \u001b[38;5;28menumerate\u001b[39m(labels))\n\u001b[0;32m    535\u001b[0m \u001b[38;5;28;01mif\u001b[39;00m return_kwargs:\n\u001b[0;32m    536\u001b[0m     \u001b[38;5;28;01mreturn\u001b[39;00m \u001b[38;5;28mlist\u001b[39m(result)\n",
      "File \u001b[1;32m~\\anaconda3\\envs\\jbook\\lib\\site-packages\\matplotlib\\axes\\_base.py:351\u001b[0m, in \u001b[0;36m_process_plot_var_args._makeline\u001b[1;34m(self, x, y, kw, kwargs)\u001b[0m\n\u001b[0;32m    349\u001b[0m default_dict \u001b[38;5;241m=\u001b[39m \u001b[38;5;28mself\u001b[39m\u001b[38;5;241m.\u001b[39m_getdefaults(\u001b[38;5;28mset\u001b[39m(), kw)\n\u001b[0;32m    350\u001b[0m \u001b[38;5;28mself\u001b[39m\u001b[38;5;241m.\u001b[39m_setdefaults(default_dict, kw)\n\u001b[1;32m--> 351\u001b[0m seg \u001b[38;5;241m=\u001b[39m mlines\u001b[38;5;241m.\u001b[39mLine2D(x, y, \u001b[38;5;241m*\u001b[39m\u001b[38;5;241m*\u001b[39mkw)\n\u001b[0;32m    352\u001b[0m \u001b[38;5;28;01mreturn\u001b[39;00m seg, kw\n",
      "File \u001b[1;32m~\\anaconda3\\envs\\jbook\\lib\\site-packages\\matplotlib\\lines.py:393\u001b[0m, in \u001b[0;36mLine2D.__init__\u001b[1;34m(self, xdata, ydata, linewidth, linestyle, color, marker, markersize, markeredgewidth, markeredgecolor, markerfacecolor, markerfacecoloralt, fillstyle, antialiased, dash_capstyle, solid_capstyle, dash_joinstyle, solid_joinstyle, pickradius, drawstyle, markevery, **kwargs)\u001b[0m\n\u001b[0;32m    389\u001b[0m \u001b[38;5;28mself\u001b[39m\u001b[38;5;241m.\u001b[39mset_markeredgewidth(markeredgewidth)\n\u001b[0;32m    391\u001b[0m \u001b[38;5;66;03m# update kwargs before updating data to give the caller a\u001b[39;00m\n\u001b[0;32m    392\u001b[0m \u001b[38;5;66;03m# chance to init axes (and hence unit support)\u001b[39;00m\n\u001b[1;32m--> 393\u001b[0m \u001b[38;5;28;43mself\u001b[39;49m\u001b[38;5;241;43m.\u001b[39;49m\u001b[43mupdate\u001b[49m\u001b[43m(\u001b[49m\u001b[43mkwargs\u001b[49m\u001b[43m)\u001b[49m\n\u001b[0;32m    394\u001b[0m \u001b[38;5;28mself\u001b[39m\u001b[38;5;241m.\u001b[39mpickradius \u001b[38;5;241m=\u001b[39m pickradius\n\u001b[0;32m    395\u001b[0m \u001b[38;5;28mself\u001b[39m\u001b[38;5;241m.\u001b[39mind_offset \u001b[38;5;241m=\u001b[39m \u001b[38;5;241m0\u001b[39m\n",
      "File \u001b[1;32m~\\anaconda3\\envs\\jbook\\lib\\site-packages\\matplotlib\\artist.py:1064\u001b[0m, in \u001b[0;36mArtist.update\u001b[1;34m(self, props)\u001b[0m\n\u001b[0;32m   1062\u001b[0m             func \u001b[38;5;241m=\u001b[39m \u001b[38;5;28mgetattr\u001b[39m(\u001b[38;5;28mself\u001b[39m, \u001b[38;5;124mf\u001b[39m\u001b[38;5;124m\"\u001b[39m\u001b[38;5;124mset_\u001b[39m\u001b[38;5;132;01m{\u001b[39;00mk\u001b[38;5;132;01m}\u001b[39;00m\u001b[38;5;124m\"\u001b[39m, \u001b[38;5;28;01mNone\u001b[39;00m)\n\u001b[0;32m   1063\u001b[0m             \u001b[38;5;28;01mif\u001b[39;00m \u001b[38;5;129;01mnot\u001b[39;00m callable(func):\n\u001b[1;32m-> 1064\u001b[0m                 \u001b[38;5;28;01mraise\u001b[39;00m \u001b[38;5;167;01mAttributeError\u001b[39;00m(\u001b[38;5;124mf\u001b[39m\u001b[38;5;124m\"\u001b[39m\u001b[38;5;132;01m{\u001b[39;00m\u001b[38;5;28mtype\u001b[39m(\u001b[38;5;28mself\u001b[39m)\u001b[38;5;241m.\u001b[39m\u001b[38;5;18m__name__\u001b[39m\u001b[38;5;132;01m!r}\u001b[39;00m\u001b[38;5;124m object \u001b[39m\u001b[38;5;124m\"\u001b[39m\n\u001b[0;32m   1065\u001b[0m                                      \u001b[38;5;124mf\u001b[39m\u001b[38;5;124m\"\u001b[39m\u001b[38;5;124mhas no property \u001b[39m\u001b[38;5;132;01m{\u001b[39;00mk\u001b[38;5;132;01m!r}\u001b[39;00m\u001b[38;5;124m\"\u001b[39m)\n\u001b[0;32m   1066\u001b[0m             ret\u001b[38;5;241m.\u001b[39mappend(func(v))\n\u001b[0;32m   1067\u001b[0m \u001b[38;5;28;01mif\u001b[39;00m ret:\n",
      "\u001b[1;31mAttributeError\u001b[0m: 'Line2D' object has no property 'MarkerSize'"
     ]
    },
    {
     "data": {
      "image/png": "[encoded data removed]",
      "text/plain": [
       "<Figure size 432x288 with 1 Axes>"
      ]
     },
     "metadata": {
      "needs_background": "light"
     },
     "output_type": "display_data"
    }
   ],
   "source": [
    "plt.plot(pH,e_farm**2,\"b.\",MarkerSize=20)\n",
    "plt.xlabel(\"Soil pH\")\n",
    "plt.ylabel(\"Residual Squared (pounds / acre)$^2$\")\n",
    "plt.grid(True)\n",
    "plt.show()"
   ]
  },
  {
   "cell_type": "markdown",
   "metadata": {
    "colab_type": "text",
    "id": "ID7X84qIaWtf"
   },
   "source": [
    "**Interpretation Questions**:\n",
    "1. Do the residuals squared grow or shrink as the independent variable increases?\n",
    "1. Do the residuals squared grow or shrink with collection order?\n",
    "\n",
    "**Additional Examples**\n",
    "\n",
    "![](https://drive.google.com/uc?export=view&id=15--jigLRrNUq6TBzIraahIfzpvsJaZfN)\n",
    "\n",
    "![](https://drive.google.com/uc?export=view&id=1Hu6PEXeZqkUJ2w6mcdXNk6oqXH6k1HL5)\n",
    "\n",
    "![](https://drive.google.com/uc?export=view&id=1SJzBRLdtv1oqmhLhfZsYsSlLH17_-5GI)\n"
   ]
  },
  {
   "cell_type": "markdown",
   "metadata": {
    "colab_type": "text",
    "id": "HD1CCg4-aWtg"
   },
   "source": [
    "### What if an assumption is violated?\n",
    "\n",
    "There are several strategies to try:\n",
    "1. Try a different model (tranform variables, nonlinear regression)\n",
    "2. Weighted regression\n",
    "3. Robust regression\n",
    "\n",
    "We will discuss 1 and 2 during the next few lectures."
   ]
  },
  {
   "cell_type": "markdown",
   "metadata": {},
   "source": [
    "<div style=\"background-color: rgba(0,0,255,0.05) ; padding: 10px; border: 1px solid darkblue;\"> \n",
    "<b>Class Activity</b>: As an intern, you help run a chemical process 24 times to determine the effect of temperature on yield. The data below are presented in the order of the runs. With a partner, complete the following analysis steps.\n",
    "</div>"
   ]
  },
  {
   "cell_type": "code",
   "execution_count": 16,
   "metadata": {
    "colab": {},
    "colab_type": "code",
    "id": "BVQCxCsiaWti",
    "tags": []
   },
   "outputs": [],
   "source": [
    "temp = np.array([30, 32, 35, 39, 31, 27, 33, 34, 25, 38, 39, 30, 30, 39, 40, 44, 34, 43, 34, 41, 36, 37, 42, 28])\n",
    "proc_yld = np.array([49.2, 55.3, 53.4, 59.9, 51.4, 52.1, 60.2, 60.5, 59.3, 64.5, 68.2, 53.0, 58.3,\n",
    "                     64.3, 71.6, 73.0, 65.9, 75.2, 69.5, 80.8, 78.6, 77.2, 80.3, 69.5])"
   ]
  },
  {
   "cell_type": "markdown",
   "metadata": {
    "colab_type": "text",
    "id": "sBlQ1VS9aWtk"
   },
   "source": [
    "With a partner, complete the following analysis steps."
   ]
  },
  {
   "cell_type": "markdown",
   "metadata": {
    "colab_type": "text",
    "id": "bOqYFyEnaWtk"
   },
   "source": [
    "#### Plot and Best Fit\n",
    "\n",
    "Compute the least-squares best fit to predict yield based on process temperature. Show the best fit line overlaid on a scatter plot of the data."
   ]
  },
  {
   "cell_type": "code",
   "execution_count": 18,
   "metadata": {
    "colab": {},
    "colab_type": "code",
    "id": "20z-dCpwaWtk",
    "tags": []
   },
   "outputs": [],
   "source": [
    "# INSTRUCTIONS: The commented out code below has been copied \n",
    "# from the farm example. Modify it to use with the new data set.\n",
    "\n",
    "## fit coefficients \n",
    "# b1_, b0_, r_value, p_value, std_err = stats.linregress(x, y)\n",
    "# print(\"slope = \",b1_,\"pounds per acre / pH unit\")\n",
    "# print(\"intercept =\",b0_,\"pounds per acre\")\n",
    "\n",
    "\n",
    "## generate predictions\n",
    "# pH_pred = np.linspace(4.5, 6.1, 20)\n",
    "# yld_pred = b0_ + b1_ * pH_pred\n",
    "\n",
    "\n",
    "## create plot\n",
    "# plt.plot(pH,yld,'.b',MarkerSize=20,label='Data')\n",
    "# plt.plot(pH_pred,yld_pred,'-r',LineWidth=3,label='Best Fit Line')\n",
    "# plt.xlabel('Soil pH')\n",
    "# plt.ylabel('Dry Matter Yield [pounds / acre]')\n",
    "# plt.grid(True)\n",
    "# plt.legend()\n",
    "# plt.show()"
   ]
  },
  {
   "cell_type": "markdown",
   "metadata": {
    "colab_type": "text",
    "id": "KSsPWK5OaWto"
   },
   "source": [
    "#### Reisdual Analysis: Part 1\n",
    "\n",
    "Plot the residuals versus the fitted values. Does the linear model seem appropriate? Write a sentence to explain."
   ]
  },
  {
   "cell_type": "code",
   "execution_count": 19,
   "metadata": {
    "colab": {},
    "colab_type": "code",
    "id": "d3jciokCaWto",
    "tags": []
   },
   "outputs": [],
   "source": [
    "# INSTRUCTIONS: The commented out code below has been copied \n",
    "# from the farm example. Modify it to use with the new data set.\n",
    "\n",
    "## calculate residuals\n",
    "# yld_hat = b0_ + b1_ * pH\n",
    "# e_farm = yld - yld_hat\n",
    "# print(\"Residuals (pounds / acre):\")\n",
    "# print(e_farm)\n",
    "\n",
    "\n",
    "## create plot\n",
    "# plt.plot(yld_hat,e_farm,\"b.\",MarkerSize=20)\n",
    "# plt.xlabel(\"Predicted Yield (pounds / acre)\")\n",
    "# plt.ylabel(\"Residual (pounds / acre)\")\n",
    "# plt.grid(True)\n",
    "# plt.show()"
   ]
  },
  {
   "cell_type": "markdown",
   "metadata": {
    "colab_type": "text",
    "id": "Xo__7z0eaWtr"
   },
   "source": [
    "#### Residual Analysis: Part 2\n",
    "\n",
    "Plot the residuals versus the data collection order. Is there a trend in the residuals with time? Does the linear model seem appropriate?"
   ]
  },
  {
   "cell_type": "code",
   "execution_count": 20,
   "metadata": {
    "colab": {},
    "colab_type": "code",
    "id": "SkIa4SwsaWtr",
    "tags": []
   },
   "outputs": [],
   "source": [
    "## create plot"
   ]
  }
 ],
 "metadata": {
  "colab": {
   "collapsed_sections": [],
   "name": "L20-Linear-Regression.ipynb",
   "provenance": [],
   "version": "0.3.2"
  },
  "kernelspec": {
   "display_name": "Python 3 (ipykernel)",
   "language": "python",
   "name": "python3"
  },
  "language_info": {
   "codemirror_mode": {
    "name": "ipython",
    "version": 3
   },
   "file_extension": ".py",
   "mimetype": "text/x-python",
   "name": "python",
   "nbconvert_exporter": "python",
   "pygments_lexer": "ipython3",
   "version": "3.9.12"
  }
 },
 "nbformat": 4,
 "nbformat_minor": 4
}
