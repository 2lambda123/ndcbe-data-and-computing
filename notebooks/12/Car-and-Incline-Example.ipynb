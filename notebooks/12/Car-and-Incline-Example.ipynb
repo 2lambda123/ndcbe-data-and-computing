{
 "cells": [
  {
   "cell_type": "markdown",
   "metadata": {},
   "source": [
    "# Car and Incline Example\n"
   ]
  },
  {
   "cell_type": "markdown",
   "metadata": {},
   "source": [
    "## Learning Objectives\n",
    "After studying this notebook, attending class, asking questions, and reviewing your notes, you should be able to:\n",
    "* Find the uncertainty associated with calculations, use a weighted average to increase the accuracy."
   ]
  },
  {
   "cell_type": "code",
   "execution_count": 1,
   "metadata": {
    "tags": []
   },
   "outputs": [],
   "source": [
    "import math\n",
    "import numpy as np\n",
    "import matplotlib.pyplot as plt\n",
    "import scipy.stats as stats\n",
    "from scipy import optimize"
   ]
  },
  {
   "cell_type": "markdown",
   "metadata": {},
   "source": [
    "## Measuring Acceleration Two Ways\n",
    "\n",
    "You and a classmate want to measure the acceleration of a cart rolling down an incline plane, but disagree on the best approach. The cart starts at rest and travels distance $l = 1.0$ m. The location of the finish line is measured with negligible uncertainty. You (student 1) measure the instantaneous velocity $v = 3.2 \\pm 0.1 $ m/s at the finish line. Your classmate (student 2) instead measures the elapsed time $t = 0.63 \\pm 0.01$s."
   ]
  },
  {
   "cell_type": "markdown",
   "metadata": {},
   "source": [
    "## Approach 1\n",
    "\n",
    "Calculate the acceleration for approach 1,\n",
    "\\begin{equation}\n",
    "\ta_1 = \\frac{v^2}{2l} ~,\n",
    "\\end{equation}\n",
    "\n",
    "and estimate the associated uncertainty. Round your answer to 2 decimal points and store your answers in variables  `A1` for acceleration and `U_A1` for the uncertainty."
   ]
  },
  {
   "cell_type": "code",
   "execution_count": 2,
   "metadata": {
    "tags": [
     "remove-output"
    ]
   },
   "outputs": [
    {
     "name": "stdout",
     "output_type": "stream",
     "text": [
      "A1 = 5.12\n",
      "U_A1 = 0.32\n"
     ]
    }
   ],
   "source": [
    "# Add your solution here"
   ]
  },
  {
   "cell_type": "code",
   "execution_count": 3,
   "metadata": {
    "collapsed": true,
    "jupyter": {
     "outputs_hidden": true
    },
    "nbgrader": {
     "grade": true,
     "grade_id": "acceleration-a",
     "locked": true,
     "points": "0.4",
     "solution": false
    }
   },
   "outputs": [],
   "source": [
    "# Removed autograder test. You may delete this cell."
   ]
  },
  {
   "cell_type": "markdown",
   "metadata": {},
   "source": [
    "## Approach 2\n",
    "\n",
    "Calculate the acceleration for approach 2,\n",
    "\\begin{equation}\n",
    "\ta_2 = \\frac{2 l}{t^2}~,\n",
    "\\end{equation}\n",
    "\n",
    "and estimate the associated uncertainty. Round your answer to the correct number of significant digits and store your answers in variables  `A2` for acceleration and `U_A2` for the uncertainty."
   ]
  },
  {
   "cell_type": "code",
   "execution_count": 2,
   "metadata": {
    "tags": [
     "remove-output"
    ]
   },
   "outputs": [
    {
     "name": "stdout",
     "output_type": "stream",
     "text": [
      "A2 = 5.04\n",
      "U_A2 = 0.16\n"
     ]
    }
   ],
   "source": [
    "# Add your solution here"
   ]
  },
  {
   "cell_type": "code",
   "execution_count": 5,
   "metadata": {
    "collapsed": true,
    "jupyter": {
     "outputs_hidden": true
    },
    "nbgrader": {
     "grade": true,
     "grade_id": "acceleration-b",
     "locked": true,
     "points": "0.4",
     "solution": false
    }
   },
   "outputs": [],
   "source": [
    "# Removed autograder test. You may delete this cell."
   ]
  },
  {
   "cell_type": "markdown",
   "metadata": {},
   "source": [
    "## Weighted Average\n",
    "\n",
    "A third classmate suggests to use a weighted average of your two calculations:\n",
    "\n",
    "$$\n",
    "\ta_{3} = w a_1 + (1-w) a_2\n",
    "$$\n",
    "\n",
    "where $0 \\leq w \\leq 1$ is the weight you place on the approach 1 calculation calculations. Determine the value of $w$ that minimizes the uncertainty in $a_3$. Do the following steps: \n",
    "1. Make a plot to graphically determine this value of $w$ and from the plot, read the minimum value for $w$ and save it as the variable `weight`. \n",
    "2. Then calculate the acceleration and uncertainty from the above equation. Round your answer for acceleration and corresponding uncertainty to the correct number of significant digits and store your answers in variables  `A3` for acceleration and `U_A3` for the uncertainty. "
   ]
  },
  {
   "cell_type": "code",
   "execution_count": 6,
   "metadata": {
    "tags": [
     "remove-output"
    ]
   },
   "outputs": [
    {
     "data": {
      "image/png": "[encoded data removed]",
      "text/plain": [
       "<Figure size 432x288 with 1 Axes>"
      ]
     },
     "metadata": {},
     "output_type": "display_data"
    },
    {
     "name": "stdout",
     "output_type": "stream",
     "text": [
      "A3 = 5.06\n",
      "U_A3 = 0.14\n"
     ]
    }
   ],
   "source": [
    "# Add your solution here"
   ]
  },
  {
   "cell_type": "code",
   "execution_count": 7,
   "metadata": {
    "collapsed": true,
    "jupyter": {
     "outputs_hidden": true
    },
    "nbgrader": {
     "grade": true,
     "grade_id": "acceleration-c",
     "locked": true,
     "points": "0.3",
     "solution": false
    }
   },
   "outputs": [],
   "source": [
    "# Removed autograder test. You may delete this cell."
   ]
  },
  {
   "cell_type": "markdown",
   "metadata": {},
   "source": [
    "### Analysis\n",
    "\n",
    "Write one or two sentences (each) to answer the following questions:\n",
    "\n",
    "1. If restricted to use only $a_1$ or $a_2$, which would you choose? Why?\n",
    "2. How can a weighted average reduce the uncertainty? Why does this make sense?\n",
    "3. Why does the uncertainty in $a_3$ depend on $w$?\n",
    "\n"
   ]
  },
  {
   "cell_type": "markdown",
   "metadata": {},
   "source": [
    "Q1:\n",
    "    \n",
    "Q2:\n",
    "    \n",
    "Q3:"
   ]
  }
 ],
 "metadata": {
  "kernelspec": {
   "display_name": "Python 3 (ipykernel)",
   "language": "python",
   "name": "python3"
  },
  "language_info": {
   "codemirror_mode": {
    "name": "ipython",
    "version": 3
   },
   "file_extension": ".py",
   "mimetype": "text/x-python",
   "name": "python",
   "nbconvert_exporter": "python",
   "pygments_lexer": "ipython3",
   "version": "3.9.12"
  }
 },
 "nbformat": 4,
 "nbformat_minor": 4
}
