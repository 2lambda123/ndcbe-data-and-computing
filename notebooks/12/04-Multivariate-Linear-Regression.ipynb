{
 "cells": [
  {
   "cell_type": "markdown",
   "metadata": {
    "colab_type": "text",
    "id": "iJtEhdtInc2W"
   },
   "source": [
    "# Multivariate Linear Regression\n",
    "\n",
    "CBE 20258. Numerical and Statistical Analysis. Spring 2020.\n",
    "\n",
    "&#169; University of Notre Dame"
   ]
  },
  {
   "cell_type": "code",
   "execution_count": 2,
   "metadata": {
    "colab": {},
    "colab_type": "code",
    "id": "NrkTnC44nc2Z",
    "tags": []
   },
   "outputs": [],
   "source": [
    "# load libraries\n",
    "import scipy.stats as stats\n",
    "import numpy as np\n",
    "import scipy.optimize as optimize\n",
    "import math\n",
    "import matplotlib.pyplot as plt"
   ]
  },
  {
   "cell_type": "markdown",
   "metadata": {
    "colab_type": "text",
    "id": "2QOWL0Hmnc2g"
   },
   "source": [
    "## Learning Objectives\n",
    "\n",
    "After studying this notebook and your lecture notes, you should be able to:\n",
    "* Fit multivariate models (including polynomials) using linear regression\n",
    "* Using the 538 blog post as an example, explain why claiming a trend line is \"statistically significant\" can be misleading or not informative"
   ]
  },
  {
   "cell_type": "markdown",
   "metadata": {
    "colab_type": "text",
    "id": "-zKA3XJZnc2i"
   },
   "source": [
    "## Multivariate Regression"
   ]
  },
  {
   "cell_type": "markdown",
   "metadata": {
    "colab_type": "text",
    "id": "MLYZGxL8nc2j"
   },
   "source": [
    "### Motivating Example: Predict Bluegills Age\n",
    "\n",
    "Data source: https://newonlinecourses.science.psu.edu/stat501/node/325/"
   ]
  },
  {
   "cell_type": "code",
   "execution_count": 3,
   "metadata": {
    "colab": {
     "base_uri": "https://localhost:8080/",
     "height": 283
    },
    "colab_type": "code",
    "executionInfo": {
     "elapsed": 1133,
     "status": "ok",
     "timestamp": 1555596595074,
     "user": {
      "displayName": "Alexander Dowling",
      "photoUrl": "https://lh3.googleusercontent.com/-LChdQ2m5OQE/AAAAAAAAAAI/AAAAAAAAAA0/JeXJe4vQJ7M/s64/photo.jpg",
      "userId": "00988067626794866502"
     },
     "user_tz": 240
    },
    "id": "BDPUi2STnc2j",
    "outputId": "c9486883-8a8a-4426-e67d-a4f859c6343e"
   },
   "outputs": [
    {
     "data": {
      "image/png": "[encoded data removed]",
      "text/plain": [
       "<Figure size 432x288 with 1 Axes>"
      ]
     },
     "metadata": {
      "needs_background": "light"
     },
     "output_type": "display_data"
    }
   ],
   "source": [
    "# age of fish in years\n",
    "age = np.array([1,1,2,2,2,2,3,3,3,3,3,3,3,3,3,2,3,4,4,4,4,4,4,4,4,4,4,4,4,4,4,4,\n",
    "                4,4,4,4,4,5,4,4,4,5,2,2,4,3,4,3,4,4,4,4,3,3,3,4,4,3,4,5,4,5,4,4,\n",
    "                3,5,5,4,5,3,4,3,4,6,4,5,4,4])\n",
    "\n",
    "# length of fish in mm\n",
    "length = np.array([67,62,109,83,91,88,137,131,122,122,118,115,131,143,142,123,122,\n",
    "                   138,135,146,146,145,145,144,140,150,152,157,155,153,154,158,162,\n",
    "                   161,162,165,171,171,162,169,167,188,100,109,150,140,170,150,140,\n",
    "                   140,150,150,140,150,150,150,160,140,150,170,150,150,150,150,150,\n",
    "                   150,160,140,160,130,160,130,170,170,160,180,160,170])\n",
    "\n",
    "plt.plot(age,length,'b.')\n",
    "plt.xlabel(\"Age [years]\")\n",
    "plt.ylabel(\"Length [mm]\")\n",
    "plt.show()"
   ]
  },
  {
   "cell_type": "markdown",
   "metadata": {
    "colab_type": "text",
    "id": "hLmOhrDGnc2t"
   },
   "source": [
    "Can we use the age of the fish to predict its length?"
   ]
  },
  {
   "cell_type": "markdown",
   "metadata": {
    "colab_type": "text",
    "id": "YdHhx3rznc2u"
   },
   "source": [
    "### Normal Equations\n",
    "\n",
    "Recall from Class 20 the formulation for **multivariate linear regression**:\n",
    "\n",
    "$$\n",
    "\\underbrace{\\vec{y}}_{\\mathbb{R}^{n x 1}} = \\underbrace{\\mathbf{X}}_{\\mathbb{R}^{n x m}} \\cdot \\underbrace{\\vec{\\beta}}_{\\mathbb{R}^{m x 1}} + \\underbrace{\\vec{\\epsilon}}_{\\mathbb{R}^{n x 1}}\n",
    "$$\n",
    "\n",
    "Observations: $\\vec{y} = [y_1, y_2, ..., x_n]^T$\n",
    "\n",
    "Fitted Parameters: $\\vec{\\beta} = [\\beta_0, \\beta_1, ..., \\beta_{m}]^T$\n",
    "\n",
    "Data / Feature Matrix:\n",
    "\n",
    "$$\n",
    "\\mathbf{X} = \\begin{bmatrix} 1 & x_{1,1} & x_{1,2} & \\dots & x_{1,m} \\\\\n",
    "1 & x_{2,1} & x_{2,2} & \\dots & x_{2,m} \\\\\n",
    "\\vdots & \\vdots & \\vdots & \\ddots & \\vdots \\\\\n",
    "1 & x_{n,1} & x_{n,2} & \\dots & x_{n,m}\n",
    "\\end{bmatrix}\n",
    "$$\n",
    "\n",
    "For example, we could fit a linear model where reactor yield depended on both temperature, pressure and inlet compositions. \n",
    "\n",
    "The linear regression best fit estimates can be easily computed with linear algebra:\n",
    "\n",
    "$$\\mathbf{X}^T \\mathbf{X} \\hat{\\beta} = \\mathbf{X}^T y$$\n",
    "\n",
    "or\n",
    "\n",
    "$$ \\hat{\\beta} = (\\mathbf{X}^T \\mathbf{X})^{-1} \\mathbf{X}^T y$$\n",
    "\n",
    "where the $\\vec{~}$ is omitted for simplicity. Above are know as the **normal equations**.\n",
    "\n",
    "By applying the error propagation formula to the above equation, we can easily calculate the **covariance matrix of the fitted parameters**:\n",
    "\n",
    "$$\\Sigma_{\\hat{\\beta}} = \\hat{\\sigma}^2  (\\mathbf{X}^T \\mathbf{X})^{-1}$$"
   ]
  },
  {
   "cell_type": "markdown",
   "metadata": {
    "colab_type": "text",
    "id": "aYLiLDw2nc2v"
   },
   "source": [
    "### Attempt 1. Linear Model\n",
    "\n",
    "Let's start with a simple regression model:\n",
    "\n",
    "$$\n",
    "y = \\beta_0 + \\beta_1 x_1\n",
    "$$\n",
    "\n",
    "where $x_1$ is the length of the fish."
   ]
  },
  {
   "cell_type": "markdown",
   "metadata": {},
   "source": [
    "<div style=\"background-color: rgba(0,0,255,0.05) ; padding: 10px; border: 1px solid darkblue;\"> \n",
    "    <b>Class Activity</b>: Construct the feature matrix <tt>X</tt>.\n",
    "</div>"
   ]
  },
  {
   "cell_type": "code",
   "execution_count": 4,
   "metadata": {
    "colab": {
     "base_uri": "https://localhost:8080/",
     "height": 1387
    },
    "colab_type": "code",
    "executionInfo": {
     "elapsed": 1081,
     "status": "ok",
     "timestamp": 1555596595075,
     "user": {
      "displayName": "Alexander Dowling",
      "photoUrl": "https://lh3.googleusercontent.com/-LChdQ2m5OQE/AAAAAAAAAAI/AAAAAAAAAA0/JeXJe4vQJ7M/s64/photo.jpg",
      "userId": "00988067626794866502"
     },
     "user_tz": 240
    },
    "id": "GkEIPxbvnc2w",
    "outputId": "6da7f6d1-dc95-436d-e022-f4a621a6e497"
   },
   "outputs": [
    {
     "name": "stdout",
     "output_type": "stream",
     "text": [
      "X =\n",
      " [[1. 1.]\n",
      " [1. 1.]\n",
      " [1. 2.]\n",
      " [1. 2.]\n",
      " [1. 2.]\n",
      " [1. 2.]\n",
      " [1. 3.]\n",
      " [1. 3.]\n",
      " [1. 3.]\n",
      " [1. 3.]\n",
      " [1. 3.]\n",
      " [1. 3.]\n",
      " [1. 3.]\n",
      " [1. 3.]\n",
      " [1. 3.]\n",
      " [1. 2.]\n",
      " [1. 3.]\n",
      " [1. 4.]\n",
      " [1. 4.]\n",
      " [1. 4.]\n",
      " [1. 4.]\n",
      " [1. 4.]\n",
      " [1. 4.]\n",
      " [1. 4.]\n",
      " [1. 4.]\n",
      " [1. 4.]\n",
      " [1. 4.]\n",
      " [1. 4.]\n",
      " [1. 4.]\n",
      " [1. 4.]\n",
      " [1. 4.]\n",
      " [1. 4.]\n",
      " [1. 4.]\n",
      " [1. 4.]\n",
      " [1. 4.]\n",
      " [1. 4.]\n",
      " [1. 4.]\n",
      " [1. 5.]\n",
      " [1. 4.]\n",
      " [1. 4.]\n",
      " [1. 4.]\n",
      " [1. 5.]\n",
      " [1. 2.]\n",
      " [1. 2.]\n",
      " [1. 4.]\n",
      " [1. 3.]\n",
      " [1. 4.]\n",
      " [1. 3.]\n",
      " [1. 4.]\n",
      " [1. 4.]\n",
      " [1. 4.]\n",
      " [1. 4.]\n",
      " [1. 3.]\n",
      " [1. 3.]\n",
      " [1. 3.]\n",
      " [1. 4.]\n",
      " [1. 4.]\n",
      " [1. 3.]\n",
      " [1. 4.]\n",
      " [1. 5.]\n",
      " [1. 4.]\n",
      " [1. 5.]\n",
      " [1. 4.]\n",
      " [1. 4.]\n",
      " [1. 3.]\n",
      " [1. 5.]\n",
      " [1. 5.]\n",
      " [1. 4.]\n",
      " [1. 5.]\n",
      " [1. 3.]\n",
      " [1. 4.]\n",
      " [1. 3.]\n",
      " [1. 4.]\n",
      " [1. 6.]\n",
      " [1. 4.]\n",
      " [1. 5.]\n",
      " [1. 4.]\n",
      " [1. 4.]]\n"
     ]
    }
   ],
   "source": [
    "nfish = len(age)\n",
    "\n",
    "# feature matrix (store in 'X')\n",
    "### BEGIN SOLUTION\n",
    "X = np.ones((nfish,2))\n",
    "X[:,1] = age\n",
    "### END SOLUTION\n",
    "\n",
    "print(\"X =\\n\",X)"
   ]
  },
  {
   "cell_type": "markdown",
   "metadata": {},
   "source": [
    "<div style=\"background-color: rgba(0,0,255,0.05) ; padding: 10px; border: 1px solid darkblue;\"> \n",
    "    <b>Class Activity</b>: Compute $(\\mathbf{X}^T \\mathbf{X})^{-1}$ and store in <tt>XXinv</tt>.\n",
    "</div>"
   ]
  },
  {
   "cell_type": "code",
   "execution_count": 5,
   "metadata": {
    "colab": {
     "base_uri": "https://localhost:8080/",
     "height": 69
    },
    "colab_type": "code",
    "executionInfo": {
     "elapsed": 1286,
     "status": "ok",
     "timestamp": 1555596595293,
     "user": {
      "displayName": "Alexander Dowling",
      "photoUrl": "https://lh3.googleusercontent.com/-LChdQ2m5OQE/AAAAAAAAAAI/AAAAAAAAAA0/JeXJe4vQJ7M/s64/photo.jpg",
      "userId": "00988067626794866502"
     },
     "user_tz": 240
    },
    "id": "F2EH4L-wnc20",
    "outputId": "8e089eec-c585-4cf3-ca0d-7696848e9bdc"
   },
   "outputs": [
    {
     "name": "stdout",
     "output_type": "stream",
     "text": [
      "inv(XT X) =\n",
      " [[ 0.21161665 -0.05479187]\n",
      " [-0.05479187  0.01510165]]\n"
     ]
    }
   ],
   "source": [
    "# calculate inverse of XT * X\n",
    "### BEGIN SOLUTION\n",
    "XXinv = np.linalg.inv(X.transpose() @ X)\n",
    "### END SOLUTION\n",
    "print(\"inv(XT X) =\\n\",XXinv)"
   ]
  },
  {
   "cell_type": "markdown",
   "metadata": {},
   "source": [
    "<div style=\"background-color: rgba(0,0,255,0.05) ; padding: 10px; border: 1px solid darkblue;\"> \n",
    "    <b>Class Activity</b>: Compute $\\hat{\\mathbf{\\beta}}$ (fitted coefficients) and store in <tt>beta_hat</tt>.\n",
    "</div>"
   ]
  },
  {
   "cell_type": "code",
   "execution_count": 6,
   "metadata": {
    "colab": {
     "base_uri": "https://localhost:8080/",
     "height": 35
    },
    "colab_type": "code",
    "executionInfo": {
     "elapsed": 1271,
     "status": "ok",
     "timestamp": 1555596595293,
     "user": {
      "displayName": "Alexander Dowling",
      "photoUrl": "https://lh3.googleusercontent.com/-LChdQ2m5OQE/AAAAAAAAAAI/AAAAAAAAAA0/JeXJe4vQJ7M/s64/photo.jpg",
      "userId": "00988067626794866502"
     },
     "user_tz": 240
    },
    "id": "FAXyZN-3nc26",
    "outputId": "b9d04dc9-f175-4f21-84ad-26770ca363b3"
   },
   "outputs": [
    {
     "name": "stdout",
     "output_type": "stream",
     "text": [
      "beta_hat = [62.64898354 22.31229429]\n"
     ]
    }
   ],
   "source": [
    "# recall we can calculate the best fit coefficients with linear algebra\n",
    "### BEGIN SOLUTION\n",
    "beta_hat = XXinv @ X.transpose() @ length\n",
    "### END SOLUTION\n",
    "print(\"beta_hat =\",beta_hat)"
   ]
  },
  {
   "cell_type": "markdown",
   "metadata": {},
   "source": [
    "<div style=\"background-color: rgba(0,0,255,0.05) ; padding: 10px; border: 1px solid darkblue;\"> \n",
    "    <b>Class Activity</b>: Complete the code below to evaluate the model and plot the predictions.\n",
    "</div>"
   ]
  },
  {
   "cell_type": "code",
   "execution_count": 7,
   "metadata": {
    "colab": {
     "base_uri": "https://localhost:8080/",
     "height": 283
    },
    "colab_type": "code",
    "executionInfo": {
     "elapsed": 1614,
     "status": "ok",
     "timestamp": 1555596595655,
     "user": {
      "displayName": "Alexander Dowling",
      "photoUrl": "https://lh3.googleusercontent.com/-LChdQ2m5OQE/AAAAAAAAAAI/AAAAAAAAAA0/JeXJe4vQJ7M/s64/photo.jpg",
      "userId": "00988067626794866502"
     },
     "user_tz": 240
    },
    "id": "HL3cqdKxnc29",
    "outputId": "b78be2b6-4131-489d-c9e4-9881e8c00b40"
   },
   "outputs": [
    {
     "data": {
      "image/png": "[encoded data removed]",
      "text/plain": [
       "<Figure size 432x288 with 1 Axes>"
      ]
     },
     "metadata": {
      "needs_background": "light"
     },
     "output_type": "display_data"
    }
   ],
   "source": [
    "## evaluate predictions\n",
    "\n",
    "# create ages to evaluate model with\n",
    "age_plot = np.linspace(1,6,100)\n",
    "\n",
    "# create new X matrix with 100 rows and 2 columns\n",
    "Xplot = np.ones((len(age_plot),2))\n",
    "\n",
    "# fill in second column\n",
    "### BEGIN SOLUTION\n",
    "Xplot[:,1] = age_plot\n",
    "### END SOLUTION\n",
    "\n",
    "# evaluate model and store in `length_plot`\n",
    "### BEGIN SOLUTION\n",
    "length_plot = Xplot @ beta_hat\n",
    "### END SOLUTION\n",
    "\n",
    "# plot\n",
    "plt.plot(age,length,'b.',markersize=10,label=\"Data\")\n",
    "plt.plot(age_plot,length_plot,'r-',label=\"Best Fit\")\n",
    "plt.xlabel(\"Age [years]\")\n",
    "plt.ylabel(\"Length [mm]\")\n",
    "plt.legend()\n",
    "plt.show()"
   ]
  },
  {
   "cell_type": "markdown",
   "metadata": {},
   "source": [
    "<div style=\"background-color: rgba(0,0,255,0.05) ; padding: 10px; border: 1px solid darkblue;\"> \n",
    "    <b>Class Activity</b>: Calculate and plot the residuals.\n",
    "</div>"
   ]
  },
  {
   "cell_type": "code",
   "execution_count": 8,
   "metadata": {
    "colab": {
     "base_uri": "https://localhost:8080/",
     "height": 283
    },
    "colab_type": "code",
    "executionInfo": {
     "elapsed": 1743,
     "status": "ok",
     "timestamp": 1555596595803,
     "user": {
      "displayName": "Alexander Dowling",
      "photoUrl": "https://lh3.googleusercontent.com/-LChdQ2m5OQE/AAAAAAAAAAI/AAAAAAAAAA0/JeXJe4vQJ7M/s64/photo.jpg",
      "userId": "00988067626794866502"
     },
     "user_tz": 240
    },
    "id": "9fNBTQwJnc3B",
    "outputId": "ccecdb09-619e-4d87-c42a-1be505e6a3cf"
   },
   "outputs": [
    {
     "data": {
      "image/png": "[encoded data removed]",
      "text/plain": [
       "<Figure size 432x288 with 1 Axes>"
      ]
     },
     "metadata": {
      "needs_background": "light"
     },
     "output_type": "display_data"
    }
   ],
   "source": [
    "# calculate residuals, store in `e`\n",
    "### BEGIN SOLUTION\n",
    "e = X @ beta_hat - length\n",
    "### END SOLUTION\n",
    "\n",
    "plt.plot(age,e,'b.')\n",
    "plt.xlabel(\"Age [years]\")\n",
    "plt.ylabel(\"Residuals [mm]\")\n",
    "plt.show()"
   ]
  },
  {
   "cell_type": "markdown",
   "metadata": {},
   "source": [
    "<div style=\"background-color: rgba(0,0,255,0.05) ; padding: 10px; border: 1px solid darkblue;\"> \n",
    "    <b>Class Activity</b>: Compute the variance of the residuals. Then compute the covariance of the fitted parameters.\n",
    "</div>"
   ]
  },
  {
   "cell_type": "code",
   "execution_count": 9,
   "metadata": {
    "colab": {
     "base_uri": "https://localhost:8080/",
     "height": 69
    },
    "colab_type": "code",
    "executionInfo": {
     "elapsed": 1732,
     "status": "ok",
     "timestamp": 1555596595805,
     "user": {
      "displayName": "Alexander Dowling",
      "photoUrl": "https://lh3.googleusercontent.com/-LChdQ2m5OQE/AAAAAAAAAAI/AAAAAAAAAA0/JeXJe4vQJ7M/s64/photo.jpg",
      "userId": "00988067626794866502"
     },
     "user_tz": 240
    },
    "id": "lGywykVmnc3E",
    "outputId": "fbb1a4f5-3781-492e-eb87-0098d47d0565"
   },
   "outputs": [
    {
     "name": "stdout",
     "output_type": "stream",
     "text": [
      "variance of residuals =  156.48469455342126 add units\n",
      "covariance matrix:\n",
      " [[ 5181.95418684 -1341.71366411]\n",
      " [-1341.71366411   369.80093923]]\n"
     ]
    }
   ],
   "source": [
    "# compute variance of residuals, store in `se`\n",
    "### BEGIN SOLUTION\n",
    "se = e @ e / (nfish - 2)\n",
    "### END SOLUTION\n",
    "print(\"variance of residuals = \",se,\"add units\")\n",
    "\n",
    "# compute covariance matrix, store in `Sigma_beta`\n",
    "### BEGIN SOLUTION\n",
    "Sigma_beta = se**2 * XXinv\n",
    "### END SOLUTION\n",
    "print(\"covariance matrix:\\n\",Sigma_beta)"
   ]
  },
  {
   "cell_type": "markdown",
   "metadata": {
    "colab_type": "text",
    "id": "T5lbQLWDnc3H"
   },
   "source": [
    "### Attempt 2. Quadratic Model"
   ]
  },
  {
   "cell_type": "markdown",
   "metadata": {
    "colab_type": "text",
    "id": "cYopveU6nc3I"
   },
   "source": [
    "Let's try a quadratic model now:\n",
    "\n",
    "$$\n",
    "y = \\beta_0 + \\beta_1 x_1 + \\beta_2 x_2\n",
    "$$\n",
    "\n",
    "where $x_1$ is the age and $x_2$ is age squared."
   ]
  },
  {
   "cell_type": "markdown",
   "metadata": {},
   "source": [
    "<div style=\"background-color: rgba(0,0,255,0.05) ; padding: 10px; border: 1px solid darkblue;\"> \n",
    "    <b>Class Activity</b>: With a partner, modify the code below (copied from previous example) to and fit the quadratic model.\n",
    "</div>"
   ]
  },
  {
   "cell_type": "code",
   "execution_count": 10,
   "metadata": {
    "colab": {
     "base_uri": "https://localhost:8080/",
     "height": 1387
    },
    "colab_type": "code",
    "executionInfo": {
     "elapsed": 1718,
     "status": "ok",
     "timestamp": 1555596595808,
     "user": {
      "displayName": "Alexander Dowling",
      "photoUrl": "https://lh3.googleusercontent.com/-LChdQ2m5OQE/AAAAAAAAAAI/AAAAAAAAAA0/JeXJe4vQJ7M/s64/photo.jpg",
      "userId": "00988067626794866502"
     },
     "user_tz": 240
    },
    "id": "A4-teiW3nc3J",
    "outputId": "68a51bc7-c8f1-493d-ef44-324dee1869da"
   },
   "outputs": [
    {
     "name": "stdout",
     "output_type": "stream",
     "text": [
      "X =\n",
      " [[ 1.  1.  1.]\n",
      " [ 1.  1.  1.]\n",
      " [ 1.  2.  4.]\n",
      " [ 1.  2.  4.]\n",
      " [ 1.  2.  4.]\n",
      " [ 1.  2.  4.]\n",
      " [ 1.  3.  9.]\n",
      " [ 1.  3.  9.]\n",
      " [ 1.  3.  9.]\n",
      " [ 1.  3.  9.]\n",
      " [ 1.  3.  9.]\n",
      " [ 1.  3.  9.]\n",
      " [ 1.  3.  9.]\n",
      " [ 1.  3.  9.]\n",
      " [ 1.  3.  9.]\n",
      " [ 1.  2.  4.]\n",
      " [ 1.  3.  9.]\n",
      " [ 1.  4. 16.]\n",
      " [ 1.  4. 16.]\n",
      " [ 1.  4. 16.]\n",
      " [ 1.  4. 16.]\n",
      " [ 1.  4. 16.]\n",
      " [ 1.  4. 16.]\n",
      " [ 1.  4. 16.]\n",
      " [ 1.  4. 16.]\n",
      " [ 1.  4. 16.]\n",
      " [ 1.  4. 16.]\n",
      " [ 1.  4. 16.]\n",
      " [ 1.  4. 16.]\n",
      " [ 1.  4. 16.]\n",
      " [ 1.  4. 16.]\n",
      " [ 1.  4. 16.]\n",
      " [ 1.  4. 16.]\n",
      " [ 1.  4. 16.]\n",
      " [ 1.  4. 16.]\n",
      " [ 1.  4. 16.]\n",
      " [ 1.  4. 16.]\n",
      " [ 1.  5. 25.]\n",
      " [ 1.  4. 16.]\n",
      " [ 1.  4. 16.]\n",
      " [ 1.  4. 16.]\n",
      " [ 1.  5. 25.]\n",
      " [ 1.  2.  4.]\n",
      " [ 1.  2.  4.]\n",
      " [ 1.  4. 16.]\n",
      " [ 1.  3.  9.]\n",
      " [ 1.  4. 16.]\n",
      " [ 1.  3.  9.]\n",
      " [ 1.  4. 16.]\n",
      " [ 1.  4. 16.]\n",
      " [ 1.  4. 16.]\n",
      " [ 1.  4. 16.]\n",
      " [ 1.  3.  9.]\n",
      " [ 1.  3.  9.]\n",
      " [ 1.  3.  9.]\n",
      " [ 1.  4. 16.]\n",
      " [ 1.  4. 16.]\n",
      " [ 1.  3.  9.]\n",
      " [ 1.  4. 16.]\n",
      " [ 1.  5. 25.]\n",
      " [ 1.  4. 16.]\n",
      " [ 1.  5. 25.]\n",
      " [ 1.  4. 16.]\n",
      " [ 1.  4. 16.]\n",
      " [ 1.  3.  9.]\n",
      " [ 1.  5. 25.]\n",
      " [ 1.  5. 25.]\n",
      " [ 1.  4. 16.]\n",
      " [ 1.  5. 25.]\n",
      " [ 1.  3.  9.]\n",
      " [ 1.  4. 16.]\n",
      " [ 1.  3.  9.]\n",
      " [ 1.  4. 16.]\n",
      " [ 1.  6. 36.]\n",
      " [ 1.  4. 16.]\n",
      " [ 1.  5. 25.]\n",
      " [ 1.  4. 16.]\n",
      " [ 1.  4. 16.]]\n"
     ]
    }
   ],
   "source": [
    "# construct the feature matrix\n",
    "X = np.ones((nfish,3))\n",
    "\n",
    "### BEGIN SOLUTION\n",
    "X[:,1] = age\n",
    "X[:,2] = age**2\n",
    "### END SOLUTION\n",
    "\n",
    "print(\"X =\\n\",X)"
   ]
  },
  {
   "cell_type": "code",
   "execution_count": 11,
   "metadata": {
    "colab": {
     "base_uri": "https://localhost:8080/",
     "height": 87
    },
    "colab_type": "code",
    "executionInfo": {
     "elapsed": 1994,
     "status": "ok",
     "timestamp": 1555596596095,
     "user": {
      "displayName": "Alexander Dowling",
      "photoUrl": "https://lh3.googleusercontent.com/-LChdQ2m5OQE/AAAAAAAAAAI/AAAAAAAAAA0/JeXJe4vQJ7M/s64/photo.jpg",
      "userId": "00988067626794866502"
     },
     "user_tz": 240
    },
    "id": "AfgYJVownc3L",
    "outputId": "cf998465-8a41-4e46-c34b-571f84f1a3eb"
   },
   "outputs": [
    {
     "name": "stdout",
     "output_type": "stream",
     "text": [
      "inv(XT X) =\n",
      " [[ 1.02032931 -0.57830612  0.07783618]\n",
      " [-0.57830612  0.35399479 -0.05038669]\n",
      " [ 0.07783618 -0.05038669  0.0074915 ]]\n"
     ]
    }
   ],
   "source": [
    "# calculate inverse of XT * X, store in XXinv\n",
    "### BEGIN SOLUTION\n",
    "XXinv = np.linalg.inv(X.transpose().dot(X))\n",
    "### END SOLUTION\n",
    "print(\"inv(XT X) =\\n\",XXinv)"
   ]
  },
  {
   "cell_type": "code",
   "execution_count": 12,
   "metadata": {
    "colab": {
     "base_uri": "https://localhost:8080/",
     "height": 35
    },
    "colab_type": "code",
    "executionInfo": {
     "elapsed": 1979,
     "status": "ok",
     "timestamp": 1555596596096,
     "user": {
      "displayName": "Alexander Dowling",
      "photoUrl": "https://lh3.googleusercontent.com/-LChdQ2m5OQE/AAAAAAAAAAI/AAAAAAAAAA0/JeXJe4vQJ7M/s64/photo.jpg",
      "userId": "00988067626794866502"
     },
     "user_tz": 240
    },
    "id": "M3WsRl_Knc3O",
    "outputId": "71062ec9-48da-4755-b7d0-8e7adc9bc7ad"
   },
   "outputs": [
    {
     "name": "stdout",
     "output_type": "stream",
     "text": [
      "beta_hat = [13.62237616 54.04931191 -4.71866479]\n"
     ]
    }
   ],
   "source": [
    "# recall we can calculate the best fit coefficients with linear algebra, store in beta_hat\n",
    "### BEGIN SOLUTION\n",
    "beta_hat = XXinv @ X.transpose() @ length\n",
    "### END SOLUTION\n",
    "print(\"beta_hat =\",beta_hat)"
   ]
  },
  {
   "cell_type": "code",
   "execution_count": 13,
   "metadata": {
    "colab": {
     "base_uri": "https://localhost:8080/",
     "height": 283
    },
    "colab_type": "code",
    "executionInfo": {
     "elapsed": 2134,
     "status": "ok",
     "timestamp": 1555596596264,
     "user": {
      "displayName": "Alexander Dowling",
      "photoUrl": "https://lh3.googleusercontent.com/-LChdQ2m5OQE/AAAAAAAAAAI/AAAAAAAAAA0/JeXJe4vQJ7M/s64/photo.jpg",
      "userId": "00988067626794866502"
     },
     "user_tz": 240
    },
    "id": "CmWaMGVvnc3Q",
    "outputId": "4bd46e29-702e-4d86-94d8-830372e32bfe"
   },
   "outputs": [
    {
     "data": {
      "image/png": "[encoded data removed]",
      "text/plain": [
       "<Figure size 432x288 with 1 Axes>"
      ]
     },
     "metadata": {
      "needs_background": "light"
     },
     "output_type": "display_data"
    }
   ],
   "source": [
    "## evaluate predictions\n",
    "\n",
    "# create ages to evaluate model with\n",
    "age_plot = np.linspace(1,6,100)\n",
    "\n",
    "# create new X matrix with 100 rows and 2 columns\n",
    "Xplot = np.ones((len(age_plot),3))\n",
    "\n",
    "# fill in second and third column\n",
    "### BEGIN SOLUTION\n",
    "Xplot[:,1] = age_plot\n",
    "Xplot[:,2] = age_plot**2\n",
    "### END SOLUTION\n",
    "\n",
    "# evaluate model, store predictions in length_plot\n",
    "### BEGIN SOLUTION\n",
    "length_plot = Xplot @ beta_hat\n",
    "### END SOLUTION\n",
    "\n",
    "# plot\n",
    "plt.plot(age,length,'b.',markersize=10,label=\"Data\")\n",
    "plt.plot(age_plot,length_plot,'r-',label=\"Best Fit\")\n",
    "plt.xlabel(\"Age [years]\")\n",
    "plt.ylabel(\"Length [mm]\")\n",
    "plt.legend()\n",
    "plt.show()"
   ]
  },
  {
   "cell_type": "code",
   "execution_count": 14,
   "metadata": {
    "colab": {
     "base_uri": "https://localhost:8080/",
     "height": 283
    },
    "colab_type": "code",
    "executionInfo": {
     "elapsed": 2283,
     "status": "ok",
     "timestamp": 1555596596428,
     "user": {
      "displayName": "Alexander Dowling",
      "photoUrl": "https://lh3.googleusercontent.com/-LChdQ2m5OQE/AAAAAAAAAAI/AAAAAAAAAA0/JeXJe4vQJ7M/s64/photo.jpg",
      "userId": "00988067626794866502"
     },
     "user_tz": 240
    },
    "id": "2HaxPzgTnc3T",
    "outputId": "f76ecdd3-f5e1-4844-e445-25ae1e5fd018"
   },
   "outputs": [
    {
     "data": {
      "image/png": "[encoded data removed]",
      "text/plain": [
       "<Figure size 432x288 with 1 Axes>"
      ]
     },
     "metadata": {
      "needs_background": "light"
     },
     "output_type": "display_data"
    }
   ],
   "source": [
    "# calculate residuals, store in `e`\n",
    "### BEGIN SOLUTION\n",
    "e = X @ beta_hat - length\n",
    "### END SOLUTION\n",
    "\n",
    "plt.plot(age,e,'b.')\n",
    "plt.xlabel(\"Age [years]\")\n",
    "plt.ylabel(\"Residuals [mm]\")\n",
    "plt.show()"
   ]
  },
  {
   "cell_type": "code",
   "execution_count": 15,
   "metadata": {
    "colab": {
     "base_uri": "https://localhost:8080/",
     "height": 87
    },
    "colab_type": "code",
    "executionInfo": {
     "elapsed": 2268,
     "status": "ok",
     "timestamp": 1555596596429,
     "user": {
      "displayName": "Alexander Dowling",
      "photoUrl": "https://lh3.googleusercontent.com/-LChdQ2m5OQE/AAAAAAAAAAI/AAAAAAAAAA0/JeXJe4vQJ7M/s64/photo.jpg",
      "userId": "00988067626794866502"
     },
     "user_tz": 240
    },
    "id": "LCbE9lbPnc3W",
    "outputId": "83e752f5-c616-49a8-c3c6-5345fa5c7140"
   },
   "outputs": [
    {
     "name": "stdout",
     "output_type": "stream",
     "text": [
      "covariance matrix:\n",
      " [[14434.94954579 -8181.49557518  1101.17523061]\n",
      " [-8181.49557518  5008.08601591  -712.8377746 ]\n",
      " [ 1101.17523061  -712.8377746    105.98483278]]\n"
     ]
    }
   ],
   "source": [
    "# compute the variance of residuals, store in `e`\n",
    "### BEGIN SOLUTION\n",
    "se = e @ e / (nfish - 3)\n",
    "### END SOLUTION\n",
    "\n",
    "\n",
    "# compute covariance matrix, store in `Sigma_beta`\n",
    "### BEGIN SOLUTION\n",
    "Sigma_beta = se**2 * XXinv\n",
    "### END SOLUTION\n",
    "print(\"covariance matrix:\\n\",Sigma_beta)"
   ]
  },
  {
   "cell_type": "markdown",
   "metadata": {
    "colab_type": "text",
    "id": "w0lOt8wrnc3b"
   },
   "source": [
    "### How to select the best model?\n",
    "\n",
    "We can calculate a p-value to determine if a model is statistically significant.\n",
    "\n",
    "https://fivethirtyeight.com/features/science-isnt-broken/#part1"
   ]
  }
 ],
 "metadata": {
  "colab": {
   "name": "L23-Weighted-Multivariate-Regression.ipynb",
   "provenance": [],
   "version": "0.3.2"
  },
  "kernelspec": {
   "display_name": "Python 3 (ipykernel)",
   "language": "python",
   "name": "python3"
  },
  "language_info": {
   "codemirror_mode": {
    "name": "ipython",
    "version": 3
   },
   "file_extension": ".py",
   "mimetype": "text/x-python",
   "name": "python",
   "nbconvert_exporter": "python",
   "pygments_lexer": "ipython3",
   "version": "3.9.12"
  }
 },
 "nbformat": 4,
 "nbformat_minor": 4
}
