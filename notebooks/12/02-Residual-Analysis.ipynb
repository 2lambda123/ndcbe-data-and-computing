{
 "cells": [
  {
   "cell_type": "markdown",
   "metadata": {
    "colab_type": "text",
    "id": "qcE-uuSfaWs0"
   },
   "source": [
    "# Residual Analysis\n",
    "**Further Reading:** §7.4 in Navidi (2015), *Checking Assumptions and Transforming Data*\n"
   ]
  },
  {
   "cell_type": "code",
   "execution_count": 4,
   "metadata": {
    "colab": {},
    "colab_type": "code",
    "id": "t8omIiX7aWs1",
    "tags": []
   },
   "outputs": [],
   "source": [
    "# load libraries\n",
    "import scipy.stats as stats\n",
    "import numpy as np\n",
    "import math\n",
    "import matplotlib.pyplot as plt"
   ]
  },
  {
   "cell_type": "markdown",
   "metadata": {
    "colab_type": "text",
    "id": "9HPF1azhtHFl"
   },
   "source": [
    "## Learning Objectives\n",
    "\n",
    "After studying this notebook and your lecture notes, you should be able to:\n",
    "* Check linear regression error assumptions using residual analysis (plots)\n",
    "* Compute residual standard error and covariance matrix for fitted parameters"
   ]
  },
  {
   "cell_type": "markdown",
   "metadata": {
    "colab_type": "text",
    "id": "-EG9XvACaWtJ"
   },
   "source": [
    "## Residual Analysis\n",
    "\n",
    "Recall the simple linear model:\n",
    "\n",
    "$$y_i = \\beta_0 + \\beta_1 x_i + \\epsilon_i$$\n",
    "\n",
    "We are now going to focus on the random observation error $\\epsilon$. In order to perform **uncertainty analysis and statistical inference** (next notebook), we need to check the following **assumptions about the error**:\n",
    "1. The errors $\\epsilon_1$, ..., $\\epsilon_n$ are **random and independent**. Thus the magnitude of any error $\\epsilon_i$ does not impact the magnitude of error $\\epsilon_{i+1}$.\n",
    "2. The errors $\\epsilon_1$, ..., $\\epsilon_n$ all have **mean zero**.\n",
    "3. The errors $\\epsilon_1$, ..., $\\epsilon_n$ all have the **same variance**, denoted $\\sigma^2$.\n",
    "4. The errors $\\epsilon_1$, ..., $\\epsilon_n$ are **normally distributed**.\n",
    "\n",
    "We will now discuss several strategies to check these assumptions."
   ]
  },
  {
   "cell_type": "markdown",
   "metadata": {
    "colab_type": "text",
    "id": "tz6ut_fsaWtK"
   },
   "source": [
    "## Calculate Residuals\n",
    "\n",
    "We cannot measure $\\epsilon_i$ directly. Instead, we will estimate it using the residual:\n",
    "\n",
    "$$\n",
    "\\underbrace{e_i}_{\\mathrm{residual}} = \\underbrace{y_i}_\\mathrm{observation} - \\underbrace{\\hat{y}_i}_{\\mathrm{prediction}}\n",
    "$$\n",
    "\n",
    "We might write $r_i$ instead of $e_i$ for residual. Old habit."
   ]
  },
  {
   "cell_type": "code",
   "execution_count": 7,
   "metadata": {},
   "outputs": [],
   "source": [
    "# necessary data from previous notebook to calculate residuals\n",
    "pH = np.array([4.6, 4.8, 5.2, 5.4, 5.6, 5.8, 6.0])\n",
    "yld = np.array([1056, 1833, 1629, 1852, 1783, 2647, 2131])\n",
    "b1_ = 737.1014492753624\n",
    "b0_ = -2090.942028985508"
   ]
  },
  {
   "cell_type": "code",
   "execution_count": 8,
   "metadata": {
    "colab": {
     "base_uri": "https://localhost:8080/",
     "height": 68
    },
    "colab_type": "code",
    "executionInfo": {
     "elapsed": 1898,
     "status": "ok",
     "timestamp": 1554384416649,
     "user": {
      "displayName": "Alexander Dowling",
      "photoUrl": "https://lh3.googleusercontent.com/-LChdQ2m5OQE/AAAAAAAAAAI/AAAAAAAAAA0/JeXJe4vQJ7M/s64/photo.jpg",
      "userId": "00988067626794866502"
     },
     "user_tz": 240
    },
    "id": "df4ML5hqaWtL",
    "outputId": "fe285714-f332-4527-da16-cf3bd88cca67"
   },
   "outputs": [
    {
     "name": "stdout",
     "output_type": "stream",
     "text": [
      "Residuals (pounds / acre):\n",
      "[-243.72463768  385.85507246 -112.98550725  -37.4057971  -253.82608696\n",
      "  462.75362319 -200.66666667]\n"
     ]
    }
   ],
   "source": [
    "yld_hat = b0_ + b1_ * pH\n",
    "e_farm = yld - yld_hat\n",
    "print(\"Residuals (pounds / acre):\")\n",
    "print(e_farm)"
   ]
  },
  {
   "cell_type": "markdown",
   "metadata": {
    "colab_type": "text",
    "id": "m-yVgRESaWtN"
   },
   "source": [
    "## Histogram of Residuals\n",
    "\n",
    "Assumption 4: Are the residuals normally distributed?"
   ]
  },
  {
   "cell_type": "code",
   "execution_count": 9,
   "metadata": {
    "colab": {
     "base_uri": "https://localhost:8080/",
     "height": 361
    },
    "colab_type": "code",
    "executionInfo": {
     "elapsed": 2019,
     "status": "ok",
     "timestamp": 1554384416785,
     "user": {
      "displayName": "Alexander Dowling",
      "photoUrl": "https://lh3.googleusercontent.com/-LChdQ2m5OQE/AAAAAAAAAAI/AAAAAAAAAA0/JeXJe4vQJ7M/s64/photo.jpg",
      "userId": "00988067626794866502"
     },
     "user_tz": 240
    },
    "id": "FHPF1K9xaWtO",
    "outputId": "cc0558d3-89c6-4f4f-c0fd-fb372972f4bc"
   },
   "outputs": [
    {
     "data": {
      "image/png": "[encoded data removed]",
      "text/plain": [
       "<Figure size 432x288 with 1 Axes>"
      ]
     },
     "metadata": {
      "needs_background": "light"
     },
     "output_type": "display_data"
    }
   ],
   "source": [
    "plt.hist(e_farm)\n",
    "plt.xlabel(\"Residual (pounds / acre)\")\n",
    "plt.ylabel(\"Frequency (count)\")\n",
    "plt.show()"
   ]
  },
  {
   "cell_type": "markdown",
   "metadata": {
    "colab_type": "text",
    "id": "ZUkRmyV-aWtQ"
   },
   "source": [
    "**Interpretation Questions:**\n",
    "1. Are there any extreme outliers?\n",
    "2. (large data sets) Does the histogram look approximately normal?"
   ]
  },
  {
   "cell_type": "markdown",
   "metadata": {
    "colab_type": "text",
    "id": "b6R5-VjoaWtR"
   },
   "source": [
    "## Scatter Plot of Residuals versus Predicted Values\n",
    "\n",
    "Assumption 1: Are the residuals random and independent?"
   ]
  },
  {
   "cell_type": "code",
   "execution_count": 10,
   "metadata": {
    "colab": {
     "base_uri": "https://localhost:8080/",
     "height": 361
    },
    "colab_type": "code",
    "executionInfo": {
     "elapsed": 2686,
     "status": "ok",
     "timestamp": 1554384417471,
     "user": {
      "displayName": "Alexander Dowling",
      "photoUrl": "https://lh3.googleusercontent.com/-LChdQ2m5OQE/AAAAAAAAAAI/AAAAAAAAAA0/JeXJe4vQJ7M/s64/photo.jpg",
      "userId": "00988067626794866502"
     },
     "user_tz": 240
    },
    "id": "XR4hPkpRaWtS",
    "outputId": "f9d6bea1-bfaa-4007-bbeb-e7d9ec219271"
   },
   "outputs": [
    {
     "data": {
      "image/png": "[encoded data removed]",
      "text/plain": [
       "<Figure size 432x288 with 1 Axes>"
      ]
     },
     "metadata": {
      "needs_background": "light"
     },
     "output_type": "display_data"
    }
   ],
   "source": [
    "plt.plot(yld_hat,e_farm,\"b.\", markersize=20)\n",
    "plt.xlabel(\"Predicted Yield (pounds / acre)\")\n",
    "plt.ylabel(\"Residual (pounds / acre)\")\n",
    "plt.grid(True)\n",
    "plt.show()"
   ]
  },
  {
   "cell_type": "markdown",
   "metadata": {
    "colab_type": "text",
    "id": "eM_gS2QUbhJw"
   },
   "source": [
    "**Interpretation Questions**:\n",
    "1. Are there any clear patterns in the residuals?\n",
    "2. Are there any extreme outliers?\n",
    "\n",
    "**Additional Example**"
   ]
  },
  {
   "cell_type": "code",
   "execution_count": 11,
   "metadata": {},
   "outputs": [
    {
     "data": {
      "image/png": "[encoded data removed]",
      "text/plain": [
       "<Figure size 432x288 with 1 Axes>"
      ]
     },
     "metadata": {
      "needs_background": "light"
     },
     "output_type": "display_data"
    }
   ],
   "source": [
    "x = np.random.normal(0,20,200)\n",
    "y = np.random.normal(-4,4,200)\n",
    "plt.scatter(x,y)\n",
    "plt.xlabel('Fitted values')\n",
    "plt.ylabel('Residuals')\n",
    "plt.show()"
   ]
  },
  {
   "cell_type": "markdown",
   "metadata": {},
   "source": [
    "As you can see, there is no significant pattern to this plot and the vertical spread doesn't vary too much.  This is consistent with the linear model assumptions."
   ]
  },
  {
   "cell_type": "markdown",
   "metadata": {
    "colab_type": "text",
    "id": "Z_H9nGJkaWtV"
   },
   "source": [
    "## Scatter Plot of Residuals versus Independent Variable\n",
    "\n",
    "Assumption 1: Are the residuals random and independent?"
   ]
  },
  {
   "cell_type": "code",
   "execution_count": 12,
   "metadata": {
    "colab": {
     "base_uri": "https://localhost:8080/",
     "height": 361
    },
    "colab_type": "code",
    "executionInfo": {
     "elapsed": 2670,
     "status": "ok",
     "timestamp": 1554384417472,
     "user": {
      "displayName": "Alexander Dowling",
      "photoUrl": "https://lh3.googleusercontent.com/-LChdQ2m5OQE/AAAAAAAAAAI/AAAAAAAAAA0/JeXJe4vQJ7M/s64/photo.jpg",
      "userId": "00988067626794866502"
     },
     "user_tz": 240
    },
    "id": "cwRn10JUaWtW",
    "outputId": "c91e6c6e-c90c-467d-b027-ca73e6194a36"
   },
   "outputs": [
    {
     "data": {
      "image/png": "[encoded data removed]",
      "text/plain": [
       "<Figure size 432x288 with 1 Axes>"
      ]
     },
     "metadata": {
      "needs_background": "light"
     },
     "output_type": "display_data"
    }
   ],
   "source": [
    "plt.plot(pH,e_farm,\"b.\",markersize=20)\n",
    "plt.xlabel(\"Soil pH\")\n",
    "plt.ylabel(\"Residual (pounds / acre)\")\n",
    "plt.grid(True)\n",
    "plt.show()"
   ]
  },
  {
   "cell_type": "markdown",
   "metadata": {
    "colab_type": "text",
    "id": "CW8Q6EegaWtY"
   },
   "source": [
    "**Interpretation Questions**:\n",
    "1. Are there any clear patterns in the residuals?\n",
    "2. Are there any extreme outliers?\n",
    "\n",
    "**Additional Examples**\n",
    "\n",
    "![](../../media/bestfit1.png)\n",
    "![](../../media/bestfit2.png)\n"
   ]
  },
  {
   "cell_type": "markdown",
   "metadata": {
    "colab_type": "text",
    "id": "O8rDmpfwaWtZ"
   },
   "source": [
    "## Scatter Plot of Residuals versus Data Collection Order\n",
    "\n",
    "If you know the order data were collected, it is critical to create another scatter plot. You need to ensure there are no patterns (correlations) in time."
   ]
  },
  {
   "cell_type": "markdown",
   "metadata": {
    "colab_type": "text",
    "id": "U8_98eFwaWta"
   },
   "source": [
    "## Scatter Plot of Residuals Squared versus Independent Variable (and Collection Order)\n",
    "\n",
    "Assumption 3: Do the residuals have the same variance?"
   ]
  },
  {
   "cell_type": "code",
   "execution_count": 13,
   "metadata": {
    "colab": {
     "base_uri": "https://localhost:8080/",
     "height": 361
    },
    "colab_type": "code",
    "executionInfo": {
     "elapsed": 2855,
     "status": "ok",
     "timestamp": 1554384417673,
     "user": {
      "displayName": "Alexander Dowling",
      "photoUrl": "https://lh3.googleusercontent.com/-LChdQ2m5OQE/AAAAAAAAAAI/AAAAAAAAAA0/JeXJe4vQJ7M/s64/photo.jpg",
      "userId": "00988067626794866502"
     },
     "user_tz": 240
    },
    "id": "vFQUU8GTaWtb",
    "outputId": "8e05c2fb-b75d-424b-c6b1-7c0e41b19cab"
   },
   "outputs": [
    {
     "data": {
      "image/png": "[encoded data removed]",
      "text/plain": [
       "<Figure size 432x288 with 1 Axes>"
      ]
     },
     "metadata": {
      "needs_background": "light"
     },
     "output_type": "display_data"
    }
   ],
   "source": [
    "plt.plot(pH,e_farm**2,\"b.\",markersize=20)\n",
    "plt.xlabel(\"Soil pH\")\n",
    "plt.ylabel(\"Residual Squared (pounds / acre)$^2$\")\n",
    "plt.grid(True)\n",
    "plt.show()"
   ]
  },
  {
   "cell_type": "markdown",
   "metadata": {
    "colab_type": "text",
    "id": "ID7X84qIaWtf"
   },
   "source": [
    "**Interpretation Questions**:\n",
    "1. Do the residuals squared grow or shrink as the independent variable increases?\n",
    "1. Do the residuals squared grow or shrink with collection order?\n",
    "\n",
    "**Additional Examples**\n",
    "\n",
    "![](https://drive.google.com/uc?export=view&id=15--jigLRrNUq6TBzIraahIfzpvsJaZfN)\n",
    "\n",
    "![](https://drive.google.com/uc?export=view&id=1Hu6PEXeZqkUJ2w6mcdXNk6oqXH6k1HL5)\n",
    "\n",
    "![](https://drive.google.com/uc?export=view&id=1SJzBRLdtv1oqmhLhfZsYsSlLH17_-5GI)\n"
   ]
  },
  {
   "cell_type": "markdown",
   "metadata": {
    "colab_type": "text",
    "id": "HD1CCg4-aWtg"
   },
   "source": [
    "## What if an assumption is violated?\n",
    "\n",
    "There are several strategies to try:\n",
    "1. Try a different model (tranform variables, nonlinear regression)\n",
    "2. Weighted regression\n",
    "3. Robust regression\n",
    "\n",
    "We will discuss 1 and 2 during the next few lectures."
   ]
  },
  {
   "cell_type": "markdown",
   "metadata": {},
   "source": [
    "<div style=\"background-color: rgba(0,0,255,0.05) ; padding: 10px; border: 1px solid darkblue;\"> \n",
    "<b>Class Activity</b>: As an intern, you help run a chemical process 24 times to determine the effect of temperature on yield. The data below are presented in the order of the runs. With a partner, complete the following analysis steps.\n",
    "</div>"
   ]
  },
  {
   "cell_type": "code",
   "execution_count": 14,
   "metadata": {
    "colab": {},
    "colab_type": "code",
    "id": "BVQCxCsiaWti",
    "tags": []
   },
   "outputs": [],
   "source": [
    "temp = np.array([30, 32, 35, 39, 31, 27, 33, 34, 25, 38, 39, 30, 30, 39, 40, 44, 34, 43, 34, 41, 36, 37, 42, 28])\n",
    "proc_yld = np.array([49.2, 55.3, 53.4, 59.9, 51.4, 52.1, 60.2, 60.5, 59.3, 64.5, 68.2, 53.0, 58.3,\n",
    "                     64.3, 71.6, 73.0, 65.9, 75.2, 69.5, 80.8, 78.6, 77.2, 80.3, 69.5])"
   ]
  },
  {
   "cell_type": "markdown",
   "metadata": {
    "colab_type": "text",
    "id": "sBlQ1VS9aWtk"
   },
   "source": [
    "With a partner, complete the following analysis steps."
   ]
  },
  {
   "cell_type": "markdown",
   "metadata": {
    "colab_type": "text",
    "id": "bOqYFyEnaWtk"
   },
   "source": [
    "## Plot and Best Fit\n",
    "\n",
    "Compute the least-squares best fit to predict yield based on process temperature. Show the best fit line overlaid on a scatter plot of the data."
   ]
  },
  {
   "cell_type": "code",
   "execution_count": 15,
   "metadata": {
    "colab": {},
    "colab_type": "code",
    "id": "20z-dCpwaWtk",
    "tags": []
   },
   "outputs": [],
   "source": [
    "# INSTRUCTIONS: The commented out code below has been copied \n",
    "# from the farm example. Modify it to use with the new data set.\n",
    "\n",
    "## fit coefficients \n",
    "# b1_, b0_, r_value, p_value, std_err = stats.linregress(x, y)\n",
    "# print(\"slope = \",b1_,\"pounds per acre / pH unit\")\n",
    "# print(\"intercept =\",b0_,\"pounds per acre\")\n",
    "\n",
    "\n",
    "## generate predictions\n",
    "# pH_pred = np.linspace(4.5, 6.1, 20)\n",
    "# yld_pred = b0_ + b1_ * pH_pred\n",
    "\n",
    "\n",
    "## create plot\n",
    "# plt.plot(pH,yld,'.b',markersize=20,label='Data')\n",
    "# plt.plot(pH_pred,yld_pred,'-r',linewidth=3,label='Best Fit Line')\n",
    "# plt.xlabel('Soil pH')\n",
    "# plt.ylabel('Dry Matter Yield [pounds / acre]')\n",
    "# plt.grid(True)\n",
    "# plt.legend()\n",
    "# plt.show()"
   ]
  },
  {
   "cell_type": "markdown",
   "metadata": {
    "colab_type": "text",
    "id": "KSsPWK5OaWto"
   },
   "source": [
    "## Reisdual Analysis: Part 1\n",
    "\n",
    "Plot the residuals versus the fitted values. Does the linear model seem appropriate? Write a sentence to explain."
   ]
  },
  {
   "cell_type": "code",
   "execution_count": 16,
   "metadata": {
    "colab": {},
    "colab_type": "code",
    "id": "d3jciokCaWto",
    "tags": []
   },
   "outputs": [],
   "source": [
    "# INSTRUCTIONS: The commented out code below has been copied \n",
    "# from the farm example. Modify it to use with the new data set.\n",
    "\n",
    "## calculate residuals\n",
    "# yld_hat = b0_ + b1_ * pH\n",
    "# e_farm = yld - yld_hat\n",
    "# print(\"Residuals (pounds / acre):\")\n",
    "# print(e_farm)\n",
    "\n",
    "\n",
    "## create plot\n",
    "# plt.plot(yld_hat,e_farm,\"b.\",markersize=20)\n",
    "# plt.xlabel(\"Predicted Yield (pounds / acre)\")\n",
    "# plt.ylabel(\"Residual (pounds / acre)\")\n",
    "# plt.grid(True)\n",
    "# plt.show()"
   ]
  },
  {
   "cell_type": "markdown",
   "metadata": {
    "colab_type": "text",
    "id": "Xo__7z0eaWtr"
   },
   "source": [
    "## Residual Analysis: Part 2\n",
    "\n",
    "Plot the residuals versus the data collection order. Is there a trend in the residuals with time? Does the linear model seem appropriate?"
   ]
  },
  {
   "cell_type": "code",
   "execution_count": 26,
   "metadata": {
    "colab": {},
    "colab_type": "code",
    "id": "SkIa4SwsaWtr",
    "tags": []
   },
   "outputs": [],
   "source": [
    "## create plot"
   ]
  }
 ],
 "metadata": {
  "colab": {
   "collapsed_sections": [],
   "name": "L20-Linear-Regression.ipynb",
   "provenance": [],
   "version": "0.3.2"
  },
  "kernelspec": {
   "display_name": "Python 3 (ipykernel)",
   "language": "python",
   "name": "python3"
  },
  "language_info": {
   "codemirror_mode": {
    "name": "ipython",
    "version": 3
   },
   "file_extension": ".py",
   "mimetype": "text/x-python",
   "name": "python",
   "nbconvert_exporter": "python",
   "pygments_lexer": "ipython3",
   "version": "3.9.12"
  }
 },
 "nbformat": 4,
 "nbformat_minor": 4
}
