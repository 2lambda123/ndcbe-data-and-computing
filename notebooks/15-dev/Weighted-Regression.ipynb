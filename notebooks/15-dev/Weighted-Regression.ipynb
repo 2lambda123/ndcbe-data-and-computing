{
 "cells": [
  {
   "cell_type": "markdown",
   "metadata": {
    "colab_type": "text",
    "id": "iJtEhdtInc2W"
   },
   "source": [
    "# Weighted Linear Regression\n"
   ]
  },
  {
   "cell_type": "markdown",
   "metadata": {
    "colab_type": "text",
    "id": "2QOWL0Hmnc2g"
   },
   "source": [
    "## Learning Objectives\n",
    "\n",
    "After studying this notebook and your lecture notes, you should be able to:\n",
    "* Apply weighted linear regression to correct for distortions with transformations"
   ]
  },
  {
   "cell_type": "code",
   "execution_count": 15,
   "metadata": {
    "colab": {},
    "colab_type": "code",
    "id": "NrkTnC44nc2Z",
    "tags": []
   },
   "outputs": [],
   "source": [
    "# load libraries\n",
    "import scipy.stats as stats\n",
    "import numpy as np\n",
    "import scipy.optimize as optimize\n",
    "import math\n",
    "import matplotlib.pyplot as plt"
   ]
  },
  {
   "cell_type": "markdown",
   "metadata": {
    "colab_type": "text",
    "id": "b4xsqygcnc3c"
   },
   "source": [
    "## Michaelis-Menten Modeling Revisited\n",
    "\n",
    "The **Michaelis-Menten** equation is an extremely popular model to describe the rate of enzymatic reactions.\n",
    "\n",
    "$$\n",
    "\\mathrm{E} + \\mathrm{S} \\leftrightharpoons \\mathrm{ES} \\rightarrow \\mathrm{E} + \\mathrm{P}\n",
    "$$\n",
    "\n",
    "$$\n",
    "r = V_{max} \\frac{[\\mathbf{S}]}{K_M + [\\mathbf{S}]}\n",
    "$$"
   ]
  },
  {
   "cell_type": "code",
   "execution_count": 16,
   "metadata": {
    "colab": {
     "base_uri": "https://localhost:8080/",
     "height": 301
    },
    "colab_type": "code",
    "executionInfo": {
     "elapsed": 2745,
     "status": "ok",
     "timestamp": 1555596596928,
     "user": {
      "displayName": "Alexander Dowling",
      "photoUrl": "https://lh3.googleusercontent.com/-LChdQ2m5OQE/AAAAAAAAAAI/AAAAAAAAAA0/JeXJe4vQJ7M/s64/photo.jpg",
      "userId": "00988067626794866502"
     },
     "user_tz": 240
    },
    "id": "OFoCH1Trnc3d",
    "outputId": "f9ec13dd-2f22-4cbf-ed44-a11af3c0510a"
   },
   "outputs": [
    {
     "data": {
      "image/png": "[encoded data removed]",
      "text/plain": [
       "<Figure size 432x288 with 1 Axes>"
      ]
     },
     "metadata": {
      "needs_background": "light"
     },
     "output_type": "display_data"
    }
   ],
   "source": [
    "## Let's plot the model\n",
    "\n",
    "# Define exact coefficients\n",
    "Vmaxexact=2;\n",
    "Kmexact=5;\n",
    "\n",
    "# Evaluate model\n",
    "Sexp = np.array([.3, .4, 0.5, 1, 2, 4, 8, 16]);\n",
    "rexp = Vmaxexact*Sexp / (Kmexact+Sexp);\n",
    "\n",
    "# Add some random error to simulate \n",
    "rexp += 0.05*np.random.normal(size=len(Sexp))\n",
    "\n",
    "# Evaluate model to plot smooth curve\n",
    "S = np.linspace(np.min(Sexp),np.max(Sexp),100)\n",
    "r = Vmaxexact*S / (Kmexact+S)\n",
    "\n",
    "plt.plot(S,r,'b-',linewidth=2,label=\"True Model\")\n",
    "plt.plot(Sexp,rexp,'r.',markersize=10,label=\"Experiments\")\n",
    "plt.xlabel('Substrate Concentration (mol/L)',fontsize=14)\n",
    "plt.ylabel('Product Formulation Rate, (mol/L/s)',fontsize=14)\n",
    "plt.legend()\n",
    "plt.show()"
   ]
  },
  {
   "cell_type": "markdown",
   "metadata": {
    "colab_type": "text",
    "id": "VtDwBdrgnc36",
    "tags": []
   },
   "source": [
    "## Main Idea"
   ]
  },
  {
   "cell_type": "markdown",
   "metadata": {
    "colab_type": "text",
    "id": "CMsIXXyqnc37"
   },
   "source": [
    "Weight data points with greater uncertainty less.\n",
    "\n",
    "$$\n",
    "\\min_{\\hat{\\beta}} \\quad (y - X \\hat{\\beta})^T ~W~ (y - X \\hat{\\beta})\n",
    "$$\n",
    "\n",
    "What to use for the weight matrix $W$?\n",
    "\n",
    "Let's assume each $r_{obs}$ measurement (i.e., observation) has uncertainty $\\epsilon$:\n",
    "\n",
    "$r_{obs} = r_{true} + \\epsilon$\n",
    "\n",
    "where var($\\epsilon$) = $\\sigma^2$. What is the uncertainty in $1/r_{obs}$?\n",
    "\n",
    "**Short Activity**: Determine var($1/r_{obs}$) with a partner."
   ]
  },
  {
   "cell_type": "markdown",
   "metadata": {},
   "source": [
    "<div style=\"background-color: rgba(0,0,255,0.05) ; padding: 10px; border: 1px solid darkblue;\"> \n",
    "<b>Class Activity</b>: With a partner, compute var($1/r_{obs}$). Assume $\\epsilon$ is a random variable.\n",
    "</div>"
   ]
  },
  {
   "cell_type": "markdown",
   "metadata": {
    "colab_type": "text",
    "id": "nliDCcGync38",
    "tags": []
   },
   "source": [
    "## Step 1: Calculate Best Fit and Plot"
   ]
  },
  {
   "cell_type": "markdown",
   "metadata": {
    "colab_type": "text",
    "id": "Ulr1bBTAnc39"
   },
   "source": [
    "Let's further assume each observation uncertainty is independent. We will weight the regression problem with matrix $W$, which is proportional to the inverse of the covariance matrix:\n",
    "\n",
    "$$\n",
    "W = \\begin{bmatrix}r_{1}^4 & 0 & \\dots & 0 \\\\\n",
    "0 & r_{2}^4 & \\dots & 0 \\\\\n",
    "\\vdots & \\vdots & \\ddots & \\vdots \\\\\n",
    "0 & 0 & \\dots & r_{n}^4\n",
    "\\end{bmatrix}\n",
    "$$\n",
    "\n",
    "The solution to the optimization problem above is easily calculated with linear algebra:\n",
    "\n",
    "$$\n",
    "(X^T W X) \\hat{\\beta} = X^T W y\n",
    "$$\n",
    "\n",
    "or\n",
    "\n",
    "$$\n",
    "\\hat{\\beta} = (X^T W X)^{-1} X^T W y\n",
    "$$\n",
    "\n",
    "Some textbooks define $K = (X^T W X)^{-1}$ to simplify the above expressions. Let's apply this to our problem."
   ]
  },
  {
   "cell_type": "code",
   "execution_count": 23,
   "metadata": {
    "colab": {
     "base_uri": "https://localhost:8080/",
     "height": 52
    },
    "colab_type": "code",
    "executionInfo": {
     "elapsed": 4131,
     "status": "ok",
     "timestamp": 1555596598423,
     "user": {
      "displayName": "Alexander Dowling",
      "photoUrl": "https://lh3.googleusercontent.com/-LChdQ2m5OQE/AAAAAAAAAAI/AAAAAAAAAA0/JeXJe4vQJ7M/s64/photo.jpg",
      "userId": "00988067626794866502"
     },
     "user_tz": 240
    },
    "id": "G8kQyl4Unc39",
    "outputId": "8b5553bd-74fe-49ff-8db8-36d3fd564a28"
   },
   "outputs": [
    {
     "name": "stdout",
     "output_type": "stream",
     "text": [
      "[2.66364503e-04 5.58880502e-04 2.80850463e-03 1.30330270e-02\n",
      " 9.15301482e-02 8.25854937e-01 2.98981155e+00 4.30818556e+00]\n"
     ]
    }
   ],
   "source": [
    "# diagonal elements\n",
    "print(rexp**4)"
   ]
  },
  {
   "cell_type": "code",
   "execution_count": 24,
   "metadata": {
    "colab": {
     "base_uri": "https://localhost:8080/",
     "height": 312
    },
    "colab_type": "code",
    "executionInfo": {
     "elapsed": 4121,
     "status": "ok",
     "timestamp": 1555596598424,
     "user": {
      "displayName": "Alexander Dowling",
      "photoUrl": "https://lh3.googleusercontent.com/-LChdQ2m5OQE/AAAAAAAAAAI/AAAAAAAAAA0/JeXJe4vQJ7M/s64/photo.jpg",
      "userId": "00988067626794866502"
     },
     "user_tz": 240
    },
    "id": "TDDXFx0Mnc4A",
    "outputId": "1624d996-f8d3-4d76-f4f1-83548da2b5ea"
   },
   "outputs": [
    {
     "name": "stdout",
     "output_type": "stream",
     "text": [
      "W =\n",
      " [[2.66364503e-04 0.00000000e+00 0.00000000e+00 0.00000000e+00\n",
      "  0.00000000e+00 0.00000000e+00 0.00000000e+00 0.00000000e+00]\n",
      " [0.00000000e+00 5.58880502e-04 0.00000000e+00 0.00000000e+00\n",
      "  0.00000000e+00 0.00000000e+00 0.00000000e+00 0.00000000e+00]\n",
      " [0.00000000e+00 0.00000000e+00 2.80850463e-03 0.00000000e+00\n",
      "  0.00000000e+00 0.00000000e+00 0.00000000e+00 0.00000000e+00]\n",
      " [0.00000000e+00 0.00000000e+00 0.00000000e+00 1.30330270e-02\n",
      "  0.00000000e+00 0.00000000e+00 0.00000000e+00 0.00000000e+00]\n",
      " [0.00000000e+00 0.00000000e+00 0.00000000e+00 0.00000000e+00\n",
      "  9.15301482e-02 0.00000000e+00 0.00000000e+00 0.00000000e+00]\n",
      " [0.00000000e+00 0.00000000e+00 0.00000000e+00 0.00000000e+00\n",
      "  0.00000000e+00 8.25854937e-01 0.00000000e+00 0.00000000e+00]\n",
      " [0.00000000e+00 0.00000000e+00 0.00000000e+00 0.00000000e+00\n",
      "  0.00000000e+00 0.00000000e+00 2.98981155e+00 0.00000000e+00]\n",
      " [0.00000000e+00 0.00000000e+00 0.00000000e+00 0.00000000e+00\n",
      "  0.00000000e+00 0.00000000e+00 0.00000000e+00 4.30818556e+00]]\n"
     ]
    }
   ],
   "source": [
    "# create a diagonal matrix\n",
    "W = np.diag(rexp**4)\n",
    "print(\"W =\\n\",W)"
   ]
  },
  {
   "cell_type": "code",
   "execution_count": 25,
   "metadata": {
    "colab": {
     "base_uri": "https://localhost:8080/",
     "height": 87
    },
    "colab_type": "code",
    "executionInfo": {
     "elapsed": 4112,
     "status": "ok",
     "timestamp": 1555596598425,
     "user": {
      "displayName": "Alexander Dowling",
      "photoUrl": "https://lh3.googleusercontent.com/-LChdQ2m5OQE/AAAAAAAAAAI/AAAAAAAAAA0/JeXJe4vQJ7M/s64/photo.jpg",
      "userId": "00988067626794866502"
     },
     "user_tz": 240
    },
    "id": "9gf-omf4nc4C",
    "outputId": "a6a54345-0af0-4146-c546-51b4cfb8d314"
   },
   "outputs": [
    {
     "name": "stdout",
     "output_type": "stream",
     "text": [
      "K = inv(XT W X) =\n",
      " [[ 0.30688101 -1.66594579]\n",
      " [-1.66594579 14.96929305]]\n"
     ]
    }
   ],
   "source": [
    "# recall the transformation\n",
    "y = 1/rexp\n",
    "x = 1/Sexp\n",
    "\n",
    "# construct the feature matrix\n",
    "n = len(x)\n",
    "Xmm = np.ones((n,2))\n",
    "\n",
    "# first column - all ones\n",
    "# second column - 1/r\n",
    "Xmm[:,1] = x\n",
    "\n",
    "# calculate inverse of XT * X\n",
    "XXinv = np.linalg.inv(Xmm.transpose() @ W @ Xmm)\n",
    "print(\"K = inv(XT W X) =\\n\",XXinv)"
   ]
  },
  {
   "cell_type": "code",
   "execution_count": 26,
   "metadata": {
    "colab": {
     "base_uri": "https://localhost:8080/",
     "height": 52
    },
    "colab_type": "code",
    "executionInfo": {
     "elapsed": 4098,
     "status": "ok",
     "timestamp": 1555596598426,
     "user": {
      "displayName": "Alexander Dowling",
      "photoUrl": "https://lh3.googleusercontent.com/-LChdQ2m5OQE/AAAAAAAAAAI/AAAAAAAAAA0/JeXJe4vQJ7M/s64/photo.jpg",
      "userId": "00988067626794866502"
     },
     "user_tz": 240
    },
    "id": "5WWzWIuVnc4G",
    "outputId": "69f1d776-cd48-48a6-a0aa-89ee7e82dbfd"
   },
   "outputs": [
    {
     "name": "stdout",
     "output_type": "stream",
     "text": [
      "beta_hat_w = \n",
      " [0.53380361 2.13825004]\n"
     ]
    }
   ],
   "source": [
    "# calculate beta_hat\n",
    "beta_hat_w = XXinv @ Xmm.transpose() @ W @ y\n",
    "\n",
    "print(\"beta_hat_w = \\n\",beta_hat_w)"
   ]
  },
  {
   "cell_type": "code",
   "execution_count": 27,
   "metadata": {
    "colab": {
     "base_uri": "https://localhost:8080/",
     "height": 283
    },
    "colab_type": "code",
    "executionInfo": {
     "elapsed": 4547,
     "status": "ok",
     "timestamp": 1555596598882,
     "user": {
      "displayName": "Alexander Dowling",
      "photoUrl": "https://lh3.googleusercontent.com/-LChdQ2m5OQE/AAAAAAAAAAI/AAAAAAAAAA0/JeXJe4vQJ7M/s64/photo.jpg",
      "userId": "00988067626794866502"
     },
     "user_tz": 240
    },
    "id": "oBZaGTEznc4J",
    "outputId": "e72c6f22-8b08-44b0-91b1-17cb4274da3b",
    "tags": []
   },
   "outputs": [
    {
     "data": {
      "image/png": "[encoded data removed]",
      "text/plain": [
       "<Figure size 432x288 with 1 Axes>"
      ]
     },
     "metadata": {
      "needs_background": "light"
     },
     "output_type": "display_data"
    }
   ],
   "source": [
    "# generate predictions\n",
    "x_pred = np.linspace(np.min(x),np.max(x),1000)\n",
    "X_pred = np.ones((len(x_pred),2))\n",
    "X_pred[:,1] = x_pred\n",
    "y_pred = X_pred @ beta_hat_w\n",
    "\n",
    "# create plot\n",
    "plt.plot(x,y,'.b',markersize=20,label='Data')\n",
    "plt.plot(x_pred,y_pred,'--g',linewidth=3,label='Best Fit Line')\n",
    "plt.plot(1/S,1/r,'r-',linewidth=3,label='True Model')\n",
    "plt.xlabel('1/[S] (L / mol)')\n",
    "plt.ylabel('1/r (L s / mol)')\n",
    "plt.grid(True)\n",
    "plt.legend()\n",
    "plt.show()"
   ]
  },
  {
   "cell_type": "code",
   "execution_count": 28,
   "metadata": {
    "colab": {
     "base_uri": "https://localhost:8080/",
     "height": 283
    },
    "colab_type": "code",
    "executionInfo": {
     "elapsed": 4820,
     "status": "ok",
     "timestamp": 1555596599165,
     "user": {
      "displayName": "Alexander Dowling",
      "photoUrl": "https://lh3.googleusercontent.com/-LChdQ2m5OQE/AAAAAAAAAAI/AAAAAAAAAA0/JeXJe4vQJ7M/s64/photo.jpg",
      "userId": "00988067626794866502"
     },
     "user_tz": 240
    },
    "id": "RrNpP_zunc4O",
    "outputId": "fea5b033-b44d-4e7e-8fac-2b4ba45ad132",
    "tags": []
   },
   "outputs": [
    {
     "data": {
      "image/png": "[encoded data removed]",
      "text/plain": [
       "<Figure size 432x288 with 1 Axes>"
      ]
     },
     "metadata": {
      "needs_background": "light"
     },
     "output_type": "display_data"
    }
   ],
   "source": [
    "# create plot\n",
    "plt.plot(Sexp,rexp,'.b',markersize=20,label='Data')\n",
    "plt.plot(1/x_pred,1/y_pred,'--g',linewidth=3,label='Best Fit Line')\n",
    "plt.plot(S,r,'r-',linewidth=3,label='True Model')\n",
    "plt.xlabel('[S] (mol / L)')\n",
    "plt.ylabel('r (mol / L / s)')\n",
    "plt.grid(True)\n",
    "plt.legend()\n",
    "plt.show()"
   ]
  },
  {
   "cell_type": "markdown",
   "metadata": {
    "colab_type": "text",
    "id": "q0326G26nc4Q"
   },
   "source": [
    "## Step 2. Residual Analysis"
   ]
  },
  {
   "cell_type": "code",
   "execution_count": 29,
   "metadata": {
    "colab": {
     "base_uri": "https://localhost:8080/",
     "height": 283
    },
    "colab_type": "code",
    "executionInfo": {
     "elapsed": 5206,
     "status": "ok",
     "timestamp": 1555596599565,
     "user": {
      "displayName": "Alexander Dowling",
      "photoUrl": "https://lh3.googleusercontent.com/-LChdQ2m5OQE/AAAAAAAAAAI/AAAAAAAAAA0/JeXJe4vQJ7M/s64/photo.jpg",
      "userId": "00988067626794866502"
     },
     "user_tz": 240
    },
    "id": "i6BD3QU3nc4R",
    "outputId": "af5079f6-d2c9-4ada-f822-64088e2c41ef",
    "tags": []
   },
   "outputs": [
    {
     "data": {
      "image/png": "[encoded data removed]",
      "text/plain": [
       "<Figure size 432x288 with 1 Axes>"
      ]
     },
     "metadata": {
      "needs_background": "light"
     },
     "output_type": "display_data"
    }
   ],
   "source": [
    "# Calculate residuals\n",
    "y_hat = Xmm @ beta_hat_w\n",
    "e = y - y_hat\n",
    "\n",
    "# plot histogram of residuals\n",
    "plt.hist(e)\n",
    "plt.xlabel(\"Residual (s L / mol)\")\n",
    "plt.ylabel(\"Frequency (count)\")\n",
    "plt.show()"
   ]
  },
  {
   "cell_type": "code",
   "execution_count": 30,
   "metadata": {
    "colab": {
     "base_uri": "https://localhost:8080/",
     "height": 295
    },
    "colab_type": "code",
    "executionInfo": {
     "elapsed": 5320,
     "status": "ok",
     "timestamp": 1555596599689,
     "user": {
      "displayName": "Alexander Dowling",
      "photoUrl": "https://lh3.googleusercontent.com/-LChdQ2m5OQE/AAAAAAAAAAI/AAAAAAAAAA0/JeXJe4vQJ7M/s64/photo.jpg",
      "userId": "00988067626794866502"
     },
     "user_tz": 240
    },
    "id": "mN0HR5gync4U",
    "outputId": "a451c55a-9dd5-4066-be5f-ba82bb0c46ab",
    "tags": []
   },
   "outputs": [
    {
     "data": {
      "image/png": "[encoded data removed]",
      "text/plain": [
       "<Figure size 432x288 with 1 Axes>"
      ]
     },
     "metadata": {
      "needs_background": "light"
     },
     "output_type": "display_data"
    }
   ],
   "source": [
    "# scatter plot of residuals\n",
    "plt.plot(y_hat,e,\"b.\",markersize=20)\n",
    "plt.xlabel(\"Predicted 1/r (s L / mol)\")\n",
    "plt.ylabel(\"Residual (s L / mol)\")\n",
    "plt.grid(True)\n",
    "plt.title(\"Residuals vs. Predicted Value\")\n",
    "plt.show()"
   ]
  },
  {
   "cell_type": "code",
   "execution_count": 31,
   "metadata": {
    "colab": {
     "base_uri": "https://localhost:8080/",
     "height": 295
    },
    "colab_type": "code",
    "executionInfo": {
     "elapsed": 5732,
     "status": "ok",
     "timestamp": 1555596600110,
     "user": {
      "displayName": "Alexander Dowling",
      "photoUrl": "https://lh3.googleusercontent.com/-LChdQ2m5OQE/AAAAAAAAAAI/AAAAAAAAAA0/JeXJe4vQJ7M/s64/photo.jpg",
      "userId": "00988067626794866502"
     },
     "user_tz": 240
    },
    "id": "_3xx5xmxnc4X",
    "outputId": "8be5c4ed-8df8-428d-e3a5-f6acb3a5ab23",
    "tags": []
   },
   "outputs": [
    {
     "data": {
      "image/png": "[encoded data removed]",
      "text/plain": [
       "<Figure size 432x288 with 1 Axes>"
      ]
     },
     "metadata": {
      "needs_background": "light"
     },
     "output_type": "display_data"
    }
   ],
   "source": [
    "# another scatter plot\n",
    "plt.plot(x,e,\"b.\",markersize=20)\n",
    "plt.xlabel(\"Dependent Variable 1/[S] (L / mol)\")\n",
    "plt.ylabel(\"Residual (s L / mol)\")\n",
    "plt.grid(True)\n",
    "plt.title(\"Residuals vs. Dependent Variable\")\n",
    "plt.show()"
   ]
  },
  {
   "cell_type": "markdown",
   "metadata": {
    "colab_type": "text",
    "id": "e87FwO2jnc4a"
   },
   "source": [
    "## Uncertainty Analysis\n",
    "\n",
    "We also need to incorporate the weight matrix into our uncertainty analysis:\n",
    "\n",
    "$$\n",
    "\\Sigma_{\\beta} = K X^T W \\Sigma_{e} W^T X K\n",
    "$$\n",
    "\n",
    "where $\\Sigma_{e}$ is the covariance matrix of the residuals. We often assume $\\Sigma_{e} = \\hat{\\sigma}_{e}^2 I$ where $I$ is an identity matrix."
   ]
  },
  {
   "cell_type": "code",
   "execution_count": 32,
   "metadata": {
    "colab": {
     "base_uri": "https://localhost:8080/",
     "height": 35
    },
    "colab_type": "code",
    "executionInfo": {
     "elapsed": 5721,
     "status": "ok",
     "timestamp": 1555596600114,
     "user": {
      "displayName": "Alexander Dowling",
      "photoUrl": "https://lh3.googleusercontent.com/-LChdQ2m5OQE/AAAAAAAAAAI/AAAAAAAAAA0/JeXJe4vQJ7M/s64/photo.jpg",
      "userId": "00988067626794866502"
     },
     "user_tz": 240
    },
    "id": "TogVXXY3nc4b",
    "outputId": "c5aa55b7-c15d-4371-c71e-e5988274558f",
    "tags": []
   },
   "outputs": [
    {
     "name": "stdout",
     "output_type": "stream",
     "text": [
      "Variance of residuals = 0.1278012187330729\n"
     ]
    }
   ],
   "source": [
    "# calculate variance of residuals\n",
    "sigre = e @ e / (n-2)\n",
    "print(\"Variance of residuals =\",sigre)"
   ]
  },
  {
   "cell_type": "code",
   "execution_count": 34,
   "metadata": {
    "colab": {
     "base_uri": "https://localhost:8080/",
     "height": 69
    },
    "colab_type": "code",
    "executionInfo": {
     "elapsed": 5717,
     "status": "ok",
     "timestamp": 1555596600119,
     "user": {
      "displayName": "Alexander Dowling",
      "photoUrl": "https://lh3.googleusercontent.com/-LChdQ2m5OQE/AAAAAAAAAAI/AAAAAAAAAA0/JeXJe4vQJ7M/s64/photo.jpg",
      "userId": "00988067626794866502"
     },
     "user_tz": 240
    },
    "id": "lzG-DH9pnc4h",
    "outputId": "95ab2822-4659-4c6a-94c4-3ab195d6d690",
    "tags": []
   },
   "outputs": [
    {
     "name": "stdout",
     "output_type": "stream",
     "text": [
      "covariance matrix:\n",
      " [[ 0.03921977 -0.2129099 ]\n",
      " [-0.2129099   1.9130939 ]]\n"
     ]
    }
   ],
   "source": [
    "# calculate covariance of fitted coefficients\n",
    "cov_beta = XXinv @ Xmm.transpose() * sigre @ W.transpose() @ Xmm @ XXinv\n",
    "print(\"covariance matrix:\\n\",cov_beta)"
   ]
  },
  {
   "cell_type": "markdown",
   "metadata": {},
   "source": [
    "## Other Approaches"
   ]
  },
  {
   "cell_type": "markdown",
   "metadata": {},
   "source": [
    "An second approach is to use [Transformation + Linear Regression.](../15/Transformations-and-Linear-Regression.ipynb)  This is method fits a linear model to the data without weighting the variables differently.\n",
    "\n",
    "A third approach is to use [Nonlinear Regression.](../15/Nonlinear-Regression.ipynb)  Nonlinear regression fits a curve to the data rather than a line, so this may be better in some instances depending on the data.\n"
   ]
  },
  {
   "cell_type": "markdown",
   "metadata": {},
   "source": [
    "However, the weighted regression from this notebook is often useful as it gives different weight to the various variables to help correct for inconcsistencies and distortions in the data that the other two methods cannot account for."
   ]
  }
 ],
 "metadata": {
  "colab": {
   "name": "L23-Weighted-Multivariate-Regression.ipynb",
   "provenance": [],
   "version": "0.3.2"
  },
  "kernelspec": {
   "display_name": "Python 3 (ipykernel)",
   "language": "python",
   "name": "python3"
  },
  "language_info": {
   "codemirror_mode": {
    "name": "ipython",
    "version": 3
   },
   "file_extension": ".py",
   "mimetype": "text/x-python",
   "name": "python",
   "nbconvert_exporter": "python",
   "pygments_lexer": "ipython3",
   "version": "3.9.12"
  }
 },
 "nbformat": 4,
 "nbformat_minor": 4
}
