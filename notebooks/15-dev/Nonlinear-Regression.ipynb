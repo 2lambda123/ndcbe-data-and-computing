{
 "cells": [
  {
   "cell_type": "markdown",
   "metadata": {
    "colab_type": "text",
    "id": "jT17y5kMqAii"
   },
   "source": [
    "# Nonlinear Regression\n"
   ]
  },
  {
   "cell_type": "markdown",
   "metadata": {
    "colab_type": "text",
    "id": "u3Ej4bHAqAio"
   },
   "source": [
    "## Learning Objectives\n",
    "\n",
    "After studying this notebook, attending class, asking questions, and reviewing your notes, you should be able to:\n",
    "* Perform residual analysis for nonlinear regression (as a diagnostic plot)\n",
    "* Calculate standard errors (i.e., standard deviation) of the residuals\n",
    "* Calculate nonlinear regression best fit using Python\n",
    "* Assemble the covariance matrix for nonlinear regression"
   ]
  },
  {
   "cell_type": "code",
   "execution_count": 1,
   "metadata": {
    "colab": {},
    "colab_type": "code",
    "id": "9yOdJ8EYqAij",
    "tags": []
   },
   "outputs": [],
   "source": [
    "# load libraries\n",
    "import scipy.stats as stats\n",
    "import numpy as np\n",
    "import scipy.optimize as optimize\n",
    "import math\n",
    "import matplotlib.pyplot as plt"
   ]
  },
  {
   "cell_type": "markdown",
   "metadata": {
    "colab_type": "text",
    "id": "iF_wdDZ5qAjX"
   },
   "source": [
    "## Main Idea\n",
    "\n",
    "Solve the best fit optimization problem,\n",
    "\n",
    "$$\\min_{\\hat{\\theta}} \\quad \\sum (y_i - \\hat{y}_i)^2$$\n",
    "\n",
    "computationally. This works even if $\\hat{y_i} = f(\\hat{\\theta}, x_i)$ is a nonlinear function.\n",
    "\n",
    "Recall $\\theta$ = [$V_{max}$, $K_m$] for our example from [this notebook.](../15/Transformations-and-Linear-Regression.ipynb)\n"
   ]
  },
  {
   "cell_type": "markdown",
   "metadata": {
    "colab_type": "text",
    "id": "C1lvfaGCqAjY"
   },
   "source": [
    "## Step 1: Calculate and Plot Best Fit"
   ]
  },
  {
   "cell_type": "markdown",
   "metadata": {},
   "source": [
    "The good news is that `scipy` has a fairly robust function for nonlinear regression. We will start by defining our own function for the model:"
   ]
  },
  {
   "cell_type": "code",
   "execution_count": 2,
   "metadata": {
    "colab": {
     "base_uri": "https://localhost:8080/",
     "height": 34
    },
    "colab_type": "code",
    "executionInfo": {
     "elapsed": 2535,
     "status": "ok",
     "timestamp": 1554820379359,
     "user": {
      "displayName": "Alexander Dowling",
      "photoUrl": "https://lh3.googleusercontent.com/-LChdQ2m5OQE/AAAAAAAAAAI/AAAAAAAAAA0/JeXJe4vQJ7M/s64/photo.jpg",
      "userId": "00988067626794866502"
     },
     "user_tz": 240
    },
    "id": "mgV3SoiDqAjY",
    "outputId": "676b4e1d-208d-4f63-da98-4ea8a44a4760",
    "tags": []
   },
   "outputs": [],
   "source": [
    "## define function that includes nonlinear model\n",
    "def model(theta,x):\n",
    "    '''\n",
    "    Michaelis-Menten model\n",
    "    Arguments:\n",
    "        theta: parameter vector\n",
    "        x: independent variable vector (S concentration)\n",
    "    Returns:\n",
    "        yhat: dependent variable prediction (r rate)\n",
    "    '''\n",
    "    yhat = (theta[0] * x) / (theta[1] + x) \n",
    "    return yhat"
   ]
  },
  {
   "cell_type": "markdown",
   "metadata": {},
   "source": [
    "But `scipy` actually wants a function that takes three inputs and returns the residual vector. We will call our function `model` in this new function."
   ]
  },
  {
   "cell_type": "code",
   "execution_count": 3,
   "metadata": {
    "tags": []
   },
   "outputs": [],
   "source": [
    "def regression_func(theta, x, y):\n",
    "    '''\n",
    "    Function to define regression function for least-squares fitting\n",
    "    Arguments:\n",
    "        theta: parameter vector\n",
    "        x: independent variable vector\n",
    "        y: dependent variable vector (measurements)\n",
    "    Returns:\n",
    "        e: residual vector\n",
    "    '''\n",
    "    e = y - model(theta,x);\n",
    "    \n",
    "    return e"
   ]
  },
  {
   "cell_type": "markdown",
   "metadata": {},
   "source": [
    "Now we can define an initial guess and call the least squares optimizer."
   ]
  },
  {
   "cell_type": "code",
   "execution_count": 4,
   "metadata": {},
   "outputs": [
    {
     "name": "stdout",
     "output_type": "stream",
     "text": [
      "theta =  [1.94625917 4.47747018]\n"
     ]
    }
   ],
   "source": [
    "## experimental data (generated and discussed in the previous notebook)\n",
    "Vmaxexact=2\n",
    "Kmexact=5\n",
    "Sexp = np.array([.3, .4, 0.5, 1, 2, 4, 8, 16])\n",
    "rexp = Vmaxexact*Sexp / (Kmexact+Sexp);\n",
    "rexp += 0.05*np.random.normal(size=len(Sexp)) # add random noise to simulate observation errors \n",
    "rexp = np.array([0.10679829, 0.12073291, 0.23813671, 0.37799815, 0.58318205, 0.9434036, 1.20844411, 1.53945006])\n",
    "\n",
    "## specify initial guess\n",
    "theta0 = np.array([1.0, 5.0])\n",
    "\n",
    "## specify bounds\n",
    "# first array: lower bounds\n",
    "# second array: upper bounds\n",
    "bnds = ([0.0, 0.0], [np.inf, np.inf])\n",
    "\n",
    "## use least squares optimizer in scipy\n",
    "# argument 1: function that takes theta as input, returns residual\n",
    "# argument 2: initial guess for theta\n",
    "# optional arguments 'bounds': bounds for theta\n",
    "# optional arugment 'args': additional arguments to pass to residual function\n",
    "# optional argument 'method': select the numerical method\n",
    "#   if you want to consider bounds, choose 'trf'\n",
    "#   if you do not want to consider bounds, try either 'lm' or 'trf'\n",
    "nl_results = optimize.least_squares(regression_func, theta0,bounds=bnds, method='trf',args=(Sexp, rexp))\n",
    "\n",
    "theta = nl_results.x\n",
    "print(\"theta = \",theta)"
   ]
  },
  {
   "cell_type": "markdown",
   "metadata": {},
   "source": [
    "Interesting, we got a different answer than with transformations & linear regression. Let's revist that in a minute. We can plot of nonlinear best fit model."
   ]
  },
  {
   "cell_type": "code",
   "execution_count": 5,
   "metadata": {
    "colab": {
     "base_uri": "https://localhost:8080/",
     "height": 361
    },
    "colab_type": "code",
    "executionInfo": {
     "elapsed": 2862,
     "status": "ok",
     "timestamp": 1554820379696,
     "user": {
      "displayName": "Alexander Dowling",
      "photoUrl": "https://lh3.googleusercontent.com/-LChdQ2m5OQE/AAAAAAAAAAI/AAAAAAAAAA0/JeXJe4vQJ7M/s64/photo.jpg",
      "userId": "00988067626794866502"
     },
     "user_tz": 240
    },
    "id": "gweBC-d9qAjb",
    "outputId": "8413d4a6-a909-4fe2-b28f-8dab8783be65"
   },
   "outputs": [
    {
     "data": {
      "image/png": "[encoded data removed]",
      "text/plain": [
       "<Figure size 432x288 with 1 Axes>"
      ]
     },
     "metadata": {
      "needs_background": "light"
     },
     "output_type": "display_data"
    }
   ],
   "source": [
    "# add true data (from previous notebook)\n",
    "S = np.linspace(np.min(Sexp),np.max(Sexp),100)\n",
    "r = Vmaxexact*S / (Kmexact+S)\n",
    "\n",
    "# generate predictions\n",
    "S_pred = np.linspace(np.min(Sexp),np.max(Sexp),20)\n",
    "r_pred = model(theta, S_pred)\n",
    "\n",
    "# create plot\n",
    "plt.plot(Sexp,rexp,'.b',markersize=20,label='Data')\n",
    "plt.plot(S_pred,r_pred,'--g',linewidth=3,label='Best Fit Line')\n",
    "plt.plot(S,r,'r-',linewidth=3,label='True Model')\n",
    "plt.xlabel('[S] (mol / L)')\n",
    "plt.ylabel('r (mol / L / s)')\n",
    "plt.grid(True)\n",
    "plt.legend()\n",
    "plt.show()"
   ]
  },
  {
   "cell_type": "markdown",
   "metadata": {},
   "source": [
    "We see that it looks a lot better."
   ]
  },
  {
   "cell_type": "markdown",
   "metadata": {
    "colab_type": "text",
    "id": "D71tnbmkqAjd"
   },
   "source": [
    "## Step 2: Residual Analysis"
   ]
  },
  {
   "cell_type": "code",
   "execution_count": 6,
   "metadata": {
    "colab": {
     "base_uri": "https://localhost:8080/",
     "height": 51
    },
    "colab_type": "code",
    "executionInfo": {
     "elapsed": 2840,
     "status": "ok",
     "timestamp": 1554820379699,
     "user": {
      "displayName": "Alexander Dowling",
      "photoUrl": "https://lh3.googleusercontent.com/-LChdQ2m5OQE/AAAAAAAAAAI/AAAAAAAAAA0/JeXJe4vQJ7M/s64/photo.jpg",
      "userId": "00988067626794866502"
     },
     "user_tz": 240
    },
    "id": "a847C4kKqAjd",
    "outputId": "1060932e-ec17-4024-d985-75b2a4e25401"
   },
   "outputs": [
    {
     "name": "stdout",
     "output_type": "stream",
     "text": [
      "[-0.01541655 -0.03887927  0.04262985  0.02267733 -0.01774983  0.02508286\n",
      " -0.03941088  0.01874723]\n"
     ]
    }
   ],
   "source": [
    "## calculate residuals\n",
    "y_hat2 = model(theta,Sexp)\n",
    "e2 = rexp - y_hat2\n",
    "print(e2)"
   ]
  },
  {
   "cell_type": "code",
   "execution_count": 7,
   "metadata": {
    "colab": {
     "base_uri": "https://localhost:8080/",
     "height": 361
    },
    "colab_type": "code",
    "executionInfo": {
     "elapsed": 3428,
     "status": "ok",
     "timestamp": 1554820380297,
     "user": {
      "displayName": "Alexander Dowling",
      "photoUrl": "https://lh3.googleusercontent.com/-LChdQ2m5OQE/AAAAAAAAAAI/AAAAAAAAAA0/JeXJe4vQJ7M/s64/photo.jpg",
      "userId": "00988067626794866502"
     },
     "user_tz": 240
    },
    "id": "519xNpZ4qAjg",
    "outputId": "b4a954e5-1e0a-4f87-f1a5-1c8f09556fcc"
   },
   "outputs": [
    {
     "data": {
      "image/png": "[encoded data removed]",
      "text/plain": [
       "<Figure size 432x288 with 1 Axes>"
      ]
     },
     "metadata": {
      "needs_background": "light"
     },
     "output_type": "display_data"
    }
   ],
   "source": [
    "plt.hist(e2)\n",
    "plt.xlabel(\"Residual (mol / L / s)\")\n",
    "plt.ylabel(\"Frequency (count)\")\n",
    "plt.show()"
   ]
  },
  {
   "cell_type": "code",
   "execution_count": 8,
   "metadata": {
    "colab": {
     "base_uri": "https://localhost:8080/",
     "height": 376
    },
    "colab_type": "code",
    "executionInfo": {
     "elapsed": 3409,
     "status": "ok",
     "timestamp": 1554820380298,
     "user": {
      "displayName": "Alexander Dowling",
      "photoUrl": "https://lh3.googleusercontent.com/-LChdQ2m5OQE/AAAAAAAAAAI/AAAAAAAAAA0/JeXJe4vQJ7M/s64/photo.jpg",
      "userId": "00988067626794866502"
     },
     "user_tz": 240
    },
    "id": "HcAZNvLJqAji",
    "outputId": "1a79d340-62a8-4230-8c1e-c7c48574bdd5"
   },
   "outputs": [
    {
     "data": {
      "image/png": "[encoded data removed]",
      "text/plain": [
       "<Figure size 432x288 with 1 Axes>"
      ]
     },
     "metadata": {
      "needs_background": "light"
     },
     "output_type": "display_data"
    }
   ],
   "source": [
    "plt.plot(y_hat2,e2,\"b.\",markersize=20)\n",
    "plt.xlabel(\"Predicted r (mol / s / L)\")\n",
    "plt.ylabel(\"Residual (mol / s / L)\")\n",
    "plt.grid(True)\n",
    "plt.title(\"Residuals vs. Predicted Value\")\n",
    "plt.show()"
   ]
  },
  {
   "cell_type": "code",
   "execution_count": 9,
   "metadata": {
    "colab": {
     "base_uri": "https://localhost:8080/",
     "height": 376
    },
    "colab_type": "code",
    "executionInfo": {
     "elapsed": 3739,
     "status": "ok",
     "timestamp": 1554820380639,
     "user": {
      "displayName": "Alexander Dowling",
      "photoUrl": "https://lh3.googleusercontent.com/-LChdQ2m5OQE/AAAAAAAAAAI/AAAAAAAAAA0/JeXJe4vQJ7M/s64/photo.jpg",
      "userId": "00988067626794866502"
     },
     "user_tz": 240
    },
    "id": "LiYy5BV0qAjk",
    "outputId": "cf04122e-9caa-4d4a-9cd8-3dbdc57701d0"
   },
   "outputs": [
    {
     "data": {
      "image/png": "[encoded data removed]",
      "text/plain": [
       "<Figure size 432x288 with 1 Axes>"
      ]
     },
     "metadata": {
      "needs_background": "light"
     },
     "output_type": "display_data"
    }
   ],
   "source": [
    "plt.plot(Sexp,e2,\"b.\",markersize=20)\n",
    "plt.xlabel(\"Dependent Variable [S] (mol / L)\")\n",
    "plt.ylabel(\"Residual (mol / s / L)\")\n",
    "plt.grid(True)\n",
    "plt.title(\"Residuals vs. Dependent Variable\")\n",
    "plt.show()"
   ]
  },
  {
   "cell_type": "markdown",
   "metadata": {},
   "source": [
    "<div style=\"background-color: rgba(0,0,255,0.05) ; padding: 10px; border: 1px solid darkblue;\"> \n",
    "<b>Class Activity</b>: Do the residuals pass the diagnostic tests? Discuss with your neighbor.\n",
    "</div>"
   ]
  },
  {
   "cell_type": "markdown",
   "metadata": {
    "colab_type": "text",
    "id": "8YjWzsTRqAjn"
   },
   "source": [
    "## Step 3: Uncertainty Analysis\n",
    "\n",
    "$$\n",
    "\\Sigma_{\\theta} \\approx \\hat{\\sigma}_e^2 (J^T J)^{-1}\n",
    "$$\n",
    "\n",
    "where $J$ is the Jacobian of the residuals w.r.t. $\\theta$:\n",
    "\n",
    "$$\n",
    "J_{i,j} = \\frac{\\partial(y_i - \\hat{y}_i)}{\\partial \\theta_j}\n",
    "$$"
   ]
  },
  {
   "cell_type": "markdown",
   "metadata": {},
   "source": [
    "Fortunately, `scipy` approximates this Jacobian for us."
   ]
  },
  {
   "cell_type": "code",
   "execution_count": 10,
   "metadata": {
    "colab": {
     "base_uri": "https://localhost:8080/",
     "height": 187
    },
    "colab_type": "code",
    "executionInfo": {
     "elapsed": 3716,
     "status": "ok",
     "timestamp": 1554820380642,
     "user": {
      "displayName": "Alexander Dowling",
      "photoUrl": "https://lh3.googleusercontent.com/-LChdQ2m5OQE/AAAAAAAAAAI/AAAAAAAAAA0/JeXJe4vQJ7M/s64/photo.jpg",
      "userId": "00988067626794866502"
     },
     "user_tz": 240
    },
    "id": "90a-k1wIqAjo",
    "outputId": "ed966524-2757-4111-eb5c-813c56814f5a"
   },
   "outputs": [
    {
     "name": "stdout",
     "output_type": "stream",
     "text": [
      "Jacobian =\n",
      "\n",
      "[[-0.06279474  0.0255815 ]\n",
      " [-0.08200973  0.03272438]\n",
      " [-0.10045264  0.03927836]\n",
      " [-0.18256603  0.06486951]\n",
      " [-0.30876252  0.09277262]\n",
      " [-0.47183888  0.10832486]\n",
      " [-0.64115561  0.10000865]\n",
      " [-0.78134652  0.07426224]]\n"
     ]
    }
   ],
   "source": [
    "print(\"Jacobian =\\n\")\n",
    "print(nl_results.jac)"
   ]
  },
  {
   "cell_type": "markdown",
   "metadata": {},
   "source": [
    "Notice this is NOT the same Jacobian used for error propagation in this [previous notebook.](../15/Transformations-and-Linear-Regression.ipynb)"
   ]
  },
  {
   "cell_type": "code",
   "execution_count": 11,
   "metadata": {
    "colab": {
     "base_uri": "https://localhost:8080/",
     "height": 68
    },
    "colab_type": "code",
    "executionInfo": {
     "elapsed": 3705,
     "status": "ok",
     "timestamp": 1554820380647,
     "user": {
      "displayName": "Alexander Dowling",
      "photoUrl": "https://lh3.googleusercontent.com/-LChdQ2m5OQE/AAAAAAAAAAI/AAAAAAAAAA0/JeXJe4vQJ7M/s64/photo.jpg",
      "userId": "00988067626794866502"
     },
     "user_tz": 240
    },
    "id": "SWg_LHDXqAjr",
    "outputId": "484c19b5-a628-4108-f8cf-38e1dddae403"
   },
   "outputs": [
    {
     "name": "stdout",
     "output_type": "stream",
     "text": [
      "Covariance matrix:\n",
      " [[0.00450233 0.02306357]\n",
      " [0.02306357 0.14479753]]\n"
     ]
    }
   ],
   "source": [
    "sigre = (e2.T @ e2)/(len(e2) - 2)\n",
    "Sigma_theta2 = sigre * np.linalg.inv(nl_results.jac.T @ nl_results.jac)\n",
    "print(\"Covariance matrix:\\n\",Sigma_theta2)"
   ]
  }
 ],
 "metadata": {
  "colab": {
   "name": "L21-Transformations-and-Nonlinear-Regression.ipynb",
   "provenance": [],
   "version": "0.3.2"
  },
  "kernelspec": {
   "display_name": "Python 3 (ipykernel)",
   "language": "python",
   "name": "python3"
  },
  "language_info": {
   "codemirror_mode": {
    "name": "ipython",
    "version": 3
   },
   "file_extension": ".py",
   "mimetype": "text/x-python",
   "name": "python",
   "nbconvert_exporter": "python",
   "pygments_lexer": "ipython3",
   "version": "3.9.12"
  }
 },
 "nbformat": 4,
 "nbformat_minor": 4
}
