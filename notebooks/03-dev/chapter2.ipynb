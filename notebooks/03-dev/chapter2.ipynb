{
 "cells": [
  {
   "cell_type": "markdown",
   "metadata": {},
   "source": [
    "# Chapter 2: Intro to Linear Algebra"
   ]
  },
  {
   "cell_type": "markdown",
   "metadata": {},
   "source": [
    "**Before Class**:\n",
    "* Read Chapter 2 in Savov (2020) and take notes\n",
    "* Watch the following videos and take notes:\n",
    "  * [Essense of linear algebra preview](https://www.3blue1brown.com/lessons/eola-preview)\n",
    "  * [Vectors, what even are they?](https://www.3blue1brown.com/lessons/vectors)\n",
    "  * [Linear combination, span, and basis vectors](https://www.3blue1brown.com/lessons/span)\n",
    "  * [Linear transformations and matrices](https://www.3blue1brown.com/lessons/linear-transformations)\n",
    "* Compile a list of questions to bring to class\n",
    "\n",
    "**During and After Class**:\n",
    "* Take notes (on paper or a tablet computer)\n",
    "* Complete this notebook, submit you answer via Gradescope"
   ]
  },
  {
   "cell_type": "code",
   "execution_count": null,
   "metadata": {},
   "outputs": [],
   "source": [
    "import matplotlib.pyplot as plt\n",
    "import numpy as np\n",
    "import scipy.linalg as la"
   ]
  },
  {
   "attachments": {},
   "cell_type": "markdown",
   "metadata": {},
   "source": [
    "## Identify Linear Functions\n",
    "\n",
    "P2.1 in Savov (2020)\n",
    "\n",
    "Classify the following functions as linear or nonlinear?\n",
    "1. $q(x) = x^2$\n",
    "2. $f(x) = g(h(x))$, where $g(x) = \\sqrt{3}~x$ and $h(x) = -4 x$\n",
    "3. $i(x) = \\frac{1}{m~x}$\n",
    "4. $j(x) = \\frac{x-a}{x-b}$\n",
    "\n",
    "For each function, first determine if it is linear using pencil and paper to test your intuition (do not turn in -- honor system). Next, plot the function using Python. Finally, write a few words stating if the function is nonlinear or not and justifying your answer."
   ]
  },
  {
   "cell_type": "code",
   "execution_count": null,
   "metadata": {},
   "outputs": [],
   "source": [
    "# Let's evaluate x from -5 to 5 for ploting\n",
    "x = np.linspace(-5,5,21)\n",
    "\n",
    "# function 1\n",
    "f1 = lambda x : x**2\n",
    "plt.plot(x, f1(x))\n",
    "plt.xlabel(r'$x$',fontsize=16)\n",
    "plt.ylabel(r'$q(x) = x^2$',fontsize=16)\n",
    "plt.show()\n",
    "\n",
    "### BEGIN SOLUTION\n",
    "# function 2\n",
    "f2 = lambda x : -4 * np.sqrt(3) * x\n",
    "plt.plot(x, f2(x))\n",
    "plt.xlabel(r'$x$',fontsize=16)\n",
    "plt.ylabel(r'$f(x) = g(h(x)),~g(x) = \\sqrt{3} x,~h(x) = -4 x$',fontsize=12)\n",
    "plt.show()\n",
    "\n",
    "# function 3\n",
    "m = 2 \n",
    "f3 = lambda x : 1/(x*m)\n",
    "plt.plot(x, f3(x))\n",
    "plt.xlabel(r'$x$',fontsize=16)\n",
    "plt.ylabel(r'$i(x) = \\frac{1}{m x},~m=2$',fontsize=16)\n",
    "plt.show()\n",
    "\n",
    "# function 4\n",
    "a = 1\n",
    "b = 2\n",
    "f4 = lambda x : (x-a)/(x-b)\n",
    "plt.plot(x, f4(x))\n",
    "plt.xlabel(r'$x$',fontsize=16)\n",
    "plt.ylabel(r'$j(x) = \\frac{x-a}{x-b},~a=1,~b=2$',fontsize=16)\n",
    "plt.show()\n",
    "\n",
    "# Classifications\n",
    "# 1. nonlinear, this function is quadratric\n",
    "# 2. linear, this is a line\n",
    "# 3. nonlinear, the function diverges at x=0\n",
    "# 4. nonlinear, the function diverges at x=b\n",
    "\n",
    "### END SOLUTION\n"
   ]
  },
  {
   "cell_type": "markdown",
   "metadata": {},
   "source": [
    "**Your Answers:**\n",
    "1. Fill in\n",
    "2. Fill in\n",
    "3. Fill in\n",
    "4. Fill in"
   ]
  },
  {
   "attachments": {},
   "cell_type": "markdown",
   "metadata": {},
   "source": [
    "## Vector Operations\n",
    "\n",
    "Given the vectors, ${\\bf u} = (1,1,1)$, ${\\bf v} = (2,3,1)$, ${\\bf w} = (-1,-1,2)$, we will compute several products.\n",
    "\n",
    "First, let's plot the vectors in 3D with Python."
   ]
  },
  {
   "cell_type": "code",
   "execution_count": null,
   "metadata": {},
   "outputs": [],
   "source": [
    "# define vectors\n",
    "u = np.array([1,1,1])\n",
    "v = np.array([2,3,1])\n",
    "w = np.array([-1,-1,2])\n",
    "\n",
    "# Create 3D figure and axes\n",
    "fig = plt.figure()\n",
    "ax = fig.add_subplot(111, projection='3d')\n",
    "\n",
    "# Set labels and limits\n",
    "ax.set_xlabel('x')\n",
    "ax.set_ylabel('y')\n",
    "ax.set_zlabel('z')\n",
    "ax.set_xlim([-1,2])\n",
    "ax.set_ylim([-1,3])\n",
    "ax.set_zlim([0,2])\n",
    "\n",
    "# Plot vectors\n",
    "def plot_vector(vector, color, label):\n",
    "    ''' Plot a 3D vector\n",
    "        Arguments:\n",
    "            vector: np array\n",
    "            color: 'r', 'b', 'g', etc.\n",
    "            label: string for legend\n",
    "        \n",
    "    '''\n",
    "    assert len(vector) == 3, \"Must be a 3D vector\"\n",
    "\n",
    "    ax.quiver(0, 0, 0, vector[0], vector[1], vector[2], color=color, arrow_length_ratio=0.1, label=label)\n",
    "\n",
    "plot_vector(u, 'r', r'${\\bf u}$')\n",
    "plot_vector(v, 'b', r'${\\bf v}$')\n",
    "plot_vector(w, 'g', r'${\\bf w}$')\n",
    "\n",
    "plt.legend(loc='best',ncol=3)\n",
    "plt.show()\n"
   ]
  },
  {
   "cell_type": "markdown",
   "metadata": {},
   "source": [
    "### Dot Products\n",
    "\n",
    "Compute these products by hand (do not turn in -- honor system) and with Python.\n",
    "\n",
    "1. ${\\bf u} \\cdot {\\bf v}$\n",
    "2. ${\\bf u} \\cdot {\\bf w}$\n",
    "3. ${\\bf v} \\cdot {\\bf w}$"
   ]
  },
  {
   "cell_type": "code",
   "execution_count": null,
   "metadata": {},
   "outputs": [],
   "source": [
    "### BEGIN SOLUTION\n",
    "print(\"u dot v =\",u@v)\n",
    "print(\"u dot w =\",u@w)\n",
    "print(\"v dot w =\",v@w)\n",
    "\n",
    "# Discusion / geometric intepreation\n",
    "# 1. u dot w is zero because these vectors are orthagonal\n",
    "# 2. | u dot v | is larger than | v dot w | because some of the components of w are negative and others are positive, thus part of the dot product\n",
    "# calculation \"cancels out\" other parts of it. In contrast, all elements of u and v are positive, so there is no \"cancelling out\" in the dot product\n",
    "# calculation.\n",
    "### END SOLUTION"
   ]
  },
  {
   "cell_type": "markdown",
   "metadata": {},
   "source": [
    "Uses the 3D visualization of these vectors, explain your answers for the three dot products in a few sentences. Hint: what is the geometric interpretation of a dot product?"
   ]
  },
  {
   "cell_type": "markdown",
   "metadata": {},
   "source": [
    "**Your Explanation**:"
   ]
  },
  {
   "attachments": {},
   "cell_type": "markdown",
   "metadata": {},
   "source": [
    "### Cross Products\n",
    "\n",
    "Compute these products by hand (do not turn in -- honor system) and with Python.\n",
    "\n",
    "1. ${\\bf u} \\times {\\bf v}$\n",
    "2. ${\\bf u} \\times {\\bf w}$\n",
    "3. ${\\bf v} \\times {\\bf w}$"
   ]
  },
  {
   "cell_type": "code",
   "execution_count": null,
   "metadata": {},
   "outputs": [],
   "source": [
    "### BEGIN SOLUTION\n",
    "\n",
    "u_cross_v = np.cross(u,v)\n",
    "print(\"u cross v = \",u_cross_v)\n",
    "\n",
    "# Create 3D figure and axes\n",
    "fig = plt.figure()\n",
    "ax = fig.add_subplot(111, projection='3d')\n",
    "\n",
    "# Set labels and limits\n",
    "ax.set_xlabel('x')\n",
    "ax.set_ylabel('y')\n",
    "ax.set_zlabel('z')\n",
    "ax.set_xlim([-1,2])\n",
    "ax.set_ylim([-1,3])\n",
    "ax.set_zlim([0,2])\n",
    "\n",
    "# Plot vectors\n",
    "plot_vector(u, 'r', r'${\\bf u}$')\n",
    "plot_vector(v, 'b', r'${\\bf v}$')\n",
    "plot_vector(u_cross_v, 'k', r'${\\bf u \\times v}$')\n",
    "\n",
    "plt.legend(loc='best',ncol=3)\n",
    "plt.show()\n",
    "\n",
    "### END SOLUTION"
   ]
  },
  {
   "cell_type": "code",
   "execution_count": null,
   "metadata": {},
   "outputs": [],
   "source": [
    "### BEGIN SOLUTION\n",
    "\n",
    "u_cross_w = np.cross(u,w)\n",
    "print(\"u cross w = \",u_cross_w)\n",
    "\n",
    "# Create 3D figure and axes\n",
    "fig = plt.figure()\n",
    "ax = fig.add_subplot(111, projection='3d')\n",
    "\n",
    "# Set labels and limits\n",
    "ax.set_xlabel('x')\n",
    "ax.set_ylabel('y')\n",
    "ax.set_zlabel('z')\n",
    "ax.set_xlim([-1,3])\n",
    "ax.set_ylim([-3,3])\n",
    "ax.set_zlim([0,2])\n",
    "\n",
    "# Plot vectors\n",
    "plot_vector(u, 'r', r'${\\bf u}$')\n",
    "plot_vector(w, 'g', r'${\\bf w}$')\n",
    "plot_vector(u_cross_w, 'k', r'${\\bf u \\times w}$')\n",
    "\n",
    "plt.legend(loc='best',ncol=3)\n",
    "plt.show()\n",
    "\n",
    "### END SOLUTION"
   ]
  },
  {
   "cell_type": "code",
   "execution_count": null,
   "metadata": {},
   "outputs": [],
   "source": [
    "### BEGIN SOLUTION\n",
    "\n",
    "v_cross_w = np.cross(v,w)\n",
    "print(\"v cross w = \",v_cross_w)\n",
    "\n",
    "# Create 3D figure and axes\n",
    "fig = plt.figure()\n",
    "ax = fig.add_subplot(111, projection='3d')\n",
    "\n",
    "# Set labels and limits\n",
    "ax.set_xlabel('x')\n",
    "ax.set_ylabel('y')\n",
    "ax.set_zlabel('z')\n",
    "ax.set_xlim([-1,7])\n",
    "ax.set_ylim([-5,3])\n",
    "ax.set_zlim([0,2])\n",
    "\n",
    "# Plot vectors\n",
    "plot_vector(v, 'b', r'${\\bf v}$')\n",
    "plot_vector(w, 'g', r'${\\bf w}$')\n",
    "plot_vector(v_cross_w, 'k', r'${\\bf v \\times w}$')\n",
    "\n",
    "plt.legend(loc='best',ncol=3)\n",
    "plt.show()\n",
    "\n",
    "# Discussion:\n",
    "# consider a x b = c\n",
    "# Each cross product \"c\" is orthagonal to the two vectors \"a\" and \"b\". If the two vectors \"a\" and \"b\" are orthagonal, \n",
    "# then the angle between them is 90 degrees, and the length of the cross product is |a| times |b|. As the angle\n",
    "# between the vectors gets smaller, the length of the cross product gets smaller.\n",
    "\n",
    "### END SOLUTION"
   ]
  },
  {
   "attachments": {},
   "cell_type": "markdown",
   "metadata": {},
   "source": [
    "Uses the 3D visualization of these vectors, explain your answers for the three cross products in a few sentences. Hint: what is the geometric interpretation of a cross product?"
   ]
  },
  {
   "cell_type": "markdown",
   "metadata": {},
   "source": []
  },
  {
   "attachments": {},
   "cell_type": "markdown",
   "metadata": {},
   "source": [
    "## Linear Transformations\n",
    "\n",
    "**Reference:** P2.13 in Savov (2020).\n",
    "\n",
    "Consider the following three linear transformations that take a two dimensional vector as an input and output a two dimensional vector.\n",
    "\n",
    "$$\n",
    "T_A \\left( \\begin{bmatrix} x \\\\ y \\end{bmatrix} \\right) = \\begin{bmatrix} 3x \\\\ y \\end{bmatrix}, \\quad T_B \\left( \\begin{bmatrix} x \\\\ y \\end{bmatrix} \\right) = \\begin{bmatrix} x + y \\\\ y \\end{bmatrix}, \\quad T_C \\left( \\begin{bmatrix} x \\\\ y \\end{bmatrix} \\right) = \\begin{bmatrix} 3x + y \\\\ y \\end{bmatrix}\n",
    "$$\n",
    "\n",
    "### Corresponding Matrixes\n",
    "\n",
    "Find the 2 x 2 matrices $\\bf A$, $\\bf B$, and $\\bf C$ such that\n",
    "\n",
    "$$\n",
    "T_A({\\bf v}) = {\\bf A v}, \\quad T_B({\\bf v}) = {\\bf B v}, \\quad T_C({\\bf v}) = {\\bf C v}, \\quad \\forall {\\bf~v}\n",
    "$$\n",
    "\n",
    "Hint: Do this on paper first!\n",
    "\n",
    "### Matrix Multiplication\n",
    "\n",
    "Calculate the matrix products $\\bf A B$ and $\\bf B A$ first on paper and then with Python. (Yes, you should practice doing matrix multiplication by hand at least once.)\n"
   ]
  },
  {
   "cell_type": "code",
   "execution_count": null,
   "metadata": {},
   "outputs": [],
   "source": [
    "### BEGIN SOLUTION\n",
    "\n",
    "A = np.matrix([[3, 0],[0,1]])\n",
    "print(\"A = \\n\",A)\n",
    "\n",
    "B = np.matrix([[1, 1],[0,1]])\n",
    "print(\"\\nB = \\n\",B)\n",
    "\n",
    "C = np.matrix([[3, 1],[0,1]])\n",
    "print(\"\\nC = \\n\",C)\n",
    "\n",
    "AB = A @ B\n",
    "print(\"\\nAB =\\n\",AB)\n",
    "\n",
    "BA = B@A\n",
    "print(\"\\nBA =\\n\",BA)\n",
    "\n",
    "### END SOLUTION"
   ]
  },
  {
   "attachments": {},
   "cell_type": "markdown",
   "metadata": {},
   "source": [
    "Based on your calculations, is matrix multiplication commutative? Explain in a sentence.\n",
    "\n",
    "**Your Answer:**"
   ]
  },
  {
   "attachments": {},
   "cell_type": "markdown",
   "metadata": {},
   "source": [
    "## Atomic Species Balance using Linear Algebra"
   ]
  },
  {
   "attachments": {},
   "cell_type": "markdown",
   "metadata": {},
   "source": [
    "**Reference:** Example 4.7-1 in *Elementary Principles of Chemical Process Engineering*, Third Edition, Felder and Rousseau (2005)\n",
    "\n",
    "Methane is burned with air in a continuous steady-state combustion reactor to yield a mixture of carbon monoxide, carbon dioxide, and water. The reactions taking place are:\n",
    "\n",
    "CH$_4$ + $\\frac{3}{2}$ O$_2$ $\\rightarrow$ CO + 2 H$_2$O\n",
    "\n",
    "CH$_4$ + 2 O$_2$ $\\rightarrow$ CO$_2$ + 2 H$_2$O\n",
    "\n",
    "The feed to the reactor contains 7.80 mole% CH$_4$, 19.4% O$_2$, and 72.8% N$_2$. The percentage conversion of methane is 90.0%, and the gas leaving the reactor contains 8 mol CO$_2$/mol CO. What is the molar composition of the product stream?\n",
    "\n",
    "**Do the following using [this handout:](https://raw.githubusercontent.com/ndcbe/data-and-computing/main/extras/atomic-mass-balance-activity.docx)**\n",
    "1. Draw a picture\n",
    "2. Propose a mathematical model using atomic species balances\n",
    "3. Perform degree of freedom analysis\n",
    "4. Convert your model to a linear system\n",
    "5. Solve with Python\n",
    "6. Print your answer to the screen with a reasonable number of significant digits"
   ]
  },
  {
   "cell_type": "code",
   "execution_count": null,
   "metadata": {},
   "outputs": [],
   "source": [
    "### BEGIN SOLUTION\n",
    "\n",
    "# Set up the system of equations in matrix form\n",
    "A = np.array([[0,0,0,0,0,1],[1,0,0,0,0,0],[0,8,-1,0,0,0],[1,1,1,0,0,0],[4,0,0,2,0,0],[0,1,2,1,2,0]])\n",
    "b = np.array([72.8,0.78,0,7.8,31.2,38.8])\n",
    "\n",
    "print(\"A = \\n\",A,\"\\n\")\n",
    "print(\"b = \\n\",b,\"\\n\")\n",
    "\n",
    "# Solve the systems using scipy\n",
    "solution = la.solve(A,b)\n",
    "\n",
    "# Print solutions. Note the use of the .format() function, which provides a convenient way to displaying messages on screen.\n",
    "print('The molar flows are:')\n",
    "for i in range(len(solution)):\n",
    "    print(\"n{0} = {1:0.3f} mol\".format(i+1,solution[i]))\n",
    "# End for loop to print solutions\n",
    "\n",
    "'''\n",
    "# Print the condition number of the matrix\n",
    "print(\"\\nCondition Number of A:\",np.linalg.cond(A))\n",
    "\n",
    "\n",
    "# Complete the LU Decomposition using scipy \n",
    "pl, u = la.lu(A, True)\n",
    "\n",
    "# Print the permuted l matrix\n",
    "print(\"\\npl:\\n\",pl)\n",
    "# Print the upper triangular matrix\n",
    "print(\"\\nu:\\n\",u)\n",
    "\n",
    "# Complete the LU Decomposition using scipy \n",
    "p,l,u = la.lu(A)\n",
    "\n",
    "# Print the permutation matrix\n",
    "print(\"\\np:\\n\",p)\n",
    "# Print the lower triangular matrix\n",
    "print(\"\\nl:\\n\",l)\n",
    "# Print the upper triangular matrix\n",
    "print(\"\\nu:\\n\",u)\n",
    "\n",
    "#solve for y\n",
    "y = la.solve(pl,b)\n",
    "\n",
    "print(\"\\ny:\\n\",y)\n",
    "\n",
    "# Solve for solution\n",
    "la.solve(u, y)\n",
    "'''\n",
    "\n",
    "print('\\nDone!')\n",
    "\n",
    "### END SOLUTION"
   ]
  },
  {
   "cell_type": "code",
   "execution_count": null,
   "metadata": {},
   "outputs": [],
   "source": []
  }
 ],
 "metadata": {
  "kernelspec": {
   "display_name": "jbook",
   "language": "python",
   "name": "python3"
  },
  "language_info": {
   "codemirror_mode": {
    "name": "ipython",
    "version": 3
   },
   "file_extension": ".py",
   "mimetype": "text/x-python",
   "name": "python",
   "nbconvert_exporter": "python",
   "pygments_lexer": "ipython3",
   "version": "3.9.13"
  },
  "orig_nbformat": 4
 },
 "nbformat": 4,
 "nbformat_minor": 2
}
