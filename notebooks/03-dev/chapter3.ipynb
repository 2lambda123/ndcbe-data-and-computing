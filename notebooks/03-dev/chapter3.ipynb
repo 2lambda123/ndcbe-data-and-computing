{
 "cells": [
  {
   "cell_type": "markdown",
   "metadata": {},
   "source": [
    "# Chapter 3: Computational linear algebra"
   ]
  },
  {
   "cell_type": "markdown",
   "metadata": {},
   "source": [
    "**Before Class**:\n",
    "* Read Chapter 3 in Savov (2020) and take notes\n",
    "* Watch the following videos and take notes:\n",
    "  * [Matrix multiplication as composition](https://www.3blue1brown.com/lessons/matrix-multiplication)\n",
    "  * [Three-dimensional linear transformations](https://www.3blue1brown.com/lessons/3d-transformations)\n",
    "  * [The determinant](https://www.3blue1brown.com/lessons/determinant)\n",
    "  * [Inverse matrices, column space and null space](https://www.3blue1brown.com/lessons/inverse-matrices)\n",
    "* Compile a list of questions to bring to class\n",
    "\n",
    "**During and After Class**:\n",
    "* Take notes (on paper or a tablet computer)\n",
    "* Complete this notebook, submit you answer via Gradescope"
   ]
  },
  {
   "cell_type": "code",
   "execution_count": null,
   "metadata": {},
   "outputs": [],
   "source": [
    "import scipy.linalg as la\n",
    "import numpy as np"
   ]
  },
  {
   "attachments": {},
   "cell_type": "markdown",
   "metadata": {},
   "source": [
    "## Throwback: Solving a Linear System by Hand"
   ]
  },
  {
   "cell_type": "markdown",
   "metadata": {},
   "source": [
    "We want to solve the following system:\n",
    "\n",
    "$$3 x_1 + 2 x_2 + x_3 = 6$$\n",
    "$$-x_1 + 4 x_2 + 5x_3 = 8$$\n",
    "$$2x_1 -8 x_2 + 10 x_3 = 4$$\n",
    "\n",
    "In matrix form this looks like\n",
    "\n",
    "$$\\underbrace{\\begin{pmatrix} 3 & 2 & 1\\\\ -1 & 4 & 5\\\\ 2& -8 & 10\\end{pmatrix}}_{\\mathbf{A}} ~\n",
    "\\underbrace{\\begin{pmatrix} x_1\\\\x_2\\\\x_3\\end{pmatrix}}_{\\mathbf{x}} = \\underbrace{\\begin{pmatrix}6\\\\8\\\\4\\end{pmatrix}}_{\\mathbf{b}}\n",
    "$$\n",
    "\n",
    "Another way to write this is a notational shorthand called an **augmented matrix**, where we put the righthand side into the matrix:\n",
    "\n",
    "$$\n",
    "\\left(\\begin{array}{ccc|c}   3 & 2 & 1 &6\\\\ -1 & 4 & 5&8\\\\ 2& -8 & 10&4\\end{array}\\right)\n",
    "$$\n",
    "\n",
    "Now let's apply Gaussian elimination to solve this system of equations with pencil and paper."
   ]
  },
  {
   "attachments": {},
   "cell_type": "markdown",
   "metadata": {},
   "source": [
    "## Solving a Linear System with Python"
   ]
  },
  {
   "cell_type": "markdown",
   "metadata": {},
   "source": [
    "Now let's solve this system of equations with Python. Tip: `scipy` is a little more sophisticated than `numpy`. Read more [here](https://docs.scipy.org/doc/scipy/tutorial/linalg.html#)."
   ]
  },
  {
   "cell_type": "code",
   "execution_count": null,
   "metadata": {},
   "outputs": [],
   "source": [
    "A = np.array([[3, 2, 1], [-1, 4, 5], [2, -8, 10]])\n",
    "print(\"A=\\n\",A)\n",
    "\n",
    "# Define b\n",
    "### BEGIN SOLUTION\n",
    "b = np.array([6,8,4])\n",
    "### END SOLUTION\n",
    "print(\"b=\\n\",b)\n",
    "\n",
    "# Calculate x using la.solve\n",
    "### BEGIN SOLUTION\n",
    "x = la.solve(A,b)\n",
    "### END SOLUTION\n",
    "print(\"x=\\n\",x)\n",
    "\n"
   ]
  },
  {
   "cell_type": "markdown",
   "metadata": {},
   "source": [
    "We can also use Python to calculate the reduced row echelon form. First, let's use `sympy`, which Savov uses too."
   ]
  },
  {
   "cell_type": "code",
   "execution_count": null,
   "metadata": {},
   "outputs": [],
   "source": [
    "from sympy import Matrix\n",
    "\n",
    "# Define A\n",
    "A_ = Matrix([[3, 2, 1], [-1, 4, 5], [2, -8, 10]])\n",
    "print(\"A=\\n\",A_)\n",
    "\n",
    "# Define B\n",
    "b_ = Matrix([6,8,4])\n",
    "print(\"b=\\n\",b_)\n",
    "\n",
    "# Create augmented matrix\n",
    "aug_ = A_.row_join(b_)\n",
    "print(\"aug=\\n\",aug_)\n",
    "\n",
    "# Calculate reduced row eschelon form\n",
    "rref_ = aug_.rref()\n",
    "print(rref_)"
   ]
  },
  {
   "cell_type": "markdown",
   "metadata": {},
   "source": [
    "`Sympy` performs symbolic computations which are great for teaching but often too slow for numerically solving large problems (e.g., compuational fluid dynamics simulation). We'll focus on using `scipy` for most of this class, although you should be comfortable converting the reduced row echelon form of the augmented matrix back into the solution of the linear system."
   ]
  },
  {
   "attachments": {},
   "cell_type": "markdown",
   "metadata": {},
   "source": [
    "## Extending Gaussian Elimination to Invert a Matrix"
   ]
  },
  {
   "cell_type": "markdown",
   "metadata": {},
   "source": [
    "Now let's \"open the black box\" to see how `scipy`/`numpy` numerically calculates the inverse. Start by studying [](../04/Gauss-Elimination.ipynb) which converts our by-hand Gaussian elimination calculation into pseudocode and then Python code. \n",
    "\n",
    "As discussed on pg. 199 of Savov, we can calculate the inverse of a matrix $\\bf A$ by assembling the augemented matrix\n",
    "\n",
    "$$ \\begin{bmatrix} {\\bf A} & {\\bf I} \\end{bmatrix} $$\n",
    "\n",
    "and applying Gauss-Jordan elimination to obtain:\n",
    "\n",
    "$$ \\begin{bmatrix} {\\bf I} & {\\bf A}^{-1} \\end{bmatrix}$$\n",
    "\n",
    "**Assignment**: \n",
    "1. Modify the `GaussElim` and `BackSub` functions from [](../04/Gauss-Elimination.ipynb) to perform Gauss-Jordan elimination. As written, these functions first perform Gaussian elimination to produce zeros below the diagonal in the augmented matrix. Next, a backsolve is performed to solve the linear system. This needs to be modified to instead converted the augmented matrix into reduced row eschelon form, i.e., the left of the augmented matrix should be the identify matrix.\n",
    "2. Test your function by solving the linear system example ${\\bf A x} = {\\bf b}$ used earlier in this notebook. In other words, you should be able to reproduce the RREF calculated above with `sympy`.\n",
    "2. Use your function to calculate the matrix inverse ${\\bf A}^{-1}$.\n",
    "3. Tip: You do not need to worry about pivoting. While pivoting is important for numeric stability, it adds complexity."
   ]
  },
  {
   "cell_type": "code",
   "execution_count": null,
   "metadata": {},
   "outputs": [],
   "source": [
    "def reduced_row_eschelon_form(aug,LOUD=True):\n",
    "    \"\"\"Perform Gauss-Jordan elimination to convert\n",
    "    an input augmented matrix into reduced row eschelon form\n",
    "\n",
    "    Args:\n",
    "        aug: augmented matrix with dimensions N x M, M >= N\n",
    "    Returns:\n",
    "        augmented matrix in reduced row eschelon form\n",
    "    \"\"\"\n",
    "    # Extract dimensions of A\n",
    "    [Nrow, Ncol] = aug.shape\n",
    "    \n",
    "    # Check the dimensions\n",
    "    assert Nrow <= Ncol, \"Augmented matrix has too few columns\"\n",
    "\n",
    "    # Create a copy of the augemented matrix\n",
    "    aug_matrix = aug.copy()\n",
    "    \n",
    "    # loop over the first Nrow columns\n",
    "    for column in range(0,Nrow):\n",
    "        \n",
    "        # loop over the rows entries to the right of the pivot\n",
    "        for row in range(column+1, Nrow):\n",
    "\n",
    "            ### BEGIN SOLUTION\n",
    "\n",
    "            # select row to modify\n",
    "            mod_row = aug_matrix[row,:]\n",
    "\n",
    "            # modify the entire row\n",
    "            mod_row -= (mod_row[column]/aug_matrix[column,column]*\n",
    "                        aug_matrix[column,:])\n",
    "            \n",
    "            # overwrite row. Is this needed? Why or why not?\n",
    "            aug_matrix[row] = mod_row\n",
    "\n",
    "            ### END SOLUTION\n",
    "\n",
    "        # end loop over rows\n",
    "    # end loop over columns\n",
    "\n",
    "    if LOUD:\n",
    "        print(\"\\nEliminated below the diagonal:\\n\",aug_matrix)\n",
    "\n",
    "    # check augmented matrix is all zeros below the diagonal\n",
    "    z_tol = 1E-8\n",
    "    for r in range(Nrow):\n",
    "        for c in range(0,r):\n",
    "            assert np.abs(aug_matrix[r,c]) < z_tol, \"\\nWarning! Nonzero in position \"+str(r)+\",\"+str(c)\n",
    "\n",
    "    # loop over the columns starting at the right (count backwards)\n",
    "    for column in range(Nrow-1, -1, -1):\n",
    "\n",
    "        # loop over the rows above the pivot column\n",
    "        for row in range(0, column):\n",
    "\n",
    "            ### BEGIN SOLUTION\n",
    "\n",
    "            # select row to modify\n",
    "            mod_row = aug_matrix[row,:]\n",
    "\n",
    "            # modify the entire row\n",
    "            mod_row -= (mod_row[column]/aug_matrix[column,column]*\n",
    "                        aug_matrix[column,:])\n",
    "            \n",
    "            # overwrite row. Is this needed? Why or why not?\n",
    "            aug_matrix[row] = mod_row\n",
    "\n",
    "            ### END SOLUTION\n",
    "\n",
    "        # end loop over rows\n",
    "    # end loop over columns\n",
    "\n",
    "    if LOUD:\n",
    "        print(\"\\nEliminated above the diagonal:\\n\",aug_matrix)\n",
    "\n",
    "    # rescale each row\n",
    "    for row in range(0,Nrow):\n",
    "        aug_matrix[row,:] = aug_matrix[row,:] / aug_matrix[row,row]\n",
    "\n",
    "    if LOUD:\n",
    "        print(\"\\nReduced row eschelon form:\\n\",aug_matrix)\n",
    "\n",
    "    return aug_matrix\n",
    "\n",
    "\n",
    "\n",
    "# Create the augmented matrix and convert elements into floats (instead of ints)\n",
    "aug = np.column_stack((A,b)) * 1.0\n",
    "print(\"Augmented Matrix:\\n\",aug)\n",
    "\n",
    "rref = reduced_row_eschelon_form(aug,LOUD=True)"
   ]
  },
  {
   "attachments": {},
   "cell_type": "markdown",
   "metadata": {},
   "source": [
    "## Understanding the Determinant"
   ]
  },
  {
   "cell_type": "markdown",
   "metadata": {},
   "source": []
  },
  {
   "cell_type": "markdown",
   "metadata": {},
   "source": []
  }
 ],
 "metadata": {
  "kernelspec": {
   "display_name": "jbook",
   "language": "python",
   "name": "python3"
  },
  "language_info": {
   "codemirror_mode": {
    "name": "ipython",
    "version": 3
   },
   "file_extension": ".py",
   "mimetype": "text/x-python",
   "name": "python",
   "nbconvert_exporter": "python",
   "pygments_lexer": "ipython3",
   "version": "3.9.16"
  },
  "orig_nbformat": 4
 },
 "nbformat": 4,
 "nbformat_minor": 2
}
