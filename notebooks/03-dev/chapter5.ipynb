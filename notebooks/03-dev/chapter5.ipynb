{
 "cells": [
  {
   "cell_type": "markdown",
   "metadata": {},
   "source": [
    "# Chapter 5: Linear Transformations"
   ]
  },
  {
   "cell_type": "markdown",
   "metadata": {},
   "source": [
    "**Before Class**:\n",
    "* Read Chapter 5 in Savov (2020) and take notes\n",
    "* Watch the following videos and take notes:\n",
    "  * Review your notes on prior videos such as [linear transformations and matrices](https://www.3blue1brown.com/topics/linear-algebra) and [three-dimensional linear transformations](https://www.3blue1brown.com/lessons/3d-transformations)\n",
    "  * [Cross products and linear transformations](https://www.3blue1brown.com/lessons/cross-products-extended)\n",
    "  * [Cramer's rule, explained geometrically](https://www.3blue1brown.com/lessons/cramers-rule) *optional*\n",
    "  * [Change of basis](https://www.3blue1brown.com/lessons/change-of-basis)\n",
    "* Compile a list of questions to bring to class\n",
    "\n",
    "**During and After Class**:\n",
    "* Take notes (on paper or a tablet computer)\n",
    "* Complete this notebook, submit you answer via Gradescope"
   ]
  },
  {
   "cell_type": "code",
   "execution_count": null,
   "metadata": {},
   "outputs": [],
   "source": [
    "import numpy as np\n",
    "import scipy.linalg as la"
   ]
  },
  {
   "cell_type": "markdown",
   "metadata": {},
   "source": [
    "## LU Factorization\n",
    "\n",
    "Addition Information:\n",
    "* [](../04/LU-Decomposition.ipynb)\n",
    "* [](../04/Linear-Algebra-in-Numpy.ipynb)"
   ]
  },
  {
   "cell_type": "markdown",
   "metadata": {},
   "source": [
    "LU factorization writes a matrix $\\mathbf{A}$ as the product of a lower triangular matrix (that is a matrix with nonzero elements on the diagonal and below) times an upper triangular matrix (that is a matrix with nonzero elements above the diagonal). In other words, $\\mathbf{A} = \\mathbf{LU},$ where \n",
    "\n",
    "$$\n",
    "\\mathbf{L} = \\begin{pmatrix} * & 0 & \\dots\\\\ * & * & 0 & \\dots\\\\ * & * & * &0 & \\dots\\\\ \\vdots & \\vdots & \\vdots & \\ddots\\\\ * & * & * & \\dots & * \\end{pmatrix}\n",
    "$$\n",
    "\n",
    "and\n",
    "\n",
    "$$\n",
    "\\mathbf{U} = \\begin{pmatrix} * & * & * & \\dots & * \\\\ \n",
    "0 & * & * & \\dots & * \\\\ \n",
    "0 & 0 & \\ddots & \\dots & *\\\\ \n",
    "\\vdots & \\vdots & \\vdots & \\ddots\\\\\n",
    "0 & \\dots & &0 & *\\end{pmatrix}\n",
    "$$\n",
    "\n",
    "where the $*$ denote a potentially nonzero matrix element.  \n",
    "\n",
    "The question remains; how we find the entries in the matrices in the LU factorization?  To see this, let's look at a matrix we used in last class: \n",
    "\n",
    "$$\n",
    "\\begin{pmatrix} 3 & 2 & 1\\\\ -1 & 4 & 5\\\\ 2& -8 & 10\\end{pmatrix}\n",
    "$$\n",
    "\n",
    "we want to find the matrix LU such that \n",
    "\n",
    "$$\n",
    "\\begin{pmatrix} l_{11} & 0 & 0\\\\ l_{21} & l_{22} & 0\\\\ l_{31}& l_{32} & l_{33}\\end{pmatrix} \\begin{pmatrix} u_{11} & u_{12} & u_{13}\\\\ 0 & u_{22} & u_{23}\\\\ 0& 0 & u_{33}\\end{pmatrix}=\\begin{pmatrix} 3 & 2 & 1\\\\ -1 & 4 & 5\\\\ 2& -8 & 10\\end{pmatrix}.\n",
    "$$"
   ]
  },
  {
   "cell_type": "markdown",
   "metadata": {},
   "source": [
    "Guess what! LU factorization is just like Gaussian elimination. ${\\bf U}$ looks like our augmented matrix in row echelon form and ${\\bf L}$ records the row operations. Read more here: [](../04/LU-Decomposition.ipynb)\n",
    "\n",
    "### LU Factorization in Python\n",
    "\n",
    "Let's use Python to calculate the LU factorization:"
   ]
  },
  {
   "cell_type": "code",
   "execution_count": null,
   "metadata": {},
   "outputs": [],
   "source": [
    "# Define A\n",
    "A = np.array([(3.0,2,1),(-1,4,5),(2,-8,10)])\n",
    "\n",
    "# Perform LU decomposition\n",
    "(P, L, U) = la.lu(A)\n",
    "\n",
    "# Permutation matrix\n",
    "print(\"P = \\n\",P)\n",
    "\n",
    "# Lower diagonal matrix\n",
    "print(\"L = \\n\",L)\n",
    "\n",
    "# Upper diagonal matrix\n",
    "print(\"U = \\n\",U)\n",
    "\n",
    "# Verify result\n",
    "print(\"P*L*U = \\n\",P.dot(L.dot(U)),\"\\n\")"
   ]
  },
  {
   "cell_type": "markdown",
   "metadata": {},
   "source": [
    "### Permuation Matrix\n",
    "\n",
    "Wait, there is an extra matrix ${\\bf P}$?!?\n",
    "\n",
    "${\\bf P}$ is the permuation matrix. For this specific example, ${\\bf P}$ flips the second and third rows. This is partial pivoting.\n",
    "\n",
    "Let's look at some properties of ${\\bf P}$."
   ]
  },
  {
   "cell_type": "code",
   "execution_count": null,
   "metadata": {},
   "outputs": [],
   "source": [
    "print(\"inv(P) = \\n\",la.inv(P),\"\\n\")\n",
    "\n",
    "print(\"transpose(P) = \\n\",P.T,\"\\n\")\n",
    "\n",
    "print(\"P.T*P = \\n\",np.matmul(P.T,P),\"\\n\")"
   ]
  },
  {
   "cell_type": "markdown",
   "metadata": {},
   "source": [
    "${\\bf P}^T = {\\bf P}^{-1}$ and ${\\bf P}^T {\\bf P} = {\\bf I}$\n",
    "\n",
    "### Solving an Linear System\n",
    "\n",
    "How does LU factorization help us solve a linear system? Recall,\n",
    "\n",
    "$${\\bf A} = {\\bf P L U}, \\qquad {\\bf A x} = {\\bf b}$$\n",
    "\n",
    "Let's combine these equations:\n",
    "\n",
    "$${\\bf P L U x} = {\\bf b}$$\n",
    "\n",
    "And move ${\\bf P}$ from the left to the right.\n",
    "\n",
    "$${\\bf L U x} = {\\bf P}^{-1} {\\bf b} = {\\bf P}^{T} {\\bf b}$$\n",
    "\n",
    "Computing ${\\bf P}^{T} {\\bf b}$ is easy. It is just swappig columns in ${\\bf b}$.\n",
    "\n",
    "### Foward Solve\n",
    "\n",
    "Next, let's define ${\\bf y} = {\\bf U x}$. This gives:\n",
    "\n",
    "$${\\bf L y} = {\\bf P}^T {\\bf b}$$\n",
    "\n",
    "Recall that $\\bf L$ is a lower triangular matrix. This means we can easily solve for ${\\bf y}$ with forward substition."
   ]
  },
  {
   "cell_type": "code",
   "execution_count": null,
   "metadata": {},
   "outputs": [],
   "source": [
    "# define b\n",
    "b = np.array([6., 8, 4])\n",
    "print(\"b =\",b)\n",
    "\n",
    "N = len(b)\n",
    "\n",
    "# calculate P.T times b\n",
    "Pb = P.T @ b\n",
    "print(\"PT b =\",Pb)\n",
    "\n"
   ]
  },
  {
   "cell_type": "code",
   "execution_count": null,
   "metadata": {},
   "outputs": [],
   "source": [
    "# Allocate y as an array of zeros\n",
    "y = np.zeros(N)\n",
    "\n",
    "# Loop over elements of y\n",
    "for r in range(0,N):\n",
    "    \n",
    "    print(\"\\nBeginning to calculate y[\",r,\"]...\")\n",
    "\n",
    "    # Copy value of PT b into right hand side (RHS)\n",
    "    RHS = Pb[r]\n",
    "    print(\"y\",[r],\"=\",RHS)\n",
    "        \n",
    "    # loop over some of the columns to evaluated summation\n",
    "    for c in range(0,r):\n",
    "        print(\"\\t - ( y[\",c,\"]*L[\",r,\",\",c,\"] =\",y[c],\"*\",L[r,c],\"=\",y[c]*L[r,c],\")\")\n",
    "        RHS -= y[c]*L[r,c]\n",
    "\n",
    "    # Store answer    \n",
    "    y[r] = RHS\n",
    "    print(\"y\",[r],\"=\",RHS)\n",
    "\n",
    "\n",
    "print(\"\\n\\ny =\", y)"
   ]
  },
  {
   "cell_type": "markdown",
   "metadata": {},
   "source": [
    "Alternately, let's solve with `scipy`:"
   ]
  },
  {
   "cell_type": "code",
   "execution_count": null,
   "metadata": {},
   "outputs": [],
   "source": [
    "y = la.solve(L, P.T@b)\n",
    "print(\"y =\", y)"
   ]
  },
  {
   "cell_type": "markdown",
   "metadata": {},
   "source": [
    "### Backsolve\n",
    "\n",
    "Next, we solve the linear system:\n",
    "\n",
    "$${\\bf U x} = {\\bf y}$$\n",
    "\n",
    "This is also easy to solve because ${\\bf U}$ is upper triangular. This means we just need to do backward substitution."
   ]
  },
  {
   "cell_type": "code",
   "execution_count": null,
   "metadata": {},
   "outputs": [],
   "source": [
    "# Define vector of zeros for x\n",
    "x = np.zeros(N)\n",
    "\n",
    "# Loop over elements of x backwards\n",
    "for r in range(N-1,-1,-1):\n",
    "    \n",
    "    print(\"\\nBeginning to calculate x[\",r,\"]...\")\n",
    "\n",
    "    # Copy value of y into right hand side (RHS)\n",
    "    RHS = y[r]\n",
    "    print(\"U[\",r,\",\",r,\"]=\", U[r,r])\n",
    "    print(\"x\",[r],\"* U[\",r,\",\",r,\"]=\",RHS)\n",
    "        \n",
    "    # loop over some of the columns to evaluated summation\n",
    "    for c in range(r+1,N):\n",
    "        print(\"\\t - ( x[\",c,\"]*U[\",r,\",\",c,\"] =\",x[c],\"*\",U[r,c],\"=\",x[c]*U[r,c],\")\")\n",
    "        RHS -= x[c]*U[r,c]\n",
    "\n",
    "    # Store answer    \n",
    "    x[r] = RHS/U[r,r]\n",
    "    print(\"x\",[r],\"=\",RHS/U[r,r])\n",
    "\n",
    "\n",
    "print(\"\\n\\nx =\", x)"
   ]
  },
  {
   "cell_type": "markdown",
   "metadata": {},
   "source": [
    "Alternatively, let's solve with `scipy`:"
   ]
  },
  {
   "cell_type": "code",
   "execution_count": null,
   "metadata": {},
   "outputs": [],
   "source": [
    "x = la.solve(U, y)\n",
    "print(\"x =\", x)"
   ]
  },
  {
   "cell_type": "markdown",
   "metadata": {},
   "source": [
    "### Three Take Away Messages\n",
    "\n",
    "LU factorization is *very* similar to Gaussian elimination:\n",
    " * $\\mathbf{L}$ matrix saves the scaling factors from Gaussian elimination\n",
    " * $\\mathbf{U}$ matrix is the same as the reduced matrix\n",
    " * Partial pivoting works the same way for both LU factorization and Gaussian elimination\n",
    "\n",
    "Solving a linear system with LU factorization is easy:\n",
    " * First, perform forward substitution, which exploits that $\\mathbf{L}$ is lower triangular\n",
    " * Second, perform backward substitution, which exploits that $\\mathbf{U}$ is upper triangular\n",
    "\n",
    "\n",
    " LU factorization makes it easy to resolve $\\bf{A x} = {\\bf b}$ for many different $\\bf{b}$ :\n",
    " *  $\\mathbf{L}$ and $\\mathbf{U}$ save all of the steps from matrix reduction\n",
    " * Many nonlinear equation solving, numeric integration, and optimization algorithms exploit this trick"
   ]
  },
  {
   "cell_type": "markdown",
   "metadata": {},
   "source": [
    "## Invertible Matrix Theorem"
   ]
  },
  {
   "cell_type": "markdown",
   "metadata": {},
   "source": [
    "To paraphrase, $ A $ is a square $n \\times n$ matrix. The following statements are equivalent (all true or all false):\n",
    "* $A$ is invertible\n",
    "* $A$ is row equivalent to the $n \\times n$ identify matrix\n",
    "* $A$ has $n$ pivot positions\n",
    "* $A x = 0$ has only the trivial solution\n",
    "* The columns of $A$ form a linearly independent set\n",
    "* The system $A x = b$ has at least one solution\n",
    "* Columns of $A$ span $\\mathbb{R}^n$\n",
    "* $A^T$ is invertible\n",
    "* The rank of $A$ is $n$\n",
    "* The determinant of $A$ is not zero"
   ]
  },
  {
   "cell_type": "markdown",
   "metadata": {},
   "source": [
    "### Mass Balance Example\n",
    "\n",
    "We want to convert A into valuable product B using a process with a mixer, reactor, and separator.\n",
    "\n",
    "![flowsheet](../../media/1b_fig.png)\n",
    "\n",
    "A feed enters at a rate of 100 moles per hour and is composed 99 mole % A and the remainder B. Unfortunately, the reactor only has a 10% per pass conversion efficiency. This means that only 10% of A that enters the reactor undergoes the reaction $A \\rightarrow B$. The separator splits the reactor effluent into two streams: the product and the recycle. The separator operates such that for every 1 mole of A in the product streams, there are 4 moles of A in the recycle stream. Likewise, for every 8 moles of B in the product stream, there is 1 mole of B in the recycle stream.\n",
    "\n",
    "As shown in the figure above, we can model the process using component molar flowrates as variables. The first subscript is the stream ($m$, $e$, $r$, or $p$) and the second subscript is the component ($A$ or $B$)."
   ]
  },
  {
   "cell_type": "markdown",
   "metadata": {},
   "source": [
    "### Mathematical Model"
   ]
  },
  {
   "cell_type": "markdown",
   "metadata": {},
   "source": [
    "Your classmate proposes the following mathematical model\n",
    "\n",
    "Equation A:   $n_{f,A} + n_{r,A} = n_{m,A}$\n",
    "\n",
    "Equation B:   $n_{f,B} + n_{r,B} = n_{m,B}$\n",
    "\n",
    "Equation C:   $0.9 ~ n_{m,A} = n_{e,A}$\n",
    "\n",
    "Equation D:   $n_{m,A} + n_{m,B} = n_{e,A} + n_{e,B}$\n",
    "\n",
    "Equation E:   $n_{e,A} = n_{p,A} + n_{r,A}$\n",
    "\n",
    "Equation F:   $n_{e,B} = n_{p,B} + n_{r,B}$\n",
    "\n",
    "Equation G:   $4 ~ n_{p,A} = n_{r,A}$\n",
    "\n",
    "Equation H:   $n_{p,B} = 8 ~ n_{r,B}$\n",
    "\n",
    "Multiple choice description options:\n",
    "1. Entire Process: Overall mole balance\n",
    "2. Entire Process: Component A mole balance\n",
    "3. Process: Component B mole balance\n",
    "4. Mixer: Overall mole balance\n",
    "5. Mixer: Component A mole balance\n",
    "6. Mixer: Component B mole balance\n",
    "7. Mixer: Summation equation\n",
    "8. Reactor: Overall mole balance\n",
    "9. Reactor: Component A mole balance\n",
    "10. Reactor: Component B mole balance\n",
    "11. Reactor: 90% of A fed into reactor is converted to B\n",
    "12. Reactor: 10% of A fed into reactor is converted to B\n",
    "13. Separator: Overall mole balance\n",
    "14. Separator: Component A mole balance\n",
    "15. Separator: Component B mole balance\n",
    "16. Separator: For every 4 moles of A in recycle, there are 1 moles of A in product\n",
    "17. Seperator: For every 1 mole of A in recycle, there are 4 moles of A in product\n",
    "18. Seperator: For every 8 moles of B in recycle, there are 1 moles of B in product\n",
    "19. Seperator: For every 1 mole of B in recycle, there are 1 moles of B in product\n",
    "20. None of the above\n",
    "\n",
    "Hint: Choice 19 does not include a typo. It is meant to be 1 and 1.\n",
    "\n",
    "What is the name for each equation?"
   ]
  },
  {
   "cell_type": "code",
   "execution_count": null,
   "metadata": {},
   "outputs": [],
   "source": [
    "### BEGIN SOLUTION\n",
    "eqn_names = {'A':5, 'B':6, 'C':12, 'D':8, 'E':14, 'F':15, 'G':16, 'H':20}\n",
    "### END SOLUTION"
   ]
  },
  {
   "cell_type": "markdown",
   "metadata": {},
   "source": [
    "Convert the above equations into a linear system in canonical form ${\\bf A x} = {\\bf b}$ on paper. This is excellent practice for the quiz. Finally, verify your answer matches the matrix coded below."
   ]
  },
  {
   "cell_type": "code",
   "execution_count": null,
   "metadata": {},
   "outputs": [],
   "source": [
    "## Assemble A matrix\n",
    "A_ex = np.zeros((8,8))\n",
    "\n",
    "A_ex[0,0] = 1\n",
    "A_ex[0,6] = -1\n",
    "A_ex[1,1] = 1\n",
    "A_ex[1,7] = -1\n",
    "A_ex[2,0] = 0.9\n",
    "A_ex[2,2] = -1\n",
    "A_ex[3,0:2] = 1\n",
    "A_ex[3,2:4] = -1\n",
    "A_ex[4,2] = 1\n",
    "A_ex[4,4] = -1\n",
    "A_ex[4,6] = -1\n",
    "A_ex[5,3] = 1\n",
    "A_ex[5,5] = -1\n",
    "A_ex[5,7] = -1\n",
    "A_ex[6,4] = 4\n",
    "A_ex[6,6] = -1\n",
    "A_ex[7,5] = 1\n",
    "A_ex[7,7] = -8\n",
    "\n",
    "print(\"A=\\n\",A_ex)\n",
    "\n",
    "## Assemble b vector\n",
    "\n",
    "b_ex = np.zeros(8)\n",
    "b_ex[0] = 99\n",
    "b_ex[1] = 1\n",
    "print(\"\\nb=\\n\",b_ex)"
   ]
  },
  {
   "cell_type": "markdown",
   "metadata": {},
   "source": [
    "### Rank\n",
    "\n",
    "What is the rank of this system?"
   ]
  },
  {
   "cell_type": "code",
   "execution_count": null,
   "metadata": {},
   "outputs": [],
   "source": [
    "print(\"rank =\",np.linalg.matrix_rank(A_ex))"
   ]
  },
  {
   "cell_type": "markdown",
   "metadata": {},
   "source": [
    "In the space below, calculate a basis for the row space, column space, and null space. Hint: Review [](../03/chapter4.ipynb)"
   ]
  },
  {
   "cell_type": "code",
   "execution_count": null,
   "metadata": {},
   "outputs": [],
   "source": [
    "### BEGIN SOLUTION\n",
    "\n",
    "basis_column_space = la.orth(A_ex)\n",
    "print(\"basis of column space\\n\",basis_column_space)\n",
    "\n",
    "basis_row_space = la.orth(A.T)\n",
    "print(\"basis of row space\\n\",basis_row_space)\n",
    "\n",
    "basis_null_space = la.null_space(A)\n",
    "print(\"basis of row space\\n\",basis_null_space)\n",
    "\n",
    "### END SOLUTION"
   ]
  },
  {
   "cell_type": "markdown",
   "metadata": {},
   "source": [
    "Use as many statements from the invertible matrix theorem as possible to predict the number of solutions to this linear system. Write your answer here as a bulletted list:\n",
    "* Fill in...\n",
    "* Fill in..."
   ]
  },
  {
   "cell_type": "markdown",
   "metadata": {},
   "source": [
    "Finally, let's solve this linear system with Python. First we will perform an LU factorization."
   ]
  },
  {
   "cell_type": "code",
   "execution_count": null,
   "metadata": {},
   "outputs": [],
   "source": [
    "# Perform LU decomposition\n",
    "(P, L, U) = la.lu(A_ex)\n",
    "\n",
    "# Permutation matrix\n",
    "print(\"P = \\n\",P)\n",
    "\n",
    "# Lower diagonal matrix\n",
    "print(\"L = \\n\",L)\n",
    "\n",
    "# Upper diagonal matrix\n",
    "print(\"U = \\n\",U)\n",
    "\n",
    "# Verify result\n",
    "print(\"P*L*U = \\n\",P.dot(L.dot(U)),\"\\n\")"
   ]
  },
  {
   "cell_type": "markdown",
   "metadata": {},
   "source": [
    "To LU factorization perform any pivoting?\n",
    "\n",
    "**Answer:**"
   ]
  },
  {
   "cell_type": "markdown",
   "metadata": {},
   "source": [
    "Now let's solve the system:"
   ]
  },
  {
   "cell_type": "code",
   "execution_count": null,
   "metadata": {},
   "outputs": [],
   "source": [
    "x = la.solve(A_ex, b_ex)\n",
    "\n",
    "\n",
    "def print_solution(x):\n",
    "    '''Print solution for this specific mole balance problem\n",
    "    \n",
    "    Argument:\n",
    "        x: solution vector\n",
    "        \n",
    "    Returns:\n",
    "        Nothing\n",
    "    \n",
    "    '''\n",
    "    \n",
    "    print(\"Stream description : Component = flowrate (mol/h)\")\n",
    "    print(\"mixer outlet: A = \",x[0])\n",
    "    print(\"mixer effluent: B = \",x[1])\n",
    "    print(\"reactor effluent: A = \",x[2])\n",
    "    print(\"reactor effluent: B = \",x[3])\n",
    "    print(\"product: A = \",x[4])\n",
    "    print(\"product: B = \",x[5])\n",
    "    print(\"recycle: A = \",x[6])\n",
    "    print(\"recycle: B = \",x[7])\n",
    "\n",
    "print_solution(x)"
   ]
  },
  {
   "cell_type": "markdown",
   "metadata": {},
   "source": [
    "### Flip order of rows"
   ]
  },
  {
   "cell_type": "markdown",
   "metadata": {},
   "source": [
    "Now let's flip the order of rows in the linear system."
   ]
  },
  {
   "cell_type": "code",
   "execution_count": null,
   "metadata": {},
   "outputs": [],
   "source": [
    "A_flip = np.flipud(A_ex.copy())\n",
    "b_flip = np.flipud(b_ex.copy())\n",
    "print(\"A=\\n\",A_flip)\n",
    "print(\"\\nb=\\n\",b_flip)"
   ]
  },
  {
   "cell_type": "markdown",
   "metadata": {},
   "source": [
    "Let's repeat the LU factorization."
   ]
  },
  {
   "cell_type": "code",
   "execution_count": null,
   "metadata": {},
   "outputs": [],
   "source": [
    "# Perform LU decomposition\n",
    "(P, L, U) = la.lu(A_flip)\n",
    "\n",
    "# Permutation matrix\n",
    "print(\"P = \\n\",P)\n",
    "\n",
    "# Lower diagonal matrix\n",
    "print(\"L = \\n\",L)\n",
    "\n",
    "# Upper diagonal matrix\n",
    "print(\"U = \\n\",U)\n",
    "\n",
    "# Verify result\n",
    "print(\"P*L*U = \\n\",P.dot(L.dot(U)),\"\\n\")"
   ]
  },
  {
   "cell_type": "markdown",
   "metadata": {},
   "source": [
    "Is the pivot order the same?"
   ]
  },
  {
   "cell_type": "markdown",
   "metadata": {},
   "source": [
    "Now let's solve the system of equation."
   ]
  },
  {
   "cell_type": "code",
   "execution_count": null,
   "metadata": {},
   "outputs": [],
   "source": [
    "x_flip = la.solve(A_flip, b_flip)\n",
    "print_solution(x_flip)"
   ]
  },
  {
   "cell_type": "markdown",
   "metadata": {},
   "source": [
    "### Is pivoting important?"
   ]
  },
  {
   "cell_type": "markdown",
   "metadata": {},
   "source": [
    "As homework, copy our reduced row echelon function (without pivoting) from [](../03/chapter3.ipynb) into the space below.\n",
    "\n",
    "Next, use this function to solve the linear system of equations, both in its original form and with the rows flipped. (Do not consider the linear system in the next section with the overall mole balance.)"
   ]
  },
  {
   "cell_type": "code",
   "execution_count": null,
   "metadata": {},
   "outputs": [],
   "source": [
    "### BEGIN SOLUTION\n",
    "\n",
    "### END SOLUTION"
   ]
  },
  {
   "cell_type": "markdown",
   "metadata": {},
   "source": [
    "Explain what happened when you completed this excercise.\n",
    "\n",
    "Is pivoting important for this specific example?"
   ]
  },
  {
   "cell_type": "markdown",
   "metadata": {},
   "source": [
    "### Replace the 8th equation with an overall mole balance"
   ]
  },
  {
   "cell_type": "markdown",
   "metadata": {},
   "source": [
    "$$n_{p,A} + n_{p_B} = n_{f,A} + n_{f,B} = 100$$"
   ]
  },
  {
   "cell_type": "code",
   "execution_count": null,
   "metadata": {},
   "outputs": [],
   "source": [
    "A_new = A_ex.copy()\n",
    "b_new = b_ex.copy()\n",
    "\n",
    "A_new[7,:] = np.zeros(8)\n",
    "A_new[7,4] = 1\n",
    "A_new[7,5] = 1\n",
    "b_new[7] = 100\n",
    "\n",
    "print(\"A=\\n\",A_new)\n",
    "print(\"\\nb=\\n\",b_new)"
   ]
  },
  {
   "cell_type": "markdown",
   "metadata": {},
   "source": [
    "What is the rank of this system?"
   ]
  },
  {
   "cell_type": "code",
   "execution_count": null,
   "metadata": {},
   "outputs": [],
   "source": [
    "print(\"rank =\",np.linalg.matrix_rank(A_new))"
   ]
  },
  {
   "cell_type": "markdown",
   "metadata": {},
   "source": [
    "As homework, calculate a basis for the row space, column space, and null space in the cell below."
   ]
  },
  {
   "cell_type": "code",
   "execution_count": null,
   "metadata": {},
   "outputs": [],
   "source": [
    "### BEGIN SOLUTION\n",
    "\n",
    "basis_column_space = la.orth(A_new)\n",
    "print(\"basis of column space\\n\",basis_column_space)\n",
    "\n",
    "basis_row_space = la.orth(A_new.T)\n",
    "print(\"basis of row space\\n\",basis_row_space)\n",
    "\n",
    "basis_null_space = la.null_space(A_new)\n",
    "print(\"basis of row space\\n\",basis_null_space)\n",
    "\n",
    "### END SOLUTION"
   ]
  },
  {
   "cell_type": "markdown",
   "metadata": {},
   "source": [
    "Use as many statements from the invertible matrix theorem as possible to predict the number of solutions to this linear system. Write your answer here as a bulletted list:\n",
    "* Fill in...\n",
    "* Fill in..."
   ]
  },
  {
   "cell_type": "markdown",
   "metadata": {},
   "source": [
    "Finally, let's solve this sytem in Python."
   ]
  },
  {
   "cell_type": "code",
   "execution_count": null,
   "metadata": {},
   "outputs": [],
   "source": [
    "x_new = la.solve(A_new, b_new)\n",
    "print_solution(x_new)"
   ]
  },
  {
   "cell_type": "markdown",
   "metadata": {},
   "source": [
    "Write a sentence to explain this result.\n",
    "\n",
    "**Answer**:"
   ]
  },
  {
   "cell_type": "markdown",
   "metadata": {},
   "source": [
    "## Singular Value Decomposition"
   ]
  },
  {
   "cell_type": "markdown",
   "metadata": {},
   "source": [
    "Singular Value Decomposition (SVD) is an incredibly important tool in numeric analysis and engineering. SVD is at the core of image compression, singular processing, control and many other important applications. There is a chapter on SVD in your linear algebra textbook. I encourage you to read it.\n",
    "\n",
    "For our purposes, we will think of SVD as another type of matrix factorization. We can represent a $m \\times n$ matrix as\n",
    "\n",
    "$$\\mathbf{A} = \\mathbf{U} \\cdot \\mathbf{\\Sigma} \\cdot \\mathbf{V}^T$$\n",
    "\n",
    "where the columns of $\\mathbf{U}$ and $\\mathbf{V}$ are the left and right **singular vectors**:\n",
    "\n",
    "$$\\mathbf{U} = \\begin{bmatrix} \\vec{u}_1 & \\vec{u}_2 & ... & \\vec{u}_m \\end{bmatrix}$$\n",
    "\n",
    "$$\\mathbf{V} = \\begin{bmatrix} \\vec{v}_1 & \\vec{v}_2 & ... & \\vec{v}_n \\end{bmatrix}$$\n",
    "\n",
    "Moreover, $\\mathbf{\\Sigma}$ is a $m \\times n$ matrix of zeros with the singular values on the diagonal. For $m > n$, we have:\n",
    "\n",
    "$$\\mathbf{\\Sigma} =\n",
    "\\begin{bmatrix} \\sigma_1 & 0 & \\dots & 0 \\\\ \n",
    "0 & \\sigma_2 & \\dots & 0 \\\\ \n",
    "\\vdots & \\vdots & \\ddots & \\vdots \\\\\n",
    "0 & 0 & \\dots & \\sigma_n \\\\\n",
    "0 & 0 & \\dots & 0 \\\\\n",
    "\\vdots & \\vdots & \\ddots & \\vdots \\\\\n",
    "0 & 0 & \\dots & 0\n",
    "\\end{bmatrix}$$\n",
    "\n",
    "Thus, we can rewrite the SVD factorization as follows (assuming $m \\geq n$):\n",
    "\n",
    "$$\\mathbf{A} = \\sum_{i=1}^{n} \\vec{u}_i \\cdot \\sigma_i \\cdot \\vec{v}_i^T$$"
   ]
  },
  {
   "cell_type": "markdown",
   "metadata": {},
   "source": [
    "As homework, work out the dimensions $\\bf A$, $\\bf U$, $\\bf V$, and $\\bf {\\Sigma}$ for $m>n$ on paper using the above equaitons. What changes if $n < m$? Hint: Draw matrices."
   ]
  },
  {
   "cell_type": "markdown",
   "metadata": {},
   "source": [
    "Now let's look at SVD in Python:"
   ]
  },
  {
   "cell_type": "code",
   "execution_count": null,
   "metadata": {},
   "outputs": [],
   "source": [
    "Asvd = np.array([(3.0,2,1),(-1,4,5),(2,-8,10),(-2,-8,10)])\n",
    "print(\"A =\\n\",Asvd,\"\\n\")\n",
    "\n",
    "U,S,V = np.linalg.svd(Asvd)\n",
    "print(\"U =\\n\",U,\"\\n\")\n",
    "print(\"S =\\n\",S,\"\\n\")\n",
    "print(\"V =\\n\",V,\"\\n\")"
   ]
  },
  {
   "cell_type": "markdown",
   "metadata": {},
   "source": [
    "Notice that Python only returns the first $n$ elements of the diagonal $\\mathbf{\\Sigma}$. Because $m > n$, we know the remaining $m-n = 1$ elements are zero.\n",
    "\n",
    "Let's check the rank of this matrix."
   ]
  },
  {
   "cell_type": "code",
   "execution_count": null,
   "metadata": {},
   "outputs": [],
   "source": [
    "print(\"rank =\",np.linalg.matrix_rank(A))"
   ]
  },
  {
   "cell_type": "markdown",
   "metadata": {},
   "source": [
    "The matrix rank is 3 and $n=3$, thus we say this matrix is **full rank**. Notice SVD returned 3 non-zero singular values.\n",
    "\n",
    "Now let's try SVD on a rank deficient matrix."
   ]
  },
  {
   "cell_type": "code",
   "execution_count": null,
   "metadata": {},
   "outputs": [],
   "source": [
    "Asvd2 = np.array([[1, 1, 0],[1, -1, 2],[2, 0, 2]])\n",
    "print(\"A = \\n\",Asvd2,\"\\n\")\n",
    "print(\"and has rank\",np.linalg.matrix_rank(Asvd2))"
   ]
  },
  {
   "cell_type": "code",
   "execution_count": null,
   "metadata": {},
   "outputs": [],
   "source": [
    "U,S,V = np.linalg.svd(Asvd2)\n",
    "print(\"U =\\n\",U,\"\\n\")\n",
    "print(\"S =\\n\",S,\"\\n\")\n",
    "print(\"V =\\n\",V,\"\\n\")"
   ]
  },
  {
   "cell_type": "markdown",
   "metadata": {},
   "source": [
    "Notice the almost zero third singular value. This matrix is numerically rank deficient. The number of non-zero singular values is the rank of a matrix."
   ]
  },
  {
   "cell_type": "markdown",
   "metadata": {},
   "source": [
    "## Condition Number and Errors in Linear Systems"
   ]
  },
  {
   "cell_type": "markdown",
   "metadata": {},
   "source": [
    "The condition number is the ratio of the largest to smallest singular values of a matrix:\n",
    "\n",
    "$$\\kappa = \\frac{\\sigma_{\\mathrm{max}}}{\\sigma_{\\mathrm{min}}}$$\n",
    "\n",
    "In some sense, the condition number $\\kappa$ measures how close a matrix is to singular. "
   ]
  },
  {
   "cell_type": "markdown",
   "metadata": {},
   "source": [
    "The condition number also bounds the relative error in solving a linear system:\n",
    "\n",
    "$$\\frac{||\\vec{\\Delta x}||}{||\\vec{x}||} \\leq \\kappa \\frac{||\\vec{\\Delta b}||}{||\\vec{b}||}$$\n",
    "\n",
    "where $\\vec{\\Delta b}$ is a perturbation (error) in the vector $\\vec{b}$ and $\\vec{\\Delta x}$ is the corresponding or induced error in $\\vec{x}$. The operator $|| \\cdot ||$ is the $\\ell_2$ norm (i.e., length of a vector) you learned about in physics:\n",
    "\n",
    "$$|| \\vec{a} || = \\sqrt{\\sum_{i=1}^{N} a_i^2}$$\n",
    "\n",
    "where $a$ is an arbitrary $N \\times 1$ vector."
   ]
  },
  {
   "cell_type": "markdown",
   "metadata": {},
   "source": [
    "### Simple Example\n",
    "\n",
    "Let's revisit the motivating example from the beginning of class\n",
    "\n",
    "$$3 x_1 + 2 x_2 + x_3 = 6$$\n",
    "$$-x_1 + 4 x_2 + 5x_3 = 8$$\n",
    "$$2x_1 -8 x_2 + 10 x_3 = 4$$"
   ]
  },
  {
   "cell_type": "code",
   "execution_count": null,
   "metadata": {},
   "outputs": [],
   "source": [
    "# Declare matrix\n",
    "A = np.matrix([(3.0,2,1),(-1,4,5),(2,-8,10)])\n",
    "b = np.matrix([6,8,4])\n",
    "\n",
    "print(\"A = \\n\",A)\n",
    "print(\"\\nb =\",b)"
   ]
  },
  {
   "cell_type": "code",
   "execution_count": null,
   "metadata": {},
   "outputs": [],
   "source": [
    "## Calculate condition number\n",
    "kappa = np.linalg.cond(A)\n",
    "print(\"condition number =\",kappa)"
   ]
  },
  {
   "cell_type": "code",
   "execution_count": null,
   "metadata": {},
   "outputs": [],
   "source": [
    "## Calculate the norm of a vector, such as b3\n",
    "print(\"l2 norm of b =\",np.linalg.norm(b))"
   ]
  },
  {
   "cell_type": "markdown",
   "metadata": {},
   "source": [
    "Let's say in this linear system $\\bf b$ comes from an experiment measurement with $\\pm 0.1$ absolute error for each element, thus $\\bf {\\Delta b} = [0.1, 0.1, 0.1]^T$. What is the corresponding error when we solve the linear system for $\\bf x$. In other words, what is $||\\bf {\\Delta x}||$?"
   ]
  },
  {
   "cell_type": "code",
   "execution_count": null,
   "metadata": {},
   "outputs": [],
   "source": [
    "x = np.linalg.solve(A,np.transpose(b))\n",
    "delta_b = np.array([0.1, 0.1, 0.1])\n",
    "delta_b = np.transpose(delta_b)\n",
    "delta_b_norm = np.linalg.norm(delta_b)\n",
    "print(x)\n",
    "print(np.linalg.norm(x))\n",
    "print(\"Error in x (measured by || delta x ||) is less than or equal to \",kappa*delta_b_norm/np.linalg.norm(b) )"
   ]
  },
  {
   "cell_type": "markdown",
   "metadata": {},
   "source": [
    "### Mass Balance Example"
   ]
  },
  {
   "cell_type": "markdown",
   "metadata": {},
   "source": [
    "Consider the mass balance example (original version) from earlier in this notebook. What is the error in the solution of the mass balance model if ${\\bf \\Delta b} = (0.001) \\bf{b}$, i.e., the measured flows in $\\bf{b}$ have 0.1\\% error?"
   ]
  },
  {
   "cell_type": "code",
   "execution_count": null,
   "metadata": {},
   "outputs": [],
   "source": [
    "### BEGIN SOLUTION\n",
    "\n",
    "x = np.linalg.solve(A_ex,b_ex)\n",
    "delta_b = 0.001*b_ex\n",
    "delta_b_norm = np.linalg.norm(delta_b)\n",
    "kappa = np.linalg.cond(A_ex)\n",
    "print(x)\n",
    "print(np.linalg.norm(x))\n",
    "print(\"Error in x (measured by || delta x ||) is less than or equal to \",kappa*delta_b_norm/np.linalg.norm(b) )\n",
    "\n",
    "### END SOLUTION"
   ]
  },
  {
   "cell_type": "markdown",
   "metadata": {},
   "source": [
    "### Changing Units"
   ]
  },
  {
   "cell_type": "markdown",
   "metadata": {},
   "source": [
    "The condition number of the system with units mol/h is:"
   ]
  },
  {
   "cell_type": "code",
   "execution_count": null,
   "metadata": {},
   "outputs": [],
   "source": [
    "print(\"Condition number =\",np.linalg.cond(A_ex))"
   ]
  },
  {
   "cell_type": "markdown",
   "metadata": {},
   "source": [
    "What happens to the condition number if we convert the units from mol/h to mol/min?"
   ]
  },
  {
   "cell_type": "code",
   "execution_count": null,
   "metadata": {},
   "outputs": [],
   "source": [
    "print(\"Condition number =\",np.linalg.cond(A_ex/60))"
   ]
  },
  {
   "cell_type": "markdown",
   "metadata": {},
   "source": [
    "Explain why this happens by interpretting the SVD output below."
   ]
  },
  {
   "cell_type": "code",
   "execution_count": null,
   "metadata": {},
   "outputs": [],
   "source": [
    "# Original units (mol/h)\n",
    "U,S,V = np.linalg.svd(A_ex/60)\n",
    "print(\"U =\\n\",U,\"\\n\")\n",
    "print(\"S =\\n\",S,\"\\n\")\n",
    "print(\"V =\\n\",V,\"\\n\")\n",
    "print(\"condition number=\",S[0]/S[-1])"
   ]
  },
  {
   "cell_type": "code",
   "execution_count": null,
   "metadata": {},
   "outputs": [],
   "source": [
    "# Original units (mol/min)\n",
    "U,S,V = np.linalg.svd(A_ex/60)\n",
    "print(\"U =\\n\",U,\"\\n\")\n",
    "print(\"S =\\n\",S,\"\\n\")\n",
    "print(\"V =\\n\",V,\"\\n\")\n",
    "print(\"condition number=\",S[0]/S[-1])"
   ]
  },
  {
   "cell_type": "markdown",
   "metadata": {},
   "source": [
    "**Answer**:"
   ]
  },
  {
   "cell_type": "markdown",
   "metadata": {},
   "source": [
    "Finally, let's change the units for only the first equation and recalculate the SVD and condition number:"
   ]
  },
  {
   "cell_type": "code",
   "execution_count": null,
   "metadata": {},
   "outputs": [],
   "source": [
    "# Make a copy\n",
    "A_ex_units = A_ex.copy()\n",
    "\n",
    "# Convert units for row 0 (first equation) from mol/h to mol/s\n",
    "A_ex_units[0,:] = A_ex_units[0,:] / 3600\n",
    "\n",
    "U,S,V = np.linalg.svd(A_ex_units)\n",
    "print(\"U =\\n\",U,\"\\n\")\n",
    "print(\"S =\\n\",S,\"\\n\")\n",
    "print(\"V =\\n\",V,\"\\n\")\n",
    "print(\"condition number=\",S[0]/S[-1])"
   ]
  },
  {
   "cell_type": "markdown",
   "metadata": {},
   "source": [
    "What happened? Was this a good idea? Write 1 or 2 sentences.\n",
    "\n",
    "**Answer**:"
   ]
  },
  {
   "cell_type": "markdown",
   "metadata": {},
   "source": [
    "### Take Away Message\n",
    "\n",
    "Rank and condition number tell us sensitivity of solutions to a linear system:\n",
    " * Rank tells us how many linear independent equations are encoded in a matrix\n",
    " * Singular value decomposition does many things... we'll use to tell if a matrix is *near-singular*, i.e., numerically rank deficient\n",
    " * Condition number tells us how $\\bf x$, the solution to a linear system, changes with uncertainty in $\\bf {b}$"
   ]
  },
  {
   "cell_type": "markdown",
   "metadata": {},
   "source": []
  }
 ],
 "metadata": {
  "kernelspec": {
   "display_name": "jbook2",
   "language": "python",
   "name": "python3"
  },
  "language_info": {
   "codemirror_mode": {
    "name": "ipython",
    "version": 3
   },
   "file_extension": ".py",
   "mimetype": "text/x-python",
   "name": "python",
   "nbconvert_exporter": "python",
   "pygments_lexer": "ipython3",
   "version": "3.9.13"
  },
  "orig_nbformat": 4
 },
 "nbformat": 4,
 "nbformat_minor": 2
}
