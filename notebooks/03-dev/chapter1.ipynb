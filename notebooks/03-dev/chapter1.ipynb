{
 "cells": [
  {
   "cell_type": "markdown",
   "metadata": {},
   "source": [
    "# Chapter 1: Math Fundamentals\n",
    "\n",
    "**Instructions**:\n",
    "* Read Chapter 1 (Math Fundementals) in Savov (2020), take notes, compile a list of your questions\n",
    "* Complete this notebook, submit you answer via Gradescope"
   ]
  },
  {
   "cell_type": "markdown",
   "metadata": {},
   "source": [
    "## Data Visualization Best Practices\n",
    "\n",
    "Data visualization is an essential part of effective scientific communication. Bad figures can easily tank a paper or presentation.\n",
    "\n",
    "Complete the following (in MS Word or similar):\n",
    "1. Read P. Kamat, G. V. Hartland, and G. C. Schatz (2014). [Graphical Excellence](https://pubs.acs.org/doi/pdf/10.1021/jz500997e), J. Phys. Chem. Lett., 5(12), 2118–2120. Reflect on the most important thing you learned in the short article in a few sentences.\n",
    "2. Sign up for a New York Times or Wall Street Journal digital subscriptions for free via the [ND library](https://libguides.library.nd.edu/c.php?g=926248&p=6942276). These two popular news organizations routinely include high-quality data visualizations in their articles.\n",
    "3. Find one article from either the NYT or WSJ on a topic of your choice. The only requirement is that the article includes a quantitive figure. Summarize the critical takeaway message(s) from the article in a few sentences or a bulleted list. What is the central thesis or argument of the article?\n",
    "4. Paste a copy of one of the quantitative figures from the article. (A screenshot from your web browser or phone may be helpful.) How did this figure help support the takeaway message of the article? Could you guess the main thesis of the article from just the figure?\n",
    "5. Finally, in a brief paragraph, reflect on how graphical excellence for scientific publishing (see Kamat et al.) translates to effective communication in popular media, e.g., NYT or WSJ. \n",
    "6. Save your response as PDF and upload to Gradescope. Tip: Answer these questions in a MS Word or similar document. While you can answer these questions by editing the notebook, successfully uploading this notebook with an embedded image to Gradescope is challenging.\n",
    "\n",
    "## Compounding Penalties\n",
    "\n",
    "X, formerly known as Twitter, was [recently fined $350k for being three days late complying with a court order](https://arstechnica.com/tech-policy/2023/08/twitter-held-in-contempt-fined-350k-over-trump-data-delay/). The penalty was $50k for the first day, doubling every subsequent day of tardiness.\n",
    "\n",
    "Complete the following:\n",
    "1. Develop a mathematical formula to compute the penalty on the Nth day of being late. This is the penalty incurred that day only, not the cumulative penalty. (Typeset in this notebook.)\n",
    "2. Verify your formula by showing the cumulative penalty for being 3 days late is $350k. (Typeset in this notebook.)\n",
    "3. In Python, create a semi-log plot showing the daily and cumulative penalties with blue and red lines, respectively, as a function of the number of days late. The penalties should be on a logarithmic scale vertical axis. You must follow the best practices for publication-quality figures for full credit. (Calculate in this notebook.)\n",
    "4. Based on the plot, when does the cumulative penalty exceed $1M and $1B?\n",
    "Describe the shape of the curves on your graph. (Are one or both of the curves linear?) Explain these shapes using the formula you developed. (Typseset in this notebook.)\n",
    "\n",
    "\n",
    "\n",
    "\n"
   ]
  },
  {
   "cell_type": "markdown",
   "metadata": {},
   "source": []
  }
 ],
 "metadata": {
  "celltoolbar": "Create Assignment",
  "kernelspec": {
   "display_name": "Python 3 (ipykernel)",
   "language": "python",
   "name": "python3"
  },
  "language_info": {
   "codemirror_mode": {
    "name": "ipython",
    "version": 3
   },
   "file_extension": ".py",
   "mimetype": "text/x-python",
   "name": "python",
   "nbconvert_exporter": "python",
   "pygments_lexer": "ipython3",
   "version": "3.9.12"
  }
 },
 "nbformat": 4,
 "nbformat_minor": 4
}
