{
 "cells": [
  {
   "cell_type": "markdown",
   "metadata": {},
   "source": [
    "# Chapter 4: Geometric Aspects of Linear Algebra"
   ]
  },
  {
   "cell_type": "markdown",
   "metadata": {},
   "source": [
    "**Before Class**:\n",
    "* Read Chapter 4 in Savov (2020) and take notes\n",
    "* Watch the following videos and take notes:\n",
    "  * [Nonsquare matrices as transformations between dimensions](https://www.3blue1brown.com/lessons/nonsquare-matrices)\n",
    "  * [Dot products and duality](https://www.3blue1brown.com/lessons/dot-products)\n",
    "  * [Cross products](https://www.3blue1brown.com/lessons/cross-products)\n",
    "* Compile a list of questions to bring to class\n",
    "\n",
    "**During and After Class**:\n",
    "* Take notes (on paper or a tablet computer)\n",
    "* Complete this notebook, submit you answer via Gradescope"
   ]
  },
  {
   "cell_type": "code",
   "execution_count": null,
   "metadata": {},
   "outputs": [],
   "source": [
    "%matplotlib ipympl\n",
    "import numpy as np\n",
    "import matplotlib.pyplot as plt"
   ]
  },
  {
   "cell_type": "markdown",
   "metadata": {},
   "source": [
    "## Visualize Linear System in 3D"
   ]
  },
  {
   "cell_type": "markdown",
   "metadata": {},
   "source": [
    "The code below visualizes the rows on a N x 3 matrix in three dimensions."
   ]
  },
  {
   "cell_type": "code",
   "execution_count": null,
   "metadata": {},
   "outputs": [],
   "source": [
    "from mpl_toolkits.mplot3d import Axes3D\n",
    "\n",
    "def visualize_linear_system(A, b, xlim=(-2,2), ylim=(-2,2)):\n",
    "    \"\"\" Visualize rows of linear system as planes in 3D\n",
    "    \n",
    "    Arguments:\n",
    "        A: N x 3 matrix\n",
    "        B: N x 1 vector\n",
    "        xlim: tuple of bounds for x dimension\n",
    "        ylim: tuple of bounds for y dimension\n",
    "    \"\"\"\n",
    "\n",
    "    assert A.shape[1] == 3, \"Matrix A must have 3 columns\"\n",
    "    assert A.shape[0] == len(b), \"Matrix A and vector b must have the same number of rows\"\n",
    "    \n",
    "    N = len(b)\n",
    "\n",
    "    for i in range(N):\n",
    "        assert np.abs(A[i,2]) > 1E-8, \"This function does not support zeros in A[:,2]\"\n",
    "\n",
    "    # Create empty plot\n",
    "    fig = plt.figure()\n",
    "    ax = Axes3D(fig, auto_add_to_figure=False)\n",
    "    fig.add_axes(ax)\n",
    "\n",
    "    # Create a grid of points for plotting\n",
    "    X, Y = np.meshgrid(np.linspace(xlim[0],xlim[1],5), np.linspace(ylim[0],ylim[1],5))\n",
    "\n",
    "    # Loop over equations\n",
    "    for i in range(N):\n",
    "\n",
    "        # Define function to calculate z\n",
    "        func_z = lambda x,y : (b[i] - A[i,0]*x - A[i,1]*y)/A[i,2]\n",
    "        \n",
    "        # Calculate values of z over meshgrid\n",
    "        Z = func_z(X, Y)\n",
    "\n",
    "\n",
    "        s = \"{0:.2f}x + {1:.2f}y + {2:.2f}z = {3:.2f}\".format(A[i,0], A[i,1], A[i,2], b[i])\n",
    "        surf = ax.plot_surface(X, Y, Z, alpha=0.5, label=s)\n",
    "\n",
    "        # Needed for a legend\n",
    "        # https://stackoverflow.com/questions/27449109/adding-legend-to-a-surface-plot\n",
    "        surf._edgecolors2d = surf._edgecolor3d\n",
    "        surf._facecolors2d = surf._facecolor3d\n",
    "\n",
    "    # If the linear system is square and full rank\n",
    "    if A.shape[0] == 3 and np.linalg.matrix_rank(A) == 3:\n",
    "        x = np.linalg.solve(A,b)\n",
    "        ax.scatter(x[0], x[1], x[2], marker='x', label=\"solution\", color=\"k\")\n",
    "\n",
    "\n",
    "    ax.set_xlabel('x',fontsize=18)\n",
    "    ax.set_ylabel('y',fontsize=18)\n",
    "    ax.set_zlabel('z',fontsize=18)\n",
    "    plt.legend()\n",
    "    plt.show()"
   ]
  },
  {
   "cell_type": "markdown",
   "metadata": {},
   "source": [
    "Let's visualize the equations in the rows of the linear system:\n",
    "\n",
    "$$\n",
    "\\begin{bmatrix} 1 & 1 & 1 \\\\ 2 & -1 & 1 \\end{bmatrix} {\\bf x} = \\begin{bmatrix} 0 \\\\ 2 \\end{bmatrix}\n",
    "$$"
   ]
  },
  {
   "cell_type": "code",
   "execution_count": null,
   "metadata": {},
   "outputs": [],
   "source": [
    "A = np.array([[1,1,1],[2,-1,1]])\n",
    "b = np.array([0, 2])\n",
    "\n",
    "visualize_linear_system(A, b)"
   ]
  },
  {
   "cell_type": "markdown",
   "metadata": {},
   "source": [
    "Geometrically describe the solution of this linear system in a few words.\n",
    "\n",
    "**Your Answer**:"
   ]
  },
  {
   "cell_type": "markdown",
   "metadata": {},
   "source": [
    "Let's visualize the equations in the rows of the linear system:\n",
    "\n",
    "$$\n",
    "\\begin{bmatrix} 1 & 2 & 1 \\\\ -1 & 0 & -1 \\\\ 0 & 3 & 1 \\end{bmatrix} {\\bf x} = \\begin{bmatrix} 0 \\\\ 2 \\\\ -1 \\end{bmatrix}\n",
    "$$"
   ]
  },
  {
   "cell_type": "code",
   "execution_count": null,
   "metadata": {},
   "outputs": [],
   "source": [
    "### BEGIN SOLUTION\n",
    "A = np.array([[1, 2, 1],[-1,0,1], [0, 3, 1]])\n",
    "b = np.array([0, 2, -1])\n",
    "\n",
    "visualize_linear_system(A, b)\n",
    "### END SOLUTION"
   ]
  },
  {
   "cell_type": "markdown",
   "metadata": {},
   "source": []
  }
 ],
 "metadata": {
  "kernelspec": {
   "display_name": "jbook2",
   "language": "python",
   "name": "python3"
  },
  "language_info": {
   "codemirror_mode": {
    "name": "ipython",
    "version": 3
   },
   "file_extension": ".py",
   "mimetype": "text/x-python",
   "name": "python",
   "nbconvert_exporter": "python",
   "pygments_lexer": "ipython3",
   "version": "3.9.13"
  },
  "orig_nbformat": 4
 },
 "nbformat": 4,
 "nbformat_minor": 2
}
