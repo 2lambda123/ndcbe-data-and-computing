{
 "cells": [
  {
   "cell_type": "markdown",
   "metadata": {
    "colab_type": "text",
    "id": "qcE-uuSfaWs0"
   },
   "source": [
    "# Linear Regression Practice Problems\n",
    "\n",
    "CBE 20258. Numerical and Statistical Analysis. Spring 2020.\n",
    "\n",
    "&#169; University of Notre Dame"
   ]
  },
  {
   "cell_type": "code",
   "execution_count": 1,
   "metadata": {
    "colab": {},
    "colab_type": "code",
    "id": "t8omIiX7aWs1",
    "tags": []
   },
   "outputs": [],
   "source": [
    "# load libraries\n",
    "import scipy.stats as stats\n",
    "import numpy as np\n",
    "import math\n",
    "import matplotlib.pyplot as plt"
   ]
  },
  {
   "cell_type": "markdown",
   "metadata": {
    "colab_type": "text",
    "id": "9HPF1azhtHFl"
   },
   "source": [
    "## Learning Objectives\n",
    "\n",
    "After studying this notebook and your lecture notes, you should be able to:\n",
    "* Interpret correlation coefficient\n",
    "* Compute simple linear regression best fits\n",
    "* Check linear regression error assumptions using residual analysis (plots)\n",
    "* Compute residual standard error and covariance matrix for fitted parameters\n",
    "* Assemble confidence intervals for fitted parameters"
   ]
  },
  {
   "cell_type": "markdown",
   "metadata": {},
   "source": [
    "## Supplemental Exercise 7.5 (Navidi 2015)\n",
    "\n",
    "A chemist is calibrating a spectrophotometer that will be used to measure the concentration of carbon monoxide (CO) in atmospheric samples. To check the calibration, samples of known concentration are measured. The true concentrations (x) and the measured concentrations (y) are given in the variables below. Because of random error, repeated measurements on the same sample will vary. The machine is considered to be in calibration if its mean response is equal to the true concentration. "
   ]
  },
  {
   "cell_type": "code",
   "execution_count": 2,
   "metadata": {},
   "outputs": [
    {
     "name": "stdout",
     "output_type": "stream",
     "text": [
      "The true concentrations:\n",
      " [  0  10  20  30  40  50  60  70  80  90 100]\n",
      "The measured concentrations:\n",
      " [ 1 11 21 28 37 48 56 68 75 86 96]\n"
     ]
    }
   ],
   "source": [
    "x = np.array([0, 10, 20, 30, 40, 50, 60, 70, 80, 90, 100]) ## True concentrations (ppm)\n",
    "y = np.array([1, 11, 21, 28, 37, 48, 56, 68, 75, 86, 96])  ## Measured concentrations (ppm)\n",
    "\n",
    "print (\"The true concentrations:\\n\", x)\n",
    "print (\"The measured concentrations:\\n\", y)"
   ]
  },
  {
   "cell_type": "markdown",
   "metadata": {},
   "source": [
    "To check the calibration, the linear model $y = \\beta_0 + \\beta_1 x + \\epsilon$ is fit. Ideally, the value of $\\beta_0$ should be 0 and the value of $\\beta_1$ should be 1. "
   ]
  },
  {
   "cell_type": "markdown",
   "metadata": {},
   "source": [
    "a. Compute the least-squares estimates ${\\hat{\\beta_{0}}}$ and ${\\hat{\\beta_{1}}}$."
   ]
  },
  {
   "cell_type": "code",
   "execution_count": 3,
   "metadata": {},
   "outputs": [
    {
     "name": "stdout",
     "output_type": "stream",
     "text": [
      "analytical beta_hat 0.8181818181818201 0.9418181818181818\n",
      "matrix beta_hat = [0.81818182 0.94181818]\n"
     ]
    }
   ],
   "source": [
    "# Add your solution here"
   ]
  },
  {
   "cell_type": "markdown",
   "metadata": {},
   "source": [
    "b. Can you reject the null hypothesis $H_0$ : $\\beta_0$ = 0?"
   ]
  },
  {
   "cell_type": "code",
   "execution_count": 4,
   "metadata": {},
   "outputs": [
    {
     "name": "stdout",
     "output_type": "stream",
     "text": [
      "0.23469843169056898\n",
      "[[ 4.12672176e-01 -5.89531680e-03]\n",
      " [-5.89531680e-03  1.17906336e-04]]\n"
     ]
    }
   ],
   "source": [
    "# Add your solution here"
   ]
  },
  {
   "cell_type": "markdown",
   "metadata": {},
   "source": [
    "c. Can you reject the null hypothesis $H_0$ : $\\beta_1$ = 1?"
   ]
  },
  {
   "cell_type": "code",
   "execution_count": 5,
   "metadata": {},
   "outputs": [
    {
     "name": "stdout",
     "output_type": "stream",
     "text": [
      "0.00045739577879748416\n"
     ]
    }
   ],
   "source": [
    "# Add your solution here"
   ]
  },
  {
   "cell_type": "markdown",
   "metadata": {},
   "source": [
    "d. Do the data provide sufficient evidence to conclude that the machine is out of calibration?"
   ]
  },
  {
   "cell_type": "code",
   "execution_count": 6,
   "metadata": {},
   "outputs": [
    {
     "name": "stdout",
     "output_type": "stream",
     "text": [
      "Yes, since we know beta_1 is clearly not equal to 1.\n"
     ]
    }
   ],
   "source": [
    "# Add your solution here"
   ]
  },
  {
   "cell_type": "markdown",
   "metadata": {},
   "source": [
    "e. Compute a 95% interval for the mean measurement $\\hat{y}$ when the true concentration is 20 ppm."
   ]
  },
  {
   "cell_type": "code",
   "execution_count": 7,
   "metadata": {},
   "outputs": [
    {
     "name": "stdout",
     "output_type": "stream",
     "text": [
      "0.47330966456168216\n",
      "The 95% confidence interval for 20 ppm is  [18.58384461 20.7252463 ]\n"
     ]
    }
   ],
   "source": [
    "# Add your solution here"
   ]
  },
  {
   "cell_type": "markdown",
   "metadata": {},
   "source": [
    "f. Compute a 95% interval for the mean measurement when the true concentration is 80 ppm."
   ]
  },
  {
   "cell_type": "code",
   "execution_count": 8,
   "metadata": {},
   "outputs": [
    {
     "name": "stdout",
     "output_type": "stream",
     "text": [
      "The 95% confidence interval for 20 ppm is  [75.09293552 77.23433721]\n"
     ]
    }
   ],
   "source": [
    "# Add your solution here"
   ]
  },
  {
   "cell_type": "markdown",
   "metadata": {},
   "source": [
    "g. Someone claims that the machine is in calibration for concentrations near 20 ppm. Do these data provide sufficient evidence for you to conclude that this claim is false? Explain."
   ]
  },
  {
   "cell_type": "code",
   "execution_count": 12,
   "metadata": {},
   "outputs": [
    {
     "name": "stdout",
     "output_type": "stream",
     "text": [
      "No. Part e shows that when x = 20, the confidence interval includes it.\n"
     ]
    }
   ],
   "source": [
    "# Add your solution here"
   ]
  },
  {
   "cell_type": "markdown",
   "metadata": {},
   "source": [
    "## Supplemental Exercise 7.8 (Navidi 2015)\n",
    "\n",
    "Rate of lipase production, y (in $\\mu$mol per mL enzyme per minute) and x, the cell mass (in g/L) were measured and results are bellow:"
   ]
  },
  {
   "cell_type": "code",
   "execution_count": 13,
   "metadata": {},
   "outputs": [
    {
     "name": "stdout",
     "output_type": "stream",
     "text": [
      "The cell mass:\n",
      " [4.5  4.68 5.4  5.45 4.2  4.12 4.   4.41 3.98 4.72 3.41 4.8  3.6  4.95\n",
      " 3.25 4.4  3.65 4.23 4.1  5.03 4.19 4.4  3.92 3.5  4.15 4.3  4.9  5.23\n",
      " 5.4  4.85 5.1  4.94]\n",
      "Lipase production:\n",
      " [2.06 2.1  3.15 4.1  2.2  3.2  2.85 4.5  2.1  2.75 2.8  4.6  2.5  4.1\n",
      " 2.15 4.4  2.2  2.3  2.4  4.75 3.15 3.9  3.2  2.1  3.75 3.15 5.1  5.04\n",
      " 4.96 5.   4.92 4.98]\n"
     ]
    }
   ],
   "source": [
    "x = np.array([4.5, 4.68, 5.4, 5.45, 4.2, 4.12, 4, 4.41, 3.98, 4.72, 3.41, 4.8, 3.6, 4.95, 3.25, 4.4, 3.65, 4.23, 4.1, 5.03, \n",
    "              4.19, 4.4, 3.92, 3.5, 4.15, 4.3, 4.9, 5.23, 5.4, 4.85, 5.1, 4.94]) ##The cell mass in g/L\n",
    "y = np.array([2.06, 2.1, 3.15, 4.1, 2.2, 3.2, 2.85, 4.5, 2.1, 2.75, 2.8, 4.6, 2.5, 4.1, 2.15, 4.4, 2.2, 2.3, 2.4, 4.75, 3.15,\n",
    "              3.9, 3.2, 2.1, 3.75, 3.15, 5.1, 5.04, 4.96, 5, 4.92, 4.98]) ##Lipase production in micromol per mL enzyme per minute\n",
    "\n",
    "\n",
    "print (\"The cell mass:\\n\", x)\n",
    "print (\"Lipase production:\\n\", y)\n"
   ]
  },
  {
   "cell_type": "markdown",
   "metadata": {},
   "source": [
    "a. Compute the least-squares line for predicting lipase production from cell mass.\n",
    "\n",
    "b. Compute 95% confidence intervals for $\\beta_0$ and $\\beta_1$.\n",
    "\n",
    "c. In two experiments, the cell masses differed by 1.5 g/L. By how much do you estimate that their lipase production will differ?\n",
    "\n",
    "d. Find a 95% confidence interval for the mean lipase production when the cell mass is 5.0 g/L.\n",
    "\n",
    "e. Can you conclude that the mean lipase production when the cell mass is 5.0 g/L is less than 4.4? Explain. "
   ]
  },
  {
   "cell_type": "code",
   "execution_count": 14,
   "metadata": {},
   "outputs": [
    {
     "name": "stdout",
     "output_type": "stream",
     "text": [
      "matrix beta_hat = [-2.17086563  1.26924168]\n",
      "The intervals for beta0 and beta1 are:  [-4.36872445  0.02699319] [0.77750867 1.76097468]\n",
      "The change is:  1.903862516396653\n",
      "The intervals for lypase production:  [3.77059915 4.58008637]\n",
      "The P-value is:  0.13297328711115267 Therefore, we cannot conclude it.\n"
     ]
    }
   ],
   "source": [
    "# Add your solution here"
   ]
  },
  {
   "cell_type": "code",
   "execution_count": null,
   "metadata": {},
   "outputs": [],
   "source": []
  }
 ],
 "metadata": {
  "colab": {
   "collapsed_sections": [],
   "name": "L20-Linear-Regression.ipynb",
   "provenance": [],
   "version": "0.3.2"
  },
  "kernelspec": {
   "display_name": "Python 3 (ipykernel)",
   "language": "python",
   "name": "python3"
  },
  "language_info": {
   "codemirror_mode": {
    "name": "ipython",
    "version": 3
   },
   "file_extension": ".py",
   "mimetype": "text/x-python",
   "name": "python",
   "nbconvert_exporter": "python",
   "pygments_lexer": "ipython3",
   "version": "3.9.12"
  }
 },
 "nbformat": 4,
 "nbformat_minor": 4
}
