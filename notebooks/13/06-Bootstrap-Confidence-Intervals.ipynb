{
 "cells": [
  {
   "cell_type": "markdown",
   "metadata": {
    "colab_type": "text",
    "id": "IMLjUMiK0Ep9"
   },
   "source": [
    "# Bootstrap Confidence Intervals\n",
    "\n",
    "CBE 20258. Numerical and Statistical Analysis. Spring 2020.\n",
    "\n",
    "&#169; University of Notre Dame"
   ]
  },
  {
   "cell_type": "code",
   "execution_count": 1,
   "metadata": {
    "colab": {},
    "colab_type": "code",
    "id": "U9BEnj3u0Ep-",
    "tags": []
   },
   "outputs": [],
   "source": [
    "# load libraries\n",
    "import scipy.stats as stats\n",
    "import numpy as np\n",
    "import scipy.optimize as optimize\n",
    "import math\n",
    "import matplotlib.pyplot as plt"
   ]
  },
  {
   "cell_type": "markdown",
   "metadata": {
    "colab_type": "text",
    "id": "XSlhwwTU0ErI"
   },
   "source": [
    "## Bootstrap Confidence Intervals"
   ]
  },
  {
   "cell_type": "markdown",
   "metadata": {},
   "source": [
    "**Futher Reading**: §5.10 and §6.15 in Navidi (2015)"
   ]
  },
  {
   "cell_type": "markdown",
   "metadata": {
    "colab_type": "text",
    "id": "M2Sh8Ghq0ErI"
   },
   "source": [
    "### Motivating Example: Catalyst Lifetime "
   ]
  },
  {
   "cell_type": "code",
   "execution_count": 2,
   "metadata": {
    "colab": {
     "base_uri": "https://localhost:8080/",
     "height": 85
    },
    "colab_type": "code",
    "executionInfo": {
     "elapsed": 237,
     "status": "ok",
     "timestamp": 1555425187259,
     "user": {
      "displayName": "Alexander Dowling",
      "photoUrl": "https://lh3.googleusercontent.com/-LChdQ2m5OQE/AAAAAAAAAAI/AAAAAAAAAA0/JeXJe4vQJ7M/s64/photo.jpg",
      "userId": "00988067626794866502"
     },
     "user_tz": 240
    },
    "id": "GM8rLEiu0ErJ",
    "outputId": "e2452f24-5853-454f-fa3f-94f1a83583c7"
   },
   "outputs": [
    {
     "name": "stdout",
     "output_type": "stream",
     "text": [
      "Lifetime Average: 6.06  hours\n",
      "Lifetime Standard Deviation: 2.72 hours\n",
      "\n",
      "z-star for two-sided 95% interval: (-1.959963984540054, 1.959963984540054)\n"
     ]
    }
   ],
   "source": [
    "# declare data in a list\n",
    "lifetime = [3.2, 6.8, 4.2, 9.2, 11.2, 3.7, 2.9, 12.6, 6.4, 7.5, 8.6,\n",
    "            4.5, 3.0, 9.6, 1.5, 4.5, 6.3, 7.2, 8.5, 4.2, 6.3, 3.2, 5.0, 4.9, 6.6]\n",
    "\n",
    "# number of observations\n",
    "n = len(lifetime)\n",
    "\n",
    "# calculate sample mean and standard deviation\n",
    "xbar = np.mean(lifetime)\n",
    "s = np.std(lifetime)\n",
    "\n",
    "# two ways to round\n",
    "print(\"Lifetime Average:\",round(xbar,2),\" hours\")\n",
    "print(\"Lifetime Standard Deviation: {:.2f} hours\".format(s))\n",
    "\n",
    "# calculate zstar\n",
    "zstar95 = stats.norm.interval(0.95)\n",
    "print(\"\\nz-star for two-sided 95% interval:\",zstar95)"
   ]
  },
  {
   "cell_type": "markdown",
   "metadata": {
    "colab_type": "text",
    "id": "_pg_EXQT0ErL"
   },
   "source": [
    "### Traditional Confidence Intervals\n",
    "\n",
    "#### z-interval\n",
    "\n",
    "$$\n",
    "\\bar{x} \\pm z^* \\frac{s}{\\sqrt{n}}\n",
    "$$\n",
    "\n",
    "where the sample standard deviation $s$ is used to approximate the population standard deviation $\\sigma$."
   ]
  },
  {
   "cell_type": "code",
   "execution_count": 3,
   "metadata": {
    "colab": {
     "base_uri": "https://localhost:8080/",
     "height": 68
    },
    "colab_type": "code",
    "executionInfo": {
     "elapsed": 219,
     "status": "ok",
     "timestamp": 1555425190902,
     "user": {
      "displayName": "Alexander Dowling",
      "photoUrl": "https://lh3.googleusercontent.com/-LChdQ2m5OQE/AAAAAAAAAAI/AAAAAAAAAA0/JeXJe4vQJ7M/s64/photo.jpg",
      "userId": "00988067626794866502"
     },
     "user_tz": 240
    },
    "id": "4xd0G5KK0ErL",
    "outputId": "fffd931c-b7a9-44ea-e260-f94cb5ff0690"
   },
   "outputs": [
    {
     "name": "stdout",
     "output_type": "stream",
     "text": [
      "\n",
      "z-star for two-sided 95% interval: [-1.95996398  1.95996398]\n",
      "95% z confidence interval:  [4.99836313 7.12963687]  hours\n"
     ]
    }
   ],
   "source": [
    "# z-interval\n",
    "# calculate zstar\n",
    "zstar95 = np.array(stats.norm.interval(0.95))\n",
    "print(\"\\nz-star for two-sided 95% interval:\",zstar95)\n",
    "\n",
    "# calculate confidence interval\n",
    "print(\"95% z confidence interval: \",xbar + (s/np.sqrt(n))*zstar95,\" hours\")"
   ]
  },
  {
   "cell_type": "markdown",
   "metadata": {
    "colab_type": "text",
    "id": "1e5VqD300ErP"
   },
   "source": [
    "#### t-interval\n",
    "\n",
    "$$\n",
    "\\bar{x} \\pm t^* \\frac{s}{\\sqrt{n}}\n",
    "$$"
   ]
  },
  {
   "cell_type": "code",
   "execution_count": 4,
   "metadata": {
    "colab": {
     "base_uri": "https://localhost:8080/",
     "height": 68
    },
    "colab_type": "code",
    "executionInfo": {
     "elapsed": 344,
     "status": "ok",
     "timestamp": 1555425193259,
     "user": {
      "displayName": "Alexander Dowling",
      "photoUrl": "https://lh3.googleusercontent.com/-LChdQ2m5OQE/AAAAAAAAAAI/AAAAAAAAAA0/JeXJe4vQJ7M/s64/photo.jpg",
      "userId": "00988067626794866502"
     },
     "user_tz": 240
    },
    "id": "vplVYqzX0ErP",
    "outputId": "0728ac10-b46a-4b9b-b876-957fd9b5ade8"
   },
   "outputs": [
    {
     "name": "stdout",
     "output_type": "stream",
     "text": [
      "\n",
      "t-star for two-sided 95% interval: [-2.06389856  2.06389856]\n",
      "95% t confidence interval:  [4.94185366 7.18614634]  hours\n"
     ]
    }
   ],
   "source": [
    "# t-interval\n",
    "# calculate tstar\n",
    "tstar95 = np.array(stats.t.interval(0.95,n-1))\n",
    "print(\"\\nt-star for two-sided 95% interval:\",tstar95)\n",
    "\n",
    "# calculate confidence interval\n",
    "print(\"95% t confidence interval: \",xbar + (s/np.sqrt(n))*tstar95,\" hours\")"
   ]
  },
  {
   "cell_type": "markdown",
   "metadata": {
    "colab_type": "text",
    "id": "pCIUWgMf0ErS"
   },
   "source": [
    "### Basic Bootstrap with Replacement\n",
    "\n",
    "**Main Idea**\n",
    "1. Specify sample size $n$ and number of times to simulate $m$\n",
    "2. For each of $m$ simulations:\n",
    " * Choose $n$ items, with replacement, from the sample\n",
    " * Calculate the mean (or another statistic)\n",
    "3. Create a histogram\n",
    "4. Compute percentiles and construct confidence interval"
   ]
  },
  {
   "cell_type": "code",
   "execution_count": 5,
   "metadata": {
    "colab": {
     "base_uri": "https://localhost:8080/",
     "height": 283
    },
    "colab_type": "code",
    "executionInfo": {
     "elapsed": 718,
     "status": "ok",
     "timestamp": 1555425496576,
     "user": {
      "displayName": "Alexander Dowling",
      "photoUrl": "https://lh3.googleusercontent.com/-LChdQ2m5OQE/AAAAAAAAAAI/AAAAAAAAAA0/JeXJe4vQJ7M/s64/photo.jpg",
      "userId": "00988067626794866502"
     },
     "user_tz": 240
    },
    "id": "jHE45UB30ErT",
    "outputId": "4b1b36ab-a099-4709-db70-35264470a4b0"
   },
   "outputs": [
    {
     "data": {
      "image/png": "[encoded data removed]",
      "text/plain": [
       "<Figure size 432x288 with 1 Axes>"
      ]
     },
     "metadata": {
      "needs_background": "light"
     },
     "output_type": "display_data"
    }
   ],
   "source": [
    "n_samp = len(lifetime)\n",
    "m_sim = 1000\n",
    "\n",
    "xbar_boot = np.zeros(m_sim)\n",
    "\n",
    "for i in range(m_sim):\n",
    "    \n",
    "    # sample with replacement\n",
    "    sample = np.random.choice(lifetime, size=n_samp, replace=True)\n",
    "    \n",
    "    # calculate bootstrap sample mean\n",
    "    xbar_boot[i] = np.mean(sample)\n",
    "    \n",
    "# plot histogram\n",
    "plt.hist(xbar_boot)\n",
    "plt.xlabel(\"Mean Catalyst Lifetime [hours]\")\n",
    "plt.ylabel(\"Number of Simulations\")\n",
    "plt.show()"
   ]
  },
  {
   "cell_type": "markdown",
   "metadata": {
    "colab_type": "text",
    "id": "q3cDov_c0ErV"
   },
   "source": [
    "We can also create an empirical cumulative distribution of the bootstrap sample mean."
   ]
  },
  {
   "cell_type": "code",
   "execution_count": 6,
   "metadata": {
    "colab": {
     "base_uri": "https://localhost:8080/",
     "height": 283
    },
    "colab_type": "code",
    "executionInfo": {
     "elapsed": 964,
     "status": "ok",
     "timestamp": 1555425526116,
     "user": {
      "displayName": "Alexander Dowling",
      "photoUrl": "https://lh3.googleusercontent.com/-LChdQ2m5OQE/AAAAAAAAAAI/AAAAAAAAAA0/JeXJe4vQJ7M/s64/photo.jpg",
      "userId": "00988067626794866502"
     },
     "user_tz": 240
    },
    "id": "Oofwi92H0ErV",
    "outputId": "77c38317-5bf9-4958-8b64-c3c2f29484c6"
   },
   "outputs": [
    {
     "data": {
      "image/png": "[encoded data removed]",
      "text/plain": [
       "<Figure size 432x288 with 1 Axes>"
      ]
     },
     "metadata": {
      "needs_background": "light"
     },
     "output_type": "display_data"
    }
   ],
   "source": [
    "plt.plot(np.sort(xbar_boot),np.linspace(1/m_sim,1.0,m_sim))\n",
    "plt.xlabel(\"Mean Catalyst Lifetime [hours]\")\n",
    "plt.ylabel(\"Cumulative Frequency [fraction]\")\n",
    "plt.show()"
   ]
  },
  {
   "cell_type": "markdown",
   "metadata": {
    "colab_type": "text",
    "id": "ZABEGw8b0ErX"
   },
   "source": [
    "To calculate a two-sided 95% confidence interval, we just need to look up the 2.5% and 97.5% of the boot sample means:"
   ]
  },
  {
   "cell_type": "code",
   "execution_count": 7,
   "metadata": {
    "colab": {
     "base_uri": "https://localhost:8080/",
     "height": 34
    },
    "colab_type": "code",
    "executionInfo": {
     "elapsed": 220,
     "status": "ok",
     "timestamp": 1555425596489,
     "user": {
      "displayName": "Alexander Dowling",
      "photoUrl": "https://lh3.googleusercontent.com/-LChdQ2m5OQE/AAAAAAAAAAI/AAAAAAAAAA0/JeXJe4vQJ7M/s64/photo.jpg",
      "userId": "00988067626794866502"
     },
     "user_tz": 240
    },
    "id": "V3NNB4DO0ErY",
    "outputId": "2094fe02-d67a-485a-9a41-222d90bf6966"
   },
   "outputs": [
    {
     "name": "stdout",
     "output_type": "stream",
     "text": [
      "95% bootstrap confidence interval: [ 5.039899999999999 ,  7.192299999999999 ] hours\n"
     ]
    }
   ],
   "source": [
    "ci_low = np.percentile(xbar_boot,2.5)\n",
    "ci_high = np.percentile(xbar_boot,97.5)\n",
    "\n",
    "# calculate confidence interval\n",
    "print(\"95% bootstrap confidence interval: [\",ci_low,\", \",ci_high,\"] hours\")"
   ]
  }
 ],
 "metadata": {
  "colab": {
   "name": "L22-Bootstrap-and-Monte-Carlo.ipynb",
   "provenance": [],
   "version": "0.3.2"
  },
  "kernelspec": {
   "display_name": "Python 3 (ipykernel)",
   "language": "python",
   "name": "python3"
  },
  "language_info": {
   "codemirror_mode": {
    "name": "ipython",
    "version": 3
   },
   "file_extension": ".py",
   "mimetype": "text/x-python",
   "name": "python",
   "nbconvert_exporter": "python",
   "pygments_lexer": "ipython3",
   "version": "3.9.12"
  }
 },
 "nbformat": 4,
 "nbformat_minor": 4
}
