{
 "cells": [
  {
   "cell_type": "markdown",
   "metadata": {
    "colab_type": "text",
    "id": "iJtEhdtInc2W"
   },
   "source": [
    "# Class 24: Weighted and Multivariate Linear Regression\n",
    "\n",
    "CBE 20258. Numerical and Statistical Analysis. Spring 2020.\n",
    "\n",
    "&#169; University of Notre Dame"
   ]
  },
  {
   "cell_type": "code",
   "execution_count": 1,
   "metadata": {
    "colab": {},
    "colab_type": "code",
    "collapsed": true,
    "id": "NrkTnC44nc2Z",
    "jupyter": {
     "outputs_hidden": true
    }
   },
   "outputs": [],
   "source": [
    "# load libraries\n",
    "import scipy.stats as stats\n",
    "import numpy as np\n",
    "import scipy.optimize as optimize\n",
    "import math\n",
    "import matplotlib.pyplot as plt"
   ]
  },
  {
   "cell_type": "markdown",
   "metadata": {
    "colab_type": "text",
    "id": "2QOWL0Hmnc2g"
   },
   "source": [
    "## Class 24 Learning Objectives\n",
    "\n",
    "After studying this notebook and your lecture notes, you should be able to:\n",
    "* Fit multivariate models (including polynomials) using linear regression\n",
    "* Using the 538 blog post as an example, explain why claiming a trend line is \"statistically significant\" can be misleading or not informative\n",
    "* Apply weighted linear regression to correct for distortions with transformations"
   ]
  },
  {
   "cell_type": "markdown",
   "metadata": {
    "colab_type": "text",
    "id": "-zKA3XJZnc2i"
   },
   "source": [
    "## 24a. Multivariate Regression"
   ]
  },
  {
   "cell_type": "markdown",
   "metadata": {
    "colab_type": "text",
    "id": "MLYZGxL8nc2j"
   },
   "source": [
    "### Motivating Example: Predict Bluegills Age\n",
    "\n",
    "Data source: https://newonlinecourses.science.psu.edu/stat501/node/325/"
   ]
  },
  {
   "cell_type": "code",
   "execution_count": 2,
   "metadata": {
    "colab": {
     "base_uri": "https://localhost:8080/",
     "height": 283
    },
    "colab_type": "code",
    "executionInfo": {
     "elapsed": 1133,
     "status": "ok",
     "timestamp": 1555596595074,
     "user": {
      "displayName": "Alexander Dowling",
      "photoUrl": "https://lh3.googleusercontent.com/-LChdQ2m5OQE/AAAAAAAAAAI/AAAAAAAAAA0/JeXJe4vQJ7M/s64/photo.jpg",
      "userId": "00988067626794866502"
     },
     "user_tz": 240
    },
    "id": "BDPUi2STnc2j",
    "outputId": "c9486883-8a8a-4426-e67d-a4f859c6343e"
   },
   "outputs": [
    {
     "data": {
      "image/png": "[encoded data removed]",
      "text/plain": [
       "<Figure size 432x288 with 1 Axes>"
      ]
     },
     "metadata": {},
     "output_type": "display_data"
    }
   ],
   "source": [
    "# age of fish in years\n",
    "age = np.array([1,1,2,2,2,2,3,3,3,3,3,3,3,3,3,2,3,4,4,4,4,4,4,4,4,4,4,4,4,4,4,4,\n",
    "                4,4,4,4,4,5,4,4,4,5,2,2,4,3,4,3,4,4,4,4,3,3,3,4,4,3,4,5,4,5,4,4,\n",
    "                3,5,5,4,5,3,4,3,4,6,4,5,4,4])\n",
    "\n",
    "# length of fish in mm\n",
    "length = np.array([67,62,109,83,91,88,137,131,122,122,118,115,131,143,142,123,122,\n",
    "                   138,135,146,146,145,145,144,140,150,152,157,155,153,154,158,162,\n",
    "                   161,162,165,171,171,162,169,167,188,100,109,150,140,170,150,140,\n",
    "                   140,150,150,140,150,150,150,160,140,150,170,150,150,150,150,150,\n",
    "                   150,160,140,160,130,160,130,170,170,160,180,160,170])\n",
    "\n",
    "plt.plot(age,length,'b.')\n",
    "plt.xlabel(\"Age [years]\")\n",
    "plt.ylabel(\"Length [mm]\")\n",
    "plt.show()"
   ]
  },
  {
   "cell_type": "markdown",
   "metadata": {
    "colab_type": "text",
    "id": "hLmOhrDGnc2t"
   },
   "source": [
    "Can we use the age of the fish to predict its length?"
   ]
  },
  {
   "cell_type": "markdown",
   "metadata": {
    "colab_type": "text",
    "id": "YdHhx3rznc2u"
   },
   "source": [
    "### Normal Equations\n",
    "\n",
    "Recall from Class 20 the formulation for **multivariate linear regression**:\n",
    "\n",
    "$$\n",
    "\\underbrace{\\vec{y}}_{\\mathbb{R}^{n x 1}} = \\underbrace{\\mathbf{X}}_{\\mathbb{R}^{n x m}} \\cdot \\underbrace{\\vec{\\beta}}_{\\mathbb{R}^{m x 1}} + \\underbrace{\\vec{\\epsilon}}_{\\mathbb{R}^{n x 1}}\n",
    "$$\n",
    "\n",
    "Observations: $\\vec{y} = [y_1, y_2, ..., x_n]^T$\n",
    "\n",
    "Fitted Parameters: $\\vec{\\beta} = [\\beta_0, \\beta_1, ..., \\beta_{m}]^T$\n",
    "\n",
    "Data / Feature Matrix:\n",
    "\n",
    "$$\n",
    "\\mathbf{X} = \\begin{bmatrix} 1 & x_{1,1} & x_{1,2} & \\dots & x_{1,m} \\\\\n",
    "1 & x_{2,1} & x_{2,2} & \\dots & x_{2,m} \\\\\n",
    "\\vdots & \\vdots & \\vdots & \\ddots & \\vdots \\\\\n",
    "1 & x_{n,1} & x_{n,2} & \\dots & x_{n,m}\n",
    "\\end{bmatrix}\n",
    "$$\n",
    "\n",
    "For example, we could fit a linear model where reactor yield depended on both temperature, pressure and inlet compositions. \n",
    "\n",
    "The linear regression best fit estimates can be easily computed with linear algebra:\n",
    "\n",
    "$$\\mathbf{X}^T \\mathbf{X} \\hat{\\beta} = \\mathbf{X}^T y$$\n",
    "\n",
    "or\n",
    "\n",
    "$$ \\hat{\\beta} = (\\mathbf{X}^T \\mathbf{X})^{-1} \\mathbf{X}^T y$$\n",
    "\n",
    "where the $\\vec{~}$ is omitted for simplicity. Above are know as the **normal equations**.\n",
    "\n",
    "By applying the error propagation formula to the above equation, we can easily calculate the **covariance matrix of the fitted parameters**:\n",
    "\n",
    "$$\\Sigma_{\\hat{\\beta}} = \\hat{\\sigma}^2  (\\mathbf{X}^T \\mathbf{X})^{-1}$$"
   ]
  },
  {
   "cell_type": "markdown",
   "metadata": {
    "colab_type": "text",
    "id": "aYLiLDw2nc2v"
   },
   "source": [
    "### Attempt 1. Linear Model\n",
    "\n",
    "Let's start with a simple regression model:\n",
    "\n",
    "$$\n",
    "y = \\beta_0 + \\beta_1 x_1\n",
    "$$\n",
    "\n",
    "where $x_1$ is the length of the fish."
   ]
  },
  {
   "cell_type": "markdown",
   "metadata": {},
   "source": [
    "<div style=\"background-color: rgba(0,0,255,0.05) ; padding: 10px; border: 1px solid darkblue;\"> \n",
    "    <b>Class Activity</b>: Construct the feature matrix <tt>X</tt>.\n",
    "</div>"
   ]
  },
  {
   "cell_type": "code",
   "execution_count": 3,
   "metadata": {
    "colab": {
     "base_uri": "https://localhost:8080/",
     "height": 1387
    },
    "colab_type": "code",
    "executionInfo": {
     "elapsed": 1081,
     "status": "ok",
     "timestamp": 1555596595075,
     "user": {
      "displayName": "Alexander Dowling",
      "photoUrl": "https://lh3.googleusercontent.com/-LChdQ2m5OQE/AAAAAAAAAAI/AAAAAAAAAA0/JeXJe4vQJ7M/s64/photo.jpg",
      "userId": "00988067626794866502"
     },
     "user_tz": 240
    },
    "id": "GkEIPxbvnc2w",
    "outputId": "6da7f6d1-dc95-436d-e022-f4a621a6e497"
   },
   "outputs": [
    {
     "name": "stdout",
     "output_type": "stream",
     "text": [
      "X =\n",
      " [[1. 1.]\n",
      " [1. 1.]\n",
      " [1. 2.]\n",
      " [1. 2.]\n",
      " [1. 2.]\n",
      " [1. 2.]\n",
      " [1. 3.]\n",
      " [1. 3.]\n",
      " [1. 3.]\n",
      " [1. 3.]\n",
      " [1. 3.]\n",
      " [1. 3.]\n",
      " [1. 3.]\n",
      " [1. 3.]\n",
      " [1. 3.]\n",
      " [1. 2.]\n",
      " [1. 3.]\n",
      " [1. 4.]\n",
      " [1. 4.]\n",
      " [1. 4.]\n",
      " [1. 4.]\n",
      " [1. 4.]\n",
      " [1. 4.]\n",
      " [1. 4.]\n",
      " [1. 4.]\n",
      " [1. 4.]\n",
      " [1. 4.]\n",
      " [1. 4.]\n",
      " [1. 4.]\n",
      " [1. 4.]\n",
      " [1. 4.]\n",
      " [1. 4.]\n",
      " [1. 4.]\n",
      " [1. 4.]\n",
      " [1. 4.]\n",
      " [1. 4.]\n",
      " [1. 4.]\n",
      " [1. 5.]\n",
      " [1. 4.]\n",
      " [1. 4.]\n",
      " [1. 4.]\n",
      " [1. 5.]\n",
      " [1. 2.]\n",
      " [1. 2.]\n",
      " [1. 4.]\n",
      " [1. 3.]\n",
      " [1. 4.]\n",
      " [1. 3.]\n",
      " [1. 4.]\n",
      " [1. 4.]\n",
      " [1. 4.]\n",
      " [1. 4.]\n",
      " [1. 3.]\n",
      " [1. 3.]\n",
      " [1. 3.]\n",
      " [1. 4.]\n",
      " [1. 4.]\n",
      " [1. 3.]\n",
      " [1. 4.]\n",
      " [1. 5.]\n",
      " [1. 4.]\n",
      " [1. 5.]\n",
      " [1. 4.]\n",
      " [1. 4.]\n",
      " [1. 3.]\n",
      " [1. 5.]\n",
      " [1. 5.]\n",
      " [1. 4.]\n",
      " [1. 5.]\n",
      " [1. 3.]\n",
      " [1. 4.]\n",
      " [1. 3.]\n",
      " [1. 4.]\n",
      " [1. 6.]\n",
      " [1. 4.]\n",
      " [1. 5.]\n",
      " [1. 4.]\n",
      " [1. 4.]]\n"
     ]
    }
   ],
   "source": [
    "nfish = len(age)\n",
    "\n",
    "# feature matrix (store in 'X')\n",
    "### BEGIN SOLUTION\n",
    "X = np.ones((nfish,2))\n",
    "X[:,1] = age\n",
    "### END SOLUTION\n",
    "\n",
    "print(\"X =\\n\",X)"
   ]
  },
  {
   "cell_type": "markdown",
   "metadata": {},
   "source": [
    "<div style=\"background-color: rgba(0,0,255,0.05) ; padding: 10px; border: 1px solid darkblue;\"> \n",
    "    <b>Class Activity</b>: Compute $(\\mathbf{X}^T \\mathbf{X})^{-1}$ and store in <tt>XXinv</tt>.\n",
    "</div>"
   ]
  },
  {
   "cell_type": "code",
   "execution_count": 4,
   "metadata": {
    "colab": {
     "base_uri": "https://localhost:8080/",
     "height": 69
    },
    "colab_type": "code",
    "executionInfo": {
     "elapsed": 1286,
     "status": "ok",
     "timestamp": 1555596595293,
     "user": {
      "displayName": "Alexander Dowling",
      "photoUrl": "https://lh3.googleusercontent.com/-LChdQ2m5OQE/AAAAAAAAAAI/AAAAAAAAAA0/JeXJe4vQJ7M/s64/photo.jpg",
      "userId": "00988067626794866502"
     },
     "user_tz": 240
    },
    "id": "F2EH4L-wnc20",
    "outputId": "8e089eec-c585-4cf3-ca0d-7696848e9bdc"
   },
   "outputs": [
    {
     "name": "stdout",
     "output_type": "stream",
     "text": [
      "inv(XT X) =\n",
      " [[ 0.21161665 -0.05479187]\n",
      " [-0.05479187  0.01510165]]\n"
     ]
    }
   ],
   "source": [
    "# calculate inverse of XT * X\n",
    "### BEGIN SOLUTION\n",
    "XXinv = np.linalg.inv(X.transpose() @ X)\n",
    "### END SOLUTION\n",
    "print(\"inv(XT X) =\\n\",XXinv)"
   ]
  },
  {
   "cell_type": "markdown",
   "metadata": {},
   "source": [
    "<div style=\"background-color: rgba(0,0,255,0.05) ; padding: 10px; border: 1px solid darkblue;\"> \n",
    "    <b>Class Activity</b>: Compute $\\hat{\\mathbf{\\beta}}$ (fitted coefficients) and store in <tt>beta_hat</tt>.\n",
    "</div>"
   ]
  },
  {
   "cell_type": "code",
   "execution_count": 5,
   "metadata": {
    "colab": {
     "base_uri": "https://localhost:8080/",
     "height": 35
    },
    "colab_type": "code",
    "executionInfo": {
     "elapsed": 1271,
     "status": "ok",
     "timestamp": 1555596595293,
     "user": {
      "displayName": "Alexander Dowling",
      "photoUrl": "https://lh3.googleusercontent.com/-LChdQ2m5OQE/AAAAAAAAAAI/AAAAAAAAAA0/JeXJe4vQJ7M/s64/photo.jpg",
      "userId": "00988067626794866502"
     },
     "user_tz": 240
    },
    "id": "FAXyZN-3nc26",
    "outputId": "b9d04dc9-f175-4f21-84ad-26770ca363b3"
   },
   "outputs": [
    {
     "name": "stdout",
     "output_type": "stream",
     "text": [
      "beta_hat = [62.64898354 22.31229429]\n"
     ]
    }
   ],
   "source": [
    "# recall we can calculate the best fit coefficients with linear algebra\n",
    "### BEGIN SOLUTION\n",
    "beta_hat = XXinv @ X.transpose() @ length\n",
    "### END SOLUTION\n",
    "print(\"beta_hat =\",beta_hat)"
   ]
  },
  {
   "cell_type": "markdown",
   "metadata": {},
   "source": [
    "<div style=\"background-color: rgba(0,0,255,0.05) ; padding: 10px; border: 1px solid darkblue;\"> \n",
    "    <b>Class Activity</b>: Complete the code below to evaluate the model and plot the predictions.\n",
    "</div>"
   ]
  },
  {
   "cell_type": "code",
   "execution_count": 6,
   "metadata": {
    "colab": {
     "base_uri": "https://localhost:8080/",
     "height": 283
    },
    "colab_type": "code",
    "executionInfo": {
     "elapsed": 1614,
     "status": "ok",
     "timestamp": 1555596595655,
     "user": {
      "displayName": "Alexander Dowling",
      "photoUrl": "https://lh3.googleusercontent.com/-LChdQ2m5OQE/AAAAAAAAAAI/AAAAAAAAAA0/JeXJe4vQJ7M/s64/photo.jpg",
      "userId": "00988067626794866502"
     },
     "user_tz": 240
    },
    "id": "HL3cqdKxnc29",
    "outputId": "b78be2b6-4131-489d-c9e4-9881e8c00b40"
   },
   "outputs": [
    {
     "data": {
      "image/png": "[encoded data removed]",
      "text/plain": [
       "<Figure size 432x288 with 1 Axes>"
      ]
     },
     "metadata": {},
     "output_type": "display_data"
    }
   ],
   "source": [
    "## evaluate predictions\n",
    "\n",
    "# create ages to evaluate model with\n",
    "age_plot = np.linspace(1,6,100)\n",
    "\n",
    "# create new X matrix with 100 rows and 2 columns\n",
    "Xplot = np.ones((len(age_plot),2))\n",
    "\n",
    "# fill in second column\n",
    "### BEGIN SOLUTION\n",
    "Xplot[:,1] = age_plot\n",
    "### END SOLUTION\n",
    "\n",
    "# evaluate model and store in `length_plot`\n",
    "### BEGIN SOLUTION\n",
    "length_plot = Xplot @ beta_hat\n",
    "### END SOLUTION\n",
    "\n",
    "# plot\n",
    "plt.plot(age,length,'b.',markersize=10,label=\"Data\")\n",
    "plt.plot(age_plot,length_plot,'r-',label=\"Best Fit\")\n",
    "plt.xlabel(\"Age [years]\")\n",
    "plt.ylabel(\"Length [mm]\")\n",
    "plt.legend()\n",
    "plt.show()"
   ]
  },
  {
   "cell_type": "markdown",
   "metadata": {},
   "source": [
    "<div style=\"background-color: rgba(0,0,255,0.05) ; padding: 10px; border: 1px solid darkblue;\"> \n",
    "    <b>Class Activity</b>: Calculate and plot the residuals.\n",
    "</div>"
   ]
  },
  {
   "cell_type": "code",
   "execution_count": 7,
   "metadata": {
    "colab": {
     "base_uri": "https://localhost:8080/",
     "height": 283
    },
    "colab_type": "code",
    "executionInfo": {
     "elapsed": 1743,
     "status": "ok",
     "timestamp": 1555596595803,
     "user": {
      "displayName": "Alexander Dowling",
      "photoUrl": "https://lh3.googleusercontent.com/-LChdQ2m5OQE/AAAAAAAAAAI/AAAAAAAAAA0/JeXJe4vQJ7M/s64/photo.jpg",
      "userId": "00988067626794866502"
     },
     "user_tz": 240
    },
    "id": "9fNBTQwJnc3B",
    "outputId": "ccecdb09-619e-4d87-c42a-1be505e6a3cf"
   },
   "outputs": [
    {
     "data": {
      "image/png": "[encoded data removed]",
      "text/plain": [
       "<Figure size 432x288 with 1 Axes>"
      ]
     },
     "metadata": {},
     "output_type": "display_data"
    }
   ],
   "source": [
    "# calculate residuals, store in `e`\n",
    "### BEGIN SOLUTION\n",
    "e = X @ beta_hat - length\n",
    "### END SOLUTION\n",
    "\n",
    "plt.plot(age,e,'b.')\n",
    "plt.xlabel(\"Age [years]\")\n",
    "plt.ylabel(\"Residuals [mm]\")\n",
    "plt.show()"
   ]
  },
  {
   "cell_type": "markdown",
   "metadata": {},
   "source": [
    "<div style=\"background-color: rgba(0,0,255,0.05) ; padding: 10px; border: 1px solid darkblue;\"> \n",
    "    <b>Class Activity</b>: Compute the variance of the residuals. Then compute the covariance of the fitted parameters.\n",
    "</div>"
   ]
  },
  {
   "cell_type": "code",
   "execution_count": 8,
   "metadata": {
    "colab": {
     "base_uri": "https://localhost:8080/",
     "height": 69
    },
    "colab_type": "code",
    "executionInfo": {
     "elapsed": 1732,
     "status": "ok",
     "timestamp": 1555596595805,
     "user": {
      "displayName": "Alexander Dowling",
      "photoUrl": "https://lh3.googleusercontent.com/-LChdQ2m5OQE/AAAAAAAAAAI/AAAAAAAAAA0/JeXJe4vQJ7M/s64/photo.jpg",
      "userId": "00988067626794866502"
     },
     "user_tz": 240
    },
    "id": "lGywykVmnc3E",
    "outputId": "fbb1a4f5-3781-492e-eb87-0098d47d0565"
   },
   "outputs": [
    {
     "name": "stdout",
     "output_type": "stream",
     "text": [
      "variance of residuals =  156.48469455342138 add units\n",
      "covariance matrix:\n",
      " [[ 5181.95418684 -1341.71366411]\n",
      " [-1341.71366411   369.80093923]]\n"
     ]
    }
   ],
   "source": [
    "# compute variance of residuals, store in `se`\n",
    "### BEGIN SOLUTION\n",
    "se = e @ e / (nfish - 2)\n",
    "### END SOLUTION\n",
    "print(\"variance of residuals = \",se,\"add units\")\n",
    "\n",
    "# compute covariance matrix, store in `Sigma_beta`\n",
    "### BEGIN SOLUTION\n",
    "Sigma_beta = se**2 * XXinv\n",
    "### END SOLUTION\n",
    "print(\"covariance matrix:\\n\",Sigma_beta)"
   ]
  },
  {
   "cell_type": "markdown",
   "metadata": {
    "colab_type": "text",
    "id": "T5lbQLWDnc3H"
   },
   "source": [
    "### Attempt 2. Quadratic Model"
   ]
  },
  {
   "cell_type": "markdown",
   "metadata": {
    "colab_type": "text",
    "id": "cYopveU6nc3I"
   },
   "source": [
    "Let's try a quadratic model now:\n",
    "\n",
    "$$\n",
    "y = \\beta_0 + \\beta_1 x_1 + \\beta_2 x_2\n",
    "$$\n",
    "\n",
    "where $x_1$ is the age and $x_2$ is age squared."
   ]
  },
  {
   "cell_type": "markdown",
   "metadata": {},
   "source": [
    "<div style=\"background-color: rgba(0,0,255,0.05) ; padding: 10px; border: 1px solid darkblue;\"> \n",
    "    <b>Class Activity</b>: With a partner, modify the code below (copied from previous example) to and fit the quadratic model.\n",
    "</div>"
   ]
  },
  {
   "cell_type": "code",
   "execution_count": 9,
   "metadata": {
    "colab": {
     "base_uri": "https://localhost:8080/",
     "height": 1387
    },
    "colab_type": "code",
    "executionInfo": {
     "elapsed": 1718,
     "status": "ok",
     "timestamp": 1555596595808,
     "user": {
      "displayName": "Alexander Dowling",
      "photoUrl": "https://lh3.googleusercontent.com/-LChdQ2m5OQE/AAAAAAAAAAI/AAAAAAAAAA0/JeXJe4vQJ7M/s64/photo.jpg",
      "userId": "00988067626794866502"
     },
     "user_tz": 240
    },
    "id": "A4-teiW3nc3J",
    "outputId": "68a51bc7-c8f1-493d-ef44-324dee1869da"
   },
   "outputs": [
    {
     "name": "stdout",
     "output_type": "stream",
     "text": [
      "X =\n",
      " [[ 1.  1.  1.]\n",
      " [ 1.  1.  1.]\n",
      " [ 1.  2.  4.]\n",
      " [ 1.  2.  4.]\n",
      " [ 1.  2.  4.]\n",
      " [ 1.  2.  4.]\n",
      " [ 1.  3.  9.]\n",
      " [ 1.  3.  9.]\n",
      " [ 1.  3.  9.]\n",
      " [ 1.  3.  9.]\n",
      " [ 1.  3.  9.]\n",
      " [ 1.  3.  9.]\n",
      " [ 1.  3.  9.]\n",
      " [ 1.  3.  9.]\n",
      " [ 1.  3.  9.]\n",
      " [ 1.  2.  4.]\n",
      " [ 1.  3.  9.]\n",
      " [ 1.  4. 16.]\n",
      " [ 1.  4. 16.]\n",
      " [ 1.  4. 16.]\n",
      " [ 1.  4. 16.]\n",
      " [ 1.  4. 16.]\n",
      " [ 1.  4. 16.]\n",
      " [ 1.  4. 16.]\n",
      " [ 1.  4. 16.]\n",
      " [ 1.  4. 16.]\n",
      " [ 1.  4. 16.]\n",
      " [ 1.  4. 16.]\n",
      " [ 1.  4. 16.]\n",
      " [ 1.  4. 16.]\n",
      " [ 1.  4. 16.]\n",
      " [ 1.  4. 16.]\n",
      " [ 1.  4. 16.]\n",
      " [ 1.  4. 16.]\n",
      " [ 1.  4. 16.]\n",
      " [ 1.  4. 16.]\n",
      " [ 1.  4. 16.]\n",
      " [ 1.  5. 25.]\n",
      " [ 1.  4. 16.]\n",
      " [ 1.  4. 16.]\n",
      " [ 1.  4. 16.]\n",
      " [ 1.  5. 25.]\n",
      " [ 1.  2.  4.]\n",
      " [ 1.  2.  4.]\n",
      " [ 1.  4. 16.]\n",
      " [ 1.  3.  9.]\n",
      " [ 1.  4. 16.]\n",
      " [ 1.  3.  9.]\n",
      " [ 1.  4. 16.]\n",
      " [ 1.  4. 16.]\n",
      " [ 1.  4. 16.]\n",
      " [ 1.  4. 16.]\n",
      " [ 1.  3.  9.]\n",
      " [ 1.  3.  9.]\n",
      " [ 1.  3.  9.]\n",
      " [ 1.  4. 16.]\n",
      " [ 1.  4. 16.]\n",
      " [ 1.  3.  9.]\n",
      " [ 1.  4. 16.]\n",
      " [ 1.  5. 25.]\n",
      " [ 1.  4. 16.]\n",
      " [ 1.  5. 25.]\n",
      " [ 1.  4. 16.]\n",
      " [ 1.  4. 16.]\n",
      " [ 1.  3.  9.]\n",
      " [ 1.  5. 25.]\n",
      " [ 1.  5. 25.]\n",
      " [ 1.  4. 16.]\n",
      " [ 1.  5. 25.]\n",
      " [ 1.  3.  9.]\n",
      " [ 1.  4. 16.]\n",
      " [ 1.  3.  9.]\n",
      " [ 1.  4. 16.]\n",
      " [ 1.  6. 36.]\n",
      " [ 1.  4. 16.]\n",
      " [ 1.  5. 25.]\n",
      " [ 1.  4. 16.]\n",
      " [ 1.  4. 16.]]\n"
     ]
    }
   ],
   "source": [
    "# construct the feature matrix\n",
    "X = np.ones((nfish,3))\n",
    "\n",
    "### BEGIN SOLUTION\n",
    "X[:,1] = age\n",
    "X[:,2] = age**2\n",
    "### END SOLUTION\n",
    "\n",
    "print(\"X =\\n\",X)"
   ]
  },
  {
   "cell_type": "code",
   "execution_count": 10,
   "metadata": {
    "colab": {
     "base_uri": "https://localhost:8080/",
     "height": 87
    },
    "colab_type": "code",
    "executionInfo": {
     "elapsed": 1994,
     "status": "ok",
     "timestamp": 1555596596095,
     "user": {
      "displayName": "Alexander Dowling",
      "photoUrl": "https://lh3.googleusercontent.com/-LChdQ2m5OQE/AAAAAAAAAAI/AAAAAAAAAA0/JeXJe4vQJ7M/s64/photo.jpg",
      "userId": "00988067626794866502"
     },
     "user_tz": 240
    },
    "id": "AfgYJVownc3L",
    "outputId": "cf998465-8a41-4e46-c34b-571f84f1a3eb"
   },
   "outputs": [
    {
     "name": "stdout",
     "output_type": "stream",
     "text": [
      "inv(XT X) =\n",
      " [[ 1.02032931 -0.57830612  0.07783618]\n",
      " [-0.57830612  0.35399479 -0.05038669]\n",
      " [ 0.07783618 -0.05038669  0.0074915 ]]\n"
     ]
    }
   ],
   "source": [
    "# calculate inverse of XT * X, store in XXinv\n",
    "### BEGIN SOLUTION\n",
    "XXinv = np.linalg.inv(X.transpose().dot(X))\n",
    "### END SOLUTION\n",
    "print(\"inv(XT X) =\\n\",XXinv)"
   ]
  },
  {
   "cell_type": "code",
   "execution_count": 11,
   "metadata": {
    "colab": {
     "base_uri": "https://localhost:8080/",
     "height": 35
    },
    "colab_type": "code",
    "executionInfo": {
     "elapsed": 1979,
     "status": "ok",
     "timestamp": 1555596596096,
     "user": {
      "displayName": "Alexander Dowling",
      "photoUrl": "https://lh3.googleusercontent.com/-LChdQ2m5OQE/AAAAAAAAAAI/AAAAAAAAAA0/JeXJe4vQJ7M/s64/photo.jpg",
      "userId": "00988067626794866502"
     },
     "user_tz": 240
    },
    "id": "M3WsRl_Knc3O",
    "outputId": "71062ec9-48da-4755-b7d0-8e7adc9bc7ad"
   },
   "outputs": [
    {
     "name": "stdout",
     "output_type": "stream",
     "text": [
      "beta_hat = [13.62237616 54.04931191 -4.71866479]\n"
     ]
    }
   ],
   "source": [
    "# recall we can calculate the best fit coefficients with linear algebra, store in beta_hat\n",
    "### BEGIN SOLUTION\n",
    "beta_hat = XXinv @ X.transpose() @ length\n",
    "### END SOLUTION\n",
    "print(\"beta_hat =\",beta_hat)"
   ]
  },
  {
   "cell_type": "code",
   "execution_count": 12,
   "metadata": {
    "colab": {
     "base_uri": "https://localhost:8080/",
     "height": 283
    },
    "colab_type": "code",
    "executionInfo": {
     "elapsed": 2134,
     "status": "ok",
     "timestamp": 1555596596264,
     "user": {
      "displayName": "Alexander Dowling",
      "photoUrl": "https://lh3.googleusercontent.com/-LChdQ2m5OQE/AAAAAAAAAAI/AAAAAAAAAA0/JeXJe4vQJ7M/s64/photo.jpg",
      "userId": "00988067626794866502"
     },
     "user_tz": 240
    },
    "id": "CmWaMGVvnc3Q",
    "outputId": "4bd46e29-702e-4d86-94d8-830372e32bfe"
   },
   "outputs": [
    {
     "data": {
      "image/png": "[encoded data removed]",
      "text/plain": [
       "<Figure size 432x288 with 1 Axes>"
      ]
     },
     "metadata": {},
     "output_type": "display_data"
    }
   ],
   "source": [
    "## evaluate predictions\n",
    "\n",
    "# create ages to evaluate model with\n",
    "age_plot = np.linspace(1,6,100)\n",
    "\n",
    "# create new X matrix with 100 rows and 2 columns\n",
    "Xplot = np.ones((len(age_plot),3))\n",
    "\n",
    "# fill in second and third column\n",
    "### BEGIN SOLUTION\n",
    "Xplot[:,1] = age_plot\n",
    "Xplot[:,2] = age_plot**2\n",
    "### END SOLUTION\n",
    "\n",
    "# evaluate model, store predictions in length_plot\n",
    "### BEGIN SOLUTION\n",
    "length_plot = Xplot @ beta_hat\n",
    "### END SOLUTION\n",
    "\n",
    "# plot\n",
    "plt.plot(age,length,'b.',markersize=10,label=\"Data\")\n",
    "plt.plot(age_plot,length_plot,'r-',label=\"Best Fit\")\n",
    "plt.xlabel(\"Age [years]\")\n",
    "plt.ylabel(\"Length [mm]\")\n",
    "plt.legend()\n",
    "plt.show()"
   ]
  },
  {
   "cell_type": "code",
   "execution_count": 13,
   "metadata": {
    "colab": {
     "base_uri": "https://localhost:8080/",
     "height": 283
    },
    "colab_type": "code",
    "executionInfo": {
     "elapsed": 2283,
     "status": "ok",
     "timestamp": 1555596596428,
     "user": {
      "displayName": "Alexander Dowling",
      "photoUrl": "https://lh3.googleusercontent.com/-LChdQ2m5OQE/AAAAAAAAAAI/AAAAAAAAAA0/JeXJe4vQJ7M/s64/photo.jpg",
      "userId": "00988067626794866502"
     },
     "user_tz": 240
    },
    "id": "2HaxPzgTnc3T",
    "outputId": "f76ecdd3-f5e1-4844-e445-25ae1e5fd018"
   },
   "outputs": [
    {
     "data": {
      "image/png": "[encoded data removed]",
      "text/plain": [
       "<Figure size 432x288 with 1 Axes>"
      ]
     },
     "metadata": {},
     "output_type": "display_data"
    }
   ],
   "source": [
    "# calculate residuals, store in `e`\n",
    "### BEGIN SOLUTION\n",
    "e = X @ beta_hat - length\n",
    "### END SOLUTION\n",
    "\n",
    "plt.plot(age,e,'b.')\n",
    "plt.xlabel(\"Age [years]\")\n",
    "plt.ylabel(\"Residuals [mm]\")\n",
    "plt.show()"
   ]
  },
  {
   "cell_type": "code",
   "execution_count": 14,
   "metadata": {
    "colab": {
     "base_uri": "https://localhost:8080/",
     "height": 87
    },
    "colab_type": "code",
    "executionInfo": {
     "elapsed": 2268,
     "status": "ok",
     "timestamp": 1555596596429,
     "user": {
      "displayName": "Alexander Dowling",
      "photoUrl": "https://lh3.googleusercontent.com/-LChdQ2m5OQE/AAAAAAAAAAI/AAAAAAAAAA0/JeXJe4vQJ7M/s64/photo.jpg",
      "userId": "00988067626794866502"
     },
     "user_tz": 240
    },
    "id": "LCbE9lbPnc3W",
    "outputId": "83e752f5-c616-49a8-c3c6-5345fa5c7140"
   },
   "outputs": [
    {
     "name": "stdout",
     "output_type": "stream",
     "text": [
      "covariance matrix:\n",
      " [[14434.94954579 -8181.49557518  1101.17523061]\n",
      " [-8181.49557518  5008.08601591  -712.8377746 ]\n",
      " [ 1101.17523061  -712.8377746    105.98483278]]\n"
     ]
    }
   ],
   "source": [
    "# compute the variance of residuals, store in `e`\n",
    "### BEGIN SOLUTION\n",
    "se = e @ e / (nfish - 3)\n",
    "### END SOLUTION\n",
    "\n",
    "\n",
    "# compute covariance matrix, store in `Sigma_beta`\n",
    "### BEGIN SOLUTION\n",
    "Sigma_beta = se**2 * XXinv\n",
    "### END SOLUTION\n",
    "print(\"covariance matrix:\\n\",Sigma_beta)"
   ]
  },
  {
   "cell_type": "markdown",
   "metadata": {
    "colab_type": "text",
    "id": "w0lOt8wrnc3b"
   },
   "source": [
    "### How to select the best model?\n",
    "\n",
    "We can calculate a p-value to determine if a model is statistically significant.\n",
    "\n",
    "https://fivethirtyeight.com/features/science-isnt-broken/#part1"
   ]
  },
  {
   "cell_type": "markdown",
   "metadata": {
    "colab_type": "text",
    "id": "-MwjXlccnc3b"
   },
   "source": [
    "## 24b. Weighted Regression"
   ]
  },
  {
   "cell_type": "markdown",
   "metadata": {
    "colab_type": "text",
    "id": "b4xsqygcnc3c"
   },
   "source": [
    "### Michaelis-Menten Modeling Revisited\n",
    "\n",
    "The **Michaelis-Menten** equation is an extremely popular model to describe the rate of enzymatic reactions.\n",
    "\n",
    "$$\n",
    "\\mathrm{E} + \\mathrm{S} \\leftrightharpoons \\mathrm{ES} \\rightarrow \\mathrm{E} + \\mathrm{P}\n",
    "$$\n",
    "\n",
    "$$\n",
    "r = V_{max} \\frac{[\\mathrm{S}]}{K_M + [\\mathrm{S}]}\n",
    "$$"
   ]
  },
  {
   "cell_type": "code",
   "execution_count": 15,
   "metadata": {
    "colab": {
     "base_uri": "https://localhost:8080/",
     "height": 301
    },
    "colab_type": "code",
    "executionInfo": {
     "elapsed": 2745,
     "status": "ok",
     "timestamp": 1555596596928,
     "user": {
      "displayName": "Alexander Dowling",
      "photoUrl": "https://lh3.googleusercontent.com/-LChdQ2m5OQE/AAAAAAAAAAI/AAAAAAAAAA0/JeXJe4vQJ7M/s64/photo.jpg",
      "userId": "00988067626794866502"
     },
     "user_tz": 240
    },
    "id": "OFoCH1Trnc3d",
    "outputId": "f9ec13dd-2f22-4cbf-ed44-a11af3c0510a"
   },
   "outputs": [
    {
     "data": {
      "image/png": "[encoded data removed]",
      "text/plain": [
       "<Figure size 432x288 with 1 Axes>"
      ]
     },
     "metadata": {},
     "output_type": "display_data"
    }
   ],
   "source": [
    "## Let's plot the model\n",
    "\n",
    "# Define exact coefficients\n",
    "Vmaxexact=2;\n",
    "Kmexact=5;\n",
    "\n",
    "# Evaluate model\n",
    "Sexp = np.array([.3, .4, 0.5, 1, 2, 4, 8, 16]);\n",
    "rexp = Vmaxexact*Sexp / (Kmexact+Sexp);\n",
    "\n",
    "# Add some random error to simulate \n",
    "rexp += 0.05*np.random.normal(size=len(Sexp))\n",
    "\n",
    "# Evaluate model to plot smooth curve\n",
    "S = np.linspace(np.min(Sexp),np.max(Sexp),100)\n",
    "r = Vmaxexact*S / (Kmexact+S)\n",
    "\n",
    "plt.plot(S,r,'b-',linewidth=2,label=\"True Model\")\n",
    "plt.plot(Sexp,rexp,'r.',MarkerSize=10,label=\"Experiments\")\n",
    "plt.xlabel('Substrace Concentration (mol/L)',FontSize=14)\n",
    "plt.ylabel('Product Formulation Rate, (mol/L/s)',FontSize=14)\n",
    "plt.legend()\n",
    "plt.show()"
   ]
  },
  {
   "cell_type": "markdown",
   "metadata": {
    "colab_type": "text",
    "id": "v86s1ogonc3g"
   },
   "source": [
    "### Approach 1: Transformation + Linear Regression"
   ]
  },
  {
   "cell_type": "markdown",
   "metadata": {
    "colab_type": "text",
    "id": "YVy9KTy3nc3h"
   },
   "source": [
    "#### Step 1: Calculate Best Fit and Plot"
   ]
  },
  {
   "cell_type": "code",
   "execution_count": 16,
   "metadata": {
    "colab": {
     "base_uri": "https://localhost:8080/",
     "height": 104
    },
    "colab_type": "code",
    "executionInfo": {
     "elapsed": 2731,
     "status": "ok",
     "timestamp": 1555596596929,
     "user": {
      "displayName": "Alexander Dowling",
      "photoUrl": "https://lh3.googleusercontent.com/-LChdQ2m5OQE/AAAAAAAAAAI/AAAAAAAAAA0/JeXJe4vQJ7M/s64/photo.jpg",
      "userId": "00988067626794866502"
     },
     "user_tz": 240
    },
    "id": "QWi-haf2nc3i",
    "outputId": "378bb578-c545-43a0-9a8d-e64d6b057cc5"
   },
   "outputs": [
    {
     "name": "stdout",
     "output_type": "stream",
     "text": [
      "slope =  1.751276691361474 add units\n",
      "intercept = 0.8386650082939195 add units\n",
      " \n",
      "Vmax =  1.1923711972129147\n",
      "Km =  2.088171885129753\n"
     ]
    }
   ],
   "source": [
    "y = 1/rexp\n",
    "x = 1/Sexp\n",
    "\n",
    "b1_, b0_, r_value, p_value, std_err = stats.linregress(x, y)\n",
    "\n",
    "print(\"slope = \",b1_,\"add units\")\n",
    "print(\"intercept =\",b0_,\"add units\")\n",
    "\n",
    "print(\" \")\n",
    "Vmax_lin = 1/b0_\n",
    "Km_lin = b1_ / b0_\n",
    "print(\"Vmax = \",Vmax_lin)\n",
    "print(\"Km = \",Km_lin)"
   ]
  },
  {
   "cell_type": "code",
   "execution_count": 17,
   "metadata": {
    "colab": {
     "base_uri": "https://localhost:8080/",
     "height": 283
    },
    "colab_type": "code",
    "executionInfo": {
     "elapsed": 2952,
     "status": "ok",
     "timestamp": 1555596597179,
     "user": {
      "displayName": "Alexander Dowling",
      "photoUrl": "https://lh3.googleusercontent.com/-LChdQ2m5OQE/AAAAAAAAAAI/AAAAAAAAAA0/JeXJe4vQJ7M/s64/photo.jpg",
      "userId": "00988067626794866502"
     },
     "user_tz": 240
    },
    "id": "nAyHmmsunc3l",
    "outputId": "334c5751-dd25-4a1b-ffa7-f592590bbf8d"
   },
   "outputs": [
    {
     "data": {
      "image/png": "[encoded data removed]",
      "text/plain": [
       "<Figure size 432x288 with 1 Axes>"
      ]
     },
     "metadata": {},
     "output_type": "display_data"
    }
   ],
   "source": [
    "# generate predictions\n",
    "x_pred = np.linspace(np.min(x),np.max(x),1000)\n",
    "y_pred = b0_ + b1_ * x_pred\n",
    "\n",
    "# create plot\n",
    "plt.plot(x,y,'.b',MarkerSize=20,label='Data')\n",
    "plt.plot(x_pred,y_pred,'--g',LineWidth=3,label='Best Fit Line')\n",
    "plt.plot(1/S,1/r,'r-',LineWidth=3,label='True Model')\n",
    "plt.xlabel('1/[S] (L / mol)')\n",
    "plt.ylabel('1/r (L s / mol)')\n",
    "plt.grid(True)\n",
    "plt.legend()\n",
    "plt.show()"
   ]
  },
  {
   "cell_type": "code",
   "execution_count": 18,
   "metadata": {
    "colab": {
     "base_uri": "https://localhost:8080/",
     "height": 283
    },
    "colab_type": "code",
    "executionInfo": {
     "elapsed": 3424,
     "status": "ok",
     "timestamp": 1555596597674,
     "user": {
      "displayName": "Alexander Dowling",
      "photoUrl": "https://lh3.googleusercontent.com/-LChdQ2m5OQE/AAAAAAAAAAI/AAAAAAAAAA0/JeXJe4vQJ7M/s64/photo.jpg",
      "userId": "00988067626794866502"
     },
     "user_tz": 240
    },
    "id": "jbGC26j5nc3r",
    "outputId": "0808db1c-93a6-4862-d4e7-5de88146928f"
   },
   "outputs": [
    {
     "data": {
      "image/png": "[encoded data removed]",
      "text/plain": [
       "<Figure size 432x288 with 1 Axes>"
      ]
     },
     "metadata": {},
     "output_type": "display_data"
    }
   ],
   "source": [
    "# create plot\n",
    "plt.plot(Sexp,rexp,'.b',MarkerSize=20,label='Data')\n",
    "plt.plot(1/x_pred,1/y_pred,'--g',LineWidth=3,label='Best Fit Line')\n",
    "plt.plot(S,r,'r-',LineWidth=3,label='True Model')\n",
    "plt.xlabel('[S] (mol / L)')\n",
    "plt.ylabel('r (mol / L / s)')\n",
    "plt.grid(True)\n",
    "plt.legend()\n",
    "plt.show()"
   ]
  },
  {
   "cell_type": "markdown",
   "metadata": {
    "colab_type": "text",
    "id": "fa3hhwQjnc3u"
   },
   "source": [
    "#### Step 2. Residual Analysis"
   ]
  },
  {
   "cell_type": "code",
   "execution_count": 19,
   "metadata": {
    "colab": {
     "base_uri": "https://localhost:8080/",
     "height": 283
    },
    "colab_type": "code",
    "executionInfo": {
     "elapsed": 3519,
     "status": "ok",
     "timestamp": 1555596597782,
     "user": {
      "displayName": "Alexander Dowling",
      "photoUrl": "https://lh3.googleusercontent.com/-LChdQ2m5OQE/AAAAAAAAAAI/AAAAAAAAAA0/JeXJe4vQJ7M/s64/photo.jpg",
      "userId": "00988067626794866502"
     },
     "user_tz": 240
    },
    "id": "XPXHmJ0Bnc3w",
    "outputId": "6d82e5ca-2f37-498d-9ed4-4d0e3e7c5e49"
   },
   "outputs": [
    {
     "data": {
      "image/png": "[encoded data removed]",
      "text/plain": [
       "<Figure size 432x288 with 1 Axes>"
      ]
     },
     "metadata": {},
     "output_type": "display_data"
    }
   ],
   "source": [
    "# Calculate residuals\n",
    "y_hat = b0_ + b1_ * x\n",
    "e = y - y_hat\n",
    "\n",
    "# plot histogram of residuals\n",
    "plt.hist(e)\n",
    "plt.xlabel(\"Residual (s L / mol)\")\n",
    "plt.ylabel(\"Frequency (count)\")\n",
    "plt.show()"
   ]
  },
  {
   "cell_type": "code",
   "execution_count": 20,
   "metadata": {
    "colab": {
     "base_uri": "https://localhost:8080/",
     "height": 295
    },
    "colab_type": "code",
    "executionInfo": {
     "elapsed": 3801,
     "status": "ok",
     "timestamp": 1555596598072,
     "user": {
      "displayName": "Alexander Dowling",
      "photoUrl": "https://lh3.googleusercontent.com/-LChdQ2m5OQE/AAAAAAAAAAI/AAAAAAAAAA0/JeXJe4vQJ7M/s64/photo.jpg",
      "userId": "00988067626794866502"
     },
     "user_tz": 240
    },
    "id": "pWvH7b34nc3z",
    "outputId": "10ea88a8-1ec8-4da9-d75c-88ac2ef6a4c9"
   },
   "outputs": [
    {
     "data": {
      "image/png": "[encoded data removed]",
      "text/plain": [
       "<Figure size 432x288 with 1 Axes>"
      ]
     },
     "metadata": {},
     "output_type": "display_data"
    }
   ],
   "source": [
    "# scatter plot of residuals\n",
    "plt.plot(y_hat,e,\"b.\",MarkerSize=20)\n",
    "plt.xlabel(\"Predicted 1/r (s L / mol)\")\n",
    "plt.ylabel(\"Residual (s L / mol)\")\n",
    "plt.grid(True)\n",
    "plt.title(\"Residuals vs. Predicted Value\")\n",
    "plt.show()"
   ]
  },
  {
   "cell_type": "code",
   "execution_count": 21,
   "metadata": {
    "colab": {
     "base_uri": "https://localhost:8080/",
     "height": 295
    },
    "colab_type": "code",
    "executionInfo": {
     "elapsed": 4142,
     "status": "ok",
     "timestamp": 1555596598422,
     "user": {
      "displayName": "Alexander Dowling",
      "photoUrl": "https://lh3.googleusercontent.com/-LChdQ2m5OQE/AAAAAAAAAAI/AAAAAAAAAA0/JeXJe4vQJ7M/s64/photo.jpg",
      "userId": "00988067626794866502"
     },
     "user_tz": 240
    },
    "id": "bU4tm2T9nc32",
    "outputId": "112d7bbe-0262-4447-a771-456a29292e5a"
   },
   "outputs": [
    {
     "data": {
      "image/png": "[encoded data removed]",
      "text/plain": [
       "<Figure size 432x288 with 1 Axes>"
      ]
     },
     "metadata": {},
     "output_type": "display_data"
    }
   ],
   "source": [
    "# another scatter plot\n",
    "plt.plot(x,e,\"b.\",MarkerSize=20)\n",
    "plt.xlabel(\"Dependent Variable 1/[S] (L / mol)\")\n",
    "plt.ylabel(\"Residual (s L / mol)\")\n",
    "plt.grid(True)\n",
    "plt.title(\"Residuals vs. Dependent Variable\")\n",
    "plt.show()"
   ]
  },
  {
   "cell_type": "markdown",
   "metadata": {
    "colab_type": "text",
    "id": "8_0rdpJNnc35"
   },
   "source": [
    "### Approach 2: Nonlinear Regression\n",
    "\n",
    "See notes from Class 21 and 22."
   ]
  },
  {
   "cell_type": "markdown",
   "metadata": {
    "colab_type": "text",
    "id": "VtDwBdrgnc36"
   },
   "source": [
    "### Approach 3: Transformation + Weighted Linear Regression"
   ]
  },
  {
   "cell_type": "markdown",
   "metadata": {
    "colab_type": "text",
    "id": "CMsIXXyqnc37"
   },
   "source": [
    "**Main Idea** Weight data points with greater uncertainty less.\n",
    "\n",
    "$$\n",
    "\\min_{\\hat{\\beta}} \\quad (y - X \\hat{\\beta})^T ~W~ (y - X \\hat{\\beta})\n",
    "$$\n",
    "\n",
    "What to use for the weight matrix $W$?\n",
    "\n",
    "Let's assume each $r_{obs}$ measurement (i.e., observation) has uncertainty $\\epsilon$:\n",
    "\n",
    "$r_{obs} = r_{true} + \\epsilon$\n",
    "\n",
    "where var($\\epsilon$) = $\\sigma^2$. What is the uncertainty in $1/r_{obs}$?\n",
    "\n",
    "**Short Activity**: Determine var($1/r_{obs}$) with a partner."
   ]
  },
  {
   "cell_type": "markdown",
   "metadata": {},
   "source": [
    "<div style=\"background-color: rgba(0,0,255,0.05) ; padding: 10px; border: 1px solid darkblue;\"> \n",
    "<b>Class Activity</b>: With a partner, compute var($1/r_{obs}$). Assume $\\epsilon$ is a random variable.\n",
    "</div>"
   ]
  },
  {
   "cell_type": "markdown",
   "metadata": {
    "colab_type": "text",
    "id": "nliDCcGync38"
   },
   "source": [
    "#### Step 1: Calculate Best Fit and Plot"
   ]
  },
  {
   "cell_type": "markdown",
   "metadata": {
    "colab_type": "text",
    "id": "Ulr1bBTAnc39"
   },
   "source": [
    "Let's further assume each observation uncertainty is independent. We will weight the regression problem with matrix $W$, which is proportional to the inverse of the covariance matrix:\n",
    "\n",
    "$$\n",
    "W = \\begin{bmatrix}r_{1}^4 & 0 & \\dots & 0 \\\\\n",
    "0 & r_{2}^4 & \\dots & 0 \\\\\n",
    "\\vdots & \\vdots & \\ddots & \\vdots \\\\\n",
    "0 & 0 & \\dots & r_{n}^4\n",
    "\\end{bmatrix}\n",
    "$$\n",
    "\n",
    "The solution to the optimization problem above is easily calculated with linear algebra:\n",
    "\n",
    "$$\n",
    "(X^T W X) \\hat{\\beta} = X^T W y\n",
    "$$\n",
    "\n",
    "or\n",
    "\n",
    "$$\n",
    "\\hat{\\beta} = (X^T W X)^{-1} X^T W y\n",
    "$$\n",
    "\n",
    "Some textbooks define $K = (X^T W X)^{-1}$ to simply the above expressions. Let's apply this to our problem."
   ]
  },
  {
   "cell_type": "code",
   "execution_count": 22,
   "metadata": {
    "colab": {
     "base_uri": "https://localhost:8080/",
     "height": 52
    },
    "colab_type": "code",
    "executionInfo": {
     "elapsed": 4131,
     "status": "ok",
     "timestamp": 1555596598423,
     "user": {
      "displayName": "Alexander Dowling",
      "photoUrl": "https://lh3.googleusercontent.com/-LChdQ2m5OQE/AAAAAAAAAAI/AAAAAAAAAA0/JeXJe4vQJ7M/s64/photo.jpg",
      "userId": "00988067626794866502"
     },
     "user_tz": 240
    },
    "id": "G8kQyl4Unc39",
    "outputId": "8b5553bd-74fe-49ff-8db8-36d3fd564a28"
   },
   "outputs": [
    {
     "name": "stdout",
     "output_type": "stream",
     "text": [
      "[7.53763388e-04 1.46496472e-03 1.14360055e-03 1.64275816e-02\n",
      " 6.90983254e-02 9.99898570e-01 1.93802662e+00 5.77849297e+00]\n"
     ]
    }
   ],
   "source": [
    "# diagonal elements\n",
    "print(rexp**4)"
   ]
  },
  {
   "cell_type": "code",
   "execution_count": 23,
   "metadata": {
    "colab": {
     "base_uri": "https://localhost:8080/",
     "height": 312
    },
    "colab_type": "code",
    "executionInfo": {
     "elapsed": 4121,
     "status": "ok",
     "timestamp": 1555596598424,
     "user": {
      "displayName": "Alexander Dowling",
      "photoUrl": "https://lh3.googleusercontent.com/-LChdQ2m5OQE/AAAAAAAAAAI/AAAAAAAAAA0/JeXJe4vQJ7M/s64/photo.jpg",
      "userId": "00988067626794866502"
     },
     "user_tz": 240
    },
    "id": "TDDXFx0Mnc4A",
    "outputId": "1624d996-f8d3-4d76-f4f1-83548da2b5ea"
   },
   "outputs": [
    {
     "name": "stdout",
     "output_type": "stream",
     "text": [
      "W =\n",
      " [[7.53763388e-04 0.00000000e+00 0.00000000e+00 0.00000000e+00\n",
      "  0.00000000e+00 0.00000000e+00 0.00000000e+00 0.00000000e+00]\n",
      " [0.00000000e+00 1.46496472e-03 0.00000000e+00 0.00000000e+00\n",
      "  0.00000000e+00 0.00000000e+00 0.00000000e+00 0.00000000e+00]\n",
      " [0.00000000e+00 0.00000000e+00 1.14360055e-03 0.00000000e+00\n",
      "  0.00000000e+00 0.00000000e+00 0.00000000e+00 0.00000000e+00]\n",
      " [0.00000000e+00 0.00000000e+00 0.00000000e+00 1.64275816e-02\n",
      "  0.00000000e+00 0.00000000e+00 0.00000000e+00 0.00000000e+00]\n",
      " [0.00000000e+00 0.00000000e+00 0.00000000e+00 0.00000000e+00\n",
      "  6.90983254e-02 0.00000000e+00 0.00000000e+00 0.00000000e+00]\n",
      " [0.00000000e+00 0.00000000e+00 0.00000000e+00 0.00000000e+00\n",
      "  0.00000000e+00 9.99898570e-01 0.00000000e+00 0.00000000e+00]\n",
      " [0.00000000e+00 0.00000000e+00 0.00000000e+00 0.00000000e+00\n",
      "  0.00000000e+00 0.00000000e+00 1.93802662e+00 0.00000000e+00]\n",
      " [0.00000000e+00 0.00000000e+00 0.00000000e+00 0.00000000e+00\n",
      "  0.00000000e+00 0.00000000e+00 0.00000000e+00 5.77849297e+00]]\n"
     ]
    }
   ],
   "source": [
    "# create a diagonal matrix\n",
    "W = np.diag(rexp**4)\n",
    "print(\"W =\\n\",W)"
   ]
  },
  {
   "cell_type": "code",
   "execution_count": 24,
   "metadata": {
    "colab": {
     "base_uri": "https://localhost:8080/",
     "height": 87
    },
    "colab_type": "code",
    "executionInfo": {
     "elapsed": 4112,
     "status": "ok",
     "timestamp": 1555596598425,
     "user": {
      "displayName": "Alexander Dowling",
      "photoUrl": "https://lh3.googleusercontent.com/-LChdQ2m5OQE/AAAAAAAAAAI/AAAAAAAAAA0/JeXJe4vQJ7M/s64/photo.jpg",
      "userId": "00988067626794866502"
     },
     "user_tz": 240
    },
    "id": "9gf-omf4nc4C",
    "outputId": "a6a54345-0af0-4146-c546-51b4cfb8d314"
   },
   "outputs": [
    {
     "name": "stdout",
     "output_type": "stream",
     "text": [
      "K = inv(XT W X) =\n",
      " [[ 1.02032931 -0.57830612  0.07783618]\n",
      " [-0.57830612  0.35399479 -0.05038669]\n",
      " [ 0.07783618 -0.05038669  0.0074915 ]]\n"
     ]
    }
   ],
   "source": [
    "# recall the transformation\n",
    "y = 1/rexp\n",
    "x = 1/Sexp\n",
    "\n",
    "# construct the feature matrix\n",
    "n = len(x)\n",
    "Xmm = np.ones((n,2))\n",
    "\n",
    "# first column - all ones\n",
    "# second column - 1/r\n",
    "Xmm[:,1] = x\n",
    "\n",
    "# calculate inverse of XT * X\n",
    "K = np.linalg.inv(Xmm.transpose() @ W @ Xmm)\n",
    "print(\"K = inv(XT W X) =\\n\",XXinv)"
   ]
  },
  {
   "cell_type": "code",
   "execution_count": 25,
   "metadata": {
    "colab": {
     "base_uri": "https://localhost:8080/",
     "height": 52
    },
    "colab_type": "code",
    "executionInfo": {
     "elapsed": 4098,
     "status": "ok",
     "timestamp": 1555596598426,
     "user": {
      "displayName": "Alexander Dowling",
      "photoUrl": "https://lh3.googleusercontent.com/-LChdQ2m5OQE/AAAAAAAAAAI/AAAAAAAAAA0/JeXJe4vQJ7M/s64/photo.jpg",
      "userId": "00988067626794866502"
     },
     "user_tz": 240
    },
    "id": "5WWzWIuVnc4G",
    "outputId": "69f1d776-cd48-48a6-a0aa-89ee7e82dbfd"
   },
   "outputs": [
    {
     "name": "stdout",
     "output_type": "stream",
     "text": [
      "beta_hat_w = \n",
      " [0.51985993 2.18101511]\n"
     ]
    }
   ],
   "source": [
    "# calculate beta_hat\n",
    "beta_hat_w = K @ Xmm.transpose() @ W @ y\n",
    "\n",
    "print(\"beta_hat_w = \\n\",beta_hat_w)"
   ]
  },
  {
   "cell_type": "code",
   "execution_count": null,
   "metadata": {
    "colab": {
     "base_uri": "https://localhost:8080/",
     "height": 283
    },
    "colab_type": "code",
    "collapsed": true,
    "executionInfo": {
     "elapsed": 4547,
     "status": "ok",
     "timestamp": 1555596598882,
     "user": {
      "displayName": "Alexander Dowling",
      "photoUrl": "https://lh3.googleusercontent.com/-LChdQ2m5OQE/AAAAAAAAAAI/AAAAAAAAAA0/JeXJe4vQJ7M/s64/photo.jpg",
      "userId": "00988067626794866502"
     },
     "user_tz": 240
    },
    "id": "oBZaGTEznc4J",
    "jupyter": {
     "outputs_hidden": true
    },
    "outputId": "e72c6f22-8b08-44b0-91b1-17cb4274da3b"
   },
   "outputs": [],
   "source": [
    "# generate predictions\n",
    "x_pred = np.linspace(np.min(x),np.max(x),1000)\n",
    "X_pred = np.ones((len(x_pred),2))\n",
    "X_pred[:,1] = x_pred\n",
    "y_pred = X_pred @ beta_hat_w\n",
    "\n",
    "# create plot\n",
    "plt.plot(x,y,'.b',MarkerSize=20,label='Data')\n",
    "plt.plot(x_pred,y_pred,'--g',LineWidth=3,label='Best Fit Line')\n",
    "plt.plot(1/S,1/r,'r-',LineWidth=3,label='True Model')\n",
    "plt.xlabel('1/[S] (L / mol)')\n",
    "plt.ylabel('1/r (L s / mol)')\n",
    "plt.grid(True)\n",
    "plt.legend()\n",
    "plt.show()"
   ]
  },
  {
   "cell_type": "code",
   "execution_count": null,
   "metadata": {
    "colab": {
     "base_uri": "https://localhost:8080/",
     "height": 283
    },
    "colab_type": "code",
    "collapsed": true,
    "executionInfo": {
     "elapsed": 4820,
     "status": "ok",
     "timestamp": 1555596599165,
     "user": {
      "displayName": "Alexander Dowling",
      "photoUrl": "https://lh3.googleusercontent.com/-LChdQ2m5OQE/AAAAAAAAAAI/AAAAAAAAAA0/JeXJe4vQJ7M/s64/photo.jpg",
      "userId": "00988067626794866502"
     },
     "user_tz": 240
    },
    "id": "RrNpP_zunc4O",
    "jupyter": {
     "outputs_hidden": true
    },
    "outputId": "fea5b033-b44d-4e7e-8fac-2b4ba45ad132"
   },
   "outputs": [],
   "source": [
    "# create plot\n",
    "plt.plot(Sexp,rexp,'.b',MarkerSize=20,label='Data')\n",
    "plt.plot(1/x_pred,1/y_pred,'--g',LineWidth=3,label='Best Fit Line')\n",
    "plt.plot(S,r,'r-',LineWidth=3,label='True Model')\n",
    "plt.xlabel('[S] (mol / L)')\n",
    "plt.ylabel('r (mol / L / s)')\n",
    "plt.grid(True)\n",
    "plt.legend()\n",
    "plt.show()"
   ]
  },
  {
   "cell_type": "markdown",
   "metadata": {
    "colab_type": "text",
    "id": "q0326G26nc4Q"
   },
   "source": [
    "#### Step 2. Residual Analysis"
   ]
  },
  {
   "cell_type": "code",
   "execution_count": null,
   "metadata": {
    "colab": {
     "base_uri": "https://localhost:8080/",
     "height": 283
    },
    "colab_type": "code",
    "collapsed": true,
    "executionInfo": {
     "elapsed": 5206,
     "status": "ok",
     "timestamp": 1555596599565,
     "user": {
      "displayName": "Alexander Dowling",
      "photoUrl": "https://lh3.googleusercontent.com/-LChdQ2m5OQE/AAAAAAAAAAI/AAAAAAAAAA0/JeXJe4vQJ7M/s64/photo.jpg",
      "userId": "00988067626794866502"
     },
     "user_tz": 240
    },
    "id": "i6BD3QU3nc4R",
    "jupyter": {
     "outputs_hidden": true
    },
    "outputId": "af5079f6-d2c9-4ada-f822-64088e2c41ef"
   },
   "outputs": [],
   "source": [
    "# Calculate residuals\n",
    "y_hat = Xmm @ beta_hat_w\n",
    "e = y - y_hat\n",
    "\n",
    "# plot histogram of residuals\n",
    "plt.hist(e)\n",
    "plt.xlabel(\"Residual (s L / mol)\")\n",
    "plt.ylabel(\"Frequency (count)\")\n",
    "plt.show()"
   ]
  },
  {
   "cell_type": "code",
   "execution_count": null,
   "metadata": {
    "colab": {
     "base_uri": "https://localhost:8080/",
     "height": 295
    },
    "colab_type": "code",
    "collapsed": true,
    "executionInfo": {
     "elapsed": 5320,
     "status": "ok",
     "timestamp": 1555596599689,
     "user": {
      "displayName": "Alexander Dowling",
      "photoUrl": "https://lh3.googleusercontent.com/-LChdQ2m5OQE/AAAAAAAAAAI/AAAAAAAAAA0/JeXJe4vQJ7M/s64/photo.jpg",
      "userId": "00988067626794866502"
     },
     "user_tz": 240
    },
    "id": "mN0HR5gync4U",
    "jupyter": {
     "outputs_hidden": true
    },
    "outputId": "a451c55a-9dd5-4066-be5f-ba82bb0c46ab"
   },
   "outputs": [],
   "source": [
    "# scatter plot of residuals\n",
    "plt.plot(y_hat,e,\"b.\",MarkerSize=20)\n",
    "plt.xlabel(\"Predicted 1/r (s L / mol)\")\n",
    "plt.ylabel(\"Residual (s L / mol)\")\n",
    "plt.grid(True)\n",
    "plt.title(\"Residuals vs. Predicted Value\")\n",
    "plt.show()"
   ]
  },
  {
   "cell_type": "code",
   "execution_count": null,
   "metadata": {
    "colab": {
     "base_uri": "https://localhost:8080/",
     "height": 295
    },
    "colab_type": "code",
    "collapsed": true,
    "executionInfo": {
     "elapsed": 5732,
     "status": "ok",
     "timestamp": 1555596600110,
     "user": {
      "displayName": "Alexander Dowling",
      "photoUrl": "https://lh3.googleusercontent.com/-LChdQ2m5OQE/AAAAAAAAAAI/AAAAAAAAAA0/JeXJe4vQJ7M/s64/photo.jpg",
      "userId": "00988067626794866502"
     },
     "user_tz": 240
    },
    "id": "_3xx5xmxnc4X",
    "jupyter": {
     "outputs_hidden": true
    },
    "outputId": "8be5c4ed-8df8-428d-e3a5-f6acb3a5ab23"
   },
   "outputs": [],
   "source": [
    "# another scatter plot\n",
    "plt.plot(x,e,\"b.\",MarkerSize=20)\n",
    "plt.xlabel(\"Dependent Variable 1/[S] (L / mol)\")\n",
    "plt.ylabel(\"Residual (s L / mol)\")\n",
    "plt.grid(True)\n",
    "plt.title(\"Residuals vs. Dependent Variable\")\n",
    "plt.show()"
   ]
  },
  {
   "cell_type": "markdown",
   "metadata": {
    "colab_type": "text",
    "id": "e87FwO2jnc4a"
   },
   "source": [
    "### Uncertainty Analysis\n",
    "\n",
    "We also need to incorporate the weight matrix into our uncertainty analysis:\n",
    "\n",
    "$$\n",
    "\\Sigma_{\\beta} = K X^T W \\Sigma_{e} W^T X K\n",
    "$$\n",
    "\n",
    "where $\\Sigma_{e}$ is the covariance matrix of the residuals. We often assume $\\Sigma_{e} = \\hat{\\sigma}_{e}^2 I$ where $I$ is an identity matrix."
   ]
  },
  {
   "cell_type": "code",
   "execution_count": null,
   "metadata": {
    "colab": {
     "base_uri": "https://localhost:8080/",
     "height": 35
    },
    "colab_type": "code",
    "collapsed": true,
    "executionInfo": {
     "elapsed": 5721,
     "status": "ok",
     "timestamp": 1555596600114,
     "user": {
      "displayName": "Alexander Dowling",
      "photoUrl": "https://lh3.googleusercontent.com/-LChdQ2m5OQE/AAAAAAAAAAI/AAAAAAAAAA0/JeXJe4vQJ7M/s64/photo.jpg",
      "userId": "00988067626794866502"
     },
     "user_tz": 240
    },
    "id": "TogVXXY3nc4b",
    "jupyter": {
     "outputs_hidden": true
    },
    "outputId": "c5aa55b7-c15d-4371-c71e-e5988274558f"
   },
   "outputs": [],
   "source": [
    "# calculate variance of residuals\n",
    "sigre = e @ e / (n-2)\n",
    "print(\"Variance of residuals =\",sigre)"
   ]
  },
  {
   "cell_type": "code",
   "execution_count": null,
   "metadata": {
    "colab": {
     "base_uri": "https://localhost:8080/",
     "height": 69
    },
    "colab_type": "code",
    "collapsed": true,
    "executionInfo": {
     "elapsed": 5717,
     "status": "ok",
     "timestamp": 1555596600119,
     "user": {
      "displayName": "Alexander Dowling",
      "photoUrl": "https://lh3.googleusercontent.com/-LChdQ2m5OQE/AAAAAAAAAAI/AAAAAAAAAA0/JeXJe4vQJ7M/s64/photo.jpg",
      "userId": "00988067626794866502"
     },
     "user_tz": 240
    },
    "id": "lzG-DH9pnc4h",
    "jupyter": {
     "outputs_hidden": true
    },
    "outputId": "95ab2822-4659-4c6a-94c4-3ab195d6d690"
   },
   "outputs": [],
   "source": [
    "# calculate covariance of fitted coefficients\n",
    "cov_beta = K @ Xmm.transpose() * sigre @ W.transpose() @ Xmm @ K\n",
    "print(\"covariance matrix:\\n\",cov_beta)"
   ]
  }
 ],
 "metadata": {
  "colab": {
   "name": "L23-Weighted-Multivariate-Regression.ipynb",
   "provenance": [],
   "version": "0.3.2"
  },
  "kernelspec": {
   "display_name": "Python 3 (ipykernel)",
   "language": "python",
   "name": "python3"
  },
  "language_info": {
   "codemirror_mode": {
    "name": "ipython",
    "version": 3
   },
   "file_extension": ".py",
   "mimetype": "text/x-python",
   "name": "python",
   "nbconvert_exporter": "python",
   "pygments_lexer": "ipython3",
   "version": "3.9.12"
  }
 },
 "nbformat": 4,
 "nbformat_minor": 4
}
