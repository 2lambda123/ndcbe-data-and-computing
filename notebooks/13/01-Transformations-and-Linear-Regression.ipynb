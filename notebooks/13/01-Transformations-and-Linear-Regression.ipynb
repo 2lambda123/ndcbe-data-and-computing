{
 "cells": [
  {
   "cell_type": "markdown",
   "metadata": {
    "colab_type": "text",
    "id": "jT17y5kMqAii"
   },
   "source": [
    "# Transformations and Linear Regression\n",
    "\n",
    "CBE 20258. Numerical and Statistical Analysis. Spring 2020.\n",
    "\n",
    "&#169; University of Notre Dame"
   ]
  },
  {
   "cell_type": "code",
   "execution_count": 1,
   "metadata": {
    "colab": {},
    "colab_type": "code",
    "id": "9yOdJ8EYqAij",
    "tags": []
   },
   "outputs": [],
   "source": [
    "# load libraries\n",
    "import scipy.stats as stats\n",
    "import numpy as np\n",
    "import scipy.optimize as optimize\n",
    "import math\n",
    "import matplotlib.pyplot as plt"
   ]
  },
  {
   "cell_type": "markdown",
   "metadata": {
    "colab_type": "text",
    "id": "u3Ej4bHAqAio"
   },
   "source": [
    "## Learning Objectives\n",
    "\n",
    "After studying this notebook, attending class, asking questions, and reviewing your notes, you should be able to:\n",
    "* Develop transformations for some nonlinear models and apply linear regression\n",
    "* Perform residual analysis for linear regression (as a diagnostic plot)\n",
    "* Calculate standard errors (i.e., standard deviation) of the residuals\n",
    "* Assemble the covariance matrix for linear regression using normal equations (i.e., feature matrix $\\mathbf{X}$)"
   ]
  },
  {
   "cell_type": "markdown",
   "metadata": {},
   "source": [
    "## Introduction"
   ]
  },
  {
   "cell_type": "markdown",
   "metadata": {},
   "source": [
    "Often as engineers, we need to model nonlinear phenomena. In this class session, we will learn how to extend ideas from linear regression to fit parameters that in nonlinear model equations. We will also learn how to estimate uncertainty in these fitted parameters.\n",
    "\n",
    "Unfortunately, Navidi (2015) does not cover nonlinear regression in detail. But do not fear! This notebook and our class session notes will cover all of the basics."
   ]
  },
  {
   "cell_type": "markdown",
   "metadata": {
    "colab_type": "text",
    "id": "N1O07jo_qAio"
   },
   "source": [
    "### Motivating Example and Dataset\n",
    "\n",
    "The **Michaelis-Menten** equation is an extremely popular model to describe the rate of enzymatic reactions.\n",
    "\n",
    "$$\n",
    "\\mathrm{E} + \\mathrm{S} \\leftrightharpoons \\mathrm{ES} \\rightarrow \\mathrm{E} + \\mathrm{P}\n",
    "$$\n",
    "\n",
    "Here E is the enzyme and S is the substrate. They bind to form the complex ES, which undergoes a reaction to create product P.\n",
    "\n",
    "A good approximation is to describe the rate of this reaction as follows:\n",
    "\n",
    "$$\n",
    "r = V_{max} \\frac{[\\mathrm{S}]}{K_M + [\\mathrm{S}]}\n",
    "$$\n",
    "\n",
    "Here $V_{max}$ and $K_M$ as fitted parameters. $[\\mathrm{S}]$ is the concentration of the substrate in solution and $r$ is the rate of the reaction.\n",
    "\n",
    "Additional information: https://en.wikipedia.org/wiki/Michaelis%E2%80%93Menten_kinetics"
   ]
  },
  {
   "cell_type": "markdown",
   "metadata": {},
   "source": [
    "<div style=\"background-color: rgba(0,255,0,0.05) ; padding: 10px; border: 1px solid darkgreen;\"> \n",
    "<b>Home Activity</b>: Spend a few minutes researching the Michaelis-Menten equation.\n",
    "</div>"
   ]
  },
  {
   "cell_type": "markdown",
   "metadata": {},
   "source": [
    "We need to start with some data. For this notebook, we are going to create an artificial (a.k.a.) synthetic data set by assuming values for $V_{max}$ and $K_M$ in the model."
   ]
  },
  {
   "cell_type": "code",
   "execution_count": 2,
   "metadata": {
    "tags": []
   },
   "outputs": [],
   "source": [
    "# Define exact coefficients\n",
    "Vmaxexact=2;\n",
    "Kmexact=5;"
   ]
  },
  {
   "cell_type": "markdown",
   "metadata": {},
   "source": [
    "<div style=\"background-color: rgba(0,255,0,0.05) ; padding: 10px; border: 1px solid darkgreen;\"> \n",
    "<b>Home Activity</b>: What are the units of $V_{max}$ and $K_M$ if $[\\mathrm{S}]$ has units mol/L and $r$ has units mol/L/s?\n",
    "</div>"
   ]
  },
  {
   "cell_type": "markdown",
   "metadata": {},
   "source": [
    "We are now going to evaluate our model at $[\\mathrm{S}]$ = .3, .4, 0.5, 1, 2, 4, 8, and 16 mol/L."
   ]
  },
  {
   "cell_type": "code",
   "execution_count": 3,
   "metadata": {
    "tags": []
   },
   "outputs": [],
   "source": [
    "# Evaluate model\n",
    "Sexp = np.array([.3, .4, 0.5, 1, 2, 4, 8, 16]);\n",
    "rexp = Vmaxexact*Sexp / (Kmexact+Sexp);"
   ]
  },
  {
   "cell_type": "markdown",
   "metadata": {},
   "source": [
    "Finally, we will add random noise to the calculated rates to simulate experimental observation errors."
   ]
  },
  {
   "cell_type": "code",
   "execution_count": 4,
   "metadata": {
    "tags": []
   },
   "outputs": [],
   "source": [
    "# Add some random error to simulate \n",
    "rexp += 0.05*np.random.normal(size=len(Sexp))"
   ]
  },
  {
   "cell_type": "markdown",
   "metadata": {},
   "source": [
    "<div style=\"background-color: rgba(0,255,0,0.05) ; padding: 10px; border: 1px solid darkgreen;\"> \n",
    "<b>Home Activity</b>: What are the four assumptions about measurement error for regression? Does this synthetic dataset satisfy the assumptions?\n",
    "</div>"
   ]
  },
  {
   "cell_type": "markdown",
   "metadata": {},
   "source": [
    "We will also plot the true model evaluated at 100 points."
   ]
  },
  {
   "cell_type": "code",
   "execution_count": 7,
   "metadata": {},
   "outputs": [
    {
     "data": {
      "image/png": "[encoded data removed]",
      "text/plain": [
       "<Figure size 432x288 with 1 Axes>"
      ]
     },
     "metadata": {
      "needs_background": "light"
     },
     "output_type": "display_data"
    }
   ],
   "source": [
    "# Evaluate model to plot smooth curve\n",
    "S = np.linspace(np.min(Sexp),np.max(Sexp),100)\n",
    "r = Vmaxexact*S / (Kmexact+S)\n",
    "\n",
    "plt.plot(S,r,'b-',linewidth=2,label=\"True Model\")\n",
    "plt.plot(Sexp,rexp,'r.',markersize=10,label=\"Experiments\")\n",
    "plt.xlabel('Substrace Concentration (mol/L)',fontsize=14)\n",
    "plt.ylabel('Product Formulation Rate, (mol/L/s)',fontsize=14)\n",
    "plt.legend()\n",
    "plt.show()"
   ]
  },
  {
   "cell_type": "markdown",
   "metadata": {
    "colab_type": "text",
    "id": "39T9fi-gqAit"
   },
   "source": [
    "## Transformation and Linear Regression"
   ]
  },
  {
   "cell_type": "markdown",
   "metadata": {},
   "source": [
    "It turns out we can apply a mathematical transformation to the independent and dependent variables to rewrite the Michaelis-Menten equation as a linear regression. Specifically,\n",
    "\n",
    "$$\\underbrace{\\frac{1}{r}}_{y} = \\beta_1 \\underbrace{\\frac{1}{[\\mathrm{S}]}}_{x} + \\beta_0$$"
   ]
  },
  {
   "cell_type": "markdown",
   "metadata": {},
   "source": [
    "<div style=\"background-color: rgba(0,255,0,0.05) ; padding: 10px; border: 1px solid darkgreen;\"> \n",
    "<b>Home Activity</b>: Show all of the steps to derive this model expression. Determine expressions to compute $V_{max}$ and $K_M$ from $\\beta_0$ and $\\beta_1$.\n",
    "</div>"
   ]
  },
  {
   "cell_type": "markdown",
   "metadata": {
    "colab_type": "text",
    "id": "dDqvtYptqAit"
   },
   "source": [
    "### Step 1: Calculate Best Fit and Plot"
   ]
  },
  {
   "cell_type": "markdown",
   "metadata": {},
   "source": [
    "We will start by performing linear regression with the transformed model. We will use the `linregress` function in `scipy.stats`."
   ]
  },
  {
   "cell_type": "markdown",
   "metadata": {},
   "source": [
    "<div style=\"background-color: rgba(0,0,255,0.05) ; padding: 10px; border: 1px solid darkblue;\"> \n",
    "<b>Class Activity</b>: Add units to the code below.\n",
    "</div>"
   ]
  },
  {
   "cell_type": "code",
   "execution_count": 8,
   "metadata": {
    "colab": {
     "base_uri": "https://localhost:8080/",
     "height": 102
    },
    "colab_type": "code",
    "executionInfo": {
     "elapsed": 1528,
     "status": "ok",
     "timestamp": 1554820378115,
     "user": {
      "displayName": "Alexander Dowling",
      "photoUrl": "https://lh3.googleusercontent.com/-LChdQ2m5OQE/AAAAAAAAAAI/AAAAAAAAAA0/JeXJe4vQJ7M/s64/photo.jpg",
      "userId": "00988067626794866502"
     },
     "user_tz": 240
    },
    "id": "jRpmOkWiqAiu",
    "outputId": "baaf0455-85d7-41bb-c46c-de403441952d"
   },
   "outputs": [
    {
     "name": "stdout",
     "output_type": "stream",
     "text": [
      "slope =  2.9677605415773445 add units\n",
      "intercept = 0.12371227155219744 add units\n",
      "r =  0.9817417148908613\n"
     ]
    }
   ],
   "source": [
    "y = 1/rexp\n",
    "x = 1/Sexp\n",
    "\n",
    "# note: the standard error is for the slope, not the residuals!\n",
    "b1_, b0_, r_value, p_value, std_err = stats.linregress(x, y)\n",
    "\n",
    "print(\"slope = \",b1_,\"add units\")\n",
    "print(\"intercept =\",b0_,\"add units\")\n",
    "print(\"r = \",r_value)\n"
   ]
  },
  {
   "cell_type": "markdown",
   "metadata": {},
   "source": [
    "Next, we can transform $\\beta_0$ and $\\beta_1$ into $V_{max}$ and $K_M$."
   ]
  },
  {
   "cell_type": "code",
   "execution_count": 9,
   "metadata": {},
   "outputs": [
    {
     "name": "stdout",
     "output_type": "stream",
     "text": [
      " \n",
      "Vmax =  8.083272479384343\n",
      "Km =  23.98921711113492\n"
     ]
    }
   ],
   "source": [
    "print(\" \")\n",
    "Vmax_lin = 1/b0_\n",
    "Km_lin = b1_ / b0_\n",
    "print(\"Vmax = \",Vmax_lin)\n",
    "print(\"Km = \",Km_lin)"
   ]
  },
  {
   "cell_type": "markdown",
   "metadata": {},
   "source": [
    "<div style=\"background-color: rgba(0,255,0,0.05) ; padding: 10px; border: 1px solid darkgreen;\"> \n",
    "<b>Home Activity</b>: Rerun your notebook. The answers will change. Why? (Hint: How did we generate the data.) You may find $V_{max}$ and $K_M$ are negative!\n",
    "</div>"
   ]
  },
  {
   "cell_type": "markdown",
   "metadata": {},
   "source": [
    "<div style=\"background-color: rgba(0,0,255,0.05) ; padding: 10px; border: 1px solid darkblue;\"> \n",
    "<b>Class Activity</b>: Discuss why $V_{max}$ and $K_M$ can be negative.\n",
    "</div>\n"
   ]
  },
  {
   "cell_type": "markdown",
   "metadata": {},
   "source": [
    "Now let's plot our fitted model. We will start by generated 100 points linearly spaced from the smallest to largest values in `x`. Then we will plot the best fit model in green."
   ]
  },
  {
   "cell_type": "code",
   "execution_count": 12,
   "metadata": {
    "colab": {
     "base_uri": "https://localhost:8080/",
     "height": 361
    },
    "colab_type": "code",
    "executionInfo": {
     "elapsed": 1506,
     "status": "ok",
     "timestamp": 1554820378117,
     "user": {
      "displayName": "Alexander Dowling",
      "photoUrl": "https://lh3.googleusercontent.com/-LChdQ2m5OQE/AAAAAAAAAAI/AAAAAAAAAA0/JeXJe4vQJ7M/s64/photo.jpg",
      "userId": "00988067626794866502"
     },
     "user_tz": 240
    },
    "id": "j5vIQEGKqAiy",
    "outputId": "9dc15f38-00ab-4bdd-fd36-a7efd232b7e1"
   },
   "outputs": [
    {
     "data": {
      "image/png": "[encoded data removed]",
      "text/plain": [
       "<Figure size 432x288 with 1 Axes>"
      ]
     },
     "metadata": {
      "needs_background": "light"
     },
     "output_type": "display_data"
    }
   ],
   "source": [
    "# generate predictions\n",
    "x_pred = np.linspace(np.min(x),np.max(x),1000)\n",
    "y_pred = b0_ + b1_ * x_pred\n",
    "\n",
    "# create plot\n",
    "plt.plot(x,y,'.b',markersize=20,label='Data')\n",
    "plt.plot(x_pred,y_pred,'--g',linewidth=3,label='Best Fit Line')\n",
    "plt.plot(1/S,1/r,'r-',linewidth=3,label='True Model')\n",
    "plt.xlabel('1/[S] (L / mol)')\n",
    "plt.ylabel('1/r (L s / mol)')\n",
    "plt.grid(True)\n",
    "plt.legend()\n",
    "plt.show()"
   ]
  },
  {
   "cell_type": "markdown",
   "metadata": {},
   "source": [
    "We can also plot in the original independent and dependent variables."
   ]
  },
  {
   "cell_type": "code",
   "execution_count": 15,
   "metadata": {
    "colab": {
     "base_uri": "https://localhost:8080/",
     "height": 361
    },
    "colab_type": "code",
    "executionInfo": {
     "elapsed": 1779,
     "status": "ok",
     "timestamp": 1554820378401,
     "user": {
      "displayName": "Alexander Dowling",
      "photoUrl": "https://lh3.googleusercontent.com/-LChdQ2m5OQE/AAAAAAAAAAI/AAAAAAAAAA0/JeXJe4vQJ7M/s64/photo.jpg",
      "userId": "00988067626794866502"
     },
     "user_tz": 240
    },
    "id": "_cKGsGzYqAi1",
    "outputId": "b7c302ec-43ce-439b-9b8f-9c624dda28a9"
   },
   "outputs": [
    {
     "data": {
      "image/png": "[encoded data removed]",
      "text/plain": [
       "<Figure size 432x288 with 1 Axes>"
      ]
     },
     "metadata": {
      "needs_background": "light"
     },
     "output_type": "display_data"
    }
   ],
   "source": [
    "# create plot\n",
    "plt.plot(Sexp,rexp,'.b',markersize=20,label='Data')\n",
    "plt.plot(1/x_pred,1/y_pred,'--g',linewidth=3,label='Best Fit Line')\n",
    "plt.plot(S,r,'r-',linewidth=3,label='True Model')\n",
    "plt.xlabel('[S] (mol / L)')\n",
    "plt.ylabel('r (mol / L / s)')\n",
    "plt.grid(True)\n",
    "plt.legend()\n",
    "plt.show()"
   ]
  },
  {
   "cell_type": "markdown",
   "metadata": {},
   "source": [
    "<div style=\"background-color: rgba(0,0,255,0.05) ; padding: 10px; border: 1px solid darkblue;\"> \n",
    "<b>Class Activity</b>: Discuss with your neighbor: why does the best fit line not appear to the fit the original data?\n",
    "</div>"
   ]
  },
  {
   "cell_type": "markdown",
   "metadata": {
    "colab_type": "text",
    "id": "hAISUWGBqAi3"
   },
   "source": [
    "### Step 2. Residual Analysis"
   ]
  },
  {
   "cell_type": "markdown",
   "metadata": {},
   "source": [
    "Let's proceed by analyzing the residuals. Recall, we check the residuals to verify for four assumptions about the errors."
   ]
  },
  {
   "cell_type": "markdown",
   "metadata": {
    "colab_type": "text",
    "id": "Bp5GBZ-PqAi4"
   },
   "source": [
    "#### Calculate Residuals"
   ]
  },
  {
   "cell_type": "code",
   "execution_count": 16,
   "metadata": {
    "colab": {},
    "colab_type": "code",
    "id": "SAzuWiDXqAi5",
    "tags": []
   },
   "outputs": [],
   "source": [
    "# prediction\n",
    "y_hat = b0_ + b1_ * x\n",
    "\n",
    "# residual\n",
    "e = y - y_hat"
   ]
  },
  {
   "cell_type": "markdown",
   "metadata": {
    "colab_type": "text",
    "id": "P0mYkH5uqAi7"
   },
   "source": [
    "#### Histogram of Residuals"
   ]
  },
  {
   "cell_type": "code",
   "execution_count": 17,
   "metadata": {
    "colab": {
     "base_uri": "https://localhost:8080/",
     "height": 361
    },
    "colab_type": "code",
    "executionInfo": {
     "elapsed": 1893,
     "status": "ok",
     "timestamp": 1554820378557,
     "user": {
      "displayName": "Alexander Dowling",
      "photoUrl": "https://lh3.googleusercontent.com/-LChdQ2m5OQE/AAAAAAAAAAI/AAAAAAAAAA0/JeXJe4vQJ7M/s64/photo.jpg",
      "userId": "00988067626794866502"
     },
     "user_tz": 240
    },
    "id": "afSV0eanqAi8",
    "outputId": "c5839ba1-9d6c-4e70-fb7f-850e2748b75b"
   },
   "outputs": [
    {
     "data": {
      "image/png": "[encoded data removed]",
      "text/plain": [
       "<Figure size 432x288 with 1 Axes>"
      ]
     },
     "metadata": {
      "needs_background": "light"
     },
     "output_type": "display_data"
    }
   ],
   "source": [
    "plt.hist(e)\n",
    "plt.xlabel(\"Residual (s L / mol)\")\n",
    "plt.ylabel(\"Frequency (count)\")\n",
    "plt.show()"
   ]
  },
  {
   "cell_type": "markdown",
   "metadata": {
    "colab_type": "text",
    "id": "Db0p7VFZqAi-"
   },
   "source": [
    "#### Scatter Plots of Residuals"
   ]
  },
  {
   "cell_type": "code",
   "execution_count": 19,
   "metadata": {
    "colab": {
     "base_uri": "https://localhost:8080/",
     "height": 376
    },
    "colab_type": "code",
    "executionInfo": {
     "elapsed": 2349,
     "status": "ok",
     "timestamp": 1554820379032,
     "user": {
      "displayName": "Alexander Dowling",
      "photoUrl": "https://lh3.googleusercontent.com/-LChdQ2m5OQE/AAAAAAAAAAI/AAAAAAAAAA0/JeXJe4vQJ7M/s64/photo.jpg",
      "userId": "00988067626794866502"
     },
     "user_tz": 240
    },
    "id": "LVgJWoWIqAi_",
    "outputId": "0adbf1c2-ea19-4515-b2e8-e1c06e6cbe63"
   },
   "outputs": [
    {
     "data": {
      "image/png": "[encoded data removed]",
      "text/plain": [
       "<Figure size 432x288 with 1 Axes>"
      ]
     },
     "metadata": {
      "needs_background": "light"
     },
     "output_type": "display_data"
    }
   ],
   "source": [
    "plt.plot(y_hat,e,\"b.\",markersize=20)\n",
    "plt.xlabel(\"Predicted 1/r (s L / mol)\")\n",
    "plt.ylabel(\"Residual (s L / mol)\")\n",
    "plt.grid(True)\n",
    "plt.title(\"Residuals vs. Predicted Value\")\n",
    "plt.show()"
   ]
  },
  {
   "cell_type": "code",
   "execution_count": 21,
   "metadata": {
    "colab": {
     "base_uri": "https://localhost:8080/",
     "height": 376
    },
    "colab_type": "code",
    "executionInfo": {
     "elapsed": 2654,
     "status": "ok",
     "timestamp": 1554820379347,
     "user": {
      "displayName": "Alexander Dowling",
      "photoUrl": "https://lh3.googleusercontent.com/-LChdQ2m5OQE/AAAAAAAAAAI/AAAAAAAAAA0/JeXJe4vQJ7M/s64/photo.jpg",
      "userId": "00988067626794866502"
     },
     "user_tz": 240
    },
    "id": "hzKuPfyxqAjB",
    "outputId": "48db2a60-93c9-48cc-b233-63efb89eeb02"
   },
   "outputs": [
    {
     "data": {
      "image/png": "[encoded data removed]",
      "text/plain": [
       "<Figure size 432x288 with 1 Axes>"
      ]
     },
     "metadata": {
      "needs_background": "light"
     },
     "output_type": "display_data"
    }
   ],
   "source": [
    "plt.plot(x,e,\"b.\",markersize=20)\n",
    "plt.xlabel(\"Independent Variable 1/[S] (L / mol)\")\n",
    "plt.ylabel(\"Residual (s L / mol)\")\n",
    "plt.grid(True)\n",
    "plt.title(\"Residuals vs. Independent Variable\")\n",
    "plt.show()"
   ]
  },
  {
   "cell_type": "markdown",
   "metadata": {
    "colab_type": "text",
    "id": "T6K-9c69qAjD"
   },
   "source": [
    "<div style=\"background-color: rgba(0,0,255,0.05) ; padding: 10px; border: 1px solid darkblue;\"> \n",
    "<b>Class Activity</b>: Do the residuals pass the diagnostic tests? Discuss with your neighbor."
   ]
  },
  {
   "cell_type": "markdown",
   "metadata": {
    "colab_type": "text",
    "id": "JqqK0WHnqAjD"
   },
   "source": [
    "### Step 3. Uncertainty Analysis / Calculate Covariance Matrix\n",
    "\n",
    "We can easily calculate the covariance matrix for $\\beta$ = $[\\beta_0, \\beta_1]^T$:"
   ]
  },
  {
   "cell_type": "code",
   "execution_count": 22,
   "metadata": {
    "colab": {
     "base_uri": "https://localhost:8080/",
     "height": 170
    },
    "colab_type": "code",
    "executionInfo": {
     "elapsed": 2645,
     "status": "ok",
     "timestamp": 1554820379350,
     "user": {
      "displayName": "Alexander Dowling",
      "photoUrl": "https://lh3.googleusercontent.com/-LChdQ2m5OQE/AAAAAAAAAAI/AAAAAAAAAA0/JeXJe4vQJ7M/s64/photo.jpg",
      "userId": "00988067626794866502"
     },
     "user_tz": 240
    },
    "id": "jgdbkpbGqAjE",
    "outputId": "f6ce51ec-6af5-47b5-fbb2-ef455a78d73a"
   },
   "outputs": [
    {
     "name": "stdout",
     "output_type": "stream",
     "text": [
      "X =\n",
      " [[1.         3.33333333]\n",
      " [1.         2.5       ]\n",
      " [1.         2.        ]\n",
      " [1.         1.        ]\n",
      " [1.         0.5       ]\n",
      " [1.         0.25      ]\n",
      " [1.         0.125     ]\n",
      " [1.         0.0625    ]]\n"
     ]
    }
   ],
   "source": [
    "# assemble feature matrix\n",
    "X = np.ones((len(x),2))\n",
    "X[:,1] = x\n",
    "\n",
    "print(\"X =\\n\",X)"
   ]
  },
  {
   "cell_type": "code",
   "execution_count": 23,
   "metadata": {
    "colab": {
     "base_uri": "https://localhost:8080/",
     "height": 68
    },
    "colab_type": "code",
    "executionInfo": {
     "elapsed": 2617,
     "status": "ok",
     "timestamp": 1554820379352,
     "user": {
      "displayName": "Alexander Dowling",
      "photoUrl": "https://lh3.googleusercontent.com/-LChdQ2m5OQE/AAAAAAAAAAI/AAAAAAAAAA0/JeXJe4vQJ7M/s64/photo.jpg",
      "userId": "00988067626794866502"
     },
     "user_tz": 240
    },
    "id": "BSF4StmEqAjG",
    "outputId": "7e4c0870-8ebb-4f9b-8d58-9f8cfd64ff14"
   },
   "outputs": [
    {
     "name": "stdout",
     "output_type": "stream",
     "text": [
      "inv(XT X) =\n",
      " [[ 0.2636409  -0.11351409]\n",
      " [-0.11351409  0.09294117]]\n"
     ]
    }
   ],
   "source": [
    "# calculate inverse of XT * X\n",
    "XXinv = np.linalg.inv(X.transpose().dot(X))\n",
    "print(\"inv(XT X) =\\n\",XXinv)"
   ]
  },
  {
   "cell_type": "code",
   "execution_count": 24,
   "metadata": {
    "colab": {
     "base_uri": "https://localhost:8080/",
     "height": 34
    },
    "colab_type": "code",
    "executionInfo": {
     "elapsed": 2609,
     "status": "ok",
     "timestamp": 1554820379353,
     "user": {
      "displayName": "Alexander Dowling",
      "photoUrl": "https://lh3.googleusercontent.com/-LChdQ2m5OQE/AAAAAAAAAAI/AAAAAAAAAA0/JeXJe4vQJ7M/s64/photo.jpg",
      "userId": "00988067626794866502"
     },
     "user_tz": 240
    },
    "id": "Lb0XZLYfqAjK",
    "outputId": "b72d292a-3ac5-461c-ebb0-d72e08c9294d"
   },
   "outputs": [
    {
     "name": "stdout",
     "output_type": "stream",
     "text": [
      "beta_hat = [0.12371227 2.96776054]\n"
     ]
    }
   ],
   "source": [
    "# recall we can calculate the best fit coefficients with linear algebra\n",
    "beta_hat = XXinv @ X.transpose() @ y\n",
    "print(\"beta_hat =\",beta_hat)"
   ]
  },
  {
   "cell_type": "markdown",
   "metadata": {
    "colab_type": "text",
    "id": "1ed-aBdUqAjM"
   },
   "source": [
    "Recall from Class 20:\n",
    "\n",
    "$$\\Sigma_{\\hat{\\beta}} = \\hat{\\sigma}^2  (\\mathbf{X}^T \\mathbf{X})^{-1}$$"
   ]
  },
  {
   "cell_type": "code",
   "execution_count": 25,
   "metadata": {
    "colab": {
     "base_uri": "https://localhost:8080/",
     "height": 34
    },
    "colab_type": "code",
    "executionInfo": {
     "elapsed": 2597,
     "status": "ok",
     "timestamp": 1554820379355,
     "user": {
      "displayName": "Alexander Dowling",
      "photoUrl": "https://lh3.googleusercontent.com/-LChdQ2m5OQE/AAAAAAAAAAI/AAAAAAAAAA0/JeXJe4vQJ7M/s64/photo.jpg",
      "userId": "00988067626794866502"
     },
     "user_tz": 240
    },
    "id": "akqgBRReqAjN",
    "outputId": "e38f558b-b4cf-43d0-f745-eb604f95ecb8"
   },
   "outputs": [
    {
     "name": "stdout",
     "output_type": "stream",
     "text": [
      "standard error = 0.7700260810592973\n"
     ]
    }
   ],
   "source": [
    "# calculate standard error (standard deviation) of residuals\n",
    "se = math.sqrt((e @ e) / (len(x) - 2))\n",
    "print(\"standard error =\",se)"
   ]
  },
  {
   "cell_type": "code",
   "execution_count": 26,
   "metadata": {
    "colab": {
     "base_uri": "https://localhost:8080/",
     "height": 68
    },
    "colab_type": "code",
    "executionInfo": {
     "elapsed": 2590,
     "status": "ok",
     "timestamp": 1554820379356,
     "user": {
      "displayName": "Alexander Dowling",
      "photoUrl": "https://lh3.googleusercontent.com/-LChdQ2m5OQE/AAAAAAAAAAI/AAAAAAAAAA0/JeXJe4vQJ7M/s64/photo.jpg",
      "userId": "00988067626794866502"
     },
     "user_tz": 240
    },
    "id": "DDM7fh_4qAjP",
    "outputId": "bfb676f0-f363-4fc8-e261-ccc614e7e281"
   },
   "outputs": [
    {
     "name": "stdout",
     "output_type": "stream",
     "text": [
      "covariance matrix:\n",
      " [[ 0.15632328 -0.06730706]\n",
      " [-0.06730706  0.05510855]]\n"
     ]
    }
   ],
   "source": [
    "# compute covariance matrix\n",
    "Sigma_beta = se**2 * XXinv\n",
    "print(\"covariance matrix:\\n\",Sigma_beta)"
   ]
  },
  {
   "cell_type": "markdown",
   "metadata": {
    "colab_type": "text",
    "id": "sCP_LZ3MqAjR"
   },
   "source": [
    "But the above covariance matrix is defined in terms of $\\beta_0$ and $\\beta_1$. Recall the transformation:\n",
    "\n",
    "$$\\beta_1 = \\frac{K_m}{V_{max}}, \\qquad \\beta_0 = \\frac{1}{V_{max}}$$\n",
    "\n",
    "We can now apply the nonlinear error propagation formula.\n",
    "\n",
    "Let $\\beta$ = [$\\beta_0$,$\\beta_1$] and $\\theta$ = [$V_{max}$, $K_m$]\n",
    "\n",
    "$$\n",
    "\\Sigma_{\\theta} \\approx (\\nabla_{\\beta} \\theta) ~ \\Sigma_{\\beta} ~ (\\nabla_{\\beta} \\theta)^T\n",
    "$$"
   ]
  },
  {
   "cell_type": "markdown",
   "metadata": {},
   "source": [
    "<div style=\"background-color: rgba(0,255,0,0.05) ; padding: 10px; border: 1px solid darkgreen;\"> \n",
    "<b>Home Activity</b>: Derive the Jacobian matrix $\\nabla_{\\theta} \\beta$ with pencil and paper.\n",
    "</div>"
   ]
  },
  {
   "cell_type": "code",
   "execution_count": 27,
   "metadata": {
    "colab": {
     "base_uri": "https://localhost:8080/",
     "height": 68
    },
    "colab_type": "code",
    "executionInfo": {
     "elapsed": 2560,
     "status": "ok",
     "timestamp": 1554820379357,
     "user": {
      "displayName": "Alexander Dowling",
      "photoUrl": "https://lh3.googleusercontent.com/-LChdQ2m5OQE/AAAAAAAAAAI/AAAAAAAAAA0/JeXJe4vQJ7M/s64/photo.jpg",
      "userId": "00988067626794866502"
     },
     "user_tz": 240
    },
    "id": "1mC6jg7HqAjS",
    "outputId": "e0bf03b1-afe7-44fb-c2fb-77a073c71c82"
   },
   "outputs": [
    {
     "name": "stdout",
     "output_type": "stream",
     "text": [
      "Jacobian =\n",
      " [[ -65.33929398    0.        ]\n",
      " [-193.91137848    8.08327248]]\n"
     ]
    }
   ],
   "source": [
    "## Calculate Jacobian matrix\n",
    "###Express Thetas in terms of betas: Vmax = 1/b_0, Km = b_1/b_0\n",
    "# gradient of Vmax w.r.t. beta\n",
    "gradVmax = [-1/b0_**2, 0]\n",
    "\n",
    "# gradient of Km w.r.t beta\n",
    "gradKm = [-b1_ / b0_**2, 1/b0_]\n",
    "\n",
    "# assemble Jacobian\n",
    "jac = np.array([gradVmax, gradKm])\n",
    "\n",
    "print(\"Jacobian =\\n\",jac)"
   ]
  },
  {
   "cell_type": "code",
   "execution_count": 28,
   "metadata": {
    "colab": {
     "base_uri": "https://localhost:8080/",
     "height": 68
    },
    "colab_type": "code",
    "executionInfo": {
     "elapsed": 2543,
     "status": "ok",
     "timestamp": 1554820379358,
     "user": {
      "displayName": "Alexander Dowling",
      "photoUrl": "https://lh3.googleusercontent.com/-LChdQ2m5OQE/AAAAAAAAAAI/AAAAAAAAAA0/JeXJe4vQJ7M/s64/photo.jpg",
      "userId": "00988067626794866502"
     },
     "user_tz": 240
    },
    "id": "bdr1NYESqAjU",
    "outputId": "ccb6e9a9-1539-4314-b3c9-a69940a4f4a3"
   },
   "outputs": [
    {
     "name": "stdout",
     "output_type": "stream",
     "text": [
      "Covariance matrix =\n",
      " [[ 667.37899487 2016.1696293 ]\n",
      " [2016.1696293  6092.60910407]]\n"
     ]
    }
   ],
   "source": [
    "## Compute covariance matrix for parameters of interest\n",
    "Sigma_theta = jac @ Sigma_beta @ jac.T\n",
    "print(\"Covariance matrix =\\n\",Sigma_theta)"
   ]
  },
  {
   "cell_type": "markdown",
   "metadata": {
    "colab_type": "text",
    "id": "W9g4BaghqAjX"
   },
   "source": [
    "### Final Thoughts\n",
    "\n",
    "* Transformations allow us to fit *some nonlinear models* using the machinery of linear regression.\n",
    "* In the old days, engineering would compute linear regression best fits using a slide rule or simple calculator.\n",
    "* Transformations distort the residuals (errors).\n",
    "* We will revisit this example to motivate weighted regression. I do not recommend linear regression for this problem."
   ]
  }
 ],
 "metadata": {
  "colab": {
   "name": "L21-Transformations-and-Nonlinear-Regression.ipynb",
   "provenance": [],
   "version": "0.3.2"
  },
  "kernelspec": {
   "display_name": "Python 3 (ipykernel)",
   "language": "python",
   "name": "python3"
  },
  "language_info": {
   "codemirror_mode": {
    "name": "ipython",
    "version": 3
   },
   "file_extension": ".py",
   "mimetype": "text/x-python",
   "name": "python",
   "nbconvert_exporter": "python",
   "pygments_lexer": "ipython3",
   "version": "3.9.12"
  }
 },
 "nbformat": 4,
 "nbformat_minor": 4
}
