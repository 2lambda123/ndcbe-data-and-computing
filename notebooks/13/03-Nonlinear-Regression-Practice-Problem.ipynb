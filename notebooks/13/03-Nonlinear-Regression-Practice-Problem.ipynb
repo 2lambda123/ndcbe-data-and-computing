{
 "cells": [
  {
   "cell_type": "markdown",
   "metadata": {
    "colab_type": "text",
    "id": "jT17y5kMqAii"
   },
   "source": [
    "# Nonlinear Regression Practice Problem\n",
    "\n",
    "CBE 20258. Numerical and Statistical Analysis. Spring 2020.\n",
    "\n",
    "&#169; University of Notre Dame"
   ]
  },
  {
   "cell_type": "code",
   "execution_count": 1,
   "metadata": {
    "colab": {},
    "colab_type": "code",
    "id": "9yOdJ8EYqAij",
    "tags": []
   },
   "outputs": [],
   "source": [
    "# load libraries\n",
    "import scipy.stats as stats\n",
    "import numpy as np\n",
    "import scipy.optimize as optimize\n",
    "import math\n",
    "import matplotlib.pyplot as plt"
   ]
  },
  {
   "cell_type": "markdown",
   "metadata": {
    "colab_type": "text",
    "id": "u3Ej4bHAqAio"
   },
   "source": [
    "## Learning Objectives\n",
    "\n",
    "After studying this notebook, attending class, asking questions, and reviewing your notes, you should be able to:\n",
    "* Develop transformations for some nonlinear models and apply linear regression\n",
    "* Perform residual analysis for linear and nonlinear regression (as diagnostic plots for both)\n",
    "* Calculate standard errors (i.e., standard deviation) of the residuals\n",
    "* Assemble the covariance matrix for linear regression using normal equations (i.e., feature matrix $\\mathbf{X}$)\n",
    "* Calculate nonlinear regression best fit using Python\n",
    "* Assemble the covariance matrix for nonlinear regression"
   ]
  },
  {
   "cell_type": "markdown",
   "metadata": {},
   "source": [
    "## Nonlinear Regression Practice Problem\n",
    "\n",
    "For this question, you will use nonlinear regression to analyze the kinetics of an indicator in a strong base.\n",
    "\n",
    "### Background\n",
    "\n",
    "Phenolphthalein is a base indicator (it turns a pretty purple), but in the presence of a strong base, it will fade over time.  This is a reversible reaction: pseudo first order in the forward (fading) direction (it is actually second order, but there is so much $[OH^-]$ that it can be simplified as pseudo first order) and first order in the reverse direction. The rate expression is:\n",
    "\n",
    "\\begin{equation} \n",
    "\\frac{d[P]}{dt} = -k_{1}[P][OH^-]+k_{2}[POH] ~,\n",
    "\\end{equation}\n",
    "\n",
    "where $k_{1}' = k_{1}  \\cdot [OH^-]$ is the pseudo first order rate. $[POH]$ is only produced from this reaction, thus we have the mass balance:\n",
    "\n",
    "\\begin{equation}\n",
    "[POH] = [POH]\\Big|_{t=0}+([P]_{0}-[P]) ~.\n",
    "\\end{equation}\n",
    "\n",
    "With the initial conditions:\n",
    "\n",
    "\\begin{equation}\n",
    "[P]\\Big|_{t=0}=[P]_{0}\\qquad; \\qquad [POH]\\Big|_{t=0}=0 ~.\n",
    "\\end{equation}\n",
    "\n",
    "We can solve these equations to get the solution:\n",
    "\n",
    "\\begin{equation}\n",
    "[P] = [P]_{0}\\Big(\\frac{k_{2}}{k_{1}'+k_{2}}+\\frac{k_{1}'}{k_{1}'+k_{2}}e^{-(k_{1}'+k_{2})t}\\Big) ~.\n",
    "\\end{equation}\n",
    "\n",
    "We seek best fit values for parameters \n",
    "\\begin{equation}\n",
    "k=\\begin{bmatrix}k_{1}' & k_{2} & k_{eq}\\end{bmatrix}^T ~.\n",
    "\\end{equation}\n",
    "\n",
    "However, this problem is poorly scaled with respect to $k$. Instead, we will transform it to obtain:\n",
    "\n",
    "\\begin{equation} \n",
    "[P] = [P]_{eq}+([P]_{0}-[P]_{eq})e^{-\\lambda t}\n",
    "\\end{equation}\n",
    "\n",
    "where $\\lambda=k_{1}'+k_{2}$. These two rate constants can be calculated from the ratio of the initial and equilibrium concentrations and the exponential decay rate.\n",
    "\n",
    "Consider an experiment where students introduce a dilute amount of phenolphthalein into a 0.1M NaOH solution.  Using a colorimeter, students measure the following absorbances as a function of time:\n",
    "\n",
    "| Time (min) | Absorbance |\n",
    "|-|-|\n",
    "| 0 | 1.1546 |\n",
    "| 10 | 0.9456 |\n",
    "| 20 | 0.8257 |\n",
    "| 30 | 0.7442 |\n",
    "| 40 | 0.6310 |\n",
    "| 50 | 0.5536 |\n",
    "| 60 | 0.4738 |\n",
    "| 70 | 0.4507 |\n",
    "| 80 | 0.3671 |\n",
    "| 90 | 0.3826 |\n",
    "| 100 | 0.3574 |\n",
    "| 110 | 0.2926 |\n",
    "| 120 | 0.3105 |\n",
    "\t\t\n",
    "Because the solution is so dilute, the absorbance obeys Beer's Law; thus the absorbance is proportional to the concentration.  "
   ]
  },
  {
   "cell_type": "markdown",
   "metadata": {},
   "source": [
    "### Transform Model Parameters\n",
    "\n",
    "On paper, derive expressions for:\n",
    "\n",
    "1. $k_{1}'$, \n",
    "2. $k_{2}$,\n",
    "3. and $k_{eq}$ \n",
    "\n",
    "in terms of $P_0, P_{eq}, \\lambda$. \n",
    "\n",
    "Show your work. *Hint*: $k_{eq} = k'_1 / k_2$. "
   ]
  },
  {
   "cell_type": "markdown",
   "metadata": {},
   "source": [
    "### Perform Nonlinear Regression\n",
    "\n",
    "Compute the best fit values for parameters $x = [~ [P]_0, [P]_{eq}, \\lambda ~]^T$ using the experimental data. Call your solution vector `x_sol` and store your answers in variables `P0`, `Peq`, and `l`."
   ]
  },
  {
   "cell_type": "code",
   "execution_count": 2,
   "metadata": {
    "tags": []
   },
   "outputs": [],
   "source": [
    "# time and concentration data\n",
    "data = np.array([[0, 1.1546],\n",
    "                [10, 0.9456],\n",
    "                [20, 0.8257],\n",
    "                [30, 0.7442],\n",
    "                [40, 0.631],\n",
    "                [50, 0.5536],\n",
    "                [60, 0.4738],\n",
    "                [70, 0.4507],\n",
    "                [80, 0.3671],\n",
    "                [90, 0.3826],\n",
    "                [100, 0.3754],\n",
    "                [110, 0.2926],\n",
    "                [120, 0.3105]])\n",
    "\n",
    "t = data[:,0] # the times, min\n",
    "p = data[:,1] # the concentrations, M\n",
    "n = len(t) # number of data points"
   ]
  },
  {
   "cell_type": "code",
   "execution_count": 3,
   "metadata": {
    "tags": []
   },
   "outputs": [],
   "source": [
    "# define functions to evaluation model and residuals.\n",
    "\n",
    "\n",
    "def model_func(x, t):\n",
    "    '''\n",
    "    Function to define model being fitted\n",
    "    Arguments:\n",
    "        x: parameter vector\n",
    "        t: time vector\n",
    "    Returns:\n",
    "        model: matrix of equations\n",
    "    '''\n",
    "    ### BEGIN SOLUTION\n",
    "    \n",
    "    model = x[1]+(x[0]-x[1])*np.exp(-x[2]*t)\n",
    "    \n",
    "    ### END SOLUTION\n",
    "    \n",
    "    return model\n",
    "    \n",
    "def regression_func(x, t, p):\n",
    "    '''\n",
    "    Function to define regression function for least-squares fitting\n",
    "    Arguments:\n",
    "        x: parameter vector\n",
    "        t: time vector\n",
    "        p: concentrations vector\n",
    "    Returns:\n",
    "        r: residuals\n",
    "    '''\n",
    "    ### BEGIN SOLUTION\n",
    "    r = p - model_func(x,t);\n",
    "    ### END SOLUTION\n",
    "    \n",
    "    return r\n"
   ]
  },
  {
   "cell_type": "code",
   "execution_count": 4,
   "metadata": {},
   "outputs": [
    {
     "name": "stdout",
     "output_type": "stream",
     "text": [
      "1.1428633173643805 0.2285933821677709 0.020845031052624387\n"
     ]
    }
   ],
   "source": [
    "#Find parameters (remember to save in x_sol)\n",
    "### BEGIN SOLUTION\n",
    "x_guess = np.array([1, 1, 1])\n",
    "\n",
    "x_vals = optimize.least_squares(regression_func, x_guess,method='lm',\n",
    "                                args=(t, p))\n",
    "\n",
    "x_sol = x_vals.x\n",
    "\n",
    "P0 = x_sol[0]\n",
    "Peq = x_sol[1]\n",
    "l = x_sol[2]\n",
    "\n",
    "print(P0, Peq, l)\n",
    "### END SOLUTION"
   ]
  },
  {
   "cell_type": "markdown",
   "metadata": {},
   "source": [
    "### Plot Residuals and Fitted Model\n",
    "\n",
    "A critical assumption in regression analysis is that the model errors are independent and identically distributed. Do the following to check this assumption:\n",
    "1. Calculate the residuals. Save the answer in the variable `res`.\n",
    "2. Plot the residuals vs. time\n",
    "3. Plot concentration prediction (from your model) vs. time. On the same graph, plot the experimental data.\n",
    "4. Write at least two sentences to interpret the plots.\n"
   ]
  },
  {
   "cell_type": "code",
   "execution_count": 5,
   "metadata": {},
   "outputs": [
    {
     "data": {
      "image/png": "[encoded data removed]",
      "text/plain": [
       "<Figure size 432x288 with 1 Axes>"
      ]
     },
     "metadata": {
      "needs_background": "light"
     },
     "output_type": "display_data"
    },
    {
     "data": {
      "image/png": "[encoded data removed]",
      "text/plain": [
       "<Figure size 432x288 with 1 Axes>"
      ]
     },
     "metadata": {
      "needs_background": "light"
     },
     "output_type": "display_data"
    }
   ],
   "source": [
    "### BEGIN SOLUTION\n",
    "# Plot residuals\n",
    "model = model_func(x_sol,t);\n",
    "res = p - model;\n",
    "\n",
    "plt.plot(t,res,'o')\n",
    "plt.xlabel('time, t (min)')\n",
    "plt.ylabel('Residual Concentration (M)')\n",
    "plt.title('Plot of Residuals')\n",
    "plt.show()\n",
    "\n",
    "# Plot fitted model and original data\n",
    "tplot = np.linspace(0,120,100);\n",
    "pplot = model_func(x_sol,tplot);\n",
    "\n",
    "plt.plot(tplot,pplot)\n",
    "plt.plot(t,p,'o')\n",
    "plt.xlabel('time, t (min)')\n",
    "plt.ylabel('Concentration (M)')\n",
    "plt.title('Fitted Exponential Decay Model')\n",
    "plt.legend(['model','data'], loc='best')\n",
    "plt.show()\n",
    "\n",
    "### END SOLUTION"
   ]
  },
  {
   "cell_type": "markdown",
   "metadata": {},
   "source": [
    "### Covariance Matrix\n",
    "\n",
    "We can quickly estimate the covariance matrix:\n",
    "\n",
    "\\begin{equation}\n",
    "\t\\Sigma_x \\approx {\\hat{\\sigma}}^2_r \\left( J^T J \\right)^{-1}\n",
    "\\end{equation}\n",
    "\n",
    "where $\\hat{\\sigma}^2_r$ is the variance of the residuals and $J$ is the Jacobian of the residuals with respect to the model parameters $x$.\n",
    "\n",
    "Do the following on paper:\n",
    "1. Assemble the gradient vectors $\\nabla_{x} k_{1}'$, $\\nabla_{x} k_{2}$, and $\\nabla_{x} k_{eq}$.\n",
    "2. Write the formula to calculate the covariance matrix $\\Sigma_{k}$. Hint: look at your notes for multivariate error propagation.\n",
    "3. Write the equations to calculate $\\sigma_{K_{eq}}$ and its 95% confidence interval. Leave your answers in symbolic form.\n",
    "\n",
    "Finally, implement the calculations (above steps) in Python. You will need to start by calculating $\\Sigma_x$. Report the standard deviation of the equilibrium constant and the 95% confidence interval with the units and a reasonable number of significant digits.  "
   ]
  },
  {
   "cell_type": "code",
   "execution_count": 6,
   "metadata": {},
   "outputs": [
    {
     "name": "stdout",
     "output_type": "stream",
     "text": [
      "Variance of residuals = 0.0005 M^2\n",
      "\n",
      "Covariance matrix of x =\n",
      " [[3.68684559e-04 2.24826268e-04 2.02814257e-05]\n",
      " [2.24826268e-04 7.98877392e-04 4.56687950e-05]\n",
      " [2.02814257e-05 4.56687950e-05 3.04396715e-06]]\n",
      "\n",
      "Jacobian of k =\n",
      " [[ 3.64819138e-03 -1.82393036e-02  7.99981871e-01]\n",
      " [-3.64819138e-03  1.82393036e-02  2.00018129e-01]\n",
      " [ 4.37457983e+00 -2.18709167e+01  0.00000000e+00]]\n",
      "\n",
      "Covariance matrix of k =\n",
      " [[ 9.74466946e-07  7.01675092e-07 -4.39373152e-04]\n",
      " [ 7.01675092e-07  6.66150016e-07 -4.70722543e-04]\n",
      " [-4.39373152e-04 -4.70722543e-04  3.46167123e-01]]\n",
      "\n",
      "Standard deviation of keq = 0.5884\n",
      "t =  [-2.22813885  2.22813885]\n",
      "\n",
      "95% confidence interval for Keq: [2.6886, 5.3105]\n"
     ]
    }
   ],
   "source": [
    "### BEGIN SOLUTION\n",
    "## Assemble covariance matrix another way\n",
    "\n",
    "# Calculate the variance in the random error from the residuals\n",
    "sigre = res.T@res / (n-3)\n",
    "print('Variance of residuals = {0:0.4f} M^2\\n'.format(sigre))\n",
    "variance = sigre\n",
    "\n",
    "cov_x = sigre*np.linalg.inv(x_vals.jac.T @ x_vals.jac)\n",
    "print(\"Covariance matrix of x =\\n\",cov_x)\n",
    "\n",
    "# Calcuate Keq\n",
    "Keq = x_sol[0]/x_sol[1] - 1\n",
    "\n",
    "# Calculate Jacobian matrix\n",
    "gradk1 = [x_sol[1]*x_sol[2]/x_sol[0]**2,-x_sol[2]/x_sol[0],1-x_sol[1]/x_sol[0]]\n",
    "\n",
    "gradk2 = [-x_sol[1]*x_sol[2]/x_sol[0]**2,x_sol[2]/x_sol[0],x_sol[1]/x_sol[0]]\n",
    "\n",
    "gradKeq = [1/x_sol[1],-x_sol[0]/x_sol[1]**2,0]\n",
    "\n",
    "gradf = np.array([gradk1,gradk2,gradKeq])\n",
    "\n",
    "print(\"\\nJacobian of k =\\n\",gradf)\n",
    "\n",
    "# Calculate covariance matrix of k\n",
    "varkmc = gradf@cov_x@gradf.T\n",
    "print(\"\\nCovariance matrix of k =\\n\",varkmc)\n",
    "\n",
    "# Calculate the 95% confidence interval for Keq\n",
    "sigKeqmc = varkmc[2,2]**0.5\n",
    "stdev_7 = sigKeqmc\n",
    "print(\"\\nStandard deviation of keq = {0:0.4f}\".format(sigKeqmc))\n",
    "tstar = stats.t.ppf([.025, .975], n-3)\n",
    "print(\"t = \",tstar)\n",
    "Keqintervalmc = Keq + sigKeqmc*tstar\n",
    "\n",
    "print(\"\\n95% confidence interval for Keq: [{0:0.4f}, {1:0.4f}]\".\\\n",
    "      format(Keqintervalmc[0],Keqintervalmc[1]))\n",
    "lb_7 = Keqintervalmc[0]\n",
    "ub_7 = Keqintervalmc[1]\n",
    "\n",
    "### END SOLUTION"
   ]
  },
  {
   "cell_type": "markdown",
   "metadata": {
    "colab_type": "text",
    "id": "Ue5AgFmCqAjt"
   },
   "source": [
    "### Final Thoughts\n",
    "\n",
    "* Residuals look much better with nonlinear regression\n",
    "* Covariance matrix is much more reasonable\n",
    "* Nonlinear regression is not that expensive or difficult, especially with Python and modern optimization algorithms"
   ]
  }
 ],
 "metadata": {
  "colab": {
   "name": "L21-Transformations-and-Nonlinear-Regression.ipynb",
   "provenance": [],
   "version": "0.3.2"
  },
  "kernelspec": {
   "display_name": "Python 3 (ipykernel)",
   "language": "python",
   "name": "python3"
  },
  "language_info": {
   "codemirror_mode": {
    "name": "ipython",
    "version": 3
   },
   "file_extension": ".py",
   "mimetype": "text/x-python",
   "name": "python",
   "nbconvert_exporter": "python",
   "pygments_lexer": "ipython3",
   "version": "3.9.12"
  }
 },
 "nbformat": 4,
 "nbformat_minor": 4
}
