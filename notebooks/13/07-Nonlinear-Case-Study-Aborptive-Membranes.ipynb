{
 "cells": [
  {
   "cell_type": "markdown",
   "metadata": {
    "colab_type": "text",
    "id": "facoBRDS39zo"
   },
   "source": [
    "# Nonlinear Regression Case Study: Adsorptive Nanoporous Membranes\n",
    "\n",
    "&copy; Elvis A. Eugene and Alexander W. Dowling, University of Notre Dame\n",
    "\n",
    "CBE20258, Spring 2020"
   ]
  },
  {
   "cell_type": "markdown",
   "metadata": {},
   "source": [
    "## Background\n",
    "\n",
    "Prof. William Phillip has been developing novel adsorptive nanoporous membranes to remove heavy metals from water. He has asked for your help designing a water treatment system. Specifically, **given laboratory data for these membrane systems, how much Pb (lead) can be removed per batch?**\n",
    "\n",
    "As seniors, you will learn about **adsorption-based systems in Separation Processes**. For this project, you only need to know some basics: adsorptive systems preferentially adsorb a contaminant from a bulk fluid, similar to how dust sticks to a Swiffer cleaning cloth. The amount of contaminant, Pb in this project, that adsorbs (i.e. sticks) to the water treatment membranes can be modeled with the **Langmuir isotherm**:\n",
    "\n",
    "$$q = \\frac{Q \\cdot K \\cdot c}{1 + K \\cdot c}$$\n",
    "\n",
    "where $c$ is the concentration of contaminant in the bulk fluid (water), $q$ is the loading of contaminant on the sorbent (membrane), $K$ is the binding affinity and $Q$ is the capacity.\n",
    "\n",
    "Prof. Phillip's lab has provided us with the following data:\n",
    "\n",
    "| Contaminant Concentration in Bulk (mM) | Contaminant Loading on Sorbent (mmol/g) |\n",
    "| ------ | ------ |\n",
    "| 1 | 0.5 |\n",
    "| 2.5 | 0.9 |\n",
    "| 5 | 1 |\n",
    "| 10 | 1.33 |\n",
    "| 20 | 1.3 |\n",
    "| 40 | 1.4 |\n",
    "\n",
    "\n",
    "In this case study, you will analyze these data as consultants for Prof. Phillip:\n",
    "1. Fit a Langmuir isotherm (i.e., determine $K$ and $Q$) using provided, real data ($c$ and $q$).\n",
    "2. Integrate a differential equation model to calculate the batch time.\n",
    "3. Estimate the uncertainty in the fitted parameters and propagate this uncertainty through the systems model.\n",
    "\n",
    "Moreover, we will compare three different regression strategies for Step 1; we will then see how our choices propogate through Steps 2 and 3.\n",
    "\n",
    "This comprehensive case study combines several key concepts from all three pillars of this class: Python, numerical methods, and data analytics. The **final project** will follow a similar structure. Much of the Python code can be adapted from previous homework assignments and class activities."
   ]
  },
  {
   "cell_type": "markdown",
   "metadata": {},
   "source": [
    "<div style=\"background-color: rgba(0,255,0,0.05) ; padding: 10px; border: 1px solid darkgreen;\"> \n",
    "<b>Home Activity</b>: Determine the units of $K$ and $Q$. Hint: $1$ in the denominator of the Langmuir isotherm is dimensionless.\n",
    "</div>"
   ]
  },
  {
   "cell_type": "code",
   "execution_count": 1,
   "metadata": {
    "tags": []
   },
   "outputs": [],
   "source": [
    "# load libraries\n",
    "import numpy as np\n",
    "from scipy import optimize, stats, integrate\n",
    "import matplotlib.pyplot as plt\n",
    "import pandas as pd\n",
    "\n",
    "# define the data\n",
    "c = np.array([1, 2.5, 5, 10, 20, 40]);\n",
    "q = np.array([0.5, 0.9, 1.0, 1.33, 1.3, 1.4]);\n",
    "\n",
    "# number of observations\n",
    "n = len(c);\n",
    "\n",
    "# number of fitted parameters\n",
    "p = 2;"
   ]
  },
  {
   "cell_type": "markdown",
   "metadata": {
    "colab_type": "text",
    "id": "N7baChgV8y4B"
   },
   "source": [
    "## 1. Regression Analysis\n",
    "\n",
    "We will now compare three different regression strategies for the Langmuir isotherm problem:\n",
    "1. Linear Regresssion after Transformation\n",
    "2. Linear Regression after a Different Transformation\n",
    "3. Nonlinear Regression\n",
    "\n",
    "For each strategy, we will follow the same basic steps:\n",
    "* Set up the problem, including deriving the transformation (if applicable)\n",
    "* Perform the regression calculation\n",
    "* Plot the experimental data (with transformed variables if applicable)\n",
    "* Plot the experimental data versus fitted model ($q$ vs $c$)\n",
    "* Graphically inspect the residuals\n",
    "* Compute the covariance matrix for the fitted parameters, transform to the original parameters (if applicable)\n",
    "\n"
   ]
  },
  {
   "cell_type": "markdown",
   "metadata": {},
   "source": [
    "### A. Paramter estimation using a transformation and linear regression\n",
    "\n",
    "#### Step i: Setup and Best Fit\n",
    "\n",
    "We will start our analysis by performing a transformation; this is neccessary to apply linear regression. We start with the Languir isotherm:\n",
    "\n",
    "$$ q = \\frac{Q \\cdot K \\cdot c}{1 + K \\cdot c}$$\n",
    "\n",
    "With a little bit of algebra, we obtain:\n",
    "\n",
    "$$ \\frac{c}{q} =  \\frac{c}{Q} + \\frac{1}{Q \\cdot K} $$"
   ]
  },
  {
   "cell_type": "markdown",
   "metadata": {},
   "source": [
    "<div style=\"background-color: rgba(0,255,0,0.05) ; padding: 10px; border: 1px solid darkgreen;\"> \n",
    "<b>Home Activity</b>: Write down the mathematical steps to go from the original isotherm $q=~...$ to the transformed isotherm $c/q =~...~$.\n",
    "</div>"
   ]
  },
  {
   "cell_type": "markdown",
   "metadata": {},
   "source": [
    "You may be asking yourselves, *how is that model linear*?!? We just need to define our variables and parameters carefully:\n",
    "\n",
    "$$ \\underbrace{\\frac{c}{q}}_{y} =  \\underbrace{\\frac{1}{Q}}_{\\beta_1} \\cdot \\underbrace{c}_{x} + \\underbrace{\\frac{1}{K \\cdot Q}}_{\\beta_0}   $$\n",
    "\n",
    "Recall $x$ is the independent variable, $y$ is the observed variable, $\\beta_0$ is the intercept, and $\\beta_1$ is the slope. With this transformation, we can compute the regression coefficients:"
   ]
  },
  {
   "cell_type": "code",
   "execution_count": 2,
   "metadata": {
    "colab": {},
    "colab_type": "code",
    "id": "a2R77zX-8y4C",
    "outputId": "11033e35-340c-4cd3-ca3c-8a39519cef16"
   },
   "outputs": [
    {
     "name": "stdout",
     "output_type": "stream",
     "text": [
      "slope = 0.6861090472380716\n",
      "intercept = 1.23217641968572\n",
      "R-squared: 0.9987035006310445\n"
     ]
    }
   ],
   "source": [
    "# Code for parameter estimation using linear regression\n",
    "x = c;\n",
    "y = c/q;\n",
    "\n",
    "slope, intercept, r_value, p_value, std_err = stats.linregress(x, y)\n",
    "\n",
    "print(\"slope =\",slope)\n",
    "print(\"intercept =\",intercept)\n",
    "print(\"R-squared:\",r_value**2)\n",
    "\n"
   ]
  },
  {
   "cell_type": "markdown",
   "metadata": {},
   "source": [
    "Alright, we now have estimates for $\\beta_0$ and $\\beta_1$. But we really care about $K$ and $Q$. Let's reverse the transformation.\n",
    "\n",
    "$$Q = \\frac{1}{\\beta_1}, \\qquad  K = \\frac{\\beta_1}{\\beta_0}$$"
   ]
  },
  {
   "cell_type": "code",
   "execution_count": 3,
   "metadata": {},
   "outputs": [
    {
     "name": "stdout",
     "output_type": "stream",
     "text": [
      "\n",
      "K (linear regression) = 0.6 l/mmol\n",
      "Q (linear regression) = 1.5 mmol/g_membrane\n"
     ]
    }
   ],
   "source": [
    "## Reverse transformation to obtain Q and K and display results\n",
    "Qlin1 = 1/slope;\n",
    "Klin1 = slope/intercept;\n",
    "print(\"\\nK (linear regression) = {0:0.1f} l/mmol\".format(Klin1));\n",
    "print(\"Q (linear regression) = {0:0.1f} mmol/g_membrane\".format(Qlin1));"
   ]
  },
  {
   "cell_type": "markdown",
   "metadata": {},
   "source": [
    "\n",
    "#### Step ii: Setup Best Fit Plot for Best Fit Model and Residuals\n",
    "\n",
    "Now we want to visualize the quality of the fit. Because we plan to repeat the regression analysis two more times, we invested in writing functions for the visualization. This means we just need to declare the plotting procedures once and we can reuse them. This is a good programming practice; use functions to maximize code reuse.\n",
    "\n",
    "We'll start by defining the first function which **plots the linearized isotherm** and **plots the transformed residuals**."
   ]
  },
  {
   "cell_type": "code",
   "execution_count": 7,
   "metadata": {
    "tags": []
   },
   "outputs": [
    {
     "name": "stderr",
     "output_type": "stream",
     "text": [
      "<>:16: SyntaxWarning: \"is\" with a literal. Did you mean \"==\"?\n",
      "<>:16: SyntaxWarning: \"is\" with a literal. Did you mean \"==\"?\n",
      "<>:16: SyntaxWarning: \"is\" with a literal. Did you mean \"==\"?\n",
      "<>:16: SyntaxWarning: \"is\" with a literal. Did you mean \"==\"?\n",
      "C:\\Users\\ebrea\\AppData\\Local\\Temp\\ipykernel_25644\\1538165633.py:16: SyntaxWarning: \"is\" with a literal. Did you mean \"==\"?\n",
      "  assert (title is 'lin1') or (title is 'lin2'), \"Argument title must be 'lin1' or 'lin2'\"\n",
      "C:\\Users\\ebrea\\AppData\\Local\\Temp\\ipykernel_25644\\1538165633.py:16: SyntaxWarning: \"is\" with a literal. Did you mean \"==\"?\n",
      "  assert (title is 'lin1') or (title is 'lin2'), \"Argument title must be 'lin1' or 'lin2'\"\n"
     ]
    }
   ],
   "source": [
    "# define a function to plot linearized isotherm \n",
    "def plot_liniso(x,y,slope,intercept,title):\n",
    "    ''' \n",
    "    function to plot the linearized model and residuals\n",
    "    Arguments:\n",
    "        x: transformed independent variable (float vector)\n",
    "        y: transformed independent variable (float vector)\n",
    "        slope: fitted parameter 1 (float)\n",
    "        intercept: fitted parameter 2 (float)\n",
    "        title: keyword in plot title (string). Either 'lin1' or 'lin2'\n",
    "        \n",
    "    Returns:\n",
    "        nothing\n",
    "    '''\n",
    "    \n",
    "    assert (title is 'lin1') or (title is 'lin2'), \"Argument title must be 'lin1' or 'lin2'\"\n",
    "    \n",
    "    ## evaluate the best fit line\n",
    "    # determine the max value of x\n",
    "    xmax = np.amax(x);\n",
    "    # define range of x to evaluate the model\n",
    "    x_span = np.linspace(0,1.2*xmax,50);\n",
    "    # evaluate the model\n",
    "    y_hat = slope*x_span + intercept\n",
    "    \n",
    "    ## plot the best fit line\n",
    "    plt.figure()\n",
    "    plt.plot(x,y,'ro',label = 'data');\n",
    "    plt.plot(x_span, y_hat, 'k', label='best fit')\n",
    "    \n",
    "    if (title == 'lin1'):\n",
    "        plt.xlabel(\"c (mM)\")\n",
    "        plt.ylabel(\"c/q (grams membrane / L)\")\n",
    "    elif (title == 'lin2'):\n",
    "        plt.xlabel(\"1/c (l/mmol)\")\n",
    "        plt.ylabel(\"1/q (grams membrane / mmol)\")            \n",
    "            \n",
    "    plt.grid(True)\n",
    "    plt.title('Transformed Linear Langmuir Isotherm')\n",
    "    plt.legend()\n",
    "    plt.show()\n",
    "    \n",
    "    \n",
    "    ## calculate the residuals\n",
    "    r = y - (x*slope + intercept);\n",
    "    \n",
    "    ## plot the residuals versus concentration\n",
    "    plt.figure()\n",
    "    plt.plot(c,r,'ro')\n",
    "    \n",
    "    if (title == 'lin1'):\n",
    "        plt.ylabel('Residual (grams membrane / L)')\n",
    "    elif (title == 'lin2'):\n",
    "        plt.ylabel('Residual (grams membrane / mmol)')\n",
    "                      \n",
    "    plt.xlabel('Equilibrium concentration (mM)')\n",
    "    plt.grid(True)\n",
    "    plt.title('Transformed Residuals')\n",
    "    plt.show()\n",
    "    \n",
    "# End: define a function to linearized isotherm "
   ]
  },
  {
   "cell_type": "code",
   "execution_count": 8,
   "metadata": {},
   "outputs": [
    {
     "data": {
      "image/png": "[encoded data removed]",
      "text/plain": [
       "<Figure size 432x288 with 1 Axes>"
      ]
     },
     "metadata": {
      "needs_background": "light"
     },
     "output_type": "display_data"
    },
    {
     "data": {
      "image/png": "[encoded data removed]",
      "text/plain": [
       "<Figure size 432x288 with 1 Axes>"
      ]
     },
     "metadata": {
      "needs_background": "light"
     },
     "output_type": "display_data"
    }
   ],
   "source": [
    "# Plot linearized isotherm versus data\n",
    "# The last argument toggles between the two transformations we'll consider\n",
    "plot_liniso(x,y,slope,intercept,'lin1')"
   ]
  },
  {
   "cell_type": "markdown",
   "metadata": {},
   "source": [
    "**Interpretation (Regression Plot)**: We see an excellent fit with the transformed data. Or so it seems...\n",
    "\n",
    "\n",
    "**Interpretation (Transformed Residuals)**: We start with a disclaimer; it is very difficult to interpret residuals for 6 data points. Recall, our regression analysis assumes the experimental observation errors are normally distributed. It is nearly impossible to determine if 6 points are normally distributed.\n",
    "\n",
    "Instead, we will focus on checking for any problematic trends in the residuals. We see:\n",
    "* The residuals are heteroskedastic, i.e., their variance is not constant. Notice the residuals near $c=0$ and $c=40$ are small, but the residuals between $5 \\leq c \\leq 20$ are large.\n",
    "* There is only one data point at the extreme value $x=40$. This means the data point has **high leverage** and influences the best fit. Large errors for this experiment can greatly influence fitted parameters.\n",
    "\n",
    "The plot above uses the transformed variables. They were computed with the transformed variables `x` and `y`.\n"
   ]
  },
  {
   "cell_type": "markdown",
   "metadata": {},
   "source": [
    "Next, we will define the second function which **plots the fitted Langmuir isotherm** without transformation and **plots the non-transformed residuals**. Notice the function can be directly reused for each regression strategy."
   ]
  },
  {
   "cell_type": "code",
   "execution_count": 9,
   "metadata": {
    "tags": []
   },
   "outputs": [],
   "source": [
    "# define a function to plot Langmuir isotherm\n",
    "def plot_langiso(c,q,K,Q,title):\n",
    "    ''' \n",
    "    function to plot fitted Langmuir isotherm and data\n",
    "    Arguments:\n",
    "        c: independent variable i.e. concentration - experimental data [mM] (float vector)\n",
    "        q: membrane loading - experimental data [l/gram membrane] (float vector)\n",
    "        K: fitted parameter [1/mmol] (float scalar)\n",
    "        Q: fitted parameter [mol/gram membrane] (float scalar)\n",
    "        title: name of regression to add to title (string)\n",
    "    Returns:\n",
    "        nothing\n",
    "    '''\n",
    "    \n",
    "    ## evaluate the model\n",
    "    # determine maximum value of c\n",
    "    cmax = np.amax(c);\n",
    "    # define range of x to evaluate the model\n",
    "    c_span = np.linspace(0,1.2*cmax,50);\n",
    "    # evaluate the model\n",
    "    q_hat = Q*K*c_span / (1 + K*c_span)\n",
    "    \n",
    "    # plot the best fit model\n",
    "    plt.figure()\n",
    "    plt.title('Langmuir Isotherm')\n",
    "    plt.plot(c_span,q_hat,'b-',label=\"Fitted Model\")\n",
    "    plt.plot(c,q,'r.',label=\"Experimental Data\")\n",
    "    plt.legend()\n",
    "    plt.grid(True)\n",
    "    plt.xlabel(\"Concentration (mM)\")\n",
    "    plt.ylabel(\"Loading (mmol / grams membrane)\")\n",
    "    plt.show()\n",
    "    \n",
    "    ## calculate the residuals\n",
    "    r = q - Q*K*c/(1+K*c)\n",
    "    \n",
    "    ## plot the residuals\n",
    "    plt.figure()\n",
    "    plt.plot(c,r,'ro')\n",
    "    plt.ylabel('Residual (mmol / grams membrane)')\n",
    "    plt.xlabel('Equilibrium concentration (mM)')\n",
    "    plt.grid(True)\n",
    "    plt.title('Residuals from {0} regression'.format(title))\n",
    "    plt.show()\n",
    "    \n",
    "# End: define a function to plot Langmuir isotherm"
   ]
  },
  {
   "cell_type": "code",
   "execution_count": 10,
   "metadata": {},
   "outputs": [
    {
     "data": {
      "image/png": "[encoded data removed]",
      "text/plain": [
       "<Figure size 432x288 with 1 Axes>"
      ]
     },
     "metadata": {
      "needs_background": "light"
     },
     "output_type": "display_data"
    },
    {
     "data": {
      "image/png": "[encoded data removed]",
      "text/plain": [
       "<Figure size 432x288 with 1 Axes>"
      ]
     },
     "metadata": {
      "needs_background": "light"
     },
     "output_type": "display_data"
    }
   ],
   "source": [
    "# Plot Langmuir isotherm\n",
    "plot_langiso(c,q,Klin1,Qlin1,'first transformed')"
   ]
  },
  {
   "cell_type": "markdown",
   "metadata": {},
   "source": [
    "**Interpretation (Regression Plot)**: By plotting in the original variables, we see the fit is not great. There is a significant residual for the $c=10$ mM experiment.\n",
    "\n",
    "**Interpretation (Residuals)**: This residual plot has a very similar pattern to the transformed residual plot. (Notice the vertical axis is different). The interpreation from above also applies to this plot."
   ]
  },
  {
   "cell_type": "markdown",
   "metadata": {},
   "source": [
    "#### Step iii: Compute Covariance Matricies\n",
    "\n",
    "Next, we will compute the **covariance matrix for the fitted parameters $\\beta_0$ and $\\beta_1$**.\n",
    "\n",
    "We will start by computing the variance of the residuals. Recall the formula is:\n",
    "\n",
    "$$\\hat{\\sigma}_r = \\frac{1}{n-p} \\sum_{i=1}^{n} (r_i - 0)^2$$\n",
    "\n",
    "Here $n$ is the number of observations, $p$ is the number of fitted parameters, and $r_i$ is the residual for observation $i$. An interesting property of linear regression is that the mean of the residuals is always zero.\n",
    "\n",
    "We can write the above formula with linear algebra in one line of code:"
   ]
  },
  {
   "cell_type": "code",
   "execution_count": 11,
   "metadata": {},
   "outputs": [
    {
     "name": "stdout",
     "output_type": "stream",
     "text": [
      "Variance of residuals = 0.16885199230665526  (g / L)^2\n"
     ]
    }
   ],
   "source": [
    "# compute the residuals (using the transformed variables)\n",
    "r = y - (x*slope + intercept);\n",
    "\n",
    "# variance of residuals\n",
    "var_r = r @ r / (n-p)\n",
    "print(\"Variance of residuals =\",var_r,\" (g / L)^2\")"
   ]
  },
  {
   "cell_type": "markdown",
   "metadata": {},
   "source": [
    "Recall from the previous class, `stats.linregress` does not directly compute the covariance of the linear regression parameters. Instead, we need to write the regression problem in matrix notation:\n",
    "\n",
    "$$\n",
    "\\underbrace{\\vec{y}}_{\\mathbb{R}^{n x 1}} = \\underbrace{\\mathbf{X}}_{\\mathbb{R}^{n x m}} \\cdot \\underbrace{\\vec{\\beta}}_{\\mathbb{R}^{m x 1}} + \\underbrace{\\vec{\\epsilon}}_{\\mathbb{R}^{n x 1}}\n",
    "$$\n",
    "\n",
    "Observations: $\\vec{y} = [y_1, y_2, ..., y_n]^T$\n",
    "\n",
    "Fitted Parameters: $\\vec{\\beta} = [\\beta_0, \\beta_1, ..., \\beta_{m}]^T$\n",
    "\n",
    "Data / Feature Matrix:\n",
    "\n",
    "$$\n",
    "\\mathbf{X} = \\begin{bmatrix} 1 & x_{1,1} & x_{1,2} & \\dots & x_{1,m} \\\\\n",
    "1 & x_{2,1} & x_{2,2} & \\dots & x_{2,m} \\\\\n",
    "\\vdots & \\vdots & \\vdots & \\ddots & \\vdots \\\\\n",
    "1 & x_{n,1} & x_{n,2} & \\dots & x_{n,m}\n",
    "\\end{bmatrix}\n",
    "$$"
   ]
  },
  {
   "cell_type": "markdown",
   "metadata": {},
   "source": [
    "For our transformed membrane, the feature matrix is:\n",
    "\n",
    "$$\n",
    "\\mathbf{X} = \\begin{bmatrix} 1 & c_1 \\\\\n",
    "1 & c_{2} \\\\\n",
    "\\vdots & \\vdots \\\\\n",
    "1 & c_{n}\n",
    "\\end{bmatrix}\n",
    "$$"
   ]
  },
  {
   "cell_type": "code",
   "execution_count": 12,
   "metadata": {},
   "outputs": [
    {
     "name": "stdout",
     "output_type": "stream",
     "text": [
      "X=\n",
      " [[ 1.   1. ]\n",
      " [ 1.   2.5]\n",
      " [ 1.   5. ]\n",
      " [ 1.  10. ]\n",
      " [ 1.  20. ]\n",
      " [ 1.  40. ]]\n"
     ]
    }
   ],
   "source": [
    "# feature matrix, a.k.a. data matrix, a.k.a. predictor matrix\n",
    "X = np.ones((n,2))\n",
    "X[:,1] = c\n",
    "print(\"X=\\n\",X)"
   ]
  },
  {
   "cell_type": "markdown",
   "metadata": {},
   "source": [
    "Next, we will compute the **covariance matrix of the fitted parameters**:\n",
    "\n",
    "$$\\Sigma_{\\hat{\\beta}} = \\hat{\\sigma}_r^2  (\\mathbf{X}^T \\mathbf{X})^{-1}$$"
   ]
  },
  {
   "cell_type": "code",
   "execution_count": 13,
   "metadata": {
    "tags": []
   },
   "outputs": [],
   "source": [
    "# assemble covariance matrix for regression parameters\n",
    "cov_b = var_r * np.linalg.inv(X.transpose() @ X)"
   ]
  },
  {
   "cell_type": "markdown",
   "metadata": {},
   "source": [
    "Finally, we will propogate the covariance matrix of the transformed fitted parameters, $\\mathbf{\\Sigma_{\\vec{\\beta}}}$, to determine the **covariance matrix of the desired isotherm parameters**, $\\mathbf{\\Sigma_{\\vec{\\theta}}}$.\n",
    "\n",
    "Recall of model transformation:\n",
    "\n",
    "$$K = \\frac{\\beta_1}{\\beta_0}, \\qquad Q = \\frac{1}{\\beta_1}, $$\n",
    "\n",
    "We will define the vector of model parameters as $\\vec{\\theta} = [K, Q]^T$."
   ]
  },
  {
   "cell_type": "markdown",
   "metadata": {},
   "source": [
    "In anticipation of applying the general nonlinear error propagation formula, we will calculate the following **partial derivatives**:\n",
    "\n",
    "$$\n",
    "\\frac{\\partial K}{\\partial \\beta_0} = -\\frac{\\beta_0}{\\beta_1^2}, \\qquad \\frac{\\partial K}{\\partial \\beta_1} = \\frac{1}{\\beta_0}\n",
    "$$\n",
    "\n",
    "$$\n",
    "\\frac{\\partial Q}{\\partial \\beta_0} = 0, \\qquad \\frac{\\partial Q}{\\partial \\beta_1} = -\\frac{1}{\\beta_1^2}\n",
    "$$\n",
    "\n",
    "We can then assemble these gradients into the Jacobian matrix:\n",
    "\n",
    "$$\n",
    "\\mathbf{\\nabla_{\\vec{\\beta}} \\vec{\\theta}} = \\begin{bmatrix}\n",
    "\\frac{\\partial K}{\\partial \\beta_0} & \\frac{\\partial K}{\\partial \\beta_1} \\\\\n",
    "\\frac{\\partial Q}{\\partial \\beta_0} & \\frac{\\partial Q}{\\partial \\beta_1}\n",
    "\\end{bmatrix}\n",
    "$$\n"
   ]
  },
  {
   "cell_type": "code",
   "execution_count": 14,
   "metadata": {},
   "outputs": [
    {
     "name": "stdout",
     "output_type": "stream",
     "text": [
      "\n",
      "Gradient of K: [-0.45190522  0.8115721 ]\n",
      "Gradient of Q: [ 0.         -2.12428953]\n",
      "\n",
      "Jacobian Matrix:\n",
      " [[-0.45190522  0.8115721 ]\n",
      " [ 0.         -2.12428953]]\n"
     ]
    }
   ],
   "source": [
    "# Assemble gradient vectors for K and Q\n",
    "gradK = np.array([-slope / intercept**2, 1/intercept])\n",
    "gradQ = np.array([0, -1/slope**2])\n",
    "\n",
    "print(\"\\nGradient of K:\",gradK)\n",
    "print(\"Gradient of Q:\",gradQ)\n",
    "\n",
    "# Assemble gradient vector\n",
    "jac = np.stack((gradK, gradQ));\n",
    "print(\"\\nJacobian Matrix:\\n\",jac)"
   ]
  },
  {
   "cell_type": "markdown",
   "metadata": {},
   "source": [
    "For this problem, calculating the partial derivates was very straightforward; but for more complex expression, we can use a finite difference approximation. We'll see this later in the case study."
   ]
  },
  {
   "cell_type": "markdown",
   "metadata": {},
   "source": [
    "We can now apply the **general nonlinear error propagation formula**:\n",
    "\n",
    "$$\n",
    "    \\Sigma_{\\hat{\\theta}} \\approx \\left( \\mathbf{\\nabla_{\\vec{\\beta}} \\vec{\\theta}} \\right) \\left(\\Sigma_{\\hat{\\beta}} \\right) \\left(\\mathbf{\\nabla_{\\vec{\\beta}} \\vec{\\theta}}\\right)^T$$\n"
   ]
  },
  {
   "cell_type": "code",
   "execution_count": 15,
   "metadata": {},
   "outputs": [
    {
     "name": "stdout",
     "output_type": "stream",
     "text": [
      "\n",
      "Covariance of Original Model Parameters (K,Q):\n",
      " [[ 0.01265455 -0.00218224]\n",
      " [-0.00218224  0.00068943]]\n"
     ]
    }
   ],
   "source": [
    "# Apply nonlinear error propagation formula\n",
    "cov_theta_lin1 = jac @ cov_b @ jac.transpose()\n",
    "\n",
    "print(\"\\nCovariance of Original Model Parameters (K,Q):\\n\",cov_theta_lin1)"
   ]
  },
  {
   "cell_type": "markdown",
   "metadata": {},
   "source": [
    "<div style=\"background-color: rgba(0,255,0,0.05) ; padding: 10px; border: 1px solid darkgreen;\"> \n",
    "<b>Home Activity</b>: Write down at least three questions or observations you have about the code for the first transformated regression model (all of Section 1A). We will start class by answering your questions.\n",
    "</div>"
   ]
  },
  {
   "cell_type": "markdown",
   "metadata": {},
   "source": [
    "**Your Questions:**\n",
    "\n",
    "1.\n",
    "\n",
    "2.\n",
    "\n",
    "3."
   ]
  },
  {
   "cell_type": "markdown",
   "metadata": {},
   "source": [
    "### B. Paramter estimation using an alternate transformation and linear regression\n",
    "\n",
    "#### Step i: Setup and Best Fit\n",
    "\n",
    "We start with the Languir isotherm:\n",
    "\n",
    "$$ q = \\frac{Q \\cdot K \\cdot c}{1 + K \\cdot c}$$\n",
    "\n",
    "With a little bit of algebra, we obtain:\n",
    "\n",
    "$$ \\frac{1}{q} =  \\frac{1}{Q} + \\frac{1}{Q \\cdot K} \\cdot \\frac{1}{c} $$"
   ]
  },
  {
   "cell_type": "markdown",
   "metadata": {},
   "source": [
    "<div style=\"background-color: rgba(0,0,255,0.05) ; padding: 10px; border: 1px solid darkblue;\"> \n",
    "<b>Class Activity</b>: Identify $x$, $y$, $\\beta_0$, and $\\beta_1$ in the alternate transformed model.\n",
    "</div>"
   ]
  },
  {
   "cell_type": "markdown",
   "metadata": {},
   "source": [
    "<div style=\"background-color: rgba(0,0,255,0.05) ; padding: 10px; border: 1px solid darkblue;\"> \n",
    "<b>Class Activity</b>: Use `stats.linregress` to compute the best fit line. To maximize code reuse, save the results in variables <tt>slope</tt> and <tt>intercept</tt>.\n",
    "</div>"
   ]
  },
  {
   "cell_type": "code",
   "execution_count": 16,
   "metadata": {},
   "outputs": [
    {
     "name": "stdout",
     "output_type": "stream",
     "text": [
      "slope = 1.3058364578345456\n",
      "intercept = 0.6714412635365661\n"
     ]
    }
   ],
   "source": [
    "### BEGIN SOLUTION\n",
    "x = 1/c;\n",
    "y = 1/q;\n",
    "\n",
    "slope, intercept, r_value, p_value, std_err = stats.linregress(x, y)\n",
    "\n",
    "print(\"slope =\",slope)\n",
    "print(\"intercept =\",intercept)\n",
    "### END SOLUTION"
   ]
  },
  {
   "cell_type": "markdown",
   "metadata": {},
   "source": [
    "<div style=\"background-color: rgba(0,0,255,0.05) ; padding: 10px; border: 1px solid darkblue;\"> \n",
    "<b>Class Activity</b>: Determine the new formulas to compute $K$ and $Q$ from the new fitted parameters $\\beta_0$ and $\\beta_1$. We recommend writing this on paper first. To typeset your answer below, just double click on the markdown cell and edit the formula. You do not need to turn in your on paper work.\n",
    "</div>"
   ]
  },
  {
   "cell_type": "markdown",
   "metadata": {},
   "source": [
    "$$K = \\frac{?}{?}, \\qquad Q = \\frac{?}{?}, $$"
   ]
  },
  {
   "cell_type": "markdown",
   "metadata": {},
   "source": [
    "<div style=\"background-color: rgba(0,0,255,0.05) ; padding: 10px; border: 1px solid darkblue;\"> \n",
    "<b>Class Activity</b>: Compute $K$ and $Q$ from new model. Store your answers in the variances <tt>Klin2</tt> and <tt>Qlin2</tt>.\n",
    "</div>"
   ]
  },
  {
   "cell_type": "code",
   "execution_count": 17,
   "metadata": {},
   "outputs": [
    {
     "name": "stdout",
     "output_type": "stream",
     "text": [
      "\n",
      "K (alternate linear regression) = 0.5 L/mmol\n",
      "Q (alternate linear regression) = 1.5 mmol/g_membrane\n"
     ]
    }
   ],
   "source": [
    "## Reverse transformation to obtain Q and K and display results\n",
    "### BEGIN SOLUTION\n",
    "Klin2 = intercept/slope;\n",
    "Qlin2 = 1/intercept;\n",
    "### END SOLUTION\n",
    "print(\"\\nK (alternate linear regression) = {0:0.1f} L/mmol\".format(Klin2));\n",
    "print(\"Q (alternate linear regression) = {0:0.1f} mmol/g_membrane\".format(Qlin2));"
   ]
  },
  {
   "cell_type": "markdown",
   "metadata": {},
   "source": [
    "<div style=\"background-color: rgba(0,0,255,0.05) ; padding: 10px; border: 1px solid darkblue;\"> \n",
    "<b>Class Activity</b>: Plot the transformed model and the transformed residuals. Hint: When using the <tt>plot_liniso</tt> function, enter <tt>'lin2'</tt> as the fourth argument. This will add the appropraite units to the plot.\n",
    "</div>"
   ]
  },
  {
   "cell_type": "code",
   "execution_count": 18,
   "metadata": {},
   "outputs": [
    {
     "data": {
      "image/png": "[encoded data removed]",
      "text/plain": [
       "<Figure size 432x288 with 1 Axes>"
      ]
     },
     "metadata": {
      "needs_background": "light"
     },
     "output_type": "display_data"
    },
    {
     "data": {
      "image/png": "[encoded data removed]",
      "text/plain": [
       "<Figure size 432x288 with 1 Axes>"
      ]
     },
     "metadata": {
      "needs_background": "light"
     },
     "output_type": "display_data"
    }
   ],
   "source": [
    "### BEGIN SOLUTION\n",
    "plot_liniso(x,y,slope,intercept,'lin2')\n",
    "### END SOLUTION"
   ]
  },
  {
   "cell_type": "markdown",
   "metadata": {},
   "source": [
    "<div style=\"background-color: rgba(0,0,255,0.05) ; padding: 10px; border: 1px solid darkblue;\"> \n",
    "<b>Class Activity</b>: Interpret the plot. Write 3 bullet points (sentences) with your observations.\n",
    "</div>"
   ]
  },
  {
   "cell_type": "markdown",
   "metadata": {},
   "source": [
    "**Your Observations:**\n",
    "\n",
    "1.\n",
    "\n",
    "2.\n",
    "\n",
    "3."
   ]
  },
  {
   "cell_type": "markdown",
   "metadata": {},
   "source": [
    "<div style=\"background-color: rgba(0,0,255,0.05) ; padding: 10px; border: 1px solid darkblue;\"> \n",
    "<b>Class Activity</b>: Plot the Langmuir isotherm model and the (non-transformed) residuals. Hint: When using the <tt>plot_langiso</tt> function, enter <tt>'first transformed'</tt> as the fifth argument. This will add the appropraite title to the plot. Also remember to use <tt>Klin2</tt> and <tt>Qlin2</tt>.\n",
    "</div>"
   ]
  },
  {
   "cell_type": "code",
   "execution_count": 20,
   "metadata": {},
   "outputs": [
    {
     "data": {
      "image/png": "[encoded data removed]",
      "text/plain": [
       "<Figure size 432x288 with 1 Axes>"
      ]
     },
     "metadata": {
      "needs_background": "light"
     },
     "output_type": "display_data"
    },
    {
     "data": {
      "image/png": "[encoded data removed]",
      "text/plain": [
       "<Figure size 432x288 with 1 Axes>"
      ]
     },
     "metadata": {
      "needs_background": "light"
     },
     "output_type": "display_data"
    }
   ],
   "source": [
    "# Plot Langmuir isotherm\n",
    "### BEGIN SOLUTION\n",
    "plot_langiso(c,q,Klin2,Qlin2,'first transformed')\n",
    "### END SOLUTION"
   ]
  },
  {
   "cell_type": "markdown",
   "metadata": {},
   "source": [
    "<div style=\"background-color: rgba(0,0,255,0.05) ; padding: 10px; border: 1px solid darkblue;\"> \n",
    "<b>Class Activity</b>: Interpret these plots. Write 3 bullet points (sentences) with your observations.\n",
    "</div>"
   ]
  },
  {
   "cell_type": "markdown",
   "metadata": {},
   "source": [
    "**Your Observations:**\n",
    "\n",
    "1.\n",
    "\n",
    "2.\n",
    "\n",
    "3."
   ]
  },
  {
   "cell_type": "markdown",
   "metadata": {},
   "source": [
    "<div style=\"background-color: rgba(0,0,255,0.05) ; padding: 10px; border: 1px solid darkblue;\"> \n",
    "<b>Class Activity</b>: Calculate the residuals and store in variable <tt>r2</tt>.\n",
    "</div>"
   ]
  },
  {
   "cell_type": "code",
   "execution_count": 29,
   "metadata": {
    "tags": []
   },
   "outputs": [],
   "source": [
    "# Calculate residuals\n",
    "### BEGIN SOLUTION\n",
    "r2 = y - (x*slope + intercept);\n",
    "### END SOLUTION"
   ]
  },
  {
   "cell_type": "markdown",
   "metadata": {},
   "source": [
    "<div style=\"background-color: rgba(0,0,255,0.05) ; padding: 10px; border: 1px solid darkblue;\"> \n",
    "<b>Class Activity</b>: Calculate the variance of the residuals. Store in variable <tt>var_r2</tt>.\n",
    "</div>"
   ]
  },
  {
   "cell_type": "code",
   "execution_count": 30,
   "metadata": {},
   "outputs": [
    {
     "name": "stdout",
     "output_type": "stream",
     "text": [
      "Variance of residuals = 0.0038915047452551866  (g / mmol)^2\n"
     ]
    }
   ],
   "source": [
    "# variance of residuals\n",
    "### BEGIN SOLUTION\n",
    "var_r2 = r2 @ r2 / (n-p)\n",
    "### END SOLUTION\n",
    "\n",
    "print(\"Variance of residuals =\",var_r2,\" (g / mmol)^2\")"
   ]
  },
  {
   "cell_type": "markdown",
   "metadata": {},
   "source": [
    "<div style=\"background-color: rgba(0,0,255,0.05) ; padding: 10px; border: 1px solid darkblue;\"> \n",
    "<b>Class Activity</b>: Assemble the feature matrix and store in variable <tt>X2</tt>.\n",
    "</div>"
   ]
  },
  {
   "cell_type": "code",
   "execution_count": 31,
   "metadata": {},
   "outputs": [
    {
     "name": "stdout",
     "output_type": "stream",
     "text": [
      "X2 =\n",
      " [[1.    1.   ]\n",
      " [1.    0.4  ]\n",
      " [1.    0.2  ]\n",
      " [1.    0.1  ]\n",
      " [1.    0.05 ]\n",
      " [1.    0.025]]\n"
     ]
    }
   ],
   "source": [
    "# matrix of predictors\n",
    "### BEGIN SOLUTION\n",
    "X2 = np.ones((n,2))\n",
    "X2[:,1] = 1/c\n",
    "### END SOLUTION\n",
    "\n",
    "print(\"X2 =\\n\",X2)"
   ]
  },
  {
   "cell_type": "markdown",
   "metadata": {},
   "source": [
    "<div style=\"background-color: rgba(0,0,255,0.05) ; padding: 10px; border: 1px solid darkblue;\"> \n",
    "<b>Class Activity</b>: Calculate the covariance of the linear regression parameters. Store the result in <tt>cov_b2</tt>.\n",
    "</div>"
   ]
  },
  {
   "cell_type": "code",
   "execution_count": 32,
   "metadata": {},
   "outputs": [
    {
     "name": "stdout",
     "output_type": "stream",
     "text": [
      "Covariance of Transformed (Linearized) Regression Parameters (1/KQ, 1/Q):\n",
      " [[ 0.00114359 -0.00167326]\n",
      " [-0.00167326  0.00565609]]\n"
     ]
    }
   ],
   "source": [
    "# assemble covariance matrix for regression parameters\n",
    "### BEGIN SOLUTION\n",
    "cov_b2 = var_r2 * np.linalg.inv(X2.transpose() @ X2)\n",
    "### END SOLUTION\n",
    "\n",
    "print(\"Covariance of Transformed (Linearized) Regression Parameters (1/KQ, 1/Q):\\n\",cov_b2)"
   ]
  },
  {
   "cell_type": "markdown",
   "metadata": {},
   "source": [
    "<div style=\"background-color: rgba(0,0,255,0.05) ; padding: 10px; border: 1px solid darkblue;\"> \n",
    "<b>Class Activity</b>: Study the code below for the gradients of $K$ and $Q$ with respect to the new $\\beta_0$ and $\\beta_1$. Do you agree with this calculation? Did we make a mistake?\n",
    "</div>"
   ]
  },
  {
   "cell_type": "code",
   "execution_count": 33,
   "metadata": {},
   "outputs": [
    {
     "name": "stdout",
     "output_type": "stream",
     "text": [
      "\n",
      "Gradient of K: [ 0.76579268 -0.39375896]\n",
      "Gradient of Q: [-2.21811442  0.        ]\n"
     ]
    }
   ],
   "source": [
    "gradK2 = np.array([1/slope, -intercept/slope**2])\n",
    "gradQ2 = np.array([-1/intercept**2, 0])\n",
    "\n",
    "print(\"\\nGradient of K:\",gradK2)\n",
    "print(\"Gradient of Q:\",gradQ2)"
   ]
  },
  {
   "cell_type": "markdown",
   "metadata": {},
   "source": [
    "<div style=\"background-color: rgba(0,0,255,0.05) ; padding: 10px; border: 1px solid darkblue;\"> \n",
    "<b>Class Activity</b>: Assemble the gradients into the Jacobian matrix. Store the matrix in <tt>jac2</tt>.\n",
    "</div>"
   ]
  },
  {
   "cell_type": "code",
   "execution_count": 34,
   "metadata": {},
   "outputs": [
    {
     "name": "stdout",
     "output_type": "stream",
     "text": [
      "\n",
      "Jacobian Matrix:\n",
      " [[ 0.76579268 -0.39375896]\n",
      " [-2.21811442  0.        ]]\n"
     ]
    }
   ],
   "source": [
    "### BEGIN SOLUTION\n",
    "jac2 = np.stack((gradK2, gradQ2));\n",
    "### END SOLUTION\n",
    "\n",
    "print(\"\\nJacobian Matrix:\\n\",jac2)"
   ]
  },
  {
   "cell_type": "markdown",
   "metadata": {},
   "source": [
    "<div style=\"background-color: rgba(0,0,255,0.05) ; padding: 10px; border: 1px solid darkblue;\"> \n",
    "<b>Class Activity</b>: Apply the multivariate general nonlinear error propagation formulation. Store the covariance matrix of the original model parameters in <tt>cov_theta_lin2</tt>.\n",
    "</div>"
   ]
  },
  {
   "cell_type": "code",
   "execution_count": 35,
   "metadata": {},
   "outputs": [
    {
     "name": "stdout",
     "output_type": "stream",
     "text": [
      "\n",
      "Covariance of Original Model Parameters (K,Q):\n",
      " [[ 0.0025567  -0.00340395]\n",
      " [-0.00340395  0.0056265 ]]\n"
     ]
    }
   ],
   "source": [
    "# Apply nonlinear error propagation formula\n",
    "### BEGIN SOLUTION\n",
    "cov_theta_lin2 = jac2@ cov_b2 @ jac2.transpose()\n",
    "### END SOLUTION\n",
    "\n",
    "print(\"\\nCovariance of Original Model Parameters (K,Q):\\n\",cov_theta_lin2)"
   ]
  },
  {
   "cell_type": "markdown",
   "metadata": {
    "colab_type": "text",
    "id": "7RgOIGSI8y4P"
   },
   "source": [
    "### C. Paramter estimation using nonlinear regression"
   ]
  },
  {
   "cell_type": "markdown",
   "metadata": {},
   "source": [
    "We will now apply nonlinear regression to our problem. First, we need to define a function to evaluate the model."
   ]
  },
  {
   "cell_type": "markdown",
   "metadata": {},
   "source": [
    "<div style=\"background-color: rgba(0,0,255,0.05) ; padding: 10px; border: 1px solid darkblue;\"> \n",
    "<b>Class Activity</b>: Fill in the missing line in <tt>model_func</tt> below.\n",
    "</div>"
   ]
  },
  {
   "cell_type": "code",
   "execution_count": 36,
   "metadata": {
    "colab": {},
    "colab_type": "code",
    "id": "KZDSoDG68y4Q",
    "tags": []
   },
   "outputs": [],
   "source": [
    "## Code for parameter estimation using nonlinear regression\n",
    "\n",
    "# define function for the model being fitted\n",
    "def model_func(theta, c):\n",
    "    '''\n",
    "    Function to define model being fitted\n",
    "    Arguments:\n",
    "        theta: parameter vector (K, Q)\n",
    "        c: concentration(s) to evaluate (scalar or vector)\n",
    "    Returns:\n",
    "        qhat: predicted loading(s), (scalar or vector)\n",
    "    '''\n",
    "    ### BEGIN SOLUTION\n",
    "    qhat = (theta[0]*theta[1]*c) / (1 + theta[0]*c)\n",
    "    ### END SOLUTION\n",
    "    return qhat\n",
    "# End: define function for the model being fitted"
   ]
  },
  {
   "cell_type": "markdown",
   "metadata": {},
   "source": [
    "Next we need to define a function to calculate the residuals for each data point."
   ]
  },
  {
   "cell_type": "markdown",
   "metadata": {},
   "source": [
    "<div style=\"background-color: rgba(0,0,255,0.05) ; padding: 10px; border: 1px solid darkblue;\"> \n",
    "<b>Class Activity</b>: Fill in the missing line in <tt>regression_func</tt> below.\n",
    "</div>"
   ]
  },
  {
   "cell_type": "code",
   "execution_count": 37,
   "metadata": {
    "tags": []
   },
   "outputs": [],
   "source": [
    "# define function to return residuals of model being fitted\n",
    "def regression_func(theta, c, q):\n",
    "    '''\n",
    "    Function to define regression function for least-squares fitting\n",
    "    Arguments:\n",
    "        theta: parameter vector\n",
    "        c: concentration(s) to evaluate (vector)\n",
    "        q: loading(s) to fit (vector)\n",
    "    Returns:\n",
    "        ls_func: evaluation of loss function\n",
    "    '''\n",
    "    qhat = model_func(theta,c)\n",
    "\n",
    "    ### BEGIN SOLUTION\n",
    "    r = q-qhat\n",
    "    ### END SOLUTION\n",
    "    return r\n",
    "# End: define function to return residuals of model being fitted"
   ]
  },
  {
   "cell_type": "markdown",
   "metadata": {},
   "source": [
    "Now we perform nonlinear regression."
   ]
  },
  {
   "cell_type": "markdown",
   "metadata": {},
   "source": [
    "<div style=\"background-color: rgba(0,0,255,0.05) ; padding: 10px; border: 1px solid darkblue;\"> \n",
    "<b>Class Activity</b>: Use the function <tt>optimize.least_squares</tt> to compute the best fit. Store the results in the variable <tt>theta_fit</tt>.\n",
    "</div>"
   ]
  },
  {
   "cell_type": "code",
   "execution_count": 38,
   "metadata": {
    "colab": {},
    "colab_type": "code",
    "id": "Or9TLw108y4R",
    "outputId": "789b0deb-1128-4616-a2ba-2c87a087b38b"
   },
   "outputs": [
    {
     "name": "stdout",
     "output_type": "stream",
     "text": [
      "`ftol` termination condition is satisfied.\n",
      "Function evaluations 20, initial cost 2.7019e-01, final cost 9.2968e-03, first-order optimality 1.11e-08.\n",
      "\n",
      "K (nonlinear regression) = 0.6 l/mmol\n",
      "Q (nonlinear regression) = 1.5 mmol/g_membrane\n"
     ]
    }
   ],
   "source": [
    "# Perform nonlinear parameter estimation\n",
    "\n",
    "# initial guess\n",
    "theta_guess = np.array([1, 1])\n",
    "\n",
    "# nonlinear regression\n",
    "### BEGIN SOLUTION\n",
    "theta_fit = optimize.least_squares(regression_func, theta_guess,method='lm',args=(c, q),verbose=2)\n",
    "### END SOLUTION\n",
    "\n",
    "# Extract fitted parameters and display results\n",
    "Knl = theta_fit.x[0]\n",
    "Qnl = theta_fit.x[1]\n",
    "print(\"\\nK (nonlinear regression) = {0:0.1f} l/mmol\".format(Knl));\n",
    "print(\"Q (nonlinear regression) = {0:0.1f} mmol/g_membrane\".format(Qnl));"
   ]
  },
  {
   "cell_type": "markdown",
   "metadata": {},
   "source": [
    "<div style=\"background-color: rgba(0,0,255,0.05) ; padding: 10px; border: 1px solid darkblue;\"> \n",
    "<b>Class Activity</b>: Plot the fitted model and residuals. Hint: Use the function <tt>plot_langiso</tt>. Enter <tt>'nonlinear'</tt> as the fifth argument.\n",
    "</div>"
   ]
  },
  {
   "cell_type": "code",
   "execution_count": 39,
   "metadata": {},
   "outputs": [
    {
     "data": {
      "image/png": "[encoded data removed]",
      "text/plain": [
       "<Figure size 432x288 with 1 Axes>"
      ]
     },
     "metadata": {
      "needs_background": "light"
     },
     "output_type": "display_data"
    },
    {
     "data": {
      "image/png": "[encoded data removed]",
      "text/plain": [
       "<Figure size 432x288 with 1 Axes>"
      ]
     },
     "metadata": {
      "needs_background": "light"
     },
     "output_type": "display_data"
    }
   ],
   "source": [
    "### BEGIN SOLUTION\n",
    "plot_langiso(c,q,Knl,Qnl,'nonlinear')\n",
    "### END SOLUTION"
   ]
  },
  {
   "cell_type": "markdown",
   "metadata": {},
   "source": [
    "<div style=\"background-color: rgba(0,0,255,0.05) ; padding: 10px; border: 1px solid darkblue;\"> \n",
    "<b>Class Activity</b>: Interpret these plots. Write 3 bullet points (sentences) with your observations.\n",
    "</div>"
   ]
  },
  {
   "cell_type": "markdown",
   "metadata": {},
   "source": [
    "**Your Observations:**\n",
    "\n",
    "1.\n",
    "\n",
    "2.\n",
    "\n",
    "3."
   ]
  },
  {
   "cell_type": "markdown",
   "metadata": {},
   "source": [
    "We will complete the nonlinear regression analysis by estimating the covariance of the fitted parameters $\\mathbf{\\Sigma}_{\\vec{\\theta}}$."
   ]
  },
  {
   "cell_type": "markdown",
   "metadata": {},
   "source": [
    "<div style=\"background-color: rgba(0,0,255,0.05) ; padding: 10px; border: 1px solid darkblue;\"> \n",
    "<b>Class Activity</b>: Calculate the residuals and store in <tt>r3</tt>. Next calculate the variance of the residuals and store in <tt>var_r3</tt>.\n",
    "</div>"
   ]
  },
  {
   "cell_type": "code",
   "execution_count": 41,
   "metadata": {
    "colab": {},
    "colab_type": "code",
    "id": "nlFmoMsa8y4U",
    "outputId": "ccebcf56-469f-4173-bff9-7c61f56fc15c"
   },
   "outputs": [
    {
     "name": "stdout",
     "output_type": "stream",
     "text": [
      "Variance of the residuals:  0.004648376875480317 (mmol/g)^2\n"
     ]
    }
   ],
   "source": [
    "# Calculate residuals. Hint: use model_func\n",
    "### BEGIN SOLUTON\n",
    "# calculate residuals\n",
    "r3= q - model_func(theta_fit.x, c)\n",
    "### END SOLUTION\n",
    "\n",
    "# Calculate the variance of the residuals\n",
    "### BEGIN SOLUTION\n",
    "var_r3 = r3 @ r3 / (n-p)\n",
    "### END SOLUTION\n",
    "\n",
    "print(\"Variance of the residuals: \",var_r3,\"(mmol/g)^2\")"
   ]
  },
  {
   "cell_type": "markdown",
   "metadata": {},
   "source": [
    "Recall from the previous class the covariance matrix for nonlinear regression has a similar formula to the linear regression case:\n",
    "\n",
    "$$\\mathbf{\\Sigma_{\\vec{\\theta}}} \\approx \\hat{\\sigma}_r^2 (\\mathbf{J}^T \\mathbf{J})^{-1}$$\n",
    "\n",
    "where $\\mathbf{J}$ is the Jacobian of the residuals w.r.t. $\\vec{\\theta}$:\n",
    "\n",
    "$$\n",
    "J_{i,j} = \\frac{\\partial(y_i - \\hat{y}_i)}{\\partial \\theta_j}\n",
    "$$\n",
    "\n",
    "This IS NOT the same Jacobian matrix for nonlinear error propagation. Does this formula look familar? Recall, for LINEAR REGRESSION, the covariance estimate is:\n",
    "\n",
    "$$\\Sigma_{\\hat{\\beta}} = \\hat{\\sigma}_r^2  (\\mathbf{X}^T \\mathbf{X})^{-1}$$"
   ]
  },
  {
   "cell_type": "markdown",
   "metadata": {},
   "source": [
    "<div style=\"background-color: rgba(0,0,255,0.05) ; padding: 10px; border: 1px solid darkblue;\"> \n",
    "<b>Class Activity</b>: Compare the nonlinear regression and linear regression covariance formulas. Compute the elements of the Jacobian matrix for a linear model using $\\vec{\\theta} = \\vec{\\beta}$. How are $\\mathbf{J}$ and $\\mathbf{X}$ related? Discuss then write one sentence.\n",
    "</div>"
   ]
  },
  {
   "cell_type": "markdown",
   "metadata": {},
   "source": [
    "**Discussion**:"
   ]
  },
  {
   "cell_type": "markdown",
   "metadata": {},
   "source": [
    "Luckily, `optimize.least_squares` computes this Jacobian for us automatically."
   ]
  },
  {
   "cell_type": "code",
   "execution_count": 42,
   "metadata": {},
   "outputs": [
    {
     "name": "stdout",
     "output_type": "stream",
     "text": [
      "J =\n",
      " [[-0.60433286 -0.3573991 ]\n",
      " [-0.6402919  -0.5816669 ]\n",
      " [-0.51189153 -0.73551125]\n",
      " [-0.33990149 -0.84760183]\n",
      " [-0.19914358 -0.91751568]\n",
      " [-0.10832244 -0.95698376]]\n"
     ]
    }
   ],
   "source": [
    "print(\"J =\\n\",theta_fit.jac)"
   ]
  },
  {
   "cell_type": "markdown",
   "metadata": {},
   "source": [
    "<div style=\"background-color: rgba(0,0,255,0.05) ; padding: 10px; border: 1px solid darkblue;\"> \n",
    "<b>Class Activity</b>: Compute the covariance matrix $\\mathbf{\\Sigma_{\\vec{\\theta}}}$. Store your answer in <tt>cov_theta_nl</tt>.\n",
    "</div>"
   ]
  },
  {
   "cell_type": "code",
   "execution_count": 43,
   "metadata": {},
   "outputs": [
    {
     "name": "stdout",
     "output_type": "stream",
     "text": [
      "Covariance Matrix of Original Model Parameters (K,Q):\n",
      " [[ 0.00887448 -0.00392218]\n",
      " [-0.00392218  0.00306799]]\n"
     ]
    }
   ],
   "source": [
    "# assemble covariance matrix\n",
    "### BEGIN SOLUTION\n",
    "cov_theta_nl = var_r3*np.linalg.inv(theta_fit.jac.T @ theta_fit.jac)\n",
    "### END SOLUTION\n",
    "# plot Langmuir isotherm\n",
    "print(\"Covariance Matrix of Original Model Parameters (K,Q):\\n\",cov_theta_nl)"
   ]
  },
  {
   "cell_type": "markdown",
   "metadata": {},
   "source": [
    "### D. Comparison of Three Regression Approaches\n",
    "\n",
    "**First Transformation + Linear Regression**"
   ]
  },
  {
   "cell_type": "code",
   "execution_count": 44,
   "metadata": {},
   "outputs": [
    {
     "name": "stdout",
     "output_type": "stream",
     "text": [
      "\n",
      "K (linear regression) = 0.557 l/mmol\n",
      "Q (linear regression) = 1.457 mmol/g_membrane\n",
      "\n",
      "Covariance of Original Model Parameters (K,Q):\n",
      " [[ 0.01265455 -0.00218224]\n",
      " [-0.00218224  0.00068943]]\n"
     ]
    }
   ],
   "source": [
    "print(\"\\nK (linear regression) = {0:0.3f} l/mmol\".format(Klin1));\n",
    "print(\"Q (linear regression) = {0:0.3f} mmol/g_membrane\".format(Qlin1));\n",
    "\n",
    "print(\"\\nCovariance of Original Model Parameters (K,Q):\\n\",cov_theta_lin1)"
   ]
  },
  {
   "cell_type": "markdown",
   "metadata": {},
   "source": [
    "**Second (Alternative) Transformation + Linear Regression**"
   ]
  },
  {
   "cell_type": "code",
   "execution_count": 45,
   "metadata": {},
   "outputs": [
    {
     "name": "stdout",
     "output_type": "stream",
     "text": [
      "\n",
      "K (alternate linear regression) = 0.557 L/mmol\n",
      "Q (alternate linear regression) = 1.489 mmol/g_membrane\n",
      "\n",
      "Covariance of Original Model Parameters (K,Q):\n",
      " [[ 0.0025567  -0.00340395]\n",
      " [-0.00340395  0.0056265 ]]\n"
     ]
    }
   ],
   "source": [
    "print(\"\\nK (alternate linear regression) = {0:0.3f} L/mmol\".format(Klin1));\n",
    "print(\"Q (alternate linear regression) = {0:0.3f} mmol/g_membrane\".format(Qlin2));\n",
    "\n",
    "\n",
    "print(\"\\nCovariance of Original Model Parameters (K,Q):\\n\",cov_theta_lin2)"
   ]
  },
  {
   "cell_type": "markdown",
   "metadata": {},
   "source": [
    "**Nonlinear Regression**"
   ]
  },
  {
   "cell_type": "code",
   "execution_count": 46,
   "metadata": {},
   "outputs": [
    {
     "name": "stdout",
     "output_type": "stream",
     "text": [
      "\n",
      "K (nonlinear regression) = 0.556 l/mmol\n",
      "Q (nonlinear regression) = 1.464 mmol/g_membrane\n",
      "\n",
      "Covariance Matrix of Original Model Parameters (K,Q):\n",
      " [[ 0.00887448 -0.00392218]\n",
      " [-0.00392218  0.00306799]]\n"
     ]
    }
   ],
   "source": [
    "print(\"\\nK (nonlinear regression) = {0:0.3f} l/mmol\".format(Knl));\n",
    "print(\"Q (nonlinear regression) = {0:0.3f} mmol/g_membrane\".format(Qnl));\n",
    "\n",
    "print(\"\\nCovariance Matrix of Original Model Parameters (K,Q):\\n\",cov_theta_nl)"
   ]
  },
  {
   "cell_type": "markdown",
   "metadata": {
    "nbgrader": {
     "grade": false,
     "locked": false,
     "solution": false
    }
   },
   "source": [
    "<div style=\"background-color: rgba(0,0,255,0.05) ; padding: 10px; border: 1px solid darkblue;\"> \n",
    "<b>Class Activity</b>: Discussion the following question. Write a one sentence answer for each question.\n",
    "</div>"
   ]
  },
  {
   "cell_type": "markdown",
   "metadata": {},
   "source": [
    "**Disucssion**:\n",
    "1. *How many significant figures are we estimating for $Q$ and $K$ based on the original data?* **Answer:** Fill in here...\n",
    "2. *Do the three regression strategies give the same or different estimates for $K$ (within reasonable significant figures)?* **Answer:** Fill in here...\n",
    "3. *Do the three regression strategies give the same or different estimates for $Q$ (within reasonable significant figures)?* **Answer:** Fill in here...\n",
    "4. *Do the three regression strategies give the same estimate for uncertainty (covariance)?*\n",
    "5. *Which regression technique is best suited for this problem?* **Answer:** Fill in here..."
   ]
  },
  {
   "cell_type": "markdown",
   "metadata": {
    "colab_type": "text",
    "id": "bBPqO0vh8y4d"
   },
   "source": [
    "## 2. Estimate Batch Processing Time with Numeric Integration\n",
    "\n",
    "Our ultimate goal is to design a point-of-use semi-batch adsorptive membrane system to remove Pb from water. Water with contaminant concentration $c_{in} =$ 150 parts per billion (ppb) enters the system. Some of the contaminant adsorbs such that the outlet concentration, $c(t)$, is in equilibrium and can be related to the sorbent loading, $q(t)$, using the Langmuir isotherm $q=f(K,Q)$. Using a differential mass balance (you will learn more about this in Transport I and II as Juniors), one can derive:\n",
    "\n",
    "$$\n",
    "\\frac{d}{dt} q(t) = \\frac{F}{m}(c_{in} - c(t))\n",
    "$$\n",
    "\n",
    "where $m = $ 1 kg is the total mass of the membrane and $F = $ 2 ml/s is the flow rate of water. We will operate the membrane until time $t_f$ where $c(t_f) = c_{max} = $ 15 ppb, which corresponds to maximum contaminant limit from the US EPA. At time $t_f$ the membrane is regenerated (e.g., washed with a low pH solution to remove the Pb contaminant) and the operating cycle repeats. For simplicity, we will assume the membrane is completely regenerated such that $q(0) = 0$."
   ]
  },
  {
   "cell_type": "markdown",
   "metadata": {},
   "source": [
    "### A. Model Manipulation and Setup\n",
    "\n",
    "We want to integrate the differential equation above to find the final time $t_f$ where $c(t_f) = c_{max} = $ 15 ppb. This is a boundry value problem. We have three choices for a solution approach:\n",
    "1. Analytically integrate the differential equation. (You can do this with Wolframa Alpha, but the answer is complicated.)\n",
    "2. Numerically integrate the differential equation with `solve_ivp`. Then use interpolation or Newton's method to find the value of $t_f$ that satisfies the boundary condition.\n",
    "3. Rearrange the model then integrate with a quadrature rule.\n",
    "\n",
    "Let's use option 3.\n",
    "\n",
    "We will first start with the Langmuir isotherm:\n",
    "\n",
    "$$\n",
    "q(t) = \\frac{K \\cdot Q \\cdot c(t)}{1 + K \\cdot c(t)}\n",
    "$$\n",
    "\n",
    "We can rerange the isotherm to obtain:\n",
    "$$\n",
    "c(t) = \\frac{q(t)}{Q \\cdot K - q(t) \\cdot K}\n",
    "$$\n",
    "\n",
    "We will then substitute the expression for $c(t)$ into the differential equation to obtain:\n",
    "\n",
    "$$\n",
    "\\frac{d}{dt} q(t) = \\frac{F}{m} \\left( c_{in} - \\frac{q(t)}{Q \\cdot K - q(t) \\cdot K} \\right)\n",
    "$$\n",
    "\n",
    "For solution approach 2, we can numerically integrate this differential equation. But for solution approach 3, we will rearrange the equation as follows:\n",
    "\n",
    "$$\n",
    "dt = \\frac{m}{F} \\frac{1}{\\left( c_{in} - \\frac{q(t)}{Q \\cdot K - q(t) \\cdot K} \\right)} dq(t)\n",
    "$$\n",
    "\n",
    "Integrating both sides of the equation gives:\n",
    "\n",
    "$$\n",
    "\\int_{t_0}^{t_f} dt = \\int_{q_0}^{q_f}  \\frac{m}{F} \\frac{1}{\\left( c_{in} - \\frac{q(t)}{Q \\cdot K - q(t) \\cdot K} \\right)} dq(t)\n",
    "$$\n",
    "\n",
    "By assuming $t_0=0$, we get:\n",
    "\n",
    "$$\n",
    "t_f = \\int_{q_0}^{q_f}  \\frac{m}{F} \\frac{1}{\\left( c_{in} - \\frac{q(t)}{Q \\cdot K - q(t) \\cdot K} \\right)} dq(t)\n",
    "$$\n",
    "\n",
    "Because $\\frac{m}{F}$ is a constant, we can move it out of the integral:\n",
    "\n",
    "$$\n",
    "t_f = \\frac{m}{F}  \\int_{q_0}^{q_f} \\frac{1}{\\left( c_{in} - \\frac{q(t)}{Q \\cdot K - q(t) \\cdot K} \\right)} dq(t)\n",
    "$$\n",
    "\n",
    "We can approximate this integral with a quadrature rule."
   ]
  },
  {
   "cell_type": "markdown",
   "metadata": {},
   "source": [
    "### B. Numeric Integration"
   ]
  },
  {
   "cell_type": "markdown",
   "metadata": {},
   "source": [
    "<div style=\"background-color: rgba(0,0,255,0.05) ; padding: 10px; border: 1px solid darkblue;\"> \n",
    "<b>Class Activity</b>: Complete the function below to estimate $t_f$.\n",
    "</div>"
   ]
  },
  {
   "cell_type": "code",
   "execution_count": 47,
   "metadata": {
    "colab": {},
    "colab_type": "code",
    "id": "BNDqkMCE8y4e",
    "tags": []
   },
   "outputs": [],
   "source": [
    "# Code for numerical integration and calculation of tf\n",
    "\n",
    "# Define a function to numerically integrate the differential mass balance to give tf\n",
    "def calculate_tf(theta,LOUD=False):\n",
    "    ''' \n",
    "    Calculate the elapsed time (tf) in seconds before the bed needs to be regenerated\n",
    "    Arguments:\n",
    "        theta: vector of model parameters where K(l/mmol) = theta[0] and Q (mmol/g_membrane) = theta[1] (floats)\n",
    "        LOUD: toggle on/off print statement\n",
    "    Returns:\n",
    "        tf (hours) : time at which the membrane needs to be regenerated (float)\n",
    "    '''\n",
    "    \n",
    "    K = theta[0]\n",
    "    Q = theta[1]\n",
    "    \n",
    "    cin_ppb = 150 # ppb\n",
    "    clim_ppb = 15 # ppb\n",
    "    \n",
    "    F = 2*1e-3; # [L/s]\n",
    "    \n",
    "    # Convert cin and clim to mM units, to make it consistent with our model\n",
    "    # ppb = 1mg/m3 = (1x10^-3/207.2) mol / (1000 l) = (1/207.2) x 10^-3 mM\n",
    "\n",
    "    cin = (cin_ppb/207.2)*1e-3 # mM\n",
    "    clim = (clim_ppb/207.2)*1e-3 # mM\n",
    "    \n",
    "    q0 = 0 # [mmol/g-membrane]\n",
    "    \n",
    "    m = 1000 # g-membrane\n",
    "    \n",
    "    # define a lambda function for the Langmuir isotherm\n",
    "    # save the function in the variable 'calc_q'\n",
    "    ### BEGIN SOLUTION\n",
    "    calc_q = lambda c : Q*K*c / (1 +  K*c)\n",
    "    ### END SOLUTION\n",
    "        \n",
    "    ## Step 1: Calculate qf using isotherm\n",
    "    qf = calc_q(clim)\n",
    "    if LOUD:\n",
    "        print(\"qf =\",qf,\"mmol/g\")\n",
    "    \n",
    "    ## Step 2: Apply quadrature rule to integrate dq\n",
    "    #\n",
    "    # Define a lambda function for the integrand\n",
    "    # Then use 'integrate.quad'\n",
    "    # Finally, calculate 'tf'\n",
    "    ### BEGIN SOLUTION\n",
    "    dq = lambda q: 1 / (cin - q / (Q*K - q*K))\n",
    "    val, tol = integrate.quad( dq, q0, qf)\n",
    "    tf = m/F * val\n",
    "    ### END SOLUTION\n",
    "    \n",
    "    # Convert from seconds to hours\n",
    "    return tf / 3600\n",
    "# End: Define a function to numerically integrate the differential mass balance to give tf"
   ]
  },
  {
   "cell_type": "markdown",
   "metadata": {},
   "source": [
    "We will now test our function:"
   ]
  },
  {
   "cell_type": "code",
   "execution_count": 48,
   "metadata": {
    "colab": {},
    "colab_type": "code",
    "id": "JZoO2wyP8y4h",
    "outputId": "724934f9-8dd9-484b-e5da-70a1ac876312"
   },
   "outputs": [
    {
     "name": "stdout",
     "output_type": "stream",
     "text": [
      "Unit Test:\n",
      "K = 0.6 L/mmol\n",
      "Q = 1.5 mmol/g_membrane\n",
      "qf = 6.515161020998122e-05 mmol/g\n",
      "tf = 13.17 hours\n"
     ]
    }
   ],
   "source": [
    "# Unit Test:\n",
    "Qtest = 1.5 # mmol/g_membrane\n",
    "Ktest = 0.6 # L/mmol\n",
    "\n",
    "print(\"Unit Test:\")\n",
    "print(\"K =\",Ktest,\"L/mmol\")\n",
    "print(\"Q =\",Qtest,\"mmol/g_membrane\")\n",
    "tf_test = calculate_tf([Ktest,Qtest],LOUD=True)\n",
    "print(\"tf = {0:0.2f} hours\".format(tf_test));"
   ]
  },
  {
   "cell_type": "markdown",
   "metadata": {},
   "source": [
    "Success. We have calculated the regeneration time of the membrane system."
   ]
  },
  {
   "cell_type": "markdown",
   "metadata": {
    "colab_type": "text",
    "id": "U5RdKf6m8y4k"
   },
   "source": [
    "## 3. Uncertainty Propagation (Nonlinear Formula)\n",
    "\n",
    "We now want to propogate the covariance of our fitted parameters $\\mathbf{\\Sigma_{\\vec{\\theta}}}$ to estimate the uncertainty in the calculated batch time $\\sigma_{t_f}$. To do this, we will apply the general nonlinear error propagation formula:\n",
    "\n",
    "$$ \\sigma_{t_f} \\approx \\left( \\nabla_{\\vec{\\theta}} t_f \\right) \\left(\\mathbf{\\Sigma_{\\vec{\\theta}}} \\right) \\left( \\nabla_{\\vec{\\theta}} t_f \\right)^{T}\n",
    "$$\n",
    "\n",
    "This requires us to compute (or estimate!) the gradient vector:\n",
    "\n",
    "$$\n",
    "\\nabla_{\\vec{\\theta}} t_f = \\begin{bmatrix} \\frac{\\partial t_f}{\\partial K},~ \\frac{\\partial t_f}{\\partial Q} \\end{bmatrix}\n",
    "$$\n",
    "\n",
    "Note: During some class notes we define the gradiant vector with a transpose, which requires the transpose to move in the error propagation formula. Either way is common in textbooks. Our apologies for the inconsistency and any confusion. Here is a good rule: just make sure the matrix dimensions work for multiplication and add a transpose if needed!\n"
   ]
  },
  {
   "cell_type": "markdown",
   "metadata": {},
   "source": [
    "### A. Define Functions"
   ]
  },
  {
   "cell_type": "markdown",
   "metadata": {},
   "source": [
    "<div style=\"background-color: rgba(0,0,255,0.05) ; padding: 10px; border: 1px solid darkblue;\"> \n",
    "<b>Class Activity</b>: Complete the function below to estimate $uc_tf$.\n",
    "</div>"
   ]
  },
  {
   "cell_type": "code",
   "execution_count": 49,
   "metadata": {
    "colab": {},
    "colab_type": "code",
    "id": "AqlPXxsD8y4k",
    "tags": []
   },
   "outputs": [],
   "source": [
    "# define a function to perform nonlinear error propagation\n",
    "def nonlinear_error_propagation(theta,cov_theta,LOUD=True):\n",
    "    '''\n",
    "    Function to perform nonlinear error propagation through regeneration time calculations\n",
    "    using forward finite difference gradient\n",
    "    \n",
    "    Arguments:\n",
    "        theta: vector of model parameters where K(l/mmol) = theta[0] \n",
    "        and Q (mmol/g_membrane) = theta[1] (vector floats)\n",
    "        cov_theta: covariance matrix of theta (matrix of floats)\n",
    "        LOUD: toggle on/off printing\n",
    "    Returns:\n",
    "        uc_tf (hours) : uncertainty (standard deviation) in time at which the membrane needs to be regenerated\n",
    "    '''\n",
    "\n",
    "    ## Step 1. Calculate gradient of tf calculate to Q and K\n",
    "    # We will use finite difference!\n",
    "\n",
    "    tf_ref = calculate_tf(theta)\n",
    "    n = len(theta)\n",
    "    \n",
    "    theta_copy = theta.copy()\n",
    "    \n",
    "    grad = np.zeros(n)\n",
    "    \n",
    "    eps = 1E-6\n",
    "    \n",
    "    # Instructions: fill in the three missing lines below.\n",
    "    for i in range(n):\n",
    "        \n",
    "        # perturb\n",
    "        ### BEGIN SOLUTION\n",
    "        theta_copy[i] += eps\n",
    "        ### END SOLUTION\n",
    "        \n",
    "        # forward finite difference\n",
    "        ### BEGIN SOLUTION\n",
    "        grad[i] = (calculate_tf(theta_copy) - tf_ref) / eps\n",
    "        ### END SOLUTION\n",
    "        \n",
    "        # reset\n",
    "        ### BEGIN SOLUTION\n",
    "        theta_copy[i] = theta[i]\n",
    "        ### END SOLUTION\n",
    "        \n",
    "    if LOUD:\n",
    "        print('grad=',grad)\n",
    "        \n",
    "    ## Step 2. Apply nonlinear error propagation formula\n",
    "    # Instructions: fill in the missing line\n",
    "    # store the result in the variable 'var_tf'\n",
    "    # Hint: Numpy is smart enough to know that 'grad' is a vector. It will add a transpose as\n",
    "    # need to matrix the matrix dimensions.\n",
    "    ### BEGIN SOLUTION\n",
    "    var_tf = grad @ cov_theta @ grad\n",
    "    ### END SOLUTION\n",
    "    \n",
    "    ## Step 3. Calculate standard deviation\n",
    "    uc_tf = np.sqrt(var_tf)\n",
    "    \n",
    "    \n",
    "    print(\"\\nUncertainty (standard deviation) of tf: {0:0.2f} hours\".format(uc_tf))\n",
    "    \n",
    "    return uc_tf\n",
    "# end: define a function to perform nonlinear error propagation"
   ]
  },
  {
   "cell_type": "markdown",
   "metadata": {},
   "source": [
    "Let's test our function with the results for the first transformed model."
   ]
  },
  {
   "cell_type": "code",
   "execution_count": 50,
   "metadata": {},
   "outputs": [
    {
     "name": "stdout",
     "output_type": "stream",
     "text": [
      "grad= [21.32635417  8.14794015]\n",
      "\n",
      "Uncertainty (standard deviation) of tf: 2.25 hours\n"
     ]
    }
   ],
   "source": [
    "sigma_tf_test = nonlinear_error_propagation([Klin1, Qlin1], cov_theta_lin1)"
   ]
  },
  {
   "cell_type": "markdown",
   "metadata": {},
   "source": [
    "Great, our function works. We can also calculate a 95% confidence interval for the estimated batch time."
   ]
  },
  {
   "cell_type": "markdown",
   "metadata": {},
   "source": [
    "<div style=\"background-color: rgba(0,0,255,0.05) ; padding: 10px; border: 1px solid darkblue;\"> \n",
    "<b>Class Activity</b>: Discuss the code below with a partner. Then write a comment to explain the calculation.\n",
    "</div>"
   ]
  },
  {
   "cell_type": "code",
   "execution_count": 51,
   "metadata": {
    "tags": []
   },
   "outputs": [],
   "source": [
    "# define a function to print the 95% confidence interval\n",
    "def conf_int(t, t_uc, dof):\n",
    "    '''\n",
    "    function to calculate, print and return the 95% confidence interval for \n",
    "    tf\n",
    "    \n",
    "    args\n",
    "    t (s): regeneration time for the membrane (float)\n",
    "    t_uc (s) : uncertainty (standard deviation) in t (float)\n",
    "    dof (-) : degrees of freedom in the system (int)\n",
    "    \n",
    "    returns\n",
    "    t_cint (s) : 95% confidence interval for t (float vector)\n",
    "    '''\n",
    "    \n",
    "    ## Add a comment here to explain this line\n",
    "    t_cint = t + t_uc*stats.t.ppf([.025, .975], dof)\n",
    "\n",
    "    print(\"\\n95% confidence interval for tf: [{0:0.2f} hr, {1:0.2f} hr]\".format(t_cint[0],t_cint[1]));\n",
    "    \n",
    "    return t_cint;"
   ]
  },
  {
   "cell_type": "markdown",
   "metadata": {},
   "source": [
    "Let's test our function with the results for the first transformed model."
   ]
  },
  {
   "cell_type": "code",
   "execution_count": 52,
   "metadata": {},
   "outputs": [
    {
     "name": "stdout",
     "output_type": "stream",
     "text": [
      "\n",
      "95% confidence interval for tf: [6.93 hr, 19.40 hr]\n"
     ]
    }
   ],
   "source": [
    "cint_tf_test = conf_int(tf_test, sigma_tf_test, n-p)"
   ]
  },
  {
   "cell_type": "markdown",
   "metadata": {},
   "source": [
    "Note we used `tf_test` for this unit test which does not correspond to our regression results. Do not attempt to interpret the above results.\n",
    "\n",
    "Now we can apply these two functions to our three regression strategies."
   ]
  },
  {
   "cell_type": "markdown",
   "metadata": {},
   "source": [
    "### B. First Transformation + Linear Regression"
   ]
  },
  {
   "cell_type": "markdown",
   "metadata": {},
   "source": [
    "<div style=\"background-color: rgba(0,0,255,0.05) ; padding: 10px; border: 1px solid darkblue;\"> \n",
    "<b>Class Activity</b>: Calculate the uncertainty in the $t_f$ predictions and a 95% confidence interval.\n",
    "</div>"
   ]
  },
  {
   "cell_type": "code",
   "execution_count": 53,
   "metadata": {
    "colab": {},
    "colab_type": "code",
    "id": "ZzhQth5x8y4n",
    "outputId": "ee0e734b-5987-4160-ee2d-26fe3d7ff1b2"
   },
   "outputs": [
    {
     "name": "stdout",
     "output_type": "stream",
     "text": [
      "grad= [21.32635417  8.14794015]\n",
      "\n",
      "Uncertainty (standard deviation) of tf: 2.25 hours\n",
      "\n",
      "95% confidence interval for tf: [5.64 hr, 18.11 hr]\n"
     ]
    }
   ],
   "source": [
    "### BEGIN SOLUTION\n",
    "# Calculate tf using parameters from linear regression\n",
    "\n",
    "tf_lin1 = calculate_tf([Klin1, Qlin1]);\n",
    "\n",
    "# Code for uncertainty propagation with linear regression\n",
    "sigma_tf_lin1 = nonlinear_error_propagation([Klin1, Qlin1], cov_theta_lin1)\n",
    "\n",
    "\n",
    "# 95% confidence interval for linear regression\n",
    "cint_tf_lin1 = conf_int(tf_lin1, sigma_tf_lin1, n-p)\n",
    "### END SOLUTION"
   ]
  },
  {
   "cell_type": "markdown",
   "metadata": {},
   "source": [
    "### C. Second (Alternate) Transformation + Linear Regression"
   ]
  },
  {
   "cell_type": "markdown",
   "metadata": {},
   "source": [
    "<div style=\"background-color: rgba(0,0,255,0.05) ; padding: 10px; border: 1px solid darkblue;\"> \n",
    "<b>Class Activity</b>: Calculate the uncertainty in the $t_f$ predictions and a 95% confidence interval.\n",
    "</div>"
   ]
  },
  {
   "cell_type": "code",
   "execution_count": 54,
   "metadata": {},
   "outputs": [
    {
     "name": "stdout",
     "output_type": "stream",
     "text": [
      "grad= [21.79237003  7.52398947]\n",
      "\n",
      "Uncertainty (standard deviation) of tf: 0.65 hours\n",
      "\n",
      "95% confidence interval for tf: [9.41 hr, 13.00 hr]\n"
     ]
    }
   ],
   "source": [
    "### BEGIN SOLUTION\n",
    "# Calculate tf using parameters from linear regression\n",
    "\n",
    "tf_lin2 = calculate_tf([Klin2, Qlin2]);\n",
    "\n",
    "# Code for uncertainty propagation with linear regression\n",
    "sigma_tf_lin2 = nonlinear_error_propagation([Klin2, Qlin2], cov_theta_lin2)\n",
    "\n",
    "# 95% confidence interval for linear regression\n",
    "cint_tf_lin2 = conf_int(tf_lin2, sigma_tf_lin2, n-p)\n",
    "### END SOLUTION"
   ]
  },
  {
   "cell_type": "markdown",
   "metadata": {},
   "source": [
    "### D. Nonlinear Regression"
   ]
  },
  {
   "cell_type": "markdown",
   "metadata": {},
   "source": [
    "<div style=\"background-color: rgba(0,0,255,0.05) ; padding: 10px; border: 1px solid darkblue;\"> \n",
    "<b>Class Activity</b>: Calculate the uncertainty in the $t_f$ predictions and a 95% confidence interval.\n",
    "</div>"
   ]
  },
  {
   "cell_type": "code",
   "execution_count": 55,
   "metadata": {
    "colab": {},
    "colab_type": "code",
    "id": "WGDbCDoG8y4q",
    "outputId": "9776167d-297b-4fb0-e663-70d4654bd134"
   },
   "outputs": [
    {
     "name": "stdout",
     "output_type": "stream",
     "text": [
      "grad= [21.41427393  8.13841288]\n",
      "\n",
      "Uncertainty (standard deviation) of tf: 1.70 hours\n",
      "\n",
      "95% confidence interval for tf: [7.18 hr, 16.64 hr]\n"
     ]
    }
   ],
   "source": [
    "### BEGIN SOLUTION\n",
    "# Calculate tf using parameters from nonlinear regression\n",
    "tf_nl = calculate_tf([Knl, Qnl]);\n",
    "\n",
    "# Code for uncertainty propagation with nonlinear regression\n",
    "sigma_tf_nl = nonlinear_error_propagation([Knl, Qnl], cov_theta_nl)\n",
    "\n",
    "# 95% confidence interval for nonlinear regression\n",
    "cint_tf_nl = conf_int(tf_nl, sigma_tf_nl, n-p)\n",
    "### END SOLUTION"
   ]
  },
  {
   "cell_type": "markdown",
   "metadata": {},
   "source": [
    "### E. Discussion"
   ]
  },
  {
   "cell_type": "markdown",
   "metadata": {},
   "source": [
    "<div style=\"background-color: rgba(0,0,255,0.05) ; padding: 10px; border: 1px solid darkblue;\"> \n",
    "<b>Class Activity</b>: Compare the uncertainty estimates for batch time from the three regression approaches. Then write one sentence to answer each of the following questions.\n",
    "</div>"
   ]
  },
  {
   "cell_type": "markdown",
   "metadata": {},
   "source": [
    "**Disucssion**:\n",
    "1. *Order the three regression estimates from smallest to largest uncertainty in batch time.* **Answer:** Fill in here...\n",
    "2. *Which one regression result do you trust more than the other two?* **Answer:** Fill in here...\n",
    "3. *Waiting too long to regenerate the membrane can result in accidental lead exposure. Based on our analysis, what is the maximum batch time you recommend before regenerating the membrane?* **Answer:** Fill in here..."
   ]
  },
  {
   "cell_type": "markdown",
   "metadata": {},
   "source": [
    "## 4. Monte Carlo Uncertainty Propogation\n",
    "\n",
    "We will revisit this notebook **during a future class this semester**.\n",
    "\n",
    "To keep this example concise, we will only apply MC uncertainty propogation to the nonlinear regression method. We recommend nonlinear regression for most engineering examples."
   ]
  },
  {
   "cell_type": "markdown",
   "metadata": {},
   "source": [
    "### A. Inspect Residuals\n",
    "\n",
    "We will start by characterizing the residuals for the nonlinear regression case. Let's start by plotting a histogram:"
   ]
  },
  {
   "cell_type": "code",
   "execution_count": 56,
   "metadata": {},
   "outputs": [
    {
     "data": {
      "image/png": "[encoded data removed]",
      "text/plain": [
       "<Figure size 432x288 with 1 Axes>"
      ]
     },
     "metadata": {
      "needs_background": "light"
     },
     "output_type": "display_data"
    }
   ],
   "source": [
    "plt.hist(r3)\n",
    "plt.xlabel(\"Residuals (mmol/g)\")\n",
    "plt.ylabel(\"Count\")\n",
    "plt.title(\"Histogram of Residuals for Nonlinear Regression\")\n",
    "plt.show()"
   ]
  },
  {
   "cell_type": "markdown",
   "metadata": {},
   "source": [
    "Becase there are only 6 data points, this plot is not very revealing. We do not see any extreme outliers, which is pretty much all we can check. If we had more than 10 or 20 samples, we could expect the histogram of residuals to be approximately normally distributed.\n",
    "\n",
    "Finally, recall that the variance of the residuals is stored in `var_r3`."
   ]
  },
  {
   "cell_type": "code",
   "execution_count": 57,
   "metadata": {},
   "outputs": [
    {
     "name": "stdout",
     "output_type": "stream",
     "text": [
      "Variance of the residuals:  0.004648376875480317 (mmol/g)^2\n"
     ]
    }
   ],
   "source": [
    "print(\"Variance of the residuals: \",var_r3,\"(mmol/g)^2\")"
   ]
  },
  {
   "cell_type": "markdown",
   "metadata": {},
   "source": [
    "### B. Monte Carlo Python Code"
   ]
  },
  {
   "cell_type": "markdown",
   "metadata": {},
   "source": [
    "<div style=\"background-color: rgba(0,0,255,0.05) ; padding: 10px; border: 1px solid darkblue;\"> \n",
    "<b>Class Activity</b>: Fill in the steps in the MC code below.\n",
    "</div>"
   ]
  },
  {
   "cell_type": "code",
   "execution_count": 58,
   "metadata": {
    "tags": []
   },
   "outputs": [],
   "source": [
    "# Number of Monte Carlo samples\n",
    "nmc = 1000; \n",
    "\n",
    "# Declare a matrix to save the Monte Carlo samples\n",
    "# Rows: simulations\n",
    "# Columns: fitted parameters\n",
    "theta_mc = np.zeros((nmc,2))\n",
    "\n",
    "# Declare a vector to save Monte Carlo sample\n",
    "tf_mc = np.zeros(nmc)\n",
    "\n",
    "# Estimate fitted paramters for the random samples\n",
    "for i in range(nmc):\n",
    "    \n",
    "    # Add noise to the experimental data. Store the 'new' data in the vector 'noisy_data'\n",
    "    ### BEGIN SOLUTION\n",
    "    noise_vector = np.random.normal(loc = 0,scale = var_r3**0.5, \\\n",
    "                                    size=(n))\n",
    "    noisy_data = q + noise_vector\n",
    "    ### END SOLUTION\n",
    "    \n",
    "    ## Perform nonlinear regression\n",
    "    ### BEGIN SOLUTION\n",
    "    theta_init = [Knl, Qnl]\n",
    "    sol = optimize.least_squares(regression_func,theta_init ,args=(c, noisy_data))\n",
    "    ### END SOLUTION\n",
    "    \n",
    "    ## Store the results from regression\n",
    "    ### BEGIN SOLUTION\n",
    "    theta_mc[i,:] = sol.x\n",
    "    ### END SOLUTION\n",
    "    \n",
    "    ## Calculate tf\n",
    "    ### BEGIN SOLUTION\n",
    "    tf_mc[i] = calculate_tf(sol.x)\n",
    "    ### END SOLUTION\n",
    "# end main MC loop"
   ]
  },
  {
   "cell_type": "markdown",
   "metadata": {},
   "source": [
    "### C. Visualize and Interpret MC Results: Fitted Parameters"
   ]
  },
  {
   "cell_type": "markdown",
   "metadata": {},
   "source": [
    "We will start by inspecting historgrams of the fitted parameters:"
   ]
  },
  {
   "cell_type": "code",
   "execution_count": 59,
   "metadata": {},
   "outputs": [
    {
     "data": {
      "image/png": "[encoded data removed]",
      "text/plain": [
       "<Figure size 432x288 with 1 Axes>"
      ]
     },
     "metadata": {
      "needs_background": "light"
     },
     "output_type": "display_data"
    }
   ],
   "source": [
    "plt.hist(theta_mc[:,0])\n",
    "plt.xlabel(\"K (1/mM)\")\n",
    "plt.ylabel(\"Frequency\")\n",
    "plt.show()"
   ]
  },
  {
   "cell_type": "markdown",
   "metadata": {},
   "source": [
    "<div style=\"background-color: rgba(0,0,255,0.05) ; padding: 10px; border: 1px solid darkblue;\"> \n",
    "<b>Class Activity</b>: Make a histogram for $Q$.\n",
    "</div>"
   ]
  },
  {
   "cell_type": "code",
   "execution_count": 60,
   "metadata": {},
   "outputs": [
    {
     "data": {
      "image/png": "[encoded data removed]",
      "text/plain": [
       "<Figure size 432x288 with 1 Axes>"
      ]
     },
     "metadata": {
      "needs_background": "light"
     },
     "output_type": "display_data"
    }
   ],
   "source": [
    "### BEGIN SOLUTION\n",
    "plt.hist(theta_mc[:,1])\n",
    "plt.xlabel(\"Q (mmol/g)\")\n",
    "plt.ylabel(\"Frequency\")\n",
    "plt.show()\n",
    "### END SOLUTION"
   ]
  },
  {
   "cell_type": "markdown",
   "metadata": {},
   "source": [
    "We can also make a scatter plot to see the relationship between uncertainty in $K$ and $Q$:"
   ]
  },
  {
   "cell_type": "code",
   "execution_count": 61,
   "metadata": {},
   "outputs": [
    {
     "data": {
      "image/png": "[encoded data removed]",
      "text/plain": [
       "<Figure size 432x288 with 1 Axes>"
      ]
     },
     "metadata": {
      "needs_background": "light"
     },
     "output_type": "display_data"
    }
   ],
   "source": [
    "plt.scatter(theta_mc[:,0], theta_mc[:,1])\n",
    "plt.xlabel(\"K (1/mM)\")\n",
    "plt.ylabel(\"Q (mmol/g)\")\n",
    "plt.grid(True)\n",
    "plt.show()"
   ]
  },
  {
   "cell_type": "markdown",
   "metadata": {},
   "source": [
    "We can also compute the covariance between $K$ and $Q$. We'll start by loading our MC results into a Pandas DataFrame:"
   ]
  },
  {
   "cell_type": "code",
   "execution_count": 62,
   "metadata": {},
   "outputs": [
    {
     "data": {
      "text/html": [
       "<div>\n",
       "<style scoped>\n",
       "    .dataframe tbody tr th:only-of-type {\n",
       "        vertical-align: middle;\n",
       "    }\n",
       "\n",
       "    .dataframe tbody tr th {\n",
       "        vertical-align: top;\n",
       "    }\n",
       "\n",
       "    .dataframe thead th {\n",
       "        text-align: right;\n",
       "    }\n",
       "</style>\n",
       "<table border=\"1\" class=\"dataframe\">\n",
       "  <thead>\n",
       "    <tr style=\"text-align: right;\">\n",
       "      <th></th>\n",
       "      <th>Q</th>\n",
       "      <th>K</th>\n",
       "    </tr>\n",
       "  </thead>\n",
       "  <tbody>\n",
       "    <tr>\n",
       "      <th>0</th>\n",
       "      <td>0.464379</td>\n",
       "      <td>1.558849</td>\n",
       "    </tr>\n",
       "    <tr>\n",
       "      <th>1</th>\n",
       "      <td>0.578028</td>\n",
       "      <td>1.467195</td>\n",
       "    </tr>\n",
       "    <tr>\n",
       "      <th>2</th>\n",
       "      <td>0.558018</td>\n",
       "      <td>1.482760</td>\n",
       "    </tr>\n",
       "    <tr>\n",
       "      <th>3</th>\n",
       "      <td>0.695723</td>\n",
       "      <td>1.401479</td>\n",
       "    </tr>\n",
       "    <tr>\n",
       "      <th>4</th>\n",
       "      <td>0.585941</td>\n",
       "      <td>1.466293</td>\n",
       "    </tr>\n",
       "  </tbody>\n",
       "</table>\n",
       "</div>"
      ],
      "text/plain": [
       "          Q         K\n",
       "0  0.464379  1.558849\n",
       "1  0.578028  1.467195\n",
       "2  0.558018  1.482760\n",
       "3  0.695723  1.401479\n",
       "4  0.585941  1.466293"
      ]
     },
     "execution_count": 62,
     "metadata": {},
     "output_type": "execute_result"
    }
   ],
   "source": [
    "mc = pd.DataFrame(theta_mc,columns={\"K\",\"Q\"})\n",
    "mc.head()"
   ]
  },
  {
   "cell_type": "markdown",
   "metadata": {},
   "source": [
    "Then we can compute covariance and correlation:"
   ]
  },
  {
   "cell_type": "code",
   "execution_count": 63,
   "metadata": {},
   "outputs": [
    {
     "data": {
      "text/html": [
       "<div>\n",
       "<style scoped>\n",
       "    .dataframe tbody tr th:only-of-type {\n",
       "        vertical-align: middle;\n",
       "    }\n",
       "\n",
       "    .dataframe tbody tr th {\n",
       "        vertical-align: top;\n",
       "    }\n",
       "\n",
       "    .dataframe thead th {\n",
       "        text-align: right;\n",
       "    }\n",
       "</style>\n",
       "<table border=\"1\" class=\"dataframe\">\n",
       "  <thead>\n",
       "    <tr style=\"text-align: right;\">\n",
       "      <th></th>\n",
       "      <th>Q</th>\n",
       "      <th>K</th>\n",
       "    </tr>\n",
       "  </thead>\n",
       "  <tbody>\n",
       "    <tr>\n",
       "      <th>Q</th>\n",
       "      <td>0.009636</td>\n",
       "      <td>-0.004014</td>\n",
       "    </tr>\n",
       "    <tr>\n",
       "      <th>K</th>\n",
       "      <td>-0.004014</td>\n",
       "      <td>0.003165</td>\n",
       "    </tr>\n",
       "  </tbody>\n",
       "</table>\n",
       "</div>"
      ],
      "text/plain": [
       "          Q         K\n",
       "Q  0.009636 -0.004014\n",
       "K -0.004014  0.003165"
      ]
     },
     "execution_count": 63,
     "metadata": {},
     "output_type": "execute_result"
    }
   ],
   "source": [
    "mc.cov()"
   ]
  },
  {
   "cell_type": "code",
   "execution_count": 64,
   "metadata": {},
   "outputs": [
    {
     "data": {
      "text/html": [
       "<div>\n",
       "<style scoped>\n",
       "    .dataframe tbody tr th:only-of-type {\n",
       "        vertical-align: middle;\n",
       "    }\n",
       "\n",
       "    .dataframe tbody tr th {\n",
       "        vertical-align: top;\n",
       "    }\n",
       "\n",
       "    .dataframe thead th {\n",
       "        text-align: right;\n",
       "    }\n",
       "</style>\n",
       "<table border=\"1\" class=\"dataframe\">\n",
       "  <thead>\n",
       "    <tr style=\"text-align: right;\">\n",
       "      <th></th>\n",
       "      <th>Q</th>\n",
       "      <th>K</th>\n",
       "    </tr>\n",
       "  </thead>\n",
       "  <tbody>\n",
       "    <tr>\n",
       "      <th>Q</th>\n",
       "      <td>1.000000</td>\n",
       "      <td>-0.726845</td>\n",
       "    </tr>\n",
       "    <tr>\n",
       "      <th>K</th>\n",
       "      <td>-0.726845</td>\n",
       "      <td>1.000000</td>\n",
       "    </tr>\n",
       "  </tbody>\n",
       "</table>\n",
       "</div>"
      ],
      "text/plain": [
       "          Q         K\n",
       "Q  1.000000 -0.726845\n",
       "K -0.726845  1.000000"
      ]
     },
     "execution_count": 64,
     "metadata": {},
     "output_type": "execute_result"
    }
   ],
   "source": [
    "mc.corr()"
   ]
  },
  {
   "cell_type": "markdown",
   "metadata": {},
   "source": [
    "Let's compare against our covariance matrix from Section 1C:"
   ]
  },
  {
   "cell_type": "code",
   "execution_count": 65,
   "metadata": {},
   "outputs": [
    {
     "name": "stdout",
     "output_type": "stream",
     "text": [
      "Covariance Matrix of Original Model Parameters (K,Q):\n",
      " [[ 0.00887448 -0.00392218]\n",
      " [-0.00392218  0.00306799]]\n"
     ]
    }
   ],
   "source": [
    "print(\"Covariance Matrix of Original Model Parameters (K,Q):\\n\",cov_theta_nl)"
   ]
  },
  {
   "cell_type": "markdown",
   "metadata": {},
   "source": [
    "These results are similar! Why do we not expect them to match exactly?"
   ]
  },
  {
   "cell_type": "markdown",
   "metadata": {},
   "source": [
    "### D. Visualize and Interpret MC Results: Batch Time"
   ]
  },
  {
   "cell_type": "markdown",
   "metadata": {},
   "source": [
    "<div style=\"background-color: rgba(0,0,255,0.05) ; padding: 10px; border: 1px solid darkblue;\"> \n",
    "<b>Class Activity</b>: Make a histogram for $t_f$.\n",
    "</div>"
   ]
  },
  {
   "cell_type": "code",
   "execution_count": 66,
   "metadata": {},
   "outputs": [
    {
     "data": {
      "image/png": "[encoded data removed]",
      "text/plain": [
       "<Figure size 432x288 with 1 Axes>"
      ]
     },
     "metadata": {
      "needs_background": "light"
     },
     "output_type": "display_data"
    }
   ],
   "source": [
    "### BEGIN SOLUTION\n",
    "plt.hist(tf_mc)\n",
    "plt.xlabel(\"t_f (hours)\")\n",
    "plt.ylabel(\"Frequency\")\n",
    "plt.show()\n",
    "### END SOLUTION"
   ]
  },
  {
   "cell_type": "markdown",
   "metadata": {},
   "source": [
    "We can also calculate the mean and median batch time:"
   ]
  },
  {
   "cell_type": "code",
   "execution_count": 67,
   "metadata": {},
   "outputs": [
    {
     "name": "stdout",
     "output_type": "stream",
     "text": [
      "mean batch time = 12.034734451786232  hours\n",
      "median batch time = 11.87109965875321  hours\n"
     ]
    }
   ],
   "source": [
    "print(\"mean batch time =\",np.mean(tf_mc),\" hours\")\n",
    "print(\"median batch time =\",np.median(tf_mc),\" hours\")"
   ]
  },
  {
   "cell_type": "markdown",
   "metadata": {},
   "source": [
    "As well as the standard deviation of batch time from the Monte Carlo simulations:"
   ]
  },
  {
   "cell_type": "code",
   "execution_count": 68,
   "metadata": {},
   "outputs": [
    {
     "name": "stdout",
     "output_type": "stream",
     "text": [
      "standard deviation of batch time = 1.767604761517864 hours\n"
     ]
    }
   ],
   "source": [
    "# Choose ddof=0 (default) versus ddof=1 with N=1000 do not matter that much\n",
    "print(\"standard deviation of batch time =\",np.std(tf_mc), \"hours\")"
   ]
  },
  {
   "cell_type": "markdown",
   "metadata": {},
   "source": [
    "We can also calculate the 2.5%-ile and 97.5%-ile of batch time from the MC simulations."
   ]
  },
  {
   "cell_type": "code",
   "execution_count": 69,
   "metadata": {},
   "outputs": [
    {
     "name": "stdout",
     "output_type": "stream",
     "text": [
      "2.5%-ile batch time = 9.123441347214365  hours\n",
      "97.5%-ile batch time = 15.84766759583435  hours\n"
     ]
    }
   ],
   "source": [
    "print(\"2.5%-ile batch time =\",np.percentile(tf_mc,2.5),\" hours\")\n",
    "print(\"97.5%-ile batch time =\",np.percentile(tf_mc,97.5),\" hours\")"
   ]
  },
  {
   "cell_type": "markdown",
   "metadata": {},
   "source": [
    "Finally, let's compare the standard deviation and percentiles to $\\sigma_{t_f}$ and the 95% confidence interval calculated in Section 3D (code copied for convienence):"
   ]
  },
  {
   "cell_type": "code",
   "execution_count": 70,
   "metadata": {},
   "outputs": [
    {
     "name": "stdout",
     "output_type": "stream",
     "text": [
      "grad= [21.41427393  8.13841288]\n",
      "\n",
      "Uncertainty (standard deviation) of tf: 1.70 hours\n",
      "\n",
      "95% confidence interval for tf: [7.18 hr, 16.64 hr]\n"
     ]
    }
   ],
   "source": [
    "# Calculate tf using parameters from nonlinear regression\n",
    "tf_nl = calculate_tf([Knl, Qnl]);\n",
    "\n",
    "# Code for uncertainty propagation with nonlinear regression\n",
    "sigma_tf_nl = nonlinear_error_propagation([Knl, Qnl], cov_theta_nl)\n",
    "\n",
    "# 95% confidence interval for nonlinear regression\n",
    "cint_tf_nl = conf_int(tf_nl, sigma_tf_nl, n-p)"
   ]
  },
  {
   "cell_type": "markdown",
   "metadata": {},
   "source": [
    "<div style=\"background-color: rgba(0,0,255,0.05) ; padding: 10px; border: 1px solid darkblue;\"> \n",
    "<b>Class Activity</b>: Compare the uncertainty estimates in batch time and the standard deviation.\n",
    "</div>"
   ]
  }
 ],
 "metadata": {
  "colab": {
   "name": "final_project_solutions.ipynb",
   "provenance": [],
   "version": "0.3.2"
  },
  "kernelspec": {
   "display_name": "Python 3 (ipykernel)",
   "language": "python",
   "name": "python3"
  },
  "language_info": {
   "codemirror_mode": {
    "name": "ipython",
    "version": 3
   },
   "file_extension": ".py",
   "mimetype": "text/x-python",
   "name": "python",
   "nbconvert_exporter": "python",
   "pygments_lexer": "ipython3",
   "version": "3.9.12"
  }
 },
 "nbformat": 4,
 "nbformat_minor": 4
}
