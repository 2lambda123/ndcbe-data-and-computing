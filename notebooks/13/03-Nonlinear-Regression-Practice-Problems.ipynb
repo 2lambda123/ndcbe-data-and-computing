{
 "cells": [
  {
   "cell_type": "markdown",
   "metadata": {
    "colab_type": "text",
    "id": "jT17y5kMqAii"
   },
   "source": [
    "# Class 21: Transformations and Nonlinear Regression\n",
    "\n",
    "CBE 20258. Numerical and Statistical Analysis. Spring 2020.\n",
    "\n",
    "&#169; University of Notre Dame"
   ]
  },
  {
   "cell_type": "code",
   "execution_count": 1,
   "metadata": {
    "colab": {},
    "colab_type": "code",
    "collapsed": true,
    "id": "9yOdJ8EYqAij"
   },
   "outputs": [],
   "source": [
    "# load libraries\n",
    "import scipy.stats as stats\n",
    "import numpy as np\n",
    "import scipy.optimize as optimize\n",
    "import math\n",
    "import matplotlib.pyplot as plt"
   ]
  },
  {
   "cell_type": "markdown",
   "metadata": {
    "colab_type": "text",
    "id": "u3Ej4bHAqAio"
   },
   "source": [
    "## Lecture 21 Learning Objectives\n",
    "\n",
    "After studying this notebook, attending class, asking questions, and reviewing your notes, you should be able to:\n",
    "* Develop transforms some nonlinear models and apply linear regression\n",
    "* Perform residual analysis for linear and nonlinear regression (as diagnostic plots for both)\n",
    "* Calculate standard errors (i.e., standard deviation) of the residuals\n",
    "* Assemble the covariance matrix for linear regression using normal equations (i.e., feature matrix $\\mathbf{X}$)\n",
    "* Calculate nonlinear regression best fit using Python\n",
    "* Assemble the covariance matrix for nonlinear regression"
   ]
  },
  {
   "cell_type": "markdown",
   "metadata": {},
   "source": [
    "## 21a. Introduction"
   ]
  },
  {
   "cell_type": "markdown",
   "metadata": {},
   "source": [
    "Often as engineers, we need to model nonlinear phenomena. In this class session, we will learn how to extend ideas from linear regression to fit parameters that in nonlinear model equations. We will also learn how to estimate uncertainty in these fitted parameters.\n",
    "\n",
    "Unfortunately, Navidi (2015) does not cover nonlinear regression in detail. But do not fear! This notebook and our class session notes will cover all of the basics."
   ]
  },
  {
   "cell_type": "markdown",
   "metadata": {},
   "source": [
    "### Home Activities\n",
    "\n",
    "Answers to the **Home Activities** should be worked out on paper and submitted via Gradescope. See `C21-home-activities.pdf` on Sakai for a template."
   ]
  },
  {
   "cell_type": "markdown",
   "metadata": {
    "colab_type": "text",
    "id": "N1O07jo_qAio"
   },
   "source": [
    "### Motivating Example and Dataset\n",
    "\n",
    "The **Michaelis-Menten** equation is an extremely popular model to describe the rate of enzymatic reactions.\n",
    "\n",
    "$$\n",
    "\\mathrm{E} + \\mathrm{S} \\leftrightharpoons \\mathrm{ES} \\rightarrow \\mathrm{E} + \\mathrm{P}\n",
    "$$\n",
    "\n",
    "Here E is the enzyme and S is the substrate. They bind to form the complex ES, which undergoes a reaction to create product P.\n",
    "\n",
    "A good approximation is to describe the rate of this reaction as follows:\n",
    "\n",
    "$$\n",
    "r = V_{max} \\frac{[\\mathrm{S}]}{K_M + [\\mathrm{S}]}\n",
    "$$\n",
    "\n",
    "Here $V_{max}$ and $K_M$ as fitted parameters. $[\\mathrm{S}]$ is the concentration of the substrate in solution and $r$ is the rate of the reaction.\n",
    "\n",
    "Additional information: https://en.wikipedia.org/wiki/Michaelis%E2%80%93Menten_kinetics"
   ]
  },
  {
   "cell_type": "markdown",
   "metadata": {},
   "source": [
    "<div style=\"background-color: rgba(0,255,0,0.05) ; padding: 10px; border: 1px solid darkgreen;\"> \n",
    "<b>Home Activity</b>: Spend a few minutes researching the Michaelis-Menten equation.\n",
    "</div>"
   ]
  },
  {
   "cell_type": "markdown",
   "metadata": {},
   "source": [
    "We need to start with some data. For this notebook, we are going to create an artificial (a.k.a.) synthetic data set by assuming values for $V_{max}$ and $K_M$ in the model."
   ]
  },
  {
   "cell_type": "code",
   "execution_count": 2,
   "metadata": {
    "collapsed": true
   },
   "outputs": [],
   "source": [
    "# Define exact coefficients\n",
    "Vmaxexact=2;\n",
    "Kmexact=5;"
   ]
  },
  {
   "cell_type": "markdown",
   "metadata": {},
   "source": [
    "<div style=\"background-color: rgba(0,255,0,0.05) ; padding: 10px; border: 1px solid darkgreen;\"> \n",
    "<b>Home Activity</b>: What are the units of $V_{max}$ and $K_M$ if $[\\mathrm{S}]$ has units mol/L and $r$ has units mol/L/s?\n",
    "</div>"
   ]
  },
  {
   "cell_type": "markdown",
   "metadata": {},
   "source": [
    "We are now going to evaluate our model at $[\\mathrm{S}]$ = .3, .4, 0.5, 1, 2, 4, 8, and 16 mol/L."
   ]
  },
  {
   "cell_type": "code",
   "execution_count": 3,
   "metadata": {
    "collapsed": true
   },
   "outputs": [],
   "source": [
    "# Evaluate model\n",
    "Sexp = np.array([.3, .4, 0.5, 1, 2, 4, 8, 16]);\n",
    "rexp = Vmaxexact*Sexp / (Kmexact+Sexp);"
   ]
  },
  {
   "cell_type": "markdown",
   "metadata": {},
   "source": [
    "Finally, we will add random noise to the calculated rates to simulate experimental observation errors."
   ]
  },
  {
   "cell_type": "code",
   "execution_count": 4,
   "metadata": {
    "collapsed": true
   },
   "outputs": [],
   "source": [
    "# Add some random error to simulate \n",
    "rexp += 0.05*np.random.normal(size=len(Sexp))"
   ]
  },
  {
   "cell_type": "markdown",
   "metadata": {},
   "source": [
    "<div style=\"background-color: rgba(0,255,0,0.05) ; padding: 10px; border: 1px solid darkgreen;\"> \n",
    "<b>Home Activity</b>: What are the four assumptions about measurement error for regression? Does this synthetic dataset satisfy the assumptions?\n",
    "</div>"
   ]
  },
  {
   "cell_type": "markdown",
   "metadata": {},
   "source": [
    "We will also plot the true model evaluated at 100 points."
   ]
  },
  {
   "cell_type": "code",
   "execution_count": 5,
   "metadata": {},
   "outputs": [
    {
     "data": {
      "image/png": "[encoded data removed]",
      "text/plain": [
       "<Figure size 432x288 with 1 Axes>"
      ]
     },
     "metadata": {},
     "output_type": "display_data"
    }
   ],
   "source": [
    "# Evaluate model to plot smooth curve\n",
    "S = np.linspace(np.min(Sexp),np.max(Sexp),100)\n",
    "r = Vmaxexact*S / (Kmexact+S)\n",
    "\n",
    "plt.plot(S,r,'b-',linewidth=2,label=\"True Model\")\n",
    "plt.plot(Sexp,rexp,'r.',MarkerSize=10,label=\"Experiments\")\n",
    "plt.xlabel('Substrace Concentration (mol/L)',FontSize=14)\n",
    "plt.ylabel('Product Formulation Rate, (mol/L/s)',FontSize=14)\n",
    "plt.legend()\n",
    "plt.show()"
   ]
  },
  {
   "cell_type": "markdown",
   "metadata": {
    "colab_type": "text",
    "id": "39T9fi-gqAit"
   },
   "source": [
    "## 21b. Transformation and Linear Regression"
   ]
  },
  {
   "cell_type": "markdown",
   "metadata": {},
   "source": [
    "It turns out we can apply a mathematical transformation to the independent and dependent variables to rewrite the Michaelis-Menten equation as a linear regression. Specifically,\n",
    "\n",
    "$$\\underbrace{\\frac{1}{r}}_{y} = \\beta_1 \\underbrace{\\frac{1}{[\\mathrm{S}]}}_{x} + \\beta_0$$"
   ]
  },
  {
   "cell_type": "markdown",
   "metadata": {},
   "source": [
    "<div style=\"background-color: rgba(0,255,0,0.05) ; padding: 10px; border: 1px solid darkgreen;\"> \n",
    "<b>Home Activity</b>: Show all of the steps to derive this model expression. Determine expressions to compute $V_{max}$ and $K_M$ from $\\beta_0$ and $\\beta_1$.\n",
    "</div>"
   ]
  },
  {
   "cell_type": "markdown",
   "metadata": {
    "colab_type": "text",
    "id": "dDqvtYptqAit"
   },
   "source": [
    "### Step 1: Calculate Best Fit and Plot"
   ]
  },
  {
   "cell_type": "markdown",
   "metadata": {},
   "source": [
    "We will start by performing linear regression with the transformed model. We will use the `linregress` function in `scipy.stats`."
   ]
  },
  {
   "cell_type": "markdown",
   "metadata": {},
   "source": [
    "<div style=\"background-color: rgba(0,0,255,0.05) ; padding: 10px; border: 1px solid darkblue;\"> \n",
    "<b>Class Activity</b>: Add units to the code below.\n",
    "</div>"
   ]
  },
  {
   "cell_type": "code",
   "execution_count": 6,
   "metadata": {
    "colab": {
     "base_uri": "https://localhost:8080/",
     "height": 102
    },
    "colab_type": "code",
    "executionInfo": {
     "elapsed": 1528,
     "status": "ok",
     "timestamp": 1554820378115,
     "user": {
      "displayName": "Alexander Dowling",
      "photoUrl": "https://lh3.googleusercontent.com/-LChdQ2m5OQE/AAAAAAAAAAI/AAAAAAAAAA0/JeXJe4vQJ7M/s64/photo.jpg",
      "userId": "00988067626794866502"
     },
     "user_tz": 240
    },
    "id": "jRpmOkWiqAiu",
    "outputId": "baaf0455-85d7-41bb-c46c-de403441952d"
   },
   "outputs": [
    {
     "name": "stdout",
     "output_type": "stream",
     "text": [
      "slope =  1.668147983549942 add units\n",
      "intercept = 0.812162452021921 add units\n",
      "r =  0.9054573737074338\n"
     ]
    }
   ],
   "source": [
    "y = 1/rexp\n",
    "x = 1/Sexp\n",
    "\n",
    "# note: the standard error is for the slope, not the residuals!\n",
    "b1_, b0_, r_value, p_value, std_err = stats.linregress(x, y)\n",
    "\n",
    "print(\"slope = \",b1_,\"add units\")\n",
    "print(\"intercept =\",b0_,\"add units\")\n",
    "print(\"r = \",r_value)\n"
   ]
  },
  {
   "cell_type": "markdown",
   "metadata": {},
   "source": [
    "Next, we can transform $\\beta_0$ and $\\beta_1$ into $V_{max}$ and $K_M$."
   ]
  },
  {
   "cell_type": "code",
   "execution_count": 7,
   "metadata": {},
   "outputs": [
    {
     "name": "stdout",
     "output_type": "stream",
     "text": [
      " \n",
      "Vmax =  1.231280758560615\n",
      "Km =  2.053958514576733\n"
     ]
    }
   ],
   "source": [
    "print(\" \")\n",
    "Vmax_lin = 1/b0_\n",
    "Km_lin = b1_ / b0_\n",
    "print(\"Vmax = \",Vmax_lin)\n",
    "print(\"Km = \",Km_lin)"
   ]
  },
  {
   "cell_type": "markdown",
   "metadata": {},
   "source": [
    "<div style=\"background-color: rgba(0,255,0,0.05) ; padding: 10px; border: 1px solid darkgreen;\"> \n",
    "<b>Home Activity</b>: Rerun your notebook. The answers will change. Why? (Hint: How did we generate the data.) You may find $V_{max}$ and $K_M$ are negative!\n",
    "</div>"
   ]
  },
  {
   "cell_type": "markdown",
   "metadata": {},
   "source": [
    "<div style=\"background-color: rgba(0,0,255,0.05) ; padding: 10px; border: 1px solid darkblue;\"> \n",
    "<b>Class Activity</b>: Discuss why $V_{max}$ and $K_M$ can be negative.\n",
    "</div>\n"
   ]
  },
  {
   "cell_type": "markdown",
   "metadata": {},
   "source": [
    "Now let's plot our fitted model. We will start by generated 100 points linearly spaced from the smallest to largest values in `x`. Then we will plot the best fit model in green."
   ]
  },
  {
   "cell_type": "code",
   "execution_count": 8,
   "metadata": {
    "colab": {
     "base_uri": "https://localhost:8080/",
     "height": 361
    },
    "colab_type": "code",
    "executionInfo": {
     "elapsed": 1506,
     "status": "ok",
     "timestamp": 1554820378117,
     "user": {
      "displayName": "Alexander Dowling",
      "photoUrl": "https://lh3.googleusercontent.com/-LChdQ2m5OQE/AAAAAAAAAAI/AAAAAAAAAA0/JeXJe4vQJ7M/s64/photo.jpg",
      "userId": "00988067626794866502"
     },
     "user_tz": 240
    },
    "id": "j5vIQEGKqAiy",
    "outputId": "9dc15f38-00ab-4bdd-fd36-a7efd232b7e1"
   },
   "outputs": [
    {
     "data": {
      "image/png": "[encoded data removed]",
      "text/plain": [
       "<Figure size 432x288 with 1 Axes>"
      ]
     },
     "metadata": {},
     "output_type": "display_data"
    }
   ],
   "source": [
    "# generate predictions\n",
    "x_pred = np.linspace(np.min(x),np.max(x),1000)\n",
    "y_pred = b0_ + b1_ * x_pred\n",
    "\n",
    "# create plot\n",
    "plt.plot(x,y,'.b',MarkerSize=20,label='Data')\n",
    "plt.plot(x_pred,y_pred,'--g',LineWidth=3,label='Best Fit Line')\n",
    "plt.plot(1/S,1/r,'r-',LineWidth=3,label='True Model')\n",
    "plt.xlabel('1/[S] (L / mol)')\n",
    "plt.ylabel('1/r (L s / mol)')\n",
    "plt.grid(True)\n",
    "plt.legend()\n",
    "plt.show()"
   ]
  },
  {
   "cell_type": "markdown",
   "metadata": {},
   "source": [
    "We can also plot in the original independent and dependent variables."
   ]
  },
  {
   "cell_type": "code",
   "execution_count": 9,
   "metadata": {
    "colab": {
     "base_uri": "https://localhost:8080/",
     "height": 361
    },
    "colab_type": "code",
    "executionInfo": {
     "elapsed": 1779,
     "status": "ok",
     "timestamp": 1554820378401,
     "user": {
      "displayName": "Alexander Dowling",
      "photoUrl": "https://lh3.googleusercontent.com/-LChdQ2m5OQE/AAAAAAAAAAI/AAAAAAAAAA0/JeXJe4vQJ7M/s64/photo.jpg",
      "userId": "00988067626794866502"
     },
     "user_tz": 240
    },
    "id": "_cKGsGzYqAi1",
    "outputId": "b7c302ec-43ce-439b-9b8f-9c624dda28a9"
   },
   "outputs": [
    {
     "data": {
      "image/png": "[encoded data removed]",
      "text/plain": [
       "<Figure size 432x288 with 1 Axes>"
      ]
     },
     "metadata": {},
     "output_type": "display_data"
    }
   ],
   "source": [
    "# create plot\n",
    "plt.plot(Sexp,rexp,'.b',MarkerSize=20,label='Data')\n",
    "plt.plot(1/x_pred,1/y_pred,'--g',LineWidth=3,label='Best Fit Line')\n",
    "plt.plot(S,r,'r-',LineWidth=3,label='True Model')\n",
    "plt.xlabel('[S] (mol / L)')\n",
    "plt.ylabel('r (mol / L / s)')\n",
    "plt.grid(True)\n",
    "plt.legend()\n",
    "plt.show()"
   ]
  },
  {
   "cell_type": "markdown",
   "metadata": {},
   "source": [
    "<div style=\"background-color: rgba(0,0,255,0.05) ; padding: 10px; border: 1px solid darkblue;\"> \n",
    "<b>Class Activity</b>: Discuss with your neighbor: why does the best fit line not appear to the fit the original data?\n",
    "</div>"
   ]
  },
  {
   "cell_type": "markdown",
   "metadata": {
    "colab_type": "text",
    "id": "hAISUWGBqAi3"
   },
   "source": [
    "### Step 2. Residual Analysis"
   ]
  },
  {
   "cell_type": "markdown",
   "metadata": {},
   "source": [
    "Let's proceed by analyzing the residuals. Recall, we check the residuals to verify for four assumptions about the errors."
   ]
  },
  {
   "cell_type": "markdown",
   "metadata": {
    "colab_type": "text",
    "id": "Bp5GBZ-PqAi4"
   },
   "source": [
    "#### Calculate Residuals"
   ]
  },
  {
   "cell_type": "code",
   "execution_count": 10,
   "metadata": {
    "colab": {},
    "colab_type": "code",
    "collapsed": true,
    "id": "SAzuWiDXqAi5"
   },
   "outputs": [],
   "source": [
    "# prediction\n",
    "y_hat = b0_ + b1_ * x\n",
    "\n",
    "# residual\n",
    "e = y - y_hat"
   ]
  },
  {
   "cell_type": "markdown",
   "metadata": {
    "colab_type": "text",
    "id": "P0mYkH5uqAi7"
   },
   "source": [
    "#### Histogram of Residuals"
   ]
  },
  {
   "cell_type": "code",
   "execution_count": 11,
   "metadata": {
    "colab": {
     "base_uri": "https://localhost:8080/",
     "height": 361
    },
    "colab_type": "code",
    "executionInfo": {
     "elapsed": 1893,
     "status": "ok",
     "timestamp": 1554820378557,
     "user": {
      "displayName": "Alexander Dowling",
      "photoUrl": "https://lh3.googleusercontent.com/-LChdQ2m5OQE/AAAAAAAAAAI/AAAAAAAAAA0/JeXJe4vQJ7M/s64/photo.jpg",
      "userId": "00988067626794866502"
     },
     "user_tz": 240
    },
    "id": "afSV0eanqAi8",
    "outputId": "c5839ba1-9d6c-4e70-fb7f-850e2748b75b"
   },
   "outputs": [
    {
     "data": {
      "image/png": "[encoded data removed]",
      "text/plain": [
       "<Figure size 432x288 with 1 Axes>"
      ]
     },
     "metadata": {},
     "output_type": "display_data"
    }
   ],
   "source": [
    "plt.hist(e)\n",
    "plt.xlabel(\"Residual (s L / mol)\")\n",
    "plt.ylabel(\"Frequency (count)\")\n",
    "plt.show()"
   ]
  },
  {
   "cell_type": "markdown",
   "metadata": {
    "colab_type": "text",
    "id": "Db0p7VFZqAi-"
   },
   "source": [
    "#### Scatter Plots of Residuals"
   ]
  },
  {
   "cell_type": "code",
   "execution_count": 12,
   "metadata": {
    "colab": {
     "base_uri": "https://localhost:8080/",
     "height": 376
    },
    "colab_type": "code",
    "executionInfo": {
     "elapsed": 2349,
     "status": "ok",
     "timestamp": 1554820379032,
     "user": {
      "displayName": "Alexander Dowling",
      "photoUrl": "https://lh3.googleusercontent.com/-LChdQ2m5OQE/AAAAAAAAAAI/AAAAAAAAAA0/JeXJe4vQJ7M/s64/photo.jpg",
      "userId": "00988067626794866502"
     },
     "user_tz": 240
    },
    "id": "LVgJWoWIqAi_",
    "outputId": "0adbf1c2-ea19-4515-b2e8-e1c06e6cbe63"
   },
   "outputs": [
    {
     "data": {
      "image/png": "[encoded data removed]",
      "text/plain": [
       "<Figure size 432x288 with 1 Axes>"
      ]
     },
     "metadata": {},
     "output_type": "display_data"
    }
   ],
   "source": [
    "plt.plot(y_hat,e,\"b.\",MarkerSize=20)\n",
    "plt.xlabel(\"Predicted 1/r (s L / mol)\")\n",
    "plt.ylabel(\"Residual (s L / mol)\")\n",
    "plt.grid(True)\n",
    "plt.title(\"Residuals vs. Predicted Value\")\n",
    "plt.show()"
   ]
  },
  {
   "cell_type": "code",
   "execution_count": 13,
   "metadata": {
    "colab": {
     "base_uri": "https://localhost:8080/",
     "height": 376
    },
    "colab_type": "code",
    "executionInfo": {
     "elapsed": 2654,
     "status": "ok",
     "timestamp": 1554820379347,
     "user": {
      "displayName": "Alexander Dowling",
      "photoUrl": "https://lh3.googleusercontent.com/-LChdQ2m5OQE/AAAAAAAAAAI/AAAAAAAAAA0/JeXJe4vQJ7M/s64/photo.jpg",
      "userId": "00988067626794866502"
     },
     "user_tz": 240
    },
    "id": "hzKuPfyxqAjB",
    "outputId": "48db2a60-93c9-48cc-b233-63efb89eeb02"
   },
   "outputs": [
    {
     "data": {
      "image/png": "[encoded data removed]",
      "text/plain": [
       "<Figure size 432x288 with 1 Axes>"
      ]
     },
     "metadata": {},
     "output_type": "display_data"
    }
   ],
   "source": [
    "plt.plot(x,e,\"b.\",MarkerSize=20)\n",
    "plt.xlabel(\"Independent Variable 1/[S] (L / mol)\")\n",
    "plt.ylabel(\"Residual (s L / mol)\")\n",
    "plt.grid(True)\n",
    "plt.title(\"Residuals vs. Independent Variable\")\n",
    "plt.show()"
   ]
  },
  {
   "cell_type": "markdown",
   "metadata": {
    "colab_type": "text",
    "id": "T6K-9c69qAjD"
   },
   "source": [
    "<div style=\"background-color: rgba(0,0,255,0.05) ; padding: 10px; border: 1px solid darkblue;\"> \n",
    "<b>Class Activity</b>: Do the residuals pass the diagnostic tests? Discuss with your neighbor. One person record your thoughts with the link below.\n",
    "</div>"
   ]
  },
  {
   "cell_type": "markdown",
   "metadata": {
    "colab_type": "text",
    "id": "JqqK0WHnqAjD"
   },
   "source": [
    "### Step 3. Uncertainty Analysis / Calculate Covariance Matrix\n",
    "\n",
    "We can easily calculate the covariance matrix for $\\beta$ = $[\\beta_0, \\beta_1]^T$:"
   ]
  },
  {
   "cell_type": "code",
   "execution_count": 14,
   "metadata": {
    "colab": {
     "base_uri": "https://localhost:8080/",
     "height": 170
    },
    "colab_type": "code",
    "executionInfo": {
     "elapsed": 2645,
     "status": "ok",
     "timestamp": 1554820379350,
     "user": {
      "displayName": "Alexander Dowling",
      "photoUrl": "https://lh3.googleusercontent.com/-LChdQ2m5OQE/AAAAAAAAAAI/AAAAAAAAAA0/JeXJe4vQJ7M/s64/photo.jpg",
      "userId": "00988067626794866502"
     },
     "user_tz": 240
    },
    "id": "jgdbkpbGqAjE",
    "outputId": "f6ce51ec-6af5-47b5-fbb2-ef455a78d73a"
   },
   "outputs": [
    {
     "name": "stdout",
     "output_type": "stream",
     "text": [
      "X =\n",
      " [[1.         3.33333333]\n",
      " [1.         2.5       ]\n",
      " [1.         2.        ]\n",
      " [1.         1.        ]\n",
      " [1.         0.5       ]\n",
      " [1.         0.25      ]\n",
      " [1.         0.125     ]\n",
      " [1.         0.0625    ]]\n"
     ]
    }
   ],
   "source": [
    "# assemble feature matrix\n",
    "X = np.ones((len(x),2))\n",
    "X[:,1] = x\n",
    "\n",
    "print(\"X =\\n\",X)"
   ]
  },
  {
   "cell_type": "code",
   "execution_count": 15,
   "metadata": {
    "colab": {
     "base_uri": "https://localhost:8080/",
     "height": 68
    },
    "colab_type": "code",
    "executionInfo": {
     "elapsed": 2617,
     "status": "ok",
     "timestamp": 1554820379352,
     "user": {
      "displayName": "Alexander Dowling",
      "photoUrl": "https://lh3.googleusercontent.com/-LChdQ2m5OQE/AAAAAAAAAAI/AAAAAAAAAA0/JeXJe4vQJ7M/s64/photo.jpg",
      "userId": "00988067626794866502"
     },
     "user_tz": 240
    },
    "id": "BSF4StmEqAjG",
    "outputId": "7e4c0870-8ebb-4f9b-8d58-9f8cfd64ff14"
   },
   "outputs": [
    {
     "name": "stdout",
     "output_type": "stream",
     "text": [
      "inv(XT X) =\n",
      " [[ 0.2636409  -0.11351409]\n",
      " [-0.11351409  0.09294117]]\n"
     ]
    }
   ],
   "source": [
    "# calculate inverse of XT * X\n",
    "XXinv = np.linalg.inv(X.transpose().dot(X))\n",
    "print(\"inv(XT X) =\\n\",XXinv)"
   ]
  },
  {
   "cell_type": "code",
   "execution_count": 16,
   "metadata": {
    "colab": {
     "base_uri": "https://localhost:8080/",
     "height": 34
    },
    "colab_type": "code",
    "executionInfo": {
     "elapsed": 2609,
     "status": "ok",
     "timestamp": 1554820379353,
     "user": {
      "displayName": "Alexander Dowling",
      "photoUrl": "https://lh3.googleusercontent.com/-LChdQ2m5OQE/AAAAAAAAAAI/AAAAAAAAAA0/JeXJe4vQJ7M/s64/photo.jpg",
      "userId": "00988067626794866502"
     },
     "user_tz": 240
    },
    "id": "Lb0XZLYfqAjK",
    "outputId": "b72d292a-3ac5-461c-ebb0-d72e08c9294d"
   },
   "outputs": [
    {
     "name": "stdout",
     "output_type": "stream",
     "text": [
      "beta_hat = [0.81216245 1.66814798]\n"
     ]
    }
   ],
   "source": [
    "# recall we can calculate the best fit coefficients with linear algebra\n",
    "beta_hat = XXinv @ X.transpose() @ y\n",
    "print(\"beta_hat =\",beta_hat)"
   ]
  },
  {
   "cell_type": "markdown",
   "metadata": {
    "colab_type": "text",
    "id": "1ed-aBdUqAjM"
   },
   "source": [
    "Recall from Class 20:\n",
    "\n",
    "$$\\Sigma_{\\hat{\\beta}} = \\hat{\\sigma}^2  (\\mathbf{X}^T \\mathbf{X})^{-1}$$"
   ]
  },
  {
   "cell_type": "code",
   "execution_count": 17,
   "metadata": {
    "colab": {
     "base_uri": "https://localhost:8080/",
     "height": 34
    },
    "colab_type": "code",
    "executionInfo": {
     "elapsed": 2597,
     "status": "ok",
     "timestamp": 1554820379355,
     "user": {
      "displayName": "Alexander Dowling",
      "photoUrl": "https://lh3.googleusercontent.com/-LChdQ2m5OQE/AAAAAAAAAAI/AAAAAAAAAA0/JeXJe4vQJ7M/s64/photo.jpg",
      "userId": "00988067626794866502"
     },
     "user_tz": 240
    },
    "id": "akqgBRReqAjN",
    "outputId": "e38f558b-b4cf-43d0-f745-eb604f95ecb8"
   },
   "outputs": [
    {
     "name": "stdout",
     "output_type": "stream",
     "text": [
      "standard error = 1.0471293219410038\n"
     ]
    }
   ],
   "source": [
    "# calculate standard error (standard deviation) of residuals\n",
    "se = math.sqrt((e @ e) / (len(x) - 2))\n",
    "print(\"standard error =\",se)"
   ]
  },
  {
   "cell_type": "code",
   "execution_count": 18,
   "metadata": {
    "colab": {
     "base_uri": "https://localhost:8080/",
     "height": 68
    },
    "colab_type": "code",
    "executionInfo": {
     "elapsed": 2590,
     "status": "ok",
     "timestamp": 1554820379356,
     "user": {
      "displayName": "Alexander Dowling",
      "photoUrl": "https://lh3.googleusercontent.com/-LChdQ2m5OQE/AAAAAAAAAAI/AAAAAAAAAA0/JeXJe4vQJ7M/s64/photo.jpg",
      "userId": "00988067626794866502"
     },
     "user_tz": 240
    },
    "id": "DDM7fh_4qAjP",
    "outputId": "bfb676f0-f363-4fc8-e261-ccc614e7e281"
   },
   "outputs": [
    {
     "name": "stdout",
     "output_type": "stream",
     "text": [
      "covariance matrix:\n",
      " [[ 0.28907693 -0.1244659 ]\n",
      " [-0.1244659   0.10190812]]\n"
     ]
    }
   ],
   "source": [
    "# compute covariance matrix\n",
    "Sigma_beta = se**2 * XXinv\n",
    "print(\"covariance matrix:\\n\",Sigma_beta)"
   ]
  },
  {
   "cell_type": "markdown",
   "metadata": {
    "colab_type": "text",
    "id": "sCP_LZ3MqAjR"
   },
   "source": [
    "But the above covariance matrix is defined in terms of $\\beta_0$ and $\\beta_1$. Recall the transformation:\n",
    "\n",
    "$$\\beta_1 = \\frac{K_m}{V_{max}}, \\qquad \\beta_0 = \\frac{1}{V_{max}}$$\n",
    "\n",
    "We can now apply the nonlinear error propagation formula.\n",
    "\n",
    "Let $\\beta$ = [$\\beta_0$,$\\beta_1$] and $\\theta$ = [$V_{max}$, $K_m$]\n",
    "\n",
    "$$\n",
    "\\Sigma_{\\theta} \\approx (\\nabla_{\\beta} \\theta) ~ \\Sigma_{\\beta} ~ (\\nabla_{\\beta} \\theta)^T\n",
    "$$"
   ]
  },
  {
   "cell_type": "markdown",
   "metadata": {},
   "source": [
    "<div style=\"background-color: rgba(0,255,0,0.05) ; padding: 10px; border: 1px solid darkgreen;\"> \n",
    "<b>Home Activity</b>: Derive the Jacobian matrix $\\nabla_{\\theta} \\beta$ with pencil and paper.\n",
    "</div>"
   ]
  },
  {
   "cell_type": "code",
   "execution_count": 19,
   "metadata": {
    "colab": {
     "base_uri": "https://localhost:8080/",
     "height": 68
    },
    "colab_type": "code",
    "executionInfo": {
     "elapsed": 2560,
     "status": "ok",
     "timestamp": 1554820379357,
     "user": {
      "displayName": "Alexander Dowling",
      "photoUrl": "https://lh3.googleusercontent.com/-LChdQ2m5OQE/AAAAAAAAAAI/AAAAAAAAAA0/JeXJe4vQJ7M/s64/photo.jpg",
      "userId": "00988067626794866502"
     },
     "user_tz": 240
    },
    "id": "1mC6jg7HqAjS",
    "outputId": "e0bf03b1-afe7-44fb-c2fb-77a073c71c82"
   },
   "outputs": [
    {
     "name": "stdout",
     "output_type": "stream",
     "text": [
      "Jacobian =\n",
      " [[-1.51605231  0.        ]\n",
      " [-2.5289996   1.23128076]]\n"
     ]
    }
   ],
   "source": [
    "## Calculate Jacobian matrix\n",
    "###Express Thetas in terms of betas: Vmax = 1/b_0, Km = b_1/b_0\n",
    "# gradient of Vmax w.r.t. beta\n",
    "gradVmax = [-1/b0_**2, 0]\n",
    "\n",
    "# gradient of Km w.r.t beta\n",
    "gradKm = [-b1_ / b0_**2, 1/b0_]\n",
    "\n",
    "# assemble Jacobian\n",
    "jac = np.array([gradVmax, gradKm])\n",
    "\n",
    "print(\"Jacobian =\\n\",jac)"
   ]
  },
  {
   "cell_type": "code",
   "execution_count": 20,
   "metadata": {
    "colab": {
     "base_uri": "https://localhost:8080/",
     "height": 68
    },
    "colab_type": "code",
    "executionInfo": {
     "elapsed": 2543,
     "status": "ok",
     "timestamp": 1554820379358,
     "user": {
      "displayName": "Alexander Dowling",
      "photoUrl": "https://lh3.googleusercontent.com/-LChdQ2m5OQE/AAAAAAAAAAI/AAAAAAAAAA0/JeXJe4vQJ7M/s64/photo.jpg",
      "userId": "00988067626794866502"
     },
     "user_tz": 240
    },
    "id": "bdr1NYESqAjU",
    "outputId": "ccb6e9a9-1539-4314-b3c9-a69940a4f4a3"
   },
   "outputs": [
    {
     "name": "stdout",
     "output_type": "stream",
     "text": [
      "Covariance matrix =\n",
      " [[0.66441863 1.34068736]\n",
      " [1.34068736 2.7785384 ]]\n"
     ]
    }
   ],
   "source": [
    "## Compute covariance matrix for parameters of interest\n",
    "Sigma_theta = jac @ Sigma_beta @ jac.T\n",
    "print(\"Covariance matrix =\\n\",Sigma_theta)"
   ]
  },
  {
   "cell_type": "markdown",
   "metadata": {
    "colab_type": "text",
    "id": "W9g4BaghqAjX"
   },
   "source": [
    "### Final Thoughts\n",
    "\n",
    "* Transformations allow us to fit *some nonlinear models* using the machinery of linear regression.\n",
    "* In the old days, engineering would compute linear regression best fits using a slide rule or simple calculator.\n",
    "* Transformations distort the residuals (errors).\n",
    "* We will revisit this example to motivate weighted regression. I do not recommend linear regression for this problem."
   ]
  },
  {
   "cell_type": "markdown",
   "metadata": {
    "colab_type": "text",
    "id": "iF_wdDZ5qAjX"
   },
   "source": [
    "## 21c. Nonlinear Regression\n",
    "\n",
    "**Main idea**: Solve the best fit optimization problem,\n",
    "\n",
    "$$\\min_{\\hat{\\theta}} \\quad \\sum (y_i - \\hat{y}_i)^2$$\n",
    "\n",
    "computationally. This works even if $\\hat{y_i} = f(\\hat{\\theta}, x_i)$ is a nonlinear function.\n",
    "\n",
    "Recall $\\theta$ = [$V_{max}$, $K_m$] for our example.\n"
   ]
  },
  {
   "cell_type": "markdown",
   "metadata": {
    "colab_type": "text",
    "id": "C1lvfaGCqAjY"
   },
   "source": [
    "### Step 1: Calculate Best Fit and Plot"
   ]
  },
  {
   "cell_type": "markdown",
   "metadata": {},
   "source": [
    "The good news is that `scipy` has a fairly robust function for nonlinear regression. We will start by defining our own function for the model:"
   ]
  },
  {
   "cell_type": "code",
   "execution_count": 21,
   "metadata": {
    "colab": {
     "base_uri": "https://localhost:8080/",
     "height": 34
    },
    "colab_type": "code",
    "collapsed": true,
    "executionInfo": {
     "elapsed": 2535,
     "status": "ok",
     "timestamp": 1554820379359,
     "user": {
      "displayName": "Alexander Dowling",
      "photoUrl": "https://lh3.googleusercontent.com/-LChdQ2m5OQE/AAAAAAAAAAI/AAAAAAAAAA0/JeXJe4vQJ7M/s64/photo.jpg",
      "userId": "00988067626794866502"
     },
     "user_tz": 240
    },
    "id": "mgV3SoiDqAjY",
    "outputId": "676b4e1d-208d-4f63-da98-4ea8a44a4760"
   },
   "outputs": [],
   "source": [
    "## define function that includes nonlinear model\n",
    "def model(theta,x):\n",
    "    '''\n",
    "    Michaelis-Menten model\n",
    "    Arguments:\n",
    "        theta: parameter vector\n",
    "        x: independent variable vector (S concentration)\n",
    "    Returns:\n",
    "        yhat: dependent variable prediction (r rate)\n",
    "    '''\n",
    "    yhat = (theta[0] * x) / (theta[1] + x) \n",
    "    return yhat"
   ]
  },
  {
   "cell_type": "markdown",
   "metadata": {},
   "source": [
    "But `scipy` actually wants a function that takes three inputs and returns the residual vector. We will call our function `model` in this new function."
   ]
  },
  {
   "cell_type": "code",
   "execution_count": 22,
   "metadata": {
    "collapsed": true
   },
   "outputs": [],
   "source": [
    "def regression_func(theta, x, y):\n",
    "    '''\n",
    "    Function to define regression function for least-squares fitting\n",
    "    Arguments:\n",
    "        theta: parameter vector\n",
    "        x: independent variable vector\n",
    "        y: dependent variable vector (measurements)\n",
    "    Returns:\n",
    "        e: residual vector\n",
    "    '''\n",
    "    e = y - model(theta,x);\n",
    "    \n",
    "    return e"
   ]
  },
  {
   "cell_type": "markdown",
   "metadata": {},
   "source": [
    "Now we can define an initial guess and call the least squares optimizer."
   ]
  },
  {
   "cell_type": "code",
   "execution_count": 23,
   "metadata": {},
   "outputs": [
    {
     "name": "stdout",
     "output_type": "stream",
     "text": [
      "theta =  [1.91559818 4.29225455]\n"
     ]
    }
   ],
   "source": [
    "## specify initial guess\n",
    "theta0 = np.array([1.0, 5.0])\n",
    "\n",
    "## specify bounds\n",
    "# first array: lower bounds\n",
    "# second array: upper bounds\n",
    "bnds = ([0.0, 0.0], [np.inf, np.inf])\n",
    "\n",
    "## use least squares optimizer in scipy\n",
    "# argument 1: function that takes theta as input, returns residual\n",
    "# argument 2: initial guess for theta\n",
    "# optional arguments 'bounds': bounds for theta\n",
    "# optional arugment 'args': additional arguments to pass to residual function\n",
    "# optional argument 'method': select the numerical method\n",
    "#   if you want to consider bounds, choose 'trf'\n",
    "#   if you do not want to consider bounds, try either 'lm' or 'trf'\n",
    "nl_results = optimize.least_squares(regression_func, theta0,bounds=bnds, method='trf',args=(Sexp, rexp))\n",
    "\n",
    "theta = nl_results.x\n",
    "print(\"theta = \",theta)"
   ]
  },
  {
   "cell_type": "markdown",
   "metadata": {},
   "source": [
    "Interesting, we got a different answer than with transformations & linear regression. Let's revist that in a minute. We can plot of nonlinear best fit model."
   ]
  },
  {
   "cell_type": "code",
   "execution_count": 24,
   "metadata": {
    "colab": {
     "base_uri": "https://localhost:8080/",
     "height": 361
    },
    "colab_type": "code",
    "executionInfo": {
     "elapsed": 2862,
     "status": "ok",
     "timestamp": 1554820379696,
     "user": {
      "displayName": "Alexander Dowling",
      "photoUrl": "https://lh3.googleusercontent.com/-LChdQ2m5OQE/AAAAAAAAAAI/AAAAAAAAAA0/JeXJe4vQJ7M/s64/photo.jpg",
      "userId": "00988067626794866502"
     },
     "user_tz": 240
    },
    "id": "gweBC-d9qAjb",
    "outputId": "8413d4a6-a909-4fe2-b28f-8dab8783be65"
   },
   "outputs": [
    {
     "data": {
      "image/png": "[encoded data removed]",
      "text/plain": [
       "<Figure size 432x288 with 1 Axes>"
      ]
     },
     "metadata": {},
     "output_type": "display_data"
    }
   ],
   "source": [
    "# generate predictions\n",
    "S_pred = np.linspace(np.min(Sexp),np.max(Sexp),20)\n",
    "r_pred = model(theta, S_pred)\n",
    "\n",
    "# create plot\n",
    "plt.plot(Sexp,rexp,'.b',MarkerSize=20,label='Data')\n",
    "plt.plot(S_pred,r_pred,'--g',LineWidth=3,label='Best Fit Line')\n",
    "plt.plot(S,r,'r-',LineWidth=3,label='True Model')\n",
    "plt.xlabel('[S] (mol / L)')\n",
    "plt.ylabel('r (mol / L / s)')\n",
    "plt.grid(True)\n",
    "plt.legend()\n",
    "plt.show()"
   ]
  },
  {
   "cell_type": "markdown",
   "metadata": {},
   "source": [
    "We see that it looks a lot better."
   ]
  },
  {
   "cell_type": "markdown",
   "metadata": {
    "colab_type": "text",
    "id": "D71tnbmkqAjd"
   },
   "source": [
    "### Step 2: Residual Analysis"
   ]
  },
  {
   "cell_type": "code",
   "execution_count": 25,
   "metadata": {
    "colab": {
     "base_uri": "https://localhost:8080/",
     "height": 51
    },
    "colab_type": "code",
    "executionInfo": {
     "elapsed": 2840,
     "status": "ok",
     "timestamp": 1554820379699,
     "user": {
      "displayName": "Alexander Dowling",
      "photoUrl": "https://lh3.googleusercontent.com/-LChdQ2m5OQE/AAAAAAAAAAI/AAAAAAAAAA0/JeXJe4vQJ7M/s64/photo.jpg",
      "userId": "00988067626794866502"
     },
     "user_tz": 240
    },
    "id": "a847C4kKqAjd",
    "outputId": "1060932e-ec17-4024-d985-75b2a4e25401"
   },
   "outputs": [
    {
     "name": "stdout",
     "output_type": "stream",
     "text": [
      "[ 0.0700734  -0.02141107  0.08807363 -0.01558941 -0.01176969 -0.05196529\n",
      "  0.03221442 -0.0014632 ]\n"
     ]
    }
   ],
   "source": [
    "## calculate residuals\n",
    "y_hat2 = model(theta,Sexp)\n",
    "e2 = rexp - y_hat2\n",
    "print(e2)"
   ]
  },
  {
   "cell_type": "code",
   "execution_count": 26,
   "metadata": {
    "colab": {
     "base_uri": "https://localhost:8080/",
     "height": 361
    },
    "colab_type": "code",
    "executionInfo": {
     "elapsed": 3428,
     "status": "ok",
     "timestamp": 1554820380297,
     "user": {
      "displayName": "Alexander Dowling",
      "photoUrl": "https://lh3.googleusercontent.com/-LChdQ2m5OQE/AAAAAAAAAAI/AAAAAAAAAA0/JeXJe4vQJ7M/s64/photo.jpg",
      "userId": "00988067626794866502"
     },
     "user_tz": 240
    },
    "id": "519xNpZ4qAjg",
    "outputId": "b4a954e5-1e0a-4f87-f1a5-1c8f09556fcc"
   },
   "outputs": [
    {
     "data": {
      "image/png": "[encoded data removed]",
      "text/plain": [
       "<Figure size 432x288 with 1 Axes>"
      ]
     },
     "metadata": {},
     "output_type": "display_data"
    }
   ],
   "source": [
    "plt.hist(e2)\n",
    "plt.xlabel(\"Residual (mol / L / s)\")\n",
    "plt.ylabel(\"Frequency (count)\")\n",
    "plt.show()"
   ]
  },
  {
   "cell_type": "code",
   "execution_count": 27,
   "metadata": {
    "colab": {
     "base_uri": "https://localhost:8080/",
     "height": 376
    },
    "colab_type": "code",
    "executionInfo": {
     "elapsed": 3409,
     "status": "ok",
     "timestamp": 1554820380298,
     "user": {
      "displayName": "Alexander Dowling",
      "photoUrl": "https://lh3.googleusercontent.com/-LChdQ2m5OQE/AAAAAAAAAAI/AAAAAAAAAA0/JeXJe4vQJ7M/s64/photo.jpg",
      "userId": "00988067626794866502"
     },
     "user_tz": 240
    },
    "id": "HcAZNvLJqAji",
    "outputId": "1a79d340-62a8-4230-8c1e-c7c48574bdd5"
   },
   "outputs": [
    {
     "data": {
      "image/png": "[encoded data removed]",
      "text/plain": [
       "<Figure size 432x288 with 1 Axes>"
      ]
     },
     "metadata": {},
     "output_type": "display_data"
    }
   ],
   "source": [
    "plt.plot(y_hat2,e2,\"b.\",MarkerSize=20)\n",
    "plt.xlabel(\"Predicted r (mol / s / L)\")\n",
    "plt.ylabel(\"Residual (mol / s / L)\")\n",
    "plt.grid(True)\n",
    "plt.title(\"Residuals vs. Predicted Value\")\n",
    "plt.show()"
   ]
  },
  {
   "cell_type": "code",
   "execution_count": 28,
   "metadata": {
    "colab": {
     "base_uri": "https://localhost:8080/",
     "height": 376
    },
    "colab_type": "code",
    "executionInfo": {
     "elapsed": 3739,
     "status": "ok",
     "timestamp": 1554820380639,
     "user": {
      "displayName": "Alexander Dowling",
      "photoUrl": "https://lh3.googleusercontent.com/-LChdQ2m5OQE/AAAAAAAAAAI/AAAAAAAAAA0/JeXJe4vQJ7M/s64/photo.jpg",
      "userId": "00988067626794866502"
     },
     "user_tz": 240
    },
    "id": "LiYy5BV0qAjk",
    "outputId": "cf04122e-9caa-4d4a-9cd8-3dbdc57701d0"
   },
   "outputs": [
    {
     "data": {
      "image/png": "[encoded data removed]",
      "text/plain": [
       "<Figure size 432x288 with 1 Axes>"
      ]
     },
     "metadata": {},
     "output_type": "display_data"
    }
   ],
   "source": [
    "plt.plot(Sexp,e2,\"b.\",MarkerSize=20)\n",
    "plt.xlabel(\"Dependent Variable [S] (mol / L)\")\n",
    "plt.ylabel(\"Residual (mol / s / L)\")\n",
    "plt.grid(True)\n",
    "plt.title(\"Residuals vs. Dependent Variable\")\n",
    "plt.show()"
   ]
  },
  {
   "cell_type": "markdown",
   "metadata": {},
   "source": [
    "<div style=\"background-color: rgba(0,0,255,0.05) ; padding: 10px; border: 1px solid darkblue;\"> \n",
    "<b>Class Activity</b>: Do the residuals pass the diagnostic tests? Discuss with your neighbor.\n",
    "</div>"
   ]
  },
  {
   "cell_type": "markdown",
   "metadata": {
    "colab_type": "text",
    "id": "8YjWzsTRqAjn"
   },
   "source": [
    "### Step 3. Uncertainty Analysis / Calculate Covariance Matrix\n",
    "\n",
    "$$\n",
    "\\Sigma_{\\theta} \\approx \\hat{\\sigma}_e^2 (J^T J)^{-1}\n",
    "$$\n",
    "\n",
    "where $J$ is the Jacobian of the residuals w.r.t. $\\theta$:\n",
    "\n",
    "$$\n",
    "J_{i,j} = \\frac{\\partial(y_i - \\hat{y}_i)}{\\partial \\theta_j}\n",
    "$$"
   ]
  },
  {
   "cell_type": "markdown",
   "metadata": {},
   "source": [
    "Fortunately, `scipy` approximates this Jacobian for us."
   ]
  },
  {
   "cell_type": "code",
   "execution_count": 29,
   "metadata": {
    "colab": {
     "base_uri": "https://localhost:8080/",
     "height": 187
    },
    "colab_type": "code",
    "executionInfo": {
     "elapsed": 3716,
     "status": "ok",
     "timestamp": 1554820380642,
     "user": {
      "displayName": "Alexander Dowling",
      "photoUrl": "https://lh3.googleusercontent.com/-LChdQ2m5OQE/AAAAAAAAAAI/AAAAAAAAAA0/JeXJe4vQJ7M/s64/photo.jpg",
      "userId": "00988067626794866502"
     },
     "user_tz": 240
    },
    "id": "90a-k1wIqAjo",
    "outputId": "ed966524-2757-4111-eb5c-813c56814f5a"
   },
   "outputs": [
    {
     "name": "stdout",
     "output_type": "stream",
     "text": [
      "Jacobian =\n",
      "\n",
      "[[-0.06532739  0.02725046]\n",
      " [-0.08524687  0.03480177]\n",
      " [-0.10433503  0.04170563]\n",
      " [-0.18895539  0.06839478]\n",
      " [-0.3178511   0.09676579]\n",
      " [-0.48237786  0.11143437]\n",
      " [-0.65081633  0.1014218 ]\n",
      " [-0.78847818  0.0744327 ]]\n"
     ]
    }
   ],
   "source": [
    "print(\"Jacobian =\\n\")\n",
    "print(nl_results.jac)"
   ]
  },
  {
   "cell_type": "markdown",
   "metadata": {},
   "source": [
    "Notice this is NOT the same Jacobian used for error propagation in 21b."
   ]
  },
  {
   "cell_type": "code",
   "execution_count": 30,
   "metadata": {
    "colab": {
     "base_uri": "https://localhost:8080/",
     "height": 68
    },
    "colab_type": "code",
    "executionInfo": {
     "elapsed": 3705,
     "status": "ok",
     "timestamp": 1554820380647,
     "user": {
      "displayName": "Alexander Dowling",
      "photoUrl": "https://lh3.googleusercontent.com/-LChdQ2m5OQE/AAAAAAAAAAI/AAAAAAAAAA0/JeXJe4vQJ7M/s64/photo.jpg",
      "userId": "00988067626794866502"
     },
     "user_tz": 240
    },
    "id": "SWg_LHDXqAjr",
    "outputId": "484c19b5-a628-4108-f8cf-38e1dddae403"
   },
   "outputs": [
    {
     "name": "stdout",
     "output_type": "stream",
     "text": [
      "Covariance matrix:\n",
      " [[0.0104815  0.05271159]\n",
      " [0.05271159 0.32760714]]\n"
     ]
    }
   ],
   "source": [
    "sigre = (e2.T @ e2)/(len(e2) - 2)\n",
    "Sigma_theta2 = sigre * np.linalg.inv(nl_results.jac.T @ nl_results.jac)\n",
    "print(\"Covariance matrix:\\n\",Sigma_theta2)"
   ]
  },
  {
   "cell_type": "markdown",
   "metadata": {},
   "source": [
    "## 21d. Nonlinear Regression Practice Problem\n",
    "\n",
    "For this question, you will use nonlinear regression to analyze the kinetics of an indicator in a strong base.\n",
    "\n",
    "### Background\n",
    "\n",
    "Phenolphthalein is a base indicator (it turns a pretty purple), but in the presence of a strong base, it will fade over time.  This is a reversible reaction: pseudo first order in the forward (fading) direction (it is actually second order, but there is so much $[OH^-]$ that it can be simplified as pseudo first order) and first order in the reverse direction. The rate expression is:\n",
    "\n",
    "\\begin{equation} \n",
    "\\frac{d[P]}{dt} = -k_{1}[P][OH^-]+k_{2}[POH] ~,\n",
    "\\end{equation}\n",
    "\n",
    "where $k_{1}' = k_{1}  \\cdot [OH^-]$ is the pseudo first order rate. $[POH]$ is only produced from this reaction, thus we have the mass balance:\n",
    "\n",
    "\\begin{equation}\n",
    "[POH] = [POH]\\Big|_{t=0}+([P]_{0}-[P]) ~.\n",
    "\\end{equation}\n",
    "\n",
    "With the initial conditions:\n",
    "\n",
    "\\begin{equation}\n",
    "[P]\\Big|_{t=0}=[P]_{0}\\qquad; \\qquad [POH]\\Big|_{t=0}=0 ~.\n",
    "\\end{equation}\n",
    "\n",
    "We can solve these equations to get the solution:\n",
    "\n",
    "\\begin{equation}\n",
    "[P] = [P]_{0}\\Big(\\frac{k_{2}}{k_{1}'+k_{2}}+\\frac{k_{1}'}{k_{1}'+k_{2}}e^{-(k_{1}'+k_{2})t}\\Big) ~.\n",
    "\\end{equation}\n",
    "\n",
    "We seek best fit values for parameters \n",
    "\\begin{equation}\n",
    "k=\\begin{bmatrix}k_{1}' & k_{2} & k_{eq}\\end{bmatrix}^T ~.\n",
    "\\end{equation}\n",
    "\n",
    "However, this problem is poorly scaled with respect to $k$. Instead, we will transform it to obtain:\n",
    "\n",
    "\\begin{equation} \n",
    "[P] = [P]_{eq}+([P]_{0}-[P]_{eq})e^{-\\lambda t}\n",
    "\\end{equation}\n",
    "\n",
    "where $\\lambda=k_{1}'+k_{2}$. These two rate constants can be calculated from the ratio of the initial and equilibrium concentrations and the exponential decay rate.\n",
    "\n",
    "Consider an experiment where students introduce a dilute amount of phenolphthalein into a 0.1M NaOH solution.  Using a colorimeter, students measure the following absorbances as a function of time:\n",
    "\n",
    "| Time (min) | Absorbance |\n",
    "|-|-|\n",
    "| 0 | 1.1546 |\n",
    "| 10 | 0.9456 |\n",
    "| 20 | 0.8257 |\n",
    "| 30 | 0.7442 |\n",
    "| 40 | 0.6310 |\n",
    "| 50 | 0.5536 |\n",
    "| 60 | 0.4738 |\n",
    "| 70 | 0.4507 |\n",
    "| 80 | 0.3671 |\n",
    "| 90 | 0.3826 |\n",
    "| 100 | 0.3574 |\n",
    "| 110 | 0.2926 |\n",
    "| 120 | 0.3105 |\n",
    "\t\t\n",
    "Because the solution is so dilute, the absorbance obeys Beer's Law; thus the absorbance is proportional to the concentration.  "
   ]
  },
  {
   "cell_type": "markdown",
   "metadata": {},
   "source": [
    "### 21d-i. Transform Model Parameters\n",
    "\n",
    "On paper, derive expressions for:\n",
    "\n",
    "1. $k_{1}'$, \n",
    "2. $k_{2}$,\n",
    "3. and $k_{eq}$ \n",
    "\n",
    "in terms of $P_0, P_{eq}, \\lambda$. \n",
    "\n",
    "Show your work. *Hint*: $k_{eq} = k'_1 / k_2$. "
   ]
  },
  {
   "cell_type": "markdown",
   "metadata": {},
   "source": [
    "### 21d-ii. Perform Nonlinear Regression\n",
    "\n",
    "Compute the best fit values for parameters $x = [~ [P]_0, [P]_{eq}, \\lambda ~]^T$ using the experimental data. Call your solution vector `x_sol` and store your answers in variables `P0`, `Peq`, and `l`."
   ]
  },
  {
   "cell_type": "code",
   "execution_count": 31,
   "metadata": {
    "collapsed": true
   },
   "outputs": [],
   "source": [
    "# time and concentration data\n",
    "data = np.array([[0, 1.1546],\n",
    "                [10, 0.9456],\n",
    "                [20, 0.8257],\n",
    "                [30, 0.7442],\n",
    "                [40, 0.631],\n",
    "                [50, 0.5536],\n",
    "                [60, 0.4738],\n",
    "                [70, 0.4507],\n",
    "                [80, 0.3671],\n",
    "                [90, 0.3826],\n",
    "                [100, 0.3754],\n",
    "                [110, 0.2926],\n",
    "                [120, 0.3105]])\n",
    "\n",
    "t = data[:,0] # the times, min\n",
    "p = data[:,1] # the concentrations, M\n",
    "n = len(t) # number of data points"
   ]
  },
  {
   "cell_type": "code",
   "execution_count": 32,
   "metadata": {
    "collapsed": true
   },
   "outputs": [],
   "source": [
    "# define functions to evaluation model and residuals.\n",
    "\n",
    "\n",
    "def model_func(x, t):\n",
    "    '''\n",
    "    Function to define model being fitted\n",
    "    Arguments:\n",
    "        x: parameter vector\n",
    "        t: time vector\n",
    "    Returns:\n",
    "        model: matrix of equations\n",
    "    '''\n",
    "    ### BEGIN SOLUTION\n",
    "    \n",
    "    model = x[1]+(x[0]-x[1])*np.exp(-x[2]*t)\n",
    "    \n",
    "    ### END SOLUTION\n",
    "    \n",
    "    return model\n",
    "    \n",
    "def regression_func(x, t, p):\n",
    "    '''\n",
    "    Function to define regression function for least-squares fitting\n",
    "    Arguments:\n",
    "        x: parameter vector\n",
    "        t: time vector\n",
    "        p: concentrations vector\n",
    "    Returns:\n",
    "        r: residuals\n",
    "    '''\n",
    "    ### BEGIN SOLUTION\n",
    "    r = p - model_func(x,t);\n",
    "    ### END SOLUTION\n",
    "    \n",
    "    return r\n"
   ]
  },
  {
   "cell_type": "code",
   "execution_count": 33,
   "metadata": {},
   "outputs": [
    {
     "name": "stdout",
     "output_type": "stream",
     "text": [
      "1.1428633173643805 0.2285933821677709 0.020845031052624387\n"
     ]
    }
   ],
   "source": [
    "#Find parameters (remember to save in x_sol)\n",
    "### BEGIN SOLUTION\n",
    "x_guess = np.array([1, 1, 1])\n",
    "\n",
    "x_vals = optimize.least_squares(regression_func, x_guess,method='lm',\n",
    "                                args=(t, p))\n",
    "\n",
    "x_sol = x_vals.x\n",
    "\n",
    "P0 = x_sol[0]\n",
    "Peq = x_sol[1]\n",
    "l = x_sol[2]\n",
    "\n",
    "print(P0, Peq, l)\n",
    "### END SOLUTION"
   ]
  },
  {
   "cell_type": "markdown",
   "metadata": {},
   "source": [
    "### 21d-iii. Plot Residuals and Fitted Model\n",
    "\n",
    "A critical assumption in regression analysis is that the model errors are independent and identically distributed. Do the following to check this assumption:\n",
    "1. Calculate the residuals. Save the answer in the variable `res`.\n",
    "2. Plot the residuals vs. time\n",
    "3. Plot concentration prediction (from your model) vs. time. On the same graph, plot the experimental data.\n",
    "4. Write at least two sentences to interpret the plots.\n"
   ]
  },
  {
   "cell_type": "code",
   "execution_count": 34,
   "metadata": {},
   "outputs": [
    {
     "data": {
      "image/png": "[encoded data removed]",
      "text/plain": [
       "<Figure size 432x288 with 1 Axes>"
      ]
     },
     "metadata": {},
     "output_type": "display_data"
    },
    {
     "data": {
      "image/png": "[encoded data removed]",
      "text/plain": [
       "<Figure size 432x288 with 1 Axes>"
      ]
     },
     "metadata": {},
     "output_type": "display_data"
    }
   ],
   "source": [
    "### BEGIN SOLUTION\n",
    "# Plot residuals\n",
    "model = model_func(x_sol,t);\n",
    "res = p - model;\n",
    "\n",
    "plt.plot(t,res,'o')\n",
    "plt.xlabel('time, t (min)')\n",
    "plt.ylabel('Residual Concentration (M)')\n",
    "plt.title('Plot of Residuals')\n",
    "plt.show()\n",
    "\n",
    "# Plot fitted model and original data\n",
    "tplot = np.linspace(0,120,100);\n",
    "pplot = model_func(x_sol,tplot);\n",
    "\n",
    "plt.plot(tplot,pplot)\n",
    "plt.plot(t,p,'o')\n",
    "plt.xlabel('time, t (min)')\n",
    "plt.ylabel('Concentration (M)')\n",
    "plt.title('Fitted Exponential Decay Model')\n",
    "plt.legend(['model','data'], loc='best')\n",
    "plt.show()\n",
    "\n",
    "### END SOLUTION"
   ]
  },
  {
   "cell_type": "markdown",
   "metadata": {},
   "source": [
    "### 21d-iv. Covariance Matrix\n",
    "\n",
    "We can quickly estimate the covariance matrix:\n",
    "\n",
    "\\begin{equation}\n",
    "\t\\Sigma_x \\approx {\\hat{\\sigma}}^2_r \\left( J^T J \\right)^{-1}\n",
    "\\end{equation}\n",
    "\n",
    "where $\\hat{\\sigma}^2_r$ is the variance of the residuals and $J$ is the Jacobian of the residuals with respect to the model parameters $x$.\n",
    "\n",
    "Do the following on paper:\n",
    "1. Assemble the gradient vectors $\\nabla_{x} k_{1}'$, $\\nabla_{x} k_{2}$, and $\\nabla_{x} k_{eq}$.\n",
    "2. Write the formula to calculate the covariance matrix $\\Sigma_{k}$. Hint: look at your notes for multivariate error propagation.\n",
    "3. Write the equations to calculate $\\sigma_{K_{eq}}$ and its 95% confidence interval. Leave your answers in symbolic form.\n",
    "\n",
    "Finally, implement the calculations (above steps) in Python. You will need to start by calculating $\\Sigma_x$. Report the standard deviation of the equilibrium constand and the 95% confidence interval with the units and a reasonable number of significant digits.  "
   ]
  },
  {
   "cell_type": "code",
   "execution_count": 35,
   "metadata": {},
   "outputs": [
    {
     "name": "stdout",
     "output_type": "stream",
     "text": [
      "Variance of residuals = 0.0005 M^2\n",
      "\n",
      "Covariance matrix of x =\n",
      " [[3.68684559e-04 2.24826268e-04 2.02814257e-05]\n",
      " [2.24826268e-04 7.98877392e-04 4.56687950e-05]\n",
      " [2.02814257e-05 4.56687950e-05 3.04396715e-06]]\n",
      "\n",
      "Jacobian of k =\n",
      " [[ 3.64819138e-03 -1.82393036e-02  7.99981871e-01]\n",
      " [-3.64819138e-03  1.82393036e-02  2.00018129e-01]\n",
      " [ 4.37457983e+00 -2.18709167e+01  0.00000000e+00]]\n",
      "\n",
      "Covariance matrix of k =\n",
      " [[ 9.74466946e-07  7.01675092e-07 -4.39373152e-04]\n",
      " [ 7.01675092e-07  6.66150016e-07 -4.70722543e-04]\n",
      " [-4.39373152e-04 -4.70722543e-04  3.46167123e-01]]\n",
      "\n",
      "Standard deviation of keq = 0.5884\n",
      "t =  [-2.22813885  2.22813885]\n",
      "\n",
      "95% confidence interval for Keq: [2.6886, 5.3105]\n"
     ]
    }
   ],
   "source": [
    "### BEGIN SOLUTION\n",
    "## Assemble covariance matrix another way\n",
    "\n",
    "# Calculate the variance in the random error from the residuals\n",
    "sigre = res.T@res / (n-3)\n",
    "print('Variance of residuals = {0:0.4f} M^2\\n'.format(sigre))\n",
    "variance = sigre\n",
    "\n",
    "cov_x = sigre*np.linalg.inv(x_vals.jac.T @ x_vals.jac)\n",
    "print(\"Covariance matrix of x =\\n\",cov_x)\n",
    "\n",
    "# Calcuate Keq\n",
    "Keq = x_sol[0]/x_sol[1] - 1\n",
    "\n",
    "# Calculate Jacobian matrix\n",
    "gradk1 = [x_sol[1]*x_sol[2]/x_sol[0]**2,-x_sol[2]/x_sol[0],1-x_sol[1]/x_sol[0]]\n",
    "\n",
    "gradk2 = [-x_sol[1]*x_sol[2]/x_sol[0]**2,x_sol[2]/x_sol[0],x_sol[1]/x_sol[0]]\n",
    "\n",
    "gradKeq = [1/x_sol[1],-x_sol[0]/x_sol[1]**2,0]\n",
    "\n",
    "gradf = np.array([gradk1,gradk2,gradKeq])\n",
    "\n",
    "print(\"\\nJacobian of k =\\n\",gradf)\n",
    "\n",
    "# Calculate covariance matrix of k\n",
    "varkmc = gradf@cov_x@gradf.T\n",
    "print(\"\\nCovariance matrix of k =\\n\",varkmc)\n",
    "\n",
    "# Calculate the 95% confidence interval for Keq\n",
    "sigKeqmc = varkmc[2,2]**0.5\n",
    "stdev_7 = sigKeqmc\n",
    "print(\"\\nStandard deviation of keq = {0:0.4f}\".format(sigKeqmc))\n",
    "tstar = stats.t.ppf([.025, .975], n-3)\n",
    "print(\"t = \",tstar)\n",
    "Keqintervalmc = Keq + sigKeqmc*tstar\n",
    "\n",
    "print(\"\\n95% confidence interval for Keq: [{0:0.4f}, {1:0.4f}]\".\\\n",
    "      format(Keqintervalmc[0],Keqintervalmc[1]))\n",
    "lb_7 = Keqintervalmc[0]\n",
    "ub_7 = Keqintervalmc[1]\n",
    "\n",
    "### END SOLUTION"
   ]
  },
  {
   "cell_type": "markdown",
   "metadata": {
    "colab_type": "text",
    "id": "Ue5AgFmCqAjt"
   },
   "source": [
    "### Final Thoughts\n",
    "\n",
    "* Residuals look much better with nonlinear regression\n",
    "* Covariance matrix is much more reasonable\n",
    "* Nonlinear regression is not that expensive or difficult, especially with Python and modern optimization algorithms"
   ]
  }
 ],
 "metadata": {
  "colab": {
   "name": "L21-Transformations-and-Nonlinear-Regression.ipynb",
   "provenance": [],
   "version": "0.3.2"
  },
  "kernelspec": {
   "display_name": "Python 3 [3.6]",
   "language": "python",
   "name": "python3"
  },
  "language_info": {
   "codemirror_mode": {
    "name": "ipython",
    "version": 3
   },
   "file_extension": ".py",
   "mimetype": "text/x-python",
   "name": "python",
   "nbconvert_exporter": "python",
   "pygments_lexer": "ipython3",
   "version": "3.6.4"
  }
 },
 "nbformat": 4,
 "nbformat_minor": 1
}
