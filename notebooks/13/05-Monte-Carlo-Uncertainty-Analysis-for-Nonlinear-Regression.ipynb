{
 "cells": [
  {
   "cell_type": "markdown",
   "metadata": {
    "colab_type": "text",
    "id": "IMLjUMiK0Ep9"
   },
   "source": [
    "# Monte Carlo Uncertainty Analysis for Nonlinear Regression\n",
    "\n",
    "CBE 20258. Numerical and Statistical Analysis. Spring 2020.\n",
    "\n",
    "&#169; University of Notre Dame"
   ]
  },
  {
   "cell_type": "code",
   "execution_count": 2,
   "metadata": {
    "colab": {},
    "colab_type": "code",
    "id": "U9BEnj3u0Ep-",
    "tags": []
   },
   "outputs": [],
   "source": [
    "# load libraries\n",
    "import scipy.stats as stats\n",
    "import numpy as np\n",
    "import scipy.optimize as optimize\n",
    "import math\n",
    "import matplotlib.pyplot as plt"
   ]
  },
  {
   "cell_type": "markdown",
   "metadata": {},
   "source": [
    "## Simulation"
   ]
  },
  {
   "cell_type": "markdown",
   "metadata": {},
   "source": [
    "**Further Reading:** §4.12"
   ]
  },
  {
   "cell_type": "markdown",
   "metadata": {},
   "source": [
    "Consider two resistors in parallel with resistances $X \\sim \\mathcal{N}(10~\\Omega,~10^2~\\Omega^2)$ and $Y \\sim \\mathcal{N}(25~\\Omega,~2.5^2~\\Omega^2)$. The total resistance of the circuit is\n",
    "\n",
    "$$R = \\frac{X Y}{X + Y}$$\n",
    "\n",
    "Assume $X$ and $Y$ are independent."
   ]
  },
  {
   "cell_type": "markdown",
   "metadata": {},
   "source": [
    "What is $P(19~\\Omega \\leq X \\leq 21~\\Omega)$, i.e., the probability the circuit is within specification?"
   ]
  },
  {
   "cell_type": "markdown",
   "metadata": {},
   "source": [
    "<div style=\"background-color: rgba(0,0,255,0.05) ; padding: 10px; border: 1px solid darkblue;\"> \n",
    "<b>Class Activity</b>: Spend 3 minutes with a partner outlining your solution strategy using probability theory. First, write down the main steps. Then, if you have time, write down the formulas.\n",
    "</div>"
   ]
  },
  {
   "cell_type": "markdown",
   "metadata": {},
   "source": [
    "### Using Simulation to Estimate a Probability"
   ]
  },
  {
   "cell_type": "markdown",
   "metadata": {},
   "source": [
    "Intead of all of that calculus, we can use simulation to estimate this probability.\n",
    "\n",
    "Repeat 1000s of times:\n",
    "* Generate X and Y using a random number generator\n",
    "* Compute $R$ and record the value"
   ]
  },
  {
   "cell_type": "code",
   "execution_count": 3,
   "metadata": {
    "tags": []
   },
   "outputs": [],
   "source": [
    "# specify number of simulations\n",
    "nsim = 1000\n",
    "\n",
    "# create vector to store the results\n",
    "R_sim = np.zeros(nsim)\n",
    "\n",
    "\n",
    "# create normally distributed noise\n",
    "# loc = mean\n",
    "# scale = standard deviation\n",
    "x = np.random.normal(loc = 100, scale = 10, size=(nsim))\n",
    "y = np.random.normal(loc = 25, scale=2.5, size=(nsim))\n",
    "    \n",
    "# calculate a1, store result\n",
    "R_sim = x * y / (x + y)"
   ]
  },
  {
   "cell_type": "markdown",
   "metadata": {},
   "source": [
    "<div style=\"background-color: rgba(0,0,255,0.05) ; padding: 10px; border: 1px solid darkblue;\"> \n",
    "<b>Class Activity</b>: Estimate $P(19~\\Omega \\leq X \\leq 21~\\Omega)$ using your simulation results.\n",
    "</div>"
   ]
  },
  {
   "cell_type": "code",
   "execution_count": null,
   "metadata": {
    "collapsed": true,
    "jupyter": {
     "outputs_hidden": true
    }
   },
   "outputs": [],
   "source": []
  },
  {
   "cell_type": "markdown",
   "metadata": {},
   "source": [
    "### Using Simulation to Estimate Means and Variances"
   ]
  },
  {
   "cell_type": "code",
   "execution_count": 4,
   "metadata": {},
   "outputs": [
    {
     "name": "stdout",
     "output_type": "stream",
     "text": [
      "Mean:  19.814933102457328  Ohms\n",
      "Median:  19.820608436088186  Ohms\n",
      "Standard Deviation:  1.729237724968207  Ohms\n"
     ]
    }
   ],
   "source": [
    "# print some descriptive statistis\n",
    "print(\"Mean: \",np.mean(R_sim),\" Ohms\")\n",
    "print(\"Median: \",np.median(R_sim),\" Ohms\")\n",
    "print(\"Standard Deviation: \",np.std(R_sim,ddof=1),\" Ohms\")"
   ]
  },
  {
   "cell_type": "markdown",
   "metadata": {},
   "source": [
    "### Using Simulation to Determine Whether a Population is Approximately Normal"
   ]
  },
  {
   "cell_type": "code",
   "execution_count": 5,
   "metadata": {},
   "outputs": [
    {
     "data": {
      "image/png": "[encoded data removed]",
      "text/plain": [
       "<Figure size 432x288 with 1 Axes>"
      ]
     },
     "metadata": {
      "needs_background": "light"
     },
     "output_type": "display_data"
    }
   ],
   "source": [
    "# create histogram of calculated a1 values\n",
    "plt.hist(R_sim)\n",
    "plt.xlabel(\"Circuit Resistance ($\\Omega$)\")\n",
    "plt.ylabel(\"Number of Simulations\")\n",
    "plt.show()"
   ]
  },
  {
   "cell_type": "markdown",
   "metadata": {
    "colab_type": "text",
    "id": "2KltHxDu0EqC"
   },
   "source": [
    "## Monte Carlo Error Propagation\n",
    "\n",
    "**Further Reading:** §4.12\n",
    "\n",
    "### Motivating Example: Cart + Incline\n",
    "\n",
    "You and a classmate want to measure the acceleration of a cart rolling down an incline plane, but disagree on the best approach. The cart starts at rest and travels distance $l = 1.0$ m. The location of the *finish line* is measured with negligible uncertainty. You (student 1) measure the instantaneous velocity $v = 3.2 \\pm 0.1 $ m/s at the finish line. Your classmate (student 2) instead measures the elapsed time $t = 0.63 \\pm 0.01$s.\n"
   ]
  },
  {
   "cell_type": "markdown",
   "metadata": {
    "colab_type": "text",
    "id": "bn2Ca7q20EqD"
   },
   "source": [
    "#### Student 1\n",
    "\n",
    "Using instantaneous velocity, we can acceleration as follows:\n",
    "\n",
    "$$\n",
    "a_1 = \\frac{v^2}{2l}\n",
    "$$\n",
    "\n",
    "First, let's recap the *standard* error propagation approach from our homework."
   ]
  },
  {
   "cell_type": "markdown",
   "metadata": {
    "colab_type": "text",
    "id": "hu2bYpLg0EqD"
   },
   "source": [
    "##### Standard Error Propagation"
   ]
  },
  {
   "cell_type": "code",
   "execution_count": 6,
   "metadata": {
    "colab": {
     "base_uri": "https://localhost:8080/",
     "height": 34
    },
    "colab_type": "code",
    "executionInfo": {
     "elapsed": 795,
     "status": "ok",
     "timestamp": 1555420725165,
     "user": {
      "displayName": "Alexander Dowling",
      "photoUrl": "https://lh3.googleusercontent.com/-LChdQ2m5OQE/AAAAAAAAAAI/AAAAAAAAAA0/JeXJe4vQJ7M/s64/photo.jpg",
      "userId": "00988067626794866502"
     },
     "user_tz": 240
    },
    "id": "iu-PQo4l0EqE",
    "outputId": "7cbbe7b7-27f5-41fa-a838-ce1f11fdcc76"
   },
   "outputs": [
    {
     "name": "stdout",
     "output_type": "stream",
     "text": [
      "Calculated acceleration:  5.12 +/- 0.32 m/s/s\n"
     ]
    }
   ],
   "source": [
    "## Results of 'standard' error analysis (from homework)\n",
    "\n",
    "# define distance travelled\n",
    "l = 1 # m \n",
    "\n",
    "# define function to calculate a1\n",
    "calc_a1 = lambda v: v**2 / (2*l)\n",
    "\n",
    "# define velocity measurement and uncertainty\n",
    "v = 3.2\n",
    "v_std = 0.1\n",
    "\n",
    "# calculate a1\n",
    "a1 = calc_a1(v)\n",
    "\n",
    "# estimate gradient with forward finite difference\n",
    "da1dv = (calc_a1(v + 1E-6) - a1)/(1E-6)\n",
    "\n",
    "# calculate uncertainty\n",
    "sigma_a1 = abs(da1dv)*v_std\n",
    "\n",
    "# report answer\n",
    "print(\"Calculated acceleration: \",round(a1,2),\"+/-\",round(sigma_a1,2),\"m/s/s\")"
   ]
  },
  {
   "cell_type": "markdown",
   "metadata": {
    "colab_type": "text",
    "id": "NuIJQEuV0EqI"
   },
   "source": [
    "##### Monte Carlo Error Propagation\n",
    "\n",
    "We can also estimate the uncertainty in $a_1$ using simulation. Below is the **main idea**.\n",
    "\n",
    "Repeat 1000s of times:\n",
    "* Add $\\mathcal{N}(0,0.1^2)$ uncertainty to velocity measurement\n",
    "* Recalculate $a_1$ and store result\n",
    "\n",
    "Then calculate the standard deviation of the stored $a_1$ results. In other words, we are simulated what would happen if we repeated the experiment many many times with an assumed random measurement error."
   ]
  },
  {
   "cell_type": "markdown",
   "metadata": {},
   "source": [
    "<div style=\"background-color: rgba(0,0,255,0.05) ; padding: 10px; border: 1px solid darkblue;\"> \n",
    "<b>Class Activity</b>: With a partner, complete the code below.\n",
    "</div>"
   ]
  },
  {
   "cell_type": "code",
   "execution_count": 7,
   "metadata": {
    "colab": {
     "base_uri": "https://localhost:8080/",
     "height": 334
    },
    "colab_type": "code",
    "executionInfo": {
     "elapsed": 1216,
     "status": "ok",
     "timestamp": 1555420725606,
     "user": {
      "displayName": "Alexander Dowling",
      "photoUrl": "https://lh3.googleusercontent.com/-LChdQ2m5OQE/AAAAAAAAAAI/AAAAAAAAAA0/JeXJe4vQJ7M/s64/photo.jpg",
      "userId": "00988067626794866502"
     },
     "user_tz": 240
    },
    "id": "XdbSJnUA0EqJ",
    "outputId": "ea7336a2-81ea-48ac-e53f-e0f676617bb1"
   },
   "outputs": [
    {
     "data": {
      "image/png": "[encoded data removed]",
      "text/plain": [
       "<Figure size 432x288 with 1 Axes>"
      ]
     },
     "metadata": {
      "needs_background": "light"
     },
     "output_type": "display_data"
    },
    {
     "name": "stdout",
     "output_type": "stream",
     "text": [
      "Mean:  5.109382327325115  m/s/s\n",
      "Median:  5.090340839299156  m/s/s\n",
      "Standard Deviation:  0.31552727670053443  m/s/s\n"
     ]
    }
   ],
   "source": [
    "# specify number of simulations\n",
    "nsim = 1000\n",
    "\n",
    "# create vector to store the results\n",
    "a1_sim = np.zeros(nsim)\n",
    "\n",
    "### BEGIN SOLUTION\n",
    "\n",
    "# repeat many times\n",
    "for i in range(0,nsim):\n",
    "    \n",
    "    # create normally distributed noise\n",
    "    # loc = mean\n",
    "    # scale = standard deviation\n",
    "    noise = np.random.normal(loc = 0,scale = v_std)\n",
    "    \n",
    "    # calculate a1, store result\n",
    "    a1_sim[i] = calc_a1(v + noise)\n",
    "\n",
    "### END SOLUTION\n",
    "    \n",
    "# create histogram of calculated a1 values\n",
    "plt.hist(a1_sim)\n",
    "plt.xlabel(\"Acceleration (m/s/s)\")\n",
    "plt.ylabel(\"Number of Simulations\")\n",
    "plt.show()\n",
    "\n",
    "# print some descriptive statistis\n",
    "print(\"Mean: \",np.mean(a1_sim),\" m/s/s\")\n",
    "print(\"Median: \",np.median(a1_sim),\" m/s/s\")\n",
    "print(\"Standard Deviation: \",np.std(a1_sim),\" m/s/s\")"
   ]
  },
  {
   "cell_type": "markdown",
   "metadata": {
    "colab_type": "text",
    "id": "eHE_16v30EqM"
   },
   "source": [
    "This standard deviation matches the uncertainty calculated with the error propagation formulas."
   ]
  },
  {
   "cell_type": "markdown",
   "metadata": {
    "colab_type": "text",
    "id": "e2NooU_b0EqM"
   },
   "source": [
    "#### Student 2\n",
    "\n",
    "Using instantaneous velocity, we can calculate acceleration as follows:\n",
    "\n",
    "$$\n",
    "a_2 = \\frac{2 l}{t^2} \n",
    "$$\n",
    "\n",
    "First, lets recap the solution to the homework.\n",
    "\n",
    "##### Standard Error Propagation"
   ]
  },
  {
   "cell_type": "code",
   "execution_count": 8,
   "metadata": {
    "colab": {
     "base_uri": "https://localhost:8080/",
     "height": 34
    },
    "colab_type": "code",
    "executionInfo": {
     "elapsed": 1205,
     "status": "ok",
     "timestamp": 1555420725608,
     "user": {
      "displayName": "Alexander Dowling",
      "photoUrl": "https://lh3.googleusercontent.com/-LChdQ2m5OQE/AAAAAAAAAAI/AAAAAAAAAA0/JeXJe4vQJ7M/s64/photo.jpg",
      "userId": "00988067626794866502"
     },
     "user_tz": 240
    },
    "id": "Ej9GWUU30EqN",
    "outputId": "967b59e3-3d79-4155-9956-7a1bd378ebb6"
   },
   "outputs": [
    {
     "name": "stdout",
     "output_type": "stream",
     "text": [
      "Calculated acceleration:  5.04 +/- 0.16 m/s/s\n"
     ]
    }
   ],
   "source": [
    "## Results of 'standard' error analysis (from homework)\n",
    "\n",
    "# define distance travelled\n",
    "l = 1 # m\n",
    "\n",
    "# define function to calculate a2\n",
    "calc_a2 = lambda t: 2*l / t**2\n",
    "\n",
    "# define time measurement and uncertainty\n",
    "t = 0.63\n",
    "t_std = 0.01\n",
    "\n",
    "# calculate a2\n",
    "a2 = calc_a2(t)\n",
    "\n",
    "# estimate gradient with forward finite difference\n",
    "da2dt = (calc_a2(t + 1E-6) - a2)/(1E-6)\n",
    "\n",
    "# calculate uncertainty\n",
    "sigma_a2 = abs(da2dt)*t_std\n",
    "\n",
    "print(\"Calculated acceleration: \",round(a2,2),\"+/-\",round(sigma_a2,2),\"m/s/s\")"
   ]
  },
  {
   "cell_type": "markdown",
   "metadata": {
    "colab_type": "text",
    "id": "0nRM4tuV0EqP"
   },
   "source": [
    "##### Monte Carlo Error Propagation"
   ]
  },
  {
   "cell_type": "markdown",
   "metadata": {},
   "source": [
    "<div style=\"background-color: rgba(0,0,255,0.05) ; padding: 10px; border: 1px solid darkblue;\"> \n",
    "<b>Class Activity</b>: Apply the Monte Carlo approach to Student 2's calculation. Start by copying and pasting the code from above.\n",
    "</div>"
   ]
  },
  {
   "cell_type": "code",
   "execution_count": 9,
   "metadata": {
    "colab": {
     "base_uri": "https://localhost:8080/",
     "height": 334
    },
    "colab_type": "code",
    "executionInfo": {
     "elapsed": 810,
     "status": "ok",
     "timestamp": 1555422834586,
     "user": {
      "displayName": "Alexander Dowling",
      "photoUrl": "https://lh3.googleusercontent.com/-LChdQ2m5OQE/AAAAAAAAAAI/AAAAAAAAAA0/JeXJe4vQJ7M/s64/photo.jpg",
      "userId": "00988067626794866502"
     },
     "user_tz": 240
    },
    "id": "imPRrruk1izJ",
    "outputId": "8c8f7ea3-11e6-4c2c-e689-0234d4755d85"
   },
   "outputs": [
    {
     "data": {
      "image/png": "[encoded data removed]",
      "text/plain": [
       "<Figure size 432x288 with 1 Axes>"
      ]
     },
     "metadata": {
      "needs_background": "light"
     },
     "output_type": "display_data"
    },
    {
     "name": "stdout",
     "output_type": "stream",
     "text": [
      "Mean:  5.039422830681053  m/s/s\n",
      "Median:  5.032384952828478  m/s/s\n",
      "Standard Deviation:  0.16032286655071076  m/s/s\n"
     ]
    }
   ],
   "source": [
    "### BEGIN SOLUTION\n",
    "\n",
    "# specify number of simulations\n",
    "nsim = 1000\n",
    "\n",
    "# create vector to store the results\n",
    "a2_sim = np.zeros(nsim)\n",
    "\n",
    "# repeat many times\n",
    "for i in range(0,nsim):\n",
    "    \n",
    "    # create normally distributed noise\n",
    "    # loc = mean\n",
    "    # scale = standard deviation\n",
    "    noise = np.random.normal(loc = 0,scale = t_std)\n",
    "    \n",
    "    # calculate a1, store result\n",
    "    a2_sim[i] = calc_a2(t + noise)\n",
    "    \n",
    "# create histogram of calculated a1 values\n",
    "plt.hist(a2_sim)\n",
    "plt.xlabel(\"Acceleration (m/s/s)\")\n",
    "plt.ylabel(\"Number of Simulations\")\n",
    "plt.show()\n",
    "\n",
    "# print some descriptive statistis\n",
    "print(\"Mean: \",np.mean(a2_sim),\" m/s/s\")\n",
    "print(\"Median: \",np.median(a2_sim),\" m/s/s\")\n",
    "print(\"Standard Deviation: \",np.std(a2_sim),\" m/s/s\")\n",
    "\n",
    "### END SOLUTION"
   ]
  },
  {
   "cell_type": "markdown",
   "metadata": {
    "colab_type": "text",
    "id": "0o8sjq1o0EqQ"
   },
   "source": [
    "### Uncertainty Analysis for Nonlinear Regression\n",
    "\n",
    "#### Motivating Example: Michaelis-Menten Enzymatic Reaction Kinetics\n",
    "\n",
    "The **Michaelis-Menten** equation is an extremely popular model to describe the rate of enzymatic reactions.\n",
    "\n",
    "$$\n",
    "\\mathrm{E} + \\mathrm{S} \\leftrightharpoons \\mathrm{ES} \\rightarrow \\mathrm{E} + \\mathrm{P}\n",
    "$$\n",
    "\n",
    "$$\n",
    "r = V_{max} \\frac{[\\mathrm{S}]}{K_M + [\\mathrm{S}]}\n",
    "$$\n",
    "\n",
    "Additional information: https://en.wikipedia.org/wiki/Michaelis%E2%80%93Menten_kinetics"
   ]
  },
  {
   "cell_type": "code",
   "execution_count": 10,
   "metadata": {
    "colab": {},
    "colab_type": "code",
    "id": "k1A-IbYK0EqQ",
    "tags": []
   },
   "outputs": [],
   "source": [
    "## Create dataset\n",
    "\n",
    "# Define exact coefficients\n",
    "Vmaxexact=2;\n",
    "Kmexact=5;\n",
    "\n",
    "# Evaluate model\n",
    "Sexp = np.array([.3, .4, 0.5, 1, 2, 4, 8, 16]);\n",
    "rexp = Vmaxexact*Sexp / (Kmexact+Sexp);\n",
    "\n",
    "# Add some random error to simulate \n",
    "rexp += 0.05*np.random.normal(size=len(Sexp))\n",
    "\n",
    "# Evaluate model to plot smooth curve\n",
    "S = np.linspace(np.min(Sexp),np.max(Sexp),100)\n",
    "r = Vmaxexact*S / (Kmexact+S)"
   ]
  },
  {
   "cell_type": "markdown",
   "metadata": {
    "colab_type": "text",
    "id": "U7nTijoM0EqS"
   },
   "source": [
    "#### Nonlinear Regression + Linearized Uncertainty Analysis\n",
    "\n",
    "**Main idea**: Solve the best fit optimization problem,\n",
    "\n",
    "$$\\min_{\\hat{\\theta}} \\quad (y_i - \\hat{y}_i)^2$$\n",
    "\n",
    "computationally. This works even if $\\hat{y_i} = f(\\hat{\\theta}, x)$ is a nonlinear function.\n",
    "\n",
    "Recall $\\theta$ = [$V_{max}$, $K_m$] for our example.\n"
   ]
  },
  {
   "cell_type": "markdown",
   "metadata": {
    "colab_type": "text",
    "id": "OkHsbd030EqS"
   },
   "source": [
    "##### Step 1. Calculate Best Fit and Plot"
   ]
  },
  {
   "cell_type": "code",
   "execution_count": 11,
   "metadata": {
    "colab": {
     "base_uri": "https://localhost:8080/",
     "height": 34
    },
    "colab_type": "code",
    "executionInfo": {
     "elapsed": 1193,
     "status": "ok",
     "timestamp": 1555420725620,
     "user": {
      "displayName": "Alexander Dowling",
      "photoUrl": "https://lh3.googleusercontent.com/-LChdQ2m5OQE/AAAAAAAAAAI/AAAAAAAAAA0/JeXJe4vQJ7M/s64/photo.jpg",
      "userId": "00988067626794866502"
     },
     "user_tz": 240
    },
    "id": "u0_4lfow0EqT",
    "outputId": "5de60951-5518-4fd7-b3ac-2a19199d7305"
   },
   "outputs": [
    {
     "name": "stdout",
     "output_type": "stream",
     "text": [
      "theta =  [1.90559745 4.3469723 ]\n"
     ]
    }
   ],
   "source": [
    "## define function that includes nonlinear model\n",
    "def model(theta,x):\n",
    "    '''\n",
    "    Michaelis-Menten model\n",
    "    Arguments:\n",
    "        theta: parameter vector\n",
    "        x: independent variable vector (S concentration)\n",
    "    Returns:\n",
    "        yhat: dependent variable prediction (r rate)\n",
    "    '''\n",
    "    yhat = (theta[0] * x) / (theta[1] + x) \n",
    "    return yhat\n",
    "    \n",
    "def regression_func(theta, x, y):\n",
    "    '''\n",
    "    Function to define regression function for least-squares fitting\n",
    "    Arguments:\n",
    "        theta: parameter vector\n",
    "        x: independent variable vector\n",
    "        y: dependent variable vector (measurements)\n",
    "    Returns:\n",
    "        e: residual vector\n",
    "    '''\n",
    "    e = y - model(theta,x);\n",
    "    \n",
    "    return e\n",
    "\n",
    "## specify initial guess\n",
    "theta0 = np.array([1.0, 5.0])\n",
    "\n",
    "## specify bounds\n",
    "# first array: lower bounds\n",
    "# second array: upper bounds\n",
    "bnds = ([0.0, 0.0], [np.inf, np.inf])\n",
    "\n",
    "## use least squares optimizer in scipy\n",
    "# notice that 'args' is used to pass the data vectors\n",
    "nl_results = optimize.least_squares(regression_func, theta0,bounds=bnds, method='trf',args=(Sexp, rexp))\n",
    "\n",
    "theta = nl_results.x\n",
    "print(\"theta = \",theta)"
   ]
  },
  {
   "cell_type": "code",
   "execution_count": 14,
   "metadata": {
    "colab": {
     "base_uri": "https://localhost:8080/",
     "height": 283
    },
    "colab_type": "code",
    "executionInfo": {
     "elapsed": 1426,
     "status": "ok",
     "timestamp": 1555420725877,
     "user": {
      "displayName": "Alexander Dowling",
      "photoUrl": "https://lh3.googleusercontent.com/-LChdQ2m5OQE/AAAAAAAAAAI/AAAAAAAAAA0/JeXJe4vQJ7M/s64/photo.jpg",
      "userId": "00988067626794866502"
     },
     "user_tz": 240
    },
    "id": "M2mWUxjE0EqV",
    "outputId": "fd9a2dfe-d1b3-4322-8b0b-dab7623feee0"
   },
   "outputs": [
    {
     "data": {
      "image/png": "[encoded data removed]",
      "text/plain": [
       "<Figure size 432x288 with 1 Axes>"
      ]
     },
     "metadata": {
      "needs_background": "light"
     },
     "output_type": "display_data"
    }
   ],
   "source": [
    "# generate predictions\n",
    "S_pred = np.linspace(np.min(Sexp),np.max(Sexp),20)\n",
    "r_pred = model(theta, S_pred)\n",
    "\n",
    "# create plot\n",
    "plt.plot(Sexp,rexp,'.b',markersize=20,label='Data')\n",
    "plt.plot(S_pred,r_pred,'--g',linewidth=3,label='Best Fit Line')\n",
    "plt.plot(S,r,'r-',linewidth=3,label='True Model')\n",
    "plt.xlabel('[S] (mol / L)')\n",
    "plt.ylabel('r (mol / L / s)')\n",
    "plt.grid(True)\n",
    "plt.legend()\n",
    "plt.show()"
   ]
  },
  {
   "cell_type": "markdown",
   "metadata": {
    "colab_type": "text",
    "id": "eRETEx6i0EqX"
   },
   "source": [
    "##### Step 2. Residual Analysis"
   ]
  },
  {
   "cell_type": "code",
   "execution_count": 15,
   "metadata": {
    "colab": {
     "base_uri": "https://localhost:8080/",
     "height": 51
    },
    "colab_type": "code",
    "executionInfo": {
     "elapsed": 1414,
     "status": "ok",
     "timestamp": 1555420725879,
     "user": {
      "displayName": "Alexander Dowling",
      "photoUrl": "https://lh3.googleusercontent.com/-LChdQ2m5OQE/AAAAAAAAAAI/AAAAAAAAAA0/JeXJe4vQJ7M/s64/photo.jpg",
      "userId": "00988067626794866502"
     },
     "user_tz": 240
    },
    "id": "knSkmHs60EqY",
    "outputId": "b4eaec35-a0e8-46be-d52f-87b7c41927fd"
   },
   "outputs": [
    {
     "name": "stdout",
     "output_type": "stream",
     "text": [
      "[ 0.06665632 -0.01579968  0.00270248 -0.05566205 -0.00926582  0.01646723\n",
      "  0.03154713 -0.0232116 ]\n"
     ]
    }
   ],
   "source": [
    "## calculate residuals\n",
    "y_hat2 = model(theta,Sexp)\n",
    "e2 = rexp - y_hat2\n",
    "print(e2)"
   ]
  },
  {
   "cell_type": "code",
   "execution_count": 16,
   "metadata": {
    "colab": {
     "base_uri": "https://localhost:8080/",
     "height": 283
    },
    "colab_type": "code",
    "executionInfo": {
     "elapsed": 1579,
     "status": "ok",
     "timestamp": 1555420726059,
     "user": {
      "displayName": "Alexander Dowling",
      "photoUrl": "https://lh3.googleusercontent.com/-LChdQ2m5OQE/AAAAAAAAAAI/AAAAAAAAAA0/JeXJe4vQJ7M/s64/photo.jpg",
      "userId": "00988067626794866502"
     },
     "user_tz": 240
    },
    "id": "2j9auMF20Eqa",
    "outputId": "9eb57385-7733-4baf-a739-ce11f8798af4"
   },
   "outputs": [
    {
     "data": {
      "image/png": "[encoded data removed]",
      "text/plain": [
       "<Figure size 432x288 with 1 Axes>"
      ]
     },
     "metadata": {
      "needs_background": "light"
     },
     "output_type": "display_data"
    }
   ],
   "source": [
    "plt.hist(e2)\n",
    "plt.xlabel(\"Residual (mol / L / s)\")\n",
    "plt.ylabel(\"Frequency (count)\")\n",
    "plt.show()"
   ]
  },
  {
   "cell_type": "code",
   "execution_count": 18,
   "metadata": {
    "colab": {
     "base_uri": "https://localhost:8080/",
     "height": 295
    },
    "colab_type": "code",
    "executionInfo": {
     "elapsed": 1568,
     "status": "ok",
     "timestamp": 1555420726061,
     "user": {
      "displayName": "Alexander Dowling",
      "photoUrl": "https://lh3.googleusercontent.com/-LChdQ2m5OQE/AAAAAAAAAAI/AAAAAAAAAA0/JeXJe4vQJ7M/s64/photo.jpg",
      "userId": "00988067626794866502"
     },
     "user_tz": 240
    },
    "id": "Xrco2boB0Eqc",
    "outputId": "dbcae5bc-2f4c-4e13-9438-1eef41e07b4a"
   },
   "outputs": [
    {
     "data": {
      "image/png": "[encoded data removed]",
      "text/plain": [
       "<Figure size 432x288 with 1 Axes>"
      ]
     },
     "metadata": {
      "needs_background": "light"
     },
     "output_type": "display_data"
    }
   ],
   "source": [
    "plt.plot(y_hat2,e2,\"b.\",markersize=20)\n",
    "plt.xlabel(\"Predicted r (mol / s / L)\")\n",
    "plt.ylabel(\"Residual (mol / s / L)\")\n",
    "plt.grid(True)\n",
    "plt.title(\"Residuals vs. Predicted Value\")\n",
    "plt.show()"
   ]
  },
  {
   "cell_type": "code",
   "execution_count": 19,
   "metadata": {
    "colab": {
     "base_uri": "https://localhost:8080/",
     "height": 295
    },
    "colab_type": "code",
    "executionInfo": {
     "elapsed": 2105,
     "status": "ok",
     "timestamp": 1555420726615,
     "user": {
      "displayName": "Alexander Dowling",
      "photoUrl": "https://lh3.googleusercontent.com/-LChdQ2m5OQE/AAAAAAAAAAI/AAAAAAAAAA0/JeXJe4vQJ7M/s64/photo.jpg",
      "userId": "00988067626794866502"
     },
     "user_tz": 240
    },
    "id": "5GyC4cXG0Eqf",
    "outputId": "26de53d0-65c0-4ab5-859f-acd3f7e84c57"
   },
   "outputs": [
    {
     "data": {
      "image/png": "[encoded data removed]",
      "text/plain": [
       "<Figure size 432x288 with 1 Axes>"
      ]
     },
     "metadata": {
      "needs_background": "light"
     },
     "output_type": "display_data"
    }
   ],
   "source": [
    "plt.plot(Sexp,e2,\"b.\",markersize=20)\n",
    "plt.xlabel(\"Dependent Variable [S] (mol / L)\")\n",
    "plt.ylabel(\"Residual (mol / s / L)\")\n",
    "plt.grid(True)\n",
    "plt.title(\"Residuals vs. Dependent Variable\")\n",
    "plt.show()"
   ]
  },
  {
   "cell_type": "markdown",
   "metadata": {
    "colab_type": "text",
    "id": "f9FiDMem0Eqi"
   },
   "source": [
    "##### Step 3. Uncertainty Analysis / Calculate Covariance Matrix\n",
    "\n",
    "$$\n",
    "\\Sigma_{\\theta} \\approx \\hat{\\sigma}_e^2 (J^T J)^{-1}\n",
    "$$\n",
    "\n",
    "where $J$ is the Jacobian of the residuals w.r.t. $\\theta$:\n",
    "\n",
    "$$\n",
    "J_{i,j} = \\frac{\\partial(y_i - \\hat{y}_i)}{\\partial \\theta_j}\n",
    "$$"
   ]
  },
  {
   "cell_type": "code",
   "execution_count": 20,
   "metadata": {
    "colab": {
     "base_uri": "https://localhost:8080/",
     "height": 187
    },
    "colab_type": "code",
    "executionInfo": {
     "elapsed": 2087,
     "status": "ok",
     "timestamp": 1555420726617,
     "user": {
      "displayName": "Alexander Dowling",
      "photoUrl": "https://lh3.googleusercontent.com/-LChdQ2m5OQE/AAAAAAAAAAI/AAAAAAAAAA0/JeXJe4vQJ7M/s64/photo.jpg",
      "userId": "00988067626794866502"
     },
     "user_tz": 240
    },
    "id": "sdcx6ClO0Eqi",
    "outputId": "04f1d506-d934-43ae-f300-7c65b093401a"
   },
   "outputs": [
    {
     "name": "stdout",
     "output_type": "stream",
     "text": [
      "Jacobian =\n",
      "\n",
      "[[-0.06455816  0.02647355]\n",
      " [-0.08426424  0.03382655]\n",
      " [-0.10315718  0.04055646]\n",
      " [-0.18702173  0.06665232]\n",
      " [-0.31511088  0.09460802]\n",
      " [-0.47921568  0.109404  ]\n",
      " [-0.64793212  0.10000005]\n",
      " [-0.78635779  0.0736464 ]]\n"
     ]
    }
   ],
   "source": [
    "print(\"Jacobian =\\n\")\n",
    "print(nl_results.jac)"
   ]
  },
  {
   "cell_type": "code",
   "execution_count": 21,
   "metadata": {
    "colab": {
     "base_uri": "https://localhost:8080/",
     "height": 68
    },
    "colab_type": "code",
    "executionInfo": {
     "elapsed": 2073,
     "status": "ok",
     "timestamp": 1555420726618,
     "user": {
      "displayName": "Alexander Dowling",
      "photoUrl": "https://lh3.googleusercontent.com/-LChdQ2m5OQE/AAAAAAAAAAI/AAAAAAAAAA0/JeXJe4vQJ7M/s64/photo.jpg",
      "userId": "00988067626794866502"
     },
     "user_tz": 240
    },
    "id": "47sCQcR70Eqm",
    "outputId": "26f1e4f4-a261-46e5-c770-3a1f90e972ed"
   },
   "outputs": [
    {
     "name": "stdout",
     "output_type": "stream",
     "text": [
      "Covariance matrix:\n",
      " [[0.00600664 0.03068078]\n",
      " [0.03068078 0.19318465]]\n"
     ]
    }
   ],
   "source": [
    "sigre = (e2.T @ e2)/(len(e2) - 2)\n",
    "Sigma_theta2 = sigre * np.linalg.inv(nl_results.jac.T @ nl_results.jac)\n",
    "print(\"Covariance matrix:\\n\",Sigma_theta2)"
   ]
  },
  {
   "cell_type": "markdown",
   "metadata": {
    "colab_type": "text",
    "id": "CxZYqEXT0Eqs"
   },
   "source": [
    "#### Nonlinear Regression + Monte Carlo Uncertainty Analysis\n",
    "\n",
    "**Main Idea**\n",
    "* Use residuals to estimate uncertainty in dependent variable\n",
    "* Simulate regression procedure 1000s of times, adding random noise to dependent variable\n",
    "* Examine distribution of fitted values"
   ]
  },
  {
   "cell_type": "code",
   "execution_count": 22,
   "metadata": {
    "colab": {
     "base_uri": "https://localhost:8080/",
     "height": 34
    },
    "colab_type": "code",
    "executionInfo": {
     "elapsed": 2065,
     "status": "ok",
     "timestamp": 1555420726618,
     "user": {
      "displayName": "Alexander Dowling",
      "photoUrl": "https://lh3.googleusercontent.com/-LChdQ2m5OQE/AAAAAAAAAAI/AAAAAAAAAA0/JeXJe4vQJ7M/s64/photo.jpg",
      "userId": "00988067626794866502"
     },
     "user_tz": 240
    },
    "id": "rRNA6ICb0Eqs",
    "outputId": "96f39f4c-6ae8-4b1d-8dba-6f90d82e84c8"
   },
   "outputs": [
    {
     "name": "stdout",
     "output_type": "stream",
     "text": [
      "0.0016148812853250087\n"
     ]
    }
   ],
   "source": [
    "# variance of residuals\n",
    "print(sigre)"
   ]
  },
  {
   "cell_type": "markdown",
   "metadata": {},
   "source": [
    "##### Pseudocode"
   ]
  },
  {
   "cell_type": "markdown",
   "metadata": {},
   "source": [
    "<div style=\"background-color: rgba(0,0,255,0.05) ; padding: 10px; border: 1px solid darkblue;\"> \n",
    "<b>Class Activity</b>: Write pseudocode with a partner.\n",
    "</div>"
   ]
  },
  {
   "cell_type": "markdown",
   "metadata": {
    "colab_type": "text",
    "id": "ZT0Enocp0Eqv"
   },
   "source": [
    "##### Python Hints\n",
    "\n",
    "Let's say we want to generate a vector with 5 elements, each normally distributed with mean 0 and standard deviation 2. We can do this in one line using Python:"
   ]
  },
  {
   "cell_type": "code",
   "execution_count": 23,
   "metadata": {
    "colab": {
     "base_uri": "https://localhost:8080/",
     "height": 51
    },
    "colab_type": "code",
    "executionInfo": {
     "elapsed": 262,
     "status": "ok",
     "timestamp": 1555424836951,
     "user": {
      "displayName": "Alexander Dowling",
      "photoUrl": "https://lh3.googleusercontent.com/-LChdQ2m5OQE/AAAAAAAAAAI/AAAAAAAAAA0/JeXJe4vQJ7M/s64/photo.jpg",
      "userId": "00988067626794866502"
     },
     "user_tz": 240
    },
    "id": "Mq-m3hSg0Eqw",
    "outputId": "823c9b08-ea35-402a-beee-f45b6a16873b"
   },
   "outputs": [
    {
     "name": "stdout",
     "output_type": "stream",
     "text": [
      "[-2.42110719 -0.21286981  2.10153289 -0.42647601 -1.77003804]\n"
     ]
    }
   ],
   "source": [
    "my_vec = np.random.normal(loc = 0,scale = 2,size=(5))\n",
    "print(my_vec)"
   ]
  },
  {
   "cell_type": "markdown",
   "metadata": {
    "colab_type": "text",
    "id": "s9LJvU020Eqy"
   },
   "source": [
    "##### Implement in Python"
   ]
  },
  {
   "cell_type": "markdown",
   "metadata": {},
   "source": [
    "<div style=\"background-color: rgba(0,0,255,0.05) ; padding: 10px; border: 1px solid darkblue;\"> \n",
    "<b>Class Activity</b>: Implement your pseudocode in Python.\n",
    "</div>"
   ]
  },
  {
   "cell_type": "code",
   "execution_count": 24,
   "metadata": {
    "colab": {},
    "colab_type": "code",
    "id": "3WHD_lfL0Eqz",
    "tags": []
   },
   "outputs": [],
   "source": [
    "# Number of Monte Carlo samples\n",
    "nmc = 1000;\n",
    "\n",
    "# Number of data points\n",
    "n = len(rexp)\n",
    "\n",
    "# Declare a matrix to save the fitted parameters\n",
    "theta_mc = np.zeros((nmc,2))\n",
    "\n",
    "# Recall, the standard deviation of the residuals is sigre**0.5\n",
    "\n",
    "# Perform Monte Carlo simulation\n",
    "### BEGIN SOLUTION\n",
    "# Repeat for i = 0 to nmc - 1\n",
    "for i in range(nmc):\n",
    "    \n",
    "    # generate Guassian random noise with mean 0 and standard deviation of sqrt(sigre)\n",
    "    noise_vector = np.random.normal(loc = 0,scale = sigre**0.5, \\\n",
    "                                    size=(n))\n",
    "    \n",
    "    # add noise to the dependent variable\n",
    "    noisy_data = rexp + noise_vector\n",
    "    \n",
    "    # compute the least squares best fit via nonlinear optimization\n",
    "    # use the determinist nonlinear regression best fit as a starting point\n",
    "    sol = optimize.least_squares(regression_func,theta,args=(Sexp, noisy_data))\n",
    "    \n",
    "    # save solution\n",
    "    theta_mc[i,:] = sol.x\n",
    "\n",
    "### END SOLUTION"
   ]
  },
  {
   "cell_type": "markdown",
   "metadata": {
    "colab_type": "text",
    "id": "J1eVtkNw0Eq0"
   },
   "source": [
    "##### Visualize Distribution of Fitted Parameters"
   ]
  },
  {
   "cell_type": "code",
   "execution_count": 25,
   "metadata": {
    "colab": {
     "base_uri": "https://localhost:8080/",
     "height": 287
    },
    "colab_type": "code",
    "executionInfo": {
     "elapsed": 500,
     "status": "ok",
     "timestamp": 1555424727843,
     "user": {
      "displayName": "Alexander Dowling",
      "photoUrl": "https://lh3.googleusercontent.com/-LChdQ2m5OQE/AAAAAAAAAAI/AAAAAAAAAA0/JeXJe4vQJ7M/s64/photo.jpg",
      "userId": "00988067626794866502"
     },
     "user_tz": 240
    },
    "id": "kKbltWXd0Eq1",
    "outputId": "d333dee9-f4c5-4cde-adc4-ba3105d0b2c4"
   },
   "outputs": [
    {
     "data": {
      "image/png": "[encoded data removed]",
      "text/plain": [
       "<Figure size 432x288 with 1 Axes>"
      ]
     },
     "metadata": {
      "needs_background": "light"
     },
     "output_type": "display_data"
    }
   ],
   "source": [
    "# Histogram for Vmax\n",
    "plt.hist(theta_mc[:,0])\n",
    "plt.xlabel(\"Best Fit Value for $V_{max}$\")\n",
    "plt.ylabel(\"Number of MC Simulations\")\n",
    "plt.show()"
   ]
  },
  {
   "cell_type": "code",
   "execution_count": 26,
   "metadata": {
    "colab": {
     "base_uri": "https://localhost:8080/",
     "height": 287
    },
    "colab_type": "code",
    "executionInfo": {
     "elapsed": 1488,
     "status": "ok",
     "timestamp": 1555424731777,
     "user": {
      "displayName": "Alexander Dowling",
      "photoUrl": "https://lh3.googleusercontent.com/-LChdQ2m5OQE/AAAAAAAAAAI/AAAAAAAAAA0/JeXJe4vQJ7M/s64/photo.jpg",
      "userId": "00988067626794866502"
     },
     "user_tz": 240
    },
    "id": "biWt9WtY0Eq-",
    "outputId": "d7198399-434f-45b8-ea59-c4b6efe923db"
   },
   "outputs": [
    {
     "data": {
      "image/png": "[encoded data removed]",
      "text/plain": [
       "<Figure size 432x288 with 1 Axes>"
      ]
     },
     "metadata": {
      "needs_background": "light"
     },
     "output_type": "display_data"
    }
   ],
   "source": [
    "# Histogram for Km\n",
    "plt.hist(theta_mc[:,1])\n",
    "plt.xlabel(\"Best Fit Value for $K_{m}$\")\n",
    "plt.ylabel(\"Number of MC Simulations\")\n",
    "plt.show()"
   ]
  },
  {
   "cell_type": "code",
   "execution_count": 27,
   "metadata": {
    "colab": {
     "base_uri": "https://localhost:8080/",
     "height": 287
    },
    "colab_type": "code",
    "executionInfo": {
     "elapsed": 741,
     "status": "ok",
     "timestamp": 1555424739462,
     "user": {
      "displayName": "Alexander Dowling",
      "photoUrl": "https://lh3.googleusercontent.com/-LChdQ2m5OQE/AAAAAAAAAAI/AAAAAAAAAA0/JeXJe4vQJ7M/s64/photo.jpg",
      "userId": "00988067626794866502"
     },
     "user_tz": 240
    },
    "id": "R12nVmaK0ErB",
    "outputId": "d06f9ece-85d4-4c23-a144-884221512063"
   },
   "outputs": [
    {
     "data": {
      "image/png": "[encoded data removed]",
      "text/plain": [
       "<Figure size 432x288 with 1 Axes>"
      ]
     },
     "metadata": {
      "needs_background": "light"
     },
     "output_type": "display_data"
    }
   ],
   "source": [
    "# We can even make a 2D histogram\n",
    "plt.hist2d(theta_mc[:,0], theta_mc[:,1],bins=50)\n",
    "plt.xlabel(\"Best Fit Value for $V_{max}$\")\n",
    "plt.ylabel(\"Best Fit Value for $K_{m}$\")\n",
    "plt.show()"
   ]
  },
  {
   "cell_type": "markdown",
   "metadata": {
    "colab_type": "text",
    "id": "VON3raSa0ErE"
   },
   "source": [
    "##### Compute Covariance Matrix"
   ]
  },
  {
   "cell_type": "code",
   "execution_count": 28,
   "metadata": {
    "colab": {
     "base_uri": "https://localhost:8080/",
     "height": 51
    },
    "colab_type": "code",
    "executionInfo": {
     "elapsed": 245,
     "status": "ok",
     "timestamp": 1555424918738,
     "user": {
      "displayName": "Alexander Dowling",
      "photoUrl": "https://lh3.googleusercontent.com/-LChdQ2m5OQE/AAAAAAAAAAI/AAAAAAAAAA0/JeXJe4vQJ7M/s64/photo.jpg",
      "userId": "00988067626794866502"
     },
     "user_tz": 240
    },
    "id": "3DXJ4Lsi0ErF",
    "outputId": "12556a99-30b5-4995-91bb-05fc62da2260"
   },
   "outputs": [
    {
     "data": {
      "text/plain": [
       "array([[0.00615554, 0.03103356],\n",
       "       [0.03103356, 0.19341829]])"
      ]
     },
     "execution_count": 28,
     "metadata": {},
     "output_type": "execute_result"
    }
   ],
   "source": [
    "## We can calculate covariance in one, carefully constructed line\n",
    "# For some reason, the NumPy developers choose to assume each ROW is a new variable\n",
    "# and each COLUMN is a different observation. I would have choose a flipped convention.\n",
    "# Our 'theta_mc' has each row as a different observation (simulation).\n",
    "# 'rowvar=False' tells NumPy to flip its convention. This is a great example of\n",
    "# WHY YOU SHOULD ALWAYS CHECK THE DOCUMENTATION!!!\n",
    "np.cov(theta_mc,rowvar=False)"
   ]
  }
 ],
 "metadata": {
  "colab": {
   "name": "L22-Bootstrap-and-Monte-Carlo.ipynb",
   "provenance": [],
   "version": "0.3.2"
  },
  "kernelspec": {
   "display_name": "Python 3 (ipykernel)",
   "language": "python",
   "name": "python3"
  },
  "language_info": {
   "codemirror_mode": {
    "name": "ipython",
    "version": 3
   },
   "file_extension": ".py",
   "mimetype": "text/x-python",
   "name": "python",
   "nbconvert_exporter": "python",
   "pygments_lexer": "ipython3",
   "version": "3.9.12"
  }
 },
 "nbformat": 4,
 "nbformat_minor": 4
}
