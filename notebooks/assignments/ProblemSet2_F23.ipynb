{
 "cells": [
  {
   "cell_type": "markdown",
   "metadata": {},
   "source": [
    "# Problem Set 2\n",
    "\n",
    "CBE 60258, University of Notre Dame. © Prof. Alexander Dowling, 2023\n",
    "\n",
    "You may not distribution homework solutions without written permissions from Prof. Alexander Dowling.\n",
    "\n",
    "\n",
    "**Your Name and Email:**"
   ]
  },
  {
   "cell_type": "markdown",
   "metadata": {},
   "source": [
    "## Import Libraries, Define Necessary Functions"
   ]
  },
  {
   "cell_type": "code",
   "execution_count": null,
   "metadata": {},
   "outputs": [],
   "source": [
    "import numpy as np\n",
    "import matplotlib.pyplot as plt"
   ]
  },
  {
   "cell_type": "code",
   "execution_count": null,
   "metadata": {},
   "outputs": [],
   "source": [
    "'''\n",
    "This cell installs Pyomo and Ipopt on Google Colab. To run this notebook\n",
    "locally (e.g., with anaconda), you first need to install Pyomo and Ipopt.\n",
    "'''\n",
    "\n",
    "import sys\n",
    "if \"google.colab\" in sys.modules:\n",
    "    !wget \"https://raw.githubusercontent.com/IDAES/idaes-pse/main/scripts/colab_helper.py\"\n",
    "    import colab_helper\n",
    "    colab_helper.install_idaes()\n",
    "    colab_helper.install_ipopt()\n",
    "\n",
    "import pyomo.environ as pyo"
   ]
  },
  {
   "cell_type": "code",
   "execution_count": null,
   "metadata": {},
   "outputs": [],
   "source": [
    "def Jacobian(f,x,delta = 1.0e-7):\n",
    "    '''Approximate Jacobian using forward finite difference\n",
    "\n",
    "    Args:\n",
    "        f: vector-valued function\n",
    "        x: point to build approximation J(x) around\n",
    "        delta: finite difference step size\n",
    "\n",
    "    Returns:\n",
    "        J: square Jacobian matrix (approximation)\n",
    "\n",
    "    '''\n",
    "    # Determine size\n",
    "    N = x.size\n",
    "    \n",
    "    #Evaluate function f at x\n",
    "    fx = f(x) #only need to evaluate this once\n",
    "    \n",
    "    # Make sure f is square (no. inputs = no. outputs)\n",
    "    try:\n",
    "        assert N == fx.size, \"Your problem is not square!\"\n",
    "    except AssertionError:\n",
    "        print(\"x = \",x)\n",
    "        print(\"fx = \",fx)\n",
    "    \n",
    "    \n",
    "    # Allocate empty matrix\n",
    "    J = np.zeros((N,N))\n",
    "\n",
    "    idelta = 1.0/delta #division is slower than multiplication\n",
    "    x_perturbed = x.copy() #copy x to add delta\n",
    "    \n",
    "    # Loop over elements of x and columns of J\n",
    "    for i in range(N):\n",
    "        # Perturb (apply step) to element i of x\n",
    "        x_perturbed[i] += delta\n",
    "        \n",
    "        # Approximate column in Jacobian\n",
    "        col = (f(x_perturbed) - fx) * idelta\n",
    "        \n",
    "        # Reset element of x\n",
    "        x_perturbed[i] = x[i]\n",
    "        \n",
    "        # Save results\n",
    "        J[:,i] = col\n",
    "    # end for loop\n",
    "    return J\n",
    "\n",
    "def newton_system(f,x0,exact_Jac=None,delta=1E-7,epsilon=1.0e-6, LOUD=False):\n",
    "    \"\"\"Find the root of the function f via exact or inexact Newton-Raphson method\n",
    "    Args:\n",
    "        f: function to find root of\n",
    "        x0: initial guess\n",
    "        exact_Jac: function to calculate J. If None, use finite difference\n",
    "        delta: finite difference tolerance. Only used if J is not specified\n",
    "        epsilon: tolerance\n",
    "        \n",
    "    Returns:\n",
    "        estimate of root\n",
    "    \"\"\"\n",
    "        \n",
    "    x = x0\n",
    "    if (LOUD):\n",
    "        print(\"x0 =\",x0)\n",
    "    iterations = 0\n",
    "    fx = f(x)\n",
    "    while (np.linalg.norm(fx) > epsilon):\n",
    "        if exact_Jac is None:\n",
    "            # Use finite difference\n",
    "            J = Jacobian(f,x,delta)\n",
    "        else:\n",
    "            J = exact_Jac(x)\n",
    "        \n",
    "        RHS = -fx;\n",
    "        \n",
    "        # solve linear system\n",
    "        # We could have used GaussElimPivotSolve here instead\n",
    "        delta_x = np.linalg.solve(J,RHS)\n",
    "        \n",
    "        # Check if GE returned any NaN values\n",
    "        if np.isnan(delta_x).any():\n",
    "            print(\"Gaussian Elimination Failed!\")\n",
    "            print(\"J = \\n\",J,\"\\n\")\n",
    "            print(\"J is rank\",np.linalg.matrix_rank(J),\"\\n\")\n",
    "            print(\"RHS = \",RHS)\n",
    "        x = x + delta_x\n",
    "        fx = f(x)\n",
    "        if (LOUD):\n",
    "            print(\"\\nIteration\",iterations+1,\": x =\",x,\"\\n norm(f(x)) =\",np.linalg.norm(fx),\"\\t cond(J(x)) =\",np.linalg.cond(J))\n",
    "        iterations += 1\n",
    "    print(\"\\nIt took\",iterations,\"iterations\")\n",
    "    return x #return estimate of root"
   ]
  },
  {
   "cell_type": "markdown",
   "metadata": {},
   "source": [
    "## 1. Solubility of Carbon Dioxide in Aqueous NaOH\n",
    "\n",
    "The solubility of $\\mathrm{CO_2}$ in water is a strong function of the pH, due to the conversion of dissolved $\\mathrm{CO_2}$ to carbonic acid ($\\mathrm{H_2CO_3}$) and its dissociation into $\\mathrm{HCO_3^-}$ and $\\mathrm{CO_3^{2-}}$.\n",
    "\n",
    "In this problem, you will predict the equilibrium concentration of all dissolved species in a 0.01 M NaOH solution. Assuming that the NaOH completely dissociates (it is a very strong base), we want to calculate the pH and species concentrations for a solution in equilibrium with 0.2 atm $\\mathrm{CO_2}$ gas (i.e. $\\mathrm{P_{CO_2}}$ = 0.2 atm). \n",
    "*This would roughly be the concentration of $\\mathrm{CO_2}$ in a stoichiometric burning of coal in air with all oxygen consumed. This chemistry is important for carbon capture from a power plant with a base solution.*\n",
    "\n",
    "We have the following equilibrium relationships:\n",
    "\n",
    "$$\\frac{\\lbrack CO_2 \\rbrack}{P_{CO_2} } = K_{abs}$$\n",
    "\n",
    "$$\\frac{\\lbrack H_2CO_3 \\rbrack}{\\lbrack CO_2 \\rbrack } = K_{eq}$$\n",
    "\n",
    "$$\\frac{\\lbrack HCO_3^- \\rbrack \\times \\lbrack H^+ \\rbrack}{\\lbrack H_2CO_3 \\rbrack } = K_{a_1}$$\n",
    "\n",
    "$$\\frac{\\lbrack CO_3^{2-} \\rbrack \\times \\lbrack H^+ \\rbrack}{\\lbrack HCO_3^- \\rbrack } = K_{a_2}$$\n",
    "\n",
    "$$\\lbrack H^+ \\rbrack \\times \\lbrack OH^- \\rbrack = K_{w}$$\n",
    "\n",
    "The equilibrium constants have the following values:\n",
    "\n",
    "| Constant |     Value      | Units |\n",
    "|-|-|-|\n",
    "|$K_{abs}$ | $3.36 \\times 10^{-2}$ | M/atm |\n",
    "|$K_{eq}$ | $1.7 \\times 10^{-3}$ | - |\n",
    "|$K_{a_1}$ | $2.5 \\times 10^{-4}$ | M |\n",
    "|$K_{a_2}$ | $4.8 \\times 10^{-11}$ | M |\n",
    "|$K_{w}$ | $1.00 \\times 10^{-14}$ | M$^2$ |\n",
    "\n",
    "Further, the electroneutrality condition for the system is given by the equation:\n",
    "\n",
    "\\begin{equation}\n",
    "\\lbrack Na^+ \\rbrack + \\lbrack H^+ \\rbrack \n",
    "= \\lbrack OH^- \\rbrack + \\lbrack HCO_3^- \\rbrack + 2\\lbrack CO_3^{2-} \\rbrack \n",
    "\\end{equation}\n",
    "\n"
   ]
  },
  {
   "cell_type": "markdown",
   "metadata": {},
   "source": [
    "### 1a. Naïve Model\n",
    "\n",
    "Write down the system of nonlinear equations in canonical form to predict the equilibrium concentrations. Clearly define all the variables that you use. In *2c* you will refine the model to improve condition, so *do not* transform the the variable in this part.\n",
    "\n",
    "*Hint*: Start by performing a degree of freedom analysis.\n",
    "\n"
   ]
  },
  {
   "cell_type": "markdown",
   "metadata": {},
   "source": [
    "### 1b. Numeric Solution with Python\n",
    "\n",
    "Numerically solve your model from *2a*. We will see in this problem there are many different answers depending on the order of equations and the initial point. This is because the problem is nonlinear and exacerbated by the fact our naïve model is poorly scaled. "
   ]
  },
  {
   "cell_type": "code",
   "execution_count": null,
   "metadata": {},
   "outputs": [],
   "source": [
    "# lists of species \n",
    "species = [\"H\", \"HCO3\", \"CO3\"]\n",
    "other = [\"CO2\", \"H2CO3\", \"OH\"]\n",
    "\n",
    "# Provided specification\n",
    "K_abs = 3.36e-2 # M/atm\n",
    "K_eq = 1.7e-3\n",
    "K_a1 = 2.5e-4 # M\n",
    "K_a2 = 4.8e-11 #M\n",
    "K_w = 1e-14 # M^2\n",
    "\n",
    "# CO2 pressure\n",
    "P_co2 = 0.2 # atm\n",
    "\n",
    "# Molarity of solution is Na+ concentration\n",
    "Na_con = 0.01 # M\n",
    "\n",
    "# define the set of equations\n",
    "def my_equations_1(x):\n",
    "    ''' Nonlinear system of equations in conancial form c(x) = 0\n",
    "    \n",
    "    Arg:\n",
    "        x: vector of variables\n",
    "        \n",
    "    Returns:\n",
    "        r: residual, \n",
    "    \n",
    "    '''\n",
    "    # allocate an empty array\n",
    "    r = np.empty((3))\n",
    "  \n",
    "    # equations\n",
    "    \n",
    "    # Add your solution here\n",
    "  \n",
    "    return r"
   ]
  },
  {
   "cell_type": "markdown",
   "metadata": {},
   "source": [
    "Specify an initial point and solve your model in Python."
   ]
  },
  {
   "cell_type": "code",
   "execution_count": null,
   "metadata": {},
   "outputs": [],
   "source": [
    "# Add your solution here"
   ]
  },
  {
   "cell_type": "markdown",
   "metadata": {},
   "source": [
    "Specify a different initial point and solve your model in Python. Hint: You might get a different answer with a different initial point."
   ]
  },
  {
   "cell_type": "code",
   "execution_count": null,
   "metadata": {},
   "outputs": [],
   "source": [
    "# Add your solution here"
   ]
  },
  {
   "cell_type": "markdown",
   "metadata": {},
   "source": [
    "### 1c. Refined Model\n",
    "\n",
    "Reformulate your model from **a** to a model that is better conditioned."
   ]
  },
  {
   "cell_type": "markdown",
   "metadata": {},
   "source": [
    "### 1d. Numeric Solution with Python\n",
    "\n",
    "Numerically solve your model from **c**. First, define the refined model in canonical form."
   ]
  },
  {
   "cell_type": "code",
   "execution_count": null,
   "metadata": {},
   "outputs": [],
   "source": [
    "# lists of species\n",
    "species = [\"H\", \"HCO3\", \"CO3\"]\n",
    "other = [\"CO2\", \"H2CO3\", \"OH\"]\n",
    "\n",
    "# Provided specification\n",
    "K_abs = 3.36e-2 # M/atm\n",
    "K_eq = 1.7e-3\n",
    "K_a1 = 2.5e-4 # M\n",
    "K_a2 = 4.8e-11 #M\n",
    "K_w = 1e-14 # M^2\n",
    "\n",
    "# CO2 pressure\n",
    "P_co2 = 0.2 # atm\n",
    "\n",
    "# Molarity of solution is Na+ concentration\n",
    "Na_con = 0.01 # M\n",
    "\n",
    "# define the set of equations\n",
    "def my_equations2(x):\n",
    "    ''' Nonlinear system of equations in conancial form c(x) = 0\n",
    "    Arg:\n",
    "        x: vector of variables\n",
    "    Returns:\n",
    "        r: residual\n",
    "    '''\n",
    "    # allocate an empty array\n",
    "    r = np.empty((3))\n",
    "    \n",
    "    # equations\n",
    "    \n",
    "    # Add your solution here\n",
    "    \n",
    "    return r\n",
    "\n"
   ]
  },
  {
   "cell_type": "markdown",
   "metadata": {},
   "source": [
    "Next, specify one initial point and solve the model."
   ]
  },
  {
   "cell_type": "code",
   "execution_count": null,
   "metadata": {},
   "outputs": [],
   "source": [
    "# Add your solution here"
   ]
  },
  {
   "cell_type": "markdown",
   "metadata": {},
   "source": [
    "Now, try another initial point."
   ]
  },
  {
   "cell_type": "code",
   "execution_count": null,
   "metadata": {},
   "outputs": [],
   "source": [
    "# Add your solution here"
   ]
  },
  {
   "cell_type": "markdown",
   "metadata": {},
   "source": [
    "Record your answers for this problem in the template provided in Canvas and turn in via **Gradescope.**"
   ]
  },
  {
   "cell_type": "markdown",
   "metadata": {
    "nbgrader": {
     "grade": false,
     "locked": true,
     "solution": false
    }
   },
   "source": [
    "### 1e. Discussion\n",
    "\n",
    "Why is transforming the equations so important for this problem? Write 2 to 4 sentences. For full credit, please discuss i) condition number, ii) scaling, and iii) convergence tolerance for Newton's method."
   ]
  },
  {
   "cell_type": "markdown",
   "metadata": {},
   "source": [
    "**Your Answer**:"
   ]
  },
  {
   "cell_type": "markdown",
   "metadata": {},
   "source": [
    "## 2. Numeric Integration: Reaction Kinetics"
   ]
  },
  {
   "cell_type": "markdown",
   "metadata": {},
   "source": [
    "The species A undergoes a dimerization reaction:\n",
    "\n",
    "\\begin{equation}\n",
    "2A\\rightarrow B\n",
    "\\end{equation}\n",
    "\n",
    "With the rate:\n",
    "\n",
    "\\begin{equation}\n",
    "r_1 = k_1 \\cdot C_A^2\n",
    "\\end{equation} \n",
    "\n",
    "The reaction continues, however, with the further reaction:\n",
    "\n",
    "\\begin{equation}\n",
    "B+A\\rightarrow C\n",
    "\\end{equation} \n",
    "\n",
    "With the rate:\n",
    "\n",
    "\\begin{equation}\n",
    "r_2 = k_2 \\cdot C_A \\cdot C_B\n",
    "\\end{equation}\n",
    "\n",
    "We would like to maximize the product B, so we need to stop the reaction when this is at a maximum.  We will consider $k_1=2$ and $k_2=4$ L/(mol-s) with the initial conditions $C_A=1$ and $C_B=0$ mol/L.\n",
    "\n",
    "As seniors, you will learn how to apply a mass balance to convert reaction rate expressions into differential equations:\n",
    "\n",
    "\\begin{equation}\n",
    "\t\\frac{dC_A}{dt}=-2\\cdot r_1 - r_2 = -2\\cdot k_1 \\cdot C_A^2-k_2 \\cdot C_A \\cdot C_B\n",
    "\\end{equation}\n",
    "\n",
    "\\begin{equation}\n",
    "\t\\frac{dC_B}{dt}=r_1 - r_2 = k_1 \\cdot C_A^2-k_2 \\cdot C_A \\cdot C_B\n",
    "\\end{equation}\n",
    "\n",
    "Do the following:\n",
    "1. Calculate the concentrations $C_A$ and $C_B$ as a function of time.\n",
    "2. Plot the concentrations from $t=0$ to $t=3$.\n",
    "3. Estimate the maximum concentration of B and when it occurs. Mark this point on your plot. Save this value in the float `maxCB`.\n",
    "\n",
    "\n",
    "\n",
    "Hint: Because this is not system of linear differential equations, we should use `scipy.integrate.solve_ivp`. Check your notes from Class 12 and/or explore the Scipy documentation for examples: https://docs.scipy.org/doc/scipy-1.1.0/reference/generated/scipy.integrate.solve_ivp.html"
   ]
  },
  {
   "cell_type": "code",
   "execution_count": null,
   "metadata": {},
   "outputs": [],
   "source": [
    "#Solve ODES\n",
    "def f(t, y):\n",
    "    ''' RHS of differential equation for reaction kinetics\n",
    "    Args:\n",
    "        t: time\n",
    "        y: values for differential questions, [CA, CB]\n",
    "    Returns:\n",
    "        dydt: first derivation of y w.r.t. t\n",
    "    \n",
    "    '''\n",
    "    # unpack current values of y\n",
    "    CA, CB = y      \n",
    "    \n",
    "    # define kinetic parameters\n",
    "    k1 = 2\n",
    "    k2 = 4\n",
    "    \n",
    "    #Store equations as a list in the variable dydt\n",
    "    \n",
    "    # Add your solution here\n",
    "    \n",
    "    return dydt\n",
    "\n",
    "# Initial values\n",
    "CA0 = 1.0     \n",
    "CB0 = 0.0 \n",
    "\n",
    "# Bundle initial conditions for ODE solver\n",
    "y0 = [CA0, CB0]\n",
    "\n",
    "t = np.arange(0, 3, 0.01)\n",
    "tspan = [np.min(t), np.max(t)]\n",
    "\n",
    "# Call the ODE solver\n",
    "# Note: The solution profile changes slightly if we change the integration method.\n",
    "soln = integrate.solve_ivp(f, tspan, y0, t_eval=t, method='RK23')\n",
    "\n",
    "# You may wish to uncomment the following line to take a closer look.\n",
    "# print(soln)\n",
    "\n",
    "CA = soln.y[0]\n",
    "CB = soln.y[1]\n",
    "\n",
    "#Find maximum concentration of B\n",
    "# Add your solution here\n",
    "\n",
    "print(\"maxCB =\",maxCB)\n",
    "\n",
    "#Plot\n",
    "# Add your solution here"
   ]
  },
  {
   "cell_type": "code",
   "execution_count": null,
   "metadata": {
    "nbgrader": {
     "grade": true,
     "grade_id": "reaction-kinetics",
     "locked": true,
     "points": "1",
     "solution": false
    }
   },
   "outputs": [],
   "source": [
    "# Removed autograder test. You may delete this cell."
   ]
  },
  {
   "cell_type": "markdown",
   "metadata": {},
   "source": [
    "## 3. Numeric Integration: Cannonball"
   ]
  },
  {
   "cell_type": "markdown",
   "metadata": {},
   "source": [
    "An iron cannonball of mass 1kg is fired upwards at a velocity of 200m/s.  In addition to gravity, there is a drag due to air resistance given by $F_{D} = -0.00292 U|U|$ where $U$ is $dh/dt$ (all units SI).  Note that we have to use $U|U|$ rather than $U^2$ because we have to keep track of the sign.\n",
    "\n",
    "Do the following:\n",
    "1. Use Newton's laws to construct a pair of coupled first order differential equations to track the velocity and height of the cannon ball. Write this system on paper. Turn this in via **Gradescope**.\n",
    "2. Integrate the model in Python. *Hint*: How should you integrate this numerically?\n",
    "3. Plot the height and velocity as a function of time. Determine the maximum elevation of the cannonball and mark it on the graph. Save this value in the float `maxh`. Then print the value.\n",
    "\n",
    "For a token amount of extra credit, prepare your plot with velocity on the left vertical axis and elevation on the right vertical axis. See this example for starter code: https://matplotlib.org/gallery/api/two_scales.html"
   ]
  },
  {
   "cell_type": "code",
   "execution_count": null,
   "metadata": {},
   "outputs": [],
   "source": [
    "# Add your solution here"
   ]
  },
  {
   "cell_type": "code",
   "execution_count": null,
   "metadata": {
    "nbgrader": {
     "grade": true,
     "grade_id": "cannonball",
     "locked": true,
     "points": "1",
     "solution": false
    }
   },
   "outputs": [],
   "source": [
    "# Removed autograder test. You may delete this cell."
   ]
  },
  {
   "cell_type": "markdown",
   "metadata": {},
   "source": [
    "## 4. Numeric Integration of Partial Differential Equations with Pyomo"
   ]
  },
  {
   "cell_type": "code",
   "execution_count": null,
   "metadata": {},
   "outputs": [],
   "source": [
    "%matplotlib inline\n",
    "\n",
    "# Import plotting libraries\n",
    "import matplotlib.pyplot as plt\n",
    "from mpl_toolkits.mplot3d.axes3d import Axes3D \n",
    "\n",
    "# Import Pyomo\n",
    "import pyomo.environ as pyo\n",
    "\n",
    "# Import Pyomo numeric integration features\n",
    "from pyomo.dae import DerivativeVar, ContinuousSet"
   ]
  },
  {
   "cell_type": "markdown",
   "metadata": {},
   "source": [
    "During your time at Notre Dame, you will likely want (or at least need) to solve a partial differential equation (PDE) system. In this problem, we will practice using Pyomo to numerically integrate a simple and common PDE. (Special thanks to Prof. Kantor for this problem.)\n",
    "\n",
    "Transport of heat in a solid is described by the familiar thermal diffusion model:\n",
    "\n",
    "$$\n",
    "\\begin{align*}\n",
    "\\rho C_p\\frac{\\partial T}{\\partial t} & = \\nabla\\cdot(k\\nabla T)\n",
    "\\end{align*}\n",
    "$$\n",
    "\n",
    "We will assume the thermal conductivity $k$ is a constant, and define thermal diffusivity in the conventional way\n",
    "\n",
    "$$\n",
    "\\begin{align*}\n",
    "\\alpha & = \\frac{k}{\\rho C_p}\n",
    "\\end{align*}\n",
    "$$\n",
    "\n",
    "We will further assume symmetry with respect to all spatial coordinates except $x$ where $x$ extends from $-X$ to $+X$. The boundary conditions are\n",
    "\n",
    "$$\n",
    "\\begin{align*}\n",
    "T(t,X) & = T_{\\infty} & \\forall t > 0 \\\\\n",
    "\\nabla T(t,0) & = 0 & \\forall t \\geq 0 \n",
    "\\end{align*}\n",
    "$$\n",
    "\n",
    "where we have assumed symmetry with respect to $r$ and uniform initial conditions $T(0, x) = T_0$ for all $0 \\leq r \\leq X$. "
   ]
  },
  {
   "cell_type": "markdown",
   "metadata": {},
   "source": [
    "### 4a. Rescaling and Dimensionless Model\n",
    "\n",
    "We would like a dimensionless model for two reasons: first, we only need to solve the dimensionless model once, i.e., it becomes independent of input data. Second, the dimensionless models are often scaled better for numerical solutions.\n",
    "\n",
    "Let's consider the following proposed scaling procedure:\n",
    "\n",
    "$$\n",
    "\\begin{align*}\n",
    "T' & = \\frac{T - T_0}{T_\\infty - T_0} \\\\\n",
    "x' & = \\frac{r}{X} \\\\\n",
    "t' & = t \\frac{\\alpha}{X^2}\n",
    "\\end{align*}\n",
    "$$\n",
    "\n",
    "Show this scaling procedure gives the following dimensionless system:\n",
    "\n",
    "$$\n",
    "\\begin{align*}\n",
    "\\frac{\\partial T'}{\\partial t'} & = \\nabla^2 T'\n",
    "\\end{align*}\n",
    "$$\n",
    "\n",
    "with auxiliary conditions\n",
    "\n",
    "$$\n",
    "\\begin{align*}\n",
    "T'(0, x') & = 0 & \\forall 0 \\leq x' \\leq 1\\\\\n",
    "T'(t', 1) & = 1 & \\forall t' > 0\\\\\n",
    "\\nabla T'(t', 0) & = 0 & \\forall t' \\geq 0 \\\\\n",
    "\\end{align*}\n",
    "$$\n",
    "\n",
    "Turn in your work (pencil and paper) via **Gradescope**. *Important:* Here the prime $'$ indicates the scaled variables and coordinates. It does not indicate a derivative. Thus $T'$ is scaled temperature, NOT the derivative of temperature (which begs the question of \"with respect to what?\")."
   ]
  },
  {
   "cell_type": "markdown",
   "metadata": {},
   "source": [
    "### 4b. Numeric Integration via Pyomo\n",
    "\n",
    "For simplicity, let's consider planar coordinates. For a slab geometry, we want to numerical integrate the following PDE:\n",
    "\n",
    "$$\n",
    "\\begin{align*}\n",
    "\\frac{\\partial T'}{\\partial t'} & = \\frac{\\partial^2 T'}{\\partial x'^2}\n",
    "\\end{align*}\n",
    "$$\n",
    "\n",
    "with auxiliary conditions\n",
    "\n",
    "$$\n",
    "\\begin{align*}\n",
    "T'(0, x') & = 0 & \\forall 0 \\leq x' \\leq 1 \\\\\n",
    "T'(t', 1) & = 1 & \\forall t' > 0\\\\\n",
    "\\frac{\\partial T'}{\\partial x'} (t', 0) & = 0 & \\forall t' \\geq 0 \\\\\n",
    "\\end{align*}\n",
    "$$\n",
    "\n",
    "Complete the following Pyomo code to integrate this PDE."
   ]
  },
  {
   "cell_type": "code",
   "execution_count": null,
   "metadata": {},
   "outputs": [],
   "source": [
    "# Create Pyomo model\n",
    "m = pyo.ConcreteModel()\n",
    "\n",
    "# Define sets for spatial and temporal domains\n",
    "m.x = ContinuousSet(bounds=(0,1))\n",
    "m.t = ContinuousSet(bounds=(0,2))\n",
    "\n",
    "# Define scaled temperature indexed by time and space\n",
    "m.T = pyo.Var(m.t, m.x)\n",
    "\n",
    "# Define variables for the derivates\n",
    "m.dTdt   = DerivativeVar(m.T, wrt=m.t)\n",
    "m.dTdx   = DerivativeVar(m.T, wrt=m.x)\n",
    "m.d2Tdx2 = DerivativeVar(m.T, wrt=(m.x, m.x))\n",
    "\n",
    "# Define PDE equation\n",
    "def pde(m, t, x):\n",
    "    if t == 0:\n",
    "        return pyo.Constraint.Skip\n",
    "    elif x == 0 or x == 1:\n",
    "        return pyo.Constraint.Skip\n",
    "    # Add your solution here\n",
    "\n",
    "m.pde = pyo.Constraint(m.t, m.x, rule=pde)\n",
    "\n",
    "# Define first auxilary condition\n",
    "def initial_condition(m, x):\n",
    "    if x == 0 or x == 1:\n",
    "        return pyo.Constraint.Skip\n",
    "    # Add your solution here\n",
    "\n",
    "m.ic = pyo.Constraint(m.x, rule = initial_condition)\n",
    "\n",
    "# Define second auxilary condition\n",
    "def boundary_condition1(m, t):\n",
    "    # Add your solution here\n",
    "\n",
    "m.bc1 = pyo.Constraint(m.t, rule = boundary_condition1)\n",
    "\n",
    "# Define third auxilary condition\n",
    "@m.Constraint(m.t)\n",
    "def boundary_condition2(m, t):\n",
    "    # Add your solution here  \n",
    "\n",
    "m.bc2 = pyo.Constraint(m.t, rule=boundary_condition2)\n",
    "\n",
    "# Define dummy objective\n",
    "m.obj = pyo.Objective(expr=1)\n",
    "\n",
    "# Discretize spatial coordinate with forward finite difference and 50 elements\n",
    "pyo.TransformationFactory('dae.finite_difference').apply_to(m, nfe=50, scheme='FORWARD', wrt=m.x)\n",
    "\n",
    "# Discretize time coordinate with forward finite difference and 50 elements\n",
    "pyo.TransformationFactory('dae.finite_difference').apply_to(m, nfe=50, scheme='FORWARD', wrt=m.t)\n",
    "pyo.SolverFactory('ipopt').solve(m, tee=True).write()"
   ]
  },
  {
   "cell_type": "markdown",
   "metadata": {},
   "source": [
    "### 4c. Visualize Solution "
   ]
  },
  {
   "cell_type": "code",
   "execution_count": null,
   "metadata": {},
   "outputs": [],
   "source": [
    "# Extract indices\n",
    "x = sorted(m.x)\n",
    "t = sorted(m.t)\n",
    "\n",
    "# Create numpy arrays to hold the solution\n",
    "xgrid = np.zeros((len(t), len(x)))\n",
    "# Hint: define tgrid and Tgrid the same way\n",
    "# Add your solution here\n",
    "\n",
    "# Loop over time\n",
    "for i in range(0, len(t)):\n",
    "    # Loop over space\n",
    "    for j in range(0, len(x)):\n",
    "        # Copy values\n",
    "        xgrid[i,j] = x[j]\n",
    "        tgrid[i,j] = t[i]\n",
    "        # Hint: how to access values from Pyomo variable m.T?\n",
    "        # Add your solution here\n",
    "\n",
    "# Create a 3D wireframe plot of the solution\n",
    "# Hint: consult the matplotlib documentation\n",
    "# https://matplotlib.org/stable/gallery/mplot3d/wire3d.html\n",
    "\n",
    "# Add your solution here"
   ]
  },
  {
   "cell_type": "markdown",
   "metadata": {},
   "source": [
    "Write a few sentences to describe the PDE solution. Is it what you expect based on your prior knowledge of this system? Each person brings different prior knwoledge to this class, you everyone should have a distinct answer. In other words, there is no \"right answer\". Instead, this is helping you practice interpreting results based on your knowledge which is a critical skill in graduate school.\n",
    "\n",
    "**Discussion:**"
   ]
  },
  {
   "cell_type": "markdown",
   "metadata": {},
   "source": [
    "## Submission Instructions and Tips\n",
    "\n",
    "1. Answer discussion questions in this notebook.\n",
    "2. When asked to store a solution in a specific variable, please also print that variable.\n",
    "3. Turn in this notebook via Gradescope.\n",
    "4. Also turn in written (pencil and paper) work via Gradescope.\n",
    "5. Even if you are not required to turn in pseudocode, you should always write pseudocode. It takes only a few minutes and can save you *hours* of time.\n",
    "6. We are not using the autograder for CBE 60258, so please skip those instructions."
   ]
  },
  {
   "cell_type": "markdown",
   "metadata": {},
   "source": []
  }
 ],
 "metadata": {
  "kernelspec": {
   "display_name": "Python 3 (ipykernel)",
   "language": "python",
   "name": "python3"
  },
  "language_info": {
   "codemirror_mode": {
    "name": "ipython",
    "version": 3
   },
   "file_extension": ".py",
   "mimetype": "text/x-python",
   "name": "python",
   "nbconvert_exporter": "python",
   "pygments_lexer": "ipython3",
   "version": "3.9.12"
  }
 },
 "nbformat": 4,
 "nbformat_minor": 4
}
