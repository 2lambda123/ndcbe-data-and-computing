{
 "cells": [
  {
   "cell_type": "markdown",
   "metadata": {},
   "source": [
    "# Problem Set 2\n",
    "\n",
    "CBE 60258, University of Notre Dame. © Prof. Alexander Dowling, 2023\n",
    "\n",
    "You may not distribution homework solutions without written permissions from Prof. Alexander Dowling.\n",
    "\n",
    "\n",
    "**Your Name and Email:**"
   ]
  },
  {
   "cell_type": "markdown",
   "metadata": {},
   "source": [
    "## Import Libraries, Define Necessary Functions"
   ]
  },
  {
   "cell_type": "code",
   "execution_count": null,
   "metadata": {},
   "outputs": [],
   "source": [
    "import numpy as np\n",
    "import matplotlib.pyplot as plt"
   ]
  },
  {
   "cell_type": "code",
   "execution_count": null,
   "metadata": {},
   "outputs": [],
   "source": [
    "'''\n",
    "This cell installs Pyomo and Ipopt on Google Colab. To run this notebook\n",
    "locally (e.g., with anaconda), you first need to install Pyomo and Ipopt.\n",
    "'''\n",
    "\n",
    "import sys\n",
    "if \"google.colab\" in sys.modules:\n",
    "    !wget \"https://raw.githubusercontent.com/IDAES/idaes-pse/main/scripts/colab_helper.py\"\n",
    "    import colab_helper\n",
    "    colab_helper.install_idaes()\n",
    "    colab_helper.install_ipopt()"
   ]
  },
  {
   "cell_type": "code",
   "execution_count": null,
   "metadata": {},
   "outputs": [],
   "source": [
    "def Jacobian(f,x,delta = 1.0e-7):\n",
    "    '''Approximate Jacobian using forward finite difference\n",
    "\n",
    "    Args:\n",
    "        f: vector-valued function\n",
    "        x: point to build approximation J(x) around\n",
    "        delta: finite difference step size\n",
    "\n",
    "    Returns:\n",
    "        J: square Jacobian matrix (approximation)\n",
    "\n",
    "    '''\n",
    "    # Determine size\n",
    "    N = x.size\n",
    "    \n",
    "    #Evaluate function f at x\n",
    "    fx = f(x) #only need to evaluate this once\n",
    "    \n",
    "    # Make sure f is square (no. inputs = no. outputs)\n",
    "    try:\n",
    "        assert N == fx.size, \"Your problem is not square!\"\n",
    "    except AssertionError:\n",
    "        print(\"x = \",x)\n",
    "        print(\"fx = \",fx)\n",
    "    \n",
    "    \n",
    "    # Allocate empty matrix\n",
    "    J = np.zeros((N,N))\n",
    "\n",
    "    idelta = 1.0/delta #division is slower than multiplication\n",
    "    x_perturbed = x.copy() #copy x to add delta\n",
    "    \n",
    "    # Loop over elements of x and columns of J\n",
    "    for i in range(N):\n",
    "        # Perturb (apply step) to element i of x\n",
    "        x_perturbed[i] += delta\n",
    "        \n",
    "        # Approximate column in Jacobian\n",
    "        col = (f(x_perturbed) - fx) * idelta\n",
    "        \n",
    "        # Reset element of x\n",
    "        x_perturbed[i] = x[i]\n",
    "        \n",
    "        # Save results\n",
    "        J[:,i] = col\n",
    "    # end for loop\n",
    "    return J\n",
    "\n",
    "def newton_system(f,x0,exact_Jac=None,delta=1E-7,epsilon=1.0e-6, LOUD=False):\n",
    "    \"\"\"Find the root of the function f via exact or inexact Newton-Raphson method\n",
    "    Args:\n",
    "        f: function to find root of\n",
    "        x0: initial guess\n",
    "        exact_Jac: function to calculate J. If None, use finite difference\n",
    "        delta: finite difference tolerance. Only used if J is not specified\n",
    "        epsilon: tolerance\n",
    "        \n",
    "    Returns:\n",
    "        estimate of root\n",
    "    \"\"\"\n",
    "        \n",
    "    x = x0\n",
    "    if (LOUD):\n",
    "        print(\"x0 =\",x0)\n",
    "    iterations = 0\n",
    "    fx = f(x)\n",
    "    while (np.linalg.norm(fx) > epsilon):\n",
    "        if exact_Jac is None:\n",
    "            # Use finite difference\n",
    "            J = Jacobian(f,x,delta)\n",
    "        else:\n",
    "            J = exact_Jac(x)\n",
    "        \n",
    "        RHS = -fx;\n",
    "        \n",
    "        # solve linear system\n",
    "        # We could have used GaussElimPivotSolve here instead\n",
    "        delta_x = np.linalg.solve(J,RHS)\n",
    "        \n",
    "        # Check if GE returned any NaN values\n",
    "        if np.isnan(delta_x).any():\n",
    "            print(\"Gaussian Elimination Failed!\")\n",
    "            print(\"J = \\n\",J,\"\\n\")\n",
    "            print(\"J is rank\",np.linalg.matrix_rank(J),\"\\n\")\n",
    "            print(\"RHS = \",RHS)\n",
    "        x = x + delta_x\n",
    "        fx = f(x)\n",
    "        if (LOUD):\n",
    "            print(\"\\nIteration\",iterations+1,\": x =\",x,\"\\n norm(f(x)) =\",np.linalg.norm(fx),\"\\t cond(J(x)) =\",np.linalg.cond(J))\n",
    "        iterations += 1\n",
    "    print(\"\\nIt took\",iterations,\"iterations\")\n",
    "    return x #return estimate of root"
   ]
  },
  {
   "cell_type": "markdown",
   "metadata": {},
   "source": [
    "## 1. Solubility of Carbon Dioxide in Aqueous NaOH\n",
    "\n",
    "The solubility of $\\mathrm{CO_2}$ in water is a strong function of the pH, due to the conversion of dissolved $\\mathrm{CO_2}$ to carbonic acid ($\\mathrm{H_2CO_3}$) and its dissociation into $\\mathrm{HCO_3^-}$ and $\\mathrm{CO_3^{2-}}$.\n",
    "\n",
    "In this problem, you will predict the equilibrium concentration of all dissolved species in a 0.01 M NaOH solution. Assuming that the NaOH completely dissociates (it is a very strong base), we want to calculate the pH and species concentrations for a solution in equilibrium with 0.2 atm $\\mathrm{CO_2}$ gas (i.e. $\\mathrm{P_{CO_2}}$ = 0.2 atm). \n",
    "*This would roughly be the concentration of $\\mathrm{CO_2}$ in a stoichiometric burning of coal in air with all oxygen consumed. This chemistry is important for carbon capture from a power plant with a base solution.*\n",
    "\n",
    "We have the following equilibrium relationships:\n",
    "\n",
    "$$\\frac{\\lbrack CO_2 \\rbrack}{P_{CO_2} } = K_{abs}$$\n",
    "\n",
    "$$\\frac{\\lbrack H_2CO_3 \\rbrack}{\\lbrack CO_2 \\rbrack } = K_{eq}$$\n",
    "\n",
    "$$\\frac{\\lbrack HCO_3^- \\rbrack \\times \\lbrack H^+ \\rbrack}{\\lbrack H_2CO_3 \\rbrack } = K_{a_1}$$\n",
    "\n",
    "$$\\frac{\\lbrack CO_3^{2-} \\rbrack \\times \\lbrack H^+ \\rbrack}{\\lbrack HCO_3^- \\rbrack } = K_{a_2}$$\n",
    "\n",
    "$$\\lbrack H^+ \\rbrack \\times \\lbrack OH^- \\rbrack = K_{w}$$\n",
    "\n",
    "The equilibrium constants have the following values:\n",
    "\n",
    "| Constant |     Value      | Units |\n",
    "|-|-|-|\n",
    "|$K_{abs}$ | $3.36 \\times 10^{-2}$ | M/atm |\n",
    "|$K_{eq}$ | $1.7 \\times 10^{-3}$ | - |\n",
    "|$K_{a_1}$ | $2.5 \\times 10^{-4}$ | M |\n",
    "|$K_{a_2}$ | $4.8 \\times 10^{-11}$ | M |\n",
    "|$K_{w}$ | $1.00 \\times 10^{-14}$ | M$^2$ |\n",
    "\n",
    "Further, the electroneutrality condition for the system is given by the equation:\n",
    "\n",
    "\\begin{equation}\n",
    "\\lbrack Na^+ \\rbrack + \\lbrack H^+ \\rbrack \n",
    "= \\lbrack OH^- \\rbrack + \\lbrack HCO_3^- \\rbrack + 2\\lbrack CO_3^{2-} \\rbrack \n",
    "\\end{equation}\n",
    "\n"
   ]
  },
  {
   "cell_type": "markdown",
   "metadata": {},
   "source": [
    "### 1a. Naïve Model\n",
    "\n",
    "Write down the system of nonlinear equations in canonical form to predict the equilibrium concentrations. Clearly define all the variables that you use. In *2c* you will refine the model to improve condition, so *do not* transform the the variable in this part.\n",
    "\n",
    "*Hint*: Start by performing a degree of freedom analysis.\n",
    "\n"
   ]
  },
  {
   "cell_type": "markdown",
   "metadata": {},
   "source": [
    "### 1b. Numeric Solution with Python\n",
    "\n",
    "Numerically solve your model from *2a*. We will see in this problem there are many different answers depending on the order of equations and the initial point. This is because the problem is nonlinear and exacerbated by the fact our naïve model is poorly scaled. "
   ]
  },
  {
   "cell_type": "code",
   "execution_count": null,
   "metadata": {},
   "outputs": [],
   "source": [
    "# lists of species \n",
    "species = [\"H\", \"HCO3\", \"CO3\"]\n",
    "other = [\"CO2\", \"H2CO3\", \"OH\"]\n",
    "\n",
    "# Provided specification\n",
    "K_abs = 3.36e-2 # M/atm\n",
    "K_eq = 1.7e-3\n",
    "K_a1 = 2.5e-4 # M\n",
    "K_a2 = 4.8e-11 #M\n",
    "K_w = 1e-14 # M^2\n",
    "\n",
    "# CO2 pressure\n",
    "P_co2 = 0.2 # atm\n",
    "\n",
    "# Molarity of solution is Na+ concentration\n",
    "Na_con = 0.01 # M\n",
    "\n",
    "# define the set of equations\n",
    "def my_equations_1(x):\n",
    "    ''' Nonlinear system of equations in conancial form c(x) = 0\n",
    "    \n",
    "    Arg:\n",
    "        x: vector of variables\n",
    "        \n",
    "    Returns:\n",
    "        r: residual, \n",
    "    \n",
    "    '''\n",
    "    # allocate an empty array\n",
    "    r = np.empty((3))\n",
    "  \n",
    "    # equations\n",
    "    \n",
    "    # Add your solution here\n",
    "  \n",
    "    return r"
   ]
  },
  {
   "cell_type": "markdown",
   "metadata": {},
   "source": [
    "Specify an initial point and solve your model in Python."
   ]
  },
  {
   "cell_type": "code",
   "execution_count": null,
   "metadata": {},
   "outputs": [],
   "source": [
    "# Add your solution here"
   ]
  },
  {
   "cell_type": "markdown",
   "metadata": {},
   "source": [
    "Specify a different initial point and solve your model in Python. Hint: You might get a different answer with a different initial point."
   ]
  },
  {
   "cell_type": "code",
   "execution_count": null,
   "metadata": {},
   "outputs": [],
   "source": [
    "# Add your solution here"
   ]
  },
  {
   "cell_type": "markdown",
   "metadata": {},
   "source": [
    "### 1c. Refined Model\n",
    "\n",
    "Reformulate your model from **a** to a model that is better conditioned."
   ]
  },
  {
   "cell_type": "markdown",
   "metadata": {},
   "source": [
    "### 1d. Numeric Solution with Python\n",
    "\n",
    "Numerically solve your model from **c**. First, define the refined model in canonical form."
   ]
  },
  {
   "cell_type": "code",
   "execution_count": null,
   "metadata": {},
   "outputs": [],
   "source": [
    "# lists of species\n",
    "species = [\"H\", \"HCO3\", \"CO3\"]\n",
    "other = [\"CO2\", \"H2CO3\", \"OH\"]\n",
    "\n",
    "# Provided specification\n",
    "K_abs = 3.36e-2 # M/atm\n",
    "K_eq = 1.7e-3\n",
    "K_a1 = 2.5e-4 # M\n",
    "K_a2 = 4.8e-11 #M\n",
    "K_w = 1e-14 # M^2\n",
    "\n",
    "# CO2 pressure\n",
    "P_co2 = 0.2 # atm\n",
    "\n",
    "# Molarity of solution is Na+ concentration\n",
    "Na_con = 0.01 # M\n",
    "\n",
    "# define the set of equations\n",
    "def my_equations2(x):\n",
    "    ''' Nonlinear system of equations in conancial form c(x) = 0\n",
    "    Arg:\n",
    "        x: vector of variables\n",
    "    Returns:\n",
    "        r: residual\n",
    "    '''\n",
    "    # allocate an empty array\n",
    "    r = np.empty((3))\n",
    "    \n",
    "    # equations\n",
    "    \n",
    "    # Add your solution here\n",
    "    \n",
    "    return r\n",
    "\n"
   ]
  },
  {
   "cell_type": "markdown",
   "metadata": {},
   "source": [
    "Next, specify one initial point and solve the model."
   ]
  },
  {
   "cell_type": "code",
   "execution_count": null,
   "metadata": {},
   "outputs": [],
   "source": [
    "# Add your solution here"
   ]
  },
  {
   "cell_type": "markdown",
   "metadata": {},
   "source": [
    "Now, try another initial point."
   ]
  },
  {
   "cell_type": "code",
   "execution_count": null,
   "metadata": {},
   "outputs": [],
   "source": [
    "# Add your solution here"
   ]
  },
  {
   "cell_type": "markdown",
   "metadata": {},
   "source": [
    "Record your answers for this problem in the template provided in Canvas and turn in via **Gradescope.**"
   ]
  },
  {
   "cell_type": "markdown",
   "metadata": {
    "nbgrader": {
     "grade": false,
     "locked": true,
     "solution": false
    }
   },
   "source": [
    "### 1e. Discussion\n",
    "\n",
    "Why is transforming the equations so important for this problem? Write 2 to 4 sentences. For full credit, please discuss i) condition number, ii) scaling, and iii) convergence tolerance for Newton's method."
   ]
  },
  {
   "cell_type": "markdown",
   "metadata": {},
   "source": [
    "**Your Answer**:"
   ]
  },
  {
   "cell_type": "markdown",
   "metadata": {},
   "source": [
    "## 2. Numeric Integration: Reaction Kinetics"
   ]
  },
  {
   "cell_type": "markdown",
   "metadata": {},
   "source": [
    "The species A undergoes a dimerization reaction:\n",
    "\n",
    "\\begin{equation}\n",
    "2A\\rightarrow B\n",
    "\\end{equation}\n",
    "\n",
    "With the rate:\n",
    "\n",
    "\\begin{equation}\n",
    "r_1 = k_1 \\cdot C_A^2\n",
    "\\end{equation} \n",
    "\n",
    "The reaction continues, however, with the further reaction:\n",
    "\n",
    "\\begin{equation}\n",
    "B+A\\rightarrow C\n",
    "\\end{equation} \n",
    "\n",
    "With the rate:\n",
    "\n",
    "\\begin{equation}\n",
    "r_2 = k_2 \\cdot C_A \\cdot C_B\n",
    "\\end{equation}\n",
    "\n",
    "We would like to maximize the product B, so we need to stop the reaction when this is at a maximum.  We will consider $k_1=2$ and $k_2=4$ L/(mol-s) with the initial conditions $C_A=1$ and $C_B=0$ mol/L.\n",
    "\n",
    "As seniors, you will learn how to apply a mass balance to convert reaction rate expressions into differential equations:\n",
    "\n",
    "\\begin{equation}\n",
    "\t\\frac{dC_A}{dt}=-2\\cdot r_1 - r_2 = -2\\cdot k_1 \\cdot C_A^2-k_2 \\cdot C_A \\cdot C_B\n",
    "\\end{equation}\n",
    "\n",
    "\\begin{equation}\n",
    "\t\\frac{dC_B}{dt}=r_1 - r_2 = k_1 \\cdot C_A^2-k_2 \\cdot C_A \\cdot C_B\n",
    "\\end{equation}\n",
    "\n",
    "Do the following:\n",
    "1. Calculate the concentrations $C_A$ and $C_B$ as a function of time.\n",
    "2. Plot the concentrations from $t=0$ to $t=3$.\n",
    "3. Estimate the maximum concentration of B and when it occurs. Mark this point on your plot. Save this value in the float `maxCB`.\n",
    "\n",
    "\n",
    "\n",
    "Hint: Because this is not system of linear differential equations, we should use `scipy.integrate.solve_ivp`. Check your notes from Class 12 and/or explore the Scipy documentation for examples: https://docs.scipy.org/doc/scipy-1.1.0/reference/generated/scipy.integrate.solve_ivp.html"
   ]
  },
  {
   "cell_type": "code",
   "execution_count": null,
   "metadata": {},
   "outputs": [],
   "source": [
    "#Solve ODES\n",
    "def f(t, y):\n",
    "    ''' RHS of differential equation for reaction kinetics\n",
    "    Args:\n",
    "        t: time\n",
    "        y: values for differential questions, [CA, CB]\n",
    "    Returns:\n",
    "        dydt: first derivation of y w.r.t. t\n",
    "    \n",
    "    '''\n",
    "    # unpack current values of y\n",
    "    CA, CB = y      \n",
    "    \n",
    "    # define kinetic parameters\n",
    "    k1 = 2\n",
    "    k2 = 4\n",
    "    \n",
    "    #Store equations as a list in the variable dydt\n",
    "    \n",
    "    # Add your solution here\n",
    "    \n",
    "    return dydt\n",
    "\n",
    "# Initial values\n",
    "CA0 = 1.0     \n",
    "CB0 = 0.0 \n",
    "\n",
    "# Bundle initial conditions for ODE solver\n",
    "y0 = [CA0, CB0]\n",
    "\n",
    "t = np.arange(0, 3, 0.01)\n",
    "tspan = [np.min(t), np.max(t)]\n",
    "\n",
    "# Call the ODE solver\n",
    "# Note: The solution profile changes slightly if we change the integration method.\n",
    "soln = integrate.solve_ivp(f, tspan, y0, t_eval=t, method='RK23')\n",
    "\n",
    "# You may wish to uncomment the following line to take a closer look.\n",
    "# print(soln)\n",
    "\n",
    "CA = soln.y[0]\n",
    "CB = soln.y[1]\n",
    "\n",
    "#Find maximum concentration of B\n",
    "# Add your solution here\n",
    "\n",
    "print(\"maxCB =\",maxCB)\n",
    "\n",
    "#Plot\n",
    "# Add your solution here"
   ]
  },
  {
   "cell_type": "code",
   "execution_count": null,
   "metadata": {
    "nbgrader": {
     "grade": true,
     "grade_id": "reaction-kinetics",
     "locked": true,
     "points": "1",
     "solution": false
    }
   },
   "outputs": [],
   "source": [
    "# Removed autograder test. You may delete this cell."
   ]
  },
  {
   "cell_type": "markdown",
   "metadata": {},
   "source": [
    "## 3. Numeric Integration: Cannonball"
   ]
  },
  {
   "cell_type": "markdown",
   "metadata": {},
   "source": [
    "An iron cannonball of mass 1kg is fired upwards at a velocity of 200m/s.  In addition to gravity, there is a drag due to air resistance given by $F_{D} = -0.00292 U|U|$ where $U$ is $dh/dt$ (all units SI).  Note that we have to use $U|U|$ rather than $U^2$ because we have to keep track of the sign.\n",
    "\n",
    "Do the following:\n",
    "1. Use Newton's laws to construct a pair of coupled first order differential equations to track the velocity and height of the cannon ball. Write this system on paper. Turn this in via **Gradescope**.\n",
    "2. Integrate the model in Python. *Hint*: How should you integrate this numerically?\n",
    "3. Plot the height and velocity as a function of time. Determine the maximum elevation of the cannonball and mark it on the graph. Save this value in the float `maxh`. Then print the value.\n",
    "\n",
    "For a token amount of extra credit, prepare your plot with velocity on the left vertical axis and elevation on the right vertical axis. See this example for starter code: https://matplotlib.org/gallery/api/two_scales.html"
   ]
  },
  {
   "cell_type": "code",
   "execution_count": null,
   "metadata": {},
   "outputs": [],
   "source": [
    "# Add your solution here"
   ]
  },
  {
   "cell_type": "code",
   "execution_count": null,
   "metadata": {
    "nbgrader": {
     "grade": true,
     "grade_id": "cannonball",
     "locked": true,
     "points": "1",
     "solution": false
    }
   },
   "outputs": [],
   "source": [
    "# Removed autograder test. You may delete this cell."
   ]
  },
  {
   "cell_type": "markdown",
   "metadata": {},
   "source": [
    "## 4. Portfolio Data Analysis\n",
    "\n",
    "Portfolio management is a classic example of quadratic programming (optimization). The idea is to find the optimal blend of investments that achieves a specified rate of return (or better) while minimizing the variance in rate of return. In this problem, you will use your skills in statistical analysis to analyze the stock data.\n",
    "\n",
    "### Historical Stock Data\n",
    "\n",
    "Historical daily adjusted closing prices for the last five years (obtained from Yahoo! Finance) are available for the $N=5$ stocks listed in table below. (We are actually considering index funds, but this detail does not change the analysis.)  \n",
    "\n",
    "| Symbol | Name |\n",
    "|-|-|\n",
    "| GSPC | S&P 500 | \n",
    "| DJI | Dow Jones Industrial Average | \n",
    "| IXIC | NASDAQ Composite | \n",
    "| RUT | Russell 2000 |\n",
    "| VIX | CBOE Volatility Index |"
   ]
  },
  {
   "cell_type": "markdown",
   "metadata": {},
   "source": [
    "### 4a. Return Rate\n",
    "\n",
    "You are given a Stock\\_Data.csv file. Using the stock data, calculate the 1-day return rate:\n",
    "\n",
    "\\begin{equation}\n",
    "\tr_{t,i} = \\frac{p_{t+1,i} - p_{t,i}}{p_{t,i}}\n",
    "\\end{equation}\n",
    "\n",
    "where $p_{t+1,i}$ and $p_{t,i}$ are the *Adjusted Closing Prices* at the end of days $t+1$ and $t$, respectively, for stock $i$. These results are stored in matrix `R`. *Hint*: Use Pandas."
   ]
  },
  {
   "cell_type": "code",
   "execution_count": null,
   "metadata": {},
   "outputs": [],
   "source": [
    "# This is the long path to the folder containg data files on GitHub (for the class website)\n",
    "data_folder = 'https://raw.githubusercontent.com/ndcbe/data-and-computing/main/noteboohttps://raw.githubusercontent.com/ndcbe/data-and-computing/main/notebooks/data/'\n",
    "\n",
    "# Load the data file into Pandas\n",
    "df_adj_close = pd.read_csv(data_folder + 'Stock_Data.csv')"
   ]
  },
  {
   "cell_type": "code",
   "execution_count": null,
   "metadata": {},
   "outputs": [],
   "source": [
    "# Add your solution here"
   ]
  },
  {
   "cell_type": "markdown",
   "metadata": {},
   "source": [
    "### 4b. Visualization\n",
    "\n",
    "Plot the single day return rates for the 5 stocks you obtain in the previous section and check if you obtain the following profiles:\n",
    "\n",
    "![ad](https://raw.githubusercontent.com/ndcbe/data-and-computing/main/media/stock_return_plots.png)\n",
    "\n",
    "\n",
    "The first plot is made for you. "
   ]
  },
  {
   "cell_type": "code",
   "execution_count": null,
   "metadata": {},
   "outputs": [],
   "source": [
    "# Create figure\n",
    "plt.figure(figsize=(9,15))\n",
    "\n",
    "# Create subplot for DJI\n",
    "plt.subplot(5,1,1)\n",
    "plt.plot(R[\"DJI\"]*100,color=\"blue\",label=\"DJI\")\n",
    "plt.legend(loc='best')\n",
    "\n",
    "# Add your solution here\n",
    "\n",
    "# Show plot\n",
    "plt.show()"
   ]
  },
  {
   "cell_type": "markdown",
   "metadata": {},
   "source": [
    "### 4c. Covariance and Correlation Matrices\n",
    "\n",
    "Write Python code to:\n",
    "1. Calculate $\\bar{r}$, the average 1-day return for each stock. Store this as the variable `R_avg`.\n",
    "2. Calculate $\\Sigma_{r}$, the covariance matrix of the 1-day returns. This matrix tells us how returns for each stock vary with each other (which is important because they are correlated!). Hint: pandas has a function `cov`\n",
    "3. Calculate the correlation matrix for the 1-day returns. Hint: pandas has a function `corr`.\n",
    "\n",
    "Looking at the correlation matrix, answer the follwing questions:\n",
    "\n",
    "1. Which pair of stocks have the highest **positive** correlation?\n",
    "2. Which pair of stocks have the highest **negative** correlation?\n",
    "3. Which pair of stocks have the lowest **absolute** correlation?\n",
    "\n",
    "Hint: Read ahead in the class website for more information on [correlation and covariance](../..//notebooks/14/Correlation-Covariance-and-Independence.ipynb)"
   ]
  },
  {
   "cell_type": "markdown",
   "metadata": {},
   "source": [
    "Please write one or two sentences for each question:"
   ]
  },
  {
   "cell_type": "code",
   "execution_count": null,
   "metadata": {},
   "outputs": [],
   "source": [
    "# Add your solution here"
   ]
  },
  {
   "cell_type": "code",
   "execution_count": null,
   "metadata": {
    "nbgrader": {
     "grade": true,
     "grade_id": "check-R_avg",
     "locked": true,
     "points": "0.5",
     "solution": false
    }
   },
   "outputs": [],
   "source": [
    "# Removed autograder test. You may delete this cell."
   ]
  },
  {
   "cell_type": "markdown",
   "metadata": {},
   "source": [
    "### 4c. Markowitz Mean/Variance Portfolio Model\n",
    "\n",
    "The Markowitz mean/variance model, shown below, computes the optimal allocation of funds in a portfolio:\n",
    "\n",
    "\\begin{align}\n",
    "\t\t\\min_{{x} \\geq {0}} \\qquad & z:= {x}^T \\cdot {\\Sigma_r} \\cdot {x} \\\\\n",
    "\t\t\\text{s.t.} \\qquad & {\\bar{r}}^T \\cdot {x} \\geq \\rho \\\\\n",
    "\t\t & \\sum_{i =1}^N x_i = 1 \n",
    "\\end{align} \n",
    "\n",
    "\n",
    "where $x_i$ is the fraction of funds invested in stock $i$ and $x = [x_1, x_2, ..., x_N]^T$. The objective is to minimize the variance of the return rate. (As practice for the next exam, try deriving this from the error propagation formulas.) This requires the expected return rate to be at least $\\rho$. Finally, the allocation of funds must sum to 100%.\n",
    "\n",
    "Write Python code to solve for $\\rho = 0.08\\%.$ Report both the optimal allocation of funds and the standard deviation of the return rate. \n",
    "*Hint*:\n",
    "1. Be mindful of units.\n",
    "2. You can solve with problem using the Pyomo function given below\n",
    "3. $:=$ means ''defined as''\n",
    "\n",
    "Store your answer in `std_dev`."
   ]
  },
  {
   "cell_type": "code",
   "execution_count": null,
   "metadata": {},
   "outputs": [],
   "source": [
    "R_avg_tolist = R_avg.values.tolist()\n",
    "Cov_list = Cov.values.tolist()\n",
    "\n",
    "# Optimization Problem\n",
    "def create_model(rho,R_avg,Cov):\n",
    "    \n",
    "    '''\n",
    "    This function solves for the optimal allocation of funds in a portfolio \n",
    "    by minimizing the variance of the return rate\n",
    "    \n",
    "    Arguments:\n",
    "        rho: required portfolio expected return\n",
    "        Ravg: average return rates (list)\n",
    "        Cov: covariance matrix\n",
    "        \n",
    "    Returns:\n",
    "        m: Pyomo concrete model\n",
    "    \n",
    "    '''\n",
    "    \n",
    "    m = pyo.ConcreteModel()\n",
    "    init_x = {}\n",
    "    m.idx = pyo.Set(initialize=[0,1,2,3,4])\n",
    "    for i in m.idx:\n",
    "        init_x[i] = 0\n",
    "    m.x = pyo.Var(m.idx,initialize=init_x,bounds=(0,None))\n",
    "    \n",
    "    def Obj_func(m):\n",
    "        b = []\n",
    "        mult_result = 0\n",
    "        for i in m.idx:\n",
    "            a = 0\n",
    "            for j in m.idx:\n",
    "                a+= m.x[j]*Cov[j][i]\n",
    "            b.append(a)\n",
    "        for i in m.idx:\n",
    "            mult_result += b[i]*m.x[i]\n",
    "        \n",
    "        return mult_result\n",
    "    m.OBJ = pyo.Objective(rule=Obj_func)\n",
    "    \n",
    "    def constraint1(m):\n",
    "        # Add your solution here\n",
    "\n",
    "    m.C1 = pyo.Constraint(rule=constraint1)\n",
    "    \n",
    "    def constraint2(m):\n",
    "        # Add your solution here\n",
    "\n",
    "    m.C2 = pyo.Constraint(rule=constraint2)\n",
    "    \n",
    "    return m\n"
   ]
  },
  {
   "cell_type": "code",
   "execution_count": null,
   "metadata": {},
   "outputs": [],
   "source": [
    "rho = 0.0008\n",
    "model1 = create_model(rho,R_avg_tolist,Cov_list)\n",
    "\n",
    "#Solve Pyomo in the method learned in Class 11\n",
    "\n",
    "# Add your solution here"
   ]
  },
  {
   "cell_type": "code",
   "execution_count": null,
   "metadata": {
    "nbgrader": {
     "grade": true,
     "grade_id": "standard-deviation",
     "locked": true,
     "points": "0.5",
     "solution": false
    }
   },
   "outputs": [],
   "source": [
    "# Removed autograder test. You may delete this cell."
   ]
  },
  {
   "cell_type": "markdown",
   "metadata": {},
   "source": [
    "### 4e. Volatility and Expected Return Tradeoff\n",
    "\n",
    "We will now perform sensitivity analysis of the optimization problem in 3d to characterize the tradeoff between return and risk.\n",
    "\n",
    "Write Python code to:\n",
    "1. Solve the optimization problem for many values of $\\rho$ between min($\\bar{r}$) and max($\\bar{r}$) and save the results. Use the Pyomo function created in 3d.\n",
    "2. Plot $\\rho$ versus $\\sqrt{z}$ (using the saved results).\n",
    "3. Write at least one sentence to interpret and discuss your plot.\n",
    "\n",
    "Submit your plot and discussion via **Gradescope**."
   ]
  },
  {
   "cell_type": "code",
   "execution_count": null,
   "metadata": {},
   "outputs": [],
   "source": [
    "rho_vals = np.arange(0.0005,0.0038,0.0001)\n",
    "std_dev = []\n",
    "\n",
    "# Add your solution here"
   ]
  },
  {
   "cell_type": "code",
   "execution_count": null,
   "metadata": {},
   "outputs": [],
   "source": [
    "#Plot\n",
    "\n",
    "# Add your solution here"
   ]
  },
  {
   "cell_type": "markdown",
   "metadata": {},
   "source": [
    "**Discussion**:"
   ]
  }
 ],
 "metadata": {
  "kernelspec": {
   "display_name": "Python 3 (ipykernel)",
   "language": "python",
   "name": "python3"
  },
  "language_info": {
   "codemirror_mode": {
    "name": "ipython",
    "version": 3
   },
   "file_extension": ".py",
   "mimetype": "text/x-python",
   "name": "python",
   "nbconvert_exporter": "python",
   "pygments_lexer": "ipython3",
   "version": "3.9.12"
  }
 },
 "nbformat": 4,
 "nbformat_minor": 4
}
