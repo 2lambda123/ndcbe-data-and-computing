{
 "cells": [
  {
   "cell_type": "markdown",
   "metadata": {
    "colab_type": "text",
    "id": "facoBRDS39zo"
   },
   "source": [
    "# Problem Set 6\n",
    "\n",
    "CBE 60258, University of Notre Dame. © Prof. Alexander Dowling, 2023\n",
    "\n",
    "You may not distribution homework solutions without written permissions from Prof. Alexander Dowling.\n",
    "\n",
    "**Your Name and Email:**"
   ]
  },
  {
   "cell_type": "markdown",
   "metadata": {},
   "source": [
    "## Motivation: Nonlinear Regression for Adsorptive Nanoporous Membranes\n",
    "\n",
    "*Contributors:* [Elvis A. Eugene](https://github.com/elvis1090) and [Alexander W. Dowling](https://github.com/adowling2)\n",
    "\n",
    "Prof. William Phillip has been developing novel adsorptive nanoporous membranes to remove heavy metals from water. He has asked for your help analyzing data to design a water treatment system. \n",
    "\n",
    "Assume the amount of contaminant (e.g., Pb) that adsorbs to the water treatment membranes can be modeled with the **Langmuir isotherm**:\n",
    "\n",
    "$$q = \\frac{Q \\cdot K \\cdot c}{1 + K \\cdot c}$$\n",
    "\n",
    "where $c$ is the concentration of contaminant in the bulk fluid (water), $q$ is the loading of contaminant on the sorbent (membrane), $K$ is the binding affinity and $Q$ is the capacity.\n",
    "\n",
    "Prof. Phillip's lab has provided us with the following data:\n",
    "\n",
    "| Contaminant Concentration in Bulk (mM) | Contaminant Loading on Sorbent (mmol/g) |\n",
    "| ------ | ------ |\n",
    "| 1 | 0.5 |\n",
    "| 2.5 | 0.9 |\n",
    "| 5 | 1 |\n",
    "| 10 | 1.33 |\n",
    "| 20 | 1.3 |\n",
    "| 40 | 1.4 |\n",
    "\n",
    "\n",
    "In this case study, you will compare three different regression strategies:\n",
    "1. Linear Regression after Transformation\n",
    "2. Linear Regression after a Different Transformation\n",
    "3. Nonlinear Regression\n",
    "\n",
    "For each strategy, we will follow the same basic steps:\n",
    "* Set up the problem, including deriving the transformation (if applicable)\n",
    "* Perform the regression calculation\n",
    "* Plot the experimental data (with transformed variables if applicable)\n",
    "* Plot the experimental data versus fitted model ($q$ vs $c$)\n",
    "* Graphically inspect the residuals\n",
    "* Compute the covariance matrix for the fitted parameters, transform to the original parameters (if applicable)\n"
   ]
  },
  {
   "cell_type": "code",
   "execution_count": null,
   "metadata": {
    "tags": []
   },
   "outputs": [],
   "source": [
    "# load libraries\n",
    "import numpy as np\n",
    "from scipy import optimize, stats, integrate\n",
    "import matplotlib.pyplot as plt\n",
    "import pandas as pd\n",
    "\n",
    "# define the data\n",
    "c = np.array([1, 2.5, 5, 10, 20, 40]);\n",
    "q = np.array([0.5, 0.9, 1.0, 1.33, 1.3, 1.4]);\n",
    "\n",
    "# number of observations\n",
    "n = len(c);\n",
    "\n",
    "# number of fitted parameters\n",
    "p = 2;"
   ]
  },
  {
   "cell_type": "markdown",
   "metadata": {},
   "source": [
    "## Getting Started\n",
    "\n",
    "Determine the units of $K$ and $Q$. Hint: $1$ in the denominator of the Langmuir isotherm is dimensionless."
   ]
  },
  {
   "cell_type": "markdown",
   "metadata": {},
   "source": [
    "Units for $K$:\n",
    "\n",
    "Units for $Q$:"
   ]
  },
  {
   "cell_type": "markdown",
   "metadata": {},
   "source": [
    "Before we run any regression analysis, let's first plot this data. This is a best practice for data science -- first visualize. "
   ]
  },
  {
   "cell_type": "markdown",
   "metadata": {},
   "source": [
    "## Paramter estimation using a transformation and linear regression"
   ]
  },
  {
   "cell_type": "markdown",
   "metadata": {},
   "source": [
    "### Transformation\n",
    "\n",
    "We will start our analysis by performing a transformation; this is neccessary to apply linear regression. We start with the Languir isotherm:\n",
    "\n",
    "$$ q = \\frac{Q \\cdot K \\cdot c}{1 + K \\cdot c}$$\n",
    "\n",
    "With a little bit of algebra, we obtain:\n",
    "\n",
    "$$ \\frac{c}{q} =  \\frac{c}{Q} + \\frac{1}{Q \\cdot K} $$"
   ]
  },
  {
   "cell_type": "markdown",
   "metadata": {},
   "source": [
    "Write down the mathematical steps to go from the original isotherm $q=~...$ to the transformed isotherm $c/q =~...~$ on paper. Turn this in on Gradescope."
   ]
  },
  {
   "cell_type": "markdown",
   "metadata": {},
   "source": [
    "### Linear Regression"
   ]
  },
  {
   "cell_type": "markdown",
   "metadata": {},
   "source": [
    "You may be asking yourselves, *how is that model linear*?!? We just need to define our variables and parameters carefully:\n",
    "\n",
    "$$ \\underbrace{\\frac{c}{q}}_{y} =  \\underbrace{\\frac{1}{Q}}_{\\beta_1} \\cdot \\underbrace{c}_{x} + \\underbrace{\\frac{1}{K \\cdot Q}}_{\\beta_0}   $$\n",
    "\n",
    "Recall $x$ is the independent variable, $y$ is the observed variable, $\\beta_0$ is the intercept, and $\\beta_1$ is the slope. With this transformation, we can compute the regression coefficients:"
   ]
  },
  {
   "cell_type": "code",
   "execution_count": null,
   "metadata": {
    "colab": {},
    "colab_type": "code",
    "id": "a2R77zX-8y4C",
    "outputId": "11033e35-340c-4cd3-ca3c-8a39519cef16"
   },
   "outputs": [],
   "source": [
    "# Code for parameter estimation using linear regression\n",
    "x = c;\n",
    "y = c/q;\n",
    "\n",
    "slope, intercept, r_value, p_value, std_err = stats.linregress(x, y)\n",
    "\n",
    "print(\"slope =\",slope)\n",
    "print(\"intercept =\",intercept)\n",
    "print(\"R-squared:\",r_value**2)\n",
    "\n"
   ]
  },
  {
   "cell_type": "markdown",
   "metadata": {},
   "source": [
    "Alright, we now have estimates for $\\beta_0$ and $\\beta_1$. But we really care about $K$ and $Q$. Let's reverse the transformation.\n",
    "\n",
    "$$Q = \\frac{1}{\\beta_1}, \\qquad  K = \\frac{\\beta_1}{\\beta_0}$$"
   ]
  },
  {
   "cell_type": "code",
   "execution_count": null,
   "metadata": {},
   "outputs": [],
   "source": [
    "## Reverse transformation to obtain Q and K and display results\n",
    "Qlin1 = 1/slope;\n",
    "Klin1 = slope/intercept;\n",
    "print(\"\\nK (linear regression) = {0:0.1f} l/mmol\".format(Klin1));\n",
    "print(\"Q (linear regression) = {0:0.1f} mmol/g_membrane\".format(Qlin1));"
   ]
  },
  {
   "cell_type": "markdown",
   "metadata": {},
   "source": [
    "### Plot Fit and Residuals for Transformed Model\n",
    "\n",
    "Now we want to visualize the quality of the fit. Because we plan to repeat the regression analysis two more times, we invested in writing functions for the visualization. This means we just need to declare the plotting procedures once and we can reuse them. This is a good programming practice; use functions to maximize code reuse."
   ]
  },
  {
   "cell_type": "code",
   "execution_count": null,
   "metadata": {
    "tags": []
   },
   "outputs": [],
   "source": [
    "# define a function to plot linearized isotherm \n",
    "def plot_linearized_isotherm(x,y,slope,intercept,title):\n",
    "    ''' \n",
    "    function to plot the linearized model and residuals\n",
    "    Arguments:\n",
    "        x: transformed independent variable (float vector)\n",
    "        y: transformed independent variable (float vector)\n",
    "        slope: fitted parameter 1 (float)\n",
    "        intercept: fitted parameter 2 (float)\n",
    "        title: keyword in plot title (string). Either 'lin1' or 'lin2'\n",
    "        \n",
    "    Returns:\n",
    "        nothing\n",
    "    '''\n",
    "    \n",
    "    assert (title == 'lin1') or (title == 'lin2'), \"Argument title must be 'lin1' or 'lin2'\"\n",
    "    \n",
    "    ## evaluate the best fit line\n",
    "    # determine the max value of x\n",
    "    xmax = np.amax(x);\n",
    "    # define range of x to evaluate the model\n",
    "    x_span = np.linspace(0,1.2*xmax,50);\n",
    "    # evaluate the model\n",
    "    y_hat = slope*x_span + intercept\n",
    "    \n",
    "    ## plot the best fit line\n",
    "    plt.figure()\n",
    "    plt.plot(x,y,'ro',label = 'data');\n",
    "    plt.plot(x_span, y_hat, 'k', label='best fit')\n",
    "    \n",
    "    if (title == 'lin1'):\n",
    "        plt.xlabel(\"c (mM)\")\n",
    "        plt.ylabel(\"c/q (grams membrane / L)\")\n",
    "    elif (title == 'lin2'):\n",
    "        plt.xlabel(\"1/c (l/mmol)\")\n",
    "        plt.ylabel(\"1/q (grams membrane / mmol)\")            \n",
    "            \n",
    "    plt.grid(True)\n",
    "    plt.title('Transformed Linear Langmuir Isotherm')\n",
    "    plt.legend()\n",
    "    plt.show()\n",
    "    \n",
    "    \n",
    "    ## calculate the residuals\n",
    "    r = y - (x*slope + intercept);\n",
    "    \n",
    "    ## plot the residuals versus concentration\n",
    "    plt.figure()\n",
    "    plt.plot(c,r,'ro')\n",
    "    \n",
    "    if (title == 'lin1'):\n",
    "        plt.ylabel('Residual (grams membrane / L)')\n",
    "    elif (title == 'lin2'):\n",
    "        plt.ylabel('Residual (grams membrane / mmol)')\n",
    "                      \n",
    "    plt.xlabel('Equilibrium concentration (mM)')\n",
    "    plt.grid(True)\n",
    "    plt.title('Transformed Residuals')\n",
    "    plt.show()\n",
    "    \n",
    "# End: define a function to linearized isotherm "
   ]
  },
  {
   "cell_type": "code",
   "execution_count": null,
   "metadata": {},
   "outputs": [],
   "source": [
    "# Plot linearized isotherm versus data\n",
    "# The last argument toggles between the two transformations we'll consider\n",
    "plot_linearized_isotherm(x,y,slope,intercept,'lin1')"
   ]
  },
  {
   "cell_type": "markdown",
   "metadata": {},
   "source": [
    "Write a few bullet points to interpret the scatter plot:\n",
    "* Fill in\n",
    "* Fill in"
   ]
  },
  {
   "cell_type": "markdown",
   "metadata": {},
   "source": [
    "Write a few bullet points interpreting the residual plot:\n",
    "* Fill in\n",
    "* Fill in"
   ]
  },
  {
   "cell_type": "code",
   "execution_count": null,
   "metadata": {},
   "outputs": [],
   "source": [
    "# Ignore this code block\n",
    "\n",
    "# Add your solution here\n"
   ]
  },
  {
   "cell_type": "markdown",
   "metadata": {},
   "source": [
    "### Plot Fit and Residuals for Original Model"
   ]
  },
  {
   "cell_type": "markdown",
   "metadata": {},
   "source": [
    "Next, we will define the second function which **plots the fitted Langmuir isotherm** without transformation and **plots the non-transformed residuals**. Notice the function can be directly reused for each regression strategy."
   ]
  },
  {
   "cell_type": "code",
   "execution_count": null,
   "metadata": {
    "tags": []
   },
   "outputs": [],
   "source": [
    "# define a function to plot Langmuir isotherm\n",
    "def plot_original_isotherm(c,q,K,Q,title):\n",
    "    ''' \n",
    "    function to plot fitted Langmuir isotherm and data\n",
    "    Arguments:\n",
    "        c: independent variable i.e. concentration - experimental data [mM] (float vector)\n",
    "        q: membrane loading - experimental data [l/gram membrane] (float vector)\n",
    "        K: fitted parameter [1/mmol] (float scalar)\n",
    "        Q: fitted parameter [mol/gram membrane] (float scalar)\n",
    "        title: name of regression to add to title (string)\n",
    "    Returns:\n",
    "        nothing\n",
    "    '''\n",
    "    \n",
    "    ## evaluate the model\n",
    "    # determine maximum value of c\n",
    "    cmax = np.amax(c);\n",
    "    # define range of x to evaluate the model\n",
    "    c_span = np.linspace(0,1.2*cmax,50);\n",
    "    # evaluate the model\n",
    "    q_hat = Q*K*c_span / (1 + K*c_span)\n",
    "    \n",
    "    # plot the best fit model\n",
    "    plt.figure()\n",
    "    plt.title('Langmuir Isotherm')\n",
    "    plt.plot(c_span,q_hat,'b-',label=\"Fitted Model\")\n",
    "    plt.plot(c,q,'r.',label=\"Experimental Data\")\n",
    "    plt.legend()\n",
    "    plt.grid(True)\n",
    "    plt.xlabel(\"Concentration (mM)\")\n",
    "    plt.ylabel(\"Loading (mmol / grams membrane)\")\n",
    "    plt.show()\n",
    "    \n",
    "    ## calculate the residuals\n",
    "    r = q - Q*K*c/(1+K*c)\n",
    "    \n",
    "    ## plot the residuals\n",
    "    plt.figure()\n",
    "    plt.plot(c,r,'ro')\n",
    "    plt.ylabel('Residual (mmol / grams membrane)')\n",
    "    plt.xlabel('Equilibrium concentration (mM)')\n",
    "    plt.grid(True)\n",
    "    plt.title('Residuals from {0} regression'.format(title))\n",
    "    plt.show()\n",
    "    \n",
    "# End: define a function to plot Langmuir isotherm"
   ]
  },
  {
   "cell_type": "code",
   "execution_count": null,
   "metadata": {},
   "outputs": [],
   "source": [
    "# Plot Langmuir isotherm\n",
    "plot_original_isotherm(c,q,Klin1,Qlin1,'first transformed')"
   ]
  },
  {
   "cell_type": "markdown",
   "metadata": {},
   "source": [
    "Write a few bullet points to interpret the scatter plot:\n",
    "* Fill in\n",
    "* Fill in"
   ]
  },
  {
   "cell_type": "markdown",
   "metadata": {},
   "source": [
    "Write a few bullet points to interpret the residual plot:\n",
    "* Fill in\n",
    "* Fill in"
   ]
  },
  {
   "cell_type": "code",
   "execution_count": null,
   "metadata": {},
   "outputs": [],
   "source": [
    "# Ignore this code block\n",
    "# Add your solution here"
   ]
  },
  {
   "cell_type": "markdown",
   "metadata": {},
   "source": [
    "### Compute Covariance Matricies\n",
    "\n",
    "Next, we will compute the **covariance matrix for the fitted parameters $\\beta_0$ and $\\beta_1$**.\n",
    "\n",
    "We will start by computing the variance of the residuals. Recall the formula is:\n",
    "\n",
    "$$\\hat{\\sigma}_r^2 = \\frac{1}{n-p} \\sum_{i=1}^{n} (r_i - 0)^2$$\n",
    "\n",
    "Here $n$ is the number of observations, $p$ is the number of fitted parameters, and $r_i$ is the residual for observation $i$. An interesting property of linear regression is that the mean of the residuals is always zero.\n",
    "\n",
    "We can write the above formula with linear algebra in one line of code:"
   ]
  },
  {
   "cell_type": "code",
   "execution_count": null,
   "metadata": {},
   "outputs": [],
   "source": [
    "# compute the residuals (using the transformed variables)\n",
    "r = y - (x*slope + intercept);\n",
    "\n",
    "# variance of residuals\n",
    "var_r = r @ r / (n-p)\n",
    "print(\"Variance of residuals =\",var_r,\" (g / L)^2\")"
   ]
  },
  {
   "cell_type": "markdown",
   "metadata": {},
   "source": [
    "Recall from the previous class, `stats.linregress` does not directly compute the covariance of the linear regression parameters. Instead, we need to write the regression problem in matrix notation:\n",
    "\n",
    "$$\n",
    "\\underbrace{\\vec{y}}_{\\mathbb{R}^{n x 1}} = \\underbrace{\\mathbf{X}}_{\\mathbb{R}^{n x m}} \\cdot \\underbrace{\\vec{\\beta}}_{\\mathbb{R}^{m x 1}} + \\underbrace{\\vec{\\epsilon}}_{\\mathbb{R}^{n x 1}}\n",
    "$$\n",
    "\n",
    "Observations: $\\vec{y} = [y_1, y_2, ..., y_n]^T$\n",
    "\n",
    "Fitted Parameters: $\\vec{\\beta} = [\\beta_0, \\beta_1, ..., \\beta_{m}]^T$\n",
    "\n",
    "Data / Feature Matrix:\n",
    "\n",
    "$$\n",
    "\\mathbf{X} = \\begin{bmatrix} 1 & x_{1,1} & x_{1,2} & \\dots & x_{1,m} \\\\\n",
    "1 & x_{2,1} & x_{2,2} & \\dots & x_{2,m} \\\\\n",
    "\\vdots & \\vdots & \\vdots & \\ddots & \\vdots \\\\\n",
    "1 & x_{n,1} & x_{n,2} & \\dots & x_{n,m}\n",
    "\\end{bmatrix}\n",
    "$$"
   ]
  },
  {
   "cell_type": "markdown",
   "metadata": {},
   "source": [
    "For our transformed membrane, the feature matrix is:\n",
    "\n",
    "$$\n",
    "\\mathbf{X} = \\begin{bmatrix} 1 & c_1 \\\\\n",
    "1 & c_{2} \\\\\n",
    "\\vdots & \\vdots \\\\\n",
    "1 & c_{n}\n",
    "\\end{bmatrix}\n",
    "$$"
   ]
  },
  {
   "cell_type": "code",
   "execution_count": null,
   "metadata": {},
   "outputs": [],
   "source": [
    "# feature matrix, a.k.a. data matrix, a.k.a. predictor matrix\n",
    "X = np.ones((n,2))\n",
    "X[:,1] = c\n",
    "print(\"X=\\n\",X)"
   ]
  },
  {
   "cell_type": "markdown",
   "metadata": {},
   "source": [
    "Next, we will compute the **covariance matrix of the fitted parameters**:\n",
    "\n",
    "$$\\Sigma_{\\hat{\\beta}} = \\hat{\\sigma}_r^2  (\\mathbf{X}^T \\mathbf{X})^{-1}$$"
   ]
  },
  {
   "cell_type": "code",
   "execution_count": null,
   "metadata": {
    "tags": []
   },
   "outputs": [],
   "source": [
    "# assemble covariance matrix for regression parameters\n",
    "cov_b = var_r * np.linalg.inv(X.transpose() @ X)"
   ]
  },
  {
   "cell_type": "markdown",
   "metadata": {},
   "source": [
    "Finally, we will propagate the covariance matrix of the transformed fitted parameters, $\\mathbf{\\Sigma_{\\vec{\\beta}}}$, to determine the **covariance matrix of the desired isotherm parameters**, $\\mathbf{\\Sigma_{\\vec{\\theta}}}$.\n",
    "\n",
    "Recall of model transformation:\n",
    "\n",
    "$$K = \\frac{\\beta_1}{\\beta_0}, \\qquad Q = \\frac{1}{\\beta_1}, $$\n",
    "\n",
    "We will define the vector of model parameters as $\\vec{\\theta} = [K, Q]^T$."
   ]
  },
  {
   "cell_type": "markdown",
   "metadata": {},
   "source": [
    "In anticipation of applying the general nonlinear error propagation formula, we will calculate the following **partial derivatives**:\n",
    "\n",
    "$$\n",
    "\\frac{\\partial K}{\\partial \\beta_0} = -\\frac{\\beta_0}{\\beta_1^2}, \\qquad \\frac{\\partial K}{\\partial \\beta_1} = \\frac{1}{\\beta_0}\n",
    "$$\n",
    "\n",
    "$$\n",
    "\\frac{\\partial Q}{\\partial \\beta_0} = 0, \\qquad \\frac{\\partial Q}{\\partial \\beta_1} = -\\frac{1}{\\beta_1^2}\n",
    "$$\n",
    "\n",
    "We can then assemble these gradients into the Jacobian matrix:\n",
    "\n",
    "$$\n",
    "\\mathbf{\\nabla_{\\vec{\\beta}} \\vec{\\theta}} = \\begin{bmatrix}\n",
    "\\frac{\\partial K}{\\partial \\beta_0} & \\frac{\\partial K}{\\partial \\beta_1} \\\\\n",
    "\\frac{\\partial Q}{\\partial \\beta_0} & \\frac{\\partial Q}{\\partial \\beta_1}\n",
    "\\end{bmatrix}\n",
    "$$\n"
   ]
  },
  {
   "cell_type": "code",
   "execution_count": null,
   "metadata": {},
   "outputs": [],
   "source": [
    "# Assemble gradient vectors for K and Q\n",
    "gradK = np.array([-slope / intercept**2, 1/intercept])\n",
    "gradQ = np.array([0, -1/slope**2])\n",
    "\n",
    "print(\"\\nGradient of K:\",gradK)\n",
    "print(\"Gradient of Q:\",gradQ)\n",
    "\n",
    "# Assemble gradient vector\n",
    "jac = np.stack((gradK, gradQ));\n",
    "print(\"\\nJacobian Matrix:\\n\",jac)"
   ]
  },
  {
   "cell_type": "markdown",
   "metadata": {},
   "source": [
    "For this problem, calculating the partial derivates was very straightforward; but for more complex expression, we can use a finite difference approximation. We'll see this later in the case study."
   ]
  },
  {
   "cell_type": "markdown",
   "metadata": {},
   "source": [
    "We can now apply the **general nonlinear error propagation formula**:\n",
    "\n",
    "$$\n",
    "    \\Sigma_{\\hat{\\theta}} \\approx \\left( \\mathbf{\\nabla_{\\vec{\\beta}} \\vec{\\theta}} \\right) \\left(\\Sigma_{\\hat{\\beta}} \\right) \\left(\\mathbf{\\nabla_{\\vec{\\beta}} \\vec{\\theta}}\\right)^T$$\n"
   ]
  },
  {
   "cell_type": "code",
   "execution_count": null,
   "metadata": {},
   "outputs": [],
   "source": [
    "# Apply nonlinear error propagation formula\n",
    "cov_theta_lin1 = jac @ cov_b @ jac.transpose()\n",
    "\n",
    "print(\"\\nCovariance of Original Model Parameters (K,Q):\\n\",cov_theta_lin1)"
   ]
  },
  {
   "cell_type": "markdown",
   "metadata": {},
   "source": [
    "## Paramter estimation using an alternate transformation and linear regression\n",
    "\n",
    "We start with the Languir isotherm:\n",
    "\n",
    "$$ q = \\frac{Q \\cdot K \\cdot c}{1 + K \\cdot c}$$\n",
    "\n",
    "With a little bit of algebra, we obtain:\n",
    "\n",
    "$$ \\frac{1}{q} =  \\frac{1}{Q} + \\frac{1}{Q \\cdot K} \\cdot \\frac{1}{c} $$"
   ]
  },
  {
   "cell_type": "markdown",
   "metadata": {},
   "source": [
    "### Model Transformation\n",
    "\n",
    "Identify $x$, $y$, $\\beta_0$, and $\\beta_1$ in the alternate transformed model. Show your work on paper and turn in via Gradescope."
   ]
  },
  {
   "cell_type": "markdown",
   "metadata": {},
   "source": [
    "Next, determine the new formulas to compute $K$ and $Q$ from the new fitted parameters $\\beta_0$ and $\\beta_1$. Show your work on paper and turn in via Gradescope.\n",
    "\n",
    "Also, typeset the final answer below:"
   ]
  },
  {
   "cell_type": "markdown",
   "metadata": {},
   "source": [
    "$$K = \\frac{?}{?}, \\qquad Q = \\frac{?}{?}, $$"
   ]
  },
  {
   "cell_type": "markdown",
   "metadata": {},
   "source": [
    "Trust us, writing this down in the notebook will help."
   ]
  },
  {
   "cell_type": "markdown",
   "metadata": {},
   "source": [
    "### Linear Regression"
   ]
  },
  {
   "cell_type": "markdown",
   "metadata": {},
   "source": [
    "Use `stats.linregress` to compute the best fit line. To maximize code reuse, save the results in variables ``slope`` and ``intercept``."
   ]
  },
  {
   "cell_type": "code",
   "execution_count": null,
   "metadata": {},
   "outputs": [],
   "source": [
    "# Add your solution here"
   ]
  },
  {
   "cell_type": "markdown",
   "metadata": {},
   "source": [
    "Compute $K$ and $Q$ from new model. Store your answers in the variances ``Klin2`` and ``Qlin2``.\n",
    "</div>"
   ]
  },
  {
   "cell_type": "code",
   "execution_count": null,
   "metadata": {},
   "outputs": [],
   "source": [
    "## Reverse transformation to obtain Q and K and display results\n",
    "# Add your solution here\n",
    "print(\"\\nK (alternate linear regression) = {0:0.1f} L/mmol\".format(Klin2));\n",
    "print(\"Q (alternate linear regression) = {0:0.1f} mmol/g_membrane\".format(Qlin2));"
   ]
  },
  {
   "cell_type": "markdown",
   "metadata": {},
   "source": [
    "### Plot Fitted Transformed Model and Residuals"
   ]
  },
  {
   "cell_type": "markdown",
   "metadata": {},
   "source": [
    "Plot the transformed model and the transformed residuals. Hint: When using the ``plot_linear_isotherm`` function, enter ``'lin2'`` as the fourth argument. This will add the appropraite units to the plot."
   ]
  },
  {
   "cell_type": "code",
   "execution_count": null,
   "metadata": {},
   "outputs": [],
   "source": [
    "# Add your solution here"
   ]
  },
  {
   "cell_type": "markdown",
   "metadata": {},
   "source": [
    "Interpret the plot. Write a few bullet points (sentences) with your observations."
   ]
  },
  {
   "cell_type": "markdown",
   "metadata": {},
   "source": [
    "**Your Observations:**\n",
    "\n",
    "1.\n",
    "\n",
    "2.\n",
    "\n",
    "3."
   ]
  },
  {
   "cell_type": "markdown",
   "metadata": {},
   "source": [
    "### Plot Fitted Untransformed (Original) Model and Residuals"
   ]
  },
  {
   "cell_type": "markdown",
   "metadata": {},
   "source": [
    "Plot the Langmuir isotherm model and the (non-transformed) residuals. Hint: When using the ``plot_original_isotherm`` function, enter ``'first transformed'`` as the fifth argument. This will add the appropriate title to the plot. Also remember to use ``Klin2`` and ``Qlin2``."
   ]
  },
  {
   "cell_type": "code",
   "execution_count": null,
   "metadata": {},
   "outputs": [],
   "source": [
    "# Plot Langmuir isotherm\n",
    "# Add your solution here"
   ]
  },
  {
   "cell_type": "markdown",
   "metadata": {},
   "source": [
    "Interpret these plots. Write a few bullet points (sentences) with your observations."
   ]
  },
  {
   "cell_type": "markdown",
   "metadata": {},
   "source": [
    "**Your Observations:**\n",
    "\n",
    "1.\n",
    "\n",
    "2.\n",
    "\n",
    "3."
   ]
  },
  {
   "cell_type": "markdown",
   "metadata": {},
   "source": [
    "### Uncertainty Analysis"
   ]
  },
  {
   "cell_type": "markdown",
   "metadata": {},
   "source": [
    "Calculate the residuals and store in variable ``r2``."
   ]
  },
  {
   "cell_type": "code",
   "execution_count": null,
   "metadata": {
    "tags": []
   },
   "outputs": [],
   "source": [
    "# Calculate residuals\n",
    "# Add your solution here"
   ]
  },
  {
   "cell_type": "markdown",
   "metadata": {},
   "source": [
    "Calculate the variance of the residuals. Store in variable ``var_r2``."
   ]
  },
  {
   "cell_type": "code",
   "execution_count": null,
   "metadata": {},
   "outputs": [],
   "source": [
    "# variance of residuals\n",
    "# Add your solution here\n",
    "\n",
    "print(\"Variance of residuals =\",var_r2,\" (g / mmol)^2\")"
   ]
  },
  {
   "cell_type": "markdown",
   "metadata": {},
   "source": [
    "Assemble the feature matrix and store in variable ``X2``."
   ]
  },
  {
   "cell_type": "code",
   "execution_count": null,
   "metadata": {},
   "outputs": [],
   "source": [
    "# matrix of predictors\n",
    "# Add your solution here\n",
    "\n",
    "print(\"X2 =\\n\",X2)"
   ]
  },
  {
   "cell_type": "markdown",
   "metadata": {},
   "source": [
    "Calculate the covariance of the linear regression parameters. Store the result in ``cov_b2``."
   ]
  },
  {
   "cell_type": "code",
   "execution_count": null,
   "metadata": {},
   "outputs": [],
   "source": [
    "# assemble covariance matrix for regression parameters\n",
    "# Add your solution here\n",
    "\n",
    "print(\"Covariance of Transformed (Linearized) Regression Parameters (1/KQ, 1/Q):\\n\",cov_b2)"
   ]
  },
  {
   "cell_type": "markdown",
   "metadata": {},
   "source": [
    "One paper, re-derive the formulas in the code below for the gradients of $K$ and $Q$ with respect to the new $\\beta_0$ and $\\beta_1$."
   ]
  },
  {
   "cell_type": "code",
   "execution_count": null,
   "metadata": {},
   "outputs": [],
   "source": [
    "gradK2 = np.array([1/slope, -intercept/slope**2])\n",
    "gradQ2 = np.array([-1/intercept**2, 0])\n",
    "\n",
    "print(\"\\nGradient of K:\",gradK2)\n",
    "print(\"Gradient of Q:\",gradQ2)"
   ]
  },
  {
   "cell_type": "markdown",
   "metadata": {},
   "source": [
    "Assemble the gradients into the Jacobian matrix. Store the matrix in ``jac2``. Hint: Look at the documentation for ``numpy.stack``."
   ]
  },
  {
   "cell_type": "code",
   "execution_count": null,
   "metadata": {},
   "outputs": [],
   "source": [
    "# Add your solution here\n",
    "\n",
    "print(\"\\nJacobian Matrix:\\n\",jac2)"
   ]
  },
  {
   "cell_type": "markdown",
   "metadata": {},
   "source": [
    "Apply the multivariate general nonlinear error propagation formulation. Store the covariance matrix of the original model parameters in ``cov_theta_lin2``."
   ]
  },
  {
   "cell_type": "code",
   "execution_count": null,
   "metadata": {},
   "outputs": [],
   "source": [
    "# Apply nonlinear error propagation formula\n",
    "# Add your solution here\n",
    "\n",
    "print(\"\\nCovariance of Original Model Parameters (K,Q):\\n\",cov_theta_lin2)"
   ]
  },
  {
   "cell_type": "markdown",
   "metadata": {
    "colab_type": "text",
    "id": "7RgOIGSI8y4P"
   },
   "source": [
    "## Parameter estimation using nonlinear regression"
   ]
  },
  {
   "cell_type": "markdown",
   "metadata": {},
   "source": [
    "We will now apply nonlinear regression to our problem. First, we need to define a function to evaluate the model."
   ]
  },
  {
   "cell_type": "markdown",
   "metadata": {},
   "source": [
    "### Define Model"
   ]
  },
  {
   "cell_type": "markdown",
   "metadata": {},
   "source": [
    "Fill in the missing line in ``model_func`` below."
   ]
  },
  {
   "cell_type": "code",
   "execution_count": null,
   "metadata": {
    "colab": {},
    "colab_type": "code",
    "id": "KZDSoDG68y4Q",
    "tags": []
   },
   "outputs": [],
   "source": [
    "## Code for parameter estimation using nonlinear regression\n",
    "\n",
    "# define function for the model being fitted\n",
    "def model_func(theta, c):\n",
    "    '''\n",
    "    Function to define model being fitted\n",
    "    Arguments:\n",
    "        theta: parameter vector (K, Q)\n",
    "        c: concentration(s) to evaluate (scalar or vector)\n",
    "    Returns:\n",
    "        qhat: predicted loading(s), (scalar or vector)\n",
    "    '''\n",
    "    # Add your solution here\n",
    "    return qhat\n",
    "# End: define function for the model being fitted"
   ]
  },
  {
   "cell_type": "markdown",
   "metadata": {},
   "source": [
    "Next we need to define a function to calculate the residuals for each data point."
   ]
  },
  {
   "cell_type": "markdown",
   "metadata": {},
   "source": [
    "Fill in the missing line in ``regression_func`` below."
   ]
  },
  {
   "cell_type": "code",
   "execution_count": null,
   "metadata": {
    "tags": []
   },
   "outputs": [],
   "source": [
    "# define function to return residuals of model being fitted\n",
    "def regression_func(theta, c, q):\n",
    "    '''\n",
    "    Function to define regression function for least-squares fitting\n",
    "    Arguments:\n",
    "        theta: parameter vector\n",
    "        c: concentration(s) to evaluate (vector)\n",
    "        q: loading(s) to fit (vector)\n",
    "    Returns:\n",
    "        ls_func: evaluation of loss function\n",
    "    '''\n",
    "    qhat = model_func(theta,c)\n",
    "\n",
    "    # Add your solution here\n",
    "    return r\n",
    "# End: define function to return residuals of model being fitted"
   ]
  },
  {
   "cell_type": "markdown",
   "metadata": {},
   "source": [
    "### Estimate Parameters"
   ]
  },
  {
   "cell_type": "markdown",
   "metadata": {},
   "source": [
    "Use the function ``scipy.optimize.least_squares`` to compute the best fit. Store the results in the variable ``theta_fit``."
   ]
  },
  {
   "cell_type": "code",
   "execution_count": null,
   "metadata": {
    "colab": {},
    "colab_type": "code",
    "id": "Or9TLw108y4R",
    "outputId": "789b0deb-1128-4616-a2ba-2c87a087b38b"
   },
   "outputs": [],
   "source": [
    "# Perform nonlinear parameter estimation\n",
    "\n",
    "# initial guess\n",
    "theta_guess = np.array([1, 1])\n",
    "\n",
    "# nonlinear regression\n",
    "# Add your solution here\n",
    "\n",
    "# Extract fitted parameters and display results\n",
    "Knl = theta_fit.x[0]\n",
    "Qnl = theta_fit.x[1]\n",
    "print(\"\\nK (nonlinear regression) = {0:0.1f} l/mmol\".format(Knl));\n",
    "print(\"Q (nonlinear regression) = {0:0.1f} mmol/g_membrane\".format(Qnl));"
   ]
  },
  {
   "cell_type": "markdown",
   "metadata": {},
   "source": [
    "### Visual Regression Diagnostics"
   ]
  },
  {
   "cell_type": "markdown",
   "metadata": {},
   "source": [
    "Plot the fitted model and residuals. Hint: Use the function ``plot_original_isotherm``. Enter ``'nonlinear'`` as the fifth argument."
   ]
  },
  {
   "cell_type": "code",
   "execution_count": null,
   "metadata": {},
   "outputs": [],
   "source": [
    "# Add your solution here"
   ]
  },
  {
   "cell_type": "markdown",
   "metadata": {},
   "source": [
    "Interpret these plots. Write a few bullet points (sentences) with your observations."
   ]
  },
  {
   "cell_type": "markdown",
   "metadata": {},
   "source": [
    "**Your Observations:**\n",
    "\n",
    "1.\n",
    "\n",
    "2.\n",
    "\n",
    "3."
   ]
  },
  {
   "cell_type": "markdown",
   "metadata": {},
   "source": [
    "### Uncertainty Analysis"
   ]
  },
  {
   "cell_type": "markdown",
   "metadata": {},
   "source": [
    "We will complete the nonlinear regression analysis by estimating the covariance of the fitted parameters $\\mathbf{\\Sigma}_{\\vec{\\theta}}$."
   ]
  },
  {
   "cell_type": "markdown",
   "metadata": {},
   "source": [
    "Calculate the residuals and store in ``r3``. Next calculate the variance of the residuals and store in ``var_r3``."
   ]
  },
  {
   "cell_type": "code",
   "execution_count": null,
   "metadata": {
    "colab": {},
    "colab_type": "code",
    "id": "nlFmoMsa8y4U",
    "outputId": "ccebcf56-469f-4173-bff9-7c61f56fc15c"
   },
   "outputs": [],
   "source": [
    "# Calculate residuals. Hint: use model_func\n",
    "### BEGIN SOLUTON\n",
    "# calculate residuals\n",
    "r3= q - model_func(theta_fit.x, c)\n",
    "### END SOLUTION"
   ]
  },
  {
   "cell_type": "code",
   "execution_count": null,
   "metadata": {},
   "outputs": [],
   "source": [
    "# Calculate the variance of the residuals\n",
    "# Add your solution here\n",
    "\n",
    "print(\"Variance of the residuals: \",var_r3,\"(mmol/g)^2\")"
   ]
  },
  {
   "cell_type": "markdown",
   "metadata": {},
   "source": [
    "Recall from the previous class the covariance matrix for nonlinear regression has a similar formula to the linear regression case:\n",
    "\n",
    "$$\\mathbf{\\Sigma_{\\vec{\\theta}}} \\approx \\hat{\\sigma}_r^2 (\\mathbf{J}^T \\mathbf{J})^{-1}$$\n",
    "\n",
    "where $\\mathbf{J}$ is the Jacobian of the residuals w.r.t. $\\vec{\\theta}$:\n",
    "\n",
    "$$\n",
    "J_{i,j} = \\frac{\\partial(y_i - \\hat{y}_i)}{\\partial \\theta_j}\n",
    "$$\n",
    "\n",
    "This IS NOT the same Jacobian matrix for nonlinear error propagation. Does this formula look familar? Recall, for LINEAR REGRESSION, the covariance estimate is:\n",
    "\n",
    "$$\\Sigma_{\\hat{\\beta}} = \\hat{\\sigma}_r^2  (\\mathbf{X}^T \\mathbf{X})^{-1}$$"
   ]
  },
  {
   "cell_type": "markdown",
   "metadata": {},
   "source": [
    "Compare the nonlinear regression and linear regression covariance formulas. On paper, compute the elements of the Jacobian matrix for a linear model using $\\vec{\\theta} = \\vec{\\beta}$. How are $\\mathbf{J}$ and $\\mathbf{X}$ related? Discuss then write one sentence."
   ]
  },
  {
   "cell_type": "markdown",
   "metadata": {},
   "source": [
    "**Discussion**:"
   ]
  },
  {
   "cell_type": "markdown",
   "metadata": {},
   "source": [
    "Luckily, `optimize.least_squares` computes this Jacobian for us automatically."
   ]
  },
  {
   "cell_type": "code",
   "execution_count": null,
   "metadata": {},
   "outputs": [],
   "source": [
    "print(\"J =\\n\",theta_fit.jac)"
   ]
  },
  {
   "cell_type": "markdown",
   "metadata": {},
   "source": [
    "Compute the covariance matrix $\\mathbf{\\Sigma_{\\vec{\\theta}}}$. Store your answer in ``cov_theta_nl``."
   ]
  },
  {
   "cell_type": "code",
   "execution_count": null,
   "metadata": {},
   "outputs": [],
   "source": [
    "# assemble covariance matrix\n",
    "# Add your solution here\n",
    "# plot Langmuir isotherm\n",
    "print(\"Covariance Matrix of Original Model Parameters (K,Q):\\n\",cov_theta_nl)"
   ]
  },
  {
   "cell_type": "markdown",
   "metadata": {},
   "source": [
    "## Comparison of Three Regression Approaches\n",
    "\n",
    "**First Transformation + Linear Regression**"
   ]
  },
  {
   "cell_type": "code",
   "execution_count": null,
   "metadata": {},
   "outputs": [],
   "source": [
    "print(\"\\nK (linear regression) = {0:0.3f} l/mmol\".format(Klin1));\n",
    "print(\"Q (linear regression) = {0:0.3f} mmol/g_membrane\".format(Qlin1));\n",
    "\n",
    "print(\"\\nCovariance of Original Model Parameters (K,Q):\\n\",cov_theta_lin1)"
   ]
  },
  {
   "cell_type": "markdown",
   "metadata": {},
   "source": [
    "**Second (Alternative) Transformation + Linear Regression**"
   ]
  },
  {
   "cell_type": "code",
   "execution_count": null,
   "metadata": {},
   "outputs": [],
   "source": [
    "print(\"\\nK (alternate linear regression) = {0:0.3f} L/mmol\".format(Klin1));\n",
    "print(\"Q (alternate linear regression) = {0:0.3f} mmol/g_membrane\".format(Qlin2));\n",
    "\n",
    "\n",
    "print(\"\\nCovariance of Original Model Parameters (K,Q):\\n\",cov_theta_lin2)"
   ]
  },
  {
   "cell_type": "markdown",
   "metadata": {},
   "source": [
    "**Nonlinear Regression**"
   ]
  },
  {
   "cell_type": "code",
   "execution_count": null,
   "metadata": {},
   "outputs": [],
   "source": [
    "print(\"\\nK (nonlinear regression) = {0:0.3f} l/mmol\".format(Knl));\n",
    "print(\"Q (nonlinear regression) = {0:0.3f} mmol/g_membrane\".format(Qnl));\n",
    "\n",
    "print(\"\\nCovariance Matrix of Original Model Parameters (K,Q):\\n\",cov_theta_nl)"
   ]
  },
  {
   "cell_type": "markdown",
   "metadata": {
    "nbgrader": {
     "grade": false,
     "locked": false,
     "solution": false
    }
   },
   "source": [
    "Write at least a one sentence answer for each of the following discussion questions.\n",
    "</div>"
   ]
  },
  {
   "cell_type": "markdown",
   "metadata": {},
   "source": [
    "**Discussion**:\n",
    "1. *How many significant figures are we estimating for $Q$ and $K$ based on the original data?* **Answer:** Fill in here...\n",
    "2. *Do the three regression strategies give the same or different estimates for $K$ (within reasonable significant figures)?* **Answer:** Fill in here...\n",
    "3. *Do the three regression strategies give the same or different estimates for $Q$ (within reasonable significant figures)?* **Answer:** Fill in here...\n",
    "4. *Do the three regression strategies give the same estimate for uncertainty (covariance)?*\n",
    "5. *Which regression technique is best suited for this problem?* **Answer:** Fill in here..."
   ]
  },
  {
   "cell_type": "markdown",
   "metadata": {},
   "source": [
    "## Statistical Power\n",
    "\n",
    "As part of Problem Set 6, also complete the old exam questions on statistical power (posted on Canvas and handed out in class). Submit via Gradescope."
   ]
  },
  {
   "cell_type": "markdown",
   "metadata": {},
   "source": []
  }
 ],
 "metadata": {
  "colab": {
   "name": "final_project_solutions.ipynb",
   "provenance": [],
   "version": "0.3.2"
  },
  "kernelspec": {
   "display_name": "Python 3 (ipykernel)",
   "language": "python",
   "name": "python3"
  },
  "language_info": {
   "codemirror_mode": {
    "name": "ipython",
    "version": 3
   },
   "file_extension": ".py",
   "mimetype": "text/x-python",
   "name": "python",
   "nbconvert_exporter": "python",
   "pygments_lexer": "ipython3",
   "version": "3.9.16"
  }
 },
 "nbformat": 4,
 "nbformat_minor": 4
}
