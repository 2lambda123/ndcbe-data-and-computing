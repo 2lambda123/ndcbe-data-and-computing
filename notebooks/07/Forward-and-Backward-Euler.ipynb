{
 "cells": [
  {
   "cell_type": "markdown",
   "metadata": {
    "colab_type": "text",
    "id": "zUrZ00DvG1y0",
    "tags": []
   },
   "source": [
    "# Forward and Backward Euler Methods\n",
    "\n",
    "**Reference:** Chapter 17 in *Computational Nuclear Engineering and Radiological Science Using Python*, R. McClarren (2018)."
   ]
  },
  {
   "cell_type": "markdown",
   "metadata": {
    "colab_type": "text",
    "id": "qaHAK35SG1y5"
   },
   "source": [
    "## Learning Objectives\n",
    "\n",
    "After studying this notebook, completing the activties, and attending class, you should be able to:\n",
    "* Explain the difference between forward and backward Euler methods to approximate solutions to IVP.\n",
    "  * Ease to implement, computational expense (how does this relate to explicit versus implicit?)\n",
    "* Understand how step size impacts the accuracy of the approximation.\n",
    "* Compute initial value problems (IVP)."
   ]
  },
  {
   "cell_type": "code",
   "execution_count": 3,
   "metadata": {
    "colab": {},
    "colab_type": "code",
    "id": "mCjbdDRmG1y2",
    "tags": []
   },
   "outputs": [],
   "source": [
    "# import libraries\n",
    "import numpy as np\n",
    "import matplotlib.pyplot as plt\n",
    "from matplotlib.patches import Polygon"
   ]
  },
  {
   "cell_type": "markdown",
   "metadata": {
    "colab_type": "text",
    "id": "w5oGA3e0G1y6"
   },
   "source": [
    "## Main Idea\n",
    "\n",
    "In the next few notebooks, we will discuss techniques to compute approximate solutions to **initial value problems (IVP)**. Every IVP has two parts:\n",
    "* System of differential equations.\n",
    "* Initial conditions that specify the numeric value for each different state at $t=0$.\n",
    "\n",
    "Let's consider the generic, first-order initial value problem given by\n",
    "\n",
    "$$ y'(t) = f(y,t), \\qquad y(0) = y_0,$$\n",
    "\n",
    "where $f(y,t)$ is a function that in general depends on $y$ and $t$.  Typically, we'll call $t$ the time variable and $y$ our solution.  For a problem of this sort we can simply integrate both sides of the equation from $t=0$ to $t=\\Delta t$, where $\\Delta t$ is called the time step.  Doing this we get\n",
    "\n",
    "$$y(\\Delta t) - y(0) = \\int_{0}^{\\Delta t} f(y,t)\\,dt.$$\n",
    "\n",
    "These next few notebooks focus on solving this problem. You'll notice a lot of similarities to notebooks 01-04 from this chapter involving numeric integration, as integrals and differential equations are closely related."
   ]
  },
  {
   "cell_type": "markdown",
   "metadata": {
    "colab_type": "text",
    "id": "YBYDJ05jG1y7",
    "tags": []
   },
   "source": [
    "## Forward (Explicit) Euler"
   ]
  },
  {
   "cell_type": "markdown",
   "metadata": {
    "colab_type": "text",
    "id": "k4E4Q6a5G1y7"
   },
   "source": [
    "Let's numerically approximate the above integral! One rule that is so basic that we didn't talk about it in the chapters on numerical integration is the left-hand rectangle rule.  Here we estimate the integral as\n",
    "\n",
    "$$\\int_{0}^{\\Delta t} f(y,t)\\,dt \\approx \\Delta t f(y(0), 0).$$\n",
    "\n",
    "Graphically, this looks like"
   ]
  },
  {
   "cell_type": "code",
   "execution_count": 4,
   "metadata": {
    "colab": {
     "base_uri": "https://localhost:8080/",
     "height": 297
    },
    "colab_type": "code",
    "executionInfo": {
     "elapsed": 1323,
     "status": "ok",
     "timestamp": 1556625634941,
     "user": {
      "displayName": "Alexander Dowling",
      "photoUrl": "https://lh3.googleusercontent.com/-LChdQ2m5OQE/AAAAAAAAAAI/AAAAAAAAAA0/JeXJe4vQJ7M/s64/photo.jpg",
      "userId": "00988067626794866502"
     },
     "user_tz": 240
    },
    "id": "wSpsBMn0G1y8",
    "outputId": "1cce98bb-753b-4377-8af7-401d1d92b369"
   },
   "outputs": [
    {
     "data": {
      "image/png": "[encoded data removed]",
      "text/plain": [
       "<Figure size 432x288 with 1 Axes>"
      ]
     },
     "metadata": {
      "needs_background": "light"
     },
     "output_type": "display_data"
    }
   ],
   "source": [
    "#graphical example\n",
    "f = lambda x: (x-3)*(x-5)*(x-7)+110\n",
    "x = np.linspace(0,10,100)\n",
    "plt.plot(x,f(x),label=\"f(x)\",color=\"blue\")\n",
    "ax = plt.gca()\n",
    "a = 2\n",
    "b = 8\n",
    "verts = [(a,0),(a,f(a)), (b,f(a)),(b,0)]\n",
    "poly = Polygon(verts, facecolor='0.9', edgecolor='k')\n",
    "ax.add_patch(poly)\n",
    "ax.set_xticks((a,b))\n",
    "ax.set_xticklabels(('0','$\\Delta t$'))\n",
    "plt.xlabel(\"t\")\n",
    "plt.ylabel(\"f(t)\")\n",
    "plt.title(\"Left-hand Rectangle Rule\")\n",
    "plt.show()"
   ]
  },
  {
   "cell_type": "markdown",
   "metadata": {
    "colab_type": "text",
    "id": "UIrdKlsZG1y_"
   },
   "source": [
    "This figure demonstrates why the name left-hand rectangle rule is used: the area under the curve is estimated as a rectangle that touches the curve at the left endpoint of the integral bounds.\n",
    "\n",
    "Putting this together gives us\n",
    "\n",
    "$$y(\\Delta t) = y(0) + \\Delta t f(y(0), 0).$$\n",
    "\n",
    "This will give an approximate value of the solution $\\Delta t$ after the initial condition. If we wanted to continue out to later time we could apply the rule again repeatedly.  To do this we'll define the value of $y$ after $n$ timesteps, each of width $\\Delta t$ as\n",
    "\n",
    "$$y^{n} = y(t^n) = y(n\\Delta t), \\qquad \\text{for } n=0,\\dots, N.$$\n",
    "\n",
    "Using this we can write the solution using the left-hand rectangle rule for integration as\n",
    "\n",
    "$$y^{n+1} = y^n + \\Delta t f(y^n, t^n).$$\n",
    "\n",
    "This method is called the **explicit Euler method** or the **forward Euler method**. The method is said to be explicit because the update is defined by the value of the solution at time $t^n$."
   ]
  },
  {
   "cell_type": "markdown",
   "metadata": {},
   "source": [
    "Let's say we want to numerically approximate\n",
    "\n",
    "$$ y'(t) = f(y,t), \\qquad y(0) = y_0,$$\n",
    "\n",
    "from time $t=0$ to $t=a$. But we want want to know more than just $y(t=a)$. We want to compute $y(t)$ at $N=10$ intermediate points along the way. In other words, we want to compute $y(t=0.1a$), $y(t=0.2a)$, etc.\n",
    "\n",
    "How can we do this with the **explicit Euler method**? We could set $\\Delta t = 0.1a$ and apply the formula\n",
    "\n",
    "$$y^{n+1} = y^n + \\Delta t f(y^n, t^n).$$\n",
    "\n",
    "$N$ times for $n=1$ to $n=N$."
   ]
  },
  {
   "cell_type": "markdown",
   "metadata": {},
   "source": [
    "## Generalization and Python Implementation"
   ]
  },
  {
   "cell_type": "markdown",
   "metadata": {},
   "source": [
    "<div class=\"admonition seealso\"> \n",
    "<p class=\"title\"><b>Home Activity</b></p>\n",
    " Write psuedocode for a Python function with four inputs: a function to evaluate the right-hand side of the differential equation, i.e., $f(y,t)$, the initial condition $y_0$, the time step $\\Delta t$, and the number of timesteps $N$. Your function should use the forward Euler method to estimate $y(t=\\Delta t)$, $y(t=2 \\Delta t)$, ..., $y(t=N \\Delta t)$. Your function should return two numpy arrays: one for time $t$ and one for $y$. <b>This is excellent practice for the next exam.</b> Converting a list of instructions into pseudocode is a key skill we teach (and assess) in this class.\n",
    "</div>"
   ]
  },
  {
   "cell_type": "markdown",
   "metadata": {},
   "source": [
    "We now define a Python function that for a given right-hand side, initial condition, and time step and number of time steps, $N$, performs the forward Euler method. This function will take the name of the function on the right-hand side as an input."
   ]
  },
  {
   "cell_type": "markdown",
   "metadata": {},
   "source": [
    "<div class=\"admonition note\"> \n",
    "<p class=\"title\"><b>Class Activity</b></p>\n",
    " Trade pseudocode with a partner. Compare your partner's pseudocode to the Python code below. Offer your partner one piece of constructive feedback.\n",
    "</div>"
   ]
  },
  {
   "cell_type": "markdown",
   "metadata": {},
   "source": [
    "<div class=\"admonition seealso\"> \n",
    "<p class=\"title\"><b>Home Activity</b></p>\n",
    " Complete the function <tt>forward_euler</tt> by filling in the missing line. Hint: The equation $y^{n+1}=$ ... in the reading is important.\n",
    "</div>"
   ]
  },
  {
   "cell_type": "code",
   "execution_count": 5,
   "metadata": {
    "colab": {},
    "colab_type": "code",
    "id": "xKmdv-y7G1zA",
    "tags": []
   },
   "outputs": [],
   "source": [
    "def forward_euler(f,y0,Delta_t,numsteps):\n",
    "    \"\"\"Perform numsteps of the forward euler method starting at y0\n",
    "    of the ODE y'(t) = f(y,t)\n",
    "    Args:\n",
    "        f: function to integrate takes arguments y,t\n",
    "        y0: initial condition\n",
    "        Delta_t: time step size\n",
    "        numsteps: number of time steps\n",
    "        \n",
    "    Returns:\n",
    "        a numpy array of the times and a numpy\n",
    "        array of the solution at those times\n",
    "    \"\"\"\n",
    "    \n",
    "    # convert to integer\n",
    "    numsteps = int(numsteps)\n",
    "    \n",
    "    # initialize vectors to store solutions\n",
    "    y = np.zeros(numsteps+1)\n",
    "    \n",
    "    # compute time\n",
    "    t = np.arange(numsteps+1)*Delta_t\n",
    "    \n",
    "    # copy initial condition\n",
    "    y[0] = y0\n",
    "    \n",
    "    # loop over timesteps\n",
    "    for n in range(1,numsteps+1):\n",
    "        \n",
    "        # Compute y[n]. Hint: You only need to write a single line of Python code.\n",
    "        # Add your solution here\n",
    "    return t, y"
   ]
  },
  {
   "cell_type": "markdown",
   "metadata": {
    "colab_type": "text",
    "id": "yRAa2mB0G1zC"
   },
   "source": [
    "## Test Problem\n",
    "\n",
    "We created a function. Now let's test this on a simple problem:\n",
    "\n",
    "$$y'(t) = -y(t), \\qquad y_0 = 1.$$\n",
    "\n",
    "The solution to this problem is \n",
    "\n",
    "$$y(t) = e^{-t}.$$\n",
    "\n",
    "Let's compare the exact solution to the forward Euler solution with a time step of 0.1."
   ]
  },
  {
   "cell_type": "code",
   "execution_count": 6,
   "metadata": {
    "colab": {
     "base_uri": "https://localhost:8080/",
     "height": 296
    },
    "colab_type": "code",
    "executionInfo": {
     "elapsed": 1427,
     "status": "ok",
     "timestamp": 1556625635061,
     "user": {
      "displayName": "Alexander Dowling",
      "photoUrl": "https://lh3.googleusercontent.com/-LChdQ2m5OQE/AAAAAAAAAAI/AAAAAAAAAA0/JeXJe4vQJ7M/s64/photo.jpg",
      "userId": "00988067626794866502"
     },
     "user_tz": 240
    },
    "id": "kZnndPnnG1zC",
    "outputId": "7288c9f6-9064-403b-e4aa-6aa5ce90a132"
   },
   "outputs": [
    {
     "data": {
      "image/png": "[encoded data removed]",
      "text/plain": [
       "<Figure size 432x288 with 1 Axes>"
      ]
     },
     "metadata": {
      "needs_background": "light"
     },
     "output_type": "display_data"
    }
   ],
   "source": [
    "RHS = lambda y,t: -y\n",
    "Delta_t = 0.1\n",
    "t_final = 2.0\n",
    "t,y = forward_euler(RHS,1,Delta_t,t_final/Delta_t)\n",
    "plt.plot(t,y,'-',label=\"Forward Euler\",color=\"blue\",marker=\"o\",markersize=4)\n",
    "t_fine = np.linspace(0,t_final,100)\n",
    "plt.plot(t_fine,np.exp(-t_fine),label=\"Exact Solution\",color=\"black\")\n",
    "plt.xlabel(\"t\")\n",
    "plt.ylabel(\"y(t)\")\n",
    "plt.legend()\n",
    "plt.title(\"Solution with $\\Delta t$ = \" + str(Delta_t))\n",
    "plt.show()"
   ]
  },
  {
   "cell_type": "markdown",
   "metadata": {},
   "source": [
    "That looks pretty close. The numerical solution appears to be slightly below the exact solution, but the difference appears to be small."
   ]
  },
  {
   "cell_type": "markdown",
   "metadata": {},
   "source": [
    "Your function <tt>forward_euler</tt> works if it computes the following values for the test problem:\n",
    "\n",
    "| t \t| y |\n",
    "| - \t| - |\n",
    "| 0.0 \t| 1.00000 |\n",
    "| 0.1 \t| 0.90000 |\n",
    "| 0.2 \t| 0.81000 |\n",
    "| 0.3 \t| 0.72900 |\n",
    "| 0.4 \t| 0.65610 |\n",
    "| 0.5 \t| 0.59049 |\n",
    "| 0.6 \t| 0.53144 |\n",
    "| 0.7 \t| 0.47830 |\n",
    "| 0.8 \t| 0.43047 |\n",
    "| 0.9 \t| 0.38742 |\n",
    "| 1.0 \t| 0.34868 |\n",
    "| 1.1 \t| 0.31381 |\n",
    "| 1.2 \t| 0.28243 |\n",
    "| 1.3 \t| 0.25419 |\n",
    "| 1.4 \t| 0.22877 |\n",
    "| 1.5 \t| 0.20589 |\n",
    "| 1.6 \t| 0.18530 |\n",
    "| 1.7 \t| 0.16677 |\n",
    "| 1.8 \t| 0.15009 |\n",
    "| 1.9 \t| 0.13509 |\n",
    "| 2.0 \t| 0.12158 |"
   ]
  },
  {
   "cell_type": "code",
   "execution_count": 7,
   "metadata": {},
   "outputs": [
    {
     "name": "stdout",
     "output_type": "stream",
     "text": [
      "| t \t| y |\n",
      "| - \t| - |\n",
      "| 0.0 \t| 1.00000 |\n",
      "| 0.1 \t| 0.90000 |\n",
      "| 0.2 \t| 0.81000 |\n",
      "| 0.3 \t| 0.72900 |\n",
      "| 0.4 \t| 0.65610 |\n",
      "| 0.5 \t| 0.59049 |\n",
      "| 0.6 \t| 0.53144 |\n",
      "| 0.7 \t| 0.47830 |\n",
      "| 0.8 \t| 0.43047 |\n",
      "| 0.9 \t| 0.38742 |\n",
      "| 1.0 \t| 0.34868 |\n",
      "| 1.1 \t| 0.31381 |\n",
      "| 1.2 \t| 0.28243 |\n",
      "| 1.3 \t| 0.25419 |\n",
      "| 1.4 \t| 0.22877 |\n",
      "| 1.5 \t| 0.20589 |\n",
      "| 1.6 \t| 0.18530 |\n",
      "| 1.7 \t| 0.16677 |\n",
      "| 1.8 \t| 0.15009 |\n",
      "| 1.9 \t| 0.13509 |\n",
      "| 2.0 \t| 0.12158 |\n"
     ]
    }
   ],
   "source": [
    "# Print the values for t and y in a nice table\n",
    "print(\"| t \\t| y |\")\n",
    "print(\"| - \\t| - |\")\n",
    "for i in range(len(t)):\n",
    "    print(\"| {0:.1f} \\t| {1:0.5f} |\".format(t[i],y[i]))"
   ]
  },
  {
   "cell_type": "code",
   "execution_count": 9,
   "metadata": {
    "nbgrader": {
     "grade": true,
     "grade_id": "b-iii",
     "locked": true,
     "points": "0.2",
     "solution": false
    },
    "tags": []
   },
   "outputs": [],
   "source": [
    "# Removed autograder test. You may delete this cell."
   ]
  },
  {
   "cell_type": "markdown",
   "metadata": {
    "colab_type": "text",
    "id": "nTDxZU9uG1zE"
   },
   "source": [
    "## Impact of Step Size on Integration Error\n",
    "\n",
    "We could re-do this with different size time steps and compare the solutions as a function of $\\Delta t$."
   ]
  },
  {
   "cell_type": "code",
   "execution_count": 10,
   "metadata": {
    "colab": {
     "base_uri": "https://localhost:8080/",
     "height": 581
    },
    "colab_type": "code",
    "executionInfo": {
     "elapsed": 2499,
     "status": "ok",
     "timestamp": 1556625636154,
     "user": {
      "displayName": "Alexander Dowling",
      "photoUrl": "https://lh3.googleusercontent.com/-LChdQ2m5OQE/AAAAAAAAAAI/AAAAAAAAAA0/JeXJe4vQJ7M/s64/photo.jpg",
      "userId": "00988067626794866502"
     },
     "user_tz": 240
    },
    "id": "lMKzW_qnG1zF",
    "outputId": "1c8a1942-b808-4d17-e48b-fcf41b7fccdf"
   },
   "outputs": [
    {
     "data": {
      "image/png": "[encoded data removed]",
      "text/plain": [
       "<Figure size 432x288 with 1 Axes>"
      ]
     },
     "metadata": {
      "needs_background": "light"
     },
     "output_type": "display_data"
    },
    {
     "data": {
      "image/png": "[encoded data removed]",
      "text/plain": [
       "<Figure size 432x288 with 1 Axes>"
      ]
     },
     "metadata": {
      "needs_background": "light"
     },
     "output_type": "display_data"
    }
   ],
   "source": [
    "RHS = lambda y,t: -y\n",
    "Delta_t = np.array([1.0,.5,.25,.125,.0625,.0625/2])\n",
    "t_final = 2\n",
    "error = np.zeros(Delta_t.size)\n",
    "t_fine = np.linspace(0,t_final,100)\n",
    "count = 0\n",
    "for d in Delta_t:\n",
    "    t,y = forward_euler(RHS,1,d,t_final/d)\n",
    "    plt.plot(t,y,label=\"$\\Delta t$ = \" + str(d))\n",
    "    error[count] = np.linalg.norm((y-np.exp(-t)))/np.sqrt(t_final/d)\n",
    "    count += 1\n",
    "plt.plot(t_fine,np.exp(-t_fine),linewidth=3,color=\"black\",label=\"Exact Solution\")\n",
    "plt.xlabel(\"t\")\n",
    "plt.ylabel(\"y(t)\")\n",
    "plt.legend()\n",
    "plt.title(\"Solution with $\\Delta t$ = \" + str(Delta_t))\n",
    "plt.show()\n",
    "plt.loglog(Delta_t,error,'o-',color=\"blue\")\n",
    "slope = (np.log(error[-1]) - np.log(error[-2]))/(np.log(Delta_t[-1])- np.log(Delta_t[-2]))\n",
    "plt.title(\"Slope of Error is \" + str(slope))\n",
    "plt.xlabel(\"$\\Delta t$\")\n",
    "plt.ylabel(\"Norm of Error\")\n",
    "plt.show()"
   ]
  },
  {
   "cell_type": "markdown",
   "metadata": {
    "colab_type": "text",
    "id": "_AevZOmQG1zH"
   },
   "source": [
    "Notice that the error indicates that this is a first-order method in $\\Delta t$: when I decrease $\\Delta t$ by a factor of 2, the error decreases by a factor of 2.  In this case we measured the error with a slightly different error norm:\n",
    "\n",
    "$$\\mathrm{Error} = \\frac{1}{\\sqrt{N}}\\sqrt{\\sum_{n=1}^{N} \\left(y^n_\\mathrm{approx} - y^n_\\mathrm{exact}\\right)^2},$$\n",
    "\n",
    "where $N$ is the number of steps the ODE is solved over."
   ]
  },
  {
   "cell_type": "markdown",
   "metadata": {},
   "source": [
    "<div class=\"admonition seealso\"> \n",
    "<p class=\"title\"><b>Home Activity</b></p>\n",
    " For this test problem, why does the numeric solution always appear to underestimate the exact solution? Why is the approximation worse with larger $\\Delta t$. Write 2 or 3 sentences below.\n",
    "</div>"
   ]
  },
  {
   "cell_type": "markdown",
   "metadata": {},
   "source": [
    "**Home Activity Answer**:"
   ]
  },
  {
   "cell_type": "markdown",
   "metadata": {},
   "source": [
    "<div class=\"admonition note\"> \n",
    "<p class=\"title\"><b>Class Activity</b></p>\n",
    " Discuss your answer with a partner.\n",
    "</div>"
   ]
  },
  {
   "cell_type": "markdown",
   "metadata": {
    "colab_type": "text",
    "id": "nFcrQmXYG1zM",
    "tags": []
   },
   "source": [
    "## Backward (Implicit) Euler"
   ]
  },
  {
   "cell_type": "markdown",
   "metadata": {
    "colab_type": "text",
    "id": "oWPLnTnEG1zN"
   },
   "source": [
    "## Main Idea"
   ]
  },
  {
   "cell_type": "markdown",
   "metadata": {
    "colab_type": "text",
    "id": "gRJVdQ-LG1zN"
   },
   "source": [
    "We could use a different method to integrate our original ODE rather than the left-hand rectangle rule.  An obvious alternative is the right-hand rectangle rule:\n",
    "\n",
    "$$y^{n+1} = y^n + \\Delta t f(y^{n+1}, t^{n+1}).$$\n",
    "\n",
    "This method is called the backward Euler method or the implicit Euler method.  Graphically, this method looks like:"
   ]
  },
  {
   "cell_type": "code",
   "execution_count": 11,
   "metadata": {
    "colab": {
     "base_uri": "https://localhost:8080/",
     "height": 317
    },
    "colab_type": "code",
    "executionInfo": {
     "elapsed": 2791,
     "status": "ok",
     "timestamp": 1556625636463,
     "user": {
      "displayName": "Alexander Dowling",
      "photoUrl": "https://lh3.googleusercontent.com/-LChdQ2m5OQE/AAAAAAAAAAI/AAAAAAAAAA0/JeXJe4vQJ7M/s64/photo.jpg",
      "userId": "00988067626794866502"
     },
     "user_tz": 240
    },
    "id": "oFj2FabQG1zO",
    "outputId": "a2ffc35f-df81-407f-ecf6-84b0f9118cea"
   },
   "outputs": [
    {
     "data": {
      "image/png": "[encoded data removed]",
      "text/plain": [
       "<Figure size 432x288 with 1 Axes>"
      ]
     },
     "metadata": {
      "needs_background": "light"
     },
     "output_type": "display_data"
    }
   ],
   "source": [
    "#graphical example\n",
    "f = lambda x: (x-3)*(x-5)*(x-7)+110\n",
    "x = np.linspace(0,10,100)\n",
    "plt.plot(x,f(x),label=\"f(x)\",color=\"blue\")\n",
    "ax = plt.gca()\n",
    "a = 2\n",
    "b = 8\n",
    "verts = [(a,0),(a,f(b)), (b,f(b)),(b,0)]\n",
    "poly = Polygon(verts, facecolor='0.9', edgecolor='k')\n",
    "ax.add_patch(poly)\n",
    "ax.set_xticks((a,b))\n",
    "ax.set_xticklabels(('0','$\\Delta t$'))\n",
    "plt.xlabel(\"t\")\n",
    "plt.ylabel(\"f(t)\")\n",
    "plt.title(\"Right-hand Rectangle Rule\")\n",
    "plt.show()"
   ]
  },
  {
   "cell_type": "markdown",
   "metadata": {
    "colab_type": "text",
    "id": "NO2DgVZMG1zQ"
   },
   "source": [
    "It is implicit because the update is implicitly defined by evaluating $f$ with the value of $y$ we're trying to solve for. That means the update needs to solve the equation\n",
    "\n",
    "$$ y^{n+1} - y^{n} - \\Delta t f(y^{n+1},t^{n+1}) = 0,$$\n",
    "\n",
    "using a nonlinear solver (unless $f$ is linear in $y$).  Therefore, this method is a bit harder to implement, but still fairly simple."
   ]
  },
  {
   "cell_type": "markdown",
   "metadata": {},
   "source": [
    "<div class=\"admonition seealso\"> \n",
    "<p class=\"title\"><b>Home Activity</b></p>\n",
    " Spend 5 minutes reviewing your notes from the Chapter 4 Newton Methods notebooks.\n",
    "</div>"
   ]
  },
  {
   "cell_type": "markdown",
   "metadata": {},
   "source": [
    "The main algorithm to apply forward and backward Euler to a problem is [essentially the same](../06/Newton-Raphson-Method-in-One-Dimension.ipynb). With forward Euler, we could explicitly compute the next step $y^{n+1}$ with a simple formula. For backward Euler, we need to solve a system of equations."
   ]
  },
  {
   "cell_type": "markdown",
   "metadata": {
    "colab_type": "text",
    "id": "fWSYwLlVG1zQ"
   },
   "source": [
    "## Python Implementation"
   ]
  },
  {
   "cell_type": "markdown",
   "metadata": {},
   "source": [
    "<div class=\"admonition seealso\"> \n",
    "<p class=\"title\"><b>Home Activity</b></p>\n",
    " Complete the function below. In the commented out spot, you'll need to solve a nonlinear equation to calculate $y^{n+1}$. Hints: You want to write two lines of code. The <b>first line</b> will use a lambda function to define the nonlinear equation to be solved. The <b>second line</b> will call <tt>inexact_newton</tt> to solve the system and store the answer in <tt>y[n]</tt>. <b>Read these instructions again carefully.</b>\n",
    "</div>"
   ]
  },
  {
   "cell_type": "code",
   "execution_count": 12,
   "metadata": {
    "colab": {},
    "colab_type": "code",
    "id": "6J5wpbVjG1zR",
    "tags": []
   },
   "outputs": [],
   "source": [
    "def inexact_newton(f,x0,delta = 1.0e-7, epsilon=1.0e-6, LOUD=False):\n",
    "    \"\"\"Find the root of the function f via Newton-Raphson method\n",
    "    Args:\n",
    "        f: function to find root of\n",
    "        x0: initial guess\n",
    "        delta: finite difference parameter\n",
    "        epsilon: tolerance\n",
    "        \n",
    "    Returns:\n",
    "        estimate of root\n",
    "    \"\"\"\n",
    "    x = x0\n",
    "    if (LOUD):\n",
    "        print(\"x0 =\",x0)\n",
    "    iterations = 0\n",
    "    while (np.fabs(f(x)) > epsilon):\n",
    "        fx = f(x)\n",
    "        fxdelta = f(x+delta)\n",
    "        slope = (fxdelta - fx)/delta\n",
    "        if (LOUD):\n",
    "            print(\"x_\",iterations+1,\"=\",x,\"-\",fx,\"/\",slope,\"=\",x - fx/slope)\n",
    "        x = x - fx/slope\n",
    "        iterations += 1\n",
    "    if LOUD:\n",
    "        print(\"It took\",iterations,\"iterations\")\n",
    "    return x #return estimate of root\n",
    "\n",
    "def backward_euler(f,y0,Delta_t,numsteps,LOUD=False):\n",
    "    \"\"\"Perform numsteps of the backward euler method starting at y0\n",
    "    of the ODE y'(t) = f(y,t)\n",
    "    Args:\n",
    "        f: function to integrate takes arguments y,t\n",
    "        y0: initial condition\n",
    "        Delta_t: time step size\n",
    "        numsteps: number of time steps\n",
    "        \n",
    "    Returns:\n",
    "        a numpy array of the times and a numpy\n",
    "        array of the solution at those times\n",
    "    \"\"\"\n",
    "    numsteps = int(numsteps)\n",
    "    y = np.zeros(numsteps+1)\n",
    "    t = np.arange(numsteps+1)*Delta_t\n",
    "    y[0] = y0\n",
    "    for n in range(1,numsteps+1):\n",
    "        if LOUD:\n",
    "            print(\"\\nt =\",t[n])\n",
    "            \n",
    "        # Add your solution here\n",
    "        if LOUD:\n",
    "            print(\"y =\",y[n])\n",
    "    return t, y"
   ]
  },
  {
   "cell_type": "markdown",
   "metadata": {
    "colab_type": "text",
    "id": "Cjk9XvQEG1zT"
   },
   "source": [
    "Now let's test our code using the simple problem from above."
   ]
  },
  {
   "cell_type": "code",
   "execution_count": 13,
   "metadata": {
    "colab": {
     "base_uri": "https://localhost:8080/",
     "height": 731
    },
    "colab_type": "code",
    "executionInfo": {
     "elapsed": 3259,
     "status": "ok",
     "timestamp": 1556625636939,
     "user": {
      "displayName": "Alexander Dowling",
      "photoUrl": "https://lh3.googleusercontent.com/-LChdQ2m5OQE/AAAAAAAAAAI/AAAAAAAAAA0/JeXJe4vQJ7M/s64/photo.jpg",
      "userId": "00988067626794866502"
     },
     "user_tz": 240
    },
    "id": "wI2L_mtuG1zT",
    "outputId": "daff762a-26c0-4d46-b465-c158de1160f0"
   },
   "outputs": [
    {
     "name": "stdout",
     "output_type": "stream",
     "text": [
      "\n",
      "t = 0.1\n",
      "x0 = 1.0\n",
      "x_ 1 = 1.0 - 0.1 / 1.1000000006700095 = 0.9090909091462818\n",
      "It took 1 iterations\n",
      "y = 0.9090909091462818\n",
      "\n",
      "t = 0.2\n",
      "x0 = 0.9090909091462818\n",
      "x_ 1 = 0.9090909091462818 - 0.09090909091462818 / 1.0999999994210086 = 0.8264462809985739\n",
      "It took 1 iterations\n",
      "y = 0.8264462809985739\n",
      "\n",
      "t = 0.30000000000000004\n",
      "x0 = 0.8264462809985739\n",
      "x_ 1 = 0.8264462809985739 - 0.0826446280998574 / 1.0999999994210086 = 0.7513148008682485\n",
      "It took 1 iterations\n",
      "y = 0.7513148008682485\n",
      "\n",
      "t = 0.4\n",
      "x0 = 0.7513148008682485\n",
      "x_ 1 = 0.7513148008682485 - 0.07513148008682485 / 1.0999999994210086 = 0.6830134552988206\n",
      "It took 1 iterations\n",
      "y = 0.6830134552988206\n"
     ]
    },
    {
     "data": {
      "image/png": "[encoded data removed]",
      "text/plain": [
       "<Figure size 432x288 with 1 Axes>"
      ]
     },
     "metadata": {
      "needs_background": "light"
     },
     "output_type": "display_data"
    }
   ],
   "source": [
    "RHS = lambda y,t: -y\n",
    "Delta_t = 0.1\n",
    "t_final = 0.4\n",
    "t,y = backward_euler(RHS,1,Delta_t,t_final/Delta_t,True)\n",
    "plt.plot(t,y,'-',label=\"Backward Euler\",color=\"red\",marker=\"s\",markersize=4)\n",
    "t_fine = np.linspace(0,t_final,100)\n",
    "plt.plot(t_fine,np.exp(-t_fine),label=\"Exact Solution\",color=\"black\")\n",
    "plt.xlabel(\"t\")\n",
    "plt.ylabel(\"y(t)\")\n",
    "plt.legend()\n",
    "plt.title(\"Solution with $\\Delta t$ = \" + str(Delta_t))\n",
    "plt.show()"
   ]
  },
  {
   "cell_type": "markdown",
   "metadata": {},
   "source": [
    "<div class=\"admonition danger\"> \n",
    "<b>Important</b>: Test your function with both <tt>LOUD=True</tt> and <tt>LOUD=False</tt> options. You should get the same answer.\n",
    "</div>"
   ]
  },
  {
   "cell_type": "markdown",
   "metadata": {},
   "source": [
    "Your function in the last home activity works if it computes the following values:\n",
    "\n",
    "| t | y |\n",
    "| - | - |\n",
    "| 0.0 | 1.0 |\n",
    "| 0.1 | 0.9090909091462818 |\n",
    "| 0.2 | 0.8264462809985739 |\n",
    "| 0.3 | 0.7513148008682485 |\n",
    "| 0.4 | 0.6830134552988206 |"
   ]
  },
  {
   "cell_type": "code",
   "execution_count": 14,
   "metadata": {
    "nbgrader": {
     "grade": true,
     "grade_id": "c-ii",
     "locked": true,
     "points": "0.2",
     "solution": false
    },
    "tags": []
   },
   "outputs": [],
   "source": [
    "# Removed autograder test. You may delete this cell."
   ]
  },
  {
   "cell_type": "markdown",
   "metadata": {
    "colab_type": "text",
    "id": "kIHUQQqhG1zV"
   },
   "source": [
    "## Impact of Step Size on Integration Error"
   ]
  },
  {
   "cell_type": "markdown",
   "metadata": {},
   "source": [
    "Perhaps you've detected a pattern. After we implement and test a numerical method, we often want to know how the error rate changes with step size. As a first look, let's conduct a computational experiment with the same test problem."
   ]
  },
  {
   "cell_type": "code",
   "execution_count": 15,
   "metadata": {
    "colab": {
     "base_uri": "https://localhost:8080/",
     "height": 601
    },
    "colab_type": "code",
    "executionInfo": {
     "elapsed": 4084,
     "status": "ok",
     "timestamp": 1556625637770,
     "user": {
      "displayName": "Alexander Dowling",
      "photoUrl": "https://lh3.googleusercontent.com/-LChdQ2m5OQE/AAAAAAAAAAI/AAAAAAAAAA0/JeXJe4vQJ7M/s64/photo.jpg",
      "userId": "00988067626794866502"
     },
     "user_tz": 240
    },
    "id": "D0czTz97G1zW",
    "outputId": "fd1ae2b6-e166-4ec9-cede-9661411fa54e"
   },
   "outputs": [
    {
     "data": {
      "image/png": "[encoded data removed]",
      "text/plain": [
       "<Figure size 432x288 with 1 Axes>"
      ]
     },
     "metadata": {
      "needs_background": "light"
     },
     "output_type": "display_data"
    },
    {
     "data": {
      "image/png": "[encoded data removed]",
      "text/plain": [
       "<Figure size 432x288 with 1 Axes>"
      ]
     },
     "metadata": {
      "needs_background": "light"
     },
     "output_type": "display_data"
    }
   ],
   "source": [
    "RHS = lambda y,t: -y\n",
    "Delta_t = np.array([1.0,.5,.25,.125,.0625,.0625/2])\n",
    "t_final = 2\n",
    "error = np.zeros(Delta_t.size)\n",
    "t_fine = np.linspace(0,t_final,100)\n",
    "count = 0\n",
    "for d in Delta_t:\n",
    "    t,y = backward_euler(RHS,1,d,t_final/d)\n",
    "    plt.plot(t,y,label=\"$\\Delta t$ = \" + str(d))\n",
    "    error[count] = np.linalg.norm((y-np.exp(-t)))/np.sqrt(t_final/d)\n",
    "    count += 1\n",
    "plt.plot(t_fine,np.exp(-t_fine),linewidth=3,color=\"black\",label=\"Exact Solution\")\n",
    "plt.xlabel(\"t\")\n",
    "plt.ylabel(\"y(t)\")\n",
    "plt.legend()\n",
    "plt.title(\"Solution with $\\Delta t$ = \" + str(Delta_t))\n",
    "plt.show()\n",
    "plt.loglog(Delta_t,error,'o-',color=\"red\")\n",
    "slope = (np.log(error[-1]) - np.log(error[-2]))/(np.log(Delta_t[-1])- np.log(Delta_t[-2]))\n",
    "plt.title(\"Slope of Error is \" + str(slope))\n",
    "plt.xlabel(\"$\\Delta t$\")\n",
    "plt.ylabel(\"Norm of Error\")\n",
    "plt.show()"
   ]
  },
  {
   "cell_type": "markdown",
   "metadata": {},
   "source": [
    "A couple of things to notice from the plots: the backward Euler method approaches the solution from above, and the convergence of the error is at the same rate as forward Euler."
   ]
  },
  {
   "cell_type": "markdown",
   "metadata": {},
   "source": [
    "<div class=\"admonition seealso\"> \n",
    "<p class=\"title\"><b>Home Activity</b></p>\n",
    " <i> Exam Practice Question: </i> Above are two plots exploring how the step size impacts the error of the backwards Euler method for the test problem $\\dot{y} = e^{-t},~y(0)=1.0$. Write a sentence to answer each of the following questions. \n",
    "</div>"
   ]
  },
  {
   "cell_type": "markdown",
   "metadata": {},
   "source": [
    "**Home Activity Questions and Answers**\n",
    "1. Why does this method always overapproximate the exact solution? Answer:\n",
    "2. How does the error for this method scale with the step size $\\Delta t$? Answer:"
   ]
  },
  {
   "cell_type": "markdown",
   "metadata": {},
   "source": [
    "<div class=\"admonition note\"> \n",
    "<p class=\"title\"><b>Class Activity</b></p>\n",
    " Share your answer with a partner.\n",
    "</div>"
   ]
  }
 ],
 "metadata": {
  "colab": {
   "name": "L25-Initial-Value-Problems.ipynb",
   "provenance": [],
   "version": "0.3.2"
  },
  "kernelspec": {
   "display_name": "Python 3 (ipykernel)",
   "language": "python",
   "name": "python3"
  },
  "language_info": {
   "codemirror_mode": {
    "name": "ipython",
    "version": 3
   },
   "file_extension": ".py",
   "mimetype": "text/x-python",
   "name": "python",
   "nbconvert_exporter": "python",
   "pygments_lexer": "ipython3",
   "version": "3.9.12"
  }
 },
 "nbformat": 4,
 "nbformat_minor": 4
}
