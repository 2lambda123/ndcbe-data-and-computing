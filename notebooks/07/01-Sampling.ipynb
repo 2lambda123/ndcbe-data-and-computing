{
 "cells": [
  {
   "cell_type": "markdown",
   "metadata": {
    "colab_type": "text",
    "id": "KUdg15uf30TU"
   },
   "source": [
    "# Sampling\n",
    "\n",
    "CBE 20258. Numerical and Statistical Analysis. Spring 2020.\n",
    "\n",
    "&#169; University of Notre Dame."
   ]
  },
  {
   "cell_type": "markdown",
   "metadata": {
    "colab_type": "text",
    "id": "iCqLvLrU30TW"
   },
   "source": [
    "## Learning Objectives\n",
    "\n",
    "After studying this notebook and your notes, completing the activities, asking questions in class, you should be able to:\n",
    "* Give at least three examples of how an engineer would use statistics\n",
    "* Define statistical vocabulary such as population, random sample, etc.\n",
    "* Explain what *statistical independence* means.\n"
   ]
  },
  {
   "cell_type": "markdown",
   "metadata": {},
   "source": [
    "<div style=\"background-color: rgba(255,0,0,0.05) ; padding: 10px; border: 1px solid darkred;\"> \n",
    "<b>Note</b>: The home activities in this chapter are optional and you already completed many of them in Chapter 1. We recommend revisiting these as practice.\n",
    "</div>"
   ]
  },
  {
   "cell_type": "markdown",
   "metadata": {},
   "source": [
    "## Sampling\n",
    "\n",
    "**Further Reading**: §1.1 in Navidi (2015)\n",
    "\n",
    "### Basic Vocabulary and an Example\n",
    "\n",
    "Here is a central procedure that underpins the entire field of statistics:\n",
    "1. Collect a sample of data.\n",
    "2. Analyze the data to infer something about a population.\n",
    "\n",
    "We will make this concrete with an example. Imagine we are researching nutrition and health of college students. We want to know the average caloric intake (calories eaten per day) of the entire undergraduate population at Notre Dame."
   ]
  },
  {
   "cell_type": "markdown",
   "metadata": {},
   "source": [
    "<div style=\"background-color: rgba(0,0,255,0.05) ; padding: 10px; border: 1px solid darkblue;\"> \n",
    "<b>Class Activity</b>: Brainstorm at least two challenges with measuring the caloric intake of the entire student population.\n",
    "</div>"
   ]
  },
  {
   "cell_type": "markdown",
   "metadata": {},
   "source": [
    "**Activity Answer**:"
   ]
  },
  {
   "cell_type": "markdown",
   "metadata": {},
   "source": [
    "For the reasons you just listed and more, we decide it is infeasible to accurately record everything that everyone on campus eats. Instead we decide to randomly select a sample of students and have them record a food diary. Of course, we'll have to train them on how to make accurate measurements, compensate them for their time, and take additional steps at estimate how accuracy of their journal entries.\n",
    "\n",
    "Using this example, let's introduce some vocaburaly:\n",
    "\n",
    "| Definition | Discussion for Our Example |\n",
    "| - | - |\n",
    "| **Population**: The entire collection of objects or outcomes about which information is sought. | We want to know about the eating habits of the entire **ND undergraduate student body**. |\n",
    "| **Sample**: A subset of the population, containing the objects or outcomes that are actually observed. | We ask a **small group of ND undergraduates** to keep a food journal. |\n",
    "| **Simple Random Sample**: A sample that is randomly choosen, where each collection of population items is equally likely to make up the sample. | We decide to randomly select $n$ undergraduate students by **drawing names of our a well-mixed hat**. |\n",
    "| **Convenience Sample**: A sample that is obtained is some convienent way, and not drawn from a well-defined random method. | We decide to **ask a few classes** on campus to keep food journals. |\n",
    "\n",
    "A fundamental limitation of convience samples is that they often introduce systematic biases."
   ]
  },
  {
   "cell_type": "markdown",
   "metadata": {},
   "source": [
    "<div style=\"background-color: rgba(0,0,255,0.05) ; padding: 10px; border: 1px solid darkblue;\"> \n",
    "<b>Class Activity</b>: In two sentences, describe how asking only a few classes to keep food journals could lead us to misguided conclusions about the entire population of ND undergraduates. How would using a random sample help safegaurd against (some) of these biases?\n",
    "</div>"
   ]
  },
  {
   "cell_type": "markdown",
   "metadata": {},
   "source": [
    "**Activity Answer**:"
   ]
  },
  {
   "cell_type": "markdown",
   "metadata": {},
   "source": [
    "Alright, so we randomly select 30 undergraduates and strap Go-Pros to their heads. We painstakingly analyze the videos to verify their food journals are 100% accurate. We then calculate the average caloric intake is 2023.2 kilocalories per day.\n",
    "\n",
    "Is this the true average of the population? In other words, if we somehow measured the caloric intake of the entire ND undergraduate student population, should we expect to the average to be exactly 2023.2 kcal/day?\n",
    "\n",
    "No. Why? Because our sample was randomly selected. Thus we expect to see **sampling variation**. In other words, if we collected another sample from 30 other randomly selected students, we expect a slightly different result. We will soon see how **probability theory** gives us a mathematical framework to quantify this variability."
   ]
  },
  {
   "cell_type": "markdown",
   "metadata": {},
   "source": [
    "### Conceptual versus Tangible Populations\n",
    "\n",
    "There are two types of populations:\n",
    "\n",
    "| Type of Population | Example |\n",
    "| - | - |\n",
    "| **Tangible Population**: A population that is finite. Often a tangible population decreases by one after an object is sampled. | Population of students. |\n",
    "| **Conceptual Population**: A population that is infinite. | An engineer measures the concentration of a mixture five times. The population is the set of all possible outcomes of these five measurements. |"
   ]
  },
  {
   "cell_type": "markdown",
   "metadata": {},
   "source": [
    "<div style=\"background-color: rgba(0,0,255,0.05) ; padding: 10px; border: 1px solid darkblue;\"> \n",
    "<b>Class Activity</b>: With a partner, for each of the following scenarions, i) define the population and ii) state whether it is conceptual or tangible.\n",
    "</div>\n"
   ]
  },
  {
   "cell_type": "markdown",
   "metadata": {},
   "source": [
    "1. A chemical process is run 15 times, and the yield is measured 15 times.\n",
    "2. In a clinical trial to test a new drug that is designed to lower cholesterol, 100 people with high cholesterol levels are recruited to try the new drug."
   ]
  },
  {
   "cell_type": "markdown",
   "metadata": {},
   "source": [
    "**Class Activity Answer**:"
   ]
  },
  {
   "cell_type": "markdown",
   "metadata": {},
   "source": [
    "### Independence\n",
    "\n",
    "The items in a sample are **independent** if knowing the values of some of the items does not help to predict the values of the others. Because tangible populations are finite, samples taken without replacement are not strictly independent. For example, if we choose student \"John Doe\" to keep a food journal, we know that \"John Doe\" will not be chosen again (assuming everyone has a unique name and we are sampling without replacement). But we often treat simple random samples as independent if the sample contains less than 5% of the population."
   ]
  }
 ],
 "metadata": {
  "colab": {
   "name": "L14-Descriptive-Statistics.ipynb",
   "provenance": [],
   "version": "0.3.2"
  },
  "kernelspec": {
   "display_name": "Python 3 (ipykernel)",
   "language": "python",
   "name": "python3"
  },
  "language_info": {
   "codemirror_mode": {
    "name": "ipython",
    "version": 3
   },
   "file_extension": ".py",
   "mimetype": "text/x-python",
   "name": "python",
   "nbconvert_exporter": "python",
   "pygments_lexer": "ipython3",
   "version": "3.9.12"
  }
 },
 "nbformat": 4,
 "nbformat_minor": 4
}
