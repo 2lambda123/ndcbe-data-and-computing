{
 "cells": [
  {
   "cell_type": "markdown",
   "metadata": {
    "colab_type": "text",
    "id": "KUdg15uf30TU"
   },
   "source": [
    "# 03: Visualizing Data\n",
    "\n",
    "CBE 20258. Numerical and Statistical Analysis. Spring 2020.\n",
    "\n",
    "&#169; University of Notre Dame."
   ]
  },
  {
   "cell_type": "markdown",
   "metadata": {
    "colab_type": "text",
    "id": "iCqLvLrU30TW"
   },
   "source": [
    "## Learning Objectives\n",
    "\n",
    "After studying this notebook and your notes, completing the activities, asking questions in class, you should be able to:\n",
    "* Understand how to use scatter plots to display data.\n",
    "* Understand how to use histograms to display data.\n",
    "* Understand how to use boxplots to display data.\n",
    "* Understand the difference between bimodal and multimodal plots."
   ]
  },
  {
   "cell_type": "markdown",
   "metadata": {},
   "source": [
    "## Visualizing Data\n",
    "\n",
    "**Further Reading**: §1.3 in Navidi (2015)"
   ]
  },
  {
   "cell_type": "markdown",
   "metadata": {},
   "source": [
    "There are many ways to visualize data. This semester, we will focus on scatter plots, histograms, and boxplots. We will use matplotlib."
   ]
  },
  {
   "cell_type": "code",
   "execution_count": 1,
   "metadata": {},
   "outputs": [],
   "source": [
    "import matplotlib.pyplot as plt"
   ]
  },
  {
   "cell_type": "markdown",
   "metadata": {},
   "source": [
    "### Scatter Plots"
   ]
  },
  {
   "cell_type": "markdown",
   "metadata": {},
   "source": [
    "We already learned how to make a scatter plot in matplotlib."
   ]
  },
  {
   "cell_type": "code",
   "execution_count": 2,
   "metadata": {},
   "outputs": [
    {
     "ename": "NameError",
     "evalue": "name 'exam1' is not defined",
     "output_type": "error",
     "traceback": [
      "\u001b[0;31m---------------------------------------------------------------------------\u001b[0m",
      "\u001b[0;31mNameError\u001b[0m                                 Traceback (most recent call last)",
      "Input \u001b[0;32mIn [2]\u001b[0m, in \u001b[0;36m<cell line: 1>\u001b[0;34m()\u001b[0m\n\u001b[0;32m----> 1\u001b[0m plt\u001b[38;5;241m.\u001b[39mplot(\u001b[43mexam1\u001b[49m\u001b[38;5;241m.\u001b[39mP2,exam1\u001b[38;5;241m.\u001b[39mP3,marker\u001b[38;5;241m=\u001b[39m\u001b[38;5;124m'\u001b[39m\u001b[38;5;124m.\u001b[39m\u001b[38;5;124m'\u001b[39m,linestyle\u001b[38;5;241m=\u001b[39m\u001b[38;5;124m\"\u001b[39m\u001b[38;5;124m \u001b[39m\u001b[38;5;124m\"\u001b[39m)\n\u001b[1;32m      2\u001b[0m plt\u001b[38;5;241m.\u001b[39mxlabel(\u001b[38;5;124m\"\u001b[39m\u001b[38;5;124mScore for P2 [points]\u001b[39m\u001b[38;5;124m\"\u001b[39m)\n\u001b[1;32m      3\u001b[0m plt\u001b[38;5;241m.\u001b[39mylabel(\u001b[38;5;124m\"\u001b[39m\u001b[38;5;124mScore for P3 [points]\u001b[39m\u001b[38;5;124m\"\u001b[39m)\n",
      "\u001b[0;31mNameError\u001b[0m: name 'exam1' is not defined"
     ]
    }
   ],
   "source": [
    "plt.plot(exam1.P2,exam1.P3,marker='.',linestyle=\" \")\n",
    "plt.xlabel(\"Score for P2 [points]\")\n",
    "plt.ylabel(\"Score for P3 [points]\")\n",
    "plt.title(\"Exam 1 Scores\")\n",
    "plt.show()"
   ]
  },
  {
   "cell_type": "markdown",
   "metadata": {},
   "source": [
    "<div style=\"background-color: rgba(0,0,255,0.05) ; padding: 10px; border: 1px solid darkblue;\"> \n",
    "<b>Class Activity</b>: Why do these data appear to line on a grid?\n",
    "</div>"
   ]
  },
  {
   "cell_type": "markdown",
   "metadata": {},
   "source": [
    "### Example: Old Faithful\n",
    "\n",
    "To illustrate key concepts for plotting, we will explore Table 1.6 in Navidi (2015)."
   ]
  },
  {
   "cell_type": "code",
   "execution_count": null,
   "metadata": {},
   "outputs": [],
   "source": [
    "old_faithful = pd.read_csv('table1-6.csv')"
   ]
  },
  {
   "cell_type": "code",
   "execution_count": null,
   "metadata": {},
   "outputs": [],
   "source": [
    "old_faithful.head()"
   ]
  },
  {
   "cell_type": "markdown",
   "metadata": {},
   "source": [
    "This data set has two columns:\n",
    "1. The duration of dormant periods (in minutes).\n",
    "2. Whether the previous erruption was *short* or *long*."
   ]
  },
  {
   "cell_type": "markdown",
   "metadata": {},
   "source": [
    "<div style=\"background-color: rgba(0,255,0,0.05) ; padding: 10px; border: 1px solid darkgreen;\"> \n",
    "    <b>Home Activity</b>: Take a look at the nicely formatted table in the textbook (pg. 32).\n",
    "</div>"
   ]
  },
  {
   "cell_type": "markdown",
   "metadata": {},
   "source": [
    "### Histogram"
   ]
  },
  {
   "cell_type": "markdown",
   "metadata": {},
   "source": [
    "Let's visualize the distribution of dormant periods using a histogram."
   ]
  },
  {
   "cell_type": "code",
   "execution_count": null,
   "metadata": {},
   "outputs": [],
   "source": [
    "plt.hist(old_faithful.Dormancy)\n",
    "plt.xlabel(\"Dormancy (in minutes)\")\n",
    "plt.ylabel(\"Count\")\n",
    "plt.title(\"Old Faithful (Table 1.6)\")\n",
    "plt.show()"
   ]
  },
  {
   "cell_type": "markdown",
   "metadata": {},
   "source": [
    "The horizontal axis of the histogram shows the continous variable of interest. The vertical axis shows the number of observations in each bin. By default, `matplotlib.pylot` uses equal size bins and automatically determines the number of bins. We can, of course, override these options.\n",
    "\n",
    "https://matplotlib.org/3.1.0/api/_as_gen/matplotlib.pyplot.hist.html\n",
    "\n",
    "https://matplotlib.org/3.1.0/gallery/statistics/hist.html\n",
    "\n",
    "For example, let's use 11 bins that go from 40 to 95 minutes to match the textbook. Let's also make the bins 50% transparent (`alpha=0.5`). Finally, we will set `density=True` to normalize by the number of observations and set the color to purple."
   ]
  },
  {
   "cell_type": "code",
   "execution_count": null,
   "metadata": {},
   "outputs": [],
   "source": [
    "plt.hist(old_faithful.Dormancy, bins=11, range=(40, 95),alpha=0.5,density=True,color='purple')\n",
    "plt.xlabel(\"Dormancy (in minutes)\")\n",
    "plt.ylabel(\"Density\")\n",
    "plt.title(\"Old Faithful (Table 1.6)\")\n",
    "plt.show()"
   ]
  },
  {
   "cell_type": "markdown",
   "metadata": {},
   "source": [
    "This plot is **bimodal**. There is one mode between 50 and 55 minutes and a second mode between 80 and 85 minutes. Often, bimodal data are due to not accounting for an important scientific phenomena.\n",
    "\n",
    "Let's split our data based on duration of the previous eruption. We will make two histograms."
   ]
  },
  {
   "cell_type": "code",
   "execution_count": null,
   "metadata": {},
   "outputs": [],
   "source": [
    "# find the elements where Eruption is 'Short'\n",
    "i = old_faithful.Eruption == 'Short'\n",
    "\n",
    "# Create the histogram for short\n",
    "plt.hist(old_faithful.Dormancy[i], bins=11, range=(40, 95),alpha=0.5,density=True,color='red',label='Short')\n",
    "\n",
    "# find the elements where Eruption is 'Long'\n",
    "j = old_faithful.Eruption == 'Long'\n",
    "\n",
    "# Create histogram for long\n",
    "plt.hist(old_faithful.Dormancy[j], bins=11, range=(40, 95),alpha=0.5,density=True,color='blue',label='Short')\n",
    "\n",
    "# Add labels\n",
    "plt.xlabel(\"Dormancy (in minutes)\")\n",
    "plt.ylabel(\"Density\")\n",
    "plt.title(\"Old Faithful (Table 1.6)\")\n",
    "plt.show()"
   ]
  },
  {
   "cell_type": "markdown",
   "metadata": {},
   "source": [
    "Ah ha, we can explain the two modes by accounting for the duration of the previous eruption."
   ]
  },
  {
   "cell_type": "markdown",
   "metadata": {},
   "source": [
    "<div style=\"background-color: rgba(0,0,255,0.05) ; padding: 10px; border: 1px solid darkblue;\"> \n",
    "<b>Class Activity</b>: Make a histogram of the low altitude emissions data set.\n",
    "</div>"
   ]
  },
  {
   "cell_type": "code",
   "execution_count": null,
   "metadata": {},
   "outputs": [],
   "source": [
    "# hint: you can access the data with \n",
    "# low.PM"
   ]
  },
  {
   "cell_type": "markdown",
   "metadata": {},
   "source": [
    "### Boxplot"
   ]
  },
  {
   "cell_type": "markdown",
   "metadata": {},
   "source": [
    "A **boxplots** visualizes the median, first and third quartiles, and any outliers. Here is the basic anatomy of a boxplot:\n",
    "\n",
    "![boxplot](https://miro.medium.com/max/18000/1*2c21SkzJMf3frPXPAR_gZA.png)\n",
    "\n",
    "The **interquartile range** is the difference between the third and first quartiles. Recall, between the first and third quartiles are the middle 50% of the data. Any observations 1.5 times the IQR beyond the first and third quartiles are considers **extreme outliers** and marked with a $*$ or circle on the boxplot.\n",
    "\n",
    "Let's make a boxplot of the Old Faithful data."
   ]
  },
  {
   "cell_type": "code",
   "execution_count": null,
   "metadata": {},
   "outputs": [],
   "source": [
    "# Notice that both the data and labels are in lists,\n",
    "# and the lists have the same length\n",
    "plt.boxplot([old_faithful.Dormancy], labels=['All Data'])\n",
    "plt.ylabel(\"Dormancy (in minutes)\")\n",
    "plt.title(\"Old Faithful (Table 1.6)\")\n",
    "plt.show()"
   ]
  },
  {
   "cell_type": "markdown",
   "metadata": {},
   "source": [
    "The organge line is the median. There are no outliers shown on this boxplot.\n",
    "\n",
    "Now let's make a comparative boxplot."
   ]
  },
  {
   "cell_type": "code",
   "execution_count": null,
   "metadata": {},
   "outputs": [],
   "source": [
    "# find the elements where Eruption is 'Short'\n",
    "i = old_faithful.Eruption == 'Short'\n",
    "\n",
    "# find the elements where Eruption is 'Long'\n",
    "j = old_faithful.Eruption == 'Long'\n",
    "\n",
    "# Create two side-by-side boxplots\n",
    "plt.boxplot([old_faithful.Dormancy[i], old_faithful.Dormancy[j]], labels=['Short','Long'])\n",
    "plt.ylabel(\"Dormancy (in minutes)\")\n",
    "plt.title(\"Old Faithful (Table 1.6)\")\n",
    "plt.show()"
   ]
  },
  {
   "cell_type": "markdown",
   "metadata": {},
   "source": [
    "Now we see some outliers."
   ]
  },
  {
   "cell_type": "markdown",
   "metadata": {},
   "source": [
    "<div style=\"background-color: rgba(0,255,0,0.05) ; padding: 10px; border: 1px solid darkgreen;\"> \n",
    "<b>Optional Home Activity</b>: After class, test your skills by making a comparative boxplot for the low and high altitude emssions data set. Compare your work to Figure 1.15 in Navidi.\n",
    "</div>"
   ]
  },
  {
   "cell_type": "markdown",
   "metadata": {},
   "source": [
    "### Visualization Practice: Exam Scores"
   ]
  },
  {
   "cell_type": "code",
   "execution_count": null,
   "metadata": {},
   "outputs": [],
   "source": [
    "# Cumulative distribution function\n",
    "n = np.arange(0,len(exam1_norm))/len(exam1_norm)\n",
    "plt.plot(exam1_norm['Total'].sort_values()*100,n,color=\"black\",label=\"Total\",linewidth=2)\n",
    "plt.plot(exam1_norm['P1'].sort_values()*100,n,color=\"red\",label=\"P1\",linewidth=2,linestyle=\"--\")\n",
    "plt.plot(exam1_norm['P2'].sort_values()*100,n,color=\"blue\",label=\"P2\",linewidth=2,linestyle=\"--\")\n",
    "plt.plot(exam1_norm['P3'].sort_values()*100,n,color=\"green\",label=\"P3\",linewidth=2,linestyle=\"--\")\n",
    "plt.plot(exam1_norm['P4'].sort_values()*100,n,color=\"purple\",label=\"P4\",linewidth=2,linestyle=\"--\")\n",
    "plt.plot(exam1_norm['P5'].sort_values()*100,n,color=\"orange\",label=\"P5\",linewidth=2,linestyle=\"--\")\n",
    "plt.xlabel(\"Score [%]\")\n",
    "plt.ylabel(\"Fraction of Class\")\n",
    "plt.legend()\n",
    "plt.show()"
   ]
  },
  {
   "cell_type": "code",
   "execution_count": null,
   "metadata": {},
   "outputs": [],
   "source": [
    "# Histogram\n",
    "\n",
    "fig, axes = plt.subplots(nrows=6, ncols=1, figsize=(10,20))\n",
    "ax0, ax1, ax2, ax3, ax4, ax5 = axes.flatten()\n",
    "\n",
    "\n",
    "ax0.hist(exam1_norm['Total'].sort_values()*100,color=\"black\",label=\"Total\")\n",
    "ax0.set_title('Total')\n",
    "\n",
    "ax1.hist(exam1_norm['P1'].sort_values()*100,color=\"red\",label=\"P1\")\n",
    "ax1.set_title('Problem 1')\n",
    "\n",
    "ax2.hist(exam1_norm['P2'].sort_values()*100,color=\"blue\",label=\"P2\")\n",
    "ax2.set_title(\"Problem 2\")\n",
    "\n",
    "ax3.hist(exam1_norm['P3'].sort_values()*100,color=\"green\",label=\"P3\")\n",
    "ax3.set_title('Problem 3')\n",
    "\n",
    "ax4.hist(exam1_norm['P4'].sort_values()*100,color=\"purple\",label=\"P4\")\n",
    "ax4.set_title('Problem 4')\n",
    "\n",
    "ax5.hist(exam1_norm['P5'].sort_values()*100,color=\"orange\",label=\"P5\")\n",
    "ax5.set_title('Problem 5')\n",
    "\n",
    "plt.xlabel(\"Score [%]\")\n",
    "plt.ylabel(\"Fraction of Class\")\n",
    "plt.tight_layout()"
   ]
  },
  {
   "cell_type": "code",
   "execution_count": null,
   "metadata": {},
   "outputs": [],
   "source": [
    "### Boxplot\n",
    "plt.boxplot(exam1_norm.transpose(), labels=exam1_norm.columns)\n",
    "plt.ylabel(\"Score [%]\")\n",
    "plt.show()"
   ]
  }
 ],
 "metadata": {
  "colab": {
   "name": "L14-Descriptive-Statistics.ipynb",
   "provenance": [],
   "version": "0.3.2"
  },
  "kernelspec": {
   "display_name": "Python 3 (ipykernel)",
   "language": "python",
   "name": "python3"
  },
  "language_info": {
   "codemirror_mode": {
    "name": "ipython",
    "version": 3
   },
   "file_extension": ".py",
   "mimetype": "text/x-python",
   "name": "python",
   "nbconvert_exporter": "python",
   "pygments_lexer": "ipython3",
   "version": "3.9.12"
  }
 },
 "nbformat": 4,
 "nbformat_minor": 4
}
