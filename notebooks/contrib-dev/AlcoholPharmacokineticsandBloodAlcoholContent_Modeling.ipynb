{
  "cells": [
    {
      "cell_type": "markdown",
      "metadata": {
        "id": "Z86_V7zJ-JWe"
      },
      "source": [
        "# Alcohol Pharmacokinetics and  Blood Alcohol Content % Modeling\n",
        "\n",
        "Prepared by: Phuong Cao - tcao2@nd.edu and Cleveland Keal - ckeal@nd.edu\n",
        "\n",
        "Team 10\n",
        "\n",
        "Based on Problem 6-7b of Fogler, H. S. (2006). 6. In Elements of chemical reaction engineering (3rd ed., pp. 323–324). essay, Prentice-Hall of India. ISBN 978-0135317082\n",
        "\n",
        "\n",
        "## Problem Description\n",
        "This problem is meant to provide practice for undergraduate students in using coding to model and understand chemical engineering reaction kinetics and have a better understanding of the kinetics of alcohol in the body.\n",
        "\n",
        "Aditionaly, doing this project is a chance to learn and practice solving ODE equation.\n",
        "\n",
        "After working on this project, the students also be more familier using Numpy library which help in constructing array, matrix, and multiple mathematics functions, Scipi library which help in solving integral function more efficiently in this project, and Matplotlib which provides visualization when they graph. "
      ]
    },
    {
      "cell_type": "markdown",
      "metadata": {
        "id": "dqQfTbSOYWuK"
      },
      "source": [
        "**Useful links to review library**\n",
        "1. Numpy\n",
        "\n",
        "    https://ndcbe.github.io/data-and-computing/notebooks/01/NumPy.html?highlight=numpy#getting-started-with-numpy-arrays\n",
        "\n",
        "2. Scipy \n",
        "\n",
        "    https://docs.scipy.org/doc/numpy-1.15.0/user/quickstart.html\n",
        "\n",
        "    https://ndcbe.github.io/data-and-computing/notebooks/04/Linear-Algebra-in-Numpy.html?highlight=scipy#scipy\n",
        "    \n",
        "3. Matplotlib\n",
        "\n",
        "    https://ndcbe.github.io/data-and-computing/notebooks/01/Matplotlib.html#matplotlib-basics\n",
        "\n",
        "    https://ndcbe.github.io/data-and-computing/notebooks/01/Matplotlib.html#customizing-plots\n",
        "    \n",
        "    https://ndcbe.github.io/data-and-computing/notebooks/01/Matplotlib.html#plotting-multiple-lines"
      ]
    },
    {
      "cell_type": "code",
      "execution_count": null,
      "metadata": {
        "id": "0HeZgROq6gnm"
      },
      "outputs": [],
      "source": [
        "import numpy as np\n",
        "import matplotlib.pyplot as plt\n",
        "from scipy import integrate"
      ]
    },
    {
      "cell_type": "markdown",
      "metadata": {
        "id": "QblP7is2GEYt"
      },
      "source": [
        "## Background: Modeling Blood Alcohol Content %\n",
        "\n",
        "Pharmacokinetics concerns the ingestion, distribution, reaction, and elimination reaction of drugs in the body. Consider the application of pharmacokinetics to a common American passtime, drinking.\n",
        "\n",
        "One of the most commonly ordered drinks is a martini, therefore we shall  model changes in Blood alcohol %  after having a given amount of tall martinis.\n",
        "\n",
        "Blood Alcohol Content % (BAC) is a percent value of grams of alcohol per liters of blood, and can be modelded by determining:\n",
        "* The amount of alcohol ingested\n",
        "* the rate you drink the alcohol\n",
        "* How long it takes for the alcohol to leave the intestine and enter the bloodstream.\n",
        "* how long it takes for your body to break down the alcohol\n",
        "\n",
        "We will be using Ordinary Differential Equations (ODEs) to find the kinetics\n",
        "\n",
        "Some important info to solve these problems are: \n",
        "\n",
        "\n",
        "*   Blood Volume(L) is about 8% of the body's weight (kg)\n",
        "*   A tall martini is 150mL and is 30% ABV (Alcohol by Volume)\n",
        "*   The density of alcohol is 789 kg/L\n",
        "*   The legal limit in the U.S. is 0.08% or 0.8 g alcohol per Liter of blood\n",
        "\n",
        "\n"
      ]
    },
    {
      "cell_type": "markdown",
      "metadata": {
        "id": "CNv59kkv2poo"
      },
      "source": [
        "## Analysis"
      ]
    },
    {
      "cell_type": "markdown",
      "metadata": {
        "id": "zEE6J3UhC1vu"
      },
      "source": [
        "### 1A Calculating Alcohol Ingestion\n",
        "\n",
        " \n",
        " Make a function that determines the total amount of alcohol one will drink in a given \"session\"  in units of \\frac{g_{alcohol}}{L_{Blood}} based on martinis drank and body weight.\n",
        "\n",
        "**Watch your units!**\n"
      ]
    },
    {
      "cell_type": "markdown",
      "metadata": {
        "id": "JIpTfjhd2pop"
      },
      "source": [
        "This function helps to etermine the initial alcohol concentration in the intestine based on number of tall martinis drank and body weight(kg)"
      ]
    },
    {
      "cell_type": "code",
      "execution_count": null,
      "metadata": {
        "id": "JxI2t20j93Ap"
      },
      "outputs": [],
      "source": [
        "def drinks(m,n):\n",
        "  ''' Determines the initial alcohol concentration in the intestine based on \n",
        "  # of tall martinis drank and body weight(kg)\n",
        "    Args:\n",
        "\t      n: number of martinis drank\n",
        "\t      m: Body weight (kg)\n",
        "    Returns:\n",
        "        CT: The total amount concentration of alcohol ingested, \n",
        "      Ca0 for the differential equation\n",
        "        '''     \n",
        "  \n",
        "  # add your solution here\n",
        "  ### BEGIN SOLUTION\n",
        "  ABV = 0.3 #unit %\n",
        "  den = 0.78  #unit g/mL   \n",
        "  L_blood = (m * 0.08)\n",
        "  V = (150) * n\n",
        "  Va = V * ABV\n",
        "  g_alcohol = (den * Va)\n",
        "  #### END SOLUTION\n",
        " \n",
        "  CT = g_alcohol/L_blood\n",
        "\n",
        "  return CT"
      ]
    },
    {
      "cell_type": "markdown",
      "metadata": {
        "id": "vCz0zsqbKBgf"
      },
      "source": [
        "### 1B. ODE Equations\n",
        "\n",
        "\n",
        "The Pharmacokinetics of alcohol involves 3 reactions occuring:\n",
        "\n",
        "__1. Rate of alcohol injestion (how fast one drinks or how fast the alcohol enters ones stomach)__\n",
        "\n",
        "\\begin{equation}\n",
        "r_0 ≈ -k_0 \\left[ C_0 \\right]t\n",
        "\\end{equation} \n",
        "rate of injestion into the gastrointestinal tract is a first-order reaction with a specific reaction rate constant of about 10 h-L (h-L is hour litter blood)\n",
        "\n",
        "__2. Rate of alcohol distribution (how fast the alcohol leaves ones stomach and enters the bloodstream)__\n",
        "\\begin{equation}\n",
        "r_1 = -r_0-k_1 \\left[ C_A \\right]\n",
        "\\end{equation}\n",
        "rate of absorption from the gastrointestinal tract into the bloodstream and body is a first-order reaction with a specific reaction rate constant of 10 h-L (h-L is hour litter blood)\n",
        "\n",
        "__3. Rate of alcohol elimination (how fast the breaks down after entering the bloodstream)__\n",
        "\\begin{equation}\n",
        "r_2 = -r_1 - k_2\n",
        "\\end{equation}\n",
        "The rate at which ethanol is broken down in the bloodstream is limited by regeneration of a coenzyme. Consequently, the process may be modeled as a zero-order reaction with a specific reaction rate of 1.92 g/h-L of blood.\n",
        "\n",
        "\n",
        "Make a function that sets up the ODE solver for alcohol entering the stomach(dC0/dt) leaving the intestine (dCa/dt), entering the blood and being broken down (dCb/dt), Then turn it into Blood alcohol % (dBAC/dt) \n",
        "\n",
        "Derive a formula to find Ca, Cb, and BAC using the rate laws, turn in the written work into **Gradescope** \n",
        "\n",
        "Hint: You dont need to use r0 when deriving dCb/dt\n",
        "\n",
        "* [Scipy reaction rate help](https://ndcbe.github.io/data-and-computing/notebooks/07/Example-Reaction-Rates.html)\n",
        "* [Scipy.integrate help](https://docs.scipy.org/doc/scipy/reference/integrate.html#)\n"
      ]
    },
    {
      "cell_type": "code",
      "execution_count": null,
      "metadata": {
        "id": "fu_R4FsO6ej4"
      },
      "outputs": [],
      "source": [
        "def f(t, y):\n",
        "    ''' RHS of differential equation for reaction kinetics\n",
        "    Args:\n",
        "        t: time\n",
        "        y: values for differential questions, [CA, CB, BAC]\n",
        "    Returns:\n",
        "        dydt: first derivation of y w.r.t. t\n",
        "    \n",
        "    '''\n",
        "    # unpack current values of y\n",
        "    C0,CA, CB, BAC = y      \n",
        "    \n",
        "   # dC0 rate constant.\n",
        "    # if statment added so models dont go below 0 \n",
        "    if C0 <= 0:\n",
        "      k0 = 0  \n",
        "    else:\n",
        "      k0 = 10 * t #1/h\n",
        "  \n",
        "   # dCa rate constant \n",
        "    k1 = 10 #1/h\n",
        "\n",
        "    # dCb and dBAC rate constant\n",
        "    # if statment added so models dont go below 0\n",
        "    if BAC <= 0:\n",
        "      k2 = 0 \n",
        "    else:\n",
        "      k2 = 1.92  #g/hL\n",
        "    \n",
        "    #Store equations as a list in the variable dydt\n",
        "    \n",
        "    # Add your solution here  \n",
        "    ### BEGIN SOLUTION\n",
        "    dC0 = -k0 *C0\n",
        "    dCA = (k0*C0) - k1*CA\n",
        "    dCB = k1*CA-k2\n",
        "    dBAC = dCB/100 #%\n",
        "    ### END SOLUTION\n",
        "    dydt = dC0,dCA,dCB,dBAC\n",
        "    \n",
        "    return dydt"
      ]
    },
    {
      "cell_type": "markdown",
      "metadata": {
        "id": "zUVAuNrrEdgP"
      },
      "source": [
        "\n",
        "Discuss in 3-5 sentences what theses ODEs say about the Pharmacokinetics of alcohol.\n"
      ]
    },
    {
      "cell_type": "markdown",
      "metadata": {
        "id": "rFj5qSrOM1H9"
      },
      "source": [
        "**Discussion:**"
      ]
    },
    {
      "cell_type": "markdown",
      "metadata": {
        "id": "-XjcPqq0K6K0"
      },
      "source": [
        "### 1C. BAC modeling: Sobering up\n",
        "\n"
      ]
    },
    {
      "cell_type": "markdown",
      "metadata": {
        "id": "tTT4vyOBN-AE"
      },
      "source": [
        "This function solves the ODE for dCa/dt, dCb/dt, and dBAC/dt that you made in part 1B.\n",
        "\n",
        "**Its important to note that this ODE assumes that a person of \"m\" weight  drinks \"n\" number of drinks on a moderatley full stomach at a given rate then stops.**"
      ]
    },
    {
      "cell_type": "code",
      "execution_count": null,
      "metadata": {
        "id": "HjigLETp9QIi"
      },
      "outputs": [],
      "source": [
        "def SolveODE(CT,tmax,f):\n",
        "\n",
        "  ''' Solves differential equation for reaction kinetics\n",
        "    Args:\n",
        "        CT: initial concentration of C0\n",
        "        tmax: the amount of time passed/ the x value of the model \n",
        "        f: the Setup function for the solver\n",
        "    Returns:\n",
        "        C0: Concentration profile of alcohol in the stomach\n",
        "        CA: Concentration profile of alcohol in the intestine\n",
        "        CB: Concentration profile of alcohol in the blood\n",
        "        BAC: % value of CB\n",
        "    \n",
        "    '''\n",
        "# Initial values\n",
        "  C00 = CT\n",
        "  CA0 = 0.0\n",
        "  CB0 = 0.0 \n",
        "  BAC0 = 0.0\n",
        "  \n",
        "# Bundle initial conditions for ODE solver\n",
        "  y0 = [C00,CA0, CB0, BAC0]\n",
        "  t = np.arange(0, tmax, 0.1)\n",
        "  tspan = [np.min(t), np.max(t)]\n",
        " \n",
        "# Call the ODE solver\n",
        "  soln = integrate.solve_ivp(f, tspan, y0, t_eval=t, method='RK23')\n",
        "\n",
        "# print(soln)\n",
        "  C0 = soln.y[0]\n",
        "  CA = soln.y[1]\n",
        "  CB = soln.y[2]\n",
        "  BAC = soln.y[3]\n",
        "\n",
        "  return C0,CA,CB,BAC,t\n",
        " \n"
      ]
    },
    {
      "cell_type": "markdown",
      "metadata": {
        "id": "euVwk3g2tcXP"
      },
      "source": [
        "This function puts it all together and places the model info into an array."
      ]
    },
    {
      "cell_type": "code",
      "execution_count": null,
      "metadata": {
        "id": "SndkzVLDtfqX"
      },
      "outputs": [],
      "source": [
        "def Model_info (n,m,tmax):\n",
        "  ''' Puts the previous functions together, \n",
        "      puts the information into a single variable array\n",
        "    Args:\n",
        "        n: number of martinis drank\n",
        "\t      m: Body weight (kg)\n",
        "        tmax: the amount of time passed/ the x value of the model \n",
        "        \n",
        "    Returns:\n",
        "        S: The list array of information \n",
        "  '''\n",
        "  Cai = drinks(m,n)\n",
        "  S = SolveODE(Cai,tmax,f)\n",
        "  return S\n"
      ]
    },
    {
      "cell_type": "markdown",
      "metadata": {
        "id": "aPFWWK3CE3l2"
      },
      "source": [
        "A 75kg person drinks 2 tall martinis over the course of an hour (as determined by k0). How long must they wait to drive after the hour of drinking You can do this just by modeling **Ca and BAC or C0 and BAC**. Remember, In most states the legal intoxication limit is 0.08% Blood Alcohol Content (BAC) or 0.8g ethanol for every liter of blood. **Plot the model using a twin axis.\n",
        "* [Twin axis plot help](https://matplotlib.org/stable/gallery/subplots_axes_and_figures/two_scales.html#sphx-glr-gallery-subplots-axes-and-figures-two-scales-py)\n",
        "* [Matplotlib help](https://ndcbe.github.io/data-and-computing/notebooks/01/Matplotlib.html?highlight=matplotlib)\n",
        "\n",
        "*Hint: variable \"C\" is a list containing all of the information you need.*\n",
        "\n",
        "Extra credit: Make 2 twin axis plots. One for Ca and BAC and one for C0 and BAC*"
      ]
    },
    {
      "cell_type": "markdown",
      "metadata": {
        "id": "mptOLBnM2pos"
      },
      "source": [
        "**Answer (after plotting):**"
      ]
    },
    {
      "cell_type": "code",
      "execution_count": null,
      "metadata": {
        "colab": {
          "base_uri": "https://localhost:8080/",
          "height": 658
        },
        "id": "7u4B7OoaL7fq",
        "outputId": "f8823ddc-0c44-4985-cf26-e80f03bac9b9"
      },
      "outputs": [
        {
          "output_type": "stream",
          "name": "stdout",
          "text": [
            "0.0954929536223611\n",
            "\n",
            "\n"
          ]
        },
        {
          "output_type": "display_data",
          "data": {
            "text/plain": [
              "<Figure size 432x288 with 2 Axes>"
            ],
            "image/png": "[encoded data removed]"
          },
          "metadata": {
            "needs_background": "light"
          }
        },
        {
          "output_type": "display_data",
          "data": {
            "text/plain": [
              "<Figure size 432x288 with 2 Axes>"
            ],
            "image/png": "[encoded data removed]"
          },
          "metadata": {
            "needs_background": "light"
          }
        }
      ],
      "source": [
        " # You can change tmax(3) here\n",
        "C = Model_info(2,75,3)\n",
        "\n",
        " # Add your solution here\n",
        " ### BEGIN SOLUTION\n",
        "fig, ax1 = plt.subplots()\n",
        "ax1.set_xlabel('time (hr)')\n",
        "ax1.set_ylabel('CA', color= \"green\")\n",
        "ax1.plot(C[4], C[1], color=\"green\")\n",
        "ax1.tick_params(axis='y', labelcolor=\"green\")\n",
        "ax1.set_xlabel('time (hr)')\n",
        "ax2 = ax1.twinx() \n",
        "ax2.set_ylabel('BAC%', color=\"red\")  \n",
        "ax2.plot(C[4],C[3], color=\"red\")\n",
        "ax2.tick_params(axis='y', labelcolor=\"red\")\n",
        "fig.tight_layout()  \n",
        "plt.title(\"Booze kinetics\")\n",
        "plt.grid(True)\n",
        "max_BAC = max(C[3])\n",
        "fig, ax1 = plt.subplots()\n",
        "ax1.set_xlabel('time (hr)')\n",
        "ax1.set_ylabel('C0', color= \"blue\")\n",
        "ax1.plot(C[4], C[0], color=\"blue\")\n",
        "ax1.tick_params(axis='y', labelcolor=\"blue\")\n",
        "ax1.set_xlabel('time (hr)')\n",
        "ax2 = ax1.twinx() \n",
        "ax2.set_ylabel('BAC%', color=\"red\")  \n",
        "ax2.plot(C[4],C[3], color=\"red\")\n",
        "ax2.tick_params(axis='y', labelcolor=\"red\")\n",
        "fig.tight_layout()  \n",
        "plt.title(\"Booze kinetics\")\n",
        "plt.grid(True)\n",
        "max_BAC = max(C[3])\n",
        "print(max_BAC)\n",
        "print(\"\\n\") \n",
        "plt.show()\n",
        "\n",
        "### END SOLUTION"
      ]
    },
    {
      "cell_type": "markdown",
      "metadata": {
        "id": "C3HXfCDa2-M0"
      },
      "source": [
        "Using the plotted kinetics **Discuss in 3-6 sentences** how long it takes for alcohol to enter the blood stream vs how long it takes for the alcohol to break down. How would BAC change over time if the person weighed more/less? If they drank more/less?\n"
      ]
    },
    {
      "cell_type": "markdown",
      "metadata": {
        "id": "VK-3NOub6R64"
      },
      "source": [
        "**Discussion:**"
      ]
    },
    {
      "cell_type": "markdown",
      "metadata": {
        "id": "KqQHne6ZWe_N"
      },
      "source": [
        "### 2A. Alcohol Poisoning\n",
        "\n",
        "[According to the Cleveland Clinic](https://my.clevelandclinic.org/health/diagnostics/22689-blood-alcohol-content-bac#:~:text=BAC%200.30%25%20to%200.40%25%3A,arrest%20(absence%20of%20breathing).)(No relation), Alcohol Poisoning occurs when you have a Blood Alcohol Content above 0.3%, at that point you start Blacking out and have a potentially lethal amount of alcohol in your blood. Another commonly ordered drink is a shot, which is about 45mL and 40ABV.\n",
        "Therefore, we're going to model how many shots one can drink before poisoning themself. \n",
        "\n",
        "\n"
      ]
    },
    {
      "cell_type": "markdown",
      "metadata": {
        "id": "xINBmJfub4Ll"
      },
      "source": [
        "Rework, the drinks function to calculate Cai for shots"
      ]
    },
    {
      "cell_type": "code",
      "execution_count": null,
      "metadata": {
        "id": "sl6ESBLkcJCl"
      },
      "outputs": [],
      "source": [
        "def drinks(m,n):\n",
        "  ''' Determines the initial alcohol concentration in the intestine based on \n",
        "  # of tall martinis drank and body weight(kg)\n",
        "    Args:\n",
        "\t      n: number of martinis drank\n",
        "\t      m: Body weight (kg)\n",
        "    Returns:\n",
        "       CT: The total amount concentration of alcohol ingested, \n",
        "      Ca0 for the differential equation\n",
        "        '''\n",
        "  # add your solution here\n",
        "  ### BEGIN SOLUTION\n",
        "  ABV = 0.4\n",
        "  blood = (m * 0.08)\n",
        "  den = 0.789#g/mL\n",
        "  V = (45) * n\n",
        "  Va = V * ABV\n",
        "  a = (den * Va)\n",
        "  CT = a/blood     \n",
        "  ### END SOLUTION\n",
        "\n",
        "  return CT"
      ]
    },
    {
      "cell_type": "markdown",
      "metadata": {
        "id": "qPoxjY2mcZk2"
      },
      "source": [
        "### 2B. Alcohol Poisoning Modeling\n",
        "\n",
        "Use the ODE models and kinetics plots to determine how many shots a 60kg person can drink before getting alcohol poisoning *assuming they drink all of the shot within an hour*\n",
        "\n",
        "*Hint: plots and code can be reused*"
      ]
    },
    {
      "cell_type": "markdown",
      "metadata": {
        "id": "V1IAmZZg2pou"
      },
      "source": [
        "**Answer (after graphing):**"
      ]
    },
    {
      "cell_type": "code",
      "execution_count": null,
      "metadata": {
        "colab": {
          "base_uri": "https://localhost:8080/",
          "height": 664
        },
        "id": "VXm7s7KZcyS4",
        "outputId": "d6658854-d2ce-4978-c20e-15a98a41118c"
      },
      "outputs": [
        {
          "output_type": "stream",
          "name": "stdout",
          "text": [
            "0.7779908086843336\n",
            "\n",
            "\n"
          ]
        },
        {
          "output_type": "display_data",
          "data": {
            "text/plain": [
              "<Figure size 432x288 with 2 Axes>"
            ],
            "image/png": "[encoded data removed]"
          },
          "metadata": {
            "needs_background": "light"
          }
        },
        {
          "output_type": "display_data",
          "data": {
            "text/plain": [
              "<Figure size 432x288 with 2 Axes>"
            ],
            "image/png": "[encoded data removed]"
          },
          "metadata": {
            "needs_background": "light"
          }
        }
      ],
      "source": [
        " # Change n,m and tmax here\n",
        "C = Model_info(11,60,3)\n",
        "\n",
        " # Add your solution here\n",
        " ### BEGIN SOLUTION\n",
        "fig, ax1 = plt.subplots()\n",
        "ax1.set_xlabel('time (hr)')\n",
        "ax1.set_ylabel('CA', color= \"green\")\n",
        "ax1.plot(C[4], C[1], color=\"green\")\n",
        "ax1.tick_params(axis='y', labelcolor=\"green\")\n",
        "ax1.set_xlabel('time (hr)')\n",
        "ax2 = ax1.twinx()  \n",
        "ax2.set_ylabel('BAC%', color=\"red\")  \n",
        "ax2.plot(C[4],C[3], color=\"red\")\n",
        "ax2.tick_params(axis='y', labelcolor=\"red\")\n",
        "fig.tight_layout()  \n",
        "plt.title(\"Booze kinetics\")\n",
        "plt.grid(True)\n",
        "max_BAC = max(C[3])\n",
        "fig, ax1 = plt.subplots() \n",
        "ax1.set_xlabel('time (hr)')\n",
        "ax1.set_ylabel('C0', color= \"blue\")\n",
        "ax1.plot(C[4], C[0], color=\"blue\")\n",
        "ax1.tick_params(axis='y', labelcolor=\"blue\")\n",
        "ax1.set_xlabel('time (hr)')\n",
        "ax2 = ax1.twinx() \n",
        "ax2.set_ylabel('BAC%', color=\"red\")  \n",
        "ax2.plot(C[4],C[3], color=\"red\")\n",
        "ax2.tick_params(axis='y', labelcolor=\"red\")\n",
        "fig.tight_layout()  \n",
        "plt.title(\"Booze kinetics\")\n",
        "plt.grid(True)\n",
        "max_BAC = max(C[3])\n",
        "print(max_BAC)\n",
        "print(\"\\n\") \n",
        "plt.show()\n",
        "### END SOLUTION"
      ]
    },
    {
      "cell_type": "markdown",
      "metadata": {
        "id": "BBnIfGlbiECT"
      },
      "source": [
        "Some people can develop a tolerance to alcohol. So  they may not feel the same  effects of alcohol even after drinking the same amount they used to drink. This doesn’t mean their BAC is lower. It just means they experience the effects of alcohol differently.\n",
        "\n",
        "Discuss, in 3-5 sentences, why that might be the case, and why weight does affect ones BAC."
      ]
    },
    {
      "cell_type": "markdown",
      "metadata": {
        "id": "jILMmNSskVhk"
      },
      "source": [
        "**Discussion:**"
      ]
    },
    {
      "cell_type": "markdown",
      "metadata": {
        "id": "FB5Vk9Sild8M"
      },
      "source": [
        "### 3A. Pharmacokinetics factors\n",
        "\n",
        "Given what you now know about how BAC changes over time and how weight and number of drinks affect those kinetics, we will now explore other factors that affect those kinetics\n",
        "\n",
        "1. The rate at which one drinks (k0)\n",
        "2. How much one eats before drinking (k1)\n",
        "\n",
        "  \"Thus, alcohol consumed after a heavy meal is released to the duodenum\n",
        "slowly, reducing the rate of absorption and thereby attenuating the subsequent blood alcohol curve.\" \n",
        "\n",
        "  *Source:(Gentry, R.T. (2000), Effect of Food on the Pharmacokinetics of Alcohol Absorption. Alcoholism: Clinical and Experimental Research, 24: 403-404. https://doi.org/10.1111/j.1530-0277.2000.tb01996.x)*\n",
        "\n",
        "\n",
        "Change the \"f\" function to account for someone drinking faster/slower and having more/less food in ones stomach before drinking and model how that affects the BAC over time *under the same n and m values*. **Discuss those effects in 3-5 sentences.**"
      ]
    },
    {
      "cell_type": "code",
      "execution_count": null,
      "metadata": {
        "id": "mm5n_n1mDmBJ"
      },
      "outputs": [],
      "source": [
        "def f(t, y):\n",
        "    ''' RHS of differential equation for reaction kinetics\n",
        "    Args:\n",
        "        t: time\n",
        "        y: values for differential questions, [CA, CB, BAC]\n",
        "    Returns:\n",
        "        dydt: first derivation of y w.r.t. t\n",
        "    \n",
        "    '''\n",
        "    # unpack current values of y\n",
        "    C0,CA, CB, BAC = y      \n",
        "  \n",
        "   # dC0 rate constant. \n",
        "   #How fast is one drinking? Define parameters here\n",
        "    if C0 <= 0:\n",
        "      k0 = 0 \n",
        "    else:\n",
        "      k0 = 10 * t #1/h\n",
        "\n",
        "   # dCa rate constant.\n",
        "   #How much did one eat? Define parameters here\n",
        "    k1 = 10 #1/h\n",
        "    # dCb and dBAC rate constant\n",
        "    # if statment added so they dont go below 0\n",
        "    if BAC <= 0:\n",
        "      k2 = 0 \n",
        "    else:\n",
        "      k2 = 1.92  #g/hL\n",
        "    \n",
        "    #Store equations as a list in the variable dydt\n",
        "    \n",
        "    # Add your solution here  \n",
        "    ### BEGIN SOLUTION\n",
        "    dC0 = -k0 *C0\n",
        "    dCA = (k0*C0) - k1*CA\n",
        "    dCB = k1*CA-k2\n",
        "    dBAC = dCB/100 #%\n",
        "    dydt = dC0,dCA,dCB,dBAC\n",
        "    ### END SOLUTION\n",
        "\n",
        "    return dydt"
      ]
    },
    {
      "cell_type": "code",
      "execution_count": null,
      "metadata": {
        "colab": {
          "base_uri": "https://localhost:8080/",
          "height": 661
        },
        "id": "hYEyhOgwLIqD",
        "outputId": "cfeaade7-463e-4501-8cae-fa9482a40bf7"
      },
      "outputs": [
        {
          "name": "stdout",
          "output_type": "stream",
          "text": [
            "0.15489696767904365\n",
            "\n",
            "\n"
          ]
        },
        {
          "data": {
            "image/png": "[encoded data removed]",
            "text/plain": [
              "<Figure size 432x288 with 2 Axes>"
            ]
          },
          "metadata": {
            "needs_background": "light"
          },
          "output_type": "display_data"
        },
        {
          "data": {
            "image/png": "[encoded data removed]",
            "text/plain": [
              "<Figure size 432x288 with 2 Axes>"
            ]
          },
          "metadata": {
            "needs_background": "light"
          },
          "output_type": "display_data"
        }
      ],
      "source": [
        " #add input values into the function\n",
        "C = Model_info(10,100,6)\n",
        "\n",
        "# Add your solution here\n",
        "### BEGIN SOLUTION\n",
        "fig, ax1 = plt.subplots()\n",
        "ax1.set_xlabel('time (hr)')\n",
        "ax1.set_ylabel('CA', color= \"green\")\n",
        "ax1.plot(C[4], C[1], color=\"green\")\n",
        "ax1.tick_params(axis='y', labelcolor=\"green\")\n",
        "ax1.set_xlabel('time (hr)')\n",
        "ax2 = ax1.twinx() \n",
        "ax2.set_ylabel('BAC%', color=\"red\")  \n",
        "ax2.plot(C[4],C[3], color=\"red\")\n",
        "ax2.tick_params(axis='y', labelcolor=\"red\")\n",
        "fig.tight_layout()  \n",
        "plt.title(\"Booze kinetics\")\n",
        "plt.grid(True)\n",
        "max_BAC = max(C[3])\n",
        "fig, ax1 = plt.subplots()\n",
        "ax1.set_xlabel('time (hr)')\n",
        "ax1.set_ylabel('C0', color= \"blue\")\n",
        "ax1.plot(C[4], C[0], color=\"blue\")\n",
        "ax1.tick_params(axis='y', labelcolor=\"blue\")\n",
        "ax1.set_xlabel('time (hr)')\n",
        "ax2 = ax1.twinx()  \n",
        "ax2.set_ylabel('BAC%', color=\"red\")  \n",
        "ax2.plot(C[4],C[3], color=\"red\")\n",
        "ax2.tick_params(axis='y', labelcolor=\"red\") \n",
        "fig.tight_layout()  \n",
        "plt.title(\"Booze kinetics\")\n",
        "plt.grid(True)\n",
        "max_BAC = max(C[3])\n",
        "print(max_BAC)\n",
        "print(\"\\n\") \n",
        "plt.show()\n",
        "### END SOLUTION"
      ]
    },
    {
      "cell_type": "markdown",
      "metadata": {
        "id": "QYczsCo2_iqV"
      },
      "source": [
        "### 3B. Final Discussion\n",
        "Given what you now know about how BAC changes over time and what affects those changes. Discuss in 1-3 sentences how your BAC will/wont change over the various scenarios:\n",
        "\n",
        "\n",
        "1. Drank on an empty stomach\n",
        "2. One drank everything over the course of 5 hours instead of all at once\n",
        "3. You drank water in between drinks **But drinks at the same rate** (*Trick Question: Water doesnt nessecarily change your BAC, it just stops you from drinking too much too fast*)\n",
        "\n",
        "\n",
        "Even if the amount one drinks doesnt change.\n"
      ]
    },
    {
      "cell_type": "markdown",
      "metadata": {
        "id": "-VK2faIvpSvj"
      },
      "source": [
        "**Discussion:**"
      ]
    },
    {
      "cell_type": "markdown",
      "metadata": {
        "id": "1AQYs1r4jA0N"
      },
      "source": [
        "Reminder: Drink Responsibly!"
      ]
    }
  ],
  "metadata": {
    "colab": {
      "collapsed_sections": [
        "vCz0zsqbKBgf",
        "KqQHne6ZWe_N"
      ],
      "provenance": []
    },
    "kernelspec": {
      "display_name": "Python 3",
      "name": "python3"
    },
    "language_info": {
      "name": "python"
    }
  },
  "nbformat": 4,
  "nbformat_minor": 0
}