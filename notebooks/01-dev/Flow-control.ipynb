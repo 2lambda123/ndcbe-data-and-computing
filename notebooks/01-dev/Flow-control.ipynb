{
 "cells": [
  {
   "cell_type": "markdown",
   "metadata": {
    "colab_type": "text",
    "id": "lcbP21Z7zep4"
   },
   "source": [
    "# Python Basics II: Loopy Logic\n",
    "\n",
    "**Reference**: Chapter 2 of *Computational Nuclear Engineering and Radiological Science Using Python*, R. McClarren (2018)"
   ]
  },
  {
   "cell_type": "markdown",
   "metadata": {},
   "source": [
    "## Learning Objectives\n",
    "\n",
    "After studying this notebook, completing the activities, and asking questions in class, you should be able to:\n",
    "* Write and execute an if statement.\n",
    "* Write and execute a while loop.\n",
    "* Distinguish between when to use an if statement vs. a while loop."
   ]
  },
  {
   "cell_type": "markdown",
   "metadata": {
    "colab_type": "text",
    "id": "LCciHuDFzerw"
   },
   "source": [
    "## If Statements"
   ]
  },
  {
   "cell_type": "markdown",
   "metadata": {
    "colab_type": "text",
    "id": "4uw2c8PDzerw"
   },
   "source": [
    "Sometimes you want to execute code differently based on the value of a certain variable.  This is most commonly done in if - else constructs.  Here's an example"
   ]
  },
  {
   "cell_type": "code",
   "execution_count": 1,
   "metadata": {
    "colab": {
     "base_uri": "https://localhost:8080/",
     "height": 52
    },
    "colab_type": "code",
    "executionInfo": {
     "elapsed": 3241,
     "status": "ok",
     "timestamp": 1547736251653,
     "user": {
      "displayName": "Alexander Dowling",
      "photoUrl": "https://lh3.googleusercontent.com/-LChdQ2m5OQE/AAAAAAAAAAI/AAAAAAAAAA0/JeXJe4vQJ7M/s64/photo.jpg",
      "userId": "00988067626794866502"
     },
     "user_tz": 300
    },
    "id": "WFF0VKz5zerx",
    "outputId": "fc849cc8-bad5-4cdd-cbe0-f7c38b965d62"
   },
   "outputs": [
    {
     "name": "stdin",
     "output_type": "stream",
     "text": [
      "What is your opinion of student?  good\n"
     ]
    },
    {
     "name": "stdout",
     "output_type": "stream",
     "text": [
      "A\n"
     ]
    }
   ],
   "source": [
    "instructors_opinion = input(\"What is your opinion of student? \") #'Not annoying'\n",
    "grade = ''\n",
    "if (instructors_opinion == 'annoying'):\n",
    "    grade = 'F+'\n",
    "elif (instructors_opinion == 'Not annoying'):\n",
    "    grade = 'B+'\n",
    "else:\n",
    "    grade = 'A'\n",
    "print(grade)"
   ]
  },
  {
   "cell_type": "markdown",
   "metadata": {
    "colab_type": "text",
    "id": "oL2sMGZpzery"
   },
   "source": [
    "What this codes says is that if the value of <tt>instructors_opinion</tt> is \"annoying\", the grade will be \"F+\", else if (<tt>elif</tt> in python-speak) <tt>instructors_opinion</tt> is \"Not annoying\" the grade will be \"B+\", and anything else will be a grade of \"A\".  In the example I typed in \"Not Annoying\" and the if statement and the elif statement require that the string exactly match, so it executed the <tt>else</tt> part of the code. (Note: This example came from the textbook. Prof. Dowling uses an objective grading scale in this class!)\n",
    "\n"
   ]
  },
  {
   "cell_type": "markdown",
   "metadata": {
    "colab_type": "text",
    "id": "Gxtc4qFHzery"
   },
   "source": [
    "It is important to remember that when you want to check equality between two things you need to use <tt>==</tt> and **not a single equals sign**.  A single equals sign is what you use when you want to assign something to a variable.\n",
    "\n",
    "<div style=\"background-color: rgba(0,255,0,0.05) ; padding: 10px; border: 1px solid darkgreen;\"> \n",
    "<b>Home Activity</b>: Rerun the code above. Find input values that cause the program to output \"F+\", \"B+\", and \"A\".\n",
    "</div>"
   ]
  },
  {
   "cell_type": "code",
   "execution_count": 1,
   "metadata": {
    "tags": [
     "remove-output"
    ]
   },
   "outputs": [
    {
     "data": {
      "text/plain": [
       "'\\n**Answer to home /activity**. Give the input that results in the following output:\\n\\nOutput: F+. Input: annoying\\n\\nOutput B+. Input: Not annoying\\n\\nOutput A. Input: \\n'"
      ]
     },
     "execution_count": 1,
     "metadata": {},
     "output_type": "execute_result"
    }
   ],
   "source": [
    "### BEGIN SOLUTION\n",
    "'''\n",
    "**Answer to home /activity**. Give the input that results in the following output:\n",
    "\n",
    "Output: F+. Input: annoying\n",
    "\n",
    "Output B+. Input: Not annoying\n",
    "\n",
    "Output A. Input: \n",
    "'''\n",
    "### END SOLUTION"
   ]
  },
  {
   "cell_type": "markdown",
   "metadata": {},
   "source": [
    "<div style=\"background-color: rgba(0,0,255,0.05) ; padding: 10px; border: 1px solid darkblue;\"> \n",
    "<b>Class Activity</b>: Create a small Python program that asks for the student's weighted final grade (input) and them prints the letter grade per the scale in the class syllabus (output).\n",
    "</div>"
   ]
  },
  {
   "cell_type": "code",
   "execution_count": 3,
   "metadata": {
    "tags": [
     "remove-output"
    ]
   },
   "outputs": [
    {
     "name": "stdin",
     "output_type": "stream",
     "text": [
      "Score 95\n"
     ]
    },
    {
     "name": "stdout",
     "output_type": "stream",
     "text": [
      "Your final grade is A\n"
     ]
    }
   ],
   "source": [
    "### BEGIN SOLUTION\n",
    "score = input(\"Score\") #Final grade\n",
    "grade = ''\n",
    "if (score >='90'):\n",
    "    grade = 'A'\n",
    "elif ('90'>score>='80'):\n",
    "    grade = 'B'\n",
    "elif ('80'>score>='70'):\n",
    "    grade = 'C'\n",
    "elif ('70'>score>='600'):\n",
    "    grade = 'D'\n",
    "else:\n",
    "    grade = 'F'\n",
    "print('Your final grade is',grade)\n",
    "### END SOLUTION"
   ]
  },
  {
   "cell_type": "markdown",
   "metadata": {
    "colab_type": "text",
    "id": "vb1JfPK2zer0"
   },
   "source": [
    "Branching statements are most powerful when combined with iteration, as we will now explore."
   ]
  },
  {
   "cell_type": "markdown",
   "metadata": {
    "colab_type": "text",
    "id": "dJMOlLGuzer0"
   },
   "source": [
    "## Iteration with While Loops"
   ]
  },
  {
   "cell_type": "markdown",
   "metadata": {
    "colab_type": "text",
    "id": "CJAYbp3hzer1"
   },
   "source": [
    "Iteration executes a piece of code repeatedly, based on some criteria. In this example we will try to find a good approximation to pi."
   ]
  },
  {
   "cell_type": "code",
   "execution_count": 4,
   "metadata": {
    "colab": {
     "base_uri": "https://localhost:8080/",
     "height": 52
    },
    "colab_type": "code",
    "executionInfo": {
     "elapsed": 318,
     "status": "ok",
     "timestamp": 1547736346852,
     "user": {
      "displayName": "Alexander Dowling",
      "photoUrl": "https://lh3.googleusercontent.com/-LChdQ2m5OQE/AAAAAAAAAAI/AAAAAAAAAA0/JeXJe4vQJ7M/s64/photo.jpg",
      "userId": "00988067626794866502"
     },
     "user_tz": 300
    },
    "id": "4kLz7P_pzer1",
    "outputId": "b905bc88-a7d0-45ce-a55f-6ff4c523435f"
   },
   "outputs": [
    {
     "name": "stdout",
     "output_type": "stream",
     "text": [
      "Our approximation of pi is 3.1415920000000828\n",
      "It took us 1184 guesses to approximate pi\n"
     ]
    }
   ],
   "source": [
    "#this code finds a decent approximation to pi\n",
    "import math \n",
    "converged = 0\n",
    "guess = 3.141\n",
    "iteration = 0\n",
    "eps = 1.0e-6 #this is my tolerance for approximating pi\n",
    "converged = math.fabs(guess - math.pi) < eps #0 if false, 1 if true\n",
    "while (converged == 0):\n",
    "    guess = guess + eps/2\n",
    "    converged = math.fabs(guess - math.pi) < eps\n",
    "    iteration += 1 #same as iteration = iteration + 1\n",
    "print(\"Our approximation of pi is\", guess)\n",
    "print(\"It took us\", iteration,\"guesses to approximate pi\")"
   ]
  },
  {
   "cell_type": "markdown",
   "metadata": {
    "colab_type": "text",
    "id": "afmEiw8dzer3"
   },
   "source": [
    "In this code, as long as <tt>converged == 0</tt> the code in the while block (the indented code below <tt>while (converged == 0):</tt>) will execute over and over.  When the value of our guess is within $10^{-6}$ of $\\pi$ in absolute value, converged will become 1 and the while loop will stop at the bottom of the code block.\n",
    "\n",
    "I did something tricky, but useful in this example.  In python when a conditional expression like <tt>a > b</tt> is true it evaulates to an integer of 1, and evaluates to an integer of 0 when false.  We will make use of this trick later on and it is good to see it now to help you get accustomed to it."
   ]
  },
  {
   "cell_type": "markdown",
   "metadata": {},
   "source": [
    "<div style=\"background-color: rgba(0,255,0,0.05) ; padding: 10px; border: 1px solid darkgreen;\"> \n",
    "<b>Home Activity</b>: Copy the pi estimation code to below. Then set the convergence tolerance to 1E-8. How many times more iterations does to take to acheive two addition digits of precision?\n",
    "</div>"
   ]
  },
  {
   "cell_type": "code",
   "execution_count": 5,
   "metadata": {
    "tags": [
     "remove-output"
    ]
   },
   "outputs": [
    {
     "name": "stdout",
     "output_type": "stream",
     "text": [
      "Our approximation of pi is 3.1415926449963982\n",
      "It took us 118529 guesses to approximate pi\n"
     ]
    }
   ],
   "source": [
    "# Copy code to here\n",
    "### BEGIN SOLUTION\n",
    "#this code finds a decent approximation to pi\n",
    "import math\n",
    "converged = 0\n",
    "guess = 3.141\n",
    "iteration = 0\n",
    "eps = 1.0e-8 #this is my tolerance for approximating pi\n",
    "converged = math.fabs(guess - math.pi) < eps #0 if false, 1 if true\n",
    "while (converged == 0):\n",
    "    guess = guess + eps/2\n",
    "    converged = math.fabs(guess - math.pi) < eps\n",
    "    iteration += 1 #same as iteration = iteration + 1\n",
    "print(\"Our approximation of pi is\", guess)\n",
    "print(\"It took us\", iteration,\"guesses to approximate pi\")\n",
    "### END SOLUTION"
   ]
  },
  {
   "cell_type": "markdown",
   "metadata": {},
   "source": [
    "## For Loops"
   ]
  },
  {
   "cell_type": "markdown",
   "metadata": {},
   "source": [
    "**While loops** are great and all we really need for iteration, but they are cumbersome if we want to execute a block of code a set number of times. In this case we have to define a counting variable and increment it by hand:"
   ]
  },
  {
   "cell_type": "code",
   "execution_count": 6,
   "metadata": {},
   "outputs": [
    {
     "name": "stdout",
     "output_type": "stream",
     "text": [
      "1\n",
      "2\n",
      "3\n",
      "4\n",
      "5\n",
      "6\n",
      "7\n",
      "8\n",
      "9\n",
      "10\n"
     ]
    }
   ],
   "source": [
    "#Some code that counts to ten\n",
    "count = 1\n",
    "while (count <= 10):\n",
    "    print(count)\n",
    "    count=count+1 #we can also write  count += 1"
   ]
  },
  {
   "cell_type": "markdown",
   "metadata": {},
   "source": [
    "The **for loop** is built for such a situation.\n",
    "\n",
    "We will typically specify `for` loops with the `range` function. Range takes 3 input parameters: `range(start, stop[, step])`.\n",
    "* start parameter: number, self explanatory.\n",
    "* stop parameter: the range function goes to this number before stopping.\n",
    "* step parameter: in brackets because it is optional. If you don't define it assumes you want to count by 1 (i.e., step by 1). "
   ]
  },
  {
   "cell_type": "code",
   "execution_count": 7,
   "metadata": {},
   "outputs": [
    {
     "name": "stdout",
     "output_type": "stream",
     "text": [
      "[1, 2, 3, 4, 5, 6, 7, 8, 9]\n"
     ]
    }
   ],
   "source": [
    "#the list command tells python to explicitly write out the range\n",
    "print(list(range(1,10))) "
   ]
  },
  {
   "cell_type": "markdown",
   "metadata": {},
   "source": [
    "Also, if you just give range one parameter, it treats that as stop and assumes you want to start at 0:"
   ]
  },
  {
   "cell_type": "code",
   "execution_count": 8,
   "metadata": {},
   "outputs": [
    {
     "name": "stdout",
     "output_type": "stream",
     "text": [
      "[0, 1, 2, 3, 4, 5, 6, 7, 8, 9]\n",
      "[0, 1, 2, 3, 4, 5, 6, 7, 8, 9]\n"
     ]
    }
   ],
   "source": [
    "#These should be the same\n",
    "print(list(range(0,10)))\n",
    "print(list(range(10)))"
   ]
  },
  {
   "cell_type": "code",
   "execution_count": 9,
   "metadata": {},
   "outputs": [
    {
     "name": "stdout",
     "output_type": "stream",
     "text": [
      "[0, 2, 4, 6, 8]\n"
     ]
    }
   ],
   "source": [
    "#Here's something using the step\n",
    "print(list(range(0,10,2)))"
   ]
  },
  {
   "cell_type": "markdown",
   "metadata": {},
   "source": [
    "<div style=\"background-color: rgba(0,255,0,0.05) ; padding: 10px; border: 1px solid darkgreen;\"> \n",
    "<b>Home Activity</b>: Print a list of odd numbers that starts at 1 and stops before reaching 9.\n",
    "</div>"
   ]
  },
  {
   "cell_type": "code",
   "execution_count": 10,
   "metadata": {
    "tags": [
     "remove-output"
    ]
   },
   "outputs": [
    {
     "name": "stdout",
     "output_type": "stream",
     "text": [
      "[1, 3, 5, 7]\n"
     ]
    }
   ],
   "source": [
    "### BEGIN SOLUTION\n",
    "print(list(range(1,9,2)))\n",
    "### END SOLUTION"
   ]
  },
  {
   "cell_type": "markdown",
   "metadata": {},
   "source": [
    "With the range command we can have a for loop assign a variable a value in the range, in order, each time the code block of the for loop executes:"
   ]
  },
  {
   "cell_type": "code",
   "execution_count": 11,
   "metadata": {},
   "outputs": [
    {
     "name": "stdout",
     "output_type": "stream",
     "text": [
      "1\n",
      "2\n",
      "3\n",
      "4\n",
      "5\n",
      "6\n",
      "7\n",
      "8\n",
      "9\n",
      "10\n"
     ]
    }
   ],
   "source": [
    "for i in range(10):\n",
    "    print(i+1)"
   ]
  },
  {
   "cell_type": "code",
   "execution_count": 12,
   "metadata": {},
   "outputs": [
    {
     "name": "stdout",
     "output_type": "stream",
     "text": [
      "10\n",
      "9\n",
      "8\n",
      "7\n",
      "6\n",
      "5\n",
      "4\n",
      "3\n",
      "2\n",
      "1\n",
      "0\n"
     ]
    }
   ],
   "source": [
    "#for loop count from 10 to 0\n",
    "for i in range(10,-1,-1):\n",
    "    print(i)"
   ]
  },
  {
   "cell_type": "code",
   "execution_count": 13,
   "metadata": {},
   "outputs": [
    {
     "name": "stdout",
     "output_type": "stream",
     "text": [
      "10\n",
      "9\n",
      "8\n",
      "7\n",
      "6\n",
      "5\n",
      "4\n",
      "3\n",
      "2\n",
      "1\n",
      "0\n"
     ]
    }
   ],
   "source": [
    "#for loop count from 0 to 10\n",
    "for i in range(11):\n",
    "    # but prints numbers from 10 to 0\n",
    "    print(10-i)"
   ]
  },
  {
   "cell_type": "markdown",
   "metadata": {},
   "source": [
    "Let's say we want to add a number to itself 7 times. We could use a for loop:"
   ]
  },
  {
   "cell_type": "code",
   "execution_count": 14,
   "metadata": {},
   "outputs": [
    {
     "name": "stdout",
     "output_type": "stream",
     "text": [
      "70\n"
     ]
    }
   ],
   "source": [
    "# for loop version\n",
    "number = 10\n",
    "sum = 0\n",
    "for i in range(7):\n",
    "    sum += number\n",
    "print(sum)"
   ]
  },
  {
   "cell_type": "markdown",
   "metadata": {},
   "source": [
    "<div style=\"background-color: rgba(0,255,0,0.05) ; padding: 10px; border: 1px solid darkgreen;\"> \n",
    "<b>Home Activity</b>: Write a while loop that does the same thing: add a number (10) to itself 7 times.\n",
    "</div>"
   ]
  },
  {
   "cell_type": "code",
   "execution_count": 15,
   "metadata": {
    "tags": [
     "remove-output"
    ]
   },
   "outputs": [
    {
     "name": "stdout",
     "output_type": "stream",
     "text": [
      "70\n"
     ]
    }
   ],
   "source": [
    "### BEGIN SOLUTION\n",
    "number = 10\n",
    "sumnum = 0\n",
    "counter = 0\n",
    "while counter < 7:\n",
    "    sumnum = sumnum + number\n",
    "    counter = counter + 1\n",
    "print(sumnum)\n",
    "### END SOLUTION"
   ]
  },
  {
   "cell_type": "markdown",
   "metadata": {},
   "source": [
    "You can always write a while loop that does the same thing as a for loop. But often we prefer a for loop because the syntax is easier to write, understand, and debug."
   ]
  }
 ],
 "metadata": {
  "colab": {
   "collapsed_sections": [],
   "name": "L1-Getting-Started.ipynb",
   "provenance": [],
   "version": "0.3.2"
  },
  "kernelspec": {
   "display_name": "Python 3 (ipykernel)",
   "language": "python",
   "name": "python3"
  },
  "language_info": {
   "codemirror_mode": {
    "name": "ipython",
    "version": 3
   },
   "file_extension": ".py",
   "mimetype": "text/x-python",
   "name": "python",
   "nbconvert_exporter": "python",
   "pygments_lexer": "ipython3",
   "version": "3.9.12"
  }
 },
 "nbformat": 4,
 "nbformat_minor": 4
}
