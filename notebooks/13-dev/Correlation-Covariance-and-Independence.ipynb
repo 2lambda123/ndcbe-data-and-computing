{
 "cells": [
  {
   "cell_type": "markdown",
   "id": "f0238b3f-e940-42d2-bf42-a646a87fd585",
   "metadata": {},
   "source": [
    "## Correlation, Covariance, and Independence\n",
    "**Further Reading:** §7.1 Navidi (2015)"
   ]
  },
  {
   "cell_type": "markdown",
   "id": "975b9d55-e94c-4892-bd6b-29c54207bf68",
   "metadata": {
    "colab_type": "text",
    "id": "9HPF1azhtHFl"
   },
   "source": [
    "## Learning Objectives\n",
    "\n",
    "After studying this notebook and your lecture notes, you should be able to:\n",
    "* Interpret correlation coefficients.\n",
    "* Understand the relationship between correlation, covariance, and independence.\n",
    "* Determine if two variables are linearly associated."
   ]
  },
  {
   "cell_type": "code",
   "execution_count": 2,
   "id": "4bc6bfdd-bccd-4eb1-8b43-1ff8b524e764",
   "metadata": {},
   "outputs": [],
   "source": [
    "import numpy as np\n",
    "import matplotlib.pyplot as plt"
   ]
  },
  {
   "cell_type": "markdown",
   "id": "66d17387-7bb4-4c76-8176-1d59a6f07254",
   "metadata": {},
   "source": [
    "**Correlation Coefficient:**\n",
    "\n",
    "$$\\rho = \\frac{\\sigma_{XY}}{\\sigma_X \\sigma_Y} \\textrm{ (random variables) }$$\n",
    "\n",
    "$$-1 \\leq \\rho_{X,Y} \\leq 1$$\n",
    "\n",
    "The numerator is also known as $cov(X,Y)$.\n",
    "\n",
    "**Sample Correlation:**\n",
    "\n",
    "$$ r = \\frac{1}{n-1} \\sum_{i=1}^n (\\frac{x_i - \\bar{x}}{s_x})(\\frac{y_i - \\bar{y}}{s_y})$$\n",
    "\n",
    "Correlation coefficient is **dimensionless**.\n",
    "\n",
    "It remains unchanged when:\n",
    "1. Scaling a variable by a positive constant.\n",
    "2. Adding a constant to a varible.\n",
    "3. Interchanging the values of x and y.\n",
    "\n",
    "Important Notes:\n",
    "* Correlation coefficient only measures linear association.\n",
    "* Correlation coefficient can be misleading when outliers are present.\n",
    "* Correlation is NOT causation.\n",
    "* Controlled experiments reduce the risk of confounding."
   ]
  },
  {
   "cell_type": "markdown",
   "id": "1e809e25-3609-4ec1-b792-ac32884c4905",
   "metadata": {},
   "source": [
    "<div style=\"background-color: rgba(0,255,0,0.05) ; padding: 10px; border: 1px solid darkgreen;\"> \n",
    "<b>Home Activity</b>: In the following cell, add A-E to the proper strings to correctly match each graph with its correlation coefficient.\n",
    "</div>"
   ]
  },
  {
   "cell_type": "code",
   "execution_count": 42,
   "id": "f835391e-65c6-4584-8b73-a07c317056c9",
   "metadata": {},
   "outputs": [],
   "source": [
    "# Correlation coefficient of -0.95\n",
    "ans1 = ''\n",
    "# Correlation coefficient of -0.50\n",
    "ans2 = ''\n",
    "# Correlation coefficient of 0.00\n",
    "ans3 = ''\n",
    "# Correlation coefficient of 0.50\n",
    "ans4 = ''\n",
    "# Correlation coefficient of 0.95\n",
    "ans5 = ''\n",
    "\n",
    "### BEGIN SOLUTION\n",
    "ans1 = 'E'\n",
    "ans2 = 'C'\n",
    "ans3 = 'B'\n",
    "ans4 = 'D'\n",
    "ans5 = 'A'\n",
    "### END SOLUTION"
   ]
  },
  {
   "cell_type": "markdown",
   "id": "d4839cde-9f84-41c6-865a-1b2c2b11cf84",
   "metadata": {},
   "source": [
    "**Graph A:**"
   ]
  },
  {
   "cell_type": "code",
   "execution_count": 39,
   "id": "ac6d8323-338f-473a-97e5-c09a4dda009f",
   "metadata": {
    "tags": [
     "hide-input"
    ]
   },
   "outputs": [
    {
     "data": {
      "image/png": "[encoded data removed]",
      "text/plain": [
       "<Figure size 432x288 with 1 Axes>"
      ]
     },
     "metadata": {
      "needs_background": "light"
     },
     "output_type": "display_data"
    }
   ],
   "source": [
    "nsim = 100\n",
    "\n",
    "xline1 = np.linspace(-3,3,nsim)\n",
    "y1 = lambda x: x \n",
    "yline1 = y1(xline1)\n",
    "\n",
    "x1 = np.linspace(-3,3,nsim)\n",
    "var1 = np.random.normal(0,0.5,nsim)\n",
    "y1 = yline1 + var1\n",
    "\n",
    "plt.plot(x1,y1,'bo',markersize=3)\n",
    "plt.xlim([-3,3])\n",
    "plt.ylim([-3,3])\n",
    "plt.show()"
   ]
  },
  {
   "cell_type": "markdown",
   "id": "540f2647-4033-40fc-88ed-74f9871474fd",
   "metadata": {},
   "source": [
    "**Graph B:**"
   ]
  },
  {
   "cell_type": "code",
   "execution_count": 37,
   "id": "8a8b313c-7627-46b1-9eca-d2d634da9651",
   "metadata": {
    "tags": [
     "hide-input"
    ]
   },
   "outputs": [
    {
     "data": {
      "image/png": "[encoded data removed]",
      "text/plain": [
       "<Figure size 432x288 with 1 Axes>"
      ]
     },
     "metadata": {
      "needs_background": "light"
     },
     "output_type": "display_data"
    }
   ],
   "source": [
    "nsim = 100\n",
    "\n",
    "xline1 = np.linspace(-3,3,nsim)\n",
    "y1 = lambda x: x\n",
    "yline1 = y1(xline1)\n",
    "\n",
    "x1 = np.linspace(-2.5,2.5,nsim)\n",
    "y1 = np.random.normal(0,1,nsim)\n",
    "\n",
    "plt.plot(x1,y1,'bo',markersize=3)\n",
    "plt.xlim([-3,3])\n",
    "plt.ylim([-3,3])\n",
    "plt.show()"
   ]
  },
  {
   "cell_type": "markdown",
   "id": "144616f0-d0e4-4257-a6d6-a7540518397c",
   "metadata": {},
   "source": [
    "**Graph C:**"
   ]
  },
  {
   "cell_type": "code",
   "execution_count": 40,
   "id": "7ed87f2f-e434-4073-85a1-76c7c928a45a",
   "metadata": {
    "tags": [
     "hide-input"
    ]
   },
   "outputs": [
    {
     "data": {
      "image/png": "[encoded data removed]",
      "text/plain": [
       "<Figure size 432x288 with 1 Axes>"
      ]
     },
     "metadata": {
      "needs_background": "light"
     },
     "output_type": "display_data"
    }
   ],
   "source": [
    "nsim = 100\n",
    "\n",
    "xline1 = np.linspace(-3,3,nsim)\n",
    "y1 = lambda x: -x \n",
    "yline1 = y1(xline1)\n",
    "\n",
    "x1 = np.linspace(-3,3,nsim)\n",
    "var1 = np.random.normal(0,1.3,nsim)\n",
    "y1 = yline1 + var1\n",
    "\n",
    "plt.plot(x1,y1,'bo',markersize=3)\n",
    "plt.xlim([-3,3])\n",
    "plt.ylim([-3,3])\n",
    "plt.show()"
   ]
  },
  {
   "cell_type": "markdown",
   "id": "a97794aa-2736-49ef-942e-d78caf233859",
   "metadata": {},
   "source": [
    "**Graph D:**"
   ]
  },
  {
   "cell_type": "code",
   "execution_count": 38,
   "id": "6c658e8d-d4e5-40e3-beb6-f8df7e39ae3c",
   "metadata": {
    "tags": [
     "hide-input"
    ]
   },
   "outputs": [
    {
     "data": {
      "image/png": "[encoded data removed]",
      "text/plain": [
       "<Figure size 432x288 with 1 Axes>"
      ]
     },
     "metadata": {
      "needs_background": "light"
     },
     "output_type": "display_data"
    }
   ],
   "source": [
    "nsim = 100\n",
    "\n",
    "xline1 = np.linspace(-3,3,nsim)\n",
    "y1 = lambda x: x \n",
    "yline1 = y1(xline1)\n",
    "\n",
    "x1 = np.linspace(-3,3,nsim)\n",
    "var1 = np.random.normal(0,1.3,nsim)\n",
    "y1 = yline1 + var1\n",
    "\n",
    "plt.plot(x1,y1,'bo',markersize=3)\n",
    "plt.xlim([-3,3])\n",
    "plt.ylim([-3,3])\n",
    "plt.show()"
   ]
  },
  {
   "cell_type": "markdown",
   "id": "ad8c913b-18bc-4b5e-8307-22d7da15a65f",
   "metadata": {},
   "source": [
    "**Graph E:**"
   ]
  },
  {
   "cell_type": "code",
   "execution_count": 41,
   "id": "2f7e6a80-421b-4bfc-a1c4-29e941a158d3",
   "metadata": {
    "tags": [
     "hide-input"
    ]
   },
   "outputs": [
    {
     "data": {
      "image/png": "[encoded data removed]",
      "text/plain": [
       "<Figure size 432x288 with 1 Axes>"
      ]
     },
     "metadata": {
      "needs_background": "light"
     },
     "output_type": "display_data"
    }
   ],
   "source": [
    "nsim = 100\n",
    "\n",
    "xline1 = np.linspace(-3,3,nsim)\n",
    "y1 = lambda x: -x \n",
    "yline1 = y1(xline1)\n",
    "\n",
    "x1 = np.linspace(-3,3,nsim)\n",
    "var1 = np.random.normal(0,0.5,nsim)\n",
    "y1 = yline1 + var1\n",
    "\n",
    "plt.plot(x1,y1,'bo',markersize=3)\n",
    "plt.xlim([-3,3])\n",
    "plt.ylim([-3,3])\n",
    "plt.show()"
   ]
  },
  {
   "cell_type": "markdown",
   "id": "4f2cfe16-88e1-4249-92ff-9b87fbf65dd3",
   "metadata": {},
   "source": [
    "## Covariance"
   ]
  },
  {
   "cell_type": "markdown",
   "id": "a430ba91-9af6-495b-a2a0-3265d2a43d22",
   "metadata": {},
   "source": [
    "Often data are not independent because of observation error (or because the variables are related).\n",
    "\n",
    "Covariance measures the linear relationship between two random variables.\n",
    "\n",
    "$$cov(X,Y) = E[(X-\\mu_X)(Y-\\mu_Y)]$$\n",
    "\n",
    "$$ = E[X \\cdot Y] - \\mu_X \\mu_Y$$"
   ]
  },
  {
   "cell_type": "markdown",
   "id": "2bf1d545-9d41-42cf-913c-1ee45c264409",
   "metadata": {},
   "source": [
    "## Connecting covariance, correlation, and independence"
   ]
  },
  {
   "cell_type": "markdown",
   "id": "8d6499f5-a229-49ca-aca2-845fdc8c82a2",
   "metadata": {},
   "source": [
    "If $cov(X,Y) = 0 = \\rho_{X,Y}$, then $X$ and $Y$ are uncorrelated.\n",
    "\n",
    "If $X$ and $Y$ are independent, then $X$ and $Y$ are uncorrelated.\n",
    "\n",
    "It is possible for $X$ and $Y$ to be uncorrelated and NOT independent."
   ]
  }
 ],
 "metadata": {
  "kernelspec": {
   "display_name": "Python 3 (ipykernel)",
   "language": "python",
   "name": "python3"
  },
  "language_info": {
   "codemirror_mode": {
    "name": "ipython",
    "version": 3
   },
   "file_extension": ".py",
   "mimetype": "text/x-python",
   "name": "python",
   "nbconvert_exporter": "python",
   "pygments_lexer": "ipython3",
   "version": "3.9.12"
  }
 },
 "nbformat": 4,
 "nbformat_minor": 5
}
