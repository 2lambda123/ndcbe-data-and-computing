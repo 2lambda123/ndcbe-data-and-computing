{
 "cells": [
  {
   "cell_type": "markdown",
   "metadata": {
    "colab_type": "text",
    "id": "6qZY9t6e3Jar"
   },
   "source": [
    "# Modeling Systems of Linear Equations\n",
    "CBE 20258. Numerical and Statistical Analysis. Spring 2020.\n",
    "\n",
    "&#169; University of Notre Dame"
   ]
  },
  {
   "cell_type": "code",
   "execution_count": 1,
   "metadata": {
    "tags": []
   },
   "outputs": [],
   "source": [
    "import numpy as np"
   ]
  },
  {
   "cell_type": "markdown",
   "metadata": {
    "colab_type": "text",
    "id": "oDMI7Sj13Jas"
   },
   "source": [
    "## Introduction\n",
    "\n",
    "I would bet you can think of at least five classes where you solved one or more algebraic equations as part of a **scientific or engineering calculation.** In this class, we will learn how to solve algebraic equations in Python for several fundamental chemical engineering problems."
   ]
  },
  {
   "cell_type": "markdown",
   "metadata": {},
   "source": [
    "<div style=\"background-color: rgba(0,255,0,0.05) ; padding: 10px; border: 1px solid darkgreen;\"> \n",
    "    <b>Home Activity</b>: List out the <b>problem solving steps</b> you learned in CBE 20255 for mass and energy balance analysis of chemical processes.\n",
    "</div>"
   ]
  },
  {
   "cell_type": "markdown",
   "metadata": {},
   "source": [
    "We will now practice these problem solving steps."
   ]
  },
  {
   "cell_type": "markdown",
   "metadata": {
    "colab_type": "text",
    "id": "Nyk-2DmV3Jau",
    "tags": []
   },
   "source": [
    "## Environmental Controls for a Power Plant"
   ]
  },
  {
   "cell_type": "markdown",
   "metadata": {
    "colab_type": "text",
    "id": "6p0emcPS3Jav"
   },
   "source": [
    "In power plants, it is essential to remove pollutants such as SO$_x$ from the flue gas before it is vented to the atmosphere. This is commonly done with a **wet flue gas desulfuriziation** (WFGD) system in a coal power plant. The main idea is to react calcium carbonate, calcium hydroxide, or magnesium hydroxide with SO$_2$ to form calcium or magnesium sulfate. In fact, calcium sulfate is commonly known as [gypsum](https://en.wikipedia.org/wiki/Gypsum), which can be sold as an ingredient to make drywall. While SO$_x$ refers to many components, we will focus our analysis on just SO$_2$.\n",
    "\n",
    "Here are the main chemical reactions:\n",
    "\n",
    "CaCO$_{3\\mathrm{(s)}}$ + SO$_{2\\mathrm{(g)}}$ $\\rightarrow$ CaSO$_{3{(s)}}$ + CO$_{2\\mathrm{(g)}}$\n",
    "\n",
    "or\n",
    "\n",
    "Ca(OH)$_{2\\mathrm{(s)}}$ + SO$_{2\\mathrm{(g)}}$ $\\rightarrow$ CaSO$_\\mathrm{3(s)}$ + H$_{2}$O$_{\\mathrm{(l)}}$\n",
    "\n",
    "or \n",
    "\n",
    "Mg(OH)$_{2\\mathrm{(s)}}$ + SO$_{2\\mathrm{(g)}}$ $\\rightarrow$ MgSO$_\\mathrm{3(s)}$ + H$_{2}$O$_{\\mathrm{(l)}}$\n",
    "\n",
    "Below is an illustration of a wet FGD unit (adapted from Babcock and Wilcox Company, *Steam: Its Generation and Uses*, 2005):\n",
    "1. **Feed.** Flue gas with SO$_x$ enters the FGD.\n",
    "2. **Absorption Zone.** As flue gas moves upward through the unit, it comes in contact with a slurry.  SO$_x$ moves from the vapor phase (flue gas) to the liquid phase (slurry). Chemical engineers call this process absorption.\n",
    "3. **Oxidation Zone.** The SO$_x$ reacts to form a solid product via the chemical reactions stated above. It is reasonable to assume these reactions go to completition and all of the SO$_x$ in the oxidation zone reacts.\n",
    "4. **Pump.** The slurry mixture is pumped to the top of the absorber.\n",
    "5. **Sprayer.** The slurry mixture is spray at the top of the absorber to ensure even distribution throughout the column.\n",
    "6. **Effluent.** Cleaned flue gas leaves the absorber.\n",
    "\n",
    "![WFGD](../../media/wet_fgd3.png)\n",
    "\n",
    "The wet FGD is an excellent example for our class because it foreshadows then entire CBE undergraduate curriculum. For the next 5 semesters, you will develop the technical background to fully analyze a WFGD and similar systems:\n",
    "* Thermodynamics (CBE 20260, 30367): Solubility of SO$_x$ in the water-slurry.\n",
    "* Transport (CBE 30355, 30356): Rate of mass and energy transfer bewteen the vapor and liquid phases.\n",
    "* Control (CBE 30338): Dynamic operation (i.e., NOT at steady-state)\n",
    "* Reaction Engineering (CBE 40445): Oxidation reaction to create byproduct\n",
    "* Separations (CBE 40443): Detailed equipment design including sizing\n",
    "* Process Design (CBE 40448): Integration of a system (e.g., WFGD) into a larger process (e.g., power plant)"
   ]
  },
  {
   "cell_type": "markdown",
   "metadata": {
    "colab_type": "text",
    "id": "Q0PUaHG93Jaw",
    "tags": []
   },
   "source": [
    "### Determine Additional Data and Analysis Goal\n",
    "\n",
    "Let's use **your background from CBE 20255** (Introduction to Chemical Engineering) to analyze this system.\n",
    "\n",
    "**Feed Specifications**\n",
    "\n",
    "![inputs](../../media/wfgd-table.png)\n",
    "\n",
    "*Table 1*: Flue gas flow rate and compositions before treatment for a 500 MW coal-fired power plant (Babcock and Wilcox Company, *Steam: Its Generation and Uses*, 2005).\n",
    "\n",
    "For reference, the Notre Dame power plant has a maximum electricity output capacity of 28.6 MW. It also co-generates steam and chilled water, so direct comparison is difficult. It is about 20 times smaller. Notre Dame will also phase out coal in the power plant by 2020.\n",
    "\n",
    "**Equilibrium Information**\n",
    "\n",
    "For a first approximation, we can assume:\n",
    "1. Virtually no air dissolves in the slurry\n",
    "2. Virtually no water evaporates from the slurry into the flue gas\n",
    "\n",
    "This means we only need to worry about the solubility of the SO$_x$ that dissolves into the slurry. As another assumption, we will model the slurry as water. In CBE 20255, you may have learned about Henry's Law, a simple correlation for solubility.\n",
    "\n",
    "![henrys](../../media/henrys_law2.png)\n",
    "*Figure 2*: Henry's law for SO$_2$ solubility in water (C. J. Geankoplis, *Transport Processes and Separation Process Principles: Includes Unit Operations*, 2003).\n",
    "\n",
    "**Design/Analysis Goal**\n",
    "\n",
    "We want to **compute** the required flow rate of water to achieve 98% removal of SO$_2$ for a large (500 MW) power plant."
   ]
  },
  {
   "cell_type": "markdown",
   "metadata": {},
   "source": [
    "### Draw a Picture\n",
    "\n",
    "Next, let's draw a picture of the system.\n",
    "\n",
    "![single_FGD](../../media/single_stage_model.png)\n",
    "\n",
    "In this simplified picture, the vapor stream (flue gas) enters at the bottom right and the liquid stream (slurry) enters at the top left. We assume only SO$_2$ moves from the vapor to the liquid. In this picture, $L$ and $V$ are total stream flowrates. $x$ and $y$ are the mole fraction of $SO_2$."
   ]
  },
  {
   "cell_type": "markdown",
   "metadata": {},
   "source": [
    "<div style=\"background-color: rgba(0,255,0,0.05) ; padding: 10px; border: 1px solid darkgreen;\"> \n",
    "    <b>Home Activity</b>: Copy this picture onto paper. Then identify the quantities we already know from the previous information.\n",
    "</div>"
   ]
  },
  {
   "cell_type": "markdown",
   "metadata": {},
   "source": [
    "### State Assumptions\n",
    "\n"
   ]
  },
  {
   "cell_type": "markdown",
   "metadata": {},
   "source": [
    "With enough assumptions, we can perform quick \"back of the envelope\" design calculations for the SO$_2$ absorber using mostly skills you learned in CBE 20255."
   ]
  },
  {
   "cell_type": "markdown",
   "metadata": {},
   "source": [
    "<div style=\"background-color: rgba(0,255,0,0.05) ; padding: 10px; border: 1px solid darkgreen;\"> \n",
    "    <b>Home Activity</b>: Make a list of at least three assumptions we need to compute the required liquid flowrate to achieve 98% SO$_2$ removal. Bring this list to class.\n",
    "</div>"
   ]
  },
  {
   "cell_type": "markdown",
   "metadata": {},
   "source": [
    "### 5b-iv. Mathematical Model"
   ]
  },
  {
   "cell_type": "markdown",
   "metadata": {},
   "source": [
    "With these assumptions, we can propose a mathematical model for the absorber:"
   ]
  },
  {
   "cell_type": "markdown",
   "metadata": {},
   "source": [
    "Equation A: $V_{in} + L_{in} = V_{out} + L_{out}$\n",
    "\n",
    "Equation B: $y_{out} = K x_{out}$\n",
    "\n",
    "Equation C: $V_{in} y_{in} + L_{in} x_{in} = V_{out} y_{out} + L_{out} x_{out}$\n",
    "\n",
    "Equation D: $y_{out} = (1 - 0.98) y_{in}$"
   ]
  },
  {
   "cell_type": "markdown",
   "metadata": {},
   "source": [
    "<div style=\"background-color: rgba(0,255,0,0.05) ; padding: 10px; border: 1px solid darkgreen;\"> \n",
    "    <b>Home Activity</b>: Identify the name for each equation from the list of choices below. Record your answer in the dictionary <tt>eqn_names</tt>. Use 'A', 'B', 'C', and 'D' as the keys and 1, 2, 3, 4, 5, 6, 7, or 8 as the values.\n",
    "</div>"
   ]
  },
  {
   "cell_type": "markdown",
   "metadata": {},
   "source": [
    "Choices for equation names:\n",
    "1. Overall mass (mole) balance\n",
    "2. SO$_2$ component mass (mole) balance\n",
    "3. Water component mass (mole) balance\n",
    "4. Air component mass (mole) balance\n",
    "5. Energy balance\n",
    "6. Entropy balance\n",
    "7. Design goal: 98% SO$_2$ removal\n",
    "8. SO$_2$ equilibrium (Henry's Law)"
   ]
  },
  {
   "cell_type": "code",
   "execution_count": 2,
   "metadata": {
    "collapsed": true,
    "jupyter": {
     "outputs_hidden": true
    },
    "nbgrader": {
     "grade": false,
     "locked": false,
     "solution": false
    }
   },
   "outputs": [],
   "source": [
    "eqn_names = {'A': 0, 'B':0, 'C':0, 'D':0}\n",
    "### BEGIN SOLUTION\n",
    "eqn_names = {'A': 1, 'B':8, 'C':2, 'D':7}\n",
    "### END SOLUTION"
   ]
  },
  {
   "cell_type": "code",
   "execution_count": 3,
   "metadata": {
    "collapsed": true,
    "jupyter": {
     "outputs_hidden": true
    },
    "nbgrader": {
     "grade": true,
     "grade_id": "multiple-choice",
     "locked": true,
     "points": "0.1",
     "solution": false
    }
   },
   "outputs": [],
   "source": [
    "### BEGIN HIDDEN TESTS\n",
    "eqn_names_ans = {'A': 1, 'B':8, 'C':2, 'D':7}\n",
    "\n",
    "for i in ['A', 'B', 'C', 'D']:\n",
    "    assert eqn_names[i] == eqn_names_ans[i], \"Check your answer for equation \"+i\n",
    "### END HIDDEN TESTS"
   ]
  },
  {
   "cell_type": "markdown",
   "metadata": {},
   "source": [
    "### Degree of Freedom Analysis\n",
    "\n",
    "The next step after writing a model is to perform degree of freedom analysis."
   ]
  },
  {
   "cell_type": "markdown",
   "metadata": {},
   "source": [
    "<div style=\"background-color: rgba(0,255,0,0.05) ; padding: 10px; border: 1px solid darkgreen;\"> \n",
    "    <b>Home Activity</b>: Perform degree of freedom analysis. On paper, identify the number of unknowns (variables) and the number of equations. Then determine the number of additional specifications or equations needed to complete the design calculations.\n",
    "</div>"
   ]
  },
  {
   "cell_type": "markdown",
   "metadata": {},
   "source": [
    "### Revised Model\n",
    "\n",
    "Let's make two additional assumptions:\n",
    "1. The slurry entering the top of the absorber contains no water, i.e., $x_{in} = 0$\n",
    "2. The flowrate of liquid in the absorber is approximately constant, i.e., $L_{in} = L_{out}$ "
   ]
  },
  {
   "cell_type": "markdown",
   "metadata": {},
   "source": [
    "<div style=\"background-color: rgba(0,255,0,0.05) ; padding: 10px; border: 1px solid darkgreen;\"> \n",
    "    <b>Home Activity</b>: Provide a physical justification for $L_{in} = L_{out}$. Why is this a reasonable assumption? Write a few sentences.\n",
    "</div>"
   ]
  },
  {
   "cell_type": "markdown",
   "metadata": {},
   "source": [
    "<div style=\"background-color: rgba(0,255,0,0.05) ; padding: 10px; border: 1px solid darkgreen;\"> \n",
    "    <b>Home Activity</b>: Does $L_{in} = L_{out}$ imply $V_{in} = V_{out}$? Explain in a few sentences.\n",
    "</div>"
   ]
  },
  {
   "cell_type": "markdown",
   "metadata": {},
   "source": [
    "### Calculations"
   ]
  },
  {
   "cell_type": "markdown",
   "metadata": {},
   "source": [
    "We now have a mathematical model with zero degrees of freedom. But before we use Python, let's first manipulate the model on paper."
   ]
  },
  {
   "cell_type": "markdown",
   "metadata": {},
   "source": [
    "<div style=\"background-color: rgba(0,255,0,0.05) ; padding: 10px; border: 1px solid darkgreen;\"> <b>Home Activity</b>: Using the mathematical model and algebra, derive the following formula for the liquid flowrate $L$. \n",
    "</div>"
   ]
  },
  {
   "cell_type": "markdown",
   "metadata": {},
   "source": [
    "$$L = V \\frac{y_{in} - y_{out}}{y_{out} / K - x_{in}}$$"
   ]
  },
  {
   "cell_type": "markdown",
   "metadata": {
    "nbgrader": {
     "grade": false,
     "locked": false,
     "solution": false
    }
   },
   "source": [
    "We can now use Python as a calculator to compute $L$. First, we will copy the given data."
   ]
  },
  {
   "cell_type": "code",
   "execution_count": 4,
   "metadata": {
    "colab": {},
    "colab_type": "code",
    "collapsed": true,
    "id": "_N-JrIZl3Jaw",
    "jupyter": {
     "outputs_hidden": true
    }
   },
   "outputs": [],
   "source": [
    "### Step 1. Define Given Data\n",
    "\n",
    "# Feed flowrate of SO2 in [lb / hr]\n",
    "m_SO2 = 34900\n",
    "\n",
    "# Feed flowrate of air in [lb / hr]\n",
    "m_air = 5245600\n",
    "\n",
    "# Molecular weights\n",
    "mw_SO2 = 64.066\n",
    "mw_air = 28.97\n",
    "mw_water = 18.01528\n",
    "\n",
    "# Removal efficieny (design goal)\n",
    "eff = 0.98\n",
    "\n",
    "# Equilibrium coefficient [mol frac SO2 in vapor / mol frac SO2 in liquid ]\n",
    "# Taken from plot with Henry's law fit\n",
    "K = 29.6\n",
    "\n",
    "# Composition of SO2 in liquid feed in [mol frac]\n",
    "xin = 0.0"
   ]
  },
  {
   "cell_type": "markdown",
   "metadata": {},
   "source": [
    "How important is it to include SO$_2$ when computing $V$?"
   ]
  },
  {
   "cell_type": "code",
   "execution_count": 5,
   "metadata": {
    "colab": {
     "base_uri": "https://localhost:8080/",
     "height": 69
    },
    "colab_type": "code",
    "executionInfo": {
     "elapsed": 381,
     "status": "ok",
     "timestamp": 1550522537059,
     "user": {
      "displayName": "Alexander Dowling",
      "photoUrl": "https://lh3.googleusercontent.com/-LChdQ2m5OQE/AAAAAAAAAAI/AAAAAAAAAA0/JeXJe4vQJ7M/s64/photo.jpg",
      "userId": "00988067626794866502"
     },
     "user_tz": 300
    },
    "id": "chkcTfln3Ja0",
    "outputId": "90f83b10-0f99-40e1-fba0-c8529efcc30f"
   },
   "outputs": [
    {
     "name": "stdout",
     "output_type": "stream",
     "text": [
      "Flowrate if SO2 is considered 181614.8232145955  lb-mol / hr\n",
      "Flowrate if SO2 is neglected 181070.0724887815  lb-mol/hr\n",
      "Relative difference:  0.29994838316161015 %\n"
     ]
    }
   ],
   "source": [
    "### Step 2. Convert to molar basis\n",
    "# Vapor flowrate in [lb-mol / hr]\n",
    "# How much does neglecting SO2 in feed change the final answer?\n",
    "V = m_air / mw_air + m_SO2 / mw_SO2;\n",
    "Valt = m_air / mw_air\n",
    "\n",
    "print(\"Flowrate if SO2 is considered\",V,\" lb-mol / hr\")\n",
    "print(\"Flowrate if SO2 is neglected\",Valt,\" lb-mol/hr\")\n",
    "print(\"Relative difference: \",(V-Valt)/V*100,\"%\")"
   ]
  },
  {
   "cell_type": "markdown",
   "metadata": {},
   "source": [
    "Not very important! We can live with a 0.3% error."
   ]
  },
  {
   "cell_type": "markdown",
   "metadata": {},
   "source": [
    "<div style=\"background-color: rgba(0,255,0,0.05) ; padding: 10px; border: 1px solid darkgreen;\"> <b>Home Activity</b>: Compute the mole fraction of SO$_2$ in the vapor inlet. Store your answer in <tt>yin</tt>\n",
    "</div>"
   ]
  },
  {
   "cell_type": "code",
   "execution_count": 6,
   "metadata": {
    "colab": {
     "base_uri": "https://localhost:8080/",
     "height": 35
    },
    "colab_type": "code",
    "executionInfo": {
     "elapsed": 367,
     "status": "ok",
     "timestamp": 1550522537060,
     "user": {
      "displayName": "Alexander Dowling",
      "photoUrl": "https://lh3.googleusercontent.com/-LChdQ2m5OQE/AAAAAAAAAAI/AAAAAAAAAA0/JeXJe4vQJ7M/s64/photo.jpg",
      "userId": "00988067626794866502"
     },
     "user_tz": 300
    },
    "id": "LiGmnk3X3Ja7",
    "outputId": "910402ba-f5e2-4b9b-d52b-a1cac0672efe"
   },
   "outputs": [
    {
     "name": "stdout",
     "output_type": "stream",
     "text": [
      "yin =  0.2999483831616149 mol %\n"
     ]
    }
   ],
   "source": [
    "# SO2 in flue gas feed\n",
    "### BEGIN SOLUTION\n",
    "yin = (m_SO2 / mw_SO2) / V\n",
    "### END SOLUTION\n",
    "print(\"yin = \",yin*100,\"mol %\")"
   ]
  },
  {
   "cell_type": "code",
   "execution_count": 7,
   "metadata": {
    "collapsed": true,
    "jupyter": {
     "outputs_hidden": true
    },
    "nbgrader": {
     "grade": true,
     "grade_id": "yin",
     "locked": true,
     "points": "0.1",
     "solution": false
    }
   },
   "outputs": [],
   "source": [
    "### BEGIN HIDDEN TESTS\n",
    "yin_ans = 0.003\n",
    "\n",
    "assert np.abs(yin - yin_ans) < 1E-2, \"Check your calculation for yin\"\n",
    "### END HIDDEN TESTS"
   ]
  },
  {
   "cell_type": "markdown",
   "metadata": {},
   "source": [
    "<div style=\"background-color: rgba(0,255,0,0.05) ; padding: 10px; border: 1px solid darkgreen;\"> <b>Home Activity</b>: Compute the mole fraction of SO$_2$ in the vapor outlet if the unit achieves with 98% SO$_2$ removal. Store your answer in <tt>yout</tt>.\n",
    "</div>"
   ]
  },
  {
   "cell_type": "code",
   "execution_count": 8,
   "metadata": {
    "colab": {
     "base_uri": "https://localhost:8080/",
     "height": 35
    },
    "colab_type": "code",
    "executionInfo": {
     "elapsed": 347,
     "status": "ok",
     "timestamp": 1550522537061,
     "user": {
      "displayName": "Alexander Dowling",
      "photoUrl": "https://lh3.googleusercontent.com/-LChdQ2m5OQE/AAAAAAAAAAI/AAAAAAAAAA0/JeXJe4vQJ7M/s64/photo.jpg",
      "userId": "00988067626794866502"
     },
     "user_tz": 300
    },
    "id": "ZbXqFsLv3Ja_",
    "outputId": "ed3938e9-014d-48eb-a8aa-5379bcc275cf"
   },
   "outputs": [
    {
     "name": "stdout",
     "output_type": "stream",
     "text": [
      "yout =  0.005998967663232302 mol %\n"
     ]
    }
   ],
   "source": [
    "### Step 3. Compute vapor outlet composition\n",
    "# SO2 in vapor outlet in [mol frac]\n",
    "\n",
    "### BEGIN SOLUTION\n",
    "yout = (1-eff) * yin\n",
    "### END SOLUTION\n",
    "\n",
    "print(\"yout = \",yout*100,\"mol %\")"
   ]
  },
  {
   "cell_type": "code",
   "execution_count": 9,
   "metadata": {
    "collapsed": true,
    "jupyter": {
     "outputs_hidden": true
    },
    "nbgrader": {
     "grade": true,
     "grade_id": "yout",
     "locked": true,
     "points": "0.1",
     "solution": false
    }
   },
   "outputs": [],
   "source": [
    "### BEGIN HIDDEN TESTS\n",
    "yout_ans = 0.006 / 100\n",
    "\n",
    "assert np.abs(yout - yout_ans) < 1E-2, \"Check your calculation for yout\"\n",
    "### END HIDDEN TESTS"
   ]
  },
  {
   "cell_type": "markdown",
   "metadata": {},
   "source": [
    "Finally, we can apply the formula we derived. We will calculate from lb-mol/hr to lb/hr, because, who really has intuition in lb-mol/hr?"
   ]
  },
  {
   "cell_type": "markdown",
   "metadata": {},
   "source": [
    "<div style=\"background-color: rgba(0,255,0,0.05) ; padding: 10px; border: 1px solid darkgreen;\"> <b>Home Activity</b>: Compute the liquid flowrate. Store your answer in <tt>L</tt> with units lb-mol/hr and <tt>L_lb</tt> with units lb/hr.\n",
    "</div>"
   ]
  },
  {
   "cell_type": "code",
   "execution_count": 10,
   "metadata": {
    "colab": {
     "base_uri": "https://localhost:8080/",
     "height": 69
    },
    "colab_type": "code",
    "executionInfo": {
     "elapsed": 333,
     "status": "ok",
     "timestamp": 1550522537061,
     "user": {
      "displayName": "Alexander Dowling",
      "photoUrl": "https://lh3.googleusercontent.com/-LChdQ2m5OQE/AAAAAAAAAAI/AAAAAAAAAA0/JeXJe4vQJ7M/s64/photo.jpg",
      "userId": "00988067626794866502"
     },
     "user_tz": 300
    },
    "id": "-9AIO0Lx3JbD",
    "outputId": "16cb6403-3601-475f-fa4a-1b03df042b7d"
   },
   "outputs": [
    {
     "name": "stdout",
     "output_type": "stream",
     "text": [
      "xout =  0.00020266782646055073 mol %\n",
      "L =  263414139.5904491 lb-mol/hr\n",
      "L =  4745.479480681025 millon lb/hr of water\n"
     ]
    }
   ],
   "source": [
    "### Step 4. Apply formulas we derived with direct substitution\n",
    "# Liquid outlet composition in [mol frac]\n",
    "xout = yout / K\n",
    "print(\"xout = \",xout*100,\"mol %\")\n",
    "\n",
    "# Liquid flowrate in lb-mol/hr\n",
    "### BEGIN SOLUTION\n",
    "L = V*(yin - yout)/(xout - xin)\n",
    "### END SOLUTION\n",
    "print(\"L = \",L,\"lb-mol/hr\")\n",
    "\n",
    "# Liquid flowrate in lb/hr\n",
    "### BEGIN SOLUTION\n",
    "L_lb = L * mw_water\n",
    "### END SOLUTION\n",
    "print(\"L = \",L_lb/1E6,\"millon lb/hr of water\")"
   ]
  },
  {
   "cell_type": "code",
   "execution_count": 11,
   "metadata": {
    "collapsed": true,
    "jupyter": {
     "outputs_hidden": true
    },
    "nbgrader": {
     "grade": true,
     "grade_id": "L",
     "locked": true,
     "points": "0.1",
     "solution": false
    }
   },
   "outputs": [],
   "source": [
    "### BEGIN HIDDEN TESTS\n",
    "L_ans = 263414140.0\n",
    "L_lb_ans = 4745.0E6\n",
    "\n",
    "assert np.abs(L_ans - L)/L_ans < 0.02, \"Check your calculation for L\"\n",
    "\n",
    "assert np.abs(L_lb - L_lb_ans)/L_lb_ans < 0.02, \"Check your unit conversions.\"\n",
    "\n",
    "### END HIDDEN TESTS"
   ]
  },
  {
   "cell_type": "markdown",
   "metadata": {},
   "source": [
    "I, for one, do not have a good intuition for the size of 1 millions pounds of water. Let's convert into Olympic swimming pools!"
   ]
  },
  {
   "cell_type": "code",
   "execution_count": 12,
   "metadata": {
    "colab": {
     "base_uri": "https://localhost:8080/",
     "height": 35
    },
    "colab_type": "code",
    "executionInfo": {
     "elapsed": 323,
     "status": "ok",
     "timestamp": 1550522537062,
     "user": {
      "displayName": "Alexander Dowling",
      "photoUrl": "https://lh3.googleusercontent.com/-LChdQ2m5OQE/AAAAAAAAAAI/AAAAAAAAAA0/JeXJe4vQJ7M/s64/photo.jpg",
      "userId": "00988067626794866502"
     },
     "user_tz": 300
    },
    "id": "6s4E1Urg3JbG",
    "outputId": "4c4a4547-4ddb-4ddb-c2c2-27ce768e0414"
   },
   "outputs": [
    {
     "name": "stdout",
     "output_type": "stream",
     "text": [
      "L =  862.8144510329138 Olympic swimming pools per hour\n"
     ]
    }
   ],
   "source": [
    "### Step 5. Convert and interpret\n",
    "\n",
    "# How much water does an Olympic swimming pool hold (in [lb])?\n",
    "swimming_pool = 5.5E6;\n",
    "\n",
    "# Convert to swimming pools\n",
    "L_pool = L_lb / swimming_pool\n",
    "print(\"L = \",L_pool,\"Olympic swimming pools per hour\")"
   ]
  },
  {
   "cell_type": "markdown",
   "metadata": {},
   "source": [
    "<div style=\"background-color: rgba(0,0,255,0.05) ; padding: 10px; border: 1px solid darkblue;\"> \n",
    "<b>Class Activity</b>: Compare your home activity results with a partner. Create a list of questions to discuss as a class.\n",
    "</div>"
   ]
  },
  {
   "cell_type": "markdown",
   "metadata": {
    "colab_type": "text",
    "id": "8MZv-9m_3JbJ"
   },
   "source": [
    "### Final Result and Discussion\n",
    "\n",
    "This is the final step of our analysis: interpret the results.\n",
    "\n",
    "Based on these calculates, we approximate a naive WFGD system would require 870 Olympic swimming pools per hour of fresh water to treat the flue gas in the 500 MW power plant.\n"
   ]
  },
  {
   "cell_type": "markdown",
   "metadata": {},
   "source": [
    "<div style=\"background-color: rgba(0,0,255,0.05) ; padding: 10px; border: 1px solid darkblue;\"> \n",
    "<b>Class Activity</b>: As a class, complete the following: (i) This result is reasonable/unreasonable because... (ii) To refine these calculations, we could...\n",
    "</div>"
   ]
  },
  {
   "cell_type": "markdown",
   "metadata": {
    "tags": []
   },
   "source": [
    "## FGD Revisited with Linear Algebra"
   ]
  },
  {
   "cell_type": "markdown",
   "metadata": {},
   "source": [
    "Earlier in this notebook we practiced modeling and problem solving steps from CBE 20255. We performed direct substitution on paper and used Python as a simple calculator. Is there an alternate way to attack this problem? You bet!"
   ]
  },
  {
   "cell_type": "markdown",
   "metadata": {
    "colab_type": "text",
    "id": "e0Sbk-M93JbU"
   },
   "source": [
    "### Rewrite Model as a Linear System\n",
    "\n",
    "If we write the model in matrix form, we can use tools from linear algebra to solve the equations simultaneously."
   ]
  },
  {
   "cell_type": "markdown",
   "metadata": {},
   "source": [
    "<div style=\"background-color: rgba(0,0,255,0.05) ; padding: 10px; border: 1px solid darkblue;\"> \n",
    "<b>Class Activity</b>: Rewrite the mathematical model as a linear system of equations.\n",
    "</div>"
   ]
  },
  {
   "cell_type": "markdown",
   "metadata": {},
   "source": [
    "### Solve Linear System with Python"
   ]
  },
  {
   "cell_type": "markdown",
   "metadata": {},
   "source": [
    "Now let's see how to solve a linear system of equations in Python. Notice, we need to choose a value of $L$."
   ]
  },
  {
   "cell_type": "code",
   "execution_count": 20,
   "metadata": {},
   "outputs": [
    {
     "name": "stdout",
     "output_type": "stream",
     "text": [
      "A = \n",
      " [[ 1.00000000e+10  1.81614823e+05]\n",
      " [ 2.96000000e+01 -1.00000000e+00]]\n",
      "\n",
      "b = \n",
      " [544.75072581   0.        ]\n",
      "\n",
      "z = \n",
      " [5.44458036e-08 1.61159579e-06]\n"
     ]
    }
   ],
   "source": [
    "# Assemble linear system\n",
    "A = np.array([[L, V],[K, -1]])\n",
    "print(\"A = \\n\",A)\n",
    "\n",
    "b = np.array([L*xin + V*yin, 0])\n",
    "print(\"\\nb = \\n\",b)\n",
    "\n",
    "# Solve linear system\n",
    "z = np.linalg.solve(A,b)\n",
    "\n",
    "print(\"\\nz = \\n\",z)"
   ]
  },
  {
   "cell_type": "markdown",
   "metadata": {},
   "source": [
    "### Perform Sensitivity Analysis to Determine L"
   ]
  },
  {
   "cell_type": "markdown",
   "metadata": {},
   "source": [
    "How can we use our model to calculate $L$ for the design goal? We can perform sensitivity analysis and plot our results. Consider the following steps:\n",
    "* Loop over a range of L values. For each value of L:\n",
    " * Solve the linear system\n",
    " * Record yout\n",
    "* Plot L vs yout on a semilog plot.\n",
    "* Add the design target for yout to the plot."
   ]
  },
  {
   "cell_type": "markdown",
   "metadata": {},
   "source": [
    "<div style=\"background-color: rgba(0,0,255,0.05) ; padding: 10px; border: 1px solid darkblue;\"> \n",
    "<b>Class Activity</b>: Write pseudocode to perform the following steps.\n",
    "</div>"
   ]
  },
  {
   "cell_type": "code",
   "execution_count": 14,
   "metadata": {},
   "outputs": [
    {
     "name": "stdout",
     "output_type": "stream",
     "text": [
      "[1.00000000e+06 2.78255940e+06 7.74263683e+06 2.15443469e+07\n",
      " 5.99484250e+07 1.66810054e+08 4.64158883e+08 1.29154967e+09\n",
      " 3.59381366e+09 1.00000000e+10]\n"
     ]
    }
   ],
   "source": [
    "# Create values of L to try that are log spaced\n",
    "print(np.logspace(6,10,10))"
   ]
  },
  {
   "cell_type": "code",
   "execution_count": 15,
   "metadata": {
    "colab": {
     "base_uri": "https://localhost:8080/",
     "height": 365
    },
    "colab_type": "code",
    "executionInfo": {
     "elapsed": 1326,
     "status": "ok",
     "timestamp": 1550522538081,
     "user": {
      "displayName": "Alexander Dowling",
      "photoUrl": "https://lh3.googleusercontent.com/-LChdQ2m5OQE/AAAAAAAAAAI/AAAAAAAAAA0/JeXJe4vQJ7M/s64/photo.jpg",
      "userId": "00988067626794866502"
     },
     "user_tz": 300
    },
    "id": "swgDjG4G3Jbp",
    "outputId": "793ebeb2-4a3a-41f6-dbd8-8483f0b19120"
   },
   "outputs": [
    {
     "data": {
      "image/png": "[encoded data removed]",
      "text/plain": [
       "<Figure size 432x288 with 1 Axes>"
      ]
     },
     "metadata": {},
     "output_type": "display_data"
    }
   ],
   "source": [
    "import matplotlib.pyplot as plt\n",
    "%matplotlib inline\n",
    "\n",
    "# define values from 1E6 to 1E10 to try for L\n",
    "Ltry = np.logspace(6,10,10)\n",
    "\n",
    "# allocate array to store results\n",
    "yout_store = np.zeros(len(Ltry))\n",
    "\n",
    "count = 0\n",
    "# Loop through values in Ltry\n",
    "### BEGIN SOLUTION\n",
    "for L in Ltry:\n",
    "### END SOLUION\n",
    "    # Assemble linear system\n",
    "    ### BEGIN SOLUTION\n",
    "    A = np.array([[L, V],[K, -1]])\n",
    "    b = np.array([L*xin + V*yin, 0])\n",
    "    ### END SOLUTION\n",
    "    \n",
    "    # Solve linear system\n",
    "    ### BEGIN SOLUTION\n",
    "    z = np.linalg.solve(A,b)\n",
    "    ### END SOLUTION\n",
    "    \n",
    "    # Store value\n",
    "    ### BEGIN SOLUTION\n",
    "    yout_store[count] = z[1]\n",
    "    ### END SOLUTION\n",
    "    \n",
    "    # increment counter\n",
    "    ### BEGIN SOLUTION\n",
    "    count += 1\n",
    "    ### END SOLUTION\n",
    "\n",
    "# convert L to swimming pool units\n",
    "Ltry2 = Ltry * mw_water / swimming_pool\n",
    "\n",
    "# create plot\n",
    "### BEGIN SOLUTION\n",
    "plt.semilogx(Ltry2, yout_store*100,label=\"predicted $y_{out}$\",marker=\"o\",color=\"blue\")\n",
    "plt.semilogx(Ltry2, yout*np.ones(len(Ltry))*100,label=\"target\",linestyle=\"--\",color=\"red\")\n",
    "plt.legend()\n",
    "plt.xlabel(\"L [in Olympic swimming pools per hour]\")\n",
    "plt.ylabel(\"$y_{out}$ [in mol % SO$_2$]\")\n",
    "plt.grid(True)\n",
    "plt.show()\n",
    "### END SOLUTION"
   ]
  }
 ],
 "metadata": {
  "colab": {
   "collapsed_sections": [],
   "name": "L7-Algebraic-Modeling.ipynb",
   "provenance": [],
   "version": "0.3.2"
  },
  "kernelspec": {
   "display_name": "Python 3 (ipykernel)",
   "language": "python",
   "name": "python3"
  },
  "language_info": {
   "codemirror_mode": {
    "name": "ipython",
    "version": 3
   },
   "file_extension": ".py",
   "mimetype": "text/x-python",
   "name": "python",
   "nbconvert_exporter": "python",
   "pygments_lexer": "ipython3",
   "version": "3.9.12"
  }
 },
 "nbformat": 4,
 "nbformat_minor": 4
}
