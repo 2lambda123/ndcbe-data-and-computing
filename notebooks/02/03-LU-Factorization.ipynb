{
 "cells": [
  {
   "cell_type": "markdown",
   "metadata": {
    "colab_type": "text",
    "id": "h9OurOQm7kmq"
   },
   "source": [
    "# LU Decomposition and Condition Number\n",
    "\n",
    "CBE 20258. Numerical and Statistical Analysis. Spring 2020.\n",
    "\n",
    "&#169; University of Notre Dame"
   ]
  },
  {
   "cell_type": "markdown",
   "metadata": {},
   "source": [
    "## Learning Objectives\n",
    "\n",
    "After studying this notebook, completing the activities, and asking questions in class, you should be able to:\n",
    "* Explain to a classmate how Gaussian elimination and LU factorization are similar and different\n",
    "* In Python, use LU factorization to solve a linear system of equations\n",
    "* For LU factorization with partial pivoting, explain the following (same as Gaussian elimination last class):\n",
    "    * Why is it important? What are the benefits?\n",
    "    * How does the algorithm work? What are the basic steps?\n",
    "    * What are the limitations? What cases will partial pivoting not work?\n",
    "* Interpret the rank of a matrix. What does it mean about the corresponding linear system?\n",
    "* Propagate uncertainty through the solution of a linear system using condition number."
   ]
  },
  {
   "cell_type": "code",
   "execution_count": 1,
   "metadata": {
    "tags": []
   },
   "outputs": [],
   "source": [
    "import numpy as np"
   ]
  },
  {
   "cell_type": "markdown",
   "metadata": {
    "colab_type": "text",
    "id": "y4pIjfdq7kms"
   },
   "source": [
    "## Motivation: Solving the \"Same\" System Multiple Times"
   ]
  },
  {
   "cell_type": "markdown",
   "metadata": {
    "colab_type": "text",
    "id": "0wRUEzLH7kmu"
   },
   "source": [
    "In practice, you often want to solve the same linear system multiple times with different right-hand side vectors $\\vec{b}$. For example, imagine resolving the same mass balance problem with different inlet and outlet compositions.\n",
    "\n",
    "From the previous class, we know how to use Gaussian elimination to solve a linear system. But with Gaussian elimination, we need to redo the entire algorithm separately for each new instance of $\\vec{b}$. Is there an algorithm that lets us reuse some of our work? Spoiler alert: yes, and it is called LU factorization."
   ]
  },
  {
   "cell_type": "markdown",
   "metadata": {
    "colab_type": "text",
    "id": "AJrm5uHr7kmu"
   },
   "source": [
    "## LU Factorization"
   ]
  },
  {
   "cell_type": "markdown",
   "metadata": {
    "colab_type": "text",
    "id": "4_rBLK8m7kmu"
   },
   "source": [
    "LU factorization writes a matrix $\\mathbf{A}$ as the product of a lower triangular matrix (that is a matrix with nonzero elements on the diagonal and below) times an upper triangular matrix (that is a matrix with nonzero elements above the diagonal). In other words, $\\mathbf{A} = \\mathbf{LU},$ where $$\\mathbf{L} = \\begin{pmatrix} * & 0 & \\dots\\\\ * & * & 0 & \\dots\\\\ * & * & * &0 & \\dots\\\\ \\vdots & \\vdots & \\vdots & \\ddots\\\\ * & * & * & \\dots & * \\end{pmatrix},$$ and $$\\mathbf{U} = \\begin{pmatrix} * & * & * & \\dots & * \\\\ \n",
    "0 & * & * & \\dots & * \\\\ \n",
    "0 & 0 & \\ddots & \\dots & *\\\\ \n",
    "\\vdots & \\vdots & \\vdots & \\ddots\\\\\n",
    "0 & \\dots & &0 & *\\end{pmatrix},$$ where the $*$ denote a potentially nonzero matrix element.  \n",
    "\n",
    "The question remains; how we find the entries in the matrices in the LU factorization?  To see this, let's look at a matrix we used in last class: $$\\begin{pmatrix} 3 & 2 & 1\\\\ -1 & 4 & 5\\\\ 2& -8 & 10\\end{pmatrix},$$ we want to find the matrix LU such that \n",
    "$$\\begin{pmatrix} l_{11} & 0 & 0\\\\ l_{21} & l_{22} & 0\\\\ l_{31}& l_{32} & l_{33}\\end{pmatrix} \\begin{pmatrix} u_{11} & u_{12} & u_{13}\\\\ 0 & u_{22} & u_{23}\\\\ 0& 0 & u_{33}\\end{pmatrix}=\\begin{pmatrix} 3 & 2 & 1\\\\ -1 & 4 & 5\\\\ 2& -8 & 10\\end{pmatrix}.$$"
   ]
  },
  {
   "cell_type": "markdown",
   "metadata": {},
   "source": [
    "<div style=\"background-color: rgba(0,255,0,0.05) ; padding: 10px; border: 1px solid darkgreen;\"> \n",
    "<b>Home Activity</b>: Please read through the explanation below. Think of at least one question to ask in class.\n",
    "</div>"
   ]
  },
  {
   "cell_type": "markdown",
   "metadata": {
    "colab_type": "text",
    "id": "dDtQ7oB57kmv"
   },
   "source": [
    "It's not exactly clear right now, but we actually have a few choices at this point.  The first choice we have is which diagonal, either $\\mathbf{L}$ or $\\mathbf{U}$, we want to be all ones.  We will choose to have all the $l_{ii} = 1$, that is the $\\mathbf{L}$ matrix has a diagonal of all 1's. (This means we are choosing Doolittle's method for LU factorization.) Performing the matrix multiplication we get 9 equations and 9 unknowns for the factorization. The product of the first column of $\\mathbf{U}$ by the first column of $\\mathbf{L}$ gives \n",
    "$$ u_{11} = 3\\\\ l_{21} u_{11} = -1\\\\ l_{31} u_{11} = 2.$$ Which gives us\n",
    "$$u_{11} = 3,\\\\ l_{21} = -\\frac{1}{3},\\\\ l_{31} = \\frac{2}{3}.$$ Notice that the solutions below the diagaonal, the $l_{21}$ and $l_{31}$, are the factors we used in our Gaussian elimination algorithm to remove the first column in the second and third equations. And the $u_{11}$ value is that found in the same position in our Gaussian-eliminated matrix. \n",
    "\n",
    "Continuing on, the equations from the second column are\n",
    "$$ u_{12} = 2,\\\\ u_{12}l_{21} + u_{22}  = 4,\\\\ u_{12} l_{31} + u_{22} l_{32} = -8,$$ the solutions to these equations are \n",
    "$$u_{12} = 2,\\\\ u_{22} =  4\\frac{2}{3}, \\\\ l_{32} = -2.$$ You probably don't remember, because I didn't, but the value of $l_{32}$ is the value of the factor used to eliminate the second column below the diagonal in the Gaussian elimination example from the last notebook. Finally, the last three equations are \n",
    "$$ u_{13} = 1,\\\\u_{13} l_{21} + u_{23} = 5,\\\\ u_{13} l_{31} + u_{23}l_{32} + u_{33} = 10.$$ The solutions to these equations are\n",
    "$$u_{13} = 1, \\\\u_{23} = 5\\frac{1}{3},\\\\ u_{33} = 20.$$ These are precisely the values of the third column in or Gaussian elimination example. "
   ]
  },
  {
   "cell_type": "markdown",
   "metadata": {
    "colab_type": "text",
    "id": "JmkOGENF7kmv"
   },
   "source": [
    "In other words our factorization looks like:\n",
    "$$\\underbrace{\\begin{pmatrix} 1 & 0 & 0\\\\ -\\frac{1}{3} & 1& 0\\\\ \\frac{2}{3} & -2 & 1\\end{pmatrix}}_{\\mathbf{L}} \\underbrace{\\begin{pmatrix} 3 & 2 & 1\\\\ 0 & 4\\frac{2}{3} & 5\\frac{1}{3}\\\\ 0& 0 & 20\\end{pmatrix}}_{\\mathbf{U}}=\\underbrace{\\begin{pmatrix} 3 & 2 & 1\\\\ -1 & 4 & 5\\\\ 2& -8 & 10\\end{pmatrix}}_{\\mathbf{A}}.$$"
   ]
  },
  {
   "cell_type": "markdown",
   "metadata": {},
   "source": [
    "<div style=\"background-color: rgba(0,255,0,0.05) ; padding: 10px; border: 1px solid darkgreen;\"> \n",
    "    <b>Home Activity</b>: Let's verify the above equation is correct. Create numpy arrays <tt>L</tt> and <tt>U</tt> for the example above. Then multiple matrices <tt>L</tt> and <tt>U</tt> and store the results in <tt>A</tt>.\n",
    "</div>"
   ]
  },
  {
   "cell_type": "code",
   "execution_count": 2,
   "metadata": {},
   "outputs": [
    {
     "name": "stdout",
     "output_type": "stream",
     "text": [
      "L = \n",
      " [[ 1.          0.          0.        ]\n",
      " [-0.33333333  1.          0.        ]\n",
      " [ 0.66666667 -2.          1.        ]] \n",
      "\n",
      "U = \n",
      " [[ 3.          2.          1.        ]\n",
      " [ 0.          4.66666667  5.33333333]\n",
      " [ 0.          0.         20.        ]] \n",
      "\n",
      "A = \n",
      " [[ 3.  2.  1.]\n",
      " [-1.  4.  5.]\n",
      " [ 2. -8. 10.]] \n",
      "\n"
     ]
    }
   ],
   "source": [
    "### BEGIN SOLUTION\n",
    "L = np.array([[1, 0, 0], [-1/3, 1, 0], [2/3, -2, 1]])\n",
    "U = np.array([[3, 2, 1], [0, 4 + 2/3, 5 + 1/3], [0, 0, 20]])\n",
    "print(\"L = \\n\",L,\"\\n\")\n",
    "print(\"U = \\n\",U,\"\\n\")\n",
    "\n",
    "A = L @ U\n",
    "print(\"A = \\n\",A,\"\\n\")\n",
    "### END SOLUTION"
   ]
  },
  {
   "cell_type": "code",
   "execution_count": 3,
   "metadata": {
    "nbgrader": {
     "grade": true,
     "grade_id": "7b",
     "locked": true,
     "points": "0.1",
     "solution": false
    },
    "tags": []
   },
   "outputs": [],
   "source": [
    "### BEGIN HIDDEN TESTS\n",
    "\n",
    "L_ans = np.array([[1, 0, 0], [-1/3, 1, 0], [2/3, -2, 1]])\n",
    "U_ans = np.array([[3, 2, 1], [0, 4 + 2/3, 5 + 1/3], [0, 0, 20]])\n",
    "A_ans = np.array([[ 3.,  2.,  1.], [-1.,  4.,  5.], [ 2., -8., 10.]])\n",
    "\n",
    "assert np.shape(L) == (3,3), \"L should be a 3x3 numpy array\"\n",
    "assert np.shape(U) == (3,3), \"U should be a 3x3 numpy array\"\n",
    "assert np.shape(A) == (3,3), \"A should be a 3x3 numpy array\"\n",
    "\n",
    "for i in range(3):\n",
    "    for j in range(3):\n",
    "        assert np.abs(L_ans[i,j] - L[i,j]) < 1E-6, \"Check the (\"+str(i)+\",\"+str(j)+\") element in L\"\n",
    "        assert np.abs(U_ans[i,j] - U[i,j]) < 1E-6, \"Check the (\"+str(i)+\",\"+str(j)+\") element in U\"\n",
    "\n",
    "assert np.linalg.norm(A - A_ans) < 1E-6, \"Check your A matrix\"\n",
    "\n",
    "### END HIDDEN TESTS"
   ]
  },
  {
   "cell_type": "markdown",
   "metadata": {},
   "source": [
    "Some observations:\n",
    "1. The upper triangular matrix is the same as the matrix we received after doing Gaussian elimination\n",
    "2. The non-zero and non-diagonal elements of the lower triangular matrix are the factors we used to arrive at our Gaussian matrix.\n",
    "\n",
    "This suggests that we can reformulate our Gaussian elimination example to give us an LU factorization."
   ]
  },
  {
   "cell_type": "markdown",
   "metadata": {},
   "source": [
    "<div style=\"background-color: rgba(0,255,0,0.05) ; padding: 10px; border: 1px solid darkgreen;\"> \n",
    "<b>Home Activity</b>: Write down questions you can ask in class about the example above.\n",
    "</div>"
   ]
  },
  {
   "cell_type": "markdown",
   "metadata": {},
   "source": [
    "Record your question(s) here."
   ]
  },
  {
   "cell_type": "markdown",
   "metadata": {},
   "source": [
    "<div style=\"background-color: rgba(0,0,255,0.05) ; padding: 10px; border: 1px solid darkblue;\"> \n",
    "<b>Class Activity</b>: Walk through the LU factorization example together.\n",
    "</div>"
   ]
  },
  {
   "cell_type": "markdown",
   "metadata": {
    "colab_type": "text",
    "id": "U74yPAtT7kmx"
   },
   "source": [
    "### Our First Function for LU Factorization\n",
    "\n",
    "We will now generalize the LU factorization algorithm into a Python function. "
   ]
  },
  {
   "cell_type": "code",
   "execution_count": 6,
   "metadata": {
    "colab": {
     "base_uri": "https://localhost:8080/",
     "height": 867
    },
    "colab_type": "code",
    "executionInfo": {
     "elapsed": 340,
     "status": "ok",
     "timestamp": 1549983620403,
     "user": {
      "displayName": "Alexander Dowling",
      "photoUrl": "https://lh3.googleusercontent.com/-LChdQ2m5OQE/AAAAAAAAAAI/AAAAAAAAAA0/JeXJe4vQJ7M/s64/photo.jpg",
      "userId": "00988067626794866502"
     },
     "user_tz": 300
    },
    "id": "I6a5i92X7kmy",
    "outputId": "b228081b-e1eb-4210-d260-b71a90e742d2"
   },
   "outputs": [
    {
     "name": "stdout",
     "output_type": "stream",
     "text": [
      "The original matrix is\n",
      " [[ 3.  2.  1.]\n",
      " [-1.  4.  5.]\n",
      " [ 2. -8. 10.]]\n",
      "After working on column 0 and row 1\n",
      "L = \n",
      " [[ 1.          0.          0.        ]\n",
      " [-0.33333333  1.          0.        ]\n",
      " [ 0.          0.          1.        ]]\n",
      "U = \n",
      " [[ 3.          2.          1.        ]\n",
      " [ 0.          4.66666667  5.33333333]\n",
      " [ 2.         -8.         10.        ]]\n",
      "\n",
      "\n",
      "After working on column 0 and row 2\n",
      "L = \n",
      " [[ 1.          0.          0.        ]\n",
      " [-0.33333333  1.          0.        ]\n",
      " [ 0.66666667  0.          1.        ]]\n",
      "U = \n",
      " [[ 3.          2.          1.        ]\n",
      " [ 0.          4.66666667  5.33333333]\n",
      " [ 0.         -9.33333333  9.33333333]]\n",
      "\n",
      "\n",
      "After working on column 1 and row 2\n",
      "L = \n",
      " [[ 1.          0.          0.        ]\n",
      " [-0.33333333  1.          0.        ]\n",
      " [ 0.66666667 -2.          1.        ]]\n",
      "U = \n",
      " [[ 3.          2.          1.        ]\n",
      " [ 0.          4.66666667  5.33333333]\n",
      " [ 0.          0.         20.        ]]\n",
      "\n",
      "\n",
      "L * U = \n",
      "\n",
      "[[ 1.          0.          0.        ]\n",
      " [-0.33333333  1.          0.        ]\n",
      " [ 0.66666667 -2.          1.        ]] \n",
      "*\n",
      " [[ 3.          2.          1.        ]\n",
      " [ 0.          4.66666667  5.33333333]\n",
      " [ 0.          0.         20.        ]] \n",
      "=\n",
      " [[ 3.  2.  1.]\n",
      " [-1.  4.  5.]\n",
      " [ 2. -8. 10.]]\n"
     ]
    }
   ],
   "source": [
    "import numpy as np\n",
    "def LU_factor1(A,LOUD=True):\n",
    "    '''Compute LU (Doolitte) decomposition of A\n",
    "    \n",
    "    Args:\n",
    "        A: N by N array\n",
    "    \n",
    "    Returns:\n",
    "        L: N by N array\n",
    "        U: N by N array\n",
    "    \n",
    "    Side Effect:\n",
    "        Does not modify A\n",
    "    '''\n",
    "    \n",
    "    # Check dimensions\n",
    "    [Nrow, Ncol] = A.shape\n",
    "    assert Nrow == Ncol\n",
    "    N = Nrow\n",
    "    \n",
    "    # Allocate L as identify matrix\n",
    "    L = np.eye(N)\n",
    "    \n",
    "    # Copy A into U\n",
    "    U = A.copy()\n",
    "    \n",
    "    # Loop over columns\n",
    "    for c in range(0,N):\n",
    "    \n",
    "        # Loop over rows\n",
    "        for r in range(c+1,N):\n",
    "        \n",
    "            # Extract row to modify\n",
    "            mod_row = U[r,:]\n",
    "            \n",
    "            # Calculate factor (just like Gaussian Elimination)\n",
    "            factor = mod_row[c]/U[c,c]\n",
    "            \n",
    "            # Save factor into L\n",
    "            L[r,c] = factor\n",
    "            \n",
    "            # Perform elimination, save into U\n",
    "            mod_row -= factor*U[c]\n",
    "            \n",
    "            #mod_row = U[r-1,:]\n",
    "            \n",
    "            if LOUD:\n",
    "                print(\"After working on column\",c,\"and row\",r)\n",
    "                print(\"L = \\n\",L)\n",
    "                print(\"U = \\n\",U)\n",
    "                print(\"\\n\")\n",
    "    return L,U\n",
    "            \n",
    "#let's try it on a 3 x 3 to start\n",
    "A = np.array([(3.0,2,1),(-1,4,5),(2,-8,10)])\n",
    "print(\"The original matrix is\\n\",A)\n",
    "L,U = LU_factor1(A)\n",
    "#print(\"The LU factored A is\\n\",A) \n",
    "    \n",
    "print(\"L * U = \\n\")\n",
    "print(L,\"\\n*\\n\",U,\"\\n=\\n\",L.dot(U))"
   ]
  },
  {
   "cell_type": "markdown",
   "metadata": {},
   "source": [
    "We see that our function gives the same `L` and `U` as before. At the start of class, we will work through the LU decomposition example on the board together for this example. We will then revist the function above."
   ]
  },
  {
   "cell_type": "markdown",
   "metadata": {},
   "source": [
    "<div style=\"background-color: rgba(0,255,0,0.05) ; padding: 10px; border: 1px solid darkgreen;\"> \n",
    "    <b>Home Activity</b>: Perform LU decomposition for matrix <tt>A1</tt>, which is defined below. Store the results in variables <tt>L1</tt> and <tt>U1</tt>.\n",
    "</div>"
   ]
  },
  {
   "cell_type": "code",
   "execution_count": 7,
   "metadata": {},
   "outputs": [
    {
     "name": "stdout",
     "output_type": "stream",
     "text": [
      "A1 = \n",
      " [[ 1.  2.  3.]\n",
      " [-1.  2.  1.]\n",
      " [ 1.  2.  0.]] \n",
      "\n",
      "After working on column 0 and row 1\n",
      "L = \n",
      " [[ 1.  0.  0.]\n",
      " [-1.  1.  0.]\n",
      " [ 0.  0.  1.]]\n",
      "U = \n",
      " [[1. 2. 3.]\n",
      " [0. 4. 4.]\n",
      " [1. 2. 0.]]\n",
      "\n",
      "\n",
      "After working on column 0 and row 2\n",
      "L = \n",
      " [[ 1.  0.  0.]\n",
      " [-1.  1.  0.]\n",
      " [ 1.  0.  1.]]\n",
      "U = \n",
      " [[ 1.  2.  3.]\n",
      " [ 0.  4.  4.]\n",
      " [ 0.  0. -3.]]\n",
      "\n",
      "\n",
      "After working on column 1 and row 2\n",
      "L = \n",
      " [[ 1.  0.  0.]\n",
      " [-1.  1.  0.]\n",
      " [ 1.  0.  1.]]\n",
      "U = \n",
      " [[ 1.  2.  3.]\n",
      " [ 0.  4.  4.]\n",
      " [ 0.  0. -3.]]\n",
      "\n",
      "\n"
     ]
    }
   ],
   "source": [
    "A1 = np.array([[1., 2, 3],[-1, 2, 1], [1, 2, 0]])\n",
    "print(\"A1 = \\n\",A1,\"\\n\")\n",
    "\n",
    "### BEGIN SOLUTION\n",
    "L1, U1 = LU_factor1(A1)\n",
    "### END SOLUTION"
   ]
  },
  {
   "cell_type": "code",
   "execution_count": 8,
   "metadata": {
    "nbgrader": {
     "grade": true,
     "grade_id": "7b-i",
     "locked": true,
     "points": "0.1",
     "solution": false
    },
    "tags": []
   },
   "outputs": [],
   "source": [
    "### BEGIN HIDDEN TESTS\n",
    "L1_ans = np.array([[ 1.,  0.,  0.], [-1.,  1.,  0.], [ 1.,  0.,  1.]])\n",
    "U1_ans = np.array([[ 1.,  2.,  3.], [ 0.,  4.,  4.],[ 0.,  0., -3.]])\n",
    "assert np.shape(L1) == (3,3), \"L1 should be a 3x3 matrix\"\n",
    "assert np.shape(U1) == (3,3), \"U1 should be a 3x3 matrix\"\n",
    "\n",
    "assert np.linalg.norm(L1 - L1_ans) < 1E-4, \"L1 is not correct. Check you are passing in the correct A matrix.\"\n",
    "assert np.linalg.norm(U1 - U1_ans) < 1E-4, \"U1 is not correct. Check you are passing in the correct A matrix.\"\n",
    "### END HIDDEN TESTS"
   ]
  },
  {
   "cell_type": "markdown",
   "metadata": {},
   "source": [
    "<div style=\"background-color: rgba(0,255,0,0.05) ; padding: 10px; border: 1px solid darkgreen;\"> \n",
    "<b>Home Activity</b>: Spend 5 honest minutes reading through the function <tt>LU_factor1</tt>. Write down at least two questions you have right now.\n",
    "</div>"
   ]
  },
  {
   "cell_type": "markdown",
   "metadata": {},
   "source": [
    "My questions while inspecting the code below:\n",
    "1. \n",
    "2. "
   ]
  },
  {
   "cell_type": "markdown",
   "metadata": {},
   "source": [
    "<div style=\"background-color: rgba(0,0,255,0.05) ; padding: 10px; border: 1px solid darkblue;\"> \n",
    "<b>Class Activity</b>: Revist your list of questions about <tt>LU_factor1</tt> with your neighbor. We'll then regroup and discuss as a class.\n",
    "</div>"
   ]
  },
  {
   "cell_type": "markdown",
   "metadata": {
    "colab_type": "text",
    "id": "XLcPPFps7km2"
   },
   "source": [
    "### A More Memory Efficient Version\n",
    "\n",
    "Our function `LU_factor1` makes a copy of `A` to initialize `U`. This is nice because it does not overwrite the original `A`. But imagine if `A` was a 10 million by 10 million matrix. Making a copy would be expensive and require a lot of memory.\n",
    "    \n",
    "Instead, the function below also performs LU factorization. But instead of returning ``L`` and ``U``, it overwrites `A` with the factorization result. This avoids copying large matrices."
   ]
  },
  {
   "cell_type": "code",
   "execution_count": 9,
   "metadata": {
    "colab": {
     "base_uri": "https://localhost:8080/",
     "height": 153
    },
    "colab_type": "code",
    "executionInfo": {
     "elapsed": 296,
     "status": "ok",
     "timestamp": 1549983758827,
     "user": {
      "displayName": "Alexander Dowling",
      "photoUrl": "https://lh3.googleusercontent.com/-LChdQ2m5OQE/AAAAAAAAAAI/AAAAAAAAAA0/JeXJe4vQJ7M/s64/photo.jpg",
      "userId": "00988067626794866502"
     },
     "user_tz": 300
    },
    "id": "yFyPUD1J7km2",
    "outputId": "f60a69ff-f032-4e39-e1fb-04a40f142965"
   },
   "outputs": [
    {
     "name": "stdout",
     "output_type": "stream",
     "text": [
      "The original matrix is\n",
      " [[ 3.  2.  1.]\n",
      " [-1.  4.  5.]\n",
      " [ 2. -8. 10.]]\n",
      "The LU factored A is\n",
      " [[ 3.          2.          1.        ]\n",
      " [-0.33333333  4.66666667  5.33333333]\n",
      " [ 0.66666667 -2.         20.        ]]\n"
     ]
    }
   ],
   "source": [
    "import numpy as np\n",
    "def LU_factor(A):\n",
    "    \"\"\"Factor in place A into L*U=A. \n",
    "    The lower triangular parts of A\n",
    "    are the L matrix.  \n",
    "    The L has implied ones on the diagonal.\n",
    "    Args:\n",
    "        A: N by N array\n",
    "    Side Effects:\n",
    "        A is factored in place.\n",
    "    \"\"\"\n",
    "    [Nrow, Ncol] = A.shape\n",
    "    assert Nrow == Ncol\n",
    "    N = Nrow\n",
    "    for column in range(0,N):\n",
    "        for row in range(column+1,N):\n",
    "            mod_row = A[row]\n",
    "            factor = mod_row[column]/A[column,column]\n",
    "            mod_row = mod_row - factor*A[column,:]\n",
    "            #put the factor in the correct place in the modified row\n",
    "            mod_row[column] = factor\n",
    "            #only take the part of the modified row we need\n",
    "            mod_row = mod_row[column:N]\n",
    "            A[row,column:N] = mod_row\n",
    "    return\n",
    "\n",
    "#let's try it on a 3 x 3 to start\n",
    "A = np.array([(3.0,2,1),(-1,4,5),(2,-8,10)])\n",
    "print(\"The original matrix is\\n\",A)\n",
    "LU_factor(A)\n",
    "print(\"The LU factored A is\\n\",A)"
   ]
  },
  {
   "cell_type": "markdown",
   "metadata": {},
   "source": [
    "Notice how our matrix `A` has changed:"
   ]
  },
  {
   "cell_type": "code",
   "execution_count": 10,
   "metadata": {},
   "outputs": [
    {
     "name": "stdout",
     "output_type": "stream",
     "text": [
      "[[ 3.          2.          1.        ]\n",
      " [-0.33333333  4.66666667  5.33333333]\n",
      " [ 0.66666667 -2.         20.        ]]\n"
     ]
    }
   ],
   "source": [
    "print(A)"
   ]
  },
  {
   "cell_type": "markdown",
   "metadata": {},
   "source": [
    "<div style=\"background-color: rgba(0,255,0,0.05) ; padding: 10px; border: 1px solid darkgreen;\"> \n",
    "    <b>Home Activity</b>: Use <tt>LU_factor</tt> for the example below. Your matrix <tt>A1</tt> should change.\n",
    "</div>"
   ]
  },
  {
   "cell_type": "code",
   "execution_count": 11,
   "metadata": {},
   "outputs": [
    {
     "name": "stdout",
     "output_type": "stream",
     "text": [
      "A1 (original) = \n",
      " [[ 1.  2.  3.]\n",
      " [-1.  2.  1.]\n",
      " [ 1.  2.  0.]] \n",
      "\n",
      "A1 (factored) = \n",
      " [[ 1.  2.  3.]\n",
      " [-1.  4.  4.]\n",
      " [ 1.  0. -3.]] \n",
      "\n"
     ]
    }
   ],
   "source": [
    "A1 = np.array([[1., 2, 3],[-1, 2, 1], [1, 2, 0]])\n",
    "print(\"A1 (original) = \\n\",A1,\"\\n\")\n",
    "\n",
    "### BEGIN SOLUTION\n",
    "LU_factor(A1)\n",
    "### END SOLUTION\n",
    "\n",
    "print(\"A1 (factored) = \\n\",A1,\"\\n\")"
   ]
  },
  {
   "cell_type": "code",
   "execution_count": 12,
   "metadata": {
    "nbgrader": {
     "grade": true,
     "grade_id": "7b-ii",
     "locked": true,
     "points": "0.2",
     "solution": false
    },
    "tags": []
   },
   "outputs": [],
   "source": [
    "### BEGIN HIDDEN TESTS\n",
    "A1_ans_factored = np.array([[1., 2., 3.],[-1., 4., 4.], [1., 0., -3.]])\n",
    "assert np.shape(A1) == (3,3), \"A1 should be a 3x3 matrix\"\n",
    "assert np.linalg.norm(A1 - A1_ans_factored) < 1E-4, \"A1 is not correct. Check you are passing in the correct A matrix and using LU_factor not LU_factor1.\"\n",
    "### END HIDDEN TESTS"
   ]
  },
  {
   "cell_type": "markdown",
   "metadata": {
    "colab_type": "text",
    "id": "k3yh7WSN7km6"
   },
   "source": [
    "## Solving Linear Systems"
   ]
  },
  {
   "cell_type": "markdown",
   "metadata": {
    "colab_type": "text",
    "id": "guyABpB47km6"
   },
   "source": [
    "This algorithm gives us the same thing our onerous, by-hand procedure did. The question we have not answered is how we can take an LU factored matrix and get the solution to the system $\\mathbf{A}\\vec{x} = \\vec{b}$.\n",
    "\n",
    "Let's start by substituting $\\mathbf{L U} = \\mathbf{A}$ into our original equation:\n",
    "\n",
    "$$\\mathbf{A}\\vec{x} = \\mathbf{LU}\\vec{x} =  \\vec{b}$$\n",
    "\n",
    "Now let's create a new intermediate variable $\\vec{y} = \\mathbf{U} \\vec{x}$. If we substitute $\\vec{y}$ into the $\\mathbf{LU}\\vec{x} =  \\vec{b}$, we get:\n",
    "\n",
    "$$\\mathbf{L}\\vec{y} = \\vec{b}$$"
   ]
  },
  {
   "cell_type": "markdown",
   "metadata": {},
   "source": [
    "<div style=\"background-color: rgba(0,255,0,0.05) ; padding: 10px; border: 1px solid darkgreen;\"> \n",
    "    <b>Home Activity</b>: Compute $\\vec{y}$ for the example below by hand or with Python. Store the results in a numpy array <tt>y</tt>.\n",
    "</div>"
   ]
  },
  {
   "cell_type": "markdown",
   "metadata": {},
   "source": [
    "$$\\mathbf{L} = \\begin{pmatrix} 1 & 0 & 0\\\\ -\\frac{1}{3} & 1& 0\\\\ \\frac{2}{3} & -2 & 1\\end{pmatrix}, \\quad \\vec{b} = \\begin{pmatrix}6 \\\\ 8 \\\\ 4 \\end{pmatrix}\n",
    "$$"
   ]
  },
  {
   "cell_type": "code",
   "execution_count": 13,
   "metadata": {
    "tags": []
   },
   "outputs": [],
   "source": [
    "### BEGIN SOLUTION\n",
    "y = np.array([6, 10, 20])\n",
    "### END SOLUTION"
   ]
  },
  {
   "cell_type": "code",
   "execution_count": 14,
   "metadata": {
    "nbgrader": {
     "grade": true,
     "grade_id": "7c",
     "locked": true,
     "points": "0.2",
     "solution": false
    },
    "tags": []
   },
   "outputs": [],
   "source": [
    "### BEGIN HIDDEN TESTS\n",
    "assert len(y) == 3, \"y should have 3 elements\"\n",
    "assert np.abs(y[0] - 6) < 1E-10, \"Check y[0]\"\n",
    "assert np.abs(y[1] - 10) < 1E-10, \"Check y[1]\"\n",
    "assert np.abs(y[2] - 20) < 1E-10, \"Check y[2]\"\n",
    "### END HIDDEN TESTS"
   ]
  },
  {
   "cell_type": "markdown",
   "metadata": {},
   "source": [
    "You may have noticed in the example, we can easily compute $\\vec{y}$ because $\\mathbf{L}$ is a lower triangular matrix. We start at the top to calculate the first element of $\\vec{y}$. We then move to the next row of $\\mathbf{L}$, substitute and compute the next element of $\\vec{y}$. We call this procedure forward substitution because we start at the top.\n",
    "\n",
    "We now have $\\vec{y}$. We are half way there! We just need to solve the linear system $\\mathbf{U}\\vec{x} = \\vec{y}$."
   ]
  },
  {
   "cell_type": "markdown",
   "metadata": {},
   "source": [
    "<div style=\"background-color: rgba(0,255,0,0.05) ; padding: 10px; border: 1px solid darkgreen;\"> \n",
    "<b>Home Activity</b>: Compute $\\vec{x}$ for the example below either by hand or with Python. Store your answer in the numpy array <tt>x</tt>.\n",
    "</div>"
   ]
  },
  {
   "cell_type": "markdown",
   "metadata": {},
   "source": [
    "$$\\mathbf{U} = \\begin{pmatrix} 3 & 2 & 1\\\\ 0 & 4\\frac{2}{3} & 5\\frac{1}{3}\\\\ 0& 0 & 20\\end{pmatrix}, \\quad \\vec{y} = \\begin{pmatrix}6 \\\\ 10 \\\\ 20 \\end{pmatrix}\n",
    "$$"
   ]
  },
  {
   "cell_type": "code",
   "execution_count": 15,
   "metadata": {
    "tags": []
   },
   "outputs": [],
   "source": [
    "### BEGIN SOLUTION\n",
    "x = np.array([1, 1, 1])\n",
    "### END SOLUTION"
   ]
  },
  {
   "cell_type": "code",
   "execution_count": 16,
   "metadata": {
    "nbgrader": {
     "grade": true,
     "grade_id": "7c2",
     "locked": true,
     "points": "0.2",
     "solution": false
    },
    "tags": []
   },
   "outputs": [],
   "source": [
    "### BEGIN HIDDEN TESTS\n",
    "assert len(x) == 3, \"x should have 3 elements\"\n",
    "assert np.abs(x[0] - 1) < 1E-10, \"Check x[0]\"\n",
    "assert np.abs(x[1] - 1) < 1E-10, \"Check x[1]\"\n",
    "assert np.abs(x[2] - 1) < 1E-10, \"Check x[2]\"\n",
    "### END HIDDEN TESTS"
   ]
  },
  {
   "cell_type": "markdown",
   "metadata": {},
   "source": [
    "Notice again this calculation is easy because $\\mathbf{U}$ is upper triangular. We start at the bottom and calculate the last element of $\\vec{x}$. We then move up a row, substitute, and calculate the second to last element of $\\vec{x}$. This is called backward substitution and is the same procedure we used with Gaussian elimination last class."
   ]
  },
  {
   "cell_type": "markdown",
   "metadata": {
    "colab_type": "text",
    "id": "wFDv7XyW7km7"
   },
   "source": [
    "### Our First Function for Forward and Backward Solves\n",
    "\n",
    "Let's return to our first factorization function `LU_factor` which returned a distinct ``L`` and ``U``. We will create Python code to generalize the forward and backward substitution steps to solve the linear system.\n"
   ]
  },
  {
   "cell_type": "code",
   "execution_count": 17,
   "metadata": {
    "colab": {},
    "colab_type": "code",
    "id": "oD2eK97H7km7",
    "tags": []
   },
   "outputs": [],
   "source": [
    "def LU_solve1(L,U,b,LOUD=True):\n",
    "    '''Solve L*U*x = b for x where L and U\n",
    "    are lower and upper triangular matrices and\n",
    "    b is RHS vector.\n",
    "    \n",
    "    Args:\n",
    "        L: N by N lower triangular matrix with 1 on diagonal\n",
    "        U: N by N upper triangular matrix\n",
    "        b: N by 1 vector\n",
    "        \n",
    "    Returns\n",
    "        x: N by 1 solution to linear system\n",
    "    '''\n",
    "    \n",
    "    # Check dimensions\n",
    "    [Nrow_L, Ncol_L] = L.shape\n",
    "    assert Nrow_L == Ncol_L\n",
    "    [Nrow_U, Ncol_U] = U.shape\n",
    "    assert Nrow_U == Ncol_U\n",
    "    assert Nrow_U == Nrow_L\n",
    "    N = Nrow_U\n",
    "    assert N == b.size\n",
    "    \n",
    "    # forward solve\n",
    "    y = np.zeros(N)\n",
    "    if LOUD:\n",
    "        print(\"\\nForward solve...\")\n",
    "    for r in range(0,N): # first for loop\n",
    "        RHS = b[r]\n",
    "        \n",
    "        # loop over some of the columns to evaluated summation\n",
    "        for c in range(0,r):\n",
    "            RHS -= y[c]*L[r,c]\n",
    "        \n",
    "        if LOUD:\n",
    "            print(\"y[\",r,\"]=\",RHS)\n",
    "        \n",
    "        y[r] = RHS\n",
    "    \n",
    "    # backward solve\n",
    "    x = np.zeros(N)\n",
    "    if LOUD:\n",
    "        print(\"\\nBackward solve...\")\n",
    "    for r in range(N-1,-1,-1): # second for loop\n",
    "        RHS = y[r]\n",
    "        \n",
    "        # loop over some of the columns to evaluated summation\n",
    "        for c in range(r+1,N):\n",
    "            RHS -= x[c]*U[r,c]\n",
    "        \n",
    "        if LOUD:\n",
    "            print(\"x[\",r,\"]=\",RHS/U[r,r])\n",
    "        x[r] = RHS/U[r,r]\n",
    "    \n",
    "    return x"
   ]
  },
  {
   "cell_type": "markdown",
   "metadata": {},
   "source": [
    "Let's take a minute to look at the first and second for loops in `LU_solve1`."
   ]
  },
  {
   "cell_type": "code",
   "execution_count": 18,
   "metadata": {},
   "outputs": [
    {
     "name": "stdout",
     "output_type": "stream",
     "text": [
      "Loop 1...\n",
      "0\n",
      "1\n",
      "2\n",
      "3\n",
      "4\n",
      "\n",
      "Loop 2...\n",
      "4\n",
      "3\n",
      "2\n",
      "1\n",
      "0\n"
     ]
    }
   ],
   "source": [
    "N = 5\n",
    "\n",
    "# loop 1\n",
    "print(\"Loop 1...\")\n",
    "for i in range(0,N):\n",
    "    print(i)\n",
    "    \n",
    "# loop 2\n",
    "print(\"\\nLoop 2...\")\n",
    "for i in range(N-1,-1,-1):\n",
    "    print(i)"
   ]
  },
  {
   "cell_type": "markdown",
   "metadata": {},
   "source": [
    "<div style=\"background-color: rgba(0,255,0,0.05) ; padding: 10px; border: 1px solid darkgreen;\"> \n",
    "    <b>Home Activity</b>: Why does the first for loop iterate over <tt>range(0,N)</tt> and the second for loop iterate over <tt>range(N-1,-1,-1)</tt> in <tt>LU_solve1</tt>? Write a sentence below.\n",
    "</div>"
   ]
  },
  {
   "cell_type": "code",
   "execution_count": null,
   "metadata": {
    "collapsed": true,
    "jupyter": {
     "outputs_hidden": true
    }
   },
   "outputs": [],
   "source": []
  },
  {
   "cell_type": "markdown",
   "metadata": {},
   "source": [
    "<div style=\"background-color: rgba(0,0,255,0.05) ; padding: 10px; border: 1px solid darkblue;\"> \n",
    "<b>Class Activity</b>: Discuss the code above with a partner. We'll then regroup as a class.\n",
    "</div>"
   ]
  },
  {
   "cell_type": "markdown",
   "metadata": {
    "colab_type": "text",
    "id": "GApCRM0a7km9"
   },
   "source": [
    "And let's test with the example above."
   ]
  },
  {
   "cell_type": "code",
   "execution_count": 19,
   "metadata": {
    "colab": {
     "base_uri": "https://localhost:8080/",
     "height": 408
    },
    "colab_type": "code",
    "executionInfo": {
     "elapsed": 262,
     "status": "ok",
     "timestamp": 1549984669373,
     "user": {
      "displayName": "Alexander Dowling",
      "photoUrl": "https://lh3.googleusercontent.com/-LChdQ2m5OQE/AAAAAAAAAAI/AAAAAAAAAA0/JeXJe4vQJ7M/s64/photo.jpg",
      "userId": "00988067626794866502"
     },
     "user_tz": 300
    },
    "id": "FrnhLqa97km-",
    "outputId": "4c1e6fdd-ef4e-4570-c08c-e3864090c821"
   },
   "outputs": [
    {
     "name": "stdout",
     "output_type": "stream",
     "text": [
      "The original matrix is\n",
      " [[ 3.  2.  1.]\n",
      " [-1.  4.  5.]\n",
      " [ 2. -8. 10.]]\n",
      "L = \n",
      " [[ 1.          0.          0.        ]\n",
      " [-0.33333333  1.          0.        ]\n",
      " [ 0.66666667 -2.          1.        ]]\n",
      "\n",
      "U= \n",
      " [[ 3.          2.          1.        ]\n",
      " [ 0.          4.66666667  5.33333333]\n",
      " [ 0.          0.         20.        ]]\n",
      "\n",
      "Forward solve...\n",
      "y[ 0 ]= 6\n",
      "y[ 1 ]= 10.0\n",
      "y[ 2 ]= 20.0\n",
      "\n",
      "Backward solve...\n",
      "x[ 2 ]= 1.0\n",
      "x[ 1 ]= 1.0\n",
      "x[ 0 ]= 1.0\n"
     ]
    }
   ],
   "source": [
    "A = np.array([(3.0,2,1),(-1,4,5),(2,-8,10)])\n",
    "b = np.array([6,8,4])\n",
    "print(\"The original matrix is\\n\",A)\n",
    "\n",
    "L,U = LU_factor1(A,False)\n",
    "print(\"L = \\n\",L)\n",
    "print(\"\\nU= \\n\",U)\n",
    "\n",
    "x = LU_solve1(L,U,b)"
   ]
  },
  {
   "cell_type": "markdown",
   "metadata": {
    "colab_type": "text",
    "id": "7-VD0zWF7knA"
   },
   "source": [
    "And now verify the solution."
   ]
  },
  {
   "cell_type": "code",
   "execution_count": 20,
   "metadata": {
    "colab": {
     "base_uri": "https://localhost:8080/",
     "height": 51
    },
    "colab_type": "code",
    "executionInfo": {
     "elapsed": 242,
     "status": "ok",
     "timestamp": 1549984687882,
     "user": {
      "displayName": "Alexander Dowling",
      "photoUrl": "https://lh3.googleusercontent.com/-LChdQ2m5OQE/AAAAAAAAAAI/AAAAAAAAAA0/JeXJe4vQJ7M/s64/photo.jpg",
      "userId": "00988067626794866502"
     },
     "user_tz": 300
    },
    "id": "ecZVC2497knA",
    "outputId": "29225c7f-d476-4648-ecc5-6c372a79d49e"
   },
   "outputs": [
    {
     "name": "stdout",
     "output_type": "stream",
     "text": [
      "A*x = [6. 8. 4.]\n",
      "b = [6 8 4]\n"
     ]
    }
   ],
   "source": [
    "print(\"A*x =\",A.dot(x))\n",
    "print(\"b =\",b)"
   ]
  },
  {
   "cell_type": "markdown",
   "metadata": {
    "colab_type": "text",
    "id": "gEfC_2pH7knE"
   },
   "source": [
    "### Another Implementation (Optional)\n",
    "\n",
    "Now let's consider the case where ``L`` and ``U`` are stored in the same matrix. This complements our more memory efficient function `LU_factor`."
   ]
  },
  {
   "cell_type": "code",
   "execution_count": 21,
   "metadata": {
    "colab": {},
    "colab_type": "code",
    "id": "A3Bi-3az7knE",
    "tags": []
   },
   "outputs": [],
   "source": [
    "def LU_solve(A,b):\n",
    "    \"\"\"Take a LU factorized matrix and \n",
    "    solve it for RHS b\n",
    "    Args:\n",
    "        A: N by N array that has been LU factored with\n",
    "        assumed 1's on the diagonal of the L matrix\n",
    "        b: N by 1 array of righthand side\n",
    "    Returns:\n",
    "        x: N by 1 array of solutions\n",
    "    \"\"\"\n",
    "    [Nrow, Ncol] = A.shape\n",
    "    assert Nrow == Ncol\n",
    "    N = Nrow\n",
    "    \n",
    "    x = np.zeros(N)\n",
    "    #temporary vector for L^-1 b\n",
    "    y = np.zeros(N)\n",
    "    #forward solve\n",
    "    for row in range(N):\n",
    "        RHS = b[row]\n",
    "        for column in range(0,row):\n",
    "            RHS -= y[column]*A[row,column]\n",
    "        y[row] = RHS\n",
    "    #back solve\n",
    "    for row in range(N-1,-1,-1):\n",
    "        RHS = y[row]\n",
    "        for column in range(row+1,N):\n",
    "            RHS -= x[column]*A[row,column]\n",
    "        x[row] = RHS/A[row,row]\n",
    "    return x\n"
   ]
  },
  {
   "cell_type": "markdown",
   "metadata": {
    "colab_type": "text",
    "id": "muhXo4TZ7knG"
   },
   "source": [
    "Let's test on the same system as above."
   ]
  },
  {
   "cell_type": "code",
   "execution_count": 22,
   "metadata": {
    "colab": {
     "base_uri": "https://localhost:8080/",
     "height": 204
    },
    "colab_type": "code",
    "executionInfo": {
     "elapsed": 365,
     "status": "ok",
     "timestamp": 1549984724340,
     "user": {
      "displayName": "Alexander Dowling",
      "photoUrl": "https://lh3.googleusercontent.com/-LChdQ2m5OQE/AAAAAAAAAAI/AAAAAAAAAA0/JeXJe4vQJ7M/s64/photo.jpg",
      "userId": "00988067626794866502"
     },
     "user_tz": 300
    },
    "id": "wKlh4_hJ7knH",
    "outputId": "4d7c5488-3087-4ac7-9222-2b2e6f19ec88"
   },
   "outputs": [
    {
     "name": "stdout",
     "output_type": "stream",
     "text": [
      "Originally A =\n",
      " [[ 3.  2.  1.]\n",
      " [-1.  4.  5.]\n",
      " [ 2. -8. 10.]]\n",
      "\n",
      "After factorization A =\n",
      " [[ 3.          2.          1.        ]\n",
      " [-0.33333333  4.66666667  5.33333333]\n",
      " [ 0.66666667 -2.         20.        ]]\n",
      "\n",
      "The solution to the system is [1. 1. 1.]\n"
     ]
    }
   ],
   "source": [
    "#let's try it on a 3 x 3 to start\n",
    "A = np.array([(3.0,2,1),(-1,4,5),(2,-8,10)])\n",
    "Aorig = A.copy()\n",
    "print(\"Originally A =\\n\",Aorig)\n",
    "LU_factor(A)\n",
    "print(\"\\nAfter factorization A =\\n\",A)\n",
    "\n",
    "b = np.array([6,8,4])\n",
    "x = LU_solve(A,b)\n",
    "print(\"\\nThe solution to the system is\",x)"
   ]
  },
  {
   "cell_type": "markdown",
   "metadata": {
    "colab_type": "text",
    "id": "A4qwkOjy7knL"
   },
   "source": [
    "Let's resolve for $\\vec{x} = [2, 12, 2019]^T$"
   ]
  },
  {
   "cell_type": "code",
   "execution_count": 23,
   "metadata": {
    "colab": {
     "base_uri": "https://localhost:8080/",
     "height": 34
    },
    "colab_type": "code",
    "executionInfo": {
     "elapsed": 245,
     "status": "ok",
     "timestamp": 1549984749420,
     "user": {
      "displayName": "Alexander Dowling",
      "photoUrl": "https://lh3.googleusercontent.com/-LChdQ2m5OQE/AAAAAAAAAAI/AAAAAAAAAA0/JeXJe4vQJ7M/s64/photo.jpg",
      "userId": "00988067626794866502"
     },
     "user_tz": 300
    },
    "id": "LYF835aq7knM",
    "outputId": "6bb46e53-cc00-4e42-d025-1734f9f44c6c"
   },
   "outputs": [
    {
     "name": "stdout",
     "output_type": "stream",
     "text": [
      "The solution to the system is [2.000e+00 1.200e+01 2.019e+03]\n"
     ]
    }
   ],
   "source": [
    "solution2 = np.array([2,12,2019.])\n",
    "b = np.dot(Aorig,solution2)\n",
    "x = LU_solve(A,b)\n",
    "print(\"The solution to the system is\",x)"
   ]
  },
  {
   "cell_type": "markdown",
   "metadata": {
    "colab_type": "text",
    "id": "5C0CknDV7knP"
   },
   "source": [
    "## LU with Pivoting"
   ]
  },
  {
   "cell_type": "markdown",
   "metadata": {
    "colab_type": "text",
    "id": "468Ig88a7knP"
   },
   "source": [
    "Pivoting with LU is needed in the same cases as it is in Gaussian elimination.  However, when we switch equations around, we need to make sure that we keep track of where we've switched rows, so we can do the same to the right-hand side when we do our forward and back solves. This complicates things considerably, but only because we have to add that bookkeeping to our algorithm.\n",
    "\n",
    "First, we'll need to be able to swap rows in the matrix:"
   ]
  },
  {
   "cell_type": "code",
   "execution_count": 24,
   "metadata": {
    "colab": {},
    "colab_type": "code",
    "id": "XQ75S6AO7knR",
    "tags": []
   },
   "outputs": [],
   "source": [
    "def swap_rows(A, a, b):\n",
    "    \"\"\"Rows to rows in a matrix, switch row a with row b\n",
    "    args: \n",
    "    A: matrix to perform row swaps on\n",
    "    a: row index of matrix\n",
    "    b: row index of matrix\n",
    "    \n",
    "    returns: \n",
    "    nothing\n",
    "    \n",
    "    side effects:\n",
    "    changes A to have rows a and b swapped\n",
    "    \"\"\"\n",
    "    assert (a>=0) and (b>=0)\n",
    "    N = A.shape[0] #number of rows\n",
    "    assert (a<N) and (b<N) #less than because 0-based indexing\n",
    "    temp = A[a,:].copy()\n",
    "    A[a,:] = A[b,:].copy()\n",
    "    A[b,:] = temp.copy()"
   ]
  },
  {
   "cell_type": "markdown",
   "metadata": {
    "colab_type": "text",
    "id": "wdmYooMH7knT"
   },
   "source": [
    "Next, we'll change our algorithm to handle pivoting and keep track of the pivots:"
   ]
  },
  {
   "cell_type": "code",
   "execution_count": 25,
   "metadata": {
    "colab": {},
    "colab_type": "code",
    "id": "lIWKJch-7knW",
    "tags": []
   },
   "outputs": [],
   "source": [
    "def LU_factor_pivot(A,LOUD=True):\n",
    "    \"\"\"Factor in place A in L*U=A. \n",
    "    The lower triangular parts of A\n",
    "    are the L matrix.  \n",
    "    The L has implied ones on the diagonal.\n",
    "\n",
    "    Args:\n",
    "        A: N by N array\n",
    "    Returns:\n",
    "        a vector holding the order of the rows, \n",
    "        relative to the original order\n",
    "    Side Effects:\n",
    "        A is factored in place.\n",
    "    \"\"\"\n",
    "    \n",
    "    # Check dimensions\n",
    "    [Nrow, Ncol] = A.shape\n",
    "    assert Nrow == Ncol\n",
    "    N = Nrow\n",
    "    \n",
    "    # Create scale factors \n",
    "    s = np.zeros(N)\n",
    "    count = 0\n",
    "    row_order = np.arange(N)\n",
    "    for row in A:\n",
    "        # Save largest absolute element in each row\n",
    "        s[count] = np.max(np.fabs(row))\n",
    "        count += 1\n",
    "    if LOUD:\n",
    "        print(\"s =\",s)\n",
    "    if LOUD:\n",
    "        print(\"Original Matrix is\\n\",A)\n",
    "    \n",
    "    # loop over columns\n",
    "    for column in range(0,N):\n",
    "        #swap rows if needed\n",
    "        largest_pos = np.argmax(np.fabs(A[column:N,column]/\n",
    "                                        s[column])) + column\n",
    "        if (largest_pos != column):\n",
    "            if (LOUD):\n",
    "                print(\"Swapping row\",column,\"with row\",\n",
    "                      largest_pos)\n",
    "                print(\"Pre swap\\n\",A)\n",
    "            swap_rows(A,column,largest_pos)\n",
    "            #keep track of changes to RHS\n",
    "            tmp = row_order[column]\n",
    "            row_order[column] = row_order[largest_pos]\n",
    "            row_order[largest_pos] = tmp\n",
    "            #re-order s\n",
    "            tmp = s[column]\n",
    "            s[column] = s[largest_pos]\n",
    "            s[largest_pos] = tmp\n",
    "            if (LOUD):\n",
    "                print(\"A =\\n\",A)\n",
    "        for row in range(column+1,N):\n",
    "            mod_row = A[row]\n",
    "            factor = mod_row[column]/A[column,column]\n",
    "            mod_row = mod_row - factor*A[column,:]\n",
    "            #put the factor in the correct place in the modified row\n",
    "            mod_row[column] = factor\n",
    "            #only take the part of the modified row we need\n",
    "            mod_row = mod_row[column:N]\n",
    "            A[row,column:N] = mod_row\n",
    "    return row_order"
   ]
  },
  {
   "cell_type": "markdown",
   "metadata": {
    "colab_type": "text",
    "id": "EskFekw27knY"
   },
   "source": [
    "Now let's verify with a 4x4 system"
   ]
  },
  {
   "cell_type": "code",
   "execution_count": 26,
   "metadata": {
    "colab": {
     "base_uri": "https://localhost:8080/",
     "height": 306
    },
    "colab_type": "code",
    "executionInfo": {
     "elapsed": 227,
     "status": "ok",
     "timestamp": 1549984870909,
     "user": {
      "displayName": "Alexander Dowling",
      "photoUrl": "https://lh3.googleusercontent.com/-LChdQ2m5OQE/AAAAAAAAAAI/AAAAAAAAAA0/JeXJe4vQJ7M/s64/photo.jpg",
      "userId": "00988067626794866502"
     },
     "user_tz": 300
    },
    "id": "14Dem5Gb7knZ",
    "outputId": "449ff48c-8411-4aca-e611-3dd39f27d42e"
   },
   "outputs": [
    {
     "name": "stdout",
     "output_type": "stream",
     "text": [
      "A =\n",
      " [[ 3.   2.   1.  -2. ]\n",
      " [-1.   4.   5.   4. ]\n",
      " [ 2.  -8.  10.   3. ]\n",
      " [-2.  -8.  10.   0.1]] \n",
      "\n",
      "True solution. x = [1. 1. 1. 1.] \n",
      "\n",
      "Thus b = [ 4.  12.   7.   0.1] \n",
      "\n",
      "After factorization A =\n",
      " [[ 3.          2.          1.         -2.        ]\n",
      " [ 0.66666667 -9.33333333  9.33333333  4.33333333]\n",
      " [-0.33333333 -0.5        10.          5.5       ]\n",
      " [-0.66666667  0.71428571  0.4        -6.52857143]] \n",
      "\n",
      "The new row order is [0 2 1 3]\n"
     ]
    }
   ],
   "source": [
    "#let's try it on a 4 x 4 to start\n",
    "A = np.array([(3.0,2,1,-2),(-1,4,5,4),(2,-8,10,3),(-2,-8,10,0.1)])\n",
    "print(\"A =\\n\",A,\"\\n\")\n",
    "answer = np.ones(4)\n",
    "print(\"True solution. x =\",answer,\"\\n\")\n",
    "b = np.dot(A,answer)\n",
    "print(\"Thus b =\",b,\"\\n\")\n",
    "\n",
    "# Apply LU with pivoting\n",
    "row_order = LU_factor_pivot(A,False)\n",
    "\n",
    "# Print A and the row order\n",
    "print(\"After factorization A =\\n\",A,\"\\n\")\n",
    "print(\"The new row order is\",row_order)"
   ]
  },
  {
   "cell_type": "markdown",
   "metadata": {
    "colab_type": "text",
    "id": "W_rcVf0n7knc"
   },
   "source": [
    "We need to change the LU_solve function to take advantage of the swapped rows."
   ]
  },
  {
   "cell_type": "code",
   "execution_count": 27,
   "metadata": {
    "colab": {
     "base_uri": "https://localhost:8080/",
     "height": 173
    },
    "colab_type": "code",
    "executionInfo": {
     "elapsed": 306,
     "status": "ok",
     "timestamp": 1549979698919,
     "user": {
      "displayName": "Alexander Dowling",
      "photoUrl": "https://lh3.googleusercontent.com/-LChdQ2m5OQE/AAAAAAAAAAI/AAAAAAAAAA0/JeXJe4vQJ7M/s64/photo.jpg",
      "userId": "00988067626794866502"
     },
     "user_tz": 300
    },
    "id": "qs9ZDRvQ7knc",
    "outputId": "22864b8e-2f95-4ac1-fa12-d11a6d0ddba4"
   },
   "outputs": [
    {
     "name": "stdout",
     "output_type": "stream",
     "text": [
      "A =\n",
      " [[ 3.          2.          1.         -2.        ]\n",
      " [ 0.66666667 -9.33333333  9.33333333  4.33333333]\n",
      " [-0.33333333 -0.5        10.          5.5       ]\n",
      " [-0.66666667  0.71428571  0.4        -6.52857143]] \n",
      "\n",
      "Row order = [0 2 1 3] \n",
      "\n",
      "The solution to the system is [1. 1. 1. 1.]\n"
     ]
    }
   ],
   "source": [
    "def LU_solve_pivot(A,b,row_order):\n",
    "    \"\"\"Take a LU factorized matrix and solve it for RHS b\n",
    "\n",
    "    Args:\n",
    "        A: N by N array that has been LU factored with\n",
    "        assumed 1's on the diagonal of the L matrix\n",
    "        b: N by 1 array of righthand side\n",
    "        row_order:  list giving the re-ordered equations\n",
    "        from the the LU factorization with pivoting\n",
    "    Returns:\n",
    "        x: N by 1 array of solutions\n",
    "        \n",
    "    Side Effect:\n",
    "        Reorders b using row_order\n",
    "    \"\"\"\n",
    "    [Nrow, Ncol] = A.shape\n",
    "    assert Nrow == Ncol\n",
    "    assert b.size == Ncol\n",
    "    assert row_order.max() == Ncol-1\n",
    "    N = Nrow\n",
    "    \n",
    "    #reorder the equations\n",
    "    tmp = b.copy()\n",
    "    for row in range(N):\n",
    "        b[row_order[row]] = tmp[row]\n",
    "    #b now has the correct order\n",
    "    \n",
    "    # We can either reuse our LU_solve code from above now that b has\n",
    "    # been reorded or copy and paste\n",
    "    return LU_solve(A,b)\n",
    "    '''\n",
    "    x = np.zeros(N)\n",
    "    #temporary vector for L^-1 b\n",
    "    y = np.zeros(N)\n",
    "    #forward solve\n",
    "    for row in range(N):\n",
    "        RHS = b[row]\n",
    "        for column in range(0,row):\n",
    "            RHS -= y[column]*A[row,column]\n",
    "        y[row] = RHS\n",
    "    #back solve\n",
    "    for row in range(N-1,-1,-1):\n",
    "        RHS = y[row]\n",
    "        for column in range(row+1,N):\n",
    "            RHS -= x[column]*A[row,column]\n",
    "        x[row] = RHS/A[row,row]\n",
    "    return x\n",
    "    '''\n",
    "\n",
    "\n",
    "print(\"A =\\n\",A,\"\\n\\nRow order =\",row_order,\"\\n\")\n",
    "x = LU_solve_pivot(A,b,row_order)\n",
    "print(\"The solution to the system is\",x)"
   ]
  },
  {
   "cell_type": "markdown",
   "metadata": {
    "colab_type": "text",
    "id": "l5LrKkh67knf"
   },
   "source": [
    "<div style=\"background-color: rgba(0,0,255,0.05) ; padding: 10px; border: 1px solid darkblue;\"> \n",
    "<b>Class Activity</b>: Verify that our LU decomposition with pivoting code works for other test cases.\n",
    "</div>"
   ]
  },
  {
   "cell_type": "code",
   "execution_count": 28,
   "metadata": {
    "colab": {
     "base_uri": "https://localhost:8080/",
     "height": 85
    },
    "colab_type": "code",
    "executionInfo": {
     "elapsed": 224,
     "status": "ok",
     "timestamp": 1549985445081,
     "user": {
      "displayName": "Alexander Dowling",
      "photoUrl": "https://lh3.googleusercontent.com/-LChdQ2m5OQE/AAAAAAAAAAI/AAAAAAAAAA0/JeXJe4vQJ7M/s64/photo.jpg",
      "userId": "00988067626794866502"
     },
     "user_tz": 300
    },
    "id": "NmFYgHVd7kng",
    "outputId": "977abfb9-07a1-4675-cb38-ab8244b1dbf1"
   },
   "outputs": [
    {
     "name": "stdout",
     "output_type": "stream",
     "text": [
      "[[ 1.e-14 -1.e+00  1.e+00]\n",
      " [-1.e+00  2.e+00 -1.e+00]\n",
      " [ 2.e+00 -1.e+00  0.e+00]]\n",
      "[0. 0. 1.]\n"
     ]
    }
   ],
   "source": [
    "epsilon = 1e-14\n",
    "A_eps = np.array([(epsilon,-1,1),(-1,2,-1),(2,-1,0)])\n",
    "print(A_eps)\n",
    "b_eps = np.array([0,0,1.0])\n",
    "print(b_eps)\n",
    "\n",
    "Asave = A_eps.copy()\n",
    "bsave = b_eps.copy()"
   ]
  },
  {
   "cell_type": "code",
   "execution_count": 29,
   "metadata": {
    "colab": {
     "base_uri": "https://localhost:8080/",
     "height": 51
    },
    "colab_type": "code",
    "executionInfo": {
     "elapsed": 249,
     "status": "ok",
     "timestamp": 1549985451502,
     "user": {
      "displayName": "Alexander Dowling",
      "photoUrl": "https://lh3.googleusercontent.com/-LChdQ2m5OQE/AAAAAAAAAAI/AAAAAAAAAA0/JeXJe4vQJ7M/s64/photo.jpg",
      "userId": "00988067626794866502"
     },
     "user_tz": 300
    },
    "id": "kxDFXgOBUypp",
    "outputId": "17458c65-57e1-4842-9353-cde2e1265979"
   },
   "outputs": [
    {
     "name": "stdout",
     "output_type": "stream",
     "text": [
      "The solution is [1. 1. 1.]\n",
      "The residual is [0.00000000e+00 1.11022302e-16 0.00000000e+00]\n"
     ]
    }
   ],
   "source": [
    "row_order = LU_factor_pivot(A_eps,False)\n",
    "x_eps = LU_solve_pivot(A_eps,b_eps,row_order)\n",
    "\n",
    "print(\"The solution is\",x_eps)\n",
    "print(\"The residual is\",bsave - np.dot(Asave,x_eps))"
   ]
  },
  {
   "cell_type": "markdown",
   "metadata": {
    "colab_type": "text",
    "id": "gsg3njId7knp",
    "tags": []
   },
   "source": [
    "## Errors in Linear Systems\n",
    "\n",
    "We will now learn about condition number and singular value decomposition as tools to analyze solutions to linear systems. These are helpful for diagnosing if a linear system is rank deficient, i.e., the model is not fully specified (not enough equations or information given to solve)."
   ]
  },
  {
   "cell_type": "markdown",
   "metadata": {},
   "source": [
    "### Rank of the Matrix\n",
    "\n",
    "The rank of a matrix is the number of linear independent equations encoded in it. Let's explore a few examples.\n",
    "\n",
    "#### Example 1\n",
    "\n",
    "Let's take a look at the same $\\mathbf{A}$ matrix we used as an example in this class and the previous class. We know this matrix corresponds to a system of three independent linear equations:\n",
    "\n",
    "$$3 x_1 + 2 x_2 + x_3 = 6$$\n",
    "$$-x_1 + 4 x_2 + 5x_3 = 8$$\n",
    "$$2x_1 -8 x_2 + 10 x_3 = 4$$\n",
    "\n",
    "$$\\underbrace{\\begin{pmatrix} 3 & 2 & 1\\\\ -1 & 4 & 5\\\\ 2& -8 & 10\\end{pmatrix}}_{\\mathbf{A}} ~\n",
    "\\underbrace{\\begin{pmatrix} x_1\\\\x_2\\\\x_3\\end{pmatrix}}_{\\mathbf{x}} = \\underbrace{\\begin{pmatrix}6\\\\8\\\\4\\end{pmatrix}}_{\\mathbf{b}}\n",
    "$$\n",
    "\n",
    "Note: whether or not each row (equation) is independent does not depend on the right hand side. In other words, we are only focusing on $\\mathbf{A}$."
   ]
  },
  {
   "cell_type": "code",
   "execution_count": 30,
   "metadata": {},
   "outputs": [
    {
     "name": "stdout",
     "output_type": "stream",
     "text": [
      "A = \n",
      " [[ 3.  2.  1.]\n",
      " [-1.  4.  5.]\n",
      " [ 2. -8. 10.]]\n"
     ]
    }
   ],
   "source": [
    "A1 = np.array([(3.0,2,1),(-1,4,5),(2,-8,10)])\n",
    "print(\"A = \\n\",A1)"
   ]
  },
  {
   "cell_type": "code",
   "execution_count": 31,
   "metadata": {},
   "outputs": [
    {
     "name": "stdout",
     "output_type": "stream",
     "text": [
      "rank(A) = 3\n"
     ]
    }
   ],
   "source": [
    "print(\"rank(A) =\",np.linalg.matrix_rank(A1))"
   ]
  },
  {
   "cell_type": "markdown",
   "metadata": {},
   "source": [
    "This makes sense. There are three linearly independent equations, so the rank of the matrix is 3."
   ]
  },
  {
   "cell_type": "markdown",
   "metadata": {},
   "source": [
    "#### Example 2\n",
    "\n",
    "Now let's consider a system where equation 2 and 3 are the same:\n",
    "\n",
    "$$1 x_1 + 1 x_2 + 1 x_3 = 0$$\n",
    "$$2 x_1 + 1 x_2 + 0 x_3 = 0$$\n",
    "$$2 x_1 + 1 x_2 + 0 x_3 = 0$$\n",
    "\n",
    "Clearly, there are only two unique linear equations. Let's verify the rank is two."
   ]
  },
  {
   "cell_type": "code",
   "execution_count": 32,
   "metadata": {},
   "outputs": [
    {
     "name": "stdout",
     "output_type": "stream",
     "text": [
      "A2 = \n",
      " [[1 1 1]\n",
      " [2 1 0]\n",
      " [2 1 0]]\n",
      "\n",
      "rank(A2) = 2\n"
     ]
    }
   ],
   "source": [
    "A2 = np.array([[1, 1, 1], [2, 1, 0], [2, 1, 0]])\n",
    "print(\"A2 = \\n\",A2)\n",
    "\n",
    "print(\"\\nrank(A2) =\",np.linalg.matrix_rank(A2))"
   ]
  },
  {
   "cell_type": "markdown",
   "metadata": {},
   "source": [
    "#### Example 3\n",
    "\n",
    "Let's consider a more subtle example.\n",
    "\n",
    "$$1 x_1 + 0 x_2 + 0 x_3 + 1 x_4 = 1$$\n",
    "$$0 x_1 + 1 x_2 + 0 x_3 + 1 x_4 = 2$$\n",
    "$$0 x_1 + 0 x_2 + 1 x_3 - 1 x_4 = 3$$\n",
    "$$2 x_1 + 2 x_2 + 2 x_3 + 2 x_4 = 4$$\n"
   ]
  },
  {
   "cell_type": "markdown",
   "metadata": {},
   "source": [
    "<div style=\"background-color: rgba(0,255,0,0.05) ; padding: 10px; border: 1px solid darkgreen;\"> \n",
    "    <b>Home Activity</b>: Convert the linear system above into a matrix. Store the left hand side in the numpy array (or matrix) <tt>A3</tt>. Then calculate the rank of <tt>A3</tt> and store in <tt>r3</tt>. Finally, write a sentence as to why the rank makes sense.\n",
    "</div>"
   ]
  },
  {
   "cell_type": "code",
   "execution_count": 33,
   "metadata": {},
   "outputs": [
    {
     "name": "stdout",
     "output_type": "stream",
     "text": [
      "A3 = \n",
      " [[ 1  0  0  1]\n",
      " [ 0  1  0  1]\n",
      " [ 0  0  1 -1]\n",
      " [ 2  2  2  2]]\n",
      "\n",
      "rank(A3) = 3\n"
     ]
    }
   ],
   "source": [
    "### BEGIN SOLUTION\n",
    "A3 = np.array([[1, 0, 0, 1],[0, 1, 0, 1], [0, 0, 1, -1], [2, 2, 2, 2]])\n",
    "print(\"A3 = \\n\",A3)\n",
    "r3 = np.linalg.matrix_rank(A3)\n",
    "print(\"\\nrank(A3) =\",r3)\n",
    "### END SOLUTION"
   ]
  },
  {
   "cell_type": "code",
   "execution_count": 34,
   "metadata": {
    "nbgrader": {
     "grade": true,
     "grade_id": "7e-i",
     "locked": true,
     "points": "0.2",
     "solution": false
    },
    "tags": []
   },
   "outputs": [],
   "source": [
    "### HIDDEN TESTS\n",
    "A3_ans = np.array([[1, 0, 0, 1],[0, 1, 0, 1], [0, 0, 1, -1], [2, 2, 2, 2]])\n",
    "\n",
    "assert np.shape(A3) == (4,4), \"A3 should be a 4x4 matrix\"\n",
    "\n",
    "for i in range(4):\n",
    "    for j in range(4):\n",
    "        assert np.abs(A3_ans[i,j] - A3[i,j]) < 1E-6, \"Check the (\"+str(i)+\",\"+str(j)+\") element in A3\"\n",
    "\n",
    "### HIDDEN TESTS"
   ]
  },
  {
   "cell_type": "markdown",
   "metadata": {},
   "source": [
    "Please see your linear algebra textbook for a more formal definition of rank. This wikipedia article is also quite good: https://en.wikipedia.org/wiki/Rank_(linear_algebra)"
   ]
  },
  {
   "cell_type": "markdown",
   "metadata": {
    "colab_type": "text",
    "id": "AwvKXb2f7knq"
   },
   "source": [
    "### Singular Value Decomposition\n",
    "\n",
    "Singular Value Decomposition (SVD) is an incredibly important tool in numeric analysis and engineering. SVD is at the core of image compression, singular processing, control and many other important applications. There is a chapter on SVD in your linear algebra textbook. I encourage you to read it.\n",
    "\n",
    "For our purposes, we will think of SVD as another type of matrix factorization. We can represent a $m \\times n$ matrix as\n",
    "\n",
    "$$\\mathbf{A} = \\mathbf{U} \\cdot \\mathbf{\\Sigma} \\cdot \\mathbf{V}^T$$\n",
    "\n",
    "where the columns of $\\mathbf{U}$ and $\\mathbf{V}$ are the left and right **singular vectors**:\n",
    "\n",
    "$$\\mathbf{U} = \\begin{bmatrix} \\vec{u}_1 & \\vec{u}_2 & ... & \\vec{u}_m \\end{bmatrix}$$\n",
    "\n",
    "$$\\mathbf{V} = \\begin{bmatrix} \\vec{v}_1 & \\vec{v}_2 & ... & \\vec{v}_n \\end{bmatrix}$$\n",
    "\n",
    "Moreover, $\\mathbf{\\Sigma}$ is a $m \\times n$ matrix of zeros with the singular values on the diagonal. For $m > n$, we have:\n",
    "\n",
    "$$\\mathbf{\\Sigma} =\n",
    "\\begin{bmatrix} \\sigma_1 & 0 & \\dots & 0 \\\\ \n",
    "0 & \\sigma_2 & \\dots & 0 \\\\ \n",
    "\\vdots & \\vdots & \\ddots & \\vdots \\\\\n",
    "0 & 0 & \\dots & \\sigma_n \\\\\n",
    "0 & 0 & \\dots & 0 \\\\\n",
    "\\vdots & \\vdots & \\ddots & \\vdots \\\\\n",
    "0 & 0 & \\dots & 0\n",
    "\\end{bmatrix}$$\n",
    "\n",
    "Thus, we can rewrite the SVD factorization as follows (assuming $m \\geq n$):\n",
    "\n",
    "$$\\mathbf{A} = \\sum_{i=1}^{n} \\vec{u}_i \\cdot \\sigma_i \\cdot \\vec{v}_i^T$$"
   ]
  },
  {
   "cell_type": "markdown",
   "metadata": {},
   "source": [
    "<div style=\"background-color: rgba(0,0,255,0.05) ; padding: 10px; border: 1px solid darkblue;\"> \n",
    "    <b>Class Activity</b>: What are the dimensions of <b>A</b>, <b>U</b>, <b>V</b>, and $\\mathbf{\\Sigma}$? What changes if $n < m$?\n",
    "</div>"
   ]
  },
  {
   "cell_type": "markdown",
   "metadata": {},
   "source": [
    "Now let's look at SVD in Python:"
   ]
  },
  {
   "cell_type": "code",
   "execution_count": 35,
   "metadata": {
    "colab": {
     "base_uri": "https://localhost:8080/",
     "height": 357
    },
    "colab_type": "code",
    "executionInfo": {
     "elapsed": 307,
     "status": "ok",
     "timestamp": 1549985780698,
     "user": {
      "displayName": "Alexander Dowling",
      "photoUrl": "https://lh3.googleusercontent.com/-LChdQ2m5OQE/AAAAAAAAAAI/AAAAAAAAAA0/JeXJe4vQJ7M/s64/photo.jpg",
      "userId": "00988067626794866502"
     },
     "user_tz": 300
    },
    "id": "Sc6KEr9O7knr",
    "outputId": "649c4436-bb2b-4eac-8cae-20f4cf274e39"
   },
   "outputs": [
    {
     "name": "stdout",
     "output_type": "stream",
     "text": [
      "A =\n",
      " [[ 3.  2.  1.]\n",
      " [-1.  4.  5.]\n",
      " [ 2. -8. 10.]\n",
      " [-2. -8. 10.]] \n",
      "\n",
      "U =\n",
      " [[ 0.02399156 -0.33975594 -0.698885    0.62892771]\n",
      " [-0.08707759 -0.93759246  0.25472139 -0.2201247 ]\n",
      " [-0.70322927  0.04758521 -0.50005219 -0.50314217]\n",
      " [-0.70520244  0.056762    0.4434237   0.55031174]] \n",
      "\n",
      "S =\n",
      " [18.17773759  6.60309487  4.23898503] \n",
      "\n",
      "V =\n",
      " [[ 0.00896694  0.60332736 -0.79744322]\n",
      " [-0.01514879 -0.7973018  -0.60339071]\n",
      " [-0.99984504  0.01749087  0.00199033]] \n",
      "\n"
     ]
    }
   ],
   "source": [
    "A = np.array([(3.0,2,1),(-1,4,5),(2,-8,10),(-2,-8,10)])\n",
    "print(\"A =\\n\",A,\"\\n\")\n",
    "\n",
    "U,S,V = np.linalg.svd(A)\n",
    "print(\"U =\\n\",U,\"\\n\")\n",
    "print(\"S =\\n\",S,\"\\n\")\n",
    "print(\"V =\\n\",V,\"\\n\")"
   ]
  },
  {
   "cell_type": "markdown",
   "metadata": {
    "colab_type": "text",
    "id": "sKVIh7b77knu"
   },
   "source": [
    "Notice that Python only returns the first $n$ elements of the diagonal $\\mathbf{\\Sigma}$. Because $m > n$, we know the remaining $m-n = 1$ elements are zero.\n",
    "\n",
    "Let's check the rank of this matrix."
   ]
  },
  {
   "cell_type": "code",
   "execution_count": 36,
   "metadata": {
    "colab": {
     "base_uri": "https://localhost:8080/",
     "height": 34
    },
    "colab_type": "code",
    "executionInfo": {
     "elapsed": 272,
     "status": "ok",
     "timestamp": 1549985826433,
     "user": {
      "displayName": "Alexander Dowling",
      "photoUrl": "https://lh3.googleusercontent.com/-LChdQ2m5OQE/AAAAAAAAAAI/AAAAAAAAAA0/JeXJe4vQJ7M/s64/photo.jpg",
      "userId": "00988067626794866502"
     },
     "user_tz": 300
    },
    "id": "EBnNRGNo7knu",
    "outputId": "2a55f098-ef63-4189-c15f-da12507c4def"
   },
   "outputs": [
    {
     "data": {
      "text/plain": [
       "3"
      ]
     },
     "execution_count": 36,
     "metadata": {},
     "output_type": "execute_result"
    }
   ],
   "source": [
    "np.linalg.matrix_rank(A)"
   ]
  },
  {
   "cell_type": "markdown",
   "metadata": {
    "colab_type": "text",
    "id": "DzPCIFCV7knw"
   },
   "source": [
    "The matrix rank is 3 and $n=3$, thus we say this matrix is **full rank**. Notice SVD returned 3 non-zero singular values.\n",
    "\n",
    "Now let's try SVD on a rank deficient matrix."
   ]
  },
  {
   "cell_type": "code",
   "execution_count": 37,
   "metadata": {
    "colab": {
     "base_uri": "https://localhost:8080/",
     "height": 119
    },
    "colab_type": "code",
    "executionInfo": {
     "elapsed": 243,
     "status": "ok",
     "timestamp": 1549985850038,
     "user": {
      "displayName": "Alexander Dowling",
      "photoUrl": "https://lh3.googleusercontent.com/-LChdQ2m5OQE/AAAAAAAAAAI/AAAAAAAAAA0/JeXJe4vQJ7M/s64/photo.jpg",
      "userId": "00988067626794866502"
     },
     "user_tz": 300
    },
    "id": "bAfJVzfy7knx",
    "outputId": "e58c63a8-6250-4519-caa4-c81de81b9168"
   },
   "outputs": [
    {
     "name": "stdout",
     "output_type": "stream",
     "text": [
      "Anew = \n",
      " [[ 1  1  0]\n",
      " [ 1 -1  2]\n",
      " [ 2  0  2]] \n",
      "\n",
      "and has rank 2\n"
     ]
    }
   ],
   "source": [
    "Anew = np.array([[1, 1, 0],[1, -1, 2],[2, 0, 2]])\n",
    "print(\"Anew = \\n\",Anew,\"\\n\")\n",
    "print(\"and has rank\",np.linalg.matrix_rank(Anew))"
   ]
  },
  {
   "cell_type": "code",
   "execution_count": 38,
   "metadata": {
    "colab": {
     "base_uri": "https://localhost:8080/",
     "height": 238
    },
    "colab_type": "code",
    "executionInfo": {
     "elapsed": 269,
     "status": "ok",
     "timestamp": 1549985873921,
     "user": {
      "displayName": "Alexander Dowling",
      "photoUrl": "https://lh3.googleusercontent.com/-LChdQ2m5OQE/AAAAAAAAAAI/AAAAAAAAAA0/JeXJe4vQJ7M/s64/photo.jpg",
      "userId": "00988067626794866502"
     },
     "user_tz": 300
    },
    "id": "Fn9EcG0F7kn0",
    "outputId": "b699b18f-3232-41cb-9c2f-5affbc0964f4"
   },
   "outputs": [
    {
     "name": "stdout",
     "output_type": "stream",
     "text": [
      "U =\n",
      " [[-0.13550992  0.8051731  -0.57735027]\n",
      " [-0.6295454  -0.51994159 -0.57735027]\n",
      " [-0.76505532  0.28523152  0.57735027]] \n",
      "\n",
      "S =\n",
      " [3.64575131e+00 1.64575131e+00 6.69376379e-17] \n",
      "\n",
      "V =\n",
      " [[-0.6295454   0.13550992 -0.76505532]\n",
      " [ 0.51994159  0.8051731  -0.28523152]\n",
      " [ 0.57735027 -0.57735027 -0.57735027]] \n",
      "\n"
     ]
    }
   ],
   "source": [
    "U,S,V = np.linalg.svd(Anew)\n",
    "print(\"U =\\n\",U,\"\\n\")\n",
    "print(\"S =\\n\",S,\"\\n\")\n",
    "print(\"V =\\n\",V,\"\\n\")"
   ]
  },
  {
   "cell_type": "markdown",
   "metadata": {
    "colab_type": "text",
    "id": "xFU4eqcG7kn2"
   },
   "source": [
    "Notice the almost zero third singular value. This matrix is numerically rank deficient. The number of non-zero singular values is the rank of a matrix."
   ]
  },
  {
   "cell_type": "markdown",
   "metadata": {
    "colab_type": "text",
    "id": "fAw5H3mF7kn2"
   },
   "source": [
    "### Condition Number\n",
    "\n",
    "The condition number is the ratio of the largest to smallest singular values of a matrix:\n",
    "\n",
    "$$\\kappa = \\frac{\\sigma_{\\mathrm{max}}}{\\sigma_{\\mathrm{min}}}$$\n",
    "\n",
    "In some sense, the condition number $\\kappa$ measures how close a matrix is to singular. The condition number also bounds the relative error in solving a linear system:\n",
    "\n",
    "$$\\frac{||\\vec{\\Delta x}||}{||\\vec{x}||} \\leq \\kappa \\frac{||\\vec{\\Delta b}||}{||\\vec{b}||}$$\n",
    "\n",
    "where $\\vec{\\Delta b}$ is a perturbation (error) in the vector $\\vec{b}$ and $\\vec{\\Delta x}$ is the corresponding or induced error in $\\vec{x}$. The operator $|| \\cdot ||$ is the $\\ell_2$ norm (i.e., length of a vector) you learned about in physics:\n",
    "\n",
    "$$|| \\vec{a} || = \\sqrt{\\sum_{i=1}^{N} a_i^2}$$\n",
    "\n",
    "where $a$ is an arbitrary $N \\times 1$ vector.\n",
    "\n",
    "#### Example\n",
    "\n",
    "Let's revisit the motivating example from last class.\n",
    "\n",
    "$$3 x_1 + 2 x_2 + x_3 = 6$$\n",
    "$$-x_1 + 4 x_2 + 5x_3 = 8$$\n",
    "$$2x_1 -8 x_2 + 10 x_3 = 4$$"
   ]
  },
  {
   "cell_type": "code",
   "execution_count": 39,
   "metadata": {
    "colab": {
     "base_uri": "https://localhost:8080/",
     "height": 119
    },
    "colab_type": "code",
    "executionInfo": {
     "elapsed": 223,
     "status": "ok",
     "timestamp": 1549986039122,
     "user": {
      "displayName": "Alexander Dowling",
      "photoUrl": "https://lh3.googleusercontent.com/-LChdQ2m5OQE/AAAAAAAAAAI/AAAAAAAAAA0/JeXJe4vQJ7M/s64/photo.jpg",
      "userId": "00988067626794866502"
     },
     "user_tz": 300
    },
    "id": "P5dcbAhR7kn3",
    "outputId": "b0f3d3e5-670b-4434-9f1c-749cde3bd357"
   },
   "outputs": [
    {
     "name": "stdout",
     "output_type": "stream",
     "text": [
      "A = \n",
      " [[ 3.  2.  1.]\n",
      " [-1.  4.  5.]\n",
      " [ 2. -8. 10.]]\n",
      "\n",
      "b = [[6 8 4]]\n"
     ]
    }
   ],
   "source": [
    "# Declare matrix\n",
    "A33 = np.matrix([(3.0,2,1),(-1,4,5),(2,-8,10)])\n",
    "b3 = np.matrix([6,8,4])\n",
    "\n",
    "print(\"A = \\n\",A33)\n",
    "print(\"\\nb =\",b3)"
   ]
  },
  {
   "cell_type": "code",
   "execution_count": 40,
   "metadata": {
    "colab": {
     "base_uri": "https://localhost:8080/",
     "height": 34
    },
    "colab_type": "code",
    "executionInfo": {
     "elapsed": 236,
     "status": "ok",
     "timestamp": 1549986048740,
     "user": {
      "displayName": "Alexander Dowling",
      "photoUrl": "https://lh3.googleusercontent.com/-LChdQ2m5OQE/AAAAAAAAAAI/AAAAAAAAAA0/JeXJe4vQJ7M/s64/photo.jpg",
      "userId": "00988067626794866502"
     },
     "user_tz": 300
    },
    "id": "ii0YT4IS7kn4",
    "outputId": "dc62973f-1305-4776-cf73-0f55eb2474ce"
   },
   "outputs": [
    {
     "name": "stdout",
     "output_type": "stream",
     "text": [
      "condition number = 3.99784371803463\n"
     ]
    }
   ],
   "source": [
    "## Calculate condition number\n",
    "kappa = np.linalg.cond(A33)\n",
    "print(\"condition number =\",kappa)"
   ]
  },
  {
   "cell_type": "code",
   "execution_count": 41,
   "metadata": {
    "colab": {
     "base_uri": "https://localhost:8080/",
     "height": 34
    },
    "colab_type": "code",
    "executionInfo": {
     "elapsed": 287,
     "status": "ok",
     "timestamp": 1549986070402,
     "user": {
      "displayName": "Alexander Dowling",
      "photoUrl": "https://lh3.googleusercontent.com/-LChdQ2m5OQE/AAAAAAAAAAI/AAAAAAAAAA0/JeXJe4vQJ7M/s64/photo.jpg",
      "userId": "00988067626794866502"
     },
     "user_tz": 300
    },
    "id": "8Nt-bP2Y7kn6",
    "outputId": "6cf8615d-d4f7-49ad-ce27-e0eacb84628f"
   },
   "outputs": [
    {
     "name": "stdout",
     "output_type": "stream",
     "text": [
      "l2 norm of b = 10.770329614269007\n"
     ]
    }
   ],
   "source": [
    "## Calculate the norm of a vector, such as b3\n",
    "print(\"l2 norm of b =\",np.linalg.norm(b3))"
   ]
  },
  {
   "cell_type": "markdown",
   "metadata": {},
   "source": [
    "<div style=\"background-color: rgba(0,0,255,0.05) ; padding: 10px; border: 1px solid darkblue;\"> \n",
    "    <b>Class Activity</b>: Let's say in this linear system $\\vec{b}$ comes from an experiment measurement with $\\pm 0.1$ absolute error for each element, thus $\\vec{\\Delta b} = [0.1, 0.1, 0.1]^T$. What is the corresponding error when we solve the linear system for $\\vec{x}$. In other words, what is $||\\vec{\\Delta x}||$?\n",
    "</div>"
   ]
  },
  {
   "cell_type": "code",
   "execution_count": 42,
   "metadata": {},
   "outputs": [
    {
     "name": "stdout",
     "output_type": "stream",
     "text": [
      "[[1.]\n",
      " [1.]\n",
      " [1.]]\n",
      "1.7320508075688772\n",
      "Error in x is less than or equal to  0.06429207543641194\n"
     ]
    }
   ],
   "source": [
    "### BEGIN SOLUTION\n",
    "x = np.linalg.solve(A33,np.transpose(b3))\n",
    "delta_b = np.array([0.1, 0.1, 0.1])\n",
    "delta_b = np.transpose(delta_b)\n",
    "delta_b_norm = np.linalg.norm(delta_b)\n",
    "print(x)\n",
    "print(np.linalg.norm(x))\n",
    "print(\"Error in x is less than or equal to \",kappa*delta_b_norm/np.linalg.norm(b3) )\n",
    "### END SOLUTION"
   ]
  },
  {
   "cell_type": "markdown",
   "metadata": {
    "tags": []
   },
   "source": [
    "## Take Home Messages\n",
    "\n",
    "\n",
    "1) LU factorization is *very* similar to Gaussian elimination:\n",
    " * $\\mathbf{L}$ matrix saves the scaling factors from Gaussian elimination\n",
    " * $\\mathbf{U}$ matrix is the same as the reduced matrix\n",
    " * $\\mathbf{L}$ and $\\mathbf{U}$ save all of the steps from matrix reduction, making LU factorization efficient to resolve $\\mathbf{A} \\vec{x} = \\vec{b}$ for many different $\\vec{b}$\n",
    " * Partial pivoting works the same way for both LU factorization and Gaussian elimination\n",
    "\n",
    "\n",
    "2) Solving a linear system with LU factorization is easy:\n",
    " * First, perform forward substitution, which exploits that $\\mathbf{L}$ is lower triangular\n",
    " * Second, perform backward substitution, which exploits that $\\mathbf{U}$ is upper triangular\n",
    "\n",
    "\n",
    "\n",
    "3) Rank and condition number tell us sensitivity of solutions to a linear system:\n",
    " * Rank tells us how many linear independent equations are encoded in a matrix\n",
    " * Singular value decomposition does many things... we'll use to tell if a matrix is *near-singular*, i.e., numerically rank deficient\n",
    " * Condition number tells us how $\\vec{x}$, the solution to a linear system, changes with uncertainty in $\\vec{b}$"
   ]
  }
 ],
 "metadata": {
  "colab": {
   "name": "L9-LU-Decomposition.ipynb",
   "provenance": [],
   "version": "0.3.2"
  },
  "kernelspec": {
   "display_name": "Python 3 (ipykernel)",
   "language": "python",
   "name": "python3"
  },
  "language_info": {
   "codemirror_mode": {
    "name": "ipython",
    "version": 3
   },
   "file_extension": ".py",
   "mimetype": "text/x-python",
   "name": "python",
   "nbconvert_exporter": "python",
   "pygments_lexer": "ipython3",
   "version": "3.9.12"
  }
 },
 "nbformat": 4,
 "nbformat_minor": 4
}
