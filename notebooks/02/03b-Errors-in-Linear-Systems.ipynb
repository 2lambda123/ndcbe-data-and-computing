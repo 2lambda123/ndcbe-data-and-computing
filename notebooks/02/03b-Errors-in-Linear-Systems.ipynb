{
 "cells": [
  {
   "cell_type": "markdown",
   "metadata": {
    "colab_type": "text",
    "id": "h9OurOQm7kmq"
   },
   "source": [
    "# Errors in Linear Systems\n",
    "\n",
    "CBE 20258. Numerical and Statistical Analysis. Spring 2020.\n",
    "\n",
    "&#169; University of Notre Dame"
   ]
  },
  {
   "cell_type": "markdown",
   "metadata": {},
   "source": [
    "## Learning Objectives\n",
    "\n",
    "After studying this notebook, completing the activities, and asking questions in class, you should be able to:\n",
    "* Interpret the rank of a matrix. What does it mean about the corresponding linear system?\n",
    "* Propagate uncertainty through the solution of a linear system using condition number."
   ]
  },
  {
   "cell_type": "code",
   "execution_count": 1,
   "metadata": {
    "tags": []
   },
   "outputs": [],
   "source": [
    "import numpy as np"
   ]
  },
  {
   "cell_type": "markdown",
   "metadata": {
    "colab_type": "text",
    "id": "gsg3njId7knp",
    "tags": []
   },
   "source": [
    "## Errors in Linear Systems\n",
    "\n",
    "We will now learn about condition number and singular value decomposition as tools to analyze solutions to linear systems. These are helpful for diagnosing if a linear system is rank deficient, i.e., the model is not fully specified (not enough equations or information given to solve)."
   ]
  },
  {
   "cell_type": "markdown",
   "metadata": {},
   "source": [
    "### Rank of the Matrix\n",
    "\n",
    "The rank of a matrix is the number of linear independent equations encoded in it. Let's explore a few examples.\n",
    "\n",
    "#### Example 1\n",
    "\n",
    "Let's take a look at the same $\\mathbf{A}$ matrix we used as an example in this class and the previous class. We know this matrix corresponds to a system of three independent linear equations:\n",
    "\n",
    "$$3 x_1 + 2 x_2 + x_3 = 6$$\n",
    "$$-x_1 + 4 x_2 + 5x_3 = 8$$\n",
    "$$2x_1 -8 x_2 + 10 x_3 = 4$$\n",
    "\n",
    "$$\\underbrace{\\begin{pmatrix} 3 & 2 & 1\\\\ -1 & 4 & 5\\\\ 2& -8 & 10\\end{pmatrix}}_{\\mathbf{A}} ~\n",
    "\\underbrace{\\begin{pmatrix} x_1\\\\x_2\\\\x_3\\end{pmatrix}}_{\\mathbf{x}} = \\underbrace{\\begin{pmatrix}6\\\\8\\\\4\\end{pmatrix}}_{\\mathbf{b}}\n",
    "$$\n",
    "\n",
    "Note: whether or not each row (equation) is independent does not depend on the right hand side. In other words, we are only focusing on $\\mathbf{A}$."
   ]
  },
  {
   "cell_type": "code",
   "execution_count": 35,
   "metadata": {},
   "outputs": [
    {
     "name": "stdout",
     "output_type": "stream",
     "text": [
      "A = \n",
      " [[ 3.  2.  1.]\n",
      " [-1.  4.  5.]\n",
      " [ 2. -8. 10.]]\n"
     ]
    }
   ],
   "source": [
    "A1 = np.array([(3.0,2,1),(-1,4,5),(2,-8,10)])\n",
    "print(\"A = \\n\",A1)"
   ]
  },
  {
   "cell_type": "code",
   "execution_count": 36,
   "metadata": {},
   "outputs": [
    {
     "name": "stdout",
     "output_type": "stream",
     "text": [
      "rank(A) = 3\n"
     ]
    }
   ],
   "source": [
    "print(\"rank(A) =\",np.linalg.matrix_rank(A1))"
   ]
  },
  {
   "cell_type": "markdown",
   "metadata": {},
   "source": [
    "This makes sense. There are three linearly independent equations, so the rank of the matrix is 3."
   ]
  },
  {
   "cell_type": "markdown",
   "metadata": {},
   "source": [
    "#### Example 2\n",
    "\n",
    "Now let's consider a system where equation 2 and 3 are the same:\n",
    "\n",
    "$$1 x_1 + 1 x_2 + 1 x_3 = 0$$\n",
    "$$2 x_1 + 1 x_2 + 0 x_3 = 0$$\n",
    "$$2 x_1 + 1 x_2 + 0 x_3 = 0$$\n",
    "\n",
    "Clearly, there are only two unique linear equations. Let's verify the rank is two."
   ]
  },
  {
   "cell_type": "code",
   "execution_count": 37,
   "metadata": {},
   "outputs": [
    {
     "name": "stdout",
     "output_type": "stream",
     "text": [
      "A2 = \n",
      " [[1 1 1]\n",
      " [2 1 0]\n",
      " [2 1 0]]\n",
      "\n",
      "rank(A2) = 2\n"
     ]
    }
   ],
   "source": [
    "A2 = np.array([[1, 1, 1], [2, 1, 0], [2, 1, 0]])\n",
    "print(\"A2 = \\n\",A2)\n",
    "\n",
    "print(\"\\nrank(A2) =\",np.linalg.matrix_rank(A2))"
   ]
  },
  {
   "cell_type": "markdown",
   "metadata": {},
   "source": [
    "#### Example 3\n",
    "\n",
    "Let's consider a more subtle example.\n",
    "\n",
    "$$1 x_1 + 0 x_2 + 0 x_3 + 1 x_4 = 1$$\n",
    "$$0 x_1 + 1 x_2 + 0 x_3 + 1 x_4 = 2$$\n",
    "$$0 x_1 + 0 x_2 + 1 x_3 - 1 x_4 = 3$$\n",
    "$$2 x_1 + 2 x_2 + 2 x_3 + 2 x_4 = 4$$\n"
   ]
  },
  {
   "cell_type": "markdown",
   "metadata": {},
   "source": [
    "<div style=\"background-color: rgba(0,255,0,0.05) ; padding: 10px; border: 1px solid darkgreen;\"> \n",
    "    <b>Home Activity</b>: Convert the linear system above into a matrix. Store the left hand side in the numpy array (or matrix) <tt>A3</tt>. Then calculate the rank of <tt>A3</tt> and store in <tt>r3</tt>. Finally, write a sentence as to why the rank makes sense.\n",
    "</div>"
   ]
  },
  {
   "cell_type": "code",
   "execution_count": 38,
   "metadata": {
    "tags": [
     "remove-output"
    ]
   },
   "outputs": [
    {
     "name": "stdout",
     "output_type": "stream",
     "text": [
      "A3 = \n",
      " [[ 1  0  0  1]\n",
      " [ 0  1  0  1]\n",
      " [ 0  0  1 -1]\n",
      " [ 2  2  2  2]]\n",
      "\n",
      "rank(A3) = 3\n"
     ]
    }
   ],
   "source": [
    "### BEGIN SOLUTION\n",
    "A3 = np.array([[1, 0, 0, 1],[0, 1, 0, 1], [0, 0, 1, -1], [2, 2, 2, 2]])\n",
    "print(\"A3 = \\n\",A3)\n",
    "r3 = np.linalg.matrix_rank(A3)\n",
    "print(\"\\nrank(A3) =\",r3)\n",
    "### END SOLUTION"
   ]
  },
  {
   "cell_type": "code",
   "execution_count": 39,
   "metadata": {
    "nbgrader": {
     "grade": true,
     "grade_id": "7e-i",
     "locked": true,
     "points": "0.2",
     "solution": false
    },
    "tags": []
   },
   "outputs": [],
   "source": [
    "### HIDDEN TESTS\n",
    "A3_ans = np.array([[1, 0, 0, 1],[0, 1, 0, 1], [0, 0, 1, -1], [2, 2, 2, 2]])\n",
    "\n",
    "assert np.shape(A3) == (4,4), \"A3 should be a 4x4 matrix\"\n",
    "\n",
    "for i in range(4):\n",
    "    for j in range(4):\n",
    "        assert np.abs(A3_ans[i,j] - A3[i,j]) < 1E-6, \"Check the (\"+str(i)+\",\"+str(j)+\") element in A3\"\n",
    "\n",
    "### HIDDEN TESTS"
   ]
  },
  {
   "cell_type": "markdown",
   "metadata": {},
   "source": [
    "Please see your linear algebra textbook for a more formal definition of rank. This wikipedia article is also quite good: https://en.wikipedia.org/wiki/Rank_(linear_algebra)"
   ]
  },
  {
   "cell_type": "markdown",
   "metadata": {
    "colab_type": "text",
    "id": "AwvKXb2f7knq"
   },
   "source": [
    "### Singular Value Decomposition\n",
    "\n",
    "Singular Value Decomposition (SVD) is an incredibly important tool in numeric analysis and engineering. SVD is at the core of image compression, singular processing, control and many other important applications. There is a chapter on SVD in your linear algebra textbook. I encourage you to read it.\n",
    "\n",
    "For our purposes, we will think of SVD as another type of matrix factorization. We can represent a $m \\times n$ matrix as\n",
    "\n",
    "$$\\mathbf{A} = \\mathbf{U} \\cdot \\mathbf{\\Sigma} \\cdot \\mathbf{V}^T$$\n",
    "\n",
    "where the columns of $\\mathbf{U}$ and $\\mathbf{V}$ are the left and right **singular vectors**:\n",
    "\n",
    "$$\\mathbf{U} = \\begin{bmatrix} \\vec{u}_1 & \\vec{u}_2 & ... & \\vec{u}_m \\end{bmatrix}$$\n",
    "\n",
    "$$\\mathbf{V} = \\begin{bmatrix} \\vec{v}_1 & \\vec{v}_2 & ... & \\vec{v}_n \\end{bmatrix}$$\n",
    "\n",
    "Moreover, $\\mathbf{\\Sigma}$ is a $m \\times n$ matrix of zeros with the singular values on the diagonal. For $m > n$, we have:\n",
    "\n",
    "$$\\mathbf{\\Sigma} =\n",
    "\\begin{bmatrix} \\sigma_1 & 0 & \\dots & 0 \\\\ \n",
    "0 & \\sigma_2 & \\dots & 0 \\\\ \n",
    "\\vdots & \\vdots & \\ddots & \\vdots \\\\\n",
    "0 & 0 & \\dots & \\sigma_n \\\\\n",
    "0 & 0 & \\dots & 0 \\\\\n",
    "\\vdots & \\vdots & \\ddots & \\vdots \\\\\n",
    "0 & 0 & \\dots & 0\n",
    "\\end{bmatrix}$$\n",
    "\n",
    "Thus, we can rewrite the SVD factorization as follows (assuming $m \\geq n$):\n",
    "\n",
    "$$\\mathbf{A} = \\sum_{i=1}^{n} \\vec{u}_i \\cdot \\sigma_i \\cdot \\vec{v}_i^T$$"
   ]
  },
  {
   "cell_type": "markdown",
   "metadata": {},
   "source": [
    "<div style=\"background-color: rgba(0,0,255,0.05) ; padding: 10px; border: 1px solid darkblue;\"> \n",
    "    <b>Class Activity</b>: What are the dimensions of <b>A</b>, <b>U</b>, <b>V</b>, and $\\mathbf{\\Sigma}$? What changes if $n < m$?\n",
    "</div>"
   ]
  },
  {
   "cell_type": "markdown",
   "metadata": {},
   "source": [
    "Now let's look at SVD in Python:"
   ]
  },
  {
   "cell_type": "code",
   "execution_count": 41,
   "metadata": {
    "colab": {
     "base_uri": "https://localhost:8080/",
     "height": 357
    },
    "colab_type": "code",
    "executionInfo": {
     "elapsed": 307,
     "status": "ok",
     "timestamp": 1549985780698,
     "user": {
      "displayName": "Alexander Dowling",
      "photoUrl": "https://lh3.googleusercontent.com/-LChdQ2m5OQE/AAAAAAAAAAI/AAAAAAAAAA0/JeXJe4vQJ7M/s64/photo.jpg",
      "userId": "00988067626794866502"
     },
     "user_tz": 300
    },
    "id": "Sc6KEr9O7knr",
    "outputId": "649c4436-bb2b-4eac-8cae-20f4cf274e39"
   },
   "outputs": [
    {
     "name": "stdout",
     "output_type": "stream",
     "text": [
      "A =\n",
      " [[ 3.  2.  1.]\n",
      " [-1.  4.  5.]\n",
      " [ 2. -8. 10.]\n",
      " [-2. -8. 10.]] \n",
      "\n",
      "U =\n",
      " [[ 0.02399156 -0.33975594 -0.698885    0.62892771]\n",
      " [-0.08707759 -0.93759246  0.25472139 -0.2201247 ]\n",
      " [-0.70322927  0.04758521 -0.50005219 -0.50314217]\n",
      " [-0.70520244  0.056762    0.4434237   0.55031174]] \n",
      "\n",
      "S =\n",
      " [18.17773759  6.60309487  4.23898503] \n",
      "\n",
      "V =\n",
      " [[ 0.00896694  0.60332736 -0.79744322]\n",
      " [-0.01514879 -0.7973018  -0.60339071]\n",
      " [-0.99984504  0.01749087  0.00199033]] \n",
      "\n"
     ]
    }
   ],
   "source": [
    "A = np.array([(3.0,2,1),(-1,4,5),(2,-8,10),(-2,-8,10)])\n",
    "print(\"A =\\n\",A,\"\\n\")\n",
    "\n",
    "U,S,V = np.linalg.svd(A)\n",
    "print(\"U =\\n\",U,\"\\n\")\n",
    "print(\"S =\\n\",S,\"\\n\")\n",
    "print(\"V =\\n\",V,\"\\n\")"
   ]
  },
  {
   "cell_type": "markdown",
   "metadata": {
    "colab_type": "text",
    "id": "sKVIh7b77knu"
   },
   "source": [
    "Notice that Python only returns the first $n$ elements of the diagonal $\\mathbf{\\Sigma}$. Because $m > n$, we know the remaining $m-n = 1$ elements are zero.\n",
    "\n",
    "Let's check the rank of this matrix."
   ]
  },
  {
   "cell_type": "code",
   "execution_count": 42,
   "metadata": {
    "colab": {
     "base_uri": "https://localhost:8080/",
     "height": 34
    },
    "colab_type": "code",
    "executionInfo": {
     "elapsed": 272,
     "status": "ok",
     "timestamp": 1549985826433,
     "user": {
      "displayName": "Alexander Dowling",
      "photoUrl": "https://lh3.googleusercontent.com/-LChdQ2m5OQE/AAAAAAAAAAI/AAAAAAAAAA0/JeXJe4vQJ7M/s64/photo.jpg",
      "userId": "00988067626794866502"
     },
     "user_tz": 300
    },
    "id": "EBnNRGNo7knu",
    "outputId": "2a55f098-ef63-4189-c15f-da12507c4def"
   },
   "outputs": [
    {
     "data": {
      "text/plain": [
       "3"
      ]
     },
     "execution_count": 42,
     "metadata": {},
     "output_type": "execute_result"
    }
   ],
   "source": [
    "np.linalg.matrix_rank(A)"
   ]
  },
  {
   "cell_type": "markdown",
   "metadata": {
    "colab_type": "text",
    "id": "DzPCIFCV7knw"
   },
   "source": [
    "The matrix rank is 3 and $n=3$, thus we say this matrix is **full rank**. Notice SVD returned 3 non-zero singular values.\n",
    "\n",
    "Now let's try SVD on a rank deficient matrix."
   ]
  },
  {
   "cell_type": "code",
   "execution_count": 43,
   "metadata": {
    "colab": {
     "base_uri": "https://localhost:8080/",
     "height": 119
    },
    "colab_type": "code",
    "executionInfo": {
     "elapsed": 243,
     "status": "ok",
     "timestamp": 1549985850038,
     "user": {
      "displayName": "Alexander Dowling",
      "photoUrl": "https://lh3.googleusercontent.com/-LChdQ2m5OQE/AAAAAAAAAAI/AAAAAAAAAA0/JeXJe4vQJ7M/s64/photo.jpg",
      "userId": "00988067626794866502"
     },
     "user_tz": 300
    },
    "id": "bAfJVzfy7knx",
    "outputId": "e58c63a8-6250-4519-caa4-c81de81b9168"
   },
   "outputs": [
    {
     "name": "stdout",
     "output_type": "stream",
     "text": [
      "Anew = \n",
      " [[ 1  1  0]\n",
      " [ 1 -1  2]\n",
      " [ 2  0  2]] \n",
      "\n",
      "and has rank 2\n"
     ]
    }
   ],
   "source": [
    "Anew = np.array([[1, 1, 0],[1, -1, 2],[2, 0, 2]])\n",
    "print(\"Anew = \\n\",Anew,\"\\n\")\n",
    "print(\"and has rank\",np.linalg.matrix_rank(Anew))"
   ]
  },
  {
   "cell_type": "code",
   "execution_count": 44,
   "metadata": {
    "colab": {
     "base_uri": "https://localhost:8080/",
     "height": 238
    },
    "colab_type": "code",
    "executionInfo": {
     "elapsed": 269,
     "status": "ok",
     "timestamp": 1549985873921,
     "user": {
      "displayName": "Alexander Dowling",
      "photoUrl": "https://lh3.googleusercontent.com/-LChdQ2m5OQE/AAAAAAAAAAI/AAAAAAAAAA0/JeXJe4vQJ7M/s64/photo.jpg",
      "userId": "00988067626794866502"
     },
     "user_tz": 300
    },
    "id": "Fn9EcG0F7kn0",
    "outputId": "b699b18f-3232-41cb-9c2f-5affbc0964f4"
   },
   "outputs": [
    {
     "name": "stdout",
     "output_type": "stream",
     "text": [
      "U =\n",
      " [[-0.13550992  0.8051731  -0.57735027]\n",
      " [-0.6295454  -0.51994159 -0.57735027]\n",
      " [-0.76505532  0.28523152  0.57735027]] \n",
      "\n",
      "S =\n",
      " [3.64575131e+00 1.64575131e+00 6.69376379e-17] \n",
      "\n",
      "V =\n",
      " [[-0.6295454   0.13550992 -0.76505532]\n",
      " [ 0.51994159  0.8051731  -0.28523152]\n",
      " [ 0.57735027 -0.57735027 -0.57735027]] \n",
      "\n"
     ]
    }
   ],
   "source": [
    "U,S,V = np.linalg.svd(Anew)\n",
    "print(\"U =\\n\",U,\"\\n\")\n",
    "print(\"S =\\n\",S,\"\\n\")\n",
    "print(\"V =\\n\",V,\"\\n\")"
   ]
  },
  {
   "cell_type": "markdown",
   "metadata": {
    "colab_type": "text",
    "id": "xFU4eqcG7kn2"
   },
   "source": [
    "Notice the almost zero third singular value. This matrix is numerically rank deficient. The number of non-zero singular values is the rank of a matrix."
   ]
  },
  {
   "cell_type": "markdown",
   "metadata": {
    "colab_type": "text",
    "id": "fAw5H3mF7kn2"
   },
   "source": [
    "### Condition Number\n",
    "\n",
    "The condition number is the ratio of the largest to smallest singular values of a matrix:\n",
    "\n",
    "$$\\kappa = \\frac{\\sigma_{\\mathrm{max}}}{\\sigma_{\\mathrm{min}}}$$\n",
    "\n",
    "In some sense, the condition number $\\kappa$ measures how close a matrix is to singular. The condition number also bounds the relative error in solving a linear system:\n",
    "\n",
    "$$\\frac{||\\vec{\\Delta x}||}{||\\vec{x}||} \\leq \\kappa \\frac{||\\vec{\\Delta b}||}{||\\vec{b}||}$$\n",
    "\n",
    "where $\\vec{\\Delta b}$ is a perturbation (error) in the vector $\\vec{b}$ and $\\vec{\\Delta x}$ is the corresponding or induced error in $\\vec{x}$. The operator $|| \\cdot ||$ is the $\\ell_2$ norm (i.e., length of a vector) you learned about in physics:\n",
    "\n",
    "$$|| \\vec{a} || = \\sqrt{\\sum_{i=1}^{N} a_i^2}$$\n",
    "\n",
    "where $a$ is an arbitrary $N \\times 1$ vector.\n",
    "\n",
    "#### Example\n",
    "\n",
    "Let's revisit the motivating example from last class.\n",
    "\n",
    "$$3 x_1 + 2 x_2 + x_3 = 6$$\n",
    "$$-x_1 + 4 x_2 + 5x_3 = 8$$\n",
    "$$2x_1 -8 x_2 + 10 x_3 = 4$$"
   ]
  },
  {
   "cell_type": "code",
   "execution_count": 45,
   "metadata": {
    "colab": {
     "base_uri": "https://localhost:8080/",
     "height": 119
    },
    "colab_type": "code",
    "executionInfo": {
     "elapsed": 223,
     "status": "ok",
     "timestamp": 1549986039122,
     "user": {
      "displayName": "Alexander Dowling",
      "photoUrl": "https://lh3.googleusercontent.com/-LChdQ2m5OQE/AAAAAAAAAAI/AAAAAAAAAA0/JeXJe4vQJ7M/s64/photo.jpg",
      "userId": "00988067626794866502"
     },
     "user_tz": 300
    },
    "id": "P5dcbAhR7kn3",
    "outputId": "b0f3d3e5-670b-4434-9f1c-749cde3bd357"
   },
   "outputs": [
    {
     "name": "stdout",
     "output_type": "stream",
     "text": [
      "A = \n",
      " [[ 3.  2.  1.]\n",
      " [-1.  4.  5.]\n",
      " [ 2. -8. 10.]]\n",
      "\n",
      "b = [[6 8 4]]\n"
     ]
    }
   ],
   "source": [
    "# Declare matrix\n",
    "A33 = np.matrix([(3.0,2,1),(-1,4,5),(2,-8,10)])\n",
    "b3 = np.matrix([6,8,4])\n",
    "\n",
    "print(\"A = \\n\",A33)\n",
    "print(\"\\nb =\",b3)"
   ]
  },
  {
   "cell_type": "code",
   "execution_count": 46,
   "metadata": {
    "colab": {
     "base_uri": "https://localhost:8080/",
     "height": 34
    },
    "colab_type": "code",
    "executionInfo": {
     "elapsed": 236,
     "status": "ok",
     "timestamp": 1549986048740,
     "user": {
      "displayName": "Alexander Dowling",
      "photoUrl": "https://lh3.googleusercontent.com/-LChdQ2m5OQE/AAAAAAAAAAI/AAAAAAAAAA0/JeXJe4vQJ7M/s64/photo.jpg",
      "userId": "00988067626794866502"
     },
     "user_tz": 300
    },
    "id": "ii0YT4IS7kn4",
    "outputId": "dc62973f-1305-4776-cf73-0f55eb2474ce"
   },
   "outputs": [
    {
     "name": "stdout",
     "output_type": "stream",
     "text": [
      "condition number = 3.99784371803463\n"
     ]
    }
   ],
   "source": [
    "## Calculate condition number\n",
    "kappa = np.linalg.cond(A33)\n",
    "print(\"condition number =\",kappa)"
   ]
  },
  {
   "cell_type": "code",
   "execution_count": 47,
   "metadata": {
    "colab": {
     "base_uri": "https://localhost:8080/",
     "height": 34
    },
    "colab_type": "code",
    "executionInfo": {
     "elapsed": 287,
     "status": "ok",
     "timestamp": 1549986070402,
     "user": {
      "displayName": "Alexander Dowling",
      "photoUrl": "https://lh3.googleusercontent.com/-LChdQ2m5OQE/AAAAAAAAAAI/AAAAAAAAAA0/JeXJe4vQJ7M/s64/photo.jpg",
      "userId": "00988067626794866502"
     },
     "user_tz": 300
    },
    "id": "8Nt-bP2Y7kn6",
    "outputId": "6cf8615d-d4f7-49ad-ce27-e0eacb84628f"
   },
   "outputs": [
    {
     "name": "stdout",
     "output_type": "stream",
     "text": [
      "l2 norm of b = 10.770329614269007\n"
     ]
    }
   ],
   "source": [
    "## Calculate the norm of a vector, such as b3\n",
    "print(\"l2 norm of b =\",np.linalg.norm(b3))"
   ]
  },
  {
   "cell_type": "markdown",
   "metadata": {},
   "source": [
    "<div style=\"background-color: rgba(0,0,255,0.05) ; padding: 10px; border: 1px solid darkblue;\"> \n",
    "    <b>Class Activity</b>: Let's say in this linear system $\\vec{b}$ comes from an experiment measurement with $\\pm 0.1$ absolute error for each element, thus $\\vec{\\Delta b} = [0.1, 0.1, 0.1]^T$. What is the corresponding error when we solve the linear system for $\\vec{x}$. In other words, what is $||\\vec{\\Delta x}||$?\n",
    "</div>"
   ]
  },
  {
   "cell_type": "code",
   "execution_count": 48,
   "metadata": {
    "tags": [
     "remove-output"
    ]
   },
   "outputs": [
    {
     "name": "stdout",
     "output_type": "stream",
     "text": [
      "[[1.]\n",
      " [1.]\n",
      " [1.]]\n",
      "1.7320508075688772\n",
      "Error in x is less than or equal to  0.06429207543641194\n"
     ]
    }
   ],
   "source": [
    "### BEGIN SOLUTION\n",
    "x = np.linalg.solve(A33,np.transpose(b3))\n",
    "delta_b = np.array([0.1, 0.1, 0.1])\n",
    "delta_b = np.transpose(delta_b)\n",
    "delta_b_norm = np.linalg.norm(delta_b)\n",
    "print(x)\n",
    "print(np.linalg.norm(x))\n",
    "print(\"Error in x is less than or equal to \",kappa*delta_b_norm/np.linalg.norm(b3) )\n",
    "### END SOLUTION"
   ]
  },
  {
   "cell_type": "markdown",
   "metadata": {
    "tags": []
   },
   "source": [
    "## Take Home Messages\n",
    "\n",
    "1) Rank and condition number tell us sensitivity of solutions to a linear system:\n",
    " * Rank tells us how many linear independent equations are encoded in a matrix\n",
    " * Singular value decomposition does many things... we'll use to tell if a matrix is *near-singular*, i.e., numerically rank deficient\n",
    " * Condition number tells us how $\\vec{x}$, the solution to a linear system, changes with uncertainty in $\\vec{b}$"
   ]
  }
 ],
 "metadata": {
  "colab": {
   "name": "L9-LU-Decomposition.ipynb",
   "provenance": [],
   "version": "0.3.2"
  },
  "kernelspec": {
   "display_name": "Python 3 (ipykernel)",
   "language": "python",
   "name": "python3"
  },
  "language_info": {
   "codemirror_mode": {
    "name": "ipython",
    "version": 3
   },
   "file_extension": ".py",
   "mimetype": "text/x-python",
   "name": "python",
   "nbconvert_exporter": "python",
   "pygments_lexer": "ipython3",
   "version": "3.9.12"
  }
 },
 "nbformat": 4,
 "nbformat_minor": 4
}
