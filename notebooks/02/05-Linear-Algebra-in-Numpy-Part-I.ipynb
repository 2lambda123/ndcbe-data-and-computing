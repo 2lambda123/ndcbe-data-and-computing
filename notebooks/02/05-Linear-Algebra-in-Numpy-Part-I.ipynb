{
 "cells": [
  {
   "cell_type": "markdown",
   "metadata": {},
   "source": [
    "# Linear Algebra Review and SciPy Basics\n",
    "\n",
    "Screenshots from Section **2.2 Vectors and Matrices** in Biegler (2010)\n",
    "\n",
    "**Recommended Links**\n",
    "* [NumPy Documentation - Main Page](https://docs.scipy.org/doc/numpy-1.15.0/reference/)\n",
    "* [SciPy Documentation - Main Page](https://docs.scipy.org/doc/scipy-1.1.0/reference/)\n",
    "* [SciPy Linear Algebra - Tutorial](https://docs.scipy.org/doc/scipy-1.1.0/reference/tutorial/linalg.html)\n",
    "* [SciPy Linear Algebra - API](https://docs.scipy.org/doc/scipy-1.1.0/reference/linalg.html)\n",
    "* [SciPy Lecture Notes](http://www.scipy-lectures.org/) (Especially 1.1 - 1.6 for everyone and 2.1 - 2.2 for advanced users)\n",
    "\n",
    "Tip: We will mostly use SciPy for linear algebra. (It has more sophisticated capabilities than NumPy.) We will use NumPy if/when SciPy does not offer a specific command."
   ]
  },
  {
   "cell_type": "code",
   "execution_count": 1,
   "metadata": {},
   "outputs": [],
   "source": [
    "# Load required Python libraries.\n",
    "import matplotlib.pyplot as plt\n",
    "import numpy as np\n",
    "from scipy import linalg"
   ]
  },
  {
   "cell_type": "markdown",
   "metadata": {
    "tags": []
   },
   "source": [
    "## Notation (for textbook)\n",
    "* Scalar constants and variables - Greek letters\n",
    "* Vectors - Lower case Roman letters\n",
    "* Matrices - Upper case Roman letters\n",
    "\n",
    "The notation for lectures will (hopefully) be obvious from context. I sometimes use Greek letters for constants and Roman letters for variables... unless the Greek letters have engineering or scientific meaning.\n"
   ]
  },
  {
   "cell_type": "markdown",
   "metadata": {
    "jp-MarkdownHeadingCollapsed": true,
    "tags": []
   },
   "source": [
    "## Matrix Operations"
   ]
  },
  {
   "cell_type": "markdown",
   "metadata": {},
   "source": [
    "*Section **2.2 Vectors and Matrices** in Biegler (2010)*\n",
    "\n",
    "In this section we will introduce properties of matrices with code examples following each property."
   ]
  },
  {
   "cell_type": "markdown",
   "metadata": {},
   "source": [
    "### Property #1:\n",
    "\n",
    "Multiplying two matrices $A$ $\\in$ $\\mathbb{R}^{n \\times m}$ and $B$ $\\in$ $\\mathbb{R}^{m \\times p}$ leads to the product $C \\in$ $\\mathbb{R}^{n \\times p}$ with elements $\\{C\\}_{ij}$ = $\\sum_{k=1}^m \\{A\\}_{ik}\\{B\\}_{kj}$. This operation is defined only if the number of columns in $A$ and rows of $B$ is the same."
   ]
  },
  {
   "cell_type": "markdown",
   "metadata": {},
   "source": [
    "<div style=\"background-color: rgba(0,255,0,0.05) ; padding: 10px; border: 1px solid darkgreen;\"> \n",
    "<b>Home Activity</b>: The code below demonstrates matrix multiplication.  Before running the code below, what is the dimension of A*B?\n",
    "</div>"
   ]
  },
  {
   "cell_type": "code",
   "execution_count": 4,
   "metadata": {
    "tags": [
     "remove-output"
    ]
   },
   "outputs": [
    {
     "name": "stdout",
     "output_type": "stream",
     "text": [
      "Ao = \n",
      "[[0.79460559 0.92852087 0.93083124]\n",
      " [0.90967038 0.16844344 0.63759139]]\n",
      "\n",
      "Bo = \n",
      "[[0.22484908 0.38813638]\n",
      " [0.52860634 0.29418532]\n",
      " [0.21365975 0.35361078]]\n",
      "\n",
      "Ao*Bo =\n",
      "[[0.86836952 0.91072451]\n",
      " [0.42980643 0.62808895]]\n"
     ]
    }
   ],
   "source": [
    "# Generate random matrices\n",
    "n = 2\n",
    "m = 3\n",
    "\n",
    "Ao = np.random.rand(n,m)\n",
    "Bo = np.random.rand(m,n)\n",
    "\n",
    "print(\"Ao = \")\n",
    "print(Ao)\n",
    "print(\"\\nBo = \")\n",
    "print(Bo)\n",
    "\n",
    "# Calculate A*B using Python\n",
    "print(\"\\nAo*Bo =\")\n",
    "print(Ao.dot(Bo))"
   ]
  },
  {
   "cell_type": "markdown",
   "metadata": {},
   "source": [
    "### Property #2:\n",
    "\n",
    "The *transpose* of $A$ $\\in$ $\\mathbb{R}^{n \\times m}$ is $A^T$ $\\in$ $\\mathbb{R}^{m \\times n}$ with the rows and columns of A interchanged, i.e.$\\{A^T\\}_{ij} = \\{A\\}_{ji}$."
   ]
  },
  {
   "cell_type": "markdown",
   "metadata": {},
   "source": [
    "<div style=\"background-color: rgba(0,255,0,0.05) ; padding: 10px; border: 1px solid darkgreen;\"> \n",
    "<b>Home Activity</b>: Calculate $A_o^{T}$\n",
    "</div>"
   ]
  },
  {
   "cell_type": "code",
   "execution_count": 5,
   "metadata": {
    "tags": [
     "remove-output"
    ]
   },
   "outputs": [
    {
     "name": "stdout",
     "output_type": "stream",
     "text": [
      "transpose(Ao) = \n",
      " [[0.79460559 0.90967038]\n",
      " [0.92852087 0.16844344]\n",
      " [0.93083124 0.63759139]] \n",
      "\n"
     ]
    }
   ],
   "source": [
    "# Transpose\n",
    "### BEGIN SOLUTION\n",
    "print(\"transpose(Ao) = \\n\",Ao.transpose(),\"\\n\")\n",
    "### END SOLUTION"
   ]
  },
  {
   "cell_type": "markdown",
   "metadata": {},
   "source": [
    "### Property #3:\n",
    "\n",
    "A *symmetric* matrix $A$ $\\in$ $\\mathbb{R}^{n \\times n}$ satisfies $A = A^T$.\n",
    "\n",
    "### Property #4:\n",
    "\n",
    "A *diagonal* matrix $A$ $\\in$ $\\mathbb{R}^{n \\times n}$ has nonzero elements only on the diagonal, i.e., $\\{A\\}_{ij} = 0, i \\neq j$."
   ]
  },
  {
   "cell_type": "markdown",
   "metadata": {},
   "source": [
    "<div style=\"background-color: rgba(0,255,0,0.05) ; padding: 10px; border: 1px solid darkgreen;\">\n",
    "<b>Home Activity</b>: Create a random $3 \\times 3$ square matrix and check if it is symmetric by comparing it to its transpose.</div>"
   ]
  },
  {
   "cell_type": "code",
   "execution_count": 6,
   "metadata": {
    "tags": [
     "remove-output"
    ]
   },
   "outputs": [
    {
     "name": "stdout",
     "output_type": "stream",
     "text": [
      "Square matrix:\n",
      " [[0.34058144 0.6323501  0.34221605]\n",
      " [0.06285987 0.5263325  0.24616663]\n",
      " [0.6781021  0.51967506 0.70846924]]\n",
      "Transpose of square matrix:\n",
      " [[0.34058144 0.06285987 0.6781021 ]\n",
      " [0.6323501  0.5263325  0.51967506]\n",
      " [0.34221605 0.24616663 0.70846924]]\n"
     ]
    }
   ],
   "source": [
    "# Create square matrix and compare with transpose\n",
    "### BEGIN SOLUTION\n",
    "square = np.random.rand(3,3)\n",
    "print(\"Square matrix:\\n\",square)\n",
    "squareT = square.transpose()\n",
    "print(\"Transpose of square matrix:\\n\", squareT)\n",
    "### END SOLUTION"
   ]
  },
  {
   "cell_type": "markdown",
   "metadata": {},
   "source": [
    "### Property #5:\n",
    "\n",
    "The *identity* matrix $I \\in \\mathbb{R}^{n \\times n}$ is defined as \n",
    "$$ \\{I\\}_{ij}=   \\left\\{\n",
    "\\begin{array}{ll}\n",
    "      1 \\text{ if } i = j, \\\\\n",
    "      0 \\text{ otherwise.} \\\\\n",
    "\\end{array} \n",
    "\\right.  $$"
   ]
  },
  {
   "cell_type": "markdown",
   "metadata": {},
   "source": [
    "<div style=\"background-color: rgba(0,255,0,0.05) ; padding: 10px; border: 1px solid darkgreen;\">\n",
    "<b>Home Activity</b>: Create a 3x3 identity matrix.</div>"
   ]
  },
  {
   "cell_type": "code",
   "execution_count": 7,
   "metadata": {
    "tags": [
     "remove-output"
    ]
   },
   "outputs": [
    {
     "name": "stdout",
     "output_type": "stream",
     "text": [
      "I = \n",
      " [[1. 0. 0.]\n",
      " [0. 1. 0.]\n",
      " [0. 0. 1.]] \n",
      "\n"
     ]
    }
   ],
   "source": [
    "# Identity matrix\n",
    "### BEGIN SOLUTION\n",
    "print(\"I = \\n\",np.identity(3),\"\\n\")\n",
    "### END SOLUTION"
   ]
  },
  {
   "cell_type": "markdown",
   "metadata": {
    "jp-MarkdownHeadingCollapsed": true,
    "tags": []
   },
   "source": [
    "## Determinant"
   ]
  },
  {
   "cell_type": "markdown",
   "metadata": {},
   "source": [
    "*Section **2.2 Vectors and Matrices** in Biegler (2010)*\n",
    "\n",
    "A *determinant* is a scalar associated to a square matrix, i.e., det($A$) for $A$ $\\in$ $\\mathbb{R}^{n \\times n}$, and can be defined recursively by det($A$) = $\\sum_i (-1)^{i+j}\\{A\\}_{ij}\\bar{A}_{ij}$ for any column $j$, or det($A$) = $\\sum_j (-1)^{i+j}\\{A\\}_{ij}\\bar{A}_{ij}$ for any row $i$, where $\\bar{A}_{ij}$ is the determinant of an ($n$-1)-order matrix with row $i$ and column $j$ removed.\n",
    "\n",
    "We will now manipulate the following matrices to demonstrate properties for the determinant."
   ]
  },
  {
   "cell_type": "code",
   "execution_count": 8,
   "metadata": {},
   "outputs": [
    {
     "name": "stdout",
     "output_type": "stream",
     "text": [
      "A = \n",
      "[[0.30795044 0.32545939]\n",
      " [0.5654349  0.21466289]]\n",
      "\n",
      "B = \n",
      "[[0.86620794 0.06143444]\n",
      " [0.51003603 0.12429083]]\n"
     ]
    }
   ],
   "source": [
    "# Generate random matrices\n",
    "nd = 2\n",
    "\n",
    "A = np.random.rand(nd,nd)\n",
    "B = np.random.rand(nd,nd)\n",
    "\n",
    "print(\"A = \")\n",
    "print(A)\n",
    "print(\"\\nB = \")\n",
    "print(B)"
   ]
  },
  {
   "cell_type": "markdown",
   "metadata": {},
   "source": [
    "The following properties are taken from Section **2.2 Vectors and Matrices** in Biegler (2010)."
   ]
  },
  {
   "cell_type": "markdown",
   "metadata": {},
   "source": [
    "### Property #1: \n",
    "\n",
    "det($AB$) = det($A$)det($B$)"
   ]
  },
  {
   "cell_type": "markdown",
   "metadata": {},
   "source": [
    "<div style=\"background-color: rgba(0,0,255,0.05) ; padding: 10px; border: 1px solid darkblue;\"> \n",
    "<b>Class Activity</b>: Calculate the determinante of $AB$ and prove it is equal to the product of the determinants of $A$ and $B$.</div>"
   ]
  },
  {
   "cell_type": "code",
   "execution_count": 9,
   "metadata": {
    "tags": [
     "remove-output"
    ]
   },
   "outputs": [
    {
     "name": "stdout",
     "output_type": "stream",
     "text": [
      "det(A*B) =  -0.009000632323405821\n",
      "det(A)*det(B) =  -0.00900063232340583\n"
     ]
    }
   ],
   "source": [
    "# Property 1\n",
    "### BEGIN SOLUTION\n",
    "print(\"det(A*B) = \",linalg.det(A.dot(B)))\n",
    "print(\"det(A)*det(B) = \",linalg.det(A)*linalg.det(B))\n",
    "### END SOLUTION"
   ]
  },
  {
   "cell_type": "markdown",
   "metadata": {},
   "source": [
    "### Property #2:\n",
    "\n",
    "det($A$) = det($A^T$)"
   ]
  },
  {
   "cell_type": "markdown",
   "metadata": {},
   "source": [
    "<div style=\"background-color: rgba(0,0,255,0.05) ; padding: 10px; border: 1px solid darkblue;\"> \n",
    "<b>Class Activity</b>: Calculate the determinant of $A$ and of $A^T$ and prove they are equal.</div>"
   ]
  },
  {
   "cell_type": "code",
   "execution_count": 10,
   "metadata": {
    "tags": [
     "remove-output"
    ]
   },
   "outputs": [
    {
     "name": "stdout",
     "output_type": "stream",
     "text": [
      "det(A) =  -0.11792056875458154\n",
      "det(A^T) =  -0.11792056875458154\n"
     ]
    }
   ],
   "source": [
    "# Property 2\n",
    "### BEGIN SOLUTION\n",
    "print(\"det(A) = \", linalg.det(A))\n",
    "print(\"det(A^T) = \", linalg.det(A.transpose()))\n",
    "### END SOLUTION"
   ]
  },
  {
   "cell_type": "markdown",
   "metadata": {},
   "source": [
    "### Property #3:\n",
    "\n",
    "For an $n \\times n$ matrix with scalar $\\alpha$, det($\\alpha A$) = $\\alpha^n$det($A$)"
   ]
  },
  {
   "cell_type": "markdown",
   "metadata": {},
   "source": [
    "<div style=\"background-color: rgba(0,0,255,0.05) ; padding: 10px; border: 1px solid darkblue;\"> \n",
    "<b>Class Activity</b>: Calculate the determinant of $\\alpha A$ and calculate $\\alpha$det($A$) and prove they are equal. Let $\\alpha$ = 4.</div>"
   ]
  },
  {
   "cell_type": "code",
   "execution_count": 11,
   "metadata": {
    "tags": [
     "remove-output"
    ]
   },
   "outputs": [
    {
     "name": "stdout",
     "output_type": "stream",
     "text": [
      "det(alpha*A) =  -1.8867291000733046\n",
      "alpha*det(A) =  -0.47168227501832616\n"
     ]
    }
   ],
   "source": [
    "# Property 3\n",
    "### BEGIN SOLUTION\n",
    "alpha = 4\n",
    "print(\"det(alpha*A) = \", linalg.det(alpha*A))\n",
    "print(\"alpha*det(A) = \", alpha*(linalg.det(A)))\n",
    "### END SOLUTION"
   ]
  },
  {
   "cell_type": "markdown",
   "metadata": {},
   "source": [
    "### Property #4:\n",
    "\n",
    "For an identity matrix $I$, det($I$) = 1."
   ]
  },
  {
   "cell_type": "markdown",
   "metadata": {},
   "source": [
    "<div style=\"background-color: rgba(0,0,255,0.05) ; padding: 10px; border: 1px solid darkblue;\"> \n",
    "<b>Class Activity</b>: Create a $3 \\times 3$ identity matrix and calculate the determinant.</div>"
   ]
  },
  {
   "cell_type": "code",
   "execution_count": 12,
   "metadata": {
    "tags": [
     "remove-output"
    ]
   },
   "outputs": [
    {
     "name": "stdout",
     "output_type": "stream",
     "text": [
      "[[1. 0. 0.]\n",
      " [0. 1. 0.]\n",
      " [0. 0. 1.]]\n",
      "det(I) =  1.0\n"
     ]
    }
   ],
   "source": [
    "# Property 4\n",
    "### BEGIN SOLUTION\n",
    "I = np.identity(3)\n",
    "print(I)\n",
    "print(\"det(I) = \", linalg.det(I))\n",
    "### END SOLUTION"
   ]
  },
  {
   "cell_type": "markdown",
   "metadata": {},
   "source": [
    "### Calculating $3 \\times 3$ Determinant by Hand\n",
    "\n",
    "Below is an example from *Linear Algebra and Its Applications* by David C. Lay, 3rd edition that shows how to calculate a determinant by hand."
   ]
  },
  {
   "cell_type": "markdown",
   "metadata": {},
   "source": [
    "<div style=\"background-color: rgba(0,255,0,0.05) ; padding: 10px; border: 1px solid darkgreen;\"> \n",
    "<b>Home Activity</b>: Walk through the following example that calculates a $3 \\times 3$ determinant by hand.\n",
    "</div>"
   ]
  },
  {
   "cell_type": "markdown",
   "metadata": {},
   "source": [
    "For $ n \\geq 2$, the **determinant** of an $n \\times n$ matrix $A$ = [$a_{ij}$] is the sum of $n$ terms of the form $\\pm a_{1j}$ det$A_{1j}$, with plus and minus signs alternating, where the entries $a_{11},a_{12},...,a_{1n}$ are from the first row of $A$.  In symbols, \n",
    "\n",
    "det$A$ = $a_{11}$det$A_{11}-a_{12}$det$A_{12}+...+(-1)^{1+n}a_{1n}$det$A_{1n}$\n",
    "    \n",
    "= $\\sum_{j=1}^n (-1)^{1+j}a_{1j}\\text{det}A_{1j}$"
   ]
  },
  {
   "cell_type": "markdown",
   "metadata": {},
   "source": [
    "**Example:** Compute the determinate of the matrix $A$ = \n",
    "$\\begin{bmatrix}\n",
    "1 & 5 & 0\\\\\n",
    "2 & 4 & -1\\\\\n",
    "0 & -2 & 0\n",
    "\\end{bmatrix}$"
   ]
  },
  {
   "cell_type": "markdown",
   "metadata": {},
   "source": [
    "**Solution:** Compute det($A$) = $a_{11}$det$A_{11}-a_{12}$det$A_{12}+a_{13}$det$A_{13}$:\n",
    "\n",
    "det$A$ = $1\\cdot$det$\\begin{bmatrix} 4 & -1\\\\ -2 & 0 \\end{bmatrix}$ - $5\\cdot$det$\\begin{bmatrix} 2 & -1\\\\ 0 & 0 \\end{bmatrix}$ + $0\\cdot$det$\\begin{bmatrix} 2 & 4\\\\ 0 & -2 \\end{bmatrix}$\n",
    "\n",
    "$= 1(0-2) - 5(0-0) + 0(-4-0)$ \n",
    "\n",
    "$= -2$"
   ]
  },
  {
   "cell_type": "markdown",
   "metadata": {
    "tags": []
   },
   "source": [
    "## Rank\n"
   ]
  },
  {
   "cell_type": "markdown",
   "metadata": {
    "tags": []
   },
   "source": [
    "### Matrix Rank Definition\n"
   ]
  },
  {
   "cell_type": "markdown",
   "metadata": {},
   "source": [
    "*Section **2.2 Vectors and Matrices** in Biegler (2010):*\n",
    "\n",
    "* The rank of a matrix $r(A)$ is the order of the largest submatrix in $A$ that has a nonzero determinant.\n",
    "* A matrix $A$ $\\in$ $\\mathbb{R}^{n \\times m}$ has full row (column) rank if none of the row (column) vectors can be written as a linear combination of the other row (column) vectors.  The rank of such a matrix is $r(A)$ = min($n,m$).\n",
    "* A matrix that does not have full rank is *rank deficient*."
   ]
  },
  {
   "cell_type": "markdown",
   "metadata": {
    "tags": []
   },
   "source": [
    "### Practice Activities\n"
   ]
  },
  {
   "cell_type": "markdown",
   "metadata": {},
   "source": [
    "<div style=\"background-color: rgba(0,255,0,0.05) ; padding: 10px; border: 1px solid darkgreen;\"> \n",
    "<b>Home Activity</b>: Predict the rank of $A_1^T$, $B_1^T$, $C_1$, and $D_1$.\n",
    "</div>"
   ]
  },
  {
   "cell_type": "code",
   "execution_count": 16,
   "metadata": {},
   "outputs": [
    {
     "name": "stdout",
     "output_type": "stream",
     "text": [
      "A_1 = \n",
      "[[0.10607203 0.87456671 0.51571556]\n",
      " [0.81183314 0.8439832  0.56909252]]\n",
      "\n",
      "B_1 = \n",
      "[[0.42274669 0.66382384]\n",
      " [0.1719959  0.55386967]\n",
      " [0.81941494 0.36101201]]\n",
      "\n",
      "C_1 = \n",
      "[[0 2 0]\n",
      " [1 2 3]\n",
      " [0 4 0]]\n",
      "\n",
      "D_1 = \n",
      "[[3 2 4]\n",
      " [1 2 4]\n",
      " [0 6 5]]\n"
     ]
    }
   ],
   "source": [
    "# Generate random matrices\n",
    "n = 2\n",
    "m = 3\n",
    "\n",
    "A_1 = np.random.rand(n,m)\n",
    "B_1 = np.random.rand(m,n)\n",
    "C_1 = np.array([[0, 2, 0], [1, 2, 3], [0, 4, 0]])\n",
    "D_1 = np.array([[3, 2, 4], [1, 2, 4], [0, 6, 5]])\n",
    "\n",
    "print(\"A_1 = \")\n",
    "print(A_1)\n",
    "print(\"\\nB_1 = \")\n",
    "print(B_1)\n",
    "print(\"\\nC_1 = \")\n",
    "print(C_1)\n",
    "print(\"\\nD_1 = \")\n",
    "print(D_1)"
   ]
  },
  {
   "cell_type": "markdown",
   "metadata": {},
   "source": [
    "**My answers:**\n",
    "\n",
    "Rank of A_1T: \n",
    "\n",
    "Rank of B_1T:\n",
    "\n",
    "Rank of C_1:\n",
    "\n",
    "Rank of D_1:"
   ]
  },
  {
   "cell_type": "markdown",
   "metadata": {},
   "source": [
    "<div style=\"background-color: rgba(0,255,0,0.05) ; padding: 10px; border: 1px solid darkgreen;\"> \n",
    "<b>Home Activity</b>: Check the rank of these four matrices by calculating each with np.linalg.matrix_rank( ).  Were you correct?\n",
    "</div>"
   ]
  },
  {
   "cell_type": "code",
   "execution_count": 21,
   "metadata": {
    "tags": [
     "remove-output"
    ]
   },
   "outputs": [
    {
     "name": "stdout",
     "output_type": "stream",
     "text": [
      "rank(A_1T) =  2 \n",
      "\n",
      "rank(B_1T) =  2 \n",
      "\n",
      "rank(C_1) =  2 \n",
      "\n",
      "rank(D_1) =  3 \n",
      "\n"
     ]
    }
   ],
   "source": [
    "# Calculate ranks\n",
    "### BEGIN SOLUTION\n",
    "print(\"rank(A_1T) = \",np.linalg.matrix_rank(A_1.transpose()),\"\\n\")\n",
    "print(\"rank(B_1T) = \",np.linalg.matrix_rank(B_1.transpose()),\"\\n\")\n",
    "print(\"rank(C_1) = \",np.linalg.matrix_rank(C_1),\"\\n\")\n",
    "print(\"rank(D_1) = \",np.linalg.matrix_rank(D_1),\"\\n\")\n",
    "### END SOLUTION"
   ]
  },
  {
   "cell_type": "markdown",
   "metadata": {
    "jp-MarkdownHeadingCollapsed": true,
    "tags": []
   },
   "source": [
    "## Inverse\n"
   ]
  },
  {
   "cell_type": "markdown",
   "metadata": {},
   "source": [
    "### Inverse of a Matrix Defnition\n",
    "\n",
    "*Section **2.2 Vectors and Matrices** in Biegler (2010)*"
   ]
  },
  {
   "cell_type": "markdown",
   "metadata": {},
   "source": [
    "* If the matrix $A$ $\\in$ $\\mathbb{R}^{n \\times n}$ is nonsingular, i.e., has full rank, then an *inverse* $A^{-1}$ exists that satisfies $AA^{-1} = A^{-1}A = I$.\n",
    "* The linear system $Ax = b$ with nonsingular $A$ $\\in$ $\\mathbb{R}^{n \\times m}$, $x \\in \\mathbb{R}^n$, and $b \\in \\mathbb{R}^n$, has a unique solution $x = A^{-1}b$.\n",
    "* det($A^{-1}$) = $\\frac{1}{\\text{det}(A)}$.\n",
    "* A matrix $Q \\in \\mathbb{R}^{n \\times n}$ with the property $Q^{-1} = Q^T$ is called an *orthogonal matrix*."
   ]
  },
  {
   "cell_type": "markdown",
   "metadata": {},
   "source": [
    "### Practice Activities"
   ]
  },
  {
   "cell_type": "markdown",
   "metadata": {},
   "source": [
    "<div style=\"background-color: rgba(0,255,0,0.05) ; padding: 10px; border: 1px solid darkgreen;\">\n",
    "<b>Home Activity</b>: Calculate the inverse of $A_o$ and verity that $A_o^{-1} A_o = I$. \n",
    "</div>"
   ]
  },
  {
   "cell_type": "code",
   "execution_count": 65,
   "metadata": {
    "tags": [
     "remove-output"
    ]
   },
   "outputs": [
    {
     "name": "stdout",
     "output_type": "stream",
     "text": [
      "A_0 = \n",
      "[[0.20185623 0.82280402 0.05232525]\n",
      " [0.02416247 0.23282261 0.70891661]\n",
      " [0.85693341 0.36796077 0.5526938 ]]\n",
      "A_0 inverse = \n",
      " [[-0.29228677 -0.96306742  1.26295694]\n",
      " [ 1.31386944  0.14755534 -0.31365102]\n",
      " [-0.42153921  1.39496783  0.05996318]]\n",
      "[[ 1.00000000e+00 -9.93835444e-18  1.16639856e-17]\n",
      " [ 3.36802192e-17  1.00000000e+00 -1.24396576e-17]\n",
      " [ 1.46794872e-18  1.36472343e-17  1.00000000e+00]]\n"
     ]
    }
   ],
   "source": [
    "# Generate A_0\n",
    "n = 3\n",
    "m = 3\n",
    "A_0 = np.random.rand(n,m)\n",
    "print(\"A_0 = \")\n",
    "print(A_0)\n",
    "\n",
    "# Calculate inverse\n",
    "### BEGIN SOLUTION\n",
    "A_0inv = np.linalg.inv(A_0)\n",
    "print(\"A_0 inverse = \\n\", A_0inv)\n",
    "### END SOLUTION\n",
    "\n",
    "# Verification\n",
    "### BEGIN SOLUTION\n",
    "print(np.dot(A_0,A_0inv))\n",
    "### END SOLUTION"
   ]
  },
  {
   "cell_type": "markdown",
   "metadata": {},
   "source": [
    "What do you notice about the matrix produced from $A_o^{-1} A_o$?  Why do you think this happens?"
   ]
  },
  {
   "cell_type": "markdown",
   "metadata": {},
   "source": [
    "<div style=\"background-color: rgba(0,255,0,0.05) ; padding: 10px; border: 1px solid darkgreen;\">\n",
    "<b>Home Activity</b>: Verify that det($A_0^{-1}$) = $\\frac{1}{\\text{det}(A_0)}$.\n",
    "</div>"
   ]
  },
  {
   "cell_type": "code",
   "execution_count": 38,
   "metadata": {
    "tags": [
     "remove-output"
    ]
   },
   "outputs": [
    {
     "name": "stdout",
     "output_type": "stream",
     "text": [
      "det(A_0inv) =  2.5710654690380665\n",
      "1/det(A_0) =  2.571065469038067\n"
     ]
    }
   ],
   "source": [
    "# Verification\n",
    "### BEGIN SOLUTION\n",
    "print(\"det(A_0inv) = \", linalg.det(A_0inv))\n",
    "print(\"1/det(A_0) = \", 1/(linalg.det(A_0)))\n",
    "### END SOLUTION"
   ]
  },
  {
   "cell_type": "markdown",
   "metadata": {},
   "source": [
    "<div style=\"background-color: rgba(0,255,0,0.05) ; padding: 10px; border: 1px solid darkgreen;\">\n",
    "    <b>Home Activity</b>: Is $Q$ an orthogonal matrix? Yes, no, or need more information?\n",
    "</div>"
   ]
  },
  {
   "cell_type": "code",
   "execution_count": 66,
   "metadata": {
    "tags": [
     "remove-output"
    ]
   },
   "outputs": [
    {
     "name": "stdout",
     "output_type": "stream",
     "text": [
      "Q = \n",
      "[[ 0.98006658 -0.19866933]\n",
      " [ 0.19866933  0.98006658]]\n",
      "Qinv = \n",
      " [[ 0.98006658  0.19866933]\n",
      " [-0.19866933  0.98006658]]\n",
      "Q^T = \n",
      " [[ 0.98006658  0.19866933]\n",
      " [-0.19866933  0.98006658]]\n"
     ]
    }
   ],
   "source": [
    "# Create Q\n",
    "theta = 0.2\n",
    "Q = np.array([(np.cos(theta), -np.sin(theta)),(np.sin(theta),np.cos(theta))])\n",
    "print(\"Q = \")\n",
    "print(Q)\n",
    "\n",
    "# Verification\n",
    "### BEGIN SOLUTION\n",
    "print(\"Qinv = \\n\", linalg.inv(Q))\n",
    "print(\"Q^T = \\n\", Q.transpose())\n",
    "### END SOLUTION"
   ]
  },
  {
   "cell_type": "markdown",
   "metadata": {
    "tags": []
   },
   "source": [
    "## Solving Linear Systems\n",
    "Consider the linear system $A_1 x = b_1$"
   ]
  },
  {
   "cell_type": "code",
   "execution_count": 45,
   "metadata": {},
   "outputs": [
    {
     "name": "stdout",
     "output_type": "stream",
     "text": [
      "A1 = \n",
      " [[4 3]\n",
      " [6 3]]\n",
      "\n",
      "b1 = \n",
      " [1 0]\n"
     ]
    }
   ],
   "source": [
    "A1 = np.array([(4,3),(6,3)])\n",
    "b1 = np.array([1,0])\n",
    "print(\"A1 = \\n\",A1)\n",
    "print(\"\\nb1 = \\n\",b1)"
   ]
  },
  {
   "cell_type": "markdown",
   "metadata": {},
   "source": [
    "### Explicit Inverse\n",
    "\n",
    "Calculate $x$ by explicitly using $A_l^{-1}$. Hint: Use linalg.inv()."
   ]
  },
  {
   "cell_type": "code",
   "execution_count": 47,
   "metadata": {
    "tags": [
     "remove-output"
    ]
   },
   "outputs": [
    {
     "name": "stdout",
     "output_type": "stream",
     "text": [
      "Ainv = \n",
      " [[-0.5         0.5       ]\n",
      " [ 1.         -0.66666667]] \n",
      "\n",
      "x = \n",
      " [[-0.5  0. ]\n",
      " [ 1.  -0. ]]\n"
     ]
    }
   ],
   "source": [
    "# Calculate inverse\n",
    "### BEGIN SOLUTION\n",
    "Ainv = linalg.inv(A1)\n",
    "print(\"Ainv = \\n\",Ainv,\"\\n\")\n",
    "### END SOLUTION\n",
    "\n",
    "# Now calculate and print x\n",
    "### BEGIN SOLUTION\n",
    "x = Ainv*b1\n",
    "print(\"x = \\n\",x)\n",
    "### END SOLUTION"
   ]
  },
  {
   "cell_type": "markdown",
   "metadata": {},
   "source": [
    "### LU Decomposition\n"
   ]
  },
  {
   "cell_type": "code",
   "execution_count": 49,
   "metadata": {},
   "outputs": [
    {
     "name": "stdout",
     "output_type": "stream",
     "text": [
      "A = \n",
      " [[0.28599695 0.6807093  0.51865375 0.92604119]\n",
      " [0.10143027 0.53784679 0.55736184 0.78038639]\n",
      " [0.83656605 0.92077333 0.75609823 0.94869306]\n",
      " [0.4589657  0.60116199 0.55318533 0.46565042]] \n",
      "\n",
      "b = \n",
      " [[0.04938299]\n",
      " [0.80236214]\n",
      " [0.22804181]\n",
      " [0.00301726]] \n",
      "\n"
     ]
    }
   ],
   "source": [
    "# Create test linear systems for the following examples\n",
    "A = np.random.rand(4,4)\n",
    "print(\"A = \\n\",A,\"\\n\")\n",
    "\n",
    "b = np.random.rand(4,1)\n",
    "print(\"b = \\n\",b,\"\\n\")"
   ]
  },
  {
   "cell_type": "markdown",
   "metadata": {},
   "source": [
    "<div style=\"background-color: rgba(0,255,0,0.05) ; padding: 10px; border: 1px solid darkgreen;\">\n",
    "    <b>Home Activity</b>: Follow along with the LU decomposition on $A$. What structures do the $P$, $L$, and $U$ matrices have? \n",
    "</div>"
   ]
  },
  {
   "cell_type": "code",
   "execution_count": 50,
   "metadata": {},
   "outputs": [
    {
     "name": "stdout",
     "output_type": "stream",
     "text": [
      "P = \n",
      " [[0. 0. 1. 0.]\n",
      " [0. 1. 0. 0.]\n",
      " [1. 0. 0. 0.]\n",
      " [0. 0. 0. 1.]]\n",
      "L = \n",
      " [[ 1.          0.          0.          0.        ]\n",
      " [ 0.12124598  1.          0.          0.        ]\n",
      " [ 0.34187014  0.85856083  1.          0.        ]\n",
      " [ 0.54863056  0.22523717 -0.23970829  1.        ]]\n",
      "U = \n",
      " [[ 0.83656605  0.92077333  0.75609823  0.94869306]\n",
      " [ 0.          0.42620672  0.46568797  0.66536117]\n",
      " [ 0.          0.         -0.13965511  0.03045832]\n",
      " [ 0.          0.          0.         -0.19739455]]\n",
      "P*L*U = \n",
      " [[0.28599695 0.6807093  0.51865375 0.92604119]\n",
      " [0.10143027 0.53784679 0.55736184 0.78038639]\n",
      " [0.83656605 0.92077333 0.75609823 0.94869306]\n",
      " [0.4589657  0.60116199 0.55318533 0.46565042]] \n",
      "\n"
     ]
    }
   ],
   "source": [
    "# Perform LU decomposition\n",
    "(P, L, U) = linalg.lu(A)\n",
    "\n",
    "# Permutation matrix\n",
    "print(\"P = \\n\",P)\n",
    "\n",
    "# Lower diagonal matrix\n",
    "print(\"L = \\n\",L)\n",
    "\n",
    "# Upper diagonal matrix\n",
    "print(\"U = \\n\",U)\n",
    "\n",
    "# Verify result\n",
    "print(\"P*L*U = \\n\",P.dot(L.dot(U)),\"\\n\")"
   ]
  },
  {
   "cell_type": "markdown",
   "metadata": {},
   "source": [
    "#### Is P orthogonal?"
   ]
  },
  {
   "cell_type": "code",
   "execution_count": 51,
   "metadata": {},
   "outputs": [
    {
     "name": "stdout",
     "output_type": "stream",
     "text": [
      "inv(P) = \n",
      " [[ 0. -0.  1. -0.]\n",
      " [ 0.  1.  0. -0.]\n",
      " [ 1.  0.  0. -0.]\n",
      " [ 0.  0.  0.  1.]] \n",
      "\n",
      "transpose(P) = \n",
      " [[0. 0. 1. 0.]\n",
      " [0. 1. 0. 0.]\n",
      " [1. 0. 0. 0.]\n",
      " [0. 0. 0. 1.]] \n",
      "\n",
      "P.T*P = \n",
      " [[1. 0. 0. 0.]\n",
      " [0. 1. 0. 0.]\n",
      " [0. 0. 1. 0.]\n",
      " [0. 0. 0. 1.]] \n",
      "\n"
     ]
    }
   ],
   "source": [
    "print(\"inv(P) = \\n\",linalg.inv(P),\"\\n\")\n",
    "\n",
    "print(\"transpose(P) = \\n\",P.T,\"\\n\")\n",
    "\n",
    "print(\"P.T*P = \\n\",np.matmul(P.T,P),\"\\n\")"
   ]
  },
  {
   "cell_type": "markdown",
   "metadata": {},
   "source": [
    "**Yes!** We see that $P^T = P^{-1}$ and $P^T \\cdot P = I$."
   ]
  },
  {
   "cell_type": "markdown",
   "metadata": {},
   "source": [
    "#### MATLAB\n",
    "\n",
    "Defines LU decomposition as follows:\n",
    "\n",
    "$$ P \\cdot A = L \\cdot U$$\n",
    "\n",
    "Consider $$A \\cdot x=b$$\n",
    "\n",
    "Using MATLAB LU definition\n",
    "\n",
    "$$P\\cdot A = L\\cdot U$$\n",
    "\n",
    "$$P^T \\cdot P \\cdot A = P^T \\cdot L \\cdot U$$\n",
    "\n",
    "$$A = P^T \\cdot L \\cdot U$$\n",
    "\n",
    "Substitute into linear system:\n",
    "\n",
    "$$P^T \\cdot L \\cdot U \\cdot x = b$$\n",
    "\n",
    "$$ L \\cdot U \\cdot x = P \\cdot b$$\n",
    "\n",
    "Let $y = U \\cdot x$ and substitute.\n",
    "\n",
    "Step 1. Solve $L \\cdot y = P \\cdot b$ for $y$\n",
    "\n",
    "Step 2. Solve $U \\cdot x = y$ for $x$"
   ]
  },
  {
   "cell_type": "code",
   "execution_count": 53,
   "metadata": {},
   "outputs": [
    {
     "name": "stdout",
     "output_type": "stream",
     "text": [
      "P*b = \n",
      " [[0.22804181]\n",
      " [0.80236214]\n",
      " [0.04938299]\n",
      " [0.00301726]] \n",
      "\n",
      "yLU = \n",
      " [[ 0.22804181]\n",
      " [ 0.77471299]\n",
      " [-0.69371592]\n",
      " [-0.46287707]] \n",
      "\n",
      "xLU = \n",
      " [[ 1.27900016]\n",
      " [-7.82933087]\n",
      " [ 5.47877321]\n",
      " [ 2.3449334 ]] \n",
      "\n"
     ]
    }
   ],
   "source": [
    "# Calculate Pb\n",
    "Pb = P.dot(b)\n",
    "print(\"P*b = \\n\",Pb,\"\\n\")\n",
    "\n",
    "# Step 1\n",
    "yLU = linalg.solve(L,Pb)\n",
    "print(\"yLU = \\n\",yLU,\"\\n\")\n",
    "\n",
    "# Step 2\n",
    "xLU = linalg.solve(U,yLU)\n",
    "print(\"xLU = \\n\",xLU,\"\\n\")"
   ]
  },
  {
   "cell_type": "markdown",
   "metadata": {},
   "source": [
    "#### SciPy\n",
    "\n",
    "Defines LU decomposition as:\n",
    "\n",
    "$$ A = P \\cdot L \\cdot U $$\n",
    "\n",
    "Consider $$A \\cdot x=b$$\n",
    "\n",
    "SciPy LU definition\n",
    "\n",
    "$$A = P \\cdot L\\cdot U$$\n",
    "\n",
    "Substitute into linear system:\n",
    "\n",
    "$$P \\cdot L \\cdot U \\cdot x = b$$\n",
    "$$P^T \\cdot P \\cdot L \\cdot U \\cdot x = P^T \\cdot b$$\n",
    "$$L \\cdot U \\cdot x = P^T \\cdot b$$\n",
    "\n",
    "Let $y = U \\cdot x$ and substitute.\n",
    "\n",
    "Step 1. Solve $L \\cdot y = P^T \\cdot b$ for $y$\n",
    "\n",
    "Step 2. Solve $U \\cdot x = y$ for $x$"
   ]
  },
  {
   "cell_type": "code",
   "execution_count": 55,
   "metadata": {},
   "outputs": [
    {
     "name": "stdout",
     "output_type": "stream",
     "text": [
      "P.T*b = \n",
      " [[0.22804181]\n",
      " [0.80236214]\n",
      " [0.04938299]\n",
      " [0.00301726]] \n",
      "\n",
      "yLU = \n",
      " [[ 0.22804181]\n",
      " [ 0.77471299]\n",
      " [-0.69371592]\n",
      " [-0.46287707]] \n",
      "\n",
      "xLU = \n",
      " [[ 1.27900016]\n",
      " [-7.82933087]\n",
      " [ 5.47877321]\n",
      " [ 2.3449334 ]] \n",
      "\n"
     ]
    }
   ],
   "source": [
    "## LU decomposition algorithm.\n",
    "Pb = (P.T).dot(b)\n",
    "print(\"P.T*b = \\n\",Pb,\"\\n\")\n",
    "\n",
    "# Step 1\n",
    "yLU = linalg.solve(L,Pb)\n",
    "print(\"yLU = \\n\",yLU,\"\\n\")\n",
    "\n",
    "# Step 2\n",
    "xLU = linalg.solve(U,yLU)\n",
    "print(\"xLU = \\n\",xLU,\"\\n\")"
   ]
  },
  {
   "cell_type": "markdown",
   "metadata": {},
   "source": [
    "**What is the difference?** A transpose.\n"
   ]
  },
  {
   "cell_type": "markdown",
   "metadata": {},
   "source": [
    "#### Verify our answer with `linalg.solve`\n",
    "\n",
    "Solve the linear system using linalg.solve"
   ]
  },
  {
   "cell_type": "code",
   "execution_count": 58,
   "metadata": {},
   "outputs": [
    {
     "name": "stdout",
     "output_type": "stream",
     "text": [
      "x = \n",
      " [[ 1.27900016]\n",
      " [-7.82933087]\n",
      " [ 5.47877321]\n",
      " [ 2.3449334 ]]\n"
     ]
    }
   ],
   "source": [
    "x = linalg.solve(A,b)\n",
    "print(\"x = \\n\",x)"
   ]
  },
  {
   "cell_type": "markdown",
   "metadata": {
    "jp-MarkdownHeadingCollapsed": true,
    "tags": []
   },
   "source": [
    "## Invertable Matrix Theorem\n",
    "*Linear Algebra and Its Applications* by David C. Lay, 3rd edition"
   ]
  },
  {
   "cell_type": "markdown",
   "metadata": {},
   "source": [
    "a. $A$ is an invertible matrix.\n",
    "\n",
    "b. $A$ is row equivalent to the $n \\times n$ identity matrix.\n",
    "\n",
    "c. $A$ has $n$ pivot positions.\n",
    "\n",
    "d. The equation $Ax = 0$ has only the trivial solution.\n",
    "\n",
    "e. The columns of $A$ form a linearly independent set.\n",
    "\n",
    "f. The linear transformation $x\\longmapsto Ax$ is one-to-one.\n",
    "\n",
    "g. The equation $Ax = b$ has at least one solution for each $b$ in $\\mathbb{R}^n$.\n",
    "\n",
    "h. The columns of $A$ span $\\mathbb{R}^n$.\n",
    "\n",
    "i. The linear transformation $x\\longmapsto Ax$ maps $\\mathbb{R}^n$ onto $\\mathbb{R}^n$.\n",
    "\n",
    "j. There is an $n \\times n$ matrix $C$ such that $CA = I$.\n",
    "\n",
    "k. There is an $n \\times n$ matrix $D$ such that $AD = I$.\n",
    "\n",
    "l. $A^T$ is an invertible matrix.\n",
    "\n",
    "**Let $A$ be an $n \\times n$ matrix. Then the following statements are each equivalent to the statement that $A$ is an invertible matrix.**\n",
    "\n",
    "m. The columns of $A$ form a basis of $\\mathbb{R}^n$.\n",
    "\n",
    "n. Col$A$ = $\\mathbb{R}^n$\n",
    "\n",
    "o. dim Col$A$ = $N$\n",
    "\n",
    "p. rank $A$ = $N$\n",
    "\n",
    "q. Nul$A$ = $\\{0\\}$\n",
    "\n",
    "r. dim Nul$A$ = $0$\n",
    "\n",
    "**Let $A$ be an $n \\times n$ matrix. Then $A$ is invertible if and only if:**\n",
    "\n",
    "s. The number 0 is *not* an eigenvalue of $A$.\n",
    "\n",
    "t. The determinant of $A$ is *not* zero.\n",
    "\n",
    "**Let $A$ be an $n \\times n$ matrix. Then the following statements are each equivalent to the statement that $A$ is an invertible matrix.**\n",
    "\n",
    "u. (Col$A$)$^\\perp$ = $\\{0\\}$.\n",
    "\n",
    "v. (Nul$A$)$^\\perp$ = $\\mathbb{R}^n$.\n",
    "\n",
    "w. Row$A$ = $\\mathbb{R}^n$.\n",
    "\n",
    "x. $A$ has $n$ nonzero singular values."
   ]
  },
  {
   "cell_type": "markdown",
   "metadata": {
    "jp-MarkdownHeadingCollapsed": true,
    "tags": []
   },
   "source": [
    "## Eigenvectors and Eigenvalues\n",
    "\n",
    "Section **2.2 Vectors and Matrices** in Biegler (2010)"
   ]
  },
  {
   "cell_type": "markdown",
   "metadata": {
    "tags": []
   },
   "source": [
    "### Eigenvalues/Eigenvectors Definition"
   ]
  },
  {
   "cell_type": "markdown",
   "metadata": {},
   "source": [
    "* For a square matrix $A \\in \\mathbb{R}^{n\\times n}$, the *eigenvalue* $\\lambda$ and the corresponding *eigenvector* $v \\neq 0$ satisfy $Av = \\lambda v$.\n",
    "* Because $(A-\\lambda I)v = 0$, $(A-\\lambda I)$ is singular, and we can define a characteristic $n$th degree polynomial given by det$(A-\\lambda I)$ = $0$ to find the $n$ eigenvalues.\n",
    "* det$(A)$ = $\\prod_{i=1}^n\\lambda_i$.\n",
    "* Eigenvalues of symmetric matrices are always real. Moreover, by collecting eigenvectors and eigenvalues, a symmetric matrix $A \\in \\mathbb{R}^{n \\times n}$ can be represented by $A = V\\wedge V^T$, where $V$ is the orthogonal matrix of eigenvectors, $V = [v_1,v_2,...,v_n]$, and $\\wedge$ is a diagonal matrix of eigenvalues with $\\{\\wedge\\}_{ii} = \\lambda_i$.\n",
    "* Nonsymmetric matrices can have complex eigenvalues. Also, eigenvalues are not defined for nonsquare matrices. Instead, *singular values* $\\sigma_i \\geq 0$, $i = 1,...,m,$ are often useful to characterize $A \\in \\mathbb{R}^{n \\times m}$ with $m \\leq n$. These are derived from the eigenvalues of $(A^TA)$ with $\\sigma_i = [\\lambda_i(A^TA)]^{\\frac{1}{2}}$.\n",
    "* Consider the matrix $A \\in \\mathbb{R}^{n \\times m}$ with all real eigenvalues. Such matrices can be further classified as follows:\n",
    "    - Matrices with $\\lambda_i > 0, i = 1,n,$ are said to be *positive definite*; i.e., $y^TAy > 0$ for all $y \\neq 0$.\n",
    "    - Matrices with $\\lambda_i < 0, i = 1,n,$ are said to be *negative definite*; i.e., $y^TAy < 0$ for all $y \\neq 0$.\n",
    "    - Matrices with $\\lambda_i \\geq 0, i = 1,n,$ are said to be *positive semidefinite*; i.e., $y^TAy \\geq 0$ for all $y \\neq 0$.\n",
    "    - Matrices with $\\lambda_i \\leq 0, i = 1,n,$ are said to be *negative semidefinite*; i.e., $y^TAy \\leq 0$ for all $y \\neq 0$.\n",
    "    - Matrices with both positive and negative eigenvalues are *indefinite*.\n",
    "    - A matrix with $\\lambda_i = 0$, for some $i$, is *singular*."
   ]
  },
  {
   "cell_type": "markdown",
   "metadata": {},
   "source": [
    "### Practice Activities"
   ]
  },
  {
   "cell_type": "code",
   "execution_count": 59,
   "metadata": {},
   "outputs": [
    {
     "name": "stdout",
     "output_type": "stream",
     "text": [
      "Ae = \n",
      " [[ 0 -4 -6]\n",
      " [-1  0 -3]\n",
      " [ 1  2  5]]\n"
     ]
    }
   ],
   "source": [
    "# Create matrix for activities\n",
    "Ae = np.array([(0, -4, -6), (-1, 0, -3), (1, 2, 5)])\n",
    "print(\"Ae = \\n\",Ae)"
   ]
  },
  {
   "cell_type": "markdown",
   "metadata": {},
   "source": [
    "<div style=\"background-color: rgba(0,255,0,0.05) ; padding: 10px; border: 1px solid darkgreen;\">\n",
    "<b>Home Activity</b>: Do you expect the above matrix to have negative eigenvalues?\n",
    "</div>"
   ]
  },
  {
   "cell_type": "markdown",
   "metadata": {},
   "source": [
    "**Choose:** Yes/No/Cannot tell from inspection.\n",
    "\n",
    "**Justification:**"
   ]
  },
  {
   "cell_type": "markdown",
   "metadata": {},
   "source": [
    "<div style=\"background-color: rgba(0,0,255,0.05) ; padding: 10px; border: 1px solid darkblue;\"> \n",
    "<b>Class Activity</b>: Calculate the eigenvalues and corresponding eigenvectors.\n",
    "</div>"
   ]
  },
  {
   "cell_type": "code",
   "execution_count": 61,
   "metadata": {
    "tags": [
     "remove-output"
    ]
   },
   "outputs": [
    {
     "name": "stdout",
     "output_type": "stream",
     "text": [
      "Matrix = \n",
      " [[ 0 -4 -6]\n",
      " [-1  0 -3]\n",
      " [ 1  2  5]] \n",
      "\n",
      "Eigenvalues =  [1.+0.j 2.+0.j 2.+0.j] \n",
      "\n",
      "Eigenvectors = \n",
      " [[-0.81649658 -0.0111458   0.90265832]\n",
      " [-0.40824829 -0.8302799   0.1523847 ]\n",
      " [ 0.40824829  0.5572352  -0.40247591]] \n",
      "\n"
     ]
    }
   ],
   "source": [
    "# Calculations\n",
    "### BEGIN SOLUTION\n",
    "print(\"Matrix = \\n\",Ae,\"\\n\")\n",
    "l, v = linalg.eig(Ae)\n",
    "print(\"Eigenvalues = \",l,\"\\n\")\n",
    "print(\"Eigenvectors = \\n\",v,\"\\n\")\n",
    "### END SOLUTION"
   ]
  },
  {
   "cell_type": "markdown",
   "metadata": {},
   "source": [
    "<div style=\"background-color: rgba(0,0,255,0.05) ; padding: 10px; border: 1px solid darkblue;\"> \n",
    "<b>Class Activity</b>: Based on your calculations above, is this matrix i) positive definite, ii) positive semi definite, iii) negative definite, iv) negative semi definite, v) indefinite, or vi) cannot say without additional calculations? Write a sentence to justify your answer.\n",
    "</div>"
   ]
  },
  {
   "cell_type": "markdown",
   "metadata": {},
   "source": [
    "**Answer:**"
   ]
  },
  {
   "cell_type": "markdown",
   "metadata": {},
   "source": [
    "<div style=\"background-color: rgba(0,0,255,0.05) ; padding: 10px; border: 1px solid darkblue;\"> \n",
    "<b>Class Activity</b>: Calculate the determinate using only the eigenvalues.\n",
    "    </div>"
   ]
  },
  {
   "cell_type": "code",
   "execution_count": 70,
   "metadata": {
    "tags": [
     "remove-output"
    ]
   },
   "outputs": [
    {
     "name": "stdout",
     "output_type": "stream",
     "text": [
      "Det =  (3.9999999999999973+0j)\n"
     ]
    }
   ],
   "source": [
    "# Determinate calculation\n",
    "### BEGIN SOLUTION\n",
    "det = 1 # initialize\n",
    "for i in range(len(l)):\n",
    "    det = det*l[i]\n",
    "print(\"Det = \",det)\n",
    "### END SOLUTION"
   ]
  },
  {
   "cell_type": "markdown",
   "metadata": {
    "jp-MarkdownHeadingCollapsed": true,
    "tags": []
   },
   "source": [
    "## Singular Value Decomposition\n",
    "Refer to [this notebook](../02-publish/03-LU-Factorization.ipynb) for notes on singular value decomposition.\n",
    "\n",
    "Remember, SVD can be thought of as another type of matrix factorization.  We can represent an $m \\times n$ matrix as $A = U\\cdot \\sum \\cdot V^T$."
   ]
  },
  {
   "cell_type": "markdown",
   "metadata": {},
   "source": [
    "<div style=\"background-color: rgba(0,0,255,0.05) ; padding: 10px; border: 1px solid darkblue;\"> \n",
    "<b>Class Activity</b>: Calculate the singular value decomposition of $A_d$ and $B_d$.\n",
    "    </div>"
   ]
  },
  {
   "cell_type": "code",
   "execution_count": 74,
   "metadata": {},
   "outputs": [
    {
     "name": "stdout",
     "output_type": "stream",
     "text": [
      "A_d = \n",
      "[[0.20069198 0.09620302 0.37939729]\n",
      " [0.26127421 0.17592154 0.35630356]]\n",
      "\n",
      "B_d = \n",
      "[[0.86030731 0.4669534 ]\n",
      " [0.36787739 0.26036492]\n",
      " [0.01476637 0.72953695]]\n",
      "\n",
      "U = \n",
      " [[-0.59980845 -0.80014362]\n",
      " [-0.80014362  0.59980845]] \n",
      "\n",
      "S = \n",
      " [1.59157804 0.45189278] \n",
      "\n",
      "V = \n",
      " [[-0.4481125  -0.75389347 -0.48045794]\n",
      " [ 0.88974984 -0.42831115 -0.15778081]\n",
      " [-0.08683557 -0.49819093  0.86270817]] \n",
      "\n"
     ]
    }
   ],
   "source": [
    "# Generate matrices\n",
    "n = 2\n",
    "m = 3\n",
    "A_d = np.random.rand(n,m)\n",
    "B_d = np.random.rand(m,n)\n",
    "print(\"A_d = \")\n",
    "print(A_d)\n",
    "print(\"\\nB_d = \")\n",
    "print(B_d)\n",
    "\n",
    "### BEGIN SOLUTION\n",
    "U,S,V = linalg.svd(A_1)\n",
    "print(\"\\nU = \\n\",U,\"\\n\")\n",
    "print(\"S = \\n\",S,\"\\n\")\n",
    "print(\"V = \\n\",V,\"\\n\")\n",
    "### END SOLUTION"
   ]
  },
  {
   "cell_type": "markdown",
   "metadata": {},
   "source": [
    "<div style=\"background-color: rgba(0,0,255,0.05) ; padding: 10px; border: 1px solid darkblue;\"> \n",
    "<b>Class Activity</b>: What is the rank of each matrix? (from inspecting singular values?)\n",
    "    </div>"
   ]
  },
  {
   "cell_type": "markdown",
   "metadata": {},
   "source": [
    "**Answer:**"
   ]
  },
  {
   "cell_type": "markdown",
   "metadata": {},
   "source": [
    "## Vector and Matrix Norms\n",
    "\n",
    "Section **2.2 Vectors and Matrices** in Biegler (2010)\n",
    "![Book](figures/norm1.png)\n",
    "![Book](figures/norm2.png)"
   ]
  },
  {
   "cell_type": "markdown",
   "metadata": {},
   "source": [
    "* A *vector norm* $\\parallel x\\parallel = 0 \\Rightarrow x=0$ for $x \\in \\mathbb{R}^n$,"
   ]
  },
  {
   "cell_type": "code",
   "execution_count": 22,
   "metadata": {},
   "outputs": [
    {
     "name": "stdout",
     "output_type": "stream",
     "text": [
      "x = \n",
      " [[0.02808233]\n",
      " [0.20488865]\n",
      " [0.77425602]]\n",
      "y = \n",
      " [[0.73113614]\n",
      " [0.20737529]\n",
      " [0.97754014]]\n"
     ]
    }
   ],
   "source": [
    "x = np.random.rand(3,1)\n",
    "print(\"x = \\n\",x)\n",
    "\n",
    "y = np.random.rand(3,1)\n",
    "print(\"y = \\n\",y)"
   ]
  },
  {
   "cell_type": "markdown",
   "metadata": {},
   "source": [
    "**Activity**\n",
    "* Verify the vector norm properties hold for the p-2 norm using $x$ and $y$. Hint: linalg.norm()\n",
    "* Calculate $||A_l||_1$, $||A_l||_{\\infty}$ and $||A_l||_2$ using both the rules given above and SciPy"
   ]
  },
  {
   "cell_type": "markdown",
   "metadata": {},
   "source": [
    "## Condition Number\n",
    "\n",
    "**Activity**\n",
    "* Estimate the condition number of $A_l$ by inspecting the SVD results.\n",
    "* Calculate the condition number of $A_l$ using np.linalg.cond()"
   ]
  },
  {
   "cell_type": "code",
   "execution_count": null,
   "metadata": {},
   "outputs": [],
   "source": []
  }
 ],
 "metadata": {
  "kernelspec": {
   "display_name": "Python 3 (ipykernel)",
   "language": "python",
   "name": "python3"
  },
  "language_info": {
   "codemirror_mode": {
    "name": "ipython",
    "version": 3
   },
   "file_extension": ".py",
   "mimetype": "text/x-python",
   "name": "python",
   "nbconvert_exporter": "python",
   "pygments_lexer": "ipython3",
   "version": "3.9.12"
  }
 },
 "nbformat": 4,
 "nbformat_minor": 4
}
