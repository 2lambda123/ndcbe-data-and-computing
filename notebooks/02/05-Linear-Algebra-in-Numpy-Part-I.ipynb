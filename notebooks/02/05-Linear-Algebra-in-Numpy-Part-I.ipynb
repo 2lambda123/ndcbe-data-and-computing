{
 "cells": [
  {
   "cell_type": "markdown",
   "metadata": {},
   "source": [
    "# Linear Algebra Review and SciPy Basics\n",
    "\n",
    "Screenshots from Section **2.2 Vectors and Matrices** in Biegler (2010)\n",
    "\n",
    "**Recommended Links**\n",
    "* [NumPy Documentation - Main Page](https://docs.scipy.org/doc/numpy-1.15.0/reference/)\n",
    "* [SciPy Documentation - Main Page](https://docs.scipy.org/doc/scipy-1.1.0/reference/)\n",
    "* [SciPy Linear Algebra - Tutorial](https://docs.scipy.org/doc/scipy-1.1.0/reference/tutorial/linalg.html)\n",
    "* [SciPy Linear Algebra - API](https://docs.scipy.org/doc/scipy-1.1.0/reference/linalg.html)\n",
    "* [SciPy Lecture Notes](http://www.scipy-lectures.org/) (Especially 1.1 - 1.6 for everyone and 2.1 - 2.2 for advanced users)\n",
    "\n",
    "Tip: We will mostly use SciPy for linear algebra. (It has more sophisticated capabilities than NumPy.) We will use NumPy if/when SciPy does not offer a specific command."
   ]
  },
  {
   "cell_type": "code",
   "execution_count": 3,
   "metadata": {},
   "outputs": [],
   "source": [
    "# Load required Python libraries.\n",
    "import matplotlib.pyplot as plt\n",
    "import numpy as np\n",
    "from scipy import linalg"
   ]
  },
  {
   "cell_type": "markdown",
   "metadata": {},
   "source": [
    "## Notation (for textbook)\n",
    "* Scalar constants and variables - Greek letters\n",
    "* Vectors - Lower case Roman letters\n",
    "* Matrices - Upper case Roman letters\n",
    "\n",
    "The notation for lectures will (hopefully) be obvious from context. I sometimes use Greek letters for constants and Roman letters for variables... unless the Greek letters have engineering or scientific meaning.\n"
   ]
  },
  {
   "cell_type": "markdown",
   "metadata": {},
   "source": [
    "## Matrix Operations"
   ]
  },
  {
   "cell_type": "markdown",
   "metadata": {},
   "source": [
    "In this section we will introduce properties of matrices with code examples following each property.\n",
    "\n",
    "The following properties are taken from Section **2.2 Vectors and Matrices** in Biegler (2010)."
   ]
  },
  {
   "cell_type": "markdown",
   "metadata": {},
   "source": [
    "### Property #1:\n",
    "\n",
    "Multiplying two matrices $A$ $\\in$ $\\mathbb{R}^{n \\times m}$ and $B$ $\\in$ $\\mathbb{R}^{m \\times p}$ leads to the product $C \\in$ $\\mathbb{R}^{n \\times p}$ with elements $\\{C\\}_{ij}$ = $\\sum_{k=1}^m \\{A\\}_{ik}\\{B\\}_{kj}$. This operation is defined only if the number of columns in $A$ and rows of $B$ is the same."
   ]
  },
  {
   "cell_type": "markdown",
   "metadata": {},
   "source": [
    "<div style=\"background-color: rgba(0,255,0,0.05) ; padding: 10px; border: 1px solid darkgreen;\"> \n",
    "<b>Home Activity</b>: The code below demonstrates matrix multiplication.  Before running the code below, what is the dimension of A*B?\n",
    "</div>"
   ]
  },
  {
   "cell_type": "code",
   "execution_count": 4,
   "metadata": {
    "tags": [
     "remove-output"
    ]
   },
   "outputs": [
    {
     "name": "stdout",
     "output_type": "stream",
     "text": [
      "Ao = \n",
      "[[0.14192588 0.41191867 0.21223085]\n",
      " [0.3574524  0.44237956 0.91616785]]\n",
      "\n",
      "Bo = \n",
      "[[0.44219947 0.89121706]\n",
      " [0.9567635  0.05714551]\n",
      " [0.70864219 0.58671576]]\n",
      "\n",
      "Ao*Bo =\n",
      "[[0.60726403 0.27454525]\n",
      " [1.23055307 0.8813778 ]]\n"
     ]
    }
   ],
   "source": [
    "# Generate random matrices\n",
    "n = 2\n",
    "m = 3\n",
    "\n",
    "Ao = np.random.rand(n,m)\n",
    "Bo = np.random.rand(m,n)\n",
    "\n",
    "print(\"Ao = \")\n",
    "print(Ao)\n",
    "print(\"\\nBo = \")\n",
    "print(Bo)\n",
    "\n",
    "# Calculate A*B using Python\n",
    "print(\"\\nAo*Bo =\")\n",
    "print(Ao.dot(Bo))"
   ]
  },
  {
   "cell_type": "markdown",
   "metadata": {},
   "source": [
    "### Property #2:\n",
    "\n",
    "The *transpose* of $A$ $\\in$ $\\mathbb{R}^{n \\times m}$ is $A^T$ $\\in$ $\\mathbb{R}^{m \\times n}$ with the rows and columns of A interchanged, i.e.$\\{A^T\\}_{ij} = \\{A\\}_{ji}$."
   ]
  },
  {
   "cell_type": "markdown",
   "metadata": {},
   "source": [
    "<div style=\"background-color: rgba(0,0,255,0.05) ; padding: 10px; border: 1px solid darkblue;\"> \n",
    "<b>Class Activity</b>: Calculate $A_o^{T}$</div>"
   ]
  },
  {
   "cell_type": "code",
   "execution_count": 49,
   "metadata": {
    "tags": [
     "remove-output"
    ]
   },
   "outputs": [
    {
     "name": "stdout",
     "output_type": "stream",
     "text": [
      "transpose(Ao) = \n",
      " [[0.14192588 0.3574524 ]\n",
      " [0.41191867 0.44237956]\n",
      " [0.21223085 0.91616785]] \n",
      "\n"
     ]
    }
   ],
   "source": [
    "# Transpose\n",
    "### BEGIN SOLUTION\n",
    "print(\"transpose(Ao) = \\n\",Ao.transpose(),\"\\n\")\n",
    "### END SOLUTION"
   ]
  },
  {
   "cell_type": "markdown",
   "metadata": {},
   "source": [
    "### Property #3:\n",
    "\n",
    "A *symmetric* matrix $A$ $\\in$ $\\mathbb{R}^{n \\times n}$ satisfies $A = A^T$.\n",
    "\n",
    "### Property #4:\n",
    "\n",
    "A *diagonal* matrix $A$ $\\in$ $\\mathbb{R}^{n \\times n}$ has nonzero elements only on the diagonal, i.e., $\\{A\\}_{ij} = 0, i \\neq j$."
   ]
  },
  {
   "cell_type": "markdown",
   "metadata": {},
   "source": [
    "<div style=\"background-color: rgba(0,0,255,0.05) ; padding: 10px; border: 1px solid darkblue;\"> \n",
    "<b>Class Activity</b>: Create a random $3 \\times 3$ square matrix and check if it is symmetric by comparing it to its transpose.</div>"
   ]
  },
  {
   "cell_type": "code",
   "execution_count": 50,
   "metadata": {
    "tags": [
     "remove-output"
    ]
   },
   "outputs": [
    {
     "name": "stdout",
     "output_type": "stream",
     "text": [
      "Square matrix:\n",
      " [[0.17655789 0.33166731 0.53353642]\n",
      " [0.3370124  0.70122644 0.39717663]\n",
      " [0.78206427 0.33850383 0.3161977 ]]\n",
      "Transpose of square matrix:\n",
      " [[0.17655789 0.3370124  0.78206427]\n",
      " [0.33166731 0.70122644 0.33850383]\n",
      " [0.53353642 0.39717663 0.3161977 ]]\n"
     ]
    }
   ],
   "source": [
    "# Create Square Matrix and Compare with Transpose\n",
    "### BEGIN SOLUTION\n",
    "square = np.random.rand(3,3)\n",
    "print(\"Square matrix:\\n\",square)\n",
    "squareT = square.transpose()\n",
    "print(\"Transpose of square matrix:\\n\", squareT)\n",
    "### END SOLUTION"
   ]
  },
  {
   "cell_type": "markdown",
   "metadata": {},
   "source": [
    "### Property #5:\n",
    "\n",
    "The *identity* matrix $I \\in \\mathbb{R}^{n \\times n}$ is defined as \n",
    "$$ \\{I\\}_{ij}=   \\left\\{\n",
    "\\begin{array}{ll}\n",
    "      1 \\text{ if } i = j, \\\\\n",
    "      0 \\text{ otherwise.} \\\\\n",
    "\\end{array} \n",
    "\\right.  $$"
   ]
  },
  {
   "cell_type": "markdown",
   "metadata": {},
   "source": [
    "<div style=\"background-color: rgba(0,0,255,0.05) ; padding: 10px; border: 1px solid darkblue;\"> \n",
    "<b>Class Activity</b>: Create a 3x3 identity matrix.</div>"
   ]
  },
  {
   "cell_type": "code",
   "execution_count": 51,
   "metadata": {
    "tags": [
     "remove-output"
    ]
   },
   "outputs": [
    {
     "name": "stdout",
     "output_type": "stream",
     "text": [
      "I = \n",
      " [[1. 0. 0.]\n",
      " [0. 1. 0.]\n",
      " [0. 0. 1.]] \n",
      "\n"
     ]
    }
   ],
   "source": [
    "# Identity matrix\n",
    "### BEGIN SOLUTION\n",
    "print(\"I = \\n\",np.identity(3),\"\\n\")\n",
    "### END SOLUTION"
   ]
  },
  {
   "cell_type": "markdown",
   "metadata": {},
   "source": [
    "## Determinant"
   ]
  },
  {
   "cell_type": "markdown",
   "metadata": {},
   "source": [
    "A *determinant* is a scalar associated to a square matrix, i.e., det($A$) for $A$ $\\in$ $\\mathbb{R}^{n \\times n}$, and can be defined recursively by det($A$) = $\\sum_i (-1)^{i+j}\\{A\\}_{ij}\\bar{A}_{ij}$ for any column $j$, or det($A$) = $\\sum_j (-1)^{i+j}\\{A\\}_{ij}\\bar{A}_{ij}$ for any row $i$, where $\\bar{A}_{ij}$ is the determinant of an ($n$-1)-order matrix with row $i$ and column $j$ removed.\n",
    "\n",
    "We will now manipulate the following matrices to demonstrate properties for the determinant."
   ]
  },
  {
   "cell_type": "code",
   "execution_count": 52,
   "metadata": {},
   "outputs": [
    {
     "name": "stdout",
     "output_type": "stream",
     "text": [
      "A = \n",
      "[[0.86782127 0.32462305]\n",
      " [0.06327566 0.65972386]]\n",
      "\n",
      "B = \n",
      "[[0.50895149 0.84391792]\n",
      " [0.55147623 0.40202117]]\n"
     ]
    }
   ],
   "source": [
    "# Generate random matrices\n",
    "nd = 2\n",
    "\n",
    "A = np.random.rand(nd,nd)\n",
    "B = np.random.rand(nd,nd)\n",
    "\n",
    "print(\"A = \")\n",
    "print(A)\n",
    "print(\"\\nB = \")\n",
    "print(B)"
   ]
  },
  {
   "cell_type": "markdown",
   "metadata": {},
   "source": [
    "The following properties are taken from Section **2.2 Vectors and Matrices** in Biegler (2010)."
   ]
  },
  {
   "cell_type": "markdown",
   "metadata": {},
   "source": [
    "### Property #1: \n",
    "\n",
    "det($AB$) = det($A$)det($B$)"
   ]
  },
  {
   "cell_type": "markdown",
   "metadata": {},
   "source": [
    "<div style=\"background-color: rgba(0,0,255,0.05) ; padding: 10px; border: 1px solid darkblue;\"> \n",
    "<b>Class Activity</b>: Calculate the determinante of $AB$ and prove it is equal to the product of the determinants of $A$ and $B$.</div>"
   ]
  },
  {
   "cell_type": "code",
   "execution_count": 53,
   "metadata": {
    "tags": [
     "remove-output"
    ]
   },
   "outputs": [
    {
     "name": "stdout",
     "output_type": "stream",
     "text": [
      "det(A*B) =  -0.1439520705087479\n",
      "det(A)*det(B) =  -0.1439520705087479\n"
     ]
    }
   ],
   "source": [
    "# Property 1\n",
    "### BEGIN SOLUTION\n",
    "print(\"det(A*B) = \",linalg.det(A.dot(B)))\n",
    "print(\"det(A)*det(B) = \",linalg.det(A)*linalg.det(B))\n",
    "### END SOLUTION"
   ]
  },
  {
   "cell_type": "markdown",
   "metadata": {},
   "source": [
    "### Property #2:\n",
    "\n",
    "det($A$) = det($A^T$)"
   ]
  },
  {
   "cell_type": "markdown",
   "metadata": {},
   "source": [
    "<div style=\"background-color: rgba(0,0,255,0.05) ; padding: 10px; border: 1px solid darkblue;\"> \n",
    "<b>Class Activity</b>: Calculate the determinant of $A$ and of $A^T$ and prove they are equal.</div>"
   ]
  },
  {
   "cell_type": "code",
   "execution_count": 54,
   "metadata": {
    "tags": [
     "remove-output"
    ]
   },
   "outputs": [
    {
     "name": "stdout",
     "output_type": "stream",
     "text": [
      "det(A) =  0.5519816612943368\n",
      "det(A^T) =  0.5519816612943368\n"
     ]
    }
   ],
   "source": [
    "# Property 2\n",
    "### BEGIN SOLUTION\n",
    "print(\"det(A) = \", linalg.det(A))\n",
    "print(\"det(A^T) = \", linalg.det(A.transpose()))\n",
    "### END SOLUTION"
   ]
  },
  {
   "cell_type": "markdown",
   "metadata": {},
   "source": [
    "### Property #3:\n",
    "\n",
    "For an $n \\times n$ matrix with scalar $\\alpha$, det($\\alpha A$) = $\\alpha^n$det($A$)"
   ]
  },
  {
   "cell_type": "markdown",
   "metadata": {},
   "source": [
    "<div style=\"background-color: rgba(0,0,255,0.05) ; padding: 10px; border: 1px solid darkblue;\"> \n",
    "<b>Class Activity</b>: Calculate the determinant of $\\alpha A$ and calculate $\\alpha$det($A$) and prove they are equal. Let $\\alpha$ = 4.</div>"
   ]
  },
  {
   "cell_type": "code",
   "execution_count": 55,
   "metadata": {
    "tags": [
     "remove-output"
    ]
   },
   "outputs": [
    {
     "name": "stdout",
     "output_type": "stream",
     "text": [
      "det(alpha*A) =  8.831706580709389\n",
      "alpha*det(A) =  2.207926645177347\n"
     ]
    }
   ],
   "source": [
    "# Property 3\n",
    "### BEGIN SOLUTION\n",
    "alpha = 4\n",
    "print(\"det(alpha*A) = \", linalg.det(alpha*A))\n",
    "print(\"alpha*det(A) = \", alpha*(linalg.det(A)))\n",
    "### END SOLUTION"
   ]
  },
  {
   "cell_type": "markdown",
   "metadata": {},
   "source": [
    "### Property #4:\n",
    "\n",
    "For an identity matrix $I$, det($I$) = 1."
   ]
  },
  {
   "cell_type": "markdown",
   "metadata": {},
   "source": [
    "<div style=\"background-color: rgba(0,0,255,0.05) ; padding: 10px; border: 1px solid darkblue;\"> \n",
    "<b>Class Activity</b>: Create a $3 \\times 3$ identity matrix and calculate the determinant.</div>"
   ]
  },
  {
   "cell_type": "code",
   "execution_count": 56,
   "metadata": {
    "tags": [
     "remove-output"
    ]
   },
   "outputs": [
    {
     "name": "stdout",
     "output_type": "stream",
     "text": [
      "[[1. 0. 0.]\n",
      " [0. 1. 0.]\n",
      " [0. 0. 1.]]\n",
      "det(I) =  1.0\n"
     ]
    }
   ],
   "source": [
    "# Property 4\n",
    "### BEGIN SOLUTION\n",
    "I = np.identity(3)\n",
    "print(I)\n",
    "print(\"det(I) = \", linalg.det(I))\n",
    "### END SOLUTION"
   ]
  },
  {
   "cell_type": "markdown",
   "metadata": {},
   "source": [
    "### Calculating $3 \\times 3$ Determinant by Hand\n",
    "\n",
    "Below is an example from *Linear Algebra and Its Applications* by David C. Lay, 3rd edition that shows how to calculate a determinant by hand.\n",
    "\n",
    "![DET](figures/det_ex1.png)\n",
    "![DET](figures/det_ex2.png)"
   ]
  },
  {
   "cell_type": "markdown",
   "metadata": {},
   "source": [
    "<div style=\"background-color: rgba(0,255,0,0.05) ; padding: 10px; border: 1px solid darkgreen;\"> \n",
    "<b>Home Activity</b>: Walk through the following example that calculates a $3 \\times 3$ determinant by hand.\n",
    "</div>"
   ]
  },
  {
   "cell_type": "markdown",
   "metadata": {},
   "source": [
    "For $ n \\geq 2$, the **determinant** of an $n \\times n$ matrix $A$ = [$a_{ij}$] is the sum of $n$ terms of the form $\\pm a_{1j}$ det$A_{1j}$, with plus and minus signs alternating, where the entries $a_{11},a_{12},...,a_{1n}$ are from the first row of $A$.  In symbols, \n",
    "\n",
    "det$A$ = $a_{11}$det$A_{11}-a_{12}$det$A_{12}+...+(-1)^{1+n}a_{1n}$det$A_{1n}$\n",
    "    \n",
    "= $\\sum_{j=1}^n (-1)^{1+j}a_{1j}\\text{det}A_{1j}$"
   ]
  },
  {
   "cell_type": "markdown",
   "metadata": {},
   "source": [
    "**Example:** Compute the determinate of the matrix $A$ = \n",
    "$\\begin{bmatrix}\n",
    "1 & 5 & 0\\\\\n",
    "2 & 4 & -1\\\\\n",
    "0 & -2 & 0\n",
    "\\end{bmatrix}$"
   ]
  },
  {
   "cell_type": "markdown",
   "metadata": {},
   "source": [
    "**Solution:** Compute det($A$) = $a_{11}$det$A_{11}-a_{12}$det$A_{12}+a_{13}$det$A_{13}$:\n",
    "\n",
    "det$A$ = $1\\cdot$det$\\begin{bmatrix} 4 & -1\\\\ -2 & 0 \\end{bmatrix}$ - $5\\cdot$det$\\begin{bmatrix} 2 & -1\\\\ 0 & 0 \\end{bmatrix}$ + $0\\cdot$det$\\begin{bmatrix} 2 & 4\\\\ 0 & -2 \\end{bmatrix}$\n",
    "\n",
    "$= 1(0-2) - 5(0-0) + 0(-4-0)$ \n",
    "\n",
    "$= -2$"
   ]
  },
  {
   "cell_type": "markdown",
   "metadata": {},
   "source": [
    "## Rank\n",
    "![Book](figures/rank.png)\n",
    "\n",
    "**Activity**\n",
    "* Predict the rank of $A_o^T$, $B_o^T$, $A_d$, $B_d$, $C_d$\n",
    "* Calculate np.linalg.matrix_rank(). Where you correct?"
   ]
  },
  {
   "cell_type": "code",
   "execution_count": 9,
   "metadata": {},
   "outputs": [
    {
     "name": "stdout",
     "output_type": "stream",
     "text": [
      "rank(A_o) =  2 \n",
      "\n"
     ]
    }
   ],
   "source": [
    "print(\"rank(A_o) = \",np.linalg.matrix_rank(Ao),\"\\n\")\n",
    "\n",
    "# Fill in remainder here."
   ]
  },
  {
   "cell_type": "markdown",
   "metadata": {},
   "source": [
    "## Inverse\n",
    "![Book](figures/inv.png)\n",
    "\n",
    "**Activity**\n",
    "1. Calculate the inverse of $A_o$ and verity that $A_o^{-1} A_o = I$\n",
    "2. Verify that det($A^{-1}$) = 1/det($A$)\n",
    "3. Is $Q$ an orthogonal matrix?"
   ]
  },
  {
   "cell_type": "code",
   "execution_count": 10,
   "metadata": {},
   "outputs": [
    {
     "name": "stdout",
     "output_type": "stream",
     "text": [
      "Q = \n",
      "[[ 0.98006658 -0.19866933]\n",
      " [ 0.19866933  0.98006658]]\n"
     ]
    }
   ],
   "source": [
    "# Task 1\n",
    "\n",
    "# Task 2\n",
    "\n",
    "# Task 3\n",
    "# Is this an orthogonal matrix? Yes, no, or need more information?\n",
    "theta = 0.2\n",
    "Q = np.array([(np.cos(theta), -np.sin(theta)),(np.sin(theta),np.cos(theta))])\n",
    "\n",
    "print(\"Q = \")\n",
    "print(Q)"
   ]
  },
  {
   "cell_type": "markdown",
   "metadata": {},
   "source": [
    "## Solving Linear Systems\n",
    "Consider the linear system $A_l x = b_l$"
   ]
  },
  {
   "cell_type": "code",
   "execution_count": 11,
   "metadata": {},
   "outputs": [
    {
     "name": "stdout",
     "output_type": "stream",
     "text": [
      "Al = \n",
      " [[4 3]\n",
      " [6 3]]\n",
      "\n",
      "bl = \n",
      " [1 0]\n"
     ]
    }
   ],
   "source": [
    "Al = np.array([(4,3),(6,3)])\n",
    "bl = np.array([1,0])\n",
    "print(\"Al = \\n\",Al)\n",
    "print(\"\\nbl = \\n\",bl)"
   ]
  },
  {
   "cell_type": "markdown",
   "metadata": {},
   "source": [
    "### Explicit Inverse\n",
    "\n",
    "Calculate $x$ by explicitly using $A_l^{-1}$. Hint: Use linalg.inv()."
   ]
  },
  {
   "cell_type": "code",
   "execution_count": 12,
   "metadata": {},
   "outputs": [
    {
     "name": "stdout",
     "output_type": "stream",
     "text": [
      "Ainv = \n",
      " [[-0.5         0.5       ]\n",
      " [ 1.         -0.66666667]] \n",
      "\n"
     ]
    }
   ],
   "source": [
    "Ainv = linalg.inv(Al)\n",
    "print(\"Ainv = \\n\",Ainv,\"\\n\")\n",
    "\n",
    "# Now calculate and print x"
   ]
  },
  {
   "cell_type": "markdown",
   "metadata": {},
   "source": [
    "### LU Decomposition\n",
    "\n",
    "Perform LU decomposition on $A_l$. What structures do the $P$, $L$, and $U$ matrices have?"
   ]
  },
  {
   "cell_type": "code",
   "execution_count": 13,
   "metadata": {},
   "outputs": [
    {
     "name": "stdout",
     "output_type": "stream",
     "text": [
      "A = \n",
      " [[0.68331246 0.29422836 0.22419151 0.41620186]\n",
      " [0.05988483 0.58705665 0.07246852 0.45441375]\n",
      " [0.6024749  0.36997327 0.13872522 0.45388322]\n",
      " [0.34311843 0.47101812 0.51826738 0.25525007]] \n",
      "\n",
      "b = \n",
      " [[0.00949348]\n",
      " [0.82027783]\n",
      " [0.90273651]\n",
      " [0.37915841]] \n",
      "\n"
     ]
    }
   ],
   "source": [
    "# Create test linear systems\n",
    "A = np.random.rand(4,4)\n",
    "print(\"A = \\n\",A,\"\\n\")\n",
    "\n",
    "b = np.random.rand(4,1)\n",
    "print(\"b = \\n\",b,\"\\n\")"
   ]
  },
  {
   "cell_type": "code",
   "execution_count": 14,
   "metadata": {},
   "outputs": [
    {
     "name": "stdout",
     "output_type": "stream",
     "text": [
      "P = \n",
      " [[1. 0. 0. 0.]\n",
      " [0. 1. 0. 0.]\n",
      " [0. 0. 0. 1.]\n",
      " [0. 0. 1. 0.]]\n",
      "L = \n",
      " [[ 1.          0.          0.          0.        ]\n",
      " [ 0.08763901  1.          0.          0.        ]\n",
      " [ 0.50213986  0.5759686   1.          0.        ]\n",
      " [ 0.88169751  0.19696885 -0.18479522  1.        ]]\n",
      "U = \n",
      " [[ 0.68331246  0.29422836  0.22419151  0.41620186]\n",
      " [ 0.          0.56127076  0.05282059  0.41793823]\n",
      " [ 0.          0.          0.37526888 -0.19446077]\n",
      " [ 0.          0.          0.         -0.03133716]]\n",
      "P*L*U = \n",
      " [[0.68331246 0.29422836 0.22419151 0.41620186]\n",
      " [0.05988483 0.58705665 0.07246852 0.45441375]\n",
      " [0.6024749  0.36997327 0.13872522 0.45388322]\n",
      " [0.34311843 0.47101812 0.51826738 0.25525007]] \n",
      "\n"
     ]
    }
   ],
   "source": [
    "# Perform LU decomposition\n",
    "(P, L, U) = linalg.lu(A)\n",
    "\n",
    "# Permutation matrix\n",
    "print(\"P = \\n\",P)\n",
    "\n",
    "# Lower diagonal matrix\n",
    "print(\"L = \\n\",L)\n",
    "\n",
    "# Upper diagonal matrix\n",
    "print(\"U = \\n\",U)\n",
    "\n",
    "# Verify result\n",
    "print(\"P*L*U = \\n\",P.dot(L.dot(U)),\"\\n\")"
   ]
  },
  {
   "cell_type": "markdown",
   "metadata": {},
   "source": [
    "#### Is P orthogonal?"
   ]
  },
  {
   "cell_type": "code",
   "execution_count": 15,
   "metadata": {},
   "outputs": [
    {
     "name": "stdout",
     "output_type": "stream",
     "text": [
      "inv(P) = \n",
      " [[ 1. -0. -0.  0.]\n",
      " [ 0.  1. -0.  0.]\n",
      " [ 0.  0. -0.  1.]\n",
      " [ 0.  0.  1.  0.]] \n",
      "\n",
      "transpose(P) = \n",
      " [[1. 0. 0. 0.]\n",
      " [0. 1. 0. 0.]\n",
      " [0. 0. 0. 1.]\n",
      " [0. 0. 1. 0.]] \n",
      "\n",
      "P.T*P = \n",
      " [[1. 0. 0. 0.]\n",
      " [0. 1. 0. 0.]\n",
      " [0. 0. 1. 0.]\n",
      " [0. 0. 0. 1.]] \n",
      "\n"
     ]
    }
   ],
   "source": [
    "print(\"inv(P) = \\n\",linalg.inv(P),\"\\n\")\n",
    "\n",
    "print(\"transpose(P) = \\n\",P.T,\"\\n\")\n",
    "\n",
    "print(\"P.T*P = \\n\",np.matmul(P.T,P),\"\\n\")"
   ]
  },
  {
   "cell_type": "markdown",
   "metadata": {},
   "source": [
    "**Yes!** We see that $P^T = P^{-1}$ and $P^T \\cdot P = I$."
   ]
  },
  {
   "cell_type": "markdown",
   "metadata": {},
   "source": [
    "#### MATLAB\n",
    "\n",
    "Defines LU decomposition as follows:\n",
    "\n",
    "$$ P \\cdot A = L \\cdot U$$\n",
    "\n",
    "Consider $$A \\cdot x=b$$\n",
    "\n",
    "Using MATLAB LU definition\n",
    "\n",
    "$$P\\cdot A = L\\cdot U$$\n",
    "$$P^T \\cdot P \\cdot A = P^T \\cdot L \\cdot U$$\n",
    "$$A = P^T \\cdot L \\cdot U$$\n",
    "\n",
    "Substitute into linear system:\n",
    "\n",
    "$$P^T \\cdot L \\cdot U \\cdot x = b$$\n",
    "$$ L \\cdot U \\cdot x = P \\cdot b$$\n",
    "\n",
    "Let $y = U \\cdot x$ and substitute.\n",
    "\n",
    "Step 1. Solve $L \\cdot y = P \\cdot b$ for $y$\n",
    "\n",
    "Step 2. Solve $U \\cdot x = y$ for $x$"
   ]
  },
  {
   "cell_type": "code",
   "execution_count": 16,
   "metadata": {},
   "outputs": [
    {
     "name": "stdout",
     "output_type": "stream",
     "text": [
      "P*b =  [[0.00949348]\n",
      " [0.82027783]\n",
      " [0.37915841]\n",
      " [0.90273651]] \n",
      "\n",
      "yLU =  [[ 0.00949348]\n",
      " [ 0.81944583]\n",
      " [-0.09758371]\n",
      " [ 0.71492782]] \n",
      "\n",
      "xLU =  [[  9.4407442 ]\n",
      " [ 19.58501477]\n",
      " [-12.08206663]\n",
      " [-22.81406129]] \n",
      "\n"
     ]
    }
   ],
   "source": [
    "Pb = P.dot(b)\n",
    "print(\"P*b = \",Pb,\"\\n\")\n",
    "\n",
    "yLU = linalg.solve(L,Pb)\n",
    "print(\"yLU = \",yLU,\"\\n\")\n",
    "\n",
    "xLU = linalg.solve(U,yLU)\n",
    "print(\"xLU = \",xLU,\"\\n\")"
   ]
  },
  {
   "cell_type": "markdown",
   "metadata": {},
   "source": [
    "#### SciPy\n",
    "\n",
    "Defines LU decomposition as:\n",
    "\n",
    "$$ A = P \\cdot L \\cdot U $$\n",
    "\n",
    "Consider $$A \\cdot x=b$$\n",
    "\n",
    "SciPy LU definition\n",
    "\n",
    "$$A = P \\cdot L\\cdot U$$\n",
    "\n",
    "Substitute into linear system:\n",
    "\n",
    "$$P \\cdot L \\cdot U \\cdot x = b$$\n",
    "$$P^T \\cdot P \\cdot L \\cdot U \\cdot x = P^T \\cdot b$$\n",
    "$$L \\cdot U \\cdot x = P^T \\cdot b$$\n",
    "\n",
    "Let $y = U \\cdot x$ and substitute.\n",
    "\n",
    "Step 1. Solve $L \\cdot y = P^T \\cdot b$ for $y$\n",
    "\n",
    "Step 2. Solve $U \\cdot x = y$ for $x$"
   ]
  },
  {
   "cell_type": "code",
   "execution_count": 17,
   "metadata": {},
   "outputs": [
    {
     "name": "stdout",
     "output_type": "stream",
     "text": [
      "P.T*b =  [[0.00949348]\n",
      " [0.82027783]\n",
      " [0.37915841]\n",
      " [0.90273651]] \n",
      "\n",
      "yLU =  [[ 0.00949348]\n",
      " [ 0.81944583]\n",
      " [-0.09758371]\n",
      " [ 0.71492782]] \n",
      "\n",
      "xLU =  [[  9.4407442 ]\n",
      " [ 19.58501477]\n",
      " [-12.08206663]\n",
      " [-22.81406129]] \n",
      "\n"
     ]
    }
   ],
   "source": [
    "## LU decomposition algorithm.\n",
    "Pb = (P.T).dot(b)\n",
    "print(\"P.T*b = \",Pb,\"\\n\")\n",
    "\n",
    "yLU = linalg.solve(L,Pb)\n",
    "print(\"yLU = \",yLU,\"\\n\")\n",
    "\n",
    "xLU = linalg.solve(U,yLU)\n",
    "print(\"xLU = \",xLU,\"\\n\")"
   ]
  },
  {
   "cell_type": "markdown",
   "metadata": {},
   "source": [
    "**What is the difference?** A transpose.\n"
   ]
  },
  {
   "cell_type": "markdown",
   "metadata": {},
   "source": [
    "#### Verify our answer with `linalg.solve`\n",
    "\n",
    "Solve the linear system using linalg.solve"
   ]
  },
  {
   "cell_type": "code",
   "execution_count": 18,
   "metadata": {},
   "outputs": [
    {
     "name": "stdout",
     "output_type": "stream",
     "text": [
      "x = \n",
      " [-0.5  1. ]\n"
     ]
    }
   ],
   "source": [
    "x = linalg.solve(Al,bl)\n",
    "print(\"x = \\n\",x)"
   ]
  },
  {
   "cell_type": "markdown",
   "metadata": {},
   "source": [
    "## Invertable Matrix Theorem\n",
    "Screenshots from *Linear Algebra and Its Applications* by David C. Lay, 3rd edition\n",
    "\n",
    "![IMT](figures/imt1.png)\n",
    "![IMT](figures/imt2.png)\n",
    "![IMT](figures/imt3.png)\n",
    "![IMT](figures/imt4.png)"
   ]
  },
  {
   "cell_type": "markdown",
   "metadata": {},
   "source": [
    "## Eigenvectors and Eigenvalues\n",
    "![Book](figures/eig.png)"
   ]
  },
  {
   "cell_type": "code",
   "execution_count": 19,
   "metadata": {},
   "outputs": [
    {
     "name": "stdout",
     "output_type": "stream",
     "text": [
      "Ae = \n",
      " [[ 0 -4 -6]\n",
      " [-1  0 -3]\n",
      " [ 1  2  5]]\n"
     ]
    }
   ],
   "source": [
    "Ae = np.array([(0, -4, -6), (-1, 0, -3), (1, 2, 5)])\n",
    "print(\"Ae = \\n\",Ae)"
   ]
  },
  {
   "cell_type": "markdown",
   "metadata": {},
   "source": [
    "**Activity**\n",
    "* Do you expect this matrix to have negative eigenvalues? Choose: Yes / No / Cannot tell from inspection.\n",
    "* Calculate the eigenvalues.\n",
    "* Based on your calculations above, is this matrix i) positive definite, ii) positive semi definite, iii) negative definite, iv) negative semi definite, v) indefinite, or vi) cannot say without additional calculations? Write a sentence to justify your answer.\n",
    "* Calculate the determinate using only the eigenvalues."
   ]
  },
  {
   "cell_type": "code",
   "execution_count": 20,
   "metadata": {},
   "outputs": [
    {
     "name": "stdout",
     "output_type": "stream",
     "text": [
      "Matrix = \n",
      " [[4 3]\n",
      " [6 3]] \n",
      "\n",
      "Eigenvalues =  [ 7.77200187+0.j -0.77200187+0.j] \n",
      "\n",
      "Eigenvectors = \n",
      " [[ 0.62246561 -0.53222953]\n",
      " [ 0.78264715  0.8466001 ]] \n",
      "\n"
     ]
    }
   ],
   "source": [
    "# Expect negative eigenavalues?\n",
    "# Yes / No / Cannot tell from inspect?\n",
    "# Write a sentence to justify your answer.\n",
    "\n",
    "### Calculate eigenvalues\n",
    "\n",
    "# Matrix Al\n",
    "print(\"Matrix = \\n\",Al,\"\\n\")\n",
    "l, v = linalg.eig(Al)\n",
    "print(\"Eigenvalues = \",l,\"\\n\")\n",
    "print(\"Eigenvectors = \\n\",v,\"\\n\")"
   ]
  },
  {
   "cell_type": "markdown",
   "metadata": {},
   "source": [
    "## Singular Value Decomposition\n",
    "Notes will be given in class.\n",
    "\n",
    "**Activity**\n",
    "* Calculate singular value decomposition of $A_l$ and $C_d$\n",
    "* What is the rank of each matrix?"
   ]
  },
  {
   "cell_type": "code",
   "execution_count": 21,
   "metadata": {},
   "outputs": [
    {
     "name": "stdout",
     "output_type": "stream",
     "text": [
      "Matrix = \n",
      " [[4 3]\n",
      " [6 3]] \n",
      "\n",
      "U = \n",
      " [[-0.59581566 -0.80312122]\n",
      " [-0.80312122  0.59581566]] \n",
      "\n",
      "S = \n",
      " [8.33557912 0.71980602] \n",
      "\n",
      "Vh = \n",
      " [[-0.86400595 -0.50348159]\n",
      " [ 0.50348159 -0.86400595]] \n",
      "\n"
     ]
    }
   ],
   "source": [
    "# Matrix Al\n",
    "print(\"Matrix = \\n\",Al,\"\\n\")\n",
    "U,s,Vh = linalg.svd(Al)\n",
    "print(\"U = \\n\",U,\"\\n\")\n",
    "print(\"S = \\n\",s,\"\\n\")\n",
    "print(\"Vh = \\n\",Vh,\"\\n\")\n",
    "\n",
    "## Rank (from inspecting singular values)?"
   ]
  },
  {
   "cell_type": "markdown",
   "metadata": {},
   "source": [
    "## Vector and Matrix Norms\n",
    "![Book](figures/norm1.png)\n",
    "![Book](figures/norm2.png)"
   ]
  },
  {
   "cell_type": "code",
   "execution_count": 22,
   "metadata": {},
   "outputs": [
    {
     "name": "stdout",
     "output_type": "stream",
     "text": [
      "x = \n",
      " [[0.02808233]\n",
      " [0.20488865]\n",
      " [0.77425602]]\n",
      "y = \n",
      " [[0.73113614]\n",
      " [0.20737529]\n",
      " [0.97754014]]\n"
     ]
    }
   ],
   "source": [
    "x = np.random.rand(3,1)\n",
    "print(\"x = \\n\",x)\n",
    "\n",
    "y = np.random.rand(3,1)\n",
    "print(\"y = \\n\",y)"
   ]
  },
  {
   "cell_type": "markdown",
   "metadata": {},
   "source": [
    "**Activity**\n",
    "* Verify the vector norm properties hold for the p-2 norm using $x$ and $y$. Hint: linalg.norm()\n",
    "* Calculate $||A_l||_1$, $||A_l||_{\\infty}$ and $||A_l||_2$ using both the rules given above and SciPy"
   ]
  },
  {
   "cell_type": "markdown",
   "metadata": {},
   "source": [
    "## Condition Number\n",
    "\n",
    "**Activity**\n",
    "* Estimate the condition number of $A_l$ by inspecting the SVD results.\n",
    "* Calculate the condition number of $A_l$ using np.linalg.cond()"
   ]
  },
  {
   "cell_type": "code",
   "execution_count": null,
   "metadata": {},
   "outputs": [],
   "source": []
  }
 ],
 "metadata": {
  "kernelspec": {
   "display_name": "Python 3 (ipykernel)",
   "language": "python",
   "name": "python3"
  },
  "language_info": {
   "codemirror_mode": {
    "name": "ipython",
    "version": 3
   },
   "file_extension": ".py",
   "mimetype": "text/x-python",
   "name": "python",
   "nbconvert_exporter": "python",
   "pygments_lexer": "ipython3",
   "version": "3.9.12"
  }
 },
 "nbformat": 4,
 "nbformat_minor": 4
}
