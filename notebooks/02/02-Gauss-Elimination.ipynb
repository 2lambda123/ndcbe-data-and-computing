{
 "cells": [
  {
   "cell_type": "markdown",
   "metadata": {
    "colab_type": "text",
    "id": "EFnithZEjWAA"
   },
   "source": [
    "# Gaussian Elimination"
   ]
  },
  {
   "cell_type": "markdown",
   "metadata": {},
   "source": [
    "<b>Reference:</b> Chapter 7 of <em>Computational Nuclear Engineering and Radiological Science Using Python</em>, R. McClarren (2018)"
   ]
  },
  {
   "cell_type": "markdown",
   "metadata": {
    "colab_type": "text",
    "id": "cwS1zdP3jWAB"
   },
   "source": [
    "## Learning Objectives\n",
    "After studying this notebook, completing the activities, and asking questions in class, you should be able to:\n",
    "* Perform Gaussian elimination and backward substitution (a.k.a., row reduction) calculations in Python.\n",
    "* For Gaussian elimination with partial pivoting, explain the following:\n",
    "  * Why is it important? What are the benefits?\n",
    "  * How does the algorithm work? What are the basic steps?\n",
    "  * What are the limitations? In what cases will partial pivoting not work?"
   ]
  },
  {
   "cell_type": "code",
   "execution_count": 1,
   "metadata": {
    "tags": []
   },
   "outputs": [],
   "source": [
    "import numpy as np\n",
    "import matplotlib.pyplot as plt\n",
    "#this line is only needed in Jupyter notebooks\n",
    "%matplotlib inline"
   ]
  },
  {
   "cell_type": "markdown",
   "metadata": {
    "colab_type": "text",
    "id": "KEMPNG_IjWAC",
    "tags": []
   },
   "source": [
    "## Motivating Example and Gaussian Elimination"
   ]
  },
  {
   "cell_type": "markdown",
   "metadata": {},
   "source": [
    "<div style=\"background-color: rgba(0,255,0,0.05) ; padding: 10px; border: 1px solid darkgreen;\"> \n",
    "Note: Gaussian Elimination is also known as **row reduction**.\n",
    "</div>"
   ]
  },
  {
   "cell_type": "markdown",
   "metadata": {
    "colab_type": "text",
    "id": "zAAw5EbZjWAC"
   },
   "source": [
    "We want to solve the following system:\n",
    "\n",
    "$$3 x_1 + 2 x_2 + x_3 = 6$$\n",
    "$$-x_1 + 4 x_2 + 5x_3 = 8$$\n",
    "$$2x_1 -8 x_2 + 10 x_3 = 4$$\n",
    "\n",
    "In matrix form this looks like\n",
    "\n",
    "$$\\underbrace{\\begin{pmatrix} 3 & 2 & 1\\\\ -1 & 4 & 5\\\\ 2& -8 & 10\\end{pmatrix}}_{\\mathbf{A}} ~\n",
    "\\underbrace{\\begin{pmatrix} x_1\\\\x_2\\\\x_3\\end{pmatrix}}_{\\mathbf{x}} = \\underbrace{\\begin{pmatrix}6\\\\8\\\\4\\end{pmatrix}}_{\\mathbf{b}}\n",
    "$$\n",
    "\n",
    "Another way to write this is a notational shorthand called an **augmented matrix**, where we put the righthand side into the matrix:\n",
    "\n",
    "$$\n",
    "\\left(\\begin{array}{ccc|c}   3 & 2 & 1 &6\\\\ -1 & 4 & 5&8\\\\ 2& -8 & 10&4\\end{array}\\right)\n",
    "$$"
   ]
  },
  {
   "cell_type": "markdown",
   "metadata": {
    "colab_type": "text",
    "id": "WBycB5tdjWAD"
   },
   "source": [
    "How would you solve this? **Gaussian elimination** (a.k.a. row reduction), covered in linear algebra, is the way to go."
   ]
  },
  {
   "cell_type": "markdown",
   "metadata": {},
   "source": [
    "<div style=\"background-color: rgba(0,255,0,0.05) ; padding: 10px; border: 1px solid darkgreen;\"> \n",
    "<b>Home Activity</b>: Perform Gaussian elimination with pencil and paper to convert the above matrix into row echelon form (e.g., all zeros below the diagonal).\n",
    "</div>"
   ]
  },
  {
   "cell_type": "markdown",
   "metadata": {},
   "source": [
    "Now that you have solved the system of equations \"by hand\", we will walk through the step in Python. First, let's assemble to augmented matrix."
   ]
  },
  {
   "cell_type": "code",
   "execution_count": 2,
   "metadata": {
    "colab": {
     "base_uri": "https://localhost:8080/",
     "height": 69
    },
    "colab_type": "code",
    "executionInfo": {
     "elapsed": 539,
     "status": "ok",
     "timestamp": 1549550488595,
     "user": {
      "displayName": "Alexander Dowling",
      "photoUrl": "https://lh3.googleusercontent.com/-LChdQ2m5OQE/AAAAAAAAAAI/AAAAAAAAAA0/JeXJe4vQJ7M/s64/photo.jpg",
      "userId": "00988067626794866502"
     },
     "user_tz": 300
    },
    "id": "d76Maac-jWAE",
    "outputId": "7c3707c0-a1dc-40b1-fdc1-72c2223f84fe"
   },
   "outputs": [
    {
     "name": "stdout",
     "output_type": "stream",
     "text": [
      "[[ 3.  2.  1.  6.]\n",
      " [-1.  4.  5.  8.]\n",
      " [ 2. -8. 10.  4.]]\n"
     ]
    }
   ],
   "source": [
    "# Declare matrix\n",
    "A33 = np.matrix([(3,2,1),(-1,4,5),(2,-8,10)])\n",
    "b3 = np.matrix([6,8,4])\n",
    "\n",
    "# Assemble augmented matrix\n",
    "# Study question: Why is it important to use .copy() here?\n",
    "aug_matrix = np.zeros((3,4))\n",
    "aug_matrix[0:3,0:3] = A33.copy() \n",
    "aug_matrix[:,3] = b3.copy() # Why do we access column 4 with index 3?\n",
    "\n",
    "print(aug_matrix)"
   ]
  },
  {
   "cell_type": "markdown",
   "metadata": {},
   "source": [
    "<div style=\"background-color: rgba(0,255,0,0.05) ; padding: 10px; border: 1px solid darkgreen;\">  <b>Home Activity</b>: Why it is important to use <tt>.copy()</tt> in the above code? Record your multiple choice answer (1, 2, or 3) in <tt>ans_6b</tt> below.\n",
    "</div>"
   ]
  },
  {
   "cell_type": "markdown",
   "metadata": {},
   "source": [
    "Multiple choice options:\n",
    "1. Nice try with the trick question! We actually do not need to use `.copy()`\n",
    "2. By default, `=` without `.copy()` creates a \"pointer\" to the original numpy matrix. Thus when we change `aug_matrix`, we would also change `A33` and/or `b3`.\n",
    "3. Neither of these answers are correct."
   ]
  },
  {
   "cell_type": "code",
   "execution_count": 3,
   "metadata": {
    "tags": []
   },
   "outputs": [],
   "source": [
    "### BEGIN SOLUTION\n",
    "ans_6b = 2\n",
    "### END SOLUTION"
   ]
  },
  {
   "cell_type": "code",
   "execution_count": 4,
   "metadata": {
    "nbgrader": {
     "grade": true,
     "grade_id": "6b_copy",
     "locked": true,
     "points": "0.1",
     "solution": false
    },
    "tags": []
   },
   "outputs": [],
   "source": [
    "### BEGIN HIDDEN TESTS\n",
    "ans_6b_copy_secret = 2\n",
    "\n",
    "assert ans_6b == ans_6b_copy_secret, \"Check your notes from Class 3\"\n",
    "### END HIDDEN TESTS"
   ]
  },
  {
   "cell_type": "markdown",
   "metadata": {
    "colab_type": "text",
    "id": "RkC60_ZIjWAJ",
    "tags": []
   },
   "source": [
    "### Gaussian Elimination: Take Care of First Column\n",
    "\n",
    "We will now walk through the Guassian elimination steps in Python. These steps should match your paper and pencil work from a previous home activity.\n",
    "\n",
    "**Step 1**: Eliminate the **-1** in the first column, second row.\n",
    "\n",
    "Multiply first row by (1/3) and add to second row:"
   ]
  },
  {
   "cell_type": "code",
   "execution_count": 5,
   "metadata": {
    "colab": {
     "base_uri": "https://localhost:8080/",
     "height": 87
    },
    "colab_type": "code",
    "executionInfo": {
     "elapsed": 238,
     "status": "ok",
     "timestamp": 1549550623220,
     "user": {
      "displayName": "Alexander Dowling",
      "photoUrl": "https://lh3.googleusercontent.com/-LChdQ2m5OQE/AAAAAAAAAAI/AAAAAAAAAA0/JeXJe4vQJ7M/s64/photo.jpg",
      "userId": "00988067626794866502"
     },
     "user_tz": 300
    },
    "id": "9iorzMZUjWAJ",
    "outputId": "c519b4e6-91a3-442a-b705-832aa0c73ee6"
   },
   "outputs": [
    {
     "name": "stdout",
     "output_type": "stream",
     "text": [
      "New matrix =\n",
      " [[ 3.          2.          1.          6.        ]\n",
      " [ 0.          4.66666667  5.33333333 10.        ]\n",
      " [ 2.         -8.         10.          4.        ]]\n"
     ]
    }
   ],
   "source": [
    "#add row 2 to 1/3 times row 1\n",
    "row13 = aug_matrix[0]/3 #row1 * 1/3\n",
    "new_row2 = aug_matrix[1] + row13 #add 1/3 row 1 to row 2\n",
    "#replace row 2\n",
    "aug_matrix[1,:] = new_row2\n",
    "print(\"New matrix =\\n\",aug_matrix)"
   ]
  },
  {
   "cell_type": "markdown",
   "metadata": {
    "colab_type": "text",
    "id": "nMHLkUGVjWAM"
   },
   "source": [
    "**Step 2**: Eliminate **2** in first column.\n",
    "\n",
    "Multiply first row by (-2/3) and add to third row:"
   ]
  },
  {
   "cell_type": "code",
   "execution_count": 6,
   "metadata": {
    "colab": {
     "base_uri": "https://localhost:8080/",
     "height": 87
    },
    "colab_type": "code",
    "executionInfo": {
     "elapsed": 246,
     "status": "ok",
     "timestamp": 1549550698622,
     "user": {
      "displayName": "Alexander Dowling",
      "photoUrl": "https://lh3.googleusercontent.com/-LChdQ2m5OQE/AAAAAAAAAAI/AAAAAAAAAA0/JeXJe4vQJ7M/s64/photo.jpg",
      "userId": "00988067626794866502"
     },
     "user_tz": 300
    },
    "id": "yXgefJRyjWAM",
    "outputId": "26c6879b-0b4c-4a97-8fbe-1fe352f7dcaf"
   },
   "outputs": [
    {
     "name": "stdout",
     "output_type": "stream",
     "text": [
      "New matrix =\n",
      " [[ 3.          2.          1.          6.        ]\n",
      " [ 0.          4.66666667  5.33333333 10.        ]\n",
      " [ 0.         -9.33333333  9.33333333  0.        ]]\n"
     ]
    }
   ],
   "source": [
    "#add row 3 to -2/3 times row 1\n",
    "row23 = -2*aug_matrix[0]/3 #row1 * -2/3\n",
    "new_row3 = aug_matrix[2] + row23 #add -2/3 row 1 to row 3\n",
    "#replace row 3\n",
    "aug_matrix[2] = new_row3\n",
    "print(\"New matrix =\\n\",aug_matrix)"
   ]
  },
  {
   "cell_type": "markdown",
   "metadata": {
    "colab_type": "text",
    "id": "h5TlqFkejWAP"
   },
   "source": [
    "### Gaussian Elimination: Take Care of Second Column\n",
    "\n",
    "**Step 3**: Eliminate **-9$\\frac{1}{3}$** from the last row.\n",
    "\n",
    "Multiply row 2 by 9$\\frac{1}{3}$/4$\\frac{2}{3}$ and add to last row:"
   ]
  },
  {
   "cell_type": "code",
   "execution_count": 7,
   "metadata": {
    "colab": {
     "base_uri": "https://localhost:8080/",
     "height": 87
    },
    "colab_type": "code",
    "executionInfo": {
     "elapsed": 235,
     "status": "ok",
     "timestamp": 1549550729440,
     "user": {
      "displayName": "Alexander Dowling",
      "photoUrl": "https://lh3.googleusercontent.com/-LChdQ2m5OQE/AAAAAAAAAAI/AAAAAAAAAA0/JeXJe4vQJ7M/s64/photo.jpg",
      "userId": "00988067626794866502"
     },
     "user_tz": 300
    },
    "id": "SZo_Kjr2jWAP",
    "outputId": "8cad3e6e-8886-4135-e383-5d152b2dc6b9"
   },
   "outputs": [
    {
     "name": "stdout",
     "output_type": "stream",
     "text": [
      "New matrix =\n",
      " [[ 3.          2.          1.          6.        ]\n",
      " [ 0.          4.66666667  5.33333333 10.        ]\n",
      " [ 0.          0.         20.         20.        ]]\n"
     ]
    }
   ],
   "source": [
    "#add row 3 to 9.33333/4.66666 times row 2\n",
    "modrow = (9+1./3)/(4+2./3)*aug_matrix[1] #row2 * (-9+1./3)/(4+2.0/3)\n",
    "new_row3 = aug_matrix[2] + modrow #add -2/3 row 1 to row 3\n",
    "#replace row 3\n",
    "aug_matrix[2] = new_row3.copy()\n",
    "print(\"New matrix =\\n\",aug_matrix)"
   ]
  },
  {
   "cell_type": "markdown",
   "metadata": {
    "colab_type": "text",
    "id": "2BE2e7_zjWAS"
   },
   "source": [
    "Notice that we have manipulated our original system into the equivalent system \n",
    "\n",
    "$$\n",
    "\\left(\\begin{array}{ccc|c}   3 & 2 & 1 &6\\\\ 0 & 4\\frac{2}{3} & 5\\frac{1}{3}& 10\\\\ 0& 0 & 20&20\\end{array}\\right)\n",
    "$$\n",
    "\n",
    "or\n",
    "\n",
    "$$\n",
    "\\left(\\begin{array}{ccc}   3 & 2 & 1 \\\\ 0 & 4\\frac{2}{3} & 5\\frac{1}{3}\\\\ 0& 0 & 20\\end{array}\\right) \\begin{pmatrix}x_1\\\\x_2\\\\x_3\\end{pmatrix} = \n",
    "\\begin{pmatrix} 6\\\\10\\\\20\\end{pmatrix}\n",
    "$$"
   ]
  },
  {
   "cell_type": "markdown",
   "metadata": {
    "colab_type": "text",
    "id": "jgQWKbaNjWAS"
   },
   "source": [
    "## Motivating Example and Back Substitution\n",
    "\n",
    "We can easily solve this via **back substitution**:\n",
    "1. Take the last equation and solve for $x_3$.\n",
    "2. Plug the value for $x_3$ into the second equation, solve for $x_2$.\n",
    "3. Plug both into the first equation and solve for $x_1$.\n"
   ]
  },
  {
   "cell_type": "markdown",
   "metadata": {},
   "source": [
    "<div style=\"background-color: rgba(0,255,0,0.05) ; padding: 10px; border: 1px solid darkgreen;\"> \n",
    "<b>Home Activity</b>: Using the steps above, solve for $x_1$, $x_2$, and $x_3$ with pencil and paper.\n",
    "</div>"
   ]
  },
  {
   "cell_type": "markdown",
   "metadata": {},
   "source": [
    "We will now perform backward substitution in Python."
   ]
  },
  {
   "cell_type": "code",
   "execution_count": 8,
   "metadata": {
    "colab": {
     "base_uri": "https://localhost:8080/",
     "height": 69
    },
    "colab_type": "code",
    "executionInfo": {
     "elapsed": 249,
     "status": "ok",
     "timestamp": 1549550838609,
     "user": {
      "displayName": "Alexander Dowling",
      "photoUrl": "https://lh3.googleusercontent.com/-LChdQ2m5OQE/AAAAAAAAAAI/AAAAAAAAAA0/JeXJe4vQJ7M/s64/photo.jpg",
      "userId": "00988067626794866502"
     },
     "user_tz": 300
    },
    "id": "m0en677vjWAT",
    "outputId": "21b4c731-59df-4e7c-da51-5c46fdcd8421"
   },
   "outputs": [
    {
     "name": "stdout",
     "output_type": "stream",
     "text": [
      "x3 = 1.0\n",
      "x2 = 1.0\n",
      "x1 = 1.0\n"
     ]
    }
   ],
   "source": [
    "#backsubstitution\n",
    "x3 = aug_matrix[2,3]/aug_matrix[2,2] #solve for x3\n",
    "print(\"x3 =\",x3)\n",
    "#now solve for x2\n",
    "x2 = (aug_matrix[1,3] - x3*aug_matrix[1,2])/aug_matrix[1,1] \n",
    "print(\"x2 =\",x2)\n",
    "#now solve for x1\n",
    "x1 = (aug_matrix[0,3] - x3*aug_matrix[0,2]- x2*aug_matrix[0,1])/aug_matrix[0,0] \n",
    "print(\"x1 =\",x1)"
   ]
  },
  {
   "cell_type": "markdown",
   "metadata": {
    "colab_type": "text",
    "id": "32Xf87IdjWAW"
   },
   "source": [
    "The solution we get is \n",
    "\n",
    "$$x_1 = 1,$$\n",
    "\n",
    "$$x_2 = 1,$$\n",
    "\n",
    "$$x_3 = 1.$$\n",
    "\n",
    "We can check this by plugging it in."
   ]
  },
  {
   "cell_type": "markdown",
   "metadata": {
    "colab_type": "text",
    "id": "5mIWpz-TjWAX"
   },
   "source": [
    "### Verify Solution\n",
    "\n",
    "We can verify our solution is correct by computing $\\mathbf{A} \\cdot \\mathbf{x}$ and comparing to $\\mathbf{b}$."
   ]
  },
  {
   "cell_type": "markdown",
   "metadata": {},
   "source": [
    "<div style=\"background-color: rgba(0,255,0,0.05) ; padding: 10px; border: 1px solid darkgreen;\"> \n",
    "<b>Home Activity</b>: Perform this matrix multiplication with pencil and paper. (This is good practice, especially if you took linear algebra a few semesters ago.) Verify your pencil and paper solution for $x$ is correct.\n",
    "</div>"
   ]
  },
  {
   "cell_type": "markdown",
   "metadata": {},
   "source": [
    "We can easily perform this matrix multiplication by Python too."
   ]
  },
  {
   "cell_type": "code",
   "execution_count": 9,
   "metadata": {
    "colab": {
     "base_uri": "https://localhost:8080/",
     "height": 35
    },
    "colab_type": "code",
    "executionInfo": {
     "elapsed": 226,
     "status": "ok",
     "timestamp": 1549550875401,
     "user": {
      "displayName": "Alexander Dowling",
      "photoUrl": "https://lh3.googleusercontent.com/-LChdQ2m5OQE/AAAAAAAAAAI/AAAAAAAAAA0/JeXJe4vQJ7M/s64/photo.jpg",
      "userId": "00988067626794866502"
     },
     "user_tz": 300
    },
    "id": "PkzDYPWcjWAX",
    "outputId": "5fa5260d-8ff8-4d77-cd79-f00d33f93c12"
   },
   "outputs": [
    {
     "name": "stdout",
     "output_type": "stream",
     "text": [
      "[[6 8 4]] - [[6 8 4]] = [[0 0 0]]\n"
     ]
    }
   ],
   "source": [
    "x = np.array([1,1,1])\n",
    "print(np.dot(A33,x),\"-\",b3,\"=\",np.dot(A33,x)-b3)"
   ]
  },
  {
   "cell_type": "markdown",
   "metadata": {
    "colab_type": "text",
    "id": "ByoypUDPjWAa"
   },
   "source": [
    "Perfect."
   ]
  },
  {
   "cell_type": "markdown",
   "metadata": {},
   "source": [
    "<div style=\"background-color: rgba(0,255,0,0.05) ; padding: 10px; border: 1px solid darkgreen;\"> \n",
    "<b>Home Activity</b>: Compute $\\mathbf{A} \\cdot \\mathbf{x}$ in Python using alternate syntax, i.e., not <tt>.dot</tt>, for matrix multiplication.\n",
    "</div>"
   ]
  },
  {
   "cell_type": "code",
   "execution_count": 10,
   "metadata": {
    "tags": [
     "remove-output"
    ]
   },
   "outputs": [
    {
     "name": "stdout",
     "output_type": "stream",
     "text": [
      "[[6 8 4]]\n"
     ]
    }
   ],
   "source": [
    "### BEGIN SOLUTION\n",
    "x = np.array([1,1,1])\n",
    "print(A33 @ x)\n",
    "### END SOLUTION"
   ]
  },
  {
   "cell_type": "markdown",
   "metadata": {
    "colab_type": "text",
    "id": "BuQD_VEGjWAb"
   },
   "source": [
    "## Generalized Gaussian Elimination\n",
    "\n",
    "Now we will generalize our strategy to any $N \\times N$ linear system.\n"
   ]
  },
  {
   "cell_type": "markdown",
   "metadata": {
    "colab_type": "text",
    "id": "d5fdFIXYjWAb"
   },
   "source": [
    "### Pseudocode"
   ]
  },
  {
   "cell_type": "markdown",
   "metadata": {},
   "source": [
    "<div style=\"background-color: rgba(0,255,0,0.05) ; padding: 10px; border: 1px solid darkgreen;\"> \n",
    "<b>Home Activity</b>: Write pseudocode for a function that performs Gaussian elimination on two inputs: matrix $\\mathbf{A}$ and vector $\\mathbf{b}$.\n",
    "</div>"
   ]
  },
  {
   "cell_type": "markdown",
   "metadata": {
    "colab_type": "text",
    "id": "q3urRD0AjWAc"
   },
   "source": [
    "### Python Implementation"
   ]
  },
  {
   "cell_type": "markdown",
   "metadata": {},
   "source": [
    "<div style=\"background-color: rgba(0,0,255,0.05) ; padding: 10px; border: 1px solid darkblue;\"> \n",
    "<b>Class Activity</b>: Working with a partner, compare your pseudocode to the function below. Write down one observation or question to share with the class.</div>"
   ]
  },
  {
   "cell_type": "markdown",
   "metadata": {},
   "source": [
    "Question or observation to share:"
   ]
  },
  {
   "cell_type": "code",
   "execution_count": 11,
   "metadata": {
    "colab": {},
    "colab_type": "code",
    "id": "guqGs9nNjWAd",
    "tags": []
   },
   "outputs": [],
   "source": [
    "'''Warning: If you add print statements to the code below (optional), \n",
    "be sure to place them inside \"if LOUD:\" blocks. Otherwise,\n",
    "the timing analysis later in this notebook may crash.'''\n",
    "\n",
    "def GaussElim(A,b,LOUD=False):\n",
    "    \"\"\"create a Gaussian elimination matrix for a system\n",
    "\n",
    "    Args:\n",
    "        A: N by N array\n",
    "        b: array of length N\n",
    "    Returns:\n",
    "        augmented matrix ready for back substitution\n",
    "    \"\"\"\n",
    "    # Extract dimensions of A\n",
    "    [Nrow, Ncol] = A.shape\n",
    "    \n",
    "    # Check that A is square\n",
    "    assert Nrow == Ncol\n",
    "    \n",
    "    # Check dimensions of b\n",
    "    N = Nrow\n",
    "    assert b.size == N\n",
    "    \n",
    "    # create augmented matrix, just like\n",
    "    # code at the start of motivating example\n",
    "    aug_matrix = np.zeros((N,N+1))\n",
    "    aug_matrix[0:N,0:N] = A.copy()\n",
    "    aug_matrix[:,N] = b.copy()\n",
    "    #augmented matrix is created\n",
    "    \n",
    "    if LOUD:\n",
    "        print(\"Augmented Matrix = \",aug_matrix)\n",
    "\n",
    "    # loop over columns\n",
    "    for column in range(0,N):\n",
    "        \n",
    "        # loop over rows\n",
    "        for row in range(column+1,N):\n",
    "            \n",
    "            # select row to modify\n",
    "            mod_row = aug_matrix[row,:]\n",
    "            \n",
    "            # modify entire row\n",
    "            mod_row -= (mod_row[column]/aug_matrix[column,column]*\n",
    "                        aug_matrix[column,:])\n",
    "\n",
    "            # overwrite row. Is this needed? Why or why not?\n",
    "            aug_matrix[row] = mod_row\n",
    "\n",
    "            \n",
    "        # end loop over rows\n",
    "        \n",
    "    # end loop over columns\n",
    "    \n",
    "    # return augmented matrix\n",
    "    return aug_matrix"
   ]
  },
  {
   "cell_type": "markdown",
   "metadata": {
    "colab_type": "text",
    "id": "N8RC6_1gjWAe"
   },
   "source": [
    "### Unit Test: Motivating Example\n",
    "\n",
    "Immediately after creating our function, we should test it. Let's use the 3x3 motivating example."
   ]
  },
  {
   "cell_type": "code",
   "execution_count": 12,
   "metadata": {
    "colab": {
     "base_uri": "https://localhost:8080/",
     "height": 69
    },
    "colab_type": "code",
    "executionInfo": {
     "elapsed": 212,
     "status": "ok",
     "timestamp": 1549551728444,
     "user": {
      "displayName": "Alexander Dowling",
      "photoUrl": "https://lh3.googleusercontent.com/-LChdQ2m5OQE/AAAAAAAAAAI/AAAAAAAAAA0/JeXJe4vQJ7M/s64/photo.jpg",
      "userId": "00988067626794866502"
     },
     "user_tz": 300
    },
    "id": "XsOmcNNCjWAf",
    "outputId": "3949c166-b510-46d6-a73b-676ef884f575"
   },
   "outputs": [
    {
     "name": "stdout",
     "output_type": "stream",
     "text": [
      "[[ 3.          2.          1.          6.        ]\n",
      " [ 0.          4.66666667  5.33333333 10.        ]\n",
      " [ 0.          0.         20.         20.        ]]\n"
     ]
    }
   ],
   "source": [
    "aug33 = GaussElim(A33,b3)\n",
    "print(aug33)"
   ]
  },
  {
   "cell_type": "markdown",
   "metadata": {
    "colab_type": "text",
    "id": "v_3R8u9tjWAh"
   },
   "source": [
    "Success (after completing the in class activity). We reproduced the same answer as above. Our function passes the unit test!"
   ]
  },
  {
   "cell_type": "markdown",
   "metadata": {
    "colab_type": "text",
    "id": "GqZhNYy6jWAj"
   },
   "source": [
    "## Generalized Back Substitution"
   ]
  },
  {
   "cell_type": "markdown",
   "metadata": {
    "colab_type": "text",
    "id": "z84eLl_njWAj"
   },
   "source": [
    "### Pseudocode"
   ]
  },
  {
   "cell_type": "markdown",
   "metadata": {},
   "source": [
    "<div style=\"background-color: rgba(0,255,0,0.05) ; padding: 10px; border: 1px solid darkgreen;\"> \n",
    "<b>Home Activity</b>: Write pseudocode for a function that takes an augmented matrix as an input, performs back substitution, and returns the solution vector.\n",
    "</div>"
   ]
  },
  {
   "cell_type": "markdown",
   "metadata": {
    "colab_type": "text",
    "id": "v62VKwONjWAj"
   },
   "source": [
    "### Python Implementation"
   ]
  },
  {
   "cell_type": "markdown",
   "metadata": {},
   "source": [
    "Now let's program our back substitution function in Python."
   ]
  },
  {
   "cell_type": "markdown",
   "metadata": {},
   "source": [
    "<div style=\"background-color: rgba(0,0,255,0.05) ; padding: 10px; border: 1px solid darkblue;\"> \n",
    "<b>Class Activity</b>: Working with a partner, compare your pseudocode to the function below. Write down one observation or question to share with the class.</div>"
   ]
  },
  {
   "cell_type": "markdown",
   "metadata": {},
   "source": [
    "Question or observation to share:"
   ]
  },
  {
   "cell_type": "code",
   "execution_count": 13,
   "metadata": {
    "colab": {},
    "colab_type": "code",
    "id": "asbHwWJijWAk",
    "tags": []
   },
   "outputs": [],
   "source": [
    "def BackSub(aug_matrix,z_tol=1E-8):\n",
    "    \"\"\"back substitute a N by N system after Gauss elimination\n",
    "\n",
    "    Args:\n",
    "        aug_matrix: augmented matrix with zeros below the diagonal [numpy 2D array]\n",
    "        z_tol: tolerance for checking for zeros below the diagonal [float]\n",
    "    Returns:\n",
    "        x: length N vector, solution to linear system [numpy 1D array]\n",
    "    \"\"\"\n",
    "    [Nrow, Ncol] = aug_matrix.shape\n",
    "    try:\n",
    "        # check the dimensions\n",
    "        assert Nrow + 1 == Ncol\n",
    "    except AssertionError:\n",
    "        print(\"Dimension checks failed.\")\n",
    "        print(\"Nrow = \",Nrow)\n",
    "        print(\"Ncol = \",Ncol)\n",
    "        raise\n",
    "\n",
    "    assert type(z_tol) is float, \"z_tol must be a float\"\n",
    "        \n",
    "    # check augmented matrix is all zeros below the diagonal\n",
    "    for r in range(Nrow):\n",
    "        for c in range(0,r):\n",
    "            assert np.abs(aug_matrix[r,c]) < z_tol, \"\\nWarning! Nonzero in position \"+str(r)+\",\"+str(c)\n",
    "\n",
    "    # create vector of zeros to store solution\n",
    "    x = np.zeros(Nrow)\n",
    "    \n",
    "    # loop over the rows starting at the bottom\n",
    "    for row in range(Nrow-1,-1,-1):\n",
    "        RHS = aug_matrix[row,Nrow] # far column\n",
    "\n",
    "        # loop over the columns to the right of the diagonal\n",
    "        for column in range(row+1,Nrow):\n",
    "            \n",
    "            # subtract, i.e., substitute the already known values\n",
    "            RHS -= x[column]*aug_matrix[row,column]\n",
    "\n",
    "        # compute the element of x corresponding to the current row\n",
    "        x[row] = RHS/aug_matrix[row,row]\n",
    "        \n",
    "    return x"
   ]
  },
  {
   "cell_type": "markdown",
   "metadata": {},
   "source": [
    "Before we finish the function, let's verify the code properly detects nonzeros elements below the diagonal."
   ]
  },
  {
   "cell_type": "code",
   "execution_count": 14,
   "metadata": {},
   "outputs": [
    {
     "name": "stdout",
     "output_type": "stream",
     "text": [
      "[[0.68165809 0.87681001 0.88877853 0.15198785]\n",
      " [0.22847351 0.71413081 0.52709404 0.09905189]\n",
      " [0.2197067  0.59233029 0.91159957 0.61102608]]\n"
     ]
    },
    {
     "ename": "AssertionError",
     "evalue": "\nWarning! Nonzero in position 1,0",
     "output_type": "error",
     "traceback": [
      "\u001b[1;31m---------------------------------------------------------------------------\u001b[0m",
      "\u001b[1;31mAssertionError\u001b[0m                            Traceback (most recent call last)",
      "Input \u001b[1;32mIn [14]\u001b[0m, in \u001b[0;36m<cell line: 5>\u001b[1;34m()\u001b[0m\n\u001b[0;32m      2\u001b[0m not_an_augmented_matrix \u001b[38;5;241m=\u001b[39m np\u001b[38;5;241m.\u001b[39mrandom\u001b[38;5;241m.\u001b[39mrand(\u001b[38;5;241m3\u001b[39m,\u001b[38;5;241m4\u001b[39m)\n\u001b[0;32m      3\u001b[0m \u001b[38;5;28mprint\u001b[39m(not_an_augmented_matrix)\n\u001b[1;32m----> 5\u001b[0m x \u001b[38;5;241m=\u001b[39m \u001b[43mBackSub\u001b[49m\u001b[43m(\u001b[49m\u001b[43mnot_an_augmented_matrix\u001b[49m\u001b[43m)\u001b[49m\n",
      "Input \u001b[1;32mIn [13]\u001b[0m, in \u001b[0;36mBackSub\u001b[1;34m(aug_matrix, z_tol)\u001b[0m\n\u001b[0;32m     23\u001b[0m \u001b[38;5;28;01mfor\u001b[39;00m r \u001b[38;5;129;01min\u001b[39;00m \u001b[38;5;28mrange\u001b[39m(Nrow):\n\u001b[0;32m     24\u001b[0m     \u001b[38;5;28;01mfor\u001b[39;00m c \u001b[38;5;129;01min\u001b[39;00m \u001b[38;5;28mrange\u001b[39m(\u001b[38;5;241m0\u001b[39m,r):\n\u001b[1;32m---> 25\u001b[0m         \u001b[38;5;28;01massert\u001b[39;00m np\u001b[38;5;241m.\u001b[39mabs(aug_matrix[r,c]) \u001b[38;5;241m<\u001b[39m z_tol, \u001b[38;5;124m\"\u001b[39m\u001b[38;5;130;01m\\n\u001b[39;00m\u001b[38;5;124mWarning! Nonzero in position \u001b[39m\u001b[38;5;124m\"\u001b[39m\u001b[38;5;241m+\u001b[39m\u001b[38;5;28mstr\u001b[39m(r)\u001b[38;5;241m+\u001b[39m\u001b[38;5;124m\"\u001b[39m\u001b[38;5;124m,\u001b[39m\u001b[38;5;124m\"\u001b[39m\u001b[38;5;241m+\u001b[39m\u001b[38;5;28mstr\u001b[39m(c)\n\u001b[0;32m     27\u001b[0m \u001b[38;5;66;03m# create vector of zeros to store solution\u001b[39;00m\n\u001b[0;32m     28\u001b[0m x \u001b[38;5;241m=\u001b[39m np\u001b[38;5;241m.\u001b[39mzeros(Nrow)\n",
      "\u001b[1;31mAssertionError\u001b[0m: \nWarning! Nonzero in position 1,0"
     ]
    }
   ],
   "source": [
    "# make a 3x4 matrix filled with random numbers\n",
    "not_an_augmented_matrix = np.random.rand(3,4)\n",
    "print(not_an_augmented_matrix)\n",
    "\n",
    "x = BackSub(not_an_augmented_matrix)"
   ]
  },
  {
   "cell_type": "markdown",
   "metadata": {},
   "source": [
    "We should verify our function gives the same answer as above."
   ]
  },
  {
   "cell_type": "code",
   "execution_count": null,
   "metadata": {
    "colab": {
     "base_uri": "https://localhost:8080/",
     "height": 35
    },
    "colab_type": "code",
    "executionInfo": {
     "elapsed": 219,
     "status": "ok",
     "timestamp": 1549552532317,
     "user": {
      "displayName": "Alexander Dowling",
      "photoUrl": "https://lh3.googleusercontent.com/-LChdQ2m5OQE/AAAAAAAAAAI/AAAAAAAAAA0/JeXJe4vQJ7M/s64/photo.jpg",
      "userId": "00988067626794866502"
     },
     "user_tz": 300
    },
    "id": "qLig4enUjWAo",
    "outputId": "10afa1df-b9ee-4cf0-a005-2e7d54699054"
   },
   "outputs": [],
   "source": [
    "x33 = BackSub(aug33)\n",
    "print(\"The solution is \", x33)"
   ]
  },
  {
   "cell_type": "markdown",
   "metadata": {
    "colab_type": "text",
    "id": "gQmZxn6vjWAs"
   },
   "source": [
    "Success. We reproduced the same answer as above. Our function passes the unit test!"
   ]
  },
  {
   "cell_type": "code",
   "execution_count": null,
   "metadata": {
    "colab": {
     "base_uri": "https://localhost:8080/",
     "height": 69
    },
    "colab_type": "code",
    "executionInfo": {
     "elapsed": 249,
     "status": "ok",
     "timestamp": 1549552571118,
     "user": {
      "displayName": "Alexander Dowling",
      "photoUrl": "https://lh3.googleusercontent.com/-LChdQ2m5OQE/AAAAAAAAAAI/AAAAAAAAAA0/JeXJe4vQJ7M/s64/photo.jpg",
      "userId": "00988067626794866502"
     },
     "user_tz": 300
    },
    "id": "oxNWVmiOh2AX",
    "outputId": "653a975e-fba7-4215-eb7a-f37bc3df3211"
   },
   "outputs": [],
   "source": [
    "print(aug33)"
   ]
  },
  {
   "cell_type": "markdown",
   "metadata": {},
   "source": [
    "Let's take a moment to review how to access elements of a matrix. Predict the output of the three cells below before you execute them."
   ]
  },
  {
   "cell_type": "code",
   "execution_count": 15,
   "metadata": {
    "colab": {
     "base_uri": "https://localhost:8080/",
     "height": 35
    },
    "colab_type": "code",
    "executionInfo": {
     "elapsed": 250,
     "status": "ok",
     "timestamp": 1549552587353,
     "user": {
      "displayName": "Alexander Dowling",
      "photoUrl": "https://lh3.googleusercontent.com/-LChdQ2m5OQE/AAAAAAAAAAI/AAAAAAAAAA0/JeXJe4vQJ7M/s64/photo.jpg",
      "userId": "00988067626794866502"
     },
     "user_tz": 300
    },
    "id": "0ZTFPRiAh99r",
    "outputId": "f49fb986-a75c-4413-9eb4-0756ef25883f"
   },
   "outputs": [
    {
     "data": {
      "text/plain": [
       "array([ 0.        ,  4.66666667,  5.33333333, 10.        ])"
      ]
     },
     "execution_count": 15,
     "metadata": {},
     "output_type": "execute_result"
    }
   ],
   "source": [
    "aug33[1] # return the 2nd row"
   ]
  },
  {
   "cell_type": "code",
   "execution_count": 16,
   "metadata": {
    "colab": {
     "base_uri": "https://localhost:8080/",
     "height": 35
    },
    "colab_type": "code",
    "executionInfo": {
     "elapsed": 364,
     "status": "ok",
     "timestamp": 1549552638921,
     "user": {
      "displayName": "Alexander Dowling",
      "photoUrl": "https://lh3.googleusercontent.com/-LChdQ2m5OQE/AAAAAAAAAAI/AAAAAAAAAA0/JeXJe4vQJ7M/s64/photo.jpg",
      "userId": "00988067626794866502"
     },
     "user_tz": 300
    },
    "id": "CUTSUVT-iG-_",
    "outputId": "8b0b52d2-5154-4c1c-bcb0-4292c0e1a116"
   },
   "outputs": [
    {
     "data": {
      "text/plain": [
       "5.333333333333333"
      ]
     },
     "execution_count": 16,
     "metadata": {},
     "output_type": "execute_result"
    }
   ],
   "source": [
    "aug33[1][2] # return the element from the 2nd row and 3rd column"
   ]
  },
  {
   "cell_type": "code",
   "execution_count": 17,
   "metadata": {
    "colab": {
     "base_uri": "https://localhost:8080/",
     "height": 35
    },
    "colab_type": "code",
    "executionInfo": {
     "elapsed": 290,
     "status": "ok",
     "timestamp": 1549552702442,
     "user": {
      "displayName": "Alexander Dowling",
      "photoUrl": "https://lh3.googleusercontent.com/-LChdQ2m5OQE/AAAAAAAAAAI/AAAAAAAAAA0/JeXJe4vQJ7M/s64/photo.jpg",
      "userId": "00988067626794866502"
     },
     "user_tz": 300
    },
    "id": "71XAoGPRiaof",
    "outputId": "2e6db8f7-6214-4048-c868-bc1271277216"
   },
   "outputs": [
    {
     "data": {
      "text/plain": [
       "5.333333333333333"
      ]
     },
     "execution_count": 17,
     "metadata": {},
     "output_type": "execute_result"
    }
   ],
   "source": [
    "aug33[1,2] # return the element from the 2nd row and 3rd column"
   ]
  },
  {
   "cell_type": "markdown",
   "metadata": {
    "colab_type": "text",
    "id": "s4wfFTzqjWAt"
   },
   "source": [
    "## Additional Testing: Random Linear Systems\n",
    "\n",
    "Both our functions gave the expected results for the motivating example, but we want to ensure the functions work for a general NxN linear system.\n",
    "\n",
    "Here is an idea. Let's randomly generate many $N x N$ linear systems and solve them with our Gaussian elimination code."
   ]
  },
  {
   "cell_type": "code",
   "execution_count": 18,
   "metadata": {
    "colab": {
     "base_uri": "https://localhost:8080/",
     "height": 35
    },
    "colab_type": "code",
    "executionInfo": {
     "elapsed": 267,
     "status": "ok",
     "timestamp": 1549552874822,
     "user": {
      "displayName": "Alexander Dowling",
      "photoUrl": "https://lh3.googleusercontent.com/-LChdQ2m5OQE/AAAAAAAAAAI/AAAAAAAAAA0/JeXJe4vQJ7M/s64/photo.jpg",
      "userId": "00988067626794866502"
     },
     "user_tz": 300
    },
    "id": "-ALEtculjWAu",
    "outputId": "1b6f2a2b-b404-41f1-c338-b4430eb5bb9d"
   },
   "outputs": [
    {
     "name": "stdout",
     "output_type": "stream",
     "text": [
      "Test failed with\n",
      "A =  [[8.19475272e-05 6.48484160e-01 6.98737002e-02 7.71574441e-02]\n",
      " [6.25658388e-01 9.13659133e-01 6.49181775e-01 3.14847153e-01]\n",
      " [2.65027935e-01 3.63143828e-02 3.94366418e-02 6.03586338e-01]\n",
      " [5.60988804e-01 3.12997723e-01 3.77073851e-01 4.05226942e-01]]\n",
      "x =  [0.08906019 0.57635197 0.6537034  0.53698067]\n",
      "diff =  [5.87445370e-12 9.56346113e-13 6.10966833e-12 2.51154653e-12]\n"
     ]
    },
    {
     "ename": "AssertionError",
     "evalue": "",
     "output_type": "error",
     "traceback": [
      "\u001b[1;31m---------------------------------------------------------------------------\u001b[0m",
      "\u001b[1;31mAssertionError\u001b[0m                            Traceback (most recent call last)",
      "Input \u001b[1;32mIn [18]\u001b[0m, in \u001b[0;36m<cell line: 8>\u001b[1;34m()\u001b[0m\n\u001b[0;32m     25\u001b[0m \u001b[38;5;66;03m# Check if solutions match within tolerance\u001b[39;00m\n\u001b[0;32m     26\u001b[0m \u001b[38;5;28;01mtry\u001b[39;00m:\n\u001b[1;32m---> 27\u001b[0m     \u001b[38;5;28;01massert\u001b[39;00m(np\u001b[38;5;241m.\u001b[39mmax(diff) \u001b[38;5;241m<\u001b[39m \u001b[38;5;241m1.0e-12\u001b[39m)\n\u001b[0;32m     28\u001b[0m \u001b[38;5;28;01mexcept\u001b[39;00m \u001b[38;5;167;01mAssertionError\u001b[39;00m:\n\u001b[0;32m     29\u001b[0m     \u001b[38;5;28mprint\u001b[39m(\u001b[38;5;124m\"\u001b[39m\u001b[38;5;124mTest failed with\u001b[39m\u001b[38;5;124m\"\u001b[39m)\n",
      "\u001b[1;31mAssertionError\u001b[0m: "
     ]
    }
   ],
   "source": [
    "# Number of tests\n",
    "tests = 10000\n",
    "\n",
    "# System size\n",
    "N = 4\n",
    "\n",
    "# loop over all tests\n",
    "for i in range(tests):\n",
    "    # generate x and A\n",
    "    x = np.random.rand(N)\n",
    "    A = np.random.rand(N,N)\n",
    "    \n",
    "    # Calculate b\n",
    "    b = np.dot(A,x)\n",
    "    \n",
    "    # Perform Gaussian Elimination (aka row reduction)\n",
    "    aug = GaussElim(A,b)\n",
    "    \n",
    "    # Perform back substitition\n",
    "    sol = BackSub(aug)\n",
    "    \n",
    "    # Calculate difference\n",
    "    diff = np.abs(sol-x)\n",
    "    \n",
    "    # Check if solutions match within tolerance\n",
    "    try:\n",
    "        assert(np.max(diff) < 1.0e-12)\n",
    "    except AssertionError:\n",
    "        print(\"Test failed with\")\n",
    "        print(\"A = \",A)\n",
    "        print(\"x = \",x)\n",
    "        print(\"diff = \",diff)\n",
    "        raise\n",
    "print(\"All Tests Passed\")"
   ]
  },
  {
   "cell_type": "markdown",
   "metadata": {},
   "source": [
    "<div style=\"background-color: rgba(0,0,255,0.05) ; padding: 10px; border: 1px solid darkblue;\"> \n",
    "<b>Class Activity</b>: Run the code above a few times. Does anyone observe it only fails some of the time? Any ideas as to why this happens?\n",
    "</div>"
   ]
  },
  {
   "cell_type": "markdown",
   "metadata": {
    "colab_type": "text",
    "id": "GfHX5_eXjWAx"
   },
   "source": [
    "## Round off and Pivoting"
   ]
  },
  {
   "cell_type": "markdown",
   "metadata": {
    "colab_type": "text",
    "id": "xKjRLDgjjWAy"
   },
   "source": [
    "For matrices with a large discrepancy in the magnitude of the elements, we'll see that Gauss elimination doesn't perform quite as well."
   ]
  },
  {
   "cell_type": "code",
   "execution_count": 19,
   "metadata": {
    "colab": {
     "base_uri": "https://localhost:8080/",
     "height": 69
    },
    "colab_type": "code",
    "executionInfo": {
     "elapsed": 285,
     "status": "ok",
     "timestamp": 1549552891925,
     "user": {
      "displayName": "Alexander Dowling",
      "photoUrl": "https://lh3.googleusercontent.com/-LChdQ2m5OQE/AAAAAAAAAAI/AAAAAAAAAA0/JeXJe4vQJ7M/s64/photo.jpg",
      "userId": "00988067626794866502"
     },
     "user_tz": 300
    },
    "id": "L0yuLiPSjWAz",
    "outputId": "b1d3d73d-ad6a-45ce-c1c2-5b263e4caaf2"
   },
   "outputs": [
    {
     "name": "stdout",
     "output_type": "stream",
     "text": [
      "[[ 1.e-14 -1.e+00  1.e+00]\n",
      " [-1.e+00  2.e+00 -1.e+00]\n",
      " [ 2.e+00 -1.e+00  0.e+00]]\n"
     ]
    }
   ],
   "source": [
    "epsilon = 1e-14\n",
    "A_eps = np.array([(epsilon,-1,1),(-1,2,-1),(2,-1,0)])\n",
    "print(A_eps)"
   ]
  },
  {
   "cell_type": "markdown",
   "metadata": {
    "colab_type": "text",
    "id": "RUW-17wsjWA0"
   },
   "source": [
    "Now we will compute the RHS of our system by multiplying the matrix by a simple vector:"
   ]
  },
  {
   "cell_type": "code",
   "execution_count": 20,
   "metadata": {
    "colab": {
     "base_uri": "https://localhost:8080/",
     "height": 35
    },
    "colab_type": "code",
    "executionInfo": {
     "elapsed": 255,
     "status": "ok",
     "timestamp": 1549552913967,
     "user": {
      "displayName": "Alexander Dowling",
      "photoUrl": "https://lh3.googleusercontent.com/-LChdQ2m5OQE/AAAAAAAAAAI/AAAAAAAAAA0/JeXJe4vQJ7M/s64/photo.jpg",
      "userId": "00988067626794866502"
     },
     "user_tz": 300
    },
    "id": "ToPY2FyqjWA1",
    "outputId": "8a1bb05a-3b48-49ac-b715-95248b2e3cf3"
   },
   "outputs": [
    {
     "name": "stdout",
     "output_type": "stream",
     "text": [
      "[0. 0. 1.]\n"
     ]
    }
   ],
   "source": [
    "b_eps = np.array([0,0,1.0])\n",
    "print(b_eps)"
   ]
  },
  {
   "cell_type": "markdown",
   "metadata": {
    "colab_type": "text",
    "id": "WFrz3SUTjWA3"
   },
   "source": [
    "Now we can solve this system:"
   ]
  },
  {
   "cell_type": "code",
   "execution_count": 21,
   "metadata": {
    "colab": {
     "base_uri": "https://localhost:8080/",
     "height": 52
    },
    "colab_type": "code",
    "executionInfo": {
     "elapsed": 354,
     "status": "ok",
     "timestamp": 1549552928023,
     "user": {
      "displayName": "Alexander Dowling",
      "photoUrl": "https://lh3.googleusercontent.com/-LChdQ2m5OQE/AAAAAAAAAAI/AAAAAAAAAA0/JeXJe4vQJ7M/s64/photo.jpg",
      "userId": "00988067626794866502"
     },
     "user_tz": 300
    },
    "id": "WAUpjM_VjWA4",
    "outputId": "a82cd09e-0843-434f-f665-13ad09ef0194"
   },
   "outputs": [
    {
     "name": "stdout",
     "output_type": "stream",
     "text": [
      "The solution is [0.96589403 0.96969697 0.96969697]\n",
      "The residual is [ 0.         -0.00380294  0.03790891]\n"
     ]
    }
   ],
   "source": [
    "aug_mat_eps = GaussElim(A_eps,b_eps)\n",
    "x_eps = BackSub(aug_mat_eps,z_tol=10.)\n",
    "print(\"The solution is\",x_eps)\n",
    "print(\"The residual is\",b_eps - A_eps @ x_eps)"
   ]
  },
  {
   "cell_type": "markdown",
   "metadata": {
    "colab_type": "text",
    "id": "12lMPaQzjWA6"
   },
   "source": [
    "There is a noticeable difference between the calculated solution and the actual solution (as measured by the residual). This is because we are dividing by a small number, which adds numeric error. We should use the largest row element as the **pivot element**, or the element we divide by when doing the elimination.\n",
    "\n",
    "To further demonstrate the need for pivoting, consider the system:"
   ]
  },
  {
   "cell_type": "code",
   "execution_count": 22,
   "metadata": {
    "colab": {
     "base_uri": "https://localhost:8080/",
     "height": 87
    },
    "colab_type": "code",
    "executionInfo": {
     "elapsed": 350,
     "status": "ok",
     "timestamp": 1549552985176,
     "user": {
      "displayName": "Alexander Dowling",
      "photoUrl": "https://lh3.googleusercontent.com/-LChdQ2m5OQE/AAAAAAAAAAI/AAAAAAAAAA0/JeXJe4vQJ7M/s64/photo.jpg",
      "userId": "00988067626794866502"
     },
     "user_tz": 300
    },
    "id": "46_MaRjxjWA7",
    "outputId": "5e9c81ed-db2b-4e3f-8b3a-63cd80a1f4fd"
   },
   "outputs": [
    {
     "name": "stdout",
     "output_type": "stream",
     "text": [
      "A=\n",
      " [[1. 0.]\n",
      " [0. 1.]]\n",
      "b= [2. 6.]\n"
     ]
    }
   ],
   "source": [
    "A = np.array([(1.0,0),(0,1.0)])\n",
    "b = np.array([2,6.0])\n",
    "print(\"A=\\n\",A)\n",
    "print(\"b=\",b)"
   ]
  },
  {
   "cell_type": "markdown",
   "metadata": {
    "colab_type": "text",
    "id": "tItLZe54jWA9"
   },
   "source": [
    "With solution"
   ]
  },
  {
   "cell_type": "code",
   "execution_count": 23,
   "metadata": {
    "colab": {
     "base_uri": "https://localhost:8080/",
     "height": 35
    },
    "colab_type": "code",
    "executionInfo": {
     "elapsed": 297,
     "status": "ok",
     "timestamp": 1549553002869,
     "user": {
      "displayName": "Alexander Dowling",
      "photoUrl": "https://lh3.googleusercontent.com/-LChdQ2m5OQE/AAAAAAAAAAI/AAAAAAAAAA0/JeXJe4vQJ7M/s64/photo.jpg",
      "userId": "00988067626794866502"
     },
     "user_tz": 300
    },
    "id": "JhYoVTnojWA-",
    "outputId": "1feb4c88-e6a1-423d-d7d2-d981f376b51e"
   },
   "outputs": [
    {
     "name": "stdout",
     "output_type": "stream",
     "text": [
      "[2. 6.]\n"
     ]
    }
   ],
   "source": [
    "aug_mat = GaussElim(A,b)\n",
    "x = BackSub(aug_mat)\n",
    "print(x)"
   ]
  },
  {
   "cell_type": "markdown",
   "metadata": {
    "colab_type": "text",
    "id": "hq4L5whtjWA_"
   },
   "source": [
    "This is as expected because $\\mathbf{A}$ is an identity matrix. Now what if we switch the rows in $\\mathbf{A}$ and try the same thing:\n",
    "\n",
    "$$\\underbrace{\\begin{pmatrix} 0 & 1 \\\\ 1 & 0 \\end{pmatrix}}_{\\mathbf{A}} ~\n",
    "\\underbrace{\\begin{pmatrix} x_1\\\\x_2 \\end{pmatrix}}_{\\mathbf{x}} = \\underbrace{\\begin{pmatrix}6\\\\2\\end{pmatrix}}_{\\mathbf{b}}\n",
    "$$\n"
   ]
  },
  {
   "cell_type": "markdown",
   "metadata": {},
   "source": [
    "<div style=\"background-color: rgba(0,255,0,0.05) ; padding: 10px; border: 1px solid darkgreen;\"> \n",
    "<b>Home Activity</b>: Write a 1 or 2 sentence explaining what will happen when we apply Gaussian elimination to the above system. You should be able to answer this question without running any Python code.\n",
    "</div>"
   ]
  },
  {
   "cell_type": "markdown",
   "metadata": {},
   "source": [
    "<div style=\"background-color: rgba(0,255,0,0.05) ; padding: 10px; border: 1px solid darkgreen;\"> \n",
    "<b>Home Activity</b>: Run the code below.\n",
    "</div>"
   ]
  },
  {
   "cell_type": "code",
   "execution_count": 24,
   "metadata": {
    "colab": {
     "base_uri": "https://localhost:8080/",
     "height": 178
    },
    "colab_type": "code",
    "executionInfo": {
     "elapsed": 336,
     "status": "ok",
     "timestamp": 1549553028973,
     "user": {
      "displayName": "Alexander Dowling",
      "photoUrl": "https://lh3.googleusercontent.com/-LChdQ2m5OQE/AAAAAAAAAAI/AAAAAAAAAA0/JeXJe4vQJ7M/s64/photo.jpg",
      "userId": "00988067626794866502"
     },
     "user_tz": 300
    },
    "id": "moPnEJlEjWBA",
    "outputId": "579d1f70-2e62-4be9-bce1-318f8f32a195",
    "tags": [
     "remove-output"
    ]
   },
   "outputs": [
    {
     "name": "stdout",
     "output_type": "stream",
     "text": [
      "A =\n",
      " [[0. 1.]\n",
      " [1. 0.]]\n",
      "b = [6. 2.]\n",
      "\n",
      "aug_mat = \n",
      " [[  0.   1.   6.]\n",
      " [ nan -inf -inf]]\n"
     ]
    },
    {
     "name": "stderr",
     "output_type": "stream",
     "text": [
      "C:\\Users\\ebrea\\AppData\\Local\\Temp\\ipykernel_21356\\3212638941.py:44: RuntimeWarning: divide by zero encountered in double_scalars\n",
      "  mod_row -= (mod_row[column]/aug_matrix[column,column]*\n",
      "C:\\Users\\ebrea\\AppData\\Local\\Temp\\ipykernel_21356\\3212638941.py:44: RuntimeWarning: invalid value encountered in multiply\n",
      "  mod_row -= (mod_row[column]/aug_matrix[column,column]*\n"
     ]
    },
    {
     "ename": "AssertionError",
     "evalue": "\nWarning! Nonzero in position 1,0",
     "output_type": "error",
     "traceback": [
      "\u001b[1;31m---------------------------------------------------------------------------\u001b[0m",
      "\u001b[1;31mAssertionError\u001b[0m                            Traceback (most recent call last)",
      "Input \u001b[1;32mIn [24]\u001b[0m, in \u001b[0;36m<cell line: 9>\u001b[1;34m()\u001b[0m\n\u001b[0;32m      6\u001b[0m \u001b[38;5;28mprint\u001b[39m(\u001b[38;5;124m\"\u001b[39m\u001b[38;5;130;01m\\n\u001b[39;00m\u001b[38;5;124maug_mat = \u001b[39m\u001b[38;5;130;01m\\n\u001b[39;00m\u001b[38;5;124m\"\u001b[39m,aug_mat)\n\u001b[0;32m      8\u001b[0m \u001b[38;5;66;03m# With a large zero tolerance, we effectively skip the check below the diagonal\u001b[39;00m\n\u001b[1;32m----> 9\u001b[0m x \u001b[38;5;241m=\u001b[39m \u001b[43mBackSub\u001b[49m\u001b[43m(\u001b[49m\u001b[43maug_mat\u001b[49m\u001b[43m,\u001b[49m\u001b[43m \u001b[49m\u001b[43mz_tol\u001b[49m\u001b[43m \u001b[49m\u001b[38;5;241;43m=\u001b[39;49m\u001b[43m \u001b[49m\u001b[38;5;241;43m1E3\u001b[39;49m\u001b[43m)\u001b[49m\n\u001b[0;32m     10\u001b[0m \u001b[38;5;28mprint\u001b[39m(\u001b[38;5;124m\"\u001b[39m\u001b[38;5;130;01m\\n\u001b[39;00m\u001b[38;5;124mx =\u001b[39m\u001b[38;5;124m\"\u001b[39m,x)\n",
      "Input \u001b[1;32mIn [13]\u001b[0m, in \u001b[0;36mBackSub\u001b[1;34m(aug_matrix, z_tol)\u001b[0m\n\u001b[0;32m     23\u001b[0m \u001b[38;5;28;01mfor\u001b[39;00m r \u001b[38;5;129;01min\u001b[39;00m \u001b[38;5;28mrange\u001b[39m(Nrow):\n\u001b[0;32m     24\u001b[0m     \u001b[38;5;28;01mfor\u001b[39;00m c \u001b[38;5;129;01min\u001b[39;00m \u001b[38;5;28mrange\u001b[39m(\u001b[38;5;241m0\u001b[39m,r):\n\u001b[1;32m---> 25\u001b[0m         \u001b[38;5;28;01massert\u001b[39;00m np\u001b[38;5;241m.\u001b[39mabs(aug_matrix[r,c]) \u001b[38;5;241m<\u001b[39m z_tol, \u001b[38;5;124m\"\u001b[39m\u001b[38;5;130;01m\\n\u001b[39;00m\u001b[38;5;124mWarning! Nonzero in position \u001b[39m\u001b[38;5;124m\"\u001b[39m\u001b[38;5;241m+\u001b[39m\u001b[38;5;28mstr\u001b[39m(r)\u001b[38;5;241m+\u001b[39m\u001b[38;5;124m\"\u001b[39m\u001b[38;5;124m,\u001b[39m\u001b[38;5;124m\"\u001b[39m\u001b[38;5;241m+\u001b[39m\u001b[38;5;28mstr\u001b[39m(c)\n\u001b[0;32m     27\u001b[0m \u001b[38;5;66;03m# create vector of zeros to store solution\u001b[39;00m\n\u001b[0;32m     28\u001b[0m x \u001b[38;5;241m=\u001b[39m np\u001b[38;5;241m.\u001b[39mzeros(Nrow)\n",
      "\u001b[1;31mAssertionError\u001b[0m: \nWarning! Nonzero in position 1,0"
     ]
    }
   ],
   "source": [
    "A = np.array([(0,1.0),(1.0,0)])\n",
    "b = np.array([6.,2.0])\n",
    "print(\"A =\\n\",A)\n",
    "print(\"b =\",b)\n",
    "aug_mat = GaussElim(A,b)\n",
    "print(\"\\naug_mat = \\n\",aug_mat)\n",
    "\n",
    "# With a large zero tolerance, we effectively skip the check below the diagonal\n",
    "x = BackSub(aug_mat, z_tol = 1E3)\n",
    "print(\"\\nx =\",x)"
   ]
  },
  {
   "cell_type": "markdown",
   "metadata": {
    "colab_type": "text",
    "id": "1EEhmIlEjWBC"
   },
   "source": [
    "What happened?!?\n",
    "\n",
    "Well, the **pivot element** in the first row was **zero**. We divided by zero.\n",
    "\n",
    "We can correct this by checking before we pivot, and **rearranging the equations** to pivot with the largest possible entry.\n",
    "\n",
    "It is worth mentioning that **largest is relative** to the size of the other entries in the row. Consider two rows: $(11,10,10)$ and $(2,1,1)$. The 2 is actually a better pivot because it is large relative to the other elements of a row."
   ]
  },
  {
   "cell_type": "markdown",
   "metadata": {
    "colab_type": "text",
    "id": "KglEHk_2jWBE"
   },
   "source": [
    "### Swapping Rows\n",
    "\n",
    "**Linear Algebra Check** Why is it valid to swap rows? What does swapping two rows mean for the system of linear equations we are solving?\n",
    "\n",
    "To do pivoting we will need a means to swap rows in our augmented matrix."
   ]
  },
  {
   "cell_type": "markdown",
   "metadata": {},
   "source": [
    "<div style=\"background-color: rgba(0,255,0,0.05) ; padding: 10px; border: 1px solid darkgreen;\"> \n",
    "<b>Home Activity</b>: Run the code below.\n",
    "</div>"
   ]
  },
  {
   "cell_type": "code",
   "execution_count": 25,
   "metadata": {
    "colab": {
     "base_uri": "https://localhost:8080/",
     "height": 123
    },
    "colab_type": "code",
    "executionInfo": {
     "elapsed": 295,
     "status": "ok",
     "timestamp": 1549553303625,
     "user": {
      "displayName": "Alexander Dowling",
      "photoUrl": "https://lh3.googleusercontent.com/-LChdQ2m5OQE/AAAAAAAAAAI/AAAAAAAAAA0/JeXJe4vQJ7M/s64/photo.jpg",
      "userId": "00988067626794866502"
     },
     "user_tz": 300
    },
    "id": "aHRRVoDljWBE",
    "outputId": "3961c2c9-ddc7-4dab-af1d-da819b90f2d5",
    "tags": [
     "remove-output"
    ]
   },
   "outputs": [
    {
     "name": "stdout",
     "output_type": "stream",
     "text": [
      "Before swap, A =\n",
      " [[0. 1.]\n",
      " [1. 0.]]\n",
      "After swapping 0 and 1, A =\n",
      " [[1. 0.]\n",
      " [0. 1.]]\n"
     ]
    }
   ],
   "source": [
    "def swap_rows(A, a, b):\n",
    "    \"\"\"Rows two rows in a matrix, switch row a with row b\n",
    "    \n",
    "    args: \n",
    "    A: matrix to perform row swaps on\n",
    "    a: row index of matrix\n",
    "    b: row index of matrix\n",
    "    \n",
    "    returns: nothing\n",
    "    \n",
    "    side effects:\n",
    "    changes A to rows a and b swapped\n",
    "    \"\"\"\n",
    "    \n",
    "    # A negative index will give unexpected behavior\n",
    "    assert (a>=0) and (b>=0)\n",
    "    N = A.shape[0] #number of rows\n",
    "    assert (a<N) and (b<N) #less than because 0-based indexing\n",
    "    \n",
    "    # create a temporary variable to store row a\n",
    "    temp = A[a,:].copy()\n",
    "    \n",
    "    # move row b values into the location of row a\n",
    "    A[a,:] = A[b,:].copy()\n",
    "    \n",
    "    # move row a values (stored in temp) into the location of row a\n",
    "    A[b,:] = temp.copy()\n",
    "\n",
    "# And now we test our function\n",
    "print(\"Before swap, A =\\n\",A)\n",
    "swap_rows(A,0,1)\n",
    "print(\"After swapping 0 and 1, A =\\n\",A)"
   ]
  },
  {
   "cell_type": "markdown",
   "metadata": {
    "colab_type": "text",
    "id": "NA2fS6hajWBF"
   },
   "source": [
    "### Selecting Pivot"
   ]
  },
  {
   "cell_type": "markdown",
   "metadata": {
    "colab_type": "text",
    "id": "6mL-kVvTjWBG"
   },
   "source": [
    "The next step is figuring out how to swap during each step. At the beginning of the solve we want to find the **maximum row element size** using a piece of code like this: "
   ]
  },
  {
   "cell_type": "markdown",
   "metadata": {},
   "source": [
    "<div style=\"background-color: rgba(0,255,0,0.05) ; padding: 10px; border: 1px solid darkgreen;\"> \n",
    "<b>Home Activity</b>: Run the code below.\n",
    "</div>"
   ]
  },
  {
   "cell_type": "code",
   "execution_count": 26,
   "metadata": {
    "colab": {
     "base_uri": "https://localhost:8080/",
     "height": 140
    },
    "colab_type": "code",
    "executionInfo": {
     "elapsed": 295,
     "status": "ok",
     "timestamp": 1549553343618,
     "user": {
      "displayName": "Alexander Dowling",
      "photoUrl": "https://lh3.googleusercontent.com/-LChdQ2m5OQE/AAAAAAAAAAI/AAAAAAAAAA0/JeXJe4vQJ7M/s64/photo.jpg",
      "userId": "00988067626794866502"
     },
     "user_tz": 300
    },
    "id": "llmSL8_XjWBM",
    "outputId": "836a603d-5c80-4fab-bd9e-98d3875d27d5",
    "tags": [
     "remove-output"
    ]
   },
   "outputs": [
    {
     "name": "stdout",
     "output_type": "stream",
     "text": [
      "A =\n",
      " [[0.56274597 0.94258339 0.49827631 0.66835811 0.32515347]\n",
      " [0.25663801 0.59682526 0.60201312 0.22503411 0.19724808]\n",
      " [0.03754628 0.20860119 0.33173523 0.17733499 0.59679729]\n",
      " [0.54491844 0.8932709  0.41171218 0.81892501 0.18892865]\n",
      " [0.67231886 0.85595162 0.86827932 0.43297134 0.36908932]]\n",
      "s = [0.94258339 0.60201312 0.59679729 0.8932709  0.86827932]\n"
     ]
    }
   ],
   "source": [
    "# Create a random matrix\n",
    "N = 5\n",
    "A = np.random.rand(N,N)\n",
    "print(\"A =\\n\",A)\n",
    "\n",
    "# Create a vector of zeros\n",
    "s = np.zeros(N)\n",
    "\n",
    "# loop over rows\n",
    "count = 0\n",
    "for row in A:\n",
    "    # record the largest element of current row into s\n",
    "    s[count] = np.max(np.fabs(row))\n",
    "    \n",
    "    # increment counter\n",
    "    count += 1\n",
    "print(\"s =\",s)"
   ]
  },
  {
   "cell_type": "markdown",
   "metadata": {
    "colab_type": "text",
    "id": "NpzJ000TjWBO"
   },
   "source": [
    "Then we'll have to figure out **which row** has the **largest scaled pivot element**. "
   ]
  },
  {
   "cell_type": "code",
   "execution_count": 27,
   "metadata": {
    "colab": {
     "base_uri": "https://localhost:8080/",
     "height": 35
    },
    "colab_type": "code",
    "executionInfo": {
     "elapsed": 439,
     "status": "ok",
     "timestamp": 1549553480732,
     "user": {
      "displayName": "Alexander Dowling",
      "photoUrl": "https://lh3.googleusercontent.com/-LChdQ2m5OQE/AAAAAAAAAAI/AAAAAAAAAA0/JeXJe4vQJ7M/s64/photo.jpg",
      "userId": "00988067626794866502"
     },
     "user_tz": 300
    },
    "id": "XefT2OLqjWBO",
    "outputId": "0089116a-bc2a-46e7-eb06-eccc3ac00dcc"
   },
   "outputs": [
    {
     "name": "stdout",
     "output_type": "stream",
     "text": [
      "Largest scaled element in column 2 is in row 4\n"
     ]
    }
   ],
   "source": [
    "# Specify the column we want to analyze\n",
    "pivot_column = 2\n",
    "\n",
    "# Find the position of the largest scaled element in said column\n",
    "largest_pos = np.argmax(np.fabs(A[:,pivot_column]/s[pivot_column]))\n",
    "print(\"Largest scaled element in column\",pivot_column,\n",
    "      \"is in row\",largest_pos)"
   ]
  },
  {
   "cell_type": "markdown",
   "metadata": {
    "colab_type": "text",
    "id": "Y-t0VMzsjsA0"
   },
   "source": [
    "Side tanget. What does ``np.argmax`` do?"
   ]
  },
  {
   "cell_type": "code",
   "execution_count": 28,
   "metadata": {
    "colab": {
     "base_uri": "https://localhost:8080/",
     "height": 1091
    },
    "colab_type": "code",
    "executionInfo": {
     "elapsed": 248,
     "status": "ok",
     "timestamp": 1549553542048,
     "user": {
      "displayName": "Alexander Dowling",
      "photoUrl": "https://lh3.googleusercontent.com/-LChdQ2m5OQE/AAAAAAAAAAI/AAAAAAAAAA0/JeXJe4vQJ7M/s64/photo.jpg",
      "userId": "00988067626794866502"
     },
     "user_tz": 300
    },
    "id": "i6xgp4lsjwfE",
    "outputId": "0e689259-b087-4b97-bd54-c0e0e37f6299",
    "tags": [
     "hide-output"
    ]
   },
   "outputs": [
    {
     "name": "stdout",
     "output_type": "stream",
     "text": [
      "Help on function argmax in module numpy:\n",
      "\n",
      "argmax(a, axis=None, out=None)\n",
      "    Returns the indices of the maximum values along an axis.\n",
      "    \n",
      "    Parameters\n",
      "    ----------\n",
      "    a : array_like\n",
      "        Input array.\n",
      "    axis : int, optional\n",
      "        By default, the index is into the flattened array, otherwise\n",
      "        along the specified axis.\n",
      "    out : array, optional\n",
      "        If provided, the result will be inserted into this array. It should\n",
      "        be of the appropriate shape and dtype.\n",
      "    \n",
      "    Returns\n",
      "    -------\n",
      "    index_array : ndarray of ints\n",
      "        Array of indices into the array. It has the same shape as `a.shape`\n",
      "        with the dimension along `axis` removed.\n",
      "    \n",
      "    See Also\n",
      "    --------\n",
      "    ndarray.argmax, argmin\n",
      "    amax : The maximum value along a given axis.\n",
      "    unravel_index : Convert a flat index into an index tuple.\n",
      "    take_along_axis : Apply ``np.expand_dims(index_array, axis)``\n",
      "                      from argmax to an array as if by calling max.\n",
      "    \n",
      "    Notes\n",
      "    -----\n",
      "    In case of multiple occurrences of the maximum values, the indices\n",
      "    corresponding to the first occurrence are returned.\n",
      "    \n",
      "    Examples\n",
      "    --------\n",
      "    >>> a = np.arange(6).reshape(2,3) + 10\n",
      "    >>> a\n",
      "    array([[10, 11, 12],\n",
      "           [13, 14, 15]])\n",
      "    >>> np.argmax(a)\n",
      "    5\n",
      "    >>> np.argmax(a, axis=0)\n",
      "    array([1, 1, 1])\n",
      "    >>> np.argmax(a, axis=1)\n",
      "    array([2, 2])\n",
      "    \n",
      "    Indexes of the maximal elements of a N-dimensional array:\n",
      "    \n",
      "    >>> ind = np.unravel_index(np.argmax(a, axis=None), a.shape)\n",
      "    >>> ind\n",
      "    (1, 2)\n",
      "    >>> a[ind]\n",
      "    15\n",
      "    \n",
      "    >>> b = np.arange(6)\n",
      "    >>> b[1] = 5\n",
      "    >>> b\n",
      "    array([0, 5, 2, 3, 4, 5])\n",
      "    >>> np.argmax(b)  # Only the first occurrence is returned.\n",
      "    1\n",
      "    \n",
      "    >>> x = np.array([[4,2,3], [1,0,3]])\n",
      "    >>> index_array = np.argmax(x, axis=-1)\n",
      "    >>> # Same as np.max(x, axis=-1, keepdims=True)\n",
      "    >>> np.take_along_axis(x, np.expand_dims(index_array, axis=-1), axis=-1)\n",
      "    array([[4],\n",
      "           [3]])\n",
      "    >>> # Same as np.max(x, axis=-1)\n",
      "    >>> np.take_along_axis(x, np.expand_dims(index_array, axis=-1), axis=-1).squeeze(axis=-1)\n",
      "    array([4, 3])\n",
      "\n"
     ]
    }
   ],
   "source": [
    "help(np.argmax)"
   ]
  },
  {
   "cell_type": "code",
   "execution_count": 29,
   "metadata": {
    "colab": {
     "base_uri": "https://localhost:8080/",
     "height": 52
    },
    "colab_type": "code",
    "executionInfo": {
     "elapsed": 386,
     "status": "ok",
     "timestamp": 1549553557215,
     "user": {
      "displayName": "Alexander Dowling",
      "photoUrl": "https://lh3.googleusercontent.com/-LChdQ2m5OQE/AAAAAAAAAAI/AAAAAAAAAA0/JeXJe4vQJ7M/s64/photo.jpg",
      "userId": "00988067626794866502"
     },
     "user_tz": 300
    },
    "id": "Ev_5ICuij6C9",
    "outputId": "1b42ef63-c921-4527-853f-2449c2997443"
   },
   "outputs": [
    {
     "name": "stdout",
     "output_type": "stream",
     "text": [
      "a =  [1, 4, 2, 3]\n",
      "argmax =  1\n"
     ]
    }
   ],
   "source": [
    "# let's test argmax\n",
    "a = [1, 4, 2, 3]\n",
    "print(\"a = \",a)\n",
    "print(\"argmax = \",np.argmax(a)) # remember, base-0 counting"
   ]
  },
  {
   "cell_type": "markdown",
   "metadata": {
    "colab_type": "text",
    "id": "-SLqj-8bjWBQ"
   },
   "source": [
    "### Put it All Together"
   ]
  },
  {
   "cell_type": "markdown",
   "metadata": {
    "colab_type": "text",
    "id": "qPpNAy8pjWBQ"
   },
   "source": [
    "Now it's time to put this all together in a new version of Gauss elimination. Here are the main steps:\n",
    "* Assembles augmented matrix\n",
    "* Identifies scale factors\n",
    "* Performs Gaussian elimination (row reduction):\n",
    "  * Swaps rows if needed\n",
    "  * Performs elimination\n",
    "* Calls backsolve\n",
    "\n",
    "We will use this in place of pseudocode this time. We already have code that does each step.\n"
   ]
  },
  {
   "cell_type": "markdown",
   "metadata": {},
   "source": [
    "<div style=\"background-color: rgba(0,0,255,0.05) ; padding: 10px; border: 1px solid darkblue;\"> \n",
    "<b>Class Activity</b>: Spend 5 minutes discussing the code below with a partner. Write down at least 1 question to ask the class.\n",
    "</div>"
   ]
  },
  {
   "cell_type": "code",
   "execution_count": 30,
   "metadata": {
    "colab": {},
    "colab_type": "code",
    "id": "w_EYcPuzjWBR",
    "tags": []
   },
   "outputs": [],
   "source": [
    "def GaussElimPivotSolve(A,b,LOUD=False):\n",
    "    \"\"\"create a Gaussian elimination with pivoting matrix for a system\n",
    "\n",
    "    Args:\n",
    "        A: N by N array\n",
    "        b: array of length N\n",
    "    Returns:\n",
    "        solution vector in the original order\n",
    "    \"\"\"\n",
    "    \n",
    "    # checks dimensions\n",
    "    [Nrow, Ncol] = A.shape\n",
    "    assert Nrow == Ncol\n",
    "    N = Nrow\n",
    "    \n",
    "    \n",
    "    #create augmented matrix\n",
    "    aug_matrix = np.zeros((N,N+1))\n",
    "    aug_matrix[0:N,0:N] = A\n",
    "    aug_matrix[:,N] = b\n",
    "    #augmented matrix is created\n",
    "    \n",
    "    #create scale factors \n",
    "    s = np.zeros(N)\n",
    "    count = 0\n",
    "    for row in aug_matrix[:,0:N]: #don't include b\n",
    "        s[count] = np.max(np.fabs(row))\n",
    "        count += 1\n",
    "  \n",
    "    # print diagnostics if requested\n",
    "    if LOUD:\n",
    "        print(\"s =\",s)\n",
    "        print(\"Original Augmented Matrix is\\n\",aug_matrix)\n",
    "    \n",
    "    #perform elimination\n",
    "    for column in range(0,N):\n",
    "        \n",
    "        ## swap rows if needed\n",
    "        # find largest position\n",
    "        largest_pos = (np.argmax(np.fabs(aug_matrix[column:N,column]/\n",
    "                                         s[column:N])) + column)\n",
    "        \n",
    "        # check if current column is largest position\n",
    "        if (largest_pos != column):\n",
    "            # if not, swap rows\n",
    "            if (LOUD):\n",
    "                print(\"Swapping row\",column,\"with row\",largest_pos)\n",
    "                print(\"Pre swap\\n\",aug_matrix)\n",
    "            swap_rows(aug_matrix,column,largest_pos)\n",
    "            \n",
    "            #re-order s\n",
    "            tmp = s[column]\n",
    "            s[column] = s[largest_pos]\n",
    "            s[largest_pos] = tmp\n",
    "            if (LOUD):\n",
    "                print(\"A =\\n\",aug_matrix)\n",
    "                print(\"new_s =\\n\", s)\n",
    "        \n",
    "        #finish off the row\n",
    "        for row in range(column+1,N):\n",
    "            mod_row = aug_matrix[row,:]\n",
    "            mod_row = mod_row - mod_row[column]/aug_matrix[column,column]*aug_matrix[column,:]\n",
    "            aug_matrix[row] = mod_row\n",
    "    \n",
    "    #now back solve\n",
    "    if LOUD:\n",
    "        print(\"Final aug_matrix is\\n\",aug_matrix)\n",
    "    x = BackSub(aug_matrix)\n",
    "    return x"
   ]
  },
  {
   "cell_type": "markdown",
   "metadata": {
    "colab_type": "text",
    "id": "2ovsCIgjjWBT"
   },
   "source": [
    "### Unit Test: Motivating Example"
   ]
  },
  {
   "cell_type": "code",
   "execution_count": 31,
   "metadata": {
    "colab": {
     "base_uri": "https://localhost:8080/",
     "height": 316
    },
    "colab_type": "code",
    "executionInfo": {
     "elapsed": 435,
     "status": "ok",
     "timestamp": 1549553849501,
     "user": {
      "displayName": "Alexander Dowling",
      "photoUrl": "https://lh3.googleusercontent.com/-LChdQ2m5OQE/AAAAAAAAAAI/AAAAAAAAAA0/JeXJe4vQJ7M/s64/photo.jpg",
      "userId": "00988067626794866502"
     },
     "user_tz": 300
    },
    "id": "-EcwxwkNjWBT",
    "outputId": "a20296b4-ac19-4774-ea03-e4042a58440f"
   },
   "outputs": [
    {
     "name": "stdout",
     "output_type": "stream",
     "text": [
      "A = \n",
      " [[ 3  2  1]\n",
      " [-1  4  5]\n",
      " [ 2 -8 10]]\n",
      "b = \n",
      " [[6 8 4]]\n",
      "s = [ 3.  5. 10.]\n",
      "Original Augmented Matrix is\n",
      " [[ 3.  2.  1.  6.]\n",
      " [-1.  4.  5.  8.]\n",
      " [ 2. -8. 10.  4.]]\n",
      "Final aug_matrix is\n",
      " [[ 3.          2.          1.          6.        ]\n",
      " [ 0.          4.66666667  5.33333333 10.        ]\n",
      " [ 0.          0.         20.         20.        ]]\n",
      "The solution is [1. 1. 1.]\n",
      "The residual (errors) are [[0. 0. 0.]]\n"
     ]
    }
   ],
   "source": [
    "print(\"A = \\n\",A33)\n",
    "print(\"b = \\n\",b3)\n",
    "\n",
    "x = GaussElimPivotSolve(A33,b3,LOUD=True)\n",
    "print(\"The solution is\",x)\n",
    "print(\"The residual (errors) are\",np.dot(A33,x)-b3)"
   ]
  },
  {
   "cell_type": "markdown",
   "metadata": {
    "colab_type": "text",
    "id": "pIKkokazjWBW"
   },
   "source": [
    "Success, but not that impressive. Vanilla Gauss elimination also worked here. Pivoting was never used."
   ]
  },
  {
   "cell_type": "markdown",
   "metadata": {
    "colab_type": "text",
    "id": "0xWrxvPajWBZ"
   },
   "source": [
    "### Unit Test: Troublesome System"
   ]
  },
  {
   "cell_type": "markdown",
   "metadata": {
    "colab_type": "text",
    "id": "ipTMaFHXjWBa"
   },
   "source": [
    "Now we can try this on the systems that didn't work so well before:"
   ]
  },
  {
   "cell_type": "code",
   "execution_count": 32,
   "metadata": {
    "colab": {
     "base_uri": "https://localhost:8080/",
     "height": 615
    },
    "colab_type": "code",
    "executionInfo": {
     "elapsed": 376,
     "status": "ok",
     "timestamp": 1549553909427,
     "user": {
      "displayName": "Alexander Dowling",
      "photoUrl": "https://lh3.googleusercontent.com/-LChdQ2m5OQE/AAAAAAAAAAI/AAAAAAAAAA0/JeXJe4vQJ7M/s64/photo.jpg",
      "userId": "00988067626794866502"
     },
     "user_tz": 300
    },
    "id": "gPRpPVK1jWBa",
    "outputId": "57019c88-6b6d-40fc-8d2e-c914451a1aa1"
   },
   "outputs": [
    {
     "name": "stdout",
     "output_type": "stream",
     "text": [
      "A =\n",
      " [[ 1.e-14 -1.e+00  1.e+00]\n",
      " [-1.e+00  2.e+00 -1.e+00]\n",
      " [ 2.e+00 -1.e+00  0.e+00]]\n",
      "b = [0. 0. 1.]\n",
      "s = [1. 2. 2.]\n",
      "Original Augmented Matrix is\n",
      " [[ 1.e-14 -1.e+00  1.e+00  0.e+00]\n",
      " [-1.e+00  2.e+00 -1.e+00  0.e+00]\n",
      " [ 2.e+00 -1.e+00  0.e+00  1.e+00]]\n",
      "Swapping row 0 with row 2\n",
      "Pre swap\n",
      " [[ 1.e-14 -1.e+00  1.e+00  0.e+00]\n",
      " [-1.e+00  2.e+00 -1.e+00  0.e+00]\n",
      " [ 2.e+00 -1.e+00  0.e+00  1.e+00]]\n",
      "A =\n",
      " [[ 2.e+00 -1.e+00  0.e+00  1.e+00]\n",
      " [-1.e+00  2.e+00 -1.e+00  0.e+00]\n",
      " [ 1.e-14 -1.e+00  1.e+00  0.e+00]]\n",
      "new_s =\n",
      " [2. 2. 1.]\n",
      "Swapping row 1 with row 2\n",
      "Pre swap\n",
      " [[ 2.0e+00 -1.0e+00  0.0e+00  1.0e+00]\n",
      " [ 0.0e+00  1.5e+00 -1.0e+00  5.0e-01]\n",
      " [ 0.0e+00 -1.0e+00  1.0e+00 -5.0e-15]]\n",
      "A =\n",
      " [[ 2.0e+00 -1.0e+00  0.0e+00  1.0e+00]\n",
      " [ 0.0e+00 -1.0e+00  1.0e+00 -5.0e-15]\n",
      " [ 0.0e+00  1.5e+00 -1.0e+00  5.0e-01]]\n",
      "new_s =\n",
      " [2. 1. 2.]\n",
      "Final aug_matrix is\n",
      " [[ 2.e+00 -1.e+00  0.e+00  1.e+00]\n",
      " [ 0.e+00 -1.e+00  1.e+00 -5.e-15]\n",
      " [ 0.e+00  0.e+00  5.e-01  5.e-01]]\n",
      "x = [1. 1. 1.]\n",
      "The residual (errors) are [ 0.00000000e+00 -1.11022302e-16  0.00000000e+00]\n"
     ]
    }
   ],
   "source": [
    "print(\"A =\\n\",A_eps)\n",
    "print(\"b =\",b_eps)\n",
    "x = GaussElimPivotSolve(A_eps,b_eps,LOUD=True)\n",
    "print(\"x =\",x)\n",
    "print(\"The residual (errors) are\",np.dot(A_eps,x)-b_eps)"
   ]
  },
  {
   "cell_type": "markdown",
   "metadata": {
    "colab_type": "text",
    "id": "TH-KccUGjWBd"
   },
   "source": [
    "Huzzah, we arrived at the correct answer. Also, notice how the final augmented matrix is diagonally dominant.  That makes the back-substitution more stable as well."
   ]
  },
  {
   "cell_type": "markdown",
   "metadata": {
    "colab_type": "text",
    "id": "xjqC3XcdjWBd"
   },
   "source": [
    "## Timing"
   ]
  },
  {
   "cell_type": "markdown",
   "metadata": {
    "colab_type": "text",
    "id": "LescpCjRjWBe"
   },
   "source": [
    "If you look in any textbook, you'll see that Gaussian elimination takes $O(n^3)$ operations where $n\\times n$ is the size of the matrix.  The notation $O(n^3)$ means that as the matrix grows, the asymptotic (i.e., $n$ large) growth rate of the number of floating point operations (add, subtract, multiply, and divide are all floating point operations) grows as $n^3$.  Therefore, if we double the size of the matrix, the number of operations goes up by a factor of $2^3=8$.\n",
    "\n",
    "Let's use the time module that python provides to time how long it takes to run our Gaussian elimination code as we increase $n$."
   ]
  },
  {
   "cell_type": "markdown",
   "metadata": {},
   "source": [
    "<div style=\"background-color: rgba(0,0,255,0.05) ; padding: 10px; border: 1px solid darkblue;\"> \n",
    "<b>Class Activity</b>: Run the code below.\n",
    "</div>"
   ]
  },
  {
   "cell_type": "code",
   "execution_count": 33,
   "metadata": {
    "colab": {
     "base_uri": "https://localhost:8080/",
     "height": 283
    },
    "colab_type": "code",
    "executionInfo": {
     "elapsed": 2286,
     "status": "ok",
     "timestamp": 1549554096778,
     "user": {
      "displayName": "Alexander Dowling",
      "photoUrl": "https://lh3.googleusercontent.com/-LChdQ2m5OQE/AAAAAAAAAAI/AAAAAAAAAA0/JeXJe4vQJ7M/s64/photo.jpg",
      "userId": "00988067626794866502"
     },
     "user_tz": 300
    },
    "id": "0I3Y-SrBjWBf",
    "outputId": "6b417afc-dd28-4280-9315-362415a97707"
   },
   "outputs": [
    {
     "data": {
      "image/png": "[encoded data removed]",
      "text/plain": [
       "<Figure size 432x288 with 1 Axes>"
      ]
     },
     "metadata": {
      "needs_background": "light"
     },
     "output_type": "display_data"
    }
   ],
   "source": [
    "import time\n",
    "\n",
    "# Number of times to repeat the test for each size\n",
    "num_tests = 10\n",
    "\n",
    "# Values of N to test\n",
    "N = 2**np.arange(num_tests)\n",
    "\n",
    "# Store timing results\n",
    "times = np.zeros(num_tests)\n",
    "\n",
    "# Loop over tests\n",
    "for test in range(1,num_tests):\n",
    "    # generate random linear system\n",
    "    A = np.random.rand(N[test],N[test])\n",
    "    b = np.dot(A,np.ones(N[test]))\n",
    "    x = np.zeros(N[test])\n",
    "    \n",
    "    # start timer\n",
    "    start = time.perf_counter()\n",
    "    \n",
    "    # run Gaussian elimination\n",
    "    aug = GaussElim(A,b)\n",
    "    x = BackSub(aug)\n",
    "    \n",
    "    # end time\n",
    "    end = time.perf_counter()\n",
    "    \n",
    "    # store time result\n",
    "    times[test] = end-start\n",
    "    \n",
    "# create log-log plot\n",
    "plt.loglog(N,times,'o-',label=\"experiment\")\n",
    "\n",
    "#make a comparison line with slope 2^3\n",
    "y_comp = times.copy()/4\n",
    "for comp_place in range(num_tests-1,0,-1):\n",
    "    #because x goes up by factor 2 each time, time should go up by 8 \n",
    "    y_comp[comp_place -1] = np.exp(np.log(y_comp[test])-3*(np.log(N[test])-np.log(N[comp_place-1])))\n",
    "plt.loglog(N[4:num_tests],y_comp[4:num_tests],'r',linewidth=4,label=\"$O(n^3)$\")\n",
    "\n",
    "#make a comparison line with slope 2^2\n",
    "y_comp = times.copy()*4\n",
    "for comp_place in range(num_tests-1,0,-1):\n",
    "    y_comp[comp_place -1] = np.exp(np.log(y_comp[test])-2*(np.log(N[test])-np.log(N[comp_place-1])))\n",
    "plt.loglog(N[4:num_tests],y_comp[4:num_tests],'g--',linewidth=4,label=\"$O(n^2)$\")\n",
    "\n",
    "# add labels and legend\n",
    "plt.xlabel(\"Number of Equations\")\n",
    "plt.ylabel(\"Seconds to complete solve\")\n",
    "plt.legend()\n",
    "plt.show()"
   ]
  },
  {
   "cell_type": "markdown",
   "metadata": {
    "colab_type": "text",
    "id": "wgpyCuKYjWBh"
   },
   "source": [
    "In this figure the red line is a slope of 3 on a log-log scale (which corresponds time growing as the number of equations to the third power).  If the time to solve a system was consistent with the theory, then these dots would be parallel to the red line.  That assumes that the time it takes to execute the code is linearly related to the number of floating point operations. \n",
    "The actual slope is closer to 2, the slope of the green dashed line.  This implies that the time to solution is not growing as fast as the theory.  The reason for this is that python (probably numpy) is helping us out and grouping operations together and executing some of them in parallel so that the number of floating point operations is not linearly related to the time."
   ]
  }
 ],
 "metadata": {
  "colab": {
   "name": "L8-Gauss-Elimination.ipynb",
   "provenance": [],
   "version": "0.3.2"
  },
  "kernelspec": {
   "display_name": "Python 3 (ipykernel)",
   "language": "python",
   "name": "python3"
  },
  "language_info": {
   "codemirror_mode": {
    "name": "ipython",
    "version": 3
   },
   "file_extension": ".py",
   "mimetype": "text/x-python",
   "name": "python",
   "nbconvert_exporter": "python",
   "pygments_lexer": "ipython3",
   "version": "3.9.12"
  }
 },
 "nbformat": 4,
 "nbformat_minor": 4
}
