{
 "cells": [
  {
   "cell_type": "markdown",
   "metadata": {
    "colab_type": "text",
    "id": "EFnithZEjWAA"
   },
   "source": [
    "# Class 6: Gaussian Elimination\n",
    "CBE 20258. Numerical and Statistical Analysis. Spring 2020.\n",
    "\n",
    "&#169; University of Notre Dame\n",
    "\n",
    "Note: Gaussian Elimination is also known as **row reduction**."
   ]
  },
  {
   "cell_type": "markdown",
   "metadata": {
    "colab_type": "text",
    "id": "cwS1zdP3jWAB"
   },
   "source": [
    "## Learning Objectives\n",
    "After studying this notebook, completing the activities, and asking questions in class, you should be able to:\n",
    "* Explain the Invertible Matrix Theorem to a classmate.\n",
    "* Perform Gaussian elimination and backward substitution (a.k.a., row reduction) calculations in Python.\n",
    "* For Gaussian elimination with partial pivoting, explain the following:\n",
    "  * Why is it important? What are the benefits?\n",
    "  * How does the algorithm work? What are the basic steps?\n",
    "  * What are the limitations? What cases will partial pivoting not work?\n",
    "* Solve mass balance problems with linear algebra and Gaussian elimination."
   ]
  },
  {
   "cell_type": "code",
   "execution_count": 1,
   "metadata": {
    "tags": []
   },
   "outputs": [],
   "source": [
    "import numpy as np\n",
    "import matplotlib.pyplot as plt\n",
    "#this line is only needed in Jupyter notebooks\n",
    "%matplotlib inline"
   ]
  },
  {
   "cell_type": "markdown",
   "metadata": {
    "colab_type": "text",
    "id": "v7Fr3KLpqA1Y"
   },
   "source": [
    "## Linear Algebra: Invertible Matrix Theorem\n",
    "\n",
    "Please review **The Invertible Matrix Theorem** in your linear algebra textbook (by Lay et al).\n",
    "\n",
    "To paraphrase, $ A $ is a square $n \\times n$ matrix. The following statements are equivalent (all true or all false):\n",
    "* $A$ is invertible\n",
    "* $A$ is row equivalent to the $n \\times n$ identify matrix\n",
    "* $A$ has $n$ pivot positions\n",
    "* $A x = 0$ has only the trivial solution\n",
    "* The columns of $A$ form a linearly independent set\n",
    "* The system $A x = b$ has at least one solution\n",
    "* Columns of $A$ span $\\mathbb{R}^n$\n",
    "* $A^T$ is invertible\n",
    "* The rank of $A$ is $n$\n",
    "* The determinant of $A$ is not zero\n"
   ]
  },
  {
   "cell_type": "markdown",
   "metadata": {
    "colab_type": "text",
    "id": "KEMPNG_IjWAC",
    "tags": []
   },
   "source": [
    "## Motivating Example and Gaussian Elimination"
   ]
  },
  {
   "cell_type": "markdown",
   "metadata": {
    "colab_type": "text",
    "id": "zAAw5EbZjWAC"
   },
   "source": [
    "We want to solve the following system:\n",
    "\n",
    "$$3 x_1 + 2 x_2 + x_3 = 6$$\n",
    "$$-x_1 + 4 x_2 + 5x_3 = 8$$\n",
    "$$2x_1 -8 x_2 + 10 x_3 = 4$$\n",
    "\n",
    "In matrix form this looks like\n",
    "\n",
    "$$\\underbrace{\\begin{pmatrix} 3 & 2 & 1\\\\ -1 & 4 & 5\\\\ 2& -8 & 10\\end{pmatrix}}_{\\mathbf{A}} ~\n",
    "\\underbrace{\\begin{pmatrix} x_1\\\\x_2\\\\x_3\\end{pmatrix}}_{\\mathbf{x}} = \\underbrace{\\begin{pmatrix}6\\\\8\\\\4\\end{pmatrix}}_{\\mathbf{b}}\n",
    "$$\n",
    "\n",
    "Another way to write this is a notational shorthand called an **augmented matrix**, where we put the righthand side into the matrix:\n",
    "\n",
    "$$\n",
    "\\left(\\begin{array}{ccc|c}   3 & 2 & 1 &6\\\\ -1 & 4 & 5&8\\\\ 2& -8 & 10&4\\end{array}\\right)\n",
    "$$"
   ]
  },
  {
   "cell_type": "markdown",
   "metadata": {
    "colab_type": "text",
    "id": "WBycB5tdjWAD"
   },
   "source": [
    "How would you solve this? **Gaussian elimination** (a.k.a. row reduction), covered in linear algebra, is the way to go."
   ]
  },
  {
   "cell_type": "markdown",
   "metadata": {},
   "source": [
    "<div style=\"background-color: rgba(0,255,0,0.05) ; padding: 10px; border: 1px solid darkgreen;\"> \n",
    "<b>Home Activity</b>: Perform Gaussian elimination with pencil and paper to convert the above matrix into row echelon form (e.g., all zeros below the diagonal).\n",
    "</div>"
   ]
  },
  {
   "cell_type": "markdown",
   "metadata": {},
   "source": [
    "Now that you have solved the system of equations \"by hand\", we will walk through the step in Python. First, let's assemble to augmented matrix."
   ]
  },
  {
   "cell_type": "code",
   "execution_count": 2,
   "metadata": {
    "colab": {
     "base_uri": "https://localhost:8080/",
     "height": 69
    },
    "colab_type": "code",
    "executionInfo": {
     "elapsed": 539,
     "status": "ok",
     "timestamp": 1549550488595,
     "user": {
      "displayName": "Alexander Dowling",
      "photoUrl": "https://lh3.googleusercontent.com/-LChdQ2m5OQE/AAAAAAAAAAI/AAAAAAAAAA0/JeXJe4vQJ7M/s64/photo.jpg",
      "userId": "00988067626794866502"
     },
     "user_tz": 300
    },
    "id": "d76Maac-jWAE",
    "outputId": "7c3707c0-a1dc-40b1-fdc1-72c2223f84fe"
   },
   "outputs": [
    {
     "name": "stdout",
     "output_type": "stream",
     "text": [
      "[[ 3.  2.  1.  6.]\n",
      " [-1.  4.  5.  8.]\n",
      " [ 2. -8. 10.  4.]]\n"
     ]
    }
   ],
   "source": [
    "# Declare matrix\n",
    "A33 = np.matrix([(3,2,1),(-1,4,5),(2,-8,10)])\n",
    "b3 = np.matrix([6,8,4])\n",
    "\n",
    "# Assemble augmented matrix\n",
    "# Study question: Why is it important to use .copy() here?\n",
    "aug_matrix = np.zeros((3,4))\n",
    "aug_matrix[0:3,0:3] = A33.copy() \n",
    "aug_matrix[:,3] = b3.copy() # Why do we access column 4 with index 3?\n",
    "\n",
    "print(aug_matrix)"
   ]
  },
  {
   "cell_type": "markdown",
   "metadata": {},
   "source": [
    "<div style=\"background-color: rgba(0,255,0,0.05) ; padding: 10px; border: 1px solid darkgreen;\">  <b>Home Activity</b>: Why it is important to use <tt>.copy()</tt> in the above code? Record your multiple choice answer (1, 2, or 3) in <tt>ans_6b</tt> below.\n",
    "</div>"
   ]
  },
  {
   "cell_type": "markdown",
   "metadata": {},
   "source": [
    "Multiple choice options:\n",
    "1. Nice try with the trick question! We actually do not need to use `.copy()`\n",
    "2. By default, `=` without `.copy()` creates a \"pointer\" to the original numpy matrix. Thus when we change `aug_matrix`, we would also change `A33` and/or `b3`.\n",
    "3. Neither of these answers are correct."
   ]
  },
  {
   "cell_type": "code",
   "execution_count": 3,
   "metadata": {
    "tags": []
   },
   "outputs": [],
   "source": [
    "### BEGIN SOLUTION\n",
    "ans_6b = 2\n",
    "### END SOLUTION"
   ]
  },
  {
   "cell_type": "code",
   "execution_count": 4,
   "metadata": {
    "nbgrader": {
     "grade": true,
     "grade_id": "6b_copy",
     "locked": true,
     "points": "0.1",
     "solution": false
    },
    "tags": []
   },
   "outputs": [],
   "source": [
    "### BEGIN HIDDEN TESTS\n",
    "ans_6b_copy_secret = 2\n",
    "\n",
    "assert ans_6b == ans_6b_copy_secret, \"Check your notes from Class 3\"\n",
    "### END HIDDEN TESTS"
   ]
  },
  {
   "cell_type": "markdown",
   "metadata": {
    "colab_type": "text",
    "id": "RkC60_ZIjWAJ",
    "tags": []
   },
   "source": [
    "### Gaussian Elimination: Take Care of First Column\n",
    "\n",
    "We will now walk through the Guassian elimination steps in Python. These steps should match your paper and pencil work from a previous home activity.\n",
    "\n",
    "**Step 1**: Eliminate the **-1** in the first column, second row.\n",
    "\n",
    "Multiple first row by (1/3) and add to second row:"
   ]
  },
  {
   "cell_type": "code",
   "execution_count": 5,
   "metadata": {
    "colab": {
     "base_uri": "https://localhost:8080/",
     "height": 87
    },
    "colab_type": "code",
    "executionInfo": {
     "elapsed": 238,
     "status": "ok",
     "timestamp": 1549550623220,
     "user": {
      "displayName": "Alexander Dowling",
      "photoUrl": "https://lh3.googleusercontent.com/-LChdQ2m5OQE/AAAAAAAAAAI/AAAAAAAAAA0/JeXJe4vQJ7M/s64/photo.jpg",
      "userId": "00988067626794866502"
     },
     "user_tz": 300
    },
    "id": "9iorzMZUjWAJ",
    "outputId": "c519b4e6-91a3-442a-b705-832aa0c73ee6"
   },
   "outputs": [
    {
     "name": "stdout",
     "output_type": "stream",
     "text": [
      "New matrix =\n",
      " [[ 3.          2.          1.          6.        ]\n",
      " [ 0.          4.66666667  5.33333333 10.        ]\n",
      " [ 2.         -8.         10.          4.        ]]\n"
     ]
    }
   ],
   "source": [
    "#add row 2 to 1/3 times row 1\n",
    "row13 = aug_matrix[0]/3 #row1 * 1/3\n",
    "new_row2 = aug_matrix[1] + row13 #add 1/3 row 1 to row 2\n",
    "#replace row 2\n",
    "aug_matrix[1,:] = new_row2\n",
    "print(\"New matrix =\\n\",aug_matrix)"
   ]
  },
  {
   "cell_type": "markdown",
   "metadata": {
    "colab_type": "text",
    "id": "nMHLkUGVjWAM"
   },
   "source": [
    "**Step 2**: Eliminate **2** in first column.\n",
    "\n",
    "Multiply first row by (-2/3) and add to third row:"
   ]
  },
  {
   "cell_type": "code",
   "execution_count": 6,
   "metadata": {
    "colab": {
     "base_uri": "https://localhost:8080/",
     "height": 87
    },
    "colab_type": "code",
    "executionInfo": {
     "elapsed": 246,
     "status": "ok",
     "timestamp": 1549550698622,
     "user": {
      "displayName": "Alexander Dowling",
      "photoUrl": "https://lh3.googleusercontent.com/-LChdQ2m5OQE/AAAAAAAAAAI/AAAAAAAAAA0/JeXJe4vQJ7M/s64/photo.jpg",
      "userId": "00988067626794866502"
     },
     "user_tz": 300
    },
    "id": "yXgefJRyjWAM",
    "outputId": "26c6879b-0b4c-4a97-8fbe-1fe352f7dcaf"
   },
   "outputs": [
    {
     "name": "stdout",
     "output_type": "stream",
     "text": [
      "New matrix =\n",
      " [[ 3.          2.          1.          6.        ]\n",
      " [ 0.          4.66666667  5.33333333 10.        ]\n",
      " [ 0.         -9.33333333  9.33333333  0.        ]]\n"
     ]
    }
   ],
   "source": [
    "#add row 3 to -2/3 times row 1\n",
    "row23 = -2*aug_matrix[0]/3 #row1 * -2/3\n",
    "new_row3 = aug_matrix[2] + row23 #add -2/3 row 1 to row 3\n",
    "#replace row 3\n",
    "aug_matrix[2] = new_row3\n",
    "print(\"New matrix =\\n\",aug_matrix)"
   ]
  },
  {
   "cell_type": "markdown",
   "metadata": {
    "colab_type": "text",
    "id": "h5TlqFkejWAP"
   },
   "source": [
    "### Gaussian Elimination: Take Care of Second Column\n",
    "\n",
    "**Step 3**: Eliminate **-9$\\frac{1}{3}$** from the last row.\n",
    "\n",
    "Multiply row 2 by 9$\\frac{1}{3}$/4$\\frac{2}{3}$ and add to last row:"
   ]
  },
  {
   "cell_type": "code",
   "execution_count": 7,
   "metadata": {
    "colab": {
     "base_uri": "https://localhost:8080/",
     "height": 87
    },
    "colab_type": "code",
    "executionInfo": {
     "elapsed": 235,
     "status": "ok",
     "timestamp": 1549550729440,
     "user": {
      "displayName": "Alexander Dowling",
      "photoUrl": "https://lh3.googleusercontent.com/-LChdQ2m5OQE/AAAAAAAAAAI/AAAAAAAAAA0/JeXJe4vQJ7M/s64/photo.jpg",
      "userId": "00988067626794866502"
     },
     "user_tz": 300
    },
    "id": "SZo_Kjr2jWAP",
    "outputId": "8cad3e6e-8886-4135-e383-5d152b2dc6b9"
   },
   "outputs": [
    {
     "name": "stdout",
     "output_type": "stream",
     "text": [
      "New matrix =\n",
      " [[ 3.          2.          1.          6.        ]\n",
      " [ 0.          4.66666667  5.33333333 10.        ]\n",
      " [ 0.          0.         20.         20.        ]]\n"
     ]
    }
   ],
   "source": [
    "#add row 3 to 9.33333/4.66666 times row 2\n",
    "modrow = (9+1./3)/(4+2./3)*aug_matrix[1] #row2 * (-9+1./3)/(4+2.0/3)\n",
    "new_row3 = aug_matrix[2] + modrow #add -2/3 row 1 to row 3\n",
    "#replace row 3\n",
    "aug_matrix[2] = new_row3.copy()\n",
    "print(\"New matrix =\\n\",aug_matrix)"
   ]
  },
  {
   "cell_type": "markdown",
   "metadata": {
    "colab_type": "text",
    "id": "2BE2e7_zjWAS"
   },
   "source": [
    "Notice that we have manipulated our original system into the equivalent system \n",
    "$$\n",
    "\\left(\\begin{array}{ccc|c}   3 & 2 & 1 &6\\\\ 0 & 4\\frac{2}{3} & 5\\frac{1}{3}& 10\\\\ 0& 0 & 20&20\\end{array}\\right)\n",
    "$$\n",
    "or\n",
    "$$\n",
    "\\left(\\begin{array}{ccc}   3 & 2 & 1 \\\\ 0 & 4\\frac{2}{3} & 5\\frac{1}{3}\\\\ 0& 0 & 20\\end{array}\\right) \\begin{pmatrix}x_1\\\\x_2\\\\x_3\\end{pmatrix} = \n",
    "\\begin{pmatrix} 6\\\\10\\\\20\\end{pmatrix}\n",
    "$$"
   ]
  },
  {
   "cell_type": "markdown",
   "metadata": {
    "colab_type": "text",
    "id": "jgQWKbaNjWAS"
   },
   "source": [
    "## Motivating Example and Back Substitution\n",
    "\n",
    "We can easily solve this via **back substitution**:\n",
    "1. Take the last equation and solve for $x_3$.\n",
    "2. Plug the value for $x_3$ into the second equation, solve for $x_2$.\n",
    "3. Plug both into the first equation and solve for $x_1$.\n"
   ]
  },
  {
   "cell_type": "markdown",
   "metadata": {},
   "source": [
    "<div style=\"background-color: rgba(0,255,0,0.05) ; padding: 10px; border: 1px solid darkgreen;\"> \n",
    "<b>Home Activity</b>: Using the steps above, solve for $x_1$, $x_2$, and $x_3$ with pencil and paper.\n",
    "</div>"
   ]
  },
  {
   "cell_type": "markdown",
   "metadata": {},
   "source": [
    "We will now perform backward substitution in Python."
   ]
  },
  {
   "cell_type": "code",
   "execution_count": 8,
   "metadata": {
    "colab": {
     "base_uri": "https://localhost:8080/",
     "height": 69
    },
    "colab_type": "code",
    "executionInfo": {
     "elapsed": 249,
     "status": "ok",
     "timestamp": 1549550838609,
     "user": {
      "displayName": "Alexander Dowling",
      "photoUrl": "https://lh3.googleusercontent.com/-LChdQ2m5OQE/AAAAAAAAAAI/AAAAAAAAAA0/JeXJe4vQJ7M/s64/photo.jpg",
      "userId": "00988067626794866502"
     },
     "user_tz": 300
    },
    "id": "m0en677vjWAT",
    "outputId": "21b4c731-59df-4e7c-da51-5c46fdcd8421"
   },
   "outputs": [
    {
     "name": "stdout",
     "output_type": "stream",
     "text": [
      "x3 = 1.0\n",
      "x2 = 1.0\n",
      "x1 = 1.0\n"
     ]
    }
   ],
   "source": [
    "#backsubstitution\n",
    "x3 = aug_matrix[2,3]/aug_matrix[2,2] #solve for x3\n",
    "print(\"x3 =\",x3)\n",
    "#now solve for x2\n",
    "x2 = (aug_matrix[1,3] - x3*aug_matrix[1,2])/aug_matrix[1,1] \n",
    "print(\"x2 =\",x2)\n",
    "#now solve for x1\n",
    "x1 = (aug_matrix[0,3] - x3*aug_matrix[0,2]- x2*aug_matrix[0,1])/aug_matrix[0,0] \n",
    "print(\"x1 =\",x1)"
   ]
  },
  {
   "cell_type": "markdown",
   "metadata": {
    "colab_type": "text",
    "id": "32Xf87IdjWAW"
   },
   "source": [
    "The solution we get is $$x_1 = 1,$$ $$x_2 = 1,$$ $$x_3 = 1.$$ We can check this by plugging it in."
   ]
  },
  {
   "cell_type": "markdown",
   "metadata": {
    "colab_type": "text",
    "id": "5mIWpz-TjWAX"
   },
   "source": [
    "### Verify Solution\n",
    "\n",
    "We can verify our solution is correct by computing $\\mathbf{A} \\cdot \\mathbf{x}$ and comparing to $\\mathbf{b}$."
   ]
  },
  {
   "cell_type": "markdown",
   "metadata": {},
   "source": [
    "<div style=\"background-color: rgba(0,255,0,0.05) ; padding: 10px; border: 1px solid darkgreen;\"> \n",
    "<b>Home Activity</b>: Perform this matrix multiplication with pencil and paper. (This is good practice, especially if you took linear algebra a few semesters ago.) Verify your pencil and paper solution for $x$ is correct.\n",
    "</div>"
   ]
  },
  {
   "cell_type": "markdown",
   "metadata": {},
   "source": [
    "We can easily perform this matrix multiplication by Python too."
   ]
  },
  {
   "cell_type": "code",
   "execution_count": 9,
   "metadata": {
    "colab": {
     "base_uri": "https://localhost:8080/",
     "height": 35
    },
    "colab_type": "code",
    "executionInfo": {
     "elapsed": 226,
     "status": "ok",
     "timestamp": 1549550875401,
     "user": {
      "displayName": "Alexander Dowling",
      "photoUrl": "https://lh3.googleusercontent.com/-LChdQ2m5OQE/AAAAAAAAAAI/AAAAAAAAAA0/JeXJe4vQJ7M/s64/photo.jpg",
      "userId": "00988067626794866502"
     },
     "user_tz": 300
    },
    "id": "PkzDYPWcjWAX",
    "outputId": "5fa5260d-8ff8-4d77-cd79-f00d33f93c12"
   },
   "outputs": [
    {
     "name": "stdout",
     "output_type": "stream",
     "text": [
      "[[6 8 4]] - [[6 8 4]] = [[0 0 0]]\n"
     ]
    }
   ],
   "source": [
    "x = np.array([1,1,1])\n",
    "print(np.dot(A33,x),\"-\",b3,\"=\",np.dot(A33,x)-b3)"
   ]
  },
  {
   "cell_type": "markdown",
   "metadata": {
    "colab_type": "text",
    "id": "ByoypUDPjWAa"
   },
   "source": [
    "Perfect."
   ]
  },
  {
   "cell_type": "markdown",
   "metadata": {},
   "source": [
    "<div style=\"background-color: rgba(0,255,0,0.05) ; padding: 10px; border: 1px solid darkgreen;\"> \n",
    "<b>Home Activity</b>: Compute $\\mathbf{A} \\cdot \\mathbf{x}$ in Python using alternate syntax, i.e., not <tt>.dot</tt>, for matrix multiplication.\n",
    "</div>"
   ]
  },
  {
   "cell_type": "code",
   "execution_count": 10,
   "metadata": {
    "tags": []
   },
   "outputs": [
    {
     "name": "stdout",
     "output_type": "stream",
     "text": [
      "[[6 8 4]]\n"
     ]
    }
   ],
   "source": [
    "### BEGIN SOLUTION\n",
    "x = np.array([1,1,1])\n",
    "print(A33 @ x)\n",
    "### END SOLUTION"
   ]
  },
  {
   "cell_type": "markdown",
   "metadata": {
    "colab_type": "text",
    "id": "BuQD_VEGjWAb"
   },
   "source": [
    "## Generalized Gaussian Elimination\n",
    "\n",
    "Now we will generalize our strategy to any $N \\times N$ linear system.\n"
   ]
  },
  {
   "cell_type": "markdown",
   "metadata": {
    "colab_type": "text",
    "id": "d5fdFIXYjWAb"
   },
   "source": [
    "### Pseudocode"
   ]
  },
  {
   "cell_type": "markdown",
   "metadata": {},
   "source": [
    "<div style=\"background-color: rgba(0,255,0,0.05) ; padding: 10px; border: 1px solid darkgreen;\"> \n",
    "<b>Home Activity</b>: Write pseudocode for a function that performs Gaussian elimination on two inputs: matrix $\\mathbf{A}$ and vector $\\mathbf{b}$.\n",
    "</div>"
   ]
  },
  {
   "cell_type": "markdown",
   "metadata": {
    "colab_type": "text",
    "id": "q3urRD0AjWAc"
   },
   "source": [
    "### Python Implementation"
   ]
  },
  {
   "cell_type": "markdown",
   "metadata": {},
   "source": [
    "<div style=\"background-color: rgba(0,0,255,0.05) ; padding: 10px; border: 1px solid darkblue;\"> \n",
    "<b>Class Activity</b>: Working with a partner, compare your pseudocode to the function below. Write down one observation or question to share with the class.</div>"
   ]
  },
  {
   "cell_type": "markdown",
   "metadata": {},
   "source": [
    "Question or observation to share:"
   ]
  },
  {
   "cell_type": "code",
   "execution_count": 11,
   "metadata": {
    "colab": {},
    "colab_type": "code",
    "id": "guqGs9nNjWAd",
    "tags": []
   },
   "outputs": [],
   "source": [
    "'''Warning: If you add print statements to the code below (optional), \n",
    "be sure to place them inside \"if LOUD:\" blocks. Otherwise,\n",
    "the timing analysis later in this notebook may crash.'''\n",
    "\n",
    "def GaussElim(A,b,LOUD=False):\n",
    "    \"\"\"create a Gaussian elimination matrix for a system\n",
    "\n",
    "    Args:\n",
    "        A: N by N array\n",
    "        b: array of length N\n",
    "    Returns:\n",
    "        augmented matrix ready for back substitution\n",
    "    \"\"\"\n",
    "    # Extract dimensions of A\n",
    "    [Nrow, Ncol] = A.shape\n",
    "    \n",
    "    # Check that A is square\n",
    "    assert Nrow == Ncol\n",
    "    \n",
    "    # Check dimensions of b\n",
    "    N = Nrow\n",
    "    assert b.size == N\n",
    "    \n",
    "    # create augmented matrix, just like\n",
    "    # code at the start of motivating example\n",
    "    aug_matrix = np.zeros((N,N+1))\n",
    "    aug_matrix[0:N,0:N] = A.copy()\n",
    "    aug_matrix[:,N] = b.copy()\n",
    "    #augmented matrix is created\n",
    "    \n",
    "    if LOUD:\n",
    "        print(\"Augmented Matrix = \",aug_matrix)\n",
    "\n",
    "    # loop over columns\n",
    "    for column in range(0,N):\n",
    "        \n",
    "        # loop over rows\n",
    "        for row in range(column+1,N):\n",
    "            \n",
    "            # select row to modify\n",
    "            mod_row = aug_matrix[row,:]\n",
    "            \n",
    "            # modify entire row\n",
    "            mod_row -= (mod_row[column]/aug_matrix[column,column]*\n",
    "                        aug_matrix[column,:])\n",
    "\n",
    "            # overwrite row. Is this needed? Why or why not?\n",
    "            aug_matrix[row] = mod_row\n",
    "\n",
    "            \n",
    "        # end loop over rows\n",
    "        \n",
    "    # end loop over columns\n",
    "    \n",
    "    # return augmented matrix\n",
    "    return aug_matrix"
   ]
  },
  {
   "cell_type": "markdown",
   "metadata": {
    "colab_type": "text",
    "id": "N8RC6_1gjWAe"
   },
   "source": [
    "### Unit Test: Motivating Example\n",
    "\n",
    "Immediately after creating our function, we should test it. Let's use the 3x3 motivating example."
   ]
  },
  {
   "cell_type": "code",
   "execution_count": 12,
   "metadata": {
    "colab": {
     "base_uri": "https://localhost:8080/",
     "height": 69
    },
    "colab_type": "code",
    "executionInfo": {
     "elapsed": 212,
     "status": "ok",
     "timestamp": 1549551728444,
     "user": {
      "displayName": "Alexander Dowling",
      "photoUrl": "https://lh3.googleusercontent.com/-LChdQ2m5OQE/AAAAAAAAAAI/AAAAAAAAAA0/JeXJe4vQJ7M/s64/photo.jpg",
      "userId": "00988067626794866502"
     },
     "user_tz": 300
    },
    "id": "XsOmcNNCjWAf",
    "outputId": "3949c166-b510-46d6-a73b-676ef884f575"
   },
   "outputs": [
    {
     "name": "stdout",
     "output_type": "stream",
     "text": [
      "[[ 3.          2.          1.          6.        ]\n",
      " [ 0.          4.66666667  5.33333333 10.        ]\n",
      " [ 0.          0.         20.         20.        ]]\n"
     ]
    }
   ],
   "source": [
    "aug33 = GaussElim(A33,b3)\n",
    "print(aug33)"
   ]
  },
  {
   "cell_type": "markdown",
   "metadata": {
    "colab_type": "text",
    "id": "v_3R8u9tjWAh"
   },
   "source": [
    "Success (after completing the in class activity). We reproduced the same answer as above. Our function passes the unit test!"
   ]
  },
  {
   "cell_type": "markdown",
   "metadata": {
    "colab_type": "text",
    "id": "GqZhNYy6jWAj"
   },
   "source": [
    "## Generalized Back Substitution"
   ]
  },
  {
   "cell_type": "markdown",
   "metadata": {
    "colab_type": "text",
    "id": "z84eLl_njWAj"
   },
   "source": [
    "### Pseudocode"
   ]
  },
  {
   "cell_type": "markdown",
   "metadata": {},
   "source": [
    "<div style=\"background-color: rgba(0,255,0,0.05) ; padding: 10px; border: 1px solid darkgreen;\"> \n",
    "<b>Home Activity</b>: Write pseudocode for a function that takes an augmented matrix as an input, performs back substitution, and returns the solution vector.\n",
    "</div>"
   ]
  },
  {
   "cell_type": "markdown",
   "metadata": {
    "colab_type": "text",
    "id": "v62VKwONjWAj"
   },
   "source": [
    "### Python Implementation"
   ]
  },
  {
   "cell_type": "markdown",
   "metadata": {},
   "source": [
    "Now let's program our back substitution function in Python."
   ]
  },
  {
   "cell_type": "markdown",
   "metadata": {},
   "source": [
    "<div style=\"background-color: rgba(0,0,255,0.05) ; padding: 10px; border: 1px solid darkblue;\"> \n",
    "<b>Class Activity</b>: Working with a partner, compare your pseudocode to the function below. Write down one observation or question to share with the class.</div>"
   ]
  },
  {
   "cell_type": "markdown",
   "metadata": {},
   "source": [
    "Question or observation to share:"
   ]
  },
  {
   "cell_type": "code",
   "execution_count": 13,
   "metadata": {
    "colab": {},
    "colab_type": "code",
    "id": "asbHwWJijWAk",
    "tags": []
   },
   "outputs": [],
   "source": [
    "def BackSub(aug_matrix,z_tol=1E-8):\n",
    "    \"\"\"back substitute a N by N system after Gauss elimination\n",
    "\n",
    "    Args:\n",
    "        aug_matrix: augmented matrix with zeros below the diagonal [numpy 2D array]\n",
    "        z_tol: tolerance for checking for zeros below the diagonal [float]\n",
    "    Returns:\n",
    "        x: length N vector, solution to linear system [numpy 1D array]\n",
    "    \"\"\"\n",
    "    [Nrow, Ncol] = aug_matrix.shape\n",
    "    try:\n",
    "        # check the dimensions\n",
    "        assert Nrow + 1 == Ncol\n",
    "    except AssertionError:\n",
    "        print(\"Dimension checks failed.\")\n",
    "        print(\"Nrow = \",Nrow)\n",
    "        print(\"Ncol = \",Ncol)\n",
    "        raise\n",
    "\n",
    "    assert type(z_tol) is float, \"z_tol must be a float\"\n",
    "        \n",
    "    # check augmented matrix is all zeros below the diagonal\n",
    "    for r in range(Nrow):\n",
    "        for c in range(0,r):\n",
    "            assert np.abs(aug_matrix[r,c]) < z_tol, \"\\nWarning! Nonzero in position \"+str(r)+\",\"+str(c)\n",
    "\n",
    "    # create vector of zeros to store solution\n",
    "    x = np.zeros(Nrow)\n",
    "    \n",
    "    # loop over the rows starting at the bottom\n",
    "    for row in range(Nrow-1,-1,-1):\n",
    "        RHS = aug_matrix[row,Nrow] # far column\n",
    "\n",
    "        # loop over the columns to the right of the diagonal\n",
    "        for column in range(row+1,Nrow):\n",
    "            \n",
    "            # substract, i.e., substitute the already known values\n",
    "            RHS -= x[column]*aug_matrix[row,column]\n",
    "\n",
    "        # compute the element of x corresponding to the current row\n",
    "        x[row] = RHS/aug_matrix[row,row]\n",
    "        \n",
    "    return x"
   ]
  },
  {
   "cell_type": "markdown",
   "metadata": {},
   "source": [
    "Before we finish the function, let's verify the code properly detects nonzeros elements below the diagonal."
   ]
  },
  {
   "cell_type": "code",
   "execution_count": 14,
   "metadata": {},
   "outputs": [
    {
     "name": "stdout",
     "output_type": "stream",
     "text": [
      "[[0.57022872 0.43616188 0.11469262 0.85372635]\n",
      " [0.13031423 0.70713632 0.41402054 0.03439056]\n",
      " [0.66092578 0.65037572 0.19153861 0.76410764]]\n"
     ]
    },
    {
     "ename": "AssertionError",
     "evalue": "\nWarning! Nonzero in position 1,0",
     "output_type": "error",
     "traceback": [
      "\u001b[1;31m---------------------------------------------------------------------------\u001b[0m",
      "\u001b[1;31mAssertionError\u001b[0m                            Traceback (most recent call last)",
      "Input \u001b[1;32mIn [14]\u001b[0m, in \u001b[0;36m<cell line: 5>\u001b[1;34m()\u001b[0m\n\u001b[0;32m      2\u001b[0m not_an_augmented_matrix \u001b[38;5;241m=\u001b[39m np\u001b[38;5;241m.\u001b[39mrandom\u001b[38;5;241m.\u001b[39mrand(\u001b[38;5;241m3\u001b[39m,\u001b[38;5;241m4\u001b[39m)\n\u001b[0;32m      3\u001b[0m \u001b[38;5;28mprint\u001b[39m(not_an_augmented_matrix)\n\u001b[1;32m----> 5\u001b[0m x \u001b[38;5;241m=\u001b[39m \u001b[43mBackSub\u001b[49m\u001b[43m(\u001b[49m\u001b[43mnot_an_augmented_matrix\u001b[49m\u001b[43m)\u001b[49m\n",
      "Input \u001b[1;32mIn [13]\u001b[0m, in \u001b[0;36mBackSub\u001b[1;34m(aug_matrix, z_tol)\u001b[0m\n\u001b[0;32m     23\u001b[0m \u001b[38;5;28;01mfor\u001b[39;00m r \u001b[38;5;129;01min\u001b[39;00m \u001b[38;5;28mrange\u001b[39m(Nrow):\n\u001b[0;32m     24\u001b[0m     \u001b[38;5;28;01mfor\u001b[39;00m c \u001b[38;5;129;01min\u001b[39;00m \u001b[38;5;28mrange\u001b[39m(\u001b[38;5;241m0\u001b[39m,r):\n\u001b[1;32m---> 25\u001b[0m         \u001b[38;5;28;01massert\u001b[39;00m np\u001b[38;5;241m.\u001b[39mabs(aug_matrix[r,c]) \u001b[38;5;241m<\u001b[39m z_tol, \u001b[38;5;124m\"\u001b[39m\u001b[38;5;130;01m\\n\u001b[39;00m\u001b[38;5;124mWarning! Nonzero in position \u001b[39m\u001b[38;5;124m\"\u001b[39m\u001b[38;5;241m+\u001b[39m\u001b[38;5;28mstr\u001b[39m(r)\u001b[38;5;241m+\u001b[39m\u001b[38;5;124m\"\u001b[39m\u001b[38;5;124m,\u001b[39m\u001b[38;5;124m\"\u001b[39m\u001b[38;5;241m+\u001b[39m\u001b[38;5;28mstr\u001b[39m(c)\n\u001b[0;32m     27\u001b[0m \u001b[38;5;66;03m# create vector of zeros to store solution\u001b[39;00m\n\u001b[0;32m     28\u001b[0m x \u001b[38;5;241m=\u001b[39m np\u001b[38;5;241m.\u001b[39mzeros(Nrow)\n",
      "\u001b[1;31mAssertionError\u001b[0m: \nWarning! Nonzero in position 1,0"
     ]
    }
   ],
   "source": [
    "# make a 3x4 matrix filled with random numbers\n",
    "not_an_augmented_matrix = np.random.rand(3,4)\n",
    "print(not_an_augmented_matrix)\n",
    "\n",
    "x = BackSub(not_an_augmented_matrix)"
   ]
  },
  {
   "cell_type": "markdown",
   "metadata": {},
   "source": [
    "We should verify our function gives the same answer as above."
   ]
  },
  {
   "cell_type": "code",
   "execution_count": null,
   "metadata": {
    "colab": {
     "base_uri": "https://localhost:8080/",
     "height": 35
    },
    "colab_type": "code",
    "executionInfo": {
     "elapsed": 219,
     "status": "ok",
     "timestamp": 1549552532317,
     "user": {
      "displayName": "Alexander Dowling",
      "photoUrl": "https://lh3.googleusercontent.com/-LChdQ2m5OQE/AAAAAAAAAAI/AAAAAAAAAA0/JeXJe4vQJ7M/s64/photo.jpg",
      "userId": "00988067626794866502"
     },
     "user_tz": 300
    },
    "id": "qLig4enUjWAo",
    "outputId": "10afa1df-b9ee-4cf0-a005-2e7d54699054"
   },
   "outputs": [],
   "source": [
    "x33 = BackSub(aug33)\n",
    "print(\"The solution is \", x33)"
   ]
  },
  {
   "cell_type": "markdown",
   "metadata": {
    "colab_type": "text",
    "id": "gQmZxn6vjWAs"
   },
   "source": [
    "Success. We reproduced the same answer as above. Our function passes the unit test!"
   ]
  },
  {
   "cell_type": "code",
   "execution_count": null,
   "metadata": {
    "colab": {
     "base_uri": "https://localhost:8080/",
     "height": 69
    },
    "colab_type": "code",
    "executionInfo": {
     "elapsed": 249,
     "status": "ok",
     "timestamp": 1549552571118,
     "user": {
      "displayName": "Alexander Dowling",
      "photoUrl": "https://lh3.googleusercontent.com/-LChdQ2m5OQE/AAAAAAAAAAI/AAAAAAAAAA0/JeXJe4vQJ7M/s64/photo.jpg",
      "userId": "00988067626794866502"
     },
     "user_tz": 300
    },
    "id": "oxNWVmiOh2AX",
    "outputId": "653a975e-fba7-4215-eb7a-f37bc3df3211"
   },
   "outputs": [],
   "source": [
    "print(aug33)"
   ]
  },
  {
   "cell_type": "markdown",
   "metadata": {},
   "source": [
    "Let's take a moment to review how to access elements of a matrix. Predict the output of the three cells below before you execute them."
   ]
  },
  {
   "cell_type": "code",
   "execution_count": null,
   "metadata": {
    "colab": {
     "base_uri": "https://localhost:8080/",
     "height": 35
    },
    "colab_type": "code",
    "executionInfo": {
     "elapsed": 250,
     "status": "ok",
     "timestamp": 1549552587353,
     "user": {
      "displayName": "Alexander Dowling",
      "photoUrl": "https://lh3.googleusercontent.com/-LChdQ2m5OQE/AAAAAAAAAAI/AAAAAAAAAA0/JeXJe4vQJ7M/s64/photo.jpg",
      "userId": "00988067626794866502"
     },
     "user_tz": 300
    },
    "id": "0ZTFPRiAh99r",
    "outputId": "f49fb986-a75c-4413-9eb4-0756ef25883f"
   },
   "outputs": [],
   "source": [
    "aug33[1] # return the 2nd row"
   ]
  },
  {
   "cell_type": "code",
   "execution_count": null,
   "metadata": {
    "colab": {
     "base_uri": "https://localhost:8080/",
     "height": 35
    },
    "colab_type": "code",
    "executionInfo": {
     "elapsed": 364,
     "status": "ok",
     "timestamp": 1549552638921,
     "user": {
      "displayName": "Alexander Dowling",
      "photoUrl": "https://lh3.googleusercontent.com/-LChdQ2m5OQE/AAAAAAAAAAI/AAAAAAAAAA0/JeXJe4vQJ7M/s64/photo.jpg",
      "userId": "00988067626794866502"
     },
     "user_tz": 300
    },
    "id": "CUTSUVT-iG-_",
    "outputId": "8b0b52d2-5154-4c1c-bcb0-4292c0e1a116"
   },
   "outputs": [],
   "source": [
    "aug33[1][2] # return the element from the 2nd row and 3rd column"
   ]
  },
  {
   "cell_type": "code",
   "execution_count": null,
   "metadata": {
    "colab": {
     "base_uri": "https://localhost:8080/",
     "height": 35
    },
    "colab_type": "code",
    "executionInfo": {
     "elapsed": 290,
     "status": "ok",
     "timestamp": 1549552702442,
     "user": {
      "displayName": "Alexander Dowling",
      "photoUrl": "https://lh3.googleusercontent.com/-LChdQ2m5OQE/AAAAAAAAAAI/AAAAAAAAAA0/JeXJe4vQJ7M/s64/photo.jpg",
      "userId": "00988067626794866502"
     },
     "user_tz": 300
    },
    "id": "71XAoGPRiaof",
    "outputId": "2e6db8f7-6214-4048-c868-bc1271277216"
   },
   "outputs": [],
   "source": [
    "aug33[1,2] # return the element from the 2nd row and 3rd column"
   ]
  },
  {
   "cell_type": "markdown",
   "metadata": {
    "colab_type": "text",
    "id": "s4wfFTzqjWAt"
   },
   "source": [
    "## Additional Testing: Random Linear Systems\n",
    "\n",
    "Both our functions gave the expected results for the motivating example, but we want to ensure the functions work for a general NxN linear system.\n",
    "\n",
    "Here is an idea. Let's randomly generate many $N x N$ linear systems and solve them with our Gaussian elimination code."
   ]
  },
  {
   "cell_type": "code",
   "execution_count": null,
   "metadata": {
    "colab": {
     "base_uri": "https://localhost:8080/",
     "height": 35
    },
    "colab_type": "code",
    "executionInfo": {
     "elapsed": 267,
     "status": "ok",
     "timestamp": 1549552874822,
     "user": {
      "displayName": "Alexander Dowling",
      "photoUrl": "https://lh3.googleusercontent.com/-LChdQ2m5OQE/AAAAAAAAAAI/AAAAAAAAAA0/JeXJe4vQJ7M/s64/photo.jpg",
      "userId": "00988067626794866502"
     },
     "user_tz": 300
    },
    "id": "-ALEtculjWAu",
    "outputId": "1b6f2a2b-b404-41f1-c338-b4430eb5bb9d"
   },
   "outputs": [],
   "source": [
    "# Number of tests\n",
    "tests = 10000\n",
    "\n",
    "# System size\n",
    "N = 4\n",
    "\n",
    "# loop over all tests\n",
    "for i in range(tests):\n",
    "    # generate x and A\n",
    "    x = np.random.rand(N)\n",
    "    A = np.random.rand(N,N)\n",
    "    \n",
    "    # Calculate b\n",
    "    b = np.dot(A,x)\n",
    "    \n",
    "    # Perform Gaussian Elimination (aka row reduction)\n",
    "    aug = GaussElim(A,b)\n",
    "    \n",
    "    # Perform back substitition\n",
    "    sol = BackSub(aug)\n",
    "    \n",
    "    # Calculate difference\n",
    "    diff = np.abs(sol-x)\n",
    "    \n",
    "    # Check if solutions match within tolerance\n",
    "    try:\n",
    "        assert(np.max(diff) < 1.0e-12)\n",
    "    except AssertionError:\n",
    "        print(\"Test failed with\")\n",
    "        print(\"A = \",A)\n",
    "        print(\"x = \",x)\n",
    "        print(\"diff = \",diff)\n",
    "        raise\n",
    "print(\"All Tests Passed\")"
   ]
  },
  {
   "cell_type": "markdown",
   "metadata": {},
   "source": [
    "<div style=\"background-color: rgba(0,0,255,0.05) ; padding: 10px; border: 1px solid darkblue;\"> \n",
    "<b>Class Activity</b>: Run the code above a few times. Does anyone observe it only fails some of the time? Any ideas as to why this happens?\n",
    "</div>"
   ]
  },
  {
   "cell_type": "markdown",
   "metadata": {
    "colab_type": "text",
    "id": "GfHX5_eXjWAx"
   },
   "source": [
    "## Round off and Pivoting"
   ]
  },
  {
   "cell_type": "markdown",
   "metadata": {
    "colab_type": "text",
    "id": "xKjRLDgjjWAy"
   },
   "source": [
    "For matrices with a large discrepancy in the magnitude of the elements, we'll see that Gauss elimination doesn't perform quite as well."
   ]
  },
  {
   "cell_type": "code",
   "execution_count": null,
   "metadata": {
    "colab": {
     "base_uri": "https://localhost:8080/",
     "height": 69
    },
    "colab_type": "code",
    "executionInfo": {
     "elapsed": 285,
     "status": "ok",
     "timestamp": 1549552891925,
     "user": {
      "displayName": "Alexander Dowling",
      "photoUrl": "https://lh3.googleusercontent.com/-LChdQ2m5OQE/AAAAAAAAAAI/AAAAAAAAAA0/JeXJe4vQJ7M/s64/photo.jpg",
      "userId": "00988067626794866502"
     },
     "user_tz": 300
    },
    "id": "L0yuLiPSjWAz",
    "outputId": "b1d3d73d-ad6a-45ce-c1c2-5b263e4caaf2"
   },
   "outputs": [],
   "source": [
    "epsilon = 1e-14\n",
    "A_eps = np.array([(epsilon,-1,1),(-1,2,-1),(2,-1,0)])\n",
    "print(A_eps)"
   ]
  },
  {
   "cell_type": "markdown",
   "metadata": {
    "colab_type": "text",
    "id": "RUW-17wsjWA0"
   },
   "source": [
    "Now we will compute the RHS of our system by multiplying the matrix by a simple vector:"
   ]
  },
  {
   "cell_type": "code",
   "execution_count": null,
   "metadata": {
    "colab": {
     "base_uri": "https://localhost:8080/",
     "height": 35
    },
    "colab_type": "code",
    "executionInfo": {
     "elapsed": 255,
     "status": "ok",
     "timestamp": 1549552913967,
     "user": {
      "displayName": "Alexander Dowling",
      "photoUrl": "https://lh3.googleusercontent.com/-LChdQ2m5OQE/AAAAAAAAAAI/AAAAAAAAAA0/JeXJe4vQJ7M/s64/photo.jpg",
      "userId": "00988067626794866502"
     },
     "user_tz": 300
    },
    "id": "ToPY2FyqjWA1",
    "outputId": "8a1bb05a-3b48-49ac-b715-95248b2e3cf3"
   },
   "outputs": [],
   "source": [
    "b_eps = np.array([0,0,1.0])\n",
    "print(b_eps)"
   ]
  },
  {
   "cell_type": "markdown",
   "metadata": {
    "colab_type": "text",
    "id": "WFrz3SUTjWA3"
   },
   "source": [
    "Now we can solve this system:"
   ]
  },
  {
   "cell_type": "code",
   "execution_count": null,
   "metadata": {
    "colab": {
     "base_uri": "https://localhost:8080/",
     "height": 52
    },
    "colab_type": "code",
    "executionInfo": {
     "elapsed": 354,
     "status": "ok",
     "timestamp": 1549552928023,
     "user": {
      "displayName": "Alexander Dowling",
      "photoUrl": "https://lh3.googleusercontent.com/-LChdQ2m5OQE/AAAAAAAAAAI/AAAAAAAAAA0/JeXJe4vQJ7M/s64/photo.jpg",
      "userId": "00988067626794866502"
     },
     "user_tz": 300
    },
    "id": "WAUpjM_VjWA4",
    "outputId": "a82cd09e-0843-434f-f665-13ad09ef0194"
   },
   "outputs": [],
   "source": [
    "aug_mat_eps = GaussElim(A_eps,b_eps)\n",
    "x_eps = BackSub(aug_mat_eps,z_tol=10.)\n",
    "print(\"The solution is\",x_eps)\n",
    "print(\"The residual is\",b_eps - A_eps @ x_eps)"
   ]
  },
  {
   "cell_type": "markdown",
   "metadata": {
    "colab_type": "text",
    "id": "12lMPaQzjWA6"
   },
   "source": [
    "There is a noticeable difference between the calculated solution and the actual solution (as measured by the residual). This is because we are dividing by a small number, which adds numeric error. We should use the largest row element as the **pivot element**, or the element we divide by when doing the elimination.\n",
    "\n",
    "To further demonstrate the need for pivoting, consider the system:"
   ]
  },
  {
   "cell_type": "code",
   "execution_count": null,
   "metadata": {
    "colab": {
     "base_uri": "https://localhost:8080/",
     "height": 87
    },
    "colab_type": "code",
    "executionInfo": {
     "elapsed": 350,
     "status": "ok",
     "timestamp": 1549552985176,
     "user": {
      "displayName": "Alexander Dowling",
      "photoUrl": "https://lh3.googleusercontent.com/-LChdQ2m5OQE/AAAAAAAAAAI/AAAAAAAAAA0/JeXJe4vQJ7M/s64/photo.jpg",
      "userId": "00988067626794866502"
     },
     "user_tz": 300
    },
    "id": "46_MaRjxjWA7",
    "outputId": "5e9c81ed-db2b-4e3f-8b3a-63cd80a1f4fd"
   },
   "outputs": [],
   "source": [
    "A = np.array([(1.0,0),(0,1.0)])\n",
    "b = np.array([2,6.0])\n",
    "print(\"A=\\n\",A)\n",
    "print(\"b=\",b)"
   ]
  },
  {
   "cell_type": "markdown",
   "metadata": {
    "colab_type": "text",
    "id": "tItLZe54jWA9"
   },
   "source": [
    "With solution"
   ]
  },
  {
   "cell_type": "code",
   "execution_count": null,
   "metadata": {
    "colab": {
     "base_uri": "https://localhost:8080/",
     "height": 35
    },
    "colab_type": "code",
    "executionInfo": {
     "elapsed": 297,
     "status": "ok",
     "timestamp": 1549553002869,
     "user": {
      "displayName": "Alexander Dowling",
      "photoUrl": "https://lh3.googleusercontent.com/-LChdQ2m5OQE/AAAAAAAAAAI/AAAAAAAAAA0/JeXJe4vQJ7M/s64/photo.jpg",
      "userId": "00988067626794866502"
     },
     "user_tz": 300
    },
    "id": "JhYoVTnojWA-",
    "outputId": "1feb4c88-e6a1-423d-d7d2-d981f376b51e"
   },
   "outputs": [],
   "source": [
    "aug_mat = GaussElim(A,b)\n",
    "x = BackSub(aug_mat)\n",
    "print(x)"
   ]
  },
  {
   "cell_type": "markdown",
   "metadata": {
    "colab_type": "text",
    "id": "hq4L5whtjWA_"
   },
   "source": [
    "This is as expected because $\\mathbf{A}$ is an identity matrix. Now what if we switch the rows in $\\mathbf{A}$ and try the same thing:\n",
    "\n",
    "$$\\underbrace{\\begin{pmatrix} 0 & 1 \\\\ 1 & 0 \\end{pmatrix}}_{\\mathbf{A}} ~\n",
    "\\underbrace{\\begin{pmatrix} x_1\\\\x_2 \\end{pmatrix}}_{\\mathbf{x}} = \\underbrace{\\begin{pmatrix}6\\\\2\\end{pmatrix}}_{\\mathbf{b}}\n",
    "$$\n"
   ]
  },
  {
   "cell_type": "markdown",
   "metadata": {},
   "source": [
    "<div style=\"background-color: rgba(0,255,0,0.05) ; padding: 10px; border: 1px solid darkgreen;\"> \n",
    "<b>Home Activity</b>: Write a 1 or 2 sentence explaining what will happen when we apply Gaussian elimination to the above system. Turn in via Gradescope. You should be able to answer this question without running any Python code.\n",
    "</div>"
   ]
  },
  {
   "cell_type": "markdown",
   "metadata": {},
   "source": [
    "<div style=\"background-color: rgba(0,255,0,0.05) ; padding: 10px; border: 1px solid darkgreen;\"> \n",
    "<b>Home Activity</b>: Run the code below.\n",
    "</div>"
   ]
  },
  {
   "cell_type": "code",
   "execution_count": 15,
   "metadata": {
    "colab": {
     "base_uri": "https://localhost:8080/",
     "height": 178
    },
    "colab_type": "code",
    "executionInfo": {
     "elapsed": 336,
     "status": "ok",
     "timestamp": 1549553028973,
     "user": {
      "displayName": "Alexander Dowling",
      "photoUrl": "https://lh3.googleusercontent.com/-LChdQ2m5OQE/AAAAAAAAAAI/AAAAAAAAAA0/JeXJe4vQJ7M/s64/photo.jpg",
      "userId": "00988067626794866502"
     },
     "user_tz": 300
    },
    "id": "moPnEJlEjWBA",
    "outputId": "579d1f70-2e62-4be9-bce1-318f8f32a195"
   },
   "outputs": [
    {
     "name": "stdout",
     "output_type": "stream",
     "text": [
      "A =\n",
      " [[0. 1.]\n",
      " [1. 0.]]\n",
      "b = [6. 2.]\n",
      "\n",
      "aug_mat = \n",
      " [[  0.   1.   6.]\n",
      " [ nan -inf -inf]]\n"
     ]
    },
    {
     "name": "stderr",
     "output_type": "stream",
     "text": [
      "C:\\Users\\ebrea\\AppData\\Local\\Temp\\ipykernel_22496\\3212638941.py:44: RuntimeWarning: divide by zero encountered in double_scalars\n",
      "  mod_row -= (mod_row[column]/aug_matrix[column,column]*\n",
      "C:\\Users\\ebrea\\AppData\\Local\\Temp\\ipykernel_22496\\3212638941.py:44: RuntimeWarning: invalid value encountered in multiply\n",
      "  mod_row -= (mod_row[column]/aug_matrix[column,column]*\n"
     ]
    },
    {
     "ename": "AssertionError",
     "evalue": "\nWarning! Nonzero in position 1,0",
     "output_type": "error",
     "traceback": [
      "\u001b[1;31m---------------------------------------------------------------------------\u001b[0m",
      "\u001b[1;31mAssertionError\u001b[0m                            Traceback (most recent call last)",
      "Input \u001b[1;32mIn [15]\u001b[0m, in \u001b[0;36m<cell line: 9>\u001b[1;34m()\u001b[0m\n\u001b[0;32m      6\u001b[0m \u001b[38;5;28mprint\u001b[39m(\u001b[38;5;124m\"\u001b[39m\u001b[38;5;130;01m\\n\u001b[39;00m\u001b[38;5;124maug_mat = \u001b[39m\u001b[38;5;130;01m\\n\u001b[39;00m\u001b[38;5;124m\"\u001b[39m,aug_mat)\n\u001b[0;32m      8\u001b[0m \u001b[38;5;66;03m# With a large zero tolerance, we effectively skip the check below the diagonal\u001b[39;00m\n\u001b[1;32m----> 9\u001b[0m x \u001b[38;5;241m=\u001b[39m \u001b[43mBackSub\u001b[49m\u001b[43m(\u001b[49m\u001b[43maug_mat\u001b[49m\u001b[43m,\u001b[49m\u001b[43m \u001b[49m\u001b[43mz_tol\u001b[49m\u001b[43m \u001b[49m\u001b[38;5;241;43m=\u001b[39;49m\u001b[43m \u001b[49m\u001b[38;5;241;43m1E3\u001b[39;49m\u001b[43m)\u001b[49m\n\u001b[0;32m     10\u001b[0m \u001b[38;5;28mprint\u001b[39m(\u001b[38;5;124m\"\u001b[39m\u001b[38;5;130;01m\\n\u001b[39;00m\u001b[38;5;124mx =\u001b[39m\u001b[38;5;124m\"\u001b[39m,x)\n",
      "Input \u001b[1;32mIn [13]\u001b[0m, in \u001b[0;36mBackSub\u001b[1;34m(aug_matrix, z_tol)\u001b[0m\n\u001b[0;32m     23\u001b[0m \u001b[38;5;28;01mfor\u001b[39;00m r \u001b[38;5;129;01min\u001b[39;00m \u001b[38;5;28mrange\u001b[39m(Nrow):\n\u001b[0;32m     24\u001b[0m     \u001b[38;5;28;01mfor\u001b[39;00m c \u001b[38;5;129;01min\u001b[39;00m \u001b[38;5;28mrange\u001b[39m(\u001b[38;5;241m0\u001b[39m,r):\n\u001b[1;32m---> 25\u001b[0m         \u001b[38;5;28;01massert\u001b[39;00m np\u001b[38;5;241m.\u001b[39mabs(aug_matrix[r,c]) \u001b[38;5;241m<\u001b[39m z_tol, \u001b[38;5;124m\"\u001b[39m\u001b[38;5;130;01m\\n\u001b[39;00m\u001b[38;5;124mWarning! Nonzero in position \u001b[39m\u001b[38;5;124m\"\u001b[39m\u001b[38;5;241m+\u001b[39m\u001b[38;5;28mstr\u001b[39m(r)\u001b[38;5;241m+\u001b[39m\u001b[38;5;124m\"\u001b[39m\u001b[38;5;124m,\u001b[39m\u001b[38;5;124m\"\u001b[39m\u001b[38;5;241m+\u001b[39m\u001b[38;5;28mstr\u001b[39m(c)\n\u001b[0;32m     27\u001b[0m \u001b[38;5;66;03m# create vector of zeros to store solution\u001b[39;00m\n\u001b[0;32m     28\u001b[0m x \u001b[38;5;241m=\u001b[39m np\u001b[38;5;241m.\u001b[39mzeros(Nrow)\n",
      "\u001b[1;31mAssertionError\u001b[0m: \nWarning! Nonzero in position 1,0"
     ]
    }
   ],
   "source": [
    "A = np.array([(0,1.0),(1.0,0)])\n",
    "b = np.array([6.,2.0])\n",
    "print(\"A =\\n\",A)\n",
    "print(\"b =\",b)\n",
    "aug_mat = GaussElim(A,b)\n",
    "print(\"\\naug_mat = \\n\",aug_mat)\n",
    "\n",
    "# With a large zero tolerance, we effectively skip the check below the diagonal\n",
    "x = BackSub(aug_mat, z_tol = 1E3)\n",
    "print(\"\\nx =\",x)"
   ]
  },
  {
   "cell_type": "markdown",
   "metadata": {
    "colab_type": "text",
    "id": "1EEhmIlEjWBC"
   },
   "source": [
    "What happened?!?\n",
    "\n",
    "Well, the **pivot element** in the first row was **zero**. We divided by zero.\n",
    "\n",
    "We can correct this by checking before we pivot, and **rearranging the equations** to pivot with the largest possible entry.\n",
    "\n",
    "It is worth mentioning that **largest is relative** to the size of the other entries in the row. Consider two rows: $(11,10,10)$ and $(2,1,1)$. The 2 is actually a better pivot because it is large relative to the other elements of a row."
   ]
  },
  {
   "cell_type": "markdown",
   "metadata": {
    "colab_type": "text",
    "id": "KglEHk_2jWBE"
   },
   "source": [
    "### Swapping Rows\n",
    "\n",
    "**Linear Algebra Check** Why is it valid to swap rows? What does swapping two row mean for the system of linear equations we are solving?\n",
    "\n",
    "To do pivoting we will need a means to swap rows in our augmented matrix."
   ]
  },
  {
   "cell_type": "markdown",
   "metadata": {},
   "source": [
    "<div style=\"background-color: rgba(0,255,0,0.05) ; padding: 10px; border: 1px solid darkgreen;\"> \n",
    "<b>Home Activity</b>: Run the code below.\n",
    "</div>"
   ]
  },
  {
   "cell_type": "code",
   "execution_count": 16,
   "metadata": {
    "colab": {
     "base_uri": "https://localhost:8080/",
     "height": 123
    },
    "colab_type": "code",
    "executionInfo": {
     "elapsed": 295,
     "status": "ok",
     "timestamp": 1549553303625,
     "user": {
      "displayName": "Alexander Dowling",
      "photoUrl": "https://lh3.googleusercontent.com/-LChdQ2m5OQE/AAAAAAAAAAI/AAAAAAAAAA0/JeXJe4vQJ7M/s64/photo.jpg",
      "userId": "00988067626794866502"
     },
     "user_tz": 300
    },
    "id": "aHRRVoDljWBE",
    "outputId": "3961c2c9-ddc7-4dab-af1d-da819b90f2d5"
   },
   "outputs": [
    {
     "name": "stdout",
     "output_type": "stream",
     "text": [
      "Before swap, A =\n",
      " [[0. 1.]\n",
      " [1. 0.]]\n",
      "After swapping 0 and 1, A =\n",
      " [[1. 0.]\n",
      " [0. 1.]]\n"
     ]
    }
   ],
   "source": [
    "def swap_rows(A, a, b):\n",
    "    \"\"\"Rows two rows in a matrix, switch row a with row b\n",
    "    \n",
    "    args: \n",
    "    A: matrix to perform row swaps on\n",
    "    a: row index of matrix\n",
    "    b: row index of matrix\n",
    "    \n",
    "    returns: nothing\n",
    "    \n",
    "    side effects:\n",
    "    changes A to rows a and b swapped\n",
    "    \"\"\"\n",
    "    \n",
    "    # A negative index will give unexpected behavior\n",
    "    assert (a>=0) and (b>=0)\n",
    "    N = A.shape[0] #number of rows\n",
    "    assert (a<N) and (b<N) #less than because 0-based indexing\n",
    "    \n",
    "    # create a temporary variable to store row a\n",
    "    temp = A[a,:].copy()\n",
    "    \n",
    "    # move row b values into the location of row a\n",
    "    A[a,:] = A[b,:].copy()\n",
    "    \n",
    "    # move row a values (stored in temp) into the location of row a\n",
    "    A[b,:] = temp.copy()\n",
    "\n",
    "# And now we test our function\n",
    "print(\"Before swap, A =\\n\",A)\n",
    "swap_rows(A,0,1)\n",
    "print(\"After swapping 0 and 1, A =\\n\",A)"
   ]
  },
  {
   "cell_type": "markdown",
   "metadata": {
    "colab_type": "text",
    "id": "NA2fS6hajWBF"
   },
   "source": [
    "### Selecting Pivot"
   ]
  },
  {
   "cell_type": "markdown",
   "metadata": {
    "colab_type": "text",
    "id": "6mL-kVvTjWBG"
   },
   "source": [
    "The next step is figuring out how to swap during each step. At the beginning of the solve we want to find the **maximum row element size** using a piece of code like this: "
   ]
  },
  {
   "cell_type": "markdown",
   "metadata": {},
   "source": [
    "<div style=\"background-color: rgba(0,255,0,0.05) ; padding: 10px; border: 1px solid darkgreen;\"> \n",
    "<b>Home Activity</b>: Run the code below.\n",
    "</div>"
   ]
  },
  {
   "cell_type": "code",
   "execution_count": 17,
   "metadata": {
    "colab": {
     "base_uri": "https://localhost:8080/",
     "height": 140
    },
    "colab_type": "code",
    "executionInfo": {
     "elapsed": 295,
     "status": "ok",
     "timestamp": 1549553343618,
     "user": {
      "displayName": "Alexander Dowling",
      "photoUrl": "https://lh3.googleusercontent.com/-LChdQ2m5OQE/AAAAAAAAAAI/AAAAAAAAAA0/JeXJe4vQJ7M/s64/photo.jpg",
      "userId": "00988067626794866502"
     },
     "user_tz": 300
    },
    "id": "llmSL8_XjWBM",
    "outputId": "836a603d-5c80-4fab-bd9e-98d3875d27d5"
   },
   "outputs": [
    {
     "name": "stdout",
     "output_type": "stream",
     "text": [
      "A =\n",
      " [[0.62747468 0.55278782 0.50151003 0.2863163  0.33940184]\n",
      " [0.98597722 0.50581247 0.349993   0.25741154 0.04378857]\n",
      " [0.14199944 0.55219843 0.30146537 0.94908575 0.01301507]\n",
      " [0.39527905 0.58379864 0.52286242 0.96764353 0.07567405]\n",
      " [0.22204234 0.33554471 0.43011643 0.27685973 0.02796277]]\n",
      "s = [0.62747468 0.98597722 0.94908575 0.96764353 0.43011643]\n"
     ]
    }
   ],
   "source": [
    "# Create a random matrix\n",
    "N = 5\n",
    "A = np.random.rand(N,N)\n",
    "print(\"A =\\n\",A)\n",
    "\n",
    "# Create a vector of zeros\n",
    "s = np.zeros(N)\n",
    "\n",
    "# loop over rows\n",
    "count = 0\n",
    "for row in A:\n",
    "    # record the largest element of current row into s\n",
    "    s[count] = np.max(np.fabs(row))\n",
    "    \n",
    "    # increment counter\n",
    "    count += 1\n",
    "print(\"s =\",s)"
   ]
  },
  {
   "cell_type": "markdown",
   "metadata": {
    "colab_type": "text",
    "id": "NpzJ000TjWBO"
   },
   "source": [
    "Then we'll have to figure out **which row** has the **largest scaled pivot element**. "
   ]
  },
  {
   "cell_type": "code",
   "execution_count": 18,
   "metadata": {
    "colab": {
     "base_uri": "https://localhost:8080/",
     "height": 35
    },
    "colab_type": "code",
    "executionInfo": {
     "elapsed": 439,
     "status": "ok",
     "timestamp": 1549553480732,
     "user": {
      "displayName": "Alexander Dowling",
      "photoUrl": "https://lh3.googleusercontent.com/-LChdQ2m5OQE/AAAAAAAAAAI/AAAAAAAAAA0/JeXJe4vQJ7M/s64/photo.jpg",
      "userId": "00988067626794866502"
     },
     "user_tz": 300
    },
    "id": "XefT2OLqjWBO",
    "outputId": "0089116a-bc2a-46e7-eb06-eccc3ac00dcc"
   },
   "outputs": [
    {
     "name": "stdout",
     "output_type": "stream",
     "text": [
      "Largest scaled element in column 2 is in row 3\n"
     ]
    }
   ],
   "source": [
    "# Specify the column we want to analyze\n",
    "pivot_column = 2\n",
    "\n",
    "# Find the position of the largest scaled element in said column\n",
    "largest_pos = np.argmax(np.fabs(A[:,pivot_column]/s[pivot_column]))\n",
    "print(\"Largest scaled element in column\",pivot_column,\n",
    "      \"is in row\",largest_pos)"
   ]
  },
  {
   "cell_type": "markdown",
   "metadata": {
    "colab_type": "text",
    "id": "Y-t0VMzsjsA0"
   },
   "source": [
    "Side tanget. What does ``np.argmax`` do?"
   ]
  },
  {
   "cell_type": "code",
   "execution_count": 19,
   "metadata": {
    "colab": {
     "base_uri": "https://localhost:8080/",
     "height": 1091
    },
    "colab_type": "code",
    "executionInfo": {
     "elapsed": 248,
     "status": "ok",
     "timestamp": 1549553542048,
     "user": {
      "displayName": "Alexander Dowling",
      "photoUrl": "https://lh3.googleusercontent.com/-LChdQ2m5OQE/AAAAAAAAAAI/AAAAAAAAAA0/JeXJe4vQJ7M/s64/photo.jpg",
      "userId": "00988067626794866502"
     },
     "user_tz": 300
    },
    "id": "i6xgp4lsjwfE",
    "outputId": "0e689259-b087-4b97-bd54-c0e0e37f6299"
   },
   "outputs": [
    {
     "name": "stdout",
     "output_type": "stream",
     "text": [
      "Help on function argmax in module numpy:\n",
      "\n",
      "argmax(a, axis=None, out=None)\n",
      "    Returns the indices of the maximum values along an axis.\n",
      "    \n",
      "    Parameters\n",
      "    ----------\n",
      "    a : array_like\n",
      "        Input array.\n",
      "    axis : int, optional\n",
      "        By default, the index is into the flattened array, otherwise\n",
      "        along the specified axis.\n",
      "    out : array, optional\n",
      "        If provided, the result will be inserted into this array. It should\n",
      "        be of the appropriate shape and dtype.\n",
      "    \n",
      "    Returns\n",
      "    -------\n",
      "    index_array : ndarray of ints\n",
      "        Array of indices into the array. It has the same shape as `a.shape`\n",
      "        with the dimension along `axis` removed.\n",
      "    \n",
      "    See Also\n",
      "    --------\n",
      "    ndarray.argmax, argmin\n",
      "    amax : The maximum value along a given axis.\n",
      "    unravel_index : Convert a flat index into an index tuple.\n",
      "    take_along_axis : Apply ``np.expand_dims(index_array, axis)``\n",
      "                      from argmax to an array as if by calling max.\n",
      "    \n",
      "    Notes\n",
      "    -----\n",
      "    In case of multiple occurrences of the maximum values, the indices\n",
      "    corresponding to the first occurrence are returned.\n",
      "    \n",
      "    Examples\n",
      "    --------\n",
      "    >>> a = np.arange(6).reshape(2,3) + 10\n",
      "    >>> a\n",
      "    array([[10, 11, 12],\n",
      "           [13, 14, 15]])\n",
      "    >>> np.argmax(a)\n",
      "    5\n",
      "    >>> np.argmax(a, axis=0)\n",
      "    array([1, 1, 1])\n",
      "    >>> np.argmax(a, axis=1)\n",
      "    array([2, 2])\n",
      "    \n",
      "    Indexes of the maximal elements of a N-dimensional array:\n",
      "    \n",
      "    >>> ind = np.unravel_index(np.argmax(a, axis=None), a.shape)\n",
      "    >>> ind\n",
      "    (1, 2)\n",
      "    >>> a[ind]\n",
      "    15\n",
      "    \n",
      "    >>> b = np.arange(6)\n",
      "    >>> b[1] = 5\n",
      "    >>> b\n",
      "    array([0, 5, 2, 3, 4, 5])\n",
      "    >>> np.argmax(b)  # Only the first occurrence is returned.\n",
      "    1\n",
      "    \n",
      "    >>> x = np.array([[4,2,3], [1,0,3]])\n",
      "    >>> index_array = np.argmax(x, axis=-1)\n",
      "    >>> # Same as np.max(x, axis=-1, keepdims=True)\n",
      "    >>> np.take_along_axis(x, np.expand_dims(index_array, axis=-1), axis=-1)\n",
      "    array([[4],\n",
      "           [3]])\n",
      "    >>> # Same as np.max(x, axis=-1)\n",
      "    >>> np.take_along_axis(x, np.expand_dims(index_array, axis=-1), axis=-1).squeeze(axis=-1)\n",
      "    array([4, 3])\n",
      "\n"
     ]
    }
   ],
   "source": [
    "help(np.argmax)"
   ]
  },
  {
   "cell_type": "code",
   "execution_count": 20,
   "metadata": {
    "colab": {
     "base_uri": "https://localhost:8080/",
     "height": 52
    },
    "colab_type": "code",
    "executionInfo": {
     "elapsed": 386,
     "status": "ok",
     "timestamp": 1549553557215,
     "user": {
      "displayName": "Alexander Dowling",
      "photoUrl": "https://lh3.googleusercontent.com/-LChdQ2m5OQE/AAAAAAAAAAI/AAAAAAAAAA0/JeXJe4vQJ7M/s64/photo.jpg",
      "userId": "00988067626794866502"
     },
     "user_tz": 300
    },
    "id": "Ev_5ICuij6C9",
    "outputId": "1b42ef63-c921-4527-853f-2449c2997443"
   },
   "outputs": [
    {
     "name": "stdout",
     "output_type": "stream",
     "text": [
      "a =  [1, 4, 2, 3]\n",
      "argmax =  1\n"
     ]
    }
   ],
   "source": [
    "# let's test argmax\n",
    "a = [1, 4, 2, 3]\n",
    "print(\"a = \",a)\n",
    "print(\"argmax = \",np.argmax(a)) # remember, base-0 counting"
   ]
  },
  {
   "cell_type": "markdown",
   "metadata": {
    "colab_type": "text",
    "id": "-SLqj-8bjWBQ"
   },
   "source": [
    "### Put it All Together"
   ]
  },
  {
   "cell_type": "markdown",
   "metadata": {
    "colab_type": "text",
    "id": "qPpNAy8pjWBQ"
   },
   "source": [
    "Now it's time to put this all together in a new version of Gauss elimination. Here are the main steps:\n",
    "* Assembles augmented matrix\n",
    "* Identifies scale factors\n",
    "* Performs Gaussian elimination (row reduction):\n",
    "  * Swaps rows if needed\n",
    "  * Performs elimination\n",
    "* Calls backsolve\n",
    "\n",
    "We will use this in place of psuedocode this time. We already have code that does each step.\n"
   ]
  },
  {
   "cell_type": "markdown",
   "metadata": {},
   "source": [
    "<div style=\"background-color: rgba(0,0,255,0.05) ; padding: 10px; border: 1px solid darkblue;\"> \n",
    "<b>Class Activity</b>: Spend 5 minutes discussing the code below with a partner. Write down at least 1 question to ask the class.\n",
    "</div>"
   ]
  },
  {
   "cell_type": "code",
   "execution_count": 21,
   "metadata": {
    "colab": {},
    "colab_type": "code",
    "id": "w_EYcPuzjWBR",
    "tags": []
   },
   "outputs": [],
   "source": [
    "def GaussElimPivotSolve(A,b,LOUD=False):\n",
    "    \"\"\"create a Gaussian elimination with pivoting matrix for a system\n",
    "\n",
    "    Args:\n",
    "        A: N by N array\n",
    "        b: array of length N\n",
    "    Returns:\n",
    "        solution vector in the original order\n",
    "    \"\"\"\n",
    "    \n",
    "    # checks dimensions\n",
    "    [Nrow, Ncol] = A.shape\n",
    "    assert Nrow == Ncol\n",
    "    N = Nrow\n",
    "    \n",
    "    \n",
    "    #create augmented matrix\n",
    "    aug_matrix = np.zeros((N,N+1))\n",
    "    aug_matrix[0:N,0:N] = A\n",
    "    aug_matrix[:,N] = b\n",
    "    #augmented matrix is created\n",
    "    \n",
    "    #create scale factors \n",
    "    s = np.zeros(N)\n",
    "    count = 0\n",
    "    for row in aug_matrix[:,0:N]: #don't include b\n",
    "        s[count] = np.max(np.fabs(row))\n",
    "        count += 1\n",
    "  \n",
    "    # print diagnostics if requested\n",
    "    if LOUD:\n",
    "        print(\"s =\",s)\n",
    "        print(\"Original Augmented Matrix is\\n\",aug_matrix)\n",
    "    \n",
    "    #perform elimination\n",
    "    for column in range(0,N):\n",
    "        \n",
    "        ## swap rows if needed\n",
    "        # find largest position\n",
    "        largest_pos = (np.argmax(np.fabs(aug_matrix[column:N,column]/\n",
    "                                         s[column:N])) + column)\n",
    "        \n",
    "        # check if current column is largest position\n",
    "        if (largest_pos != column):\n",
    "            # if not, swap rows\n",
    "            if (LOUD):\n",
    "                print(\"Swapping row\",column,\"with row\",largest_pos)\n",
    "                print(\"Pre swap\\n\",aug_matrix)\n",
    "            swap_rows(aug_matrix,column,largest_pos)\n",
    "            \n",
    "            #re-order s\n",
    "            tmp = s[column]\n",
    "            s[column] = s[largest_pos]\n",
    "            s[largest_pos] = tmp\n",
    "            if (LOUD):\n",
    "                print(\"A =\\n\",aug_matrix)\n",
    "                print(\"new_s =\\n\", s)\n",
    "        \n",
    "        #finish off the row\n",
    "        for row in range(column+1,N):\n",
    "            mod_row = aug_matrix[row,:]\n",
    "            mod_row = mod_row - mod_row[column]/aug_matrix[column,column]*aug_matrix[column,:]\n",
    "            aug_matrix[row] = mod_row\n",
    "    \n",
    "    #now back solve\n",
    "    if LOUD:\n",
    "        print(\"Final aug_matrix is\\n\",aug_matrix)\n",
    "    x = BackSub(aug_matrix)\n",
    "    return x"
   ]
  },
  {
   "cell_type": "markdown",
   "metadata": {
    "colab_type": "text",
    "id": "2ovsCIgjjWBT"
   },
   "source": [
    "### Unit Test: Motivating Example"
   ]
  },
  {
   "cell_type": "code",
   "execution_count": 22,
   "metadata": {
    "colab": {
     "base_uri": "https://localhost:8080/",
     "height": 316
    },
    "colab_type": "code",
    "executionInfo": {
     "elapsed": 435,
     "status": "ok",
     "timestamp": 1549553849501,
     "user": {
      "displayName": "Alexander Dowling",
      "photoUrl": "https://lh3.googleusercontent.com/-LChdQ2m5OQE/AAAAAAAAAAI/AAAAAAAAAA0/JeXJe4vQJ7M/s64/photo.jpg",
      "userId": "00988067626794866502"
     },
     "user_tz": 300
    },
    "id": "-EcwxwkNjWBT",
    "outputId": "a20296b4-ac19-4774-ea03-e4042a58440f"
   },
   "outputs": [
    {
     "name": "stdout",
     "output_type": "stream",
     "text": [
      "A = \n",
      " [[ 3  2  1]\n",
      " [-1  4  5]\n",
      " [ 2 -8 10]]\n",
      "b = \n",
      " [[6 8 4]]\n",
      "s = [ 3.  5. 10.]\n",
      "Original Augmented Matrix is\n",
      " [[ 3.  2.  1.  6.]\n",
      " [-1.  4.  5.  8.]\n",
      " [ 2. -8. 10.  4.]]\n",
      "Final aug_matrix is\n",
      " [[ 3.          2.          1.          6.        ]\n",
      " [ 0.          4.66666667  5.33333333 10.        ]\n",
      " [ 0.          0.         20.         20.        ]]\n",
      "The solution is [1. 1. 1.]\n",
      "The residual (errors) are [[0. 0. 0.]]\n"
     ]
    }
   ],
   "source": [
    "print(\"A = \\n\",A33)\n",
    "print(\"b = \\n\",b3)\n",
    "\n",
    "x = GaussElimPivotSolve(A33,b3,LOUD=True)\n",
    "print(\"The solution is\",x)\n",
    "print(\"The residual (errors) are\",np.dot(A33,x)-b3)"
   ]
  },
  {
   "cell_type": "markdown",
   "metadata": {
    "colab_type": "text",
    "id": "pIKkokazjWBW"
   },
   "source": [
    "Success, but not that impressive. Vanilla Gauss elimination also worked here. Pivoting was never used."
   ]
  },
  {
   "cell_type": "markdown",
   "metadata": {
    "colab_type": "text",
    "id": "0xWrxvPajWBZ"
   },
   "source": [
    "### Unit Test: Troublesome System"
   ]
  },
  {
   "cell_type": "markdown",
   "metadata": {
    "colab_type": "text",
    "id": "ipTMaFHXjWBa"
   },
   "source": [
    "Now we can try this on the systems that didn't work so well before:"
   ]
  },
  {
   "cell_type": "code",
   "execution_count": 23,
   "metadata": {
    "colab": {
     "base_uri": "https://localhost:8080/",
     "height": 615
    },
    "colab_type": "code",
    "executionInfo": {
     "elapsed": 376,
     "status": "ok",
     "timestamp": 1549553909427,
     "user": {
      "displayName": "Alexander Dowling",
      "photoUrl": "https://lh3.googleusercontent.com/-LChdQ2m5OQE/AAAAAAAAAAI/AAAAAAAAAA0/JeXJe4vQJ7M/s64/photo.jpg",
      "userId": "00988067626794866502"
     },
     "user_tz": 300
    },
    "id": "gPRpPVK1jWBa",
    "outputId": "57019c88-6b6d-40fc-8d2e-c914451a1aa1"
   },
   "outputs": [
    {
     "ename": "NameError",
     "evalue": "name 'A_eps' is not defined",
     "output_type": "error",
     "traceback": [
      "\u001b[1;31m---------------------------------------------------------------------------\u001b[0m",
      "\u001b[1;31mNameError\u001b[0m                                 Traceback (most recent call last)",
      "Input \u001b[1;32mIn [23]\u001b[0m, in \u001b[0;36m<cell line: 1>\u001b[1;34m()\u001b[0m\n\u001b[1;32m----> 1\u001b[0m \u001b[38;5;28mprint\u001b[39m(\u001b[38;5;124m\"\u001b[39m\u001b[38;5;124mA =\u001b[39m\u001b[38;5;130;01m\\n\u001b[39;00m\u001b[38;5;124m\"\u001b[39m,\u001b[43mA_eps\u001b[49m)\n\u001b[0;32m      2\u001b[0m \u001b[38;5;28mprint\u001b[39m(\u001b[38;5;124m\"\u001b[39m\u001b[38;5;124mb =\u001b[39m\u001b[38;5;124m\"\u001b[39m,b_eps)\n\u001b[0;32m      3\u001b[0m x \u001b[38;5;241m=\u001b[39m GaussElimPivotSolve(A_eps,b_eps,LOUD\u001b[38;5;241m=\u001b[39m\u001b[38;5;28;01mTrue\u001b[39;00m)\n",
      "\u001b[1;31mNameError\u001b[0m: name 'A_eps' is not defined"
     ]
    }
   ],
   "source": [
    "print(\"A =\\n\",A_eps)\n",
    "print(\"b =\",b_eps)\n",
    "x = GaussElimPivotSolve(A_eps,b_eps,LOUD=True)\n",
    "print(\"x =\",x)\n",
    "print(\"The residual (errors) are\",np.dot(A_eps,x)-b_eps)"
   ]
  },
  {
   "cell_type": "markdown",
   "metadata": {
    "colab_type": "text",
    "id": "TH-KccUGjWBd"
   },
   "source": [
    "Huzzah, we arrived at the correct answer. Also, notice how the final augmented matrix is diagonally dominant.  That makes the back-substitution more stable as well."
   ]
  },
  {
   "cell_type": "markdown",
   "metadata": {
    "colab_type": "text",
    "id": "xjqC3XcdjWBd"
   },
   "source": [
    "## Timing"
   ]
  },
  {
   "cell_type": "markdown",
   "metadata": {
    "colab_type": "text",
    "id": "LescpCjRjWBe"
   },
   "source": [
    "If you look in any textbook, you'll see that Gaussian elimination takes $O(n^3)$ operations where $n\\times n$ is the size of the matrix.  The notation $O(n^3)$ means that as the matrix grows, the asymptotic (i.e., $n$ large) growth rate of the number of floating point operations (add, subtract, multiply, and divide are all floating point operations) grows as $n^3$.  Therefore, if we double the size of the matrix, the number of operations goes up by a factor of $2^3=8$.\n",
    "\n",
    "Let's use the time module that python provides to time how long it takes to run our Gaussian elimination code as we increase $n$."
   ]
  },
  {
   "cell_type": "markdown",
   "metadata": {},
   "source": [
    "<div style=\"background-color: rgba(0,0,255,0.05) ; padding: 10px; border: 1px solid darkblue;\"> \n",
    "<b>Class Activity</b>: Run the code below.\n",
    "</div>"
   ]
  },
  {
   "cell_type": "code",
   "execution_count": 29,
   "metadata": {
    "colab": {
     "base_uri": "https://localhost:8080/",
     "height": 283
    },
    "colab_type": "code",
    "executionInfo": {
     "elapsed": 2286,
     "status": "ok",
     "timestamp": 1549554096778,
     "user": {
      "displayName": "Alexander Dowling",
      "photoUrl": "https://lh3.googleusercontent.com/-LChdQ2m5OQE/AAAAAAAAAAI/AAAAAAAAAA0/JeXJe4vQJ7M/s64/photo.jpg",
      "userId": "00988067626794866502"
     },
     "user_tz": 300
    },
    "id": "0I3Y-SrBjWBf",
    "outputId": "6b417afc-dd28-4280-9315-362415a97707"
   },
   "outputs": [
    {
     "data": {
      "image/png": "[encoded data removed]",
      "text/plain": [
       "<Figure size 432x288 with 1 Axes>"
      ]
     },
     "metadata": {
      "needs_background": "light"
     },
     "output_type": "display_data"
    }
   ],
   "source": [
    "import time\n",
    "\n",
    "# Number of times to repeat the test for each size\n",
    "num_tests = 10\n",
    "\n",
    "# Values of N to test\n",
    "N = 2**np.arange(num_tests)\n",
    "\n",
    "# Store timing results\n",
    "times = np.zeros(num_tests)\n",
    "\n",
    "# Loop over tests\n",
    "for test in range(1,num_tests):\n",
    "    # generate random linear system\n",
    "    A = np.random.rand(N[test],N[test])\n",
    "    b = np.dot(A,np.ones(N[test]))\n",
    "    x = np.zeros(N[test])\n",
    "    \n",
    "    # start timer\n",
    "    start = time.perf_counter()\n",
    "    \n",
    "    # run Gaussian elimination\n",
    "    aug = GaussElim(A,b)\n",
    "    x = BackSub(aug)\n",
    "    \n",
    "    # end time\n",
    "    end = time.perf_counter()\n",
    "    \n",
    "    # store time result\n",
    "    times[test] = end-start\n",
    "    \n",
    "# create log-log plot\n",
    "plt.loglog(N,times,'o-',label=\"experiment\")\n",
    "\n",
    "#make a comparison line with slope 2^3\n",
    "y_comp = times.copy()/4\n",
    "for comp_place in range(num_tests-1,0,-1):\n",
    "    #because x goes up by factor 2 each time, time should go up by 8 \n",
    "    y_comp[comp_place -1] = np.exp(np.log(y_comp[test])-3*(np.log(N[test])-np.log(N[comp_place-1])))\n",
    "plt.loglog(N[4:num_tests],y_comp[4:num_tests],'r',linewidth=4,label=\"$O(n^3)$\")\n",
    "\n",
    "#make a comparison line with slope 2^2\n",
    "y_comp = times.copy()*4\n",
    "for comp_place in range(num_tests-1,0,-1):\n",
    "    y_comp[comp_place -1] = np.exp(np.log(y_comp[test])-2*(np.log(N[test])-np.log(N[comp_place-1])))\n",
    "plt.loglog(N[4:num_tests],y_comp[4:num_tests],'g--',linewidth=4,label=\"$O(n^2)$\")\n",
    "\n",
    "# add labels and legend\n",
    "plt.xlabel(\"Number of Equations\")\n",
    "plt.ylabel(\"Seconds to complete solve\")\n",
    "plt.legend()\n",
    "plt.show()"
   ]
  },
  {
   "cell_type": "markdown",
   "metadata": {
    "colab_type": "text",
    "id": "wgpyCuKYjWBh"
   },
   "source": [
    "In this figure the red line is a slope of 3 on a log-log scale (which corresponds time growing as the number of equations to the third power).  If the time to solve a system was consistent with the theory, then these dots would be parallel to the red line.  That assumes that the time it takes to execute the code is linearly related to the number of floating point operations. \n",
    "The actual slope is closer to 2, the slope of the green dashed line.  This implies that the time to solution is not growing as fast as the theory.  The reason for this is that python (probably numpy) is helping us out and grouping operations together and executing some of them in parallel so that the number of floating point operations is not linearly related to the time."
   ]
  },
  {
   "cell_type": "markdown",
   "metadata": {},
   "source": [
    "## Mass Balance Example (Adapted from an Old Exam Problem)\n",
    "\n",
    "Let's see how Gaussian elimination can be applied to mass balance problems.\n",
    "\n",
    "We want to convert A into valuable product B using a process with a mixer, reactor, and separator.\n",
    "\n",
    "![flowsheet](../../media/1b_fig.png)\n",
    "\n",
    "A feed enters at a rate of 100 moles per hour and is composed 99 mole % A and the remainder B. Unfortunately, the reactor only has a 10% per pass conversion efficiency. This means that only 10% of A that enters the reactor undergoes the reaction $A \\rightarrow B$. The separator splits the reactor effluent into two streams: the product and the recycle. The separator operates such that for every 1 mole of A in the product streams, there are 4 moles of A in the recycle stream. Likewise, for every 8 moles of B in the product stream, there is 1 mole of B in the recycle stream.\n",
    "\n",
    "As shown in the figure above, we can model the process using component molar flowrates as variables. The first subscript is the stream ($m$, $e$, $r$, or $p$) and the second subscript is the component ($A$ or $B$)."
   ]
  },
  {
   "cell_type": "markdown",
   "metadata": {},
   "source": [
    "### Mathematical Model (Old Exam Question)"
   ]
  },
  {
   "cell_type": "markdown",
   "metadata": {},
   "source": [
    "Your classmate proposes the following mathematical model\n",
    "\n",
    "Equation A:   $n_{f,A} + n_{r,A} = n_{m,A}$\n",
    "\n",
    "Equation B:   $n_{f,B} + n_{r,B} = n_{m,B}$\n",
    "\n",
    "Equation C:   $0.9 ~ n_{m,A} = n_{e,A}$\n",
    "\n",
    "Equation D:   $n_{m,A} + n_{m,B} = n_{e,A} + n_{e,B}$\n",
    "\n",
    "Equation E:   $n_{e,A} = n_{p,A} + n_{r,A}$\n",
    "\n",
    "Equation F:   $n_{e,B} = n_{p,B} + n_{r,B}$\n",
    "\n",
    "Equation G:   $4 ~ n_{p,A} = n_{r,A}$\n",
    "\n",
    "Equation H:   $n_{p,B} = 8 ~ n_{r,B}$\n",
    "\n",
    "Multiple choice description options:\n",
    "1. Entire Process: Overall mole balance\n",
    "2. Entire Process: Component A mole balance\n",
    "3. Process: Component B mole balance\n",
    "4. Mixer: Overall mole balance\n",
    "5. Mixer: Component A mole balance\n",
    "6. Mixer: Component mole balance\n",
    "7. Mixer: Summation equation\n",
    "8. Reactor: Overall mole balance\n",
    "9. Reactor: Component A mole balance\n",
    "10. Reactor: Component B mole balance\n",
    "11. Reactor: 90% of A fed into reactor is converted to B\n",
    "12. Reactor: 10% of A fed into reactor is converted to B\n",
    "13. Separator: Overall mole balance\n",
    "14. Separator: Component A mole balance\n",
    "15. Separator: Component B mole balance\n",
    "16. Separator: For every 4 moles of A in recycle, there are 1 moles of A in product\n",
    "17. Seperator: For every 1 mole of A in recycle, there are 4 moles of A in product\n",
    "18. Seperator: For every 8 moles of B in recycle, there are 1 moles of B in product\n",
    "19. Seperator: For every 1 mole of B in recycle, there are 1 moles of B in product\n",
    "20. None of the above\n",
    "\n",
    "Hint: Choice 19 does not include a typo. It is meant to be 1 and 1."
   ]
  },
  {
   "cell_type": "markdown",
   "metadata": {},
   "source": [
    "<div style=\"background-color: rgba(0,255,0,0.05) ; padding: 10px; border: 1px solid darkgreen;\"> \n",
    "<b>Home Activity</b>: Match each equation to a description above. Record your answer in the dictionary <tt>eqn_names</tt> using the keys A,...,F and the values 1,...,20.\n",
    "</div>"
   ]
  },
  {
   "cell_type": "code",
   "execution_count": 30,
   "metadata": {
    "tags": []
   },
   "outputs": [],
   "source": [
    "eqn_names = {'A':0, 'B':0, 'C':0, 'D':0, 'E':0, 'F':0, 'G':0, 'H':0}\n",
    "\n",
    "### BEGIN SOLUTION\n",
    "eqn_names = {'A':5, 'B':6, 'C':12, 'D':8, 'E':14, 'F':15, 'G':16, 'H':20}\n",
    "### END SOLUTION"
   ]
  },
  {
   "cell_type": "code",
   "execution_count": 31,
   "metadata": {
    "nbgrader": {
     "grade": true,
     "grade_id": "eqn-names",
     "locked": true,
     "points": "0.1",
     "solution": false
    },
    "tags": []
   },
   "outputs": [],
   "source": [
    "### BEGIN HIDDEN TESTS\n",
    "eqn_names_secret = {'A':5, 'B':6, 'C':12, 'D':8, 'E':14, 'F':15, 'G':16, 'H':20}\n",
    "\n",
    "for i in ['A','B','C','D','E','F','G','H']:\n",
    "    assert eqn_names[i] == eqn_names_secret[i], \"Description for equation \"+i+\" is not correct.\"\n",
    "\n",
    "### END HIDDEN TESTS"
   ]
  },
  {
   "cell_type": "markdown",
   "metadata": {},
   "source": [
    "### Matrix Form (Old Exam Question)"
   ]
  },
  {
   "cell_type": "markdown",
   "metadata": {},
   "source": [
    "$$\\mathbf{x} = \t\\begin{bmatrix}n_{m,A} \\\\\n",
    "\t\tn_{m,B} \\\\\n",
    "\t\tn_{e,A} \\\\\n",
    "\t\tn_{e,B} \\\\\n",
    "\t\tn_{p,A} \\\\\n",
    "\t\tn_{p,B} \\\\\n",
    "\t\tn_{r,A} \\\\\n",
    "\t\tn_{r,B} \\end{bmatrix}$$"
   ]
  },
  {
   "cell_type": "markdown",
   "metadata": {},
   "source": [
    "<div style=\"background-color: rgba(0,0,255,0.05) ; padding: 10px; border: 1px solid darkblue;\"> \n",
    "<b>Class Activity</b>: Convert the model to matrix form.\n",
    "</div>"
   ]
  },
  {
   "cell_type": "markdown",
   "metadata": {},
   "source": [
    "### 6e-iii. Solve with Gaussian Elimination"
   ]
  },
  {
   "cell_type": "code",
   "execution_count": 32,
   "metadata": {
    "tags": []
   },
   "outputs": [],
   "source": [
    "def print_solution(x):\n",
    "    '''Print solution for this specific mole balance problem\n",
    "    \n",
    "    Argument:\n",
    "        x: solution vector\n",
    "        \n",
    "    Returns:\n",
    "        Nothing\n",
    "    \n",
    "    '''\n",
    "    \n",
    "    print(\"Stream description : Component = flowrate\")\n",
    "    print(\"mixer outlet: A = \",x[0])\n",
    "    print(\"mixer effluent: B = \",x[1])\n",
    "    print(\"reactor effluent: A = \",x[2])\n",
    "    print(\"reactor effluent: B = \",x[3])\n",
    "    print(\"product: A = \",x[4])\n",
    "    print(\"product: B = \",x[5])\n",
    "    print(\"recycle: A = \",x[6])\n",
    "    print(\"recycle: B = \",x[7])\n",
    "    "
   ]
  },
  {
   "cell_type": "markdown",
   "metadata": {},
   "source": [
    "<div style=\"background-color: rgba(0,0,255,0.05) ; padding: 10px; border: 1px solid darkblue;\"> \n",
    "<b>Class Activity</b>: Finish populating <tt>A_ex</tt> and <tt>b_ex</tt> below.\n",
    "</div>"
   ]
  },
  {
   "cell_type": "code",
   "execution_count": 33,
   "metadata": {},
   "outputs": [
    {
     "name": "stdout",
     "output_type": "stream",
     "text": [
      "A=\n",
      " [[ 1.   0.   0.   0.   0.   0.  -1.   0. ]\n",
      " [ 0.   1.   0.   0.   0.   0.   0.  -1. ]\n",
      " [ 0.9  0.  -1.   0.   0.   0.   0.   0. ]\n",
      " [ 1.   1.  -1.  -1.   0.   0.   0.   0. ]\n",
      " [ 0.   0.   1.   0.  -1.   0.  -1.   0. ]\n",
      " [ 0.   0.   0.   1.   0.  -1.   0.  -1. ]\n",
      " [ 0.   0.   0.   0.   4.   0.  -1.   0. ]\n",
      " [ 0.   0.   0.   0.   0.   1.   0.  -8. ]]\n",
      "\n",
      "b=\n",
      " [99.  1.  0.  0.  0.  0.  0.  0.]\n"
     ]
    }
   ],
   "source": [
    "## Assemble A matrix\n",
    "A_ex = np.zeros((8,8))\n",
    "\n",
    "A_ex[0,0] = 1\n",
    "A_ex[0,6] = -1\n",
    "A_ex[1,1] = 1\n",
    "A_ex[1,7] = -1\n",
    "### BEGIN SOLUTION\n",
    "A_ex[2,0] = 0.9\n",
    "A_ex[2,2] = -1\n",
    "A_ex[3,0:2] = 1\n",
    "A_ex[3,2:4] = -1\n",
    "A_ex[4,2] = 1\n",
    "A_ex[4,4] = -1\n",
    "A_ex[4,6] = -1\n",
    "A_ex[5,3] = 1\n",
    "A_ex[5,5] = -1\n",
    "A_ex[5,7] = -1\n",
    "### END SOLUTION\n",
    "A_ex[6,4] = 4\n",
    "A_ex[6,6] = -1\n",
    "A_ex[7,5] = 1\n",
    "A_ex[7,7] = -8\n",
    "\n",
    "print(\"A=\\n\",A_ex)\n",
    "\n",
    "## Assemble b vector\n",
    "\n",
    "b_ex = np.zeros(8)\n",
    "b_ex[0] = 99\n",
    "### BEGIN SOLUTION\n",
    "b_ex[1] = 1\n",
    "### END SOLUTION\n",
    "print(\"\\nb=\\n\",b_ex)"
   ]
  },
  {
   "cell_type": "code",
   "execution_count": 34,
   "metadata": {},
   "outputs": [
    {
     "name": "stdout",
     "output_type": "stream",
     "text": [
      "s = [1. 1. 1. 1. 1. 1. 4. 8.]\n",
      "Original Augmented Matrix is\n",
      " [[ 1.   0.   0.   0.   0.   0.  -1.   0.  99. ]\n",
      " [ 0.   1.   0.   0.   0.   0.   0.  -1.   1. ]\n",
      " [ 0.9  0.  -1.   0.   0.   0.   0.   0.   0. ]\n",
      " [ 1.   1.  -1.  -1.   0.   0.   0.   0.   0. ]\n",
      " [ 0.   0.   1.   0.  -1.   0.  -1.   0.   0. ]\n",
      " [ 0.   0.   0.   1.   0.  -1.   0.  -1.   0. ]\n",
      " [ 0.   0.   0.   0.   4.   0.  -1.   0.   0. ]\n",
      " [ 0.   0.   0.   0.   0.   1.   0.  -8.   0. ]]\n",
      "Final aug_matrix is\n",
      " [[ 1.00000000e+00  0.00000000e+00  0.00000000e+00  0.00000000e+00\n",
      "   0.00000000e+00  0.00000000e+00 -1.00000000e+00  0.00000000e+00\n",
      "   9.90000000e+01]\n",
      " [ 0.00000000e+00  1.00000000e+00  0.00000000e+00  0.00000000e+00\n",
      "   0.00000000e+00  0.00000000e+00  0.00000000e+00 -1.00000000e+00\n",
      "   1.00000000e+00]\n",
      " [ 0.00000000e+00  0.00000000e+00 -1.00000000e+00  0.00000000e+00\n",
      "   0.00000000e+00  0.00000000e+00  9.00000000e-01  0.00000000e+00\n",
      "  -8.91000000e+01]\n",
      " [ 0.00000000e+00  0.00000000e+00  0.00000000e+00 -1.00000000e+00\n",
      "   0.00000000e+00  0.00000000e+00  1.00000000e-01  1.00000000e+00\n",
      "  -1.09000000e+01]\n",
      " [ 0.00000000e+00  0.00000000e+00  0.00000000e+00  0.00000000e+00\n",
      "  -1.00000000e+00  0.00000000e+00 -1.00000000e-01  0.00000000e+00\n",
      "  -8.91000000e+01]\n",
      " [ 0.00000000e+00  0.00000000e+00  0.00000000e+00  0.00000000e+00\n",
      "   0.00000000e+00 -1.00000000e+00  1.00000000e-01  0.00000000e+00\n",
      "  -1.09000000e+01]\n",
      " [ 0.00000000e+00  0.00000000e+00  0.00000000e+00  0.00000000e+00\n",
      "   0.00000000e+00  0.00000000e+00 -1.40000000e+00  0.00000000e+00\n",
      "  -3.56400000e+02]\n",
      " [ 0.00000000e+00  0.00000000e+00  0.00000000e+00  0.00000000e+00\n",
      "   0.00000000e+00  0.00000000e+00  1.38777878e-17 -8.00000000e+00\n",
      "  -3.63571429e+01]]\n"
     ]
    }
   ],
   "source": [
    "## Solve\n",
    "x = GaussElimPivotSolve(A_ex, b_ex, LOUD=True)"
   ]
  },
  {
   "cell_type": "code",
   "execution_count": 35,
   "metadata": {},
   "outputs": [
    {
     "name": "stdout",
     "output_type": "stream",
     "text": [
      "Stream description : Component = flowrate\n",
      "mixer outlet: A =  353.5714285714286\n",
      "mixer effluent: B =  5.544642857142856\n",
      "reactor effluent: A =  318.2142857142858\n",
      "reactor effluent: B =  40.9017857142857\n",
      "product: A =  63.64285714285715\n",
      "product: B =  36.35714285714285\n",
      "recycle: A =  254.5714285714286\n",
      "recycle: B =  4.544642857142856\n"
     ]
    }
   ],
   "source": [
    "print_solution(x)"
   ]
  },
  {
   "cell_type": "markdown",
   "metadata": {},
   "source": [
    "### Flip the order of the row"
   ]
  },
  {
   "cell_type": "markdown",
   "metadata": {},
   "source": [
    "What happens if we flip write the equations in reserve order?"
   ]
  },
  {
   "cell_type": "code",
   "execution_count": 36,
   "metadata": {},
   "outputs": [
    {
     "name": "stdout",
     "output_type": "stream",
     "text": [
      "A=\n",
      " [[ 0.   0.   0.   0.   0.   1.   0.  -8. ]\n",
      " [ 0.   0.   0.   0.   4.   0.  -1.   0. ]\n",
      " [ 0.   0.   0.   1.   0.  -1.   0.  -1. ]\n",
      " [ 0.   0.   1.   0.  -1.   0.  -1.   0. ]\n",
      " [ 1.   1.  -1.  -1.   0.   0.   0.   0. ]\n",
      " [ 0.9  0.  -1.   0.   0.   0.   0.   0. ]\n",
      " [ 0.   1.   0.   0.   0.   0.   0.  -1. ]\n",
      " [ 1.   0.   0.   0.   0.   0.  -1.   0. ]]\n",
      "\n",
      "b=\n",
      " [ 0.  0.  0.  0.  0.  0.  1. 99.]\n"
     ]
    }
   ],
   "source": [
    "A_flip = np.flipud(A_ex.copy())\n",
    "b_flip = np.flipud(b_ex.copy())\n",
    "print(\"A=\\n\",A_flip)\n",
    "print(\"\\nb=\\n\",b_flip)"
   ]
  },
  {
   "cell_type": "code",
   "execution_count": 37,
   "metadata": {},
   "outputs": [
    {
     "name": "stdout",
     "output_type": "stream",
     "text": [
      "s = [8. 4. 1. 1. 1. 1. 1. 1.]\n",
      "Original Augmented Matrix is\n",
      " [[ 0.   0.   0.   0.   0.   1.   0.  -8.   0. ]\n",
      " [ 0.   0.   0.   0.   4.   0.  -1.   0.   0. ]\n",
      " [ 0.   0.   0.   1.   0.  -1.   0.  -1.   0. ]\n",
      " [ 0.   0.   1.   0.  -1.   0.  -1.   0.   0. ]\n",
      " [ 1.   1.  -1.  -1.   0.   0.   0.   0.   0. ]\n",
      " [ 0.9  0.  -1.   0.   0.   0.   0.   0.   0. ]\n",
      " [ 0.   1.   0.   0.   0.   0.   0.  -1.   1. ]\n",
      " [ 1.   0.   0.   0.   0.   0.  -1.   0.  99. ]]\n",
      "Swapping row 0 with row 4\n",
      "Pre swap\n",
      " [[ 0.   0.   0.   0.   0.   1.   0.  -8.   0. ]\n",
      " [ 0.   0.   0.   0.   4.   0.  -1.   0.   0. ]\n",
      " [ 0.   0.   0.   1.   0.  -1.   0.  -1.   0. ]\n",
      " [ 0.   0.   1.   0.  -1.   0.  -1.   0.   0. ]\n",
      " [ 1.   1.  -1.  -1.   0.   0.   0.   0.   0. ]\n",
      " [ 0.9  0.  -1.   0.   0.   0.   0.   0.   0. ]\n",
      " [ 0.   1.   0.   0.   0.   0.   0.  -1.   1. ]\n",
      " [ 1.   0.   0.   0.   0.   0.  -1.   0.  99. ]]\n",
      "A =\n",
      " [[ 1.   1.  -1.  -1.   0.   0.   0.   0.   0. ]\n",
      " [ 0.   0.   0.   0.   4.   0.  -1.   0.   0. ]\n",
      " [ 0.   0.   0.   1.   0.  -1.   0.  -1.   0. ]\n",
      " [ 0.   0.   1.   0.  -1.   0.  -1.   0.   0. ]\n",
      " [ 0.   0.   0.   0.   0.   1.   0.  -8.   0. ]\n",
      " [ 0.9  0.  -1.   0.   0.   0.   0.   0.   0. ]\n",
      " [ 0.   1.   0.   0.   0.   0.   0.  -1.   1. ]\n",
      " [ 1.   0.   0.   0.   0.   0.  -1.   0.  99. ]]\n",
      "new_s =\n",
      " [1. 4. 1. 1. 8. 1. 1. 1.]\n",
      "Swapping row 1 with row 6\n",
      "Pre swap\n",
      " [[ 1.   1.  -1.  -1.   0.   0.   0.   0.   0. ]\n",
      " [ 0.   0.   0.   0.   4.   0.  -1.   0.   0. ]\n",
      " [ 0.   0.   0.   1.   0.  -1.   0.  -1.   0. ]\n",
      " [ 0.   0.   1.   0.  -1.   0.  -1.   0.   0. ]\n",
      " [ 0.   0.   0.   0.   0.   1.   0.  -8.   0. ]\n",
      " [ 0.  -0.9 -0.1  0.9  0.   0.   0.   0.   0. ]\n",
      " [ 0.   1.   0.   0.   0.   0.   0.  -1.   1. ]\n",
      " [ 0.  -1.   1.   1.   0.   0.  -1.   0.  99. ]]\n",
      "A =\n",
      " [[ 1.   1.  -1.  -1.   0.   0.   0.   0.   0. ]\n",
      " [ 0.   1.   0.   0.   0.   0.   0.  -1.   1. ]\n",
      " [ 0.   0.   0.   1.   0.  -1.   0.  -1.   0. ]\n",
      " [ 0.   0.   1.   0.  -1.   0.  -1.   0.   0. ]\n",
      " [ 0.   0.   0.   0.   0.   1.   0.  -8.   0. ]\n",
      " [ 0.  -0.9 -0.1  0.9  0.   0.   0.   0.   0. ]\n",
      " [ 0.   0.   0.   0.   4.   0.  -1.   0.   0. ]\n",
      " [ 0.  -1.   1.   1.   0.   0.  -1.   0.  99. ]]\n",
      "new_s =\n",
      " [1. 1. 1. 1. 8. 1. 4. 1.]\n",
      "Swapping row 2 with row 3\n",
      "Pre swap\n",
      " [[ 1.e+00  1.e+00 -1.e+00 -1.e+00  0.e+00  0.e+00  0.e+00  0.e+00  0.e+00]\n",
      " [ 0.e+00  1.e+00  0.e+00  0.e+00  0.e+00  0.e+00  0.e+00 -1.e+00  1.e+00]\n",
      " [ 0.e+00  0.e+00  0.e+00  1.e+00  0.e+00 -1.e+00  0.e+00 -1.e+00  0.e+00]\n",
      " [ 0.e+00  0.e+00  1.e+00  0.e+00 -1.e+00  0.e+00 -1.e+00  0.e+00  0.e+00]\n",
      " [ 0.e+00  0.e+00  0.e+00  0.e+00  0.e+00  1.e+00  0.e+00 -8.e+00  0.e+00]\n",
      " [ 0.e+00  0.e+00 -1.e-01  9.e-01  0.e+00  0.e+00  0.e+00 -9.e-01  9.e-01]\n",
      " [ 0.e+00  0.e+00  0.e+00  0.e+00  4.e+00  0.e+00 -1.e+00  0.e+00  0.e+00]\n",
      " [ 0.e+00  0.e+00  1.e+00  1.e+00  0.e+00  0.e+00 -1.e+00 -1.e+00  1.e+02]]\n",
      "A =\n",
      " [[ 1.e+00  1.e+00 -1.e+00 -1.e+00  0.e+00  0.e+00  0.e+00  0.e+00  0.e+00]\n",
      " [ 0.e+00  1.e+00  0.e+00  0.e+00  0.e+00  0.e+00  0.e+00 -1.e+00  1.e+00]\n",
      " [ 0.e+00  0.e+00  1.e+00  0.e+00 -1.e+00  0.e+00 -1.e+00  0.e+00  0.e+00]\n",
      " [ 0.e+00  0.e+00  0.e+00  1.e+00  0.e+00 -1.e+00  0.e+00 -1.e+00  0.e+00]\n",
      " [ 0.e+00  0.e+00  0.e+00  0.e+00  0.e+00  1.e+00  0.e+00 -8.e+00  0.e+00]\n",
      " [ 0.e+00  0.e+00 -1.e-01  9.e-01  0.e+00  0.e+00  0.e+00 -9.e-01  9.e-01]\n",
      " [ 0.e+00  0.e+00  0.e+00  0.e+00  4.e+00  0.e+00 -1.e+00  0.e+00  0.e+00]\n",
      " [ 0.e+00  0.e+00  1.e+00  1.e+00  0.e+00  0.e+00 -1.e+00 -1.e+00  1.e+02]]\n",
      "new_s =\n",
      " [1. 1. 1. 1. 8. 1. 4. 1.]\n",
      "Swapping row 4 with row 6\n",
      "Pre swap\n",
      " [[ 1.e+00  1.e+00 -1.e+00 -1.e+00  0.e+00  0.e+00  0.e+00  0.e+00  0.e+00]\n",
      " [ 0.e+00  1.e+00  0.e+00  0.e+00  0.e+00  0.e+00  0.e+00 -1.e+00  1.e+00]\n",
      " [ 0.e+00  0.e+00  1.e+00  0.e+00 -1.e+00  0.e+00 -1.e+00  0.e+00  0.e+00]\n",
      " [ 0.e+00  0.e+00  0.e+00  1.e+00  0.e+00 -1.e+00  0.e+00 -1.e+00  0.e+00]\n",
      " [ 0.e+00  0.e+00  0.e+00  0.e+00  0.e+00  1.e+00  0.e+00 -8.e+00  0.e+00]\n",
      " [ 0.e+00  0.e+00  0.e+00  0.e+00 -1.e-01  9.e-01 -1.e-01  0.e+00  9.e-01]\n",
      " [ 0.e+00  0.e+00  0.e+00  0.e+00  4.e+00  0.e+00 -1.e+00  0.e+00  0.e+00]\n",
      " [ 0.e+00  0.e+00  0.e+00  0.e+00  1.e+00  1.e+00  0.e+00  0.e+00  1.e+02]]\n",
      "A =\n",
      " [[ 1.e+00  1.e+00 -1.e+00 -1.e+00  0.e+00  0.e+00  0.e+00  0.e+00  0.e+00]\n",
      " [ 0.e+00  1.e+00  0.e+00  0.e+00  0.e+00  0.e+00  0.e+00 -1.e+00  1.e+00]\n",
      " [ 0.e+00  0.e+00  1.e+00  0.e+00 -1.e+00  0.e+00 -1.e+00  0.e+00  0.e+00]\n",
      " [ 0.e+00  0.e+00  0.e+00  1.e+00  0.e+00 -1.e+00  0.e+00 -1.e+00  0.e+00]\n",
      " [ 0.e+00  0.e+00  0.e+00  0.e+00  4.e+00  0.e+00 -1.e+00  0.e+00  0.e+00]\n",
      " [ 0.e+00  0.e+00  0.e+00  0.e+00 -1.e-01  9.e-01 -1.e-01  0.e+00  9.e-01]\n",
      " [ 0.e+00  0.e+00  0.e+00  0.e+00  0.e+00  1.e+00  0.e+00 -8.e+00  0.e+00]\n",
      " [ 0.e+00  0.e+00  0.e+00  0.e+00  1.e+00  1.e+00  0.e+00  0.e+00  1.e+02]]\n",
      "new_s =\n",
      " [1. 1. 1. 1. 4. 1. 8. 1.]\n",
      "Swapping row 5 with row 7\n",
      "Pre swap\n",
      " [[  1.      1.     -1.     -1.      0.      0.      0.      0.      0.   ]\n",
      " [  0.      1.      0.      0.      0.      0.      0.     -1.      1.   ]\n",
      " [  0.      0.      1.      0.     -1.      0.     -1.      0.      0.   ]\n",
      " [  0.      0.      0.      1.      0.     -1.      0.     -1.      0.   ]\n",
      " [  0.      0.      0.      0.      4.      0.     -1.      0.      0.   ]\n",
      " [  0.      0.      0.      0.      0.      0.9    -0.125   0.      0.9  ]\n",
      " [  0.      0.      0.      0.      0.      1.      0.     -8.      0.   ]\n",
      " [  0.      0.      0.      0.      0.      1.      0.25    0.    100.   ]]\n",
      "A =\n",
      " [[  1.      1.     -1.     -1.      0.      0.      0.      0.      0.   ]\n",
      " [  0.      1.      0.      0.      0.      0.      0.     -1.      1.   ]\n",
      " [  0.      0.      1.      0.     -1.      0.     -1.      0.      0.   ]\n",
      " [  0.      0.      0.      1.      0.     -1.      0.     -1.      0.   ]\n",
      " [  0.      0.      0.      0.      4.      0.     -1.      0.      0.   ]\n",
      " [  0.      0.      0.      0.      0.      1.      0.25    0.    100.   ]\n",
      " [  0.      0.      0.      0.      0.      1.      0.     -8.      0.   ]\n",
      " [  0.      0.      0.      0.      0.      0.9    -0.125   0.      0.9  ]]\n",
      "new_s =\n",
      " [1. 1. 1. 1. 4. 1. 8. 1.]\n",
      "Swapping row 6 with row 7\n",
      "Pre swap\n",
      " [[   1.      1.     -1.     -1.      0.      0.      0.      0.      0.  ]\n",
      " [   0.      1.      0.      0.      0.      0.      0.     -1.      1.  ]\n",
      " [   0.      0.      1.      0.     -1.      0.     -1.      0.      0.  ]\n",
      " [   0.      0.      0.      1.      0.     -1.      0.     -1.      0.  ]\n",
      " [   0.      0.      0.      0.      4.      0.     -1.      0.      0.  ]\n",
      " [   0.      0.      0.      0.      0.      1.      0.25    0.    100.  ]\n",
      " [   0.      0.      0.      0.      0.      0.     -0.25   -8.   -100.  ]\n",
      " [   0.      0.      0.      0.      0.      0.     -0.35    0.    -89.1 ]]\n",
      "A =\n",
      " [[   1.      1.     -1.     -1.      0.      0.      0.      0.      0.  ]\n",
      " [   0.      1.      0.      0.      0.      0.      0.     -1.      1.  ]\n",
      " [   0.      0.      1.      0.     -1.      0.     -1.      0.      0.  ]\n",
      " [   0.      0.      0.      1.      0.     -1.      0.     -1.      0.  ]\n",
      " [   0.      0.      0.      0.      4.      0.     -1.      0.      0.  ]\n",
      " [   0.      0.      0.      0.      0.      1.      0.25    0.    100.  ]\n",
      " [   0.      0.      0.      0.      0.      0.     -0.35    0.    -89.1 ]\n",
      " [   0.      0.      0.      0.      0.      0.     -0.25   -8.   -100.  ]]\n",
      "new_s =\n",
      " [1. 1. 1. 1. 4. 1. 1. 8.]\n",
      "Final aug_matrix is\n",
      " [[  1.           1.          -1.          -1.           0.\n",
      "    0.           0.           0.           0.        ]\n",
      " [  0.           1.           0.           0.           0.\n",
      "    0.           0.          -1.           1.        ]\n",
      " [  0.           0.           1.           0.          -1.\n",
      "    0.          -1.           0.           0.        ]\n",
      " [  0.           0.           0.           1.           0.\n",
      "   -1.           0.          -1.           0.        ]\n",
      " [  0.           0.           0.           0.           4.\n",
      "    0.          -1.           0.           0.        ]\n",
      " [  0.           0.           0.           0.           0.\n",
      "    1.           0.25         0.         100.        ]\n",
      " [  0.           0.           0.           0.           0.\n",
      "    0.          -0.35         0.         -89.1       ]\n",
      " [  0.           0.           0.           0.           0.\n",
      "    0.           0.          -8.         -36.35714286]]\n"
     ]
    }
   ],
   "source": [
    "x_flip = GaussElimPivotSolve(A_flip, b_flip, LOUD=True)"
   ]
  },
  {
   "cell_type": "code",
   "execution_count": 38,
   "metadata": {},
   "outputs": [
    {
     "name": "stdout",
     "output_type": "stream",
     "text": [
      "Stream description : Component = flowrate\n",
      "mixer outlet: A =  353.5714285714286\n",
      "mixer effluent: B =  5.544642857142858\n",
      "reactor effluent: A =  318.2142857142857\n",
      "reactor effluent: B =  40.90178571428571\n",
      "product: A =  63.642857142857146\n",
      "product: B =  36.357142857142854\n",
      "recycle: A =  254.57142857142858\n",
      "recycle: B =  4.544642857142858\n"
     ]
    }
   ],
   "source": [
    "print_solution(x_flip)"
   ]
  },
  {
   "cell_type": "markdown",
   "metadata": {},
   "source": [
    "We see that we get the same order but need to pivot! Let's try without pivoting."
   ]
  },
  {
   "cell_type": "code",
   "execution_count": 39,
   "metadata": {},
   "outputs": [
    {
     "name": "stdout",
     "output_type": "stream",
     "text": [
      "\n",
      "aug_mat = \n",
      " [[ 0.  0.  0.  0.  0.  1.  0. -8.  0.]\n",
      " [nan nan nan nan nan nan nan nan nan]\n",
      " [nan nan nan nan nan nan nan nan nan]\n",
      " [nan nan nan nan nan nan nan nan nan]\n",
      " [nan nan nan nan nan nan nan nan nan]\n",
      " [nan nan nan nan nan nan nan nan nan]\n",
      " [nan nan nan nan nan nan nan nan nan]\n",
      " [nan nan nan nan nan nan nan nan nan]]\n"
     ]
    },
    {
     "name": "stderr",
     "output_type": "stream",
     "text": [
      "C:\\Users\\ebrea\\AppData\\Local\\Temp\\ipykernel_22496\\3212638941.py:44: RuntimeWarning: invalid value encountered in double_scalars\n",
      "  mod_row -= (mod_row[column]/aug_matrix[column,column]*\n",
      "C:\\Users\\ebrea\\AppData\\Local\\Temp\\ipykernel_22496\\3212638941.py:44: RuntimeWarning: divide by zero encountered in double_scalars\n",
      "  mod_row -= (mod_row[column]/aug_matrix[column,column]*\n",
      "C:\\Users\\ebrea\\AppData\\Local\\Temp\\ipykernel_22496\\3212638941.py:44: RuntimeWarning: invalid value encountered in multiply\n",
      "  mod_row -= (mod_row[column]/aug_matrix[column,column]*\n"
     ]
    }
   ],
   "source": [
    "aug_mat = GaussElim(A_flip,b_flip)\n",
    "print(\"\\naug_mat = \\n\",aug_mat)"
   ]
  },
  {
   "cell_type": "markdown",
   "metadata": {},
   "source": [
    "For this problem, we must use pivoting if we start with the equations in a certain order."
   ]
  },
  {
   "cell_type": "markdown",
   "metadata": {},
   "source": [
    "### Replace the 8th equation with an overall mole balance"
   ]
  },
  {
   "cell_type": "markdown",
   "metadata": {},
   "source": [
    "$$n_{p,A} + n_{p_B} = n_{f,A} + n_{f,B} = 100$$"
   ]
  },
  {
   "cell_type": "code",
   "execution_count": 40,
   "metadata": {},
   "outputs": [
    {
     "name": "stdout",
     "output_type": "stream",
     "text": [
      "A=\n",
      " [[ 1.   0.   0.   0.   0.   0.  -1.   0. ]\n",
      " [ 0.   1.   0.   0.   0.   0.   0.  -1. ]\n",
      " [ 0.9  0.  -1.   0.   0.   0.   0.   0. ]\n",
      " [ 1.   1.  -1.  -1.   0.   0.   0.   0. ]\n",
      " [ 0.   0.   1.   0.  -1.   0.  -1.   0. ]\n",
      " [ 0.   0.   0.   1.   0.  -1.   0.  -1. ]\n",
      " [ 0.   0.   0.   0.   4.   0.  -1.   0. ]\n",
      " [ 0.   0.   0.   0.   1.   1.   0.   0. ]]\n",
      "\n",
      "b=\n",
      " [ 99.   1.   0.   0.   0.   0.   0. 100.]\n"
     ]
    }
   ],
   "source": [
    "A_new = A_ex.copy()\n",
    "b_new = b_ex.copy()\n",
    "\n",
    "A_new[7,:] = np.zeros(8)\n",
    "A_new[7,4] = 1\n",
    "A_new[7,5] = 1\n",
    "b_new[7] = 100\n",
    "\n",
    "print(\"A=\\n\",A_new)\n",
    "print(\"\\nb=\\n\",b_new)"
   ]
  },
  {
   "cell_type": "code",
   "execution_count": 41,
   "metadata": {},
   "outputs": [
    {
     "name": "stdout",
     "output_type": "stream",
     "text": [
      "s = [1. 1. 1. 1. 1. 1. 4. 1.]\n",
      "Original Augmented Matrix is\n",
      " [[  1.    0.    0.    0.    0.    0.   -1.    0.   99. ]\n",
      " [  0.    1.    0.    0.    0.    0.    0.   -1.    1. ]\n",
      " [  0.9   0.   -1.    0.    0.    0.    0.    0.    0. ]\n",
      " [  1.    1.   -1.   -1.    0.    0.    0.    0.    0. ]\n",
      " [  0.    0.    1.    0.   -1.    0.   -1.    0.    0. ]\n",
      " [  0.    0.    0.    1.    0.   -1.    0.   -1.    0. ]\n",
      " [  0.    0.    0.    0.    4.    0.   -1.    0.    0. ]\n",
      " [  0.    0.    0.    0.    1.    1.    0.    0.  100. ]]\n",
      "Final aug_matrix is\n",
      " [[ 1.000e+00  0.000e+00  0.000e+00  0.000e+00  0.000e+00  0.000e+00\n",
      "  -1.000e+00  0.000e+00  9.900e+01]\n",
      " [ 0.000e+00  1.000e+00  0.000e+00  0.000e+00  0.000e+00  0.000e+00\n",
      "   0.000e+00 -1.000e+00  1.000e+00]\n",
      " [ 0.000e+00  0.000e+00 -1.000e+00  0.000e+00  0.000e+00  0.000e+00\n",
      "   9.000e-01  0.000e+00 -8.910e+01]\n",
      " [ 0.000e+00  0.000e+00  0.000e+00 -1.000e+00  0.000e+00  0.000e+00\n",
      "   1.000e-01  1.000e+00 -1.090e+01]\n",
      " [ 0.000e+00  0.000e+00  0.000e+00  0.000e+00 -1.000e+00  0.000e+00\n",
      "  -1.000e-01  0.000e+00 -8.910e+01]\n",
      " [ 0.000e+00  0.000e+00  0.000e+00  0.000e+00  0.000e+00 -1.000e+00\n",
      "   1.000e-01  0.000e+00 -1.090e+01]\n",
      " [ 0.000e+00  0.000e+00  0.000e+00  0.000e+00  0.000e+00  0.000e+00\n",
      "  -1.400e+00  0.000e+00 -3.564e+02]\n",
      " [ 0.000e+00  0.000e+00  0.000e+00  0.000e+00  0.000e+00  0.000e+00\n",
      "   0.000e+00  0.000e+00  0.000e+00]]\n"
     ]
    },
    {
     "name": "stderr",
     "output_type": "stream",
     "text": [
      "C:\\Users\\ebrea\\AppData\\Local\\Temp\\ipykernel_22496\\4228863779.py:41: RuntimeWarning: invalid value encountered in double_scalars\n",
      "  x[row] = RHS/aug_matrix[row,row]\n"
     ]
    }
   ],
   "source": [
    "x_new = GaussElimPivotSolve(A_new, b_new, LOUD=True)"
   ]
  },
  {
   "cell_type": "markdown",
   "metadata": {},
   "source": [
    "Why did this fail? Because 1 mole of A converts to 1 mole of B, the overall mole balance is a valid equation!"
   ]
  },
  {
   "cell_type": "markdown",
   "metadata": {},
   "source": [
    "<div style=\"background-color: rgba(0,0,255,0.05) ; padding: 10px; border: 1px solid darkblue;\"> \n",
    "<b>Class Activity</b>: Discuss with a partner. Hint: How is the invertible matrix theorem helpful?\n",
    "</div>"
   ]
  },
  {
   "cell_type": "code",
   "execution_count": 42,
   "metadata": {},
   "outputs": [
    {
     "data": {
      "text/plain": [
       "8"
      ]
     },
     "execution_count": 42,
     "metadata": {},
     "output_type": "execute_result"
    }
   ],
   "source": [
    "# hint: find the rank of A_ex\n",
    "### BEGIN SOLUTION\n",
    "np.linalg.matrix_rank(A_ex)\n",
    "### END SOLUTION"
   ]
  },
  {
   "cell_type": "code",
   "execution_count": 43,
   "metadata": {},
   "outputs": [
    {
     "data": {
      "text/plain": [
       "7"
      ]
     },
     "execution_count": 43,
     "metadata": {},
     "output_type": "execute_result"
    }
   ],
   "source": [
    "# hint: find the rank of A_new\n",
    "### BEGIN SOLUTION\n",
    "np.linalg.matrix_rank(A_new)\n",
    "### END SOLUTION"
   ]
  }
 ],
 "metadata": {
  "colab": {
   "name": "L8-Gauss-Elimination.ipynb",
   "provenance": [],
   "version": "0.3.2"
  },
  "kernelspec": {
   "display_name": "Python 3 (ipykernel)",
   "language": "python",
   "name": "python3"
  },
  "language_info": {
   "codemirror_mode": {
    "name": "ipython",
    "version": 3
   },
   "file_extension": ".py",
   "mimetype": "text/x-python",
   "name": "python",
   "nbconvert_exporter": "python",
   "pygments_lexer": "ipython3",
   "version": "3.9.12"
  }
 },
 "nbformat": 4,
 "nbformat_minor": 4
}
