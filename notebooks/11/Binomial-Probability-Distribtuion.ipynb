{
 "cells": [
  {
   "cell_type": "markdown",
   "metadata": {
    "colab_type": "text",
    "id": "qYVuIBsFIntT"
   },
   "source": [
    "# Binomial Probability Distributions\n",
    "**Further Reading**: §4.2 in Navidi (2015)"
   ]
  },
  {
   "cell_type": "markdown",
   "metadata": {
    "colab_type": "text",
    "id": "1PJ6EcCl06sV"
   },
   "source": [
    "## Learning Objectives\n",
    "\n",
    "After studying this notebook, completing the activities, engaging in class, and reading the book, you should be able to:\n",
    "\n",
    "* Model scientific and engineering problems using the binomial distribution."
   ]
  },
  {
   "cell_type": "markdown",
   "metadata": {},
   "source": [
    "## Definition"
   ]
  },
  {
   "cell_type": "markdown",
   "metadata": {},
   "source": [
    "The binomial distribution considers repeated \"success\" or \"failure\" experiments.\n",
    "\n",
    "If a total of $n$ Bernoulli trials (see the [Bernoulli notebook](../09-publish/01-Bernoulli-Probability-Distribution.ipynb)) are conducted, and\n",
    "* The trials are independent\n",
    "* Each trial has the same success probability $p$\n",
    "* $X$ is the number of successes in the $n$ trials\n",
    "\n",
    "then $X$ has (follows) the binomial distribution with parameters $n$ and $p$, denoted $X \\sim $ Bin($n,p$)."
   ]
  },
  {
   "cell_type": "markdown",
   "metadata": {},
   "source": [
    "The binomial distribution as the probability mass function\n",
    "\n",
    "$$p(x) = P(X = x) = \\begin{cases}\n",
    "               \\frac{n!}{x!(n-x)!} p^x (1-p)^{n-x} & x=0,1,...,n\\\\\n",
    "               0 & \\mathrm{otherwise}\n",
    "            \\end{cases}$$"
   ]
  },
  {
   "cell_type": "markdown",
   "metadata": {},
   "source": [
    "Recall how to count combinations $n$ choose $x$:\n",
    "    \n",
    "$${n \\choose x} = \\frac{n!}{x!(n-x)!}$$"
   ]
  },
  {
   "cell_type": "markdown",
   "metadata": {},
   "source": [
    "<div class=\"admonition note\"> \n",
    "<p class=\"title\"><b>Class Activity</b></p>\n",
    " Explain to your neighbor the three parts of the binomial PMF. Why does it make sense that one of these parts counts combinations?\n",
    "</div>"
   ]
  },
  {
   "cell_type": "markdown",
   "metadata": {},
   "source": [
    "Using the definition for mean and variance and the binomial PMF, one derived the following formulae:\n",
    "\n",
    "$$\\mu_x = n p$$\n",
    "\n",
    "$$\\sigma_{X}^2 = np(1-p)$$"
   ]
  },
  {
   "cell_type": "markdown",
   "metadata": {},
   "source": [
    "## Example: Flipping Three Coins"
   ]
  },
  {
   "cell_type": "markdown",
   "metadata": {},
   "source": [
    "Let's start by enumerating all three possible outcomes for flipping 3 coins."
   ]
  },
  {
   "cell_type": "markdown",
   "metadata": {},
   "source": [
    "<div class=\"admonition seealso\"> \n",
    "<p class=\"title\"><b>Home Activity</b></p>\n",
    " Study the code below. At this point in the semester, we will only walk through Python examples like the one below if there are questions. When you do your at home preparation, be sure to write down your questions in this notebook.\n",
    "</div>"
   ]
  },
  {
   "cell_type": "code",
   "execution_count": 1,
   "metadata": {
    "tags": []
   },
   "outputs": [],
   "source": [
    "def enumerate_coin_flips(n,LOUD=True):\n",
    "    '''Enumerate all possible outcomes of n coin flips\n",
    "    \n",
    "    Arg:\n",
    "        n: number of coins to flip\n",
    "        LOUD: print each flip to the screen\n",
    "        \n",
    "    Returns:\n",
    "        summary: dictionary with value: number of heads (successes) and key: fraction of outcomes\n",
    "    '''\n",
    "    \n",
    "    # set counter to 0\n",
    "    i = 0\n",
    "    \n",
    "    # calculate number of total outcomes\n",
    "    total = 2**n\n",
    "    \n",
    "    # initialize dictionary\n",
    "    summary = {}\n",
    "    for j in range(n+1):\n",
    "        summary[j] = 0\n",
    "    \n",
    "    # start with all tails\n",
    "    outcome = [False for j in range(n)]\n",
    "    \n",
    "    if LOUD:\n",
    "        print(\"Enumerating all outcomes for\",n,\"flips of a fair coin.\")\n",
    "    \n",
    "    while i < total:\n",
    "        if LOUD:\n",
    "            print(outcome)\n",
    "        \n",
    "        # count number of heads (Trues)\n",
    "        num_heads = sum(outcome)\n",
    "        \n",
    "        # record in dictionary\n",
    "        summary[num_heads] += 1\n",
    "        \n",
    "        # increment to next outcome\n",
    "        keep_going = True\n",
    "        k = 0\n",
    "        while keep_going and k < n:\n",
    "            # flip element k\n",
    "            if outcome[k] is False:\n",
    "                # flipped from False to True. We can stop.\n",
    "                outcome[k] = True\n",
    "                keep_going = False\n",
    "            else:\n",
    "                # flipped from True to False. We need to flip the next position too.\n",
    "                outcome[k] = False\n",
    "                k += 1\n",
    "        \n",
    "        # increment counter\n",
    "        i += 1\n",
    "    \n",
    "    if LOUD:\n",
    "        print(total,\" total outcomes\")\n",
    "    \n",
    "    # normalize counts stored in `summary` by `total`\n",
    "    for j in range(n+1):\n",
    "        summary[j] = summary[j] / total\n",
    "        \n",
    "    return summary"
   ]
  },
  {
   "cell_type": "code",
   "execution_count": 2,
   "metadata": {},
   "outputs": [
    {
     "name": "stdout",
     "output_type": "stream",
     "text": [
      "Enumerating all outcomes for 3 flips of a fair coin.\n",
      "[False, False, False]\n",
      "[True, False, False]\n",
      "[False, True, False]\n",
      "[True, True, False]\n",
      "[False, False, True]\n",
      "[True, False, True]\n",
      "[False, True, True]\n",
      "[True, True, True]\n",
      "8  total outcomes\n"
     ]
    },
    {
     "data": {
      "text/plain": [
       "{0: 0.125, 1: 0.375, 2: 0.375, 3: 0.125}"
      ]
     },
     "execution_count": 2,
     "metadata": {},
     "output_type": "execute_result"
    }
   ],
   "source": [
    "enumerate_coin_flips(3)"
   ]
  },
  {
   "cell_type": "markdown",
   "metadata": {},
   "source": [
    "Notice our function `enumerate_coin_flips` returned a dictionary with the frequency of 0, 1, 2, and 3 heads. Let's see if the PMF for the binomial distribution matches these results."
   ]
  },
  {
   "cell_type": "code",
   "execution_count": 3,
   "metadata": {
    "tags": []
   },
   "outputs": [],
   "source": [
    "import math\n",
    "\n",
    "def nCr(n,r):\n",
    "    ''' Calculates n choose r\n",
    "    Args:\n",
    "        n : total number of items to choose from\n",
    "        r : number of items to choose\n",
    "    \n",
    "    Return:\n",
    "        Total number of combinations, calculated with factorial formula\n",
    "    \n",
    "    '''\n",
    "    f = math.factorial\n",
    "    # Note: Using integer division, //, prevents overflow errors in Python 3\n",
    "    return f(n) // f(r) // f(n-r)\n",
    "\n",
    "def flip_coins(n,k,p):\n",
    "    ''' Calculate probability of getting k heads in n coin flips\n",
    "    n: total number of coin flips\n",
    "    k: number of heads\n",
    "    p: probability of success (head) for each event (coin flip)\n",
    "    '''\n",
    "    \n",
    "    assert k <= n\n",
    "    assert p <= 1.0\n",
    "    assert p >= 0.0\n",
    "    \n",
    "    return nCr(n,k) * p**k * (1-p)**(n - k)"
   ]
  },
  {
   "cell_type": "markdown",
   "metadata": {},
   "source": [
    "Let's test our function:\n",
    "* Flip 3 coins\n",
    "* Interested in the outcome of exactly 2 heads\n",
    "* Let's use a fair coin: 50% chance for head or tails"
   ]
  },
  {
   "cell_type": "code",
   "execution_count": 4,
   "metadata": {},
   "outputs": [
    {
     "data": {
      "text/plain": [
       "0.375"
      ]
     },
     "execution_count": 4,
     "metadata": {},
     "output_type": "execute_result"
    }
   ],
   "source": [
    "flip_coins(3,2,0.5)"
   ]
  },
  {
   "cell_type": "markdown",
   "metadata": {},
   "source": [
    "<div class=\"admonition seealso\"> \n",
    "<p class=\"title\"><b>Home Activity</b></p>\n",
    " Compute the probability of exactly 1 head when flipping 3 unfair coins that have a 70% chance of heads. Store your answer as a float in the Python variable <tt>ans_16d_1</tt>.\n",
    "</div>"
   ]
  },
  {
   "cell_type": "code",
   "execution_count": 5,
   "metadata": {
    "tags": [
     "remove-output"
    ]
   },
   "outputs": [
    {
     "name": "stdout",
     "output_type": "stream",
     "text": [
      "0.18900000000000003\n"
     ]
    }
   ],
   "source": [
    "# Add your solution here"
   ]
  },
  {
   "cell_type": "code",
   "execution_count": 6,
   "metadata": {
    "nbgrader": {
     "grade": true,
     "grade_id": "16-d",
     "locked": true,
     "points": "0.2",
     "solution": false
    },
    "tags": []
   },
   "outputs": [],
   "source": [
    "# Removed autograder test. You may delete this cell."
   ]
  },
  {
   "cell_type": "markdown",
   "metadata": {},
   "source": [
    "Now let's plot the probability mass function."
   ]
  },
  {
   "cell_type": "code",
   "execution_count": 7,
   "metadata": {
    "tags": []
   },
   "outputs": [
    {
     "data": {
      "image/png": "[encoded data removed]",
      "text/plain": [
       "<Figure size 432x288 with 1 Axes>"
      ]
     },
     "metadata": {
      "needs_background": "light"
     },
     "output_type": "display_data"
    }
   ],
   "source": [
    "n = 10\n",
    "p = 0.5\n",
    "num_heads = []\n",
    "prob = []\n",
    "for k in range(n+1):\n",
    "    num_heads.append(k)\n",
    "    prob.append(flip_coins(n,k,p))\n",
    "    \n",
    "import matplotlib.pyplot as plt\n",
    "plt.bar(num_heads,prob)\n",
    "plt.xlabel(\"Number of Heads\")\n",
    "plt.ylabel(\"Probability\")\n",
    "plt.title(\"PMF for \" + str(n) + \" coin flips with p=\" + str(p))\n",
    "plt.show()"
   ]
  },
  {
   "cell_type": "markdown",
   "metadata": {},
   "source": [
    "<div class=\"admonition seealso\"> \n",
    "<p class=\"title\"><b>Home Activity</b></p>\n",
    " Write a sentence to predict how the PMF will change with an unfair coin that is more likely to land heads than tails.\n",
    "</div>"
   ]
  },
  {
   "cell_type": "markdown",
   "metadata": {},
   "source": [
    "**Home Activity Answer:** "
   ]
  },
  {
   "cell_type": "code",
   "execution_count": 8,
   "metadata": {},
   "outputs": [
    {
     "data": {
      "image/png": "[encoded data removed]",
      "text/plain": [
       "<Figure size 432x288 with 1 Axes>"
      ]
     },
     "metadata": {
      "needs_background": "light"
     },
     "output_type": "display_data"
    }
   ],
   "source": [
    "n = 10\n",
    "p = 0.7\n",
    "num_heads = []\n",
    "prob = []\n",
    "for k in range(n+1):\n",
    "    num_heads.append(k)\n",
    "    prob.append(flip_coins(n,k,p))\n",
    "    \n",
    "import matplotlib.pyplot as plt\n",
    "plt.bar(num_heads,prob)\n",
    "plt.xlabel(\"Number of Heads\")\n",
    "plt.ylabel(\"Probability\")\n",
    "plt.title(\"PMF for \" + str(n) + \" coin flips with p=\" + str(p))\n",
    "plt.show()"
   ]
  },
  {
   "cell_type": "markdown",
   "metadata": {},
   "source": [
    "Now let's use `num_heads` and `prob` from the previous code to plot the **cumulative distribution function** (CDF)."
   ]
  },
  {
   "cell_type": "code",
   "execution_count": 9,
   "metadata": {},
   "outputs": [
    {
     "data": {
      "image/png": "[encoded data removed]",
      "text/plain": [
       "<Figure size 432x288 with 1 Axes>"
      ]
     },
     "metadata": {
      "needs_background": "light"
     },
     "output_type": "display_data"
    }
   ],
   "source": [
    "import numpy as np\n",
    "\n",
    "# Reevaluate the PMF for a fair coin\n",
    "n = 10\n",
    "p = 0.5\n",
    "num_heads = []\n",
    "prob = []\n",
    "for k in range(n+1):\n",
    "    num_heads.append(k)\n",
    "    prob.append(flip_coins(n,k,p))\n",
    "\n",
    "# calculate cumulative sum\n",
    "prob_cum_sum = np.cumsum(prob)\n",
    "\n",
    "# Create the plot\n",
    "import matplotlib.pyplot as plt\n",
    "plt.plot(num_heads,prob_cum_sum)\n",
    "plt.xlabel(\"Number of Heads (k)\")\n",
    "plt.ylabel(\"Probability of N or fewer heads\")\n",
    "plt.title(\"CDF for \" + str(n) + \" coin flips with p=\" + str(p))\n",
    "plt.show()"
   ]
  }
 ],
 "metadata": {
  "colab": {
   "collapsed_sections": [],
   "name": "L15-Error-Propagation.ipynb",
   "provenance": [],
   "version": "0.3.2"
  },
  "kernelspec": {
   "display_name": "Python 3 (ipykernel)",
   "language": "python",
   "name": "python3"
  },
  "language_info": {
   "codemirror_mode": {
    "name": "ipython",
    "version": 3
   },
   "file_extension": ".py",
   "mimetype": "text/x-python",
   "name": "python",
   "nbconvert_exporter": "python",
   "pygments_lexer": "ipython3",
   "version": "3.9.12"
  }
 },
 "nbformat": 4,
 "nbformat_minor": 4
}
