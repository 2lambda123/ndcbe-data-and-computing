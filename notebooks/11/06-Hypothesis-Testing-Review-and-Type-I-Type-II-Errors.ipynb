{
 "cells": [
  {
   "cell_type": "markdown",
   "metadata": {
    "colab_type": "text",
    "id": "Bi9hZ44D2AQJ"
   },
   "source": [
    "# Hypothesis Testing Review and Type I/Type II Errors\n",
    "\n",
    "CBE 20258. Numerical and Statistical Analysis. Spring 2020.\n",
    "\n",
    "&#169; Alexander Dowling, University of Notre Dame"
   ]
  },
  {
   "cell_type": "code",
   "execution_count": 1,
   "metadata": {
    "colab": {},
    "colab_type": "code",
    "id": "9wy-3eQa2AQK",
    "tags": []
   },
   "outputs": [],
   "source": [
    "# load libraries\n",
    "import scipy.stats as stats\n",
    "import numpy as np\n",
    "import math\n",
    "import matplotlib.pyplot as plt"
   ]
  },
  {
   "cell_type": "markdown",
   "metadata": {
    "colab_type": "text",
    "id": "xhyUzB0X2AQO"
   },
   "source": [
    "## Learning Objectives\n",
    "\n",
    "After studying this notebook, completing the activities, participating in class, and reviewing your notes, should be able to:\n",
    "* Formulate null and alternative hypotheses from a problem description\n",
    "* Draw conclusions by interpreting a calculated P-value\n",
    "* Explain Type I and Type II errors in the context of an application"
   ]
  },
  {
   "cell_type": "markdown",
   "metadata": {
    "colab_type": "text",
    "id": "Tna3ltfn2AQP"
   },
   "source": [
    "## Review Hypothesis Testing Conclusions\n",
    "\n",
    "**Further Reading:** §6.2 in Navidi (2015)"
   ]
  },
  {
   "cell_type": "markdown",
   "metadata": {},
   "source": [
    "<div style=\"background-color: rgba(0,255,0,0.05) ; padding: 10px; border: 1px solid darkgreen;\"> \n",
    "<b>Home Activity</b>: At a minimum, skim §6.2 (pg. 409 - 414) in Navidi (2015).\n",
    "</div>"
   ]
  },
  {
   "cell_type": "markdown",
   "metadata": {},
   "source": [
    "### Test your Understading\n",
    "\n",
    "We want to check the calibration of a scale by weighing a standard 10g weight 100 times. Let $\\mu$ be the population mean reading on the scale, so that the scale is in calibration if $\\mu = 10$. A test is made of the hypotheses $H_0: \\mu = 10$ versus $H_a: \\mu \\neq 10$."
   ]
  },
  {
   "cell_type": "markdown",
   "metadata": {},
   "source": [
    "<div style=\"background-color: rgba(0,255,0,0.05) ; padding: 10px; border: 1px solid darkgreen;\"> \n",
    "<b>Home Activity</b>: Answer the following multiple choice questions.\n",
    "</div>"
   ]
  },
  {
   "cell_type": "markdown",
   "metadata": {},
   "source": [
    "Which of the following is the best interpretation of the conclusion \"H$_0$ is rejected\"?\n",
    "1. The scale is in calibration.\n",
    "2. The scale is not in calibration.\n",
    "3. The scale might be in calibration.\n",
    "\n",
    "Store your answer in the Python integer `ans_18a_i`.\n"
   ]
  },
  {
   "cell_type": "code",
   "execution_count": 2,
   "metadata": {
    "tags": []
   },
   "outputs": [],
   "source": [
    "### BEGIN SOLUTION\n",
    "ans_18a_i = 2\n",
    "### END SOLUTION"
   ]
  },
  {
   "cell_type": "code",
   "execution_count": 3,
   "metadata": {
    "nbgrader": {
     "grade": true,
     "grade_id": "18a-i",
     "locked": true,
     "points": "0.1",
     "solution": false
    },
    "tags": []
   },
   "outputs": [],
   "source": [
    "### BEGIN HIDDEN TESTS\n",
    "secret_answer = 2\n",
    "\n",
    "assert ans_18a_i == secret_answer, \"What has the null hypothesis? What does it mean to reject H0?\"\n",
    "\n",
    "### END HIDDEN TESTS"
   ]
  },
  {
   "cell_type": "markdown",
   "metadata": {},
   "source": [
    "Which of the following is the best interpretation of the conclusion \"Failed to reject H$_0$\"?\n",
    "1. The scale is in calibration.\n",
    "2. The scale is not in calibration.\n",
    "3. The scale might be in calibration.\n",
    "\n",
    "Store your answer in the Python integer `ans_18a_ii`."
   ]
  },
  {
   "cell_type": "code",
   "execution_count": 4,
   "metadata": {
    "tags": []
   },
   "outputs": [],
   "source": [
    "### BEGIN SOLUTION\n",
    "ans_18a_ii = 3\n",
    "### END SOLUTION"
   ]
  },
  {
   "cell_type": "code",
   "execution_count": 5,
   "metadata": {
    "nbgrader": {
     "grade": true,
     "grade_id": "18a-ii",
     "locked": true,
     "points": "0.1",
     "solution": false
    },
    "tags": []
   },
   "outputs": [],
   "source": [
    "### BEGIN HIDDEN TESTS\n",
    "secret_answer = 3\n",
    "\n",
    "assert ans_18a_ii == secret_answer, \"What has the null hypothesis? What does it mean to reject H0?\"\n",
    "\n",
    "### END HIDDEN TESTS"
   ]
  },
  {
   "cell_type": "markdown",
   "metadata": {},
   "source": [
    "Is it possible to perform a hypothesis test in a way to demonstrate conclusively the scale is in calibration?\n",
    "1. Yes\n",
    "2. No\n",
    "3. Sometimes yes, sometimes no\n",
    "\n",
    "Store your answer in the Python integer `ans_18a_iii`."
   ]
  },
  {
   "cell_type": "code",
   "execution_count": 6,
   "metadata": {
    "tags": []
   },
   "outputs": [],
   "source": [
    "### BEGIN SOLUTION\n",
    "ans_18a_iii = 2\n",
    "### END SOLUTION"
   ]
  },
  {
   "cell_type": "code",
   "execution_count": 7,
   "metadata": {
    "nbgrader": {
     "grade": true,
     "grade_id": "18a-iii",
     "locked": true,
     "points": "0.1",
     "solution": false
    },
    "tags": []
   },
   "outputs": [],
   "source": [
    "### BEGIN HIDDEN TESTS\n",
    "secret_answer = 2\n",
    "\n",
    "assert ans_18a_iii == secret_answer, \"Is it ever possible to absolutely know the scale is calibrated?\"\n",
    "### END HIDDEN TESTS"
   ]
  },
  {
   "cell_type": "markdown",
   "metadata": {},
   "source": [
    "Write a sentence to explain your answer to the last question."
   ]
  },
  {
   "cell_type": "markdown",
   "metadata": {},
   "source": [
    "**Home Activity Answer:**"
   ]
  },
  {
   "cell_type": "markdown",
   "metadata": {},
   "source": [
    "## Type I and Type II Errors for Statistical Inference\n",
    "\n",
    "**Further Reading**: §6.12 and §6.13 in Navidi (2015)"
   ]
  },
  {
   "cell_type": "markdown",
   "metadata": {
    "colab_type": "text",
    "id": "thuIDkIc2AQQ"
   },
   "source": [
    "A few classes ago, we said the significance level $\\alpha$ is often chosen at 0.05. But, this choice impacts the rate of wrong conclusions (errors). We will dive into this more today.\n",
    "\n",
    "### Example: Law and Order\n",
    "\n",
    "Consider a criminal trial in the American justice system. For simplicity, we'll assume a defendant is either innocent or guilty. Likewise, the jury can either convict or acquit. Let's express these options using the language of hypothesis testing:\n",
    "\n",
    "![](https://drive.google.com/uc?export=view&id=1vZyz1Dxf3SEJhxKvQGjuyP3l3Lgwg9_l)\n",
    "\n",
    "Here is another table (same information, different formatting): https://en.wikipedia.org/wiki/Type_I_and_type_II_errors#Table_of_error_types\n",
    "\n",
    "As we can see, there are **four outcomes**:\n",
    "\n",
    "1. Correct Inference / True Negative / Probability $1 - \\alpha$\n",
    "2. Correct Inference / True Positive / Probability $1 - \\beta$\n",
    "3. **Type I Error** / False Positive / Probability $\\alpha$\n",
    "4. **Type II Error** / False Negative / Probability $\\beta$\n",
    "\n",
    "As we can see, the false positive error rate is $\\alpha$. Thus changing the significance level $\\alpha$ gives us direct control of how frequently we make a **type I error**. We will see late how to compute $\\beta$, the **type II error** rate.\n",
    "\n",
    "### Type I Errors\n",
    "\n",
    "Summary: **Null hypothesis is true, but we reject it.**\n",
    "\n",
    "Other names: \"asserting something that is absent\", \"false hit\", \"False Positive\"\n",
    "\n",
    "Examples:\n",
    "* Concluding a new drug is more effective than a placebo when it is not.\n",
    "* Concluding a manufacturing process is out of calibration when it is not.\n",
    "* Peter crying wolf when there is no wolf.\n",
    "\n",
    "The choice of the **significant level** $\\alpha$ directly controls the Type I error rate.\n",
    "\n",
    "### Type II Errors\n",
    "\n",
    "Summary: **Null hypothesis is false, but we erroneously fail to reject**\n",
    "\n",
    "Other names: \"failing to assert what is present\", \"miss\", \"False Negative\"\n",
    "\n",
    "Examples:\n",
    "* Failing to conclude a new drug is more effective than a placebo when it actually is.\n",
    "* Failing to detect the ozone hole when it is there. *good side tangent*\n",
    "* The villagers ignoring Peter when the wolf is present.\n",
    "\n",
    "The Type II error rate, denoted $\\beta$, is related to the **power** of a statistical test ($1 - \\beta$)."
   ]
  },
  {
   "cell_type": "markdown",
   "metadata": {},
   "source": [
    "<div style=\"background-color: rgba(0,0,255,0.05) ; padding: 10px; border: 1px solid darkblue;\"> \n",
    "<b>Class Activity</b>: With a partner, think of a science or engineering example of hypothesis testing.\n",
    "</div>"
   ]
  }
 ],
 "metadata": {
  "colab": {
   "name": "L18-Error-Rates-Statistical-Power.ipynb",
   "provenance": [],
   "version": "0.3.2"
  },
  "kernelspec": {
   "display_name": "Python 3 (ipykernel)",
   "language": "python",
   "name": "python3"
  },
  "language_info": {
   "codemirror_mode": {
    "name": "ipython",
    "version": 3
   },
   "file_extension": ".py",
   "mimetype": "text/x-python",
   "name": "python",
   "nbconvert_exporter": "python",
   "pygments_lexer": "ipython3",
   "version": "3.9.12"
  }
 },
 "nbformat": 4,
 "nbformat_minor": 4
}
