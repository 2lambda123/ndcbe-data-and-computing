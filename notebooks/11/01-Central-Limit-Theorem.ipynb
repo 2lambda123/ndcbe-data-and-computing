{
 "cells": [
  {
   "cell_type": "markdown",
   "metadata": {
    "colab_type": "text",
    "id": "PnoA967-7IJF"
   },
   "source": [
    "# Central Limit Theorem\n"
   ]
  },
  {
   "cell_type": "markdown",
   "metadata": {
    "colab_type": "text",
    "id": "2YUxu2XA7IJH"
   },
   "source": [
    "## Learning Objectives\n",
    "\n",
    "After studying this notebook, attending class, completing the home activities, and asking questions, you should be able to:\n",
    "* Define statistical inference to a freshman engineer. Give two science or engineering examples.\n",
    "* Explain the central limit theorem.\n",
    "* Use the central limit theorem to calculate probabilities involving the sample mean. Do this with and without standardizing. (Two approaches, same answer.)"
   ]
  },
  {
   "cell_type": "code",
   "execution_count": 1,
   "metadata": {
    "tags": []
   },
   "outputs": [],
   "source": [
    "# load libraries\n",
    "import scipy.stats as stats\n",
    "from scipy.stats import norm\n",
    "import scipy as sp\n",
    "import numpy as np\n",
    "import math\n",
    "import matplotlib.pyplot as plt\n",
    "import random"
   ]
  },
  {
   "cell_type": "markdown",
   "metadata": {
    "colab_type": "text",
    "id": "1Llsndz87IJK"
   },
   "source": [
    "## Central Limit Theorem\n",
    "\n",
    "**Further Reading**: §4.11 in Navidi (2015)\n",
    "\n",
    "The **Central Limit Theorem** (CLT) is the mathematical foundation for almost all of the statistical inference tools we will study this semester.\n",
    "\n",
    "Let $X_1$, ..., $X_n$ represent a simple random sample from the **population** with mean $\\mu$ and variance $\\sigma^2$.\n",
    "\n",
    "**Key Insight**: We will use probability to model generating a sample. Each datum is a realization of the random variable $X$.\n",
    "\n",
    "Likewise, the **sample mean** is a random variable:\n",
    "\n",
    "$$\n",
    "\\bar{X} = \\frac{X_1 + ... + X_n}{n}\n",
    "$$\n",
    "\n",
    "The **CLT** says that **sample mean** converges to the **normal (Gaussian) distribution** with mean $\\mu$ and variance $\\frac{\\sigma^2}{n}$ as $n \\rightarrow \\infty$:\n",
    "\n",
    "$$\n",
    "\\bar{X} \\sim \\mathcal{N}(\\mu, \\frac{\\sigma^2}{n}) \\qquad \\mathrm{approximately}\n",
    "$$\n",
    "\n",
    "**Key Insights**:\n",
    "1. The CLT holds irregardless of the probability distribution ($\\sigma^2 \\leq \\infty$) of the population (i.e., individual samples).\n",
    "2. $\\sigma^2$ is the variance of the population distribution."
   ]
  },
  {
   "cell_type": "markdown",
   "metadata": {},
   "source": [
    "<div style=\"background-color: rgba(0,0,255,0.05) ; padding: 10px; border: 1px solid darkblue;\"> \n",
    "<b>Class Activity</b>: Answer the following conceptual questions with a partner.\n",
    "</div>"
   ]
  },
  {
   "cell_type": "markdown",
   "metadata": {},
   "source": [
    "**Conceptual Questions:**\n",
    "1. Explain the difference between the **population distribution** and **sample mean distribution**.\n",
    "2. What happens to the variance of $\\bar{X}$ when $n$ increases. Why does this make sense?"
   ]
  },
  {
   "cell_type": "markdown",
   "metadata": {
    "colab_type": "text",
    "id": "aU4QqrR47IJL"
   },
   "source": [
    "### Numerical Illustrations of Central Limit Theorem"
   ]
  },
  {
   "cell_type": "markdown",
   "metadata": {
    "colab_type": "text",
    "id": "otDHVGaW7IJM"
   },
   "source": [
    "A common \"right of passage\" in a rigorous statistics course is to mathematically prove the [central limit theorem holds](https://mathworld.wolfram.com/CentralLimitTheorem.html). Instead, we will use simulation with a random number generator to demonstrate the CLT holds."
   ]
  },
  {
   "cell_type": "markdown",
   "metadata": {
    "colab_type": "text",
    "id": "XJJjCtdC7IJM"
   },
   "source": [
    "#### Samples from Uniform Distribution\n",
    "\n",
    "Let's first consider the case where the samples are drawn from a uniform distribution defined over [0, 1]."
   ]
  },
  {
   "cell_type": "code",
   "execution_count": 2,
   "metadata": {
    "colab": {},
    "colab_type": "code",
    "id": "CNEQ96KG7IJN",
    "tags": []
   },
   "outputs": [],
   "source": [
    "def uniform_population(n,LOUD=True):\n",
    "    ''' Simulate samples of size n from standard uniform distribution\n",
    "    \n",
    "    Arguments:\n",
    "        n - number of datum in each sample\n",
    "        \n",
    "    Returns:\n",
    "        None\n",
    "\n",
    "    '''\n",
    "\n",
    "    # number of times to repeat sampling procedure\n",
    "    Nsim = 1000\n",
    "\n",
    "    # preallocate vector to store results\n",
    "    sample_means = np.zeros(Nsim)\n",
    "\n",
    "    # simulate sampling Nsim number of times\n",
    "    for i in range(0,Nsim):\n",
    "\n",
    "        # generate n samples from uniform distribution\n",
    "        for j in range(0,n):\n",
    "            sample_means[i] += random.random()\n",
    "\n",
    "        sample_means[i] *= 1/n\n",
    "\n",
    "    plt.hist(sample_means,density=True,label=\"Simulation Results\")\n",
    "    plt.title('Sampling Distribution for n = {}'.format(n))\n",
    "    \n",
    "    xbar = np.mean(sample_means)\n",
    "    var = np.var(sample_means)\n",
    "    \n",
    "    # Fit a normal distribution to the data\n",
    "    mu, std = norm.fit(sample_means)\n",
    "    \n",
    "    # Plot the PDF.\n",
    "    xmin, xmax = plt.xlim()\n",
    "    x = np.linspace(xmin, xmax, 100)\n",
    "    p = norm.pdf(x, mu, std)\n",
    "    plt.plot(x, p, linewidth=2,color=\"red\",label=\"Fitted Normal PDF\")\n",
    "    \n",
    "    plt.legend()\n",
    "    \n",
    "    plt.show()\n",
    "    \n",
    "    if LOUD:\n",
    "        print(\"Calculated average of sample means:\\t\",xbar)\n",
    "        print(\"\\nCalculated variance of sample means:\\t\",var)\n",
    "        \n",
    "        # variance of [0, 1] uniform distribition\n",
    "        var_uniform = 1/12\n",
    "        \n",
    "        # predict variance based on sample CLT\n",
    "        print(\"Predicted sample distribution variance:\\t\",var_uniform/n)\n",
    "    \n",
    "        # fitted variance\n",
    "        print(\"Fitted sample distribution variance:\\t\",std**2)\n",
    "    \n",
    "    return None"
   ]
  },
  {
   "cell_type": "code",
   "execution_count": 3,
   "metadata": {
    "colab": {
     "base_uri": "https://localhost:8080/",
     "height": 447
    },
    "colab_type": "code",
    "executionInfo": {
     "elapsed": 1436,
     "status": "ok",
     "timestamp": 1553020106517,
     "user": {
      "displayName": "Alexander Dowling",
      "photoUrl": "https://lh3.googleusercontent.com/-LChdQ2m5OQE/AAAAAAAAAAI/AAAAAAAAAA0/JeXJe4vQJ7M/s64/photo.jpg",
      "userId": "00988067626794866502"
     },
     "user_tz": 240
    },
    "id": "tEO6DLfe7IJP",
    "outputId": "b69d7951-86f1-49f1-ddcf-009924cfbfd9"
   },
   "outputs": [
    {
     "data": {
      "image/png": "[encoded data removed]",
      "text/plain": [
       "<Figure size 432x288 with 1 Axes>"
      ]
     },
     "metadata": {
      "needs_background": "light"
     },
     "output_type": "display_data"
    },
    {
     "name": "stdout",
     "output_type": "stream",
     "text": [
      "Calculated average of sample means:\t 0.4978451614284598\n",
      "\n",
      "Calculated variance of sample means:\t 0.003332553177275253\n",
      "Predicted sample distribution variance:\t 0.003333333333333333\n",
      "Fitted sample distribution variance:\t 0.003332553177275253\n"
     ]
    }
   ],
   "source": [
    "uniform_population(25)"
   ]
  },
  {
   "cell_type": "markdown",
   "metadata": {
    "colab_type": "text",
    "id": "tvzr39gD7IJV"
   },
   "source": [
    "**Activity**. With a partner, answer the following questions.\n",
    "1. What happens when $n = 1$? Explain why the histogram looks the way it does.\n",
    "**Answer:**\n",
    "\n",
    "2. For this example, how large does $n$ need to be for the CLT approximation to be reasonable?\n",
    "\n",
    "**Answer:**"
   ]
  },
  {
   "cell_type": "markdown",
   "metadata": {
    "colab_type": "text",
    "id": "BCq1aacR7IJW"
   },
   "source": [
    "#### Samples from Bimodal Distribution"
   ]
  },
  {
   "cell_type": "markdown",
   "metadata": {
    "colab_type": "text",
    "id": "Z7QC0H827IJW"
   },
   "source": [
    "Now let's consider the example where $X$ is drawn from a bimodal distribution. For example, we want to draw\n",
    "\n",
    "$$\n",
    "X \\sim \\mathcal{N}(3,1)\n",
    "$$\n",
    "\n",
    "75% of the time and the other 25% of the time draw the samples as follows:\n",
    "\n",
    "$$\n",
    "X \\sim \\mathcal{N}(-1,0.5)\n",
    "$$\n",
    "\n",
    "In the code below, we use ``random.gauss`` https://docs.python.org/3.4/library/random.html#random.gauss"
   ]
  },
  {
   "cell_type": "markdown",
   "metadata": {},
   "source": [
    "<div style=\"background-color: rgba(0,0,255,0.05) ; padding: 10px; border: 1px solid darkblue;\"> \n",
    "<b>Class Activity</b>: Explain the code below to your neighbor.\n",
    "</div>\n"
   ]
  },
  {
   "cell_type": "code",
   "execution_count": 4,
   "metadata": {
    "colab": {},
    "colab_type": "code",
    "id": "zM_YHirf7IJX",
    "tags": []
   },
   "outputs": [],
   "source": [
    "def bimodal_population(n,LOUD=True):\n",
    "    ''' Simulate samples of size n from standard uniform distribution\n",
    "    \n",
    "    Arguments:\n",
    "        n - number of datum in each sample\n",
    "        \n",
    "    Returns:\n",
    "        None\n",
    "\n",
    "    '''\n",
    "\n",
    "    # number of times to repeat sampling procedure\n",
    "    Nsim = 1000\n",
    "\n",
    "    # preallocate vector to store results\n",
    "    sample_means = np.zeros(Nsim)\n",
    "\n",
    "    # simulate sampling Nsim number of times\n",
    "    for i in range(0,Nsim):\n",
    "\n",
    "        # generate n samples from bimodal distribution\n",
    "        for j in range(0,n):\n",
    "            \n",
    "            if random.random() < 0.75:\n",
    "                sample_means[i] += random.gauss(3,1)\n",
    "                \n",
    "            else:\n",
    "                sample_means[i] += random.gauss(-1,math.sqrt(0.5))\n",
    "\n",
    "        sample_means[i] *= 1/n\n",
    "\n",
    "    plt.hist(sample_means,density=True,label=\"Simulation Results\")\n",
    "    plt.title('Sampling Distribution for n = {}'.format(n))\n",
    "    \n",
    "    xbar = np.mean(sample_means)\n",
    "    var = np.var(sample_means)\n",
    "    \n",
    "    # Fit a normal distribution to the data\n",
    "    mu, std = norm.fit(sample_means)\n",
    "    \n",
    "    # Plot the PDF.\n",
    "    xmin, xmax = plt.xlim()\n",
    "    x = np.linspace(xmin, xmax, 100)\n",
    "    p = norm.pdf(x, mu, std)\n",
    "    plt.plot(x, p, linewidth=2,color=\"red\",label=\"Fitted Normal PDF\")\n",
    "    \n",
    "    plt.legend()\n",
    "    \n",
    "    plt.show()\n",
    "    \n",
    "    if LOUD:\n",
    "        print(\"Calculated average of sample means:\\t\",xbar)\n",
    "        print(\"Calculated variance of sample means:\\t\",var)\n",
    "        print(\"Calculated median of sample means:\\t\",np.median(sample_means))\n",
    "    \n",
    "    return None"
   ]
  },
  {
   "cell_type": "markdown",
   "metadata": {},
   "source": [
    "<div style=\"background-color: rgba(0,0,255,0.05) ; padding: 10px; border: 1px solid darkblue;\"> \n",
    "<b>Class Activity</b>: Discuss the following questions with a partner:\n",
    "</div>"
   ]
  },
  {
   "cell_type": "markdown",
   "metadata": {
    "colab_type": "text",
    "id": "pNHX8uwv7IJZ"
   },
   "source": [
    "1. What does the histogram look like with $n=1$? Why does this make sense? Why are the mean and median different?\n",
    "2. For this example, how large does $n$ need to be for the CLT approximation to be reasonable?"
   ]
  },
  {
   "cell_type": "code",
   "execution_count": 5,
   "metadata": {
    "colab": {
     "base_uri": "https://localhost:8080/",
     "height": 413
    },
    "colab_type": "code",
    "executionInfo": {
     "elapsed": 1425,
     "status": "ok",
     "timestamp": 1553020106521,
     "user": {
      "displayName": "Alexander Dowling",
      "photoUrl": "https://lh3.googleusercontent.com/-LChdQ2m5OQE/AAAAAAAAAAI/AAAAAAAAAA0/JeXJe4vQJ7M/s64/photo.jpg",
      "userId": "00988067626794866502"
     },
     "user_tz": 240
    },
    "id": "pOiJDJZ6UUqo",
    "outputId": "0a32efb9-7dfa-4c05-9285-4c25712c6d8f"
   },
   "outputs": [
    {
     "data": {
      "image/png": "[encoded data removed]",
      "text/plain": [
       "<Figure size 432x288 with 1 Axes>"
      ]
     },
     "metadata": {
      "needs_background": "light"
     },
     "output_type": "display_data"
    },
    {
     "name": "stdout",
     "output_type": "stream",
     "text": [
      "Calculated average of sample means:\t 2.0160044892655016\n",
      "Calculated variance of sample means:\t 0.3776535770823582\n",
      "Calculated median of sample means:\t 2.049394353887102\n"
     ]
    }
   ],
   "source": [
    "bimodal_population(10)"
   ]
  },
  {
   "cell_type": "markdown",
   "metadata": {
    "colab_type": "text",
    "id": "tm5DTvwQ7IJd"
   },
   "source": [
    "### CLT Illustrative Example: Membrane Defects"
   ]
  },
  {
   "cell_type": "markdown",
   "metadata": {
    "colab_type": "text",
    "id": "7fBgYGQL7IJd"
   },
   "source": [
    "Let $X$ denote the number of defects in 1 cm$^2$ patch of membrane. The probability density function of $X$ is given in the following dictionary:"
   ]
  },
  {
   "cell_type": "code",
   "execution_count": 6,
   "metadata": {
    "colab": {
     "base_uri": "https://localhost:8080/",
     "height": 136
    },
    "colab_type": "code",
    "executionInfo": {
     "elapsed": 1675,
     "status": "ok",
     "timestamp": 1553020106784,
     "user": {
      "displayName": "Alexander Dowling",
      "photoUrl": "https://lh3.googleusercontent.com/-LChdQ2m5OQE/AAAAAAAAAAI/AAAAAAAAAA0/JeXJe4vQJ7M/s64/photo.jpg",
      "userId": "00988067626794866502"
     },
     "user_tz": 240
    },
    "id": "Di4FhPaB7IJf",
    "outputId": "dc57036a-60e7-43ad-cb02-3d9be833a51b"
   },
   "outputs": [
    {
     "name": "stdout",
     "output_type": "stream",
     "text": [
      "Probability of 0 defects is 0.6\n",
      "Probability of 1 defects is 0.22\n",
      "Probability of 2 defects is 0.13\n",
      "Probability of 3 defects is 0.04\n",
      "Probability of 4 defects is 0.01\n",
      "\n",
      "Sanity check. Probabilities sum to 1.0\n"
     ]
    }
   ],
   "source": [
    "pmf = {0:0.60, 1:0.22, 2:0.13, 3:0.04, 4:0.01}\n",
    "\n",
    "total = 0\n",
    "for i in pmf.keys():\n",
    "    print(\"Probability of {} defects is {}\".format(i,pmf[i]))\n",
    "    total += pmf[i]\n",
    "print(\"\\nSanity check. Probabilities sum to\",total)"
   ]
  },
  {
   "cell_type": "markdown",
   "metadata": {
    "colab_type": "text",
    "id": "mSHb3QKk7IJi"
   },
   "source": [
    "For simplicity, we will assume $P(X \\geq 5) = 0$.\n",
    "\n",
    "We sample one 1 cm$^2$ patch of membranes from this population.\n",
    "\n",
    "*What is the probability the average number of defects per patch will be 0.5 or smaller for this sample?*"
   ]
  },
  {
   "cell_type": "markdown",
   "metadata": {
    "colab_type": "text",
    "id": "UzpA7tvC7IJi"
   },
   "source": [
    "#### Expected Value of Defects\n",
    "\n",
    "We can compute the expected number of defects using a formula from last week."
   ]
  },
  {
   "cell_type": "code",
   "execution_count": 7,
   "metadata": {
    "colab": {
     "base_uri": "https://localhost:8080/",
     "height": 34
    },
    "colab_type": "code",
    "executionInfo": {
     "elapsed": 1664,
     "status": "ok",
     "timestamp": 1553020106786,
     "user": {
      "displayName": "Alexander Dowling",
      "photoUrl": "https://lh3.googleusercontent.com/-LChdQ2m5OQE/AAAAAAAAAAI/AAAAAAAAAA0/JeXJe4vQJ7M/s64/photo.jpg",
      "userId": "00988067626794866502"
     },
     "user_tz": 240
    },
    "id": "pdVqEzs_7IJj",
    "outputId": "2495b7cc-a1e2-47b4-97d8-35b28eecccd3"
   },
   "outputs": [
    {
     "name": "stdout",
     "output_type": "stream",
     "text": [
      "0.64\n"
     ]
    }
   ],
   "source": [
    "# expected number of defects\n",
    "ev = 0\n",
    "\n",
    "# loop over outcomes\n",
    "for i in pmf.keys():\n",
    "    ev += pmf[i]*i\n",
    "print(ev)"
   ]
  },
  {
   "cell_type": "markdown",
   "metadata": {
    "colab_type": "text",
    "id": "ZCzyONPK7IJm"
   },
   "source": [
    "#### Variance of Defects\n"
   ]
  },
  {
   "cell_type": "code",
   "execution_count": 8,
   "metadata": {
    "colab": {},
    "colab_type": "code",
    "id": "QDTi76sZ7IJn"
   },
   "outputs": [
    {
     "name": "stdout",
     "output_type": "stream",
     "text": [
      "0.8504\n"
     ]
    }
   ],
   "source": [
    "# compute expected value of x^2\n",
    "evx2 = 0\n",
    "for i in pmf.keys():\n",
    "    evx2 += pmf[i]*i*i\n",
    "\n",
    "# compute variance\n",
    "var = evx2 - ev**2\n",
    "print(var)"
   ]
  },
  {
   "cell_type": "markdown",
   "metadata": {},
   "source": [
    "#### Standard Deviation of Number of Defects"
   ]
  },
  {
   "cell_type": "code",
   "execution_count": 9,
   "metadata": {},
   "outputs": [
    {
     "name": "stdout",
     "output_type": "stream",
     "text": [
      "0.9221713506718803\n"
     ]
    }
   ],
   "source": [
    "print(math.sqrt(var))"
   ]
  },
  {
   "cell_type": "markdown",
   "metadata": {
    "colab_type": "text",
    "id": "legrDcn87IJq"
   },
   "source": [
    "#### Probability\n",
    "\n",
    "Recall the CLT tells of the mean (average) number of defects per patch is normally distributed:\n",
    "\n",
    "$$\n",
    "\\bar{X} \\sim \\mathcal{N}(\\mu, \\frac{\\sigma^2}{n}) \\qquad \\mathrm{approximately}\n",
    "$$\n",
    "\n",
    "You calculated $\\mu$ and $\\sigma^2$ already. Now we just need to calculate:\n",
    "\n",
    "$$P(\\bar{X} \\leq 0.5)$$\n",
    "\n",
    "We can do this using the cumulative distribution function for $\\mathcal{N}(\\mu, \\frac{\\sigma^2}{n})$.\n"
   ]
  },
  {
   "cell_type": "code",
   "execution_count": 10,
   "metadata": {
    "colab": {
     "base_uri": "https://localhost:8080/",
     "height": 34
    },
    "colab_type": "code",
    "executionInfo": {
     "elapsed": 1651,
     "status": "ok",
     "timestamp": 1553020106789,
     "user": {
      "displayName": "Alexander Dowling",
      "photoUrl": "https://lh3.googleusercontent.com/-LChdQ2m5OQE/AAAAAAAAAAI/AAAAAAAAAA0/JeXJe4vQJ7M/s64/photo.jpg",
      "userId": "00988067626794866502"
     },
     "user_tz": 240
    },
    "id": "F2DuYgMj7IJq",
    "outputId": "5eadee95-d221-489e-f6f9-115471cd8924"
   },
   "outputs": [
    {
     "data": {
      "text/plain": [
       "0.4396661875447759"
      ]
     },
     "execution_count": 10,
     "metadata": {},
     "output_type": "execute_result"
    }
   ],
   "source": [
    "sp.stats.norm(ev, math.sqrt(var)).cdf(0.5)"
   ]
  },
  {
   "cell_type": "markdown",
   "metadata": {
    "colab_type": "text",
    "id": "Vd2C_96K7IJt"
   },
   "source": [
    "**Python Trick:** Most textbooks write the normal distribution as $\\mathcal{N}(\\mu,\\sigma^2)$ where the second argument is **variance**. The collection of function available ``scipy.stats.norm`` specify **standard deviation** as the second argument. These opposing conventions are unfortunate, but all too common. When in doubt, always check the documentation. https://docs.scipy.org/doc/scipy/reference/generated/scipy.stats.norm.html#scipy.stats.norm"
   ]
  }
 ],
 "metadata": {
  "colab": {
   "collapsed_sections": [],
   "name": "L16-Statistical-Inference-Part-1.ipynb",
   "provenance": [],
   "version": "0.3.2"
  },
  "kernelspec": {
   "display_name": "Python 3 (ipykernel)",
   "language": "python",
   "name": "python3"
  },
  "language_info": {
   "codemirror_mode": {
    "name": "ipython",
    "version": 3
   },
   "file_extension": ".py",
   "mimetype": "text/x-python",
   "name": "python",
   "nbconvert_exporter": "python",
   "pygments_lexer": "ipython3",
   "version": "3.9.12"
  }
 },
 "nbformat": 4,
 "nbformat_minor": 4
}
