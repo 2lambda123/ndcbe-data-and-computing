{
 "cells": [
  {
   "cell_type": "markdown",
   "metadata": {
    "colab_type": "text",
    "id": "qYVuIBsFIntT"
   },
   "source": [
    "# Measurement Error\n"
   ]
  },
  {
   "cell_type": "markdown",
   "metadata": {
    "colab_type": "text",
    "id": "1PJ6EcCl06sV"
   },
   "source": [
    "**Further Reading**: §3.1 in Navidi (2015)\n",
    "\n",
    "## Learning Objectives\n",
    "\n",
    "After studying this notebook, completing the activities, engaging in class, and reading the book, you should be able to:\n",
    "* Define terms related to the measurement of uncertainty\n",
    "* Distinguish between accuracy and precision"
   ]
  },
  {
   "cell_type": "code",
   "execution_count": 1,
   "metadata": {},
   "outputs": [],
   "source": [
    "import numpy as np\n",
    "import matplotlib.pyplot as plt"
   ]
  },
  {
   "cell_type": "markdown",
   "metadata": {},
   "source": [
    "All measurements have uncertainty. As engineers, we need to i) gather data, ii) estimate uncertainty, iii) propagate uncertainty through calculations, and, ultimately iv) draw conclusions and make decisions under uncertainty.\n",
    "\n",
    "Let's get started with some important definitions."
   ]
  },
  {
   "cell_type": "markdown",
   "metadata": {},
   "source": [
    "<div class=\"admonition seealso\"> \n",
    "<p class=\"title\"><b>Home Activity</b></p>\n",
    " Read pg. 164 - 165 in Navidi (2015). Fill in the following definitions.\n",
    "</div>"
   ]
  },
  {
   "cell_type": "markdown",
   "metadata": {},
   "source": [
    "## Definitions\n",
    "\n",
    "**Error**:\n",
    "\n",
    "**Systematic Error / Bias**:\n",
    "\n",
    "**Random Error**:\n",
    "\n",
    "**Accuracy**:\n",
    "\n",
    "**Unbiased**:\n",
    "\n",
    "**Precision**:\n",
    "\n",
    "**Random / Statistical Uncertainty**:\n"
   ]
  },
  {
   "cell_type": "markdown",
   "metadata": {},
   "source": [
    "## Accuracy vs. Precision\n",
    "\n",
    "Target practice is a classic example used to explain how accuracy and precision are different:\n",
    "\n",
    "![darts](https://manoa.hawaii.edu/exploringourfluidearth/sites/default/files/M1U1-SF%201-5_Accuracy%20and%20Precision.png)\n",
    "\n"
   ]
  },
  {
   "cell_type": "markdown",
   "metadata": {},
   "source": [
    "<div class=\"admonition seealso\"> \n",
    "<p class=\"title\"><b>Home Activity</b></p>\n",
    " Write captions for each figure. Using target practice as an example, explain how accuracy and precision are different.\n",
    "</div>"
   ]
  },
  {
   "cell_type": "markdown",
   "metadata": {},
   "source": [
    "**Home Activity Answers**:\n",
    "\n",
    "(Write captions for each figure.)\n",
    "\n",
    "**A**:\n",
    "\n",
    "**B**:\n",
    "\n",
    "**C**:\n",
    "\n",
    "**D**:\n",
    "\n",
    "(In 1 sentence, explain how accuracy and precision are different.)\n",
    "\n",
    "**Explanation:**"
   ]
  },
  {
   "cell_type": "markdown",
   "metadata": {},
   "source": [
    "<div class=\"admonition seealso\"> \n",
    "<p class=\"title\"><b>Home Activity</b></p>\n",
    " Answer the following multiple choice question. Store your answer in the integer variable <tt>ans_16a_1</tt>.\n",
    "</div>"
   ]
  },
  {
   "cell_type": "markdown",
   "metadata": {},
   "source": [
    "## Practice Problem 1\n",
    "\n",
    "The boiling point of water at sea level is measures four times. The results are 110.01 °C, 110.02 °C, 109.99 °C, and 110.01 °C. Which is the following statements best describes the measuring process:\n",
    "1. Accurate but not precise\n",
    "2. Precise but not accurate\n",
    "3. Neither accuracy nor precise\n",
    "4. Both accurate and precise"
   ]
  },
  {
   "cell_type": "code",
   "execution_count": 2,
   "metadata": {},
   "outputs": [],
   "source": [
    "# Add your solution here"
   ]
  },
  {
   "cell_type": "code",
   "execution_count": 3,
   "metadata": {
    "nbgrader": {
     "grade": true,
     "grade_id": "16a-1",
     "locked": true,
     "points": "0.2",
     "solution": false
    }
   },
   "outputs": [],
   "source": [
    "# Removed autograder test. You may delete this cell."
   ]
  },
  {
   "cell_type": "markdown",
   "metadata": {},
   "source": [
    "Armed with those definitions, we can beginning to connect experimental measurements with probability theory. Here are some key ideas:\n",
    "* A measured value is a random variable with mean $\\mu$ and standard deviation $\\sigma$.\n",
    "* The bias in the measuring process is the difference between the mean measurement and the true value: Bias = $\\mu$ - true value\n",
    "* The uncertainty in the measuring process is the standard deviation $\\sigma$.\n",
    "* The smaller the bias, the more accurate the measuring process.\n",
    "* The smaller the uncertainty, the more precise the measuring process.\n",
    "\n",
    "A key idea in statistical analysis is to use a sample, e.g., data gathered from repeat experiments, to estimate the population mean and variance. For example, imagine we wanted to know the weight of a brick. From repeated measurements on a scale, we could compute a sample mean and standard deviation. This is an estimate to the population true weight of the brick (population mean) random noise from the scale (population standard deviation).\n",
    "\n",
    "Let $X_1$, $X_2$, ..., $X_n$, be independent measurements, all made by the same process on the same quantity.\n",
    "* The sample standard deviation $s$ can be used to estimate the uncertainty.\n",
    "* Estimates of uncertainty are often crude, especially when based on sample samples.\n",
    "* If the true value is know, the sample mean $\\bar{X}$ can be used to estimate the bias: Bias $\\approx$ $\\bar{X}$ - true value\n",
    "* If the true value is unknown, the bias cannot be estimated from repeat measurements."
   ]
  },
  {
   "cell_type": "markdown",
   "metadata": {},
   "source": [
    "## Practice Problem 2"
   ]
  },
  {
   "cell_type": "markdown",
   "metadata": {},
   "source": [
    "<div class=\"admonition seealso\"> \n",
    "<p class=\"title\"><b>Home Activity</b></p>\n",
    " Answer the following true false questions. Store your answer in the dictionary <tt>ans_16a_2</tt>. Use the integers 1, 2, 3, and 4 as the keys. Record strings 'F' or 'T' as the values.\n",
    "</div>"
   ]
  },
  {
   "cell_type": "markdown",
   "metadata": {},
   "source": [
    "The weight of an object is given as 67.2 $\\pm$ 0.3g. True of false:\n",
    "1. The weight was measured to be 67.2 g.\n",
    "2. The true weight of the object is 67.2 g.\n",
    "3. The bias in the measurement is 0.3 g.\n",
    "4. The uncertainty in the measurement is 0.3 g."
   ]
  },
  {
   "cell_type": "code",
   "execution_count": 4,
   "metadata": {
    "nbgrader": {
     "grade": false,
     "locked": false,
     "solution": false
    }
   },
   "outputs": [],
   "source": [
    "# Create dictionary to store the answers\n",
    "ans_16a_2 = {}\n",
    "\n",
    "# Add your solution here"
   ]
  },
  {
   "cell_type": "code",
   "execution_count": 5,
   "metadata": {
    "nbgrader": {
     "grade": true,
     "grade_id": "16a-2",
     "locked": true,
     "points": "0.3",
     "solution": false
    }
   },
   "outputs": [],
   "source": [
    "# Removed autograder test. You may delete this cell."
   ]
  }
 ],
 "metadata": {
  "colab": {
   "collapsed_sections": [],
   "name": "L15-Error-Propagation.ipynb",
   "provenance": [],
   "version": "0.3.2"
  },
  "kernelspec": {
   "display_name": "Python 3 (ipykernel)",
   "language": "python",
   "name": "python3"
  },
  "language_info": {
   "codemirror_mode": {
    "name": "ipython",
    "version": 3
   },
   "file_extension": ".py",
   "mimetype": "text/x-python",
   "name": "python",
   "nbconvert_exporter": "python",
   "pygments_lexer": "ipython3",
   "version": "3.9.12"
  }
 },
 "nbformat": 4,
 "nbformat_minor": 4
}
