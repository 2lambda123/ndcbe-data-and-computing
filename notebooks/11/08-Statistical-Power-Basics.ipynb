{
 "cells": [
  {
   "cell_type": "markdown",
   "metadata": {
    "colab_type": "text",
    "id": "Bi9hZ44D2AQJ"
   },
   "source": [
    "# Statistical Power Basics"
   ]
  },
  {
   "cell_type": "markdown",
   "metadata": {
    "colab_type": "text",
    "id": "xhyUzB0X2AQO"
   },
   "source": [
    "## Learning Objectives\n",
    "\n",
    "After studying this notebook, completing the activities, participating in class, and reviewing your notes, should be able to:\n",
    "* Compute statistical power.\n",
    "* Explain the significance of the statistical power calculation."
   ]
  },
  {
   "cell_type": "code",
   "execution_count": 1,
   "metadata": {
    "colab": {},
    "colab_type": "code",
    "id": "9wy-3eQa2AQK",
    "tags": []
   },
   "outputs": [],
   "source": [
    "# load libraries\n",
    "import scipy.stats as stats\n",
    "import numpy as np\n",
    "import math\n",
    "import matplotlib.pyplot as plt"
   ]
  },
  {
   "cell_type": "markdown",
   "metadata": {
    "colab_type": "text",
    "id": "OzjI6CcX2AQQ"
   },
   "source": [
    "## Statistical Power\n",
    "\n",
    "The **power** of a statistical test, $1-\\beta$, is the **probability of rejecting $H_0$ given $H_a$ is true**:\n",
    "\n",
    "$$\n",
    "\\mathrm{power} = 1 - \\beta = \\mathbb{P}\\left(~\\mathrm{reject}~H_0 ~~|~~ H_a~\\mathrm{is~true}~\\right)\n",
    "$$\n",
    "\n",
    "In other words, statistical power measures our ability to detect something new (alternate hypothesis) within background uncertainty. Several factors impact statistical power:\n",
    "* The statistical significance level $\\alpha$\n",
    "* Magnitude of the effect of interest in the population\n",
    "* Sample size\n",
    "\n",
    "Statistical power calculations should be done before gathering data. They help inform experiment design."
   ]
  },
  {
   "cell_type": "markdown",
   "metadata": {},
   "source": [
    "<div style=\"background-color: rgba(0,255,0,0.05) ; padding: 10px; border: 1px solid darkgreen;\"> \n",
    "<b>Home Activity</b>: A test has power 0.9 when $\\mu = 15$. Determine if each statement below is true or false. Store your answer in the Python dictionary <tt>tf_18c</tt> using 1, 2, 3, and 4 as the key.\n",
    "</div>"
   ]
  },
  {
   "cell_type": "markdown",
   "metadata": {},
   "source": [
    "Statements:\n",
    "1. The probability of rejecting $H_0$ when $\\mu = 15$ is 0.90.\n",
    "2. The probability of making a correct decision when $\\mu = 15$ is 0.90.\n",
    "3. The probability of making a correct decision when $\\mu = 15$ is 0.10.\n",
    "4. The probability that $H_0$ is true when $\\mu = 15$ is 0.10."
   ]
  },
  {
   "cell_type": "code",
   "execution_count": 2,
   "metadata": {
    "nbgrader": {
     "grade": false,
     "grade_id": "18c-true-false",
     "locked": false,
     "points": "0.2",
     "solution": false
    },
    "tags": []
   },
   "outputs": [],
   "source": [
    "# Declare dictionary. You need to change each entry to True or False.\n",
    "# Do not use 'True' or 'False', but instead True or False\n",
    "tf_18c = {}\n",
    "tf_18c[1] = 'change me'\n",
    "tf_18c[2] = 'change me'\n",
    "tf_18c[3] = 'change me'\n",
    "tf_18c[4] = 'change me'\n",
    "\n",
    "### BEGIN SOLUTION\n",
    "tf_18c[1] = True\n",
    "tf_18c[2] = True\n",
    "tf_18c[3] = False\n",
    "tf_18c[4] = False\n",
    "### END SOLUTION\n"
   ]
  },
  {
   "cell_type": "code",
   "execution_count": 3,
   "metadata": {
    "nbgrader": {
     "grade": true,
     "grade_id": "18c-true-false",
     "locked": true,
     "points": "0.2",
     "solution": false
    },
    "tags": []
   },
   "outputs": [],
   "source": [
    "### BEGIN HIDDEN TESTS\n",
    "\n",
    "for i in range(1,5):\n",
    "    assert type(tf_18c[i]) is bool, \"The values in the dictionary tf_18_c must be True or False not strings.\"\n",
    "\n",
    "assert tf_18c[1] is True, \"This is the definition of statistical power.\"\n",
    "\n",
    "assert tf_18c[2] is True, \"When mu = 15, the correct decision is to fail to reject H0. This occurs with probability 0.90.\"\n",
    "\n",
    "assert tf_18c[3] is False, \"When mu = 15, the correct decision is to fail to reject H0. This occurs with probability 0.90.\"\n",
    "\n",
    "assert tf_18c[4] is False, \"We cannot compute the probability H0 is true.\"\n",
    "\n",
    "### END HIDDEN TESTS"
   ]
  },
  {
   "cell_type": "markdown",
   "metadata": {
    "colab_type": "text",
    "id": "f3P7JGqW2AQR"
   },
   "source": [
    "### Motivating Example\n",
    "\n",
    "We want to test if a new chemical manufacturing process has a high yield than the current process. Based on years of historical data, we know the current process has a mean yield 80 and standard deviation 5. The units for yield are percentage of the theoretical maximum. We drop the \"%\" symbol for clarity.\n",
    "\n",
    "Our supervisor proposed to **run the new process 50 times** and then perform hypothesis testing using significance level $\\alpha$ = 0.05:\n",
    "\n",
    "$$H_0: \\mu \\leq 80 \\qquad \\mathrm{versus} \\qquad H_a: \\mu > 80$$\n",
    "\n",
    "where $\\mu$ is the mean yield of the new process. But running 50 tests is expensive. Eyeing a new promotion, you want to know if it is reasonable to run only 20 or 30 experiments. **You need to perform a statistical power calculation.** We will walk through the steps now."
   ]
  },
  {
   "cell_type": "markdown",
   "metadata": {
    "colab_type": "text",
    "id": "hNtGFr6s2AQS"
   },
   "source": [
    "#### Step 1. Fix the experiment design, make assumptions.\n",
    "\n",
    "More specifically, we need to:\n",
    "* Fix the number of experiments, for example $n$ = 50\n",
    "* Fix the significance level, for example $\\alpha$ = 0.05\n",
    "* Assume the mean for the new process yield, for example $\\mu$ = 81 (a modest improvement in yield)\n",
    "* Assume the standard deviation for the new process yield, for example $\\sigma$ = 5 (same as old process)"
   ]
  },
  {
   "cell_type": "code",
   "execution_count": 4,
   "metadata": {
    "colab": {},
    "colab_type": "code",
    "id": "UexwbiUy2AQT",
    "tags": []
   },
   "outputs": [],
   "source": [
    "# number of trials\n",
    "n = 50\n",
    "\n",
    "# significance level\n",
    "alpha = 0.05\n",
    "\n",
    "# assumed mean and standard deviation for new process (alternate distribution)\n",
    "mu = 81\n",
    "s = 5\n",
    "\n",
    "# mean and standard deviation for current process (null distribution)\n",
    "mu0 = 80\n",
    "s0 = 5"
   ]
  },
  {
   "cell_type": "markdown",
   "metadata": {
    "colab_type": "text",
    "id": "F-UCu3G62AQW"
   },
   "source": [
    "#### Step 2. Compute the rejection region.\n",
    "\n",
    "We want to calculate the sample mean (yield averaged over the $n$ = 50 runs) threshold that corresponds with the specified significance level $\\alpha = 0.05$. Because we have such a large sample size, we will use the normal distribution (z-test) for simplicity."
   ]
  },
  {
   "cell_type": "code",
   "execution_count": 5,
   "metadata": {
    "colab": {
     "base_uri": "https://localhost:8080/",
     "height": 34
    },
    "colab_type": "code",
    "executionInfo": {
     "elapsed": 1204,
     "status": "ok",
     "timestamp": 1553803031605,
     "user": {
      "displayName": "Alexander Dowling",
      "photoUrl": "https://lh3.googleusercontent.com/-LChdQ2m5OQE/AAAAAAAAAAI/AAAAAAAAAA0/JeXJe4vQJ7M/s64/photo.jpg",
      "userId": "00988067626794866502"
     },
     "user_tz": 240
    },
    "id": "w0AWElaT2AQW",
    "outputId": "1c9b21f8-c745-4150-a1d9-6f1f9e406bc3"
   },
   "outputs": [
    {
     "name": "stdout",
     "output_type": "stream",
     "text": [
      "1.6448536269514722\n"
     ]
    }
   ],
   "source": [
    "# This function is the inverse cdf for a normal distribution.\n",
    "# We give it the probability and it gives the corresponding z value.\n",
    "z = stats.norm.ppf(1-alpha)\n",
    "print(z)"
   ]
  },
  {
   "cell_type": "markdown",
   "metadata": {
    "colab_type": "text",
    "id": "LmN8lfyH2AQa"
   },
   "source": [
    "Thus we will reject the null hypothesis for set of 50 runs where the $z > 1.1645$. We will call this the **rejection region**.\n",
    "\n",
    "![](https://drive.google.com/uc?export=view&id=1eiJt3uTmYLbOJVQOZ_P3vTo0ESa5tbpl)\n",
    "\n",
    "We can go a step further and express this $z$ cutoff in terms of the sample mean. Recall,\n",
    "\n",
    "$$\n",
    "z = \\frac{\\bar{X}_{rr} - \\mu_0}{\\sigma_0/\\sqrt{n}}\n",
    "$$\n",
    "\n",
    "A little algebra, and\n",
    "\n",
    "$$\n",
    "\\bar{X}_{rr} = z \\frac{\\sigma_0}{\\sqrt{n}} + \\mu_0\n",
    "$$"
   ]
  },
  {
   "cell_type": "code",
   "execution_count": 6,
   "metadata": {
    "colab": {
     "base_uri": "https://localhost:8080/",
     "height": 34
    },
    "colab_type": "code",
    "executionInfo": {
     "elapsed": 1193,
     "status": "ok",
     "timestamp": 1553803031607,
     "user": {
      "displayName": "Alexander Dowling",
      "photoUrl": "https://lh3.googleusercontent.com/-LChdQ2m5OQE/AAAAAAAAAAI/AAAAAAAAAA0/JeXJe4vQJ7M/s64/photo.jpg",
      "userId": "00988067626794866502"
     },
     "user_tz": 240
    },
    "id": "trgkADWZ2AQa",
    "outputId": "89a894c9-e5db-4640-8d25-6c84a848d389"
   },
   "outputs": [
    {
     "name": "stdout",
     "output_type": "stream",
     "text": [
      "81.16308715367667\n"
     ]
    }
   ],
   "source": [
    "rr = z*s0/math.sqrt(n) + mu0\n",
    "print(rr)"
   ]
  },
  {
   "cell_type": "markdown",
   "metadata": {
    "colab_type": "text",
    "id": "tO2hBMQL2AQd"
   },
   "source": [
    "Thus we reject the null hypothesis when $\\bar{X} > 81.16$."
   ]
  },
  {
   "cell_type": "markdown",
   "metadata": {
    "colab_type": "text",
    "id": "dmrWlFJD2AQe"
   },
   "source": [
    "#### Step 3. Compute the statistical power.\n",
    "\n",
    "We will now construct the alternate distribution with mean $\\mu$ and standard deviation $\\sigma/\\sqrt{n}$. Recall, we assumed values for $\\mu$ and $\\sigma$ in Step 1. We will then calculate the probability of drawing a sample mean from the alternate distribution that is in the rejection region.\n",
    "\n",
    "We want to calculate, under the assumed alternate distribution, the probably of drawing a sample mean that is in the rejection zone. This is the shaded area in the figure above.\n",
    "\n",
    "$$\n",
    "z_1 = \\frac{\\bar{X}_{rr} - \\mu}{\\sigma / \\sqrt{n}}\n",
    "$$\n",
    "\n",
    "$$\n",
    "\\mathrm{power} = \\mathbb{Pr}[Z \\geq z_1], \\qquad Z \\sim \\mathcal{N}(0,1)\n",
    "$$"
   ]
  },
  {
   "cell_type": "code",
   "execution_count": 7,
   "metadata": {
    "colab": {
     "base_uri": "https://localhost:8080/",
     "height": 50
    },
    "colab_type": "code",
    "executionInfo": {
     "elapsed": 1180,
     "status": "ok",
     "timestamp": 1553803031608,
     "user": {
      "displayName": "Alexander Dowling",
      "photoUrl": "https://lh3.googleusercontent.com/-LChdQ2m5OQE/AAAAAAAAAAI/AAAAAAAAAA0/JeXJe4vQJ7M/s64/photo.jpg",
      "userId": "00988067626794866502"
     },
     "user_tz": 240
    },
    "id": "FkVVw4sv2AQe",
    "outputId": "c2aaa64e-fc24-4eb4-a291-013daa49bc16"
   },
   "outputs": [
    {
     "name": "stdout",
     "output_type": "stream",
     "text": [
      "z1 = 0.23064006457837258\n",
      "power = 0.4087972197938724\n"
     ]
    }
   ],
   "source": [
    "z1 = (rr - mu)/(s/math.sqrt(n))\n",
    "print(\"z1 =\",z1)\n",
    "print(\"power =\",1 - stats.norm.cdf(z1))"
   ]
  },
  {
   "cell_type": "markdown",
   "metadata": {
    "colab_type": "text",
    "id": "CX0SLcJB2AQh"
   },
   "source": [
    "**Interpretation** Even with 50 experiments, there is only a 40.9% chance we will reject the null hypothesis and conclude the new process is better. Remember, the calculated statistical power depends on $n$, $\\alpha$, $\\mu$ and $\\sigma$ (assumptions)."
   ]
  },
  {
   "cell_type": "markdown",
   "metadata": {},
   "source": [
    "<div style=\"background-color: rgba(0,255,0,0.05) ; padding: 10px; border: 1px solid darkgreen;\"> \n",
    "<b>Home Activity</b>: Based on this analysis, your team concludes that improving yield from 80 to 81 percent of theoretical maximum performance is not worth the capital investment. Upper management will only approve the new process if it has a mean yield of at least 84 percent. Copy the code for above to answer the following two questions.\n",
    "</div>"
   ]
  },
  {
   "cell_type": "markdown",
   "metadata": {},
   "source": [
    "### Activity: Question 1\n",
    "\n",
    "What is the statistical power with $n=50$ if we assume the mean yield of the new process is 84 and same standard deviation of the current process? Store your answer in the Python float `ans_18c_i`."
   ]
  },
  {
   "cell_type": "code",
   "execution_count": 8,
   "metadata": {
    "colab": {},
    "colab_type": "code",
    "id": "QKWzI85S2AQl",
    "tags": [
     "remove-output"
    ]
   },
   "outputs": [
    {
     "name": "stdout",
     "output_type": "stream",
     "text": [
      "81.16308715367667\n",
      "z1 = -4.012000622540913\n",
      "power = 0.9999698968293542\n"
     ]
    }
   ],
   "source": [
    "# Hint: Copy and paste the code for the three steps above, then modify.\n",
    "\n",
    "## Step 1\n",
    "\n",
    "## BEGIN SOLUTION\n",
    "\n",
    "# number of trials\n",
    "n = 50\n",
    "\n",
    "# significance level\n",
    "alpha = 0.05\n",
    "\n",
    "# assumed mean and standard deviation for new process (alternate distribution)\n",
    "mu = 84\n",
    "s = 5\n",
    "\n",
    "# mean and standard deviation for current process (null distribution)\n",
    "mu0 = 80\n",
    "s0 = 5\n",
    "\n",
    "## END SOLUTION\n",
    "\n",
    "## Step 2\n",
    "\n",
    "### BEGIN SOLUTION\n",
    "z = stats.norm.ppf(1-alpha)\n",
    "rr = z*s0/math.sqrt(n) + mu0\n",
    "print(rr)\n",
    "\n",
    "### END SOLUTION\n",
    "\n",
    "## Step 3\n",
    "\n",
    "### BEGIN SOLUTION\n",
    "z1 = (rr - mu)/(s/math.sqrt(n))\n",
    "print(\"z1 =\",z1)\n",
    "p = 1 - stats.norm.cdf(z1)\n",
    "print(\"power =\",p)\n",
    "### END SOLUTION\n",
    "\n",
    "## Store answer (statistical power) in ans_18c_i.\n",
    "\n",
    "### BEGIN SOLUTION\n",
    "ans_18c_i = p\n",
    "### END SOLUTION"
   ]
  },
  {
   "cell_type": "code",
   "execution_count": 9,
   "metadata": {
    "nbgrader": {
     "grade": true,
     "grade_id": "18c-i",
     "locked": true,
     "points": "0.2",
     "solution": false
    },
    "tags": []
   },
   "outputs": [],
   "source": [
    "### BEGIN HIDDEN TESTS\n",
    "\n",
    "assert ans_18c_i < 0.99998, \"Too large.\"\n",
    "\n",
    "assert ans_18c_i > 0.99996, \"Too small.\"\n",
    "\n",
    "### END HIDDEN TESTS"
   ]
  },
  {
   "cell_type": "markdown",
   "metadata": {},
   "source": [
    "### Activity: Question 2\n",
    "\n",
    "Using the same assumptions, what is the smallest sample size with a statistical power of at least 99.9%?"
   ]
  },
  {
   "cell_type": "code",
   "execution_count": 10,
   "metadata": {
    "colab": {},
    "colab_type": "code",
    "id": "tbL0OPWW2AQo",
    "nbgrader": {
     "grade": false,
     "grade_id": "18c-ii",
     "locked": false,
     "points": "0.3",
     "solution": false
    },
    "tags": [
     "remove-output"
    ]
   },
   "outputs": [
    {
     "name": "stdout",
     "output_type": "stream",
     "text": [
      "81.39015504122366\n",
      "z1 = -3.0880101995282256\n",
      "power = 0.9989924922251623\n"
     ]
    }
   ],
   "source": [
    "## Step 1\n",
    "\n",
    "## BEGIN SOLUTION\n",
    "\n",
    "# number of trials\n",
    "n = 35\n",
    "\n",
    "# significance level\n",
    "alpha = 0.05\n",
    "\n",
    "# assumed mean and standard deviation for new process (alternate distribution)\n",
    "mu = 84\n",
    "s = 5\n",
    "\n",
    "# mean and standard deviation for current process (null distribution)\n",
    "mu0 = 80\n",
    "s0 = 5\n",
    "\n",
    "## END SOLUTION\n",
    "\n",
    "## Step 2\n",
    "\n",
    "### BEGIN SOLUTION\n",
    "z = stats.norm.ppf(1-alpha)\n",
    "rr = z*s0/math.sqrt(n) + mu0\n",
    "print(rr)\n",
    "\n",
    "### END SOLUTION\n",
    "\n",
    "## Step 3\n",
    "\n",
    "### BEGIN SOLUTION\n",
    "z1 = (rr - mu)/(s/math.sqrt(n))\n",
    "print(\"z1 =\",z1)\n",
    "p = 1 - stats.norm.cdf(z1)\n",
    "print(\"power =\",p)\n",
    "### END SOLUTION\n",
    "\n",
    "## Store answer (sample size) in ans_18c_ii.\n",
    "\n",
    "### BEGIN SOLUTION\n",
    "ans_18c_ii = n\n",
    "### END SOLUTION\n"
   ]
  },
  {
   "cell_type": "code",
   "execution_count": 11,
   "metadata": {
    "nbgrader": {
     "grade": true,
     "grade_id": "18c-ii",
     "locked": true,
     "points": "0.3",
     "solution": false
    }
   },
   "outputs": [],
   "source": [
    "### BEGIN HIDDEN TESTS\n",
    "assert ans_18c_ii >= 35, \"Too small.\"\n",
    "\n",
    "assert ans_18c_ii <= 36, \"Too large.\"\n",
    "### END HIDDEN TESTS"
   ]
  },
  {
   "cell_type": "markdown",
   "metadata": {},
   "source": [
    "<div style=\"background-color: rgba(0,255,0,0.05) ; padding: 10px; border: 1px solid darkgreen;\"> \n",
    "<b>Home Activity</b>: Write down at least one question how have on statistical power calculations.\n",
    "</div>"
   ]
  },
  {
   "cell_type": "markdown",
   "metadata": {},
   "source": [
    "**Your Questions:**"
   ]
  }
 ],
 "metadata": {
  "colab": {
   "name": "L18-Error-Rates-Statistical-Power.ipynb",
   "provenance": [],
   "version": "0.3.2"
  },
  "kernelspec": {
   "display_name": "Python 3 (ipykernel)",
   "language": "python",
   "name": "python3"
  },
  "language_info": {
   "codemirror_mode": {
    "name": "ipython",
    "version": 3
   },
   "file_extension": ".py",
   "mimetype": "text/x-python",
   "name": "python",
   "nbconvert_exporter": "python",
   "pygments_lexer": "ipython3",
   "version": "3.9.12"
  }
 },
 "nbformat": 4,
 "nbformat_minor": 4
}
