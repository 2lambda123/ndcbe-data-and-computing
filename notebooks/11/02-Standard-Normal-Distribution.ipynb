{
 "cells": [
  {
   "cell_type": "markdown",
   "metadata": {
    "colab_type": "text",
    "id": "PnoA967-7IJF"
   },
   "source": [
    "# Standard Normal Distribution"
   ]
  },
  {
   "cell_type": "markdown",
   "metadata": {
    "colab_type": "text",
    "id": "2YUxu2XA7IJH"
   },
   "source": [
    "## Learning Objectives\n",
    "\n",
    "After studying this notebook, attending class, completing the home activities, and asking questions, you should be able to:\n",
    "* Understand standard normal distribution and why it is useful."
   ]
  },
  {
   "cell_type": "code",
   "execution_count": 1,
   "metadata": {
    "tags": []
   },
   "outputs": [],
   "source": [
    "# load libraries\n",
    "import numpy as np\n",
    "import math\n",
    "import matplotlib.pyplot as plt"
   ]
  },
  {
   "cell_type": "markdown",
   "metadata": {
    "colab_type": "text",
    "id": "xJECw5k47IJu"
   },
   "source": [
    "## Standardized Normal Distribution"
   ]
  },
  {
   "cell_type": "markdown",
   "metadata": {
    "colab_type": "text",
    "id": "7SHBd3j57IJv"
   },
   "source": [
    "How could we answer the above question is we did not have access to Python? In other words, how did people do statistical analysis with simple calculators?\n",
    "\n",
    "The core problem is that the integral for the cumulative distribution function (CDF) for the Gaussian (normal) distribution does not have an analytic solution.\n",
    "\n",
    "$$\n",
    "F(a) = \\int_{-\\infty}^{a} f(x ~|~ \\mu, \\sigma^2) dx\n",
    "$$\n",
    "\n",
    "$$\n",
    "F(a) = \\int_{-\\infty}^{a} \\frac{1}{\\sqrt{2 \\pi \\sigma^2}} e^{- \\frac{(x-\\mu)^2}{2 \\sigma^2}} dx\n",
    "$$\n",
    "\n",
    "This integral is calculated numerically. Virtually all statistics textbooks contain tables of computed values for the standard normal distribution, i.e., $\\mathcal{N}(0,1)$.\n",
    "\n",
    "Here is an example: https://statisticsbyjim.com/hypothesis-testing/z-table/\n",
    "\n",
    "You can convert any normal distribution to use these tables by **standardizing**:\n",
    "\n",
    "$$\n",
    "z = \\frac{x - \\mu}{\\sigma}\n",
    "$$\n",
    "\n",
    "Here $z$ is sometimes called a $z$-score."
   ]
  },
  {
   "cell_type": "code",
   "execution_count": 5,
   "metadata": {
    "colab": {
     "base_uri": "https://localhost:8080/",
     "height": 34
    },
    "colab_type": "code",
    "executionInfo": {
     "elapsed": 1640,
     "status": "ok",
     "timestamp": 1553020106790,
     "user": {
      "displayName": "Alexander Dowling",
      "photoUrl": "https://lh3.googleusercontent.com/-LChdQ2m5OQE/AAAAAAAAAAI/AAAAAAAAAA0/JeXJe4vQJ7M/s64/photo.jpg",
      "userId": "00988067626794866502"
     },
     "user_tz": 240
    },
    "id": "it2l7wIo7IJx",
    "outputId": "cf6956c0-e1b7-46d5-c1b9-6ec0fe9b8398"
   },
   "outputs": [
    {
     "name": "stdout",
     "output_type": "stream",
     "text": [
      "-0.1518156033561421\n"
     ]
    }
   ],
   "source": [
    "z = (0.5 - ev)/(math.sqrt(var))\n",
    "print(z)"
   ]
  },
  {
   "cell_type": "markdown",
   "metadata": {
    "colab_type": "text",
    "id": "xsk3tfRG7IJ1"
   },
   "source": [
    "We then look up the probability $P(Z < -0.15) = 0.44$, which matches our result above. We will use Python in this class, but you should know these tables exist.\n",
    "\n",
    "**Exam Practice**: Show that if $X \\sim \\mathcal{N}(\\mu,\\sigma^2)$ and $Z = \\frac{X - \\mu}{\\sigma}$ then $Z \\sim \\mathcal{N}(0,1)$. Hint: Treat $\\mu$ and $\\sigma$ as constants."
   ]
  },
  {
   "cell_type": "markdown",
   "metadata": {},
   "source": [
    "Below is a graphical representation of the problem above."
   ]
  },
  {
   "cell_type": "markdown",
   "metadata": {},
   "source": [
    "![normal-distribution-plot](../../media/zscore-plot.png)"
   ]
  },
  {
   "cell_type": "code",
   "execution_count": 3,
   "metadata": {
    "colab": {},
    "colab_type": "code",
    "id": "kb8sTjbS7IJ4"
   },
   "outputs": [],
   "source": [
    "lifetime = [3.2, 6.8, 4.2, 9.2, 11.2, 3.7, 2.9, 12.6, 6.4, 7.5, 8.6,\n",
    "            4.5, 3.0, 9.6, 1.5, 4.5, 6.3, 7.2, 8.5, 4.2, 6.3, 3.2, 5.0, 4.9, 6.6]"
   ]
  },
  {
   "cell_type": "markdown",
   "metadata": {
    "colab_type": "text",
    "id": "wyMfA8fh7IJ7"
   },
   "source": [
    "With these data, you can use statistics to ask two fundamental questions:\n",
    "1. What is the population mean lifetime? (We want an uncertainty range.)\n",
    "2. Does this sample of 25 catalysts have the manufacturer's promised specifications?"
   ]
  },
  {
   "cell_type": "code",
   "execution_count": 4,
   "metadata": {
    "colab": {
     "base_uri": "https://localhost:8080/",
     "height": 410
    },
    "colab_type": "code",
    "executionInfo": {
     "elapsed": 2400,
     "status": "ok",
     "timestamp": 1553020107561,
     "user": {
      "displayName": "Alexander Dowling",
      "photoUrl": "https://lh3.googleusercontent.com/-LChdQ2m5OQE/AAAAAAAAAAI/AAAAAAAAAA0/JeXJe4vQJ7M/s64/photo.jpg",
      "userId": "00988067626794866502"
     },
     "user_tz": 240
    },
    "id": "JACTEZsPYXnM",
    "outputId": "8c0f3458-6b2e-4987-ac28-768f3155e4e4"
   },
   "outputs": [
    {
     "name": "stdout",
     "output_type": "stream",
     "text": [
      "Lifetime Average: 6.064 hours\n",
      "Lifetime Standard Deviation: 2.7185113573424697 hours\n"
     ]
    },
    {
     "data": {
      "image/png": "[encoded data removed]",
      "text/plain": [
       "<Figure size 432x288 with 1 Axes>"
      ]
     },
     "metadata": {
      "needs_background": "light"
     },
     "output_type": "display_data"
    }
   ],
   "source": [
    "# Make a histogram\n",
    "plt.hist(lifetime)\n",
    "plt.title(\"Histogram of Catalyst Lifetime\")\n",
    "plt.xlabel(\"Lifetime [hours]\")\n",
    "plt.ylabel(\"Frequency\")\n",
    "\n",
    "# Compute the mean and standard deviation\n",
    "xbar = np.mean(lifetime)\n",
    "s = np.std(lifetime)\n",
    "\n",
    "print(\"Lifetime Average: {} hours\".format(xbar))\n",
    "print(\"Lifetime Standard Deviation: {} hours\".format(s))"
   ]
  }
 ],
 "metadata": {
  "colab": {
   "collapsed_sections": [],
   "name": "L16-Statistical-Inference-Part-1.ipynb",
   "provenance": [],
   "version": "0.3.2"
  },
  "kernelspec": {
   "display_name": "Python 3 (ipykernel)",
   "language": "python",
   "name": "python3"
  },
  "language_info": {
   "codemirror_mode": {
    "name": "ipython",
    "version": 3
   },
   "file_extension": ".py",
   "mimetype": "text/x-python",
   "name": "python",
   "nbconvert_exporter": "python",
   "pygments_lexer": "ipython3",
   "version": "3.9.12"
  }
 },
 "nbformat": 4,
 "nbformat_minor": 4
}
