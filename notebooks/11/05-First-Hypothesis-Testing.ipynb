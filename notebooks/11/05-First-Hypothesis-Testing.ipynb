{
 "cells": [
  {
   "cell_type": "markdown",
   "metadata": {
    "colab_type": "text",
    "id": "PnoA967-7IJF"
   },
   "source": [
    "# First Hypothesis Testing\n",
    "\n",
    "CBE 20258. Numerical and Statistical Analysis. Spring 2020.\n",
    "\n",
    "&#169; University of Notre Dame"
   ]
  },
  {
   "cell_type": "markdown",
   "metadata": {
    "colab_type": "text",
    "id": "2YUxu2XA7IJH"
   },
   "source": [
    "## Learning Objectives\n",
    "\n",
    "After studying this notebook, attending class, completing the home activities, and asking questions, you should be able to:\n",
    "* Use a confidence interval to perform hypothesis testing\n",
    "* Apply the 5-step hypothesis testing procedure\n",
    " * Identify null and alternative hypotheses from a problem description\n",
    " * Calculate test statistic\n",
    " * Draw \"area under curve\" that corresponds to P-value for a given set of hypotheses"
   ]
  },
  {
   "cell_type": "code",
   "execution_count": 1,
   "metadata": {
    "tags": []
   },
   "outputs": [],
   "source": [
    "# load libraries\n",
    "import scipy.stats as stats\n",
    "import numpy as np\n",
    "import math\n",
    "import matplotlib.pyplot as plt"
   ]
  },
  {
   "cell_type": "markdown",
   "metadata": {},
   "source": [
    "## Hypothesis Testing\n",
    "\n",
    "**Further Reading**: §6.1, §6.2, and §6.4 in Navidi (2015)"
   ]
  },
  {
   "cell_type": "markdown",
   "metadata": {},
   "source": [
    "**Main Idea**: Using a **sample**, draw inference about a scientific hypothesis involving the **population mean**. (Engineers are sometimes interested in inference about the population variance too. We will not learn about these flavors of hypothesis testing this semester - we can only cover so much. Please note that hypothesis testing is not limited to the population mean.)"
   ]
  },
  {
   "cell_type": "markdown",
   "metadata": {},
   "source": [
    "### Motivating Example: Catalyst Lifetime\n",
    "\n",
    "**Story**  \n",
    "As a process engineer, you would like to infer if a new catalyst (data shown below/also in last notebook) has a longer life than current catalyst (5.7 hours) used in our company's process."
   ]
  },
  {
   "cell_type": "code",
   "execution_count": 2,
   "metadata": {},
   "outputs": [
    {
     "data": {
      "image/png": "[encoded data removed]",
      "text/plain": [
       "<Figure size 432x288 with 1 Axes>"
      ]
     },
     "metadata": {
      "needs_background": "light"
     },
     "output_type": "display_data"
    }
   ],
   "source": [
    "# Catalyst example data\n",
    "lifetime = [3.2, 6.8, 4.2, 9.2, 11.2, 3.7, 2.9, 12.6, 6.4, 7.5, 8.6,\n",
    "            4.5, 3.0, 9.6, 1.5, 4.5, 6.3, 7.2, 8.5, 4.2, 6.3, 3.2, 5.0, 4.9, 6.6]\n",
    "\n",
    "# Compute the mean and standard deviation\n",
    "xbar = np.mean(lifetime)\n",
    "s = np.std(lifetime)\n",
    "\n",
    "# Plot lifetime data\n",
    "plt.hist(lifetime)\n",
    "plt.title(\"Histogram of Catalyst Lifetime\")\n",
    "plt.xlabel(\"Lifetime [hours]\")\n",
    "plt.ylabel(\"Frequency\")\n",
    "plt.show()"
   ]
  },
  {
   "cell_type": "markdown",
   "metadata": {},
   "source": [
    "**Sample Statistics**"
   ]
  },
  {
   "cell_type": "code",
   "execution_count": 3,
   "metadata": {},
   "outputs": [
    {
     "name": "stdout",
     "output_type": "stream",
     "text": [
      "Lifetime Average: 6.06 hours\n",
      "Lifetime Standard Deviation: 2.72 hours\n"
     ]
    }
   ],
   "source": [
    "print(\"Lifetime Average:\",round(xbar,2),\"hours\")\n",
    "print(\"Lifetime Standard Deviation: {:.2f} hours\".format(s))"
   ]
  },
  {
   "cell_type": "markdown",
   "metadata": {},
   "source": [
    "**Key Question**\n",
    "\n",
    "The mean **sample** lifetime is 6.06 hours, which is much better than the 5 hour goal. Here are two possible interpretations of the data:\n",
    "1. The population mean (new catalyst lifetime) is actually 5.7 hours or less. The sample mean is higher because of random variations in the experiment (sampling from the population).\n",
    "2. The population mean is actually 5.7 hours or greater, and the sample reflects this fact.\n",
    "\n",
    "We will use **hypothesis testing** to discern between these two possible explanations.\n",
    "\n",
    "Mathematically, we want to draw a conclusion about the mean catalyst lifetime, i.e., the expected value of the population distribution."
   ]
  },
  {
   "cell_type": "markdown",
   "metadata": {},
   "source": [
    "### Null and Alternative Hypotheses\n",
    "\n",
    "**Null Hypothesis** (option 1 above, denoted $H_0$): Effect indicated by the sample is due to random variations.\n",
    "\n",
    "**Alternative Hypothesis** (option 2 above, denoted $H_1$ or $H_a$): Effect indicated by the sample is real."
   ]
  },
  {
   "cell_type": "markdown",
   "metadata": {},
   "source": [
    "### Hypothesis Testing Procedure\n",
    "1. Define $H_0$ and $H_1$.\n",
    "2. Assume $H_0$ to be true.\n",
    "3. Compute the test statistic.\n",
    "4. Compute the P-value.\n",
    "5. State conclusions.\n",
    "\n",
    "We will follow these steps whenever doing hypothesis testing in this class. We will now walk through the **catalyst lifetime example**."
   ]
  },
  {
   "cell_type": "markdown",
   "metadata": {},
   "source": [
    "#### Step 1. Define Hypotheses."
   ]
  },
  {
   "cell_type": "markdown",
   "metadata": {},
   "source": [
    "$$H_0: \\mu \\leq 5.7 \\qquad \\mathrm{versus} \\qquad H_a: \\mu > 5.7$$"
   ]
  },
  {
   "cell_type": "markdown",
   "metadata": {},
   "source": [
    "#### Step 2. Assume $H_0$ is True.\n",
    "\n",
    "We do not need to write anything for this step. But it is important to remember this assumption for the remaining calculations."
   ]
  },
  {
   "cell_type": "markdown",
   "metadata": {},
   "source": [
    "#### Step 3. Compute the Test Statistic.\n",
    "\n",
    "We do not know the population standard deviation, so we will use a t-statistic.\n",
    "\n",
    "$$\n",
    "t = \\frac{\\bar{x} - \\mu_0}{s / \\sqrt{n}}\n",
    "$$"
   ]
  },
  {
   "cell_type": "code",
   "execution_count": 4,
   "metadata": {},
   "outputs": [
    {
     "name": "stdout",
     "output_type": "stream",
     "text": [
      "t =  0.6694840523966666\n"
     ]
    }
   ],
   "source": [
    "tscore = (xbar - 5.7)/(s / math.sqrt(len(lifetime)))\n",
    "print(\"t = \",tscore)"
   ]
  },
  {
   "cell_type": "markdown",
   "metadata": {},
   "source": [
    "#### Step 4. Calculate P-Value.\n",
    "\n",
    "The P-value tells us the probability of observing a sample as or more extreme than the current one if the null hypothesis is true. (Remember Step 2.)\n",
    "\n",
    "\n",
    "We can calculate the P-Value by integrating the area under the t-distribution (or normal distribution). **I strongly recommend drawing a picture of a z-/t-distribution and shading the area under the curve that corresponds with the P-value. This is essential to not make a sign mistake when using ``cdf()``.** The integral is intractable, so we will use Python or a look-up table."
   ]
  },
  {
   "cell_type": "code",
   "execution_count": 5,
   "metadata": {},
   "outputs": [
    {
     "name": "stdout",
     "output_type": "stream",
     "text": [
      "P-value: 0.2547883922583275\n"
     ]
    }
   ],
   "source": [
    "# You'll want to draw a picture whenever connecting a P-value to the cdf() function in Python\n",
    "pval = 1 - stats.t.cdf(tscore, len(lifetime)-1)\n",
    "print(\"P-value:\",pval)"
   ]
  },
  {
   "cell_type": "markdown",
   "metadata": {},
   "source": [
    "#### Step 5. State Conclusions\n",
    "\n",
    "The P-value is 0.25, which is greater than 0.05, so we **fail to reject the null hypothesis**. We cannot conclude the new catalyst has a mean lifetime greater than 5.7 hours.\n",
    "\n",
    "**Important Ideas**:\n",
    "* The smaller the P-value, the more certain we are that $H_0$ is false.\n",
    "* The larger the P-value, the more plausible $H_0$.\n",
    "* We can never be certain the $H_0$ is true. Thus we never conclude \"accept the null hypothesis\".\n",
    "* We can only conclude to **reject** the null hypothesis or **fail to reject** the null hypothesis. We can never be certain the $H_0$ is true, and thus never say \"accept the null hypothesis\".\n",
    "* Rule of thumb is to reject $H_0$ whenever $P \\leq 0.05$, but this has no scientific basis.\n",
    "* The P-value is NOT the probability $H_0$ is true. (To make this statement, we would need Bayesian statistics.)\n",
    "\n",
    "**Statistical Significance**. For $P \\leq \\alpha$ and $0 < \\alpha < 1$, people often say:\n",
    "* The results of the test are statistically significant at the 100$\\alpha$% level.\n",
    "* The null hypothesis is rejected at 100$\\alpha$% level."
   ]
  },
  {
   "cell_type": "markdown",
   "metadata": {},
   "source": [
    "### Summary of Hypotheses and P-Values\n",
    "\n",
    "| Null Hypothesis | Alternate Hypothesis | P-Value |\n",
    "|-|-|-|\n",
    "| $H_0: \\mu \\leq \\mu_0$ |  $H_a: \\mu > \\mu_0$ | Area to the right of $z$ (or $t$) |\n",
    "| $H_0: \\mu \\geq \\mu_0$ |  $H_a: \\mu < \\mu_0$ | Area to the left of $z$ (or $t$) |\n",
    "| $H_0: \\mu = \\mu_0$ |  $H_a: \\mu \\neq \\mu_0$ | Sum of the areas in the tails cut off by $z$ and $-z$ (or $t$ and $-t$) |"
   ]
  },
  {
   "cell_type": "markdown",
   "metadata": {},
   "source": [
    "**Coda**: Confidence Intervals and Hypothesis Testing are Closely Related"
   ]
  }
 ],
 "metadata": {
  "colab": {
   "collapsed_sections": [],
   "name": "L16-Statistical-Inference-Part-1.ipynb",
   "provenance": [],
   "version": "0.3.2"
  },
  "kernelspec": {
   "display_name": "Python 3",
   "language": "python",
   "name": "python3"
  },
  "language_info": {
   "codemirror_mode": {
    "name": "ipython",
    "version": 3
   },
   "file_extension": ".py",
   "mimetype": "text/x-python",
   "name": "python",
   "nbconvert_exporter": "python",
   "pygments_lexer": "ipython3",
   "version": "3.8.5"
  }
 },
 "nbformat": 4,
 "nbformat_minor": 4
}
