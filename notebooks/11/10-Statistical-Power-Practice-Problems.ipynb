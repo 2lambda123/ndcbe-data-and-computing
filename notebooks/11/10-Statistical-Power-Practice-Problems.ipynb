{
 "cells": [
  {
   "cell_type": "markdown",
   "metadata": {
    "colab_type": "text",
    "id": "Bi9hZ44D2AQJ"
   },
   "source": [
    "# Class 19: Error Rates and Statistical Power\n",
    "\n",
    "CBE 20258. Numerical and Statistical Analysis. Spring 2020.\n",
    "\n",
    "&#169; Alexander Dowling, University of Notre Dame"
   ]
  },
  {
   "cell_type": "code",
   "execution_count": 1,
   "metadata": {
    "colab": {},
    "colab_type": "code",
    "collapsed": true,
    "id": "9wy-3eQa2AQK",
    "jupyter": {
     "outputs_hidden": true
    }
   },
   "outputs": [],
   "source": [
    "# load libraries\n",
    "import scipy.stats as stats\n",
    "import numpy as np\n",
    "import math\n",
    "import matplotlib.pyplot as plt"
   ]
  },
  {
   "cell_type": "markdown",
   "metadata": {
    "colab_type": "text",
    "id": "xhyUzB0X2AQO"
   },
   "source": [
    "## Class 19 Learning Objectives\n",
    "\n",
    "After studying this notebook, completing the activities, participating in class, and reviewing your notes, should be able to:\n",
    "* Formulate null and alternative hypotheses from a problem description\n",
    "* Draw conclusions by interpreting a calculated P-value\n",
    "* Explain Type I and Type II errors in the context of an application\n",
    "* Predict Type I and Type II error rates (including statistical power calculations)\n",
    "* Calculate minimum sample size based on Type I and Type II error rate specifications"
   ]
  },
  {
   "cell_type": "markdown",
   "metadata": {},
   "source": [
    "## 19e. Practice Problems"
   ]
  },
  {
   "cell_type": "markdown",
   "metadata": {},
   "source": [
    "<div style=\"background-color: rgba(0,0,255,0.05) ; padding: 10px; border: 1px solid darkblue;\"> \n",
    "<b>Class Activity Structure</b>: In a breakout room, brainstorm how to start these problems together on paper. We will then regroup on compile the answer together as a class. Python code is included for each problem to check our answer or perform simple calculations. In this class session, we will emphasize learning how to setup and solve statistical power calculations on paper. This is critical to understand the main concept.\n",
    "</div>"
   ]
  },
  {
   "cell_type": "markdown",
   "metadata": {},
   "source": [
    "<div style=\"background-color: rgba(0,0,255,0.05) ; padding: 10px; border: 1px solid darkblue;\"> \n",
    "<b>Class Breakout 1</b>: In a breakout room, brainstorm how to start <b>Practice Problem A</b> on paper. Make a list of questions to ask when we regroup as a class.\n",
    "</div>"
   ]
  },
  {
   "cell_type": "markdown",
   "metadata": {},
   "source": [
    "### Practice Problem A\n",
    "\n",
    "Reference: Problem 2 in §6.13 of Navidi (2015).\n",
    "\n",
    "A test has power 0.80 assume the alternative mean $\\mu = 3.5$. True or false:\n",
    "1. The probability of rejecting $H_0$ when $\\mu=3.5$ is 0.80.\n",
    "2. The probability of making a Type I error when $\\mu=3.5$ is 0.80.\n",
    "3. The probability of making a Type I error when $\\mu=3.5$ is 0.20.\n",
    "4. The probability of making a Type II error when $\\mu=3.5$ is 0.80.\n",
    "5. The probability of making a Type II error when $\\mu=3.5$ is 0.20.\n",
    "6. The probability that $H_0$ is false when $\\mu=3.5$ is 0.80."
   ]
  },
  {
   "cell_type": "markdown",
   "metadata": {},
   "source": [
    "<div style=\"background-color: rgba(0,0,255,0.05) ; padding: 10px; border: 1px solid darkblue;\"> \n",
    "<b>Class Breakout 2</b>: In a breakout room, brainstorm how to start <b>Practice Problem B</b> on paper. Make a list of questions to ask when we regroup as a class.\n",
    "</div>"
   ]
  },
  {
   "cell_type": "code",
   "execution_count": null,
   "metadata": {
    "collapsed": true,
    "jupyter": {
     "outputs_hidden": true
    }
   },
   "outputs": [],
   "source": []
  },
  {
   "cell_type": "markdown",
   "metadata": {},
   "source": [
    "### Practice Problem B\n",
    "\n",
    "Reference: Problem 2 in §6.12 of Navidi (2015).\n",
    "\n",
    "A process for a certain type of ore is designed to reduce the concentration of impurities to less than 2%. It is known that the standard deviation of imputities for processed ore is 0.6%. Let $\\mu$ represent the mean impurity level, in percent, for ore specimens treated by this process. The impurity of 80 ore specimens is measured, and a test of the hypothesis $H_0: ~\\mu \\geq$ 2 versus $H_a:~ \\mu$ < 2 will be performed.\n",
    "1. If the test is made at the 5% level, what is the rejection region.\n",
    "2. If the sample mean impurity concentration is 1.85, will $H_0$ be rejected at the 10% level?\n",
    "3. If the same mean impurity concentration is 1.85, will $H_0$ be rejected at the 1% level?\n",
    "4. If the value 1.9 is a critical point (i.e., the value of the test statistic that produces a P-value equal to $\\alpha$), what is the level of the test?\n"
   ]
  },
  {
   "cell_type": "markdown",
   "metadata": {},
   "source": [
    "**Note:** During class, you should write down all of the paper and pencil work we do together. In the cells below, we are just using Python as a calculator."
   ]
  },
  {
   "cell_type": "code",
   "execution_count": 19,
   "metadata": {
    "collapsed": true,
    "jupyter": {
     "outputs_hidden": true
    }
   },
   "outputs": [],
   "source": [
    "# sample size\n",
    "n = 80\n",
    "\n",
    "# assumed population standard deviation\n",
    "sig = 0.6\n",
    "\n",
    "# mean for null distribution\n",
    "mu0 = 2.0"
   ]
  },
  {
   "cell_type": "code",
   "execution_count": 20,
   "metadata": {},
   "outputs": [
    {
     "name": "stdout",
     "output_type": "stream",
     "text": [
      "zcrit =  -1.6448536269514729\n",
      "xcrit =  1.8896598643129827\n"
     ]
    }
   ],
   "source": [
    "# Part 1\n",
    "alpha = 0.05\n",
    "\n",
    "# Step 1: calculate the normalized critical point (z)\n",
    "# hint: ppf is the inverse cdf\n",
    "zcrit = stats.norm.ppf(alpha)\n",
    "print(\"zcrit = \",zcrit)\n",
    "\n",
    "# Step 2: translate the normalize critical point to the sample mean (X)\n",
    "xcrit = zcrit*sig/np.sqrt(n) + mu0\n",
    "print(\"xcrit = \",xcrit)"
   ]
  },
  {
   "cell_type": "code",
   "execution_count": 21,
   "metadata": {},
   "outputs": [
    {
     "name": "stdout",
     "output_type": "stream",
     "text": [
      "zcrit =  -1.2815515655446004\n",
      "xcrit =  1.9140309074831299\n"
     ]
    }
   ],
   "source": [
    "# Part 2\n",
    "\n",
    "# Strategy: repeat the previous calculation with a new alpha\n",
    "alpha = 0.1\n",
    "\n",
    "# Step 1: calculate the normalized critical point (z)\n",
    "# hint: ppf is the inverse cdf\n",
    "zcrit = stats.norm.ppf(alpha)\n",
    "print(\"zcrit = \",zcrit)\n",
    "\n",
    "# Step 2: translate the normalize critical point to the sample mean (X)\n",
    "xcrit = zcrit*sig/np.sqrt(n) + mu0\n",
    "print(\"xcrit = \",xcrit)"
   ]
  },
  {
   "cell_type": "code",
   "execution_count": 22,
   "metadata": {},
   "outputs": [
    {
     "name": "stdout",
     "output_type": "stream",
     "text": [
      "zcrit =  -2.3263478740408408\n",
      "xcrit =  1.8439438404299768\n"
     ]
    }
   ],
   "source": [
    "# Part 3\n",
    "\n",
    "# Strategy: repeat the previous calculation with a new alpha\n",
    "alpha = 0.01\n",
    "\n",
    "# Step 1: calculate the normalized critical point (z)\n",
    "# hint: ppf is the inverse cdf\n",
    "zcrit = stats.norm.ppf(alpha)\n",
    "print(\"zcrit = \",zcrit)\n",
    "\n",
    "# Step 2: translate the normalize critical point to the sample mean (X)\n",
    "xcrit = zcrit*sig/np.sqrt(n) + mu0\n",
    "print(\"xcrit = \",xcrit)"
   ]
  },
  {
   "cell_type": "code",
   "execution_count": 23,
   "metadata": {},
   "outputs": [
    {
     "name": "stdout",
     "output_type": "stream",
     "text": [
      "zcrit = -1.4907119849998614\n",
      "level = 0.06801856405707159\n"
     ]
    }
   ],
   "source": [
    "# Part 4\n",
    "\n",
    "# Given: critical point for sample mean\n",
    "xcrit = 1.9\n",
    "\n",
    "# Step 1: calculate normalized critical point\n",
    "zcrit = (xcrit - mu0)/(sig/np.sqrt(n))\n",
    "print(\"zcrit =\",zcrit)\n",
    "\n",
    "# Step 2: look up probability\n",
    "level = stats.norm.cdf(zcrit, loc=0, scale=1)\n",
    "print(\"level =\",level)\n"
   ]
  },
  {
   "cell_type": "markdown",
   "metadata": {},
   "source": [
    "<div style=\"background-color: rgba(0,0,255,0.05) ; padding: 10px; border: 1px solid darkblue;\"> \n",
    "<b>Class Breakout 3</b>: In a breakout room, brainstorm how to start <b>Practice Problem C</b> on paper. Make a list of questions to ask when we regroup as a class.\n",
    "</div>"
   ]
  },
  {
   "cell_type": "markdown",
   "metadata": {},
   "source": [
    "### Practice Problem C\n",
    "\n",
    "Reference: Problem 6 in §6.13 of Navidi (2015).\n",
    "\n",
    "A copper smelting process is supposed to reduce the arsenic concent of the copper to less than 1000 ppm. Let $\\mu$ denote the mean arsenic content for copper treated by this process, and assume that the standard deviation of arsenic content is $\\sigma$ = 100 ppm. The sample mean arsenic content $\\bar{X}$ of 75 copper specimens will computed, and the null hypothesis $H_{0}:~ \\mu \\geq$ 1000 ppm will be tested against the alternative $H_a:~ \\mu$ < 1000 ppm.\n",
    "\n",
    "1. A decision is made to reject $H_0$ is $\\bar{X} \\leq 980$. Find the level ($\\alpha$) of this test.\n",
    "2. Find the power of the test in part (1) if the true mean content is 965 ppm.\n",
    "3. For what values of $\\bar{X}$ should $H_0$ be rejected so that the power of the test will be 0.95 when the true mean content is 965 ppm?\n",
    "4. For what values of $\\bar{X}$ should $H_0$ be rejected so that the level of the test ($\\alpha$) will be 5%?\n",
    "5. What is the power of a 5% level test if the true mean content is 965 ppm?\n",
    "6. How large a sample is needed so that a 5% level test has power 0.95 when the true mean content is 965 ppm?"
   ]
  },
  {
   "cell_type": "markdown",
   "metadata": {},
   "source": [
    "**Note:** During class, you should write down all of the paper and pencil work we do together. In the cells below, we are just using Python as a calculator."
   ]
  },
  {
   "cell_type": "code",
   "execution_count": 24,
   "metadata": {
    "collapsed": true,
    "jupyter": {
     "outputs_hidden": true
    }
   },
   "outputs": [],
   "source": [
    "# sample size\n",
    "n = 75\n",
    "\n",
    "# assumed population standard deviation\n",
    "sig = 100 # ppm\n",
    "\n",
    "# mean for null distribution\n",
    "mu0 = 1000 # ppm"
   ]
  },
  {
   "cell_type": "code",
   "execution_count": 25,
   "metadata": {},
   "outputs": [
    {
     "name": "stdout",
     "output_type": "stream",
     "text": [
      "zcrit = -1.7320508075688774\n",
      "level = 0.0416322583317752\n"
     ]
    }
   ],
   "source": [
    "# Part 1\n",
    "\n",
    "# Given: critical point for sample mean\n",
    "xcrit = 980\n",
    "\n",
    "# Step 1: calculate normalized critical point\n",
    "zcrit = (xcrit - mu0)/(sig/np.sqrt(n))\n",
    "print(\"zcrit =\",zcrit)\n",
    "\n",
    "# Step 2: look up probability (level)\n",
    "level = stats.norm.cdf(zcrit, loc=0, scale=1)\n",
    "print(\"level =\",level)"
   ]
  },
  {
   "cell_type": "code",
   "execution_count": 26,
   "metadata": {},
   "outputs": [
    {
     "name": "stdout",
     "output_type": "stream",
     "text": [
      "za = 1.299038105676658\n",
      "power = 0.9030345738587946\n"
     ]
    }
   ],
   "source": [
    "# Part 2\n",
    "\n",
    "# Assumption: true mean\n",
    "mua = 965 # ppm\n",
    "\n",
    "# Step 1: draw a picture!!!\n",
    "\n",
    "# Step 2: calculate za, i.e., the location of the critical point on the alternate distribution\n",
    "za = (xcrit - mua)/(sig/np.sqrt(n))\n",
    "print(\"za =\",za)\n",
    "\n",
    "# Step 3: calculate probability\n",
    "power = stats.norm.cdf(za, loc=0, scale=1)\n",
    "print(\"power =\",power)"
   ]
  },
  {
   "cell_type": "code",
   "execution_count": 27,
   "metadata": {},
   "outputs": [
    {
     "name": "stdout",
     "output_type": "stream",
     "text": [
      "za = 1.6448536269514722\n",
      "xcrit = 983.9931336859593\n"
     ]
    }
   ],
   "source": [
    "# Part 3\n",
    "\n",
    "# Step 1: calculate za corresponding with 95% power\n",
    "za = stats.norm.ppf(0.95)\n",
    "print(\"za =\",za)\n",
    "\n",
    "# Step 2: translate za to the critical point\n",
    "xcrit = za*sig/np.sqrt(n) + mua\n",
    "print(\"xcrit =\",xcrit)"
   ]
  },
  {
   "cell_type": "code",
   "execution_count": 28,
   "metadata": {},
   "outputs": [
    {
     "name": "stdout",
     "output_type": "stream",
     "text": [
      "zcrit = z0 = -1.6448536269514729\n",
      "xcrit = x0 = 981.0068663140407\n"
     ]
    }
   ],
   "source": [
    "# Part 4\n",
    "\n",
    "level = 0.05\n",
    "\n",
    "# Step 1: Calculate z0 (zcrit) from the level\n",
    "z0 = stats.norm.ppf(level)\n",
    "print(\"zcrit = z0 =\",z0)\n",
    "\n",
    "# Step 2: Convert z0 to xcrit (x0)\n",
    "x0 = z0*sig/np.sqrt(n) + mu0\n",
    "print(\"xcrit = x0 =\",x0)"
   ]
  },
  {
   "cell_type": "code",
   "execution_count": 29,
   "metadata": {},
   "outputs": [
    {
     "name": "stdout",
     "output_type": "stream",
     "text": [
      "za = 1.3862352862940657\n",
      "power = 0.9171624649939363\n"
     ]
    }
   ],
   "source": [
    "# Part 5\n",
    "\n",
    "# Step 1: Convert x0 (critical point) to za on alternate distribution\n",
    "za = (x0 - mua)/(sig/np.sqrt(n))\n",
    "print(\"za =\",za)\n",
    "\n",
    "# Step 2: Convert za to power\n",
    "power = stats.norm.cdf(za)\n",
    "print(\"power =\",power)"
   ]
  },
  {
   "cell_type": "code",
   "execution_count": 30,
   "metadata": {},
   "outputs": [
    {
     "name": "stdout",
     "output_type": "stream",
     "text": [
      "z0 = -1.6448536269514729\n",
      "za = 1.6448536269514722\n",
      "n = 88.34427605209513\n"
     ]
    }
   ],
   "source": [
    "# Part 6\n",
    "\n",
    "# Given: level, power\n",
    "level = 0.05\n",
    "power = 0.95\n",
    "\n",
    "# Step 1: compute z0 from level\n",
    "z0 = stats.norm.ppf(level)\n",
    "print(\"z0 =\",z0)\n",
    "\n",
    "# Step 2: compute za from power\n",
    "za = stats.norm.ppf(power)\n",
    "print(\"za =\",za)\n",
    "\n",
    "# Step 3: solve for n\n",
    "n = (sig*(za - z0)/(mu0 - mua))**2\n",
    "print(\"n =\",n)"
   ]
  },
  {
   "cell_type": "code",
   "execution_count": null,
   "metadata": {
    "collapsed": true,
    "jupyter": {
     "outputs_hidden": true
    }
   },
   "outputs": [],
   "source": []
  }
 ],
 "metadata": {
  "colab": {
   "name": "L18-Error-Rates-Statistical-Power.ipynb",
   "provenance": [],
   "version": "0.3.2"
  },
  "kernelspec": {
   "display_name": "Python 3 (ipykernel)",
   "language": "python",
   "name": "python3"
  },
  "language_info": {
   "codemirror_mode": {
    "name": "ipython",
    "version": 3
   },
   "file_extension": ".py",
   "mimetype": "text/x-python",
   "name": "python",
   "nbconvert_exporter": "python",
   "pygments_lexer": "ipython3",
   "version": "3.9.12"
  }
 },
 "nbformat": 4,
 "nbformat_minor": 4
}
