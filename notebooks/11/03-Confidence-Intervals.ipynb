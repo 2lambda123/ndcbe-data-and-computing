{
 "cells": [
  {
   "cell_type": "markdown",
   "metadata": {
    "colab_type": "text",
    "id": "PnoA967-7IJF"
   },
   "source": [
    "# Confidence Intervals\n",
    "\n",
    "CBE 20258. Numerical and Statistical Analysis. Spring 2020.\n",
    "\n",
    "&#169; University of Notre Dame"
   ]
  },
  {
   "cell_type": "markdown",
   "metadata": {
    "colab_type": "text",
    "id": "2YUxu2XA7IJH"
   },
   "source": [
    "## Learning Objectives\n",
    "\n",
    "After studying this notebook, attending class, completing the home activities, and asking questions, you should be able to:\n",
    "* Explain the correct interpretation of a 95% confidence interval\n",
    "* Using a picture, explain the 68-95-99.7 rule to someone that just finished Calculus II\n",
    "* Calculate any size confidence interval (95%, 99%, etc.) using z- or t-distribution"
   ]
  },
  {
   "cell_type": "code",
   "execution_count": 1,
   "metadata": {
    "tags": []
   },
   "outputs": [],
   "source": [
    "# load libraries\n",
    "import scipy.stats as stats\n",
    "import numpy as np\n",
    "import math\n",
    "import matplotlib.pyplot as plt"
   ]
  },
  {
   "cell_type": "markdown",
   "metadata": {},
   "source": [
    "## Motivating Example: Catalyst Life\n",
    "\n",
    "Imagine this summer you have an internship at a specialty chemical company. You are tasked with testing a new catalyst. You receive 25 test samples of catalyst. You record the number of hours of operation before each test sample experiences a substantial decrease in yield (i.e., fails). Below are the data."
   ]
  },
  {
   "cell_type": "code",
   "execution_count": 2,
   "metadata": {},
   "outputs": [],
   "source": [
    "lifetime = [3.2, 6.8, 4.2, 9.2, 11.2, 3.7, 2.9, 12.6, 6.4, 7.5, 8.6,\n",
    "            4.5, 3.0, 9.6, 1.5, 4.5, 6.3, 7.2, 8.5, 4.2, 6.3, 3.2, 5.0, 4.9, 6.6]"
   ]
  },
  {
   "cell_type": "markdown",
   "metadata": {},
   "source": [
    "With these data, you can use statistics to ask two fundamental questions:\n",
    "1. What is the population mean lifetime? (We want an uncertainty range.)\n",
    "2. Does this sample of 25 catalysts have the manufacturer's promised specifications?"
   ]
  },
  {
   "cell_type": "code",
   "execution_count": 3,
   "metadata": {},
   "outputs": [
    {
     "name": "stdout",
     "output_type": "stream",
     "text": [
      "Lifetime Average: 6.064 hours\n",
      "Lifetime Standard Deviation: 2.7185113573424697 hours\n"
     ]
    },
    {
     "data": {
      "image/png": "[encoded data removed]",
      "text/plain": [
       "<Figure size 432x288 with 1 Axes>"
      ]
     },
     "metadata": {
      "needs_background": "light"
     },
     "output_type": "display_data"
    }
   ],
   "source": [
    "# Make a histogram\n",
    "plt.hist(lifetime)\n",
    "plt.title(\"Histogram of Catalyst Lifetime\")\n",
    "plt.xlabel(\"Lifetime [hours]\")\n",
    "plt.ylabel(\"Frequency\")\n",
    "\n",
    "# Compute the mean and standard deviation\n",
    "xbar = np.mean(lifetime)\n",
    "s = np.std(lifetime)\n",
    "\n",
    "print(\"Lifetime Average: {} hours\".format(xbar))\n",
    "print(\"Lifetime Standard Deviation: {} hours\".format(s))"
   ]
  },
  {
   "cell_type": "markdown",
   "metadata": {
    "colab_type": "text",
    "id": "Q6-or-gJ7IJ9"
   },
   "source": [
    "## Confidence Interval\n",
    "\n",
    "**Further Reading**: §5.1 in Navidi (2015)"
   ]
  },
  {
   "cell_type": "markdown",
   "metadata": {
    "colab_type": "text",
    "id": "KqERO5Js7IJ-"
   },
   "source": [
    "Let's focus on the first question from above. We want to construct lower and upper bounds using the 25 observations above such that if we repeated our calculation *many many* times (i.e., the manufacture kept sending up batches of 25 samples to test), our process would capture the *true mean* **X%** (i.e., 95%, 99%, etc.) of the time.\n",
    "\n",
    "**Key Insights**:\n",
    "* We are assuming the lifetime of a catalyst can be modeled as a random process (probability distribution) with an unknown mean.\n",
    "* **Frequentist** statistics cares about the **long-term error rate** of estimation methods.\n",
    "* We are **not making probabilistic statements** about the catalyst lifetime. For example, we are **not saying there is an X%** chance the true mean falls within this interval. Further reading: https://www.graphpad.com/guides/prism/7/statistics/stat_more_about_confidence_interval.htm\n",
    "* To make probablistic statements, we would need to use **Bayesian** statistics (i.e., credibility interval)."
   ]
  },
  {
   "cell_type": "markdown",
   "metadata": {
    "colab_type": "text",
    "id": "V_-thiHh7IJ_"
   },
   "source": [
    "### 68-95-99.7 Rule\n",
    "\n",
    "![rule](../../media/68-95-99.7.png)\n",
    "\n",
    "Image credit: https://towardsdatascience.com/understanding-the-68-95-99-7-rule-for-a-normal-distribution-b7b7cbf760c2"
   ]
  },
  {
   "cell_type": "markdown",
   "metadata": {
    "colab_type": "text",
    "id": "6sZ9Zap77IJ_"
   },
   "source": [
    "### Confidence Interval Formula\n",
    "\n",
    "$$\\bar{x} \\pm z^* \\frac{s}{\\sqrt{n}}$$\n",
    "\n",
    "Elements:\n",
    "* $\\bar{x}$ : sample mean\n",
    "* $z^*$ : z-score\n",
    "* $s$ : sample standard deviation\n",
    "* $n$ : sample size"
   ]
  },
  {
   "cell_type": "markdown",
   "metadata": {
    "colab_type": "text",
    "id": "2NvtXTyU7IKA"
   },
   "source": [
    "### Catalyst Life Example"
   ]
  },
  {
   "cell_type": "markdown",
   "metadata": {
    "colab_type": "text",
    "id": "ersDtUut7IKA"
   },
   "source": [
    "Calculate a 95% confidence interval for the catalyst example."
   ]
  },
  {
   "cell_type": "code",
   "execution_count": 4,
   "metadata": {
    "colab": {
     "base_uri": "https://localhost:8080/",
     "height": 34
    },
    "colab_type": "code",
    "executionInfo": {
     "elapsed": 1357,
     "status": "ok",
     "timestamp": 1553020526297,
     "user": {
      "displayName": "Alexander Dowling",
      "photoUrl": "https://lh3.googleusercontent.com/-LChdQ2m5OQE/AAAAAAAAAAI/AAAAAAAAAA0/JeXJe4vQJ7M/s64/photo.jpg",
      "userId": "00988067626794866502"
     },
     "user_tz": 240
    },
    "id": "ABzyECwKNnXV",
    "outputId": "10ccb43d-9909-432a-8c85-e562936d83b5"
   },
   "outputs": [
    {
     "data": {
      "text/plain": [
       "4.998343547921752"
      ]
     },
     "execution_count": 4,
     "metadata": {},
     "output_type": "execute_result"
    }
   ],
   "source": [
    "xbar - 1.96*s/math.sqrt(len(lifetime))"
   ]
  },
  {
   "cell_type": "code",
   "execution_count": 5,
   "metadata": {
    "colab": {
     "base_uri": "https://localhost:8080/",
     "height": 34
    },
    "colab_type": "code",
    "executionInfo": {
     "elapsed": 284,
     "status": "ok",
     "timestamp": 1553020535907,
     "user": {
      "displayName": "Alexander Dowling",
      "photoUrl": "https://lh3.googleusercontent.com/-LChdQ2m5OQE/AAAAAAAAAAI/AAAAAAAAAA0/JeXJe4vQJ7M/s64/photo.jpg",
      "userId": "00988067626794866502"
     },
     "user_tz": 240
    },
    "id": "HLsPlN-NPLaz",
    "outputId": "a7c93f79-79ea-4922-a375-1a80f168b314"
   },
   "outputs": [
    {
     "data": {
      "text/plain": [
       "7.129656452078248"
      ]
     },
     "execution_count": 5,
     "metadata": {},
     "output_type": "execute_result"
    }
   ],
   "source": [
    "xbar + 1.96*s/math.sqrt(len(lifetime))"
   ]
  },
  {
   "cell_type": "markdown",
   "metadata": {
    "colab_type": "text",
    "id": "DEZjP2O0POIi"
   },
   "source": [
    "95% Confidence interval for mean catalyst lifetime: 5.00-7.13 hours\n",
    "\n",
    "Alternately, we can use Python or the z-table to determine $z^*$."
   ]
  },
  {
   "cell_type": "markdown",
   "metadata": {},
   "source": [
    "See the code below for various confidence interval calculations."
   ]
  },
  {
   "cell_type": "code",
   "execution_count": 7,
   "metadata": {},
   "outputs": [
    {
     "name": "stdout",
     "output_type": "stream",
     "text": [
      "95% confidence interval: [ 5.0 , 7.13 ] hours\n",
      "90% confidence interval: [ 5.17 , 6.96 ] hours\n",
      "99% confidence interval: [ 4.66 , 7.46 ] hours\n"
     ]
    }
   ],
   "source": [
    "## calculate 95% confidence interval\n",
    "n = len(lifetime)\n",
    "zstar95 = stats.norm.interval(0.95)\n",
    "low = xbar + zstar95[0]*s/math.sqrt(n)\n",
    "high = xbar + zstar95[1]*s/math.sqrt(n)\n",
    "print(\"95% confidence interval: [\",round(low,2),\",\", round(high,2),\"] hours\")\n",
    "\n",
    "## calculate 90% confidence interval\n",
    "n = len(lifetime)\n",
    "zstar90 = stats.norm.interval(0.9)\n",
    "low = xbar + zstar90[0]*s/math.sqrt(n)\n",
    "high = xbar + zstar90[1]*s/math.sqrt(n)\n",
    "print(\"90% confidence interval: [\",round(low,2),\",\", round(high,2),\"] hours\")\n",
    "\n",
    "\n",
    "## calculate 99% confidence interval\n",
    "n = len(lifetime)\n",
    "zstar99 = stats.norm.interval(0.99)\n",
    "low = xbar + zstar99[0]*s/math.sqrt(n)\n",
    "high = xbar + zstar99[1]*s/math.sqrt(n)\n",
    "print(\"99% confidence interval: [\",round(low,2),\",\", round(high,2),\"] hours\")"
   ]
  }
 ],
 "metadata": {
  "colab": {
   "collapsed_sections": [],
   "name": "L16-Statistical-Inference-Part-1.ipynb",
   "provenance": [],
   "version": "0.3.2"
  },
  "kernelspec": {
   "display_name": "Python 3",
   "language": "python",
   "name": "python3"
  },
  "language_info": {
   "codemirror_mode": {
    "name": "ipython",
    "version": 3
   },
   "file_extension": ".py",
   "mimetype": "text/x-python",
   "name": "python",
   "nbconvert_exporter": "python",
   "pygments_lexer": "ipython3",
   "version": "3.8.5"
  }
 },
 "nbformat": 4,
 "nbformat_minor": 4
}
