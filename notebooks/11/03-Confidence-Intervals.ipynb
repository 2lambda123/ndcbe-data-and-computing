{
 "cells": [
  {
   "cell_type": "markdown",
   "metadata": {
    "colab_type": "text",
    "id": "PnoA967-7IJF"
   },
   "source": [
    "# Class 18: Statistical Inference and Hypothesis Testing\n",
    "\n",
    "CBE 20258. Numerical and Statistical Analysis. Spring 2020.\n",
    "\n",
    "&#169; University of Notre Dame"
   ]
  },
  {
   "cell_type": "markdown",
   "metadata": {
    "colab_type": "text",
    "id": "2YUxu2XA7IJH"
   },
   "source": [
    "## Class 18 Learning Objectives\n",
    "\n",
    "After studying this notebook, attending class, completing the home activities, and asking questions, you should be able to:\n",
    "* Define statistical inference to a freshman engineer. Give two science or engineering examples.\n",
    "* Explain the central limit theorem.\n",
    "* Use the central limit theorem to calculate probabilities involving the sample mean. Do this with and without standardizing. (Two approaches, same answer.)\n",
    "* Explain the correct interpretation of a 95% confidence interval.\n",
    "* Using a picture, explain the 68-95-99.7 to someone that just finished Calculus II.\n",
    "* Calculate any size confidence interval (95%, 99%, etc.) using z- or t-distribution\n",
    " * Explain why the t-distribution is important. Relate this back to the CLT.\n",
    " * Check for the assumption required to apply the t-distribution\n",
    " * Use a confidence interval to perform hypothesis testing\n",
    "* Apply the 5-step hypothesis testing procedure\n",
    " * Identify null and alternative hypotheses from a problem description\n",
    " * Calculate test statistic\n",
    " * Draw \"area under curve\" that corresponds to P-value for a given set of hypotheses\n"
   ]
  },
  {
   "cell_type": "code",
   "execution_count": 1,
   "metadata": {
    "collapsed": true,
    "jupyter": {
     "outputs_hidden": true
    }
   },
   "outputs": [],
   "source": [
    "# load libraries\n",
    "import scipy.stats as stats\n",
    "import numpy as np\n",
    "import math\n",
    "import matplotlib.pyplot as plt"
   ]
  },
  {
   "cell_type": "markdown",
   "metadata": {
    "colab_type": "text",
    "id": "Q6-or-gJ7IJ9"
   },
   "source": [
    "## 18f. Confidence Interval\n",
    "\n",
    "**Further Reading**: §5.1 in Navidi (2015)"
   ]
  },
  {
   "cell_type": "markdown",
   "metadata": {
    "colab_type": "text",
    "id": "KqERO5Js7IJ-"
   },
   "source": [
    "Let's focus on the first question. We want to construct lower and upper bounds using the 25 observations above such that if we repeated our calculation *many many* times (i.e., the manufacture kept sending up batches of 25 samples to test), our process would capture the *true mean* **X%** (i.e., 95%, 99%, etc.) of the time.\n",
    "\n",
    "**Key Insights**:\n",
    "* We are assuming the lifetime of a catalyst can be modeled as a random process (probability distribution) with an unknown mean.\n",
    "* **Frequentist** statistics cares about the **long-term error rate** of estimation methods.\n",
    "* We are **not making probabilistic statements** about the catalyst lifetime. For example, we are **not saying there in an X%** chance the true mean falls within this interval. Further reading: https://www.graphpad.com/guides/prism/7/statistics/stat_more_about_confidence_interval.htm\n",
    "* To make probablistic statements, we would need to use **Bayesian** statistics (i.e., credibility interval)."
   ]
  },
  {
   "cell_type": "markdown",
   "metadata": {
    "colab_type": "text",
    "id": "V_-thiHh7IJ_"
   },
   "source": [
    "### 18f-i. 68-95-99.7 Rule\n",
    "\n",
    "![rule](https://cdn-images-1.medium.com/max/1600/1*IZ2II2HYKeoMrdLU5jW6Dw.png)\n",
    "\n",
    "Image credit: https://towardsdatascience.com/understanding-the-68-95-99-7-rule-for-a-normal-distribution-b7b7cbf760c2"
   ]
  },
  {
   "cell_type": "markdown",
   "metadata": {
    "colab_type": "text",
    "id": "6sZ9Zap77IJ_"
   },
   "source": [
    "### 18f-ii. Confidence Interval Formula\n",
    "\n",
    "$$\\bar{x} \\pm z^* \\frac{s}{\\sqrt{n}}$$\n",
    "\n",
    "Elements:\n",
    "* $\\bar{x}$ sample mean\n",
    "* $z^*$ z-score\n",
    "* $s$ sample standard deviation\n",
    "* $n$ sample size"
   ]
  },
  {
   "cell_type": "markdown",
   "metadata": {
    "colab_type": "text",
    "id": "2NvtXTyU7IKA"
   },
   "source": [
    "### 18f-iii. Catalyst Life Example"
   ]
  },
  {
   "cell_type": "markdown",
   "metadata": {
    "colab_type": "text",
    "id": "ersDtUut7IKA"
   },
   "source": [
    "Calculate a 95% confidence interval for the catalyst example."
   ]
  },
  {
   "cell_type": "code",
   "execution_count": 14,
   "metadata": {
    "colab": {
     "base_uri": "https://localhost:8080/",
     "height": 34
    },
    "colab_type": "code",
    "executionInfo": {
     "elapsed": 1357,
     "status": "ok",
     "timestamp": 1553020526297,
     "user": {
      "displayName": "Alexander Dowling",
      "photoUrl": "https://lh3.googleusercontent.com/-LChdQ2m5OQE/AAAAAAAAAAI/AAAAAAAAAA0/JeXJe4vQJ7M/s64/photo.jpg",
      "userId": "00988067626794866502"
     },
     "user_tz": 240
    },
    "id": "ABzyECwKNnXV",
    "outputId": "10ccb43d-9909-432a-8c85-e562936d83b5"
   },
   "outputs": [
    {
     "data": {
      "text/plain": [
       "4.998343547921752"
      ]
     },
     "execution_count": 14,
     "metadata": {},
     "output_type": "execute_result"
    }
   ],
   "source": [
    "xbar - 1.96*s/math.sqrt(len(lifetime))"
   ]
  },
  {
   "cell_type": "code",
   "execution_count": 15,
   "metadata": {
    "colab": {
     "base_uri": "https://localhost:8080/",
     "height": 34
    },
    "colab_type": "code",
    "executionInfo": {
     "elapsed": 284,
     "status": "ok",
     "timestamp": 1553020535907,
     "user": {
      "displayName": "Alexander Dowling",
      "photoUrl": "https://lh3.googleusercontent.com/-LChdQ2m5OQE/AAAAAAAAAAI/AAAAAAAAAA0/JeXJe4vQJ7M/s64/photo.jpg",
      "userId": "00988067626794866502"
     },
     "user_tz": 240
    },
    "id": "HLsPlN-NPLaz",
    "outputId": "a7c93f79-79ea-4922-a375-1a80f168b314"
   },
   "outputs": [
    {
     "data": {
      "text/plain": [
       "7.129656452078248"
      ]
     },
     "execution_count": 15,
     "metadata": {},
     "output_type": "execute_result"
    }
   ],
   "source": [
    "xbar + 1.96*s/math.sqrt(len(lifetime))"
   ]
  },
  {
   "cell_type": "markdown",
   "metadata": {
    "colab_type": "text",
    "id": "DEZjP2O0POIi"
   },
   "source": [
    "95% Confidence interval for mean catalyst lifetime: 5.00 to 7.13 hours\n",
    "\n",
    "Alternately, we can use Python or the z-table to determine $z^*$."
   ]
  },
  {
   "cell_type": "code",
   "execution_count": 16,
   "metadata": {},
   "outputs": [
    {
     "name": "stdout",
     "output_type": "stream",
     "text": [
      "95% confidence interval: [ 5.0 , 7.13 ] hours\n",
      "90% confidence interval: [ 5.17 , 6.96 ] hours\n",
      "99% confidence interval: [ 4.66 , 7.46 ] hours\n"
     ]
    }
   ],
   "source": [
    "## calculate 95% confidence interval\n",
    "n = len(lifetime)\n",
    "zstar95 = stats.norm.interval(0.95)\n",
    "low = xbar + zstar95[0]*s/math.sqrt(n)\n",
    "high = xbar + zstar95[1]*s/math.sqrt(n)\n",
    "print(\"95% confidence interval: [\",round(low,2),\",\", round(high,2),\"] hours\")\n",
    "\n",
    "## calculate 90% confidence interval\n",
    "n = len(lifetime)\n",
    "zstar90 = stats.norm.interval(0.9)\n",
    "low = xbar + zstar90[0]*s/math.sqrt(n)\n",
    "high = xbar + zstar90[1]*s/math.sqrt(n)\n",
    "print(\"90% confidence interval: [\",round(low,2),\",\", round(high,2),\"] hours\")\n",
    "\n",
    "\n",
    "## calculate 99% confidence interval\n",
    "n = len(lifetime)\n",
    "zstar99 = stats.norm.interval(0.99)\n",
    "low = xbar + zstar99[0]*s/math.sqrt(n)\n",
    "high = xbar + zstar99[1]*s/math.sqrt(n)\n",
    "print(\"99% confidence interval: [\",round(low,2),\",\", round(high,2),\"] hours\")"
   ]
  }
 ],
 "metadata": {
  "colab": {
   "collapsed_sections": [],
   "name": "L16-Statistical-Inference-Part-1.ipynb",
   "provenance": [],
   "version": "0.3.2"
  },
  "kernelspec": {
   "display_name": "Python 3 (ipykernel)",
   "language": "python",
   "name": "python3"
  },
  "language_info": {
   "codemirror_mode": {
    "name": "ipython",
    "version": 3
   },
   "file_extension": ".py",
   "mimetype": "text/x-python",
   "name": "python",
   "nbconvert_exporter": "python",
   "pygments_lexer": "ipython3",
   "version": "3.9.12"
  }
 },
 "nbformat": 4,
 "nbformat_minor": 4
}
