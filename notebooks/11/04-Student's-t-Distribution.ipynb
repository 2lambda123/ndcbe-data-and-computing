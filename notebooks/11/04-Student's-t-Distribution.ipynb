{
 "cells": [
  {
   "cell_type": "markdown",
   "metadata": {
    "colab_type": "text",
    "id": "PnoA967-7IJF"
   },
   "source": [
    "# Class 18: Statistical Inference and Hypothesis Testing\n",
    "\n",
    "CBE 20258. Numerical and Statistical Analysis. Spring 2020.\n",
    "\n",
    "&#169; University of Notre Dame"
   ]
  },
  {
   "cell_type": "markdown",
   "metadata": {
    "colab_type": "text",
    "id": "2YUxu2XA7IJH"
   },
   "source": [
    "## Class 18 Learning Objectives\n",
    "\n",
    "After studying this notebook, attending class, completing the home activities, and asking questions, you should be able to:\n",
    "* Define statistical inference to a freshman engineer. Give two science or engineering examples.\n",
    "* Explain the central limit theorem.\n",
    "* Use the central limit theorem to calculate probabilities involving the sample mean. Do this with and without standardizing. (Two approaches, same answer.)\n",
    "* Explain the correct interpretation of a 95% confidence interval.\n",
    "* Using a picture, explain the 68-95-99.7 to someone that just finished Calculus II.\n",
    "* Calculate any size confidence interval (95%, 99%, etc.) using z- or t-distribution\n",
    " * Explain why the t-distribution is important. Relate this back to the CLT.\n",
    " * Check for the assumption required to apply the t-distribution\n",
    " * Use a confidence interval to perform hypothesis testing\n",
    "* Apply the 5-step hypothesis testing procedure\n",
    " * Identify null and alternative hypotheses from a problem description\n",
    " * Calculate test statistic\n",
    " * Draw \"area under curve\" that corresponds to P-value for a given set of hypotheses\n"
   ]
  },
  {
   "cell_type": "code",
   "execution_count": 1,
   "metadata": {
    "collapsed": true,
    "jupyter": {
     "outputs_hidden": true
    }
   },
   "outputs": [],
   "source": [
    "# load libraries\n",
    "import scipy.stats as stats\n",
    "import numpy as np\n",
    "import math\n",
    "import matplotlib.pyplot as plt"
   ]
  },
  {
   "cell_type": "markdown",
   "metadata": {},
   "source": [
    "## 18g. Student's t-Distribution\n",
    "\n",
    "**Further Reading**: §5.3 in Navidi (2015)\n",
    "\n",
    "### 18g-i. Main Idea\n",
    "\n",
    "What happens if the sample size is *small* and we do not know $\\sigma$? Two complications:\n",
    "* Cannot invoke central limit theorem\n",
    "* Need to account for errors when estimating $\\sigma$ (population standard deviation) using $s$ (sample standard deviation)\n",
    "\n",
    "**Solution: Student's t-distribution**\n",
    "\n",
    "**History Side Tangent**\n",
    "\n",
    "Published in 1908 by William Sealy Goshet under the pseudonym *Student*.\n",
    "\n",
    "![](https://upload.wikimedia.org/wikipedia/commons/thumb/4/42/William_Sealy_Gosset.jpg/170px-William_Sealy_Gosset.jpg)\n",
    "\n",
    "![](https://upload.wikimedia.org/wikipedia/en/thumb/f/fe/Guinness-original-logo.svg/220px-Guinness-original-logo.svg.png)"
   ]
  },
  {
   "cell_type": "markdown",
   "metadata": {},
   "source": [
    "### 18g-ii. Degrees of Freedom and Visualization\n",
    "\n",
    "$\\nu$ is the degrees of freedom:\n",
    "* Student's t-distribution converges to the Gaussian distribution as $\\nu \\rightarrow \\infty$\n",
    "* $\\nu$ is often $n$ - 1. We lose 1 degree of freedom to estimate standard deviation.\n",
    "\n",
    "![](https://upload.wikimedia.org/wikipedia/commons/thumb/4/41/Student_t_pdf.svg/960px-Student_t_pdf.svg.png)\n",
    "\n",
    "![](https://upload.wikimedia.org/wikipedia/commons/thumb/e/e7/Student_t_cdf.svg/960px-Student_t_cdf.svg.png)"
   ]
  },
  {
   "cell_type": "markdown",
   "metadata": {},
   "source": [
    "### 18g-iv. Comparison of $z^*$ and $t^*$"
   ]
  },
  {
   "cell_type": "code",
   "execution_count": 17,
   "metadata": {},
   "outputs": [
    {
     "name": "stdout",
     "output_type": "stream",
     "text": [
      "Consider n = 5\n",
      "\n",
      "z-star for 95% interval: (-1.959963984540054, 1.959963984540054)\n",
      "\n",
      "t-star for 95% interval: (-2.7764451051977987, 2.7764451051977987)\n",
      "\n",
      "Percent error using z instead of t: 29.407428914377086 %\n"
     ]
    }
   ],
   "source": [
    "n = 5\n",
    "print(\"Consider n =\",n)\n",
    "\n",
    "# calculate zstar\n",
    "# argument 1: confidence level\n",
    "zstar95 = stats.norm.interval(0.95)\n",
    "print(\"\\nz-star for 95% interval:\",zstar95)\n",
    "\n",
    "# calculate tstar\n",
    "# argument 1: confidence level\n",
    "# argument 2: degrees of freedom\n",
    "tstar95 = stats.t.interval(0.95,n-1)\n",
    "print(\"\\nt-star for 95% interval:\",tstar95)\n",
    "\n",
    "# percent error\n",
    "print(\"\\nPercent error using z instead of t:\",abs((1 - zstar95[0]/tstar95[0]))*100,\"%\")"
   ]
  },
  {
   "cell_type": "markdown",
   "metadata": {},
   "source": [
    "### 18g-v. Catalyst Example Revisited\n"
   ]
  },
  {
   "cell_type": "markdown",
   "metadata": {},
   "source": [
    "<div style=\"background-color: rgba(0,0,255,0.05) ; padding: 10px; border: 1px solid darkblue;\"> \n",
    "<b>Class Discussion</b>: How would we modify our code from above to calculate a t-interval (instead of a z-interval)?\n",
    "</div>"
   ]
  },
  {
   "cell_type": "markdown",
   "metadata": {},
   "source": [
    "<div style=\"background-color: rgba(0,255,0,0.05) ; padding: 10px; border: 1px solid darkgreen;\"> \n",
    "<b>Home Activity</b>: Recalculate the confidence intervals using the t-distribution.\n",
    "</div>"
   ]
  },
  {
   "cell_type": "code",
   "execution_count": null,
   "metadata": {
    "collapsed": true,
    "jupyter": {
     "outputs_hidden": true
    }
   },
   "outputs": [],
   "source": []
  },
  {
   "cell_type": "markdown",
   "metadata": {},
   "source": [
    "### 18g-vi. Important Assumptions: Population is Normally Distributed, Samples are Random\n",
    "\n",
    "Student's t-distribution only applies if the population is normally distributed and samples are random (i.e., zero covariance). Otherwise, the significance level is not correct, i.e., we will either under- or over-estimate uncertainty.\n",
    "\n",
    "**How to know/check if the population is normally distributed?**\n",
    "* **Preferred** Examine large amounts of historical data or leverage additional knowledge.\n",
    "* **Practical** Plot the sample and check for outliers."
   ]
  },
  {
   "cell_type": "code",
   "execution_count": 18,
   "metadata": {},
   "outputs": [
    {
     "data": {
      "image/png": "[encoded data removed]",
      "text/plain": [
       "<Figure size 432x288 with 1 Axes>"
      ]
     },
     "metadata": {},
     "output_type": "display_data"
    }
   ],
   "source": [
    "plt.hist(lifetime)\n",
    "plt.title(\"Histogram of Catalyst Lifetime\")\n",
    "plt.xlabel(\"Lifetime [hours]\")\n",
    "plt.ylabel(\"Frequency\")\n",
    "plt.show()"
   ]
  },
  {
   "cell_type": "markdown",
   "metadata": {},
   "source": [
    "<div style=\"background-color: rgba(0,0,255,0.05) ; padding: 10px; border: 1px solid darkblue;\"> \n",
    "<b>Class Discussion</b>: Are there outliers in the catalyst lifetime dataset?\n",
    "</div>"
   ]
  },
  {
   "cell_type": "code",
   "execution_count": 19,
   "metadata": {},
   "outputs": [
    {
     "data": {
      "image/png": "[encoded data removed]",
      "text/plain": [
       "<Figure size 432x288 with 1 Axes>"
      ]
     },
     "metadata": {},
     "output_type": "display_data"
    }
   ],
   "source": [
    "another_example = [1.2, 2.3, 1.5, 1.4, 1.3, 1.6, 1.4, 1.7, 1.6, 1.5, 1.6]\n",
    "plt.hist(another_example,color=\"red\")\n",
    "plt.title(\"Another Example\")\n",
    "plt.xlabel(\"Measured Variable\")\n",
    "plt.ylabel(\"Frequency\")\n",
    "plt.show()"
   ]
  },
  {
   "cell_type": "markdown",
   "metadata": {},
   "source": [
    "<div style=\"background-color: rgba(0,0,255,0.05) ; padding: 10px; border: 1px solid darkblue;\"> \n",
    "<b>Class Discussion</b>: What about this dataset? Does it contain any outliers?\n",
    "</div>"
   ]
  },
  {
   "cell_type": "markdown",
   "metadata": {},
   "source": [
    "**Another Example:** Time Series Data.\n",
    "\n",
    "Below are two plots of yield versus time data for two chemical processes.\n",
    "\n",
    "![](https://drive.google.com/uc?export=view&id=1izl_-WD7yZk40QA3F9wHeiRd9V6-SMyW)"
   ]
  },
  {
   "cell_type": "markdown",
   "metadata": {},
   "source": [
    "<div style=\"background-color: rgba(0,0,255,0.05) ; padding: 10px; border: 1px solid darkblue;\"> \n",
    "<b>Class Discussion</b>: Can you use these data to calculate a confidence intervals for the average yield of each process using a t-distribution?\n",
    "</div>"
   ]
  }
 ],
 "metadata": {
  "colab": {
   "collapsed_sections": [],
   "name": "L16-Statistical-Inference-Part-1.ipynb",
   "provenance": [],
   "version": "0.3.2"
  },
  "kernelspec": {
   "display_name": "Python 3 (ipykernel)",
   "language": "python",
   "name": "python3"
  },
  "language_info": {
   "codemirror_mode": {
    "name": "ipython",
    "version": 3
   },
   "file_extension": ".py",
   "mimetype": "text/x-python",
   "name": "python",
   "nbconvert_exporter": "python",
   "pygments_lexer": "ipython3",
   "version": "3.9.12"
  }
 },
 "nbformat": 4,
 "nbformat_minor": 4
}
