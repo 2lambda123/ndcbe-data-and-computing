{
 "cells": [
  {
   "cell_type": "markdown",
   "metadata": {
    "colab_type": "text",
    "id": "Bi9hZ44D2AQJ"
   },
   "source": [
    "# Type I and Type II Errors\n",
    "**Further Reading**: §6.12 and §6.13 in Navidi (2015)"
   ]
  },
  {
   "cell_type": "code",
   "execution_count": 1,
   "metadata": {
    "colab": {},
    "colab_type": "code",
    "id": "9wy-3eQa2AQK",
    "tags": []
   },
   "outputs": [],
   "source": [
    "# load libraries\n",
    "import scipy.stats as stats\n",
    "import numpy as np\n",
    "import math\n",
    "import matplotlib.pyplot as plt"
   ]
  },
  {
   "cell_type": "markdown",
   "metadata": {
    "colab_type": "text",
    "id": "xhyUzB0X2AQO"
   },
   "source": [
    "## Learning Objectives\n",
    "\n",
    "After studying this notebook, completing the activities, participating in class, and reviewing your notes, should be able to:\n",
    "* Formulate null and alternative hypotheses from a problem description\n",
    "* Draw conclusions by interpreting a calculated P-value\n",
    "* Explain Type I and Type II errors in the context of an application"
   ]
  },
  {
   "cell_type": "markdown",
   "metadata": {
    "colab_type": "text",
    "id": "thuIDkIc2AQQ"
   },
   "source": [
    "## Example: Law and Order\n",
    "\n",
    "A few classes ago, we said the significance level $\\alpha$ is often chosen at 0.05. But, this choice impacts the rate of wrong conclusions (errors). We will dive into this more today.\n",
    "\n",
    "Consider a criminal trial in the American justice system. For simplicity, we'll assume a defendant is either innocent or guilty. Likewise, the jury can either convict or acquit. Let's express these options using the language of hypothesis testing:\n",
    "\n",
    "![](https://drive.google.com/uc?export=view&id=1vZyz1Dxf3SEJhxKvQGjuyP3l3Lgwg9_l)\n",
    "\n",
    "[Here](https://en.wikipedia.org/wiki/Type_I_and_type_II_errors#Table_of_error_types) is another table (same information, different formatting).\n",
    "\n",
    "As we can see, there are **four outcomes**:\n",
    "\n",
    "1. Correct Inference / True Negative / Probability $1 - \\alpha$\n",
    "2. Correct Inference / True Positive / Probability $1 - \\beta$\n",
    "3. **Type I Error** / False Positive / Probability $\\alpha$\n",
    "4. **Type II Error** / False Negative / Probability $\\beta$\n",
    "\n",
    "As we can see, the false positive error rate is $\\alpha$. Thus changing the significance level $\\alpha$ gives us direct control of how frequently we make a **type I error**. We will see late how to compute $\\beta$, the **type II error** rate.\n",
    "\n",
    "## Type I Errors\n",
    "\n",
    "Summary: **Null hypothesis is true, but we reject it.**\n",
    "\n",
    "Other names: \"asserting something that is absent\", \"false hit\", \"False Positive\"\n",
    "\n",
    "Examples:\n",
    "* Concluding a new drug is more effective than a placebo when it is not.\n",
    "* Concluding a manufacturing process is out of calibration when it is not.\n",
    "* Peter crying wolf when there is no wolf.\n",
    "\n",
    "The choice of the **significant level** $\\alpha$ directly controls the Type I error rate.\n",
    "\n",
    "## Type II Errors\n",
    "\n",
    "Summary: **Null hypothesis is false, but we erroneously fail to reject**\n",
    "\n",
    "Other names: \"failing to assert what is present\", \"miss\", \"False Negative\"\n",
    "\n",
    "Examples:\n",
    "* Failing to conclude a new drug is more effective than a placebo when it actually is.\n",
    "* Failing to detect the ozone hole when it is there. *good side tangent*\n",
    "* The villagers ignoring Peter when the wolf is present.\n",
    "\n",
    "The Type II error rate, denoted $\\beta$, is related to the **power** of a statistical test ($1 - \\beta$)."
   ]
  },
  {
   "cell_type": "markdown",
   "metadata": {},
   "source": [
    "<div style=\"background-color: rgba(0,0,255,0.05) ; padding: 10px; border: 1px solid darkblue;\"> \n",
    "<b>Class Activity</b>: With a partner, think of a science or engineering example of hypothesis testing.\n",
    "</div>"
   ]
  }
 ],
 "metadata": {
  "colab": {
   "name": "L18-Error-Rates-Statistical-Power.ipynb",
   "provenance": [],
   "version": "0.3.2"
  },
  "kernelspec": {
   "display_name": "Python 3 (ipykernel)",
   "language": "python",
   "name": "python3"
  },
  "language_info": {
   "codemirror_mode": {
    "name": "ipython",
    "version": 3
   },
   "file_extension": ".py",
   "mimetype": "text/x-python",
   "name": "python",
   "nbconvert_exporter": "python",
   "pygments_lexer": "ipython3",
   "version": "3.9.12"
  }
 },
 "nbformat": 4,
 "nbformat_minor": 4
}
