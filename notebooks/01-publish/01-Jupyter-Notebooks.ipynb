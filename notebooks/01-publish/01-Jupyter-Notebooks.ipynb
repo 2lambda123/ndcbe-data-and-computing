{
 "cells": [
  {
   "cell_type": "markdown",
   "metadata": {},
   "source": [
    "# Welcome to Jupyter Notebooks and Vocareum"
   ]
  },
  {
   "cell_type": "markdown",
   "metadata": {},
   "source": [
    "## Quick Python Introduction"
   ]
  },
  {
   "cell_type": "markdown",
   "metadata": {},
   "source": [
    "### Variables"
   ]
  },
  {
   "cell_type": "markdown",
   "metadata": {},
   "source": [
    "In Python, variables do not need to be declared before they are used. In other words, Python automatically decided on the correct variable type (integer, float, etc.) You can simply define a new variable using `x = 5`. This is just like MATLAB."
   ]
  },
  {
   "cell_type": "markdown",
   "metadata": {},
   "source": [
    "<div class=\"admonition seealso\" name=\"html-admonition\"> \n",
    "<p class=\"title\"><b>Home Activity</b></p>\n",
    " In the cell below, assign the value of 5 to the variable x. Then type Shift+Enter to execute the line.\n",
    "</div>"
   ]
  },
  {
   "cell_type": "code",
   "execution_count": 1,
   "metadata": {
    "tags": []
   },
   "outputs": [],
   "source": [
    "# Add your solution here"
   ]
  },
  {
   "cell_type": "markdown",
   "metadata": {},
   "source": [
    "We can see the value of the variable using the built-in `print` function. For example, to print the value of `x`, we would use `print(x)`."
   ]
  },
  {
   "cell_type": "markdown",
   "metadata": {},
   "source": [
    "<div class=\"admonition seealso\" name=\"html-admonition\"> \n",
    "<p class=\"title\"><b>Home Activity</b></p>\n",
    " Print the value of x. Type Shift+Enter to execute the cell. (We'll stop reminding you to do this moving forward.)\n",
    "</div>"
   ]
  },
  {
   "cell_type": "code",
   "execution_count": 4,
   "metadata": {
    "tags": []
   },
   "outputs": [
    {
     "name": "stdout",
     "output_type": "stream",
     "text": [
      "8\n"
     ]
    }
   ],
   "source": [
    "# Add your solution here"
   ]
  },
  {
   "cell_type": "markdown",
   "metadata": {},
   "source": [
    "<div class=\"admonition seealso\" name=\"html-admonition\"> \n",
    "<p class=\"title\"><b>Home Activity</b></p>\n",
    " Now change the value of x to 8 and execute the cell.\n",
    "</div>"
   ]
  },
  {
   "cell_type": "code",
   "execution_count": 3,
   "metadata": {
    "tags": []
   },
   "outputs": [],
   "source": [
    "# Add your solution here"
   ]
  },
  {
   "cell_type": "markdown",
   "metadata": {},
   "source": [
    "### Execution Order\n",
    "\n",
    "**Note**: When using Jupyter notebooks, it is very important to know that the cells can be executed out of order\n",
    "(intentionally or not). The state of the environment (e.g., values of variables, imports, etc.) is defined by the execution\n",
    "order."
   ]
  },
  {
   "cell_type": "markdown",
   "metadata": {},
   "source": [
    "<div class=\"admonition seealso\" name=\"html-admonition\"> \n",
    "<p class=\"title\"><b>Home Activity</b></p>\n",
    " To see this concept, rerun the cell above with the print statement.\n",
    "</div>"
   ]
  },
  {
   "cell_type": "markdown",
   "metadata": {},
   "source": [
    "You should see that the value `8` is now printed. This may seem problematic if you are used to programming in environments where the state is linked to the order of the commands as *written*, not as *executed*.\n",
    "\n",
    "**Again, notice that the state of the environment is determined by the execution order.**\n",
    "Note also that the square brackets to the left of the cell show the order that cells were executed. If you scroll to the top, you should see that the code cells show an execution order of `[1]` , `[4]` , and `[3]`, indicating the actual execution order.\n",
    "\n",
    "There are some useful menu commands at the top of the Jupyter notebook to help with these problems and make sure you\n",
    "retain the execution order as expected.\n",
    "\n",
    "Some important commands to remember:\n",
    "* You can clear the current state with the menu item `Kernel | Restart & Clear Output`\n",
    "* It is often useful to clear the state using the menu command just described, and then execute all the lines above the currently selected cell using `Cell | Run All Above` .\n",
    "* You can clear all the state and re-run the entire notebook using `Kernel | Restart & Run All`."
   ]
  },
  {
   "cell_type": "markdown",
   "metadata": {},
   "source": [
    "## Vocareum Autograder\n"
   ]
  },
  {
   "cell_type": "markdown",
   "metadata": {},
   "source": [
    "<div style=\"background-color: rgba(255,0,0,0.05) ; padding: 10px; border: 1px solid darkgreen;\"> \n",
    "<p class=\"title\"><b>Important Note</b></p>\n",
    " The autograder is NOT supported on Colab. All of the autograder tests and solutions have been stripped out of these notebooks.\n",
    "</div>"
   ]
  },
  {
   "cell_type": "markdown",
   "metadata": {},
   "source": [
    "<div style=\"background-color: rgba(255,0,0,0.05) ; padding: 10px; border: 1px solid darkgreen;\"> \n",
    "<p class=\"title\"><b>Important Note</b></p>\n",
    " In CBE 20258, we will use Vocareum and the autograder.  We will not use these in CBE 60258.\n",
    "</div>"
   ]
  },
  {
   "cell_type": "markdown",
   "metadata": {},
   "source": [
    "We will use the autograder in Vocareum for homework assignments, which gives you instant feedback on your work. The autograder is confirmed to allow for unlimited submissions. You just need to wait 5 minutes between submissions.\n",
    "\n",
    "The Vocareum autograder runs code like this in the background to check your answer and provide feedback and error messages.\n",
    "\n",
    "It is very important carefully read the assignment instructions. The autograder is simply executing logical checks behind the scenes. For example, if the assignment instructions say to store your final answer in the variable `final_ans` but you instead write `my_ans`, the autograder will mark it as **wrong**.\n",
    "\n",
    "### Our First Autograded Submission\n",
    "\n",
    "We want to store the **first seven elements** of the Fibonaci sequence in the list `fib`. Below is an answer with a few mistakes:"
   ]
  },
  {
   "cell_type": "code",
   "execution_count": null,
   "metadata": {
    "nbgrader": {
     "grade": false,
     "grade_id": "cell-d1b0242a12e0275b",
     "locked": false,
     "schema_version": 1,
     "solution": true
    },
    "tags": []
   },
   "outputs": [],
   "source": [
    "# Add your solution here\n",
    "\n",
    "fibs = [0, -1, 1, 2, 4, 5, 9, 13]"
   ]
  },
  {
   "cell_type": "code",
   "execution_count": null,
   "metadata": {
    "collapsed": true,
    "jupyter": {
     "outputs_hidden": true
    },
    "nbgrader": {
     "grade": true,
     "grade_id": "sequence-length",
     "locked": true,
     "points": 0.3,
     "schema_version": 1,
     "solution": false
    }
   },
   "outputs": [],
   "source": [
    "# Removed autograder test. You may delete this cell."
   ]
  },
  {
   "cell_type": "code",
   "execution_count": null,
   "metadata": {
    "collapsed": true,
    "jupyter": {
     "outputs_hidden": true
    },
    "nbgrader": {
     "grade": true,
     "grade_id": "sequent-correct",
     "locked": true,
     "points": 0.7,
     "schema_version": 1,
     "solution": false
    }
   },
   "outputs": [],
   "source": [
    "# Removed autograder test. You may delete this cell."
   ]
  },
  {
   "cell_type": "markdown",
   "metadata": {},
   "source": [
    "<div class=\"admonition seealso\" name=\"html-admonition\"> \n",
    "<p class=\"title\"><b>Home Activity</b></p>\n",
    " Submit this solution and look at the feedback from the autograder.\n",
    "</div>"
   ]
  },
  {
   "cell_type": "markdown",
   "metadata": {},
   "source": [
    "<div class=\"admonition seealso\" name=\"html-admonition\"> \n",
    "<p class=\"title\"><b>Home Activity</b></p>\n",
    " Fix the mistakes. You are done when all of the grading tests pass.\n",
    "</div>"
   ]
  }
 ],
 "metadata": {
  "celltoolbar": "Create Assignment",
  "kernelspec": {
   "display_name": "Python 3 (ipykernel)",
   "language": "python",
   "name": "python3"
  },
  "language_info": {
   "codemirror_mode": {
    "name": "ipython",
    "version": 3
   },
   "file_extension": ".py",
   "mimetype": "text/x-python",
   "name": "python",
   "nbconvert_exporter": "python",
   "pygments_lexer": "ipython3",
   "version": "3.9.12"
  }
 },
 "nbformat": 4,
 "nbformat_minor": 4
}
