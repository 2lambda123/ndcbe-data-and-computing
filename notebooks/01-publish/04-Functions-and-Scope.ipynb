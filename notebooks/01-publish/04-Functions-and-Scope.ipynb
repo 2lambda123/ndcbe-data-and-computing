{
 "cells": [
  {
   "cell_type": "markdown",
   "metadata": {
    "colab_type": "text",
    "id": "Z_7CzQztmUoo"
   },
   "source": [
    "# Functions and Scope\n",
    "(not the mouthwash)\n"
   ]
  },
  {
   "cell_type": "markdown",
   "metadata": {},
   "source": [
    "**Reference**: Chapter 3 of *Computational Nuclear Engineering and Radiological Science Using Python*, R. McClarren (2018) "
   ]
  },
  {
   "cell_type": "markdown",
   "metadata": {
    "jp-MarkdownHeadingCollapsed": true,
    "tags": []
   },
   "source": [
    "## Learning Objectives\n",
    "\n",
    "After studying this notebook, completing the activities, and asking questions in class, you should be able to:\n",
    "* Know good practices for creating functions and adding a reasonable docstring.\n",
    "* Be able to call functions with correct inputs and access the outputs.\n",
    "* Understand local versus global scope and basic scoping rules with functions."
   ]
  },
  {
   "cell_type": "markdown",
   "metadata": {
    "colab_type": "text",
    "id": "Vvv-zUXfmUop",
    "tags": []
   },
   "source": [
    "## Functions\n",
    "\n",
    "### Motivating Example"
   ]
  },
  {
   "cell_type": "markdown",
   "metadata": {
    "colab_type": "text",
    "id": "x5araXX7mUoq"
   },
   "source": [
    "Why use functions? We want to write, debug, and test code **once** and then **reuse** as much as possible.\n",
    "\n",
    "Soon, we'll formulate mass balances as linear systems and solve them using Python. But for now, let's just consider a problem you would expect to see in math class:\n",
    "\n",
    "We want to solve the linear system,\n",
    "\n",
    "$$ \\mathrm{Eqn.~1}:\\quad 4.5 x + 3 y = 10.5\\\\\\mathrm{Eqn.~2}:\\quad 1.5 x + 3 y = 7.5.$$\n",
    "\n",
    "One way to do this is using Python as calculator. In the comments below, we walk through the steps."
   ]
  },
  {
   "cell_type": "code",
   "execution_count": 1,
   "metadata": {
    "colab": {
     "base_uri": "https://localhost:8080/",
     "height": 87
    },
    "colab_type": "code",
    "executionInfo": {
     "elapsed": 750,
     "status": "ok",
     "timestamp": 1548171075668,
     "user": {
      "displayName": "Alexander Dowling",
      "photoUrl": "https://lh3.googleusercontent.com/-LChdQ2m5OQE/AAAAAAAAAAI/AAAAAAAAAA0/JeXJe4vQJ7M/s64/photo.jpg",
      "userId": "00988067626794866502"
     },
     "user_tz": 300
    },
    "id": "9F-6X4lhmUos",
    "outputId": "44077880-5b15-46b6-a4a3-9d43943c2c98"
   },
   "outputs": [
    {
     "name": "stdout",
     "output_type": "stream",
     "text": [
      "LHS_coefficient: -6\n",
      "RHS: -12.0\n"
     ]
    }
   ],
   "source": [
    "\"\"\"python code to solve \n",
    "4.5 x + 3 y = 10.5\n",
    "1.5 x + 3 y = 7.5\n",
    "by solving the second equation for y first,\n",
    "and then solving for x\"\"\"\n",
    "#step 1 solve for y, multiply equation 2 by -3, \n",
    "## and add to first equation\n",
    "LHS_coefficient = -3*3 + 3 #the coefficient for y\n",
    "RHS = -3*7.5 + 10.5 #the right-hand side\n",
    "\n",
    "print('LHS_coefficient:',LHS_coefficient)\n",
    "print('RHS:',RHS)"
   ]
  },
  {
   "cell_type": "markdown",
   "metadata": {},
   "source": [
    "Mathematically, we started by multiplying equation 2,\n",
    "\n",
    "$$1.5 x + 3 y = 7.5$$\n",
    "\n",
    "by -3,\n",
    "\n",
    "$$(-3) \\times 1.5 x + (-3) \\times 3 y = (-3) \\times 7.5$$\n",
    "\n",
    "\n",
    "and then added this scaled equation 2 to equation 1, giving:\n",
    "\n",
    "$$(4.5 - 3 \\times 1.5) x + (3 - 3 \\times 3) y = 10.5 - 3 \\times 7.5$$\n",
    "\n",
    "Notice that our choice of scaling equation 2 by -3 means that the coefficient for x becomes zero after addition. The coefficient for $y$ is `LHS_coefficient` is our code. `RHS` is the right hand side of the new equation.\n"
   ]
  },
  {
   "cell_type": "code",
   "execution_count": 2,
   "metadata": {},
   "outputs": [
    {
     "name": "stdout",
     "output_type": "stream",
     "text": [
      "The solution to:\n",
      "4.5 x + 3 y = 10.5\n",
      "1.5 x + 3 y = 7.5\n",
      " is x = 1.0 y= 2.0\n"
     ]
    }
   ],
   "source": [
    "#now divide right-hand side by left-hand side coefficient\n",
    "y = RHS / LHS_coefficient\n",
    "#plug y into first equation\n",
    "x = (10.5 - 3*y)/4.5 \n",
    "#print the solution, note \\n produces a linebreak\n",
    "print(\"The solution to:\\n4.5 x + 3 y = 10.5\\n1.5 x + 3 y = 7.5\\n is x =\",\n",
    "      x,\"y=\",y)"
   ]
  },
  {
   "cell_type": "markdown",
   "metadata": {
    "colab_type": "text",
    "id": "192rbx9dmUow"
   },
   "source": [
    "How to extend this code to another linear system?\n",
    "\n",
    "**Let's define a function** that will solve the system for (almost) any coefficients and right-hand side. \n",
    "\n",
    "I'll define such a function to solve $$a_1 x + b_1 y = c_1\\\\ a_2 x + b_2 y = c_2.$$"
   ]
  },
  {
   "cell_type": "markdown",
   "metadata": {
    "nbgrader": {
     "grade": false,
     "locked": false,
     "solution": false
    }
   },
   "source": [
    "<div class=\"admonition seealso\" name=\"html-admonition\"> \n",
    "<p class=\"title\"><b>Home Activity</b></p>\n",
    " Write pseudocode to generalize the steps from the motivating example to solve the linear system with coefficients a1, a2, b1, b2, c1, and c2.\n",
    "</div>"
   ]
  },
  {
   "cell_type": "markdown",
   "metadata": {},
   "source": [
    "<div class=\"admonition note\" name=\"html-admonition\"> \n",
    "<p class=\"title\"><b>Class Activity</b></p>\n",
    " Discuss your pseudocode with a partner. Give one compliment and one suggestion to partner's pseudocode. We'll then regroup and write it together as a class.\n",
    "</div>"
   ]
  },
  {
   "cell_type": "markdown",
   "metadata": {},
   "source": [
    "Below is a function that solves (most) 2x2 linear systems. Take a few minutes to study the code below. Specifically:\n",
    "\n",
    "* Notice the function has seven inputs. The first six are the coefficients. The seventh, `LOUD`, is followed by `=False`. This sets the default value of `LOUD` to false.\n",
    "* The input `LOUD` toggles on/off a print statement.\n",
    "* This function has a long comment string at the top. It includes a brief description, then a list of inputs (arguments) and finally a list of outputs (returns). All of the functions you write in this class must be commented in the same style.\n"
   ]
  },
  {
   "cell_type": "code",
   "execution_count": 2,
   "metadata": {
    "colab": {},
    "colab_type": "code",
    "id": "iJy9onTMmUox"
   },
   "outputs": [],
   "source": [
    "def two_by_two_solver(a1,b1,c1,a2,b2,c2, LOUD=False):\n",
    "    \"\"\"Calculate the solution of the system \n",
    "    a1 x + b1 y = c1, \n",
    "    a2 x + b2 y = c2\n",
    "\n",
    "    Args:\n",
    "        a1: x coefficient in first equation (cannot be zero)\n",
    "        b1: y coefficient in first equation\n",
    "        c1: right-hand side in first equation\n",
    "        a2: x coefficient in second equation \n",
    "        b2: y coefficient in second equation \n",
    "        c2: right-hand side in second equation\n",
    "        LOUD: boolean that decides whether to print out the answer\n",
    "        \n",
    "    Returns:\n",
    "        list containing the solution in the format [x,y]\n",
    "    \"\"\"\n",
    "    #step one, eliminate x from the second equation by \n",
    "    #multiplying first equation by -a2/a1\n",
    "    #and then adding it to second equation\n",
    "    new_b2 = b2 - a2/a1*b1\n",
    "    new_c2 = c2 - a2/a1*c1\n",
    "    #solve the new equation 2\n",
    "    y = new_c2/new_b2\n",
    "    #plug y into original equation 1\n",
    "    x = (c1-b1*y)/a1\n",
    "    \n",
    "    if (LOUD):\n",
    "        print(\"The solution to:\\n\",a1,\"x +\",b1,\"y =\",c1,\n",
    "              \"\\n\",a2,\"x +\",b2,\"y =\",c2,\"\\n is x =\",x,\"y=\",y)\n",
    "    return [x,y]\n"
   ]
  },
  {
   "cell_type": "markdown",
   "metadata": {
    "colab_type": "text",
    "id": "7g_AZDN5mUo0"
   },
   "source": [
    "We can call this function for the problem above by typing"
   ]
  },
  {
   "cell_type": "code",
   "execution_count": 3,
   "metadata": {
    "colab": {
     "base_uri": "https://localhost:8080/",
     "height": 104
    },
    "colab_type": "code",
    "executionInfo": {
     "elapsed": 208,
     "status": "ok",
     "timestamp": 1548171182950,
     "user": {
      "displayName": "Alexander Dowling",
      "photoUrl": "https://lh3.googleusercontent.com/-LChdQ2m5OQE/AAAAAAAAAAI/AAAAAAAAAA0/JeXJe4vQJ7M/s64/photo.jpg",
      "userId": "00988067626794866502"
     },
     "user_tz": 300
    },
    "id": "qGP8yIQ2mUo1",
    "outputId": "e3ee7b31-6d0c-4df2-f4d4-2cfdf7d8c13c"
   },
   "outputs": [
    {
     "name": "stdout",
     "output_type": "stream",
     "text": [
      "The solution to:\n",
      " 4.5 x + 3 y = 10.5 \n",
      " 1.5 x + 3 y = 7.5 \n",
      " is x = 1.0 y= 2.0\n"
     ]
    },
    {
     "data": {
      "text/plain": [
       "[1.0, 2.0]"
      ]
     },
     "execution_count": 3,
     "metadata": {},
     "output_type": "execute_result"
    }
   ],
   "source": [
    "two_by_two_solver(4.5,3,10.5,1.5,3,7.5,True)"
   ]
  },
  {
   "cell_type": "markdown",
   "metadata": {
    "colab_type": "text",
    "id": "p564Yo-FmUo4"
   },
   "source": [
    "We can also solve other systems, including simple ones"
   ]
  },
  {
   "cell_type": "code",
   "execution_count": 4,
   "metadata": {
    "colab": {
     "base_uri": "https://localhost:8080/",
     "height": 104
    },
    "colab_type": "code",
    "executionInfo": {
     "elapsed": 215,
     "status": "ok",
     "timestamp": 1548171191091,
     "user": {
      "displayName": "Alexander Dowling",
      "photoUrl": "https://lh3.googleusercontent.com/-LChdQ2m5OQE/AAAAAAAAAAI/AAAAAAAAAA0/JeXJe4vQJ7M/s64/photo.jpg",
      "userId": "00988067626794866502"
     },
     "user_tz": 300
    },
    "id": "G1EZy58XmUo4",
    "outputId": "04ff9404-7000-4b22-922c-af04a38ce038"
   },
   "outputs": [
    {
     "name": "stdout",
     "output_type": "stream",
     "text": [
      "The solution to:\n",
      " 1 x + 0 y = 3 \n",
      " 0 x + 1 y = 2 \n",
      " is x = 3.0 y= 2.0\n"
     ]
    },
    {
     "data": {
      "text/plain": [
       "[3.0, 2.0]"
      ]
     },
     "execution_count": 4,
     "metadata": {},
     "output_type": "execute_result"
    }
   ],
   "source": [
    "two_by_two_solver(1,0,3,0,1,2,True)"
   ]
  },
  {
   "cell_type": "markdown",
   "metadata": {
    "colab_type": "text",
    "id": "vL0v11TjmUo7"
   },
   "source": [
    "We can't solve systems where $a_1$ is zero because our function divides by $a_1$:"
   ]
  },
  {
   "cell_type": "code",
   "execution_count": 5,
   "metadata": {
    "colab": {
     "base_uri": "https://localhost:8080/",
     "height": 287
    },
    "colab_type": "code",
    "executionInfo": {
     "elapsed": 333,
     "status": "error",
     "timestamp": 1548171197526,
     "user": {
      "displayName": "Alexander Dowling",
      "photoUrl": "https://lh3.googleusercontent.com/-LChdQ2m5OQE/AAAAAAAAAAI/AAAAAAAAAA0/JeXJe4vQJ7M/s64/photo.jpg",
      "userId": "00988067626794866502"
     },
     "user_tz": 300
    },
    "id": "AqY0_GTwmUo8",
    "outputId": "c599d0ef-92ea-4c93-efc3-f68bff7f0ce1"
   },
   "outputs": [
    {
     "ename": "ZeroDivisionError",
     "evalue": "division by zero",
     "output_type": "error",
     "traceback": [
      "\u001b[1;31m---------------------------------------------------------------------------\u001b[0m",
      "\u001b[1;31mZeroDivisionError\u001b[0m                         Traceback (most recent call last)",
      "Input \u001b[1;32mIn [5]\u001b[0m, in \u001b[0;36m<cell line: 1>\u001b[1;34m()\u001b[0m\n\u001b[1;32m----> 1\u001b[0m \u001b[43mtwo_by_two_solver\u001b[49m\u001b[43m(\u001b[49m\u001b[38;5;241;43m0\u001b[39;49m\u001b[43m,\u001b[49m\u001b[38;5;241;43m1\u001b[39;49m\u001b[43m,\u001b[49m\u001b[38;5;241;43m2\u001b[39;49m\u001b[43m,\u001b[49m\u001b[38;5;241;43m1\u001b[39;49m\u001b[43m,\u001b[49m\u001b[38;5;241;43m0\u001b[39;49m\u001b[43m,\u001b[49m\u001b[38;5;241;43m3\u001b[39;49m\u001b[43m,\u001b[49m\u001b[38;5;28;43;01mTrue\u001b[39;49;00m\u001b[43m)\u001b[49m\n",
      "Input \u001b[1;32mIn [2]\u001b[0m, in \u001b[0;36mtwo_by_two_solver\u001b[1;34m(a1, b1, c1, a2, b2, c2, LOUD)\u001b[0m\n\u001b[0;32m      2\u001b[0m \u001b[38;5;124;03m\"\"\"Calculate the solution of the system \u001b[39;00m\n\u001b[0;32m      3\u001b[0m \u001b[38;5;124;03ma1 x + b1 y = c1, \u001b[39;00m\n\u001b[0;32m      4\u001b[0m \u001b[38;5;124;03ma2 x + b2 y = c2\u001b[39;00m\n\u001b[1;32m   (...)\u001b[0m\n\u001b[0;32m     16\u001b[0m \u001b[38;5;124;03m    list containing the solution in the format [x,y]\u001b[39;00m\n\u001b[0;32m     17\u001b[0m \u001b[38;5;124;03m\"\"\"\u001b[39;00m\n\u001b[0;32m     18\u001b[0m \u001b[38;5;66;03m#step one, eliminate x from the second equation by \u001b[39;00m\n\u001b[0;32m     19\u001b[0m \u001b[38;5;66;03m#multiplying first equation by -a2/a1\u001b[39;00m\n\u001b[0;32m     20\u001b[0m \u001b[38;5;66;03m#and then adding it to second equation\u001b[39;00m\n\u001b[1;32m---> 21\u001b[0m new_b2 \u001b[38;5;241m=\u001b[39m b2 \u001b[38;5;241m-\u001b[39m \u001b[43ma2\u001b[49m\u001b[38;5;241;43m/\u001b[39;49m\u001b[43ma1\u001b[49m\u001b[38;5;241m*\u001b[39mb1\n\u001b[0;32m     22\u001b[0m new_c2 \u001b[38;5;241m=\u001b[39m c2 \u001b[38;5;241m-\u001b[39m a2\u001b[38;5;241m/\u001b[39ma1\u001b[38;5;241m*\u001b[39mc1\n\u001b[0;32m     23\u001b[0m \u001b[38;5;66;03m#solve the new equation 2\u001b[39;00m\n",
      "\u001b[1;31mZeroDivisionError\u001b[0m: division by zero"
     ]
    }
   ],
   "source": [
    "two_by_two_solver(0,1,2,1,0,3,True)"
   ]
  },
  {
   "cell_type": "markdown",
   "metadata": {
    "colab_type": "text",
    "id": "FTXAc9FgmUo-"
   },
   "source": [
    "### Calling functions"
   ]
  },
  {
   "cell_type": "markdown",
   "metadata": {
    "colab_type": "text",
    "id": "vGq1S_t3mUo_"
   },
   "source": [
    "**Approach above: give inputs in order**\n",
    "\n",
    "We called the function <tt>two_by_two_solver</tt> by listing out the arguments in the order that it expects them <tt>a1, b1, c1, a2, b2, c2, LOUD</tt>.\n",
    "\n",
    "**Another option: use keywords**\n",
    "\n",
    "Python allows you to call them in any order, as long as you are explicit in what goes where."
   ]
  },
  {
   "cell_type": "code",
   "execution_count": 6,
   "metadata": {
    "colab": {
     "base_uri": "https://localhost:8080/",
     "height": 104
    },
    "colab_type": "code",
    "executionInfo": {
     "elapsed": 218,
     "status": "ok",
     "timestamp": 1548171250400,
     "user": {
      "displayName": "Alexander Dowling",
      "photoUrl": "https://lh3.googleusercontent.com/-LChdQ2m5OQE/AAAAAAAAAAI/AAAAAAAAAA0/JeXJe4vQJ7M/s64/photo.jpg",
      "userId": "00988067626794866502"
     },
     "user_tz": 300
    },
    "id": "qLckFvibmUo_",
    "outputId": "f64d230f-71a1-4e8b-fe67-8f60f7274e8b"
   },
   "outputs": [
    {
     "name": "stdout",
     "output_type": "stream",
     "text": [
      "The solution to:\n",
      " 4.5 x + 3 y = 10.5 \n",
      " 1.5 x + 3 y = 7.5 \n",
      " is x = 1.0 y= 2.0\n"
     ]
    },
    {
     "data": {
      "text/plain": [
       "[1.0, 2.0]"
      ]
     },
     "execution_count": 6,
     "metadata": {},
     "output_type": "execute_result"
    }
   ],
   "source": [
    "two_by_two_solver(a1 = 4.5, b1 = 3, \n",
    "                  a2 = 1.5, b2 = 3, \n",
    "                  c1 = 10.5, c2 = 7.5, LOUD = True)"
   ]
  },
  {
   "cell_type": "markdown",
   "metadata": {
    "colab_type": "text",
    "id": "8noqot07mUpC"
   },
   "source": [
    "It is often a good idea to call a function explicitly (with keywords). That way if you mess up the order of the arguments, it does not matter.\n",
    "\n",
    "Notice that in the function definition, the argument <tt>LOUD</tt> has <tt>=False</tt> after it.  This indicates that if the function is called without a value for <tt>LOUD</tt>, it assumes the caller does not what the function to \"be loud\".\n",
    "\n",
    "In other words, <tt>False</tt> is the **default** for argument <tt>LOUD</tt>."
   ]
  },
  {
   "cell_type": "code",
   "execution_count": null,
   "metadata": {
    "colab": {
     "base_uri": "https://localhost:8080/",
     "height": 35
    },
    "colab_type": "code",
    "executionInfo": {
     "elapsed": 213,
     "status": "ok",
     "timestamp": 1548171318534,
     "user": {
      "displayName": "Alexander Dowling",
      "photoUrl": "https://lh3.googleusercontent.com/-LChdQ2m5OQE/AAAAAAAAAAI/AAAAAAAAAA0/JeXJe4vQJ7M/s64/photo.jpg",
      "userId": "00988067626794866502"
     },
     "user_tz": 300
    },
    "id": "AozXfTp0mUpD",
    "outputId": "c3c9f186-1a67-49c0-c3b6-415c3b3a0f02"
   },
   "outputs": [],
   "source": [
    "two_by_two_solver(a1 = 4.5, b1 = 3, a2 = 1.5, \n",
    "                  b2 = 3, c1 = 10.5, c2 = 7.5)"
   ]
  },
  {
   "cell_type": "markdown",
   "metadata": {
    "colab_type": "text",
    "id": "a2As_U8HmUpG"
   },
   "source": [
    "Notice that it didn't print out it's spiel about the system."
   ]
  },
  {
   "cell_type": "code",
   "execution_count": null,
   "metadata": {
    "colab": {
     "base_uri": "https://localhost:8080/",
     "height": 35
    },
    "colab_type": "code",
    "executionInfo": {
     "elapsed": 246,
     "status": "ok",
     "timestamp": 1548171329182,
     "user": {
      "displayName": "Alexander Dowling",
      "photoUrl": "https://lh3.googleusercontent.com/-LChdQ2m5OQE/AAAAAAAAAAI/AAAAAAAAAA0/JeXJe4vQJ7M/s64/photo.jpg",
      "userId": "00988067626794866502"
     },
     "user_tz": 300
    },
    "id": "N4H8ulKOmUpG",
    "outputId": "3656a5b5-abc6-45e0-ae2d-a7411bb88a01"
   },
   "outputs": [],
   "source": [
    "two_by_two_solver(1,1,2,a2 = 1, c2 = 0, b2 = 3)"
   ]
  },
  {
   "cell_type": "markdown",
   "metadata": {
    "colab_type": "text",
    "id": "U4M2x2kAmUpJ"
   },
   "source": [
    "### Return Values"
   ]
  },
  {
   "cell_type": "markdown",
   "metadata": {
    "colab_type": "text",
    "id": "t7t-NP3tmUpJ"
   },
   "source": [
    "At the end of the function we have a return statement.  This tells python what the function is returning to the caller.  In this case we return a list that has the solution for $x$ and $y$.  We can store this in a new variable, or do whatever we like with it."
   ]
  },
  {
   "cell_type": "code",
   "execution_count": 1,
   "metadata": {
    "colab": {
     "base_uri": "https://localhost:8080/",
     "height": 35
    },
    "colab_type": "code",
    "executionInfo": {
     "elapsed": 206,
     "status": "ok",
     "timestamp": 1548171367373,
     "user": {
      "displayName": "Alexander Dowling",
      "photoUrl": "https://lh3.googleusercontent.com/-LChdQ2m5OQE/AAAAAAAAAAI/AAAAAAAAAA0/JeXJe4vQJ7M/s64/photo.jpg",
      "userId": "00988067626794866502"
     },
     "user_tz": 300
    },
    "id": "qNiFzqD5mUpK",
    "outputId": "476db0b0-a9a3-46ae-8a23-be7e949d7858"
   },
   "outputs": [
    {
     "ename": "NameError",
     "evalue": "name 'two_by_two_solver' is not defined",
     "output_type": "error",
     "traceback": [
      "\u001b[1;31m---------------------------------------------------------------------------\u001b[0m",
      "\u001b[1;31mNameError\u001b[0m                                 Traceback (most recent call last)",
      "Input \u001b[1;32mIn [1]\u001b[0m, in \u001b[0;36m<cell line: 1>\u001b[1;34m()\u001b[0m\n\u001b[1;32m----> 1\u001b[0m answer \u001b[38;5;241m=\u001b[39m \u001b[43mtwo_by_two_solver\u001b[49m(a1 \u001b[38;5;241m=\u001b[39m \u001b[38;5;241m4.5\u001b[39m, b1 \u001b[38;5;241m=\u001b[39m \u001b[38;5;241m3\u001b[39m, a2 \u001b[38;5;241m=\u001b[39m \u001b[38;5;241m1.5\u001b[39m, \n\u001b[0;32m      2\u001b[0m                            b2 \u001b[38;5;241m=\u001b[39m \u001b[38;5;241m3\u001b[39m, c1 \u001b[38;5;241m=\u001b[39m \u001b[38;5;241m10.5\u001b[39m, c2 \u001b[38;5;241m=\u001b[39m \u001b[38;5;241m7.5\u001b[39m)\n\u001b[0;32m      3\u001b[0m x \u001b[38;5;241m=\u001b[39m answer[\u001b[38;5;241m0\u001b[39m] \u001b[38;5;66;03m#store in the variable x the first value in the list answer\u001b[39;00m\n\u001b[0;32m      4\u001b[0m y \u001b[38;5;241m=\u001b[39m answer[\u001b[38;5;241m1\u001b[39m] \u001b[38;5;66;03m#store in the variable y the second value in the list answer\u001b[39;00m\n",
      "\u001b[1;31mNameError\u001b[0m: name 'two_by_two_solver' is not defined"
     ]
    }
   ],
   "source": [
    "answer = two_by_two_solver(a1 = 4.5, b1 = 3, a2 = 1.5, \n",
    "                           b2 = 3, c1 = 10.5, c2 = 7.5)\n",
    "x = answer[0] #store in the variable x the first value in the list answer\n",
    "y = answer[1] #store in the variable y the second value in the list answer\n",
    "print(\"The list\",answer,\"contains\",x,\"and\",y)"
   ]
  },
  {
   "cell_type": "markdown",
   "metadata": {},
   "source": [
    "<div class=\"admonition seealso\" name=\"html-admonition\"> \n",
    "<p class=\"title\"><b>Home Activity</b></p>\n",
    " Solve the linear system given below and store the answers in `my_x` and `my_y`.\n",
    "</div>"
   ]
  },
  {
   "cell_type": "markdown",
   "metadata": {},
   "source": [
    "$$ 2 x -1 y = 3\\\\ -4 x + 3 y = 0.$$"
   ]
  },
  {
   "cell_type": "code",
   "execution_count": null,
   "metadata": {},
   "outputs": [],
   "source": [
    "# Add your solution here"
   ]
  },
  {
   "cell_type": "code",
   "execution_count": null,
   "metadata": {
    "nbgrader": {
     "grade": true,
     "grade_id": "linear-system",
     "locked": true,
     "points": "0.25",
     "solution": false
    }
   },
   "outputs": [],
   "source": [
    "# Removed autograder test. You may delete this cell."
   ]
  },
  {
   "cell_type": "markdown",
   "metadata": {
    "colab_type": "text",
    "id": "sFrdpv13mUpN"
   },
   "source": [
    "We can do even fancier things, if we are so bold"
   ]
  },
  {
   "cell_type": "code",
   "execution_count": 8,
   "metadata": {
    "colab": {
     "base_uri": "https://localhost:8080/",
     "height": 52
    },
    "colab_type": "code",
    "executionInfo": {
     "elapsed": 211,
     "status": "ok",
     "timestamp": 1548171409505,
     "user": {
      "displayName": "Alexander Dowling",
      "photoUrl": "https://lh3.googleusercontent.com/-LChdQ2m5OQE/AAAAAAAAAAI/AAAAAAAAAA0/JeXJe4vQJ7M/s64/photo.jpg",
      "userId": "00988067626794866502"
     },
     "user_tz": 300
    },
    "id": "CJnRIB0EmUpO",
    "outputId": "9052ec88-8026-4818-d91e-070aadb8ea84"
   },
   "outputs": [
    {
     "name": "stdout",
     "output_type": "stream",
     "text": [
      "x = 1.0\n",
      "x = 1.0 y = 2.0\n"
     ]
    }
   ],
   "source": [
    "#just get x\n",
    "x = two_by_two_solver(a1 = 4.5, b1 = 3, a2 = 1.5, \n",
    "                      b2 = 3, c1 = 10.5, c2 = 7.5)[0]\n",
    "print(\"x =\",x)\n",
    "\n",
    "#assign variables to the output on the fly\n",
    "x,y = two_by_two_solver(a1 = 4.5, b1 = 3, a2 = 1.5, \n",
    "                        b2 = 3, c1 = 10.5, c2 = 7.5)\n",
    "print(\"x =\",x,\"y =\",y)"
   ]
  },
  {
   "cell_type": "markdown",
   "metadata": {
    "colab_type": "text",
    "id": "62Uy2NQAmUpS"
   },
   "source": [
    "These examples are more advanced and they are designed to show you some of the neat tricks you can do in python."
   ]
  },
  {
   "cell_type": "markdown",
   "metadata": {
    "colab_type": "text",
    "id": "oI3rB4rLmUpT"
   },
   "source": [
    "### Docstrings and Help"
   ]
  },
  {
   "cell_type": "markdown",
   "metadata": {
    "colab_type": "text",
    "id": "W4ylc7JWmUpU"
   },
   "source": [
    "Our 2x2 solver code had a long, and pretty detailed comment at the beginning of it.  This is called a **docstring** and it is printed by a user by typing"
   ]
  },
  {
   "cell_type": "code",
   "execution_count": null,
   "metadata": {
    "colab": {
     "base_uri": "https://localhost:8080/",
     "height": 347
    },
    "colab_type": "code",
    "executionInfo": {
     "elapsed": 361,
     "status": "ok",
     "timestamp": 1548171434571,
     "user": {
      "displayName": "Alexander Dowling",
      "photoUrl": "https://lh3.googleusercontent.com/-LChdQ2m5OQE/AAAAAAAAAAI/AAAAAAAAAA0/JeXJe4vQJ7M/s64/photo.jpg",
      "userId": "00988067626794866502"
     },
     "user_tz": 300
    },
    "id": "0xGhyjKCmUpW",
    "outputId": "8774e128-27fa-44e9-f197-aa2e1bf7305f"
   },
   "outputs": [],
   "source": [
    "help(two_by_two_solver)"
   ]
  },
  {
   "cell_type": "markdown",
   "metadata": {
    "colab_type": "text",
    "id": "lAJ6D9_UmUpZ"
   },
   "source": [
    "The point of this long comment is to communicate to other people:\n",
    "1. The main idea behind the function.\n",
    "2. What the function expects from you: **Inputs.**\n",
    "3. What the function gives you: **Outputs.**  \n",
    "\n",
    "In this example we can see that we need to provide at least 6 numbers, and possibly an optional boolean (true/false). \n",
    "\n",
    "<b>It is good programming practice to include good docstrings.  It will be mandatory for any code you turn in this class.</b>\n",
    "\n",
    "Let's look at the docstring for some members of the <tt>math</tt> module and the <tt>random</tt> module."
   ]
  },
  {
   "cell_type": "code",
   "execution_count": 9,
   "metadata": {
    "colab": {
     "base_uri": "https://localhost:8080/",
     "height": 139
    },
    "colab_type": "code",
    "executionInfo": {
     "elapsed": 203,
     "status": "ok",
     "timestamp": 1548171517726,
     "user": {
      "displayName": "Alexander Dowling",
      "photoUrl": "https://lh3.googleusercontent.com/-LChdQ2m5OQE/AAAAAAAAAAI/AAAAAAAAAA0/JeXJe4vQJ7M/s64/photo.jpg",
      "userId": "00988067626794866502"
     },
     "user_tz": 300
    },
    "id": "N-EncpsVmUpa",
    "outputId": "e329331e-658f-40f9-87ee-c68202fbb28e"
   },
   "outputs": [
    {
     "name": "stdout",
     "output_type": "stream",
     "text": [
      "Help on built-in function fabs in module math:\n",
      "\n",
      "fabs(x, /)\n",
      "    Return the absolute value of the float x.\n",
      "\n"
     ]
    }
   ],
   "source": [
    "import math\n",
    "help(math.fabs)"
   ]
  },
  {
   "cell_type": "code",
   "execution_count": 10,
   "metadata": {
    "colab": {
     "base_uri": "https://localhost:8080/",
     "height": 104
    },
    "colab_type": "code",
    "executionInfo": {
     "elapsed": 204,
     "status": "ok",
     "timestamp": 1548171525345,
     "user": {
      "displayName": "Alexander Dowling",
      "photoUrl": "https://lh3.googleusercontent.com/-LChdQ2m5OQE/AAAAAAAAAAI/AAAAAAAAAA0/JeXJe4vQJ7M/s64/photo.jpg",
      "userId": "00988067626794866502"
     },
     "user_tz": 300
    },
    "id": "-LMJYruXmUpc",
    "outputId": "37d7bf12-71ce-406d-d695-ce00462473c7"
   },
   "outputs": [
    {
     "name": "stdout",
     "output_type": "stream",
     "text": [
      "Help on method uniform in module random:\n",
      "\n",
      "uniform(a, b) method of random.Random instance\n",
      "    Get a random number in the range [a, b) or [a, b] depending on rounding.\n",
      "\n"
     ]
    }
   ],
   "source": [
    "import random\n",
    "help(random.uniform)"
   ]
  },
  {
   "cell_type": "markdown",
   "metadata": {
    "colab_type": "text",
    "id": "AjG89EI9mUpe"
   },
   "source": [
    "We don't have the source code for these functions in front of us, but if we want to know how to call them (and we didn't want to Google® them), the docstrings tell us what to do.\n",
    "\n",
    "You may wonder why those docstrings are a bit different that the one I used.  The format for mine is derived from the [Google coding standards for python docstrings.](https://google.github.io/styleguide/pyguide.html#383-functions-and-methods)"
   ]
  },
  {
   "cell_type": "code",
   "execution_count": 11,
   "metadata": {
    "colab": {
     "base_uri": "https://localhost:8080/",
     "height": 87
    },
    "colab_type": "code",
    "executionInfo": {
     "elapsed": 336,
     "status": "ok",
     "timestamp": 1548171541881,
     "user": {
      "displayName": "Alexander Dowling",
      "photoUrl": "https://lh3.googleusercontent.com/-LChdQ2m5OQE/AAAAAAAAAAI/AAAAAAAAAA0/JeXJe4vQJ7M/s64/photo.jpg",
      "userId": "00988067626794866502"
     },
     "user_tz": 300
    },
    "id": "JrJGqh2PmUpf",
    "outputId": "df4b7b99-0d26-44a6-dbc5-d00f8f0b2ada"
   },
   "outputs": [
    {
     "name": "stdout",
     "output_type": "stream",
     "text": [
      "Help on function nothing in module __main__:\n",
      "\n",
      "nothing()\n",
      "\n"
     ]
    }
   ],
   "source": [
    "# another example\n",
    "def nothing():\n",
    "    #this function does nothing\n",
    "    #docstring?\n",
    "    return 0\n",
    "help(nothing)"
   ]
  },
  {
   "cell_type": "markdown",
   "metadata": {
    "colab_type": "text",
    "id": "05U9SxiumUpi",
    "tags": []
   },
   "source": [
    "## Scope"
   ]
  },
  {
   "cell_type": "markdown",
   "metadata": {
    "colab_type": "text",
    "id": "VMozxvm3mUpi"
   },
   "source": [
    "When we call a function, it carves out in the computer's memory its own space. Variables that live in the special space, known as *local scope* are completely different than those in other parts of the program. Here's a simple, but illustrative example:"
   ]
  },
  {
   "cell_type": "markdown",
   "metadata": {},
   "source": [
    "<div class=\"admonition seealso\" name=\"html-admonition\"> \n",
    "<p class=\"title\"><b>Home Activity</b></p>\n",
    " Before you run the code below, predict the output. This is good practice for exam questions, where you'll be asked to predict the output of Python code without access to a computer.\n",
    "</div>"
   ]
  },
  {
   "cell_type": "markdown",
   "metadata": {},
   "source": [
    "**Home Activity - Your Predictions**\n",
    "\n",
    "`x = `\n",
    "\n",
    "`new_x = `\n",
    "\n",
    "`y = `\n",
    "\n",
    "`new_y = `"
   ]
  },
  {
   "cell_type": "code",
   "execution_count": 12,
   "metadata": {
    "colab": {
     "base_uri": "https://localhost:8080/",
     "height": 87
    },
    "colab_type": "code",
    "executionInfo": {
     "elapsed": 208,
     "status": "ok",
     "timestamp": 1548171670147,
     "user": {
      "displayName": "Alexander Dowling",
      "photoUrl": "https://lh3.googleusercontent.com/-LChdQ2m5OQE/AAAAAAAAAAI/AAAAAAAAAA0/JeXJe4vQJ7M/s64/photo.jpg",
      "userId": "00988067626794866502"
     },
     "user_tz": 300
    },
    "id": "6ib67kwkmUpk",
    "outputId": "92105613-a2c6-42bc-cbf3-4d660496cd58"
   },
   "outputs": [
    {
     "name": "stdout",
     "output_type": "stream",
     "text": [
      "x = oui  \n",
      "new_x = oui oui oui \n",
      "y = no  \n",
      "new_y = no no no \n"
     ]
    }
   ],
   "source": [
    "def scope_demonstration(input_variable):\n",
    "    ''' A simple demonstration of scoping rules\n",
    "    \n",
    "    Args:\n",
    "        input_variable: a string or number\n",
    "        \n",
    "    Returns:\n",
    "        x: --REDACTED TO NOT GIVE AWAY THE ACTIVITY ANSWER --\n",
    "    '''\n",
    "    x = input_variable*3\n",
    "    return x\n",
    "\n",
    "#now call the function after defining some variables\n",
    "x = \"oui \"\n",
    "y = \"no \"\n",
    "\n",
    "new_x = scope_demonstration(x)\n",
    "new_y = scope_demonstration(y)\n",
    "print(\"x =\",x,\"\\nnew_x =\",new_x)\n",
    "print(\"y =\",y,\"\\nnew_y =\",new_y)"
   ]
  },
  {
   "cell_type": "markdown",
   "metadata": {
    "colab_type": "text",
    "id": "koE8_zbcmUpm"
   },
   "source": [
    "When I call <tt>scope_demonstration</tt> it creates its own memory space and any variable I create in there is different than in the rest of the program, even if the variables have the same name.\n",
    "\n",
    "There are many subleties in scoping rules, but this example outlines just about everything that you'll need to know as a neophyte programmer."
   ]
  },
  {
   "cell_type": "markdown",
   "metadata": {},
   "source": [
    "A variable declared at the top level Python file, i.e., outside a function, is in the global scope for that file. This is easiest to see in an example:"
   ]
  },
  {
   "cell_type": "code",
   "execution_count": 13,
   "metadata": {},
   "outputs": [
    {
     "name": "stdout",
     "output_type": "stream",
     "text": [
      "1\n"
     ]
    }
   ],
   "source": [
    "my_var = 1\n",
    "\n",
    "def print_my_var():\n",
    "    ''' Another scope demonstration\n",
    "    \n",
    "    Args:\n",
    "        Nothing\n",
    "        \n",
    "    Returns:\n",
    "        Nothing\n",
    "        \n",
    "    Other:\n",
    "        prints `my_var`\n",
    "    \n",
    "    '''\n",
    "    print(my_var)\n",
    "    return None\n",
    "\n",
    "print_my_var()"
   ]
  },
  {
   "cell_type": "markdown",
   "metadata": {},
   "source": [
    "We were able to access `my_var` inside the function even though it was not an input to a function.\n",
    "\n",
    "The next natural guess is can we modify `my_var` with a function? Let's see."
   ]
  },
  {
   "cell_type": "code",
   "execution_count": 14,
   "metadata": {},
   "outputs": [
    {
     "ename": "UnboundLocalError",
     "evalue": "local variable 'my_var' referenced before assignment",
     "output_type": "error",
     "traceback": [
      "\u001b[1;31m---------------------------------------------------------------------------\u001b[0m",
      "\u001b[1;31mUnboundLocalError\u001b[0m                         Traceback (most recent call last)",
      "Input \u001b[1;32mIn [14]\u001b[0m, in \u001b[0;36m<cell line: 19>\u001b[1;34m()\u001b[0m\n\u001b[0;32m     15\u001b[0m     \u001b[38;5;28mprint\u001b[39m(\u001b[38;5;124m\"\u001b[39m\u001b[38;5;124mmy_var = \u001b[39m\u001b[38;5;124m\"\u001b[39m,my_var,\u001b[38;5;124m\"\u001b[39m\u001b[38;5;124m inside the function\u001b[39m\u001b[38;5;124m\"\u001b[39m)\n\u001b[0;32m     17\u001b[0m     \u001b[38;5;28;01mreturn\u001b[39;00m \u001b[38;5;28;01mNone\u001b[39;00m\n\u001b[1;32m---> 19\u001b[0m \u001b[43mchange_my_var\u001b[49m\u001b[43m(\u001b[49m\u001b[43m)\u001b[49m\n\u001b[0;32m     20\u001b[0m \u001b[38;5;28mprint\u001b[39m(\u001b[38;5;124m\"\u001b[39m\u001b[38;5;124mmy_var =\u001b[39m\u001b[38;5;124m\"\u001b[39m,my_var,\u001b[38;5;124m\"\u001b[39m\u001b[38;5;124m outside the function\u001b[39m\u001b[38;5;124m\"\u001b[39m)\n",
      "Input \u001b[1;32mIn [14]\u001b[0m, in \u001b[0;36mchange_my_var\u001b[1;34m()\u001b[0m\n\u001b[0;32m      1\u001b[0m \u001b[38;5;28;01mdef\u001b[39;00m \u001b[38;5;21mchange_my_var\u001b[39m():\n\u001b[0;32m      2\u001b[0m     \u001b[38;5;124;03m''' A third scope demonstration\u001b[39;00m\n\u001b[0;32m      3\u001b[0m \u001b[38;5;124;03m    \u001b[39;00m\n\u001b[0;32m      4\u001b[0m \u001b[38;5;124;03m    Args:\u001b[39;00m\n\u001b[1;32m   (...)\u001b[0m\n\u001b[0;32m     11\u001b[0m \u001b[38;5;124;03m        Attempts to change `my_var', prints to screen\u001b[39;00m\n\u001b[0;32m     12\u001b[0m \u001b[38;5;124;03m    '''\u001b[39;00m\n\u001b[1;32m---> 14\u001b[0m     my_var \u001b[38;5;241m=\u001b[39m \u001b[38;5;241m3\u001b[39m\u001b[38;5;241m*\u001b[39m\u001b[43mmy_var\u001b[49m \u001b[38;5;241m+\u001b[39m \u001b[38;5;241m2\u001b[39m\n\u001b[0;32m     15\u001b[0m     \u001b[38;5;28mprint\u001b[39m(\u001b[38;5;124m\"\u001b[39m\u001b[38;5;124mmy_var = \u001b[39m\u001b[38;5;124m\"\u001b[39m,my_var,\u001b[38;5;124m\"\u001b[39m\u001b[38;5;124m inside the function\u001b[39m\u001b[38;5;124m\"\u001b[39m)\n\u001b[0;32m     17\u001b[0m     \u001b[38;5;28;01mreturn\u001b[39;00m \u001b[38;5;28;01mNone\u001b[39;00m\n",
      "\u001b[1;31mUnboundLocalError\u001b[0m: local variable 'my_var' referenced before assignment"
     ]
    }
   ],
   "source": [
    "def change_my_var():\n",
    "    ''' A third scope demonstration\n",
    "    \n",
    "    Args:\n",
    "        Nothing\n",
    "        \n",
    "    Returns:\n",
    "        Nothing\n",
    "        \n",
    "    Other:\n",
    "        Attempts to change `my_var', prints to screen\n",
    "    '''\n",
    "    \n",
    "    my_var = 3*my_var + 2\n",
    "    print(\"my_var = \",my_var,\" inside the function\")\n",
    "    \n",
    "    return None\n",
    "\n",
    "change_my_var()\n",
    "print(\"my_var =\",my_var,\" outside the function\")"
   ]
  },
  {
   "cell_type": "markdown",
   "metadata": {},
   "source": [
    "We got an error message! In Python, we can only access `my_var` inside functions. We cannot change it inside functions. If we wanted to change my_var, we would need to do the following:"
   ]
  },
  {
   "cell_type": "code",
   "execution_count": 15,
   "metadata": {},
   "outputs": [
    {
     "name": "stdout",
     "output_type": "stream",
     "text": [
      "Now my_var = 5\n"
     ]
    }
   ],
   "source": [
    "def change_my_var2():\n",
    "    ''' A third scope demonstration\n",
    "    \n",
    "    Args:\n",
    "        Nothing\n",
    "        \n",
    "    Returns:\n",
    "        New value of my_var\n",
    "        \n",
    "    '''\n",
    "    \n",
    "    return 3*my_var + 2\n",
    "\n",
    "my_var = change_my_var2()\n",
    "print(\"Now my_var =\",my_var)"
   ]
  },
  {
   "cell_type": "markdown",
   "metadata": {},
   "source": [
    "<div class=\"admonition note\" name=\"html-admonition\"> \n",
    "<p class=\"title\"><b>Class Activity</b></p>\n",
    " Take 30 seconds to predict the output of the code below without running it. Below are multiple choice answers.\n",
    "</div>"
   ]
  },
  {
   "cell_type": "code",
   "execution_count": 16,
   "metadata": {},
   "outputs": [
    {
     "name": "stdout",
     "output_type": "stream",
     "text": [
      "x = 1   y = 1   z = 2\n"
     ]
    }
   ],
   "source": [
    "def my_func1(x,y):\n",
    "    ''' A simple function to demonstrate the nuances of scope\n",
    "\n",
    "    Arguments:\n",
    "        x: scalar real number\n",
    "        y: scalar real number\n",
    "        \n",
    "    Returns:\n",
    "        z: scalar real number\n",
    "\n",
    "    '''\n",
    "    z = x + y\n",
    "    x = 3\n",
    "    y = z - x + 1\n",
    "    return z\n",
    "\n",
    "# Run the function\n",
    "x = 1\n",
    "y = 1\n",
    "z = my_func1(x,y)\n",
    "# Print values of x, y, and z to screen\n",
    "print(\"x =\",x,\"  y =\",y,\"  z =\",z)"
   ]
  },
  {
   "cell_type": "markdown",
   "metadata": {},
   "source": [
    "**Class Activity multiple choice answers**:\n",
    "1. x=1, y=1, z=2\n",
    "2. x=1, y=1, z=3\n",
    "3. x=3, y=0, z=2\n",
    "4. x=3, y=0, x=3\n",
    "5. None of these"
   ]
  },
  {
   "cell_type": "code",
   "execution_count": null,
   "metadata": {},
   "outputs": [],
   "source": [
    "### Create your answer here."
   ]
  }
 ],
 "metadata": {
  "colab": {
   "name": "L3-Functions-Scoping-Etc.ipynb",
   "provenance": [],
   "version": "0.3.2"
  },
  "kernelspec": {
   "display_name": "Python 3 (ipykernel)",
   "language": "python",
   "name": "python3"
  },
  "language_info": {
   "codemirror_mode": {
    "name": "ipython",
    "version": 3
   },
   "file_extension": ".py",
   "mimetype": "text/x-python",
   "name": "python",
   "nbconvert_exporter": "python",
   "pygments_lexer": "ipython3",
   "version": "3.9.12"
  }
 },
 "nbformat": 4,
 "nbformat_minor": 4
}
