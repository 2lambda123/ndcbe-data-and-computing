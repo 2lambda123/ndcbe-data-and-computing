{
 "cells": [
  {
   "cell_type": "markdown",
   "metadata": {},
   "source": [
    "# Model-Based Design of Experiments\n",
    "\n",
    "This notebook is based on an example from:\n",
    "\n",
    "[Jialu Wang](https://github.com/jialuw96) and [Alexander Dowling](https://github.com/adowling2) (2022), [Pyomo.DoE: An Open-Source Package for Model-Based Design of Experiments in Python](https://aiche.onlinelibrary.wiley.com/doi/full/10.1002/aic.17813) . *AIChE Journal*, 68(12), e17813.\n"
   ]
  },
  {
   "cell_type": "markdown",
   "metadata": {},
   "source": [
    "## Learning Objectives\n",
    "* Practice nonlinear regression basics on a reaction kinetics example\n",
    "* Interpret eigendecomposition of Fisher information matrix to determine which paramters (if any) are not identifiable\n",
    "* Use A-, D-, and E-optimality to recommend the next experiment that maximizes information gain"
   ]
  },
  {
   "cell_type": "markdown",
   "metadata": {},
   "source": [
    "## Import Modules"
   ]
  },
  {
   "cell_type": "code",
   "execution_count": 1,
   "metadata": {},
   "outputs": [],
   "source": [
    "import matplotlib.pyplot as plt\n",
    "import numpy as np\n",
    "import pandas as pd\n",
    "import scipy.optimize as optimize\n",
    "import scipy.linalg as linalg\n",
    "from matplotlib import cm"
   ]
  },
  {
   "cell_type": "markdown",
   "metadata": {},
   "source": [
    "## Mathematical Model for Reaction Kinetics Example"
   ]
  },
  {
   "cell_type": "markdown",
   "metadata": {},
   "source": [
    "Consider two chemical reactions that convert molecule $A$ to desired product $B$ and a less valuable side-product $C$.\n",
    "\n",
    "$A \\overset{k_1}{\\rightarrow} B \\overset{k_2}{\\rightarrow} C$\n",
    "\n",
    "Our ultimate goal is to design a large-scale continous reactor that maximizes the production of $B$. This general sequential reactions problem is widely applicable to CO$_2$ capture and industry more broadly (petrochemicals, pharmasuticals, etc.).\n",
    "\n",
    "The rate laws for these two chemical reactions are:\n",
    "\n",
    "$r_A = -k_1 C_A$\n",
    "\n",
    "$r_B = k_1 C_A - k_2 C_B$\n",
    "\n",
    "$r_C = k_2 C_B$\n",
    "\n",
    "Here, $C_A$, $C_B$, and $C_C$ are the concentrations of each species. The rate constants $k_1$ and $k_2$ depend on temperature as follows:\n",
    "\n",
    "$k_1 = A_1 \\exp{\\frac{-E_1}{R T}}$\n",
    "\n",
    "$k_2 = A_2 \\exp{\\frac{-E_2}{R T}}$\n",
    "\n",
    "$A_1, A_2, E_1$, and $E_2$ are fitted model parameters. $R$ is the ideal-gas constant and $T$ is absolute temperature."
   ]
  },
  {
   "cell_type": "markdown",
   "metadata": {
    "tags": []
   },
   "source": [
    "The concenration in a **batch reactor** evolve with time per the following differential equations:\n",
    "\n",
    "$$ \\frac{d C_A}{dt} = r_A = -k_1 C_A $$\n",
    "\n",
    "$$ \\frac{d C_B}{dt} = r_B = k_1 C_A - k_2 C_B $$\n",
    "\n",
    "$$ \\frac{d C_C}{dt} = r_C = k_2 C_B $$\n",
    "\n",
    "This is a linear system of differential equations. Assuming the feed is only species $A$, i.e., \n",
    "\n",
    "$$C_A(t=0) = C_{A0} \\quad C_B(t=0) = 0 \\quad C_C(t=0) = 0$$\n",
    "\n",
    "When the temperature is constant, it leads to the following analytic solution:\n",
    "\n",
    "$$C_A(t) = C_{A,0} \\exp(-k_1 t)$$\n",
    "\n",
    "$$C_B(t) = \\frac{k_1}{k_2 - k_1} C_{A,0} \\left[\\exp(-k_1 t) - \\exp(-k_2 t) \\right]$$\n",
    "\n",
    "$$C_C(t) = C_{A,0} - \\frac{k_2}{k_2 - k_1} C_{A,0} \\exp(-k_1 t) + \\frac{k_1}{k_2 - k_1} \\exp(-k_2 t) C_{A,0} = C_{A,0} - C_{A}(t) - C_{B}(t)$$"
   ]
  },
  {
   "cell_type": "code",
   "execution_count": 2,
   "metadata": {},
   "outputs": [],
   "source": [
    "def batch_rxn_model(theta, t, CA0, T):\n",
    "    '''\n",
    "    \n",
    "    Predict batch reaction performance\n",
    "    \n",
    "    Arugments:\n",
    "        t: time, [hour], scalar or Numpy array\n",
    "        theta: fitted parameters: A1, A2, E1, E2\n",
    "        CA0: initial concentration, [mol/L], scalar or numpy array\n",
    "        T: temperature, [K], scalar or Numpy array\n",
    "    Returns:\n",
    "        CA, CB, CC: Concentrations at times t, [mol/L], three scalars or numpy arrays\n",
    "    '''\n",
    "    \n",
    "    def kinetics(A, E, T):\n",
    "        ''' Computes kinetics from Arrhenius equation\n",
    "        Arguments:\n",
    "            A: pre-exponential factor, [1 / hr]\n",
    "            E: activation energy, [kJ / mol]\n",
    "            T: temperature, [K]\n",
    "        Returns:\n",
    "            k: reaction rate coefficient, [1/hr] or [1/hr*L/mol]\n",
    "        '''\n",
    "        R = 8.31446261815324 # J / K / mole\n",
    "\n",
    "        return A * np.exp(-E*1000/(R*T))\n",
    "\n",
    "    # units: [1/hr]\n",
    "    k1 = kinetics(theta[0], theta[2], T)\n",
    "\n",
    "    # units: [1/hr]\n",
    "    k2 = kinetics(theta[1], theta[3], T)\n",
    "\n",
    "    # units: [mol / L]\n",
    "    CA = CA0 * np.exp(-k1*t);\n",
    "    CB = k1*CA0/(k2-k1) * (np.exp(-k1*t) - np.exp(-k2*t));\n",
    "    CC = CA0 - CA - CB;\n",
    "\n",
    "    return CA, CB, CC\n"
   ]
  },
  {
   "cell_type": "markdown",
   "metadata": {},
   "source": [
    "Now let's test the code by running it."
   ]
  },
  {
   "cell_type": "code",
   "execution_count": 3,
   "metadata": {},
   "outputs": [],
   "source": [
    "theta_true = [85., 370., 7.5, 15]\n",
    "time_exp = np.linspace(0,1,11) # hr\n",
    "CA0_exp1 = 1.0 # mol/L\n",
    "T_exp1 = 400 # K\n",
    "CA_exp1, CB_exp1, CC_exp1 = batch_rxn_model(theta_true, time_exp, CA0_exp1, T_exp1)"
   ]
  },
  {
   "cell_type": "markdown",
   "metadata": {},
   "source": [
    "## Generate Synthetic Experimental Dataset"
   ]
  },
  {
   "cell_type": "markdown",
   "metadata": {},
   "source": [
    "Let's construct a dataset containing: \n",
    "* Batch experiment at $T=400$ K and $C_{AO}=1.0$ mol/L\n",
    "* Batch experiment at $T=300$ K and $C_{AO}=3.0$ mol/L\n",
    "\n",
    "We also simulated the first experiment. Let's simulate the second."
   ]
  },
  {
   "cell_type": "code",
   "execution_count": 4,
   "metadata": {},
   "outputs": [],
   "source": [
    "theta_true = [85., 370., 7.5, 15]\n",
    "CA0_exp2 = 3.0 # mol/L\n",
    "T_exp2 = 300 # K\n",
    "CA_exp2, CB_exp2, CC_exp2 = batch_rxn_model(theta_true, time_exp, CA0_exp2, T_exp2)"
   ]
  },
  {
   "cell_type": "markdown",
   "metadata": {},
   "source": [
    "Next let's add random normally distributed noise."
   ]
  },
  {
   "cell_type": "code",
   "execution_count": 5,
   "metadata": {},
   "outputs": [],
   "source": [
    "n_time = len(time_exp)\n",
    "\n",
    "noise_std_dev = 0.05\n",
    "\n",
    "CA_exp1 += noise_std_dev*np.random.normal(size=n_time)\n",
    "CA_exp2 += noise_std_dev*np.random.normal(size=n_time)\n",
    "CB_exp1 += noise_std_dev*np.random.normal(size=n_time)\n",
    "CB_exp2 += noise_std_dev*np.random.normal(size=n_time)\n",
    "CC_exp1 += noise_std_dev*np.random.normal(size=n_time)\n",
    "CC_exp2 += noise_std_dev*np.random.normal(size=n_time)"
   ]
  },
  {
   "cell_type": "markdown",
   "metadata": {},
   "source": [
    "Now we'll package these into a numpy array:"
   ]
  },
  {
   "cell_type": "code",
   "execution_count": 6,
   "metadata": {},
   "outputs": [
    {
     "name": "stdout",
     "output_type": "stream",
     "text": [
      "[[ 1.00000000e+00  1.00000000e+00  4.00000000e+02  0.00000000e+00\n",
      "   1.04072476e+00  3.14683040e-02 -5.02625033e-03]\n",
      " [ 1.00000000e+00  1.00000000e+00  4.00000000e+02  1.00000000e-01\n",
      "   3.54009573e-01  4.26915365e-01  5.59779933e-02]\n",
      " [ 1.00000000e+00  1.00000000e+00  4.00000000e+02  2.00000000e-01\n",
      "   1.81174630e-01  4.79179286e-01  3.05303112e-01]\n",
      " [ 1.00000000e+00  1.00000000e+00  4.00000000e+02  3.00000000e-01\n",
      "   1.14729931e-01  3.84311569e-01  5.11398302e-01]\n",
      " [ 1.00000000e+00  1.00000000e+00  4.00000000e+02  4.00000000e-01\n",
      "  -1.28766764e-02  3.08431710e-01  7.67664067e-01]\n",
      " [ 1.00000000e+00  1.00000000e+00  4.00000000e+02  5.00000000e-01\n",
      "   2.93937868e-02  3.41036682e-01  7.68893551e-01]\n",
      " [ 1.00000000e+00  1.00000000e+00  4.00000000e+02  6.00000000e-01\n",
      "  -1.34081659e-02  1.34896075e-01  7.63848905e-01]\n",
      " [ 1.00000000e+00  1.00000000e+00  4.00000000e+02  7.00000000e-01\n",
      "  -5.73520154e-02  1.08496995e-01  9.46650713e-01]\n",
      " [ 1.00000000e+00  1.00000000e+00  4.00000000e+02  8.00000000e-01\n",
      "   4.19398594e-02 -1.67338690e-02  9.87399864e-01]\n",
      " [ 1.00000000e+00  1.00000000e+00  4.00000000e+02  9.00000000e-01\n",
      "  -4.46965147e-02  6.81772740e-02  1.01407251e+00]\n",
      " [ 1.00000000e+00  1.00000000e+00  4.00000000e+02  1.00000000e+00\n",
      "   5.20138436e-02  1.12847933e-01  9.63371481e-01]]\n"
     ]
    }
   ],
   "source": [
    "# Create empty array for experiment 1\n",
    "exp1 = np.zeros((n_time,7))\n",
    "\n",
    "# Assign 1 to column 0. This is the experiment number.\n",
    "exp1[:,0] = 1\n",
    "\n",
    "# Copy CA0 into column 1\n",
    "exp1[:,1] = CA0_exp1\n",
    "\n",
    "# Copy T into column 2 \n",
    "exp1[:,2] = T_exp1\n",
    "\n",
    "# Copy time data into column 3\n",
    "exp1[:,3] = time_exp\n",
    "\n",
    "# Copy concentration data into remaining columns\n",
    "exp1[:,4] = CA_exp1\n",
    "exp1[:,5] = CB_exp1\n",
    "exp1[:,6] = CC_exp1\n",
    "\n",
    "print(exp1)"
   ]
  },
  {
   "cell_type": "code",
   "execution_count": 7,
   "metadata": {},
   "outputs": [
    {
     "name": "stdout",
     "output_type": "stream",
     "text": [
      "[[ 2.00000000e+00  3.00000000e+00  3.00000000e+02  0.00000000e+00\n",
      "   2.98711428e+00 -4.98836081e-02 -5.23500207e-02]\n",
      " [ 2.00000000e+00  3.00000000e+00  3.00000000e+02  1.00000000e-01\n",
      "   1.95614928e+00  9.24062136e-01  9.60222407e-02]\n",
      " [ 2.00000000e+00  3.00000000e+00  3.00000000e+02  2.00000000e-01\n",
      "   1.26047508e+00  1.49680059e+00  2.27434220e-01]\n",
      " [ 2.00000000e+00  3.00000000e+00  3.00000000e+02  3.00000000e-01\n",
      "   8.92211196e-01  1.82883896e+00  2.46313290e-01]\n",
      " [ 2.00000000e+00  3.00000000e+00  3.00000000e+02  4.00000000e-01\n",
      "   5.98122174e-01  1.86206146e+00  4.35894839e-01]\n",
      " [ 2.00000000e+00  3.00000000e+00  3.00000000e+02  5.00000000e-01\n",
      "   3.63895971e-01  1.95869126e+00  6.63342416e-01]\n",
      " [ 2.00000000e+00  3.00000000e+00  3.00000000e+02  6.00000000e-01\n",
      "   2.59462322e-01  1.96688460e+00  9.10111281e-01]\n",
      " [ 2.00000000e+00  3.00000000e+00  3.00000000e+02  7.00000000e-01\n",
      "   1.81632463e-01  1.86419714e+00  1.06697546e+00]\n",
      " [ 2.00000000e+00  3.00000000e+00  3.00000000e+02  8.00000000e-01\n",
      "   1.01320878e-01  1.71097404e+00  1.28319140e+00]\n",
      " [ 2.00000000e+00  3.00000000e+00  3.00000000e+02  9.00000000e-01\n",
      "   4.81904894e-02  1.59624316e+00  1.35329100e+00]\n",
      " [ 2.00000000e+00  3.00000000e+00  3.00000000e+02  1.00000000e+00\n",
      "   1.22496049e-01  1.55220287e+00  1.46989977e+00]]\n"
     ]
    }
   ],
   "source": [
    "# Create empty array for experiment 2\n",
    "exp2 = np.zeros((n_time,7))\n",
    "\n",
    "# Assign 2 to column 0. This is the experiment number.\n",
    "exp2[:,0] = 2\n",
    "\n",
    "# Copy CA0 into column 1\n",
    "exp2[:,1] = CA0_exp2\n",
    "\n",
    "# Copy T into column 2 \n",
    "exp2[:,2] = T_exp2\n",
    "\n",
    "# Copy time data into column 3\n",
    "exp2[:,3] = time_exp\n",
    "\n",
    "# Copy concentration data into remaining columns\n",
    "exp2[:,4] = CA_exp2\n",
    "exp2[:,5] = CB_exp2\n",
    "exp2[:,6] = CC_exp2\n",
    "\n",
    "print(exp2)"
   ]
  },
  {
   "cell_type": "code",
   "execution_count": 8,
   "metadata": {},
   "outputs": [
    {
     "data": {
      "text/html": [
       "<div>\n",
       "<style scoped>\n",
       "    .dataframe tbody tr th:only-of-type {\n",
       "        vertical-align: middle;\n",
       "    }\n",
       "\n",
       "    .dataframe tbody tr th {\n",
       "        vertical-align: top;\n",
       "    }\n",
       "\n",
       "    .dataframe thead th {\n",
       "        text-align: right;\n",
       "    }\n",
       "</style>\n",
       "<table border=\"1\" class=\"dataframe\">\n",
       "  <thead>\n",
       "    <tr style=\"text-align: right;\">\n",
       "      <th></th>\n",
       "      <th>exp</th>\n",
       "      <th>CA0</th>\n",
       "      <th>temp</th>\n",
       "      <th>time</th>\n",
       "      <th>CA</th>\n",
       "      <th>CB</th>\n",
       "      <th>CC</th>\n",
       "    </tr>\n",
       "  </thead>\n",
       "  <tbody>\n",
       "    <tr>\n",
       "      <th>0</th>\n",
       "      <td>1.0</td>\n",
       "      <td>1.0</td>\n",
       "      <td>400.0</td>\n",
       "      <td>0.0</td>\n",
       "      <td>1.040725</td>\n",
       "      <td>0.031468</td>\n",
       "      <td>-0.005026</td>\n",
       "    </tr>\n",
       "    <tr>\n",
       "      <th>1</th>\n",
       "      <td>1.0</td>\n",
       "      <td>1.0</td>\n",
       "      <td>400.0</td>\n",
       "      <td>0.1</td>\n",
       "      <td>0.354010</td>\n",
       "      <td>0.426915</td>\n",
       "      <td>0.055978</td>\n",
       "    </tr>\n",
       "    <tr>\n",
       "      <th>2</th>\n",
       "      <td>1.0</td>\n",
       "      <td>1.0</td>\n",
       "      <td>400.0</td>\n",
       "      <td>0.2</td>\n",
       "      <td>0.181175</td>\n",
       "      <td>0.479179</td>\n",
       "      <td>0.305303</td>\n",
       "    </tr>\n",
       "    <tr>\n",
       "      <th>3</th>\n",
       "      <td>1.0</td>\n",
       "      <td>1.0</td>\n",
       "      <td>400.0</td>\n",
       "      <td>0.3</td>\n",
       "      <td>0.114730</td>\n",
       "      <td>0.384312</td>\n",
       "      <td>0.511398</td>\n",
       "    </tr>\n",
       "    <tr>\n",
       "      <th>4</th>\n",
       "      <td>1.0</td>\n",
       "      <td>1.0</td>\n",
       "      <td>400.0</td>\n",
       "      <td>0.4</td>\n",
       "      <td>-0.012877</td>\n",
       "      <td>0.308432</td>\n",
       "      <td>0.767664</td>\n",
       "    </tr>\n",
       "  </tbody>\n",
       "</table>\n",
       "</div>"
      ],
      "text/plain": [
       "   exp  CA0   temp  time        CA        CB        CC\n",
       "0  1.0  1.0  400.0   0.0  1.040725  0.031468 -0.005026\n",
       "1  1.0  1.0  400.0   0.1  0.354010  0.426915  0.055978\n",
       "2  1.0  1.0  400.0   0.2  0.181175  0.479179  0.305303\n",
       "3  1.0  1.0  400.0   0.3  0.114730  0.384312  0.511398\n",
       "4  1.0  1.0  400.0   0.4 -0.012877  0.308432  0.767664"
      ]
     },
     "execution_count": 8,
     "metadata": {},
     "output_type": "execute_result"
    }
   ],
   "source": [
    "# Vertically stack data\n",
    "exps = np.vstack((exp1,exp2))\n",
    "\n",
    "# Create a dataframe with specific columns\n",
    "# Pro Tip: Use 'temp' for temeprature instead of 'T'.\n",
    "#   'T' can be confused with transpose.\n",
    "df = pd.DataFrame(exps, columns=['exp', 'CA0','temp','time', 'CA','CB','CC'])\n",
    "\n",
    "df.head()"
   ]
  },
  {
   "cell_type": "markdown",
   "metadata": {},
   "source": [
    "Finally, let's plot the data and the true model."
   ]
  },
  {
   "cell_type": "code",
   "execution_count": 9,
   "metadata": {},
   "outputs": [],
   "source": [
    "def plot_data_and_model(theta_, data1):\n",
    "    '''\n",
    "    Plot regression results\n",
    "\n",
    "    Args:\n",
    "        theta: model parameters\n",
    "        data: Pandas data frame\n",
    "\n",
    "    Returns:\n",
    "        Nothing\n",
    "    '''\n",
    "    \n",
    "    # Set axed font size\n",
    "    fs = 20\n",
    "\n",
    "    # loop over experiments\n",
    "    for i in data1.exp.unique():\n",
    "\n",
    "        ## Plot 1: Data Versus Prediction\n",
    "        \n",
    "        # delcare figure object\n",
    "        fig, ax = plt.subplots(figsize=(6,4))\n",
    "        # select the rows that correspond to the specific experiment number\n",
    "        j = (data1.exp == i)\n",
    "\n",
    "        # determine experiment conditions\n",
    "        CA0_ = float(data1.CA0[j].mode())\n",
    "        T_ = float(data1.temp[j].mode())\n",
    "        \n",
    "        # Plot dataset 1\n",
    "        plt.plot(data1.time[j], data1.CA[j], marker='o',markersize=16,linestyle=\"\",color=\"blue\",label=\"$C_{A}$ Data\")\n",
    "        plt.plot(data1.time[j], data1.CB[j], marker='s',markersize=16,linestyle=\"\",color=\"green\",label=\"$C_{B}$ Data\")\n",
    "        plt.plot(data1.time[j], data1.CC[j], marker='^',markersize=16,linestyle=\"\",color=\"red\",label=\"$C_{C}$ Data\")\n",
    "\n",
    "        \n",
    "        # determine time set\n",
    "        t_plot = np.linspace(np.min(data1.time[j]),np.max(data1.time[j]),21)\n",
    "        \n",
    "        # Evaluate model\n",
    "        CA_, CB_, CC_ = batch_rxn_model(theta_,t_plot,CA0_,T_)\n",
    "        \n",
    "        # Plot model predictions\n",
    "        plt.plot(t_plot, CA_, linestyle=\"-\",color=\"blue\",label=\"$C_{A}$ Model\",linewidth=4)\n",
    "        plt.plot(t_plot, CB_, linestyle=\":\",color=\"green\",label=\"$C_{B}$ Model\",linewidth=4)\n",
    "        plt.plot(t_plot, CC_, linestyle=\"--\",color=\"red\",label=\"$C_{C}$ Model\",linewidth=4)\n",
    "\n",
    "        # Add \"extras\" to the plot\n",
    "        plt.xlabel(\"Time [hours]\",fontsize = fs, fontweight = 'bold')\n",
    "        plt.ylabel(\"Concentration [mol L$^{-1}$]\",fontsize = fs, fontweight = 'bold')\n",
    "        plt.title(\"Experiment \"+str(round(i))+\":  T=\"+str(T_)+\" K,  CA$_0$=\"+str(CA0_)+\" mol L$^{-1}$\",fontsize=fs,loc='left', fontweight='bold')\n",
    "        plt.legend(fontsize=fs,loc='center left',bbox_to_anchor=(1.0, 0.5))\n",
    "        \n",
    "        # define tick size\n",
    "        plt.xticks(fontsize=fs)\n",
    "        plt.yticks(fontsize=fs)\n",
    "        plt.tick_params(direction=\"in\",top=True, right=True)\n",
    "        \n",
    "        plt.grid(False)\n",
    "        plt.show()"
   ]
  },
  {
   "cell_type": "code",
   "execution_count": 10,
   "metadata": {},
   "outputs": [
    {
     "data": {
      "image/png": "[encoded data removed]",
      "text/plain": [
       "<Figure size 432x288 with 1 Axes>"
      ]
     },
     "metadata": {
      "needs_background": "light"
     },
     "output_type": "display_data"
    },
    {
     "data": {
      "image/png": "[encoded data removed]",
      "text/plain": [
       "<Figure size 432x288 with 1 Axes>"
      ]
     },
     "metadata": {
      "needs_background": "light"
     },
     "output_type": "display_data"
    }
   ],
   "source": [
    "plot_data_and_model(theta_true, df)"
   ]
  },
  {
   "cell_type": "markdown",
   "metadata": {},
   "source": [
    "## Perform Nonlinear Regression"
   ]
  },
  {
   "cell_type": "markdown",
   "metadata": {},
   "source": [
    "### Solve Nonlinear Least Squares Problem"
   ]
  },
  {
   "cell_type": "code",
   "execution_count": 11,
   "metadata": {},
   "outputs": [],
   "source": [
    "# nonlinear parameter estimation with full physics model\n",
    "def regression_func(theta, data):\n",
    "    '''\n",
    "    Function to define regression function for least-squares fitting\n",
    "    \n",
    "    Note: This only uses CB measurements\n",
    "    \n",
    "    Arguments:\n",
    "        theta: parameter vector\n",
    "        data: Pandas data frame\n",
    "    Returns:\n",
    "        e: residual vector\n",
    "    '''\n",
    "    # determine number of entries in data frame\n",
    "    n = len(data)\n",
    "\n",
    "    # initialize matrix of residuals\n",
    "    # rows: each row of Pandas data frame\n",
    "    # columns: species CA, CB, CC\n",
    "    e = np.zeros(n)\n",
    "\n",
    "    # loop over experiments\n",
    "    for i in data.exp.unique():\n",
    "\n",
    "        # select the rows that correspond to the specific experiment number\n",
    "        j = (data.exp == i)\n",
    "\n",
    "        # determine experiment conditions\n",
    "        CA0_ = float(data.CA0[j].mode())\n",
    "        T_ = float(data.temp[j].mode())\n",
    "\n",
    "        # determine experiment time\n",
    "        t = data.time[j].to_numpy()\n",
    "\n",
    "        CA, CB, CC = batch_rxn_model(theta,t,CA0_,T_)\n",
    "\n",
    "        # Only use CB measurements\n",
    "        e[j] = CB - data.CB[j]\n",
    "\n",
    "    return e"
   ]
  },
  {
   "cell_type": "markdown",
   "metadata": {},
   "source": [
    "Let's test our function."
   ]
  },
  {
   "cell_type": "code",
   "execution_count": 12,
   "metadata": {},
   "outputs": [
    {
     "name": "stdout",
     "output_type": "stream",
     "text": [
      "[-0.0314683   0.04339008  0.02679875  0.03163894  0.00092314 -0.12178285\n",
      "  0.01652604 -0.00545166  0.08625292 -0.02151933 -0.08163153  0.04988361\n",
      "  0.05712     0.04398534  0.00198392  0.08844332  0.00572632 -0.05243084\n",
      " -0.03655133  0.0103334   0.0101638  -0.06242311]\n"
     ]
    }
   ],
   "source": [
    "e_test = regression_func(theta_true, df)\n",
    "print(e_test)"
   ]
  },
  {
   "cell_type": "markdown",
   "metadata": {},
   "source": [
    "Finally, we can compute the best fit estimate."
   ]
  },
  {
   "cell_type": "code",
   "execution_count": 13,
   "metadata": {},
   "outputs": [
    {
     "name": "stdout",
     "output_type": "stream",
     "text": [
      "   Iteration     Total nfev        Cost      Cost reduction    Step norm     Optimality   \n",
      "       0              1         2.9015e-02                                    8.90e-01    \n",
      "       1              2         2.3457e-02      5.56e-03       1.35e+00       1.11e-01    \n",
      "       2              4         2.3155e-02      3.02e-04       6.09e+00       4.11e-02    \n",
      "       3              6         2.2912e-02      2.44e-04       5.06e+00       3.33e-02    \n",
      "       4              7         2.2677e-02      2.35e-04       1.02e+01       1.54e-01    \n",
      "       5              8         2.2419e-02      2.57e-04       5.29e+00       1.90e-03    \n",
      "       6             10         2.2291e-02      1.29e-04       5.21e+00       5.66e-02    \n",
      "       7             11         2.2204e-02      8.66e-05       7.95e+00       6.49e-03    \n",
      "       8             12         2.2154e-02      5.01e-05       4.63e+00       3.26e-02    \n",
      "       9             13         2.2143e-02      1.05e-05       1.97e-01       4.59e-04    \n",
      "      10             14         2.2142e-02      1.08e-06       1.04e+00       2.61e-04    \n",
      "      11             15         2.2142e-02      2.34e-07       1.16e+00       4.68e-05    \n",
      "      12             16         2.2142e-02      1.60e-08       3.68e-01       5.13e-06    \n",
      "      13             17         2.2142e-02      1.05e-10       3.17e-02       1.20e-07    \n",
      "`ftol` termination condition is satisfied.\n",
      "Function evaluations 17, initial cost 2.9015e-02, final cost 2.2142e-02, first-order optimality 1.20e-07.\n"
     ]
    }
   ],
   "source": [
    "# Initial guess\n",
    "theta0 = [85., 370., 7.5, 15]\n",
    "\n",
    "# Bounds\n",
    "bnds = ([50, 300, 5, 10,], [200, 400, 20, 50])\n",
    "\n",
    "# Define function that includes data\n",
    "my_func = lambda theta_ : regression_func(theta_, df)\n",
    "\n",
    "# Perform nonlinear least squares\n",
    "nl_results = optimize.least_squares(my_func, theta0, bounds=bnds, method='trf',verbose=2)\n"
   ]
  },
  {
   "cell_type": "code",
   "execution_count": 14,
   "metadata": {},
   "outputs": [
    {
     "name": "stdout",
     "output_type": "stream",
     "text": [
      "theta_hat = [ 50.         391.84386085   6.31244448  15.20877055]\n"
     ]
    }
   ],
   "source": [
    "theta_hat = nl_results.x\n",
    "print(\"theta_hat =\",theta_hat)"
   ]
  },
  {
   "cell_type": "markdown",
   "metadata": {},
   "source": [
    "### Visualize Results"
   ]
  },
  {
   "cell_type": "markdown",
   "metadata": {},
   "source": [
    "First let's plot the data and model predictions."
   ]
  },
  {
   "cell_type": "code",
   "execution_count": 15,
   "metadata": {},
   "outputs": [
    {
     "data": {
      "image/png": "[encoded data removed]",
      "text/plain": [
       "<Figure size 432x288 with 1 Axes>"
      ]
     },
     "metadata": {
      "needs_background": "light"
     },
     "output_type": "display_data"
    },
    {
     "data": {
      "image/png": "[encoded data removed]",
      "text/plain": [
       "<Figure size 432x288 with 1 Axes>"
      ]
     },
     "metadata": {
      "needs_background": "light"
     },
     "output_type": "display_data"
    }
   ],
   "source": [
    "plot_data_and_model(theta_hat, df)"
   ]
  },
  {
   "cell_type": "markdown",
   "metadata": {},
   "source": [
    "Next, let's look at the residuals. Recall, we only used $C_{B}$ in our regression formulation."
   ]
  },
  {
   "cell_type": "code",
   "execution_count": 16,
   "metadata": {},
   "outputs": [
    {
     "data": {
      "image/png": "[encoded data removed]",
      "text/plain": [
       "<Figure size 432x288 with 1 Axes>"
      ]
     },
     "metadata": {
      "needs_background": "light"
     },
     "output_type": "display_data"
    }
   ],
   "source": [
    "CB_residuals = regression_func(theta_hat, df)\n",
    "\n",
    "# define font size\n",
    "fs = 20\n",
    "\n",
    "plt.hist(CB_residuals,color='green')\n",
    "plt.xlabel(\"$C_{B}$ residuals [mol L$^{-1}$]\",fontsize=fs,fontweight = 'bold')\n",
    "plt.ylabel(\"Count\",fontsize=fs,fontweight = 'bold')\n",
    "\n",
    "# define tick size\n",
    "plt.xlim((-0.07,0.07))\n",
    "plt.xticks(fontsize=fs,ticks=np.arange(-0.06,0.07,0.03))\n",
    "plt.yticks(fontsize=fs)\n",
    "plt.tick_params(direction=\"in\",top=True, right=True)\n",
    "\n",
    "# finish plot\n",
    "plt.show()"
   ]
  },
  {
   "cell_type": "markdown",
   "metadata": {},
   "source": [
    "### Estimate Uncertainty"
   ]
  },
  {
   "cell_type": "markdown",
   "metadata": {},
   "source": [
    "First let's estimate the variance of the residuals."
   ]
  },
  {
   "cell_type": "code",
   "execution_count": 17,
   "metadata": {},
   "outputs": [],
   "source": [
    "sigre = (CB_residuals.T @ CB_residuals)/(len(CB_residuals) - len(theta_hat))"
   ]
  },
  {
   "cell_type": "markdown",
   "metadata": {},
   "source": [
    "How does the standard deviation of the residuals compare to the standard deviation of the measurement noise?"
   ]
  },
  {
   "cell_type": "code",
   "execution_count": 18,
   "metadata": {},
   "outputs": [
    {
     "name": "stdout",
     "output_type": "stream",
     "text": [
      "Estimated Standard Deviation of Residuals = 0.04960068626680264 mol/L\n",
      "Standard Deviation of Measurement Error in Synthetic Data = 0.05 mol/L\n"
     ]
    }
   ],
   "source": [
    "print(\"Estimated Standard Deviation of Residuals =\",np.sqrt(sigre),\"mol/L\")\n",
    "print(\"Standard Deviation of Measurement Error in Synthetic Data =\",noise_std_dev,\"mol/L\")"
   ]
  },
  {
   "cell_type": "markdown",
   "metadata": {},
   "source": [
    "Estimating the covariance matrix using a linearization approximation is easy!"
   ]
  },
  {
   "cell_type": "code",
   "execution_count": 19,
   "metadata": {},
   "outputs": [
    {
     "name": "stdout",
     "output_type": "stream",
     "text": [
      "Covariance matrix:\n",
      " [[ 7.76695419e+02 -3.80978515e+02  3.90663517e+01 -2.34195169e+00]\n",
      " [-3.80978515e+02  1.26311048e+04 -1.83535903e+01  8.23507796e+01]\n",
      " [ 3.90663517e+01 -1.83535903e+01  1.97014752e+00 -1.11296861e-01]\n",
      " [-2.34195169e+00  8.23507796e+01 -1.11296861e-01  5.40729594e-01]]\n"
     ]
    }
   ],
   "source": [
    "Sigma_theta = sigre * np.linalg.inv(nl_results.jac.T @ nl_results.jac)\n",
    "print(\"Covariance matrix:\\n\",Sigma_theta)"
   ]
  },
  {
   "cell_type": "markdown",
   "metadata": {},
   "source": [
    "Recall the rows/colums are $A_1$, $A_2$, $E_1$, and $E_2$.\n",
    "\n",
    "We can easily convert this to a correlation matrix."
   ]
  },
  {
   "cell_type": "code",
   "execution_count": 20,
   "metadata": {},
   "outputs": [
    {
     "name": "stdout",
     "output_type": "stream",
     "text": [
      "Correlation matrix:\n",
      " [[ 1.         -0.12163385  0.99868404 -0.11427796]\n",
      " [-0.12163385  1.         -0.11634587  0.99645336]\n",
      " [ 0.99868404 -0.11634587  1.         -0.10783096]\n",
      " [-0.11427796  0.99645336 -0.10783096  1.        ]]\n"
     ]
    }
   ],
   "source": [
    "corr_theta = Sigma_theta.copy()\n",
    "for r in range(len(theta_hat)):\n",
    "    for c in range(len(theta_hat)):\n",
    "        corr_theta[r,c] = corr_theta[r,c]/np.sqrt(Sigma_theta[r,r])/np.sqrt(Sigma_theta[c,c])\n",
    "        \n",
    "print(\"Correlation matrix:\\n\",corr_theta)"
   ]
  },
  {
   "cell_type": "markdown",
   "metadata": {},
   "source": [
    "Discussion: Why are the pairs $A_1$, $E_2$ and $A_2$, $E_2$ highly correlated when measuring only $C_B$?"
   ]
  },
  {
   "cell_type": "markdown",
   "metadata": {},
   "source": [
    "## Fisher Information Matrix"
   ]
  },
  {
   "cell_type": "markdown",
   "metadata": {},
   "source": [
    "### Model Sensitivity"
   ]
  },
  {
   "cell_type": "markdown",
   "metadata": {},
   "source": [
    "The first step of calculating the Fisher Information Matrix (FIM) is computing the sensitivity of all model outputs to each model parameter."
   ]
  },
  {
   "cell_type": "code",
   "execution_count": 21,
   "metadata": {},
   "outputs": [
    {
     "name": "stdout",
     "output_type": "stream",
     "text": [
      "[[ 1.00000000e+00 -0.00000000e+00  0.00000000e+00]\n",
      " [ 4.72689411e-01  4.22892528e-01  1.04418062e-01]\n",
      " [ 2.23435279e-01  4.82052269e-01  2.94512452e-01]\n",
      " [ 1.05615490e-01  4.16116156e-01  4.78268353e-01]\n",
      " [ 4.99233239e-02  3.22298231e-01  6.27778445e-01]\n",
      " [ 2.35982266e-02  2.36150765e-01  7.40251008e-01]\n",
      " [ 1.11546318e-02  1.67540173e-01  8.21305196e-01]\n",
      " [ 5.27267633e-03  1.16500630e-01  8.78226694e-01]\n",
      " [ 2.49233827e-03  7.99594239e-02  9.17548238e-01]\n",
      " [ 1.17810191e-03  5.44032128e-02  9.44418685e-01]\n",
      " [ 5.56876296e-04  3.67962341e-02  9.62646890e-01]\n",
      " [ 3.00000000e+00 -0.00000000e+00  0.00000000e+00]\n",
      " [ 2.01495991e+00  9.40139043e-01  4.49010510e-02]\n",
      " [ 1.35335447e+00  1.49228533e+00  1.54360197e-01]\n",
      " [ 9.08985002e-01  1.79052409e+00  3.00490904e-01]\n",
      " [ 6.10522778e-01  1.92434990e+00  4.65127317e-01]\n",
      " [ 4.10059640e-01  1.95335544e+00  6.36584916e-01]\n",
      " [ 2.75417911e-01  1.91709328e+00  8.07488812e-01]\n",
      " [ 1.84985349e-01  1.84169586e+00  9.73318791e-01]\n",
      " [ 1.24246021e-01  1.74431853e+00  1.13143545e+00]\n",
      " [ 8.34502501e-02  1.63612055e+00  1.28042920e+00]\n",
      " [ 5.60496361e-02  1.52426456e+00  1.41968580e+00]]\n"
     ]
    }
   ],
   "source": [
    "def calc_model_output(theta_,data):\n",
    "    '''\n",
    "    Assembles matrix out model outputs (columns) by experimental conditions (rows)\n",
    "    \n",
    "    Arguments:\n",
    "        theta_: values of theta parameters, numpy array\n",
    "        data: data frame of experimental conditions\n",
    "    \n",
    "    Returns:\n",
    "        model_output: matrix\n",
    "    '''\n",
    "    \n",
    "    # Allocate matrix of model outputs\n",
    "    model_output = np.zeros((len(data),3))\n",
    "    \n",
    "    # Iterate over rows in pandas dataframe (each row is an experiment)\n",
    "    for i,r in data.iterrows():\n",
    "        # Evaluate model and store results\n",
    "        model_output[i,:] = batch_rxn_model(theta_, r.time, r.CA0, r.temp)\n",
    "        \n",
    "    return model_output\n",
    "\n",
    "# Test function at nominal values\n",
    "print(calc_model_output(theta_hat,df))"
   ]
  },
  {
   "cell_type": "markdown",
   "metadata": {},
   "source": [
    "We'll use finite difference to estimate the sensitivities."
   ]
  },
  {
   "cell_type": "code",
   "execution_count": 22,
   "metadata": {},
   "outputs": [
    {
     "name": "stdout",
     "output_type": "stream",
     "text": [
      "CA sensitivity:\n",
      " [[ 0.00000000e+00  0.00000000e+00  0.00000000e+00  0.00000000e+00]\n",
      " [-7.08388180e-03  0.00000000e+00  1.06499393e-01  0.00000000e+00]\n",
      " [-6.69695182e-03  0.00000000e+00  1.00682271e-01  0.00000000e+00]\n",
      " [-4.74836732e-03  0.00000000e+00  7.13871650e-02  0.00000000e+00]\n",
      " [-2.99267060e-03  0.00000000e+00  4.49919426e-02  0.00000000e+00]\n",
      " [-1.76825463e-03  0.00000000e+00  2.65840185e-02  0.00000000e+00]\n",
      " [-1.00300229e-03  0.00000000e+00  1.50791809e-02  0.00000000e+00]\n",
      " [-5.53126652e-04  0.00000000e+00  8.31573064e-03  0.00000000e+00]\n",
      " [-2.98808127e-04  0.00000000e+00  4.49229464e-03  0.00000000e+00]\n",
      " [-1.58898867e-04  0.00000000e+00  2.38889262e-03  0.00000000e+00]\n",
      " [-8.34553466e-05  0.00000000e+00  1.25467138e-03  0.00000000e+00]\n",
      " [ 0.00000000e+00  0.00000000e+00  0.00000000e+00  0.00000000e+00]\n",
      " [-1.60396044e-02  0.00000000e+00  3.21520166e-01  0.00000000e+00]\n",
      " [-2.15461065e-02  0.00000000e+00  4.31900162e-01  0.00000000e+00]\n",
      " [-2.17072704e-02  0.00000000e+00  4.35130755e-01  0.00000000e+00]\n",
      " [-1.94396798e-02  0.00000000e+00  3.89676011e-01  0.00000000e+00]\n",
      " [-1.63209064e-02  0.00000000e+00  3.27158974e-01  0.00000000e+00]\n",
      " [-1.31543888e-02  0.00000000e+00  2.63684887e-01  0.00000000e+00]\n",
      " [-1.03077201e-02  0.00000000e+00  2.06622296e-01  0.00000000e+00]\n",
      " [-7.91224486e-03  0.00000000e+00  1.58604054e-01  0.00000000e+00]\n",
      " [-5.97857106e-03  0.00000000e+00  1.19842804e-01  0.00000000e+00]\n",
      " [-4.46169666e-03  0.00000000e+00  8.94364608e-02  0.00000000e+00]]\n",
      "CB sensitivity:\n",
      " [[ 0.00000000e+00  0.00000000e+00  0.00000000e+00  0.00000000e+00]\n",
      " [ 5.47071170e-03 -2.30880609e-04 -8.22469225e-02  2.72023445e-02]\n",
      " [ 3.24030577e-03 -5.54563137e-04 -4.87149008e-02  6.53386064e-02]\n",
      " [ 5.52203033e-04 -7.53739951e-04 -8.30184491e-03  8.88056112e-02]\n",
      " [-1.06182527e-03 -8.13997461e-04  1.59635281e-02  9.59051486e-02]\n",
      " [-1.70091564e-03 -7.76700265e-04  2.55716412e-02  9.15107947e-02]\n",
      " [-1.75353974e-03 -6.86379652e-04  2.63627943e-02  8.08692231e-02]\n",
      " [-1.53310656e-03 -5.75969937e-04  2.30487921e-02  6.78607553e-02]\n",
      " [-1.22796217e-03 -4.65778575e-04  1.84612378e-02  5.48780132e-02]\n",
      " [-9.32029735e-04 -3.66438727e-04  1.40121764e-02  4.31737963e-02]\n",
      " [-6.82605754e-04 -2.82246491e-04  1.02623252e-02  3.32542705e-02]\n",
      " [ 0.00000000e+00  0.00000000e+00  0.00000000e+00  0.00000000e+00]\n",
      " [ 1.52538592e-02 -1.11165038e-04 -3.05769595e-01  1.74632790e-02]\n",
      " [ 1.91860072e-02 -3.70046116e-04 -3.84591045e-01  5.81317561e-02]\n",
      " [ 1.76968386e-02 -6.96272673e-04 -3.54740076e-01  1.09379756e-01]\n",
      " [ 1.40233269e-02 -1.03992909e-03 -2.81103091e-01  1.63365872e-01]\n",
      " [ 9.85272761e-03 -1.37109585e-03 -1.97501792e-01  2.15389941e-01]\n",
      " [ 5.99200192e-03 -1.67287316e-03 -1.20112031e-01  2.62797130e-01]\n",
      " [ 2.76465068e-03 -1.93673914e-03 -5.54185083e-02  3.04248703e-01]\n",
      " [ 2.41801124e-04 -2.15947106e-03 -4.84699830e-03  3.39238393e-01]\n",
      " [-1.62638795e-03 -2.34111279e-03  3.26015844e-02  3.67773088e-01]\n",
      " [-2.93845120e-03 -2.48364113e-03  5.89024073e-02  3.90163331e-01]]\n",
      "CC sensitivity:\n",
      " [[ 0.00000000e+00  0.00000000e+00  0.00000000e+00  0.00000000e+00]\n",
      " [ 1.61317009e-03  2.30880609e-04 -2.42524708e-02 -2.72023445e-02]\n",
      " [ 3.45664606e-03  5.54563137e-04 -5.19673702e-02 -6.53386064e-02]\n",
      " [ 4.19616428e-03  7.53739951e-04 -6.30853200e-02 -8.88056112e-02]\n",
      " [ 4.05449586e-03  8.13997458e-04 -6.09554707e-02 -9.59051485e-02]\n",
      " [ 3.46917027e-03  7.76700265e-04 -5.21556598e-02 -9.15107947e-02]\n",
      " [ 2.75654203e-03  6.86379653e-04 -4.14419752e-02 -8.08692231e-02]\n",
      " [ 2.08623321e-03  5.75969938e-04 -3.13645227e-02 -6.78607553e-02]\n",
      " [ 1.52677030e-03  4.65778577e-04 -2.29535324e-02 -5.48780132e-02]\n",
      " [ 1.09092860e-03  3.66438724e-04 -1.64010690e-02 -4.31737963e-02]\n",
      " [ 7.66061103e-04  2.82246487e-04 -1.15169966e-02 -3.32542705e-02]\n",
      " [ 0.00000000e+00  0.00000000e+00  0.00000000e+00  0.00000000e+00]\n",
      " [ 7.85745208e-04  1.11165038e-04 -1.57505709e-02 -1.74632790e-02]\n",
      " [ 2.36009930e-03  3.70046116e-04 -4.73091171e-02 -5.81317561e-02]\n",
      " [ 4.01043180e-03  6.96272673e-04 -8.03906790e-02 -1.09379756e-01]\n",
      " [ 5.41635291e-03  1.03992909e-03 -1.08572920e-01 -1.63365872e-01]\n",
      " [ 6.46817877e-03  1.37109585e-03 -1.29657182e-01 -2.15389941e-01]\n",
      " [ 7.16238688e-03  1.67287316e-03 -1.43572856e-01 -2.62797130e-01]\n",
      " [ 7.54306945e-03  1.93673914e-03 -1.51203787e-01 -3.04248703e-01]\n",
      " [ 7.67044374e-03  2.15947106e-03 -1.53757055e-01 -3.39238393e-01]\n",
      " [ 7.60495901e-03  2.34111279e-03 -1.52444388e-01 -3.67773088e-01]\n",
      " [ 7.40014786e-03  2.48364113e-03 -1.48338868e-01 -3.90163331e-01]]\n"
     ]
    }
   ],
   "source": [
    "def calc_model_sensitivity(theta_,data,verbose=False):\n",
    "    '''\n",
    "    Estimate the model sensitivity matrix using forward finite difference\n",
    "    \n",
    "    Arguments:\n",
    "        model_function: Python function that computes model outputs\n",
    "        theta_: nominal value of theta\n",
    "        exp_design_df: data frame containing experimental data\n",
    "    '''\n",
    "    \n",
    "    # Evaluate model at nominal point\n",
    "    nominal_output = calc_model_output(theta_,data)\n",
    "    \n",
    "    # Extract number of experiments and number of measured/output variables\n",
    "    (n_exp, n_output) = nominal_output.shape\n",
    "    \n",
    "    # Set finite difference step size\n",
    "    eps = 1E-5\n",
    "    \n",
    "    # Extract number of parameters\n",
    "    n_param = len(theta_)\n",
    "    \n",
    "    # Create list to store model sensitity matrices\n",
    "    model_sensitivity = []\n",
    "    \n",
    "    # Loop over number of outputs\n",
    "    for i in range(n_output):\n",
    "        \n",
    "        # Allocate empty sensitivty matrix\n",
    "        model_sensitivity.append(np.zeros((n_exp,n_param)))\n",
    "    \n",
    "    # Loop over parameters\n",
    "    for p in range(n_param):\n",
    "        \n",
    "        # Create perturbation vector\n",
    "        perturb = np.zeros(n_param)\n",
    "        perturb[p] = eps\n",
    "        \n",
    "        # Forward and backward perturbation simulations\n",
    "        output_forward = calc_model_output(theta_ + perturb, data)\n",
    "        output_backward = calc_model_output(theta_ - perturb, data)\n",
    "        \n",
    "        sensitivity = (output_forward - output_backward) / (2*eps)\n",
    "        if verbose:\n",
    "            print(\"\\nparam \",p)\n",
    "            print(\"sens:\\n\",sensitivity)\n",
    "        \n",
    "        # Loop over outputs\n",
    "        for o in range(n_output):\n",
    "            # Copy sensitivity results\n",
    "            model_sensitivity[o][:,p] = sensitivity[:,o].copy()\n",
    "    \n",
    "    return model_sensitivity\n",
    "\n",
    "model_sensitivity = calc_model_sensitivity(theta_hat, df)\n",
    "\n",
    "print(\"CA sensitivity:\\n\",model_sensitivity[0])\n",
    "print(\"CB sensitivity:\\n\",model_sensitivity[1])\n",
    "print(\"CC sensitivity:\\n\",model_sensitivity[2])"
   ]
  },
  {
   "cell_type": "markdown",
   "metadata": {},
   "source": [
    "We are now ready to compute the FIM for each of the three measurements:\n",
    "\n",
    "$$\n",
    "M_{i} = (\\sigma^{-2}_{i}) \\mathbf{Q}_{i}^{T} \\mathbf{Q}_{i} \\quad \\forall i \\in \\{C_A, C_B, C_C \\}\n",
    "$$"
   ]
  },
  {
   "cell_type": "markdown",
   "metadata": {},
   "source": [
    "### FIM By Measurement Type"
   ]
  },
  {
   "cell_type": "code",
   "execution_count": 23,
   "metadata": {},
   "outputs": [
    {
     "name": "stdout",
     "output_type": "stream",
     "text": [
      "FIM for CA measurements:\n",
      " [[  0.94624674   0.         -18.70510459   0.        ]\n",
      " [  0.           0.           0.           0.        ]\n",
      " [-18.70510459   0.         371.00047686   0.        ]\n",
      " [  0.           0.           0.           0.        ]] \n",
      "\n",
      "FIM for CB measurements:\n",
      " [[ 5.26239292e-01 -2.08409593e-02 -1.04423892e+01  3.30385284e+00]\n",
      " [-2.08409593e-02  1.19544313e-02  4.21577730e-01 -1.82410023e+00]\n",
      " [-1.04423892e+01  4.21577730e-01  2.07723914e+02 -6.66762180e+01]\n",
      " [ 3.30385284e+00 -1.82410023e+00 -6.66762180e+01  2.80208035e+02]] \n",
      "\n",
      "FIM for CC measurements:\n",
      " [[ 1.79907085e-01  4.53840681e-02 -3.45257702e+00 -6.88025955e+00]\n",
      " [ 4.53840681e-02  1.19544313e-02 -8.77933819e-01 -1.82410023e+00]\n",
      " [-3.45257702e+00 -8.77933819e-01  6.68970612e+01  1.34169928e+02]\n",
      " [-6.88025955e+00 -1.82410023e+00  1.34169928e+02  2.80208035e+02]] \n",
      "\n"
     ]
    }
   ],
   "source": [
    "# Allocate list of FIM\n",
    "FIM = []\n",
    "measurements = ['CA','CB','CC']\n",
    "for i in range(len(measurements)):\n",
    "    FIM.append( 1/noise_std_dev**2 * model_sensitivity[i].T @ model_sensitivity[i])\n",
    "    \n",
    "    print(\"FIM for\",measurements[i],\"measurements:\\n\",FIM[i],\"\\n\")"
   ]
  },
  {
   "cell_type": "markdown",
   "metadata": {},
   "source": [
    "Discussion:\n",
    "* What would measuring only $C_{A}$ only provide information about $A_1$ and $E_1$?\n",
    "* If you could only choose to measure ONE species ($C_A$, $C_B$, or $C_C$), which would you choose and why?"
   ]
  },
  {
   "cell_type": "markdown",
   "metadata": {},
   "source": [
    "### Eigendecomposition"
   ]
  },
  {
   "cell_type": "markdown",
   "metadata": {},
   "source": [
    "Next let's interpret the eigendecomposition of each FIM."
   ]
  },
  {
   "cell_type": "code",
   "execution_count": 43,
   "metadata": {},
   "outputs": [
    {
     "name": "stdout",
     "output_type": "stream",
     "text": [
      "**********\n",
      "Considering measurement CA \n",
      "\n",
      "eigenvalue = 0.0\n",
      "eigenvector: [ 0.          0.          0.99873141 -0.05035448]\n",
      "\n",
      "eigenvalue = 0.0\n",
      "eigenvector: [1. 0. 0. 0.]\n",
      "\n",
      "eigenvalue = 0.003164601872242656\n",
      "eigenvector: [0.         0.         0.05035448 0.99873141]\n",
      "\n",
      "eigenvalue = 371.9435589912315\n",
      "eigenvector: [0. 1. 0. 0.]\n",
      "**********\n",
      "\n",
      "**********\n",
      "Considering measurement CB \n",
      "\n",
      "eigenvalue = 7.783129647217363e-05\n",
      "eigenvector: [-0.03209261  0.99822006  0.04325539  0.02560765]\n",
      "\n",
      "eigenvalue = 0.001284046008945879\n",
      "eigenvector: [ 0.99946246  0.03212808  0.00340051 -0.0055694 ]\n",
      "\n",
      "eigenvalue = 168.3939838218231\n",
      "eigenvector: [-0.00155025  0.05024289 -0.85753955 -0.51195623]\n",
      "\n",
      "eigenvalue = 320.07479630475325\n",
      "eigenvector: [ 6.51581757e-03  3.94845497e-04 -5.12584955e-01  8.58611701e-01]\n",
      "**********\n",
      "\n",
      "**********\n",
      "Considering measurement CC \n",
      "\n",
      "eigenvalue = 3.1982403380823385e-06\n",
      "eigenvector: [-0.20716263  0.97648536  0.05533834 -0.02230803]\n",
      "\n",
      "eigenvalue = 0.0016055527026070458\n",
      "eigenvector: [ 9.78227268e-01  2.07451453e-01 -9.40669180e-04 -5.86707182e-03]\n",
      "\n",
      "eigenvalue = 2.162079244848663\n",
      "eigenvector: [-0.01068349  0.05859005 -0.89871194  0.43447661]\n",
      "\n",
      "eigenvalue = 345.1332693832098\n",
      "eigenvector: [ 0.00639687 -0.00272705  0.43503292  0.9003877 ]\n",
      "**********\n",
      "\n"
     ]
    }
   ],
   "source": [
    "measurements = ['CA','CB','CC']\n",
    "\n",
    "# Create empty dictionary to store eigendecompositions\n",
    "eigendecompositions = {}\n",
    "\n",
    "for i,m in enumerate(measurements):\n",
    "    \n",
    "    # Create empty matrix\n",
    "    results_matrix = np.zeros((4,5))\n",
    "    \n",
    "    # Compute eigendecomposition\n",
    "    w, v = linalg.eigh(FIM[i])\n",
    "    \n",
    "    print(\"**********\\nConsidering measurement\",measurements[i],\"\")\n",
    "    for j in range(len(v)):\n",
    "        print(\"\\neigenvalue =\",w[j])\n",
    "        print(\"eigenvector:\",v[j])\n",
    "        \n",
    "        # Store results\n",
    "        results_matrix[j,0] = w[j]\n",
    "        results_matrix[j,1:] = v[j]\n",
    "        \n",
    "    print(\"**********\\n\")\n",
    "    \n",
    "    eigendecompositions[m] = pd.DataFrame(results_matrix,columns=['eigenvalue','A1', 'A2', 'E1', 'E2'])"
   ]
  },
  {
   "cell_type": "markdown",
   "metadata": {},
   "source": [
    "We can also see the eigenvalues in Pandas DataFrames."
   ]
  },
  {
   "cell_type": "code",
   "execution_count": 47,
   "metadata": {},
   "outputs": [
    {
     "name": "stdout",
     "output_type": "stream",
     "text": [
      "Eigendecomposition for measurement CA\n",
      "   eigenvalue   A1   A2        E1        E2\n",
      "0    0.000000  0.0  0.0  0.998731 -0.050354\n",
      "1    0.000000  1.0  0.0  0.000000  0.000000\n",
      "2    0.003165  0.0  0.0  0.050354  0.998731\n",
      "3  371.943559  0.0  1.0  0.000000  0.000000 \n",
      "\n",
      "Eigendecomposition for measurement CB\n",
      "   eigenvalue        A1        A2        E1        E2\n",
      "0    0.000078 -0.032093  0.998220  0.043255  0.025608\n",
      "1    0.001284  0.999462  0.032128  0.003401 -0.005569\n",
      "2  168.393984 -0.001550  0.050243 -0.857540 -0.511956\n",
      "3  320.074796  0.006516  0.000395 -0.512585  0.858612 \n",
      "\n",
      "Eigendecomposition for measurement CC\n",
      "   eigenvalue        A1        A2        E1        E2\n",
      "0    0.000003 -0.207163  0.976485  0.055338 -0.022308\n",
      "1    0.001606  0.978227  0.207451 -0.000941 -0.005867\n",
      "2    2.162079 -0.010683  0.058590 -0.898712  0.434477\n",
      "3  345.133269  0.006397 -0.002727  0.435033  0.900388 \n",
      "\n"
     ]
    }
   ],
   "source": [
    "for k in eigendecompositions:\n",
    "    print(\"Eigendecomposition for measurement\",k)\n",
    "    print(eigendecompositions[k],\"\\n\")"
   ]
  },
  {
   "cell_type": "markdown",
   "metadata": {},
   "source": [
    "### Visualizing Confidence Elipses"
   ]
  },
  {
   "cell_type": "markdown",
   "metadata": {},
   "source": []
  },
  {
   "cell_type": "markdown",
   "metadata": {},
   "source": [
    "### Optimality metrics"
   ]
  },
  {
   "cell_type": "code",
   "execution_count": null,
   "metadata": {},
   "outputs": [],
   "source": [
    "def optimality_metrics(FIM, verbose=True):\n",
    "    ''' Compute optimality metrics using eigenvalues\n",
    "    \n",
    "    Arguments:\n",
    "        FIM: numpy array\n",
    "        \n",
    "    Returns:\n",
    "        dopt, aopt, eopt (float)\n",
    "    \n",
    "    '''\n",
    "    \n",
    "    # Compute eigendecomposition\n",
    "    # Compute eigendecomposition\n",
    "    eigenvalues, eigenvectors = linalg.eigh(FIM)\n",
    "    \n",
    "    # Determinant \n",
    "    dopt = np.product(eigenvalues)\n",
    "    \n",
    "    # Trace\n",
    "    aopt = np.sum(eigenvalues)\n",
    "    \n",
    "    # Min eigenvalue\n",
    "    eopt = np.min(eigenvalues)\n",
    "    \n",
    "    if verbose:\n",
    "        print(\"D-optimality =\",dopt)\n",
    "        print(\"A-optimality =\",aopt)\n",
    "        print(\"E-optimality =\",eopt)\n",
    "    \n",
    "    return dopt, aopt, eopt\n",
    "\n",
    "measurements = ['CA','CB','CC']\n",
    "for i in range(len(measurements)):\n",
    "    print(\"**********\\nConsidering measurement\",measurements[i],\"\")\n",
    "    optimality_metrics(FIM[i],True)\n",
    "    print(\"**********\\n\")"
   ]
  },
  {
   "cell_type": "markdown",
   "metadata": {
    "tags": []
   },
   "source": [
    "## What is the next best experiment?"
   ]
  },
  {
   "cell_type": "code",
   "execution_count": null,
   "metadata": {},
   "outputs": [],
   "source": [
    "temperatures = np.linspace(300, 550, 26)\n",
    "intial_concentrations = np.linspace(1,5,11)\n",
    "\n",
    "# Allocate lists and empty arrays\n",
    "Dopt = []\n",
    "Aopt = []\n",
    "Eopt = []\n",
    "measurements = ['$C_{A}$','$C_{B}$','$C_{C}$']\n",
    "for k in range(len(measurements)):\n",
    "    empty_matrix = np.zeros((len(temperatures),len(intial_concentrations)))\n",
    "    Dopt.append(empty_matrix)\n",
    "    Aopt.append(empty_matrix.copy())\n",
    "    Eopt.append(empty_matrix.copy())\n",
    "\n",
    "# Loop over proposed temperatures\n",
    "for i,T in enumerate(temperatures):\n",
    "    # Loop over proposed concentrations\n",
    "    for j,C in enumerate(intial_concentrations):\n",
    "        \n",
    "        # Create df for new experiment\n",
    "        exp3 = np.zeros((n_time,4))\n",
    "\n",
    "        # Assign 3 to column 0. This is the experiment number.\n",
    "        exp3[:,0] = 3\n",
    "\n",
    "        # Copy C into column 1\n",
    "        exp3[:,1] = C.copy()\n",
    "\n",
    "        # Copy T into column 2 \n",
    "        exp3[:,2] = T.copy()\n",
    "\n",
    "        # Copy time data into column 3\n",
    "        exp3[:,3] = time_exp\n",
    "           \n",
    "        # Create dataframe for new experiments\n",
    "        new_df = pd.DataFrame(exp3, columns=['exp', 'CA0','temp','time'])\n",
    "             \n",
    "        # Calculate model sensitivities\n",
    "        model_sensitivity = calc_model_sensitivity(theta_hat, new_df)\n",
    "        \n",
    "        # Loop over measurements\n",
    "        for k in range(len(measurements)):\n",
    "            \n",
    "            # Compute FIM of proposed experiment\n",
    "            FIM_new = 1/noise_std_dev**2 * model_sensitivity[k].T @ model_sensitivity[k]\n",
    "            \n",
    "            \n",
    "            # Compute total FIM (prior + new)\n",
    "            FIM_total = FIM[k] + FIM_new\n",
    "            \n",
    "            '''\n",
    "            print(\"\\ni =\",i)\n",
    "            print(\"j =\",j)\n",
    "            print(FIM_total)\n",
    "            '''\n",
    "            \n",
    "            # Compute A and D-optimality\n",
    "            Dopt[k][i,j] = np.linalg.det(FIM_total)\n",
    "            Aopt[k][i,j] = np.trace(FIM_total)\n",
    "            \n",
    "            # Compute E-optimality\n",
    "            smallest_eigenvalue = linalg.eigh(FIM_total, eigvals_only=True, subset_by_index=[0, 0])\n",
    "            Eopt[k][i,j] = smallest_eigenvalue[0]"
   ]
  },
  {
   "cell_type": "markdown",
   "metadata": {},
   "source": [
    "Let's make a function that visualizes the MBDoE metrics as a heatmap."
   ]
  },
  {
   "cell_type": "code",
   "execution_count": null,
   "metadata": {},
   "outputs": [],
   "source": [
    "def create_contour_plot(matrix, zlabelstring, clabel_fmt=\"%2.2f\",x=temperatures, y=intial_concentrations):\n",
    "    # draw figure, using (6,6) because the plot is small otherwise\n",
    "    plt.figure(figsize=(6,6))\n",
    "    \n",
    "    # define font size\n",
    "    fs = 20\n",
    "\n",
    "    # plot heatmap\n",
    "    #   cmap defines the overall color within the heatmap \n",
    "    #   levels: determines the number and positions of the contour lines / regions.\n",
    "    cs = plt.contourf(x, y, matrix,cmap=cm.coolwarm, levels=100)\n",
    "\n",
    "    # plot color bar\n",
    "    cbar = plt.colorbar(cs)\n",
    "\n",
    "    # plot title in color bar\n",
    "    cbar.ax.set_ylabel(zlabelstring, fontsize=fs, fontweight='bold')\n",
    "\n",
    "    # set font size in color bar\n",
    "    cbar.ax.tick_params(labelsize=fs)\n",
    "\n",
    "    # plot equipotential line\n",
    "    #  [::10] means sampling 1 in every 10 samples\n",
    "    #  colors define the color want to use, 'k' for black\n",
    "    #  alpha is blending value, between 0 (transparent) and 1 (opaque).\n",
    "    #  linestyle defines the linestyle.\n",
    "    #  linewidth defines the width of line\n",
    "    cs2 = plt.contour(cs, levels=cs.levels[::15], colors='k', alpha=0.7, linestyles='dashed', linewidths=3)\n",
    "\n",
    "    # plot the heatmap label\n",
    "    #  %2.2f means keep to 2 digit\n",
    "    #  fontsize defines the size of the text in figure\n",
    "    plt.clabel(cs2, fmt=clabel_fmt, colors='k', fontsize=fs)\n",
    "\n",
    "    # define tick size\n",
    "    plt.xticks(fontsize=fs)\n",
    "    plt.yticks(fontsize=fs)\n",
    "    plt.tick_params(direction=\"in\",top=True, right=True)\n",
    "\n",
    "    # set squared figure\n",
    "    # plt.axis('square')\n",
    "    \n",
    "    # Plot data from previous two experiments\n",
    "    plt.plot([T_exp1, T_exp2], [CA0_exp1, CA0_exp2], marker='*', markersize=20, color='k', linestyle=\"\")\n",
    "\n",
    "    # plot titile and x,y label\n",
    "    plt.xlabel(\"Temperature [K]\", fontsize=fs, fontweight='bold')\n",
    "    plt.ylabel(\"Initial Concentration [mol L$^{-1}$]\", fontsize=fs, fontweight='bold')\n",
    "    plt.show()"
   ]
  },
  {
   "cell_type": "markdown",
   "metadata": {},
   "source": [
    "### A-Optimality"
   ]
  },
  {
   "cell_type": "markdown",
   "metadata": {},
   "source": [
    "We'll start by plotting A-optimality seperately for each of the three measurement types. The stars mark the prior two experiments. The colored contours show metrics of the FIM depending $T$ and $C_{A0}$ for the third experiment. "
   ]
  },
  {
   "cell_type": "code",
   "execution_count": null,
   "metadata": {},
   "outputs": [],
   "source": [
    "for k,m in enumerate(measurements):\n",
    "    create_contour_plot(Aopt[k].transpose(), \"A-optimality for \"+m, \"%2.0f\")"
   ]
  },
  {
   "cell_type": "markdown",
   "metadata": {},
   "source": [
    "### D-Optimality"
   ]
  },
  {
   "cell_type": "markdown",
   "metadata": {},
   "source": [
    "Likewise, let's make plots for D-optimality."
   ]
  },
  {
   "cell_type": "code",
   "execution_count": null,
   "metadata": {},
   "outputs": [],
   "source": [
    "for k,m in enumerate(measurements):\n",
    "    create_contour_plot(Dopt[k].transpose(), \"D-optimality for \"+m, \"%2.4f\")"
   ]
  },
  {
   "cell_type": "markdown",
   "metadata": {},
   "source": [
    "### E-Optimality"
   ]
  },
  {
   "cell_type": "markdown",
   "metadata": {},
   "source": [
    "And finally E-optimality."
   ]
  },
  {
   "cell_type": "code",
   "execution_count": null,
   "metadata": {},
   "outputs": [],
   "source": [
    "for k,m in enumerate(measurements):\n",
    "    create_contour_plot(Eopt[k].transpose(), \"E-optimality for \"+m, \"%2.4f\")"
   ]
  },
  {
   "cell_type": "markdown",
   "metadata": {},
   "source": [
    "### Discussion\n",
    "\n",
    "* Based on the plots for D-, A-, and E-optimality, why is it a bad idea to only measure $C_{A}$? Using the mathematical model for the experiment, explain why this makes sense.\n",
    "* Why are D- and E-optimality approximately an order of magnitude larger for measuring $C_{B}$ instead of $C_{C}$?\n",
    "* Why do D- and E-optimality both recommend a third experiment at the maximum value for $C_{A0}$? Using the mathematical model and assumed measurement error structure, explain why this makes sense.\n",
    "* Why do A-, D-, and E-optimality recommend a third experiment at low, medium, and high temperatures, respectively? Which one should we choose if we can only do one more experiment?"
   ]
  },
  {
   "cell_type": "markdown",
   "metadata": {},
   "source": [
    "## Take Away Messages"
   ]
  },
  {
   "cell_type": "markdown",
   "metadata": {},
   "source": [
    "* Fisher information matrix quantifies the value of data in the context of a mathematical model\n",
    "* An eigendecomposition of the Fisher information matrix reveals which parameters are (locally) not identiafiable\n",
    "* A-, D-, and E-optimality help inform which experimental conditions and measurements are most informative\n",
    "* Heatmaps of these optimality matrics help build intuition about the model"
   ]
  },
  {
   "cell_type": "code",
   "execution_count": null,
   "metadata": {},
   "outputs": [],
   "source": []
  }
 ],
 "metadata": {
  "kernelspec": {
   "display_name": "Python 3 (ipykernel)",
   "language": "python",
   "name": "python3"
  },
  "language_info": {
   "codemirror_mode": {
    "name": "ipython",
    "version": 3
   },
   "file_extension": ".py",
   "mimetype": "text/x-python",
   "name": "python",
   "nbconvert_exporter": "python",
   "pygments_lexer": "ipython3",
   "version": "3.9.12"
  }
 },
 "nbformat": 4,
 "nbformat_minor": 4
}
