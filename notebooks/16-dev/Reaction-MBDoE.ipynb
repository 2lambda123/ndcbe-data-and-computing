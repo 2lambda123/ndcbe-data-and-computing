{
 "cells": [
  {
   "cell_type": "markdown",
   "metadata": {},
   "source": [
    "# MBDoE Example: Reaction Kinetics\n",
    "\n",
    "Jialu Wang (jwang44@nd.edu) and Alex Dowling (adowling@nd.edu)\n",
    "\n",
    "University of Notre Dame\n",
    "\n",
    "    "
   ]
  },
  {
   "cell_type": "markdown",
   "metadata": {},
   "source": [
    "## Import Modules"
   ]
  },
  {
   "cell_type": "code",
   "execution_count": 1,
   "metadata": {},
   "outputs": [],
   "source": [
    "import matplotlib.pyplot as plt\n",
    "import numpy as np\n",
    "import pandas as pd\n",
    "import scipy.optimize as optimize"
   ]
  },
  {
   "cell_type": "markdown",
   "metadata": {},
   "source": [
    "## Define Mathematical Model"
   ]
  },
  {
   "cell_type": "markdown",
   "metadata": {},
   "source": [
    "Consider two chemical reactions that convert molecule $A$ to desired product $B$ and a less valuable side-product $C$.\n",
    "\n",
    "$A \\overset{k_1}{\\rightarrow} B \\overset{k_2}{\\rightarrow} C$\n",
    "\n",
    "Our ultimate goal is to design a large-scale continous reactor that maximizes the production of $B$. This general sequential reactions problem is widely applicable to CO$_2$ capture and industry more broadly (petrochemicals, pharmasuticals, etc.).\n",
    "\n",
    "The rate laws for these two chemical reactions are:\n",
    "\n",
    "$r_A = -k_1 C_A$\n",
    "\n",
    "$r_B = k_1 C_A - k_2 C_B$\n",
    "\n",
    "$r_C = k_2 C_B$\n",
    "\n",
    "Here, $C_A$, $C_B$, and $C_C$ are the concentrations of each species. The rate constants $k_1$ and $k_2$ depend on temperature as follows:\n",
    "\n",
    "$k_1 = A_1 \\exp{\\frac{-E_1}{R T}}$\n",
    "\n",
    "$k_2 = A_2 \\exp{\\frac{-E_2}{R T}}$\n",
    "\n",
    "$A_1, A_2, E_1$, and $E_2$ are fitted model parameters. $R$ is the ideal-gas constant and $T$ is absolute temperature."
   ]
  },
  {
   "cell_type": "markdown",
   "metadata": {
    "tags": []
   },
   "source": [
    "The concenration in a **batch reactor** evolve with time per the following differential equations:\n",
    "\n",
    "$$ \\frac{d C_A}{dt} = r_A = -k_1 C_A $$\n",
    "\n",
    "$$ \\frac{d C_B}{dt} = r_B = k_1 C_A - k_2 C_B $$\n",
    "\n",
    "$$ \\frac{d C_C}{dt} = r_C = k_2 C_B $$\n",
    "\n",
    "This is a linear system of differential equations. Assuming the feed is only species $A$, i.e., \n",
    "\n",
    "$$C_A(t=0) = C_{A0} \\quad C_B(t=0) = 0 \\quad C_C(t=0) = 0$$\n",
    "\n",
    "When the temperature is constant, it leads to the following analytic solution:\n",
    "\n",
    "$$C_A(t) = C_{A,0} \\exp(-k_1 t)$$\n",
    "\n",
    "$$C_B(t) = \\frac{k_1}{k_2 - k_1} C_{A,0} \\left[\\exp(-k_1 t) - \\exp(-k_2 t) \\right]$$\n",
    "\n",
    "$$C_C(t) = C_{A,0} - \\frac{k_2}{k_2 - k_1} C_{A,0} \\exp(-k_1 t) + \\frac{k_1}{k_2 - k_1} \\exp(-k_2 t) C_{A,0} = C_{A,0} - C_{A}(t) - C_{B}(t)$$"
   ]
  },
  {
   "cell_type": "code",
   "execution_count": 2,
   "metadata": {},
   "outputs": [],
   "source": [
    "def batch_rxn_model(theta, t, CA0, T):\n",
    "    '''\n",
    "    \n",
    "    Predict batch reaction performance\n",
    "    \n",
    "    Arugments:\n",
    "        t: time, [hour], scalar or Numpy array\n",
    "        theta: fitted parameters: A1, A2, E1, E2\n",
    "        CA0: initial concentration, [mol/L], scalar or numpy array\n",
    "        T: temperature, [K], scalar or Numpy array\n",
    "    Returns:\n",
    "        CA, CB, CC: Concentrations at times t, [mol/L], three scalars or numpy arrays\n",
    "    '''\n",
    "    \n",
    "    def kinetics(A, E, T):\n",
    "        ''' Computes kinetics from Arrhenius equation\n",
    "        Arguments:\n",
    "            A: pre-exponential factor, [1 / hr]\n",
    "            E: activation energy, [kJ / mol]\n",
    "            T: temperature, [K]\n",
    "        Returns:\n",
    "            k: reaction rate coefficient, [1/hr] or [1/hr*L/mol]\n",
    "        '''\n",
    "        R = 8.31446261815324 # J / K / mole\n",
    "\n",
    "        return A * np.exp(-E*1000/(R*T))\n",
    "\n",
    "    # units: [1/hr]\n",
    "    k1 = kinetics(theta[0], theta[2], T)\n",
    "\n",
    "    # units: [1/hr]\n",
    "    k2 = kinetics(theta[1], theta[3], T)\n",
    "\n",
    "    # units: [mol / L]\n",
    "    CA = CA0 * np.exp(-k1*t);\n",
    "    CB = k1*CA0/(k2-k1) * (np.exp(-k1*t) - np.exp(-k2*t));\n",
    "    CC = CA0 - CA - CB;\n",
    "\n",
    "    return CA, CB, CC\n"
   ]
  },
  {
   "cell_type": "markdown",
   "metadata": {},
   "source": [
    "Now let's test the code by running it."
   ]
  },
  {
   "cell_type": "code",
   "execution_count": 3,
   "metadata": {},
   "outputs": [],
   "source": [
    "theta_true = [85., 370., 7.5, 15]\n",
    "time_exp = np.linspace(0,1,11) # hr\n",
    "CA0_exp1 = 1.0 # mol/L\n",
    "T_exp1 = 400 # K\n",
    "CA_exp1, CB_exp1, CC_exp1 = batch_rxn_model(theta_true, time_exp, CA0_exp1, T_exp1)"
   ]
  },
  {
   "cell_type": "markdown",
   "metadata": {},
   "source": [
    "## Generate Synthetic Experimental Dataset"
   ]
  },
  {
   "cell_type": "markdown",
   "metadata": {},
   "source": [
    "Let's construct a dataset containing: \n",
    "* Batch experiment at $T=400$ K and $C_{AO}=1.0$ mol/L\n",
    "* Batch experiment at $T=300$ K and $C_{AO}=3.0$ mol/L\n",
    "\n",
    "We also simulated the first experiment. Let's simulate the second."
   ]
  },
  {
   "cell_type": "code",
   "execution_count": 4,
   "metadata": {},
   "outputs": [],
   "source": [
    "theta_true = [85., 370., 7.5, 15]\n",
    "CA0_exp2 = 3.0 # mol/L\n",
    "T_exp2 = 300 # K\n",
    "CA_exp2, CB_exp2, CC_exp2 = batch_rxn_model(theta_true, time_exp, CA0_exp2, T_exp2)"
   ]
  },
  {
   "cell_type": "markdown",
   "metadata": {},
   "source": [
    "Next let's add random normally distributed noise."
   ]
  },
  {
   "cell_type": "code",
   "execution_count": 54,
   "metadata": {},
   "outputs": [],
   "source": [
    "n_time = len(time_exp)\n",
    "\n",
    "noise_std_dev = 0.05\n",
    "\n",
    "CA_exp1 += noise_std_dev*np.random.normal(size=n_time)\n",
    "CA_exp2 += noise_std_dev*np.random.normal(size=n_time)\n",
    "CB_exp1 += noise_std_dev*np.random.normal(size=n_time)\n",
    "CB_exp2 += noise_std_dev*np.random.normal(size=n_time)\n",
    "CC_exp1 += noise_std_dev*np.random.normal(size=n_time)\n",
    "CC_exp2 += noise_std_dev*np.random.normal(size=n_time)"
   ]
  },
  {
   "cell_type": "markdown",
   "metadata": {},
   "source": [
    "Now we'll package these into a numpy array:"
   ]
  },
  {
   "cell_type": "code",
   "execution_count": 6,
   "metadata": {},
   "outputs": [
    {
     "name": "stdout",
     "output_type": "stream",
     "text": [
      "[[ 1.00000000e+00  1.00000000e+00  4.00000000e+02  0.00000000e+00\n",
      "   1.01593344e+00  4.00107806e-02  1.52647127e-02]\n",
      " [ 1.00000000e+00  1.00000000e+00  4.00000000e+02  1.00000000e-01\n",
      "   3.49971528e-01  4.69600324e-01  1.48916063e-01]\n",
      " [ 1.00000000e+00  1.00000000e+00  4.00000000e+02  2.00000000e-01\n",
      "   1.52571925e-01  5.36085783e-01  2.35168796e-01]\n",
      " [ 1.00000000e+00  1.00000000e+00  4.00000000e+02  3.00000000e-01\n",
      "   7.39604589e-02  3.58795063e-01  4.52005512e-01]\n",
      " [ 1.00000000e+00  1.00000000e+00  4.00000000e+02  4.00000000e-01\n",
      "   6.99075763e-02  3.16452331e-01  6.49583690e-01]\n",
      " [ 1.00000000e+00  1.00000000e+00  4.00000000e+02  5.00000000e-01\n",
      "   2.25946415e-02  2.44993780e-01  8.03390123e-01]\n",
      " [ 1.00000000e+00  1.00000000e+00  4.00000000e+02  6.00000000e-01\n",
      "  -1.20006473e-01  1.97999487e-01  8.42609516e-01]\n",
      " [ 1.00000000e+00  1.00000000e+00  4.00000000e+02  7.00000000e-01\n",
      "  -2.22660735e-03  7.76324744e-02  8.41342684e-01]\n",
      " [ 1.00000000e+00  1.00000000e+00  4.00000000e+02  8.00000000e-01\n",
      "  -4.92394524e-02  1.05305585e-01  9.35137484e-01]\n",
      " [ 1.00000000e+00  1.00000000e+00  4.00000000e+02  9.00000000e-01\n",
      "  -6.50329314e-02  7.36660389e-03  1.03903568e+00]\n",
      " [ 1.00000000e+00  1.00000000e+00  4.00000000e+02  1.00000000e+00\n",
      "   5.01195004e-02  3.63964936e-02  9.59032735e-01]]\n"
     ]
    }
   ],
   "source": [
    "# Create empty array for experiment 1\n",
    "exp1 = np.zeros((n_time,7))\n",
    "\n",
    "# Assign 1 to column 0. This is the experiment number.\n",
    "exp1[:,0] = 1\n",
    "\n",
    "# Copy CA0 into column 1\n",
    "exp1[:,1] = CA0_exp1\n",
    "\n",
    "# Copy T into column 2 \n",
    "exp1[:,2] = T_exp1\n",
    "\n",
    "# Copy time data into column 3\n",
    "exp1[:,3] = time_exp\n",
    "\n",
    "# Copy concentration data into remaining columns\n",
    "exp1[:,4] = CA_exp1\n",
    "exp1[:,5] = CB_exp1\n",
    "exp1[:,6] = CC_exp1\n",
    "\n",
    "print(exp1)"
   ]
  },
  {
   "cell_type": "code",
   "execution_count": 7,
   "metadata": {},
   "outputs": [
    {
     "name": "stdout",
     "output_type": "stream",
     "text": [
      "[[ 2.00000000e+00  3.00000000e+00  3.00000000e+02  0.00000000e+00\n",
      "   3.04199451e+00 -4.86245307e-02  3.31914335e-02]\n",
      " [ 2.00000000e+00  3.00000000e+00  3.00000000e+02  1.00000000e-01\n",
      "   1.96665407e+00  9.19990362e-01  1.39533318e-01]\n",
      " [ 2.00000000e+00  3.00000000e+00  3.00000000e+02  2.00000000e-01\n",
      "   1.29826600e+00  1.59793051e+00  1.35993853e-01]\n",
      " [ 2.00000000e+00  3.00000000e+00  3.00000000e+02  3.00000000e-01\n",
      "   9.18700728e-01  1.90652044e+00  2.86959559e-01]\n",
      " [ 2.00000000e+00  3.00000000e+00  3.00000000e+02  4.00000000e-01\n",
      "   5.05820000e-01  1.88328811e+00  5.14664974e-01]\n",
      " [ 2.00000000e+00  3.00000000e+00  3.00000000e+02  5.00000000e-01\n",
      "   3.51562409e-01  1.84131368e+00  7.53348235e-01]\n",
      " [ 2.00000000e+00  3.00000000e+00  3.00000000e+02  6.00000000e-01\n",
      "   2.02479486e-01  1.95629438e+00  8.55484292e-01]\n",
      " [ 2.00000000e+00  3.00000000e+00  3.00000000e+02  7.00000000e-01\n",
      "   1.39963806e-01  1.90647132e+00  1.09082705e+00]\n",
      " [ 2.00000000e+00  3.00000000e+00  3.00000000e+02  8.00000000e-01\n",
      "   6.17017204e-02  1.70046818e+00  1.18808844e+00]\n",
      " [ 2.00000000e+00  3.00000000e+00  3.00000000e+02  9.00000000e-01\n",
      "   1.00134087e-01  1.55122164e+00  1.34462975e+00]\n",
      " [ 2.00000000e+00  3.00000000e+00  3.00000000e+02  1.00000000e+00\n",
      "  -7.52290708e-02  1.46765655e+00  1.44471352e+00]]\n"
     ]
    }
   ],
   "source": [
    "# Create empty array for experiment 2\n",
    "exp2 = np.zeros((n_time,7))\n",
    "\n",
    "# Assign 2 to column 0. This is the experiment number.\n",
    "exp2[:,0] = 2\n",
    "\n",
    "# Copy CA0 into column 1\n",
    "exp2[:,1] = CA0_exp2\n",
    "\n",
    "# Copy T into column 2 \n",
    "exp2[:,2] = T_exp2\n",
    "\n",
    "# Copy time data into column 3\n",
    "exp2[:,3] = time_exp\n",
    "\n",
    "# Copy concentration data into remaining columns\n",
    "exp2[:,4] = CA_exp2\n",
    "exp2[:,5] = CB_exp2\n",
    "exp2[:,6] = CC_exp2\n",
    "\n",
    "print(exp2)"
   ]
  },
  {
   "cell_type": "code",
   "execution_count": 8,
   "metadata": {},
   "outputs": [
    {
     "data": {
      "text/html": [
       "<div>\n",
       "<style scoped>\n",
       "    .dataframe tbody tr th:only-of-type {\n",
       "        vertical-align: middle;\n",
       "    }\n",
       "\n",
       "    .dataframe tbody tr th {\n",
       "        vertical-align: top;\n",
       "    }\n",
       "\n",
       "    .dataframe thead th {\n",
       "        text-align: right;\n",
       "    }\n",
       "</style>\n",
       "<table border=\"1\" class=\"dataframe\">\n",
       "  <thead>\n",
       "    <tr style=\"text-align: right;\">\n",
       "      <th></th>\n",
       "      <th>exp</th>\n",
       "      <th>CA0</th>\n",
       "      <th>temp</th>\n",
       "      <th>time</th>\n",
       "      <th>CA</th>\n",
       "      <th>CB</th>\n",
       "      <th>CC</th>\n",
       "    </tr>\n",
       "  </thead>\n",
       "  <tbody>\n",
       "    <tr>\n",
       "      <th>0</th>\n",
       "      <td>1.0</td>\n",
       "      <td>1.0</td>\n",
       "      <td>400.0</td>\n",
       "      <td>0.0</td>\n",
       "      <td>1.015933</td>\n",
       "      <td>0.040011</td>\n",
       "      <td>0.015265</td>\n",
       "    </tr>\n",
       "    <tr>\n",
       "      <th>1</th>\n",
       "      <td>1.0</td>\n",
       "      <td>1.0</td>\n",
       "      <td>400.0</td>\n",
       "      <td>0.1</td>\n",
       "      <td>0.349972</td>\n",
       "      <td>0.469600</td>\n",
       "      <td>0.148916</td>\n",
       "    </tr>\n",
       "    <tr>\n",
       "      <th>2</th>\n",
       "      <td>1.0</td>\n",
       "      <td>1.0</td>\n",
       "      <td>400.0</td>\n",
       "      <td>0.2</td>\n",
       "      <td>0.152572</td>\n",
       "      <td>0.536086</td>\n",
       "      <td>0.235169</td>\n",
       "    </tr>\n",
       "    <tr>\n",
       "      <th>3</th>\n",
       "      <td>1.0</td>\n",
       "      <td>1.0</td>\n",
       "      <td>400.0</td>\n",
       "      <td>0.3</td>\n",
       "      <td>0.073960</td>\n",
       "      <td>0.358795</td>\n",
       "      <td>0.452006</td>\n",
       "    </tr>\n",
       "    <tr>\n",
       "      <th>4</th>\n",
       "      <td>1.0</td>\n",
       "      <td>1.0</td>\n",
       "      <td>400.0</td>\n",
       "      <td>0.4</td>\n",
       "      <td>0.069908</td>\n",
       "      <td>0.316452</td>\n",
       "      <td>0.649584</td>\n",
       "    </tr>\n",
       "  </tbody>\n",
       "</table>\n",
       "</div>"
      ],
      "text/plain": [
       "   exp  CA0   temp  time        CA        CB        CC\n",
       "0  1.0  1.0  400.0   0.0  1.015933  0.040011  0.015265\n",
       "1  1.0  1.0  400.0   0.1  0.349972  0.469600  0.148916\n",
       "2  1.0  1.0  400.0   0.2  0.152572  0.536086  0.235169\n",
       "3  1.0  1.0  400.0   0.3  0.073960  0.358795  0.452006\n",
       "4  1.0  1.0  400.0   0.4  0.069908  0.316452  0.649584"
      ]
     },
     "execution_count": 8,
     "metadata": {},
     "output_type": "execute_result"
    }
   ],
   "source": [
    "# Vertically stack data\n",
    "exps = np.vstack((exp1,exp2))\n",
    "\n",
    "# Create a dataframe with specific columns\n",
    "# Pro Tip: Use 'temp' for temeprature instead of 'T'.\n",
    "#   'T' can be confused with transpose.\n",
    "df = pd.DataFrame(exps, columns=['exp', 'CA0','temp','time', 'CA','CB','CC'])\n",
    "\n",
    "df.head()"
   ]
  },
  {
   "cell_type": "markdown",
   "metadata": {},
   "source": [
    "Finally, let's plot the data and the true model."
   ]
  },
  {
   "cell_type": "code",
   "execution_count": 37,
   "metadata": {},
   "outputs": [],
   "source": [
    "def plot_data_and_model(theta_, data1):\n",
    "    '''\n",
    "    Plot regression results\n",
    "\n",
    "    Args:\n",
    "        theta: model parameters\n",
    "        data: Pandas data frame\n",
    "\n",
    "    Returns:\n",
    "        Nothing\n",
    "    '''\n",
    "\n",
    "    # loop over experiments\n",
    "    for i in data1.exp.unique():\n",
    "\n",
    "        ## Plot 1: Data Versus Prediction\n",
    "        \n",
    "        # delcare figure object\n",
    "        fig, ax = plt.subplots(figsize=(12,10))\n",
    "        # select the rows that correspond to the specific experiment number\n",
    "        j = (data1.exp == i)\n",
    "\n",
    "        # determine experiment conditions\n",
    "        CA0_ = float(data1.CA0[j].mode())\n",
    "        T_ = float(data1.temp[j].mode())\n",
    "        \n",
    "        # Plot dataset 1\n",
    "        plt.plot(data1.time[j], data1.CA[j], marker='o',markersize=16,linestyle=\"\",color=\"blue\",label=\"$C_{A}$ Data\")\n",
    "        plt.plot(data1.time[j], data1.CB[j], marker='s',markersize=16,linestyle=\"\",color=\"green\",label=\"$C_{B}$ Data\")\n",
    "        plt.plot(data1.time[j], data1.CC[j], marker='^',markersize=16,linestyle=\"\",color=\"red\",label=\"$C_{C}$ Data\")\n",
    "        \n",
    "        # determine time set\n",
    "        t_plot = np.linspace(np.min(data1.time[j]),np.max(data1.time[j]),21)\n",
    "        \n",
    "        # Evaluate model\n",
    "        CA_, CB_, CC_ = batch_rxn_model(theta_,t_plot,CA0_,T_)\n",
    "        \n",
    "        # Plot model predictions\n",
    "        plt.plot(t_plot, CA_, linestyle=\"-\",color=\"blue\",label=\"$C_{A}$ Model\")\n",
    "        plt.plot(t_plot, CB_, linestyle=\"-.\",color=\"green\",label=\"$C_{B}$ Model\")\n",
    "        plt.plot(t_plot, CC_, linestyle=\"--\",color=\"red\",label=\"$C_{C}$ Model\")\n",
    "\n",
    "        # Add \"extras\" to the plot\n",
    "        plt.xlabel(\"Time [hours]\")\n",
    "        plt.ylabel(\"Concentration [mol/L]\")\n",
    "        plt.title(\"Experiment \"+str(round(i))+\":  T=\"+str(T_)+\" K,  CA0=\"+str(CA0_)+\" mol/L\")\n",
    "        plt.legend()\n",
    "        plt.grid()\n",
    "        plt.show()"
   ]
  },
  {
   "cell_type": "code",
   "execution_count": 38,
   "metadata": {},
   "outputs": [
    {
     "data": {
      "image/png": "[encoded data removed]",
      "text/plain": [
       "<Figure size 864x720 with 1 Axes>"
      ]
     },
     "metadata": {
      "needs_background": "light"
     },
     "output_type": "display_data"
    },
    {
     "data": {
      "image/png": "[encoded data removed]",
      "text/plain": [
       "<Figure size 864x720 with 1 Axes>"
      ]
     },
     "metadata": {
      "needs_background": "light"
     },
     "output_type": "display_data"
    }
   ],
   "source": [
    "plot_data_and_model(theta_true, df)"
   ]
  },
  {
   "cell_type": "markdown",
   "metadata": {},
   "source": [
    "## Perform Nonlinear Regression"
   ]
  },
  {
   "cell_type": "markdown",
   "metadata": {},
   "source": [
    "### Solve Nonlinear Least Squares Problem"
   ]
  },
  {
   "cell_type": "code",
   "execution_count": 9,
   "metadata": {},
   "outputs": [],
   "source": [
    "# nonlinear parameter estimation with full physics model\n",
    "def regression_func(theta, data):\n",
    "    '''\n",
    "    Function to define regression function for least-squares fitting\n",
    "    \n",
    "    Note: This only uses CB measurements\n",
    "    \n",
    "    Arguments:\n",
    "        theta: parameter vector\n",
    "        data: Pandas data frame\n",
    "    Returns:\n",
    "        e: residual vector\n",
    "    '''\n",
    "    # determine number of entries in data frame\n",
    "    n = len(data)\n",
    "\n",
    "    # initialize matrix of residuals\n",
    "    # rows: each row of Pandas data frame\n",
    "    # columns: species CA, CB, CC\n",
    "    e = np.zeros(n)\n",
    "\n",
    "    # loop over experiments\n",
    "    for i in data.exp.unique():\n",
    "\n",
    "        # select the rows that correspond to the specific experiment number\n",
    "        j = (data.exp == i)\n",
    "\n",
    "        # determine experiment conditions\n",
    "        CA0_ = float(data.CA0[j].mode())\n",
    "        T_ = float(data.temp[j].mode())\n",
    "\n",
    "        # determine experiment time\n",
    "        t = data.time[j].to_numpy()\n",
    "\n",
    "        CA, CB, CC = batch_rxn_model(theta,t,CA0_,T_)\n",
    "\n",
    "        # Only use CB measurements\n",
    "        e[j] = CB - data.CB[j]\n",
    "\n",
    "    return e"
   ]
  },
  {
   "cell_type": "markdown",
   "metadata": {},
   "source": [
    "Let's test our function."
   ]
  },
  {
   "cell_type": "code",
   "execution_count": 10,
   "metadata": {},
   "outputs": [
    {
     "name": "stdout",
     "output_type": "stream",
     "text": [
      "[-0.04001078  0.00070513 -0.03010775  0.05715544 -0.00709748 -0.02573995\n",
      " -0.04657738  0.02541286 -0.03578653  0.03929134 -0.00518009  0.04862453\n",
      "  0.06119177 -0.05714458 -0.07569756  0.06721667  0.12310389 -0.04184063\n",
      " -0.07882551  0.02083925  0.05518532  0.0221232 ]\n"
     ]
    }
   ],
   "source": [
    "e_test = regression_func(theta_true, df)\n",
    "print(e_test)"
   ]
  },
  {
   "cell_type": "markdown",
   "metadata": {},
   "source": [
    "Finally, we can compute the best fit estimate."
   ]
  },
  {
   "cell_type": "code",
   "execution_count": 39,
   "metadata": {},
   "outputs": [
    {
     "name": "stdout",
     "output_type": "stream",
     "text": [
      "   Iteration     Total nfev        Cost      Cost reduction    Step norm     Optimality   \n",
      "       0              1         2.9432e-02                                    1.32e-01    \n",
      "       1              2         2.8908e-02      5.24e-04       5.74e+00       2.19e-02    \n",
      "       2              3         2.8773e-02      1.36e-04       2.09e+01       1.52e-02    \n",
      "       3              4         2.8746e-02      2.71e-05       6.17e+00       1.50e-03    \n",
      "       4              5         2.8733e-02      1.24e-05       9.53e+00       3.36e-03    \n",
      "       5              6         2.8733e-02      3.64e-07       1.61e-01       3.66e-06    \n",
      "       6              7         2.8733e-02      3.76e-10       5.10e-02       3.45e-07    \n",
      "       7              8         2.8733e-02      1.24e-13       5.50e-04       1.57e-08    \n",
      "`ftol` termination condition is satisfied.\n",
      "Function evaluations 8, initial cost 2.9432e-02, final cost 2.8733e-02, first-order optimality 1.57e-08.\n"
     ]
    }
   ],
   "source": [
    "# Initial guess\n",
    "theta0 = [85., 370., 7.5, 15]\n",
    "\n",
    "# Bounds\n",
    "bnds = ([50, 300, 5, 10,], [200, 400, 20, 50])\n",
    "\n",
    "# Define function that includes data\n",
    "my_func = lambda theta_ : regression_func(theta_, df)\n",
    "\n",
    "# Perform nonlinear least squares\n",
    "nl_results = optimize.least_squares(my_func, theta0, bounds=bnds, method='trf',verbose=2)\n"
   ]
  },
  {
   "cell_type": "code",
   "execution_count": 44,
   "metadata": {},
   "outputs": [
    {
     "name": "stdout",
     "output_type": "stream",
     "text": [
      "theta_hat = [ 81.74930715 332.10218587   7.38809902  14.686162  ]\n"
     ]
    }
   ],
   "source": [
    "theta_hat = nl_results.x\n",
    "print(\"theta_hat =\",theta_hat)"
   ]
  },
  {
   "cell_type": "markdown",
   "metadata": {},
   "source": [
    "### Visualize Results"
   ]
  },
  {
   "cell_type": "markdown",
   "metadata": {},
   "source": [
    "First let's plot the data and model predictions."
   ]
  },
  {
   "cell_type": "code",
   "execution_count": 45,
   "metadata": {},
   "outputs": [
    {
     "data": {
      "image/png": "[encoded data removed]",
      "text/plain": [
       "<Figure size 864x720 with 1 Axes>"
      ]
     },
     "metadata": {
      "needs_background": "light"
     },
     "output_type": "display_data"
    },
    {
     "data": {
      "image/png": "[encoded data removed]",
      "text/plain": [
       "<Figure size 864x720 with 1 Axes>"
      ]
     },
     "metadata": {
      "needs_background": "light"
     },
     "output_type": "display_data"
    }
   ],
   "source": [
    "plot_data_and_model(theta_hat, df)"
   ]
  },
  {
   "cell_type": "markdown",
   "metadata": {},
   "source": [
    "Next, let's look at the residuals. Recall, we only used $C_{B}$ in our regression formulation."
   ]
  },
  {
   "cell_type": "code",
   "execution_count": 47,
   "metadata": {},
   "outputs": [
    {
     "data": {
      "text/plain": [
       "Text(0, 0.5, 'Count')"
      ]
     },
     "execution_count": 47,
     "metadata": {},
     "output_type": "execute_result"
    },
    {
     "data": {
      "image/png": "[encoded data removed]",
      "text/plain": [
       "<Figure size 432x288 with 1 Axes>"
      ]
     },
     "metadata": {
      "needs_background": "light"
     },
     "output_type": "display_data"
    }
   ],
   "source": [
    "CB_residuals = regression_func(theta_hat, df)\n",
    "\n",
    "plt.hist(CB_residuals)\n",
    "plt.xlabel(\"$C_{B}$ residual (mol/L)\")\n",
    "plt.ylabel(\"Count\")"
   ]
  },
  {
   "cell_type": "markdown",
   "metadata": {},
   "source": [
    "### Estimate Uncertainty"
   ]
  },
  {
   "cell_type": "markdown",
   "metadata": {},
   "source": [
    "First let's estimate the variance of the residuals."
   ]
  },
  {
   "cell_type": "code",
   "execution_count": 55,
   "metadata": {},
   "outputs": [],
   "source": [
    "sigre = (CB_residuals.T @ CB_residuals)/(len(CB_residuals) - len(theta_hat))"
   ]
  },
  {
   "cell_type": "markdown",
   "metadata": {},
   "source": [
    "How does the standard deviation of the residuals compare to the standard deviation of the measurement noise?"
   ]
  },
  {
   "cell_type": "code",
   "execution_count": 57,
   "metadata": {},
   "outputs": [
    {
     "name": "stdout",
     "output_type": "stream",
     "text": [
      "Estimated Standard Deviation of Residuals = 0.056502480414664484 mol/L\n",
      "Standard Deviation of Measurement Error in Synthetic Data = 0.05 mol/L\n"
     ]
    }
   ],
   "source": [
    "print(\"Estimated Standard Deviation of Residuals =\",np.sqrt(sigre),\"mol/L\")\n",
    "print(\"Standard Deviation of Measurement Error in Synthetic Data =\",noise_std_dev,\"mol/L\")"
   ]
  },
  {
   "cell_type": "markdown",
   "metadata": {},
   "source": [
    "Estimating the covariance matrix using a linearization approximation is easy!"
   ]
  },
  {
   "cell_type": "code",
   "execution_count": 58,
   "metadata": {},
   "outputs": [
    {
     "name": "stdout",
     "output_type": "stream",
     "text": [
      "Covariance matrix:\n",
      " [[ 2.94316274e+03 -9.43755492e+02  9.04923611e+01 -6.94814159e+00]\n",
      " [-9.43755492e+02  1.13821319e+04 -2.82264634e+01  8.74121495e+01]\n",
      " [ 9.04923611e+01 -2.82264634e+01  2.78919619e+00 -2.06299366e-01]\n",
      " [-6.94814159e+00  8.74121495e+01 -2.06299366e-01  6.75796229e-01]]\n"
     ]
    }
   ],
   "source": [
    "Sigma_theta = sigre * np.linalg.inv(nl_results.jac.T @ nl_results.jac)\n",
    "print(\"Covariance matrix:\\n\",Sigma_theta)"
   ]
  },
  {
   "cell_type": "markdown",
   "metadata": {},
   "source": [
    "Recall the rows/colums are $A_1$, $A_2$, $E_1$, and $E_2$.\n",
    "\n",
    "We can easily convert this to a correlation matrix."
   ]
  },
  {
   "cell_type": "code",
   "execution_count": 53,
   "metadata": {},
   "outputs": [
    {
     "name": "stdout",
     "output_type": "stream",
     "text": [
      "Correlation matrix:\n",
      " [[ 1.         -0.16305741  0.99876945 -0.15579504]\n",
      " [-0.16305741  1.         -0.15841822  0.99667166]\n",
      " [ 0.99876945 -0.15841822  1.         -0.15026246]\n",
      " [-0.15579504  0.99667166 -0.15026246  1.        ]]\n"
     ]
    }
   ],
   "source": [
    "corr_theta = Sigma_theta.copy()\n",
    "for r in range(len(theta_hat)):\n",
    "    for c in range(len(theta_hat)):\n",
    "        corr_theta[r,c] = corr_theta[r,c]/np.sqrt(Sigma_theta[r,r])/np.sqrt(Sigma_theta[c,c])\n",
    "        \n",
    "print(\"Correlation matrix:\\n\",corr_theta)"
   ]
  },
  {
   "cell_type": "markdown",
   "metadata": {},
   "source": [
    "Discussion: Why are the pairs $A_1$, $E_2$ and $A_2$, $E_2$ highly correlated when measuring only $C_B$?"
   ]
  },
  {
   "cell_type": "markdown",
   "metadata": {},
   "source": [
    "## Fisher Information Matrix"
   ]
  },
  {
   "cell_type": "markdown",
   "metadata": {},
   "source": [
    "The first step of calculating the Fisher Information Matrix (FIM) is computing the sensitivity of all model outputs to each model parameter."
   ]
  },
  {
   "cell_type": "code",
   "execution_count": 83,
   "metadata": {},
   "outputs": [
    {
     "name": "stdout",
     "output_type": "stream",
     "text": [
      "[[ 1.00000000e+00 -0.00000000e+00  0.00000000e+00]\n",
      " [ 4.12064066e-01  4.70224458e-01  1.17711475e-01]\n",
      " [ 1.69796795e-01  5.08546990e-01  3.21656215e-01]\n",
      " [ 6.99671577e-02  4.20281412e-01  5.09751431e-01]\n",
      " [ 2.88309515e-02  3.14251068e-01  6.56917981e-01]\n",
      " [ 1.18801991e-02  2.23927467e-01  7.64192334e-01]\n",
      " [ 4.89540316e-03  1.55491090e-01  8.39613507e-01]\n",
      " [ 2.01721973e-03  1.06393010e-01  8.91589771e-01]\n",
      " [ 8.31223766e-04  7.21716775e-02  9.26997099e-01]\n",
      " [ 3.42517445e-04  4.87050592e-02  9.50952423e-01]\n",
      " [ 1.41139131e-04  3.27658980e-02  9.67092963e-01]\n",
      " [ 3.00000000e+00 -0.00000000e+00  0.00000000e+00]\n",
      " [ 1.96564447e+00  9.84961112e-01  4.93944212e-02]\n",
      " [ 1.28791939e+00  1.54366433e+00  1.68416285e-01]\n",
      " [ 8.43863874e-01  1.83070130e+00  3.25434827e-01]\n",
      " [ 5.52912119e-01  1.94669199e+00  5.00395894e-01]\n",
      " [ 3.62276216e-01  1.95695231e+00  6.80771478e-01]\n",
      " [ 2.37368746e-01  1.90372026e+00  8.58910992e-01]\n",
      " [ 1.55527521e-01  1.81416196e+00  1.03031052e+00]\n",
      " [ 1.01903937e-01  1.70561295e+00  1.19248311e+00]\n",
      " [ 6.67689700e-02  1.58900848e+00  1.34422255e+00]\n",
      " [ 4.37480188e-02  1.47112747e+00  1.48512451e+00]]\n"
     ]
    }
   ],
   "source": [
    "def calc_model_output(theta_,data):\n",
    "    '''\n",
    "    Assembles matrix out model outputs (columns) by experimental conditions (rows)\n",
    "    \n",
    "    Arguments:\n",
    "        theta_: values of theta parameters, numpy array\n",
    "        data: data frame of experimental conditions\n",
    "    \n",
    "    Returns:\n",
    "        model_output: matrix\n",
    "    '''\n",
    "    \n",
    "    # Allocate matrix of model outputs\n",
    "    model_output = np.zeros((len(data),3))\n",
    "    \n",
    "    # Iterate over rows in pandas dataframe (each row is an experiment)\n",
    "    for i,r in data.iterrows():\n",
    "        # Evaluate model and store results\n",
    "        model_output[i,:] = batch_rxn_model(theta_, r.time, r.CA0, r.temp)\n",
    "        \n",
    "    return model_output\n",
    "\n",
    "# Test function at nominal values\n",
    "print(calc_model_output(theta_hat,df))"
   ]
  },
  {
   "cell_type": "markdown",
   "metadata": {},
   "source": [
    "We'll use finite difference to estimate the sensitivities."
   ]
  },
  {
   "cell_type": "code",
   "execution_count": 93,
   "metadata": {},
   "outputs": [
    {
     "name": "stdout",
     "output_type": "stream",
     "text": [
      "CA sensitivity:\n",
      " [[0.00000000e+00 0.00000000e+00 0.00000000e+00 0.00000000e+00]\n",
      " [1.05377773e-01 1.05377773e-01 1.05377773e-01 1.05377773e-01]\n",
      " [8.68447874e-02 8.68447874e-02 8.68447874e-02 8.68447874e-02]\n",
      " [5.36784243e-02 5.36784243e-02 5.36784243e-02 5.36784243e-02]\n",
      " [2.94919331e-02 2.94919331e-02 2.94919331e-02 2.94919331e-02]\n",
      " [1.51907073e-02 1.51907073e-02 1.51907073e-02 1.51907073e-02]\n",
      " [7.51145357e-03 7.51145357e-03 7.51145357e-03 7.51145357e-03]\n",
      " [3.61106678e-03 3.61106678e-03 3.61106678e-03 3.61106678e-03]\n",
      " [1.70056099e-03 1.70056099e-03 1.70056099e-03 1.70056099e-03]\n",
      " [7.88332584e-04 7.88332584e-04 7.88332584e-04 7.88332584e-04]\n",
      " [3.60937256e-04 3.60937256e-04 3.60937256e-04 3.60937256e-04]\n",
      " [0.00000000e+00 0.00000000e+00 0.00000000e+00 0.00000000e+00]\n",
      " [3.23012131e-01 3.23012131e-01 3.23012131e-01 3.23012131e-01]\n",
      " [4.23284672e-01 4.23284672e-01 4.23284672e-01 4.23284672e-01]\n",
      " [4.16013587e-01 4.16013587e-01 4.16013587e-01 4.16013587e-01]\n",
      " [3.63437691e-01 3.63437691e-01 3.63437691e-01 3.63437691e-01]\n",
      " [2.97662203e-01 2.97662203e-01 2.97662203e-01 2.97662203e-01]\n",
      " [2.34039225e-01 2.34039225e-01 2.34039225e-01 2.34039225e-01]\n",
      " [1.78903631e-01 1.78903631e-01 1.78903631e-01 1.78903631e-01]\n",
      " [1.33966069e-01 1.33966069e-01 1.33966069e-01 1.33966069e-01]\n",
      " [9.87486236e-02 9.87486236e-02 9.87486236e-02 9.87486236e-02]\n",
      " [7.18906243e-02 7.18906243e-02 7.18906243e-02 7.18906243e-02]]\n",
      "CB sensitivity:\n",
      " [[ 0.          0.          0.          0.        ]\n",
      " [-0.05000405 -0.05000405 -0.05000405 -0.05000405]\n",
      " [ 0.03307652  0.03307652  0.03307652  0.03307652]\n",
      " [ 0.0951579   0.0951579   0.0951579   0.0951579 ]\n",
      " [ 0.11905482  0.11905482  0.11905482  0.11905482]\n",
      " [ 0.11725671  0.11725671  0.11725671  0.11725671]\n",
      " [ 0.10295249  0.10295249  0.10295249  0.10295249]\n",
      " [ 0.08464209  0.08464209  0.08464209  0.08464209]\n",
      " [ 0.06676788  0.06676788  0.06676788  0.06676788]\n",
      " [ 0.05122648  0.05122648  0.05122648  0.05122648]\n",
      " [ 0.03854135  0.03854135  0.03854135  0.03854135]\n",
      " [ 0.          0.          0.          0.        ]\n",
      " [-0.28731434 -0.28731434 -0.28731434 -0.28731434]\n",
      " [-0.31131976 -0.31131976 -0.31131976 -0.31131976]\n",
      " [-0.21671301 -0.21671301 -0.21671301 -0.21671301]\n",
      " [-0.08069645 -0.08069645 -0.08069645 -0.08069645]\n",
      " [ 0.05783278  0.05783278  0.05783278  0.05783278]\n",
      " [ 0.18117901  0.18117901  0.18117901  0.18117901]\n",
      " [ 0.28296794  0.28296794  0.28296794  0.28296794]\n",
      " [ 0.36254424  0.36254424  0.36254424  0.36254424]\n",
      " [ 0.4218733   0.4218733   0.4218733   0.4218733 ]\n",
      " [ 0.46388792  0.46388792  0.46388792  0.46388792]]\n",
      "CC sensitivity:\n",
      " [[ 0.          0.          0.          0.        ]\n",
      " [-0.05537372 -0.05537372 -0.05537372 -0.05537372]\n",
      " [-0.1199213  -0.1199213  -0.1199213  -0.1199213 ]\n",
      " [-0.14883632 -0.14883632 -0.14883632 -0.14883632]\n",
      " [-0.14854675 -0.14854675 -0.14854675 -0.14854675]\n",
      " [-0.13244742 -0.13244742 -0.13244742 -0.13244742]\n",
      " [-0.11046395 -0.11046395 -0.11046395 -0.11046395]\n",
      " [-0.08825315 -0.08825315 -0.08825315 -0.08825315]\n",
      " [-0.06846844 -0.06846844 -0.06846844 -0.06846844]\n",
      " [-0.05201481 -0.05201481 -0.05201481 -0.05201481]\n",
      " [-0.03890229 -0.03890229 -0.03890229 -0.03890229]\n",
      " [ 0.          0.          0.          0.        ]\n",
      " [-0.03569779 -0.03569779 -0.03569779 -0.03569779]\n",
      " [-0.11196491 -0.11196491 -0.11196491 -0.11196491]\n",
      " [-0.19930058 -0.19930058 -0.19930058 -0.19930058]\n",
      " [-0.28274124 -0.28274124 -0.28274124 -0.28274124]\n",
      " [-0.35549498 -0.35549498 -0.35549498 -0.35549498]\n",
      " [-0.41521824 -0.41521824 -0.41521824 -0.41521824]\n",
      " [-0.46187157 -0.46187157 -0.46187157 -0.46187157]\n",
      " [-0.49651031 -0.49651031 -0.49651031 -0.49651031]\n",
      " [-0.52062193 -0.52062193 -0.52062193 -0.52062193]\n",
      " [-0.53577854 -0.53577854 -0.53577854 -0.53577854]]\n"
     ]
    }
   ],
   "source": [
    "def calc_model_sensitivity(theta_,data):\n",
    "    '''\n",
    "    Estimate the model sensitivity matrix using forward finite difference\n",
    "    \n",
    "    Arguments:\n",
    "        model_function: Python function that computes model outputs\n",
    "        theta_: nominal value of theta\n",
    "        exp_design_df: data frame containing experimental data\n",
    "    '''\n",
    "    \n",
    "    # Evaluate model at nominal point\n",
    "    nominal_output = calc_model_output(theta_,df)\n",
    "    \n",
    "    # Extract number of experiments and number of measured/output variables\n",
    "    (n_exp, n_output) = nominal_output.shape\n",
    "    \n",
    "    # Set finite difference step size\n",
    "    eps = 1E-5\n",
    "    \n",
    "    # Extract number of parameters\n",
    "    n_param = len(theta_)\n",
    "    \n",
    "    # Create list to store model sensitity matrices\n",
    "    model_sensitivity = []\n",
    "    \n",
    "    # Loop over number of outputs\n",
    "    for i in range(n_output):\n",
    "        \n",
    "        # Allocate empty sensitivty matrix\n",
    "        model_sensitivity.append(np.zeros((n_exp,n_param)))\n",
    "    \n",
    "    # Loop over parameters\n",
    "    for p in range(n_param):\n",
    "        output_forward = calc_model_output(theta_ + eps*np.ones(n_param), df)\n",
    "        output_backward = calc_model_output(theta_ - eps*np.ones(n_param), df)\n",
    "        \n",
    "        sensitivity = (output_forward - output_backward) / (2*eps)\n",
    "        \n",
    "        # Loop over outputs\n",
    "        for o in range(n_output):\n",
    "            # Copy sensitivity results\n",
    "            model_sensitivity[o][:,p] = sensitivity[:,o].copy()\n",
    "    \n",
    "    return model_sensitivity\n",
    "\n",
    "model_sensitivity = calc_model_sensitivity(theta_hat, df)\n",
    "\n",
    "print(\"CA sensitivity:\\n\",model_sensitivity[0])\n",
    "print(\"CB sensitivity:\\n\",model_sensitivity[1])\n",
    "print(\"CC sensitivity:\\n\",model_sensitivity[2])"
   ]
  },
  {
   "cell_type": "markdown",
   "metadata": {},
   "source": [
    "We are now ready to compute the FIM for each of the three measurements:\n",
    "\n",
    "$$\n",
    "M_{i} = (\\sigma^{-2}_{i}) \\mathbf{Q}_{i}^{T} \\mathbf{Q}_{i} \\quad \\forall i \\in \\{C_A, C_B, C_C \\}\n",
    "$$"
   ]
  },
  {
   "cell_type": "code",
   "execution_count": null,
   "metadata": {},
   "outputs": [],
   "source": [
    "# Allocate list of FIM\n",
    "FIM = []\n",
    "for i in range(0,3):\n",
    "    FIM.append( 1/noise_std_dev**2 * model_sensitivity[i].T @ model_sensitivity[i])\n",
    "\n",
    "print(\"FIM for CA "
   ]
  },
  {
   "cell_type": "markdown",
   "metadata": {
    "tags": []
   },
   "source": [
    "## What is the next best experiment?"
   ]
  },
  {
   "cell_type": "markdown",
   "metadata": {},
   "source": [
    "## Can we calibrate the model with just one experiment?"
   ]
  },
  {
   "cell_type": "markdown",
   "metadata": {},
   "source": [
    "## Take Away Messages"
   ]
  },
  {
   "cell_type": "code",
   "execution_count": null,
   "metadata": {},
   "outputs": [],
   "source": [
    "def generate_exp(t_set, CA0, T):  \n",
    "    \"\"\"Generate experiments. \n",
    "    t_set: time control set for T.\n",
    "    CA0: CA0 value\n",
    "    T: A list of T \n",
    "    \"\"\"\n",
    "    assert(len(t_set)==len(T)), 'T should have the same length as t_set'\n",
    "    \n",
    "    T_con_initial = {}\n",
    "    for t, tim in enumerate(t_set):\n",
    "        T_con_initial[tim] = T[t]\n",
    "        \n",
    "    dv_dict_overall = {'CA0': {0: CA0},'T': T_con_initial}\n",
    "    return dv_dict_overall"
   ]
  },
  {
   "cell_type": "code",
   "execution_count": null,
   "metadata": {},
   "outputs": [],
   "source": [
    "# empty prior\n",
    "prior_pass = np.zeros((4,4))\n",
    "\n",
    "print('The prior information FIM:', prior_pass)\n",
    "print('Prior Det:', np.linalg.det(prior_pass))\n",
    "print('Eigenvalue of the prior experiments FIM:', np.linalg.eigvals(prior_pass))"
   ]
  },
  {
   "cell_type": "markdown",
   "metadata": {},
   "source": [
    "## Method: Compute FIM \n",
    "\n",
    "This method computes an MBDoE optimization problem with no Degree of Freedom."
   ]
  },
  {
   "cell_type": "code",
   "execution_count": null,
   "metadata": {},
   "outputs": [],
   "source": [
    "# choose from 'sequential_finite', 'direct_kaug'\n",
    "# 'sequential_sipopt', 'sequential_kaug' is also available\n",
    "#sensi_opt = 'sequential_finite'\n",
    "sensi_opt = 'direct_kaug'\n",
    "\n",
    "# model option\n",
    "if sensi_opt == 'direct_kaug':\n",
    "    args_ = [False]\n",
    "else:\n",
    "    args_ = [True]\n",
    "    \n",
    "\n",
    "# Define experiments\n",
    "exp1 = generate_exp(t_control, 5, [570, 300, 300, 300, 300, 300, 300, 300, 300])"
   ]
  },
  {
   "cell_type": "code",
   "execution_count": null,
   "metadata": {
    "scrolled": true
   },
   "outputs": [],
   "source": [
    "doe_object = doe.DesignOfExperiments(parameter_dict, dv_pass,\n",
    "                                 measure_class, createmod,\n",
    "                                prior_FIM=prior_pass, discretize_model=disc, args=args_)\n",
    "\n",
    "\n",
    "result = doe_object.compute_FIM(exp1, mode=sensi_opt, FIM_store_name = 'dynamic.csv', \n",
    "                                store_output = 'store_output', read_output=None,\n",
    "                                scale_nominal_param_value=True,\n",
    "                                formula='central')\n",
    "\n",
    "\n",
    "result.calculate_FIM(doe_object.design_values)\n"
   ]
  },
  {
   "cell_type": "code",
   "execution_count": null,
   "metadata": {
    "scrolled": true
   },
   "outputs": [],
   "source": [
    "print('======Result summary======')\n",
    "print('Four design criteria log10() value:')\n",
    "print('A-optimality:', np.log10(result.trace))\n",
    "print('D-optimality:', np.log10(result.det))\n",
    "print('E-optimality:', np.log10(result.min_eig))\n",
    "print('Modified E-optimality:', np.log10(result.cond))"
   ]
  },
  {
   "cell_type": "markdown",
   "metadata": {},
   "source": [
    "## Method: Optimization\n",
    "Gradient-based optimization with IPOPT with .optimize_doe()\n",
    "\n",
    "This function solves twice: It solves the square version of the MBDoE problem first, and then unfixes the design variables as degree of freedom and solves again. In this way the optimization problem can be well initialized. "
   ]
  },
  {
   "cell_type": "code",
   "execution_count": null,
   "metadata": {},
   "outputs": [],
   "source": [
    "exp1 = generate_exp(t_control, 3, [500, 300, 300, 300, 300, 300, 300, 300, 300])\n",
    "\n",
    "# add a prior information (scaled FIM with T=500 and T=300 experiments)\n",
    "prior = np.asarray([[  28.67892806 ,   5.41249739 , -81.73674601 , -24.02377324],\n",
    " [   5.41249739 ,  26.40935036 , -12.41816477 , -139.23992532],\n",
    " [ -81.73674601 , -12.41816477 , 240.46276004 ,  58.76422806],\n",
    " [ -24.02377324 , -139.23992532 ,  58.76422806 , 767.25584508]])\n",
    "\n"
   ]
  },
  {
   "cell_type": "code",
   "execution_count": null,
   "metadata": {
    "scrolled": true
   },
   "outputs": [],
   "source": [
    "doe_object = doe.DesignOfExperiments(parameter_dict, dv_pass,\n",
    "                                 measure_class, createmod,\n",
    "                                prior_FIM=prior, discretize_model=disc, args=[True])\n",
    "\n",
    "square_result, optimize_result= doe_object.optimize_doe(exp1, if_optimize=True, if_Cholesky=True, \n",
    "                                                         scale_nominal_param_value=True, objective_option='det', \n",
    "                                                         L_initial=np.linalg.cholesky(prior))"
   ]
  },
  {
   "cell_type": "code",
   "execution_count": null,
   "metadata": {
    "scrolled": true
   },
   "outputs": [],
   "source": [
    "print('======Result summary======')\n",
    "print('This optimization is solved with status:', optimize_result.status)\n",
    "print('The result FIM is:', optimize_result.FIM)\n",
    "print('Four design criteria log10() value:')\n",
    "print('A-optimality:', np.log10(optimize_result.trace))\n",
    "print('D-optimality:', np.log10(optimize_result.det))\n",
    "print('E-optimality:', np.log10(optimize_result.min_eig))\n",
    "print('Modified E-optimality:', np.log10(optimize_result.cond))\n",
    "\n",
    "t_list = []\n",
    "for t in optimize_result.model.t:\n",
    "    t_list.append(t)\n",
    "\n",
    "T_list = []\n",
    "for i in t_list:\n",
    "    T_list.append(pyo.value(optimize_result.model.T[i]))\n",
    "    \n",
    "si=16\n",
    "plt.rc('axes', titlesize=si)\n",
    "plt.rc('axes', labelsize=si)\n",
    "plt.rc('xtick', labelsize=si)\n",
    "plt.rc('ytick', labelsize=si)\n",
    "plt.rc('legend', fontsize=12)\n",
    "plt.plot(t_list, T_list, 'b', linewidth=2)\n",
    "#plt.scatter(t_list, T_list, 'b')\n",
    "plt.ylabel('T [$K$]')\n",
    "plt.xlabel('Time [$h$]')\n",
    "plt.show()"
   ]
  },
  {
   "cell_type": "markdown",
   "metadata": {},
   "source": [
    "## Method: Exploratory analysis (Enumeration)\n",
    "\n",
    "This method conducts exploratory analysis by enumeration. \n",
    "It allows a user to define any number (dimensions) of design variables.\n",
    "Heatmaps can be drawn by two design variables, fixing other design variables; \n",
    "1D curve can be drawn by one design variable, fixing other design variables."
   ]
  },
  {
   "cell_type": "markdown",
   "metadata": {},
   "source": [
    "### Specify user inputs"
   ]
  },
  {
   "cell_type": "code",
   "execution_count": null,
   "metadata": {},
   "outputs": [],
   "source": [
    "# Design variable ranges as lists \n",
    "design_ranges = [list(np.linspace(1,5,5)), list(np.linspace(300,700,5))]\n",
    "\n",
    "# Design variable names \n",
    "dv_apply_name = ['CA0','T']\n",
    "\n",
    "# Design variable should be fixed at these time points\n",
    "dv_apply_time = [[0],t_control]\n",
    "\n",
    "# Define experiments. This is a starting point of which the value does not matter\n",
    "exp1 = generate_exp(t_control, 5, [300, 300, 300, 300, 300, 300, 300, 300, 300])\n",
    "    \n",
    "## choose from 'sequential_finite', 'direct_kaug'\n",
    "#sensi_opt = 'sequential_finite'\n",
    "sensi_opt = 'direct_kaug'\n",
    "\n",
    "# model option\n",
    "if sensi_opt == 'direct_kaug':\n",
    "    args_ = [False]\n",
    "else:\n",
    "    args_ = [True]"
   ]
  },
  {
   "cell_type": "code",
   "execution_count": null,
   "metadata": {},
   "outputs": [],
   "source": [
    "# add prior information\n",
    "prior_all = [[ 22.52943024 , 1.84034314, -70.23273336, -11.09432962],\n",
    " [   1.84034314 ,  18.09848116 ,  -5.73565034 , -109.15866135],\n",
    " [ -70.23273336 ,  -5.73565034 , 218.94192843 ,  34.57680848],\n",
    " [ -11.09432962 , -109.15866135 ,  34.57680848 ,  658.37644634]]\n",
    "\n",
    "print(np.shape(prior_all))\n",
    "\n",
    "prior_pass=np.asarray(prior_all)\n",
    "print(np.shape(prior_pass))\n",
    "\n",
    "print('The prior information FIM:', prior_pass)\n",
    "print('Prior Det:', np.linalg.det(prior_pass))"
   ]
  },
  {
   "cell_type": "code",
   "execution_count": null,
   "metadata": {
    "scrolled": true
   },
   "outputs": [],
   "source": [
    "doe_object = doe.DesignOfExperiments(parameter_dict, dv_pass,\n",
    "                                 measure_class, createmod,\n",
    "                                prior_FIM=prior_pass, discretize_model=disc, args=args_)\n",
    "\n",
    "all_fim = doe_object.run_grid_search(exp1, design_ranges, dv_apply_name, dv_apply_time, \n",
    "                                     mode=sensi_opt)"
   ]
  },
  {
   "cell_type": "markdown",
   "metadata": {},
   "source": [
    "### 1D sensitivity curve"
   ]
  },
  {
   "cell_type": "code",
   "execution_count": null,
   "metadata": {},
   "outputs": [],
   "source": [
    "test = all_fim.extract_criteria()\n",
    "\n",
    "## draw 1D sensitivity curve \n",
    "\n",
    "fixed = {\"'CA0'\": 5.0}\n",
    "\n",
    "all_fim.figure_drawing(fixed, ['T'], 'Reactor case','T [K]','$C_{A0}$ [M]' )\n",
    "\n"
   ]
  },
  {
   "cell_type": "markdown",
   "metadata": {},
   "source": [
    "## Heatmap"
   ]
  },
  {
   "cell_type": "code",
   "execution_count": null,
   "metadata": {
    "scrolled": true
   },
   "outputs": [],
   "source": [
    "fixed = {}\n",
    "all_fim.figure_drawing(fixed, ['CA0','T'], 'Reactor case','$C_{A0}$ [M]', 'T [K]' )"
   ]
  },
  {
   "cell_type": "markdown",
   "metadata": {},
   "source": [
    "## Grid search for 3 design variables"
   ]
  },
  {
   "cell_type": "code",
   "execution_count": null,
   "metadata": {},
   "outputs": [],
   "source": [
    "# Define design ranges\n",
    "design_ranges = [list(np.linspace(1,5,2)),  list(np.linspace(300,700,2)), [300,500]]\n",
    "\n",
    "# Define design variable \n",
    "# Here the two T are for different controlling time subsets\n",
    "dv_apply_name = ['CA0', 'T', 'T']\n",
    "dv_apply_time = [[0], [0], [0.125, 0.25, 0.375, 0.5, 0.625, 0.75, 0.875,1]]\n",
    "\n",
    "# Define experiments\n",
    "exp1 = generate_exp(t_control, 5, [300, 300, 300, 300, 300, 300, 300, 300, 300])\n",
    "\n",
    "## choose from 'sequential_finite', 'direct_kaug'\n",
    "#sensi_opt = 'sequential_finite'\n",
    "sensi_opt = 'direct_kaug'\n",
    "\n",
    "# model option\n",
    "if sensi_opt == 'direct_kaug':\n",
    "    args_ = [False]\n",
    "else:\n",
    "    args_ = [True]"
   ]
  },
  {
   "cell_type": "code",
   "execution_count": null,
   "metadata": {},
   "outputs": [],
   "source": [
    "doe_object = doe.DesignOfExperiments(parameter_dict, dv_pass,\n",
    "                                 measure_class, createmod,\n",
    "                                prior_FIM=prior_pass, discretize_model=disc, args=args_)\n",
    "\n",
    "all_fim = doe_object.run_grid_search(exp1, design_ranges, dv_apply_name, dv_apply_time, \n",
    "                                     mode=sensi_opt)"
   ]
  },
  {
   "cell_type": "markdown",
   "metadata": {},
   "source": [
    "### Draw 1D sensitivity curve"
   ]
  },
  {
   "cell_type": "code",
   "execution_count": null,
   "metadata": {
    "scrolled": true
   },
   "outputs": [],
   "source": [
    "test = all_fim.extract_criteria()"
   ]
  },
  {
   "cell_type": "code",
   "execution_count": null,
   "metadata": {},
   "outputs": [],
   "source": [
    "## draw 1D sensitivity curve \n",
    "\n",
    "fixed = {\"'CA0'\": 1.0, \"'T2'\": 300}\n",
    "\n",
    "all_fim.figure_drawing(fixed, ['T'], 'Reactor case','T [K]','$C_{A0}$ [M]' )"
   ]
  },
  {
   "cell_type": "markdown",
   "metadata": {},
   "source": [
    "### Draw 2D sensitivity curve"
   ]
  },
  {
   "cell_type": "code",
   "execution_count": null,
   "metadata": {},
   "outputs": [],
   "source": [
    "fixed = {\"'T2'\": 300}\n",
    "\n",
    "all_fim.figure_drawing(fixed, ['CA0','T'], 'Reactor case','$C_{A0}$ [M]', 'T [K]' )"
   ]
  }
 ],
 "metadata": {
  "kernelspec": {
   "display_name": "Python 3 (ipykernel)",
   "language": "python",
   "name": "python3"
  },
  "language_info": {
   "codemirror_mode": {
    "name": "ipython",
    "version": 3
   },
   "file_extension": ".py",
   "mimetype": "text/x-python",
   "name": "python",
   "nbconvert_exporter": "python",
   "pygments_lexer": "ipython3",
   "version": "3.9.12"
  }
 },
 "nbformat": 4,
 "nbformat_minor": 4
}
