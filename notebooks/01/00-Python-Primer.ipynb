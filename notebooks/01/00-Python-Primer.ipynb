{
 "cells": [
  {
   "cell_type": "markdown",
   "metadata": {
    "tags": []
   },
   "source": [
    "# Python Primer"
   ]
  },
  {
   "cell_type": "markdown",
   "metadata": {
    "tags": []
   },
   "source": [
    "## Why Python?\n",
    "\n",
    "* Python is extremely popular for **scientific computing** and **data science**\n",
    "* Python is a *high-level* language. Its syntax is more flexible and forgiving.\n",
    "* Many concepts from Python translate to other languages such as Fortran, C/C++, MATLAB, etc.\n",
    "* You will use Python in **CBE 30338** (Process Controls) and it is helpful for **CBE 30370** (Phase Equilibria and Separations).\n",
    "\n",
    "**IEEE names Python as the top programming language of 2019**\n",
    "\n",
    "More info: https://spectrum.ieee.org/static/interactive-the-top-programming-languages-2019\n",
    "\n",
    "**Python is extremely popular for machine learning and data science**\n",
    "\n",
    "More info: https://github.blog/2019-01-24-the-state-of-the-octoverse-machine-learning/#programming-languages\n",
    "\n",
    "![image1](https://jaxenter.com/wp-content/uploads/2019/01/octoverse-ml-1-768x633.png)\n",
    "\n",
    "![image2](https://jaxenter.com/wp-content/uploads/2019/01/octoverse-ml-2-768x636.png)\n"
   ]
  },
  {
   "cell_type": "markdown",
   "metadata": {},
   "source": [
    "## Chapter Learning Objectives\n",
    "\n",
    "After studying this notebook, completing the activities, and asking questions in class, you should be able to:\n",
    "* Write pseudocode and comments pursuant to class standards.\n",
    "* Write, debug, and predict the output of 10 to 20 line Python programs that use `for`, `while`, `if`, `elif`, and `else`.\n",
    "* Create and manipulate strings in Python.\n",
    "* Create and iterate over lists.\n",
    "* Create and use functions in Python. This includes writing a complete document string.\n",
    "* Explain scope to a classmate. Predict the output of Python code that involves scope rules (similar to activity).\n",
    "* Read text files into Python."
   ]
  },
  {
   "cell_type": "markdown",
   "metadata": {},
   "source": [
    "## Activities\n",
    "\n",
    "This repository contains a collection Python notebooks with embedded activities."
   ]
  },
  {
   "cell_type": "markdown",
   "metadata": {},
   "source": [
    "<div style=\"background-color: rgba(0,255,0,0.05) ; padding: 10px; border: 1px solid darkgreen;\"> \n",
    "<b>Home Activity</b>: These are very short activities are designed to promote quick mastery.\n",
    "</div>"
   ]
  },
  {
   "cell_type": "markdown",
   "metadata": {},
   "source": [
    "For each class meeting, you will be assigned one or more notebooks to **read completely**. We recommend you also work through all of the home activities as part of the reading. We will post any **required** home activities to Vocareum."
   ]
  },
  {
   "cell_type": "markdown",
   "metadata": {},
   "source": [
    "Some activities we plan to revist during tutorial."
   ]
  },
  {
   "cell_type": "markdown",
   "metadata": {},
   "source": [
    "<div style=\"background-color: rgba(255,0,0,0.05) ; padding: 10px; border: 1px solid darkred;\"> \n",
    "<b>Tutorial Activity</b>: We will come back to this activity in tutorial.\n",
    "</div>"
   ]
  },
  {
   "cell_type": "markdown",
   "metadata": {},
   "source": [
    "During each lecture, we will walk through the notebook. A majority of class time will be dedicated to completing **class activities** with partners and discussing as a class. It is critical you attempt the home activties before coming to class, otherwise you may not be ready for the class activities."
   ]
  },
  {
   "cell_type": "markdown",
   "metadata": {},
   "source": [
    "<div style=\"background-color: rgba(0,0,255,0.05) ; padding: 10px; border: 1px solid darkblue;\"> \n",
    "<b>Class Activity</b>: We will work on these activities with partners and then compile solutions together.\n",
    "</div>"
   ]
  },
  {
   "cell_type": "markdown",
   "metadata": {},
   "source": [
    "We will use Vocareum to collect and grade almost all Python assignments this semester. We are providing most of the same activities here on this website as a resource for you in future semesters, e.g., in junior/senior lab when you need to do error propagation."
   ]
  },
  {
   "cell_type": "code",
   "execution_count": 1,
   "metadata": {
    "tags": [
     "hide-input"
    ]
   },
   "outputs": [
    {
     "name": "stdout",
     "output_type": "stream",
     "text": [
      "2\n"
     ]
    }
   ],
   "source": [
    "# Testing: hide-input cell\n",
    "a = 2\n",
    "print(a)"
   ]
  },
  {
   "cell_type": "code",
   "execution_count": 2,
   "metadata": {
    "tags": [
     "hide-output"
    ]
   },
   "outputs": [
    {
     "name": "stdout",
     "output_type": "stream",
     "text": [
      "1\n"
     ]
    }
   ],
   "source": [
    "# Testing: hide-output\n",
    "b = 1\n",
    "print(b)"
   ]
  },
  {
   "cell_type": "code",
   "execution_count": 3,
   "metadata": {
    "tags": [
     "hide-cell"
    ]
   },
   "outputs": [
    {
     "name": "stdout",
     "output_type": "stream",
     "text": [
      "3\n"
     ]
    }
   ],
   "source": [
    "# Testing: hide-cell\n",
    "c = 3\n",
    "print(c)"
   ]
  },
  {
   "cell_type": "code",
   "execution_count": 4,
   "metadata": {
    "tags": [
     "remove-output"
    ]
   },
   "outputs": [
    {
     "name": "stdout",
     "output_type": "stream",
     "text": [
      "5\n"
     ]
    }
   ],
   "source": [
    "# Testing: remove-output\n",
    "d = 5\n",
    "print(d)"
   ]
  },
  {
   "cell_type": "code",
   "execution_count": 5,
   "metadata": {
    "tags": [
     "remove-cell"
    ]
   },
   "outputs": [
    {
     "name": "stdout",
     "output_type": "stream",
     "text": [
      "4\n"
     ]
    }
   ],
   "source": [
    "# Testing: remove-cell\n",
    "e = 4\n",
    "print(e)"
   ]
  },
  {
   "cell_type": "markdown",
   "metadata": {},
   "source": [
    "<div style=\"background-color: rgba(255,255,0,0.05) ; padding: 10px; border: 1px solid black;\"> \n",
    "<b>Note</b>: This will add a note.\n",
    "</div>"
   ]
  },
  {
   "cell_type": "code",
   "execution_count": null,
   "metadata": {},
   "outputs": [],
   "source": []
  }
 ],
 "metadata": {
  "kernelspec": {
   "display_name": "Python 3 (ipykernel)",
   "language": "python",
   "name": "python3"
  },
  "language_info": {
   "codemirror_mode": {
    "name": "ipython",
    "version": 3
   },
   "file_extension": ".py",
   "mimetype": "text/x-python",
   "name": "python",
   "nbconvert_exporter": "python",
   "pygments_lexer": "ipython3",
   "version": "3.9.12"
  }
 },
 "nbformat": 4,
 "nbformat_minor": 4
}
