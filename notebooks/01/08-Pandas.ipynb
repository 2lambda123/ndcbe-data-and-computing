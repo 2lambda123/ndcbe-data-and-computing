{
 "cells": [
  {
   "cell_type": "markdown",
   "metadata": {
    "colab_type": "text",
    "id": "MElKNIbuqnWJ"
   },
   "source": [
    "# Manipulating Data with Pandas"
   ]
  },
  {
   "cell_type": "markdown",
   "metadata": {
    "colab_type": "text",
    "id": "OS9TuD7EhSZQ"
   },
   "source": [
    "## Learning Objectives\n",
    "After studying this notebook, completing the activities, and asking questions in class, you should be able to:\n",
    "\n",
    "* Import and analyze data using Pandas\n",
    " * Read data from a text file\n",
    " * Loop over columns in Pandas array\n",
    " * Compute descriptive statistics with Pandas\n",
    " * Plot data stored in a Pandas dataframe"
   ]
  },
  {
   "cell_type": "markdown",
   "metadata": {},
   "source": [
    "## Working with Data Using Pandas"
   ]
  },
  {
   "cell_type": "markdown",
   "metadata": {},
   "source": [
    "[The publisher](http://highered.mheducation.com/sites/0073401331/student_view0/data_sets.html) contains all of the data for the examples and tables in our textbook. We'll use many of these datasets to illustrate key concepts in class.\n",
    "\n",
    "Let's start with Tables 1.1 and 1.2 (pg. 21), which give **particulate matter (PM) emissions in g/gal** for 138 and 62 vehicles at low and high altitudes, respectively. Please take a moment to find those tables on the [website.](https://semmedia.mhhe.com/engineering/navidi_4e/navidi_4e_datasets.html#Ch1)\n",
    "\n",
    "Now let's load the data into Python. In this class, we will use `Pandas`, which is a super popular and easy to use package/library/module for organizing and manipulating data. Here is a highly recommended [10 minutes to pandas](https://pandas.pydata.org/pandas-docs/stable/getting_started/10min.html) getting started tutorial."
   ]
  },
  {
   "cell_type": "code",
   "execution_count": 1,
   "metadata": {},
   "outputs": [],
   "source": [
    "# load the Pandas library, give nickname 'pd'\n",
    "import pandas as pd\n",
    "\n",
    "# load numpy, give nickname 'np'\n",
    "import numpy as np\n",
    "\n",
    "# load matplotlib, give nickname 'plt'\n",
    "import matplotlib.pyplot as plt"
   ]
  },
  {
   "cell_type": "markdown",
   "metadata": {},
   "source": [
    "### Loading and Inspecting Data"
   ]
  },
  {
   "cell_type": "markdown",
   "metadata": {},
   "source": [
    "The code below reads in the first text file."
   ]
  },
  {
   "cell_type": "code",
   "execution_count": 2,
   "metadata": {},
   "outputs": [],
   "source": [
    "low = pd.read_csv('../data/table1-1.csv')"
   ]
  },
  {
   "cell_type": "markdown",
   "metadata": {},
   "source": [
    "This creates a Pandas **dataframe**, which is stored in the variable `low`. We can easily print its contents to the screen."
   ]
  },
  {
   "cell_type": "code",
   "execution_count": 3,
   "metadata": {},
   "outputs": [
    {
     "name": "stdout",
     "output_type": "stream",
     "text": [
      "       PM\n",
      "0    1.50\n",
      "1    0.87\n",
      "2    1.12\n",
      "3    1.25\n",
      "4    3.46\n",
      "..    ...\n",
      "133  4.63\n",
      "134  2.80\n",
      "135  2.16\n",
      "136  2.97\n",
      "137  3.90\n",
      "\n",
      "[138 rows x 1 columns]\n"
     ]
    }
   ],
   "source": [
    "print(low)"
   ]
  },
  {
   "cell_type": "code",
   "execution_count": 4,
   "metadata": {},
   "outputs": [
    {
     "data": {
      "text/plain": [
       "138"
      ]
     },
     "execution_count": 4,
     "metadata": {},
     "output_type": "execute_result"
    }
   ],
   "source": [
    "len(low)"
   ]
  },
  {
   "cell_type": "markdown",
   "metadata": {},
   "source": [
    "The first row (vehicle) is numbered 0, which is perhaps not a surprise. We see there are 138 rows in the dataset, which matches what we expect: data for 138 vehicles at low altitude.\n",
    "\n",
    "The output above is ugly. We can use the `.head()` and `.tail()` commands to look at only the first and last five entries."
   ]
  },
  {
   "cell_type": "code",
   "execution_count": 9,
   "metadata": {},
   "outputs": [
    {
     "data": {
      "text/html": [
       "<div>\n",
       "<style scoped>\n",
       "    .dataframe tbody tr th:only-of-type {\n",
       "        vertical-align: middle;\n",
       "    }\n",
       "\n",
       "    .dataframe tbody tr th {\n",
       "        vertical-align: top;\n",
       "    }\n",
       "\n",
       "    .dataframe thead th {\n",
       "        text-align: right;\n",
       "    }\n",
       "</style>\n",
       "<table border=\"1\" class=\"dataframe\">\n",
       "  <thead>\n",
       "    <tr style=\"text-align: right;\">\n",
       "      <th></th>\n",
       "      <th>PM</th>\n",
       "    </tr>\n",
       "  </thead>\n",
       "  <tbody>\n",
       "    <tr>\n",
       "      <th>0</th>\n",
       "      <td>1.50</td>\n",
       "    </tr>\n",
       "    <tr>\n",
       "      <th>1</th>\n",
       "      <td>0.87</td>\n",
       "    </tr>\n",
       "    <tr>\n",
       "      <th>2</th>\n",
       "      <td>1.12</td>\n",
       "    </tr>\n",
       "    <tr>\n",
       "      <th>3</th>\n",
       "      <td>1.25</td>\n",
       "    </tr>\n",
       "    <tr>\n",
       "      <th>4</th>\n",
       "      <td>3.46</td>\n",
       "    </tr>\n",
       "  </tbody>\n",
       "</table>\n",
       "</div>"
      ],
      "text/plain": [
       "     PM\n",
       "0  1.50\n",
       "1  0.87\n",
       "2  1.12\n",
       "3  1.25\n",
       "4  3.46"
      ]
     },
     "execution_count": 9,
     "metadata": {},
     "output_type": "execute_result"
    }
   ],
   "source": [
    "low.head()"
   ]
  },
  {
   "cell_type": "code",
   "execution_count": 10,
   "metadata": {},
   "outputs": [
    {
     "data": {
      "text/html": [
       "<div>\n",
       "<style scoped>\n",
       "    .dataframe tbody tr th:only-of-type {\n",
       "        vertical-align: middle;\n",
       "    }\n",
       "\n",
       "    .dataframe tbody tr th {\n",
       "        vertical-align: top;\n",
       "    }\n",
       "\n",
       "    .dataframe thead th {\n",
       "        text-align: right;\n",
       "    }\n",
       "</style>\n",
       "<table border=\"1\" class=\"dataframe\">\n",
       "  <thead>\n",
       "    <tr style=\"text-align: right;\">\n",
       "      <th></th>\n",
       "      <th>PM</th>\n",
       "    </tr>\n",
       "  </thead>\n",
       "  <tbody>\n",
       "    <tr>\n",
       "      <th>133</th>\n",
       "      <td>4.63</td>\n",
       "    </tr>\n",
       "    <tr>\n",
       "      <th>134</th>\n",
       "      <td>2.80</td>\n",
       "    </tr>\n",
       "    <tr>\n",
       "      <th>135</th>\n",
       "      <td>2.16</td>\n",
       "    </tr>\n",
       "    <tr>\n",
       "      <th>136</th>\n",
       "      <td>2.97</td>\n",
       "    </tr>\n",
       "    <tr>\n",
       "      <th>137</th>\n",
       "      <td>3.90</td>\n",
       "    </tr>\n",
       "  </tbody>\n",
       "</table>\n",
       "</div>"
      ],
      "text/plain": [
       "       PM\n",
       "133  4.63\n",
       "134  2.80\n",
       "135  2.16\n",
       "136  2.97\n",
       "137  3.90"
      ]
     },
     "execution_count": 10,
     "metadata": {},
     "output_type": "execute_result"
    }
   ],
   "source": [
    "low.tail()"
   ]
  },
  {
   "cell_type": "markdown",
   "metadata": {},
   "source": [
    "<div style=\"background-color: rgba(0,255,0,0.05) ; padding: 10px; border: 1px solid darkgreen;\"> \n",
    "    <b>Home Activity</b>: Load the high altitude data, which is stored in <tt>table1-2.csv</tt> into the Pandas dataframe <tt>high</tt>. Verify there are 62 rows. Use the head command to see the first few rows.\n",
    "</div>"
   ]
  },
  {
   "cell_type": "code",
   "execution_count": 11,
   "metadata": {
    "tags": [
     "hide-output"
    ]
   },
   "outputs": [
    {
     "name": "stdout",
     "output_type": "stream",
     "text": [
      "Number of rows =  62\n"
     ]
    },
    {
     "data": {
      "text/html": [
       "<div>\n",
       "<style scoped>\n",
       "    .dataframe tbody tr th:only-of-type {\n",
       "        vertical-align: middle;\n",
       "    }\n",
       "\n",
       "    .dataframe tbody tr th {\n",
       "        vertical-align: top;\n",
       "    }\n",
       "\n",
       "    .dataframe thead th {\n",
       "        text-align: right;\n",
       "    }\n",
       "</style>\n",
       "<table border=\"1\" class=\"dataframe\">\n",
       "  <thead>\n",
       "    <tr style=\"text-align: right;\">\n",
       "      <th></th>\n",
       "      <th>PM</th>\n",
       "    </tr>\n",
       "  </thead>\n",
       "  <tbody>\n",
       "    <tr>\n",
       "      <th>0</th>\n",
       "      <td>7.59</td>\n",
       "    </tr>\n",
       "    <tr>\n",
       "      <th>1</th>\n",
       "      <td>6.28</td>\n",
       "    </tr>\n",
       "    <tr>\n",
       "      <th>2</th>\n",
       "      <td>6.07</td>\n",
       "    </tr>\n",
       "    <tr>\n",
       "      <th>3</th>\n",
       "      <td>5.23</td>\n",
       "    </tr>\n",
       "    <tr>\n",
       "      <th>4</th>\n",
       "      <td>5.54</td>\n",
       "    </tr>\n",
       "  </tbody>\n",
       "</table>\n",
       "</div>"
      ],
      "text/plain": [
       "     PM\n",
       "0  7.59\n",
       "1  6.28\n",
       "2  6.07\n",
       "3  5.23\n",
       "4  5.54"
      ]
     },
     "execution_count": 11,
     "metadata": {},
     "output_type": "execute_result"
    }
   ],
   "source": [
    "### BEGIN SOLUTION\n",
    "high = pd.read_csv('../data/table1-2.csv')\n",
    "\n",
    "print(\"Number of rows = \",len(high))\n",
    "\n",
    "high.head()\n",
    "\n",
    "### END SOLUTION"
   ]
  },
  {
   "cell_type": "code",
   "execution_count": 13,
   "metadata": {
    "nbgrader": {
     "grade": true,
     "grade_id": " 3c-i",
     "locked": true,
     "points": "0.1",
     "solution": false
    }
   },
   "outputs": [],
   "source": [
    "### BEGIN HIDDEN TESTS\n",
    "\n",
    "assert len(high) == 62, \"There should be 62 rows.\"\n",
    "\n",
    "### END HIDDEN TESTS"
   ]
  },
  {
   "cell_type": "markdown",
   "metadata": {},
   "source": [
    "### Computing Summary Statistics"
   ]
  },
  {
   "cell_type": "markdown",
   "metadata": {},
   "source": [
    "Our example so far has only one column of data, named `PM`. We can access this column two ways:"
   ]
  },
  {
   "cell_type": "code",
   "execution_count": 14,
   "metadata": {},
   "outputs": [
    {
     "data": {
      "text/plain": [
       "0      1.50\n",
       "1      0.87\n",
       "2      1.12\n",
       "3      1.25\n",
       "4      3.46\n",
       "       ... \n",
       "133    4.63\n",
       "134    2.80\n",
       "135    2.16\n",
       "136    2.97\n",
       "137    3.90\n",
       "Name: PM, Length: 138, dtype: float64"
      ]
     },
     "execution_count": 14,
     "metadata": {},
     "output_type": "execute_result"
    }
   ],
   "source": [
    "low['PM']"
   ]
  },
  {
   "cell_type": "code",
   "execution_count": 15,
   "metadata": {},
   "outputs": [
    {
     "data": {
      "text/plain": [
       "0      1.50\n",
       "1      0.87\n",
       "2      1.12\n",
       "3      1.25\n",
       "4      3.46\n",
       "       ... \n",
       "133    4.63\n",
       "134    2.80\n",
       "135    2.16\n",
       "136    2.97\n",
       "137    3.90\n",
       "Name: PM, Length: 138, dtype: float64"
      ]
     },
     "execution_count": 15,
     "metadata": {},
     "output_type": "execute_result"
    }
   ],
   "source": [
    "low.PM"
   ]
  },
  {
   "cell_type": "markdown",
   "metadata": {},
   "source": [
    "Pandas also makes it extremely easy to compute summary statistics and perform exploratory data analysis."
   ]
  },
  {
   "cell_type": "code",
   "execution_count": 16,
   "metadata": {},
   "outputs": [
    {
     "data": {
      "text/plain": [
       "count    138.000000\n",
       "mean       3.714565\n",
       "std        2.558040\n",
       "min        0.250000\n",
       "25%        1.472500\n",
       "50%        3.180000\n",
       "75%        5.265000\n",
       "max       11.230000\n",
       "Name: PM, dtype: float64"
      ]
     },
     "execution_count": 16,
     "metadata": {},
     "output_type": "execute_result"
    }
   ],
   "source": [
    "low.PM.describe()"
   ]
  },
  {
   "cell_type": "markdown",
   "metadata": {},
   "source": [
    "We will mathematically define the mean (a.k.a. average), standard deviation (std), minimum (min), maximum (max), and 25%-, 50%-, and 75%-ile (percentile) later this semester. The 50%-ile is also know as the median. Half of the observations are above the median and half are below."
   ]
  },
  {
   "cell_type": "markdown",
   "metadata": {},
   "source": [
    "<div style=\"background-color: rgba(0,255,0,0.05) ; padding: 10px; border: 1px solid darkgreen;\"> \n",
    "    <b>Home Activity</b>: Compute the mean (average) and median (50%-ile) for high altitude data. Store the results in Python variables <tt>high_average</tt> and <tt>high_median</tt>.\n",
    "</div>"
   ]
  },
  {
   "cell_type": "code",
   "execution_count": 17,
   "metadata": {
    "tags": [
     "hide-output"
    ]
   },
   "outputs": [
    {
     "name": "stdout",
     "output_type": "stream",
     "text": [
      "count    62.000000\n",
      "mean      6.596452\n",
      "std       4.518998\n",
      "min       1.110000\n",
      "25%       3.487500\n",
      "50%       5.750000\n",
      "75%       7.755000\n",
      "max      23.380000\n",
      "Name: PM, dtype: float64\n"
     ]
    }
   ],
   "source": [
    "### BEGIN SOLUTION\n",
    "print(high['PM'].describe())\n",
    "\n",
    "high_average = 6.596452\n",
    "high_median = 5.750000\n",
    "### END SOLUTION"
   ]
  },
  {
   "cell_type": "code",
   "execution_count": 18,
   "metadata": {
    "nbgrader": {
     "grade": true,
     "grade_id": "3c-ii",
     "locked": true,
     "points": "0.1",
     "solution": false
    }
   },
   "outputs": [],
   "source": [
    "### BEGIN HIDDEN TESTS\n",
    "ans_average = 6.596452\n",
    "ans_median = 5.750000\n",
    "\n",
    "assert np.abs(high_average - ans_average) < 1E-4, \"Check the mean (average) calculation.\"\n",
    "assert np.abs(high_median - ans_median) < 1E-4, \"Check the median (50%-ile) calculation.\"\n",
    "### END HIDDEN TESTS"
   ]
  },
  {
   "cell_type": "markdown",
   "metadata": {},
   "source": [
    "### Combining Pandas and Matplotlib"
   ]
  },
  {
   "cell_type": "markdown",
   "metadata": {},
   "source": [
    "Together, Pandas and Matplotlib make it easy to quickly visualize a dataset. The code below creates a histogram."
   ]
  },
  {
   "cell_type": "code",
   "execution_count": 19,
   "metadata": {},
   "outputs": [
    {
     "data": {
      "image/png": "[encoded data removed]",
      "text/plain": [
       "<Figure size 432x288 with 1 Axes>"
      ]
     },
     "metadata": {
      "needs_background": "light"
     },
     "output_type": "display_data"
    }
   ],
   "source": [
    "plt.hist(low.PM)\n",
    "plt.xlabel(\"Particulate Matter (PM) Emissions in g/gal \")\n",
    "plt.ylabel(\"Count\")\n",
    "plt.title(\"Emissions at Low Altitude\")\n",
    "plt.grid(True)\n",
    "plt.show()"
   ]
  },
  {
   "cell_type": "markdown",
   "metadata": {},
   "source": [
    "Each bin of the histogram shows the count (number) of vehicle with emissions between the left and right bound of the bin. For example, the third bin from the left shows that there are approximate 30 vehicles in the dataset with emissions between 2.2 and 3.8 g/gal."
   ]
  },
  {
   "cell_type": "markdown",
   "metadata": {},
   "source": [
    "<div style=\"background-color: rgba(0,255,0,0.05) ; padding: 10px; border: 1px solid darkgreen;\"> \n",
    "    <b>Home Activity</b>: Create a histogram for the high altitude data. Then determine the approximate number of vehicles with emissions between 0 and 3 g/gal. Store your answer in <tt>high_count</tt>. The upper limit of 3 g/gal is approximate. We want you to make a plot and interpret it.\n",
    "</div>"
   ]
  },
  {
   "cell_type": "code",
   "execution_count": 20,
   "metadata": {
    "tags": [
     "hide-output"
    ]
   },
   "outputs": [
    {
     "data": {
      "image/png": "[encoded data removed]",
      "text/plain": [
       "<Figure size 432x288 with 1 Axes>"
      ]
     },
     "metadata": {
      "needs_background": "light"
     },
     "output_type": "display_data"
    }
   ],
   "source": [
    "### BEGIN SOLUTION\n",
    "plt.hist(high.PM)\n",
    "plt.xlabel(\"Particulate Matter (PM) Emissions in g/gal \")\n",
    "plt.ylabel(\"Count\")\n",
    "plt.title(\"Emissions at High Altitude\")\n",
    "plt.grid(True)\n",
    "plt.show()\n",
    "\n",
    "high_count = 15\n",
    "### END SOLUTION"
   ]
  },
  {
   "cell_type": "code",
   "execution_count": 21,
   "metadata": {
    "nbgrader": {
     "grade": true,
     "grade_id": "3c-iii",
     "locked": true,
     "points": "0.1",
     "solution": false
    }
   },
   "outputs": [],
   "source": [
    "### BEGIN HIDDEN TESTS\n",
    "assert np.abs(high_count - 15) < 1.1, \"Check your plot again. The bounds on 0 to 3 are approximate.\"\n",
    "### END HIDDEN TESTS"
   ]
  },
  {
   "cell_type": "markdown",
   "metadata": {},
   "source": [
    "## Investment Strategies"
   ]
  },
  {
   "cell_type": "markdown",
   "metadata": {},
   "source": [
    "We will spend one-third to one-half of Class 3 working on an example to leverage our new Python skills.\n",
    "\n",
    "The CSV (Comma Seperated Value) file `Stock_Data.csv` is the historical daily adjusted closing prices for five index funds:\n",
    "\n",
    "| Symbol | Name |\n",
    "|-|-|\n",
    "| GSPC | S&P 500 | \n",
    "| DJI | Dow Jones Industrial Average | \n",
    "| IXIC | NASDAQ Composite | \n",
    "| RUT | Russell 2000 |\n",
    "| VIX | CBOE Volatility Index |"
   ]
  },
  {
   "cell_type": "markdown",
   "metadata": {},
   "source": [
    "### Getting Started"
   ]
  },
  {
   "cell_type": "markdown",
   "metadata": {},
   "source": [
    "<div style=\"background-color: rgba(0,255,0,0.05) ; padding: 10px; border: 1px solid darkgreen;\"> \n",
    "    <b>Home Activity</b>: Load the data into a Pandas dataframe named <tt>stocks</tt>. Then inspect the first 5 rows.\n",
    "</div>"
   ]
  },
  {
   "cell_type": "code",
   "execution_count": 22,
   "metadata": {
    "tags": [
     "hide-output"
    ]
   },
   "outputs": [
    {
     "data": {
      "text/html": [
       "<div>\n",
       "<style scoped>\n",
       "    .dataframe tbody tr th:only-of-type {\n",
       "        vertical-align: middle;\n",
       "    }\n",
       "\n",
       "    .dataframe tbody tr th {\n",
       "        vertical-align: top;\n",
       "    }\n",
       "\n",
       "    .dataframe thead th {\n",
       "        text-align: right;\n",
       "    }\n",
       "</style>\n",
       "<table border=\"1\" class=\"dataframe\">\n",
       "  <thead>\n",
       "    <tr style=\"text-align: right;\">\n",
       "      <th></th>\n",
       "      <th>DJI</th>\n",
       "      <th>GSPC</th>\n",
       "      <th>IXIC</th>\n",
       "      <th>RUT</th>\n",
       "      <th>VIX</th>\n",
       "    </tr>\n",
       "  </thead>\n",
       "  <tbody>\n",
       "    <tr>\n",
       "      <th>0</th>\n",
       "      <td>14447.75000</td>\n",
       "      <td>1551.689941</td>\n",
       "      <td>3235.300049</td>\n",
       "      <td>945.849976</td>\n",
       "      <td>13.74</td>\n",
       "    </tr>\n",
       "    <tr>\n",
       "      <th>1</th>\n",
       "      <td>14559.65039</td>\n",
       "      <td>1563.770020</td>\n",
       "      <td>3252.479980</td>\n",
       "      <td>949.820007</td>\n",
       "      <td>12.77</td>\n",
       "    </tr>\n",
       "    <tr>\n",
       "      <th>2</th>\n",
       "      <td>14526.16016</td>\n",
       "      <td>1562.849976</td>\n",
       "      <td>3256.520020</td>\n",
       "      <td>950.239990</td>\n",
       "      <td>13.15</td>\n",
       "    </tr>\n",
       "    <tr>\n",
       "      <th>3</th>\n",
       "      <td>14578.54004</td>\n",
       "      <td>1569.189941</td>\n",
       "      <td>3267.520020</td>\n",
       "      <td>951.539978</td>\n",
       "      <td>12.70</td>\n",
       "    </tr>\n",
       "    <tr>\n",
       "      <th>4</th>\n",
       "      <td>14572.84961</td>\n",
       "      <td>1562.170044</td>\n",
       "      <td>3239.169922</td>\n",
       "      <td>938.789978</td>\n",
       "      <td>13.58</td>\n",
       "    </tr>\n",
       "  </tbody>\n",
       "</table>\n",
       "</div>"
      ],
      "text/plain": [
       "           DJI         GSPC         IXIC         RUT    VIX\n",
       "0  14447.75000  1551.689941  3235.300049  945.849976  13.74\n",
       "1  14559.65039  1563.770020  3252.479980  949.820007  12.77\n",
       "2  14526.16016  1562.849976  3256.520020  950.239990  13.15\n",
       "3  14578.54004  1569.189941  3267.520020  951.539978  12.70\n",
       "4  14572.84961  1562.170044  3239.169922  938.789978  13.58"
      ]
     },
     "execution_count": 22,
     "metadata": {},
     "output_type": "execute_result"
    }
   ],
   "source": [
    "### BEGIN SOLUTION\n",
    "stocks = pd.read_csv('../data/Stock_Data.csv')\n",
    "stocks.head()\n",
    "### END SOLUTION"
   ]
  },
  {
   "cell_type": "code",
   "execution_count": 23,
   "metadata": {
    "nbgrader": {
     "grade": true,
     "grade_id": "3d-i",
     "locked": true,
     "points": "0.1",
     "solution": false
    }
   },
   "outputs": [],
   "source": [
    "### BEGIN HIDDEN TESTS\n",
    "assert len(stocks) == 1259, \"The dataframe 'stocks' should have 1259 rows\"\n",
    "\n",
    "for c in ['DJI','GSPC','IXIC','RUT','VIX']:\n",
    "    assert c in stocks.columns, \"The dataframe should have a column named \"+c\n",
    "### END HIDDEN TESTS"
   ]
  },
  {
   "cell_type": "markdown",
   "metadata": {},
   "source": [
    "We can loop over the column names of the dataframe:"
   ]
  },
  {
   "cell_type": "code",
   "execution_count": 24,
   "metadata": {},
   "outputs": [
    {
     "name": "stdout",
     "output_type": "stream",
     "text": [
      "The mean price of DJI is 18308.909006274782 dollars.\n",
      "The mean price of GSPC is 2090.5075138498805 dollars.\n",
      "The mean price of IXIC is 4998.311674695007 dollars.\n",
      "The mean price of RUT is 1220.7430421429713 dollars.\n",
      "The mean price of VIX is 14.550937264495646 dollars.\n"
     ]
    }
   ],
   "source": [
    "for c in stocks.columns:\n",
    "    print(\"The mean price of\",c,\"is\",stocks[c].mean(),\"dollars.\")"
   ]
  },
  {
   "cell_type": "markdown",
   "metadata": {},
   "source": [
    "This is extremely powerful. Let's use a for loop to plot the price of each index fund relative to the first day on a single plot."
   ]
  },
  {
   "cell_type": "code",
   "execution_count": 25,
   "metadata": {},
   "outputs": [
    {
     "data": {
      "image/png": "[encoded data removed]",
      "text/plain": [
       "<Figure size 432x288 with 1 Axes>"
      ]
     },
     "metadata": {
      "needs_background": "light"
     },
     "output_type": "display_data"
    }
   ],
   "source": [
    "for c in stocks.columns:\n",
    "    plt.plot(stocks[c] / stocks[c][0],label=c)\n",
    "\n",
    "plt.xlabel(\"Day\")\n",
    "plt.ylabel(\"Price Relative to Day-0\")\n",
    "plt.grid(True)\n",
    "plt.legend()\n",
    "plt.show()"
   ]
  },
  {
   "cell_type": "markdown",
   "metadata": {},
   "source": [
    "### Portfolio Calculator"
   ]
  },
  {
   "cell_type": "markdown",
   "metadata": {},
   "source": [
    "We want to create a computer program (function) that does the following:\n",
    "* Takes these historical prices, an initial investment amount, and daily investment amount as inputs.\n",
    "* On the first day in the dataset, splits the initial investment amount evenly among each of the index funds. Computes and records the number of shares purchased. Also records the value of the portfolio.\n",
    "* On the remain days, splits the daily investment amount evenly among each of the index funds. Computes and records the number of shares at the end of the day. Also records the value of the portfolio using the new prices.\n",
    "* After considering each day, plots the value of the portolio versus time.\n",
    "* Returns the portolio history which includes the number of shares and value for each day."
   ]
  },
  {
   "cell_type": "markdown",
   "metadata": {},
   "source": [
    "<div style=\"background-color: rgba(0,0,255,0.05) ; padding: 10px; border: 1px solid darkblue;\"> \n",
    "<b>Class Activity</b>: With a partner, write pseudocode for this computer program.\n",
    "</div>"
   ]
  },
  {
   "cell_type": "markdown",
   "metadata": {},
   "source": [
    "<div style=\"background-color: rgba(0,0,255,0.05) ; padding: 10px; border: 1px solid darkblue;\"> \n",
    "<b>Class Activity</b>: With a partner, use your pseudocode to complete the function below.\n",
    "</div>"
   ]
  },
  {
   "cell_type": "code",
   "execution_count": 26,
   "metadata": {},
   "outputs": [],
   "source": [
    "def portfolio(stock_data,initial_investment,daily_investment):\n",
    "    ''' Compute and plot portfolio value\n",
    "    \n",
    "    Assumptions:\n",
    "        We invest evenly across all available index funds\n",
    "    \n",
    "    Arguments:\n",
    "        stock_data: Pandas dataframe containing historical stock prices\n",
    "        initial_investment: dollars invested at the start of our portfolio (float)\n",
    "        daily_investment: dollars invested at the end of each day (float)\n",
    "        \n",
    "    Returns:\n",
    "        portfolio: Pandas dataframe containing the number of shares of each fund \n",
    "            and the value of the portfolio\n",
    "            \n",
    "    Also:\n",
    "        Creates a (well labeled) plot of portfolio value versus time\n",
    "    \n",
    "    '''\n",
    "    \n",
    "    # determine the numbers of stocks\n",
    "    n = len(stock_data.columns)\n",
    "    \n",
    "    ### Create a dataframe to store the results\n",
    "    \n",
    "    # Extract the names of the columns of 'stock_data', convert to list\n",
    "    c = stock_data.columns.values.tolist()\n",
    "    \n",
    "    # Add 'Value' to the list\n",
    "    c.append(\"Value\")\n",
    "    \n",
    "    # Create new dataframe with the name number of rows as 'stock_data',\n",
    "    # the same columns as 'stock_data' plus 'Value', and filled with 0.0\n",
    "    portfolio = pd.DataFrame(0.0, index=range(len(stock_data)), columns=c)\n",
    "    \n",
    "    ### BEGIN SOLUTION\n",
    "    \n",
    "    ### Determine the number of initial shares and value of the portfolio\n",
    "    for s in stock_data.columns:\n",
    "        portfolio[s][0] = initial_investment / stock_data[s][0] / n\n",
    "        portfolio['Value'][0] = initial_investment\n",
    "    \n",
    "    ### loop over remaining days\n",
    "    for i in range(1,len(stock_data)):\n",
    "        \n",
    "        # loop over stocks\n",
    "        for s in stock_data.columns:\n",
    "            \n",
    "            # purchase new shares each day\n",
    "            portfolio[s][i] = daily_investment / stock_data[s][i] / n + portfolio[s][i-1]\n",
    "    \n",
    "            # compute value\n",
    "            portfolio[\"Value\"][i] += portfolio[s][i]*stock_data[s][i]\n",
    "    \n",
    "    plt.plot(portfolio[\"Value\"])\n",
    "    plt.xlabel(\"Day\")\n",
    "    plt.ylabel(\"Portfolio Value (USD)\")\n",
    "    plt.grid(True)\n",
    "    ### END SOLUTION\n",
    "    \n",
    "    return portfolio"
   ]
  },
  {
   "cell_type": "markdown",
   "metadata": {},
   "source": [
    "<div style=\"background-color: rgba(0,0,255,0.05) ; padding: 10px; border: 1px solid darkblue;\"> \n",
    "<b>Class Activity</b>: Which is better? a) Invest \\$2000 on the first day and \\$0 each subsequent day or b) Invest \\$500 on the first day and \\$1.5 each subsequent day?\n",
    "</div>"
   ]
  },
  {
   "cell_type": "code",
   "execution_count": 27,
   "metadata": {
    "tags": [
     "hide-output"
    ]
   },
   "outputs": [
    {
     "data": {
      "image/png": "[encoded data removed]",
      "text/plain": [
       "<Figure size 432x288 with 1 Axes>"
      ]
     },
     "metadata": {
      "needs_background": "light"
     },
     "output_type": "display_data"
    }
   ],
   "source": [
    "### BEGIN SOLUTION\n",
    "p1 = portfolio(stocks, 2000.0, 0.0)\n",
    "p2 = portfolio(stocks, 500.0, 1.5)\n",
    "### END SOLUTION"
   ]
  },
  {
   "cell_type": "markdown",
   "metadata": {},
   "source": [
    "**Discuss in a few sentences**:"
   ]
  },
  {
   "cell_type": "code",
   "execution_count": null,
   "metadata": {
    "collapsed": true,
    "jupyter": {
     "outputs_hidden": true
    }
   },
   "outputs": [],
   "source": []
  }
 ],
 "metadata": {
  "colab": {
   "collapsed_sections": [
    "xCRFBLk3qnWw",
    "0b7S8aRkqnXL",
    "hVTWyRgyqnXT",
    "9CTmfuN6qnXe",
    "kHsSx8OcqnXt",
    "hIS0pUx9qnX3",
    "Ck5L2vnuqnX-"
   ],
   "name": "L4-NumPy-Matplotlib.ipynb",
   "provenance": [],
   "version": "0.3.2"
  },
  "kernelspec": {
   "display_name": "Python 3 (ipykernel)",
   "language": "python",
   "name": "python3"
  },
  "language_info": {
   "codemirror_mode": {
    "name": "ipython",
    "version": 3
   },
   "file_extension": ".py",
   "mimetype": "text/x-python",
   "name": "python",
   "nbconvert_exporter": "python",
   "pygments_lexer": "ipython3",
   "version": "3.9.12"
  }
 },
 "nbformat": 4,
 "nbformat_minor": 4
}
