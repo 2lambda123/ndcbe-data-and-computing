{
 "cells": [
  {
   "cell_type": "markdown",
   "metadata": {},
   "source": [
    "# High/Low Guess My Number Game\n",
    "CBE 20258. Numerical and Statistical Analysis. Spring 2020.\n",
    "\n",
    "## Instructions\n",
    "\n",
    "Write pseudocode and Python function program to interactively play the following game:\n",
    "1. Generate a random integer number between 0 and 100.\n",
    "2. Ask the player to guess a number. Capture their input from the keyboard.\n",
    "3. Check if the number is valid (between 0 and 100, integer). If not, warn the player and\n",
    "goto Step 2.\n",
    "4. If the player’s guess is correct, they win. Print out “Congratulations” and tell them\n",
    "how many guesses it took. Only count valid guesses. Terminate the program.\n",
    "5. If the guess is too low, print “Guess is too low.” and goto Step 2.\n",
    "6. If the guess is too high, print “Guess is too high.” and goto Step 2.\n",
    "\n",
    "First write the pseudocode and then implement as a function in Python. Test your program at least 2 times.\n"
   ]
  },
  {
   "cell_type": "markdown",
   "metadata": {},
   "source": [
    "## Your Function"
   ]
  },
  {
   "cell_type": "code",
   "execution_count": 2,
   "metadata": {
    "tags": []
   },
   "outputs": [],
   "source": [
    "# import libraries\n",
    "import numpy as np\n",
    "\n",
    "# function to accept guess from user and determine if guess matches secret \n",
    "# number between 0 and 100\n",
    "def guessing_game(rand_num=None):\n",
    "    ''' Play the guess my number interactively with keyboard input\n",
    "    \n",
    "        Argument:\n",
    "            rand_num: the random (secret) number. If None (default), the program generates\n",
    "                a random integer between 0 and 100.\n",
    "            \n",
    "        Returns:\n",
    "            Nothing\n",
    "            \n",
    "        Other:\n",
    "            Asks user for interactive keyboard input that are integers\n",
    "    \n",
    "    '''\n",
    "    \n",
    "    ### BEGIN SOLUTION\n",
    "    \n",
    "    # specify input\n",
    "    low_limit = 0\n",
    "    high_limit = 100\n",
    "    \n",
    "    # generate secret number if needed\n",
    "    if(rand_num == None):\n",
    "        rand_num = np.random.randint(low_limit,high_limit)\n",
    "    \n",
    "    # check if input is valid\n",
    "    if(rand_num < low_limit):\n",
    "        print(\"Secret number if too small.\")\n",
    "    elif(rand_num > high_limit):\n",
    "        print(\"Secret number if too large.\")\n",
    "    \n",
    "    # flag for loop\n",
    "    flag = False\n",
    "\n",
    "    # counter for number of guesses\n",
    "    ctr = 0\n",
    "\n",
    "    # while loop to guess for number till guess is correct\n",
    "    while not flag:\n",
    "        # input from user\n",
    "        guess = input(\"\\nGuess the number: \")\n",
    "        try:\n",
    "            guess = int(guess)\n",
    "            # check if number is within suggested range\n",
    "            if guess >= low_limit and guess <= high_limit:\n",
    "                ctr +=1\n",
    "            # check if guess is correct\n",
    "                if guess == rand_num:\n",
    "                    print(\"\\nCongratulations!  Your guess is correct.  Number is:\",guess)\n",
    "                    print(\"Number of guesses:\",ctr)\n",
    "                    # flag set to True to terminate loop\n",
    "                    flag = True\n",
    "                # check if guess overshot number\n",
    "                elif guess > rand_num:\n",
    "                    print(\"Guess is too high\")\n",
    "\n",
    "                # check if guess undershot number\n",
    "                else:\n",
    "                    print(\"Guess is too low\")\n",
    "\n",
    "            # if number outside suggested range, ask user for new guess\n",
    "            else:\n",
    "                print('Guess again... Choose an integer between ',low_limit,\" and \",high_limit)\n",
    "                pass\n",
    "        except:\n",
    "            print('Guess again (integer number)')\n",
    "            \n",
    "### END SOLUTION"
   ]
  },
  {
   "cell_type": "markdown",
   "metadata": {
    "tags": []
   },
   "source": [
    "## Test 1"
   ]
  },
  {
   "cell_type": "markdown",
   "metadata": {},
   "source": [
    "**Test 1**: No input. The function will automatically generate a secret number."
   ]
  },
  {
   "cell_type": "code",
   "execution_count": null,
   "metadata": {},
   "outputs": [],
   "source": [
    "### BEGIN SOLUTION\n",
    "guessing_game()\n",
    "### END SOLUTION"
   ]
  },
  {
   "cell_type": "markdown",
   "metadata": {},
   "source": [
    "## Test 2"
   ]
  },
  {
   "cell_type": "markdown",
   "metadata": {},
   "source": [
    "**Test 2**: What happens if we supply an out-of-bounds (invalid) secret number? Try -2."
   ]
  },
  {
   "cell_type": "code",
   "execution_count": null,
   "metadata": {},
   "outputs": [],
   "source": [
    "### BEGIN SOLUTION\n",
    "guessing_game(-2)\n",
    "### END SOLUTION"
   ]
  }
 ],
 "metadata": {
  "kernelspec": {
   "display_name": "Python 3 (ipykernel)",
   "language": "python",
   "name": "python3"
  },
  "language_info": {
   "codemirror_mode": {
    "name": "ipython",
    "version": 3
   },
   "file_extension": ".py",
   "mimetype": "text/x-python",
   "name": "python",
   "nbconvert_exporter": "python",
   "pygments_lexer": "ipython3",
   "version": "3.9.12"
  }
 },
 "nbformat": 4,
 "nbformat_minor": 4
}
