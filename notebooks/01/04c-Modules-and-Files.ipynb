{
 "cells": [
  {
   "cell_type": "markdown",
   "metadata": {
    "colab_type": "text",
    "id": "Z_7CzQztmUoo"
   },
   "source": [
    "# Functions, Scoping, and Other Fun Stuff\n"
   ]
  },
  {
   "cell_type": "markdown",
   "metadata": {},
   "source": [
    "**Reference**: Chapter 3 of *Computational Nuclear Engineering and Radiological Science Using Python*, R. McClarren (2018) "
   ]
  },
  {
   "cell_type": "markdown",
   "metadata": {},
   "source": [
    "## Learning Objectives\n",
    "\n",
    "After studying this notebook, completing the activities, and asking questions in class, you should be able to:\n",
    "* Import functions from modules.\n",
    "* Open, read, write to, and close files."
   ]
  },
  {
   "cell_type": "markdown",
   "metadata": {
    "colab_type": "text",
    "id": "jIx-g2LXmUpo"
   },
   "source": [
    "The idea behind recursion is that a function can call itself.  That is really it. That capability can allow some neat tricks, but in practice there is often a faster way of doing things than using recursion.\n",
    "\n",
    "<div style=\"background-color: rgba(0,255,0,0.05) ; padding: 10px; border: 1px solid darkgreen;\"> \n",
    "    <b>Home Activity</b>: Write pseudcode to calculate the factorial of integer <tt>x</tt> two ways: i) without recursion and ii) with recursion. Submit your pseudocode via Gradescope. We'll only assess for completeness (making an attempt, following guidelines) and not accuracy. <b>Be sure to bring your pseudocode to class.</b>\n",
    "</div>"
   ]
  },
  {
   "cell_type": "markdown",
   "metadata": {},
   "source": [
    "<div style=\"background-color: rgba(0,0,255,0.05) ; padding: 10px; border: 1px solid darkblue;\"> \n",
    "<b>Class Activity</b>: Explain your pseudocode to a partner. One person explains without recursion and the other explains with recurison.\n",
    "</div>"
   ]
  },
  {
   "cell_type": "markdown",
   "metadata": {},
   "source": [
    "Below are two functions that calculate factorial with and without recurision."
   ]
  },
  {
   "cell_type": "code",
   "execution_count": 7,
   "metadata": {
    "colab": {
     "base_uri": "https://localhost:8080/",
     "height": 69
    },
    "colab_type": "code",
    "executionInfo": {
     "elapsed": 6407,
     "status": "ok",
     "timestamp": 1548341886692,
     "user": {
      "displayName": "Alexander Dowling",
      "photoUrl": "https://lh3.googleusercontent.com/-LChdQ2m5OQE/AAAAAAAAAAI/AAAAAAAAAA0/JeXJe4vQJ7M/s64/photo.jpg",
      "userId": "00988067626794866502"
     },
     "user_tz": 300
    },
    "id": "xPp7tbeZmUpp",
    "outputId": "90f914fb-2e29-4657-f752-3947d9054036"
   },
   "outputs": [
    {
     "name": "stdout",
     "output_type": "stream",
     "text": [
      "Enter an integer: 212\n",
      "212 ! = 4733702182912325971198157282773458528972111665671644583063162654840567216299326200333597974632020795344694044141162288574741860330707871653991802372413420954892019572846468089404909755852192508097446724647826768577878987213960691804730882223315446309650598202756704313010742315578131345078364709758529795655446581758477730600169824143256656411069775872000000000000000000000000000000000000000000000000000\n",
      "212 ! = 4733702182912325971198157282773458528972111665671644583063162654840567216299326200333597974632020795344694044141162288574741860330707871653991802372413420954892019572846468089404909755852192508097446724647826768577878987213960691804730882223315446309650598202756704313010742315578131345078364709758529795655446581758477730600169824143256656411069775872000000000000000000000000000000000000000000000000000\n"
     ]
    }
   ],
   "source": [
    "def factorial(n, prev=1):\n",
    "    if not((n==1) or (n==0)):\n",
    "        prev = factorial(n-1,prev)*n\n",
    "    return prev\n",
    "\n",
    "def factorial_no_recursion(n):\n",
    "    output = 1;\n",
    "    #can skip 1 because x*1 = 1\n",
    "    for i in range(2,n+1):\n",
    "        output = output*i\n",
    "    return output\n",
    "x = int(input(\"Enter an integer: \"))\n",
    "print(x,\"! =\",factorial(x))\n",
    "print(x,\"! =\",factorial_no_recursion(x))"
   ]
  },
  {
   "cell_type": "markdown",
   "metadata": {
    "colab_type": "text",
    "id": "jNPXf9AmmUpr"
   },
   "source": [
    "Let's see which is faster. This will use some ipython magic commands for timing execution. We'll compute the factorials of 0 through 20, 100,000 times."
   ]
  },
  {
   "cell_type": "code",
   "execution_count": 8,
   "metadata": {
    "colab": {
     "base_uri": "https://localhost:8080/",
     "height": 52
    },
    "colab_type": "code",
    "executionInfo": {
     "elapsed": 5696,
     "status": "ok",
     "timestamp": 1548342028336,
     "user": {
      "displayName": "Alexander Dowling",
      "photoUrl": "https://lh3.googleusercontent.com/-LChdQ2m5OQE/AAAAAAAAAAI/AAAAAAAAAA0/JeXJe4vQJ7M/s64/photo.jpg",
      "userId": "00988067626794866502"
     },
     "user_tz": 300
    },
    "id": "ZDJcHnxSmUps",
    "outputId": "fa9a9323-3e4a-40ba-b921-ac70399ccdc8"
   },
   "outputs": [
    {
     "name": "stdout",
     "output_type": "stream",
     "text": [
      "CPU times: user 3.19 s, sys: 26.5 ms, total: 3.22 s\n",
      "Wall time: 3.22 s\n"
     ]
    }
   ],
   "source": [
    "%%time\n",
    "for times in range(10**5):\n",
    "    for n in range(21):\n",
    "        factorial(n)"
   ]
  },
  {
   "cell_type": "code",
   "execution_count": 9,
   "metadata": {
    "colab": {
     "base_uri": "https://localhost:8080/",
     "height": 52
    },
    "colab_type": "code",
    "executionInfo": {
     "elapsed": 2461,
     "status": "ok",
     "timestamp": 1548342021383,
     "user": {
      "displayName": "Alexander Dowling",
      "photoUrl": "https://lh3.googleusercontent.com/-LChdQ2m5OQE/AAAAAAAAAAI/AAAAAAAAAA0/JeXJe4vQJ7M/s64/photo.jpg",
      "userId": "00988067626794866502"
     },
     "user_tz": 300
    },
    "id": "JsIooy9SmUpu",
    "outputId": "73da1d63-8e06-4d80-bfab-6ff22054ebe4"
   },
   "outputs": [
    {
     "name": "stdout",
     "output_type": "stream",
     "text": [
      "CPU times: user 1.38 s, sys: 12 ms, total: 1.39 s\n",
      "Wall time: 1.39 s\n"
     ]
    }
   ],
   "source": [
    "%%time\n",
    "for times in range(10**5):\n",
    "    for n in range(21):\n",
    "        factorial_no_recursion(n)"
   ]
  },
  {
   "cell_type": "markdown",
   "metadata": {
    "colab_type": "text",
    "id": "l6W2nscSmUpw"
   },
   "source": [
    "*Side-tangent*: wall versus CPU user versus CPU clock time:\n",
    "https://stackoverflow.com/questions/7335920/what-specifically-are-wall-clock-time-user-cpu-time-and-system-cpu-time-in-uni\n",
    "(Side-tangents will not appear in tests or assignments, but are given to satisfy your curiosity.)\n",
    "\n",
    "\n",
    "The no recursion version, while not as neat, is nearly 50% faster. It is also possible to have too many levels of recursion."
   ]
  },
  {
   "cell_type": "code",
   "execution_count": 10,
   "metadata": {
    "colab": {
     "base_uri": "https://localhost:8080/",
     "height": 478
    },
    "colab_type": "code",
    "executionInfo": {
     "elapsed": 3818,
     "status": "error",
     "timestamp": 1548342081893,
     "user": {
      "displayName": "Alexander Dowling",
      "photoUrl": "https://lh3.googleusercontent.com/-LChdQ2m5OQE/AAAAAAAAAAI/AAAAAAAAAA0/JeXJe4vQJ7M/s64/photo.jpg",
      "userId": "00988067626794866502"
     },
     "user_tz": 300
    },
    "id": "0EI-GBjNmUpx",
    "outputId": "c58e705f-fe78-4e1b-cffc-88449630a23a"
   },
   "outputs": [
    {
     "ename": "RecursionError",
     "evalue": "maximum recursion depth exceeded in comparison",
     "output_type": "error",
     "traceback": [
      "\u001b[0;31m---------------------------------------------------------------------------\u001b[0m",
      "\u001b[0;31mRecursionError\u001b[0m                            Traceback (most recent call last)",
      "\u001b[0;32m<ipython-input-10-f352ad03aa45>\u001b[0m in \u001b[0;36m<module>\u001b[0;34m\u001b[0m\n\u001b[1;32m      4\u001b[0m \u001b[0;31m#this won't work and prints ~1000 errors\u001b[0m\u001b[0;34m\u001b[0m\u001b[0;34m\u001b[0m\u001b[0;34m\u001b[0m\u001b[0m\n\u001b[1;32m      5\u001b[0m \u001b[0;31m#the errors are not repeated here\u001b[0m\u001b[0;34m\u001b[0m\u001b[0;34m\u001b[0m\u001b[0;34m\u001b[0m\u001b[0m\n\u001b[0;32m----> 6\u001b[0;31m \u001b[0mprint\u001b[0m\u001b[0;34m(\u001b[0m\u001b[0mx\u001b[0m\u001b[0;34m,\u001b[0m\u001b[0;34m\"! =\"\u001b[0m\u001b[0;34m,\u001b[0m\u001b[0mfactorial\u001b[0m\u001b[0;34m(\u001b[0m\u001b[0mx\u001b[0m\u001b[0;34m)\u001b[0m\u001b[0;34m)\u001b[0m\u001b[0;34m\u001b[0m\u001b[0;34m\u001b[0m\u001b[0m\n\u001b[0m",
      "\u001b[0;32m<ipython-input-7-330ea1369dd6>\u001b[0m in \u001b[0;36mfactorial\u001b[0;34m(n, prev)\u001b[0m\n\u001b[1;32m      1\u001b[0m \u001b[0;32mdef\u001b[0m \u001b[0mfactorial\u001b[0m\u001b[0;34m(\u001b[0m\u001b[0mn\u001b[0m\u001b[0;34m,\u001b[0m \u001b[0mprev\u001b[0m\u001b[0;34m=\u001b[0m\u001b[0;36m1\u001b[0m\u001b[0;34m)\u001b[0m\u001b[0;34m:\u001b[0m\u001b[0;34m\u001b[0m\u001b[0;34m\u001b[0m\u001b[0m\n\u001b[1;32m      2\u001b[0m     \u001b[0;32mif\u001b[0m \u001b[0;32mnot\u001b[0m\u001b[0;34m(\u001b[0m\u001b[0;34m(\u001b[0m\u001b[0mn\u001b[0m\u001b[0;34m==\u001b[0m\u001b[0;36m1\u001b[0m\u001b[0;34m)\u001b[0m \u001b[0;32mor\u001b[0m \u001b[0;34m(\u001b[0m\u001b[0mn\u001b[0m\u001b[0;34m==\u001b[0m\u001b[0;36m0\u001b[0m\u001b[0;34m)\u001b[0m\u001b[0;34m)\u001b[0m\u001b[0;34m:\u001b[0m\u001b[0;34m\u001b[0m\u001b[0;34m\u001b[0m\u001b[0m\n\u001b[0;32m----> 3\u001b[0;31m         \u001b[0mprev\u001b[0m \u001b[0;34m=\u001b[0m \u001b[0mfactorial\u001b[0m\u001b[0;34m(\u001b[0m\u001b[0mn\u001b[0m\u001b[0;34m-\u001b[0m\u001b[0;36m1\u001b[0m\u001b[0;34m,\u001b[0m\u001b[0mprev\u001b[0m\u001b[0;34m)\u001b[0m\u001b[0;34m*\u001b[0m\u001b[0mn\u001b[0m\u001b[0;34m\u001b[0m\u001b[0;34m\u001b[0m\u001b[0m\n\u001b[0m\u001b[1;32m      4\u001b[0m     \u001b[0;32mreturn\u001b[0m \u001b[0mprev\u001b[0m\u001b[0;34m\u001b[0m\u001b[0;34m\u001b[0m\u001b[0m\n\u001b[1;32m      5\u001b[0m \u001b[0;34m\u001b[0m\u001b[0m\n",
      "... last 1 frames repeated, from the frame below ...\n",
      "\u001b[0;32m<ipython-input-7-330ea1369dd6>\u001b[0m in \u001b[0;36mfactorial\u001b[0;34m(n, prev)\u001b[0m\n\u001b[1;32m      1\u001b[0m \u001b[0;32mdef\u001b[0m \u001b[0mfactorial\u001b[0m\u001b[0;34m(\u001b[0m\u001b[0mn\u001b[0m\u001b[0;34m,\u001b[0m \u001b[0mprev\u001b[0m\u001b[0;34m=\u001b[0m\u001b[0;36m1\u001b[0m\u001b[0;34m)\u001b[0m\u001b[0;34m:\u001b[0m\u001b[0;34m\u001b[0m\u001b[0;34m\u001b[0m\u001b[0m\n\u001b[1;32m      2\u001b[0m     \u001b[0;32mif\u001b[0m \u001b[0;32mnot\u001b[0m\u001b[0;34m(\u001b[0m\u001b[0;34m(\u001b[0m\u001b[0mn\u001b[0m\u001b[0;34m==\u001b[0m\u001b[0;36m1\u001b[0m\u001b[0;34m)\u001b[0m \u001b[0;32mor\u001b[0m \u001b[0;34m(\u001b[0m\u001b[0mn\u001b[0m\u001b[0;34m==\u001b[0m\u001b[0;36m0\u001b[0m\u001b[0;34m)\u001b[0m\u001b[0;34m)\u001b[0m\u001b[0;34m:\u001b[0m\u001b[0;34m\u001b[0m\u001b[0;34m\u001b[0m\u001b[0m\n\u001b[0;32m----> 3\u001b[0;31m         \u001b[0mprev\u001b[0m \u001b[0;34m=\u001b[0m \u001b[0mfactorial\u001b[0m\u001b[0;34m(\u001b[0m\u001b[0mn\u001b[0m\u001b[0;34m-\u001b[0m\u001b[0;36m1\u001b[0m\u001b[0;34m,\u001b[0m\u001b[0mprev\u001b[0m\u001b[0;34m)\u001b[0m\u001b[0;34m*\u001b[0m\u001b[0mn\u001b[0m\u001b[0;34m\u001b[0m\u001b[0;34m\u001b[0m\u001b[0m\n\u001b[0m\u001b[1;32m      4\u001b[0m     \u001b[0;32mreturn\u001b[0m \u001b[0mprev\u001b[0m\u001b[0;34m\u001b[0m\u001b[0;34m\u001b[0m\u001b[0m\n\u001b[1;32m      5\u001b[0m \u001b[0;34m\u001b[0m\u001b[0m\n",
      "\u001b[0;31mRecursionError\u001b[0m: maximum recursion depth exceeded in comparison"
     ]
    }
   ],
   "source": [
    "import sys\n",
    "sys.setrecursionlimit(1000) # change this to answer the home activity question\n",
    "x = 1000\n",
    "#this won't work and prints ~1000 errors\n",
    "#the errors are not repeated here\n",
    "print(x,\"! =\",factorial(x))"
   ]
  },
  {
   "cell_type": "markdown",
   "metadata": {},
   "source": [
    "<div style=\"background-color: rgba(0,255,0,0.05) ; padding: 10px; border: 1px solid darkgreen;\"> \n",
    "<b>Home Activity</b>: What is the smallest recursion limit for which <tt>factorial(1000)</tt> works?\n",
    "</div>"
   ]
  },
  {
   "cell_type": "code",
   "execution_count": 11,
   "metadata": {
    "colab": {
     "base_uri": "https://localhost:8080/",
     "height": 55
    },
    "colab_type": "code",
    "executionInfo": {
     "elapsed": 212,
     "status": "ok",
     "timestamp": 1548342102565,
     "user": {
      "displayName": "Alexander Dowling",
      "photoUrl": "https://lh3.googleusercontent.com/-LChdQ2m5OQE/AAAAAAAAAAI/AAAAAAAAAA0/JeXJe4vQJ7M/s64/photo.jpg",
      "userId": "00988067626794866502"
     },
     "user_tz": 300
    },
    "id": "QI4oXlKYmUp0",
    "outputId": "4131853e-c431-47de-f092-bd387e56958f"
   },
   "outputs": [
    {
     "name": "stdout",
     "output_type": "stream",
     "text": [
      "1000 ! = 402387260077093773543702433923003985719374864210714632543799910429938512398629020592044208486969404800479988610197196058631666872994808558901323829669944590997424504087073759918823627727188732519779505950995276120874975462497043601418278094646496291056393887437886487337119181045825783647849977012476632889835955735432513185323958463075557409114262417474349347553428646576611667797396668820291207379143853719588249808126867838374559731746136085379534524221586593201928090878297308431392844403281231558611036976801357304216168747609675871348312025478589320767169132448426236131412508780208000261683151027341827977704784635868170164365024153691398281264810213092761244896359928705114964975419909342221566832572080821333186116811553615836546984046708975602900950537616475847728421889679646244945160765353408198901385442487984959953319101723355556602139450399736280750137837615307127761926849034352625200015888535147331611702103968175921510907788019393178114194545257223865541461062892187960223838971476088506276862967146674697562911234082439208160153780889893964518263243671616762179168909779911903754031274622289988005195444414282012187361745992642956581746628302955570299024324153181617210465832036786906117260158783520751516284225540265170483304226143974286933061690897968482590125458327168226458066526769958652682272807075781391858178889652208164348344825993266043367660176999612831860788386150279465955131156552036093988180612138558600301435694527224206344631797460594682573103790084024432438465657245014402821885252470935190620929023136493273497565513958720559654228749774011413346962715422845862377387538230483865688976461927383814900140767310446640259899490222221765904339901886018566526485061799702356193897017860040811889729918311021171229845901641921068884387121855646124960798722908519296819372388642614839657382291123125024186649353143970137428531926649875337218940694281434118520158014123344828015051399694290153483077644569099073152433278288269864602789864321139083506217095002597389863554277196742822248757586765752344220207573630569498825087968928162753848863396909959826280956121450994871701244516461260379029309120889086942028510640182154399457156805941872748998094254742173582401063677404595741785160829230135358081840096996372524230560855903700624271243416909004153690105933983835777939410970027753472000000000000000000000000000000000000000000000000000000000000000000000000000000000000000000000000000000000000000000000000000000000000000000000000000000000000000000000000000000000000000000000000000000000000000000000000000000000000000000000000000000000\n"
     ]
    }
   ],
   "source": [
    "x = 1000\n",
    "#this works\n",
    "answer = factorial_no_recursion(x)\n",
    "print(x,\"! =\",answer)"
   ]
  },
  {
   "cell_type": "markdown",
   "metadata": {
    "colab_type": "text",
    "id": "1OTTybGrmUp5"
   },
   "source": [
    "By the way, I'm surprised it is giving the correct <a href=\"http://justinwhite.com/big-calc/1000.html\">answer."
   ]
  },
  {
   "cell_type": "markdown",
   "metadata": {
    "colab_type": "text",
    "id": "TyQ2GN3QmUp9",
    "jp-MarkdownHeadingCollapsed": true,
    "tags": []
   },
   "source": [
    "## Modules"
   ]
  },
  {
   "cell_type": "markdown",
   "metadata": {
    "colab_type": "text",
    "id": "XkaByqoPmUp9"
   },
   "source": [
    "Sometimes we have to define many functions and don't want to have one giant source file (in fact this is good programming practice). To this point, modules are files with the '.py' extension that can be imported into other python programs. I've created a file called <tt>sphere.py</tt>. This file defines two functions <tt>volume</tt> and <tt>surface_area</tt> that compute the volume and surface area of a sphere. Because the file is called <tt>sphere.py</tt> we can import those functions using <tt>import sphere</tt>.  The text of <tt>sphere.py</tt> is\n",
    "<code>\n",
    "def volume(radius):\n",
    "    \"\"\"compute volume of a sphere\n",
    "\n",
    "    Args:\n",
    "    radius: float giving the radius of the sphere\n",
    "\n",
    "    Returns:\n",
    "    volume of the sphere as a float\n",
    "    \"\"\"\n",
    "    return 4.0/3.0*math.pi*radius**3\n",
    "\n",
    "def surface_area(radius):\n",
    "    \"\"\"compute surface area of a sphere\n",
    "\n",
    "    Args:\n",
    "    radius: float giving the radius of the sphere\n",
    "\n",
    "    Returns:\n",
    "    surface area of the sphere as a float\n",
    "    \"\"\"\n",
    "    return 4.0*math.pi*radius**2\n",
    "</code>"
   ]
  },
  {
   "cell_type": "markdown",
   "metadata": {
    "colab_type": "text",
    "id": "tlLecRQrmUp-"
   },
   "source": [
    "I can use the help function to tell me about the module:"
   ]
  },
  {
   "cell_type": "code",
   "execution_count": 2,
   "metadata": {
    "colab": {
     "base_uri": "https://localhost:8080/",
     "height": 305
    },
    "colab_type": "code",
    "executionInfo": {
     "elapsed": 214,
     "status": "error",
     "timestamp": 1548342630031,
     "user": {
      "displayName": "Alexander Dowling",
      "photoUrl": "https://lh3.googleusercontent.com/-LChdQ2m5OQE/AAAAAAAAAAI/AAAAAAAAAA0/JeXJe4vQJ7M/s64/photo.jpg",
      "userId": "00988067626794866502"
     },
     "user_tz": 300
    },
    "id": "vLceeHInmUp-",
    "outputId": "4523bd79-84b2-4676-b141-ee0478b99e47"
   },
   "outputs": [],
   "source": [
    "import sys\n",
    "sys.path.append('../data') # this opens the correct folder where the system module is so we can import it\n",
    "import sphere"
   ]
  },
  {
   "cell_type": "markdown",
   "metadata": {
    "colab_type": "text",
    "id": "bHY2QBP-mUqE"
   },
   "source": [
    "Now that I have imported the module, we can can the ``help`` to see the docstring."
   ]
  },
  {
   "cell_type": "code",
   "execution_count": 3,
   "metadata": {
    "colab": {
     "base_uri": "https://localhost:8080/",
     "height": 503
    },
    "colab_type": "code",
    "executionInfo": {
     "elapsed": 947,
     "status": "ok",
     "timestamp": 1548342704255,
     "user": {
      "displayName": "Alexander Dowling",
      "photoUrl": "https://lh3.googleusercontent.com/-LChdQ2m5OQE/AAAAAAAAAAI/AAAAAAAAAA0/JeXJe4vQJ7M/s64/photo.jpg",
      "userId": "00988067626794866502"
     },
     "user_tz": 300
    },
    "id": "uwNBZ_qDw7dg",
    "outputId": "8bee4987-07da-4cec-f137-39160597e428"
   },
   "outputs": [
    {
     "name": "stdout",
     "output_type": "stream",
     "text": [
      "Help on module sphere:\n",
      "\n",
      "NAME\n",
      "    sphere\n",
      "\n",
      "FUNCTIONS\n",
      "    surface_area(radius)\n",
      "        compute surface area of a sphere\n",
      "        \n",
      "        Args:\n",
      "        radius: float giving the radius of the sphere\n",
      "        \n",
      "        Returns:\n",
      "        surface area of the sphere as a float\n",
      "    \n",
      "    volume(radius)\n",
      "        compute volume of a sphere\n",
      "        \n",
      "        Args:\n",
      "        radius: float giving the radius of the sphere\n",
      "        \n",
      "        Returns:\n",
      "        volume of the sphere as a float\n",
      "\n",
      "FILE\n",
      "    c:\\users\\ebrea\\documents\\github\\data-and-computing\\notebooks\\data\\sphere.py\n",
      "\n",
      "\n"
     ]
    }
   ],
   "source": [
    "help(sphere)"
   ]
  },
  {
   "cell_type": "code",
   "execution_count": 4,
   "metadata": {
    "colab": {
     "base_uri": "https://localhost:8080/",
     "height": 357
    },
    "colab_type": "code",
    "executionInfo": {
     "elapsed": 218,
     "status": "error",
     "timestamp": 1548343066948,
     "user": {
      "displayName": "Alexander Dowling",
      "photoUrl": "https://lh3.googleusercontent.com/-LChdQ2m5OQE/AAAAAAAAAAI/AAAAAAAAAA0/JeXJe4vQJ7M/s64/photo.jpg",
      "userId": "00988067626794866502"
     },
     "user_tz": 300
    },
    "id": "yLMMJ1K2mUqE",
    "outputId": "71322f84-008e-4383-fc77-4475e096a453"
   },
   "outputs": [
    {
     "name": "stdout",
     "output_type": "stream",
     "text": [
      "The volume of a sphere of radius 1.0 cm is 4.1887902047863905 cm**3\n",
      "The surface area of a sphere of radius 1.0 cm is 12.566370614359172 cm**2\n"
     ]
    }
   ],
   "source": [
    "r = 1.0\n",
    "print(\"The volume of a sphere of radius\",r,\"cm is\",\n",
    "      sphere.volume(r),\"cm**3\")\n",
    "print(\"The surface area of a sphere of radius\",r,\"cm is\",\n",
    "      sphere.surface_area(r),\"cm**2\")"
   ]
  },
  {
   "cell_type": "markdown",
   "metadata": {
    "colab_type": "text",
    "id": "dIlyNiOlmUqL",
    "tags": []
   },
   "source": [
    "## Files"
   ]
  },
  {
   "cell_type": "markdown",
   "metadata": {
    "colab_type": "text",
    "id": "AAXEv6KhmUqL"
   },
   "source": [
    "It is very easy to read in text files in python. The file <tt>fifth_republic.txt</tt>, lists the presidents of France's fifth republic. It is in the same folder as this notebook."
   ]
  },
  {
   "cell_type": "markdown",
   "metadata": {
    "colab_type": "text",
    "id": "SfdodJFxAMQk"
   },
   "source": [
    "In Python, we can read it in very simply:"
   ]
  },
  {
   "cell_type": "code",
   "execution_count": 5,
   "metadata": {
    "colab": {
     "base_uri": "https://localhost:8080/",
     "height": 156
    },
    "colab_type": "code",
    "executionInfo": {
     "elapsed": 218,
     "status": "ok",
     "timestamp": 1548342816789,
     "user": {
      "displayName": "Alexander Dowling",
      "photoUrl": "https://lh3.googleusercontent.com/-LChdQ2m5OQE/AAAAAAAAAAI/AAAAAAAAAA0/JeXJe4vQJ7M/s64/photo.jpg",
      "userId": "00988067626794866502"
     },
     "user_tz": 300
    },
    "id": "ATuVx4zCmUqM",
    "outputId": "56d032d8-dd47-4012-ae09-1de8a9a26d01"
   },
   "outputs": [
    {
     "name": "stdout",
     "output_type": "stream",
     "text": [
      "CharlCharlCharl\n",
      "GeorgGeorgGeorg\n",
      "ValÃ©ValÃ©ValÃ©\n",
      "FranÃFranÃFranÃ\n",
      "JacquJacquJacqu\n",
      "NicolNicolNicol\n",
      "FranÃFranÃFranÃ\n",
      "EmmanEmmanEmman\n"
     ]
    }
   ],
   "source": [
    "file = open('../data/fifth_republic.txt', 'r') \n",
    "#open fifth_republic.txt for reading ('r')\n",
    "for line in file:\n",
    "    # Repeat the first 5 characters 3 times\n",
    "    print(line[0:5]*3)\n",
    "file.close()"
   ]
  },
  {
   "cell_type": "markdown",
   "metadata": {
    "colab_type": "text",
    "id": "BAQsK1rmmUqQ"
   },
   "source": [
    "Notice how the for loop can iterate through each line of the file. You can also read a line at a time."
   ]
  },
  {
   "cell_type": "code",
   "execution_count": 6,
   "metadata": {
    "colab": {
     "base_uri": "https://localhost:8080/",
     "height": 87
    },
    "colab_type": "code",
    "executionInfo": {
     "elapsed": 197,
     "status": "ok",
     "timestamp": 1548342842273,
     "user": {
      "displayName": "Alexander Dowling",
      "photoUrl": "https://lh3.googleusercontent.com/-LChdQ2m5OQE/AAAAAAAAAAI/AAAAAAAAAA0/JeXJe4vQJ7M/s64/photo.jpg",
      "userId": "00988067626794866502"
     },
     "user_tz": 300
    },
    "id": "f4YvuXmvmUqQ",
    "outputId": "8ea2fdff-7c95-49cb-ac7e-9a863a3a9838"
   },
   "outputs": [
    {
     "name": "stdout",
     "output_type": "stream",
     "text": [
      "Charles de Gaulle\n",
      "\n",
      "Georges Pompidou\n",
      "\n"
     ]
    }
   ],
   "source": [
    "file = open('../data/fifth_republic.txt', 'r')\n",
    "#open fifth_republic.txt for reading ('r')\n",
    "\n",
    "# Read the first line\n",
    "first_line = file.readline()\n",
    "\n",
    "# Read the second line\n",
    "second_line = file.readline()\n",
    "print(first_line)\n",
    "print(second_line)\n",
    "file.close()"
   ]
  },
  {
   "cell_type": "code",
   "execution_count": 7,
   "metadata": {
    "colab": {
     "base_uri": "https://localhost:8080/",
     "height": 139
    },
    "colab_type": "code",
    "executionInfo": {
     "elapsed": 354,
     "status": "ok",
     "timestamp": 1548342846065,
     "user": {
      "displayName": "Alexander Dowling",
      "photoUrl": "https://lh3.googleusercontent.com/-LChdQ2m5OQE/AAAAAAAAAAI/AAAAAAAAAA0/JeXJe4vQJ7M/s64/photo.jpg",
      "userId": "00988067626794866502"
     },
     "user_tz": 300
    },
    "id": "v8xsw-EWmUqR",
    "outputId": "cd8058ba-1d3d-4431-ae97-bc2f8d34715f"
   },
   "outputs": [
    {
     "name": "stdout",
     "output_type": "stream",
     "text": [
      "Help on built-in function readline:\n",
      "\n",
      "readline(size=-1, /) method of _io.TextIOWrapper instance\n",
      "    Read until newline or EOF.\n",
      "    \n",
      "    Returns an empty string if EOF is hit immediately.\n",
      "\n"
     ]
    }
   ],
   "source": [
    "help(file.readline)"
   ]
  },
  {
   "cell_type": "markdown",
   "metadata": {
    "colab_type": "text",
    "id": "vMAp1wpDmUqS"
   },
   "source": [
    "You can also easily write to a file. "
   ]
  },
  {
   "cell_type": "code",
   "execution_count": 8,
   "metadata": {
    "colab": {
     "base_uri": "https://localhost:8080/",
     "height": 260
    },
    "colab_type": "code",
    "executionInfo": {
     "elapsed": 365,
     "status": "ok",
     "timestamp": 1548342885980,
     "user": {
      "displayName": "Alexander Dowling",
      "photoUrl": "https://lh3.googleusercontent.com/-LChdQ2m5OQE/AAAAAAAAAAI/AAAAAAAAAA0/JeXJe4vQJ7M/s64/photo.jpg",
      "userId": "00988067626794866502"
     },
     "user_tz": 300
    },
    "id": "s31YtusPmUqT",
    "outputId": "f99dbc1e-e899-4d36-9790-4b28648f64d0"
   },
   "outputs": [
    {
     "name": "stdout",
     "output_type": "stream",
     "text": [
      "fedora\n",
      "\n",
      "trilby\n",
      "\n",
      "porkpie\n",
      "\n",
      "tam o'shanter\n",
      "\n",
      "Phrygian cap\n",
      "\n",
      "Beefeaters' hat\n",
      "\n",
      "sombrero\n",
      "\n"
     ]
    }
   ],
   "source": [
    "writeFile = open(\"../data/hats.txt\",\"w\") \n",
    "#open hats.txt to write (clobber if it exists)\n",
    "hats = [\"fedora\",\"trilby\",\"porkpie\",\n",
    "        \"tam o'shanter\",\"Phrygian cap\",\"Beefeaters' hat\",\"sombrero\"]\n",
    "for hat in hats:\n",
    "    writeFile.write(hat + \"\\n\") #add the endline\n",
    "writeFile.close()\n",
    "\n",
    "#now open file and print\n",
    "readFile = open(\"../data/hats.txt\",\"r\")\n",
    "for line in readFile:\n",
    "    print(line)\n",
    "readFile.close()"
   ]
  },
  {
   "cell_type": "markdown",
   "metadata": {},
   "source": [
    "We can also use `enumerate` with a text file: (for more on enumeration see notebook 05-Python-Basics-III)"
   ]
  },
  {
   "cell_type": "code",
   "execution_count": 9,
   "metadata": {},
   "outputs": [
    {
     "name": "stdout",
     "output_type": "stream",
     "text": [
      "Charles de Gaulle\n",
      "\n",
      "Georges Pompidou\n",
      "\n",
      "ValÃ©ry Giscard d'Estaing\n",
      "\n",
      "FranÃ§ois Mitterrand\n",
      "\n",
      "Jacques Chirac\n",
      "\n",
      "Nicolas Sarkozy\n",
      "\n",
      "FranÃ§ois Hollande\n",
      "\n",
      "Emmanuel Macron\n"
     ]
    }
   ],
   "source": [
    "import csv\n",
    "file = open('../data/fifth_republic.txt', 'r')\n",
    "for i,row in enumerate(file):\n",
    "    print(row)"
   ]
  }
 ],
 "metadata": {
  "colab": {
   "name": "L3-Functions-Scoping-Etc.ipynb",
   "provenance": [],
   "version": "0.3.2"
  },
  "kernelspec": {
   "display_name": "Python 3 (ipykernel)",
   "language": "python",
   "name": "python3"
  },
  "language_info": {
   "codemirror_mode": {
    "name": "ipython",
    "version": 3
   },
   "file_extension": ".py",
   "mimetype": "text/x-python",
   "name": "python",
   "nbconvert_exporter": "python",
   "pygments_lexer": "ipython3",
   "version": "3.9.12"
  }
 },
 "nbformat": 4,
 "nbformat_minor": 4
}
