{
 "cells": [
  {
   "cell_type": "markdown",
   "metadata": {
    "colab_type": "text",
    "id": "Z_7CzQztmUoo"
   },
   "source": [
    "# Functions, Scoping, and Other Fun Stuff\n"
   ]
  },
  {
   "cell_type": "markdown",
   "metadata": {},
   "source": [
    "**Reference**: Chapter 3 of *Computational Nuclear Engineering and Radiological Science Using Python*, R. McClarren (2018) "
   ]
  },
  {
   "cell_type": "markdown",
   "metadata": {},
   "source": [
    "## Learning Objectives\n",
    "\n",
    "After studying this notebook, completing the activities, and asking questions in class, you should be able to:\n",
    "* Import functions from modules.\n",
    "* Open, read, write to, and close files."
   ]
  },
  {
   "cell_type": "markdown",
   "metadata": {
    "colab_type": "text",
    "id": "TyQ2GN3QmUp9",
    "tags": []
   },
   "source": [
    "## Modules"
   ]
  },
  {
   "cell_type": "markdown",
   "metadata": {
    "colab_type": "text",
    "id": "XkaByqoPmUp9"
   },
   "source": [
    "Sometimes we have to define many functions and don't want to have one giant source file (in fact this is good programming practice). To this point, modules are files with the '.py' extension that can be imported into other python programs. I've created a file called <tt>sphere.py</tt>. This file defines two functions <tt>volume</tt> and <tt>surface_area</tt> that compute the volume and surface area of a sphere. Because the file is called <tt>sphere.py</tt> we can import those functions using <tt>import sphere</tt>.  The text of <tt>sphere.py</tt> is\n",
    "\n",
    "<code>\n",
    "def volume(radius):\n",
    "    \"\"\"compute volume of a sphere\n",
    "\n",
    "    Args:\n",
    "    radius: float giving the radius of the sphere\n",
    "\n",
    "    Returns:\n",
    "    volume of the sphere as a float\n",
    "    \"\"\"\n",
    "    return 4.0/3.0*math.pi*radius**3\n",
    "\n",
    "def surface_area(radius):\n",
    "    \"\"\"compute surface area of a sphere\n",
    "\n",
    "    Args:\n",
    "    radius: float giving the radius of the sphere\n",
    "\n",
    "    Returns:\n",
    "    surface area of the sphere as a float\n",
    "    \"\"\"\n",
    "    return 4.0*math.pi*radius**2\n",
    "</code>"
   ]
  },
  {
   "cell_type": "code",
   "execution_count": 1,
   "metadata": {
    "colab": {
     "base_uri": "https://localhost:8080/",
     "height": 305
    },
    "colab_type": "code",
    "executionInfo": {
     "elapsed": 214,
     "status": "error",
     "timestamp": 1548342630031,
     "user": {
      "displayName": "Alexander Dowling",
      "photoUrl": "https://lh3.googleusercontent.com/-LChdQ2m5OQE/AAAAAAAAAAI/AAAAAAAAAA0/JeXJe4vQJ7M/s64/photo.jpg",
      "userId": "00988067626794866502"
     },
     "user_tz": 300
    },
    "id": "vLceeHInmUp-",
    "outputId": "4523bd79-84b2-4676-b141-ee0478b99e47"
   },
   "outputs": [],
   "source": [
    "import sys\n",
    "sys.path.append('../data') # this opens the correct folder where the system module is so we can import it\n",
    "import sphere"
   ]
  },
  {
   "cell_type": "markdown",
   "metadata": {
    "colab_type": "text",
    "id": "bHY2QBP-mUqE"
   },
   "source": [
    "Now that I have imported the module, we can use ``help`` to see the docstring."
   ]
  },
  {
   "cell_type": "code",
   "execution_count": 2,
   "metadata": {
    "colab": {
     "base_uri": "https://localhost:8080/",
     "height": 503
    },
    "colab_type": "code",
    "executionInfo": {
     "elapsed": 947,
     "status": "ok",
     "timestamp": 1548342704255,
     "user": {
      "displayName": "Alexander Dowling",
      "photoUrl": "https://lh3.googleusercontent.com/-LChdQ2m5OQE/AAAAAAAAAAI/AAAAAAAAAA0/JeXJe4vQJ7M/s64/photo.jpg",
      "userId": "00988067626794866502"
     },
     "user_tz": 300
    },
    "id": "uwNBZ_qDw7dg",
    "outputId": "8bee4987-07da-4cec-f137-39160597e428"
   },
   "outputs": [
    {
     "name": "stdout",
     "output_type": "stream",
     "text": [
      "Help on module sphere:\n",
      "\n",
      "NAME\n",
      "    sphere\n",
      "\n",
      "FUNCTIONS\n",
      "    surface_area(radius)\n",
      "        compute surface area of a sphere\n",
      "        \n",
      "        Args:\n",
      "        radius: float giving the radius of the sphere\n",
      "        \n",
      "        Returns:\n",
      "        surface area of the sphere as a float\n",
      "    \n",
      "    volume(radius)\n",
      "        compute volume of a sphere\n",
      "        \n",
      "        Args:\n",
      "        radius: float giving the radius of the sphere\n",
      "        \n",
      "        Returns:\n",
      "        volume of the sphere as a float\n",
      "\n",
      "FILE\n",
      "    c:\\users\\ebrea\\documents\\github\\data-and-computing\\notebooks\\data\\sphere.py\n",
      "\n",
      "\n"
     ]
    }
   ],
   "source": [
    "help(sphere)"
   ]
  },
  {
   "cell_type": "code",
   "execution_count": 4,
   "metadata": {
    "colab": {
     "base_uri": "https://localhost:8080/",
     "height": 357
    },
    "colab_type": "code",
    "executionInfo": {
     "elapsed": 218,
     "status": "error",
     "timestamp": 1548343066948,
     "user": {
      "displayName": "Alexander Dowling",
      "photoUrl": "https://lh3.googleusercontent.com/-LChdQ2m5OQE/AAAAAAAAAAI/AAAAAAAAAA0/JeXJe4vQJ7M/s64/photo.jpg",
      "userId": "00988067626794866502"
     },
     "user_tz": 300
    },
    "id": "yLMMJ1K2mUqE",
    "outputId": "71322f84-008e-4383-fc77-4475e096a453"
   },
   "outputs": [
    {
     "name": "stdout",
     "output_type": "stream",
     "text": [
      "The volume of a sphere of radius 1.0 cm is 4.1887902047863905 cm**3\n",
      "The surface area of a sphere of radius 1.0 cm is 12.566370614359172 cm**2\n"
     ]
    }
   ],
   "source": [
    "r = 1.0\n",
    "print(\"The volume of a sphere of radius\",r,\"cm is\",\n",
    "      sphere.volume(r),\"cm**3\")\n",
    "print(\"The surface area of a sphere of radius\",r,\"cm is\",\n",
    "      sphere.surface_area(r),\"cm**2\")"
   ]
  },
  {
   "cell_type": "markdown",
   "metadata": {
    "colab_type": "text",
    "id": "dIlyNiOlmUqL",
    "tags": []
   },
   "source": [
    "## Files"
   ]
  },
  {
   "cell_type": "markdown",
   "metadata": {
    "colab_type": "text",
    "id": "AAXEv6KhmUqL"
   },
   "source": [
    "It is very easy to read in text files in python. The file <tt>fifth_republic.txt</tt>, lists the presidents of France's fifth republic. It is in the same folder as this notebook."
   ]
  },
  {
   "cell_type": "markdown",
   "metadata": {
    "colab_type": "text",
    "id": "SfdodJFxAMQk"
   },
   "source": [
    "In Python, we can read it in very simply:"
   ]
  },
  {
   "cell_type": "code",
   "execution_count": 5,
   "metadata": {
    "colab": {
     "base_uri": "https://localhost:8080/",
     "height": 156
    },
    "colab_type": "code",
    "executionInfo": {
     "elapsed": 218,
     "status": "ok",
     "timestamp": 1548342816789,
     "user": {
      "displayName": "Alexander Dowling",
      "photoUrl": "https://lh3.googleusercontent.com/-LChdQ2m5OQE/AAAAAAAAAAI/AAAAAAAAAA0/JeXJe4vQJ7M/s64/photo.jpg",
      "userId": "00988067626794866502"
     },
     "user_tz": 300
    },
    "id": "ATuVx4zCmUqM",
    "outputId": "56d032d8-dd47-4012-ae09-1de8a9a26d01"
   },
   "outputs": [
    {
     "name": "stdout",
     "output_type": "stream",
     "text": [
      "CharlCharlCharl\n",
      "GeorgGeorgGeorg\n",
      "ValÃ©ValÃ©ValÃ©\n",
      "FranÃFranÃFranÃ\n",
      "JacquJacquJacqu\n",
      "NicolNicolNicol\n",
      "FranÃFranÃFranÃ\n",
      "EmmanEmmanEmman\n"
     ]
    }
   ],
   "source": [
    "file = open('../data/fifth_republic.txt', 'r') \n",
    "#open fifth_republic.txt for reading ('r')\n",
    "for line in file:\n",
    "    # Repeat the first 5 characters 3 times\n",
    "    print(line[0:5]*3)\n",
    "file.close()"
   ]
  },
  {
   "cell_type": "markdown",
   "metadata": {
    "colab_type": "text",
    "id": "BAQsK1rmmUqQ"
   },
   "source": [
    "Notice how the for loop can iterate through each line of the file. You can also read a line at a time."
   ]
  },
  {
   "cell_type": "code",
   "execution_count": 6,
   "metadata": {
    "colab": {
     "base_uri": "https://localhost:8080/",
     "height": 87
    },
    "colab_type": "code",
    "executionInfo": {
     "elapsed": 197,
     "status": "ok",
     "timestamp": 1548342842273,
     "user": {
      "displayName": "Alexander Dowling",
      "photoUrl": "https://lh3.googleusercontent.com/-LChdQ2m5OQE/AAAAAAAAAAI/AAAAAAAAAA0/JeXJe4vQJ7M/s64/photo.jpg",
      "userId": "00988067626794866502"
     },
     "user_tz": 300
    },
    "id": "f4YvuXmvmUqQ",
    "outputId": "8ea2fdff-7c95-49cb-ac7e-9a863a3a9838"
   },
   "outputs": [
    {
     "name": "stdout",
     "output_type": "stream",
     "text": [
      "Charles de Gaulle\n",
      "\n",
      "Georges Pompidou\n",
      "\n"
     ]
    }
   ],
   "source": [
    "file = open('../data/fifth_republic.txt', 'r')\n",
    "#open fifth_republic.txt for reading ('r')\n",
    "\n",
    "# Read the first line\n",
    "first_line = file.readline()\n",
    "\n",
    "# Read the second line\n",
    "second_line = file.readline()\n",
    "print(first_line)\n",
    "print(second_line)\n",
    "file.close()"
   ]
  },
  {
   "cell_type": "code",
   "execution_count": 7,
   "metadata": {
    "colab": {
     "base_uri": "https://localhost:8080/",
     "height": 139
    },
    "colab_type": "code",
    "executionInfo": {
     "elapsed": 354,
     "status": "ok",
     "timestamp": 1548342846065,
     "user": {
      "displayName": "Alexander Dowling",
      "photoUrl": "https://lh3.googleusercontent.com/-LChdQ2m5OQE/AAAAAAAAAAI/AAAAAAAAAA0/JeXJe4vQJ7M/s64/photo.jpg",
      "userId": "00988067626794866502"
     },
     "user_tz": 300
    },
    "id": "v8xsw-EWmUqR",
    "outputId": "cd8058ba-1d3d-4431-ae97-bc2f8d34715f"
   },
   "outputs": [
    {
     "name": "stdout",
     "output_type": "stream",
     "text": [
      "Help on built-in function readline:\n",
      "\n",
      "readline(size=-1, /) method of _io.TextIOWrapper instance\n",
      "    Read until newline or EOF.\n",
      "    \n",
      "    Returns an empty string if EOF is hit immediately.\n",
      "\n"
     ]
    }
   ],
   "source": [
    "help(file.readline)"
   ]
  },
  {
   "cell_type": "markdown",
   "metadata": {
    "colab_type": "text",
    "id": "vMAp1wpDmUqS"
   },
   "source": [
    "You can also easily write to a file. "
   ]
  },
  {
   "cell_type": "code",
   "execution_count": 8,
   "metadata": {
    "colab": {
     "base_uri": "https://localhost:8080/",
     "height": 260
    },
    "colab_type": "code",
    "executionInfo": {
     "elapsed": 365,
     "status": "ok",
     "timestamp": 1548342885980,
     "user": {
      "displayName": "Alexander Dowling",
      "photoUrl": "https://lh3.googleusercontent.com/-LChdQ2m5OQE/AAAAAAAAAAI/AAAAAAAAAA0/JeXJe4vQJ7M/s64/photo.jpg",
      "userId": "00988067626794866502"
     },
     "user_tz": 300
    },
    "id": "s31YtusPmUqT",
    "outputId": "f99dbc1e-e899-4d36-9790-4b28648f64d0"
   },
   "outputs": [
    {
     "name": "stdout",
     "output_type": "stream",
     "text": [
      "fedora\n",
      "\n",
      "trilby\n",
      "\n",
      "porkpie\n",
      "\n",
      "tam o'shanter\n",
      "\n",
      "Phrygian cap\n",
      "\n",
      "Beefeaters' hat\n",
      "\n",
      "sombrero\n",
      "\n"
     ]
    }
   ],
   "source": [
    "writeFile = open(\"../data/hats.txt\",\"w\") \n",
    "#open hats.txt to write (clobber if it exists)\n",
    "hats = [\"fedora\",\"trilby\",\"porkpie\",\n",
    "        \"tam o'shanter\",\"Phrygian cap\",\"Beefeaters' hat\",\"sombrero\"]\n",
    "for hat in hats:\n",
    "    writeFile.write(hat + \"\\n\") #add the endline\n",
    "writeFile.close()\n",
    "\n",
    "#now open file and print\n",
    "readFile = open(\"../data/hats.txt\",\"r\")\n",
    "for line in readFile:\n",
    "    print(line)\n",
    "readFile.close()"
   ]
  },
  {
   "cell_type": "markdown",
   "metadata": {},
   "source": [
    "We can also use `enumerate` with a text file: (for more on enumeration see notebook 05-Python-Basics-III)"
   ]
  },
  {
   "cell_type": "code",
   "execution_count": 9,
   "metadata": {},
   "outputs": [
    {
     "name": "stdout",
     "output_type": "stream",
     "text": [
      "Charles de Gaulle\n",
      "\n",
      "Georges Pompidou\n",
      "\n",
      "ValÃ©ry Giscard d'Estaing\n",
      "\n",
      "FranÃ§ois Mitterrand\n",
      "\n",
      "Jacques Chirac\n",
      "\n",
      "Nicolas Sarkozy\n",
      "\n",
      "FranÃ§ois Hollande\n",
      "\n",
      "Emmanuel Macron\n"
     ]
    }
   ],
   "source": [
    "import csv\n",
    "file = open('../data/fifth_republic.txt', 'r')\n",
    "for i,row in enumerate(file):\n",
    "    print(row)"
   ]
  }
 ],
 "metadata": {
  "colab": {
   "name": "L3-Functions-Scoping-Etc.ipynb",
   "provenance": [],
   "version": "0.3.2"
  },
  "kernelspec": {
   "display_name": "Python 3 (ipykernel)",
   "language": "python",
   "name": "python3"
  },
  "language_info": {
   "codemirror_mode": {
    "name": "ipython",
    "version": 3
   },
   "file_extension": ".py",
   "mimetype": "text/x-python",
   "name": "python",
   "nbconvert_exporter": "python",
   "pygments_lexer": "ipython3",
   "version": "3.9.12"
  }
 },
 "nbformat": 4,
 "nbformat_minor": 4
}
