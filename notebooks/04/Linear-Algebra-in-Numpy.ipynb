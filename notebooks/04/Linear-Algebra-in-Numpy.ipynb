{
 "cells": [
  {
   "cell_type": "markdown",
   "metadata": {},
   "source": [
    "# Linear Algebra Review and SciPy Basics\n",
    "\n",
    "**Reference:** Section 2.2 Vectors and Matrices in *Nonlinear Programming: Concepts, Algorithms, and Applications to Chemical Processes* by L. T. Bielger (2010).\n",
    "\n",
    "**Recommended Links**\n",
    "* [NumPy Documentation - Main Page](https://docs.scipy.org/doc/numpy-1.15.0/reference/)\n",
    "* [SciPy Documentation - Main Page](https://docs.scipy.org/doc/scipy-1.1.0/reference/)\n",
    "* [SciPy Linear Algebra - Tutorial](https://docs.scipy.org/doc/scipy-1.1.0/reference/tutorial/linalg.html)\n",
    "* [SciPy Linear Algebra - API](https://docs.scipy.org/doc/scipy-1.1.0/reference/linalg.html)\n",
    "* [SciPy Lecture Notes](http://www.scipy-lectures.org/) (Especially 1.1 - 1.6 for everyone and 2.1 - 2.2 for advanced users)\n",
    "\n",
    "Tip: We will mostly use SciPy for linear algebra. (It has more sophisticated capabilities than NumPy.) We will use NumPy if/when SciPy does not offer a specific command."
   ]
  },
  {
   "cell_type": "markdown",
   "metadata": {},
   "source": [
    "## Learning Objectives\n",
    "\n",
    "After studying this notebook, completing the activities, and asking questions in class, you should be able to:\n",
    "* Understand matrix operations on paper and in python.\n",
    "* Explain what a determinant is and how to calculate it; know its properties.\n",
    "* Calculate the rank of a matrix by hand and in python.\n",
    "* Know the conditions for a matrix to have an inverse, and how to calculate its inverse.\n",
    "* Understand how to solve linear systems in various ways, including LU decompostion.\n",
    "* Be familiar with the invertible matrix theorem.\n",
    "* Calculate and interpret eigenvalues.\n",
    "* Perform singular value decomposition and interpret the results.\n",
    "* Calculate vector and matrix norms."
   ]
  },
  {
   "cell_type": "code",
   "execution_count": 2,
   "metadata": {},
   "outputs": [],
   "source": [
    "# Load required Python libraries.\n",
    "import matplotlib.pyplot as plt\n",
    "import numpy as np\n",
    "from scipy import linalg"
   ]
  },
  {
   "cell_type": "markdown",
   "metadata": {
    "tags": []
   },
   "source": [
    "## Notation for CBE 40499/60499 and Bielger (2010)\n",
    "The following is somewhat standard notation in scientific computing and data science literature:\n",
    "* Scalars (constants and variables): Lowercase Greek letters (more common), lowercase non-bold Roman letters (especially if dictated by science or engineering context/domain norms)\n",
    "\n",
    "CBE 40499/60499: We will sometimes use\n",
    "\n",
    "* Vectors - Lower case bold Roman letter, lowercase bold Greek letters (if dictated by science or engineering domain norms)\n",
    "* Matrices - Upper case bold Roman letters, uppercase bold Greek letters (if dictated by science and engineering domain norms)\n",
    "\n",
    "The notation for lectures will (hopefully) be obvious from context. I sometimes use Greek letters for constants and Roman letters for variables... unless the Greek letters have engineering or scientific meaning.\n"
   ]
  },
  {
   "cell_type": "markdown",
   "metadata": {
    "tags": []
   },
   "source": [
    "## Matrix Operations"
   ]
  },
  {
   "cell_type": "markdown",
   "metadata": {},
   "source": [
    "In this section we will introduce properties of matrices with code examples following each property."
   ]
  },
  {
   "cell_type": "markdown",
   "metadata": {},
   "source": [
    "## Property #1\n",
    "\n",
    "Multiplying two matrices $A$ $\\in$ $\\mathbb{R}^{n \\times m}$ and $B$ $\\in$ $\\mathbb{R}^{m \\times p}$ leads to the product $C \\in$ $\\mathbb{R}^{n \\times p}$ with elements $ \\mathbf{\\{C\\}_{ij}}$ = $\\sum_{k=1}^m  \\mathbf{\\{A\\}_{ik}}  \\mathbf{\\{B\\}_{kj}}$. This operation is defined only if the number of columns in $A$ and rows of $B$ is the same."
   ]
  },
  {
   "cell_type": "markdown",
   "metadata": {},
   "source": [
    "<div class=\"admonition seealso\"> \n",
    "<p class=\"title\"><b>Home Activity</b></p>\n",
    " The code below demonstrates matrix multiplication.  Before running the code below, what is the dimension of A*B?\n",
    "</div>"
   ]
  },
  {
   "cell_type": "code",
   "execution_count": 3,
   "metadata": {
    "tags": [
     "remove-output"
    ]
   },
   "outputs": [
    {
     "name": "stdout",
     "output_type": "stream",
     "text": [
      "Ao = \n",
      "[[0.76486904 0.04561386 0.23738663]\n",
      " [0.85825884 0.06187272 0.7838835 ]]\n",
      "\n",
      "Bo = \n",
      "[[0.47388783 0.84976499]\n",
      " [0.85191129 0.23476259]\n",
      " [0.52742191 0.75555075]]\n",
      "\n",
      "Ao*Bo =\n",
      "[[0.526524   0.84002501]\n",
      " [0.87286582 1.33610749]]\n"
     ]
    }
   ],
   "source": [
    "# Generate random matrices\n",
    "n = 2\n",
    "m = 3\n",
    "\n",
    "Ao = np.random.rand(n,m)\n",
    "Bo = np.random.rand(m,n)\n",
    "\n",
    "print(\"Ao = \")\n",
    "print(Ao)\n",
    "print(\"\\nBo = \")\n",
    "print(Bo)\n",
    "\n",
    "# Calculate Ao*Bo using Python\n",
    "print(\"\\nAo*Bo =\")\n",
    "print(Ao.dot(Bo))"
   ]
  },
  {
   "cell_type": "markdown",
   "metadata": {},
   "source": [
    "Another way of multiplying matrices is by using the \"@\" symbol.  See an example below with Ao and Bo."
   ]
  },
  {
   "cell_type": "code",
   "execution_count": 4,
   "metadata": {},
   "outputs": [
    {
     "name": "stdout",
     "output_type": "stream",
     "text": [
      "Ao*Bo =\n",
      "[[0.526524   0.84002501]\n",
      " [0.87286582 1.33610749]]\n"
     ]
    }
   ],
   "source": [
    "# calculate Ao*Bo using @\n",
    "print(\"Ao*Bo =\")\n",
    "print(Ao@Bo)"
   ]
  },
  {
   "cell_type": "markdown",
   "metadata": {},
   "source": [
    "## Property #2\n",
    "\n",
    "The *transpose* of $A$ $\\in$ $\\mathbb{R}^{n \\times m}$ is $A^T$ $\\in$ $\\mathbb{R}^{m \\times n}$ with the rows and columns of A interchanged, i.e.$ \\mathbf{\\{A^T\\}_{ij}} =  \\mathbf{\\{A\\}_{ji}}$."
   ]
  },
  {
   "cell_type": "markdown",
   "metadata": {},
   "source": [
    "<div class=\"admonition seealso\"> \n",
    "<p class=\"title\"><b>Home Activity</b></p>\n",
    " Calculate $A_o^{T}$\n",
    "</div>"
   ]
  },
  {
   "cell_type": "code",
   "execution_count": 3,
   "metadata": {
    "tags": [
     "remove-output"
    ]
   },
   "outputs": [
    {
     "name": "stdout",
     "output_type": "stream",
     "text": [
      "transpose(Ao) = \n",
      " [[0.53920696 0.7755139 ]\n",
      " [0.96955407 0.6767133 ]\n",
      " [0.90975543 0.4823789 ]] \n",
      "\n"
     ]
    }
   ],
   "source": [
    "# Transpose\n",
    "# Add your solution here"
   ]
  },
  {
   "cell_type": "markdown",
   "metadata": {},
   "source": [
    "## Property #3\n",
    "\n",
    "A *symmetric* matrix $A$ $\\in$ $\\mathbb{R}^{n \\times n}$ satisfies $A = A^T$.\n",
    "\n",
    "## Property #4\n",
    "\n",
    "A *diagonal* matrix $A$ $\\in$ $\\mathbb{R}^{n \\times n}$ has nonzero elements only on the diagonal, i.e., $ \\mathbf{\\{A\\}_{ij}} = 0, i \\neq j$."
   ]
  },
  {
   "cell_type": "markdown",
   "metadata": {},
   "source": [
    "<div class=\"admonition seealso\">\n",
    "<p class=\"title\"><b>Home Activity</b></p>\n",
    " Create a random $3 \\times 3$ square matrix and check if it is symmetric by comparing it to its transpose.</div>"
   ]
  },
  {
   "cell_type": "code",
   "execution_count": 4,
   "metadata": {
    "tags": [
     "remove-output"
    ]
   },
   "outputs": [
    {
     "name": "stdout",
     "output_type": "stream",
     "text": [
      "Square matrix:\n",
      " [[0.60448601 0.78627006 0.89597215]\n",
      " [0.97879566 0.63284257 0.5811153 ]\n",
      " [0.32982237 0.1736945  0.17994575]]\n",
      "Transpose of square matrix:\n",
      " [[0.60448601 0.97879566 0.32982237]\n",
      " [0.78627006 0.63284257 0.1736945 ]\n",
      " [0.89597215 0.5811153  0.17994575]]\n"
     ]
    }
   ],
   "source": [
    "# Create square matrix and compare with transpose\n",
    "# Add your solution here"
   ]
  },
  {
   "cell_type": "markdown",
   "metadata": {},
   "source": [
    "## Property #5\n",
    "\n",
    "The *identity* matrix $I \\in \\mathbb{R}^{n \\times n}$ is defined as \n",
    "\n",
    "$$  \\mathbf{\\{I\\}_{ij}}=   \\left\\{\n",
    "\\begin{array}{ll}\n",
    "      1 \\text{ if } i = j, \\\\\n",
    "      0 \\text{ otherwise.} \\\\\n",
    "\\end{array} \n",
    "\\right.  $$"
   ]
  },
  {
   "cell_type": "markdown",
   "metadata": {},
   "source": [
    "<div class=\"admonition seealso\">\n",
    "<p class=\"title\"><b>Home Activity</b></p>\n",
    " Create a 3x3 identity matrix.</div>"
   ]
  },
  {
   "cell_type": "code",
   "execution_count": 5,
   "metadata": {
    "tags": [
     "remove-output"
    ]
   },
   "outputs": [
    {
     "name": "stdout",
     "output_type": "stream",
     "text": [
      "I = \n",
      " [[1. 0. 0.]\n",
      " [0. 1. 0.]\n",
      " [0. 0. 1.]] \n",
      "\n"
     ]
    }
   ],
   "source": [
    "# Identity matrix\n",
    "# Add your solution here"
   ]
  },
  {
   "cell_type": "markdown",
   "metadata": {
    "tags": []
   },
   "source": [
    "## Determinant"
   ]
  },
  {
   "cell_type": "markdown",
   "metadata": {},
   "source": [
    "A *determinant* is a scalar associated to a square matrix, i.e., det($A$) for $A$ $\\in$ $\\mathbb{R}^{n \\times n}$, and can be defined recursively by det($A$) = $\\sum_i (-1)^{i+j} \\mathbf{\\{A\\}_{ij}} \\bar{A}_{ij}$ for any column $j$, or det($A$) = $\\sum_j (-1)^{i+j} \\mathbf{\\{A\\}_{ij}}\\bar{A}_{ij}$ for any row $i$, where $\\bar{A}_{ij}$ is the determinant of an ($n$-1)-order matrix with row $i$ and column $j$ removed.\n",
    "\n",
    "We will now manipulate the following matrices to demonstrate properties for the determinant."
   ]
  },
  {
   "cell_type": "code",
   "execution_count": 6,
   "metadata": {},
   "outputs": [
    {
     "name": "stdout",
     "output_type": "stream",
     "text": [
      "A = \n",
      "[[0.13785899 0.28113758]\n",
      " [0.59708216 0.31166715]]\n",
      "\n",
      "B = \n",
      "[[0.5493066  0.04429576]\n",
      " [0.2740967  0.54012404]]\n"
     ]
    }
   ],
   "source": [
    "# Generate random matrices\n",
    "nd = 2\n",
    "\n",
    "A = np.random.rand(nd,nd)\n",
    "B = np.random.rand(nd,nd)\n",
    "\n",
    "print(\"A = \")\n",
    "print(A)\n",
    "print(\"\\nB = \")\n",
    "print(B)"
   ]
  },
  {
   "cell_type": "markdown",
   "metadata": {},
   "source": [
    "## Property #1\n",
    "\n",
    "det($AB$) = det($A$)det($B$)"
   ]
  },
  {
   "cell_type": "markdown",
   "metadata": {},
   "source": [
    "<div class=\"admonition note\"> \n",
    "<p class=\"title\"><b>Class Activity</b></p>\n",
    " Calculate the determinante of $AB$ and prove it is equal to the product of the determinants of $A$ and $B$.</div>"
   ]
  },
  {
   "cell_type": "code",
   "execution_count": 7,
   "metadata": {
    "tags": [
     "remove-output"
    ]
   },
   "outputs": [
    {
     "name": "stdout",
     "output_type": "stream",
     "text": [
      "det(A*B) =  -0.035539486674939995\n",
      "det(A)*det(B) =  -0.035539486674939995\n"
     ]
    }
   ],
   "source": [
    "# Property 1\n",
    "# Add your solution here"
   ]
  },
  {
   "cell_type": "markdown",
   "metadata": {},
   "source": [
    "## Property #2\n",
    "\n",
    "det($A$) = det($A^T$)"
   ]
  },
  {
   "cell_type": "markdown",
   "metadata": {},
   "source": [
    "<div class=\"admonition note\"> \n",
    "<p class=\"title\"><b>Class Activity</b></p>\n",
    " Calculate the determinant of $A$ and of $A^T$ and prove they are equal.</div>"
   ]
  },
  {
   "cell_type": "code",
   "execution_count": 8,
   "metadata": {
    "tags": [
     "remove-output"
    ]
   },
   "outputs": [
    {
     "name": "stdout",
     "output_type": "stream",
     "text": [
      "det(A) =  -0.12489611574912461\n",
      "det(A^T) =  -0.12489611574912461\n"
     ]
    }
   ],
   "source": [
    "# Property 2\n",
    "# Add your solution here"
   ]
  },
  {
   "cell_type": "markdown",
   "metadata": {},
   "source": [
    "## Property #3\n",
    "\n",
    "For an $n \\times n$ matrix with scalar $\\alpha$, det($\\alpha A$) = $\\alpha^n$det($A$)"
   ]
  },
  {
   "cell_type": "markdown",
   "metadata": {},
   "source": [
    "<div class=\"admonition note\"> \n",
    "<p class=\"title\"><b>Class Activity</b></p>\n",
    " Calculate the determinant of $\\alpha A$ and calculate $\\alpha$det($A$) and prove they are equal. Let $\\alpha$ = 4.</div>"
   ]
  },
  {
   "cell_type": "code",
   "execution_count": 9,
   "metadata": {
    "tags": [
     "remove-output"
    ]
   },
   "outputs": [
    {
     "name": "stdout",
     "output_type": "stream",
     "text": [
      "det(alpha*A) =  -1.9983378519859938\n",
      "alpha*det(A) =  -0.49958446299649845\n"
     ]
    }
   ],
   "source": [
    "# Property 3\n",
    "# Add your solution here"
   ]
  },
  {
   "cell_type": "markdown",
   "metadata": {},
   "source": [
    "## Property #4\n",
    "\n",
    "For an identity matrix $I$, det($I$) = 1."
   ]
  },
  {
   "cell_type": "markdown",
   "metadata": {},
   "source": [
    "<div class=\"admonition note\"> \n",
    "<p class=\"title\"><b>Class Activity</b></p>\n",
    " Create a $3 \\times 3$ identity matrix and calculate the determinant.</div>"
   ]
  },
  {
   "cell_type": "code",
   "execution_count": 10,
   "metadata": {
    "tags": [
     "remove-output"
    ]
   },
   "outputs": [
    {
     "name": "stdout",
     "output_type": "stream",
     "text": [
      "[[1. 0. 0.]\n",
      " [0. 1. 0.]\n",
      " [0. 0. 1.]]\n",
      "det(I) =  1.0\n"
     ]
    }
   ],
   "source": [
    "# Property 4\n",
    "# Add your solution here"
   ]
  },
  {
   "cell_type": "markdown",
   "metadata": {},
   "source": [
    "## Calculating $3 \\times 3$ Determinant by Hand\n",
    "\n",
    "Below is an example from *Linear Algebra and Its Applications* by David C. Lay, 3rd edition that shows how to calculate a determinant by hand."
   ]
  },
  {
   "cell_type": "markdown",
   "metadata": {},
   "source": [
    "<div class=\"admonition seealso\"> \n",
    "<p class=\"title\"><b>Home Activity</b></p>\n",
    " Walk through the following example that calculates a $3 \\times 3$ determinant by hand.\n",
    "</div>"
   ]
  },
  {
   "cell_type": "markdown",
   "metadata": {},
   "source": [
    "For $ n \\geq 2$, the **determinant** of an $n \\times n$ matrix $A$ = [$a_{ij}$] is the sum of $n$ terms of the form $\\pm a_{1j}$ det$A_{1j}$, with plus and minus signs alternating, where the entries $a_{11},a_{12},...,a_{1n}$ are from the first row of $A$.  In symbols, \n",
    "\n",
    "det$A$ = $a_{11}$det$A_{11}-a_{12}$det$A_{12}+...+(-1)^{1+n}a_{1n}$det$A_{1n}$\n",
    "    \n",
    "= $\\sum_{j=1}^n (-1)^{1+j}a_{1j}\\text{det}A_{1j}$"
   ]
  },
  {
   "cell_type": "markdown",
   "metadata": {},
   "source": [
    "**Example:** Compute the determinate of the matrix $A$ = \n",
    "$ \\begin{bmatrix}\n",
    "1 & 5 & 0\\\\\n",
    "2 & 4 & -1\\\\\n",
    "0 & -2 & 0\n",
    "\\end{bmatrix}$"
   ]
  },
  {
   "cell_type": "markdown",
   "metadata": {},
   "source": [
    "**Solution:** Compute det($A$) = $a_{11}$det$A_{11}-a_{12}$det$A_{12}+a_{13}$det$A_{13}$:\n",
    "\n",
    "det$A$ = $1\\cdot$det$\\begin{bmatrix} 4 & -1\\\\ -2 & 0 \\end{bmatrix}$ - $5\\cdot$det$\\begin{bmatrix} 2 & -1\\\\ 0 & 0 \\end{bmatrix}$ + $0\\cdot$det$\\begin{bmatrix} 2 & 4\\\\ 0 & -2 \\end{bmatrix}$\n",
    "\n",
    "$= 1(0-2) - 5(0-0) + 0(-4-0)$ \n",
    "\n",
    "$= -2$"
   ]
  },
  {
   "cell_type": "markdown",
   "metadata": {
    "tags": []
   },
   "source": [
    "## Rank\n"
   ]
  },
  {
   "cell_type": "markdown",
   "metadata": {
    "tags": []
   },
   "source": [
    "## Matrix Rank Definition\n"
   ]
  },
  {
   "cell_type": "markdown",
   "metadata": {},
   "source": [
    "**Rerference:** Section 2.2 of *Nonlinear Programming: Concepts, Algorithms, and Applications to Chemical Processes*, L. Biegler (2010)\n",
    "\n",
    "* The rank of a matrix $r(A)$ is the order of the largest submatrix in $A$ that has a nonzero determinant.\n",
    "* A matrix $A$ $\\in$ $\\mathbb{R}^{n \\times m}$ has full row (column) rank if none of the row (column) vectors can be written as a linear combination of the other row (column) vectors.  The rank of such a matrix is $r(A)$ = min($n,m$).\n",
    "* A matrix that does not have full rank is *rank deficient*."
   ]
  },
  {
   "cell_type": "markdown",
   "metadata": {
    "tags": []
   },
   "source": [
    "## Practice Activities\n"
   ]
  },
  {
   "cell_type": "markdown",
   "metadata": {},
   "source": [
    "<div class=\"admonition seealso\"> \n",
    "<p class=\"title\"><b>Home Activity</b></p>\n",
    " Predict the rank of $A_1^T$, $B_1^T$, $C_1$, and $D_1$.\n",
    "</div>"
   ]
  },
  {
   "cell_type": "code",
   "execution_count": 11,
   "metadata": {},
   "outputs": [
    {
     "name": "stdout",
     "output_type": "stream",
     "text": [
      "A_1 = \n",
      "[[0.70268875 0.55298945 0.56890907]\n",
      " [0.46535378 0.01446308 0.23871531]]\n",
      "\n",
      "B_1 = \n",
      "[[0.04058466 0.17097646]\n",
      " [0.81132754 0.88760492]\n",
      " [0.75098347 0.33147803]]\n",
      "\n",
      "C_1 = \n",
      "[[0 2 0]\n",
      " [1 2 3]\n",
      " [0 4 0]]\n",
      "\n",
      "D_1 = \n",
      "[[3 2 4]\n",
      " [1 2 4]\n",
      " [0 6 5]]\n"
     ]
    }
   ],
   "source": [
    "# Generate random matrices\n",
    "n = 2\n",
    "m = 3\n",
    "\n",
    "A_1 = np.random.rand(n,m)\n",
    "B_1 = np.random.rand(m,n)\n",
    "C_1 = np.array([[0, 2, 0], [1, 2, 3], [0, 4, 0]])\n",
    "D_1 = np.array([[3, 2, 4], [1, 2, 4], [0, 6, 5]])\n",
    "\n",
    "print(\"A_1 = \")\n",
    "print(A_1)\n",
    "print(\"\\nB_1 = \")\n",
    "print(B_1)\n",
    "print(\"\\nC_1 = \")\n",
    "print(C_1)\n",
    "print(\"\\nD_1 = \")\n",
    "print(D_1)"
   ]
  },
  {
   "cell_type": "markdown",
   "metadata": {},
   "source": [
    "**My answers:**\n",
    "\n",
    "Rank of A_1T: \n",
    "\n",
    "Rank of B_1T:\n",
    "\n",
    "Rank of C_1:\n",
    "\n",
    "Rank of D_1:"
   ]
  },
  {
   "cell_type": "markdown",
   "metadata": {},
   "source": [
    "<div class=\"admonition seealso\"> \n",
    "<p class=\"title\"><b>Home Activity</b></p>\n",
    " Check the rank of these four matrices by calculating each with np.linalg.matrix_rank( ).  Were you correct?\n",
    "</div>"
   ]
  },
  {
   "cell_type": "code",
   "execution_count": 12,
   "metadata": {
    "tags": [
     "remove-output"
    ]
   },
   "outputs": [
    {
     "name": "stdout",
     "output_type": "stream",
     "text": [
      "rank(A_1T) =  2 \n",
      "\n",
      "rank(B_1T) =  2 \n",
      "\n",
      "rank(C_1) =  2 \n",
      "\n",
      "rank(D_1) =  3 \n",
      "\n"
     ]
    }
   ],
   "source": [
    "# Calculate ranks\n",
    "# Add your solution here"
   ]
  },
  {
   "cell_type": "markdown",
   "metadata": {
    "tags": []
   },
   "source": [
    "## Inverse\n"
   ]
  },
  {
   "cell_type": "markdown",
   "metadata": {
    "tags": []
   },
   "source": [
    "## Inverse of a Matrix Defnition\n",
    "\n",
    "**Rerference:** Section 2.2 of *Nonlinear Programming: Concepts, Algorithms, and Applications to Chemical Processes*, L. Biegler (2010)"
   ]
  },
  {
   "cell_type": "markdown",
   "metadata": {},
   "source": [
    "* If the matrix $A$ $\\in$ $\\mathbb{R}^{n \\times n}$ is nonsingular, i.e., has full rank, then an *inverse* $A^{-1}$ exists that satisfies $AA^{-1} = A^{-1}A = I$.\n",
    "* The linear system $Ax = b$ with nonsingular $A$ $\\in$ $\\mathbb{R}^{n \\times m}$, $x \\in \\mathbb{R}^n$, and $b \\in \\mathbb{R}^n$, has a unique solution $x = A^{-1}b$.\n",
    "* det($A^{-1}$) = $\\frac{1}{\\text{det}(A)}$.\n",
    "* A matrix $Q \\in \\mathbb{R}^{n \\times n}$ with the property $Q^{-1} = Q^T$ is called an *orthogonal matrix*."
   ]
  },
  {
   "cell_type": "markdown",
   "metadata": {},
   "source": [
    "## Practice Activities"
   ]
  },
  {
   "cell_type": "markdown",
   "metadata": {},
   "source": [
    "<div class=\"admonition seealso\">\n",
    "<p class=\"title\"><b>Home Activity</b></p>\n",
    " Calculate the inverse of $A_o$ and verity that $A_o^{-1} A_o = I$. \n",
    "</div>"
   ]
  },
  {
   "cell_type": "code",
   "execution_count": 13,
   "metadata": {
    "tags": [
     "remove-output"
    ]
   },
   "outputs": [
    {
     "name": "stdout",
     "output_type": "stream",
     "text": [
      "A_0 = \n",
      "[[0.39383547 0.73470596 0.34702043]\n",
      " [0.97487    0.383215   0.69163964]\n",
      " [0.24203568 0.51795548 0.4197325 ]]\n",
      "A_0 inverse = \n",
      " [[ 1.75705999  1.14506957 -3.33953463]\n",
      " [ 2.15221581 -0.72381285 -0.58667173]\n",
      " [-3.66905871  0.23289869  5.03214873]]\n",
      "[[ 1.00000000e+00 -3.34057763e-18 -1.65304858e-16]\n",
      " [ 1.50464795e-16  1.00000000e+00 -1.32648796e-16]\n",
      " [-6.57375717e-17 -7.47308550e-18  1.00000000e+00]]\n"
     ]
    }
   ],
   "source": [
    "# Generate A_0\n",
    "n = 3\n",
    "m = 3\n",
    "A_0 = np.random.rand(n,m)\n",
    "print(\"A_0 = \")\n",
    "print(A_0)\n",
    "\n",
    "# Calculate inverse\n",
    "# Add your solution here\n",
    "\n",
    "# Verification\n",
    "# Add your solution here"
   ]
  },
  {
   "cell_type": "markdown",
   "metadata": {},
   "source": [
    "What do you notice about the matrix produced from $A_o^{-1} A_o$?  Why do you think this happens?"
   ]
  },
  {
   "cell_type": "markdown",
   "metadata": {},
   "source": [
    "<div class=\"admonition seealso\">\n",
    "<p class=\"title\"><b>Home Activity</b></p>\n",
    " Verify that det($A_0^{-1}$) = $\\frac{1}{\\text{det}(A_0)}$.\n",
    "</div>"
   ]
  },
  {
   "cell_type": "code",
   "execution_count": 14,
   "metadata": {
    "tags": [
     "remove-output"
    ]
   },
   "outputs": [
    {
     "name": "stdout",
     "output_type": "stream",
     "text": [
      "det(A_0inv) =  -8.901429960994944\n",
      "1/det(A_0) =  -8.90142996099494\n"
     ]
    }
   ],
   "source": [
    "# Verification\n",
    "# Add your solution here"
   ]
  },
  {
   "cell_type": "markdown",
   "metadata": {},
   "source": [
    "<div class=\"admonition seealso\">\n",
    "    <p class=\"title\"><b>Home Activity</b></p>\n",
    " Is $Q$ an orthogonal matrix? Yes, no, or need more information?\n",
    "</div>"
   ]
  },
  {
   "cell_type": "code",
   "execution_count": 15,
   "metadata": {
    "tags": [
     "remove-output"
    ]
   },
   "outputs": [
    {
     "name": "stdout",
     "output_type": "stream",
     "text": [
      "Q = \n",
      "[[ 0.98006658 -0.19866933]\n",
      " [ 0.19866933  0.98006658]]\n",
      "Qinv = \n",
      " [[ 0.98006658  0.19866933]\n",
      " [-0.19866933  0.98006658]]\n",
      "Q^T = \n",
      " [[ 0.98006658  0.19866933]\n",
      " [-0.19866933  0.98006658]]\n"
     ]
    }
   ],
   "source": [
    "# Create Q\n",
    "theta = 0.2\n",
    "Q = np.array([(np.cos(theta), -np.sin(theta)),(np.sin(theta),np.cos(theta))])\n",
    "print(\"Q = \")\n",
    "print(Q)\n",
    "\n",
    "# Verification\n",
    "# Add your solution here"
   ]
  },
  {
   "cell_type": "markdown",
   "metadata": {
    "tags": []
   },
   "source": [
    "## Solving Linear Systems\n",
    "Consider the linear system $A_1 x = b_1$"
   ]
  },
  {
   "cell_type": "code",
   "execution_count": 16,
   "metadata": {},
   "outputs": [
    {
     "name": "stdout",
     "output_type": "stream",
     "text": [
      "A1 = \n",
      " [[4 3]\n",
      " [6 3]]\n",
      "\n",
      "b1 = \n",
      " [1 0]\n"
     ]
    }
   ],
   "source": [
    "A1 = np.array([(4,3),(6,3)])\n",
    "b1 = np.array([1,0])\n",
    "print(\"A1 = \\n\",A1)\n",
    "print(\"\\nb1 = \\n\",b1)"
   ]
  },
  {
   "cell_type": "markdown",
   "metadata": {},
   "source": [
    "## Explicit Inverse\n",
    "\n",
    "Calculate $x$ by explicitly using $A_l^{-1}$. Hint: Use linalg.inv( )."
   ]
  },
  {
   "cell_type": "code",
   "execution_count": 17,
   "metadata": {
    "tags": [
     "remove-output"
    ]
   },
   "outputs": [
    {
     "name": "stdout",
     "output_type": "stream",
     "text": [
      "Ainv = \n",
      " [[-0.5         0.5       ]\n",
      " [ 1.         -0.66666667]] \n",
      "\n",
      "x = \n",
      " [[-0.5  0. ]\n",
      " [ 1.  -0. ]]\n"
     ]
    }
   ],
   "source": [
    "# Calculate inverse\n",
    "# Add your solution here\n",
    "\n",
    "# Now calculate and print x\n",
    "# Add your solution here"
   ]
  },
  {
   "cell_type": "markdown",
   "metadata": {},
   "source": [
    "## LU Decomposition\n"
   ]
  },
  {
   "cell_type": "code",
   "execution_count": 18,
   "metadata": {},
   "outputs": [
    {
     "name": "stdout",
     "output_type": "stream",
     "text": [
      "A = \n",
      " [[0.19532048 0.80213917 0.0896026  0.7891849 ]\n",
      " [0.51242877 0.60202691 0.04460208 0.99673738]\n",
      " [0.66205227 0.74912751 0.64881305 0.5885614 ]\n",
      " [0.65721088 0.25512709 0.60784324 0.00341296]] \n",
      "\n",
      "b = \n",
      " [[0.81894293]\n",
      " [0.61659727]\n",
      " [0.35223602]\n",
      " [0.82622819]] \n",
      "\n"
     ]
    }
   ],
   "source": [
    "# Create test linear systems for the following examples\n",
    "A = np.random.rand(4,4)\n",
    "print(\"A = \\n\",A,\"\\n\")\n",
    "\n",
    "b = np.random.rand(4,1)\n",
    "print(\"b = \\n\",b,\"\\n\")"
   ]
  },
  {
   "cell_type": "markdown",
   "metadata": {},
   "source": [
    "<div class=\"admonition seealso\">\n",
    "    <p class=\"title\"><b>Home Activity</b></p>\n",
    " Follow along with the LU decomposition on $A$. What structures do the $P$, $L$, and $U$ matrices have? \n",
    "</div>"
   ]
  },
  {
   "cell_type": "code",
   "execution_count": 19,
   "metadata": {},
   "outputs": [
    {
     "name": "stdout",
     "output_type": "stream",
     "text": [
      "P = \n",
      " [[0. 1. 0. 0.]\n",
      " [0. 0. 1. 0.]\n",
      " [1. 0. 0. 0.]\n",
      " [0. 0. 0. 1.]]\n",
      "L = \n",
      " [[ 1.          0.          0.          0.        ]\n",
      " [ 0.29502275  1.          0.          0.        ]\n",
      " [ 0.77400047  0.03820467  1.          0.        ]\n",
      " [ 0.99268729 -0.84064268  0.26849349  1.        ]]\n",
      "U = \n",
      " [[ 0.66205227  0.74912751  0.64881305  0.5885614 ]\n",
      " [ 0.          0.58112951 -0.10181202  0.6155459 ]\n",
      " [ 0.          0.         -0.45368983  0.51767385]\n",
      " [ 0.          0.          0.         -0.20238236]]\n",
      "P*L*U = \n",
      " [[0.19532048 0.80213917 0.0896026  0.7891849 ]\n",
      " [0.51242877 0.60202691 0.04460208 0.99673738]\n",
      " [0.66205227 0.74912751 0.64881305 0.5885614 ]\n",
      " [0.65721088 0.25512709 0.60784324 0.00341296]] \n",
      "\n"
     ]
    }
   ],
   "source": [
    "# Perform LU decomposition\n",
    "(P, L, U) = linalg.lu(A)\n",
    "\n",
    "# Permutation matrix\n",
    "print(\"P = \\n\",P)\n",
    "\n",
    "# Lower diagonal matrix\n",
    "print(\"L = \\n\",L)\n",
    "\n",
    "# Upper diagonal matrix\n",
    "print(\"U = \\n\",U)\n",
    "\n",
    "# Verify result\n",
    "print(\"P*L*U = \\n\",P.dot(L.dot(U)),\"\\n\")"
   ]
  },
  {
   "cell_type": "markdown",
   "metadata": {},
   "source": [
    "## Is P orthogonal?"
   ]
  },
  {
   "cell_type": "code",
   "execution_count": 20,
   "metadata": {},
   "outputs": [
    {
     "name": "stdout",
     "output_type": "stream",
     "text": [
      "inv(P) = \n",
      " [[-0.  0.  1. -0.]\n",
      " [ 1.  0.  0. -0.]\n",
      " [ 0.  1.  0. -0.]\n",
      " [ 0.  0.  0.  1.]] \n",
      "\n",
      "transpose(P) = \n",
      " [[0. 0. 1. 0.]\n",
      " [1. 0. 0. 0.]\n",
      " [0. 1. 0. 0.]\n",
      " [0. 0. 0. 1.]] \n",
      "\n",
      "P.T*P = \n",
      " [[1. 0. 0. 0.]\n",
      " [0. 1. 0. 0.]\n",
      " [0. 0. 1. 0.]\n",
      " [0. 0. 0. 1.]] \n",
      "\n"
     ]
    }
   ],
   "source": [
    "print(\"inv(P) = \\n\",linalg.inv(P),\"\\n\")\n",
    "\n",
    "print(\"transpose(P) = \\n\",P.T,\"\\n\")\n",
    "\n",
    "print(\"P.T*P = \\n\",np.matmul(P.T,P),\"\\n\")"
   ]
  },
  {
   "cell_type": "markdown",
   "metadata": {},
   "source": [
    "**Yes!** We see that $P^T = P^{-1}$ and $P^T \\cdot P = I$."
   ]
  },
  {
   "cell_type": "markdown",
   "metadata": {},
   "source": [
    "## MATLAB\n",
    "\n",
    "Defines LU decomposition as follows:\n",
    "\n",
    "$$ P \\cdot A = L \\cdot U$$\n",
    "\n",
    "Consider \n",
    "\n",
    "$$A \\cdot x=b$$\n",
    "\n",
    "Using MATLAB LU definition\n",
    "\n",
    "$$P\\cdot A = L\\cdot U$$\n",
    "\n",
    "$$P^T \\cdot P \\cdot A = P^T \\cdot L \\cdot U$$\n",
    "\n",
    "$$A = P^T \\cdot L \\cdot U$$\n",
    "\n",
    "Substitute into linear system:\n",
    "\n",
    "$$P^T \\cdot L \\cdot U \\cdot x = b$$\n",
    "\n",
    "$$ L \\cdot U \\cdot x = P \\cdot b$$\n",
    "\n",
    "Let $y = U \\cdot x$ and substitute.\n",
    "\n",
    "Step 1. Solve $L \\cdot y = P \\cdot b$ for $y$\n",
    "\n",
    "Step 2. Solve $U \\cdot x = y$ for $x$"
   ]
  },
  {
   "cell_type": "code",
   "execution_count": 21,
   "metadata": {},
   "outputs": [
    {
     "name": "stdout",
     "output_type": "stream",
     "text": [
      "P*b = \n",
      " [[0.61659727]\n",
      " [0.35223602]\n",
      " [0.81894293]\n",
      " [0.82622819]] \n",
      "\n",
      "yLU = \n",
      " [[0.61659727]\n",
      " [0.1703258 ]\n",
      " [0.33518912]\n",
      " [0.26732696]] \n",
      "\n",
      "xLU = \n",
      " [[ 2.83715187]\n",
      " [ 1.29873196]\n",
      " [-2.24599425]\n",
      " [-1.32090047]] \n",
      "\n"
     ]
    }
   ],
   "source": [
    "# Calculate Pb\n",
    "Pb = P.dot(b)\n",
    "print(\"P*b = \\n\",Pb,\"\\n\")\n",
    "\n",
    "# Step 1\n",
    "yLU = linalg.solve(L,Pb)\n",
    "print(\"yLU = \\n\",yLU,\"\\n\")\n",
    "\n",
    "# Step 2\n",
    "xLU = linalg.solve(U,yLU)\n",
    "print(\"xLU = \\n\",xLU,\"\\n\")"
   ]
  },
  {
   "cell_type": "markdown",
   "metadata": {},
   "source": [
    "## SciPy\n",
    "\n",
    "Defines LU decomposition as:\n",
    "\n",
    "$$ A = P \\cdot L \\cdot U $$\n",
    "\n",
    "Consider \n",
    "\n",
    "$$A \\cdot x=b$$\n",
    "\n",
    "SciPy LU definition\n",
    "\n",
    "$$A = P \\cdot L\\cdot U$$\n",
    "\n",
    "Substitute into linear system:\n",
    "\n",
    "$$P \\cdot L \\cdot U \\cdot x = b$$\n",
    "$$P^T \\cdot P \\cdot L \\cdot U \\cdot x = P^T \\cdot b$$\n",
    "$$L \\cdot U \\cdot x = P^T \\cdot b$$\n",
    "\n",
    "Let $y = U \\cdot x$ and substitute.\n",
    "\n",
    "Step 1. Solve $L \\cdot y = P^T \\cdot b$ for $y$\n",
    "\n",
    "Step 2. Solve $U \\cdot x = y$ for $x$"
   ]
  },
  {
   "cell_type": "code",
   "execution_count": 22,
   "metadata": {},
   "outputs": [
    {
     "name": "stdout",
     "output_type": "stream",
     "text": [
      "P.T*b = \n",
      " [[0.35223602]\n",
      " [0.81894293]\n",
      " [0.61659727]\n",
      " [0.82622819]] \n",
      "\n",
      "yLU = \n",
      " [[0.35223602]\n",
      " [0.71502529]\n",
      " [0.31664912]\n",
      " [0.99263052]] \n",
      "\n",
      "xLU = \n",
      " [[ 5.03790151]\n",
      " [ 5.32285245]\n",
      " [-6.29438561]\n",
      " [-4.90472838]] \n",
      "\n"
     ]
    }
   ],
   "source": [
    "## LU decomposition algorithm.\n",
    "Pb = (P.T).dot(b)\n",
    "print(\"P.T*b = \\n\",Pb,\"\\n\")\n",
    "\n",
    "# Step 1\n",
    "yLU = linalg.solve(L,Pb)\n",
    "print(\"yLU = \\n\",yLU,\"\\n\")\n",
    "\n",
    "# Step 2\n",
    "xLU = linalg.solve(U,yLU)\n",
    "print(\"xLU = \\n\",xLU,\"\\n\")"
   ]
  },
  {
   "cell_type": "markdown",
   "metadata": {},
   "source": [
    "**What is the difference?** A transpose.\n"
   ]
  },
  {
   "cell_type": "markdown",
   "metadata": {
    "tags": []
   },
   "source": [
    "## Verify our answer with `linalg.solve`\n",
    "\n",
    "Solve the linear system using linalg.solve"
   ]
  },
  {
   "cell_type": "code",
   "execution_count": 23,
   "metadata": {},
   "outputs": [
    {
     "name": "stdout",
     "output_type": "stream",
     "text": [
      "x = \n",
      " [[ 5.03790151]\n",
      " [ 5.32285245]\n",
      " [-6.29438561]\n",
      " [-4.90472838]]\n"
     ]
    }
   ],
   "source": [
    "x = linalg.solve(A,b)\n",
    "print(\"x = \\n\",x)"
   ]
  },
  {
   "cell_type": "markdown",
   "metadata": {
    "tags": []
   },
   "source": [
    "## Invertable Matrix Theorem\n",
    "**Refernce:** *Linear Algebra and Its Applications* by David C. Lay, 3rd edition"
   ]
  },
  {
   "cell_type": "markdown",
   "metadata": {},
   "source": [
    "*Hold on to your hats folks!*\n",
    "\n",
    "Let $A$ be a square $n \\times n$ identity matrix. Then the following statements are equivalent. That is, for a given $A$, the statements are either all true or all false.\n"
   ]
  },
  {
   "cell_type": "markdown",
   "metadata": {},
   "source": [
    "a. $A$ is an invertible matrix.\n",
    "\n",
    "b. $A$ is row equivalent to the $n \\times n$ identity matrix.\n",
    "\n",
    "c. $A$ has $n$ pivot positions.\n",
    "\n",
    "d. The equation $Ax = 0$ has only the trivial solution.\n",
    "\n",
    "e. The columns of $A$ form a linearly independent set.\n",
    "\n",
    "f. The linear transformation $x\\longmapsto Ax$ is one-to-one.\n",
    "\n",
    "g. The equation $Ax = b$ has at least one solution for each $b$ in $\\mathbb{R}^n$.\n",
    "\n",
    "h. The columns of $A$ span $\\mathbb{R}^n$.\n",
    "\n",
    "i. The linear transformation $x\\longmapsto Ax$ maps $\\mathbb{R}^n$ onto $\\mathbb{R}^n$.\n",
    "\n",
    "j. There is an $n \\times n$ matrix $C$ such that $CA = I$.\n",
    "\n",
    "k. There is an $n \\times n$ matrix $D$ such that $AD = I$.\n",
    "\n",
    "l. $A^T$ is an invertible matrix.\n",
    "\n",
    "**Let $A$ be an $n \\times n$ matrix. Then the following statements are each equivalent to the statement that $A$ is an invertible matrix.**\n",
    "\n",
    "m. The columns of $A$ form a basis of $\\mathbb{R}^n$.\n",
    "\n",
    "n. Col$A$ = $\\mathbb{R}^n$\n",
    "\n",
    "o. dim Col$A$ = $N$\n",
    "\n",
    "p. rank $A$ = $N$\n",
    "\n",
    "q. Nul$A$ = $\\{0\\}$\n",
    "\n",
    "r. dim Nul$A$ = $0$\n",
    "\n",
    "**Let $A$ be an $n \\times n$ matrix. Then $A$ is invertible if and only if:**\n",
    "\n",
    "s. The number 0 is *not* an eigenvalue of $A$.\n",
    "\n",
    "t. The determinant of $A$ is *not* zero.\n",
    "\n",
    "**Let $A$ be an $n \\times n$ matrix. Then the following statements are each equivalent to the statement that $A$ is an invertible matrix.**\n",
    "\n",
    "u. (Col$A$)$^\\perp$ = $\\{0\\}$.\n",
    "\n",
    "v. (Nul$A$)$^\\perp$ = $\\mathbb{R}^n$.\n",
    "\n",
    "w. Row$A$ = $\\mathbb{R}^n$.\n",
    "\n",
    "x. $A$ has $n$ nonzero singular values."
   ]
  },
  {
   "cell_type": "markdown",
   "metadata": {
    "tags": []
   },
   "source": [
    "## Eigenvectors and Eigenvalues\n"
   ]
  },
  {
   "cell_type": "markdown",
   "metadata": {
    "tags": []
   },
   "source": [
    "## Eigenvalues/Eigenvectors Definition"
   ]
  },
  {
   "cell_type": "markdown",
   "metadata": {},
   "source": [
    "* For a square matrix $A \\in \\mathbb{R}^{n\\times n}$, the *eigenvalue* $\\lambda$ and the corresponding *eigenvector* $v \\neq 0$ satisfy $Av = \\lambda v$.\n",
    "* Because $(A-\\lambda I)v = 0$, $(A-\\lambda I)$ is singular, and we can define a characteristic $n$th degree polynomial given by det$(A-\\lambda I)$ = $0$ to find the $n$ eigenvalues.\n",
    "* det$(A)$ = $\\prod_{i=1}^n\\lambda_i$.\n",
    "* Eigenvalues of symmetric matrices are always real. Moreover, by collecting eigenvectors and eigenvalues, a symmetric matrix $A \\in \\mathbb{R}^{n \\times n}$ can be represented by $A = V\\wedge V^T$, where $V$ is the orthogonal matrix of eigenvectors, $\\mathbf{V = [v_1,v_2,...,v_n]}$, and $\\wedge$ is a diagonal matrix of eigenvalues with $ \\mathbf{\\{\\wedge\\}_{ii} = \\lambda_i}$.\n",
    "* Nonsymmetric matrices can have complex eigenvalues. Also, eigenvalues are not defined for nonsquare matrices. Instead, *singular values* $\\sigma_i \\geq 0$, $i = 1,...,m,$ are often useful to characterize $A \\in \\mathbb{R}^{n \\times m}$ with $m \\leq n$. These are derived from the eigenvalues of $(A^TA)$ with $\\sigma_i = [\\lambda_i(A^TA)]^{\\frac{1}{2}}$.\n",
    "* Consider the matrix $A \\in \\mathbb{R}^{n \\times m}$ with all real eigenvalues. Such matrices can be further classified as follows:\n",
    "    - Matrices with $\\lambda_i > 0, i = 1,n,$ are said to be *positive definite*; i.e., $y^TAy > 0$ for all $y \\neq 0$.\n",
    "    - Matrices with $\\lambda_i < 0, i = 1,n,$ are said to be *negative definite*; i.e., $y^TAy < 0$ for all $y \\neq 0$.\n",
    "    - Matrices with $\\lambda_i \\geq 0, i = 1,n,$ are said to be *positive semidefinite*; i.e., $y^TAy \\geq 0$ for all $y \\neq 0$.\n",
    "    - Matrices with $\\lambda_i \\leq 0, i = 1,n,$ are said to be *negative semidefinite*; i.e., $y^TAy \\leq 0$ for all $y \\neq 0$.\n",
    "    - Matrices with both positive and negative eigenvalues are *indefinite*.\n",
    "    - A matrix with $\\lambda_i = 0$, for some $i$, is *singular*."
   ]
  },
  {
   "cell_type": "markdown",
   "metadata": {},
   "source": [
    "## Practice Activities"
   ]
  },
  {
   "cell_type": "code",
   "execution_count": 24,
   "metadata": {},
   "outputs": [
    {
     "name": "stdout",
     "output_type": "stream",
     "text": [
      "Ae = \n",
      " [[ 0 -4 -6]\n",
      " [-1  0 -3]\n",
      " [ 1  2  5]]\n"
     ]
    }
   ],
   "source": [
    "# Create matrix for activities\n",
    "Ae = np.array([(0, -4, -6), (-1, 0, -3), (1, 2, 5)])\n",
    "print(\"Ae = \\n\",Ae)"
   ]
  },
  {
   "cell_type": "markdown",
   "metadata": {},
   "source": [
    "<div class=\"admonition seealso\">\n",
    "<p class=\"title\"><b>Home Activity</b></p>\n",
    " Do you expect the above matrix to have negative eigenvalues?\n",
    "</div>"
   ]
  },
  {
   "cell_type": "markdown",
   "metadata": {},
   "source": [
    "**Choose:** Yes/No/Cannot tell from inspection.\n",
    "\n",
    "**Justification:**"
   ]
  },
  {
   "cell_type": "markdown",
   "metadata": {},
   "source": [
    "<div class=\"admonition note\"> \n",
    "<p class=\"title\"><b>Class Activity</b></p>\n",
    " Calculate the eigenvalues and corresponding eigenvectors.\n",
    "</div>"
   ]
  },
  {
   "cell_type": "code",
   "execution_count": 25,
   "metadata": {
    "tags": [
     "remove-output"
    ]
   },
   "outputs": [
    {
     "name": "stdout",
     "output_type": "stream",
     "text": [
      "Matrix = \n",
      " [[ 0 -4 -6]\n",
      " [-1  0 -3]\n",
      " [ 1  2  5]] \n",
      "\n",
      "Eigenvalues =  [1.+0.j 2.+0.j 2.+0.j] \n",
      "\n",
      "Eigenvectors = \n",
      " [[-0.81649658 -0.0111458   0.90265832]\n",
      " [-0.40824829 -0.8302799   0.1523847 ]\n",
      " [ 0.40824829  0.5572352  -0.40247591]] \n",
      "\n"
     ]
    }
   ],
   "source": [
    "# Calculations\n",
    "# Add your solution here"
   ]
  },
  {
   "cell_type": "markdown",
   "metadata": {},
   "source": [
    "<div class=\"admonition note\"> \n",
    "<p class=\"title\"><b>Class Activity</b></p>\n",
    " Based on your calculations above, is this matrix i) positive definite, ii) positive semi definite, iii) negative definite, iv) negative semi definite, v) indefinite, or vi) cannot say without additional calculations? Write a sentence to justify your answer.\n",
    "</div>"
   ]
  },
  {
   "cell_type": "markdown",
   "metadata": {},
   "source": [
    "**Answer:**"
   ]
  },
  {
   "cell_type": "markdown",
   "metadata": {},
   "source": [
    "<div class=\"admonition note\"> \n",
    "<p class=\"title\"><b>Class Activity</b></p>\n",
    " Calculate the determinate using only the eigenvalues.\n",
    "    </div>"
   ]
  },
  {
   "cell_type": "code",
   "execution_count": 26,
   "metadata": {
    "tags": [
     "remove-output"
    ]
   },
   "outputs": [
    {
     "name": "stdout",
     "output_type": "stream",
     "text": [
      "Det =  (3.9999999999999973+0j)\n"
     ]
    }
   ],
   "source": [
    "# Determinate calculation\n",
    "# Add your solution here"
   ]
  },
  {
   "cell_type": "markdown",
   "metadata": {
    "tags": []
   },
   "source": [
    "<a id='SVD_cell'></a>\n",
    "## Singular Value Decomposition\n",
    "Refer to [this notebook](../04/LU-Decomposition.ipynb) for notes on singular value decomposition.\n",
    "\n",
    "Remember, SVD can be thought of as another type of matrix factorization.  We can represent an $m \\times n$ matrix as $A = U\\cdot \\sum \\cdot V^T$."
   ]
  },
  {
   "cell_type": "markdown",
   "metadata": {},
   "source": [
    "<div class=\"admonition note\"> \n",
    "<p class=\"title\"><b>Class Activity</b></p>\n",
    " Calculate the singular value decomposition of $A_d$ and $B_d$.\n",
    "    </div>"
   ]
  },
  {
   "cell_type": "code",
   "execution_count": 27,
   "metadata": {},
   "outputs": [
    {
     "name": "stdout",
     "output_type": "stream",
     "text": [
      "A_d = \n",
      "[[0.4485645  0.94396271 0.90630531]\n",
      " [0.65550619 0.17113477 0.79723747]]\n",
      "\n",
      "B_d = \n",
      "[[0.70939505 0.75872279]\n",
      " [0.68693568 0.29736702]\n",
      " [0.9430575  0.19822265]]\n",
      "\n",
      "SVD for A_d... \n",
      "\n",
      "U = \n",
      " [[-0.81497106 -0.57950166]\n",
      " [-0.57950166  0.81497106]] \n",
      "\n",
      "S = \n",
      " [1.65873224 0.50678934] \n",
      "\n",
      "V = \n",
      " [[-0.44939984 -0.52357768 -0.72381365]\n",
      " [ 0.54120061 -0.80419622  0.24570374]\n",
      " [-0.7107332  -0.28130917  0.64476622]] \n",
      "\n",
      "\n",
      "SVD for B_d... \n",
      "\n",
      "U = \n",
      " [[-0.64065863  0.73692217  0.21564379]\n",
      " [-0.48291242 -0.1683662  -0.85933021]\n",
      " [-0.59695236 -0.65467438  0.46373413]] \n",
      "\n",
      "S = \n",
      " [1.54265526 0.43367475] \n",
      "\n",
      "V = \n",
      " [[-0.87457662 -0.48488734]\n",
      " [-0.48488734  0.87457662]] \n",
      "\n"
     ]
    }
   ],
   "source": [
    "# Generate matrices\n",
    "n = 2\n",
    "m = 3\n",
    "A_d = np.random.rand(n,m)\n",
    "B_d = np.random.rand(m,n)\n",
    "print(\"A_d = \")\n",
    "print(A_d)\n",
    "print(\"\\nB_d = \")\n",
    "print(B_d)\n",
    "\n",
    "# Add your solution here"
   ]
  },
  {
   "cell_type": "markdown",
   "metadata": {},
   "source": [
    "<div class=\"admonition note\"> \n",
    "<p class=\"title\"><b>Class Activity</b></p>\n",
    " What is the rank of each matrix? (from inspecting singular values?)\n",
    "    </div>"
   ]
  },
  {
   "cell_type": "markdown",
   "metadata": {},
   "source": [
    "**Answer:**"
   ]
  },
  {
   "cell_type": "markdown",
   "metadata": {
    "tags": []
   },
   "source": [
    "## Vector and Matrix Norms\n",
    "\n",
    "**Rerference:** Section 2.2 of *Nonlinear Programming: Concepts, Algorithms, and Applications to Chemical Processes*, L. Biegler (2010)"
   ]
  },
  {
   "cell_type": "markdown",
   "metadata": {},
   "source": [
    "## Vector Norm Properties"
   ]
  },
  {
   "cell_type": "markdown",
   "metadata": {},
   "source": [
    "* A *vector norm* $\\parallel \\cdot \\parallel$ is a measure of the length of a vector and it maps from $\\mathbb{R}^n$ to a nonegative real that has the following properties:\n",
    "\n",
    "    1) $\\parallel x\\parallel = 0 \\Rightarrow x=0$ for $x \\in \\mathbb{R}^n$,\n",
    "\n",
    "    2) $\\parallel \\alpha x\\parallel = |\\alpha | \\parallel x\\parallel$ for all $x \\in \\mathbb{R}^n$, $\\alpha \\in \\mathbb{R}^n$,\n",
    "\n",
    "    3) $\\parallel x+y\\parallel \\; \\leq \\; \\parallel x\\parallel + \\parallel y\\parallel$ for all $x,y \\in \\mathbb{R}^n$.\n"
   ]
  },
  {
   "cell_type": "markdown",
   "metadata": {},
   "source": [
    "## *P*-norm Properties"
   ]
  },
  {
   "cell_type": "markdown",
   "metadata": {},
   "source": [
    "* The *p*-norm is defined by $\\parallel x\\parallel _p = (\\sum_{i=1}^n |x_i|^p)^{\\frac{1}{p}}$, where $p \\geq 1$. Examples and properties include:\n",
    "\n",
    "    1) $p=1, \\parallel x\\parallel_1 = \\sum_{i=1}^n |x_i|$, the 1-norm,\n",
    "\n",
    "    2) $p=2, \\parallel x\\parallel_2 = (\\sum_{i=1}^n x_i^2)^{\\frac{1}{2}}$, the Euclidean norm,\n",
    "\n",
    "    3) $p=\\infty , \\parallel x\\parallel_{\\infty}$ = max$_i |x_i|$, the max-norm,\n",
    "\n",
    "    4) $|x^Ty| \\leq \\; \\parallel x\\parallel_p \\parallel y\\parallel_q$ for 1/$p$ + 1/$q$ = 1 and all $x, y \\in \\mathbb{R}^n$.\n",
    "\n",
    "Also, for $x \\in \\mathbb{R}^n$ each norm can be bounded above and below by a multiple of any of the other norms."
   ]
  },
  {
   "cell_type": "markdown",
   "metadata": {},
   "source": [
    "<div class=\"admonition note\"> \n",
    "<p class=\"title\"><b>Class Activity</b></p>\n",
    " Verify the vector norm properties hold for the p-2 norm using $x$ and $y$. Hint: linalg.norm( )\n",
    "    </div>"
   ]
  },
  {
   "cell_type": "code",
   "execution_count": 28,
   "metadata": {},
   "outputs": [
    {
     "name": "stdout",
     "output_type": "stream",
     "text": [
      "x = \n",
      " [[0.22147533]\n",
      " [0.95260672]\n",
      " [0.21153669]]\n",
      "y = \n",
      " [[0.75695275]\n",
      " [0.33364788]\n",
      " [0.28968871]]\n"
     ]
    }
   ],
   "source": [
    "# Create vectors for following activites\n",
    "x = np.random.rand(3,1)\n",
    "print(\"x = \\n\",x)\n",
    "\n",
    "y = np.random.rand(3,1)\n",
    "print(\"y = \\n\",y)"
   ]
  },
  {
   "cell_type": "code",
   "execution_count": 29,
   "metadata": {
    "tags": [
     "remove-output"
    ]
   },
   "outputs": [
    {
     "name": "stdout",
     "output_type": "stream",
     "text": [
      "||x||_2 =  1.0006291272585606\n",
      "x solution =  1.0006291272585606\n",
      "||y||_2 =  0.8764804148148981\n",
      "y solution =  0.8764804148148981\n",
      "\n",
      "|x^Ty| =  0.5467613583758554\n",
      "||x_2|| ||y_2|| =  0.8770318325354527\n"
     ]
    }
   ],
   "source": [
    "# Verification of p-norm property #2\n",
    "# Add your solution here\n",
    "\n",
    "# Verification of p-norm property #4\n",
    "# Add your solution here"
   ]
  },
  {
   "cell_type": "markdown",
   "metadata": {},
   "source": [
    "## Additional Matrix Norms"
   ]
  },
  {
   "cell_type": "markdown",
   "metadata": {},
   "source": [
    "* For $A \\in \\mathbb{R}^{n \\times m}$, the induced matrix norms are defined by vector norms: $\\parallel A\\parallel$ = max$_{X \\neq 0} \\frac{\\parallel Ax \\parallel}{\\parallel x \\parallel}$ for any *p*-norm. It is therefore consistent with vector norms and satisfies $\\parallel A\\parallel \\; \\parallel x\\parallel \\; \\geq \\; \\parallel Ax\\parallel$. Examples include:\n",
    "\n",
    "    1) $\\parallel A\\parallel_1$ = max$_j(\\sum_{i=1}^n |\\{A\\}_{ij}|)$ (max column sum of $A$)\n",
    "\n",
    "    2) $\\parallel A\\parallel_{\\infty}$ = max$_i(\\sum_{j=1}^m |\\{A\\}_{ij}|)$ (max row sum of $A$)\n",
    "\n",
    "    3) $\\parallel A\\parallel_2$ = largest singular value of $A$.\n"
   ]
  },
  {
   "cell_type": "markdown",
   "metadata": {},
   "source": [
    "<div class=\"admonition note\"> \n",
    "<p class=\"title\"><b>Class Activity</b></p>\n",
    " Calculate $||A_l||_1$, $||A_l||_{\\infty}$ and $||A_l||_2$ using both the rules given above and SciPy\n",
    "    </div>"
   ]
  },
  {
   "cell_type": "code",
   "execution_count": 30,
   "metadata": {},
   "outputs": [
    {
     "name": "stdout",
     "output_type": "stream",
     "text": [
      "[[0.5969     0.26938739 0.14392162]\n",
      " [0.90718853 0.3676809  0.00275836]]\n"
     ]
    }
   ],
   "source": [
    "# Create A_1 matrix for following activities\n",
    "n = 2\n",
    "m = 3\n",
    "A_1 = np.random.rand(n,m)\n",
    "print(A_1)"
   ]
  },
  {
   "cell_type": "code",
   "execution_count": 31,
   "metadata": {
    "jupyter": {
     "source_hidden": true
    },
    "tags": [
     "remove-output"
    ]
   },
   "outputs": [
    {
     "name": "stdout",
     "output_type": "stream",
     "text": [
      "Computing ||A||_1 ...\n",
      "Vector of column sums:  [1.50408853 0.63706829 0.14667998]\n",
      "||A||_1 using rules above:  1.504088526958932\n",
      "||A||_1 using scipy:   1.504088526958932\n",
      "\n",
      "Computing ||A||_inf ...\n",
      "Vector of row sums: \n",
      " [[1.01020901]\n",
      " [1.27762779]]\n",
      "||A||_inf using rules above:  1.2776277908438523\n",
      "||A||_inf using scipy:  1.2776277908438523\n",
      "\n",
      "Computing ||A||_2 ...\n",
      "||A||_2 using rules above:  0.9071885314790465\n",
      "||A||_inf using scipy:  1.180438147895785\n"
     ]
    }
   ],
   "source": [
    "# Calculate ||A_l||_1\n",
    "# Add your solution here\n",
    "\n",
    "# Calculate ||A_l||_2\n",
    "# Add your solution here\n"
   ]
  },
  {
   "cell_type": "markdown",
   "metadata": {},
   "source": [
    "## Frobenius Norm"
   ]
  },
  {
   "cell_type": "markdown",
   "metadata": {},
   "source": [
    "* The Frobenius norm $\\parallel A\\parallel_F = (\\sum_i \\sum_j ( \\mathbf{\\{A\\}_{ij})^2)^{\\frac{1}{2}}}$ is not consistent with a vector norm but has some useful properties. This norm as well as the induced norms satisfy $\\parallel AB\\parallel \\; \\leq \\parallel A\\parallel \\; \\parallel B\\parallel$ for any two compatible matrices $A$ and $B$. In addition, the induced and Frobenius matrix norms can be bounded above and below by a multiple of any of the other matrix norms."
   ]
  },
  {
   "cell_type": "markdown",
   "metadata": {},
   "source": [
    "## Condition Number\n"
   ]
  },
  {
   "cell_type": "markdown",
   "metadata": {},
   "source": [
    "For more information on condition number, reference [this notebook](../04/LU-Decomposition.ipynb).\n",
    "* The *condition number* is defined by $\\kappa (A) = \\parallel A\\parallel \\; \\parallel A^{-1} \\parallel$. Using the induced 2-norm the condition number is given by $\\frac{\\sigma_{\\text{max}}}{\\sigma_{\\text{min}}}$. If $A$ is a symmetric matrix, then this is equivalent to using the eigenvalues of $A$ with $\\frac{\\lambda_{\\text{max}}}{\\lambda_{\\text{min}}}$.\n",
    "\n",
    "Refernce the [SVD cell from above](#SVD_cell) to answer the following two activities."
   ]
  },
  {
   "cell_type": "markdown",
   "metadata": {},
   "source": [
    "<div class=\"admonition note\"> \n",
    "<p class=\"title\"><b>Class Activity</b></p>\n",
    " Estimate the condition number of $A_d$ using the above rule.\n",
    "    </div>"
   ]
  },
  {
   "cell_type": "code",
   "execution_count": 32,
   "metadata": {
    "tags": [
     "remove-output"
    ]
   },
   "outputs": [
    {
     "name": "stdout",
     "output_type": "stream",
     "text": [
      "Condition Number:  1.6587322424578173 / 0.5067893389326414 = 3.273021184603655\n"
     ]
    }
   ],
   "source": [
    "# Condition number using rule\n",
    "# Add your solution here"
   ]
  },
  {
   "cell_type": "markdown",
   "metadata": {},
   "source": [
    "<div class=\"admonition note\"> \n",
    "<p class=\"title\"><b>Class Activity</b></p>\n",
    " Calculate the condition number of $A_d$ using np.linalg.cond( ).\n",
    "    </div>"
   ]
  },
  {
   "cell_type": "code",
   "execution_count": 33,
   "metadata": {
    "tags": [
     "remove-output"
    ]
   },
   "outputs": [
    {
     "name": "stdout",
     "output_type": "stream",
     "text": [
      "Condition number:  3.273021184603655\n"
     ]
    }
   ],
   "source": [
    "# Condition number using numpy\n",
    "# Add your solution here"
   ]
  }
 ],
 "metadata": {
  "kernelspec": {
   "display_name": "Python 3 (ipykernel)",
   "language": "python",
   "name": "python3"
  },
  "language_info": {
   "codemirror_mode": {
    "name": "ipython",
    "version": 3
   },
   "file_extension": ".py",
   "mimetype": "text/x-python",
   "name": "python",
   "nbconvert_exporter": "python",
   "pygments_lexer": "ipython3",
   "version": "3.9.12"
  }
 },
 "nbformat": 4,
 "nbformat_minor": 4
}
