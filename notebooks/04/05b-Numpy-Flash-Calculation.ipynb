{
 "cells": [
  {
   "cell_type": "markdown",
   "metadata": {
    "colab_type": "text",
    "id": "vwvvdc673Awp"
   },
   "source": [
    "# Numpy Calculation for Flash Problem"
   ]
  },
  {
   "cell_type": "markdown",
   "metadata": {},
   "source": [
    "## Learning Objectives\n",
    "\n",
    "After studying this notebook, completing the activities, and asking questions in class, you should be able to:\n",
    "* Use numpy to solve the flash example problem from the [previous notebook](\"https://ndcbe.github.io/data-and-computing/notebooks/04-publish/05-System-of-Equations-Newton-Method.html\")."
   ]
  },
  {
   "cell_type": "code",
   "execution_count": 32,
   "metadata": {},
   "outputs": [],
   "source": [
    "# load libraries\n",
    "import numpy as np\n",
    "from scipy import optimize"
   ]
  },
  {
   "cell_type": "markdown",
   "metadata": {
    "colab_type": "text",
    "id": "7nE5fTM23Ax_"
   },
   "source": [
    "## Motivation: Flash Problem Revisited"
   ]
  },
  {
   "cell_type": "markdown",
   "metadata": {
    "colab_type": "text",
    "id": "yNNP7IN_3Ax_"
   },
   "source": [
    "Recall the flash problem from [Chap 04-01 Notebook](\"https://ndcbe.github.io/data-and-computing/notebooks/04-publish/01-Modeling-Systems-of-Nonlinear-Equations.html\") that we solved in the [last notebook](\"https://ndcbe.github.io/data-and-computing/notebooks/04-publish/05-System-of-Equations-Newton-Method.html#\") using Newton's Method.\n",
    "\n",
    "![flash](../../media/flash-system.png)\n",
    "\n",
    "**Parameters (given)**:\n",
    "* $F$ feed inlet flowrate, mol/time or kg/time\n",
    "* $z_1$ composition of species 1 in feed, mol% or mass%\n",
    "* $z_2$ composition of species 2 in feed, mol% or mass%\n",
    "* $K_1$ partion coefficient for species 1, mol%/mol% or mass% / mass%\n",
    "* $K_2$ partion coefficient for species 2, mol%/mol% or mass% / mass%\n",
    "\n",
    "**Variables (unknown)**:\n",
    "* $L$ liquid outlet flowrate, mol/time or kg/time\n",
    "* $x_1$ composition of species 1 in liquid, mol% or mass%\n",
    "* $x_2$ composition of species 2 in liquid, mol% or mass%\n",
    "* $V$ vapor outlet flowrate, mol/time or kg/time\n",
    "* $y_1$ composition of species 1 in vapor, mol% or mass%\n",
    "* $y_2$ composition of species 2 in vapor, mol% or mass%\n",
    "\n",
    "How to solve the flash problem and other multidimensional problem with $n$ unknown variables and $n$ nonlinear equations?"
   ]
  },
  {
   "cell_type": "markdown",
   "metadata": {
    "colab_type": "text",
    "id": "ejJp4YwW3AyF"
   },
   "source": [
    "### System of Equations in Canonical Form\n",
    "\n",
    "$$\\mathbf{F}(\\mathbf{x}) = \\begin{pmatrix}\n",
    "L + V - F\\\\\n",
    "Vy_1 + L x_1 - F z_1 \\\\\n",
    "V y_2 + L x_2 - F z_2 \\\\\n",
    "y_1 - K_1 x_1 \\\\\n",
    "y_2 - K_2 x_2 \\\\\n",
    "y_1 + y_2 - x_1 - x_2\n",
    "\\end{pmatrix},$$\n",
    "\n",
    "with $\\mathbf{x} = (L, V, x_1, x_2, y_1, y_2).$"
   ]
  },
  {
   "cell_type": "markdown",
   "metadata": {
    "colab_type": "text",
    "id": "8HrL39kh_LnS"
   },
   "source": [
    "## Using ``numpy`` instead\n",
    "\n",
    "`numpy` and `scipy` offer a few different implementations of Newton's method. However, we found these to be unreliable in the past. Instead, we recommend either using the Newton solver we put together in the [last notebook](\"https://ndcbe.github.io/data-and-computing/notebooks/04-publish/05-System-of-Equations-Newton-Method.html#\") or Pyomo (future notebook).\n",
    "\n",
    "However, we will show how this is done using `scipy.optimize.newton` in this notebook."
   ]
  },
  {
   "cell_type": "code",
   "execution_count": null,
   "metadata": {
    "tags": [
     "remove-output"
    ]
   },
   "outputs": [],
   "source": [
    "# documentation for Newton's method in scipy\n",
    "help(optimize.newton)"
   ]
  },
  {
   "cell_type": "markdown",
   "metadata": {},
   "source": [
    "First run the code below to define the system of nonlinear equations given in the [previous notebook](\"https://ndcbe.github.io/data-and-computing/notebooks/04-publish/05-System-of-Equations-Newton-Method.html\")."
   ]
  },
  {
   "cell_type": "code",
   "execution_count": 39,
   "metadata": {
    "colab": {},
    "colab_type": "code",
    "id": "0Fv_aYYF3AyG",
    "tags": []
   },
   "outputs": [],
   "source": [
    "# nonlinear canonical system of equations\n",
    "def my_f(x):\n",
    "    ''' Nonlinear system of equations in conancial form F(x) = 0\n",
    "    Copied from previous notebook.\n",
    "    \n",
    "    Arg:\n",
    "        x: vector of variables\n",
    "        \n",
    "    Returns:\n",
    "        r: residual, F(x)\n",
    "    \n",
    "    '''\n",
    "\n",
    "    # Initialize residuals\n",
    "    r = np.zeros(6)\n",
    "    \n",
    "    # given data\n",
    "    F = 1.0\n",
    "    z1 = 0.5\n",
    "    z2 = 0.5\n",
    "    K1 = 3\n",
    "    K2 = 0.05\n",
    "    \n",
    "    # copy values from x to more meaningful names\n",
    "    L = x[0]\n",
    "    V = x[1]\n",
    "    x1 = x[2]\n",
    "    x2 = x[3]\n",
    "    y1 = x[4]\n",
    "    y2 = x[5]\n",
    "    \n",
    "    # equation 1: overall mass balance\n",
    "    r[0] = V + L - F\n",
    "    \n",
    "    # equations 2 and 3: component mass balances\n",
    "    r[1] = V*y1 + L*x1 - F*z1\n",
    "    r[2] = V*y2 + L*x2 - F*z2\n",
    "    \n",
    "    # equation 4 and 5: equilibrium\n",
    "    r[3] = y1 - K1*x1\n",
    "    r[4] = y2 - K2*x2\n",
    "    \n",
    "    # equation 6: summation\n",
    "    r[5] = (y1 + y2) - (x1 + x2)\n",
    "    # This is known as the Rachford-Rice formulation for the summation constraint\n",
    "    \n",
    "    return r"
   ]
  },
  {
   "cell_type": "markdown",
   "metadata": {},
   "source": [
    "Next, we need to define the initial guess as we did with our Newton System in the [previous notebook](\"https://ndcbe.github.io/data-and-computing/notebooks/04-publish/05-System-of-Equations-Newton-Method.html\")."
   ]
  },
  {
   "cell_type": "code",
   "execution_count": 40,
   "metadata": {},
   "outputs": [],
   "source": [
    "# initial guess\n",
    "x0 = np.array([0.5, 0.5, 0.55, 0.45, 0.65, 0.35])"
   ]
  },
  {
   "cell_type": "markdown",
   "metadata": {},
   "source": [
    "Now we can run Newton's Method through `scipy.optimize.newton`."
   ]
  },
  {
   "cell_type": "code",
   "execution_count": 41,
   "metadata": {},
   "outputs": [
    {
     "name": "stdout",
     "output_type": "stream",
     "text": [
      "Solution using scipy:\n",
      " [ 5.00004967e-01  5.36467908e-01  1.09276056e+10  3.55480055e+00\n",
      " -5.38704523e+36  3.50020142e-01]\n"
     ]
    }
   ],
   "source": [
    "xsln = optimize.newton(my_f,x0)\n",
    "print(\"Solution using scipy:\\n\",xsln)"
   ]
  },
  {
   "cell_type": "code",
   "execution_count": null,
   "metadata": {},
   "outputs": [],
   "source": []
  }
 ],
 "metadata": {
  "colab": {
   "collapsed_sections": [],
   "name": "L11-Newton-Method-Nonlinear-Equation-Solving.ipynb",
   "provenance": [],
   "version": "0.3.2"
  },
  "kernelspec": {
   "display_name": "Python 3 (ipykernel)",
   "language": "python",
   "name": "python3"
  },
  "language_info": {
   "codemirror_mode": {
    "name": "ipython",
    "version": 3
   },
   "file_extension": ".py",
   "mimetype": "text/x-python",
   "name": "python",
   "nbconvert_exporter": "python",
   "pygments_lexer": "ipython3",
   "version": "3.9.12"
  }
 },
 "nbformat": 4,
 "nbformat_minor": 4
}
