{
 "cells": [
  {
   "cell_type": "markdown",
   "metadata": {},
   "source": [
    "# Example: Mass Balances and Linear Algebra"
   ]
  },
  {
   "cell_type": "markdown",
   "metadata": {},
   "source": [
    "## Learning Objectives\n",
    "\n",
    "After studying this notebook, completing the activities, and asking questions in class, you should be able to:\n",
    "* Solve a system of linear equations by creating a model and implementing it in matrix form in python.\n",
    "* Calculate results and interpret the meaning of the results."
   ]
  },
  {
   "cell_type": "code",
   "execution_count": 1,
   "metadata": {
    "tags": []
   },
   "outputs": [],
   "source": [
    "# Import libraries\n",
    "import numpy as np\n",
    "import scipy.linalg as la"
   ]
  },
  {
   "cell_type": "markdown",
   "metadata": {},
   "source": [
    "## Atomic Species (Mass) Balance\n",
    "**Reference:** Example 4.7-1 in *Elementary Principles of Chemical Process Engineering*, Third Edition, Felder and Rousseau (2005)\n",
    "\n",
    "Methane is burned with air in a continuous steady-state combustion reactor to yield a mixture of carbon monoxide, carbon dioxide, and water. The reactions taking place are:\n",
    "\n",
    "CH$_4$ + $\\frac{3}{2}$ O$_2$ $\\rightarrow$ CO + 2 H$_2$O\n",
    "\n",
    "CH$_4$ + 2 O$_2$ $\\rightarrow$ CO$_2$ + 2 H$_2$O\n",
    "\n",
    "The feed to the reactor contains 7.80 mole% CH$_4$, 19.4% O$_2$, and 72.8% N$_2$. The percentage conversion of methane is 90.0%, and the gas leaving the reactor contains 8 mol CO$_2$/mol CO. What is the molar composition of the product stream?\n",
    "\n",
    "**Do the following using [this handout:](https://raw.githubusercontent.com/ndcbe/data-and-computing/main/extras/atomic-mass-balance-activity.docx)**\n",
    "1. Draw a picture\n",
    "2. Propose a mathematical model using atomic species balances\n",
    "3. Perform degree of freedom analysis\n",
    "4. Convert your model to a linear system\n",
    "5. Solve with Python\n",
    "6. Print your answer to the screen with a reasonable number of significant digits"
   ]
  },
  {
   "cell_type": "code",
   "execution_count": 2,
   "metadata": {
    "tags": [
     "remove-output"
    ]
   },
   "outputs": [
    {
     "name": "stdout",
     "output_type": "stream",
     "text": [
      "A = \n",
      " [[ 0  0  0  0  0  1]\n",
      " [ 1  0  0  0  0  0]\n",
      " [ 0  8 -1  0  0  0]\n",
      " [ 1  1  1  0  0  0]\n",
      " [ 4  0  0  2  0  0]\n",
      " [ 0  1  2  1  2  0]] \n",
      "\n",
      "b = \n",
      " [72.8   0.78  0.    7.8  31.2  38.8 ] \n",
      "\n",
      "The molar flows are:\n",
      "n1 = 0.780 mol\n",
      "n2 = 0.780 mol\n",
      "n3 = 6.240 mol\n",
      "n4 = 14.040 mol\n",
      "n5 = 5.750 mol\n",
      "n6 = 72.800 mol\n",
      "\n",
      "Condition Number of A: 26.693350866495237\n",
      "\n",
      "pl:\n",
      " [[ 0.          0.          0.         -0.          0.          1.        ]\n",
      " [ 0.25        0.          0.          0.48571429  1.          0.        ]\n",
      " [ 0.          1.          0.          0.          0.          0.        ]\n",
      " [ 0.25        0.125       0.52941176  1.          0.          0.        ]\n",
      " [ 1.          0.          0.          0.          0.          0.        ]\n",
      " [ 0.          0.125       1.          0.          0.          0.        ]]\n",
      "\n",
      "u:\n",
      " [[ 4.          0.          0.          2.          0.          0.        ]\n",
      " [ 0.          8.         -1.          0.          0.          0.        ]\n",
      " [ 0.          0.          2.125       1.          2.          0.        ]\n",
      " [ 0.          0.          0.         -1.02941176 -1.05882353  0.        ]\n",
      " [ 0.          0.          0.          0.          0.51428571  0.        ]\n",
      " [ 0.          0.          0.          0.          0.          1.        ]]\n",
      "\n",
      "p:\n",
      " [[0. 0. 0. 0. 0. 1.]\n",
      " [0. 0. 0. 0. 1. 0.]\n",
      " [0. 1. 0. 0. 0. 0.]\n",
      " [0. 0. 0. 1. 0. 0.]\n",
      " [1. 0. 0. 0. 0. 0.]\n",
      " [0. 0. 1. 0. 0. 0.]]\n",
      "\n",
      "l:\n",
      " [[ 1.          0.          0.          0.          0.          0.        ]\n",
      " [ 0.          1.          0.          0.          0.          0.        ]\n",
      " [ 0.          0.125       1.          0.          0.          0.        ]\n",
      " [ 0.25        0.125       0.52941176  1.          0.          0.        ]\n",
      " [ 0.25        0.          0.          0.48571429  1.          0.        ]\n",
      " [ 0.          0.          0.         -0.          0.          1.        ]]\n",
      "\n",
      "u:\n",
      " [[ 4.          0.          0.          2.          0.          0.        ]\n",
      " [ 0.          8.         -1.          0.          0.          0.        ]\n",
      " [ 0.          0.          2.125       1.          2.          0.        ]\n",
      " [ 0.          0.          0.         -1.02941176 -1.05882353  0.        ]\n",
      " [ 0.          0.          0.          0.          0.51428571  0.        ]\n",
      " [ 0.          0.          0.          0.          0.          1.        ]]\n",
      "\n",
      "y:\n",
      " [ 31.2          0.          38.8        -20.54117647   2.95714286\n",
      "  72.8       ]\n"
     ]
    },
    {
     "data": {
      "text/plain": [
       "array([ 0.78,  0.78,  6.24, 14.04,  5.75, 72.8 ])"
      ]
     },
     "execution_count": 2,
     "metadata": {},
     "output_type": "execute_result"
    }
   ],
   "source": [
    "# Add your solution here\n",
    "\n",
    "\n"
   ]
  }
 ],
 "metadata": {
  "kernelspec": {
   "display_name": "Python 3 (ipykernel)",
   "language": "python",
   "name": "python3"
  },
  "language_info": {
   "codemirror_mode": {
    "name": "ipython",
    "version": 3
   },
   "file_extension": ".py",
   "mimetype": "text/x-python",
   "name": "python",
   "nbconvert_exporter": "python",
   "pygments_lexer": "ipython3",
   "version": "3.9.12"
  }
 },
 "nbformat": 4,
 "nbformat_minor": 4
}
