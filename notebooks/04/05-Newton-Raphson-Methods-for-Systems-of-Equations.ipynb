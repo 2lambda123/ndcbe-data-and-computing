{
 "cells": [
  {
   "cell_type": "markdown",
   "metadata": {
    "colab_type": "text",
    "id": "vwvvdc673Awp"
   },
   "source": [
    "# Newton-Raphson Methods for Systems of Equations"
   ]
  },
  {
   "cell_type": "markdown",
   "metadata": {},
   "source": [
    "## Learning Objectives\n",
    "\n",
    "After studying this notebook, completing the activities, and asking questions in class, you should be able to:\n",
    "* Extend Newton's Method to multiple dimensions through the flash example.\n",
    "* Know how to assemble a Jacobian matrix and what that means.\n",
    "* Understand how to use a finite difference formula to approximate the Jacobian matrix.\n",
    "* Apply Multivariate Newton's Method to the flash problem."
   ]
  },
  {
   "cell_type": "code",
   "execution_count": 1,
   "metadata": {},
   "outputs": [],
   "source": [
    "import numpy as np"
   ]
  },
  {
   "cell_type": "markdown",
   "metadata": {
    "colab_type": "text",
    "id": "7nE5fTM23Ax_"
   },
   "source": [
    "## Motivation: Flash Problem Revisited"
   ]
  },
  {
   "cell_type": "markdown",
   "metadata": {
    "colab_type": "text",
    "id": "yNNP7IN_3Ax_"
   },
   "source": [
    "Recall the flash problem from [the Modeling Systems of Nonlinear Equations notebook](../04-publish/01-Modeling-Systems-of-Nonlinear-Equations.ipynb):\n",
    "\n",
    "![flash](../../media/flash-system.png)\n",
    "\n",
    "**Parameters (given)**:\n",
    "* $F$ feed inlet flowrate, mol/time or kg/time\n",
    "* $z_1$ composition of species 1 in feed, mol% or mass%\n",
    "* $z_2$ composition of species 2 in feed, mol% or mass%\n",
    "* $K_1$ partion coefficient for species 1, mol%/mol% or mass% / mass%\n",
    "* $K_2$ partion coefficient for species 2, mol%/mol% or mass% / mass%\n",
    "\n",
    "**Variables (unknown)**:\n",
    "* $L$ liquid outlet flowrate, mol/time or kg/time\n",
    "* $x_1$ composition of species 1 in liquid, mol% or mass%\n",
    "* $x_2$ composition of species 2 in liquid, mol% or mass%\n",
    "* $V$ vapor outlet flowrate, mol/time or kg/time\n",
    "* $y_1$ composition of species 1 in vapor, mol% or mass%\n",
    "* $y_2$ composition of species 2 in vapor, mol% or mass%\n",
    "\n",
    "How to solve the flash problem and other multidimensional problem with $n$ unknown variables and $n$ nonlinear equations?"
   ]
  },
  {
   "cell_type": "markdown",
   "metadata": {
    "colab_type": "text",
    "id": "-keX5nYN3AyB"
   },
   "source": [
    "## Extending Newton's Method to Multiple Dimensions"
   ]
  },
  {
   "cell_type": "markdown",
   "metadata": {
    "colab_type": "text",
    "id": "5frmAqVT3AyC"
   },
   "source": [
    "Say that we have a function of $n$ variables $\\mathbf{x} = (x_1, \\dots x_n):$ \n",
    "\n",
    "$$\\mathbf{F}(\\mathbf{x}) = \\begin{pmatrix}f_1(x_1,\\dots,x_n)\\\\ \\vdots \\\\ f_n(x_1,\\dots,x_n)\n",
    "\\end{pmatrix},$$\n",
    "\n",
    "the root is $\\mathbf{F}(\\mathbf{x}) = \\mathbf{0}.$ For this scenario we know longer have a tangent line at point $\\mathbf{x}$, rather we have an $n$-dimensional tangent vector that is defined using the Jacobian matrix\n",
    "\n",
    "$$ \\mathbf{J}(\\mathbf{x}) =  \\begin{pmatrix}\\frac{\\partial f_1}{\\partial x_1}(x_1,\\dots,x_n)& \\dots & \\frac{\\partial f_1}{\\partial x_n}(x_1,\\dots,x_n)\\\\\n",
    "\\vdots & & \\vdots\\\\\n",
    "\\frac{\\partial f_n}{\\partial x_1}(x_1,\\dots,x_n)& \\dots & \\frac{\\partial f_n}{\\partial x_n}(x_1,\\dots,x_n)\n",
    "\\end{pmatrix},$$\n",
    "\n",
    "to define the tangent vector as $\\mathbf{J}(\\mathbf{x})\\mathbf{x}$. Now we reformulate Newton's method for a single equation \n",
    "\n",
    "$$x_{i+1} = x_i - \\frac{f(x_i)}{f'(x_i)},$$\n",
    "\n",
    "as\n",
    "\n",
    "$$f'(x_i)(x_{i+1} - x_i) = - f(x_i).$$\n",
    "\n",
    "The multidimensional analog of this is \n",
    "\n",
    "$$\\mathbf{J}(\\mathbf{x}_i)(\\mathbf{x}_{i+1} - \\mathbf{x}_{i}) = -\\mathbf{F}(\\mathbf{x}_i).$$\n",
    "\n",
    "Note this is a linear system of equations to solve to get a vector of changes for each $x$: $\\pmb{\\delta} = \\mathbf{x}_{i+1} - \\mathbf{x}_{i}.$ Therefore, in each step we solve the system\n",
    "\n",
    "$$\\mathbf{J}(\\mathbf{x}_i)\\pmb{\\delta} = -\\mathbf{F}(\\mathbf{x}_i),$$\n",
    "\n",
    "and set\n",
    "\n",
    "$$\\mathbf{x}_{i+1} = \\mathbf{x}_i + \\pmb{\\delta}.$$\n",
    "\n",
    "In multidimensional root finding we can observe the importance of having a small number of iterations: we need to solve a linear system of equations at each iteration. If this system is large, the time to find the root could be prohibitively long. \n",
    "\n",
    "To demonstrate how Newton's method works for a multi-dimensional function."
   ]
  },
  {
   "cell_type": "markdown",
   "metadata": {
    "colab_type": "text",
    "id": "ZRO-F9JF3AyE"
   },
   "source": [
    "## Two Phase, Single Feed Phase Problem"
   ]
  },
  {
   "cell_type": "markdown",
   "metadata": {},
   "source": [
    "### Mathematical Model"
   ]
  },
  {
   "cell_type": "markdown",
   "metadata": {
    "colab_type": "text",
    "id": "-4Q3NAxd3AyF"
   },
   "source": [
    "Feed Specifications: $F = 1.0$ mol/s, $z_1$ = 0.5 mol/mol, $z_2$ = 0.5 mol/mol\n",
    "\n",
    "Given Equilibrium Data: $K_1$ = 3 mol/mol, $K_2$ = 0.05 mol/mol\n",
    "\n",
    "Overall Material Balance\n",
    "\n",
    "$$F = L + V$$\n",
    "\n",
    "Component Mass Balances\n",
    "\n",
    "$$V y_1 + L x_1 = F z_1$$\n",
    "\n",
    "$$V y_2 + L x_2 = F z_2$$\n",
    "\n",
    "Thermodynamic Equilibrium\n",
    "\n",
    "$$y_1 = K_1 x_1$$\n",
    "\n",
    "$$y_2 = K_2 x_2$$\n",
    "\n",
    "Summation\n",
    "\n",
    "$$y_1 + y_2 = x_1 + x_2$$"
   ]
  },
  {
   "cell_type": "markdown",
   "metadata": {
    "colab_type": "text",
    "id": "ejJp4YwW3AyF",
    "tags": []
   },
   "source": [
    "### Convert to Canonical Form\n",
    "\n",
    "How to convert these equations to $\\mathbf{F}(\\mathbf{x}) = 0$?\n",
    "\n",
    "$$\\mathbf{F}(\\mathbf{x}) = \\begin{pmatrix}\n",
    "L + V - F\\\\\n",
    "Vy_1 + L x_1 - F z_1 \\\\\n",
    "V y_2 + L x_2 - F z_2 \\\\\n",
    "y_1 - K_1 x_1 \\\\\n",
    "y_2 - K_2 x_2 \\\\\n",
    "y_1 + y_2 - x_1 - x_2\n",
    "\\end{pmatrix},$$\n",
    "\n",
    "with $\\mathbf{x} = (L, V, x_1, x_2, y_1, y_2).$\n",
    "\n",
    "Some people use $\\mathbf{F}(\\mathbf{x}) = 0$ and others use $c(x) = 0$ for canonical form. They mean the same thing."
   ]
  },
  {
   "cell_type": "markdown",
   "metadata": {},
   "source": [
    "<div style=\"background-color: rgba(0,255,0,0.05) ; padding: 10px; border: 1px solid darkgreen;\"> \n",
    "<b>Home Activity</b>: Verify each equation in the model above was correctly transcribed into the function below.\n",
    "</div>"
   ]
  },
  {
   "cell_type": "code",
   "execution_count": 2,
   "metadata": {
    "colab": {},
    "colab_type": "code",
    "id": "0Fv_aYYF3AyG",
    "tags": []
   },
   "outputs": [],
   "source": [
    "def my_f(x):\n",
    "    ''' Nonlinear system of equations in conancial form F(x) = 0\n",
    "    Copied from previous notebook.\n",
    "    \n",
    "    Arg:\n",
    "        x: vector of variables\n",
    "        \n",
    "    Returns:\n",
    "        r: residual, F(x)\n",
    "    \n",
    "    '''\n",
    "\n",
    "    # Initialize residuals\n",
    "    r = np.zeros(6)\n",
    "    \n",
    "    # given data\n",
    "    F = 1.0\n",
    "    z1 = 0.5\n",
    "    z2 = 0.5\n",
    "    K1 = 3\n",
    "    K2 = 0.05\n",
    "    \n",
    "    # copy values from x to more meaningful names\n",
    "    L = x[0]\n",
    "    V = x[1]\n",
    "    x1 = x[2]\n",
    "    x2 = x[3]\n",
    "    y1 = x[4]\n",
    "    y2 = x[5]\n",
    "    \n",
    "    # equation 1: overall mass balance\n",
    "    r[0] = V + L - F\n",
    "    \n",
    "    # equations 2 and 3: component mass balances\n",
    "    r[1] = V*y1 + L*x1 - F*z1\n",
    "    r[2] = V*y2 + L*x2 - F*z2\n",
    "    \n",
    "    # equation 4 and 5: equilibrium\n",
    "    r[3] = y1 - K1*x1\n",
    "    r[4] = y2 - K2*x2\n",
    "    \n",
    "    # equation 6: summation\n",
    "    r[5] = (y1 + y2) - (x1 + x2)\n",
    "    # This is known as the Rachford-Rice formulation for the summation constraint\n",
    "    \n",
    "    return r"
   ]
  },
  {
   "cell_type": "markdown",
   "metadata": {
    "colab_type": "text",
    "id": "a4D7Rzq83AyH",
    "tags": []
   },
   "source": [
    "### Assemble Jacobian Matrix (Analytic)\n",
    "\n",
    "The Jacobian is\n",
    "\n",
    "$$ \\mathbf{J}(\\mathbf{x}) = \\begin{pmatrix}\n",
    "\\frac{\\partial f_1}{\\partial L} & \\frac{\\partial f_1}{\\partial V} & \\frac{\\partial f_1}{\\partial x_1} & \\frac{\\partial f_1}{\\partial x_2} & \\frac{\\partial f_1}{\\partial y_1} & \\frac{\\partial f_1}{\\partial y_2} \\\\\n",
    "\\frac{\\partial f_2}{\\partial L} & \\frac{\\partial f_2}{\\partial V} & \\frac{\\partial f_2}{\\partial x_1} & \\frac{\\partial f_2}{\\partial x_2} & \\frac{\\partial f_2}{\\partial y_1} & \\frac{\\partial f_2}{\\partial y_2} \\\\\n",
    "\\vdots & & & & & \\vdots \\\\\n",
    "\\frac{\\partial f_6}{\\partial L} & \\frac{\\partial f_6}{\\partial V} & \\frac{\\partial f_6}{\\partial x_1} & \\frac{\\partial f_6}{\\partial x_2} & \\frac{\\partial f_6}{\\partial y_1} & \\frac{\\partial f_6}{\\partial y_2} \\\\\n",
    "\\end{pmatrix} $$\n",
    "\n",
    "which evaluates to\n",
    "\n",
    "$$ \\mathbf{J}(\\mathbf{x}) = \\begin{pmatrix}\n",
    "1 & 1 & 0 & 0 & 0 & 0\\\\\n",
    "x_1 & y_1 & L & 0 & V & 0 \\\\\n",
    "x_2 & y_2 & 0 & L & 0 & V \\\\\n",
    "0 & 0 & -K_1 & 0 & 1 & 0 \\\\\n",
    "0 & 0 & 0 & -K_2 & 0 & 1 \\\\\n",
    "0 & 0 & -1 & -1 & 1 & 1\n",
    "\\end{pmatrix}.$$\n",
    "\n",
    "We can tediously program a function to evaluate the Jacobian."
   ]
  },
  {
   "cell_type": "markdown",
   "metadata": {},
   "source": [
    "<div style=\"background-color: rgba(0,255,0,0.05) ; padding: 10px; border: 1px solid darkgreen;\"> \n",
    "<b>Home Activity</b>: Verify the second row in the Jacobian was calculated properly.\n",
    "</div>"
   ]
  },
  {
   "cell_type": "code",
   "execution_count": 3,
   "metadata": {
    "colab": {},
    "colab_type": "code",
    "id": "_AwYq4Lq3AyH",
    "tags": []
   },
   "outputs": [],
   "source": [
    "def my_J(x):\n",
    "    '''Jacobian matrix for two phase flash problem\n",
    "    \n",
    "    Arg:\n",
    "        x: vector of variables\n",
    "        \n",
    "    Returns:\n",
    "        J: square Jacobian matrix\n",
    "    '''\n",
    "    \n",
    "    # allocate matrix of zeros\n",
    "    J = np.zeros((6,6))\n",
    "    \n",
    "    # given data\n",
    "    F = 1.0\n",
    "    z1 = 0.5\n",
    "    z2 = 0.5\n",
    "    K1 = 3\n",
    "    K2 = 0.05\n",
    "    \n",
    "    # copy values from x to more meaningful names\n",
    "    L = x[0]\n",
    "    V = x[1]\n",
    "    x1 = x[2]\n",
    "    x2 = x[3]\n",
    "    y1 = x[4]\n",
    "    y2 = x[5]\n",
    "    \n",
    "    # first row (overall material balance)\n",
    "    J[0,0] = 1\n",
    "    J[0,1] = 1\n",
    "    \n",
    "    # second row (component 1 material balance)\n",
    "    J[1,0] = x1\n",
    "    J[1,1] = y1\n",
    "    J[1,2] = L\n",
    "    J[1,4] = V\n",
    "    \n",
    "    # third row (component 2 material balance)\n",
    "    J[2,0] = x2\n",
    "    J[2,1] = y2\n",
    "    J[2,3] = L\n",
    "    J[2,5] = V\n",
    "    \n",
    "    # fourth row (equilibrium for component 1)\n",
    "    J[3,2] = -K1\n",
    "    J[3,4] = 1\n",
    "    \n",
    "    # fifth row (equilibrium for component 2)\n",
    "    J[4,3] = -K2\n",
    "    J[4,5] = 1\n",
    "    \n",
    "    # sixth row (summation equation)\n",
    "    J[5,2] = -1\n",
    "    J[5,3] = -1\n",
    "    J[5,4] = 1\n",
    "    J[5,5] = 1\n",
    "    \n",
    "    return J"
   ]
  },
  {
   "cell_type": "markdown",
   "metadata": {
    "colab_type": "text",
    "id": "w_pNQ-Q13AyK"
   },
   "source": [
    "**Unit Test**: Immediately after we create a function, we should test it. Let's reuse the same initial guess as in the [previous notebook](../04-publish/01-Modeling-Systems-of-Nonlinear-Equations.ipynb).\n",
    "\n",
    "$L = 0.5$, $V = 0.5$, $x_1 = 0.55$, $x_2 = 0.45$, $y_1 = 0.65$, $y_2 = 0.35$\n",
    "\n",
    "Jacobian structure copied from above:\n",
    "\n",
    "$$ \\mathbf{J}(\\mathbf{x}) = \\begin{pmatrix}\n",
    "1 & 1 & 0 & 0 & 0 & 0\\\\\n",
    "x_1 & y_1 & L & 0 & V & 0 \\\\\n",
    "x_2 & y_2 & 0 & L & 0 & V \\\\\n",
    "0 & 0 & -K_1 & 0 & 1 & 0 \\\\\n",
    "0 & 0 & 0 & -K_2 & 0 & 1 \\\\\n",
    "0 & 0 & -1 & -1 & 1 & 1\n",
    "\\end{pmatrix}.$$"
   ]
  },
  {
   "cell_type": "code",
   "execution_count": 4,
   "metadata": {
    "colab": {
     "base_uri": "https://localhost:8080/",
     "height": 137
    },
    "colab_type": "code",
    "executionInfo": {
     "elapsed": 422,
     "status": "ok",
     "timestamp": 1550761033770,
     "user": {
      "displayName": "Alexander Dowling",
      "photoUrl": "https://lh3.googleusercontent.com/-LChdQ2m5OQE/AAAAAAAAAAI/AAAAAAAAAA0/JeXJe4vQJ7M/s64/photo.jpg",
      "userId": "00988067626794866502"
     },
     "user_tz": 300
    },
    "id": "Dc15MCZw3AyL",
    "outputId": "007d93ad-eee5-481b-ec00-c08c99e5b418"
   },
   "outputs": [
    {
     "name": "stdout",
     "output_type": "stream",
     "text": [
      "J(x0) = \n",
      " [[ 1.    1.    0.    0.    0.    0.  ]\n",
      " [ 0.55  0.65  0.5   0.    0.5   0.  ]\n",
      " [ 0.45  0.35  0.    0.5   0.    0.5 ]\n",
      " [ 0.    0.   -3.    0.    1.    0.  ]\n",
      " [ 0.    0.    0.   -0.05  0.    1.  ]\n",
      " [ 0.    0.   -1.   -1.    1.    1.  ]]\n"
     ]
    }
   ],
   "source": [
    "x0 = np.array([0.5, 0.5, 0.55, 0.45, 0.65, 0.35])\n",
    "print(\"J(x0) = \\n\",my_J(x0))"
   ]
  },
  {
   "cell_type": "markdown",
   "metadata": {
    "colab_type": "text",
    "id": "7e8EXLzv3AyN"
   },
   "source": [
    "## First Iteration"
   ]
  },
  {
   "cell_type": "code",
   "execution_count": 5,
   "metadata": {
    "colab": {
     "base_uri": "https://localhost:8080/",
     "height": 206
    },
    "colab_type": "code",
    "executionInfo": {
     "elapsed": 391,
     "status": "ok",
     "timestamp": 1550761063857,
     "user": {
      "displayName": "Alexander Dowling",
      "photoUrl": "https://lh3.googleusercontent.com/-LChdQ2m5OQE/AAAAAAAAAAI/AAAAAAAAAA0/JeXJe4vQJ7M/s64/photo.jpg",
      "userId": "00988067626794866502"
     },
     "user_tz": 300
    },
    "id": "hG3XW9xI3AyO",
    "outputId": "f6b365ec-b493-45d8-f115-7a68c0949bcf"
   },
   "outputs": [
    {
     "name": "stdout",
     "output_type": "stream",
     "text": [
      "F(x0) = \n",
      " [ 0.      0.1    -0.1    -1.      0.3275  0.    ] \n",
      "\n",
      "J(x0) = \n",
      " [[ 1.    1.    0.    0.    0.    0.  ]\n",
      " [ 0.55  0.65  0.5   0.    0.5   0.  ]\n",
      " [ 0.45  0.35  0.    0.5   0.    0.5 ]\n",
      " [ 0.    0.   -3.    0.    1.    0.  ]\n",
      " [ 0.    0.    0.   -0.05  0.    1.  ]\n",
      " [ 0.    0.   -1.   -1.    1.    1.  ]] \n",
      "\n"
     ]
    }
   ],
   "source": [
    "print(\"F(x0) = \\n\",my_f(x0),\"\\n\")\n",
    "print(\"J(x0) = \\n\",my_J(x0),\"\\n\")"
   ]
  },
  {
   "cell_type": "markdown",
   "metadata": {
    "colab_type": "text",
    "id": "Z8g3rn2f3AyP"
   },
   "source": [
    "We now need to solve the linear system:\n",
    "\n",
    "$$\\mathbf{J}(\\mathbf{x}_0)\\pmb{\\delta}_1 = -\\mathbf{F}(\\mathbf{x}_0).$$\n",
    "\n",
    "Let's use Gaussian elimination. We'll start by copying the code from [this previous notebook](../02-publish/02-Gauss-Elimination.ipynb):"
   ]
  },
  {
   "cell_type": "markdown",
   "metadata": {},
   "source": [
    "<div style=\"background-color: rgba(0,255,0,0.05) ; padding: 10px; border: 1px solid darkgreen;\"> \n",
    "<b>Home Activity</b>: Please read through the docstrings for each function below.\n",
    "</div>"
   ]
  },
  {
   "cell_type": "code",
   "execution_count": 6,
   "metadata": {
    "colab": {},
    "colab_type": "code",
    "id": "zQb659j03AyQ",
    "tags": []
   },
   "outputs": [],
   "source": [
    "import numpy as np\n",
    "\n",
    "def BackSub(aug_matrix,z_tol=1E-8):\n",
    "    \"\"\"back substitute a N by N system after Gauss elimination\n",
    "\n",
    "    Args:\n",
    "        aug_matrix: augmented matrix with zeros below the diagonal [numpy 2D array]\n",
    "        z_tol: tolerance for checking for zeros below the diagonal [float]\n",
    "    Returns:\n",
    "        x: length N vector, solution to linear system [numpy 1D array]\n",
    "    \"\"\"\n",
    "    [Nrow, Ncol] = aug_matrix.shape\n",
    "    try:\n",
    "        # check the dimensions\n",
    "        assert Nrow + 1 == Ncol\n",
    "    except AssertionError:\n",
    "        print(\"Dimension checks failed.\")\n",
    "        print(\"Nrow = \",Nrow)\n",
    "        print(\"Ncol = \",Ncol)\n",
    "        raise\n",
    "\n",
    "    assert type(z_tol) is float, \"z_tol must be a float\"\n",
    "        \n",
    "    # check augmented matrix is all zeros below the diagonal\n",
    "    for r in range(Nrow):\n",
    "        for c in range(0,r):\n",
    "            assert np.abs(aug_matrix[r,c]) < z_tol, \"\\nWarning! Nonzero in position \"+str(r)+\",\"+str(c)\n",
    "\n",
    "    # create vector of zeros to store solution\n",
    "    x = np.zeros(Nrow)\n",
    "    \n",
    "    # loop over the rows starting at the bottom\n",
    "    for row in range(Nrow-1,-1,-1):\n",
    "        RHS = aug_matrix[row,Nrow] # far column\n",
    "\n",
    "        # loop over the columns to the right of the diagonal\n",
    "        for column in range(row+1,Nrow):\n",
    "            \n",
    "            # substract, i.e., substitute the already known values\n",
    "            RHS -= x[column]*aug_matrix[row,column]\n",
    "\n",
    "        # compute the element of x corresponding to the current row\n",
    "        x[row] = RHS/aug_matrix[row,row]\n",
    "        \n",
    "    ### END SOLUTION\n",
    "    return x\n",
    "\n",
    "def swap_rows(A, a, b):\n",
    "    \"\"\"Rows two rows in a matrix, switch row a with row b\n",
    "    \n",
    "    args: \n",
    "    A: matrix to perform row swaps on\n",
    "    a: row index of matrix\n",
    "    b: row index of matrix\n",
    "    \n",
    "    returns: nothing\n",
    "    \n",
    "    side effects:\n",
    "    changes A to rows a and b swapped\n",
    "    \"\"\"\n",
    "    \n",
    "    # A negative index will give unexpected behavior\n",
    "    assert (a>=0) and (b>=0)\n",
    "    N = A.shape[0] #number of rows\n",
    "    assert (a<N) and (b<N) #less than because 0-based indexing\n",
    "    \n",
    "    # create a temporary variable to store row a\n",
    "    temp = A[a,:].copy()\n",
    "    \n",
    "    # move row b values into the location of row a\n",
    "    A[a,:] = A[b,:].copy()\n",
    "    \n",
    "    # move row a values (stored in temp) into the location of row a\n",
    "    A[b,:] = temp.copy()\n",
    "    \n",
    "def GaussElimPivotSolve(A,b,LOUD=False):\n",
    "    \"\"\"create a Gaussian elimination with pivoting matrix for a system\n",
    "\n",
    "    Args:\n",
    "        A: N by N array\n",
    "        b: array of length N\n",
    "    Returns:\n",
    "        solution vector in the original order\n",
    "    \"\"\"\n",
    "    \n",
    "    # checks dimensions\n",
    "    [Nrow, Ncol] = A.shape\n",
    "    assert Nrow == Ncol\n",
    "    N = Nrow\n",
    "    \n",
    "    \n",
    "    #create augmented matrix\n",
    "    aug_matrix = np.zeros((N,N+1))\n",
    "    aug_matrix[0:N,0:N] = A\n",
    "    aug_matrix[:,N] = b\n",
    "    #augmented matrix is created\n",
    "    \n",
    "    #create scale factors \n",
    "    s = np.zeros(N)\n",
    "    count = 0\n",
    "    for row in aug_matrix[:,0:N]: #don't include b\n",
    "        s[count] = np.max(np.fabs(row))\n",
    "        count += 1\n",
    "  \n",
    "    # print diagnostics if requested\n",
    "    if LOUD:\n",
    "        print(\"s =\",s)\n",
    "        print(\"Original Augmented Matrix is\\n\",aug_matrix)\n",
    "    \n",
    "    #perform elimination\n",
    "    for column in range(0,N):\n",
    "        \n",
    "        ## swap rows if needed\n",
    "        # find largest position\n",
    "        largest_pos = (np.argmax(np.fabs(aug_matrix[column:N,column]/\n",
    "                                         s[column:N])) + column)\n",
    "        \n",
    "        # check if current column is largest position\n",
    "        if (largest_pos != column):\n",
    "            # if not, swap rows\n",
    "            if (LOUD):\n",
    "                print(\"Swapping row\",column,\"with row\",largest_pos)\n",
    "                print(\"Pre swap\\n\",aug_matrix)\n",
    "            swap_rows(aug_matrix,column,largest_pos)\n",
    "            \n",
    "            #re-order s\n",
    "            tmp = s[column]\n",
    "            s[column] = s[largest_pos]\n",
    "            s[largest_pos] = tmp\n",
    "            if (LOUD):\n",
    "                print(\"A =\\n\",aug_matrix)\n",
    "                print(\"new_s =\\n\", s)\n",
    "        \n",
    "        #finish off the row\n",
    "        for row in range(column+1,N):\n",
    "            mod_row = aug_matrix[row,:]\n",
    "            mod_row = mod_row - mod_row[column]/aug_matrix[column,column]*aug_matrix[column,:]\n",
    "            aug_matrix[row] = mod_row\n",
    "    \n",
    "    #now back solve\n",
    "    if LOUD:\n",
    "        print(\"Final aug_matrix is\\n\",aug_matrix)\n",
    "    x = BackSub(aug_matrix)\n",
    "    return x"
   ]
  },
  {
   "cell_type": "markdown",
   "metadata": {
    "colab_type": "text",
    "id": "N_LSxNJj3AyR"
   },
   "source": [
    "And now let's solve the linear system, copied again for clarity:\n",
    "\n",
    "$$\\mathbf{J}(\\mathbf{x}_0)\\pmb{\\delta}_1 = -\\mathbf{F}(\\mathbf{x}_0).$$"
   ]
  },
  {
   "cell_type": "code",
   "execution_count": 7,
   "metadata": {
    "colab": {
     "base_uri": "https://localhost:8080/",
     "height": 34
    },
    "colab_type": "code",
    "executionInfo": {
     "elapsed": 522,
     "status": "ok",
     "timestamp": 1550761111243,
     "user": {
      "displayName": "Alexander Dowling",
      "photoUrl": "https://lh3.googleusercontent.com/-LChdQ2m5OQE/AAAAAAAAAAI/AAAAAAAAAA0/JeXJe4vQJ7M/s64/photo.jpg",
      "userId": "00988067626794866502"
     },
     "user_tz": 300
    },
    "id": "-ED9Vjx33AyR",
    "outputId": "7f6c09fe-a18b-4d8b-bcec-256ccf902152"
   },
   "outputs": [
    {
     "name": "stdout",
     "output_type": "stream",
     "text": [
      "delta_1 = [ 1.44067797 -1.44067797 -0.2279661   0.2279661   0.31610169 -0.31610169]\n"
     ]
    }
   ],
   "source": [
    "delta_1 = GaussElimPivotSolve(my_J(x0), -my_f(x0))\n",
    "print(\"delta_1 =\",delta_1)"
   ]
  },
  {
   "cell_type": "markdown",
   "metadata": {
    "colab_type": "text",
    "id": "Ffo_R4JF3AyT"
   },
   "source": [
    "Finally, we need to calculate $\\mathbf{x_1}$:\n",
    "\n",
    "$$\\mathbf{x}_1 = \\mathbf{x}_0 + \\pmb{\\delta}_1$$"
   ]
  },
  {
   "cell_type": "code",
   "execution_count": 8,
   "metadata": {
    "colab": {
     "base_uri": "https://localhost:8080/",
     "height": 34
    },
    "colab_type": "code",
    "executionInfo": {
     "elapsed": 456,
     "status": "ok",
     "timestamp": 1550761125527,
     "user": {
      "displayName": "Alexander Dowling",
      "photoUrl": "https://lh3.googleusercontent.com/-LChdQ2m5OQE/AAAAAAAAAAI/AAAAAAAAAA0/JeXJe4vQJ7M/s64/photo.jpg",
      "userId": "00988067626794866502"
     },
     "user_tz": 300
    },
    "id": "aUgH7H7T3AyU",
    "outputId": "4f11ce13-fab4-4c73-83d1-487764c5e0e8"
   },
   "outputs": [
    {
     "name": "stdout",
     "output_type": "stream",
     "text": [
      "x1 =  [ 1.94067797 -0.94067797  0.3220339   0.6779661   0.96610169  0.03389831]\n"
     ]
    }
   ],
   "source": [
    "x1 = x0 + delta_1\n",
    "print(\"x1 = \",x1)"
   ]
  },
  {
   "cell_type": "markdown",
   "metadata": {
    "colab_type": "text",
    "id": "L_cUfZpy3AyV"
   },
   "source": [
    "The results for multivariate Newton's method matches the single variable case. Division is replaced with solving a linear system of equations."
   ]
  },
  {
   "cell_type": "markdown",
   "metadata": {},
   "source": [
    "<div style=\"background-color: rgba(0,255,0,0.05) ; padding: 10px; border: 1px solid darkgreen;\"> \n",
    "<b>Home Activity</b>: Notice anything strange about $\\mathbf{x}_1$? Recall that $\\mathbf{x} = (L, V, x_1, x_2, y_1, y_2)$. Write a sentence below.\n",
    "</div>"
   ]
  },
  {
   "cell_type": "markdown",
   "metadata": {},
   "source": [
    "**Write your sentence here:** "
   ]
  },
  {
   "cell_type": "markdown",
   "metadata": {
    "colab_type": "text",
    "id": "2-Vp1lIX3AyX"
   },
   "source": [
    "## Finite Difference to Approximate the Jacobian Matrix\n",
    "\n",
    "Assembling the Jacobian matrix for each problem is tedious and error prone. Instead, we can apply finite difference to each element of $\\mathbf{x}$ to built the Jacobian matrix column by column."
   ]
  },
  {
   "cell_type": "markdown",
   "metadata": {},
   "source": [
    "<div style=\"background-color: rgba(0,0,255,0.05) ; padding: 10px; border: 1px solid darkblue;\"> \n",
    "<b>Class Activity</b>: With a partner, use a picture of Jacobian matrix to explain the main steps of the code below.\n",
    "</div>"
   ]
  },
  {
   "cell_type": "code",
   "execution_count": 9,
   "metadata": {
    "colab": {},
    "colab_type": "code",
    "id": "iZ69xVE-3AyY",
    "tags": []
   },
   "outputs": [],
   "source": [
    "def Jacobian(f,x,delta = 1.0e-7):\n",
    "    '''Approximate Jacobian using forward finite difference\n",
    "\n",
    "    Args:\n",
    "        f: vector-valued function\n",
    "        x: point to build approximation J(x) around\n",
    "        delta: finite difference step size\n",
    "\n",
    "    Returns:\n",
    "        J: square Jacobian matrix (approximation)\n",
    "\n",
    "    '''\n",
    "    # Determine size\n",
    "    N = x.size\n",
    "    \n",
    "    #Evaluate function f at x\n",
    "    fx = f(x) #only need to evaluate this once\n",
    "    \n",
    "    # Make sure f is square (no. inputs = no. outputs)\n",
    "    try:\n",
    "        assert N == fx.size, \"Your problem is not square!\"\n",
    "    except AssertionError:\n",
    "        print(\"x = \",x)\n",
    "        print(\"fx = \",fx)\n",
    "    \n",
    "    \n",
    "    # Allocate empty matrix\n",
    "    J = np.zeros((N,N))\n",
    "\n",
    "    idelta = 1.0/delta #division is slower than multiplication\n",
    "    x_perturbed = x.copy() #copy x to add delta\n",
    "    \n",
    "    # Loop over elements of x and columns of J\n",
    "    for i in range(N):\n",
    "        # Perturb (apply step) to element i of x\n",
    "        x_perturbed[i] += delta\n",
    "        \n",
    "        # Approximate column in Jacobian\n",
    "        col = (f(x_perturbed) - fx) * idelta\n",
    "        \n",
    "        # Reset element of x\n",
    "        x_perturbed[i] = x[i]\n",
    "        \n",
    "        # Save results\n",
    "        J[:,i] = col\n",
    "    # end for loop\n",
    "    return J"
   ]
  },
  {
   "cell_type": "markdown",
   "metadata": {
    "colab_type": "text",
    "id": "9spo5yYR3Ayb"
   },
   "source": [
    "**Unit Test**: Immediately after we create a function, we need to test it. Let's use or flash problem as a unit test."
   ]
  },
  {
   "cell_type": "code",
   "execution_count": 10,
   "metadata": {
    "colab": {
     "base_uri": "https://localhost:8080/",
     "height": 360
    },
    "colab_type": "code",
    "executionInfo": {
     "elapsed": 447,
     "status": "ok",
     "timestamp": 1550761329680,
     "user": {
      "displayName": "Alexander Dowling",
      "photoUrl": "https://lh3.googleusercontent.com/-LChdQ2m5OQE/AAAAAAAAAAI/AAAAAAAAAA0/JeXJe4vQJ7M/s64/photo.jpg",
      "userId": "00988067626794866502"
     },
     "user_tz": 300
    },
    "id": "Rnrf9a1y3Ayb",
    "outputId": "77fff900-9fb6-4e17-89fe-34d62c92d034"
   },
   "outputs": [
    {
     "name": "stdout",
     "output_type": "stream",
     "text": [
      "*** Analytic ***\n",
      "J(x0) = \n",
      " [[ 1.    1.    0.    0.    0.    0.  ]\n",
      " [ 0.55  0.65  0.5   0.    0.5   0.  ]\n",
      " [ 0.45  0.35  0.    0.5   0.    0.5 ]\n",
      " [ 0.    0.   -3.    0.    1.    0.  ]\n",
      " [ 0.    0.    0.   -0.05  0.    1.  ]\n",
      " [ 0.    0.   -1.   -1.    1.    1.  ]] \n",
      "\n",
      "\n",
      "\n",
      "*** Finite Difference ***\n",
      "J(x0) = \n",
      " [[ 1.    1.    0.    0.    0.    0.  ]\n",
      " [ 0.55  0.65  0.5   0.    0.5   0.  ]\n",
      " [ 0.45  0.35  0.    0.5   0.    0.5 ]\n",
      " [ 0.    0.   -3.    0.    1.    0.  ]\n",
      " [ 0.    0.    0.   -0.05  0.    1.  ]\n",
      " [ 0.    0.   -1.   -1.    1.    1.  ]] \n",
      "\n"
     ]
    }
   ],
   "source": [
    "print(\"*** Analytic ***\")\n",
    "print(\"J(x0) = \\n\",my_J(x0),\"\\n\")\n",
    "\n",
    "print(\"\\n\\n*** Finite Difference ***\")\n",
    "print(\"J(x0) = \\n\",Jacobian(my_f,x0),\"\\n\")"
   ]
  },
  {
   "cell_type": "markdown",
   "metadata": {
    "colab_type": "text",
    "id": "RxblEwId3Ayd"
   },
   "source": [
    "## Putting it all together: Multivariate Newton's Method"
   ]
  },
  {
   "cell_type": "markdown",
   "metadata": {},
   "source": [
    "We can now stick together i) solving a linear system, and ii) finite difference into a multivariate Newton's method solver."
   ]
  },
  {
   "cell_type": "code",
   "execution_count": 11,
   "metadata": {
    "colab": {},
    "colab_type": "code",
    "id": "0rJZ-QOA3Ayf",
    "tags": []
   },
   "outputs": [],
   "source": [
    "def newton_system(f,x0,exact_Jac=None,delta=1E-7,epsilon=1.0e-6, LOUD=False):\n",
    "    \"\"\"Find the root of the function f via exact or inexact Newton-Raphson method\n",
    "    Args:\n",
    "        f: function to find root of\n",
    "        x0: initial guess\n",
    "        exact_Jac: function to calculate J. If None, use finite difference\n",
    "        delta: finite difference tolerance. Only used if J is not specified\n",
    "        epsilon: tolerance\n",
    "        \n",
    "    Returns:\n",
    "        estimate of root\n",
    "    \"\"\"\n",
    "        \n",
    "    x = x0\n",
    "    if (LOUD):\n",
    "        print(\"x0 =\",x0)\n",
    "    iterations = 0\n",
    "    fx = f(x)\n",
    "    while (np.linalg.norm(fx) > epsilon):\n",
    "        if exact_Jac is None:\n",
    "            # Use finite difference\n",
    "            J = Jacobian(f,x,delta)\n",
    "        else:\n",
    "            J = exact_Jac(x)\n",
    "        \n",
    "        RHS = -fx;\n",
    "        \n",
    "        # solve linear system\n",
    "        # We could have used GaussElimPivotSolve here instead\n",
    "        delta_x = np.linalg.solve(J,RHS)\n",
    "        \n",
    "        # Check if GE returned any NaN values\n",
    "        if np.isnan(delta_x).any():\n",
    "            print(\"Gaussian Elimination Failed!\")\n",
    "            print(\"J = \\n\",J,\"\\n\")\n",
    "            print(\"J is rank\",np.linalg.matrix_rank(J),\"\\n\")\n",
    "            print(\"RHS = \",RHS)\n",
    "        x = x + delta_x\n",
    "        fx = f(x)\n",
    "        if (LOUD):\n",
    "            print(\"\\nIteration\",iterations+1,\": x =\",x,\"\\n norm(f(x)) =\",np.linalg.norm(fx))\n",
    "        iterations += 1\n",
    "    print(\"\\nIt took\",iterations,\"iterations\")\n",
    "    return x #return estimate of root"
   ]
  },
  {
   "cell_type": "markdown",
   "metadata": {
    "colab_type": "text",
    "id": "abKD1WOL3Ayh"
   },
   "source": [
    "## Return to the Two Phase Flash Calculation"
   ]
  },
  {
   "cell_type": "code",
   "execution_count": 12,
   "metadata": {
    "colab": {
     "base_uri": "https://localhost:8080/",
     "height": 171
    },
    "colab_type": "code",
    "executionInfo": {
     "elapsed": 387,
     "status": "ok",
     "timestamp": 1550761416076,
     "user": {
      "displayName": "Alexander Dowling",
      "photoUrl": "https://lh3.googleusercontent.com/-LChdQ2m5OQE/AAAAAAAAAAI/AAAAAAAAAA0/JeXJe4vQJ7M/s64/photo.jpg",
      "userId": "00988067626794866502"
     },
     "user_tz": 300
    },
    "id": "xeQ3Vo7Z3Ayh",
    "outputId": "0b21f11d-571a-48d2-af22-9d1cb42fe0f7"
   },
   "outputs": [
    {
     "name": "stdout",
     "output_type": "stream",
     "text": [
      "x0 = [0.5  0.5  0.55 0.45 0.65 0.35]\n",
      "\n",
      "Iteration 1 : x = [ 1.94067797 -0.94067797  0.3220339   0.6779661   0.96610169  0.03389831] \n",
      " norm(f(x)) = 1.1084980479560436\n",
      "\n",
      "Iteration 2 : x = [0.72368421 0.27631579 0.3220339  0.6779661  0.96610169 0.03389831] \n",
      " norm(f(x)) = 3.3306690738754696e-16\n",
      "\n",
      "It took 2 iterations\n"
     ]
    }
   ],
   "source": [
    "# First, we'll try exact Newton's method\n",
    "# We give the function my_J as an input argument\n",
    "xsln = newton_system(my_f,x0,exact_Jac=my_J,LOUD=True)"
   ]
  },
  {
   "cell_type": "markdown",
   "metadata": {
    "colab_type": "text",
    "id": "27a2z3q43Ayk"
   },
   "source": [
    "Wow, it took Newton's method only 2 iterations to find the solution with a residual norm of 10$^{-16}$. Moreover, it recovered from a non-physical intermediate value.\n",
    "\n",
    "Now let's try inexact Newton's method:"
   ]
  },
  {
   "cell_type": "code",
   "execution_count": 13,
   "metadata": {
    "colab": {
     "base_uri": "https://localhost:8080/",
     "height": 171
    },
    "colab_type": "code",
    "executionInfo": {
     "elapsed": 419,
     "status": "ok",
     "timestamp": 1550761452562,
     "user": {
      "displayName": "Alexander Dowling",
      "photoUrl": "https://lh3.googleusercontent.com/-LChdQ2m5OQE/AAAAAAAAAAI/AAAAAAAAAA0/JeXJe4vQJ7M/s64/photo.jpg",
      "userId": "00988067626794866502"
     },
     "user_tz": 300
    },
    "id": "uEpttzhS3Ayk",
    "outputId": "0af31a7b-05d8-48d0-ca98-77b74b04e38b"
   },
   "outputs": [
    {
     "name": "stdout",
     "output_type": "stream",
     "text": [
      "x0 = [0.5  0.5  0.55 0.45 0.65 0.35]\n",
      "\n",
      "Iteration 1 : x = [ 1.94067797 -0.94067797  0.3220339   0.6779661   0.9661017   0.03389831] \n",
      " norm(f(x)) = 1.1084980482929316\n",
      "\n",
      "Iteration 2 : x = [0.72368421 0.27631579 0.3220339  0.6779661  0.96610169 0.03389831] \n",
      " norm(f(x)) = 3.0340609559661354e-09\n",
      "\n",
      "It took 2 iterations\n"
     ]
    }
   ],
   "source": [
    "xsln = newton_system(my_f,x0,LOUD=True)"
   ]
  },
  {
   "cell_type": "markdown",
   "metadata": {
    "colab_type": "text",
    "id": "G0KJNp7H3Ayl"
   },
   "source": [
    "With inexact Newton's method we also converge in two iterations with a residual norm of 10$^{-9}$."
   ]
  },
  {
   "cell_type": "markdown",
   "metadata": {
    "colab_type": "text",
    "id": "SfuFZdM_3Aym"
   },
   "source": [
    "## Now let's break it\n",
    "\n",
    "Let's try to find an initial point that breaks Newton's method. Perhaps a near single phase guess (almost all mass in liquid) with the same composition in both phases."
   ]
  },
  {
   "cell_type": "code",
   "execution_count": 14,
   "metadata": {
    "colab": {
     "base_uri": "https://localhost:8080/",
     "height": 363
    },
    "colab_type": "code",
    "executionInfo": {
     "elapsed": 345,
     "status": "ok",
     "timestamp": 1550761522751,
     "user": {
      "displayName": "Alexander Dowling",
      "photoUrl": "https://lh3.googleusercontent.com/-LChdQ2m5OQE/AAAAAAAAAAI/AAAAAAAAAA0/JeXJe4vQJ7M/s64/photo.jpg",
      "userId": "00988067626794866502"
     },
     "user_tz": 300
    },
    "id": "xwc9mnMZ3Aym",
    "outputId": "125688f7-67b0-4023-e7aa-f22de8452e43"
   },
   "outputs": [
    {
     "name": "stdout",
     "output_type": "stream",
     "text": [
      "x0 = [0.99 0.01 0.5  0.5  0.5  0.5 ]\n"
     ]
    },
    {
     "ename": "LinAlgError",
     "evalue": "Singular matrix",
     "output_type": "error",
     "traceback": [
      "\u001b[1;31m---------------------------------------------------------------------------\u001b[0m",
      "\u001b[1;31mLinAlgError\u001b[0m                               Traceback (most recent call last)",
      "Input \u001b[1;32mIn [14]\u001b[0m, in \u001b[0;36m<cell line: 2>\u001b[1;34m()\u001b[0m\n\u001b[0;32m      1\u001b[0m x0_break1 \u001b[38;5;241m=\u001b[39m np\u001b[38;5;241m.\u001b[39marray([\u001b[38;5;241m0.99\u001b[39m, \u001b[38;5;241m0.01\u001b[39m, \u001b[38;5;241m0.5\u001b[39m, \u001b[38;5;241m0.5\u001b[39m, \u001b[38;5;241m0.5\u001b[39m, \u001b[38;5;241m0.5\u001b[39m])\n\u001b[1;32m----> 2\u001b[0m xsln \u001b[38;5;241m=\u001b[39m \u001b[43mnewton_system\u001b[49m\u001b[43m(\u001b[49m\u001b[43mmy_f\u001b[49m\u001b[43m,\u001b[49m\u001b[43mx0_break1\u001b[49m\u001b[43m,\u001b[49m\u001b[43mexact_Jac\u001b[49m\u001b[38;5;241;43m=\u001b[39;49m\u001b[43mmy_J\u001b[49m\u001b[43m,\u001b[49m\u001b[43mLOUD\u001b[49m\u001b[38;5;241;43m=\u001b[39;49m\u001b[38;5;28;43;01mTrue\u001b[39;49;00m\u001b[43m)\u001b[49m\n",
      "Input \u001b[1;32mIn [11]\u001b[0m, in \u001b[0;36mnewton_system\u001b[1;34m(f, x0, exact_Jac, delta, epsilon, LOUD)\u001b[0m\n\u001b[0;32m     26\u001b[0m RHS \u001b[38;5;241m=\u001b[39m \u001b[38;5;241m-\u001b[39mfx;\n\u001b[0;32m     28\u001b[0m \u001b[38;5;66;03m# solve linear system\u001b[39;00m\n\u001b[0;32m     29\u001b[0m \u001b[38;5;66;03m# We could have used GaussElimPivotSolve here instead\u001b[39;00m\n\u001b[1;32m---> 30\u001b[0m delta_x \u001b[38;5;241m=\u001b[39m \u001b[43mnp\u001b[49m\u001b[38;5;241;43m.\u001b[39;49m\u001b[43mlinalg\u001b[49m\u001b[38;5;241;43m.\u001b[39;49m\u001b[43msolve\u001b[49m\u001b[43m(\u001b[49m\u001b[43mJ\u001b[49m\u001b[43m,\u001b[49m\u001b[43mRHS\u001b[49m\u001b[43m)\u001b[49m\n\u001b[0;32m     32\u001b[0m \u001b[38;5;66;03m# Check if GE returned any NaN values\u001b[39;00m\n\u001b[0;32m     33\u001b[0m \u001b[38;5;28;01mif\u001b[39;00m np\u001b[38;5;241m.\u001b[39misnan(delta_x)\u001b[38;5;241m.\u001b[39many():\n",
      "File \u001b[1;32m<__array_function__ internals>:5\u001b[0m, in \u001b[0;36msolve\u001b[1;34m(*args, **kwargs)\u001b[0m\n",
      "File \u001b[1;32m~\\anaconda3\\envs\\jbook\\lib\\site-packages\\numpy\\linalg\\linalg.py:393\u001b[0m, in \u001b[0;36msolve\u001b[1;34m(a, b)\u001b[0m\n\u001b[0;32m    391\u001b[0m signature \u001b[38;5;241m=\u001b[39m \u001b[38;5;124m'\u001b[39m\u001b[38;5;124mDD->D\u001b[39m\u001b[38;5;124m'\u001b[39m \u001b[38;5;28;01mif\u001b[39;00m isComplexType(t) \u001b[38;5;28;01melse\u001b[39;00m \u001b[38;5;124m'\u001b[39m\u001b[38;5;124mdd->d\u001b[39m\u001b[38;5;124m'\u001b[39m\n\u001b[0;32m    392\u001b[0m extobj \u001b[38;5;241m=\u001b[39m get_linalg_error_extobj(_raise_linalgerror_singular)\n\u001b[1;32m--> 393\u001b[0m r \u001b[38;5;241m=\u001b[39m \u001b[43mgufunc\u001b[49m\u001b[43m(\u001b[49m\u001b[43ma\u001b[49m\u001b[43m,\u001b[49m\u001b[43m \u001b[49m\u001b[43mb\u001b[49m\u001b[43m,\u001b[49m\u001b[43m \u001b[49m\u001b[43msignature\u001b[49m\u001b[38;5;241;43m=\u001b[39;49m\u001b[43msignature\u001b[49m\u001b[43m,\u001b[49m\u001b[43m \u001b[49m\u001b[43mextobj\u001b[49m\u001b[38;5;241;43m=\u001b[39;49m\u001b[43mextobj\u001b[49m\u001b[43m)\u001b[49m\n\u001b[0;32m    395\u001b[0m \u001b[38;5;28;01mreturn\u001b[39;00m wrap(r\u001b[38;5;241m.\u001b[39mastype(result_t, copy\u001b[38;5;241m=\u001b[39m\u001b[38;5;28;01mFalse\u001b[39;00m))\n",
      "File \u001b[1;32m~\\anaconda3\\envs\\jbook\\lib\\site-packages\\numpy\\linalg\\linalg.py:88\u001b[0m, in \u001b[0;36m_raise_linalgerror_singular\u001b[1;34m(err, flag)\u001b[0m\n\u001b[0;32m     87\u001b[0m \u001b[38;5;28;01mdef\u001b[39;00m \u001b[38;5;21m_raise_linalgerror_singular\u001b[39m(err, flag):\n\u001b[1;32m---> 88\u001b[0m     \u001b[38;5;28;01mraise\u001b[39;00m LinAlgError(\u001b[38;5;124m\"\u001b[39m\u001b[38;5;124mSingular matrix\u001b[39m\u001b[38;5;124m\"\u001b[39m)\n",
      "\u001b[1;31mLinAlgError\u001b[0m: Singular matrix"
     ]
    }
   ],
   "source": [
    "x0_break1 = np.array([0.99, 0.01, 0.5, 0.5, 0.5, 0.5])\n",
    "xsln = newton_system(my_f,x0_break1,exact_Jac=my_J,LOUD=True)"
   ]
  },
  {
   "cell_type": "markdown",
   "metadata": {},
   "source": [
    "<div style=\"background-color: rgba(0,0,255,0.05) ; padding: 10px; border: 1px solid darkblue;\"> \n",
    "<b>Class Activity</b>: Why did Newton's method fail? Brainstorm ideas with a partner.\n",
    "</div>"
   ]
  },
  {
   "cell_type": "markdown",
   "metadata": {
    "colab_type": "text",
    "id": "YWFkf6rn3Ayo"
   },
   "source": [
    "Let's try slightly different compositions in the phases."
   ]
  },
  {
   "cell_type": "code",
   "execution_count": 15,
   "metadata": {
    "colab": {},
    "colab_type": "code",
    "id": "Awm2sbPG3Ayo"
   },
   "outputs": [
    {
     "name": "stdout",
     "output_type": "stream",
     "text": [
      "x0 = [1.   0.   0.51 0.49 0.52 0.48]\n",
      "\n",
      "Iteration 1 : x = [-16.79661017  17.79661017   0.3220339    0.6779661    0.96610169\n",
      "   0.03389831] \n",
      " norm(f(x)) = 15.95834985257004\n",
      "\n",
      "Iteration 2 : x = [0.72368421 0.27631579 0.3220339  0.6779661  0.96610169 0.03389831] \n",
      " norm(f(x)) = 2.989908109668815e-14\n",
      "\n",
      "It took 2 iterations\n"
     ]
    }
   ],
   "source": [
    "x0_break2 = np.array([1.0, 0.0, 0.51, 0.49, 0.52, 0.48])\n",
    "xsln = newton_system(my_f,x0_break2,exact_Jac=my_J,LOUD=True)"
   ]
  },
  {
   "cell_type": "markdown",
   "metadata": {
    "colab_type": "text",
    "id": "nqsDxwF03Ays"
   },
   "source": [
    "It works.\n",
    "\n",
    "What happens if we give a negative number for a flowrate composition or initial value?"
   ]
  },
  {
   "cell_type": "code",
   "execution_count": 16,
   "metadata": {
    "colab": {
     "base_uri": "https://localhost:8080/",
     "height": 171
    },
    "colab_type": "code",
    "executionInfo": {
     "elapsed": 347,
     "status": "ok",
     "timestamp": 1550761668830,
     "user": {
      "displayName": "Alexander Dowling",
      "photoUrl": "https://lh3.googleusercontent.com/-LChdQ2m5OQE/AAAAAAAAAAI/AAAAAAAAAA0/JeXJe4vQJ7M/s64/photo.jpg",
      "userId": "00988067626794866502"
     },
     "user_tz": 300
    },
    "id": "WJw9D9mU3Ays",
    "outputId": "e91e8eff-d0d0-4e2d-ac65-0bae721d5198"
   },
   "outputs": [
    {
     "name": "stdout",
     "output_type": "stream",
     "text": [
      "x0 = [ 2.  -1.   0.5  0.5  1.5 -0.5]\n",
      "\n",
      "Iteration 1 : x = [ 1.1779661  -0.1779661   0.3220339   0.6779661   0.96610169  0.03389831] \n",
      " norm(f(x)) = 0.41378239393191524\n",
      "\n",
      "Iteration 2 : x = [0.72368421 0.27631579 0.3220339  0.6779661  0.96610169 0.03389831] \n",
      " norm(f(x)) = 1.2412670766236366e-16\n",
      "\n",
      "It took 2 iterations\n"
     ]
    }
   ],
   "source": [
    "x0_break2 = np.array([2.0, -1.0, 0.5, 0.5, 1.5, -0.5])\n",
    "xsln = newton_system(my_f,x0_break2,exact_Jac=my_J,LOUD=True)"
   ]
  },
  {
   "cell_type": "markdown",
   "metadata": {
    "colab_type": "text",
    "id": "YlqILgyi3Ayu"
   },
   "source": [
    "It still works. Rachford-Rice is pretty robust (for the selected values of $K_1$ and $K_2$)."
   ]
  }
 ],
 "metadata": {
  "colab": {
   "collapsed_sections": [],
   "name": "L11-Newton-Method-Nonlinear-Equation-Solving.ipynb",
   "provenance": [],
   "version": "0.3.2"
  },
  "kernelspec": {
   "display_name": "Python 3 (ipykernel)",
   "language": "python",
   "name": "python3"
  },
  "language_info": {
   "codemirror_mode": {
    "name": "ipython",
    "version": 3
   },
   "file_extension": ".py",
   "mimetype": "text/x-python",
   "name": "python",
   "nbconvert_exporter": "python",
   "pygments_lexer": "ipython3",
   "version": "3.9.12"
  }
 },
 "nbformat": 4,
 "nbformat_minor": 4
}
