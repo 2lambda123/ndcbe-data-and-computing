{
 "cells": [
  {
   "cell_type": "markdown",
   "metadata": {
    "colab_type": "text",
    "id": "vwvvdc673Awp"
   },
   "source": [
    "# Solving Systems of Nonlinear Equations with Newton's Method\n",
    "CBE 20258. Numerical and Statistical Analysis. Spring 2020.\n",
    "\n",
    "&#169; University of Notre Dame"
   ]
  },
  {
   "cell_type": "markdown",
   "metadata": {},
   "source": [
    "## Learning Objectives\n",
    "\n",
    "After studying this notebook, completing the activities, and asking questions in class, you should be able to:\n",
    "* Understand how Newton's Method iterates through a function to approximate a root solution.\n",
    "* Generalize Newton's Method in code."
   ]
  },
  {
   "cell_type": "markdown",
   "metadata": {
    "colab_type": "text",
    "id": "meytDS_-3Awq",
    "tags": []
   },
   "source": [
    "## Motivation\n",
    "\n",
    "In this class, we will learn about a family of algorithms that quickly and reliably converges to a numeric value for $x$ that satisfies $c(x) = 0$ from an initial guess $x_0$.\n",
    "\n",
    "a.k.a. Newton-type methods produce good approximations for roots of real-valued functions using an iterative process."
   ]
  },
  {
   "cell_type": "markdown",
   "metadata": {
    "colab_type": "text",
    "id": "8QdGJKms3Awq",
    "tags": []
   },
   "source": [
    "## Newton's Method (aka Newton-Raphson Method) with an Example\n",
    "\n",
    "### Review Canonical Form\n",
    "\n",
    "In a previous notebook, we discussed **canonical form**, $c(x) = 0$, for a system of linear equations. Here, $c(x)$ is a mathematical function that depends on variable $x$. $c(\\cdot)$ can be linear or nonlinear. $x$ can be a scalar or vector.\n",
    "\n",
    "We say $c(x) = 0$ is a **square system** if the number of variables equals the number of equations, i.e., there are zero degrees of freedom. In this notebook, we will focus on square systems. In a future notebook, we will talk about optimization problems which have extra degrees of freedom (more variables than equations)."
   ]
  },
  {
   "cell_type": "markdown",
   "metadata": {},
   "source": [
    "<div style=\"background-color: rgba(0,255,0,0.05) ; padding: 10px; border: 1px solid darkgreen;\"> \n",
    "<b>Home Activity</b>: Answer the following short answer questions below to review canonical form.\n",
    "</div>"
   ]
  },
  {
   "cell_type": "markdown",
   "metadata": {},
   "source": [
    "**Multiple Choice** If $x$ is a three dimensional vector and $c(x) = 0$ is a square system, then...\n",
    "1. $c(x)$ returns a scalar\n",
    "2. $c(x)$ returns a two dimensional vector\n",
    "3. $c(x)$ returns a three dimensional vector\n",
    "4. None of the above.\n",
    "\n",
    "Record your answer as an integer in the Python variable `ans_bi1`."
   ]
  },
  {
   "cell_type": "code",
   "execution_count": 1,
   "metadata": {
    "tags": []
   },
   "outputs": [],
   "source": [
    "### BEGIN SOLUTION\n",
    "ans_bi1 = 3\n",
    "### END SOLUTION"
   ]
  },
  {
   "cell_type": "code",
   "execution_count": 2,
   "metadata": {
    "nbgrader": {
     "grade": true,
     "grade_id": "ans_10bi1",
     "locked": true,
     "points": "0.1",
     "solution": false
    },
    "tags": []
   },
   "outputs": [],
   "source": [
    "### BEGIN HIDDEN TESTS\n",
    "assert ans_bi1 == 3, \"A square system has the same number of equations and variables.\"\n",
    "### END HIDDEN TESTS"
   ]
  },
  {
   "cell_type": "markdown",
   "metadata": {},
   "source": [
    "We say a function is **vector valued** if it returns a vector and **scalar valued** if it returns a scalar."
   ]
  },
  {
   "cell_type": "markdown",
   "metadata": {},
   "source": [
    "**Multiple Choice** Which is the following is canonical form for the equation $x^2 - 1/x = 2$?\n",
    "1. $x^2 - 1/x - 2 = 0$\n",
    "2. $\\frac{x^3 - 2x - 1}{x} = 0$\n",
    "3. $2 x^2 - 2/x - 4 = 0$\n",
    "4. All of the above are canonical form\n",
    "\n",
    "Store your answer as an integer in the Python variable `ans_bi2`."
   ]
  },
  {
   "cell_type": "code",
   "execution_count": 3,
   "metadata": {
    "tags": []
   },
   "outputs": [],
   "source": [
    "### BEGIN SOLUTION\n",
    "ans_bi2 = 4\n",
    "### END SOLUTION"
   ]
  },
  {
   "cell_type": "code",
   "execution_count": 4,
   "metadata": {
    "nbgrader": {
     "grade": true,
     "grade_id": "ans_10bi2",
     "locked": true,
     "points": "0.1",
     "solution": false
    },
    "tags": []
   },
   "outputs": [],
   "source": [
    "### BEGIN HIDDEN TESTS\n",
    "assert ans_bi2 == 4, \"There are many ways to write canonical form for a system of equations\"\n",
    "### END HIDDEN TESTS"
   ]
  },
  {
   "cell_type": "markdown",
   "metadata": {},
   "source": [
    "### Main Idea Through an Example\n",
    "\n",
    "An example is the easiest way to understand Newton's method. Let's find a root, i.e., values for $x$ that satisfy $c(x)=0$, for the following equation:\n",
    "\n",
    "$$ c(x) = 3 x^3 + 2 x^2 - 5 x - 20 $$\n",
    "\n",
    "**Chemical Engineering Application**: In Thermodynamics, you will learn about cubic equations of state. These are cubic polynomials in volume $V$ (or equivalently compressibility $Z$) that accurately predict many important quantities (enthalpy, entropy, fugacity) for a wide range of mixtures. In fact, you can predict the equilibrium coefficients $K$ in flash calculations with a cubic equation of state. But we won't \"steal the thunder\" of cubic equations of state right now. We'll just focus on the generic math problem above for simplicity.\n",
    "\n",
    "We will start by plotting the function $c(x)$."
   ]
  },
  {
   "cell_type": "code",
   "execution_count": 5,
   "metadata": {
    "colab": {
     "base_uri": "https://localhost:8080/",
     "height": 279
    },
    "colab_type": "code",
    "executionInfo": {
     "elapsed": 425,
     "status": "ok",
     "timestamp": 1550588659764,
     "user": {
      "displayName": "Alexander Dowling",
      "photoUrl": "https://lh3.googleusercontent.com/-LChdQ2m5OQE/AAAAAAAAAAI/AAAAAAAAAA0/JeXJe4vQJ7M/s64/photo.jpg",
      "userId": "00988067626794866502"
     },
     "user_tz": 300
    },
    "id": "6N25NNcX3Awr",
    "outputId": "0665f3a1-9de8-4640-de8f-f685cd5b84b6"
   },
   "outputs": [
    {
     "data": {
      "image/png": "[encoded data removed]",
      "text/plain": [
       "<Figure size 432x288 with 1 Axes>"
      ]
     },
     "metadata": {
      "needs_background": "light"
     },
     "output_type": "display_data"
    }
   ],
   "source": [
    "import numpy as np\n",
    "import matplotlib.pyplot as plt\n",
    "#this next line is only needed in iPython notebooks\n",
    "%matplotlib inline \n",
    "\n",
    "def nonlinear_function(x):\n",
    "    ''' compute a nonlinear function for demonstration\n",
    "    Arguments:\n",
    "        x: scalar\n",
    "    Returns:\n",
    "        c(x): scalar\n",
    "    '''\n",
    "    return 3*x**3 + 2*x**2 - 5*x-20\n",
    "\n",
    "Np = 100\n",
    "X = np.linspace(-2,3,Np)\n",
    "plt.plot(X,nonlinear_function(X),label=\"c(x)\",color=\"blue\")\n",
    "plt.grid(True)\n",
    "plt.xlabel(\"$x$\")\n",
    "plt.ylabel(\"$c(x)$\")\n",
    "plt.show()"
   ]
  },
  {
   "cell_type": "markdown",
   "metadata": {},
   "source": [
    "<div style=\"background-color: rgba(0,255,0,0.05) ; padding: 10px; border: 1px solid darkgreen;\"> \n",
    "<b>Home Activity</b>: Based on the plot above, answer the following short answer questions.\n",
    "</div>"
   ]
  },
  {
   "cell_type": "markdown",
   "metadata": {},
   "source": [
    "**Multiple Choice** How many real and imaginary roots are there for $c(x)$?\n",
    "1. One real root and two imaginary roots\n",
    "2. Three real roots\n",
    "3. Two real roots and one imaginary root\n",
    "4. One real root and no imaginary roots\n",
    "5. No real or imaginary roots\n",
    "6. None of the above\n",
    "\n",
    "Record your answer as an integer in the Python variable `ans_bii1`."
   ]
  },
  {
   "cell_type": "code",
   "execution_count": 6,
   "metadata": {
    "tags": []
   },
   "outputs": [],
   "source": [
    "### BEGIN SOLUTION\n",
    "ans_bii1 = 1\n",
    "### END SOLUTION"
   ]
  },
  {
   "cell_type": "code",
   "execution_count": 7,
   "metadata": {
    "nbgrader": {
     "grade": true,
     "grade_id": "ans_10bii1",
     "locked": true,
     "points": "0.1",
     "solution": false
    },
    "tags": []
   },
   "outputs": [],
   "source": [
    "### BEGIN HIDDEN TESTS\n",
    "assert ans_bii1 == 1, \"How many total roots are there for all cubic equations? How many real roots are shown in the plot?\"\n",
    "### END HIDDEN TESTS"
   ]
  },
  {
   "cell_type": "markdown",
   "metadata": {},
   "source": [
    "**Numeric Answer** What is the real root for c(x) = 0 based on the plot? Approximate your answer to 1 decimal point and record in the Python variable `ans_bii2`."
   ]
  },
  {
   "cell_type": "code",
   "execution_count": 10,
   "metadata": {
    "tags": []
   },
   "outputs": [],
   "source": [
    "### BEGIN SOLUTION\n",
    "ans_bii2 = 1.9\n",
    "### END SOLUTION"
   ]
  },
  {
   "cell_type": "code",
   "execution_count": 11,
   "metadata": {
    "nbgrader": {
     "grade": true,
     "grade_id": "ans_10bii2",
     "locked": true,
     "points": "0.1",
     "solution": false
    },
    "tags": []
   },
   "outputs": [],
   "source": [
    "### BEGIN HIDDEN TESTS\n",
    "assert ans_bii2 >= 1.7, \"Your answer is too small.\"\n",
    "assert ans_bii2 <= 2.1, \"Your answer is too large.\"\n",
    "### END HIDDEN TESTS"
   ]
  },
  {
   "cell_type": "markdown",
   "metadata": {
    "colab_type": "text",
    "id": "zCZXsMSE3Awv"
   },
   "source": [
    "### Algorithm Steps and Iteration 1\n",
    "\n",
    "We will start Newton's method at the initial guess $x_0 = 1.25$.\n",
    "\n",
    "For each iteration of the algorithm, we will do the following steps:\n",
    "1. Construct a tangent line at the current guess\n",
    "2. Solve the tangent line (a linear system!) to compute a new guess\n",
    "3. Check if our guess is \"close enough\" to the true solution to stop\n",
    "\n",
    "The Python code below does the first two steps described above. We'll talk about good stopping criteria, i.e., knowing when we are \"close enough\", soon."
   ]
  },
  {
   "cell_type": "code",
   "execution_count": 12,
   "metadata": {
    "colab": {
     "base_uri": "https://localhost:8080/",
     "height": 328
    },
    "colab_type": "code",
    "executionInfo": {
     "elapsed": 488,
     "status": "ok",
     "timestamp": 1550588695931,
     "user": {
      "displayName": "Alexander Dowling",
      "photoUrl": "https://lh3.googleusercontent.com/-LChdQ2m5OQE/AAAAAAAAAAI/AAAAAAAAAA0/JeXJe4vQJ7M/s64/photo.jpg",
      "userId": "00988067626794866502"
     },
     "user_tz": 300
    },
    "id": "BPZbAsmj3Aww",
    "outputId": "a041f716-95a0-48a1-ce7f-f1036e478632"
   },
   "outputs": [
    {
     "name": "stdout",
     "output_type": "stream",
     "text": [
      "Guess 0 = 1.25 (initial)\n",
      "Guess 1 = 2.4778934700108186\n"
     ]
    },
    {
     "data": {
      "image/png": "[encoded data removed]",
      "text/plain": [
       "<Figure size 432x288 with 1 Axes>"
      ]
     },
     "metadata": {
      "needs_background": "light"
     },
     "output_type": "display_data"
    }
   ],
   "source": [
    "guess = 1.25\n",
    "print(\"Guess 0 =\",guess, \"(initial)\")\n",
    "\n",
    "# plot function again\n",
    "plt.plot(X,nonlinear_function(X),label=\"c(x)\",color=\"blue\")\n",
    "\n",
    "# plot original guess\n",
    "plt.scatter(guess,nonlinear_function(guess),label=\"guess 0\",\n",
    "            marker=\"s\", s=30,color=\"blue\")\n",
    "\n",
    "### construct tangent line\n",
    "# calculate slope with finite difference perturbation\n",
    "slope = (nonlinear_function(guess) - nonlinear_function(guess-.0001))/(.0001)\n",
    "\n",
    "# plot tanget plane centered at guess\n",
    "plt.plot(X,nonlinear_function(guess) + slope*(X-guess),\n",
    "         'k-.', label=\"Tangent at guess\")\n",
    "\n",
    "### calculate new guess and plot\n",
    "new_guess = guess-nonlinear_function(guess)/slope\n",
    "plt.scatter(new_guess,nonlinear_function(new_guess),label=\"guess 1\",\n",
    "            marker=\"*\", s=50,color=\"blue\")\n",
    "print(\"Guess 1 =\",new_guess)\n",
    "\n",
    "### draw lines to guide eye\n",
    "# horizontal line at y=0\n",
    "plt.plot(X,0*X,\"--\",label=\"y = 0\",color=\"green\")\n",
    "\n",
    "# vertical line from guess to y=0 line\n",
    "plt.plot(np.array([guess,guess]),\n",
    "         np.array([0,nonlinear_function(guess)]),'r--')\n",
    "\n",
    "# vertical line from new_guess to y=0 line\n",
    "plt.plot(np.array([new_guess,new_guess]),\n",
    "         np.array([0,nonlinear_function(new_guess)]),'r--')\n",
    "\n",
    "# root for c(x)=0\n",
    "plt.scatter(1.94731,0,label=\"Root\", s=50, color=\"green\")\n",
    "\n",
    "### finish formatting plot\n",
    "plt.legend(loc=\"best\")\n",
    "plt.xlabel(\"x\")\n",
    "plt.ylabel(\"y\")\n",
    "plt.title(\"Guess 0 and 1\")\n",
    "plt.grid(True)\n",
    "plt.show()"
   ]
  },
  {
   "cell_type": "markdown",
   "metadata": {},
   "source": [
    "<div style=\"background-color: rgba(0,255,0,0.05) ; padding: 10px; border: 1px solid darkgreen;\"> \n",
    "<b>Home Activity</b>: Study the Python code above. Then fill in the $?$s in the formulas below. These are the calculations done in Python.\n",
    "</div>"
   ]
  },
  {
   "cell_type": "markdown",
   "metadata": {},
   "source": [
    "Approximate the slope of the tangent line:\n",
    "\n",
    "$$s = \\frac{c(x_0) - c(?)}{?}$$"
   ]
  },
  {
   "cell_type": "markdown",
   "metadata": {},
   "source": [
    "Compute the next guess:\n",
    "\n",
    "$$x_1 = ? - \\frac{?}{?}$$"
   ]
  },
  {
   "cell_type": "markdown",
   "metadata": {},
   "source": [
    "<div style=\"background-color: rgba(0,255,0,0.05) ; padding: 10px; border: 1px solid darkgreen;\"> \n",
    "<b>Home Activity</b>: Write one question or observation to share during class about the code above.\n",
    "</div>"
   ]
  },
  {
   "cell_type": "markdown",
   "metadata": {},
   "source": [
    "Your question/observation:"
   ]
  },
  {
   "cell_type": "markdown",
   "metadata": {
    "colab_type": "text",
    "id": "HlHstJyC3Awz"
   },
   "source": [
    "### Convergence\n",
    "\n",
    "*Are we there yet?* There are two popular stopping criteria for Newton's method:\n",
    "1. Check the (norm of the) step size $\\Delta x_i = x_i - x_{i-1}$. When our guess only changes by a very small amount, we should stop. We either arrived at the solution or should try something else.\n",
    "2. Check the (norm of the) residual(s) $c(x_i)$.  When the (norm of the) residual(s) is almost zero, then $x_i$ is a good numeric approximation to the true (analytic) solution.\n",
    "\n",
    "Here $x_i$ is the guess after iteration $i$. We called our initial guess $x_0$. Recall, $x$ can be a vector and $c(x)$ can be a vector valued function, hence the \"(norm of the)\" above."
   ]
  },
  {
   "cell_type": "markdown",
   "metadata": {},
   "source": [
    "<div style=\"background-color: rgba(0,255,0,0.05) ; padding: 10px; border: 1px solid darkgreen;\"> \n",
    "<b>Home Activity</b>: Based on the graph above, answer the following short answer questions.\n",
    "</div>"
   ]
  },
  {
   "cell_type": "markdown",
   "metadata": {},
   "source": [
    "**Numeric Answer**: What is $c(x_1)$, i.e., $c(\\cdot)$ evaluated at guess 1? Record your answer with two significant digits in the Python variable <tt>ans_biv1</tt>. \n",
    "\n",
    "*Hint*: You can read this off of the plot we made above."
   ]
  },
  {
   "cell_type": "code",
   "execution_count": 15,
   "metadata": {
    "tags": [
     "remove-output"
    ]
   },
   "outputs": [
    {
     "name": "stdout",
     "output_type": "stream",
     "text": [
      "Answer = 25.532915745237332\n"
     ]
    }
   ],
   "source": [
    "### BEGIN SOLUTION\n",
    "ans_biv1 = nonlinear_function(2.4778934700108186)\n",
    "print(\"Answer =\",ans_biv1)\n",
    "### END SOLUTION"
   ]
  },
  {
   "cell_type": "code",
   "execution_count": 16,
   "metadata": {
    "nbgrader": {
     "grade": true,
     "grade_id": "ans_10biv1",
     "locked": true,
     "points": "0.1",
     "solution": false
    },
    "tags": []
   },
   "outputs": [],
   "source": [
    "### BEGIN HIDDEN TESTS\n",
    "assert ans_biv1 >= 21.0, \"Your answer is too low.\"\n",
    "assert ans_biv1 <= 30.0, \"Your answer is too high.\"\n",
    "### END HIDDEN TESTS"
   ]
  },
  {
   "cell_type": "markdown",
   "metadata": {},
   "source": [
    "**Numeric Answer**: What is $\\Delta x_1 = x_1 - x_0$, i.e., $c(\\cdot)$ evaluated at guess 1? Record your answer with three significant digits in the Python variable <tt>ans_biv2</tt>."
   ]
  },
  {
   "cell_type": "code",
   "execution_count": 18,
   "metadata": {
    "tags": [
     "remove-output"
    ]
   },
   "outputs": [
    {
     "name": "stdout",
     "output_type": "stream",
     "text": [
      "delta x = 1.2278934700108186\n"
     ]
    }
   ],
   "source": [
    "### BEGIN SOLUTION\n",
    "ans_biv2 = 2.4778934700108186 - 1.25\n",
    "print(\"delta x =\",ans_biv2)\n",
    "### END SOLUTION"
   ]
  },
  {
   "cell_type": "code",
   "execution_count": 19,
   "metadata": {
    "nbgrader": {
     "grade": true,
     "grade_id": "ans_10biv2",
     "locked": true,
     "points": "0.1",
     "solution": false
    },
    "tags": []
   },
   "outputs": [],
   "source": [
    "### BEGIN HIDDEN TESTS\n",
    "assert ans_biv2 > 1.20, \"Your answer is too small.\"\n",
    "assert ans_biv2 < 1.25, \"Your answer is too large.\"\n",
    "### END HIDDEN TESTS"
   ]
  },
  {
   "cell_type": "markdown",
   "metadata": {},
   "source": [
    "### Iteration 2\n",
    "\n",
    "Based on the large residual and large step size, we decide to continue with Newton's method. We proceed to i) fit the tangent line around $x_1$, and then use the tangent line to calculate $x_2$. Please take a few minutes to read through the Python code below."
   ]
  },
  {
   "cell_type": "code",
   "execution_count": 20,
   "metadata": {
    "colab": {
     "base_uri": "https://localhost:8080/",
     "height": 328
    },
    "colab_type": "code",
    "executionInfo": {
     "elapsed": 534,
     "status": "ok",
     "timestamp": 1550588718788,
     "user": {
      "displayName": "Alexander Dowling",
      "photoUrl": "https://lh3.googleusercontent.com/-LChdQ2m5OQE/AAAAAAAAAAI/AAAAAAAAAA0/JeXJe4vQJ7M/s64/photo.jpg",
      "userId": "00988067626794866502"
     },
     "user_tz": 300
    },
    "id": "YZHvmfCk3Awz",
    "outputId": "cebb3211-5fc0-4d3b-dc9a-ac3d37cc6202"
   },
   "outputs": [
    {
     "name": "stdout",
     "output_type": "stream",
     "text": [
      "Guess 1 = 2.4778934700108186\n",
      "Guess 2 = 2.0535383605864483\n"
     ]
    },
    {
     "data": {
      "image/png": "[encoded data removed]",
      "text/plain": [
       "<Figure size 432x288 with 1 Axes>"
      ]
     },
     "metadata": {
      "needs_background": "light"
     },
     "output_type": "display_data"
    }
   ],
   "source": [
    "guess = new_guess\n",
    "print(\"Guess 1 =\",guess)\n",
    "\n",
    "# plot function again\n",
    "plt.plot(X,nonlinear_function(X),label=\"c(x)\",color=\"blue\")\n",
    "\n",
    "# plot original guess\n",
    "plt.scatter(guess,nonlinear_function(guess),label=\"guess 1\",\n",
    "            marker=\"s\", s=30,color=\"blue\")\n",
    "\n",
    "### construct tangent line\n",
    "# calculate slope with finite difference perturbation\n",
    "slope = (nonlinear_function(guess) - nonlinear_function(guess-.0001))/(.0001)\n",
    "\n",
    "# plot tanget plane centered at guess\n",
    "plt.plot(X,nonlinear_function(guess) + slope*(X-guess),\n",
    "         'k-.', label=\"Tangent at guess\")\n",
    "\n",
    "### calculate new guess and plot\n",
    "new_guess = guess-nonlinear_function(guess)/slope\n",
    "plt.scatter(new_guess,nonlinear_function(new_guess),\n",
    "            label=\"guess 2\",marker=\"*\", s=50,color=\"blue\")\n",
    "print(\"Guess 2 =\",new_guess)\n",
    "\n",
    "### draw lines to guide eye\n",
    "# horizontal line at y=0\n",
    "plt.plot(X,0*X,\"--\",label=\"y = 0\",color=\"green\")\n",
    "\n",
    "# vertical line from guess to y=0 line\n",
    "plt.plot(np.array([guess,guess]),\n",
    "         np.array([0,nonlinear_function(guess)]),'r--')\n",
    "\n",
    "# vertical line from new_guess to y=0 line\n",
    "plt.plot(np.array([new_guess,new_guess]),\n",
    "         np.array([0,nonlinear_function(new_guess)]),'r--')\n",
    "\n",
    "# root for c(x)=0\n",
    "plt.scatter(1.94731,0,label=\"Root\", s=50, color=\"green\")\n",
    "\n",
    "### finish formatting plot\n",
    "plt.legend(loc=\"best\")\n",
    "plt.xlabel(\"x\")\n",
    "plt.ylabel(\"y\")\n",
    "plt.title(\"Guess 1 and 2\")\n",
    "plt.axis([-1,3,-50,60])\n",
    "plt.show()"
   ]
  },
  {
   "cell_type": "markdown",
   "metadata": {
    "tags": []
   },
   "source": [
    "## Newton's Method Generalized"
   ]
  },
  {
   "cell_type": "markdown",
   "metadata": {
    "colab_type": "text",
    "id": "qL7RoiIS3Aw2"
   },
   "source": [
    "### Generalization"
   ]
  },
  {
   "cell_type": "markdown",
   "metadata": {
    "colab_type": "text",
    "id": "VTLzraHy3Aw2"
   },
   "source": [
    "As you can see, we get closer to the root each iteration.  This is due to the fact that close enough to a point, the tangent line is a reasonable approximation--just as the linear Taylor series can be a good approximation.  Of course, this is not always a good approximation as we will see later.\n",
    "\n",
    "The basic idea is to compute where the tangent line crosses the $x$ axis. We do this by solving\n",
    "\n",
    "$$f'(x_i) = \\frac{f(x_{i+1}) - f(x_i)}{x_{i+1} - x_i},$$ with $f(x_{i+1}) = 0$ to get\n",
    "\n",
    "$$ x_{i+1} = x_i - \\frac{f(x_i)}{f'(x_i)}.$$\n",
    "\n",
    "It's that simple.\n",
    "\n",
    "**Notice**: We switch from $c(x) = 0$ to $f(x) = 0$. People use them **interchangeably for canonical form**."
   ]
  },
  {
   "cell_type": "markdown",
   "metadata": {
    "colab_type": "text",
    "id": "r8_PQfQ53Aw3"
   },
   "source": [
    "### Algorithm and Implementation\n",
    "\n",
    "We can now implement a general purpose version of Newton's method in Python.\n"
   ]
  },
  {
   "cell_type": "markdown",
   "metadata": {},
   "source": [
    "<div style=\"background-color: rgba(0,255,0,0.05) ; padding: 10px; border: 1px solid darkgreen;\"> \n",
    "<b>Home Activity</b>: Fill in the missing line in the general single-variable Newton's method function below.\n",
    "</div>"
   ]
  },
  {
   "cell_type": "markdown",
   "metadata": {},
   "source": [
    "Hints:\n",
    "* Which formula (written above) should you use to update `x` each iteration?\n",
    "* Read the document string.\n",
    "* `f` and `fprime` are both functions. Review Chapter 01 Notebook 04 for more information on passing functions as an input argument to functions."
   ]
  },
  {
   "cell_type": "code",
   "execution_count": 21,
   "metadata": {
    "colab": {},
    "colab_type": "code",
    "id": "g8oBDBA73Aw4",
    "tags": []
   },
   "outputs": [],
   "source": [
    "def newton(f,fprime,x0,epsilon=1.0e-6, LOUD=False, max_iter=50):\n",
    "    \"\"\"Find the root of the function f(x) via Newton-Raphson method\n",
    "    Args:\n",
    "        f: the function, in canoncial form, we want to fix the root of [Python function]\n",
    "        fprime: the derivative of f [Python function]\n",
    "        x0: initial guess [float]\n",
    "        epsilon: tolerance [float]\n",
    "        LOUD: toggle on/off print statements [boolean]\n",
    "        max_iter: maximum number of iterations [int]\n",
    "        \n",
    "    Returns:\n",
    "        estimate of root [float]\n",
    "    \"\"\"\n",
    "    \n",
    "    assert callable(f), \"Warning: 'f' should be a Python function\"\n",
    "    assert callable(fprime), \"Warning: 'fprime' should be a Python function\"\n",
    "    assert type(x0) is float or type(x0) is int, \"Warning: 'x0' should be a float or integer\"\n",
    "    assert type(epsilon) is float, \"Warning: 'eps' should be a float\"\n",
    "    assert type(max_iter) is int, \"Warning: 'max_iter' should be an integer\"\n",
    "    assert max_iter >= 0, \"Warning: 'max_iter' should be non-negative\"\n",
    "    \n",
    "    x = x0\n",
    "    if (LOUD):\n",
    "        print(\"x0 =\",x0)\n",
    "    iterations = 0\n",
    "    converged = False\n",
    "    \n",
    "    # Check if the residual is close enough to zero\n",
    "    while (not converged and iterations < max_iter):\n",
    "        \n",
    "        if (LOUD):\n",
    "            print(\"x_\",iterations+1,\"=\",x,\"-\",f(x),\"/\",\n",
    "                  fprime(x),\"=\",x - f(x)/fprime(x))\n",
    "        \n",
    "        # add general single-variable Newton's Method equation below\n",
    "        ### BEGIN SOLUTION\n",
    "        x = x - f(x) / fprime(x)\n",
    "        ### END SOLUTION\n",
    "        \n",
    "        # check if converged\n",
    "        if np.fabs(f(x)) < epsilon:\n",
    "            converged = True\n",
    "        \n",
    "        iterations += 1 \n",
    "    print(\"It took\",iterations,\"iterations\")\n",
    "    \n",
    "    if not converged:\n",
    "        print(\"Warning: Not a solution. Maximum number of iterations exceeded.\")\n",
    "    return x #return estimate of root"
   ]
  },
  {
   "cell_type": "markdown",
   "metadata": {
    "colab_type": "text",
    "id": "xxj12dFc3Aw5"
   },
   "source": [
    "### Unit Test and Example"
   ]
  },
  {
   "cell_type": "markdown",
   "metadata": {
    "colab_type": "text",
    "id": "38DMpfZx3Aw6"
   },
   "source": [
    "We created a function. We should immediately test it. Recall our test problem:\n",
    "\n",
    "$$ c(x) = 3 x^3 + 2 x^2 - 5 x - 20 $$\n",
    "\n",
    "Our friends at Wolframalpha.com tell us the roots are $x \\approx 1.9473$ and $x \\approx -1.3070 \\pm 1.3097 i$ where $i = \\sqrt{-1}$. Because we know the solution, we can use this as a unit test. We will only focus on real roots in this class.\n",
    "\n",
    "To apply Newton's method, we need the first derivative to create the tangent line:\n",
    "\n",
    "$$c'(x) = 9 x^2 + 4 x - 5$$"
   ]
  },
  {
   "cell_type": "code",
   "execution_count": 22,
   "metadata": {
    "tags": []
   },
   "outputs": [],
   "source": [
    "def Dnonlinear_function(x):\n",
    "    ''' compute 1st derivative of nonlinear function for demonstration\n",
    "    Arguments:\n",
    "        x: scalar\n",
    "    Returns:\n",
    "        c'(x): scalar\n",
    "    '''\n",
    "    return 9*x**2 + 4*x - 5"
   ]
  },
  {
   "cell_type": "markdown",
   "metadata": {},
   "source": [
    "<div style=\"background-color: rgba(0,255,0,0.05) ; padding: 10px; border: 1px solid darkgreen;\"> \n",
    "    <b>Home Activity</b>: How could we use a lambda function instead of a <tt>def</tt> function for the derivative calculation? Give it a try below.\n",
    "</div>"
   ]
  },
  {
   "cell_type": "code",
   "execution_count": 23,
   "metadata": {
    "tags": [
     "remove-output"
    ]
   },
   "outputs": [
    {
     "name": "stdout",
     "output_type": "stream",
     "text": [
      "8\n"
     ]
    }
   ],
   "source": [
    "### BEGIN SOLUTION\n",
    "Donlinear_function = lambda x : 9*x**2+4*x-5\n",
    "print(Donlinear_function(1))\n",
    "### END SOLUTION"
   ]
  },
  {
   "cell_type": "markdown",
   "metadata": {},
   "source": [
    "<div style=\"background-color: rgba(0,255,0,0.05) ; padding: 10px; border: 1px solid darkgreen;\"> \n",
    "    <b>Home Activity</b>: Run the code to verify your modifications to <tt>newton</tt> are correct.\n",
    "</div>"
   ]
  },
  {
   "cell_type": "code",
   "execution_count": 20,
   "metadata": {
    "colab": {
     "base_uri": "https://localhost:8080/",
     "height": 291
    },
    "colab_type": "code",
    "executionInfo": {
     "elapsed": 338,
     "status": "ok",
     "timestamp": 1550589364184,
     "user": {
      "displayName": "Alexander Dowling",
      "photoUrl": "https://lh3.googleusercontent.com/-LChdQ2m5OQE/AAAAAAAAAAI/AAAAAAAAAA0/JeXJe4vQJ7M/s64/photo.jpg",
      "userId": "00988067626794866502"
     },
     "user_tz": 300
    },
    "id": "5ZHa9j-A3Aw7",
    "outputId": "a57948bf-9777-4e20-a394-0c88556ba9f9",
    "tags": [
     "remove-output"
    ]
   },
   "outputs": [
    {
     "name": "stdout",
     "output_type": "stream",
     "text": [
      "x0 = -1.5\n",
      "x_ 1 = -1.5 - -18.125 / 9.25 = 0.45945945945945943\n",
      "x_ 2 = 0.45945945945945943 - -21.584111503760884 / -1.2622352081811545 = -16.64045295295295\n",
      "x_ 3 = -16.64045295295295 - -13206.446010659996 / 2420.5802585031524 = -11.184552053047796\n",
      "x_ 4 = -11.184552053047796 - -3911.2567600472344 / 1076.1096334338297 = -7.54992539557002\n",
      "x_ 5 = -7.54992539557002 - -1159.3159776918205 / 477.81265972577813 = -5.123627234367753\n",
      "x_ 6 = -5.123627234367753 - -345.3883141179978 / 210.7694953933235 = -3.484925611661592\n",
      "x_ 7 = -3.484925611661592 - -105.25615528465704 / 90.36265622268793 = -2.320106429882939\n",
      "x_ 8 = -2.320106429882939 - -35.100340028952424 / 34.165618894325654 = -1.2927478991471761\n",
      "x_ 9 = -1.2927478991471761 - -16.675175982276617 / 4.869782580156233 = 2.131465750600949\n",
      "x_ 10 = 2.131465750600949 - 7.479645608829035 / 44.41417921626759 = 1.963059044886359\n",
      "x_ 11 = 1.963059044886359 - 0.5864442011938849 / 37.53464350293673 = 1.9474349667957278\n",
      "x_ 12 = 1.9474349667957278 - 0.004789634744607696 / 36.92226641627101 = 1.947305244673835\n",
      "It took 12 iterations\n",
      "The root estimate is 1.947305244673835 \n",
      "f( 1.947305244673835 ) = 3.2858902798693634e-07\n"
     ]
    }
   ],
   "source": [
    "root = newton(nonlinear_function,Dnonlinear_function,-1.5,LOUD=True,max_iter=15)\n",
    "print(\"The root estimate is\",root,\"\\nf(\",root,\") =\",nonlinear_function(root))"
   ]
  },
  {
   "cell_type": "markdown",
   "metadata": {},
   "source": [
    "You should see the following output:\n",
    "```\n",
    "x0 = -1.5\n",
    "x_ 1 = -1.5 - -18.125 / 9.25 = 0.45945945945945943\n",
    "x_ 2 = 0.45945945945945943 - -21.584111503760884 / -1.2622352081811545 = -16.64045295295295\n",
    "x_ 3 = -16.64045295295295 - -13206.446010659996 / 2420.5802585031524 = -11.184552053047796\n",
    "x_ 4 = -11.184552053047796 - -3911.2567600472344 / 1076.1096334338297 = -7.54992539557002\n",
    "x_ 5 = -7.54992539557002 - -1159.3159776918205 / 477.81265972577813 = -5.123627234367753\n",
    "x_ 6 = -5.123627234367753 - -345.3883141179978 / 210.7694953933235 = -3.484925611661592\n",
    "x_ 7 = -3.484925611661592 - -105.25615528465704 / 90.36265622268793 = -2.320106429882939\n",
    "x_ 8 = -2.320106429882939 - -35.100340028952424 / 34.165618894325654 = -1.2927478991471761\n",
    "x_ 9 = -1.2927478991471761 - -16.675175982276617 / 4.869782580156233 = 2.131465750600949\n",
    "x_ 10 = 2.131465750600949 - 7.479645608829035 / 44.41417921626759 = 1.963059044886359\n",
    "x_ 11 = 1.963059044886359 - 0.5864442011938849 / 37.53464350293673 = 1.9474349667957278\n",
    "x_ 12 = 1.9474349667957278 - 0.004789634744607696 / 36.92226641627101 = 1.947305244673835\n",
    "It took 12 iterations\n",
    "The root estimate is 1.947305244673835 \n",
    "f( 1.947305244673835 ) = 3.2858902798693634e-07\n",
    "```"
   ]
  },
  {
   "cell_type": "code",
   "execution_count": 24,
   "metadata": {
    "nbgrader": {
     "grade": true,
     "grade_id": "newton",
     "locked": true,
     "points": "0.1",
     "solution": false
    }
   },
   "outputs": [
    {
     "name": "stdout",
     "output_type": "stream",
     "text": [
      "It took 12 iterations\n"
     ]
    }
   ],
   "source": [
    "### BEGIN HIDDEN TESTS\n",
    "def f_test(x):\n",
    "    #compute a nonlinear function for demonstration\n",
    "    return 3*x**3 + 2*x**2 - 5*x-20\n",
    "\n",
    "def df_test(x):\n",
    "    #compute a nonlinear function for demonstration\n",
    "    return 9*x**2 + 4*x - 5\n",
    "\n",
    "root_test = newton(f_test,df_test,-1.5,LOUD=False,max_iter=15)\n",
    "\n",
    "assert np.abs(root_test - 1.947305244673835) < 1E-4, \"Your function newton did not work for the test cubic.\"\n",
    "### END HIDDEN TESTS"
   ]
  },
  {
   "cell_type": "markdown",
   "metadata": {
    "colab_type": "text",
    "id": "Uu3VzUlO3Aw9"
   },
   "source": [
    "Let's look at what happened.  We had a bad initial guess so the method went the wrong way at first, but it eventually honed in on the solution. This highlights a feature of open methods: the root estimate can get worse, and even diverge. This is in comparison with closed methods (such as bisection) where the root is confined to an interval. On the other hand, open methods only require an initial guess instead of knowledge of an interval where the root lies. "
   ]
  },
  {
   "cell_type": "markdown",
   "metadata": {},
   "source": [
    "Run the code below to see what happens when we exceed the number if iterations."
   ]
  },
  {
   "cell_type": "code",
   "execution_count": 25,
   "metadata": {
    "tags": [
     "remove-output"
    ]
   },
   "outputs": [
    {
     "name": "stdout",
     "output_type": "stream",
     "text": [
      "x0 = -1.5\n",
      "x_ 1 = -1.5 - -18.125 / 9.25 = 0.45945945945945943\n",
      "x_ 2 = 0.45945945945945943 - -21.584111503760884 / -1.2622352081811545 = -16.64045295295295\n",
      "x_ 3 = -16.64045295295295 - -13206.446010659996 / 2420.5802585031524 = -11.184552053047796\n",
      "It took 3 iterations\n",
      "Warning: Not a solution. Maximum number of iterations exceeded.\n",
      "The root estimate is -11.184552053047796 \n",
      "f( -11.184552053047796 ) = -3911.2567600472344\n"
     ]
    }
   ],
   "source": [
    "root = newton(nonlinear_function,Dnonlinear_function,-1.5,LOUD=True,max_iter=3)\n",
    "print(\"The root estimate is\",root,\"\\nf(\",root,\") =\",nonlinear_function(root))"
   ]
  },
  {
   "cell_type": "markdown",
   "metadata": {},
   "source": [
    "You should get:\n",
    "\n",
    "```\n",
    "x0 = -1.5\n",
    "x_ 1 = -1.5 - -18.125 / 9.25 = 0.45945945945945943\n",
    "x_ 2 = 0.45945945945945943 - -21.584111503760884 / -1.2622352081811545 = -16.64045295295295\n",
    "x_ 3 = -16.64045295295295 - -13206.446010659996 / 2420.5802585031524 = -11.184552053047796\n",
    "It took 3 iterations\n",
    "Warning: Not a solution. Maximum number of iterations exceeded.\n",
    "The root estimate is -11.184552053047796 \n",
    "f( -11.184552053047796 ) = -3911.2567600472344\n",
    "```\n"
   ]
  },
  {
   "cell_type": "markdown",
   "metadata": {},
   "source": [
    "The next bit of code demonstrates graphically what happened in the Newton solve."
   ]
  },
  {
   "cell_type": "markdown",
   "metadata": {},
   "source": [
    "### Looking Deeper into the Unit Test\n",
    "\n",
    "**Warning 1:** You must rerun the following three cells in order and only once. If you want to rerun a cell (say Iteration 3), you must start with Iteration 1 and rerun them in order.\n",
    "\n",
    "**Warning 2:** Make sure your modification to `newton` is correct. Otherwise, the code below will not work correctly."
   ]
  },
  {
   "cell_type": "markdown",
   "metadata": {},
   "source": [
    "<div style=\"background-color: rgba(0,255,0,0.05) ; padding: 10px; border: 1px solid darkgreen;\"> \n",
    "    <b>Home Activity</b>: Run the code below.\n",
    "</div>"
   ]
  },
  {
   "cell_type": "markdown",
   "metadata": {
    "colab_type": "text",
    "id": "AH5Slhxc3Aw-"
   },
   "source": [
    "#### Iteration 1"
   ]
  },
  {
   "cell_type": "code",
   "execution_count": 26,
   "metadata": {
    "colab": {
     "base_uri": "https://localhost:8080/",
     "height": 311
    },
    "colab_type": "code",
    "executionInfo": {
     "elapsed": 552,
     "status": "ok",
     "timestamp": 1550589412250,
     "user": {
      "displayName": "Alexander Dowling",
      "photoUrl": "https://lh3.googleusercontent.com/-LChdQ2m5OQE/AAAAAAAAAAI/AAAAAAAAAA0/JeXJe4vQJ7M/s64/photo.jpg",
      "userId": "00988067626794866502"
     },
     "user_tz": 300
    },
    "id": "zMNx96Wa3Aw-",
    "outputId": "0b396294-6806-40a0-8dad-c927ebf04dc1"
   },
   "outputs": [
    {
     "name": "stdout",
     "output_type": "stream",
     "text": [
      "Initial Guess = -1.5\n"
     ]
    },
    {
     "data": {
      "image/png": "[encoded data removed]",
      "text/plain": [
       "<Figure size 432x288 with 1 Axes>"
      ]
     },
     "metadata": {
      "needs_background": "light"
     },
     "output_type": "display_data"
    }
   ],
   "source": [
    "X = np.linspace(-2,3,Np)\n",
    "plt.plot(X,nonlinear_function(X),label=\"f(x)\")\n",
    "guess = -1.5\n",
    "print(\"Initial Guess =\",guess)\n",
    "slope = (nonlinear_function(guess) - nonlinear_function(guess-.0001))/(.0001)\n",
    "plt.plot(X,0*X,\"--\",label=\"y = 0\")\n",
    "plt.plot(X,nonlinear_function(guess) + slope*(X-guess),'k-.', label=\"Tangent at guess\")\n",
    "plt.plot(np.array([guess,guess]),np.array([0,nonlinear_function(guess)]),'r--')\n",
    "plt.scatter(guess,nonlinear_function(guess),label=\"guess 0\",c=\"red\", marker=\"^\", s=50)\n",
    "new_guess = guess-nonlinear_function(guess)/slope\n",
    "plt.scatter(new_guess,nonlinear_function(new_guess),marker=\"*\", label=\"guess 1\",c=\"green\", s=50)\n",
    "plt.plot(np.array([new_guess,new_guess]),np.array([0,nonlinear_function(new_guess)]),'r--')\n",
    "plt.scatter(1.94731,0,label=\"Root\", s=50)\n",
    "plt.legend(loc=\"best\")\n",
    "plt.xlabel(\"x\")\n",
    "plt.ylabel(\"y\")\n",
    "plt.title(\"Guess 0 and 1\")\n",
    "plt.show()"
   ]
  },
  {
   "cell_type": "markdown",
   "metadata": {
    "colab_type": "text",
    "id": "3NjrHJi43AxA"
   },
   "source": [
    "#### Iteration 2"
   ]
  },
  {
   "cell_type": "code",
   "execution_count": 27,
   "metadata": {
    "colab": {
     "base_uri": "https://localhost:8080/",
     "height": 328
    },
    "colab_type": "code",
    "executionInfo": {
     "elapsed": 704,
     "status": "ok",
     "timestamp": 1550589486458,
     "user": {
      "displayName": "Alexander Dowling",
      "photoUrl": "https://lh3.googleusercontent.com/-LChdQ2m5OQE/AAAAAAAAAAI/AAAAAAAAAA0/JeXJe4vQJ7M/s64/photo.jpg",
      "userId": "00988067626794866502"
     },
     "user_tz": 300
    },
    "id": "bJo0vWzw3AxB",
    "outputId": "babfc310-2a3c-4eed-bd06-4a9b8746e151"
   },
   "outputs": [
    {
     "name": "stdout",
     "output_type": "stream",
     "text": [
      "Guess 1 = 0.4592158749161699\n",
      "Guess 2 = -16.591800422397238\n"
     ]
    },
    {
     "data": {
      "image/png": "[encoded data removed]",
      "text/plain": [
       "<Figure size 432x288 with 1 Axes>"
      ]
     },
     "metadata": {
      "needs_background": "light"
     },
     "output_type": "display_data"
    }
   ],
   "source": [
    "X = np.linspace(-17,3,400)\n",
    "guess = new_guess\n",
    "print(\"Guess 1 =\",guess)\n",
    "slope = (nonlinear_function(guess) - nonlinear_function(guess-.0001))/(.0001)\n",
    "plt.plot(X,nonlinear_function(X),label=\"f(x)\")\n",
    "plt.plot(X,0*X,\"--\",label=\"y = 0\")\n",
    "plt.plot(X,nonlinear_function(guess) + slope*(X-guess),'k-.', label=\"Tangent at guess\")\n",
    "plt.plot(np.array([guess,guess]),np.array([0,nonlinear_function(guess)]),'r--')\n",
    "plt.scatter(guess,nonlinear_function(guess),label=\"guess $1$\",c=\"red\",marker=\"^\", s=50)\n",
    "new_guess = guess-nonlinear_function(guess)/slope\n",
    "print(\"Guess 2 =\",new_guess)\n",
    "plt.scatter(new_guess,nonlinear_function(new_guess),marker=\"*\",label=\"guess $2$\",c=\"green\", s=50)\n",
    "plt.plot(np.array([new_guess,new_guess]),np.array([0,nonlinear_function(new_guess)]),'r--')\n",
    "plt.scatter(1.94731,0,label=\"Root\", s=50)\n",
    "plt.legend(loc=\"best\")\n",
    "plt.axis([-17,3,-50,60])\n",
    "plt.xlabel(\"x\")\n",
    "plt.ylabel(\"y\")\n",
    "plt.title(\"Guess 1 and 2\")\n",
    "plt.show()"
   ]
  },
  {
   "cell_type": "markdown",
   "metadata": {
    "colab_type": "text",
    "id": "BNlVZINd3AxD"
   },
   "source": [
    "#### Iteration 3"
   ]
  },
  {
   "cell_type": "code",
   "execution_count": 28,
   "metadata": {
    "colab": {
     "base_uri": "https://localhost:8080/",
     "height": 328
    },
    "colab_type": "code",
    "executionInfo": {
     "elapsed": 589,
     "status": "ok",
     "timestamp": 1550589505524,
     "user": {
      "displayName": "Alexander Dowling",
      "photoUrl": "https://lh3.googleusercontent.com/-LChdQ2m5OQE/AAAAAAAAAAI/AAAAAAAAAA0/JeXJe4vQJ7M/s64/photo.jpg",
      "userId": "00988067626794866502"
     },
     "user_tz": 300
    },
    "id": "O_L94fdi3AxE",
    "outputId": "bb2cf57c-e27e-445f-ec83-e0137a1978da"
   },
   "outputs": [
    {
     "name": "stdout",
     "output_type": "stream",
     "text": [
      "Guess 2 = -16.591800422397238\n",
      "Guess 3 = -11.152177441789688\n"
     ]
    },
    {
     "data": {
      "image/png": "[encoded data removed]",
      "text/plain": [
       "<Figure size 432x288 with 1 Axes>"
      ]
     },
     "metadata": {
      "needs_background": "light"
     },
     "output_type": "display_data"
    }
   ],
   "source": [
    "X = np.linspace(-17,3,400)\n",
    "guess = new_guess\n",
    "print(\"Guess 2 =\",guess)\n",
    "slope = (nonlinear_function(guess) - nonlinear_function(guess-.0001))/(.0001)\n",
    "plt.plot(X,nonlinear_function(X),label=\"f(x)\")\n",
    "plt.plot(X,0*X,\"--\",label=\"y = 0\")\n",
    "plt.plot(X,nonlinear_function(guess) + slope*(X-guess),'k-.', label=\"Tangent at guess\")\n",
    "plt.plot(np.array([guess,guess]),np.array([0,nonlinear_function(guess)]),'r--')\n",
    "plt.scatter(guess,nonlinear_function(guess),label=\"guess $2$\",c=\"red\",marker=\"^\", s=50)\n",
    "new_guess = guess-nonlinear_function(guess)/slope\n",
    "print(\"Guess 3 =\",new_guess)\n",
    "plt.scatter(new_guess,nonlinear_function(new_guess),marker=\"*\",label=\"guess $3$\",c=\"green\", s=50)\n",
    "plt.plot(np.array([new_guess,new_guess]),np.array([0,nonlinear_function(new_guess)]),'r--')\n",
    "plt.scatter(1.94731,0,label=\"Root\", s=50)\n",
    "plt.legend(loc=\"best\")\n",
    "plt.axis([-17,3,-15000,1000])\n",
    "plt.xlabel(\"x\")\n",
    "plt.ylabel(\"y\")\n",
    "plt.title(\"Guess 2 and 3\")\n",
    "plt.show()"
   ]
  },
  {
   "cell_type": "markdown",
   "metadata": {},
   "source": [
    "<div style=\"background-color: rgba(0,255,0,0.05) ; padding: 10px; border: 1px solid darkgreen;\"> \n",
    "    <b>Home Activity</b>: Fill in 2 or 3 observations here.\n",
    "</div>"
   ]
  },
  {
   "cell_type": "markdown",
   "metadata": {},
   "source": [
    "**Describe your observations here:**\n",
    "1. Fill in...\n",
    "2. Fill in...\n",
    "3. Optional..."
   ]
  },
  {
   "cell_type": "markdown",
   "metadata": {
    "colab_type": "text",
    "id": "bItMMLQ53AxH"
   },
   "source": [
    "In hindsight, it's pretty amazing that it actually found the root.  This demonstrates that method has some robustness."
   ]
  },
  {
   "cell_type": "markdown",
   "metadata": {},
   "source": [
    "<div style=\"background-color: rgba(0,0,255,0.05) ; padding: 10px; border: 1px solid darkblue;\"> \n",
    "<b>Class Activity</b>: Share your observations with a partner. Then we'll regroup and discuss as a class.\n",
    "</div>"
   ]
  }
 ],
 "metadata": {
  "colab": {
   "collapsed_sections": [],
   "name": "L11-Newton-Method-Nonlinear-Equation-Solving.ipynb",
   "provenance": [],
   "version": "0.3.2"
  },
  "kernelspec": {
   "display_name": "Python 3 (ipykernel)",
   "language": "python",
   "name": "python3"
  },
  "language_info": {
   "codemirror_mode": {
    "name": "ipython",
    "version": 3
   },
   "file_extension": ".py",
   "mimetype": "text/x-python",
   "name": "python",
   "nbconvert_exporter": "python",
   "pygments_lexer": "ipython3",
   "version": "3.9.12"
  }
 },
 "nbformat": 4,
 "nbformat_minor": 4
}
