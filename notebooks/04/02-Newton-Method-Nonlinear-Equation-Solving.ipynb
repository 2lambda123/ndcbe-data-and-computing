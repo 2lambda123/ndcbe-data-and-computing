{
 "cells": [
  {
   "cell_type": "markdown",
   "metadata": {
    "colab_type": "text",
    "id": "vwvvdc673Awp"
   },
   "source": [
    "# Solving Systems of Nonlinear Equations with Newton's Method\n",
    "CBE 20258. Numerical and Statistical Analysis. Spring 2020.\n",
    "\n",
    "&#169; University of Notre Dame"
   ]
  },
  {
   "cell_type": "markdown",
   "metadata": {
    "colab_type": "text",
    "id": "meytDS_-3Awq",
    "tags": []
   },
   "source": [
    "## Motivation\n",
    "\n",
    "In this class, we will learn about a family of algorithms that quickly and reliably converges to a numeric value for $x$ that satisfies $c(x) = 0$ from an initial guess $x_0$.\n",
    "\n",
    "a.k.a. Newton-type methods produce good approximations for roots of real-valued functions using an iterative process."
   ]
  },
  {
   "cell_type": "markdown",
   "metadata": {
    "colab_type": "text",
    "id": "8QdGJKms3Awq",
    "tags": []
   },
   "source": [
    "## Newton's Method (aka Newton-Raphson Method) with an Example\n",
    "\n",
    "### Review Canonical Form\n",
    "\n",
    "In a previous notebook, we discussed **canonical form**, $c(x) = 0$, for a system of linear equations. Here, $c(x)$ is a mathematical function that depends on variable $x$. $c(\\cdot)$ can be linear or nonlinear. $x$ can be a scalar or vector.\n",
    "\n",
    "We say $c(x) = 0$ is a **square system** if the number of variables equals the number of equations, i.e., there are zero degrees of freedom. In this notebook, we will focus on square systems. In a future notebook, we will talk about optimization problems which have extra degrees of freedom (more variables than equations)."
   ]
  },
  {
   "cell_type": "markdown",
   "metadata": {},
   "source": [
    "<div style=\"background-color: rgba(0,255,0,0.05) ; padding: 10px; border: 1px solid darkgreen;\"> \n",
    "<b>Home Activity</b>: Answer the following short answer questions below to review canonical form.\n",
    "</div>"
   ]
  },
  {
   "cell_type": "markdown",
   "metadata": {},
   "source": [
    "**Multiple Choice** If $x$ is a three dimensional vector and $c(x) = 0$ is a square system, then...\n",
    "1. $c(x)$ returns a scalar\n",
    "2. $c(x)$ returns a two dimensional vector\n",
    "3. $c(x)$ returns a three dimensional vector\n",
    "4. None of the above.\n",
    "\n",
    "Record your answer as an integer in the Python variable `ans_bi1`."
   ]
  },
  {
   "cell_type": "code",
   "execution_count": 1,
   "metadata": {
    "tags": []
   },
   "outputs": [],
   "source": [
    "### BEGIN SOLUTION\n",
    "ans_bi1 = 3\n",
    "### END SOLUTION"
   ]
  },
  {
   "cell_type": "code",
   "execution_count": 2,
   "metadata": {
    "nbgrader": {
     "grade": true,
     "grade_id": "ans_10bi1",
     "locked": true,
     "points": "0.1",
     "solution": false
    },
    "tags": []
   },
   "outputs": [],
   "source": [
    "### BEGIN HIDDEN TESTS\n",
    "assert ans_bi1 == 3, \"A square system has the same number of equations and variables.\"\n",
    "### END HIDDEN TESTS"
   ]
  },
  {
   "cell_type": "markdown",
   "metadata": {},
   "source": [
    "We say a function is **vector valued** if it returns a vector and **scalar valued** if it returns a scalar."
   ]
  },
  {
   "cell_type": "markdown",
   "metadata": {},
   "source": [
    "**Multiple Choice** Which is the following is canonical form for the equation $x^2 - 1/x = 2$?\n",
    "1. $x^2 - 1/x - 2 = 0$\n",
    "2. $\\frac{x^3 - 2x - 1}{x} = 0$\n",
    "3. $2 x^2 - 2/x - 4 = 0$\n",
    "4. All of the above are canonical form\n",
    "\n",
    "Store your answer as an integer in the Python variable `ans_bi2`."
   ]
  },
  {
   "cell_type": "code",
   "execution_count": 3,
   "metadata": {
    "tags": []
   },
   "outputs": [],
   "source": [
    "### BEGIN SOLUTION\n",
    "ans_bi2 = 4\n",
    "### END SOLUTION"
   ]
  },
  {
   "cell_type": "code",
   "execution_count": 4,
   "metadata": {
    "nbgrader": {
     "grade": true,
     "grade_id": "ans_10bi2",
     "locked": true,
     "points": "0.1",
     "solution": false
    },
    "tags": []
   },
   "outputs": [],
   "source": [
    "### BEGIN HIDDEN TESTS\n",
    "assert ans_bi2 == 4, \"There are many ways to write canonical form for a system of equations\"\n",
    "### END HIDDEN TESTS"
   ]
  },
  {
   "cell_type": "markdown",
   "metadata": {},
   "source": [
    "### Main Idea Through an Example\n",
    "\n",
    "An example is the easiest way to understand Newton methods. Let's find a root, i.e., values for $x$ that satisfy $c(x)=0$, for the following equation:\n",
    "\n",
    "$$ c(x) = 3 x^3 + 2 x^2 - 5 x - 20 $$\n",
    "\n",
    "**Chemical Engineering Application**: In Thermodynamics, you will learn about cubic equations of state. These are cubic polynomials in volume $V$ (or equivalently compressibility $Z$) that accurately predict many important quantities (enthalpy, entropy, fugacity) for a wide range of mixtures. In fact, you can predict the equilibrium coefficients $K$ in flash calculations with a cubic equation of state. But we won't \"steal the thunder\" of cubic equations of state right now. We'll just focus on the generic math problem above for simplicity.\n",
    "\n",
    "We will start by plotting the function $c(x)$."
   ]
  },
  {
   "cell_type": "code",
   "execution_count": 5,
   "metadata": {
    "colab": {
     "base_uri": "https://localhost:8080/",
     "height": 279
    },
    "colab_type": "code",
    "executionInfo": {
     "elapsed": 425,
     "status": "ok",
     "timestamp": 1550588659764,
     "user": {
      "displayName": "Alexander Dowling",
      "photoUrl": "https://lh3.googleusercontent.com/-LChdQ2m5OQE/AAAAAAAAAAI/AAAAAAAAAA0/JeXJe4vQJ7M/s64/photo.jpg",
      "userId": "00988067626794866502"
     },
     "user_tz": 300
    },
    "id": "6N25NNcX3Awr",
    "outputId": "0665f3a1-9de8-4640-de8f-f685cd5b84b6"
   },
   "outputs": [
    {
     "data": {
      "image/png": "[encoded data removed]",
      "text/plain": [
       "<Figure size 432x288 with 1 Axes>"
      ]
     },
     "metadata": {
      "needs_background": "light"
     },
     "output_type": "display_data"
    }
   ],
   "source": [
    "import numpy as np\n",
    "import matplotlib.pyplot as plt\n",
    "#this next line is only needed in iPython notebooks\n",
    "%matplotlib inline \n",
    "\n",
    "def nonlinear_function(x):\n",
    "    ''' compute a nonlinear function for demonstration\n",
    "    Arguments:\n",
    "        x: scalar\n",
    "    Returns:\n",
    "        c(x): scalar\n",
    "    '''\n",
    "    return 3*x**3 + 2*x**2 - 5*x-20\n",
    "\n",
    "Np = 100\n",
    "X = np.linspace(-2,3,Np)\n",
    "plt.plot(X,nonlinear_function(X),label=\"c(x)\",color=\"blue\")\n",
    "plt.grid(True)\n",
    "plt.xlabel(\"$x$\")\n",
    "plt.ylabel(\"$c(x)$\")\n",
    "plt.show()"
   ]
  },
  {
   "cell_type": "markdown",
   "metadata": {},
   "source": [
    "<div style=\"background-color: rgba(0,255,0,0.05) ; padding: 10px; border: 1px solid darkgreen;\"> \n",
    "<b>Home Activity</b>: Based on the plot above, answer the following short answer questions.\n",
    "</div>"
   ]
  },
  {
   "cell_type": "markdown",
   "metadata": {},
   "source": [
    "**Multiple Choice** How many real and imaginary roots are there for $c(x)$?\n",
    "1. One real root and two imaginary roots\n",
    "2. Three real roots\n",
    "3. Two real roots and one imaginary root\n",
    "4. One real root and no imaginary roots\n",
    "5. No real or imaginary roots\n",
    "6. None of the above\n",
    "\n",
    "Record your answer as an integer in the Python variable `ans_bii1`."
   ]
  },
  {
   "cell_type": "code",
   "execution_count": 6,
   "metadata": {
    "tags": []
   },
   "outputs": [],
   "source": [
    "### BEGIN SOLUTION\n",
    "ans_bii1 = 1\n",
    "### END SOLUTION"
   ]
  },
  {
   "cell_type": "code",
   "execution_count": 7,
   "metadata": {
    "nbgrader": {
     "grade": true,
     "grade_id": "ans_10bii1",
     "locked": true,
     "points": "0.1",
     "solution": false
    },
    "tags": []
   },
   "outputs": [],
   "source": [
    "### BEGIN HIDDEN TESTS\n",
    "assert ans_bii1 == 1, \"How many total roots are there for all cubic equations? How many real roots are shown in the plot?\"\n",
    "### END HIDDEN TESTS"
   ]
  },
  {
   "cell_type": "markdown",
   "metadata": {},
   "source": [
    "**Numeric Answer** What is the real root for c(x) = 0 based on the plot? Approximate your answer to 1 decimal point and record in the Python variable `ans_bii2`."
   ]
  },
  {
   "cell_type": "code",
   "execution_count": 8,
   "metadata": {
    "collapsed": true,
    "jupyter": {
     "outputs_hidden": true
    }
   },
   "outputs": [],
   "source": [
    "### BEGIN SOLUTION\n",
    "ans_bii2 = 1.9\n",
    "## END SOLUTION"
   ]
  },
  {
   "cell_type": "code",
   "execution_count": 9,
   "metadata": {
    "collapsed": true,
    "jupyter": {
     "outputs_hidden": true
    },
    "nbgrader": {
     "grade": true,
     "grade_id": "ans_10bii2",
     "locked": true,
     "points": "0.1",
     "solution": false
    }
   },
   "outputs": [],
   "source": [
    "### BEGIN HIDDEN TESTS\n",
    "assert ans_bii2 >= 1.7, \"Your answer is too small.\"\n",
    "assert ans_bii2 <= 2.1, \"Your answer is too large.\"\n",
    "### END HIDDEN TESTS"
   ]
  },
  {
   "cell_type": "markdown",
   "metadata": {
    "colab_type": "text",
    "id": "zCZXsMSE3Awv"
   },
   "source": [
    "### Algorithm Steps and Iteration 1\n",
    "\n",
    "We will start Newton's method at the initial guess $x_0 = 1.25$.\n",
    "\n",
    "For each iteration of the algorithm, we will do the following steps:\n",
    "1. Construct a tangent line at the current guess\n",
    "2. Solve the tangent line (a linear system!) to compute a new guess\n",
    "3. Check if our guess is \"close enough\" to the true solution to stop\n",
    "\n",
    "The Python code below does the first two steps described above. We'll talk about good stopping criteria, i.e., knowing when we are \"close enough\", soon."
   ]
  },
  {
   "cell_type": "code",
   "execution_count": 9,
   "metadata": {
    "colab": {
     "base_uri": "https://localhost:8080/",
     "height": 328
    },
    "colab_type": "code",
    "executionInfo": {
     "elapsed": 488,
     "status": "ok",
     "timestamp": 1550588695931,
     "user": {
      "displayName": "Alexander Dowling",
      "photoUrl": "https://lh3.googleusercontent.com/-LChdQ2m5OQE/AAAAAAAAAAI/AAAAAAAAAA0/JeXJe4vQJ7M/s64/photo.jpg",
      "userId": "00988067626794866502"
     },
     "user_tz": 300
    },
    "id": "BPZbAsmj3Aww",
    "outputId": "a041f716-95a0-48a1-ce7f-f1036e478632"
   },
   "outputs": [
    {
     "name": "stdout",
     "output_type": "stream",
     "text": [
      "Guess 0 = 1.25 (initial)\n",
      "Guess 1 = 2.4778934700108186\n"
     ]
    },
    {
     "data": {
      "image/png": "[encoded data removed]",
      "text/plain": [
       "<Figure size 432x288 with 1 Axes>"
      ]
     },
     "metadata": {
      "needs_background": "light"
     },
     "output_type": "display_data"
    }
   ],
   "source": [
    "guess = 1.25\n",
    "print(\"Guess 0 =\",guess, \"(initial)\")\n",
    "\n",
    "# plot function again\n",
    "plt.plot(X,nonlinear_function(X),label=\"c(x)\",color=\"blue\")\n",
    "\n",
    "# plot original guess\n",
    "plt.scatter(guess,nonlinear_function(guess),label=\"guess 0\",\n",
    "            marker=\"s\", s=30,color=\"blue\")\n",
    "\n",
    "### construct tangent line\n",
    "# calculate slope with finite difference perturbation\n",
    "slope = (nonlinear_function(guess) - nonlinear_function(guess-.0001))/(.0001)\n",
    "\n",
    "# plot tanget plane centered at guess\n",
    "plt.plot(X,nonlinear_function(guess) + slope*(X-guess),\n",
    "         'k-.', label=\"Tangent at guess\")\n",
    "\n",
    "### calculate new guess and plot\n",
    "new_guess = guess-nonlinear_function(guess)/slope\n",
    "plt.scatter(new_guess,nonlinear_function(new_guess),label=\"guess 1\",\n",
    "            marker=\"*\", s=50,color=\"blue\")\n",
    "print(\"Guess 1 =\",new_guess)\n",
    "\n",
    "### draw lines to guide eye\n",
    "# horizontal line at y=0\n",
    "plt.plot(X,0*X,\"--\",label=\"y = 0\",color=\"green\")\n",
    "\n",
    "# vertical line from guess to y=0 line\n",
    "plt.plot(np.array([guess,guess]),\n",
    "         np.array([0,nonlinear_function(guess)]),'r--')\n",
    "\n",
    "# vertical line from new_guess to y=0 line\n",
    "plt.plot(np.array([new_guess,new_guess]),\n",
    "         np.array([0,nonlinear_function(new_guess)]),'r--')\n",
    "\n",
    "# root for c(x)=0\n",
    "plt.scatter(1.94731,0,label=\"Root\", s=50, color=\"green\")\n",
    "\n",
    "### finish formatting plot\n",
    "plt.legend(loc=\"best\")\n",
    "plt.xlabel(\"x\")\n",
    "plt.ylabel(\"y\")\n",
    "plt.title(\"Guess 0 and 1\")\n",
    "plt.grid(True)\n",
    "plt.show()"
   ]
  },
  {
   "cell_type": "markdown",
   "metadata": {},
   "source": [
    "<div style=\"background-color: rgba(0,255,0,0.05) ; padding: 10px; border: 1px solid darkgreen;\"> \n",
    "<b>Home Activity</b>: Study the Python code above. Then fill in the $?$s in the formulas below. These are the calculations done in Python.\n",
    "</div>"
   ]
  },
  {
   "cell_type": "markdown",
   "metadata": {},
   "source": [
    "Approximate the slope of the tangent line:\n",
    "\n",
    "$$s = \\frac{c(x_0) - c(?)}{?}$$"
   ]
  },
  {
   "cell_type": "markdown",
   "metadata": {},
   "source": [
    "Compute the next guess:\n",
    "\n",
    "$$x_1 = ? - \\frac{?}{?}$$"
   ]
  },
  {
   "cell_type": "markdown",
   "metadata": {},
   "source": [
    "<div style=\"background-color: rgba(0,255,0,0.05) ; padding: 10px; border: 1px solid darkgreen;\"> \n",
    "<b>Home Activity</b>: Write one question or observation to share during class about the code above.\n",
    "</div>"
   ]
  },
  {
   "cell_type": "markdown",
   "metadata": {},
   "source": [
    "Your question/observation:"
   ]
  },
  {
   "cell_type": "markdown",
   "metadata": {
    "colab_type": "text",
    "id": "HlHstJyC3Awz"
   },
   "source": [
    "### Convergence\n",
    "\n",
    "*Are we there yet?* There are two popular stopping criteria for Newton's method:\n",
    "1. Check the (norm of the) step size $\\Delta x_i = x_i - x_{i-1}$. When our guess only changes by a very small amount, we should stop. We either arrived at the solution or should try something else.\n",
    "2. Check the (norm of the) residual(s) $c(x_i)$.  When the (norm of the) residual(s) is almost zero, then $x_i$ is a good numeric approximation to the true (analytic) solution.\n",
    "\n",
    "Here $x_i$ is the guess after iteration $i$. We called our initial guess $x_0$. Recall, $x$ can be a vector and $c(x)$ can be a vector valued function, hence the \"(norm of the)\" above."
   ]
  },
  {
   "cell_type": "markdown",
   "metadata": {},
   "source": [
    "<div style=\"background-color: rgba(0,255,0,0.05) ; padding: 10px; border: 1px solid darkgreen;\"> \n",
    "<b>Home Activity</b>: Based on the graph above, answer the following short answer questions.\n",
    "</div>"
   ]
  },
  {
   "cell_type": "markdown",
   "metadata": {},
   "source": [
    "**Numeric Answer**: What is $c(x_1)$, i.e., $c(\\cdot)$ evaluated at guess 1? Record your answer with two significant digits in the Python variable <tt>ans_biv1</tt>. \n",
    "\n",
    "*Hint*: You can read this off of the plot we made above."
   ]
  },
  {
   "cell_type": "code",
   "execution_count": 10,
   "metadata": {},
   "outputs": [
    {
     "name": "stdout",
     "output_type": "stream",
     "text": [
      "Answer = 25.532915745237332\n"
     ]
    }
   ],
   "source": [
    "### BEGIN SOLUTION\n",
    "ans_biv1 = nonlinear_function(2.4778934700108186)\n",
    "print(\"Answer =\",ans_biv1)\n",
    "### END SOLUTION"
   ]
  },
  {
   "cell_type": "code",
   "execution_count": 11,
   "metadata": {
    "nbgrader": {
     "grade": true,
     "grade_id": "ans_10biv1",
     "locked": true,
     "points": "0.1",
     "solution": false
    },
    "tags": []
   },
   "outputs": [],
   "source": [
    "### BEGIN HIDDEN TESTS\n",
    "assert ans_biv1 >= 21.0, \"Your answer is too low.\"\n",
    "assert ans_biv1 <= 30.0, \"Your answer is too high.\"\n",
    "### END HIDDEN TESTS"
   ]
  },
  {
   "cell_type": "markdown",
   "metadata": {},
   "source": [
    "**Numeric Answer**: What is $\\Delta x_1 = x_1 - x_0$, i.e., $c(\\cdot)$ evaluated at guess 1? Record your answer with three significant digits in the Python variable <tt>ans_biv2</tt>."
   ]
  },
  {
   "cell_type": "code",
   "execution_count": 13,
   "metadata": {},
   "outputs": [
    {
     "name": "stdout",
     "output_type": "stream",
     "text": [
      "delta x = 1.2278934700108186\n"
     ]
    }
   ],
   "source": [
    "### BEGIN SOLUTION\n",
    "ans_biv2 = 2.4778934700108186 - 1.25\n",
    "print(\"delta x =\",ans_biv2)\n",
    "### END SOLUTION"
   ]
  },
  {
   "cell_type": "code",
   "execution_count": 14,
   "metadata": {
    "nbgrader": {
     "grade": true,
     "grade_id": "ans_10biv2",
     "locked": true,
     "points": "0.1",
     "solution": false
    },
    "tags": []
   },
   "outputs": [],
   "source": [
    "### BEGIN HIDDEN TESTS\n",
    "assert ans_biv2 > 1.20, \"Your answer is too small.\"\n",
    "assert ans_biv2 < 1.25, \"Your answer is too large.\"\n",
    "### END HIDDEN TESTS"
   ]
  },
  {
   "cell_type": "markdown",
   "metadata": {},
   "source": [
    "### Iteration 2\n",
    "\n",
    "Based on the large residual and large step size, we decide to continue with Newton's method. We proceed to i) fit the tangent line around $x_1$, and then use the tangent line to calculate $x_2$. Please take a few minutes to read through the Python code below."
   ]
  },
  {
   "cell_type": "code",
   "execution_count": 15,
   "metadata": {
    "colab": {
     "base_uri": "https://localhost:8080/",
     "height": 328
    },
    "colab_type": "code",
    "executionInfo": {
     "elapsed": 534,
     "status": "ok",
     "timestamp": 1550588718788,
     "user": {
      "displayName": "Alexander Dowling",
      "photoUrl": "https://lh3.googleusercontent.com/-LChdQ2m5OQE/AAAAAAAAAAI/AAAAAAAAAA0/JeXJe4vQJ7M/s64/photo.jpg",
      "userId": "00988067626794866502"
     },
     "user_tz": 300
    },
    "id": "YZHvmfCk3Awz",
    "outputId": "cebb3211-5fc0-4d3b-dc9a-ac3d37cc6202"
   },
   "outputs": [
    {
     "name": "stdout",
     "output_type": "stream",
     "text": [
      "Guess 1 = 2.4778934700108186\n",
      "Guess 2 = 2.0535383605864483\n"
     ]
    },
    {
     "data": {
      "image/png": "[encoded data removed]",
      "text/plain": [
       "<Figure size 432x288 with 1 Axes>"
      ]
     },
     "metadata": {
      "needs_background": "light"
     },
     "output_type": "display_data"
    }
   ],
   "source": [
    "guess = new_guess\n",
    "print(\"Guess 1 =\",guess)\n",
    "\n",
    "# plot function again\n",
    "plt.plot(X,nonlinear_function(X),label=\"c(x)\",color=\"blue\")\n",
    "\n",
    "# plot original guess\n",
    "plt.scatter(guess,nonlinear_function(guess),label=\"guess 1\",\n",
    "            marker=\"s\", s=30,color=\"blue\")\n",
    "\n",
    "### construct tangent line\n",
    "# calculate slope with finite difference perturbation\n",
    "slope = (nonlinear_function(guess) - nonlinear_function(guess-.0001))/(.0001)\n",
    "\n",
    "# plot tanget plane centered at guess\n",
    "plt.plot(X,nonlinear_function(guess) + slope*(X-guess),\n",
    "         'k-.', label=\"Tangent at guess\")\n",
    "\n",
    "### calculate new guess and plot\n",
    "new_guess = guess-nonlinear_function(guess)/slope\n",
    "plt.scatter(new_guess,nonlinear_function(new_guess),\n",
    "            label=\"guess 2\",marker=\"*\", s=50,color=\"blue\")\n",
    "print(\"Guess 2 =\",new_guess)\n",
    "\n",
    "### draw lines to guide eye\n",
    "# horizontal line at y=0\n",
    "plt.plot(X,0*X,\"--\",label=\"y = 0\",color=\"green\")\n",
    "\n",
    "# vertical line from guess to y=0 line\n",
    "plt.plot(np.array([guess,guess]),\n",
    "         np.array([0,nonlinear_function(guess)]),'r--')\n",
    "\n",
    "# vertical line from new_guess to y=0 line\n",
    "plt.plot(np.array([new_guess,new_guess]),\n",
    "         np.array([0,nonlinear_function(new_guess)]),'r--')\n",
    "\n",
    "# root for c(x)=0\n",
    "plt.scatter(1.94731,0,label=\"Root\", s=50, color=\"green\")\n",
    "\n",
    "### finish formatting plot\n",
    "plt.legend(loc=\"best\")\n",
    "plt.xlabel(\"x\")\n",
    "plt.ylabel(\"y\")\n",
    "plt.title(\"Guess 1 and 2\")\n",
    "plt.axis([-1,3,-50,60])\n",
    "plt.show()"
   ]
  },
  {
   "cell_type": "markdown",
   "metadata": {
    "tags": []
   },
   "source": [
    "## Newton's Method Generalized"
   ]
  },
  {
   "cell_type": "markdown",
   "metadata": {
    "colab_type": "text",
    "id": "qL7RoiIS3Aw2"
   },
   "source": [
    "### Generalization"
   ]
  },
  {
   "cell_type": "markdown",
   "metadata": {
    "colab_type": "text",
    "id": "VTLzraHy3Aw2"
   },
   "source": [
    "As you can see, we get closer to the root each iteration.  This is due to the fact that close enough to a point, the tangent line is a reasonable approximation--just as the linear Taylor series can be a good approximation.  Of course, this is not always a good approximation as we will see later.\n",
    "\n",
    "The basic idea is to compute where the tangent line crosses the $x$ axis. We do this by solving\n",
    "\n",
    "$$f'(x_i) = \\frac{f(x_{i+1}) - f(x_i)}{x_{i+1} - x_i},$$ with $f(x_{i+1}) = 0$ to get\n",
    "\n",
    "$$ x_{i+1} = x_i - \\frac{f(x_i)}{f'(x_i)}.$$\n",
    "\n",
    "It's that simple.\n",
    "\n",
    "**Notice**: We switch from $c(x) = 0$ to $f(x) = 0$. People use them **interchangeably for canonical form**."
   ]
  },
  {
   "cell_type": "markdown",
   "metadata": {
    "colab_type": "text",
    "id": "r8_PQfQ53Aw3"
   },
   "source": [
    "### Algorithm and Implementation\n",
    "\n",
    "We can now implement a general purpose version of Newton's method in Python.\n"
   ]
  },
  {
   "cell_type": "markdown",
   "metadata": {},
   "source": [
    "<div style=\"background-color: rgba(0,255,0,0.05) ; padding: 10px; border: 1px solid darkgreen;\"> \n",
    "<b>Home Activity</b>: Fill in the missing line in the general single-variable Newton's method function below.\n",
    "</div>"
   ]
  },
  {
   "cell_type": "markdown",
   "metadata": {},
   "source": [
    "Hints:\n",
    "* Which formula (written above) should you use to update `x` each iteration?\n",
    "* Read the document string.\n",
    "* `f` and `fprime` are both functions. Review Chapter 01 Notebook 04 for more information on passing functions as an input argument to functions."
   ]
  },
  {
   "cell_type": "code",
   "execution_count": 17,
   "metadata": {
    "colab": {},
    "colab_type": "code",
    "id": "g8oBDBA73Aw4",
    "tags": []
   },
   "outputs": [],
   "source": [
    "def newton(f,fprime,x0,epsilon=1.0e-6, LOUD=False, max_iter=50):\n",
    "    \"\"\"Find the root of the function f(x) via Newton-Raphson method\n",
    "    Args:\n",
    "        f: the function, in canoncial form, we want to fix the root of [Python function]\n",
    "        fprime: the derivative of f [Python function]\n",
    "        x0: initial guess [float]\n",
    "        epsilon: tolerance [float]\n",
    "        LOUD: toggle on/off print statements [boolean]\n",
    "        max_iter: maximum number of iterations [int]\n",
    "        \n",
    "    Returns:\n",
    "        estimate of root [float]\n",
    "    \"\"\"\n",
    "    \n",
    "    assert callable(f), \"Warning: 'f' should be a Python function\"\n",
    "    assert callable(fprime), \"Warning: 'fprime' should be a Python function\"\n",
    "    assert type(x0) is float or type(x0) is int, \"Warning: 'x0' should be a float or integer\"\n",
    "    assert type(epsilon) is float, \"Warning: 'eps' should be a float\"\n",
    "    assert type(max_iter) is int, \"Warning: 'max_iter' should be an integer\"\n",
    "    assert max_iter >= 0, \"Warning: 'max_iter' should be non-negative\"\n",
    "    \n",
    "    x = x0\n",
    "    if (LOUD):\n",
    "        print(\"x0 =\",x0)\n",
    "    iterations = 0\n",
    "    converged = False\n",
    "    \n",
    "    # Check if the residual is close enough to zero\n",
    "    while (not converged and iterations < max_iter):\n",
    "        \n",
    "        if (LOUD):\n",
    "            print(\"x_\",iterations+1,\"=\",x,\"-\",f(x),\"/\",\n",
    "                  fprime(x),\"=\",x - f(x)/fprime(x))\n",
    "        \n",
    "        # add general single-variable Newton's Method equation below\n",
    "        ### BEGIN SOLUTION\n",
    "        x = x - f(x) / fprime(x)\n",
    "        ### END SOLUTION\n",
    "        \n",
    "        # check if converged\n",
    "        if np.fabs(f(x)) < epsilon:\n",
    "            converged = True\n",
    "        \n",
    "        iterations += 1 \n",
    "    print(\"It took\",iterations,\"iterations\")\n",
    "    \n",
    "    if not converged:\n",
    "        print(\"Warning: Not a solution. Maximum number of iterations exceeded.\")\n",
    "    return x #return estimate of root"
   ]
  },
  {
   "cell_type": "markdown",
   "metadata": {
    "colab_type": "text",
    "id": "xxj12dFc3Aw5"
   },
   "source": [
    "### Unit Test and Example"
   ]
  },
  {
   "cell_type": "markdown",
   "metadata": {
    "colab_type": "text",
    "id": "38DMpfZx3Aw6"
   },
   "source": [
    "We created a function. We should immediately test it. Recall our test problem:\n",
    "\n",
    "$$ c(x) = 3 x^3 + 2 x^2 - 5 x - 20 $$\n",
    "\n",
    "Our friends at Wolframalpha.com tell us the roots are $x \\approx 1.9473$ and $x \\approx -1.3070 \\pm 1.3097 i$ where $i = \\sqrt{-1}$. Because we know the solution, we can use this as a unit test. We will only focus on real roots in this class.\n",
    "\n",
    "To apply Newton's method, we need the first derivative to create the tangent line:\n",
    "\n",
    "$$c'(x) = 9 x^2 + 4 x - 5$$"
   ]
  },
  {
   "cell_type": "code",
   "execution_count": 18,
   "metadata": {
    "tags": []
   },
   "outputs": [],
   "source": [
    "def Dnonlinear_function(x):\n",
    "    ''' compute 1st derivative of nonlinear function for demonstration\n",
    "    Arguments:\n",
    "        x: scalar\n",
    "    Returns:\n",
    "        c'(x): scalar\n",
    "    '''\n",
    "    return 9*x**2 + 4*x - 5"
   ]
  },
  {
   "cell_type": "markdown",
   "metadata": {},
   "source": [
    "<div style=\"background-color: rgba(0,255,0,0.05) ; padding: 10px; border: 1px solid darkgreen;\"> \n",
    "    <b>Home Activity</b>: How could we use a lambda function instead of a <tt>def</tt> function for the derivative calculation? Give it a try below.\n",
    "</div>"
   ]
  },
  {
   "cell_type": "code",
   "execution_count": 22,
   "metadata": {},
   "outputs": [
    {
     "name": "stdout",
     "output_type": "stream",
     "text": [
      "8\n"
     ]
    }
   ],
   "source": [
    "### BEGIN SOLUTION\n",
    "Donlinear_function = lambda x : 9*x**2+4*x-5\n",
    "print(Donlinear_function(1))\n",
    "### END SOLUTION"
   ]
  },
  {
   "cell_type": "markdown",
   "metadata": {},
   "source": [
    "<div style=\"background-color: rgba(0,255,0,0.05) ; padding: 10px; border: 1px solid darkgreen;\"> \n",
    "    <b>Home Activity</b>: Run the code to verify your modifications to <tt>newton</tt> are correct.\n",
    "</div>"
   ]
  },
  {
   "cell_type": "code",
   "execution_count": 23,
   "metadata": {
    "colab": {
     "base_uri": "https://localhost:8080/",
     "height": 291
    },
    "colab_type": "code",
    "executionInfo": {
     "elapsed": 338,
     "status": "ok",
     "timestamp": 1550589364184,
     "user": {
      "displayName": "Alexander Dowling",
      "photoUrl": "https://lh3.googleusercontent.com/-LChdQ2m5OQE/AAAAAAAAAAI/AAAAAAAAAA0/JeXJe4vQJ7M/s64/photo.jpg",
      "userId": "00988067626794866502"
     },
     "user_tz": 300
    },
    "id": "5ZHa9j-A3Aw7",
    "outputId": "a57948bf-9777-4e20-a394-0c88556ba9f9"
   },
   "outputs": [
    {
     "name": "stdout",
     "output_type": "stream",
     "text": [
      "x0 = -1.5\n",
      "x_ 1 = -1.5 - -18.125 / 9.25 = 0.45945945945945943\n",
      "x_ 2 = 0.45945945945945943 - -21.584111503760884 / -1.2622352081811545 = -16.64045295295295\n",
      "x_ 3 = -16.64045295295295 - -13206.446010659996 / 2420.5802585031524 = -11.184552053047796\n",
      "x_ 4 = -11.184552053047796 - -3911.2567600472344 / 1076.1096334338297 = -7.54992539557002\n",
      "x_ 5 = -7.54992539557002 - -1159.3159776918205 / 477.81265972577813 = -5.123627234367753\n",
      "x_ 6 = -5.123627234367753 - -345.3883141179978 / 210.7694953933235 = -3.484925611661592\n",
      "x_ 7 = -3.484925611661592 - -105.25615528465704 / 90.36265622268793 = -2.320106429882939\n",
      "x_ 8 = -2.320106429882939 - -35.100340028952424 / 34.165618894325654 = -1.2927478991471761\n",
      "x_ 9 = -1.2927478991471761 - -16.675175982276617 / 4.869782580156233 = 2.131465750600949\n",
      "x_ 10 = 2.131465750600949 - 7.479645608829035 / 44.41417921626759 = 1.963059044886359\n",
      "x_ 11 = 1.963059044886359 - 0.5864442011938849 / 37.53464350293673 = 1.9474349667957278\n",
      "x_ 12 = 1.9474349667957278 - 0.004789634744607696 / 36.92226641627101 = 1.947305244673835\n",
      "It took 12 iterations\n",
      "The root estimate is 1.947305244673835 \n",
      "f( 1.947305244673835 ) = 3.2858902798693634e-07\n"
     ]
    }
   ],
   "source": [
    "root = newton(nonlinear_function,Dnonlinear_function,-1.5,LOUD=True,max_iter=15)\n",
    "print(\"The root estimate is\",root,\"\\nf(\",root,\") =\",nonlinear_function(root))"
   ]
  },
  {
   "cell_type": "markdown",
   "metadata": {},
   "source": [
    "You should see the following output:\n",
    "```\n",
    "x0 = -1.5\n",
    "x_ 1 = -1.5 - -18.125 / 9.25 = 0.45945945945945943\n",
    "x_ 2 = 0.45945945945945943 - -21.584111503760884 / -1.2622352081811545 = -16.64045295295295\n",
    "x_ 3 = -16.64045295295295 - -13206.446010659996 / 2420.5802585031524 = -11.184552053047796\n",
    "x_ 4 = -11.184552053047796 - -3911.2567600472344 / 1076.1096334338297 = -7.54992539557002\n",
    "x_ 5 = -7.54992539557002 - -1159.3159776918205 / 477.81265972577813 = -5.123627234367753\n",
    "x_ 6 = -5.123627234367753 - -345.3883141179978 / 210.7694953933235 = -3.484925611661592\n",
    "x_ 7 = -3.484925611661592 - -105.25615528465704 / 90.36265622268793 = -2.320106429882939\n",
    "x_ 8 = -2.320106429882939 - -35.100340028952424 / 34.165618894325654 = -1.2927478991471761\n",
    "x_ 9 = -1.2927478991471761 - -16.675175982276617 / 4.869782580156233 = 2.131465750600949\n",
    "x_ 10 = 2.131465750600949 - 7.479645608829035 / 44.41417921626759 = 1.963059044886359\n",
    "x_ 11 = 1.963059044886359 - 0.5864442011938849 / 37.53464350293673 = 1.9474349667957278\n",
    "x_ 12 = 1.9474349667957278 - 0.004789634744607696 / 36.92226641627101 = 1.947305244673835\n",
    "It took 12 iterations\n",
    "The root estimate is 1.947305244673835 \n",
    "f( 1.947305244673835 ) = 3.2858902798693634e-07\n",
    "```"
   ]
  },
  {
   "cell_type": "code",
   "execution_count": 24,
   "metadata": {
    "nbgrader": {
     "grade": true,
     "grade_id": "newton",
     "locked": true,
     "points": "0.1",
     "solution": false
    }
   },
   "outputs": [
    {
     "name": "stdout",
     "output_type": "stream",
     "text": [
      "It took 12 iterations\n"
     ]
    }
   ],
   "source": [
    "### BEGIN HIDDEN TESTS\n",
    "def f_test(x):\n",
    "    #compute a nonlinear function for demonstration\n",
    "    return 3*x**3 + 2*x**2 - 5*x-20\n",
    "\n",
    "def df_test(x):\n",
    "    #compute a nonlinear function for demonstration\n",
    "    return 9*x**2 + 4*x - 5\n",
    "\n",
    "root_test = newton(f_test,df_test,-1.5,LOUD=False,max_iter=15)\n",
    "\n",
    "assert np.abs(root_test - 1.947305244673835) < 1E-4, \"Your function newton did not work for the test cubic.\"\n",
    "### END HIDDEN TESTS"
   ]
  },
  {
   "cell_type": "markdown",
   "metadata": {
    "colab_type": "text",
    "id": "Uu3VzUlO3Aw9"
   },
   "source": [
    "Let's look at what happened.  We had a bad initial guess so the method went the wrong way at first, but it eventually honed in on the solution. This highlights a feature of open methods: the root estimate can get worse, and even diverge. This is in comparison with closed methods (such as bisection) where the root is confined to an interval. On the other hand, open methods only require an initial guess instead of knowledge of an interval where the root lies. "
   ]
  },
  {
   "cell_type": "markdown",
   "metadata": {},
   "source": [
    "Run the code below to see what happens when we exceed the number if iterations."
   ]
  },
  {
   "cell_type": "code",
   "execution_count": 25,
   "metadata": {},
   "outputs": [
    {
     "name": "stdout",
     "output_type": "stream",
     "text": [
      "x0 = -1.5\n",
      "x_ 1 = -1.5 - -18.125 / 9.25 = 0.45945945945945943\n",
      "x_ 2 = 0.45945945945945943 - -21.584111503760884 / -1.2622352081811545 = -16.64045295295295\n",
      "x_ 3 = -16.64045295295295 - -13206.446010659996 / 2420.5802585031524 = -11.184552053047796\n",
      "It took 3 iterations\n",
      "Warning: Not a solution. Maximum number of iterations exceeded.\n",
      "The root estimate is -11.184552053047796 \n",
      "f( -11.184552053047796 ) = -3911.2567600472344\n"
     ]
    }
   ],
   "source": [
    "root = newton(nonlinear_function,Dnonlinear_function,-1.5,LOUD=True,max_iter=3)\n",
    "print(\"The root estimate is\",root,\"\\nf(\",root,\") =\",nonlinear_function(root))"
   ]
  },
  {
   "cell_type": "markdown",
   "metadata": {},
   "source": [
    "You should get:\n",
    "\n",
    "```\n",
    "x0 = -1.5\n",
    "x_ 1 = -1.5 - -18.125 / 9.25 = 0.45945945945945943\n",
    "x_ 2 = 0.45945945945945943 - -21.584111503760884 / -1.2622352081811545 = -16.64045295295295\n",
    "x_ 3 = -16.64045295295295 - -13206.446010659996 / 2420.5802585031524 = -11.184552053047796\n",
    "It took 3 iterations\n",
    "Warning: Not a solution. Maximum number of iterations exceeded.\n",
    "The root estimate is -11.184552053047796 \n",
    "f( -11.184552053047796 ) = -3911.2567600472344\n",
    "```\n"
   ]
  },
  {
   "cell_type": "markdown",
   "metadata": {},
   "source": [
    "The next bit of code demonstrates graphically what happened in the Newton solve."
   ]
  },
  {
   "cell_type": "markdown",
   "metadata": {},
   "source": [
    "### Looking Deeper into the Unit Test\n",
    "\n",
    "**Warning 1:** You must rerun the following three cells in order and only once. If you want to rerun a cell (say Iteration 3), you must start with Iteration 1 and rerun them in order.\n",
    "\n",
    "**Warning 2:** Make sure your modification to `newton` is correct. Otherwise, the code below will not work correctly."
   ]
  },
  {
   "cell_type": "markdown",
   "metadata": {},
   "source": [
    "<div style=\"background-color: rgba(0,255,0,0.05) ; padding: 10px; border: 1px solid darkgreen;\"> \n",
    "    <b>Home Activity</b>: Run the code below.\n",
    "</div>"
   ]
  },
  {
   "cell_type": "markdown",
   "metadata": {
    "colab_type": "text",
    "id": "AH5Slhxc3Aw-"
   },
   "source": [
    "#### Iteration 1"
   ]
  },
  {
   "cell_type": "code",
   "execution_count": 26,
   "metadata": {
    "colab": {
     "base_uri": "https://localhost:8080/",
     "height": 311
    },
    "colab_type": "code",
    "executionInfo": {
     "elapsed": 552,
     "status": "ok",
     "timestamp": 1550589412250,
     "user": {
      "displayName": "Alexander Dowling",
      "photoUrl": "https://lh3.googleusercontent.com/-LChdQ2m5OQE/AAAAAAAAAAI/AAAAAAAAAA0/JeXJe4vQJ7M/s64/photo.jpg",
      "userId": "00988067626794866502"
     },
     "user_tz": 300
    },
    "id": "zMNx96Wa3Aw-",
    "outputId": "0b396294-6806-40a0-8dad-c927ebf04dc1"
   },
   "outputs": [
    {
     "name": "stdout",
     "output_type": "stream",
     "text": [
      "Initial Guess = -1.5\n"
     ]
    },
    {
     "data": {
      "image/png": "[encoded data removed]",
      "text/plain": [
       "<Figure size 432x288 with 1 Axes>"
      ]
     },
     "metadata": {
      "needs_background": "light"
     },
     "output_type": "display_data"
    }
   ],
   "source": [
    "X = np.linspace(-2,3,Np)\n",
    "plt.plot(X,nonlinear_function(X),label=\"f(x)\")\n",
    "guess = -1.5\n",
    "print(\"Initial Guess =\",guess)\n",
    "slope = (nonlinear_function(guess) - nonlinear_function(guess-.0001))/(.0001)\n",
    "plt.plot(X,0*X,\"--\",label=\"y = 0\")\n",
    "plt.plot(X,nonlinear_function(guess) + slope*(X-guess),'k-.', label=\"Tangent at guess\")\n",
    "plt.plot(np.array([guess,guess]),np.array([0,nonlinear_function(guess)]),'r--')\n",
    "plt.scatter(guess,nonlinear_function(guess),label=\"guess 0\",c=\"red\", marker=\"^\", s=50)\n",
    "new_guess = guess-nonlinear_function(guess)/slope\n",
    "plt.scatter(new_guess,nonlinear_function(new_guess),marker=\"*\", label=\"guess 1\",c=\"green\", s=50)\n",
    "plt.plot(np.array([new_guess,new_guess]),np.array([0,nonlinear_function(new_guess)]),'r--')\n",
    "plt.scatter(1.94731,0,label=\"Root\", s=50)\n",
    "plt.legend(loc=\"best\")\n",
    "plt.xlabel(\"x\")\n",
    "plt.ylabel(\"y\")\n",
    "plt.title(\"Guess 0 and 1\")\n",
    "plt.show()"
   ]
  },
  {
   "cell_type": "markdown",
   "metadata": {
    "colab_type": "text",
    "id": "3NjrHJi43AxA"
   },
   "source": [
    "#### Iteration 2"
   ]
  },
  {
   "cell_type": "code",
   "execution_count": 27,
   "metadata": {
    "colab": {
     "base_uri": "https://localhost:8080/",
     "height": 328
    },
    "colab_type": "code",
    "executionInfo": {
     "elapsed": 704,
     "status": "ok",
     "timestamp": 1550589486458,
     "user": {
      "displayName": "Alexander Dowling",
      "photoUrl": "https://lh3.googleusercontent.com/-LChdQ2m5OQE/AAAAAAAAAAI/AAAAAAAAAA0/JeXJe4vQJ7M/s64/photo.jpg",
      "userId": "00988067626794866502"
     },
     "user_tz": 300
    },
    "id": "bJo0vWzw3AxB",
    "outputId": "babfc310-2a3c-4eed-bd06-4a9b8746e151"
   },
   "outputs": [
    {
     "name": "stdout",
     "output_type": "stream",
     "text": [
      "Guess 1 = 0.4592158749161699\n",
      "Guess 2 = -16.591800422397238\n"
     ]
    },
    {
     "data": {
      "image/png": "[encoded data removed]",
      "text/plain": [
       "<Figure size 432x288 with 1 Axes>"
      ]
     },
     "metadata": {
      "needs_background": "light"
     },
     "output_type": "display_data"
    }
   ],
   "source": [
    "X = np.linspace(-17,3,400)\n",
    "guess = new_guess\n",
    "print(\"Guess 1 =\",guess)\n",
    "slope = (nonlinear_function(guess) - nonlinear_function(guess-.0001))/(.0001)\n",
    "plt.plot(X,nonlinear_function(X),label=\"f(x)\")\n",
    "plt.plot(X,0*X,\"--\",label=\"y = 0\")\n",
    "plt.plot(X,nonlinear_function(guess) + slope*(X-guess),'k-.', label=\"Tangent at guess\")\n",
    "plt.plot(np.array([guess,guess]),np.array([0,nonlinear_function(guess)]),'r--')\n",
    "plt.scatter(guess,nonlinear_function(guess),label=\"guess $1$\",c=\"red\",marker=\"^\", s=50)\n",
    "new_guess = guess-nonlinear_function(guess)/slope\n",
    "print(\"Guess 2 =\",new_guess)\n",
    "plt.scatter(new_guess,nonlinear_function(new_guess),marker=\"*\",label=\"guess $2$\",c=\"green\", s=50)\n",
    "plt.plot(np.array([new_guess,new_guess]),np.array([0,nonlinear_function(new_guess)]),'r--')\n",
    "plt.scatter(1.94731,0,label=\"Root\", s=50)\n",
    "plt.legend(loc=\"best\")\n",
    "plt.axis([-17,3,-50,60])\n",
    "plt.xlabel(\"x\")\n",
    "plt.ylabel(\"y\")\n",
    "plt.title(\"Guess 1 and 2\")\n",
    "plt.show()"
   ]
  },
  {
   "cell_type": "markdown",
   "metadata": {
    "colab_type": "text",
    "id": "BNlVZINd3AxD"
   },
   "source": [
    "#### Iteration 3"
   ]
  },
  {
   "cell_type": "code",
   "execution_count": 28,
   "metadata": {
    "colab": {
     "base_uri": "https://localhost:8080/",
     "height": 328
    },
    "colab_type": "code",
    "executionInfo": {
     "elapsed": 589,
     "status": "ok",
     "timestamp": 1550589505524,
     "user": {
      "displayName": "Alexander Dowling",
      "photoUrl": "https://lh3.googleusercontent.com/-LChdQ2m5OQE/AAAAAAAAAAI/AAAAAAAAAA0/JeXJe4vQJ7M/s64/photo.jpg",
      "userId": "00988067626794866502"
     },
     "user_tz": 300
    },
    "id": "O_L94fdi3AxE",
    "outputId": "bb2cf57c-e27e-445f-ec83-e0137a1978da"
   },
   "outputs": [
    {
     "name": "stdout",
     "output_type": "stream",
     "text": [
      "Guess 2 = -16.591800422397238\n",
      "Guess 3 = -11.152177441789688\n"
     ]
    },
    {
     "data": {
      "image/png": "[encoded data removed]",
      "text/plain": [
       "<Figure size 432x288 with 1 Axes>"
      ]
     },
     "metadata": {
      "needs_background": "light"
     },
     "output_type": "display_data"
    }
   ],
   "source": [
    "X = np.linspace(-17,3,400)\n",
    "guess = new_guess\n",
    "print(\"Guess 2 =\",guess)\n",
    "slope = (nonlinear_function(guess) - nonlinear_function(guess-.0001))/(.0001)\n",
    "plt.plot(X,nonlinear_function(X),label=\"f(x)\")\n",
    "plt.plot(X,0*X,\"--\",label=\"y = 0\")\n",
    "plt.plot(X,nonlinear_function(guess) + slope*(X-guess),'k-.', label=\"Tangent at guess\")\n",
    "plt.plot(np.array([guess,guess]),np.array([0,nonlinear_function(guess)]),'r--')\n",
    "plt.scatter(guess,nonlinear_function(guess),label=\"guess $2$\",c=\"red\",marker=\"^\", s=50)\n",
    "new_guess = guess-nonlinear_function(guess)/slope\n",
    "print(\"Guess 3 =\",new_guess)\n",
    "plt.scatter(new_guess,nonlinear_function(new_guess),marker=\"*\",label=\"guess $3$\",c=\"green\", s=50)\n",
    "plt.plot(np.array([new_guess,new_guess]),np.array([0,nonlinear_function(new_guess)]),'r--')\n",
    "plt.scatter(1.94731,0,label=\"Root\", s=50)\n",
    "plt.legend(loc=\"best\")\n",
    "plt.axis([-17,3,-15000,1000])\n",
    "plt.xlabel(\"x\")\n",
    "plt.ylabel(\"y\")\n",
    "plt.title(\"Guess 2 and 3\")\n",
    "plt.show()"
   ]
  },
  {
   "cell_type": "markdown",
   "metadata": {},
   "source": [
    "<div style=\"background-color: rgba(0,255,0,0.05) ; padding: 10px; border: 1px solid darkgreen;\"> \n",
    "    <b>Home Activity</b>: Fill in 2 or 3 observations here.\n",
    "</div>"
   ]
  },
  {
   "cell_type": "markdown",
   "metadata": {},
   "source": [
    "**Describe your observations here:**\n",
    "1. Fill in...\n",
    "2. Fill in...\n",
    "3. Optional..."
   ]
  },
  {
   "cell_type": "markdown",
   "metadata": {
    "colab_type": "text",
    "id": "bItMMLQ53AxH"
   },
   "source": [
    "In hindsight, it's pretty amazing that it actually found the root.  This demonstrates that method has some robustness."
   ]
  },
  {
   "cell_type": "markdown",
   "metadata": {},
   "source": [
    "<div style=\"background-color: rgba(0,0,255,0.05) ; padding: 10px; border: 1px solid darkblue;\"> \n",
    "<b>Class Activity</b>: Share your observations with a partner. Then we'll regroup and discuss as a class.\n",
    "</div>"
   ]
  },
  {
   "cell_type": "markdown",
   "metadata": {
    "colab_type": "text",
    "id": "rQyG9MSo3AxY"
   },
   "source": [
    "The secant method is a variation on the theme of Newton's method. In this case we use the previous two guesses to construct the slope:\n",
    "\n",
    "$$f'(x_i) \\approx \\frac{f(x_i) - f(x_{i-1})}{x_i - x_{i-1}}.$$ \n",
    "\n",
    "The benefit of this is that it **does not require an additional function evaluation**. This will be a big savings if it takes a long time to do a function evaluation. One issue is that we need two points to get started.  Therefore, we can use **inexact Newton for the first step** and then **use secant from then on**.  Below is a graphical example."
   ]
  },
  {
   "cell_type": "markdown",
   "metadata": {},
   "source": [
    "<div style=\"background-color: rgba(0,0,255,0.05) ; padding: 10px; border: 1px solid darkblue;\"> \n",
    "<b>Class Activity</b>: With a partner, walk through the example below. Flip a figurative coin to decide who is \"Partner A\" and who is \"Partner B\".\n",
    "</div>"
   ]
  },
  {
   "cell_type": "markdown",
   "metadata": {
    "colab_type": "text",
    "id": "cEMPk9NA3AxZ"
   },
   "source": [
    "### 9e-i. Iteration 1\n",
    "\n",
    "Inexact Newton Step"
   ]
  },
  {
   "cell_type": "code",
   "execution_count": 28,
   "metadata": {
    "colab": {
     "base_uri": "https://localhost:8080/",
     "height": 311
    },
    "colab_type": "code",
    "executionInfo": {
     "elapsed": 646,
     "status": "ok",
     "timestamp": 1550590304438,
     "user": {
      "displayName": "Alexander Dowling",
      "photoUrl": "https://lh3.googleusercontent.com/-LChdQ2m5OQE/AAAAAAAAAAI/AAAAAAAAAA0/JeXJe4vQJ7M/s64/photo.jpg",
      "userId": "00988067626794866502"
     },
     "user_tz": 300
    },
    "id": "lEnF-3eY3Axb",
    "outputId": "56bcf487-973b-4c7e-a968-5c6597e6cfc2"
   },
   "outputs": [
    {
     "name": "stdout",
     "output_type": "stream",
     "text": [
      "Initial Guess = 1.3\n"
     ]
    },
    {
     "data": {
      "image/png": "[encoded data removed]",
      "text/plain": [
       "<Figure size 432x288 with 1 Axes>"
      ]
     },
     "metadata": {},
     "output_type": "display_data"
    }
   ],
   "source": [
    "X = np.linspace(1,3,Np)\n",
    "plt.plot(X,nonlinear_function(X),label=\"f(x)\")\n",
    "guess = 1.3\n",
    "print(\"Initial Guess =\",guess)\n",
    "slope = (nonlinear_function(guess) - nonlinear_function(guess-.0001))/(.0001)\n",
    "plt.plot(X,0*X,\"--\",label=\"y = 0\")\n",
    "plt.plot(X,nonlinear_function(guess) + slope*(X-guess),'k-.', label=\"Tangent at guess\")\n",
    "plt.plot(np.array([guess,guess]),np.array([0,nonlinear_function(guess)]),'r--')\n",
    "plt.scatter(guess,nonlinear_function(guess),label=\"guess 0\",c=\"red\", marker=\"^\", s=50)\n",
    "new_guess = guess-nonlinear_function(guess)/slope\n",
    "plt.scatter(new_guess,nonlinear_function(new_guess),marker=\"*\",label=\"guess 1\",c=\"red\", s=50)\n",
    "plt.plot(np.array([new_guess,new_guess]),np.array([0,nonlinear_function(new_guess)]),'r--')\n",
    "plt.scatter(1.94731,0,label=\"Root\", s=50)\n",
    "plt.legend(loc=\"best\")\n",
    "plt.xlabel(\"x\")\n",
    "plt.ylabel(\"y\")\n",
    "plt.title(\"Guess 0 and 1 (Same as Newton)\")\n",
    "plt.savefig(\"Secant-Methods1.pdf\")\n",
    "plt.show()"
   ]
  },
  {
   "cell_type": "markdown",
   "metadata": {},
   "source": [
    "<div style=\"background-color: rgba(0,0,255,0.05) ; padding: 10px; border: 1px solid darkblue;\"> \n",
    "<b>Class Activity</b>: Partner A: Describe in a few sentences the lines and points on the plot. What are the most important features?\n",
    "</div>"
   ]
  },
  {
   "cell_type": "markdown",
   "metadata": {
    "colab_type": "text",
    "id": "ogxVtH0q3Axd"
   },
   "source": [
    "### 9d-ii. Iteration 2\n",
    "\n",
    "Secant Method"
   ]
  },
  {
   "cell_type": "code",
   "execution_count": 29,
   "metadata": {
    "colab": {
     "base_uri": "https://localhost:8080/",
     "height": 328
    },
    "colab_type": "code",
    "executionInfo": {
     "elapsed": 949,
     "status": "ok",
     "timestamp": 1550590339975,
     "user": {
      "displayName": "Alexander Dowling",
      "photoUrl": "https://lh3.googleusercontent.com/-LChdQ2m5OQE/AAAAAAAAAAI/AAAAAAAAAA0/JeXJe4vQJ7M/s64/photo.jpg",
      "userId": "00988067626794866502"
     },
     "user_tz": 300
    },
    "id": "uhxyrPLb3Axe",
    "outputId": "e34f85c3-d313-4a3d-ea53-665d957b3e6a"
   },
   "outputs": [
    {
     "name": "stdout",
     "output_type": "stream",
     "text": [
      "Guess 1 = 2.3727105503764285\n",
      "Guess 2 = 1.7925464201668238\n"
     ]
    },
    {
     "data": {
      "image/png": "[encoded data removed]",
      "text/plain": [
       "<Figure size 432x288 with 1 Axes>"
      ]
     },
     "metadata": {},
     "output_type": "display_data"
    }
   ],
   "source": [
    "old_guess = guess\n",
    "guess = new_guess\n",
    "print(\"Guess 1 =\",guess)\n",
    "slope = (nonlinear_function(guess)-nonlinear_function(old_guess))/(guess - old_guess)\n",
    "plt.plot(X,nonlinear_function(X),label=\"f(x)\")\n",
    "plt.plot(X,0*X,\"--\",label=\"y = 0\")\n",
    "plt.plot(X,nonlinear_function(old_guess) + slope*(X-old_guess),'k-.', label=\"Secant\")\n",
    "plt.plot(np.array([guess,guess]),np.array([0,nonlinear_function(guess)]),'r--')\n",
    "plt.scatter(old_guess,nonlinear_function(old_guess),label=\"guess $0$\",c=\"red\", marker=\"^\", s=50)\n",
    "plt.scatter(guess,nonlinear_function(guess),marker=\"*\",label=\"guess $1$\",c=\"red\", s=50)\n",
    "new_guess = guess-nonlinear_function(guess)/slope\n",
    "print(\"Guess 2 =\",new_guess)\n",
    "plt.scatter(new_guess,nonlinear_function(new_guess),marker=\"x\", label=\"guess $2$\",c=\"red\", s=50)\n",
    "plt.plot(np.array([new_guess,new_guess]),np.array([0,nonlinear_function(new_guess)]),'r--')\n",
    "plt.scatter(1.94731,0,label=\"Root\", s=50)\n",
    "plt.legend(loc=\"best\")\n",
    "plt.xlabel(\"x\")\n",
    "plt.ylabel(\"y\")\n",
    "plt.title(\"Guess 1 and 2\")\n",
    "plt.savefig(\"Secant-Methods2.pdf\")\n",
    "plt.show()"
   ]
  },
  {
   "cell_type": "markdown",
   "metadata": {},
   "source": [
    "<div style=\"background-color: rgba(0,0,255,0.05) ; padding: 10px; border: 1px solid darkblue;\"> \n",
    "<b>Class Activity</b>: Swith roles! Partner B: Describe in a few sentences the lines and points on the plot. What are the most important features?\n",
    "</div>"
   ]
  },
  {
   "cell_type": "markdown",
   "metadata": {
    "colab_type": "text",
    "id": "B_eNL65u3Axg"
   },
   "source": [
    "### 9e-iii. Secant Method Algorithm"
   ]
  },
  {
   "cell_type": "markdown",
   "metadata": {},
   "source": [
    "We can now generalize the secant method (similar to inexact Newton)."
   ]
  },
  {
   "cell_type": "markdown",
   "metadata": {},
   "source": [
    "<div style=\"background-color: rgba(0,0,255,0.05) ; padding: 10px; border: 1px solid darkblue;\"> \n",
    "<b>Class Activity</b>: Run the code below.\n",
    "</div>"
   ]
  },
  {
   "cell_type": "code",
   "execution_count": 30,
   "metadata": {
    "colab": {},
    "colab_type": "code",
    "collapsed": true,
    "id": "h1Cqfvps3Axg",
    "jupyter": {
     "outputs_hidden": true
    }
   },
   "outputs": [],
   "source": [
    "def secant(f,x0,delta = 1.0e-7, epsilon=1.0e-6, LOUD=False):\n",
    "    \"\"\"Find the root of the function f via Newton-Raphson method\n",
    "    Args:\n",
    "        f: function to find root of\n",
    "        x0: initial guess\n",
    "        delta: finite difference parameter\n",
    "        epsilon: tolerance\n",
    "        \n",
    "    Returns:\n",
    "        estimate of root\n",
    "    \"\"\"\n",
    "    x = x0\n",
    "    if (LOUD):\n",
    "        print(\"x0 =\",x0)\n",
    "    \n",
    "    #first time use inexact Newton\n",
    "    x_old = x\n",
    "    fold = f(x_old)\n",
    "    fx = fold\n",
    "    slope = (f(x_old+delta) - fold)/delta\n",
    "    x = x - fold/slope\n",
    "    if (LOUD):\n",
    "        print(\"Inexact Newton\\nx_\",1,\"=\",x,\"-\",fx,\"/\",slope,\"=\",\n",
    "              x - fx/slope,\"\\nStarting Secant\")\n",
    "    fx = f(x)\n",
    "    iterations = 1 \n",
    "    \n",
    "    # now switch to secant method\n",
    "    while (np.fabs(fx) > epsilon):\n",
    "        # recall fx, x correspond with the last point,\n",
    "        # fold, and x_old correspond to the 2nd to last point\n",
    "        ### SWITCH ROLES. Discuss this line in depth.\n",
    "        slope = (fx - fold)/(x - x_old)\n",
    "        \n",
    "        # switch the history. overwrite fold with fx, etc.\n",
    "        fold = fx\n",
    "        x_old = x\n",
    "        if (LOUD):\n",
    "            print(\"x_\",iterations+1,\"=\",x,\"-\",fx,\"/\",slope,\"=\",x - fx/slope)\n",
    "        \n",
    "        # calculate new point\n",
    "        x = x - fx/slope\n",
    "        \n",
    "        # evaluate function f at new point\n",
    "        fx = f(x)\n",
    "        iterations += 1\n",
    "    print(\"It took\",iterations,\"iterations\")\n",
    "    return x #return estimate of root"
   ]
  },
  {
   "cell_type": "markdown",
   "metadata": {},
   "source": [
    "<div style=\"background-color: rgba(0,0,255,0.05) ; padding: 10px; border: 1px solid darkblue;\"> \n",
    "<b>Class Activity</b>: As a class, discuss the output below.\n",
    "</div>"
   ]
  },
  {
   "cell_type": "code",
   "execution_count": 31,
   "metadata": {
    "colab": {
     "base_uri": "https://localhost:8080/",
     "height": 926
    },
    "colab_type": "code",
    "executionInfo": {
     "elapsed": 397,
     "status": "ok",
     "timestamp": 1550590462074,
     "user": {
      "displayName": "Alexander Dowling",
      "photoUrl": "https://lh3.googleusercontent.com/-LChdQ2m5OQE/AAAAAAAAAAI/AAAAAAAAAA0/JeXJe4vQJ7M/s64/photo.jpg",
      "userId": "00988067626794866502"
     },
     "user_tz": 300
    },
    "id": "jsyxYpfA3Axh",
    "outputId": "2b8a589e-65ce-45c0-bd8c-239e0f420e9a"
   },
   "outputs": [
    {
     "name": "stdout",
     "output_type": "stream",
     "text": [
      "x0 = -1.5\n",
      "Inexact Newton\n",
      "x_ 1 = 0.45945970372823863 - -18.125 / 9.249998846883045 = 2.4189194074564773 \n",
      "Starting Secant\n",
      "x_ 2 = 0.45945970372823863 - -21.58411181208517 / -1.7653396012704734 = -11.767146325248616\n",
      "x_ 3 = -11.767146325248616 - -4572.272414110397 / 372.19554564146875 = 0.517451025937337\n",
      "x_ 4 = 0.517451025937337 - -21.636092826944633 / 370.4343081984803 = 0.5758583935814591\n",
      "x_ 5 = 0.5758583935814591 - -21.64317999154791 / -0.1213402501968484 = -177.79183045192954\n",
      "x_ 6 = -177.79183045192954 - -16795875.77015077 / 94164.21906726681 = 0.5760882386351796\n",
      "x_ 7 = 0.5760882386351796 - -21.643113428270524 / 94164.09772754615 = 0.5763180832782079\n",
      "x_ 8 = 0.5763180832782079 - -21.643046105986738 / 0.29290342772317585 = 74.46772411503576\n",
      "x_ 9 = 74.46772411503576 - 1249567.865555407 / 16911.161604699413 = 0.5775978916445297\n",
      "x_ 10 = 0.5775978916445297 - -21.642657354146493 / 16911.454507939132 = 0.5788776548573265\n",
      "x_ 11 = 0.5788776548573265 - -21.64224503667768 / 0.32218262307570056 = 67.7527209555017\n",
      "x_ 12 = 67.7527209555017 - 941864.7106306882 / 14021.623694511605 = 0.5804211455049284\n",
      "x_ 13 = 0.5804211455049284 - -21.641716329033667 / 14021.945876666903 = 0.5819645629820309\n",
      "x_ 14 = 0.5819645629820309 - -21.64115322951504 / 0.36483940798894693 = 59.89889347919898\n",
      "x_ 15 = 59.89889347919898 - 651585.9262034392 / 10985.18718453953 = 0.5839345934299374\n",
      "x_ 16 = 0.5839345934299374 - -21.640384379585317 / 10985.552023102788 = 0.5859044884642584\n",
      "x_ 17 = 0.5859044884642584 - -21.639559271520906 / 0.4188588985889314 = 52.249028620292705\n",
      "x_ 18 = 52.249028620292705 - 433092.10681333265 / 8383.421514878402 = 0.5884857208683698\n",
      "x_ 19 = 0.5884857208683698 - -21.638392636469074 / 8383.840372122675 = 0.5910666851611084\n",
      "x_ 20 = 0.5910666851611084 - -21.63712890979904 / 0.48963353487352523 = 44.78152213545623\n",
      "x_ 21 = 44.78152213545623 - 273179.4031658192 / 6182.354028960443 = 0.5945665055868687\n",
      "x_ 22 = 0.5945665055868687 - -21.635259448485936 / 6182.843658968668 = 0.5980657464931308\n",
      "x_ 23 = 0.5980657464931308 - -21.633210258063425 / 0.5856099872529278 = 37.539393129832206\n",
      "x_ 24 = 37.539393129832206 - 161312.93332909865 / 4367.319150857592 = 0.6030191766205846\n",
      "x_ 25 = 0.6030191766205846 - -21.63000019023632 / 4367.904752471265 = 0.6079712077238266\n",
      "x_ 26 = 0.6079712077238266 - -21.62642671045242 / 0.7216190103409444 = 30.57728520935268\n",
      "x_ 27 = 30.57728520935268 - 87463.6213838629 / 2919.1608391776494 = 0.6153796473069484\n",
      "x_ 28 = 0.6153796473069484 - -21.62039576403625 / 2919.882435329779 = 0.6227841905524008\n",
      "x_ 29 = 0.6227841905524008 - -21.61354115179509 / 0.9257305972747973 = 23.970333915517628\n",
      "x_ 30 = 23.970333915517628 - 42327.70318272215 / 1813.8655757349295 = 0.6346999253460552\n",
      "x_ 31 = 0.6346999253460552 - -21.600756475157773 / 1814.7912311717714 = 0.6466025376708958\n",
      "x_ 32 = 0.6466025376708958 - -21.585799447975067 / 1.2566171840690419 = 17.824307666673082\n",
      "x_ 33 = 17.824307666673082 - 17514.955818522834 / 1020.8896640310104 = 0.6677466438446622\n",
      "x_ 34 = 0.6677466438446622 - -21.553746259007692 / 1022.1459616206222 = 0.6888334035329107\n",
      "x_ 35 = 0.6888334035329107 - -21.51464740450111 / 1.854189789452258 = 12.292094044320228\n",
      "x_ 36 = 12.292094044320228 - 5792.573771179393 / 501.07367218370007 = 0.7317704976147841\n",
      "x_ 37 = 0.7317704976147841 - -21.41231327072709 / 502.9258965772664 = 0.7743459812326523\n",
      "x_ 38 = 0.7743459812326523 - -21.279585781409114 / 3.1174628692243904 = 7.600276769849669\n",
      "x_ 39 = 7.600276769849669 - 1374.5989113856463 / 204.49643285203462 = 0.8784044505400672\n",
      "x_ 40 = 0.8784044505400672 - -20.815517686382446 / 207.59311733183154 = 0.9786752011021365\n",
      "x_ 41 = 0.9786752011021365 - -20.165625265822577 / 6.4813758440710485 = 4.089993808596475\n",
      "x_ 42 = 4.089993808596475 - 198.2589845333879 / 70.20322806963058 = 1.2659216115637957\n",
      "x_ 43 = 1.2659216115637957 - -17.038356384386738 / 76.23648614365905 = 1.489415075733693\n",
      "x_ 44 = 1.489415075733693 - -13.098196568846795 / 17.629865956816865 = 2.2323700477641055\n",
      "x_ 45 = 2.2323700477641055 - 12.179989691888686 / 34.02384695219555 = 1.8743861399184727\n",
      "x_ 46 = 1.8743861399184727 - -2.5893098299830726 / 41.25688110047803 = 1.9371468179173017\n",
      "x_ 47 = 1.9371468179173017 - -0.373008559996471 / 35.313532942202336 = 1.9477095832063758\n",
      "x_ 48 = 1.9477095832063758 - 0.01493056768908474 / 36.727042310296596 = 1.9473030552980586\n",
      "x_ 49 = 1.9473030552980586 - -8.049694172029831e-05 / 36.92505317271554 = 1.947305235306882\n",
      "It took 49 iterations\n"
     ]
    }
   ],
   "source": [
    "root = secant(nonlinear_function,-1.5,LOUD=True)"
   ]
  },
  {
   "cell_type": "markdown",
   "metadata": {
    "colab_type": "text",
    "id": "19Jf5cqC3Axj"
   },
   "source": [
    "Secant is not quite as good as Newton (it took an additional iteration), but it does not need to know the derivative. Additionally, as mentioned above, there are fewer function evaluations (per iteration) than inexact Newton."
   ]
  },
  {
   "cell_type": "markdown",
   "metadata": {
    "colab_type": "text",
    "id": "O6Pn-3vr3Axk"
   },
   "source": [
    "Newton's method, including it's inexact variant, and the secant method can both converge slowly in the presence of the following:\n",
    "<ul>\n",
    "<li>Multiple roots or closely spaced roots\n",
    "<li>Complex roots\n",
    "<li>Bad initial guess (we saw this one already in the example where the guesses went the wrong way at first)\n",
    "</ul>"
   ]
  },
  {
   "cell_type": "markdown",
   "metadata": {},
   "source": [
    "<div style=\"background-color: rgba(255,0,0,0.05) ; padding: 10px; border: 1px solid darkgreen;\"> \n",
    "<b>Note</b>: There are no Home Activities in this section. We will walk through the examples quickly in class together.\n",
    "</div>"
   ]
  },
  {
   "cell_type": "markdown",
   "metadata": {
    "colab_type": "text",
    "id": "_IPhoUa83Axl"
   },
   "source": [
    "### 9f-i. Example 1: Multiple Roots, overlapping\n",
    "\n",
    "The function $$f(x) = x^7$$ has multiple roots at 0. Let's see how it converges with Newton.\n",
    "\n",
    "Notice I switch from $c(x) = 0$ to $f(x) = 0$. People use them interchangeably for canonical form."
   ]
  },
  {
   "cell_type": "code",
   "execution_count": 32,
   "metadata": {
    "colab": {
     "base_uri": "https://localhost:8080/",
     "height": 531
    },
    "colab_type": "code",
    "executionInfo": {
     "elapsed": 368,
     "status": "ok",
     "timestamp": 1550590641514,
     "user": {
      "displayName": "Alexander Dowling",
      "photoUrl": "https://lh3.googleusercontent.com/-LChdQ2m5OQE/AAAAAAAAAAI/AAAAAAAAAA0/JeXJe4vQJ7M/s64/photo.jpg",
      "userId": "00988067626794866502"
     },
     "user_tz": 300
    },
    "id": "5zInHGEp3Axm",
    "outputId": "c1021ae3-ceb1-4038-c509-456b000df2a2"
   },
   "outputs": [
    {
     "name": "stdout",
     "output_type": "stream",
     "text": [
      "x0 = 1.0\n",
      "x_ 1 = 1.0 - 1.0 / 7.0 = 0.8571428571428572\n",
      "x_ 2 = 0.8571428571428572 - 0.33991667708911394 / 2.7759861962277634 = 0.7346938775510204\n",
      "x_ 3 = 0.7346938775510204 - 0.11554334736330486 / 1.1008713373781547 = 0.6297376093294461\n",
      "x_ 4 = 0.6297376093294461 - 0.03927511069548781 / 0.43657194805493627 = 0.5397750937109538\n",
      "x_ 5 = 0.5397750937109538 - 0.013350265119917321 / 0.1731311002086809 = 0.4626643660379604\n",
      "x_ 6 = 0.4626643660379604 - 0.004537977757820996 / 0.0686585063310034 = 0.3965694566039661\n",
      "x_ 7 = 0.3965694566039661 - 0.0015425343201428206 / 0.027227866546925984 = 0.3399166770891138\n",
      "x_ 8 = 0.3399166770891138 - 0.0005243331403988625 / 0.01079774024099974 = 0.29135715179066896\n",
      "x_ 9 = 0.29135715179066896 - 0.00017822957877208114 / 0.004282053979924045 = 0.2497347015348591\n",
      "x_ 10 = 0.2497347015348591 - 6.058320617519827e-05 / 0.0016981318199673287 = 0.2140583156013078\n",
      "x_ 11 = 0.2140583156013078 - 2.0593242130478076e-05 / 0.0006734272130863475 = 0.18347855622969242\n",
      "x_ 12 = 0.18347855622969242 - 6.9999864354836515e-06 / 0.00026706066395597614 = 0.15726733391116493\n",
      "x_ 13 = 0.15726733391116493 - 2.3794121288184727e-06 / 0.00010590810238531585 = 0.13480057192385567\n",
      "x_ 14 = 0.13480057192385567 - 8.088018642535101e-07 / 4.199991861290193e-05 = 0.11554334736330486\n",
      "x_ 15 = 0.11554334736330486 - 2.749252421205337e-07 / 1.665588490172932e-05 = 0.09903715488283274\n",
      "x_ 16 = 0.09903715488283274 - 9.345167474953186e-08 / 6.605215224736998e-06 = 0.08488898989957092\n",
      "x_ 17 = 0.08488898989957092 - 3.176578274927349e-08 / 2.619426612426194e-06 = 0.07276199134248935\n",
      "x_ 18 = 0.07276199134248935 - 1.0797719317267736e-08 / 1.0387845883038232e-06 = 0.06236742115070516\n",
      "x_ 19 = 0.06236742115070516 - 3.670324870466584e-09 / 4.1195023971222183e-07 = 0.053457789557747284\n",
      "x_ 20 = 0.053457789557747284 - 1.2476046338065332e-09 / 1.633668827105494e-07 = 0.045820962478069105\n",
      "x_ 21 = 0.045820962478069105 - 4.240816214444976e-10 / 6.478631590360645e-08 = 0.0392751106954878\n",
      "x_ 22 = 0.0392751106954878 - 1.44152415575977e-10 / 2.5692274093266084e-08 = 0.0336643805961324\n",
      "x_ 23 = 0.0336643805961324 - 4.8999810096955105e-11 / 1.0188771176086686e-08 = 0.028855183368113487\n",
      "x_ 24 = 0.028855183368113487 - 1.6655852626154586e-11 / 4.04055544876285e-09 = 0.024733014315525846\n",
      "x_ 25 = 0.024733014315525846 - 5.661602078768455e-12 / 1.6023608786940773e-09 = 0.021199726556165012\n",
      "x_ 26 = 0.021199726556165012 - 1.9244729656157925e-12 / 6.35447382947164e-10 = 0.018171194190998583\n",
      "It took 26 iterations\n",
      "The root estimate is 0.018171194190998583 \n",
      "f( 0.018171194190998583 ) = 6.541604556199529e-13\n"
     ]
    }
   ],
   "source": [
    "# define function\n",
    "mult_root = lambda x: 1.0*x**7\n",
    "\n",
    "# define first derivative\n",
    "Dmult_root = lambda x: 7.0*x**6\n",
    "\n",
    "# solve with Newton's method\n",
    "root = newton(mult_root,Dmult_root,1.0,epsilon=1.0e-12,LOUD=True)\n",
    "print(\"The root estimate is\",root,\"\\nf(\",root,\") =\",mult_root(root))"
   ]
  },
  {
   "cell_type": "markdown",
   "metadata": {
    "colab_type": "text",
    "id": "CCLcF_CO3Axo"
   },
   "source": [
    "### 9f-ii. Example 2: Multiple roots, spaced far apart"
   ]
  },
  {
   "cell_type": "markdown",
   "metadata": {
    "colab_type": "text",
    "id": "Su7iQTw_3Axp"
   },
   "source": [
    "Now consider\n",
    "\n",
    "$$f(x) = \\sin(x),$$\n",
    "\n",
    "which has multiple roots that are spaced far apart. We'll see Newton's method converge fast in this case."
   ]
  },
  {
   "cell_type": "code",
   "execution_count": 33,
   "metadata": {
    "colab": {
     "base_uri": "https://localhost:8080/",
     "height": 154
    },
    "colab_type": "code",
    "executionInfo": {
     "elapsed": 312,
     "status": "ok",
     "timestamp": 1550590786788,
     "user": {
      "displayName": "Alexander Dowling",
      "photoUrl": "https://lh3.googleusercontent.com/-LChdQ2m5OQE/AAAAAAAAAAI/AAAAAAAAAA0/JeXJe4vQJ7M/s64/photo.jpg",
      "userId": "00988067626794866502"
     },
     "user_tz": 300
    },
    "id": "_R7e77H53Axq",
    "outputId": "83b5597d-90fd-4efd-ac0d-20bbc356f6d3"
   },
   "outputs": [
    {
     "name": "stdout",
     "output_type": "stream",
     "text": [
      "x0 = 1.0\n",
      "x_ 1 = 1.0 - 0.8414709848078965 / 0.5403023058681398 = -0.5574077246549021\n",
      "x_ 2 = -0.5574077246549021 - -0.5289880970896319 / 0.8486292436261492 = 0.06593645192484066\n",
      "x_ 3 = 0.06593645192484066 - 0.06588868458420974 / 0.9978269796130803 = -9.572191932508134e-05\n",
      "x_ 4 = -9.572191932508134e-05 - -9.572191917890302e-05 / 0.9999999954186571 = 2.923566201412306e-13\n",
      "It took 4 iterations\n",
      "The root estimate is 2.923566201412306e-13 \n",
      "f( 2.923566201412306e-13 ) = 2.923566201412306e-13\n"
     ]
    }
   ],
   "source": [
    "# define function\n",
    "mult_root = lambda x: np.sin(x)\n",
    "\n",
    "# define derivative\n",
    "Dmult_root = lambda x: np.cos(x)\n",
    "\n",
    "# call Newton's method\n",
    "root = newton(mult_root,Dmult_root,1.0,LOUD=True, epsilon=1e-12)\n",
    "print(\"The root estimate is\",root,\"\\nf(\",root,\") =\",mult_root(root))"
   ]
  },
  {
   "cell_type": "markdown",
   "metadata": {
    "colab_type": "text",
    "id": "9pxmRCAW3Axu"
   },
   "source": [
    "### 9f-iii. Example 3: Complex roots near the real root"
   ]
  },
  {
   "cell_type": "markdown",
   "metadata": {
    "colab_type": "text",
    "id": "-P0Rue3Z3Axv"
   },
   "source": [
    "For the case of complex roots let's consider a function that has complex roots near the actual root.  One such function is\n",
    "$$ f(x) = x(x-1)(x-3) + 3.$$\n",
    "The derivative of this function is \n",
    "$$ f'(x) =3x^3 - 8x  + 3.$$\n",
    "The root is at $x= -0.546818$."
   ]
  },
  {
   "cell_type": "code",
   "execution_count": 34,
   "metadata": {
    "colab": {
     "base_uri": "https://localhost:8080/",
     "height": 294
    },
    "colab_type": "code",
    "executionInfo": {
     "elapsed": 615,
     "status": "ok",
     "timestamp": 1550590809007,
     "user": {
      "displayName": "Alexander Dowling",
      "photoUrl": "https://lh3.googleusercontent.com/-LChdQ2m5OQE/AAAAAAAAAAI/AAAAAAAAAA0/JeXJe4vQJ7M/s64/photo.jpg",
      "userId": "00988067626794866502"
     },
     "user_tz": 300
    },
    "id": "R7bq8zSQ3Axw",
    "outputId": "3ba50bb5-da7d-4492-b273-af648887f9e5"
   },
   "outputs": [
    {
     "data": {
      "image/png": "[encoded data removed]",
      "text/plain": [
       "<Figure size 432x288 with 1 Axes>"
      ]
     },
     "metadata": {},
     "output_type": "display_data"
    }
   ],
   "source": [
    "x = np.linspace(-1,4,200)\n",
    "comp_root = lambda x: x*(x-1)*(x-3) + 3\n",
    "d_comp_root = lambda x: 3*x**2 - 8*x + 3\n",
    "plt.plot(x, comp_root(x),'-',label=\"f(x)\")\n",
    "plt.plot(x,0*x,label=\"f(x)=0\")\n",
    "plt.legend(loc=\"best\")\n",
    "plt.xlabel(\"x\")\n",
    "plt.ylabel(\"y\")\n",
    "plt.title(\"Function with one real and two imaginary roots\")\n",
    "plt.show()"
   ]
  },
  {
   "cell_type": "code",
   "execution_count": 35,
   "metadata": {
    "colab": {
     "base_uri": "https://localhost:8080/",
     "height": 840
    },
    "colab_type": "code",
    "executionInfo": {
     "elapsed": 327,
     "status": "ok",
     "timestamp": 1550590840729,
     "user": {
      "displayName": "Alexander Dowling",
      "photoUrl": "https://lh3.googleusercontent.com/-LChdQ2m5OQE/AAAAAAAAAAI/AAAAAAAAAA0/JeXJe4vQJ7M/s64/photo.jpg",
      "userId": "00988067626794866502"
     },
     "user_tz": 300
    },
    "id": "c0PhwS963Axz",
    "outputId": "ba470d3d-8171-459c-ba5e-07ff9d800320"
   },
   "outputs": [
    {
     "name": "stdout",
     "output_type": "stream",
     "text": [
      "x0 = 2.0\n",
      "x_ 1 = 2.0 - 1.0 / -1.0 = 3.0\n",
      "x_ 2 = 3.0 - 3.0 / 6.0 = 2.5\n",
      "x_ 3 = 2.5 - 1.125 / 1.75 = 1.8571428571428572\n",
      "x_ 4 = 1.8571428571428572 - 1.1807580174927113 / -1.5102040816326543 = 2.6389961389961383\n",
      "x_ 5 = 2.6389961389961383 - 1.4385483817495095 / 2.780932752940469 = 2.1217062547914827\n",
      "x_ 6 = 2.1217062547914827 - 0.9097213333636254 / -0.4687377434679618 = 4.062495845646789\n",
      "x_ 7 = 4.062495845646789 - 16.218911005018263 / 20.01165072251795 = 3.2520224254422248\n",
      "x_ 8 = 3.2520224254422248 - 4.845718347978311 / 8.71077016319959 = 2.69573196464577\n",
      "x_ 9 = 2.69573196464577 - 1.6091181327603166 / 3.235056758472666 = 2.1983316861047486\n",
      "x_ 10 = 2.1983316861047486 - 0.8881406969735082 / -0.08866688244154908 = 12.21493171215154\n",
      "x_ 11 = 12.21493171215154 - 1265.3500398359906 / 352.89421650036365 = 8.629296185493123\n",
      "x_ 12 = 8.629296185493123 - 373.6072839850617 / 157.35988848695354 = 6.255074345497114\n",
      "x_ 13 = 6.255074345497114 - 109.99716055272572 / 70.33727043911153 = 4.691221215200477\n",
      "x_ 14 = 4.691221215200477 - 32.28575358617576 / 31.492899748237292 = 3.6660455773812615\n",
      "x_ 15 = 3.6660455773812615 - 9.509825968546561 / 13.991305907260028 = 2.98635019858092\n",
      "x_ 16 = 2.98635019858092 - 2.919030233688295 / 5.86406093704554 = 2.4885671323703265\n",
      "x_ 17 = 2.4885671323703265 - 1.1054484738704906 / 1.6703620579789984 = 1.826765417831867\n",
      "x_ 18 = 1.826765417831867 - 1.2280562150840852 / -1.6029076672956304 = 2.592908246979362\n",
      "x_ 19 = 2.592908246979362 - 1.318603209095002 / 2.426253555925868 = 2.0494352839518775\n",
      "x_ 20 = 2.0494352839518775 - 0.955573222932109 / -0.7949273222942814 = 3.2515240738731737\n",
      "x_ 21 = 3.2515240738731737 - 4.8413787514200495 / 8.705033817945008 = 2.695365550808073\n",
      "x_ 22 = 2.695365550808073 - 1.607933311892328 / 3.2320619509841393 = 2.197870968006922\n",
      "x_ 23 = 2.197870968006922 - 0.8881820981298101 / -0.09105736803232034 = 11.951964648976864\n",
      "x_ 24 = 11.951964648976864 - 1174.789741804964 / 335.932659719363 = 8.454865728061048\n",
      "x_ 25 = 8.454865728061048 - 346.81957999395 / 149.81533761413542 = 6.139885262661577\n",
      "x_ 26 = 6.139885262661577 - 102.0894592205901 / 66.97549101465387 = 4.61560440000611\n",
      "x_ 27 = 4.61560440000611 - 29.96152866534621 / 29.986576732018413 = 3.61643970931454\n",
      "x_ 28 = 3.61643970931454 - 8.832873636384438 / 13.304390838804785 = 2.952533052978071\n",
      "x_ 29 = 2.952533052978071 - 2.72635692486304 / 5.532089862959463 = 2.4597071964934223\n",
      "x_ 30 = 2.4597071964934223 - 1.060104463143956 / 1.4728209054972154 = 1.739928940232135\n",
      "x_ 31 = 1.739928940232135 - 1.3777545571655414 / -1.8373733706851194 = 2.4897790137922\n",
      "x_ 32 = 2.4897790137922 - 1.1074778463213586 / 1.6787665022225795 = 1.830081643815417\n",
      "x_ 33 = 1.830081643815417 - 1.2227569268413518 / -1.5930566814329197 = 2.597635580277683\n",
      "x_ 34 = 2.597635580277683 - 1.33015746969678 / 2.462047181552265 = 2.057370763395439\n",
      "x_ 35 = 2.057370763395439 - 0.9494008759780943 / -0.7606427329405179 = 3.305526875145654\n",
      "x_ 36 = 3.305526875145654 - 5.328414524884437 / 9.335308765765348 = 2.73474612663684\n",
      "x_ 37 = 2.73474612663684 - 1.7416116854656012 / 3.5585401183708782 = 2.245328661178302\n",
      "x_ 38 = 2.245328661178302 - 0.8898090309033133 / 0.16187310069982175 = -3.2516256014905736\n",
      "x_ 39 = -3.2516256014905736 - -83.4268150302328 / 60.73221196873139 = -1.877942471470775\n",
      "x_ 40 = -1.877942471470775 - -23.36337860032529 / 28.60354355022749 = -1.0611423236394595\n",
      "x_ 41 = -1.0611423236394595 - -5.882389790601181 / 14.86720768217253 = -0.6654802789331873\n",
      "x_ 42 = -0.6654802789331873 - -1.062614102742372 / 9.652434236412477 = -0.5553925977621718\n",
      "x_ 43 = -0.5553925977621718 - -0.07133846535161004 / 8.368523595044415 = -0.5468679799438203\n",
      "x_ 44 = -0.5468679799438203 - -0.0004111366150030271 / 8.272137602014066 = -0.5468182785685793\n",
      "It took 44 iterations\n",
      "The root estimate is -0.5468182785685793 \n",
      "f( -0.5468182785685793 ) = -0.5199720922936206\n"
     ]
    }
   ],
   "source": [
    "root = newton(comp_root,d_comp_root,2.0,LOUD=True)\n",
    "print(\"The root estimate is\",root,\"\\nf(\",root,\") =\",mult_root(root))"
   ]
  },
  {
   "cell_type": "markdown",
   "metadata": {
    "colab_type": "text",
    "id": "2hEgPfzo3Ax1"
   },
   "source": [
    "This converged slowly. This is because the complex roots at $x=2.2734\\pm0.5638 i$ make the slope of the function change so that tangents don't necessarily point to a true root. \n",
    "\n",
    "We can see this graphically by looking at each iteration."
   ]
  },
  {
   "cell_type": "markdown",
   "metadata": {
    "colab_type": "text",
    "id": "9Mh6zb0l3Ax2"
   },
   "source": [
    "#### Iteration 1"
   ]
  },
  {
   "cell_type": "code",
   "execution_count": 36,
   "metadata": {
    "colab": {
     "base_uri": "https://localhost:8080/",
     "height": 311
    },
    "colab_type": "code",
    "executionInfo": {
     "elapsed": 659,
     "status": "ok",
     "timestamp": 1550590849428,
     "user": {
      "displayName": "Alexander Dowling",
      "photoUrl": "https://lh3.googleusercontent.com/-LChdQ2m5OQE/AAAAAAAAAAI/AAAAAAAAAA0/JeXJe4vQJ7M/s64/photo.jpg",
      "userId": "00988067626794866502"
     },
     "user_tz": 300
    },
    "id": "nG3bfRzz3Ax3",
    "outputId": "c0f78371-0b65-4df2-cbea-a5b0b5fd6957"
   },
   "outputs": [
    {
     "name": "stdout",
     "output_type": "stream",
     "text": [
      "Initial Guess = 2\n"
     ]
    },
    {
     "data": {
      "image/png": "[encoded data removed]",
      "text/plain": [
       "<Figure size 432x288 with 1 Axes>"
      ]
     },
     "metadata": {},
     "output_type": "display_data"
    }
   ],
   "source": [
    "X = np.linspace(-1,4,Np)\n",
    "plt.plot(X,comp_root(X),label=\"f(x)\")\n",
    "guess = 2\n",
    "print(\"Initial Guess =\",guess)\n",
    "slope = d_comp_root(guess)\n",
    "plt.plot(X,0*X,\"--\",label=\"y = 0\")\n",
    "plt.plot(X,comp_root(guess) + slope*(X-guess), label=\"Tangent at guess\")\n",
    "plt.plot(np.array([guess,guess]),np.array([0,nonlinear_function(guess)]),'r--')\n",
    "plt.scatter(guess,comp_root(guess),label=\"guess 0\",c=\"red\")\n",
    "new_guess = guess-comp_root(guess)/slope\n",
    "plt.scatter(new_guess,comp_root(new_guess),marker=\"*\",label=\"guess 1\",c=\"red\")\n",
    "plt.plot(np.array([new_guess,new_guess]),np.array([0,comp_root(new_guess)]),'r--')\n",
    "plt.scatter(-0.546818,0,label=\"Root\")\n",
    "plt.legend(loc=\"best\")\n",
    "plt.xlabel(\"x\")\n",
    "plt.ylabel(\"y\")\n",
    "plt.title(\"Guess 0 and 1\")\n",
    "plt.show()"
   ]
  },
  {
   "cell_type": "markdown",
   "metadata": {},
   "source": [
    "#### Iteration 2"
   ]
  },
  {
   "cell_type": "code",
   "execution_count": 37,
   "metadata": {
    "colab": {
     "base_uri": "https://localhost:8080/",
     "height": 328
    },
    "colab_type": "code",
    "executionInfo": {
     "elapsed": 545,
     "status": "ok",
     "timestamp": 1550590879167,
     "user": {
      "displayName": "Alexander Dowling",
      "photoUrl": "https://lh3.googleusercontent.com/-LChdQ2m5OQE/AAAAAAAAAAI/AAAAAAAAAA0/JeXJe4vQJ7M/s64/photo.jpg",
      "userId": "00988067626794866502"
     },
     "user_tz": 300
    },
    "id": "zKl8cv5s3Ax5",
    "outputId": "b6bb57f2-1515-4986-ab1c-c6d707013c7e"
   },
   "outputs": [
    {
     "name": "stdout",
     "output_type": "stream",
     "text": [
      "Guess 1 = 3.0\n",
      "Guess 2 = 2.5\n"
     ]
    },
    {
     "data": {
      "image/png": "[encoded data removed]",
      "text/plain": [
       "<Figure size 432x288 with 1 Axes>"
      ]
     },
     "metadata": {},
     "output_type": "display_data"
    }
   ],
   "source": [
    "guess = new_guess\n",
    "print(\"Guess 1 =\",guess)\n",
    "slope = d_comp_root(guess)\n",
    "plt.plot(X,comp_root(X),label=\"f(x)\")\n",
    "plt.plot(X,0*X,\"--\",label=\"y = 0\")\n",
    "plt.plot(X,comp_root(guess) + slope*(X-guess), label=\"Tangent at guess\")\n",
    "plt.plot(np.array([guess,guess]),np.array([0,comp_root(guess)]),'r--')\n",
    "plt.scatter(guess,comp_root(guess),label=\"guess $1$\",c=\"red\")\n",
    "new_guess = guess-comp_root(guess)/slope\n",
    "print(\"Guess 2 =\",new_guess)\n",
    "plt.scatter(new_guess,comp_root(new_guess),marker=\"*\",label=\"guess $2$\",c=\"red\")\n",
    "plt.plot(np.array([new_guess,new_guess]),np.array([0,comp_root(new_guess)]),'r--')\n",
    "plt.scatter(-0.546818,0,label=\"Root\")\n",
    "plt.legend(loc=\"best\")\n",
    "plt.xlabel(\"x\")\n",
    "plt.ylabel(\"y\")\n",
    "plt.title(\"Guess 1 and 2\")\n",
    "plt.show()"
   ]
  },
  {
   "cell_type": "markdown",
   "metadata": {},
   "source": [
    "#### Iteration 3"
   ]
  },
  {
   "cell_type": "code",
   "execution_count": 38,
   "metadata": {
    "colab": {
     "base_uri": "https://localhost:8080/",
     "height": 328
    },
    "colab_type": "code",
    "executionInfo": {
     "elapsed": 522,
     "status": "ok",
     "timestamp": 1550590896085,
     "user": {
      "displayName": "Alexander Dowling",
      "photoUrl": "https://lh3.googleusercontent.com/-LChdQ2m5OQE/AAAAAAAAAAI/AAAAAAAAAA0/JeXJe4vQJ7M/s64/photo.jpg",
      "userId": "00988067626794866502"
     },
     "user_tz": 300
    },
    "id": "N2B9_uM33Ax7",
    "outputId": "dc65db44-b769-4cf8-825f-43d91a938f28"
   },
   "outputs": [
    {
     "name": "stdout",
     "output_type": "stream",
     "text": [
      "Guess 2 = 2.5\n",
      "Guess 3 = 1.8571428571428572\n"
     ]
    },
    {
     "data": {
      "image/png": "[encoded data removed]",
      "text/plain": [
       "<Figure size 432x288 with 1 Axes>"
      ]
     },
     "metadata": {},
     "output_type": "display_data"
    }
   ],
   "source": [
    "guess = new_guess\n",
    "print(\"Guess 2 =\",guess)\n",
    "slope = d_comp_root(guess)\n",
    "plt.plot(X,comp_root(X),label=\"f(x)\")\n",
    "plt.plot(X,0*X,\"--\",label=\"y = 0\")\n",
    "plt.plot(X,comp_root(guess) + slope*(X-guess), label=\"Tangent at guess\")\n",
    "plt.plot(np.array([guess,guess]),np.array([0,comp_root(guess)]),'r--')\n",
    "plt.scatter(guess,comp_root(guess),label=\"guess $2$\",c=\"red\")\n",
    "new_guess = guess-comp_root(guess)/slope\n",
    "print(\"Guess 3 =\",new_guess)\n",
    "plt.scatter(new_guess,comp_root(new_guess),marker=\"*\",label=\"guess $3$\",c=\"red\")\n",
    "plt.plot(np.array([new_guess,new_guess]),np.array([0,comp_root(new_guess)]),'r--')\n",
    "plt.scatter(-0.546818,0,label=\"Root\")\n",
    "plt.legend(loc=\"best\")\n",
    "plt.xlabel(\"x\")\n",
    "plt.ylabel(\"y\")\n",
    "plt.title(\"Guess 2 and 3\")\n",
    "plt.show()"
   ]
  },
  {
   "cell_type": "code",
   "execution_count": 39,
   "metadata": {
    "colab": {
     "base_uri": "https://localhost:8080/",
     "height": 328
    },
    "colab_type": "code",
    "executionInfo": {
     "elapsed": 630,
     "status": "ok",
     "timestamp": 1550590901463,
     "user": {
      "displayName": "Alexander Dowling",
      "photoUrl": "https://lh3.googleusercontent.com/-LChdQ2m5OQE/AAAAAAAAAAI/AAAAAAAAAA0/JeXJe4vQJ7M/s64/photo.jpg",
      "userId": "00988067626794866502"
     },
     "user_tz": 300
    },
    "id": "8FL0jzWt3Ax8",
    "outputId": "f2288bda-3b49-45ca-c670-0f185a2c5d2b"
   },
   "outputs": [
    {
     "name": "stdout",
     "output_type": "stream",
     "text": [
      "Guess 3 = 1.8571428571428572\n",
      "Guess 4 = 2.6389961389961383\n"
     ]
    },
    {
     "data": {
      "image/png": "[encoded data removed]",
      "text/plain": [
       "<Figure size 432x288 with 1 Axes>"
      ]
     },
     "metadata": {},
     "output_type": "display_data"
    }
   ],
   "source": [
    "guess = new_guess\n",
    "print(\"Guess 3 =\",guess)\n",
    "slope = d_comp_root(guess)\n",
    "plt.plot(X,comp_root(X),label=\"f(x)\")\n",
    "plt.plot(X,0*X,\"--\",label=\"y = 0\")\n",
    "plt.plot(X,comp_root(guess) + slope*(X-guess), label=\"Tangent at guess\")\n",
    "plt.plot(np.array([guess,guess]),np.array([0,comp_root(guess)]),'r--')\n",
    "plt.scatter(guess,comp_root(guess),label=\"guess $3$\",c=\"red\")\n",
    "new_guess = guess-comp_root(guess)/slope\n",
    "print(\"Guess 4 =\",new_guess)\n",
    "plt.scatter(new_guess,comp_root(new_guess),marker=\"*\",label=\"guess $4$\",c=\"red\")\n",
    "plt.plot(np.array([new_guess,new_guess]),np.array([0,comp_root(new_guess)]),'r--')\n",
    "plt.scatter(-0.546818,0,label=\"Root\")\n",
    "plt.legend(loc=\"best\")\n",
    "plt.xlabel(\"x\")\n",
    "plt.ylabel(\"y\")\n",
    "plt.title(\"Guess 3 and 4\")\n",
    "plt.show()"
   ]
  },
  {
   "cell_type": "markdown",
   "metadata": {
    "colab_type": "text",
    "id": "H8sqkTfC3Ax-"
   },
   "source": [
    "Notice that the presence of the complex root causes the solution to oscillate around the local minimum of the function. Eventually, the method will converge on the root, but it takes many iterations to do so. The upside, however, is that it does eventually converge."
   ]
  }
 ],
 "metadata": {
  "colab": {
   "collapsed_sections": [],
   "name": "L11-Newton-Method-Nonlinear-Equation-Solving.ipynb",
   "provenance": [],
   "version": "0.3.2"
  },
  "kernelspec": {
   "display_name": "Python 3 (ipykernel)",
   "language": "python",
   "name": "python3"
  },
  "language_info": {
   "codemirror_mode": {
    "name": "ipython",
    "version": 3
   },
   "file_extension": ".py",
   "mimetype": "text/x-python",
   "name": "python",
   "nbconvert_exporter": "python",
   "pygments_lexer": "ipython3",
   "version": "3.9.12"
  }
 },
 "nbformat": 4,
 "nbformat_minor": 4
}
