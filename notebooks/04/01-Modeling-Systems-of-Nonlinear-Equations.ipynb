{
 "cells": [
  {
   "cell_type": "markdown",
   "metadata": {
    "colab_type": "text",
    "id": "6qZY9t6e3Jar"
   },
   "source": [
    "# Modeling Systems of Nonlinear Equations"
   ]
  },
  {
   "cell_type": "code",
   "execution_count": 1,
   "metadata": {
    "tags": []
   },
   "outputs": [],
   "source": [
    "import numpy as np"
   ]
  },
  {
   "cell_type": "markdown",
   "metadata": {},
   "source": [
    "## Learning Objectives\n",
    "\n",
    "After studying this notebook, completing the activities, and asking questions in class, you should be able to:\n",
    "* Use Newton's Method to model and solve systems of nonlinear equations in python.\n",
    "* Understand and interpret the results of Newton's Method."
   ]
  },
  {
   "cell_type": "markdown",
   "metadata": {
    "colab_type": "text",
    "id": "BU55xRbn3Jbw",
    "tags": []
   },
   "source": [
    "## Flash Calculations\n",
    "\n",
    "Many chemical engineering problems require solving nonlinear systems of equations. For example, we will consider the general two-phase flash calculation without the dilute assumption. The flash calculation is the main building block for steady-state process analysis. It is arguably one of the **most important calculations in chemical engineering**.\n",
    "\n",
    "![flash](../../media/flash-system.png)\n",
    "*Figure 1*: Generic well-mixed two-phase flash system. This simple example will resurface throughout your ChE education to illustrate new concepts.\n",
    "\n",
    "**Parameters (given)**:\n",
    "* $F$ feed inlet flowrate, mol/time or kg/time\n",
    "* $z_1$ composition of species 1 in feed, mol% or mass%\n",
    "* $z_2$ composition of species 2 in feed, mol% or mass%\n",
    "* $K_1$ partition coefficient for species 1, mol%/mol% or mass% / mass%\n",
    "* $K_2$ partition coefficient for species 2, mol%/mol% or mass% / mass%\n",
    "\n",
    "**Variables (unknown)**:\n",
    "* $L$ liquid outlet flowrate, mol/time or kg/time\n",
    "* $x_1$ composition of species 1 in liquid, mol% or mass%\n",
    "* $x_2$ composition of species 2 in liquid, mol% or mass%\n",
    "* $V$ vapor outlet flowrate, mol/time or kg/time\n",
    "* $y_1$ composition of species 1 in vapor, mol% or mass%\n",
    "* $y_2$ composition of species 2 in vapor, mol% or mass%\n",
    "\n",
    "### Partition Coefficients\n",
    "\n",
    "We can model the vapor-liquid equilibrium using partition coefficients $K_1$ and $K_2$:\n",
    "\n",
    "$$y_1 = K_1 x_1$$\n",
    "\n",
    "and\n",
    "\n",
    "$$y_2 = K_2 x_2$$\n",
    "\n",
    "or more compactly\n",
    "\n",
    "$$y_i = K_i x_i, \\quad \\forall i \\in \\{1, 2\\}$$\n",
    "\n",
    "where $\\forall$ means *for all*. This one line says to duplicate the equation for $i=1$ and $i=2$.\n",
    "\n",
    "*Looking Ahead*: In thermodynamics, you will learn about complex models to predict how $K$ changes with temperature, pressure, and composition. For now, we will just assume the partition coefficient is constant or give you a formula to calculate it.\n",
    "\n",
    "*Simplification*: Assume the system is maintained at a desired outlet temperature $T$ and we know equilibrium coefficients $K_1$ and $K_2$ at this temperature. For now, we do not want to calculate the amount of heat need to obtain $T$."
   ]
  },
  {
   "cell_type": "markdown",
   "metadata": {},
   "source": [
    "<div style=\"background-color: rgba(0,255,0,0.05) ; padding: 10px; border: 1px solid darkgreen;\"> <b>Home Activity</b>: Write down one question about this problem description you can ask a friend, the TAs, or instructor during class.\n",
    "</div>"
   ]
  },
  {
   "cell_type": "markdown",
   "metadata": {},
   "source": [
    "### Full Mathematical Model"
   ]
  },
  {
   "cell_type": "markdown",
   "metadata": {},
   "source": [
    "We will say a nonlinear model is in canonical form when we can express it as $c(\\mathbf{z}) = \\mathbf{0}$. Here $c(\\cdot)$ is a vector-valued function. We say the model is square if the number of variables is the same as the number of equations (dimensions of $c$)."
   ]
  },
  {
   "cell_type": "markdown",
   "metadata": {},
   "source": [
    "<div style=\"background-color: rgba(0,0,255,0.05) ; padding: 10px; border: 1px solid darkblue;\"> \n",
    "<b>Class Activity</b>: With a partner, propose a mathematical model to calculate the unknown flow rates and compositions. Hint: how many equations do we need?\n",
    "</div>"
   ]
  },
  {
   "cell_type": "markdown",
   "metadata": {},
   "source": [
    "### Solve Nonlinear System with Python"
   ]
  },
  {
   "cell_type": "markdown",
   "metadata": {},
   "source": [
    "Now that we have the mathematical model, we need to write a Python function to calculate the residuals."
   ]
  },
  {
   "cell_type": "markdown",
   "metadata": {},
   "source": [
    "<div style=\"background-color: rgba(0,0,255,0.05) ; padding: 10px; border: 1px solid darkblue;\"> \n",
    "<b>Class Activity</b>: Complete the residual calculations in the function below.\n",
    "</div>"
   ]
  },
  {
   "cell_type": "code",
   "execution_count": 2,
   "metadata": {
    "colab": {
     "base_uri": "https://localhost:8080/",
     "height": 971
    },
    "colab_type": "code",
    "executionInfo": {
     "elapsed": 382,
     "status": "ok",
     "timestamp": 1550602098675,
     "user": {
      "displayName": "Alexander Dowling",
      "photoUrl": "https://lh3.googleusercontent.com/-LChdQ2m5OQE/AAAAAAAAAAI/AAAAAAAAAA0/JeXJe4vQJ7M/s64/photo.jpg",
      "userId": "00988067626794866502"
     },
     "user_tz": 300
    },
    "id": "b1BWQgzT3Jbw",
    "outputId": "664f5cf9-b0fb-4804-8ef8-e477807287c4",
    "tags": []
   },
   "outputs": [],
   "source": [
    "# First, we need to define a function that returns the residual for our system of equations\n",
    "def my_c2(x):\n",
    "    ''' Nonlinear system of equations in canonical form c(x) = 0\n",
    "    \n",
    "    Arg:\n",
    "        x: vector of variables\n",
    "        \n",
    "    Returns:\n",
    "        r: residual, c(x)\n",
    "    \n",
    "    '''\n",
    "\n",
    "    # Initialize residuals\n",
    "    r = np.zeros(6)\n",
    "    \n",
    "    # given data\n",
    "    F = 1.0\n",
    "    z1 = 0.5\n",
    "    z2 = 0.5\n",
    "    K1 = 3\n",
    "    K2 = 0.05\n",
    "    \n",
    "    # copy values from x to more meaningful names\n",
    "    L = x[0]\n",
    "    V = x[1]\n",
    "    x1 = x[2]\n",
    "    x2 = x[3]\n",
    "    y1 = x[4]\n",
    "    y2 = x[5]\n",
    "    \n",
    "    # equation 1: overall mass balance\n",
    "    r[0] = V + L - F\n",
    "    \n",
    "    # equations 2 and 3: component mass balances\n",
    "    ### BEGIN SOLUTION\n",
    "    r[1] = V*y1 + L*x1 - F*z1\n",
    "    r[2] = V*y2 + L*x2 - F*z2\n",
    "\n",
    "    ### END SOLUTION\n",
    "    \n",
    "    # equation 4 and 5: equilibrium\n",
    "    ### BEGIN SOLUTION\n",
    "    r[3] = y1 - K1*x1\n",
    "    r[4] = y2 - K2*x2\n",
    "    \n",
    "    ### END SOLUTION\n",
    "    \n",
    "    # equation 6: summation\n",
    "    r[5] = (y1 + y2) - (x1 + x2)\n",
    "    # This is known as the Rachford-Rice formulation for the summation constraint\n",
    "    \n",
    "    return r\n",
    "    "
   ]
  },
  {
   "cell_type": "markdown",
   "metadata": {},
   "source": [
    "Now let's define an initial guess for the variables. We'll test our function by evaluating it at the initial guess."
   ]
  },
  {
   "cell_type": "code",
   "execution_count": 3,
   "metadata": {},
   "outputs": [
    {
     "data": {
      "text/plain": [
       "array([ 0.    ,  0.1   , -0.1   , -1.    ,  0.3275,  0.    ])"
      ]
     },
     "execution_count": 3,
     "metadata": {},
     "output_type": "execute_result"
    }
   ],
   "source": [
    "# Next we define an initial guess\n",
    "# We'll guess an equal split between liquid and vapor phases\n",
    "# Based on the values of K (and experience), we see that the vapor phase will become enriched in the first component\n",
    "# We will come back to why a good initial guess is so important\n",
    "x0 = np.array([0.5, 0.5, 0.55, 0.45, 0.65, 0.35])\n",
    "\n",
    "my_c2(x0)"
   ]
  },
  {
   "cell_type": "markdown",
   "metadata": {},
   "source": [
    "In the [next notebook](\"https://ndcbe.github.io/data-and-computing/notebooks/04-publish/02-Newton-Method-Nonlinear-Equation-Solving.html\"), we will study the details of **Newton's method** for solving systems of nonlinear equations. Below is the code we'll study then. We'll just use it now."
   ]
  },
  {
   "cell_type": "code",
   "execution_count": 4,
   "metadata": {
    "tags": []
   },
   "outputs": [],
   "source": [
    "# You do not need to understand how this code works right now.\n",
    "# We will discuss Newton's Method more in depth in the next notebook.\n",
    "def Jacobian(f,x,delta = 1.0e-7):\n",
    "    '''Approximate Jacobian using forward finite difference\n",
    "\n",
    "    Args:\n",
    "        f: vector-valued function\n",
    "        x: point to build approximation J(x) around\n",
    "        delta: finite difference step size\n",
    "\n",
    "    Returns:\n",
    "        J: square Jacobian matrix (approximation)\n",
    "\n",
    "    '''\n",
    "    # Determine size\n",
    "    N = x.size\n",
    "    \n",
    "    #Evaluate function f at x\n",
    "    fx = f(x) #only need to evaluate this once\n",
    "    \n",
    "    # Make sure f is square (no. inputs = no. outputs)\n",
    "    try:\n",
    "        assert N == fx.size, \"Your problem is not square!\"\n",
    "    except AssertionError:\n",
    "        print(\"x = \",x)\n",
    "        print(\"fx = \",fx)\n",
    "    \n",
    "    \n",
    "    # Allocate empty matrix\n",
    "    J = np.zeros((N,N))\n",
    "\n",
    "    idelta = 1.0/delta #division is slower than multiplication\n",
    "    x_perturbed = x.copy() #copy x to add delta\n",
    "    \n",
    "    # Loop over elements of x and columns of J\n",
    "    for i in range(N):\n",
    "        # Perturb (apply step) to element i of x\n",
    "        x_perturbed[i] += delta\n",
    "        \n",
    "        # Approximate column in Jacobian\n",
    "        col = (f(x_perturbed) - fx) * idelta\n",
    "        \n",
    "        # Reset element of x\n",
    "        x_perturbed[i] = x[i]\n",
    "        \n",
    "        # Save results\n",
    "        J[:,i] = col\n",
    "    # end for loop\n",
    "    return J\n",
    "\n",
    "def newton_system(f,x0,exact_Jac=None,delta=1E-7,epsilon=1.0e-6, LOUD=False):\n",
    "    \"\"\"Find the root of the function f via exact or inexact Newton-Raphson method\n",
    "    Args:\n",
    "        f: function to find root of\n",
    "        x0: initial guess\n",
    "        exact_Jac: function to calculate J. If None, use finite difference\n",
    "        delta: finite difference tolerance. Only used if J is not specified\n",
    "        epsilon: tolerance\n",
    "        \n",
    "    Returns:\n",
    "        estimate of root\n",
    "    \"\"\"\n",
    "        \n",
    "    x = x0\n",
    "    if (LOUD):\n",
    "        print(\"x0 =\",x0)\n",
    "    iterations = 0\n",
    "    fx = f(x)\n",
    "    while (np.linalg.norm(fx) > epsilon):\n",
    "        if exact_Jac is None:\n",
    "            # Use finite difference\n",
    "            J = Jacobian(f,x,delta)\n",
    "        else:\n",
    "            J = exact_Jac(x)\n",
    "        \n",
    "        RHS = -fx;\n",
    "        \n",
    "        # solve linear system\n",
    "        # We could have used GaussElimPivotSolve here instead\n",
    "        delta_x = np.linalg.solve(J,RHS)\n",
    "        \n",
    "        # Check if GE returned any NaN values\n",
    "        if np.isnan(delta_x).any():\n",
    "            print(\"Gaussian Elimination Failed!\")\n",
    "            print(\"J = \\n\",J,\"\\n\")\n",
    "            print(\"J is rank\",np.linalg.matrix_rank(J),\"\\n\")\n",
    "            print(\"RHS = \",RHS)\n",
    "        x = x + delta_x\n",
    "        fx = f(x)\n",
    "        if (LOUD):\n",
    "            print(\"\\nIteration\",iterations+1,\": x =\",x,\"\\n norm(f(x)) =\",np.linalg.norm(fx))\n",
    "        iterations += 1\n",
    "    print(\"\\nIt took\",iterations,\"iterations\")\n",
    "    return x #return estimate of root"
   ]
  },
  {
   "cell_type": "markdown",
   "metadata": {},
   "source": [
    "We can now solve the nonlinear system of equations."
   ]
  },
  {
   "cell_type": "code",
   "execution_count": 5,
   "metadata": {
    "colab": {
     "base_uri": "https://localhost:8080/",
     "height": 468
    },
    "colab_type": "code",
    "executionInfo": {
     "elapsed": 252,
     "status": "ok",
     "timestamp": 1550601280852,
     "user": {
      "displayName": "Alexander Dowling",
      "photoUrl": "https://lh3.googleusercontent.com/-LChdQ2m5OQE/AAAAAAAAAAI/AAAAAAAAAA0/JeXJe4vQJ7M/s64/photo.jpg",
      "userId": "00988067626794866502"
     },
     "user_tz": 300
    },
    "id": "kG3_vA_pCdXr",
    "outputId": "9672e037-b78b-4b94-fd93-e3e06a6be6c2"
   },
   "outputs": [
    {
     "name": "stdout",
     "output_type": "stream",
     "text": [
      "x0 = [0.5  0.5  0.55 0.45 0.65 0.35]\n",
      "\n",
      "Iteration 1 : x = [ 1.94067797 -0.94067797  0.3220339   0.6779661   0.9661017   0.03389831] \n",
      " norm(f(x)) = 1.1084980482929316\n",
      "\n",
      "Iteration 2 : x = [0.72368421 0.27631579 0.3220339  0.6779661  0.96610169 0.03389831] \n",
      " norm(f(x)) = 3.0340609559661354e-09\n",
      "\n",
      "It took 2 iterations\n",
      "\n",
      "Checking residuals\n",
      "c(x) = \n",
      " [ 2.70226908e-09 -2.81673573e-11  1.37930212e-09  1.11022302e-16\n",
      " -6.93889390e-18  0.00000000e+00] \n",
      "\n",
      "L =  0.723684213574546\n",
      "V =  0.27631578912772303\n",
      "x1 =  0.32203389786997366\n",
      "x2 =  0.677966100778892\n",
      "y1 =  0.966101693609921\n",
      "y2 =  0.033898305038944594\n"
     ]
    }
   ],
   "source": [
    "# We can now solve with Newton's method\n",
    "x = newton_system(my_c2, x0,LOUD=True)\n",
    "\n",
    "# Check that residual is zero at the solution\n",
    "print(\"\\nChecking residuals\")\n",
    "print(\"c(x) = \\n\",my_c2(x),\"\\n\")\n",
    "\n",
    "# And finally report the answer\n",
    "print(\"L = \",x[0])\n",
    "print(\"V = \",x[1])\n",
    "print(\"x1 = \",x[2])\n",
    "print(\"x2 = \",x[3])\n",
    "print(\"y1 = \",x[4])\n",
    "print(\"y2 = \",x[5])"
   ]
  },
  {
   "cell_type": "markdown",
   "metadata": {},
   "source": [
    "A few highlights from the output:\n",
    "* Newton's method only needs two iterations to converge! We'll see more in the [next notebook](\"https://ndcbe.github.io/data-and-computing/notebooks/04-publish/02-Newton-Method-Nonlinear-Equation-Solving.html\") about why Newton's method is so efficient on this problem (most of the time).\n",
    "* The residuals are all near zero (less than $10^{-8}$) at the solution. This means all of the model equations are satisfied.\n",
    "* The flowrates and compositions make sense (not negative, etc.)"
   ]
  }
 ],
 "metadata": {
  "colab": {
   "collapsed_sections": [],
   "name": "L7-Algebraic-Modeling.ipynb",
   "provenance": [],
   "version": "0.3.2"
  },
  "kernelspec": {
   "display_name": "Python 3 (ipykernel)",
   "language": "python",
   "name": "python3"
  },
  "language_info": {
   "codemirror_mode": {
    "name": "ipython",
    "version": 3
   },
   "file_extension": ".py",
   "mimetype": "text/x-python",
   "name": "python",
   "nbconvert_exporter": "python",
   "pygments_lexer": "ipython3",
   "version": "3.9.12"
  }
 },
 "nbformat": 4,
 "nbformat_minor": 4
}
